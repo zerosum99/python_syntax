{
 "cells": [
  {
   "cell_type": "code",
   "execution_count": 1,
   "metadata": {
    "collapsed": true
   },
   "outputs": [],
   "source": [
    "import struct\n"
   ]
  },
  {
   "cell_type": "code",
   "execution_count": 9,
   "metadata": {
    "collapsed": false
   },
   "outputs": [
    {
     "name": "stdout",
     "output_type": "stream",
     "text": [
      "8\n",
      "b'\\x01\\x00\\x02\\x00\\x03\\x00\\x00\\x00'\n",
      "8\n",
      "<class 'bytes'>\n",
      "(1, 2, 3)\n"
     ]
    }
   ],
   "source": [
    "import struct\n",
    "\n",
    "l = struct.calcsize('hhl')\n",
    "print(l)\n",
    "b = struct.pack('hhl', 1, 2, 3)\n",
    "print(b)\n",
    "print(len(b))\n",
    "print(type(b))\n",
    "\n",
    "c = struct.unpack(\"hhl\",b)\n",
    "print(c)"
   ]
  },
  {
   "cell_type": "code",
   "execution_count": 26,
   "metadata": {
    "collapsed": false
   },
   "outputs": [
    {
     "name": "stdout",
     "output_type": "stream",
     "text": [
      "15\n",
      "b'raymond   ' b'raymond   '\n",
      "4658 b'2\\x12'\n",
      "264 b'\\x08\\x01'\n",
      "8 b'\\x08'\n"
     ]
    }
   ],
   "source": [
    "import struct\n",
    "\n",
    "###########0123456789012345678901234567890\n",
    "record = b'raymond   \\x32\\x12\\x08\\x01\\x08'\n",
    "l = struct.calcsize('<10sHHb')\n",
    "print(l)\n",
    "name, serialnum, school, gradelevel = struct.unpack('<10sHHb', record)\n",
    "print(name, record[:10])\n",
    "print(serialnum, record[10:12])\n",
    "print(school, record[12:14])\n",
    "print(gradelevel,record[14:])"
   ]
  },
  {
   "cell_type": "code",
   "execution_count": 32,
   "metadata": {
    "collapsed": false
   },
   "outputs": [
    {
     "data": {
      "text/plain": [
       "2"
      ]
     },
     "execution_count": 32,
     "metadata": {},
     "output_type": "execute_result"
    }
   ],
   "source": [
    "int('\\x32\\x12'[0],16)"
   ]
  },
  {
   "cell_type": "code",
   "execution_count": 42,
   "metadata": {
    "collapsed": false
   },
   "outputs": [
    {
     "name": "stdout",
     "output_type": "stream",
     "text": [
      "4\n",
      "array('l', [255, 254]) b'\\xff\\x00\\x00\\x00\\xfe\\x00\\x00\\x00'\n",
      "<class 'int'> 0xff\n",
      "b'2\\x005\\x005\\x00'\n"
     ]
    }
   ],
   "source": [
    "import array\n",
    "import struct\n",
    "\n",
    "print(struct.calcsize('l'))\n",
    "b = array.array('l',[255,254])\n",
    "print(b, b.tobytes())\n",
    "\n",
    "high, low = struct.unpack(\"<ii\",b)\n",
    "print(type(high),hex(high))\n",
    "print(str(high).encode(\"utf-16le\"))"
   ]
  },
  {
   "cell_type": "code",
   "execution_count": 45,
   "metadata": {
    "collapsed": false
   },
   "outputs": [
    {
     "name": "stdout",
     "output_type": "stream",
     "text": [
      "['1000.555']\n"
     ]
    }
   ],
   "source": [
    "import re \n",
    "\n",
    "a = re.compile(r\"\"\"\\d +  # the integral part\n",
    "                   \\.    # the decimal point\n",
    "                   \\d *  # some fractional digits\"\"\", re.X)\n",
    "\n",
    "m = re.findall(a,\"1000.555\")\n",
    "print(m)"
   ]
  },
  {
   "cell_type": "code",
   "execution_count": 46,
   "metadata": {
    "collapsed": false
   },
   "outputs": [
    {
     "name": "stdout",
     "output_type": "stream",
     "text": [
      "['1000.555']\n"
     ]
    }
   ],
   "source": [
    "a = re.compile(r\"\\d+\\.\\d*\")\n",
    "m = re.findall(a,\"1000.555\")\n",
    "print(m)"
   ]
  },
  {
   "cell_type": "code",
   "execution_count": 66,
   "metadata": {
    "collapsed": false
   },
   "outputs": [
    {
     "name": "stdout",
     "output_type": "stream",
     "text": [
      "Hello is smarter !!!\n",
      "Hello\n",
      "smarter\n",
      "!!!\n"
     ]
    }
   ],
   "source": [
    "import re\n",
    "\n",
    "a = \"Hello is smarter !!!\"\n",
    "\n",
    "m = re.match(r\"(.*) is (.*)? (.*)\", a)\n",
    "print(m.group())\n",
    "print(m.group(1))\n",
    "print(m.group(2))\n",
    "print(m.group(3))"
   ]
  },
  {
   "cell_type": "code",
   "execution_count": null,
   "metadata": {
    "collapsed": true
   },
   "outputs": [],
   "source": []
  }
 ],
 "metadata": {
  "kernelspec": {
   "display_name": "Python 3",
   "language": "python",
   "name": "python3"
  },
  "language_info": {
   "codemirror_mode": {
    "name": "ipython",
    "version": 3
   },
   "file_extension": ".py",
   "mimetype": "text/x-python",
   "name": "python",
   "nbconvert_exporter": "python",
   "pygments_lexer": "ipython3",
   "version": "3.6.0"
  }
 },
 "nbformat": 4,
 "nbformat_minor": 2
}
