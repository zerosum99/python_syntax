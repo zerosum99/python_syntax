{
 "cells": [
  {
   "cell_type": "code",
   "execution_count": 2,
   "metadata": {
    "collapsed": false
   },
   "outputs": [
    {
     "name": "stdout",
     "output_type": "stream",
     "text": [
      "[32 33 34 35 36 37 38 39 40 41 42 43 44 45 46 47 48 49]\n"
     ]
    }
   ],
   "source": [
    "import numpy as np\n",
    "import os\n",
    "# platform dependent: difference between Linux and Windows\n",
    "#data = np.arange(50, dtype=np.int)\n",
    "data = np.arange(50, dtype=np.int32)\n",
    "data.tofile(\"test4.txt\")\n",
    "fh = open(\"test4.txt\", \"rb\")\n",
    "# 4 * 32 = 128\n",
    "fh.seek(128, os.SEEK_SET)\n",
    "x = np.fromfile(fh, dtype=np.int32)\n",
    "print(x)"
   ]
  },
  {
   "cell_type": "code",
   "execution_count": 3,
   "metadata": {
    "collapsed": false
   },
   "outputs": [
    {
     "name": "stdout",
     "output_type": "stream",
     "text": [
      "Help on built-in function seek:\n",
      "\n",
      "seek(target, whence=0, /) method of _io.BufferedReader instance\n",
      "    Change stream position.\n",
      "    \n",
      "    Change the stream position to the given byte offset. The offset is\n",
      "    interpreted relative to the position indicated by whence.  Values\n",
      "    for whence are:\n",
      "    \n",
      "    * 0 -- start of stream (the default); offset should be zero or positive\n",
      "    * 1 -- current stream position; offset may be negative\n",
      "    * 2 -- end of stream; offset is usually negative\n",
      "    \n",
      "    Return the new absolute position.\n",
      "\n"
     ]
    }
   ],
   "source": [
    "help(fh.seek)"
   ]
  },
  {
   "cell_type": "code",
   "execution_count": 8,
   "metadata": {
    "collapsed": false
   },
   "outputs": [
    {
     "name": "stdout",
     "output_type": "stream",
     "text": [
      "[ 0  1  2  3  4  5  6  7  8  9 10 11 12 13 14 15 16 17 18 19 20 21 22 23 24\n",
      " 25 26 27 28 29 30 31 32 33 34 35 36 37 38 39 40 41 42 43 44 45 46 47 48 49]\n"
     ]
    }
   ],
   "source": [
    "# 4 * 32 = 128\n",
    "fh.seek(0, 0)\n",
    "x = np.fromfile(fh, dtype=np.int32)\n",
    "print(x)"
   ]
  },
  {
   "cell_type": "code",
   "execution_count": 9,
   "metadata": {
    "collapsed": false
   },
   "outputs": [
    {
     "name": "stdout",
     "output_type": "stream",
     "text": [
      "[18 19 20 21 22 23 24 25 26 27 28 29 30 31 32 33 34 35 36 37 38 39 40 41 42\n",
      " 43 44 45 46 47 48 49]\n",
      "32\n"
     ]
    }
   ],
   "source": [
    "# 4 * 32 = 128\n",
    "# 뒤에서부터 32개를 출력함\n",
    "fh.seek(-128, 2)\n",
    "x = np.fromfile(fh, dtype=np.int32)\n",
    "print(x)\n",
    "print(len(x))"
   ]
  },
  {
   "cell_type": "code",
   "execution_count": 10,
   "metadata": {
    "collapsed": true
   },
   "outputs": [],
   "source": [
    "%matplotlib inline"
   ]
  },
  {
   "cell_type": "code",
   "execution_count": 26,
   "metadata": {
    "collapsed": false
   },
   "outputs": [
    {
     "data": {
      "image/png": "[encoded data removed]",
      "text/plain": [
       "<matplotlib.figure.Figure at 0x9de7ac8>"
      ]
     },
     "metadata": {},
     "output_type": "display_data"
    }
   ],
   "source": [
    "import matplotlib.pyplot as plt\n",
    "import numpy as np\n",
    "import matplotlib\n",
    "matplotlib.rc('font', family='Malgun Gothic')\n",
    "\n",
    "x = np.arange(10)\n",
    "y = 3*x\n",
    "\n",
    "plt.plot(x,y)\n",
    "plt.xlabel(\" 가을\")\n",
    "plt.show()"
   ]
  },
  {
   "cell_type": "code",
   "execution_count": 23,
   "metadata": {
    "collapsed": false
   },
   "outputs": [
    {
     "name": "stdout",
     "output_type": "stream",
     "text": [
      "Help on function rc in module matplotlib:\n",
      "\n",
      "rc(group, **kwargs)\n",
      "    Set the current rc params.  Group is the grouping for the rc, e.g.,\n",
      "    for ``lines.linewidth`` the group is ``lines``, for\n",
      "    ``axes.facecolor``, the group is ``axes``, and so on.  Group may\n",
      "    also be a list or tuple of group names, e.g., (*xtick*, *ytick*).\n",
      "    *kwargs* is a dictionary attribute name/value pairs, e.g.,::\n",
      "    \n",
      "      rc('lines', linewidth=2, color='r')\n",
      "    \n",
      "    sets the current rc params and is equivalent to::\n",
      "    \n",
      "      rcParams['lines.linewidth'] = 2\n",
      "      rcParams['lines.color'] = 'r'\n",
      "    \n",
      "    The following aliases are available to save typing for interactive\n",
      "    users:\n",
      "    \n",
      "    =====   =================\n",
      "    Alias   Property\n",
      "    =====   =================\n",
      "    'lw'    'linewidth'\n",
      "    'ls'    'linestyle'\n",
      "    'c'     'color'\n",
      "    'fc'    'facecolor'\n",
      "    'ec'    'edgecolor'\n",
      "    'mew'   'markeredgewidth'\n",
      "    'aa'    'antialiased'\n",
      "    =====   =================\n",
      "    \n",
      "    Thus you could abbreviate the above rc command as::\n",
      "    \n",
      "          rc('lines', lw=2, c='r')\n",
      "    \n",
      "    \n",
      "    Note you can use python's kwargs dictionary facility to store\n",
      "    dictionaries of default parameters.  e.g., you can customize the\n",
      "    font rc as follows::\n",
      "    \n",
      "      font = {'family' : 'monospace',\n",
      "              'weight' : 'bold',\n",
      "              'size'   : 'larger'}\n",
      "    \n",
      "      rc('font', **font)  # pass in the font dict as kwargs\n",
      "    \n",
      "    This enables you to easily switch between several configurations.\n",
      "    Use :func:`~matplotlib.pyplot.rcdefaults` to restore the default\n",
      "    rc params after changes.\n",
      "\n"
     ]
    }
   ],
   "source": [
    "help(matplotlib.rc)"
   ]
  },
  {
   "cell_type": "code",
   "execution_count": 29,
   "metadata": {
    "collapsed": false
   },
   "outputs": [
    {
     "name": "stdout",
     "output_type": "stream",
     "text": [
      "None\n"
     ]
    }
   ],
   "source": [
    "print(matplotlib.pyplot.rcdefaults())"
   ]
  },
  {
   "cell_type": "code",
   "execution_count": null,
   "metadata": {
    "collapsed": true
   },
   "outputs": [],
   "source": [
    "Type Bit-Width Character\n",
    "bool boolXX ’?’\n",
    "byte intXX ’b’\n",
    "short ’h’\n",
    "intc ’i’\n",
    "int ’l’\n",
    "longlong ’q’\n",
    "intp ’p’\n",
    "ubyte uintXX ’B’\n",
    "ushort ’H’\n",
    "uintc ’I’\n",
    "uint ’L’\n",
    "ulonglong ’Q’\n",
    "uintp ’P’\n",
    "single floatXX ’f’\n",
    "float ’d’\n",
    "longfloat ’g’\n",
    "csingle complexXX ’F’\n",
    "complex ’D’\n",
    "clongfloat ’G’\n",
    "object ’O’\n",
    "str ’S#’\n",
    "unicode ’U#’\n",
    "void ’V#’\n"
   ]
  },
  {
   "cell_type": "code",
   "execution_count": 30,
   "metadata": {
    "collapsed": false
   },
   "outputs": [
    {
     "data": {
      "text/plain": [
       "bool"
      ]
     },
     "execution_count": 30,
     "metadata": {},
     "output_type": "execute_result"
    }
   ],
   "source": [
    "np.bool"
   ]
  },
  {
   "cell_type": "code",
   "execution_count": 31,
   "metadata": {
    "collapsed": false
   },
   "outputs": [
    {
     "data": {
      "text/plain": [
       "numpy.int8"
      ]
     },
     "execution_count": 31,
     "metadata": {},
     "output_type": "execute_result"
    }
   ],
   "source": [
    "np.byte"
   ]
  },
  {
   "cell_type": "code",
   "execution_count": 32,
   "metadata": {
    "collapsed": false
   },
   "outputs": [
    {
     "data": {
      "text/plain": [
       "numpy.int16"
      ]
     },
     "execution_count": 32,
     "metadata": {},
     "output_type": "execute_result"
    }
   ],
   "source": [
    "np.short"
   ]
  },
  {
   "cell_type": "code",
   "execution_count": 37,
   "metadata": {
    "collapsed": false
   },
   "outputs": [
    {
     "name": "stdout",
     "output_type": "stream",
     "text": [
      "<class 'int'> <class 'numpy.int32'>\n"
     ]
    }
   ],
   "source": [
    "print(np.long, np.int_)"
   ]
  },
  {
   "cell_type": "code",
   "execution_count": 33,
   "metadata": {
    "collapsed": false
   },
   "outputs": [
    {
     "data": {
      "text/plain": [
       "numpy.int64"
      ]
     },
     "execution_count": 33,
     "metadata": {},
     "output_type": "execute_result"
    }
   ],
   "source": [
    "np.longlong"
   ]
  },
  {
   "cell_type": "code",
   "execution_count": 38,
   "metadata": {
    "collapsed": false
   },
   "outputs": [
    {
     "name": "stdout",
     "output_type": "stream",
     "text": [
      "<class 'numpy.float32'> <class 'numpy.float64'>\n"
     ]
    }
   ],
   "source": [
    "print(np.single, np.double)"
   ]
  },
  {
   "cell_type": "code",
   "execution_count": 42,
   "metadata": {
    "collapsed": false
   },
   "outputs": [
    {
     "name": "stdout",
     "output_type": "stream",
     "text": [
      "[ 0.]\n",
      "[  5.15377521e-53]\n"
     ]
    }
   ],
   "source": [
    "a = np.array([0.3**100],dtype=np.float32)\n",
    "print(a)\n",
    "\n",
    "b = np.array([0.3**100],dtype=np.float64)\n",
    "print(b)"
   ]
  },
  {
   "cell_type": "code",
   "execution_count": 43,
   "metadata": {
    "collapsed": false
   },
   "outputs": [
    {
     "data": {
      "text/plain": [
       "ellipsis"
      ]
     },
     "execution_count": 43,
     "metadata": {},
     "output_type": "execute_result"
    }
   ],
   "source": [
    "type(...)"
   ]
  },
  {
   "cell_type": "code",
   "execution_count": 51,
   "metadata": {
    "collapsed": false
   },
   "outputs": [
    {
     "name": "stdout",
     "output_type": "stream",
     "text": [
      "[[-1.23131092 -0.32115955 -0.37967082 -1.85581376]\n",
      " [-0.49162189  1.40290851  0.02822769 -2.47616834]\n",
      " [-0.16092168 -0.41578541 -1.08482908  0.23043665]]\n",
      "[[ 10.  10.  10.  10.]\n",
      " [ 10.  10.  10.  10.]\n",
      " [ 10.  10.  10.  10.]]\n"
     ]
    }
   ],
   "source": [
    "import numpy as np\n",
    "\n",
    "a = np.random.randn(3,4)\n",
    "print(a)\n",
    "a[...]=10\n",
    "print(a[:,:])\n"
   ]
  },
  {
   "cell_type": "code",
   "execution_count": 65,
   "metadata": {
    "collapsed": false
   },
   "outputs": [
    {
     "name": "stdout",
     "output_type": "stream",
     "text": [
      "<class 'float'>\n",
      "9.332636185032189e-302\n"
     ]
    }
   ],
   "source": [
    "######1234567890123456789012345678901234567890123456789012345\n",
    "\n",
    "a = 0.1000000000000000055511151231257827021181583404541015625\n",
    "print(type(a))\n",
    "# 2**55\n",
    "print(1/2**1000)"
   ]
  },
  {
   "cell_type": "code",
   "execution_count": 66,
   "metadata": {
    "collapsed": false
   },
   "outputs": [
    {
     "data": {
      "text/plain": [
       "2048"
      ]
     },
     "execution_count": 66,
     "metadata": {},
     "output_type": "execute_result"
    }
   ],
   "source": [
    "2**11"
   ]
  },
  {
   "cell_type": "code",
   "execution_count": 67,
   "metadata": {
    "collapsed": false
   },
   "outputs": [
    {
     "data": {
      "text/plain": [
       "100000000000"
      ]
     },
     "execution_count": 67,
     "metadata": {},
     "output_type": "execute_result"
    }
   ],
   "source": [
    "10**11"
   ]
  },
  {
   "cell_type": "code",
   "execution_count": 73,
   "metadata": {
    "collapsed": false
   },
   "outputs": [
    {
     "data": {
      "text/plain": [
       "11.0"
      ]
     },
     "execution_count": 73,
     "metadata": {},
     "output_type": "execute_result"
    }
   ],
   "source": [
    "np.log10(10**11)"
   ]
  },
  {
   "cell_type": "code",
   "execution_count": 74,
   "metadata": {
    "collapsed": false
   },
   "outputs": [
    {
     "data": {
      "text/plain": [
       "2048"
      ]
     },
     "execution_count": 74,
     "metadata": {},
     "output_type": "execute_result"
    }
   ],
   "source": [
    "2**11"
   ]
  },
  {
   "cell_type": "code",
   "execution_count": 75,
   "metadata": {
    "collapsed": false
   },
   "outputs": [
    {
     "data": {
      "text/plain": [
       "0.0"
      ]
     },
     "execution_count": 75,
     "metadata": {},
     "output_type": "execute_result"
    }
   ],
   "source": [
    "a ** 2048"
   ]
  },
  {
   "cell_type": "code",
   "execution_count": 113,
   "metadata": {
    "collapsed": false
   },
   "outputs": [
    {
     "name": "stdout",
     "output_type": "stream",
     "text": [
      "0b1000000000000000000000000000000000000000000000000\n",
      "49\n"
     ]
    }
   ],
   "source": [
    "\n",
    "\n",
    "np.float.as_integer_ratio(13.95)\n",
    "\n",
    "print(bin(281474976710656))\n",
    "print((281474976710656).bit_length())"
   ]
  },
  {
   "cell_type": "code",
   "execution_count": 105,
   "metadata": {
    "collapsed": false
   },
   "outputs": [
    {
     "name": "stdout",
     "output_type": "stream",
     "text": [
      "13.950000047683716\n",
      "1.401298464324817e-45\n",
      "3.3999999521443642e+38\n",
      "0.0\n",
      "inf\n",
      "-inf\n"
     ]
    }
   ],
   "source": [
    "#1.4 × 10−45 ≤ Single Precision Numbers ≤ 3.4 × 10+38\n",
    "#float32\tSingle precision float: sign bit, 8 bits exponent, 23 bits mantissa\n",
    "# 13.95는 234042163 / (2 ** 24)과\n",
    "# 단정도 수는 24 비트 (8 자리)의 정밀도를 가진다\n",
    "print(234042164/2**24 )\n",
    "a = np.array(1.4* 10**(-45),dtype=np.float32)\n",
    "print(a)\n",
    "a = np.array(3.4* 10**(38),dtype=np.float32)\n",
    "print(a)\n",
    "a = np.array(1.4* 10**(-46),dtype=np.float32)\n",
    "print(a)\n",
    "a = np.array(3.4* 10**(39),dtype=np.float32)\n",
    "print(a)\n",
    "a = np.array(-3.4* 10**(39),dtype=np.float32)\n",
    "print(a)"
   ]
  },
  {
   "cell_type": "code",
   "execution_count": 103,
   "metadata": {
    "collapsed": false
   },
   "outputs": [
    {
     "name": "stdout",
     "output_type": "stream",
     "text": [
      "13.95\n",
      "5e-323\n",
      "1.8e+307\n",
      "0.0\n",
      "inf\n",
      "-inf\n"
     ]
    }
   ],
   "source": [
    "#4.9 × 10−323 ≤ Double Precision Numbers ≤ 1.8 × 10+308\n",
    "#float64\tDouble precision float: sign bit, 11 bits exponent, 52 bits mantissa\n",
    "# 13.95는 125650429603636838 / (2 ** 53)과 비슷한 방식으로 나타납니다. \n",
    "# 배정도 수는 53 비트 (16 자리)의 정밀도를 가진다\n",
    "\n",
    "print(125650429603636838 /2**53)\n",
    "a = np.array(4.9* 10**(-323),dtype=np.float64)\n",
    "print(a)\n",
    "a = np.array(1.8* 10**(307),dtype=np.float64)\n",
    "print(a)\n",
    "\n",
    "a = np.array(4.9* 10**(-324),dtype=np.float64)\n",
    "print(a)\n",
    "a = np.array(1.8* 10**(308),dtype=np.float64)\n",
    "print(a)\n",
    "a = np.array(-1.8* 10**(308),dtype=np.float64)\n",
    "print(a)"
   ]
  },
  {
   "cell_type": "code",
   "execution_count": 114,
   "metadata": {
    "collapsed": true
   },
   "outputs": [],
   "source": [
    "import sys\n"
   ]
  },
  {
   "cell_type": "code",
   "execution_count": 116,
   "metadata": {
    "collapsed": false
   },
   "outputs": [
    {
     "data": {
      "text/plain": [
       "sys.version_info(major=3, minor=5, micro=2, releaselevel='final', serial=0)"
      ]
     },
     "execution_count": 116,
     "metadata": {},
     "output_type": "execute_result"
    }
   ],
   "source": [
    "sys.version_info"
   ]
  },
  {
   "cell_type": "code",
   "execution_count": 118,
   "metadata": {
    "collapsed": true
   },
   "outputs": [],
   "source": [
    "import tensorflow as tf"
   ]
  },
  {
   "cell_type": "code",
   "execution_count": null,
   "metadata": {
    "collapsed": false
   },
   "outputs": [],
   "source": [
    "!pip install tensorflow --upgrade"
   ]
  },
  {
   "cell_type": "code",
   "execution_count": null,
   "metadata": {
    "collapsed": true
   },
   "outputs": [],
   "source": []
  }
 ],
 "metadata": {
  "anaconda-cloud": {},
  "kernelspec": {
   "display_name": "Python [conda root]",
   "language": "python",
   "name": "conda-root-py"
  },
  "language_info": {
   "codemirror_mode": {
    "name": "ipython",
    "version": 3
   },
   "file_extension": ".py",
   "mimetype": "text/x-python",
   "name": "python",
   "nbconvert_exporter": "python",
   "pygments_lexer": "ipython3",
   "version": "3.5.2"
  }
 },
 "nbformat": 4,
 "nbformat_minor": 1
}
