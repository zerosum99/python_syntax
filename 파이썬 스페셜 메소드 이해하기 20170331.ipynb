{
 "cells": [
  {
   "cell_type": "markdown",
   "metadata": {},
   "source": [
    "# Special Method 처리\n",
    "\n",
    "\n",
    "    파이썬은 연산자는 대부분 내부적으로는 메소드 호출로 변환되어 처리된다.\n",
    "    \n",
    "    스페셜 메소드에 매칭되는 연산자가 정의된 경우 연산자를 사용하면 스페셜메소드가 처리되므로 \n",
    "    \n",
    "    클래스 정의시 오버라이딩 처리하면 내부적으로 실행이 된다.\n",
    "    \n",
    "    "
   ]
  },
  {
   "cell_type": "markdown",
   "metadata": {},
   "source": [
    "## 내장함수 \n",
    "\n",
    "    내장함수들 중에 스페셜 메소드를 호출해서 처리하는 경우가 많다.\n",
    "    "
   ]
  },
  {
   "cell_type": "markdown",
   "metadata": {},
   "source": [
    "### id/hash "
   ]
  },
  {
   "cell_type": "code",
   "execution_count": null,
   "metadata": {
    "collapsed": false
   },
   "outputs": [],
   "source": [
    "i = object()\n",
    "\n",
    "print(id(i))\n",
    "print(hash(i))\n",
    "print(id(i)/16 == hash(i))"
   ]
  },
  {
   "cell_type": "code",
   "execution_count": null,
   "metadata": {
    "collapsed": false
   },
   "outputs": [],
   "source": [
    "j = object()\n",
    "\n",
    "print(id(j)//16)\n",
    "print(j.__hash__())"
   ]
  },
  {
   "cell_type": "markdown",
   "metadata": {},
   "source": [
    "### globals / locals "
   ]
  },
  {
   "cell_type": "code",
   "execution_count": 12,
   "metadata": {
    "collapsed": false
   },
   "outputs": [
    {
     "name": "stdout",
     "output_type": "stream",
     "text": [
      "Overwriting globals_.py\n"
     ]
    }
   ],
   "source": [
    "%%writefile globals_.py\n",
    "import pprint\n",
    "\n",
    "def add(x,y) :\n",
    "    return x+y"
   ]
  },
  {
   "cell_type": "code",
   "execution_count": 9,
   "metadata": {
    "collapsed": false
   },
   "outputs": [
    {
     "name": "stdout",
     "output_type": "stream",
     "text": [
      "C:\\Users\\06411\\Documents\n"
     ]
    }
   ],
   "source": [
    "!cd"
   ]
  },
  {
   "cell_type": "code",
   "execution_count": 14,
   "metadata": {
    "collapsed": false
   },
   "outputs": [
    {
     "name": "stdout",
     "output_type": "stream",
     "text": [
      "20\n",
      "['__builtins__',\n",
      " '__cached__',\n",
      " '__doc__',\n",
      " '__file__',\n",
      " '__loader__',\n",
      " '__name__',\n",
      " '__package__',\n",
      " '__spec__',\n",
      " 'add',\n",
      " 'pprint']\n"
     ]
    }
   ],
   "source": [
    "import globals_\n",
    "import pprint\n",
    "\n",
    "print(globals_.add(10,10))\n",
    "pprint.pprint(dir(globals_))\n"
   ]
  },
  {
   "cell_type": "code",
   "execution_count": 4,
   "metadata": {
    "collapsed": false
   },
   "outputs": [
    {
     "name": "stdout",
     "output_type": "stream",
     "text": [
      "['__annotations__',\n",
      " '__call__',\n",
      " '__class__',\n",
      " '__closure__',\n",
      " '__code__',\n",
      " '__defaults__',\n",
      " '__delattr__',\n",
      " '__dict__',\n",
      " '__dir__',\n",
      " '__doc__',\n",
      " '__eq__',\n",
      " '__format__',\n",
      " '__ge__',\n",
      " '__get__',\n",
      " '__getattribute__',\n",
      " '__globals__',\n",
      " '__gt__',\n",
      " '__hash__',\n",
      " '__init__',\n",
      " '__kwdefaults__',\n",
      " '__le__',\n",
      " '__lt__',\n",
      " '__module__',\n",
      " '__name__',\n",
      " '__ne__',\n",
      " '__new__',\n",
      " '__qualname__',\n",
      " '__reduce__',\n",
      " '__reduce_ex__',\n",
      " '__repr__',\n",
      " '__setattr__',\n",
      " '__sizeof__',\n",
      " '__str__',\n",
      " '__subclasshook__']\n"
     ]
    }
   ],
   "source": [
    "import pprint\n",
    "\n",
    "def add () :\n",
    "    pass\n",
    "pprint.pprint(dir(add))"
   ]
  },
  {
   "cell_type": "markdown",
   "metadata": {},
   "source": [
    "### dir 함수 처리 \n",
    "\n",
    "    __dir__: 객체의 속성정보를 조회 "
   ]
  },
  {
   "cell_type": "code",
   "execution_count": null,
   "metadata": {
    "collapsed": false
   },
   "outputs": [],
   "source": [
    "# dir\n",
    "\n",
    "l = [1,2,3]\n",
    "print(l.__dir__())"
   ]
  },
  {
   "cell_type": "markdown",
   "metadata": {},
   "source": [
    "### len 함수 처리 \n",
    "\n",
    "    __len__ :  길이 처리 "
   ]
  },
  {
   "cell_type": "code",
   "execution_count": null,
   "metadata": {
    "collapsed": false
   },
   "outputs": [],
   "source": [
    "import collections.abc as cols \n",
    "print(dir(cols.Sized))"
   ]
  },
  {
   "cell_type": "code",
   "execution_count": null,
   "metadata": {
    "collapsed": false
   },
   "outputs": [],
   "source": [
    "a = [1,2,4]\n",
    "print(len(a))\n",
    "\n",
    "#len--> __len__ 호출 \n",
    "print(a.__len__())"
   ]
  },
  {
   "cell_type": "code",
   "execution_count": null,
   "metadata": {
    "collapsed": false
   },
   "outputs": [],
   "source": [
    "# 사용자 클래스에 __len__을 오버라이딩해서 내장함수 len을 처리\n",
    "class LEN :\n",
    "    def __init__(self, seq) :\n",
    "        self.seq = seq\n",
    "        \n",
    "    def __len__(self) :\n",
    "        return len(self.seq)\n",
    "    \n",
    "a = LEN(\"World\")\n",
    "print(len(a))\n"
   ]
  },
  {
   "cell_type": "markdown",
   "metadata": {},
   "source": [
    "# contains 처리 \n",
    "\n",
    "    in  연산 처리 하기"
   ]
  },
  {
   "cell_type": "code",
   "execution_count": null,
   "metadata": {
    "collapsed": false
   },
   "outputs": [],
   "source": [
    "import collections.abc as cols\n",
    "\n",
    "s = \"Hello world\" \n",
    "print(issubclass(str, cols.Container))\n",
    "\n",
    "print( 'o' in s)\n",
    "print(s.__contains__('o'))"
   ]
  },
  {
   "cell_type": "markdown",
   "metadata": {},
   "source": [
    "## is 처리 \n",
    "\n",
    "     파이썬에서는 is를 제공하는 연산자는 없음\n",
    "     내부적으로 처리 \n",
    "     "
   ]
  },
  {
   "cell_type": "code",
   "execution_count": null,
   "metadata": {
    "collapsed": false
   },
   "outputs": [],
   "source": [
    "a = 1\n",
    "b = a\n",
    "\n",
    "\n",
    "print(object.__eq__(a,b))\n",
    "print(a.__eq__(b))\n",
    "\n",
    "l = [1,2,3]\n",
    "lb = [1,2,3]\n",
    "print(l.__eq__(lb))\n",
    "\n",
    "# is는 객체가 같은가 여부 확인 \n",
    "print(id(l) == id(lb))"
   ]
  },
  {
   "cell_type": "markdown",
   "metadata": {},
   "source": [
    "## isinstance 와 issubclass 처리 \n",
    "\n",
    "    class .__ instancecheck __ (self, instance)\n",
    "        인스턴스가 클래스의 (직접 또는 간접적 인) 인스턴스로 간주되어야하는 경우 true를 리턴합니다. \n",
    "        정의 된 경우 isinstance (인스턴스, 클래스)를 구현하도록 호출됩니다.\n",
    "\n",
    "    class .__ subclasscheck __ (self, subclass)\n",
    "        subclass가 클래스의 (직접 또는 간접) 서브 클래스라고 보여 져야하는 경우 true를 리턴합니다. \n",
    "        정의되고 있으면 issubclass (subclass, class)를 구현하도록 호출됩니다.\n",
    "        \n",
    " "
   ]
  },
  {
   "cell_type": "code",
   "execution_count": null,
   "metadata": {
    "collapsed": false
   },
   "outputs": [],
   "source": [
    "print(isinstance(1,object))\n",
    "print(object.__instancecheck__(1))"
   ]
  },
  {
   "cell_type": "code",
   "execution_count": null,
   "metadata": {
    "collapsed": false
   },
   "outputs": [],
   "source": [
    "print(issubclass(int,object))\n",
    "print(object.__subclasscheck__(int))"
   ]
  },
  {
   "cell_type": "markdown",
   "metadata": {},
   "source": [
    "## abs 내장 함수\n",
    "\n",
    "      object.__neg__(self) : -\n",
    "      object.__pos__(self) : + \n",
    "      object.__abs__(self)\n",
    "      object.__invert__(self) : ~ 연산자\n",
    "             \n",
    "\n",
    "      "
   ]
  },
  {
   "cell_type": "code",
   "execution_count": null,
   "metadata": {
    "collapsed": false
   },
   "outputs": [],
   "source": [
    "print(abs(-1))\n",
    "print(int.__abs__(-1))\n",
    "\n",
    "print(int.__neg__(-1))\n",
    "\n",
    "print(int.__invert__(int('0b1111',2)))"
   ]
  },
  {
   "cell_type": "markdown",
   "metadata": {},
   "source": [
    "## 기타\n",
    "\n",
    "\n",
    "     object.__complex__(self)\n",
    "     object.__int__(self)\n",
    "     object.__float__(self)\n",
    "     object.__round__(self[, n])\n",
    "                 Called to implement the built-in functions complex(), int(), float() and round(). \n",
    "                 Should return a value of the appropriate type.\n",
    "\n",
    "     object.__index__(self)\n",
    " \n",
    "   \n",
    "  "
   ]
  },
  {
   "cell_type": "markdown",
   "metadata": {},
   "source": [
    "## 클래스 닷(.)연산자 사용하기  \n",
    "\n",
    "    getattr, setattr, delattr 은 객체 접근자인 닷 연산자를 지원\n",
    "    \n",
    "     클래스명.xxx,  인스턴스명.xxx 등의 문법 규약을 사용.\n",
    "    \n",
    "    \n",
    "    \n",
    "    \n",
    "    작성시 주의사항 : self를 가지고 self로 검색하면 recursive call 이 발생하므로 \n",
    "    \n",
    "    내부 로직은 상위 클래스인 object로 전환해야 함\n",
    "    \n",
    "        def __getattribute__(self,name):\n",
    "        \n",
    "            return object.__getattribute__(self, name) \n",
    "            ## return self.__getattribute__(self, name)"
   ]
  },
  {
   "cell_type": "code",
   "execution_count": null,
   "metadata": {
    "collapsed": false
   },
   "outputs": [],
   "source": [
    "class Student :\n",
    "    def __init__(self, name, age, school) :\n",
    "        self.name = name\n",
    "        self.age = age\n",
    "        self.school = school\n",
    "        \n",
    "s  = Student(\"dahl\",50,\"성균관대학교\")\n",
    "print(s.name)\n"
   ]
  },
  {
   "cell_type": "code",
   "execution_count": null,
   "metadata": {
    "collapsed": false
   },
   "outputs": [],
   "source": [
    "print(getattr(s,\"name\"))\n",
    "print(s.__getattribute__(\"name\"))"
   ]
  },
  {
   "cell_type": "code",
   "execution_count": null,
   "metadata": {
    "collapsed": false
   },
   "outputs": [],
   "source": [
    "s.name = \"Moon\"\n",
    "print(s.name)\n",
    "setattr(s, 'name',\"Park\")\n",
    "print(getattr(s,\"name\"))\n",
    "s.__setattr__(\"name\",\"Silver\")\n",
    "print(s.__getattribute__(\"name\"))"
   ]
  },
  {
   "cell_type": "code",
   "execution_count": null,
   "metadata": {
    "collapsed": false
   },
   "outputs": [],
   "source": [
    "s.age = 40\n",
    "del s.age\n",
    "print(s.__dict__)\n",
    "setattr(s, 'age',50)\n",
    "delattr(s,\"age\")\n",
    "print(s.__dict__)\n",
    "s.__setattr__(\"age\", 60)\n",
    "s.__delattr__(\"age\")\n",
    "print(s.__dict__)"
   ]
  },
  {
   "cell_type": "code",
   "execution_count": null,
   "metadata": {
    "collapsed": false
   },
   "outputs": [],
   "source": [
    "class A :\n",
    "    def __init__(self,name) :\n",
    "        print(\" __init__\")\n",
    "        self.name = name\n",
    "        \n",
    "    def __getattribute__(self,name):\n",
    "        print(\" . 연산 get\")\n",
    "        return object.__getattribute__(self, name)\n",
    "    \n",
    "    def __setattr__(self,name,value):\n",
    "        print(\" . 연산 set\")\n",
    "        object.__setattr__(self, name,value)\n"
   ]
  },
  {
   "cell_type": "code",
   "execution_count": null,
   "metadata": {
    "collapsed": false
   },
   "outputs": [],
   "source": [
    "a = A(\"dahl\")\n",
    "print(a.__dict__)\n",
    "print(getattr(a,\"name\",\"default\"))\n",
    "print(setattr(a,\"name\",\"moon\"))\n",
    "print(a.__dict__)"
   ]
  },
  {
   "cell_type": "code",
   "execution_count": 3,
   "metadata": {
    "collapsed": false
   },
   "outputs": [
    {
     "name": "stdout",
     "output_type": "stream",
     "text": [
      "getattribute\n",
      "20\n",
      "getattribute\n",
      "21\n"
     ]
    }
   ],
   "source": [
    "class D(object):\n",
    "    def __init__(self):\n",
    "        self.test=20\n",
    "        self.test2=21\n",
    "        \n",
    "    # 주의 사항 : object 연산자를 이용해서 처리해야 함\n",
    "    def __getattribute__(self,name):\n",
    "        print(\"getattribute\")\n",
    "        return object.__getattribute__(self, name)\n",
    "    \n",
    "    def __getattr__(self,name) :\n",
    "        print(\"getattr\")\n",
    "        return self.__dict__[name]\n",
    "    \n",
    "    def __setattr__(self,name,value):\n",
    "        return object.__setattr__(self, name,value)\n",
    "        \n",
    "d = D()\n",
    "print(d.test)\n",
    "print(d.test2)"
   ]
  },
  {
   "cell_type": "code",
   "execution_count": 4,
   "metadata": {
    "collapsed": false
   },
   "outputs": [
    {
     "name": "stdout",
     "output_type": "stream",
     "text": [
      "getattribute\n",
      "300\n",
      "getattribute\n",
      "getattr\n",
      "getattribute\n"
     ]
    },
    {
     "ename": "KeyError",
     "evalue": "'test3'",
     "output_type": "error",
     "traceback": [
      "\u001b[0;31m---------------------------------------------------------------------------\u001b[0m",
      "\u001b[0;31mKeyError\u001b[0m                                  Traceback (most recent call last)",
      "\u001b[0;32m<ipython-input-4-0b354c0eff80>\u001b[0m in \u001b[0;36m<module>\u001b[0;34m()\u001b[0m\n\u001b[1;32m     19\u001b[0m \u001b[0md\u001b[0m\u001b[1;33m.\u001b[0m\u001b[0mtest1\u001b[0m \u001b[1;33m=\u001b[0m \u001b[1;36m300\u001b[0m\u001b[1;33m\u001b[0m\u001b[0m\n\u001b[1;32m     20\u001b[0m \u001b[0mprint\u001b[0m\u001b[1;33m(\u001b[0m\u001b[0md\u001b[0m\u001b[1;33m.\u001b[0m\u001b[0mtest1\u001b[0m\u001b[1;33m)\u001b[0m\u001b[1;33m\u001b[0m\u001b[0m\n\u001b[0;32m---> 21\u001b[0;31m \u001b[0mprint\u001b[0m\u001b[1;33m(\u001b[0m\u001b[0md\u001b[0m\u001b[1;33m.\u001b[0m\u001b[0mtest3\u001b[0m\u001b[1;33m)\u001b[0m\u001b[1;33m\u001b[0m\u001b[0m\n\u001b[0m",
      "\u001b[0;32m<ipython-input-4-0b354c0eff80>\u001b[0m in \u001b[0;36m__getattr__\u001b[0;34m(self, name)\u001b[0m\n\u001b[1;32m     11\u001b[0m     \u001b[1;32mdef\u001b[0m \u001b[0m__getattr__\u001b[0m\u001b[1;33m(\u001b[0m\u001b[0mself\u001b[0m\u001b[1;33m,\u001b[0m\u001b[0mname\u001b[0m\u001b[1;33m)\u001b[0m \u001b[1;33m:\u001b[0m\u001b[1;33m\u001b[0m\u001b[0m\n\u001b[1;32m     12\u001b[0m         \u001b[0mprint\u001b[0m\u001b[1;33m(\u001b[0m\u001b[1;34m\"getattr\"\u001b[0m\u001b[1;33m)\u001b[0m\u001b[1;33m\u001b[0m\u001b[0m\n\u001b[0;32m---> 13\u001b[0;31m         \u001b[1;32mreturn\u001b[0m \u001b[0mself\u001b[0m\u001b[1;33m.\u001b[0m\u001b[0m__dict__\u001b[0m\u001b[1;33m[\u001b[0m\u001b[0mname\u001b[0m\u001b[1;33m]\u001b[0m\u001b[1;33m\u001b[0m\u001b[0m\n\u001b[0m\u001b[1;32m     14\u001b[0m \u001b[1;33m\u001b[0m\u001b[0m\n\u001b[1;32m     15\u001b[0m     \u001b[1;32mdef\u001b[0m \u001b[0m__setattr__\u001b[0m\u001b[1;33m(\u001b[0m\u001b[0mself\u001b[0m\u001b[1;33m,\u001b[0m\u001b[0mname\u001b[0m\u001b[1;33m,\u001b[0m\u001b[0mvalue\u001b[0m\u001b[1;33m)\u001b[0m\u001b[1;33m:\u001b[0m\u001b[1;33m\u001b[0m\u001b[0m\n",
      "\u001b[0;31mKeyError\u001b[0m: 'test3'"
     ]
    }
   ],
   "source": [
    "class D(object):\n",
    "    def __init__(self):\n",
    "        self.test=20\n",
    "        self.test2=21\n",
    "        \n",
    "    def __getattribute__(self,name):\n",
    "        print(\"getattribute\")\n",
    "        return object.__getattribute__(self, name)\n",
    "    \n",
    "    def __getattr__(self,name) :\n",
    "        print(\"getattr\")\n",
    "        return self.__dict__[name]\n",
    "    \n",
    "    def __setattr__(self,name,value):\n",
    "        return object.__setattr__(self, name,value)\n",
    "        \n",
    "d = D()\n",
    "d.test1 = 300\n",
    "print(d.test1)\n",
    "print(d.test3)"
   ]
  },
  {
   "cell_type": "markdown",
   "metadata": {},
   "source": [
    "## indexing  및 슬라이싱 처리\n",
    "\n",
    "    인덱스와 슬라이스는 Squence나 mapping 데이터 타입 내의 요소를 검색하지만 \n",
    "    \n",
    "    객체 참조 닷연산(.)은 실제 사용자 정의된 속성을 참조 \n",
    "    \n",
    "    파이썬이 대부분 dict 타입으로 namespace를 관리해서 혼재되어 사용되므로 주의해야 함\n",
    "    \n",
    "    \n",
    "    \n",
    "\n",
    "    연산자 [ ], [::]  --> __getitem__ 호출\n",
    "\n",
    "    __getitem__  :  파라미터가 하나를 받아 조회 \n",
    "    \n",
    "    __setitem__ :  파라미터를 받아 값을 갱신하기\n",
    "    \n",
    "    __delitem__\n",
    "    "
   ]
  },
  {
   "cell_type": "code",
   "execution_count": null,
   "metadata": {
    "collapsed": false
   },
   "outputs": [],
   "source": [
    "s = \"Hello\"\n",
    "\n",
    "print(s[0])\n",
    "print(s.__getitem__(0))\n",
    "\n",
    "# 슬라이스 연산자는 slice 객체로 정의해서 전달함\n",
    "print(s[:])\n",
    "sl = slice(0,len(s))\n",
    "print(s.__getitem__(sl))"
   ]
  },
  {
   "cell_type": "code",
   "execution_count": null,
   "metadata": {
    "collapsed": false
   },
   "outputs": [],
   "source": [
    "l = [1,2,3,4]\n",
    "\n",
    "print(l[0])\n",
    "print(l.__setitem__(0,100))\n",
    "print(l)\n",
    "# 슬라이스 연산자는 slice 객체로 정의해서 전달함\n",
    "print(l[1:3])\n",
    "sl = slice(1,3)\n",
    "l.__setitem__(sl,[99,98])\n",
    "print(l)"
   ]
  },
  {
   "cell_type": "code",
   "execution_count": 18,
   "metadata": {
    "collapsed": false
   },
   "outputs": [
    {
     "name": "stdout",
     "output_type": "stream",
     "text": [
      "1\n",
      "[1, 2, 100, 4]\n",
      "[1, 2, 999, 4]\n"
     ]
    }
   ],
   "source": [
    "l = [1,2,3,4]\n",
    "\n",
    "print(l[0])\n",
    "l[2] = 100\n",
    "print(l)\n",
    "l.__setitem__(2,999)\n",
    "print(l)"
   ]
  },
  {
   "cell_type": "code",
   "execution_count": 19,
   "metadata": {
    "collapsed": false
   },
   "outputs": [
    {
     "ename": "IndexError",
     "evalue": "list assignment index out of range",
     "output_type": "error",
     "traceback": [
      "\u001b[0;31m---------------------------------------------------------------------------\u001b[0m",
      "\u001b[0;31mIndexError\u001b[0m                                Traceback (most recent call last)",
      "\u001b[0;32m<ipython-input-19-e433a1564d43>\u001b[0m in \u001b[0;36m<module>\u001b[0;34m()\u001b[0m\n\u001b[0;32m----> 1\u001b[0;31m \u001b[0ml\u001b[0m\u001b[1;33m.\u001b[0m\u001b[0m__setitem__\u001b[0m\u001b[1;33m(\u001b[0m\u001b[1;36m4\u001b[0m\u001b[1;33m,\u001b[0m\u001b[1;36m999\u001b[0m\u001b[1;33m)\u001b[0m\u001b[1;33m\u001b[0m\u001b[0m\n\u001b[0m\u001b[1;32m      2\u001b[0m \u001b[0mprint\u001b[0m\u001b[1;33m(\u001b[0m\u001b[0ml\u001b[0m\u001b[1;33m)\u001b[0m\u001b[1;33m\u001b[0m\u001b[0m\n",
      "\u001b[0;31mIndexError\u001b[0m: list assignment index out of range"
     ]
    }
   ],
   "source": [
    "l.__setitem__(4,999)\n",
    "print(l)"
   ]
  },
  {
   "cell_type": "code",
   "execution_count": null,
   "metadata": {
    "collapsed": false
   },
   "outputs": [],
   "source": [
    "l = [1,2,3,4]\n",
    "\n",
    "print(l[0])\n",
    "l.__delitem__(0)\n",
    "print(l)\n",
    "# 슬라이스 연산자는 slice 객체로 정의해서 전달함\n",
    "print(l[1:3])\n",
    "sl = slice(1,3)\n",
    "l.__delitem__(sl)\n",
    "print(l)"
   ]
  },
  {
   "cell_type": "code",
   "execution_count": 20,
   "metadata": {
    "collapsed": false
   },
   "outputs": [
    {
     "name": "stdout",
     "output_type": "stream",
     "text": [
      "1\n",
      "[2, 3, 4]\n"
     ]
    }
   ],
   "source": [
    "l = [1,2,3,4]\n",
    "\n",
    "print(l[0])\n",
    "l.__delitem__(0)\n",
    "print(l)"
   ]
  },
  {
   "cell_type": "code",
   "execution_count": 27,
   "metadata": {
    "collapsed": false
   },
   "outputs": [
    {
     "name": "stdout",
     "output_type": "stream",
     "text": [
      "[1, 2, 3, 4]\n",
      "[99, 98, 97, 96, 95]\n"
     ]
    }
   ],
   "source": [
    "l = [1,2,3,4]\n",
    "\n",
    "# 슬라이스 연산자는 slice 객체로 정의해서 전달함\n",
    "print(l[0:5])\n",
    "sl = slice(0,5)\n",
    "l.__setitem__(sl,[99,98,97,96,95])\n",
    "print(l)\n"
   ]
  },
  {
   "cell_type": "code",
   "execution_count": 30,
   "metadata": {
    "collapsed": false
   },
   "outputs": [
    {
     "name": "stdout",
     "output_type": "stream",
     "text": [
      "[]\n",
      "[3, 4]\n"
     ]
    }
   ],
   "source": [
    "l = [1,2,3,4]\n",
    "\n",
    "sl = slice(0,5)\n",
    "l.__delitem__(sl)\n",
    "print(l)\n",
    "\n",
    "l1 = [1,2,3,4]\n",
    "\n",
    "s2 = slice(0,2)\n",
    "l1.__delitem__(s2)\n",
    "print(l1)"
   ]
  },
  {
   "cell_type": "markdown",
   "metadata": {},
   "source": [
    "## Protocel interface 이해하기  : Sized\n",
    "\n",
    "     Sized 추상화 클래스는 __len__이 대표적인 메소드 이므로 이를 정의한 사용자 클래스는 기본적으로 Sized를 상속한 것처럼 본다\n",
    "     \n",
    "     "
   ]
  },
  {
   "cell_type": "code",
   "execution_count": null,
   "metadata": {
    "collapsed": false
   },
   "outputs": [],
   "source": [
    "\n",
    "import collections.abc as cols \n",
    "\n",
    "print(issubclass(LEN, cols.Sized))"
   ]
  },
  {
   "cell_type": "markdown",
   "metadata": {},
   "source": [
    "## repr과 str 함수 추가\n",
    "\n",
    "    str는 print 문 등을 사용하기 위한 문자열 보기\n",
    "    repr은 repl 창에서 처리하는 문자열을 보기 \n",
    "    "
   ]
  },
  {
   "cell_type": "code",
   "execution_count": null,
   "metadata": {
    "collapsed": false
   },
   "outputs": [],
   "source": [
    "\n",
    "a = repr(10+10)\n",
    "print(\"{!r}\".format(a))\n",
    "print(eval(a))\n",
    "\n",
    "a = str(10+10)\n",
    "print(\"{!s}\".format(a))\n",
    "print(eval(a))\n"
   ]
  },
  {
   "cell_type": "code",
   "execution_count": null,
   "metadata": {
    "collapsed": false
   },
   "outputs": [],
   "source": [
    "class Person :\n",
    "    def __str__(self) :\n",
    "        return \" Person instance {}\".format(id(self))\n",
    "    \n",
    "    def __repr__(self) :\n",
    "        return \" Person instance\" + \" {!r}\".format(id(self))\n",
    "    \n",
    "a = Person()\n",
    "print(a)\n",
    "print(str(a))\n",
    "print(repr(a))"
   ]
  },
  {
   "cell_type": "markdown",
   "metadata": {},
   "source": [
    "## 산술 연산자 처리\n",
    "\n",
    "     연산자 + --> __add__ 호출\n",
    "\n",
    "      +     : object.__add__(self, other)\n",
    "      -     : object.__sub__(self, other)\n",
    "      *     : object.__mul__(self, other)\n",
    "            : object.__matmul__(self, other)\n",
    "     //     : object.__truediv__(self, other)\n",
    "     /      : object.__floordiv__(self, other)\n",
    "     %      : object.__mod__(self, other)\n",
    "     divmod : object.__divmod__(self, other)\n",
    "     **     : object.__pow__(self, other[, modulo])\n",
    "     \n",
    "     # 반대 계산하기\n",
    "     object.__radd__(self, other)\n",
    "     object.__rsub__(self, other)\n",
    "     object.__rmul__(self, other)\n",
    "     object.__rmatmul__(self, other)\n",
    "     object.__rtruediv__(self, other)\n",
    "     object.__rfloordiv__(self, other)\n",
    "     object.__rmod__(self, other)\n",
    "     object.__rdivmod__(self, other)\n",
    "     object.__rpow__(self, other)\n",
    "     "
   ]
  },
  {
   "cell_type": "code",
   "execution_count": null,
   "metadata": {
    "collapsed": false
   },
   "outputs": [],
   "source": [
    "print( 1+1 )\n",
    "# 정수 덧셈\n",
    "print((1).__add__(1))"
   ]
  },
  {
   "cell_type": "code",
   "execution_count": null,
   "metadata": {
    "collapsed": false
   },
   "outputs": [],
   "source": [
    "# 문자열 덧셈 \n",
    "print(\"a\" + 'b')\n",
    "s = \"a\".__add__('b')\n",
    "print(s)"
   ]
  },
  {
   "cell_type": "code",
   "execution_count": null,
   "metadata": {
    "collapsed": false
   },
   "outputs": [],
   "source": [
    "# 리스트 덧셈\n",
    "print([1,2,3] + [4,5,6])\n",
    "s = [1,2,3].__add__([4,5,6])\n",
    "print(s)"
   ]
  },
  {
   "cell_type": "code",
   "execution_count": null,
   "metadata": {
    "collapsed": false
   },
   "outputs": [],
   "source": [
    "# 튜플 덧셈\n",
    "print((1,2,3) + (4,5,6))\n",
    "s = (1,2,3).__add__((4,5,6))\n",
    "print(s)"
   ]
  },
  {
   "cell_type": "code",
   "execution_count": null,
   "metadata": {
    "collapsed": false
   },
   "outputs": [],
   "source": [
    "# dict 덧셈은 지원하지 않는다. \n",
    "print({1:1,2:2,3:3} + {4:4,5:5,6:6})\n",
    "s = {1:1,2:2,3:3}.__add__({4:4,5:5,6:6})\n",
    "print(s)"
   ]
  },
  {
   "cell_type": "markdown",
   "metadata": {},
   "source": [
    "## 할당 추가  연산자 처리\n",
    "\n",
    "     +=  : object.__iadd__(self, other)\n",
    "     -=  : object.__isub__(self, other)\n",
    "     *=  : object.__imul__(self, other)\n",
    "         : object.__imatmul__(self, other)\n",
    "     //= : object.__itruediv__(self, other)\n",
    "     /=  : object.__ifloordiv__(self, other)\n",
    "     %=  : object.__imod__(self, other)\n",
    "     **= : object.__ipow__(self, other[, modulo])\n",
    "     <<= : object.__ilshift__(self, other)\n",
    "     >>= : object.__irshift__(self, other)\n",
    "     &=  : object.__iand__(self, other)\n",
    "     ^=  : object.__ixor__(self, other)\n",
    "     |=  : object.__ior__(self, other)"
   ]
  },
  {
   "cell_type": "markdown",
   "metadata": {},
   "source": [
    "## 비교연산자 \n",
    "\n",
    "\n",
    "    <  : object.__lt__(self, other)\n",
    "    <= : object.__le__(self, other)\n",
    "    == : object.__eq__(self, other)\n",
    "    != : object.__ne__(self, other)\n",
    "    >   :object.__gt__(self, other)\n",
    "    >= : object.__ge__(self, other)\n",
    "    "
   ]
  },
  {
   "cell_type": "markdown",
   "metadata": {},
   "source": [
    "## shift 과 관계 연산자 처리\n",
    "\n",
    "     << : object.__lshift__(self, other)\n",
    "     >> : object.__rshift__(self, other) \n",
    "     &  : object.__and__(self, other)\n",
    "     ^  : object.__xor__(self, other)\n",
    "     |  : object.__or__(self, other)\n",
    "     \n",
    "     반대방향 계산하기 \n",
    "     \n",
    "     object.__rlshift__(self, other)\n",
    "     object.__rrshift__(self, other)\n",
    "     object.__rand__(self, other)\n",
    "     object.__rxor__(self, other)\n",
    "     object.__ror__(self, other)"
   ]
  },
  {
   "cell_type": "markdown",
   "metadata": {},
   "source": [
    "## 스페셜 메소드 오버라이딩\n",
    "\n",
    "    스페셜 메소드(연산자)를 오버라이딩해서 사용자 정의 클래스를 만들면 연산자로 연산을 할 수 있음\n",
    "    "
   ]
  },
  {
   "cell_type": "code",
   "execution_count": null,
   "metadata": {
    "collapsed": false
   },
   "outputs": [],
   "source": [
    "# 사용자 클래스 정의해서 스페셜 메소드를 정의하면 연산자가 작동 함\n",
    "\n",
    "import collections.abc as cols\n",
    "\n",
    "class AA(cols.Sequence) :\n",
    "    def __init__(self, seq) :\n",
    "        self.seq = seq\n",
    "        \n",
    "    def __iter__(self) :\n",
    "        return self.seq\n",
    "    \n",
    "    def __contains__(self) :\n",
    "        pass\n",
    "        \n",
    "    def __getitem__(self, index) :\n",
    "        return self.seq[index]\n",
    "    \n",
    "    def __setitem__(self, index, value) :\n",
    "        self.seq[index] = value\n",
    "        \n",
    "    def __delitem__(self) :\n",
    "        pass\n",
    "    \n",
    "    def __add__(self, other) :\n",
    "        self.seq = self.seq + other.seq\n",
    "        return self.seq \n",
    "    \n",
    "    def __len__(self) :\n",
    "        return len(self.seq)\n",
    "    \n",
    "    def index(self) :\n",
    "        pass\n",
    "    def count(self) :\n",
    "        pass\n",
    "    \n",
    "a = AA(\"abc\")\n",
    "print(a[0])\n",
    "print(a[:])\n",
    "\n",
    "b = AA(\"def\")\n",
    "\n",
    "print(a+b)"
   ]
  },
  {
   "cell_type": "markdown",
   "metadata": {},
   "source": [
    "## With Statement Context Managers\n",
    "    object.__enter__(self)\n",
    "        이 객체와 관련된 런타임 컨텍스트를 생성  with 문은이 메소드의 반환 값을 명령문의 as 절에 지정된 대상에 바인드합니다\n",
    "    \n",
    "    \n",
    "    object.__exit__(self, exc_type, exc_value, traceback)\n",
    "        이 객체에 관련된 런타임 컨텍스트를 종료합니다. 매개 변수는 컨텍스트가 종료되는 예외를 설명합니다. \n",
    "        예외없이 컨텍스트가 종료 된 경우 세 인수는 모두 없음입니다.\n",
    " "
   ]
  },
  {
   "cell_type": "code",
   "execution_count": null,
   "metadata": {
    "collapsed": false
   },
   "outputs": [],
   "source": [
    "with open('data.txt','r') as f :\n",
    "    for i in f :\n",
    "        print(i)"
   ]
  },
  {
   "cell_type": "markdown",
   "metadata": {},
   "source": [
    "###  인스턴스/클래스메소드와 스태틱메소/함수 구별하기 \n",
    "\n",
    "    왜 메소드 첫번째 인자에 self와 cls를 받아야 하나?\n",
    "    \n",
    "    __self__가 메소드에 생성되어 이를 관리하고 첫번째 인자에 매핑됨\n",
    "    \n",
    "    "
   ]
  },
  {
   "cell_type": "code",
   "execution_count": null,
   "metadata": {
    "collapsed": false
   },
   "outputs": [],
   "source": [
    "class ABC :\n",
    "    def getABC(self) :\n",
    "        print(\" get ABC\")\n",
    "        \n",
    "a = ABC()\n",
    "# 메소드에 __self__가 존재\n",
    "print(dir(a.getABC))\n",
    "print(type(a.getABC))\n",
    "print(a.getABC.__self__)\n",
    "\n"
   ]
  },
  {
   "cell_type": "code",
   "execution_count": null,
   "metadata": {
    "collapsed": false
   },
   "outputs": [],
   "source": [
    "# 클래스 메소드\n",
    "class ABCD :\n",
    "    @classmethod\n",
    "    def getABCD(cls) :\n",
    "        print(\" get ABCD\")\n",
    "        \n",
    "\n",
    "# 메소드에 __self__가 존재\n",
    "print(dir(ABCD.getABCD))\n",
    "print(type(ABCD.getABCD))\n",
    "print(ABCD.getABCD.__self__)"
   ]
  },
  {
   "cell_type": "code",
   "execution_count": null,
   "metadata": {
    "collapsed": false
   },
   "outputs": [],
   "source": [
    "\n",
    "# 스태틱메소드\n",
    "class ABCDS :\n",
    "    @staticmethod\n",
    "    def getABCDS() :\n",
    "        print(\" get ABCD\")\n",
    "        \n",
    "\n",
    "# 메소드에 __self__가 존재하지 않음\n",
    "print(dir(ABCDS.getABCDS))\n",
    "print(type(ABCDS.getABCDS))\n"
   ]
  },
  {
   "cell_type": "code",
   "execution_count": null,
   "metadata": {
    "collapsed": false
   },
   "outputs": [],
   "source": [
    "# 함수에는 self가 존재하지 않음\n",
    "def func():\n",
    "    pass\n",
    "\n",
    "print(dir(func))\n",
    "print(type(func))"
   ]
  },
  {
   "cell_type": "markdown",
   "metadata": {},
   "source": [
    "## Protocel interface 이해하기  : Sequence\n",
    "\n",
    "     Sequence 추상화 클래스는 __getitem__이 대표적인 메소드 이므로 이를 정의한 사용자 클래스는 기본적으로 Sequence를 상속한 것처럼 본다\n",
    "     "
   ]
  },
  {
   "cell_type": "code",
   "execution_count": null,
   "metadata": {
    "collapsed": false
   },
   "outputs": [],
   "source": [
    "import collections.abc as cols\n",
    "\n",
    "print(issubclass(str, cols.Sequence))\n",
    "\n",
    "# 추상화 클래스를 상속 받아서 사용자 클래스 정의한 후에 체크해야 에러가 안남\n",
    "print(issubclass(AA, cols.Sequence))"
   ]
  },
  {
   "cell_type": "markdown",
   "metadata": {
    "collapsed": true
   },
   "source": [
    "##  descriptor protocol interface 이해하기 \n",
    "\n",
    "    __get__, __set__, __delete__ 메소드를 디스크립터 클래스에 정의하고 \n",
    "    \n",
    "    생성 클래스에 변수에 디스크립터 객체를 생성시킨 후에 \n",
    "    \n",
    "    생성클래스로 인스턴스를 만들어서 처리\n",
    "    \n",
    "    \n",
    "    "
   ]
  },
  {
   "cell_type": "code",
   "execution_count": null,
   "metadata": {
    "collapsed": false
   },
   "outputs": [],
   "source": [
    "print(dir(int.__add__))"
   ]
  },
  {
   "cell_type": "code",
   "execution_count": null,
   "metadata": {
    "collapsed": false
   },
   "outputs": [],
   "source": [
    "a = 1\n",
    "print(a.__add__(2))\n",
    "\n",
    "s = int.__add__.__get__(2,int)\n",
    "print(type(s))\n",
    "print(s(1))"
   ]
  },
  {
   "cell_type": "markdown",
   "metadata": {},
   "source": [
    "### 디스크립터를 생성\n",
    "\n",
    "    디스크립터 클래스를 별도로 생성했기에 이곳에 있는 메소드를 이용해서 다른 클래스의 인스턴스를 갱신 및 조회 등을 직접 처리할 수 있음"
   ]
  },
  {
   "cell_type": "code",
   "execution_count": null,
   "metadata": {
    "collapsed": false
   },
   "outputs": [],
   "source": [
    "class descriptor :\n",
    "    def __init__(self,name) :\n",
    "        self.name = '_'+name\n",
    "        \n",
    "    def __get__(self, other,owner) :\n",
    "        return getattr(other,self.name,None)\n",
    "    \n",
    "    def __set__(self, other,value) :\n",
    "        return setattr(other,self.name,value)\n",
    "    \n",
    "class DEC :\n",
    "    name = descriptor(\"name\")\n",
    "    \n",
    "a = DEC()\n",
    "a.name = \"dahl\"\n",
    "print(a.__dict__)\n",
    "print(a.name)\n",
    "\n",
    "# 디스크립터로 직접 접근해서 갱신하기 \n",
    "descriptor.__set__(descriptor(\"name\"),a,\"Moon\")\n",
    "print(a.__dict__)\n",
    "print(descriptor.__get__(descriptor(\"name\"),a,DEC))\n",
    "\n"
   ]
  },
  {
   "cell_type": "markdown",
   "metadata": {},
   "source": [
    "# 생성자 소멸자 초기화 처리 방법 \n",
    "\n",
    "    __new__\n",
    "    __init__\n",
    "    __call__\n",
    "    __del__"
   ]
  },
  {
   "cell_type": "markdown",
   "metadata": {},
   "source": [
    "### 파이썬 생성자 작동원리\n"
   ]
  },
  {
   "cell_type": "code",
   "execution_count": null,
   "metadata": {
    "collapsed": false
   },
   "outputs": [],
   "source": [
    "help(object.__new__)"
   ]
  },
  {
   "cell_type": "code",
   "execution_count": null,
   "metadata": {
    "collapsed": false
   },
   "outputs": [],
   "source": [
    "# object로 생성하기\n",
    "\n",
    "a = object.__call__()\n",
    "print(a)\n",
    "\n",
    "# 클래스에서 __call__ 메소드가 처리하는 방법\n",
    "# 클래스를 호출하면 실제 __new__ 처리 후에 __init__ 호출하고 결과를 리턴\n",
    "b = object.__new__(object)\n",
    "object.__init__(b)\n",
    "print(b)"
   ]
  },
  {
   "cell_type": "markdown",
   "metadata": {},
   "source": [
    "### 사용자 정의 클래시에서 생성자 처리 방법 \n"
   ]
  },
  {
   "cell_type": "code",
   "execution_count": null,
   "metadata": {
    "collapsed": false
   },
   "outputs": [],
   "source": [
    "class A(object) :\n",
    "    # new 정의시 @classmethod로 정의하지 않아도 됨\n",
    "    def __new__(cls,name) :\n",
    "        self = object.__new__(cls)\n",
    "        return self\n",
    "    \n",
    "    def __init__(self,name) :\n",
    "        self.name= name\n",
    "        \n",
    "a = A(\"dahl\")\n",
    "print(a)\n",
    "print(a.__dict__)"
   ]
  },
  {
   "cell_type": "markdown",
   "metadata": {},
   "source": [
    "### type으로 인스턴스 생성하기\n",
    "\n",
    "     사용자 정의 클래스가 만들어진 후에 type.__call__로 인스턴스 생성이 가능함\n",
    "     "
   ]
  },
  {
   "cell_type": "code",
   "execution_count": null,
   "metadata": {
    "collapsed": false
   },
   "outputs": [],
   "source": [
    "class AB(object) :\n",
    "        \n",
    "    def __init__(self,name) :\n",
    "        self.name= name\n",
    "        \n",
    "# 타입으로 인스턴스 를 생성시에는 일단 클래스가 만들어져 있어야 함  \n",
    "# type(AB,\"dahl\")로 인스턴스 생시시는 오류가 발생함\n",
    "a = type.__call__(AB,\"dahl\")\n",
    "print(a)\n",
    "print(a.__dict__)"
   ]
  },
  {
   "cell_type": "code",
   "execution_count": null,
   "metadata": {
    "collapsed": true
   },
   "outputs": [],
   "source": []
  }
 ],
 "metadata": {
  "anaconda-cloud": {},
  "kernelspec": {
   "display_name": "Python [conda root]",
   "language": "python",
   "name": "conda-root-py"
  },
  "language_info": {
   "codemirror_mode": {
    "name": "ipython",
    "version": 3
   },
   "file_extension": ".py",
   "mimetype": "text/x-python",
   "name": "python",
   "nbconvert_exporter": "python",
   "pygments_lexer": "ipython3",
   "version": "3.5.2"
  }
 },
 "nbformat": 4,
 "nbformat_minor": 1
}
