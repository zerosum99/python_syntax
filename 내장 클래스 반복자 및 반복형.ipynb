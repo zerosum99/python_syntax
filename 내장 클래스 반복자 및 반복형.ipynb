{
 "cells": [
  {
   "cell_type": "code",
   "execution_count": null,
   "metadata": {
    "collapsed": true
   },
   "outputs": [],
   "source": [
    "import sys\n"
   ]
  },
  {
   "cell_type": "code",
   "execution_count": null,
   "metadata": {
    "collapsed": false
   },
   "outputs": [],
   "source": [
    "sys.version_info"
   ]
  },
  {
   "cell_type": "code",
   "execution_count": null,
   "metadata": {
    "collapsed": true
   },
   "outputs": [],
   "source": [
    "import collections.abc as cols"
   ]
  },
  {
   "cell_type": "code",
   "execution_count": null,
   "metadata": {
    "collapsed": false
   },
   "outputs": [],
   "source": [
    "cols.Sequence.__bases__"
   ]
  },
  {
   "cell_type": "code",
   "execution_count": null,
   "metadata": {
    "collapsed": false
   },
   "outputs": [],
   "source": [
    "cols.Reversible.__bases__"
   ]
  },
  {
   "cell_type": "code",
   "execution_count": null,
   "metadata": {
    "collapsed": false
   },
   "outputs": [],
   "source": [
    "cols.Collection.__bases__"
   ]
  },
  {
   "cell_type": "code",
   "execution_count": null,
   "metadata": {
    "collapsed": false
   },
   "outputs": [],
   "source": [
    "import collections.abc as cols\n",
    "cols.Sequence.__bases__"
   ]
  },
  {
   "cell_type": "code",
   "execution_count": null,
   "metadata": {
    "collapsed": false
   },
   "outputs": [],
   "source": [
    "import collections.abc as cols\n",
    "\n",
    "print(issubclass(str, cols.Collection))\n",
    "print(issubclass(list, cols.Collection))\n",
    "print(issubclass(tuple, cols.Collection))\n",
    "print(issubclass(bytes, cols.Collection))\n",
    "print(issubclass(bytearray, cols.Collection))"
   ]
  },
  {
   "cell_type": "code",
   "execution_count": null,
   "metadata": {
    "collapsed": false
   },
   "outputs": [],
   "source": [
    "cols.MutableSequence.__bases__"
   ]
  },
  {
   "cell_type": "code",
   "execution_count": null,
   "metadata": {
    "collapsed": false
   },
   "outputs": [],
   "source": [
    "dir(cols.MutableMapping)"
   ]
  },
  {
   "cell_type": "code",
   "execution_count": null,
   "metadata": {
    "collapsed": false
   },
   "outputs": [],
   "source": [
    "import collections.abc as cols\n",
    "\n",
    "print(issubclass(zip,cols.Iterable))\n",
    "print(issubclass(enumerate,cols.Iterable))\n",
    "print(issubclass(range,cols.Iterable))\n",
    "print(issubclass(reversed,cols.Iterable))"
   ]
  },
  {
   "cell_type": "code",
   "execution_count": null,
   "metadata": {
    "collapsed": false
   },
   "outputs": [],
   "source": [
    "import collections.abc as cols\n",
    "\n",
    "print(issubclass(zip,cols.Reversible))\n",
    "print(issubclass(enumerate,cols.Reversible))\n",
    "print(issubclass(range,cols.Reversible))\n",
    "print(issubclass(reversed,cols.Reversible))"
   ]
  },
  {
   "cell_type": "code",
   "execution_count": null,
   "metadata": {
    "collapsed": false
   },
   "outputs": [],
   "source": [
    "import collections.abc as cols\n",
    "\n",
    "print(issubclass(zip,cols.Iterator))\n",
    "print(issubclass(enumerate,cols.Iterator))\n",
    "print(issubclass(range,cols.Iterator))\n",
    "print(issubclass(reversed,cols.Iterator))"
   ]
  },
  {
   "cell_type": "code",
   "execution_count": null,
   "metadata": {
    "collapsed": false
   },
   "outputs": [],
   "source": [
    "a = zip([1,2,3],[4,5,6])\n",
    "print(type(a))\n",
    "\n",
    "print(next(a))\n",
    "print(next(a))\n",
    "print(next(a))\n",
    "print(next(a))"
   ]
  },
  {
   "cell_type": "code",
   "execution_count": null,
   "metadata": {
    "collapsed": false
   },
   "outputs": [],
   "source": [
    "a = enumerate([1,2,3])\n",
    "print(type(a))\n",
    "\n",
    "print(next(a))\n",
    "print(next(a))\n",
    "print(next(a))\n",
    "print(next(a))"
   ]
  },
  {
   "cell_type": "code",
   "execution_count": null,
   "metadata": {
    "collapsed": false
   },
   "outputs": [],
   "source": [
    "a = range(4)\n",
    "print(type(a))\n",
    "a = iter(a)\n",
    "print(next(a))\n",
    "print(next(a))\n",
    "print(next(a))\n",
    "print(next(a))\n",
    "print(next(a))"
   ]
  },
  {
   "cell_type": "code",
   "execution_count": null,
   "metadata": {
    "collapsed": false
   },
   "outputs": [],
   "source": [
    "a = reversed([1,2,3,4])\n",
    "print(type(a))\n",
    "\n",
    "print(next(a))\n",
    "print(next(a))\n",
    "print(next(a))\n",
    "print(next(a))\n",
    "print(next(a))"
   ]
  },
  {
   "cell_type": "code",
   "execution_count": null,
   "metadata": {
    "collapsed": false
   },
   "outputs": [],
   "source": [
    "v : int \n",
    "v = 10\n",
    "print(v)\n",
    "v = \"str\"\n",
    "print(v)"
   ]
  },
  {
   "cell_type": "code",
   "execution_count": null,
   "metadata": {
    "collapsed": false
   },
   "outputs": [],
   "source": [
    "w = 10\n",
    "print(w)"
   ]
  },
  {
   "cell_type": "code",
   "execution_count": null,
   "metadata": {
    "collapsed": false
   },
   "outputs": [],
   "source": [
    "import typing\n",
    "\n",
    "print(issubclass(str, typing.Sequence))"
   ]
  },
  {
   "cell_type": "code",
   "execution_count": null,
   "metadata": {
    "collapsed": false
   },
   "outputs": [],
   "source": [
    "import typing\n",
    "\n",
    "print(type(typing.TypeVar))"
   ]
  },
  {
   "cell_type": "code",
   "execution_count": null,
   "metadata": {
    "collapsed": false
   },
   "outputs": [],
   "source": [
    "import typing\n",
    "\n",
    "def add(x:typing.Generic, y:typing.Generic) :\n",
    "    return x +y\n",
    "\n",
    "print(add(10,10))\n",
    "print(add(\"Hello\",\"World\"))\n",
    "\n",
    "print(add.__annotations__)"
   ]
  },
  {
   "cell_type": "code",
   "execution_count": null,
   "metadata": {
    "collapsed": false
   },
   "outputs": [],
   "source": [
    "import typing\n",
    "\n",
    "l : typing.List\n",
    "l = [1,2,3,4]\n",
    "\n",
    "def type_check(x) :\n",
    "    if issubclass(type(l),typing.List) :\n",
    "        return True\n",
    "    else :\n",
    "        return False\n",
    "    \n",
    "print(type_check(l))\n",
    "       "
   ]
  },
  {
   "cell_type": "code",
   "execution_count": null,
   "metadata": {
    "collapsed": false
   },
   "outputs": [],
   "source": [
    "from typing import TypeVar\n",
    "\n",
    "\n",
    "print(TypeVar.__class__)\n",
    "print(TypeVar.__class__.__class__)\n",
    "print(issubclass(TypeVar.__class__, type))\n",
    "\n",
    "print(TypeVar.__bases__)\n",
    "print(TypeVar.__bases__[0].__bases__)"
   ]
  },
  {
   "cell_type": "code",
   "execution_count": null,
   "metadata": {
    "collapsed": false
   },
   "outputs": [],
   "source": [
    "TypeVar.__constraints__"
   ]
  },
  {
   "cell_type": "code",
   "execution_count": null,
   "metadata": {
    "collapsed": false
   },
   "outputs": [],
   "source": [
    "from typing import TypeVar\n",
    "\n",
    "T = TypeVar(\"T\",str,int)\n",
    "\n",
    "T.__constraints__"
   ]
  },
  {
   "cell_type": "code",
   "execution_count": null,
   "metadata": {
    "collapsed": false
   },
   "outputs": [],
   "source": [
    "value = 100\n",
    "\n",
    "var : int \n",
    "var = value\n",
    "\n",
    "print(var)\n",
    "\n",
    "var1 : int; var1 = value\n",
    "print(var1)"
   ]
  },
  {
   "cell_type": "code",
   "execution_count": null,
   "metadata": {
    "collapsed": false
   },
   "outputs": [],
   "source": [
    "import typing\n",
    "\n",
    "print(typing.List.__bases__)\n",
    "print(issubclass(list,typing.List))\n",
    "print(typing.Tuple.__bases__)\n",
    "print(issubclass(tuple,typing.Tuple))\n",
    "print(typing.Dict.__bases__)\n",
    "print(issubclass(dict,typing.Dict))\n",
    "print(typing.Set.__bases__)\n",
    "print(issubclass(set,typing.Set))\n",
    "print(typing.FrozenSet.__bases__)\n",
    "print(issubclass(frozenset,typing.FrozenSet))"
   ]
  },
  {
   "cell_type": "code",
   "execution_count": null,
   "metadata": {
    "collapsed": false
   },
   "outputs": [],
   "source": [
    "import typing\n",
    "\n",
    "print(typing.Sequence.__bases__)\n",
    "print(typing.ByteString.__bases__)\n",
    "\n",
    "print(issubclass(bytes,typing.ByteString))\n",
    "print(issubclass(bytearray,typing.ByteString))\n",
    "print(issubclass(str,typing.Sequence))\n"
   ]
  },
  {
   "cell_type": "code",
   "execution_count": null,
   "metadata": {
    "collapsed": false
   },
   "outputs": [],
   "source": [
    "var_a : int\n",
    "    \n",
    "print(globals()[\"var_a\"])"
   ]
  },
  {
   "cell_type": "code",
   "execution_count": null,
   "metadata": {
    "collapsed": false
   },
   "outputs": [],
   "source": [
    "var_a : int\n",
    "    \n",
    "def var_set() :\n",
    "    var_a = 100\n",
    "    print(locals())\n",
    "\n",
    "var_set()\n",
    "print(globals()[\"var_a\"])"
   ]
  },
  {
   "cell_type": "code",
   "execution_count": null,
   "metadata": {
    "collapsed": false
   },
   "outputs": [],
   "source": [
    "import itertools as it\n",
    "\n",
    "l = [1,2,3]\n",
    "l1 = [4,5,6]\n",
    "l2 = [7,8,9]\n",
    "\n",
    "def mul3(x,y,z) :\n",
    "    return x*y*z\n",
    "\n",
    "z = zip(l,l1,l2)\n",
    "\n",
    "print(list(z))\n",
    "\n",
    "z = zip(l,l1,l2)\n",
    "s = it.starmap(mul3,z)\n",
    "print(s)\n",
    "print(list(s))"
   ]
  },
  {
   "cell_type": "code",
   "execution_count": null,
   "metadata": {
    "collapsed": false
   },
   "outputs": [],
   "source": [
    "l = [1,2,3,4]\n",
    "ls = iter(l)\n",
    "\n",
    "print(ls)\n",
    "print(type(ls))"
   ]
  },
  {
   "cell_type": "code",
   "execution_count": null,
   "metadata": {
    "collapsed": false
   },
   "outputs": [],
   "source": [
    "s = \"Iterator\"\n",
    "\n",
    "ss = iter(s)\n",
    "\n",
    "print(ss)\n",
    "print(type(ss))"
   ]
  },
  {
   "cell_type": "code",
   "execution_count": null,
   "metadata": {
    "collapsed": false
   },
   "outputs": [],
   "source": [
    "t = 1,2,3,4\n",
    "\n",
    "ts = iter(t)\n",
    "\n",
    "print(ts)\n",
    "print(type(ts))"
   ]
  },
  {
   "cell_type": "code",
   "execution_count": null,
   "metadata": {
    "collapsed": false
   },
   "outputs": [],
   "source": [
    "d = {'a':2, 'b':3, 'c':4}\n",
    "\n",
    "ds = iter(d)\n",
    "\n",
    "print(ds)\n",
    "print(type(ds))"
   ]
  },
  {
   "cell_type": "code",
   "execution_count": null,
   "metadata": {
    "collapsed": false
   },
   "outputs": [],
   "source": [
    "b = b'abc'\n",
    "bs = iter(b)\n",
    "\n",
    "print(bs)\n",
    "print(type(bs))"
   ]
  },
  {
   "cell_type": "code",
   "execution_count": null,
   "metadata": {
    "collapsed": false
   },
   "outputs": [],
   "source": [
    "ba = bytearray(b'abc')\n",
    "bsa = iter(ba)\n",
    "\n",
    "print(bsa)\n",
    "print(type(bsa))"
   ]
  },
  {
   "cell_type": "code",
   "execution_count": null,
   "metadata": {
    "collapsed": false
   },
   "outputs": [],
   "source": [
    "st = {1,2,3}\n",
    "\n",
    "sta = iter(st)\n",
    "\n",
    "print(sta)\n",
    "print(type(sta))"
   ]
  },
  {
   "cell_type": "code",
   "execution_count": null,
   "metadata": {
    "collapsed": false
   },
   "outputs": [],
   "source": [
    "import collections.abc as cols\n",
    "\n",
    "s = \"Hello\"\n",
    "print(issubclass(type(s),cols.Iterable))\n",
    "\n",
    "print(s[0])\n",
    "print(s[2])\n",
    "\n",
    "si = iter(s)\n",
    "print(issubclass(type(si),cols.Iterator))\n",
    "for i in si :\n",
    "    print(i, end=\"\")\n",
    "    \n",
    "print(si)\n",
    "print(next(si))"
   ]
  },
  {
   "cell_type": "code",
   "execution_count": null,
   "metadata": {
    "collapsed": false
   },
   "outputs": [],
   "source": [
    "import itertools as it\n",
    "\n",
    "print(it.accumulate)\n",
    "a = it.accumulate([1,2,3])\n",
    "print(a)"
   ]
  },
  {
   "cell_type": "code",
   "execution_count": null,
   "metadata": {
    "collapsed": false
   },
   "outputs": [],
   "source": [
    "import itertools as it\n",
    "import operator as op\n",
    "\n",
    "print(it.starmap)\n",
    "sm = it.starmap(op.add, [(1,2),(4,5)])\n",
    "print(sm)\n",
    "print(map)\n",
    "mp = map(op.add,[1,2])\n",
    "print(mp)"
   ]
  },
  {
   "cell_type": "code",
   "execution_count": null,
   "metadata": {
    "collapsed": false
   },
   "outputs": [],
   "source": [
    "import itertools as it\n",
    "import operator as op\n",
    "\n",
    "smd = it.starmap(op.add,{1:1,2:2}.items())\n",
    "print(smd)\n",
    "\n",
    "print(next(smd))\n",
    "print(next(smd))\n",
    "print(next(smd))"
   ]
  },
  {
   "cell_type": "code",
   "execution_count": null,
   "metadata": {
    "collapsed": false
   },
   "outputs": [],
   "source": [
    "import itertools as it\n",
    "\n",
    "print(it.chain)"
   ]
  },
  {
   "cell_type": "code",
   "execution_count": null,
   "metadata": {
    "collapsed": false
   },
   "outputs": [],
   "source": [
    "import itertools as it\n",
    "\n",
    "print(it.product)"
   ]
  },
  {
   "cell_type": "code",
   "execution_count": null,
   "metadata": {
    "collapsed": false
   },
   "outputs": [],
   "source": [
    "import itertools as it\n",
    "\n",
    "print(it.zip_longest)\n",
    "print(zip)"
   ]
  },
  {
   "cell_type": "code",
   "execution_count": null,
   "metadata": {
    "collapsed": false
   },
   "outputs": [],
   "source": [
    "import itertools as it\n",
    "\n",
    "print(it.permutations)\n",
    "print(it.combinations)"
   ]
  },
  {
   "cell_type": "code",
   "execution_count": null,
   "metadata": {
    "collapsed": false
   },
   "outputs": [],
   "source": [
    "import itertools as it\n",
    "\n",
    "print(it.repeat)"
   ]
  },
  {
   "cell_type": "code",
   "execution_count": null,
   "metadata": {
    "collapsed": false
   },
   "outputs": [],
   "source": [
    "import itertools as it\n",
    "\n",
    "print(it.cycle)"
   ]
  },
  {
   "cell_type": "code",
   "execution_count": null,
   "metadata": {
    "collapsed": false
   },
   "outputs": [],
   "source": [
    "import itertools as it\n",
    "\n",
    "print(it.count)"
   ]
  },
  {
   "cell_type": "code",
   "execution_count": null,
   "metadata": {
    "collapsed": false
   },
   "outputs": [],
   "source": [
    "import itertools as it\n",
    "\n",
    "print(it.groupby)"
   ]
  },
  {
   "cell_type": "code",
   "execution_count": null,
   "metadata": {
    "collapsed": false
   },
   "outputs": [],
   "source": [
    "gb = it.groupby(\"aaabbccddeeaa\")\n",
    "print(gb)\n",
    "for i in gb :\n",
    "    print(i)"
   ]
  },
  {
   "cell_type": "code",
   "execution_count": null,
   "metadata": {
    "collapsed": false
   },
   "outputs": [],
   "source": [
    "import itertools as it\n",
    "\n",
    "print(it.takewhile)"
   ]
  },
  {
   "cell_type": "code",
   "execution_count": null,
   "metadata": {
    "collapsed": false
   },
   "outputs": [],
   "source": [
    "import itertools as it\n",
    "\n",
    "print(it.dropwhile)"
   ]
  },
  {
   "cell_type": "code",
   "execution_count": null,
   "metadata": {
    "collapsed": false
   },
   "outputs": [],
   "source": [
    "import itertools as it\n",
    "\n",
    "print(it.islice)"
   ]
  },
  {
   "cell_type": "code",
   "execution_count": null,
   "metadata": {
    "collapsed": false
   },
   "outputs": [],
   "source": [
    "import itertools as it\n",
    "\n",
    "print(it.compress)"
   ]
  },
  {
   "cell_type": "code",
   "execution_count": null,
   "metadata": {
    "collapsed": false
   },
   "outputs": [],
   "source": [
    "a = (i for i in range(4))\n",
    "\n",
    "print(type(a))"
   ]
  },
  {
   "cell_type": "code",
   "execution_count": null,
   "metadata": {
    "collapsed": false
   },
   "outputs": [],
   "source": [
    "a = (locals() for i in range(4))\n",
    "\n",
    "print(type(a))"
   ]
  },
  {
   "cell_type": "code",
   "execution_count": null,
   "metadata": {
    "collapsed": false
   },
   "outputs": [],
   "source": [
    "for i in a :\n",
    "    print(i)"
   ]
  },
  {
   "cell_type": "code",
   "execution_count": null,
   "metadata": {
    "collapsed": false
   },
   "outputs": [],
   "source": [
    "def gen(x) :\n",
    "    for i in range(x) :\n",
    "        print(locals())\n",
    "        yield i\n",
    "        \n",
    "b = gen(4)\n",
    "print(type(b))"
   ]
  },
  {
   "cell_type": "code",
   "execution_count": null,
   "metadata": {
    "collapsed": false
   },
   "outputs": [],
   "source": [
    "for i in b :\n",
    "    print(i)"
   ]
  },
  {
   "cell_type": "code",
   "execution_count": null,
   "metadata": {
    "collapsed": true
   },
   "outputs": [],
   "source": [
    "def cor() :\n",
    "    while True :\n",
    "        i = yield\n",
    "        print(\" %s consumed \" % i)\n",
    "        "
   ]
  },
  {
   "cell_type": "code",
   "execution_count": null,
   "metadata": {
    "collapsed": false
   },
   "outputs": [],
   "source": [
    "c = cor()\n",
    "\n",
    "print(type(c))"
   ]
  },
  {
   "cell_type": "code",
   "execution_count": null,
   "metadata": {
    "collapsed": false
   },
   "outputs": [],
   "source": [
    "print(next(c))\n",
    "print(type(c))"
   ]
  },
  {
   "cell_type": "code",
   "execution_count": null,
   "metadata": {
    "collapsed": false
   },
   "outputs": [],
   "source": [
    "c.send(1)"
   ]
  },
  {
   "cell_type": "code",
   "execution_count": null,
   "metadata": {
    "collapsed": true
   },
   "outputs": [],
   "source": [
    "c.close()"
   ]
  },
  {
   "cell_type": "code",
   "execution_count": null,
   "metadata": {
    "collapsed": false
   },
   "outputs": [],
   "source": [
    "print(next(c))"
   ]
  },
  {
   "cell_type": "code",
   "execution_count": null,
   "metadata": {
    "collapsed": false
   },
   "outputs": [],
   "source": [
    "c.send(2)"
   ]
  },
  {
   "cell_type": "code",
   "execution_count": null,
   "metadata": {
    "collapsed": false
   },
   "outputs": [],
   "source": [
    "def cor_rtn() :\n",
    "    while True :\n",
    "        i = yield \n",
    "        print(\" %s consumed \" % i)\n",
    "        yield i \n",
    "\n",
    "    \n",
    "cr = cor_rtn()\n",
    "\n",
    "cr.send(None)\n",
    "\n",
    "a = cr.send(100)\n",
    "\n",
    "print(a)"
   ]
  },
  {
   "cell_type": "code",
   "execution_count": null,
   "metadata": {
    "collapsed": false
   },
   "outputs": [],
   "source": [
    "def cor_rtn() :\n",
    "    i = None\n",
    "    while True :\n",
    "        i = yield i\n",
    "        print(\" %s consumed \" % i)\n",
    "      \n",
    "\n",
    "    \n",
    "cr = cor_rtn()\n",
    "\n",
    "cr.send(None)\n",
    "\n",
    "a = cr.send(100)\n",
    "\n",
    "print(a)"
   ]
  },
  {
   "cell_type": "code",
   "execution_count": null,
   "metadata": {
    "collapsed": false
   },
   "outputs": [],
   "source": [
    "def cor_rtn() :\n",
    "    i = None\n",
    "    i = yield i\n",
    "    print(\" %s consumed \" % i)\n",
    "    \n",
    "c = cor_rtn()\n",
    "next(c)\n",
    "a = c.send(90)\n",
    "      "
   ]
  },
  {
   "cell_type": "code",
   "execution_count": null,
   "metadata": {
    "collapsed": false
   },
   "outputs": [],
   "source": [
    "def cor_rtn() :\n",
    "    i = None\n",
    "    i = yield i\n",
    "    print(\" %s consumed \" % i)\n",
    "    \n",
    "c = cor_rtn()\n",
    "next(c)\n",
    "\n",
    "try : \n",
    "    a = c.send(90)\n",
    "except StopIteration as e :\n",
    "    print(\" coroutine stop\", e)"
   ]
  },
  {
   "cell_type": "code",
   "execution_count": null,
   "metadata": {
    "collapsed": false
   },
   "outputs": [],
   "source": [
    "la = [] \n",
    "\n",
    "def cor_main(x) :\n",
    "    lc = cor_sub(len(x))\n",
    "    lc.send(None)\n",
    "    \n",
    "    while True :\n",
    "        var = yield\n",
    "        lc.send(var)\n",
    "\n",
    "def cor_sub(x) :\n",
    "    \n",
    "    while True  :\n",
    "        var=  yield\n",
    "        la.append(var)\n",
    "    \n",
    "    \n",
    "a = cor_main([1,2,3,4])\n",
    "next(a)\n",
    "\n",
    "for i in[1,2,3,4] :\n",
    "    try :\n",
    "        a.send(i)\n",
    "    except  StopIteration as e :\n",
    "        print(\"exit \")\n",
    "        \n",
    "print(la)\n"
   ]
  },
  {
   "cell_type": "code",
   "execution_count": null,
   "metadata": {
    "collapsed": false
   },
   "outputs": [],
   "source": [
    "la = [] \n",
    "\n",
    "def cor_main(x) :\n",
    "    \n",
    "    while True :\n",
    "        var = yield\n",
    "        x.send(var)\n",
    "\n",
    "def cor_sub(x=None) :\n",
    "    \n",
    "    while True  :\n",
    "        var =  yield\n",
    "        la.append(var)\n",
    "\n",
    "\n",
    "        \n",
    "lc = cor_sub()\n",
    "lc.send(None)\n",
    "    \n",
    "a = cor_main(lc)\n",
    "next(a)\n",
    "\n",
    "\n",
    "a.send(100) \n",
    "print(la)\n"
   ]
  },
  {
   "cell_type": "code",
   "execution_count": null,
   "metadata": {
    "collapsed": false
   },
   "outputs": [],
   "source": [
    "import traceback\n",
    "\n",
    "dir(traceback)\n",
    "        \n",
    "    "
   ]
  },
  {
   "cell_type": "code",
   "execution_count": 12,
   "metadata": {
    "collapsed": false
   },
   "outputs": [
    {
     "ename": "OSError",
     "evalue": " jupyter notebook ",
     "output_type": "error",
     "traceback": [
      "\u001b[0;31m---------------------------------------------------------------------------\u001b[0m",
      "\u001b[0;31mOSError\u001b[0m                                   Traceback (most recent call last)",
      "\u001b[0;32m<ipython-input-12-b410f35b9e57>\u001b[0m in \u001b[0;36m<module>\u001b[0;34m()\u001b[0m\n\u001b[0;32m----> 1\u001b[0;31m \u001b[1;32mraise\u001b[0m \u001b[0mIOError\u001b[0m\u001b[1;33m(\u001b[0m\u001b[1;34m\" jupyter notebook \"\u001b[0m\u001b[1;33m)\u001b[0m\u001b[1;33m\u001b[0m\u001b[0m\n\u001b[0m",
      "\u001b[0;31mOSError\u001b[0m:  jupyter notebook "
     ]
    }
   ],
   "source": [
    "raise IOError(\" jupyter notebook \")"
   ]
  },
  {
   "cell_type": "code",
   "execution_count": 13,
   "metadata": {
    "collapsed": false
   },
   "outputs": [
    {
     "name": "stderr",
     "output_type": "stream",
     "text": [
      "Traceback (most recent call last):\n",
      "  File \"<ipython-input-13-9104e18ff378>\", line 2, in <module>\n",
      "    raise IOError(\" traceback moduel \")\n",
      "OSError:  traceback moduel \n"
     ]
    }
   ],
   "source": [
    "try:\n",
    "    raise IOError(\" traceback moduel \")\n",
    "except:\n",
    "    import traceback\n",
    "    traceback.print_exc()"
   ]
  },
  {
   "cell_type": "code",
   "execution_count": null,
   "metadata": {
    "collapsed": false
   },
   "outputs": [],
   "source": [
    "import traceback\n",
    "import sys\n",
    "\n",
    "try:\n",
    "    raise Exception\n",
    "except Exception as E:\n",
    "    traceback.print_exc(file=sys.stderr)"
   ]
  },
  {
   "cell_type": "code",
   "execution_count": null,
   "metadata": {
    "collapsed": false
   },
   "outputs": [],
   "source": [
    "import logging\n",
    "\n",
    "\n",
    "def func():\n",
    "    try:\n",
    "        raise Exception('Dummy')\n",
    "    except:\n",
    "        logging.exception(\"Something awful happened!\")\n",
    "\n",
    "\n",
    "def func2():\n",
    "    func()\n",
    "\n",
    "\n",
    "func2()"
   ]
  },
  {
   "cell_type": "code",
   "execution_count": null,
   "metadata": {
    "collapsed": false
   },
   "outputs": [],
   "source": [
    "import traceback\n",
    "\n",
    "def a():\n",
    "    b()\n",
    "\n",
    "def b():\n",
    "    try:\n",
    "        c()\n",
    "    except:\n",
    "        traceback.print_exc()\n",
    "\n",
    "def c():\n",
    "    assert False\n",
    "\n",
    "a()"
   ]
  },
  {
   "cell_type": "code",
   "execution_count": null,
   "metadata": {
    "collapsed": false
   },
   "outputs": [],
   "source": [
    "def a():\n",
    "    b()\n",
    "\n",
    "def b():\n",
    "    c()\n",
    "\n",
    "def c():\n",
    "    assert False\n",
    "\n",
    "a()"
   ]
  },
  {
   "cell_type": "code",
   "execution_count": null,
   "metadata": {
    "collapsed": false
   },
   "outputs": [],
   "source": [
    "print(abc)"
   ]
  },
  {
   "cell_type": "code",
   "execution_count": null,
   "metadata": {
    "collapsed": false
   },
   "outputs": [],
   "source": [
    "letters = ['a', 'b', 'c']\n",
    "print(\"Letter #1 is\", letters[0])\n",
    "print(\"Letter #2 is\", letters[1])\n",
    "print(\"Letter #3 is\", letters[2])\n",
    "print(\"Letter #4 is\", letters[3])"
   ]
  },
  {
   "cell_type": "code",
   "execution_count": 3,
   "metadata": {
    "collapsed": false
   },
   "outputs": [
    {
     "name": "stdout",
     "output_type": "stream",
     "text": [
      ">>> abc\n",
      "Exception in user code:\n",
      "------------------------------------------------------------\n",
      "Traceback (most recent call last):\n",
      "  File \"<ipython-input-3-b6906c4fddee>\", line 9, in run_user_code\n",
      "    exec(source) in envdir\n",
      "  File \"<string>\", line 1, in <module>\n",
      "NameError: name 'abc' is not defined\n",
      "------------------------------------------------------------\n",
      ">>> def\n",
      "Exception in user code:\n",
      "------------------------------------------------------------\n",
      "Traceback (most recent call last):\n",
      "  File \"<ipython-input-3-b6906c4fddee>\", line 9, in run_user_code\n",
      "    exec(source) in envdir\n",
      "  File \"<string>\", line 1\n",
      "    def\n",
      "      ^\n",
      "SyntaxError: invalid syntax\n",
      "------------------------------------------------------------\n",
      ">>> exit\n"
     ]
    },
    {
     "ename": "SystemExit",
     "evalue": "",
     "output_type": "error",
     "traceback": [
      "An exception has occurred, use %tb to see the full traceback.\n",
      "\u001b[0;31mSystemExit\u001b[0m\n"
     ]
    },
    {
     "name": "stderr",
     "output_type": "stream",
     "text": [
      "C:\\ProgramData\\Anaconda3\\lib\\site-packages\\IPython\\core\\interactiveshell.py:2889: UserWarning: To exit: use 'exit', 'quit', or Ctrl-D.\n",
      "  warn(\"To exit: use 'exit', 'quit', or Ctrl-D.\", stacklevel=1)\n"
     ]
    }
   ],
   "source": [
    "import sys, traceback\n",
    "\n",
    "def run_user_code(envdir):\n",
    "    source = input(\">>> \")\n",
    "    if source == \"exit\" :\n",
    "        sys.exit()\n",
    "        \n",
    "    try:\n",
    "        exec(source) in envdir\n",
    "    except:\n",
    "        print(\"Exception in user code:\")\n",
    "        print( '-'*60)\n",
    "        traceback.print_exc(file=sys.stdout)\n",
    "        print('-'*60)\n",
    "\n",
    "envdir = {}\n",
    "while 1:\n",
    "    run_user_code(globals())"
   ]
  },
  {
   "cell_type": "code",
   "execution_count": 5,
   "metadata": {
    "collapsed": false
   },
   "outputs": [
    {
     "name": "stderr",
     "output_type": "stream",
     "text": [
      "Traceback (most recent call last):\n",
      "  File \"<ipython-input-5-98baed294741>\", line 4, in <module>\n",
      "    raise SyntaxError(\"example\")\n",
      "  File \"<string>\", line None\n",
      "SyntaxError: example\n"
     ]
    }
   ],
   "source": [
    "import traceback\n",
    "\n",
    "try:\n",
    "    raise SyntaxError(\"example\")\n",
    "except:\n",
    "    traceback.print_exc()"
   ]
  },
  {
   "cell_type": "code",
   "execution_count": 9,
   "metadata": {
    "collapsed": false
   },
   "outputs": [
    {
     "name": "stdout",
     "output_type": "stream",
     "text": [
      "failure! the error was: Traceback (most recent call last):\n",
      "  File \"<ipython-input-9-308d14a305cd>\", line 5, in <module>\n",
      "    raise IOError(\"an i/o error occurred\")\n",
      "OSError: an i/o error occurred\n",
      "\n"
     ]
    }
   ],
   "source": [
    "import traceback\n",
    "import io\n",
    "\n",
    "try:\n",
    "    raise IOError(\"an i/o error occurred\")\n",
    "except:\n",
    "    fp = io.StringIO()\n",
    "    traceback.print_exc(file=fp)\n",
    "    message = fp.getvalue()\n",
    "\n",
    "    print(\"failure! the error was:\", message)"
   ]
  },
  {
   "cell_type": "code",
   "execution_count": 19,
   "metadata": {
    "collapsed": false
   },
   "outputs": [
    {
     "name": "stdout",
     "output_type": "stream",
     "text": [
      "(<class 'OSError'>,\n",
      " OSError('an i/o error occurred',),\n",
      " <traceback object at 0x0000000004B8ACC8>)\n",
      "[<FrameSummary file <ipython-input-19-27a955563e5c>, line 9 in <module>>,\n",
      " <FrameSummary file <ipython-input-19-27a955563e5c>, line 6 in function>]\n",
      "<ipython-input-19-27a955563e5c>\n",
      "9\n",
      "function()\n",
      "<ipython-input-19-27a955563e5c>\n",
      "6\n",
      "raise IOError(\"an i/o error occurred\")\n"
     ]
    }
   ],
   "source": [
    "import traceback\n",
    "import sys\n",
    "import pprint\n",
    "\n",
    "def function():\n",
    "    raise IOError(\"an i/o error occurred\")\n",
    "\n",
    "try:\n",
    "    function()\n",
    "except:\n",
    "    info = sys.exc_info()\n",
    "    pprint.pprint(info)\n",
    "    pprint.pprint(traceback.extract_tb(info[2]))\n",
    "    for file, lineno, function, text in traceback.extract_tb(info[2]):\n",
    "        print(file)\n",
    "        print(lineno)\n",
    "        print(text)"
   ]
  },
  {
   "cell_type": "code",
   "execution_count": 18,
   "metadata": {
    "collapsed": false
   },
   "outputs": [
    {
     "name": "stdout",
     "output_type": "stream",
     "text": [
      "<ipython-input-18-39eae8380ab4> line 8 in <module>\n",
      "=> 'function()'\n",
      "<ipython-input-18-39eae8380ab4> line 5 in function\n",
      "=> 'raise IOError(\"an i/o error occurred\")'\n",
      "** <class 'OSError'>: an i/o error occurred\n"
     ]
    }
   ],
   "source": [
    "import traceback\n",
    "import sys\n",
    "\n",
    "def function():\n",
    "    raise IOError(\"an i/o error occurred\")\n",
    "\n",
    "try:\n",
    "    function()\n",
    "except:\n",
    "    info = sys.exc_info()\n",
    " \n",
    "    for file, lineno, function, text in traceback.extract_tb(info[2]):\n",
    "        print(file, \"line\", lineno, \"in\", function)\n",
    "        print(\"=>\", repr(text))\n",
    "    print(\"** %s: %s\" % info[:2])"
   ]
  },
  {
   "cell_type": "code",
   "execution_count": 20,
   "metadata": {
    "collapsed": false
   },
   "outputs": [
    {
     "data": {
      "text/plain": [
       "['FrameSummary',\n",
       " 'StackSummary',\n",
       " 'TracebackException',\n",
       " '__all__',\n",
       " '__builtins__',\n",
       " '__cached__',\n",
       " '__doc__',\n",
       " '__file__',\n",
       " '__loader__',\n",
       " '__name__',\n",
       " '__package__',\n",
       " '__spec__',\n",
       " '_cause_message',\n",
       " '_context_message',\n",
       " '_format_final_exc_line',\n",
       " '_some_str',\n",
       " 'clear_frames',\n",
       " 'collections',\n",
       " 'extract_stack',\n",
       " 'extract_tb',\n",
       " 'format_exc',\n",
       " 'format_exception',\n",
       " 'format_exception_only',\n",
       " 'format_list',\n",
       " 'format_stack',\n",
       " 'format_tb',\n",
       " 'itertools',\n",
       " 'linecache',\n",
       " 'print_exc',\n",
       " 'print_exception',\n",
       " 'print_last',\n",
       " 'print_list',\n",
       " 'print_stack',\n",
       " 'print_tb',\n",
       " 'sys',\n",
       " 'walk_stack',\n",
       " 'walk_tb']"
      ]
     },
     "execution_count": 20,
     "metadata": {},
     "output_type": "execute_result"
    }
   ],
   "source": [
    "dir(traceback)"
   ]
  },
  {
   "cell_type": "code",
   "execution_count": 29,
   "metadata": {
    "collapsed": false
   },
   "outputs": [
    {
     "name": "stderr",
     "output_type": "stream",
     "text": [
      "Traceback (most recent call last):\n",
      "  File \"<ipython-input-29-9d992dc7e128>\", line 8, in <module>\n",
      "    function()\n",
      "  File \"<ipython-input-29-9d992dc7e128>\", line 5, in function\n",
      "    raise IOError(\"an i/o error occurred\")\n",
      "OSError: an i/o error occurred\n"
     ]
    }
   ],
   "source": [
    "import traceback as tb\n",
    "import sys\n",
    "\n",
    "def function():\n",
    "    raise IOError(\"an i/o error occurred\")\n",
    "\n",
    "try:\n",
    "    function()\n",
    "except IOError as e:\n",
    "    info = sys.exc_info()\n",
    "    tb.print_exception(IOError, e, info[2] )"
   ]
  },
  {
   "cell_type": "code",
   "execution_count": 26,
   "metadata": {
    "collapsed": false
   },
   "outputs": [
    {
     "name": "stdout",
     "output_type": "stream",
     "text": [
      "Help on function print_exception in module traceback:\n",
      "\n",
      "print_exception(etype, value, tb, limit=None, file=None, chain=True)\n",
      "    Print exception up to 'limit' stack trace entries from 'tb' to 'file'.\n",
      "    \n",
      "    This differs from print_tb() in the following ways: (1) if\n",
      "    traceback is not None, it prints a header \"Traceback (most recent\n",
      "    call last):\"; (2) it prints the exception type and value after the\n",
      "    stack trace; (3) if type is SyntaxError and value has the\n",
      "    appropriate format, it prints the line where the syntax error\n",
      "    occurred with a caret on the next line indicating the approximate\n",
      "    position of the error.\n",
      "\n"
     ]
    }
   ],
   "source": [
    "help(tb.print_exception)"
   ]
  },
  {
   "cell_type": "code",
   "execution_count": 25,
   "metadata": {
    "collapsed": false
   },
   "outputs": [
    {
     "name": "stderr",
     "output_type": "stream",
     "text": [
      "Traceback (most recent call last):\n",
      "  File \"<ipython-input-25-3c1c0528e5f0>\", line 8, in <module>\n",
      "    function()\n",
      "  File \"<ipython-input-25-3c1c0528e5f0>\", line 5, in function\n",
      "    raise IOError(\"an i/o error occurred\")\n",
      "OSError: an i/o error occurred\n"
     ]
    }
   ],
   "source": [
    "import traceback as tb\n",
    "import sys\n",
    "\n",
    "def function():\n",
    "    raise IOError(\"an i/o error occurred\")\n",
    "\n",
    "try:\n",
    "    function()\n",
    "except:\n",
    "    tb.print_exc()"
   ]
  },
  {
   "cell_type": "code",
   "execution_count": 30,
   "metadata": {
    "collapsed": false
   },
   "outputs": [
    {
     "data": {
      "text/plain": [
       "['__cause__',\n",
       " '__class__',\n",
       " '__context__',\n",
       " '__delattr__',\n",
       " '__dict__',\n",
       " '__dir__',\n",
       " '__doc__',\n",
       " '__eq__',\n",
       " '__format__',\n",
       " '__ge__',\n",
       " '__getattribute__',\n",
       " '__gt__',\n",
       " '__hash__',\n",
       " '__init__',\n",
       " '__init_subclass__',\n",
       " '__le__',\n",
       " '__lt__',\n",
       " '__ne__',\n",
       " '__new__',\n",
       " '__reduce__',\n",
       " '__reduce_ex__',\n",
       " '__repr__',\n",
       " '__setattr__',\n",
       " '__setstate__',\n",
       " '__sizeof__',\n",
       " '__str__',\n",
       " '__subclasshook__',\n",
       " '__suppress_context__',\n",
       " '__traceback__',\n",
       " 'args',\n",
       " 'with_traceback']"
      ]
     },
     "execution_count": 30,
     "metadata": {},
     "output_type": "execute_result"
    }
   ],
   "source": [
    "dir(Exception)"
   ]
  },
  {
   "cell_type": "code",
   "execution_count": 38,
   "metadata": {
    "collapsed": false
   },
   "outputs": [
    {
     "data": {
      "text/plain": [
       "<attribute 'args' of 'BaseException' objects>"
      ]
     },
     "execution_count": 38,
     "metadata": {},
     "output_type": "execute_result"
    }
   ],
   "source": [
    "Exception.args"
   ]
  },
  {
   "cell_type": "code",
   "execution_count": null,
   "metadata": {
    "collapsed": true
   },
   "outputs": [],
   "source": [
    "Excepction.__base"
   ]
  },
  {
   "cell_type": "code",
   "execution_count": 34,
   "metadata": {
    "collapsed": false
   },
   "outputs": [
    {
     "ename": "TypeError",
     "evalue": "descriptor 'with_traceback' of 'BaseException' object needs an argument",
     "output_type": "error",
     "traceback": [
      "\u001b[0;31m---------------------------------------------------------------------------\u001b[0m",
      "\u001b[0;31mTypeError\u001b[0m                                 Traceback (most recent call last)",
      "\u001b[0;32m<ipython-input-34-51bb28bd2338>\u001b[0m in \u001b[0;36m<module>\u001b[0;34m()\u001b[0m\n\u001b[0;32m----> 1\u001b[0;31m \u001b[0mException\u001b[0m\u001b[1;33m.\u001b[0m\u001b[0mwith_traceback\u001b[0m\u001b[1;33m(\u001b[0m\u001b[1;33m)\u001b[0m\u001b[1;33m\u001b[0m\u001b[0m\n\u001b[0m",
      "\u001b[0;31mTypeError\u001b[0m: descriptor 'with_traceback' of 'BaseException' object needs an argument"
     ]
    }
   ],
   "source": [
    "Exception.with_traceback()"
   ]
  },
  {
   "cell_type": "code",
   "execution_count": 35,
   "metadata": {
    "collapsed": false
   },
   "outputs": [
    {
     "data": {
      "text/plain": [
       "['__cause__',\n",
       " '__class__',\n",
       " '__context__',\n",
       " '__delattr__',\n",
       " '__dict__',\n",
       " '__dir__',\n",
       " '__doc__',\n",
       " '__eq__',\n",
       " '__format__',\n",
       " '__ge__',\n",
       " '__getattribute__',\n",
       " '__gt__',\n",
       " '__hash__',\n",
       " '__init__',\n",
       " '__init_subclass__',\n",
       " '__le__',\n",
       " '__lt__',\n",
       " '__ne__',\n",
       " '__new__',\n",
       " '__reduce__',\n",
       " '__reduce_ex__',\n",
       " '__repr__',\n",
       " '__setattr__',\n",
       " '__setstate__',\n",
       " '__sizeof__',\n",
       " '__str__',\n",
       " '__subclasshook__',\n",
       " '__suppress_context__',\n",
       " '__traceback__',\n",
       " 'args',\n",
       " 'with_traceback']"
      ]
     },
     "execution_count": 35,
     "metadata": {},
     "output_type": "execute_result"
    }
   ],
   "source": [
    "dir(BaseException)"
   ]
  },
  {
   "cell_type": "code",
   "execution_count": 39,
   "metadata": {
    "collapsed": false
   },
   "outputs": [
    {
     "data": {
      "text/plain": [
       "['__cause__',\n",
       " '__class__',\n",
       " '__context__',\n",
       " '__delattr__',\n",
       " '__dict__',\n",
       " '__dir__',\n",
       " '__doc__',\n",
       " '__eq__',\n",
       " '__format__',\n",
       " '__ge__',\n",
       " '__getattribute__',\n",
       " '__gt__',\n",
       " '__hash__',\n",
       " '__init__',\n",
       " '__init_subclass__',\n",
       " '__le__',\n",
       " '__lt__',\n",
       " '__ne__',\n",
       " '__new__',\n",
       " '__reduce__',\n",
       " '__reduce_ex__',\n",
       " '__repr__',\n",
       " '__setattr__',\n",
       " '__setstate__',\n",
       " '__sizeof__',\n",
       " '__str__',\n",
       " '__subclasshook__',\n",
       " '__suppress_context__',\n",
       " '__traceback__',\n",
       " 'args',\n",
       " 'characters_written',\n",
       " 'errno',\n",
       " 'filename',\n",
       " 'filename2',\n",
       " 'strerror',\n",
       " 'winerror',\n",
       " 'with_traceback']"
      ]
     },
     "execution_count": 39,
     "metadata": {},
     "output_type": "execute_result"
    }
   ],
   "source": [
    "dir(IOError)"
   ]
  },
  {
   "cell_type": "code",
   "execution_count": 41,
   "metadata": {
    "collapsed": false
   },
   "outputs": [
    {
     "data": {
      "text/plain": [
       "('abcd',)"
      ]
     },
     "execution_count": 41,
     "metadata": {},
     "output_type": "execute_result"
    }
   ],
   "source": [
    "e = Exception(\"abcd\")\n",
    "\n",
    "e.args"
   ]
  },
  {
   "cell_type": "code",
   "execution_count": 46,
   "metadata": {
    "collapsed": false
   },
   "outputs": [
    {
     "name": "stdout",
     "output_type": "stream",
     "text": [
      "error name   Error\n",
      "error no    1\n",
      "error message   user error\n"
     ]
    }
   ],
   "source": [
    "class UserError(Exception) :\n",
    "    \n",
    "    def __init__(self,name,no,message) :\n",
    "        self = Exception(name,no,message)\n",
    "        \n",
    "try :\n",
    "    raise UserError(\" Error\", 1,\" user error\")\n",
    "except UserError as e :\n",
    "    print(\"error name \", e.args[0])\n",
    "    print(\"error no   \", e.args[1])\n",
    "    print(\"error message \", e.args[2])"
   ]
  },
  {
   "cell_type": "code",
   "execution_count": 49,
   "metadata": {
    "collapsed": false
   },
   "outputs": [
    {
     "name": "stdout",
     "output_type": "stream",
     "text": [
      "('iterator stop', '4', ' stop')\n",
      "iterator stop\n"
     ]
    }
   ],
   "source": [
    "si = StopIteration(\"iterator stop\",'4',\" stop\")\n",
    "\n",
    "print(si.args)\n",
    "print(si.value)"
   ]
  },
  {
   "cell_type": "code",
   "execution_count": 52,
   "metadata": {
    "collapsed": false
   },
   "outputs": [
    {
     "name": "stdout",
     "output_type": "stream",
     "text": [
      "<class 'io.IOBase'>\n",
      "<class 'abc.ABCMeta'>\n",
      "(<class '_io._IOBase'>,)\n"
     ]
    }
   ],
   "source": [
    "import io\n",
    "\n",
    "print(io.IOBase)\n",
    "print(io.IOBase.__class__)\n",
    "print(io.IOBase.__bases__)"
   ]
  },
  {
   "cell_type": "code",
   "execution_count": 55,
   "metadata": {
    "collapsed": false
   },
   "outputs": [
    {
     "name": "stdout",
     "output_type": "stream",
     "text": [
      "<class 'io.RawIOBase'>\n",
      "<class 'abc.ABCMeta'>\n",
      "(<class '_io._RawIOBase'>, <class 'io.IOBase'>)\n",
      "True\n"
     ]
    }
   ],
   "source": [
    "import io\n",
    "\n",
    "print(io.RawIOBase)\n",
    "print(io.RawIOBase.__class__)\n",
    "print(io.RawIOBase.__bases__)\n",
    "\n",
    "print(issubclass(io.RawIOBase, io.IOBase))"
   ]
  },
  {
   "cell_type": "code",
   "execution_count": 56,
   "metadata": {
    "collapsed": false
   },
   "outputs": [
    {
     "name": "stdout",
     "output_type": "stream",
     "text": [
      "<class 'io.BufferedIOBase'>\n",
      "<class 'abc.ABCMeta'>\n",
      "(<class '_io._BufferedIOBase'>, <class 'io.IOBase'>)\n",
      "True\n"
     ]
    }
   ],
   "source": [
    "import io\n",
    "\n",
    "print(io.BufferedIOBase)\n",
    "print(io.BufferedIOBase.__class__)\n",
    "print(io.BufferedIOBase.__bases__)\n",
    "\n",
    "print(issubclass(io.BufferedIOBase, io.IOBase))"
   ]
  },
  {
   "cell_type": "code",
   "execution_count": 59,
   "metadata": {
    "collapsed": false
   },
   "outputs": [
    {
     "name": "stdout",
     "output_type": "stream",
     "text": [
      "C:\\Users\\06411\\Documents\\GitHub\\python_syntax\n"
     ]
    }
   ],
   "source": [
    "!cd"
   ]
  },
  {
   "cell_type": "code",
   "execution_count": 58,
   "metadata": {
    "collapsed": false
   },
   "outputs": [
    {
     "name": "stdout",
     "output_type": "stream",
     "text": [
      "<class 'io.TextIOBase'>\n",
      "<class 'abc.ABCMeta'>\n",
      "(<class '_io._TextIOBase'>, <class 'io.IOBase'>)\n",
      "True\n"
     ]
    }
   ],
   "source": [
    "import io\n",
    "\n",
    "print(io.TextIOBase)\n",
    "print(io.TextIOBase.__class__)\n",
    "print(io.TextIOBase.__bases__)\n",
    "\n",
    "print(issubclass(io.TextIOBase, io.IOBase))"
   ]
  },
  {
   "cell_type": "code",
   "execution_count": 65,
   "metadata": {
    "collapsed": false
   },
   "outputs": [],
   "source": [
    "import matplotlib.pyplot as plt\n",
    "%matplotlib inline"
   ]
  },
  {
   "cell_type": "code",
   "execution_count": 76,
   "metadata": {
    "collapsed": false
   },
   "outputs": [
    {
     "name": "stdout",
     "output_type": "stream",
     "text": [
      "<_io.FileIO name='내사진2' mode='rb' closefd=True>\n"
     ]
    },
    {
     "data": {
      "image/png": "[encoded data removed]",
      "text/plain": [
       "<matplotlib.figure.Figure at 0x890f048>"
      ]
     },
     "metadata": {},
     "output_type": "display_data"
    }
   ],
   "source": [
    "import matplotlib.pyplot as plt\n",
    "import matplotlib.image as mpimg\n",
    "\n",
    "\n",
    "a = open(\"내사진2\",\"rb\",buffering=0)\n",
    "print(a)\n",
    "\n",
    "plt.imshow(mpimg.imread(a))\n",
    "plt.show()"
   ]
  },
  {
   "cell_type": "code",
   "execution_count": 69,
   "metadata": {
    "collapsed": false
   },
   "outputs": [
    {
     "name": "stdout",
     "output_type": "stream",
     "text": [
      "<class 'numpy.ndarray'>\n"
     ]
    },
    {
     "data": {
      "image/png": "[encoded data removed]",
      "text/plain": [
       "<matplotlib.figure.Figure at 0x7d815c0>"
      ]
     },
     "metadata": {},
     "output_type": "display_data"
    }
   ],
   "source": [
    "import matplotlib.pyplot as plt\n",
    "import matplotlib.image as mpimg\n",
    "image = mpimg.imread(\"image.jpg\")\n",
    "print(type(image))\n",
    "plt.imshow(image)\n",
    "plt.show()"
   ]
  },
  {
   "cell_type": "code",
   "execution_count": 89,
   "metadata": {
    "collapsed": false
   },
   "outputs": [
    {
     "name": "stdout",
     "output_type": "stream",
     "text": [
      "Overwriting data.txt\n"
     ]
    }
   ],
   "source": [
    "%%writefile data.txt\n",
    "That information can greatly assist in detecting the cause of your error."
   ]
  },
  {
   "cell_type": "code",
   "execution_count": 87,
   "metadata": {
    "collapsed": false
   },
   "outputs": [
    {
     "name": "stdout",
     "output_type": "stream",
     "text": [
      "<_io.BufferedReader name='data.txt'>\n",
      "<_io.BytesIO object at 0x0000000008D05D58>\n",
      "True\n",
      "False\n",
      "False\n",
      "False\n"
     ]
    }
   ],
   "source": [
    "import io\n",
    "\n",
    "a = open(\"data.txt\",'rb') \n",
    "print(a)\n",
    "\n",
    "b = io.BytesIO(a.read())\n",
    "print(b)\n",
    "print(issubclass(io.BytesIO, io.BufferedIOBase))\n",
    "print(issubclass(io.BytesIO, io.BufferedReader))\n",
    "print(issubclass(io.BytesIO, io.BufferedRandom))\n",
    "print(issubclass(io.BytesIO, io.BufferedRWPair))"
   ]
  },
  {
   "cell_type": "code",
   "execution_count": 97,
   "metadata": {
    "collapsed": false
   },
   "outputs": [
    {
     "name": "stdout",
     "output_type": "stream",
     "text": [
      "<_io.TextIOWrapper name='data.txt' mode='rt' encoding='cp949'>\n",
      "<_io.StringIO object at 0x00000000083B4798>\n",
      "False\n",
      "True\n",
      "True\n",
      "False\n"
     ]
    }
   ],
   "source": [
    "import io\n",
    "\n",
    "a = open(\"data.txt\",'rt') \n",
    "print(a)\n",
    "\n",
    "b = io.StringIO(a.read())\n",
    "print(b)\n",
    "\n",
    "\n",
    "print(issubclass(io.TextIOWrapper, io.FileIO))\n",
    "\n",
    "print(issubclass(io.StringIO, io.IOBase))\n",
    "print(issubclass(io.StringIO, io.TextIOBase))\n",
    "print(issubclass(io.StringIO, io.TextIOWrapper))"
   ]
  },
  {
   "cell_type": "code",
   "execution_count": 95,
   "metadata": {
    "collapsed": false
   },
   "outputs": [
    {
     "data": {
      "text/plain": [
       "(_io._TextIOBase,)"
      ]
     },
     "execution_count": 95,
     "metadata": {},
     "output_type": "execute_result"
    }
   ],
   "source": [
    "type(b).__bases__"
   ]
  },
  {
   "cell_type": "code",
   "execution_count": 98,
   "metadata": {
    "collapsed": false
   },
   "outputs": [
    {
     "name": "stdout",
     "output_type": "stream",
     "text": [
      "Writing data_text.txt\n"
     ]
    }
   ],
   "source": [
    "%%writefile data_text.txt\n",
    "Hello world\n",
    "stop"
   ]
  },
  {
   "cell_type": "code",
   "execution_count": 99,
   "metadata": {
    "collapsed": false
   },
   "outputs": [
    {
     "name": "stdout",
     "output_type": "stream",
     "text": [
      "b'Hello world\\r\\n'\n",
      "b'stop'\n"
     ]
    }
   ],
   "source": [
    "f = open(\"data_text.txt\",\"rb\")\n",
    "\n",
    "for i in f :\n",
    "    print(i)"
   ]
  },
  {
   "cell_type": "code",
   "execution_count": 108,
   "metadata": {
    "collapsed": false
   },
   "outputs": [
    {
     "name": "stdout",
     "output_type": "stream",
     "text": [
      "True\n",
      "True\n",
      "False\n"
     ]
    }
   ],
   "source": [
    "import collections.abc as cols\n",
    "\n",
    "f = open(\"data_text.txt\",\"rb\")\n",
    "\n",
    "print(issubclass(type(f), cols.Iterable))\n",
    "print(issubclass(type(f), cols.Iterator))\n",
    "print(issubclass(type(f), cols.Generator))"
   ]
  },
  {
   "cell_type": "code",
   "execution_count": 100,
   "metadata": {
    "collapsed": false
   },
   "outputs": [
    {
     "name": "stdout",
     "output_type": "stream",
     "text": [
      "Writing data_text1.txt\n"
     ]
    }
   ],
   "source": [
    "%%writefile data_text1.txt\n",
    "Hello world\n",
    "stop"
   ]
  },
  {
   "cell_type": "code",
   "execution_count": 101,
   "metadata": {
    "collapsed": false
   },
   "outputs": [
    {
     "name": "stdout",
     "output_type": "stream",
     "text": [
      "<class '_io.TextIOWrapper'>\n"
     ]
    }
   ],
   "source": [
    "f = open(\"data_text1.txt\",'r')\n",
    "\n",
    "print(type(f))"
   ]
  },
  {
   "cell_type": "code",
   "execution_count": 104,
   "metadata": {
    "collapsed": false
   },
   "outputs": [
    {
     "name": "stdout",
     "output_type": "stream",
     "text": [
      "data_text1.txt\n",
      "None\n",
      "r\n",
      "cp949\n"
     ]
    }
   ],
   "source": [
    "print(f.name)\n",
    "print(repr(f.newlines))\n",
    "print(f.mode)\n",
    "print(f.encoding)"
   ]
  },
  {
   "cell_type": "code",
   "execution_count": 111,
   "metadata": {
    "collapsed": false
   },
   "outputs": [
    {
     "name": "stdout",
     "output_type": "stream",
     "text": [
      "bBuhHiIlLqQfd\n"
     ]
    }
   ],
   "source": [
    "import array\n",
    "\n",
    "print(array.typecodes)"
   ]
  },
  {
   "cell_type": "code",
   "execution_count": 110,
   "metadata": {
    "collapsed": false
   },
   "outputs": [
    {
     "data": {
      "text/plain": [
       "['ArrayType',\n",
       " '__doc__',\n",
       " '__loader__',\n",
       " '__name__',\n",
       " '__package__',\n",
       " '__spec__',\n",
       " '_array_reconstructor',\n",
       " 'array',\n",
       " 'typecodes']"
      ]
     },
     "execution_count": 110,
     "metadata": {},
     "output_type": "execute_result"
    }
   ],
   "source": [
    "dir(array)"
   ]
  },
  {
   "cell_type": "code",
   "execution_count": 114,
   "metadata": {
    "collapsed": false
   },
   "outputs": [
    {
     "name": "stdout",
     "output_type": "stream",
     "text": [
      "<class 'array.array'>\n",
      "array('b', [1, 2, 3, 4])\n"
     ]
    }
   ],
   "source": [
    "import array\n",
    "\n",
    "a = array.array('b',[1,2,3,4])\n",
    "print(type(a))\n",
    "\n",
    "print(a)"
   ]
  },
  {
   "cell_type": "code",
   "execution_count": 118,
   "metadata": {
    "collapsed": false
   },
   "outputs": [
    {
     "name": "stdout",
     "output_type": "stream",
     "text": [
      "<class 'array.array'>\n",
      "b'\\x01\\x02\\x03\\x04'\n",
      "1\n",
      "<class 'array.array'>\n",
      "b'\\x01\\x02\\x03\\x04'\n",
      "1\n"
     ]
    }
   ],
   "source": [
    "import array\n",
    "\n",
    "b = array.array('b',[1,2,3,4])\n",
    "print(type(b))\n",
    "print(b.tobytes())\n",
    "print(b.itemsize)\n",
    "B = array.array('B',[1,2,3,4])\n",
    "print(type(B))\n",
    "print(B.tobytes())\n",
    "print(B.itemsize)"
   ]
  },
  {
   "cell_type": "code",
   "execution_count": 124,
   "metadata": {
    "collapsed": false
   },
   "outputs": [
    {
     "name": "stdout",
     "output_type": "stream",
     "text": [
      "<class 'array.array'>\n",
      "b'H\\x00e\\x00l\\x00l\\x00o\\x00'\n",
      "2\n"
     ]
    }
   ],
   "source": [
    "import array\n",
    "\n",
    "u = array.array('u',\"Hello\")\n",
    "print(type(u))\n",
    "print(u.tobytes())\n",
    "print(u.itemsize)"
   ]
  },
  {
   "cell_type": "code",
   "execution_count": 127,
   "metadata": {
    "collapsed": false
   },
   "outputs": [
    {
     "name": "stdout",
     "output_type": "stream",
     "text": [
      "<class 'array.array'>\n",
      "b'\\x01\\x00\\x00\\x00\\x02\\x00\\x00\\x00\\x03\\x00\\x00\\x00\\x04\\x00\\x00\\x00'\n",
      "4\n",
      "<class 'array.array'>\n",
      "b'\\x01\\x00\\x00\\x00\\x02\\x00\\x00\\x00\\x03\\x00\\x00\\x00\\x04\\x00\\x00\\x00'\n",
      "4\n"
     ]
    }
   ],
   "source": [
    "import array\n",
    "\n",
    "b = array.array('l',[1,2,3,4])\n",
    "print(type(b))\n",
    "print(b.tobytes())\n",
    "print(b.itemsize)\n",
    "B = array.array('L',[1,2,3,4])\n",
    "print(type(B))\n",
    "print(B.tobytes())\n",
    "print(B.itemsize)"
   ]
  },
  {
   "cell_type": "code",
   "execution_count": 130,
   "metadata": {
    "collapsed": false
   },
   "outputs": [
    {
     "name": "stdout",
     "output_type": "stream",
     "text": [
      "<class 'array.array'>\n",
      "b'\\x00\\x00\\x80?\\x00\\x00\\x00@'\n",
      "4\n",
      "<class 'array.array'>\n",
      "b'\\x00\\x00\\x00\\x00\\x00\\x00\\xf0?\\x00\\x00\\x00\\x00\\x00\\x00\\x00@'\n",
      "8\n"
     ]
    }
   ],
   "source": [
    "import array\n",
    "\n",
    "b = array.array('f',[1,2])\n",
    "print(type(b))\n",
    "print(b.tobytes())\n",
    "print(b.itemsize)\n",
    "B = array.array('d',[1,2])\n",
    "print(type(B))\n",
    "print(B.tobytes())\n",
    "print(B.itemsize)"
   ]
  },
  {
   "cell_type": "code",
   "execution_count": 136,
   "metadata": {
    "collapsed": false
   },
   "outputs": [
    {
     "name": "stdout",
     "output_type": "stream",
     "text": [
      "143928136\n",
      "<class 'memoryview'>\n",
      "143928136\n"
     ]
    }
   ],
   "source": [
    "s = b\"hello\"\n",
    "print(id(s))\n",
    "t = memoryview(s)\n",
    "\n",
    "print(type(t))\n",
    "print(id(t.obj))"
   ]
  },
  {
   "cell_type": "code",
   "execution_count": 137,
   "metadata": {
    "collapsed": false
   },
   "outputs": [
    {
     "ename": "TypeError",
     "evalue": "write() argument must be str, not list",
     "output_type": "error",
     "traceback": [
      "\u001b[0;31m---------------------------------------------------------------------------\u001b[0m",
      "\u001b[0;31mTypeError\u001b[0m                                 Traceback (most recent call last)",
      "\u001b[0;32m<ipython-input-137-8178351f8ffa>\u001b[0m in \u001b[0;36m<module>\u001b[0;34m()\u001b[0m\n\u001b[1;32m      3\u001b[0m \u001b[0mf\u001b[0m \u001b[1;33m=\u001b[0m \u001b[0mopen\u001b[0m\u001b[1;33m(\u001b[0m\u001b[1;34m\"list.txt\"\u001b[0m\u001b[1;33m,\u001b[0m\u001b[1;34m\"wt\"\u001b[0m\u001b[1;33m)\u001b[0m\u001b[1;33m\u001b[0m\u001b[0m\n\u001b[1;32m      4\u001b[0m \u001b[1;33m\u001b[0m\u001b[0m\n\u001b[0;32m----> 5\u001b[0;31m \u001b[0mf\u001b[0m\u001b[1;33m.\u001b[0m\u001b[0mwrite\u001b[0m\u001b[1;33m(\u001b[0m\u001b[0ml\u001b[0m\u001b[1;33m)\u001b[0m\u001b[1;33m\u001b[0m\u001b[0m\n\u001b[0m\u001b[1;32m      6\u001b[0m \u001b[0mf\u001b[0m\u001b[1;33m.\u001b[0m\u001b[0mclose\u001b[0m\u001b[1;33m(\u001b[0m\u001b[1;33m)\u001b[0m\u001b[1;33m\u001b[0m\u001b[0m\n",
      "\u001b[0;31mTypeError\u001b[0m: write() argument must be str, not list"
     ]
    }
   ],
   "source": [
    "l = [1,3,4]\n",
    "\n",
    "f = open(\"list.txt\",\"wt\")\n",
    "\n",
    "f.write(l)\n",
    "f.close()"
   ]
  },
  {
   "cell_type": "code",
   "execution_count": 140,
   "metadata": {
    "collapsed": false
   },
   "outputs": [
    {
     "name": "stdout",
     "output_type": "stream",
     "text": [
      "[1, 3, 4]\n",
      "<class 'str'>\n"
     ]
    }
   ],
   "source": [
    "l = [1,3,4]\n",
    "\n",
    "f = open(\"list.txt\",\"wt\")\n",
    "\n",
    "f.write(str(l))\n",
    "f.close()\n",
    "\n",
    "f = open(\"list.txt\",\"rt\")\n",
    "a = f.read()\n",
    "print(a)\n",
    "print(type(a))"
   ]
  },
  {
   "cell_type": "code",
   "execution_count": 143,
   "metadata": {
    "collapsed": false
   },
   "outputs": [
    {
     "name": "stdout",
     "output_type": "stream",
     "text": [
      "b'\\xea\\xb0\\x80\\xec\\x9d\\x84'\n",
      "b'\\xff\\xfe\\x00\\xacD\\xc7'\n",
      "b'\\x00\\xacD\\xc7'\n",
      "b'\\xac\\x00\\xc7D'\n",
      "b'\\xff\\xfe\\x00\\x00\\x00\\xac\\x00\\x00D\\xc7\\x00\\x00'\n",
      "b'\\x00\\xac\\x00\\x00D\\xc7\\x00\\x00'\n",
      "b'\\x00\\x00\\xac\\x00\\x00\\x00\\xc7D'\n"
     ]
    }
   ],
   "source": [
    "c = \"가을\"\n",
    "\n",
    "print(c.encode(\"utf-8\"))\n",
    "print(c.encode(\"utf-16\"))\n",
    "print(c.encode(\"utf-16le\"))\n",
    "print(c.encode(\"utf-16be\"))\n",
    "print(c.encode(\"utf-32\"))\n",
    "print(c.encode(\"utf-32le\"))\n",
    "print(c.encode(\"utf-32be\"))"
   ]
  },
  {
   "cell_type": "code",
   "execution_count": 149,
   "metadata": {
    "collapsed": false
   },
   "outputs": [
    {
     "name": "stdout",
     "output_type": "stream",
     "text": [
      "가을\n",
      "0 ac00 Lo 가 HANGUL SYLLABLE GA\n",
      "1 c744 Lo 을 HANGUL SYLLABLE EUL\n"
     ]
    }
   ],
   "source": [
    "import unicodedata\n",
    "\n",
    "u = \"가을\"\n",
    "print(u)\n",
    "\n",
    "for i, c in enumerate(u) :\n",
    "    print(i, \"%04x\" % ord(c), end=\" \")\n",
    "    print(unicodedata.category(c), end=\" \")\n",
    "    print(unicodedata.lookup(unicodedata.name(c)), end=\" \")\n",
    "    print(unicodedata.name(c))"
   ]
  },
  {
   "cell_type": "code",
   "execution_count": 154,
   "metadata": {
    "collapsed": false
   },
   "outputs": [
    {
     "data": {
      "text/plain": [
       "'가'"
      ]
     },
     "execution_count": 154,
     "metadata": {},
     "output_type": "execute_result"
    }
   ],
   "source": [
    "'\\uac00'"
   ]
  },
  {
   "cell_type": "code",
   "execution_count": 156,
   "metadata": {
    "collapsed": false
   },
   "outputs": [
    {
     "data": {
      "text/plain": [
       "b'\\xac\\x00'"
      ]
     },
     "execution_count": 156,
     "metadata": {},
     "output_type": "execute_result"
    }
   ],
   "source": [
    "\"가\".encode(\"utf-16be\")"
   ]
  },
  {
   "cell_type": "code",
   "execution_count": 157,
   "metadata": {
    "collapsed": false
   },
   "outputs": [
    {
     "data": {
      "text/plain": [
       "b'\\xc7D'"
      ]
     },
     "execution_count": 157,
     "metadata": {},
     "output_type": "execute_result"
    }
   ],
   "source": [
    "\"을\".encode(\"utf-16be\")"
   ]
  },
  {
   "cell_type": "code",
   "execution_count": 159,
   "metadata": {
    "collapsed": false
   },
   "outputs": [
    {
     "data": {
      "text/plain": [
       "'0x44'"
      ]
     },
     "execution_count": 159,
     "metadata": {},
     "output_type": "execute_result"
    }
   ],
   "source": [
    "hex(ord('D'))"
   ]
  },
  {
   "cell_type": "code",
   "execution_count": 173,
   "metadata": {
    "collapsed": false
   },
   "outputs": [
    {
     "name": "stdout",
     "output_type": "stream",
     "text": [
      "위\n"
     ]
    }
   ],
   "source": [
    "a = \"\\uc704\"\n",
    "print(a)"
   ]
  },
  {
   "cell_type": "code",
   "execution_count": 166,
   "metadata": {
    "collapsed": false
   },
   "outputs": [
    {
     "name": "stdout",
     "output_type": "stream",
     "text": [
      "위\n"
     ]
    }
   ],
   "source": [
    "b = \"\\u110b\" + \"\\u1171\"\n",
    "print(b)"
   ]
  },
  {
   "cell_type": "code",
   "execution_count": 169,
   "metadata": {
    "collapsed": false
   },
   "outputs": [
    {
     "name": "stdout",
     "output_type": "stream",
     "text": [
      "b'\\x11\\x0b\\x11q'\n"
     ]
    }
   ],
   "source": [
    "import unicodedata\n",
    "print(unicodedata.normalize(\"NFD\",a).encode(\"utf-16be\"))"
   ]
  },
  {
   "cell_type": "code",
   "execution_count": 171,
   "metadata": {
    "collapsed": false
   },
   "outputs": [
    {
     "data": {
      "text/plain": [
       "'0x71'"
      ]
     },
     "execution_count": 171,
     "metadata": {},
     "output_type": "execute_result"
    }
   ],
   "source": [
    "hex(ord('q'))"
   ]
  },
  {
   "cell_type": "code",
   "execution_count": 172,
   "metadata": {
    "collapsed": false
   },
   "outputs": [
    {
     "name": "stdout",
     "output_type": "stream",
     "text": [
      "b'\\xc7\\x04'\n"
     ]
    }
   ],
   "source": [
    "import unicodedata\n",
    "print(unicodedata.normalize(\"NFC\",b).encode(\"utf-16be\"))"
   ]
  },
  {
   "cell_type": "code",
   "execution_count": null,
   "metadata": {
    "collapsed": true
   },
   "outputs": [],
   "source": []
  }
 ],
 "metadata": {
  "kernelspec": {
   "display_name": "Python 3",
   "language": "python",
   "name": "python3"
  }
 },
 "nbformat": 4,
 "nbformat_minor": 2
}
