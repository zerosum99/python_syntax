{
 "cells": [
  {
   "cell_type": "markdown",
   "metadata": {},
   "source": [
    "# 1. class란\n",
    "\n",
    "    새로운 데이터 타입을 정의할 때 사용\n",
    "    \n",
    "    파이썬에서는 메타클래스가 있어 실제 클래스를 만들수 있도록 type 클래스 제공"
   ]
  },
  {
   "cell_type": "markdown",
   "metadata": {},
   "source": [
    "## 용어 \n",
    "\n",
    "    - 클래스 객체 :  class 정의문에 위해 지정된 문장들\n",
    "                    인스턴스 객체를 만드는 틀\n",
    "                    \n",
    "    - 클래스 객체 멤버 :  클래스 속성, 클래스 메소드, 스태틱 메소드 등 클래스에서 관리하는 멤버\n",
    "    \n",
    "    - 인스턴스 객체 멤버 : 인스턴스 속성, 인스턴스 메소드, 프로퍼티 등 인스턴스에서 관리하는 멤버\n",
    "    \n",
    "    파이썬에서는 메소드나 프로퍼티는 전부 클래스에서 관리하고 인스턴스에서는 메소드나 프로퍼티를 실행시 바이딩해서 처리함 \n",
    "    \n",
    "    "
   ]
  },
  {
   "cell_type": "markdown",
   "metadata": {},
   "source": [
    "### class 정의 \n",
    "    class 키워드를 사용해서 정의 \n",
    "    class에는 속성(클래스 속성, 인스턴스 속성), 메소드(클래스, 스태틱, 인스턴스), 프로퍼터를 가진다.\n",
    "    \n",
    "    프로퍼티는 메소드를 변수처럼 읽을 수 있도록 처리하는 구조\n",
    "    "
   ]
  },
  {
   "cell_type": "code",
   "execution_count": 3,
   "metadata": {
    "collapsed": true
   },
   "outputs": [],
   "source": [
    "class Person(object) :\n",
    "    # 인스턴스 생성을 위한 초기화 메소드\n",
    "    def __init__(self, name, age) :\n",
    "        self.name = name\n",
    "        self.age = age\n",
    "        "
   ]
  },
  {
   "cell_type": "markdown",
   "metadata": {},
   "source": [
    "### 객체 속성/메소드 접근 연산(.) \n",
    "\n",
    "    dot 연산(클래스명.멤버, 객체.멤버) 이해하기\n",
    "    \n",
    "    클래스나 인스턴스에 대한 접근은 클래스나 인스턴스 객체.멤버명을 사용해서 접근해야 함"
   ]
  },
  {
   "cell_type": "markdown",
   "metadata": {},
   "source": [
    "#### __init__ 메소드 정의 확인 \n",
    "\n",
    "    self(인스턴스를 가르키는 변수명).속성명 =  속성에 할당되는 인스턴스 객체 \n",
    "    \n",
    "    __init__도 메소드(즉 함수)이므로 로컬영영을 가지므로 실제 인스턴스에 멤버를 집어넣기 위해 인스턴스.멤버명을 지정해서 세팅해야 함\n",
    "    "
   ]
  },
  {
   "cell_type": "code",
   "execution_count": 1,
   "metadata": {
    "collapsed": false
   },
   "outputs": [
    {
     "name": "stdout",
     "output_type": "stream",
     "text": [
      "<function Person.__init__ at 0x0000000004F5E950>\n",
      "Dahl\n"
     ]
    }
   ],
   "source": [
    "class Person(object) :\n",
    "    # 인스턴스 생성을 위한 초기화 메소드\n",
    "    \n",
    "    def __init__(self, name, age) :\n",
    "        self.name = name\n",
    "        self.age = age\n",
    "        \n",
    "#클래스에서 접근\n",
    "print(Person.__init__)\n",
    "# 인스턴스에서 접근\n",
    "p = Person(\"Dahl\",30)\n",
    "print(p.name)"
   ]
  },
  {
   "cell_type": "markdown",
   "metadata": {},
   "source": [
    "## 클래스 내부 기본 속성 확인\n"
   ]
  },
  {
   "cell_type": "code",
   "execution_count": 2,
   "metadata": {
    "collapsed": false
   },
   "outputs": [
    {
     "data": {
      "text/plain": [
       "['__class__',\n",
       " '__delattr__',\n",
       " '__dict__',\n",
       " '__dir__',\n",
       " '__doc__',\n",
       " '__eq__',\n",
       " '__format__',\n",
       " '__ge__',\n",
       " '__getattribute__',\n",
       " '__gt__',\n",
       " '__hash__',\n",
       " '__init__',\n",
       " '__le__',\n",
       " '__lt__',\n",
       " '__module__',\n",
       " '__ne__',\n",
       " '__new__',\n",
       " '__reduce__',\n",
       " '__reduce_ex__',\n",
       " '__repr__',\n",
       " '__setattr__',\n",
       " '__sizeof__',\n",
       " '__str__',\n",
       " '__subclasshook__',\n",
       " '__weakref__']"
      ]
     },
     "execution_count": 2,
     "metadata": {},
     "output_type": "execute_result"
    }
   ],
   "source": [
    "dir(Person)"
   ]
  },
  {
   "cell_type": "markdown",
   "metadata": {},
   "source": [
    "### 클래스 생성과 클래스 상속을 관리하는 속성 "
   ]
  },
  {
   "cell_type": "code",
   "execution_count": 3,
   "metadata": {
    "collapsed": false
   },
   "outputs": [
    {
     "name": "stdout",
     "output_type": "stream",
     "text": [
      "__main__\n",
      "(<class 'object'>,)\n",
      "<class 'type'>\n"
     ]
    }
   ],
   "source": [
    "# 클래스 내부 구조 확인하기\n",
    "# 클래스가 속한 명칭\n",
    "print(Person.__module__)\n",
    "\n",
    "# 무조건 object 클래스를 상속받음\n",
    "print(Person.__bases__)\n",
    "\n",
    "#클래스의 메타 클래스 확인\n",
    "print(Person.__class__)\n"
   ]
  },
  {
   "cell_type": "markdown",
   "metadata": {},
   "source": [
    "### 클래스 닷(.) 연산자 처리 메소드 \n",
    "\n",
    "     __getattribute__\n",
    "     __getattr__\n",
    "     __setattr__\n",
    "     __delattr__"
   ]
  },
  {
   "cell_type": "code",
   "execution_count": 11,
   "metadata": {
    "collapsed": false
   },
   "outputs": [
    {
     "name": "stdout",
     "output_type": "stream",
     "text": [
      "<function Person.__init__ at 0x0000000004F2ED90>\n"
     ]
    }
   ],
   "source": [
    "class Person(object) :\n",
    "    # 인스턴스 생성을 위한 초기화 메소드\n",
    "    \n",
    "    def __init__(self, name, age) :\n",
    "        self.name = name\n",
    "        self.age = age\n",
    "        \n",
    "print(Person.__getattribute__(Person,\"__init__\"))\n"
   ]
  },
  {
   "cell_type": "markdown",
   "metadata": {},
   "source": [
    "#### operator.attrgetter\n",
    "\n",
    "    특정 객체 내의 값을 자동으로 읽기\n",
    "    \n",
    "    After f = attrgetter('name'), the call f(r) returns r.name.\n",
    "    After g = attrgetter('name', 'date'), the call g(r) returns (r.name, r.date).\n",
    "    After h = attrgetter('name.first', 'name.last'), the call h(r) returns\n",
    "       (r.name.first, r.name.last)."
   ]
  },
  {
   "cell_type": "code",
   "execution_count": 3,
   "metadata": {
    "collapsed": false
   },
   "outputs": [
    {
     "name": "stdout",
     "output_type": "stream",
     "text": [
      "dahl\n"
     ]
    }
   ],
   "source": [
    "import operator\n",
    "\n",
    "ocs = operator.attrgetter('name')\n",
    "\n",
    "class Person(object) :\n",
    "    # 인스턴스 생성을 위한 초기화 메소드\n",
    "    \n",
    "    def __init__(self, name, age) :\n",
    "        self.name = name\n",
    "        self.age = age\n",
    "        \n",
    "p = Person(\"dahl\",30)\n",
    "\n",
    "print(ocs(p))"
   ]
  },
  {
   "cell_type": "markdown",
   "metadata": {},
   "source": [
    "## 최상위 클래스 object 이해하기\n",
    "\n",
    "    파이썬 객체지향 즉 최상위 클래스는 object가 존재하며 모든 클래스를 만들 때 기본으로 상속하게 된다."
   ]
  },
  {
   "cell_type": "code",
   "execution_count": 165,
   "metadata": {
    "collapsed": false
   },
   "outputs": [
    {
     "name": "stdout",
     "output_type": "stream",
     "text": [
      "['__class__',\n",
      " '__delattr__',\n",
      " '__dir__',\n",
      " '__doc__',\n",
      " '__eq__',\n",
      " '__format__',\n",
      " '__ge__',\n",
      " '__getattribute__',\n",
      " '__gt__',\n",
      " '__hash__',\n",
      " '__init__',\n",
      " '__le__',\n",
      " '__lt__',\n",
      " '__ne__',\n",
      " '__new__',\n",
      " '__reduce__',\n",
      " '__reduce_ex__',\n",
      " '__repr__',\n",
      " '__setattr__',\n",
      " '__sizeof__',\n",
      " '__str__',\n",
      " '__subclasshook__']\n"
     ]
    }
   ],
   "source": [
    "import pprint\n",
    "\n",
    "pprint.pprint(dir(object))"
   ]
  },
  {
   "cell_type": "markdown",
   "metadata": {},
   "source": [
    "## 사용자 클래스 : 기본 상속 확인하기 \n",
    "\n",
    "    class 키워드로 만드는 모든 클래스는 기본으로 object를 상속한다.\n",
    "    "
   ]
  },
  {
   "cell_type": "code",
   "execution_count": 171,
   "metadata": {
    "collapsed": false
   },
   "outputs": [
    {
     "name": "stdout",
     "output_type": "stream",
     "text": [
      "True\n",
      "(<class 'object'>,)\n"
     ]
    }
   ],
   "source": [
    "class ABCD :\n",
    "    pass\n",
    "\n",
    "print(issubclass(ABCD, object))\n",
    "\n",
    "print(ABCD.__bases__)"
   ]
  },
  {
   "cell_type": "markdown",
   "metadata": {},
   "source": [
    "#### object 클래스에서 생성된 인스턴스 __dict__를 가지고 있지 않다\n",
    "\n",
    "    인스턴스 객체에 __dict__가 없으면 실제 인스턴스 멤버를 추가할 수 없다."
   ]
  },
  {
   "cell_type": "code",
   "execution_count": 26,
   "metadata": {
    "collapsed": false
   },
   "outputs": [
    {
     "name": "stdout",
     "output_type": "stream",
     "text": [
      "<object object at 0x000000000036F4D0>\n"
     ]
    },
    {
     "ename": "AttributeError",
     "evalue": "'object' object has no attribute '__dict__'",
     "output_type": "error",
     "traceback": [
      "\u001b[0;31m---------------------------------------------------------------------------\u001b[0m",
      "\u001b[0;31mAttributeError\u001b[0m                            Traceback (most recent call last)",
      "\u001b[0;32m<ipython-input-26-4f883968e960>\u001b[0m in \u001b[0;36m<module>\u001b[0;34m()\u001b[0m\n\u001b[1;32m      1\u001b[0m \u001b[0ma\u001b[0m \u001b[1;33m=\u001b[0m \u001b[0mobject\u001b[0m\u001b[1;33m(\u001b[0m\u001b[1;33m)\u001b[0m\u001b[1;33m\u001b[0m\u001b[0m\n\u001b[1;32m      2\u001b[0m \u001b[0mprint\u001b[0m\u001b[1;33m(\u001b[0m\u001b[0ma\u001b[0m\u001b[1;33m)\u001b[0m\u001b[1;33m\u001b[0m\u001b[0m\n\u001b[0;32m----> 3\u001b[0;31m \u001b[0mprint\u001b[0m\u001b[1;33m(\u001b[0m\u001b[0ma\u001b[0m\u001b[1;33m.\u001b[0m\u001b[0m__dict__\u001b[0m\u001b[1;33m)\u001b[0m\u001b[1;33m\u001b[0m\u001b[0m\n\u001b[0m",
      "\u001b[0;31mAttributeError\u001b[0m: 'object' object has no attribute '__dict__'"
     ]
    }
   ],
   "source": [
    "a = object()\n",
    "print(a)\n",
    "print(a.__dict__)"
   ]
  },
  {
   "cell_type": "markdown",
   "metadata": {},
   "source": [
    "# 3. 클래스와 인스턴스 식별하기 \n",
    "\n",
    "    "
   ]
  },
  {
   "cell_type": "code",
   "execution_count": 19,
   "metadata": {
    "collapsed": false
   },
   "outputs": [
    {
     "name": "stdout",
     "output_type": "stream",
     "text": [
      "(<class 'object'>,)\n",
      "True\n",
      "True\n"
     ]
    }
   ],
   "source": [
    "l = list([1,2,3])\n",
    "\n",
    "print(list.__bases__)\n",
    "\n",
    "print(issubclass(type(l),object))\n",
    "\n",
    "print(isinstance(type(l),object))"
   ]
  },
  {
   "cell_type": "markdown",
   "metadata": {},
   "source": [
    "## 클래스와 인스턴스 체크\n",
    "\n",
    "    isinstance함수를 이용해서 클래스와 인스턴스 관계를 확인하고\n",
    "    issubclass함수를 이용해서 부모클래스와 자식 클래스간의 관계를 확인한다.\n",
    "    "
   ]
  },
  {
   "cell_type": "code",
   "execution_count": 80,
   "metadata": {
    "collapsed": false
   },
   "outputs": [
    {
     "name": "stdout",
     "output_type": "stream",
     "text": [
      "True\n",
      "True\n",
      "True\n"
     ]
    }
   ],
   "source": [
    "class A :\n",
    "    pass\n",
    "\n",
    "# 상속관계 확인\n",
    "print(issubclass(A, object))\n",
    "\n",
    "aa = A()\n",
    "print(isinstance(aa, object))\n",
    "print(isinstance(aa, A))"
   ]
  },
  {
   "cell_type": "code",
   "execution_count": 3,
   "metadata": {
    "collapsed": false
   },
   "outputs": [
    {
     "name": "stdout",
     "output_type": "stream",
     "text": [
      "True\n",
      "Dahl\n"
     ]
    }
   ],
   "source": [
    "class Person :\n",
    "    name = \"\"\n",
    "    def __new__(cls,name) :\n",
    "        Person.name= name\n",
    "        return Person\n",
    "    \n",
    "    @classmethod\n",
    "    def getName(cls) :\n",
    "        return cls.name\n",
    "    \n",
    "p = Person(\"Dahl\")\n",
    "print(p is Person)\n",
    "print(Person.getName())"
   ]
  },
  {
   "cell_type": "markdown",
   "metadata": {},
   "source": [
    "## __init__ 메소드 사용하기 "
   ]
  },
  {
   "cell_type": "markdown",
   "metadata": {},
   "source": [
    "###  인스턴스 생성\n",
    "    class 명과 __init__ 내의 self라는 파라미터를 제외한 나머지 파라미터에 맞춰 인자를 넣고 호출해야 한다.\n",
    "    . 연산자를 이용해서 내부 속성, 메소드, 프로퍼티를 이용할 수 있다"
   ]
  },
  {
   "cell_type": "code",
   "execution_count": 21,
   "metadata": {
    "collapsed": false
   },
   "outputs": [
    {
     "name": "stdout",
     "output_type": "stream",
     "text": [
      "Dahl\n",
      "30\n"
     ]
    }
   ],
   "source": [
    "class Person(object) :\n",
    "    # 인스턴스 생성을 위한 초기화 메소드\n",
    "    \n",
    "    def __init__(self, name, age) :\n",
    "        self.name = name\n",
    "        self.age = age\n",
    "        \n",
    "moon = Person(\"Dahl\", 30)\n",
    "print(moon.name)\n",
    "print(moon.age)"
   ]
  },
  {
   "cell_type": "markdown",
   "metadata": {},
   "source": [
    "###  인스턴스 생성시  __init__ 파라미터와 맞춰 인자 정의 필요\n",
    "\n",
    "     __init__ 메소드에 self를 제외한 파라미터 갯수에 맞춰 인자를 넣어야 인스턴스가 생성된다.\n",
    "     "
   ]
  },
  {
   "cell_type": "code",
   "execution_count": 6,
   "metadata": {
    "collapsed": false
   },
   "outputs": [
    {
     "ename": "TypeError",
     "evalue": "__init__() missing 1 required positional argument: 'name'",
     "output_type": "error",
     "traceback": [
      "\u001b[0;31m---------------------------------------------------------------------------\u001b[0m",
      "\u001b[0;31mTypeError\u001b[0m                                 Traceback (most recent call last)",
      "\u001b[0;32m<ipython-input-6-0ba2a970572b>\u001b[0m in \u001b[0;36m<module>\u001b[0;34m()\u001b[0m\n\u001b[1;32m      3\u001b[0m         \u001b[0mself\u001b[0m\u001b[1;33m.\u001b[0m\u001b[0mname\u001b[0m \u001b[1;33m=\u001b[0m \u001b[0mname\u001b[0m\u001b[1;33m\u001b[0m\u001b[0m\n\u001b[1;32m      4\u001b[0m \u001b[1;33m\u001b[0m\u001b[0m\n\u001b[0;32m----> 5\u001b[0;31m \u001b[0mk\u001b[0m \u001b[1;33m=\u001b[0m \u001b[0mKlass\u001b[0m\u001b[1;33m(\u001b[0m\u001b[1;33m)\u001b[0m\u001b[1;33m\u001b[0m\u001b[0m\n\u001b[0m",
      "\u001b[0;31mTypeError\u001b[0m: __init__() missing 1 required positional argument: 'name'"
     ]
    }
   ],
   "source": [
    "class Klass :\n",
    "    def __init__(self, name ) :\n",
    "        self.name = name\n",
    "        \n",
    "k = Klass()"
   ]
  },
  {
   "cell_type": "markdown",
   "metadata": {},
   "source": [
    "### dot 연산과 스페셜 메소드를 이용해서 인스턴스 생성/변경하기 \n",
    "\n",
    "    moon.age 와 moon.__getattribute__(\"age\")는 같은 처리이지만 프로그램을 작성할 때는 닷연산을 사용해서 처리한다\n",
    "    "
   ]
  },
  {
   "cell_type": "code",
   "execution_count": 22,
   "metadata": {
    "collapsed": false
   },
   "outputs": [
    {
     "name": "stdout",
     "output_type": "stream",
     "text": [
      "Moon\n",
      "30\n",
      "50\n"
     ]
    }
   ],
   "source": [
    "\n",
    "class Person(object) :\n",
    "    # 인스턴스 생성을 위한 초기화 메소드\n",
    "    \n",
    "    def __init__(self, name, age) :\n",
    "        self.name = name\n",
    "        self.age = age\n",
    "        \n",
    "\n",
    "# moon = Person(\"Dahl\", 30)\n",
    "\n",
    "moon = Person.__new__(Person,\"Moon\",30)\n",
    "Person.__init__(moon,\"Moon\",30)\n",
    "# print(moon.name)\n",
    "print(moon.__getattribute__(\"name\"))\n",
    "# print(moon.age)\n",
    "print(moon.__getattribute__(\"age\"))\n",
    "\n",
    "#moon.age = 50\n",
    "moon.__setattr__(\"age\",50)\n",
    "# print(moon.age)\n",
    "print(moon.__getattribute__(\"age\"))"
   ]
  },
  {
   "cell_type": "code",
   "execution_count": 3,
   "metadata": {
    "collapsed": false
   },
   "outputs": [
    {
     "name": "stdout",
     "output_type": "stream",
     "text": [
      "Moon\n",
      "30\n"
     ]
    }
   ],
   "source": [
    "class Person(object) :\n",
    "    \n",
    "    def __init__(self, name, age) :\n",
    "        self.name = name\n",
    "        self.age = age\n",
    "\n",
    "moon = Person(\"Moon\",30)\n",
    "\n",
    "print(moon.name)\n",
    "print(moon.age)\n"
   ]
  },
  {
   "cell_type": "code",
   "execution_count": null,
   "metadata": {
    "collapsed": true
   },
   "outputs": [],
   "source": []
  },
  {
   "cell_type": "markdown",
   "metadata": {},
   "source": [
    "###  __init__ 메소드 지정하지 않아도 인스턴스가 생성된다 \n",
    "\n",
    "    파이썬은 인스턴스 생성에 대한 지정이 없이 인스턴스를 생성된다.\n",
    "    기본적으로 object 클래스를 상속을 받기에 object 클래스이 __init__ 호출되어 처리됨"
   ]
  },
  {
   "cell_type": "code",
   "execution_count": 22,
   "metadata": {
    "collapsed": false
   },
   "outputs": [
    {
     "name": "stdout",
     "output_type": "stream",
     "text": [
      "<class '__main__.Klass'>\n",
      "<__main__.Klass object at 0x000000000577D978>\n"
     ]
    }
   ],
   "source": [
    "class Klass :\n",
    "    pass\n",
    "\n",
    "obj = Klass()\n",
    "print(type(obj))\n",
    "print(obj)"
   ]
  },
  {
   "cell_type": "code",
   "execution_count": 30,
   "metadata": {
    "collapsed": false
   },
   "outputs": [
    {
     "name": "stdout",
     "output_type": "stream",
     "text": [
      "<class '__main__.Klass'>\n",
      "<__main__.Klass object at 0x0000000005789C50>\n"
     ]
    }
   ],
   "source": [
    "# 내부에 아무것도 없는 class도 인스턴스 생성시  처리 기준\n",
    "\n",
    "obj1 = object.__new__(Klass)\n",
    "object.__init__(obj1)\n",
    "print(type(obj1))\n",
    "print(obj1)"
   ]
  },
  {
   "cell_type": "markdown",
   "metadata": {},
   "source": [
    "## 클래스 속성과 인스턴스 속성 구별하기\n",
    "\n",
    "     __init__ 메소드 내부에 self로 할당된 것은 인스턴스 속성이고 class 내부에 정의한 변수는 클래스 속성으로 처리된다\n",
    "     \n",
    "     인스턴스 객체에서는 클래스 내부 속성을 전부 사용할 수 있어서 접근이 가능\n",
    "     "
   ]
  },
  {
   "cell_type": "code",
   "execution_count": 8,
   "metadata": {
    "collapsed": false
   },
   "outputs": [
    {
     "name": "stdout",
     "output_type": "stream",
     "text": [
      "Klass 0\n"
     ]
    }
   ],
   "source": [
    "# 클래스 속성만 정의한 클래스\n",
    "class Klass_attr :\n",
    "    Name = 'Klass'\n",
    "    Age  = 0\n",
    "    \n",
    "k = Klass_attr() \n",
    "# 클래스 속성 참조\n",
    "print(k.Name, k.Age)"
   ]
  },
  {
   "cell_type": "markdown",
   "metadata": {},
   "source": [
    "##  클래스, 인스턴스 내부 관리 멤버 관리 : __dict__ 속성\n",
    "\n",
    "     사용자 정의 클래스와 인스턴스는 내부 속성 __dict__ 를 가지고 자기가 가진 속성, 메소드, 프로퍼티를 관리한다.\n",
    "     \n",
    "     사용자 정의한 클래스 내부에 모든 메소드, 클래스 변수 등이 관리되면 인스턴스에는 실제 __init__에서 초기화 된 속성만을 가진다.\n",
    "     "
   ]
  },
  {
   "cell_type": "code",
   "execution_count": 5,
   "metadata": {
    "collapsed": false
   },
   "outputs": [
    {
     "name": "stdout",
     "output_type": "stream",
     "text": [
      "mappingproxy({'Age': 0,\n",
      "              'Name': 'Klass',\n",
      "              '__dict__': <attribute '__dict__' of 'Klass_attr' objects>,\n",
      "              '__doc__': None,\n",
      "              '__module__': '__main__',\n",
      "              '__weakref__': <attribute '__weakref__' of 'Klass_attr' objects>})\n",
      "{}\n"
     ]
    }
   ],
   "source": [
    "import pprint\n",
    "# 클래스 속성만 정의한 클래스\n",
    "class Klass_attr :\n",
    "    Name = 'Klass'\n",
    "    Age  = 0\n",
    "    \n",
    "k = Klass_attr() \n",
    "# 클래스 속성 관리\n",
    "pprint.pprint(Klass_attr.__dict__)\n",
    "\n",
    "# 인스턴스 속성 관리\n",
    "print(k.__dict__)"
   ]
  },
  {
   "cell_type": "markdown",
   "metadata": {},
   "source": [
    "####  class 에 정의된 모든 것은  class. __dict__ 에서 관리"
   ]
  },
  {
   "cell_type": "code",
   "execution_count": 6,
   "metadata": {
    "collapsed": false
   },
   "outputs": [
    {
     "name": "stdout",
     "output_type": "stream",
     "text": [
      "mappingproxy({'__dict__': <attribute '__dict__' of 'Klass_ins' objects>,\n",
      "              '__doc__': None,\n",
      "              '__init__': <function Klass_ins.__init__ at 0x0000000004F5E378>,\n",
      "              '__module__': '__main__',\n",
      "              '__weakref__': <attribute '__weakref__' of 'Klass_ins' objects>})\n"
     ]
    }
   ],
   "source": [
    "import pprint\n",
    "\n",
    "class Klass_ins :\n",
    "    def __init__(self,name, age) :\n",
    "        self.name = name\n",
    "        self.age = age\n",
    "        \n",
    "k = Klass_ins(\"Dahl\", 30)\n",
    "# 클래스 속성 관리\n",
    "pprint.pprint(Klass_ins.__dict__)"
   ]
  },
  {
   "cell_type": "markdown",
   "metadata": {},
   "source": [
    "####  __init__ 내부에 정의된 항목만 instance.__dict__에서 관리"
   ]
  },
  {
   "cell_type": "code",
   "execution_count": 36,
   "metadata": {
    "collapsed": false
   },
   "outputs": [
    {
     "name": "stdout",
     "output_type": "stream",
     "text": [
      "{'name': 'Dahl', 'age': 30}\n"
     ]
    }
   ],
   "source": [
    "\n",
    "# 인스턴스 속성 관리\n",
    "print(k.__dict__)"
   ]
  },
  {
   "cell_type": "markdown",
   "metadata": {},
   "source": [
    "# 3.  메소드 확인하기\n",
    "\n",
    "    파이썬에는 클래스 메소드, 스태틱메소드, 인스턴스 메소드 3 종류가 있다.\n",
    "    \n",
    "    메소드도 def를 가지고 class 내부에 정의한다.\n",
    "    \n",
    "    클래스메소드는 첫번째 인자가 클래스 레퍼런스를 가지고 처리되는 메소드\n",
    "    스태틱 메소드는 일반 파라미터만 가지고 처리되는 메소드\n",
    "    인스턴스 메소드는 첫번째 인자가 인스턴스 레퍼런스를 가지고 처리되는 메소드\n",
    "    \n",
    "    "
   ]
  },
  {
   "cell_type": "markdown",
   "metadata": {},
   "source": [
    "## 클래스 메스드 처리하기\n",
    "    classmethod를 이용해서 지정해야 한다.\n",
    "    지정방식을 데코레이터를 이용해서 사용"
   ]
  },
  {
   "cell_type": "code",
   "execution_count": 7,
   "metadata": {
    "collapsed": false
   },
   "outputs": [
    {
     "name": "stdout",
     "output_type": "stream",
     "text": [
      "mappingproxy({'__dict__': <attribute '__dict__' of 'Klass_clsmethod' objects>,\n",
      "              '__doc__': None,\n",
      "              '__module__': '__main__',\n",
      "              '__weakref__': <attribute '__weakref__' of 'Klass_clsmethod' objects>,\n",
      "              'cls_method': <classmethod object at 0x0000000004F86F98>,\n",
      "              'name': 'Dahl'})\n",
      "Dahl\n",
      "<class '__main__.Klass_clsmethod'>\n"
     ]
    }
   ],
   "source": [
    "import pprint\n",
    "class Klass_clsmethod :\n",
    "    @classmethod\n",
    "    def cls_method(cls, name) :\n",
    "        cls.name = name\n",
    "        return cls\n",
    "    \n",
    "#클래스 메소드를 처리하고 접근\n",
    "k = Klass_clsmethod.cls_method(\"Dahl\")\n",
    "pprint.pprint(Klass_clsmethod.__dict__)\n",
    "print(k.name)\n",
    "\n",
    "# 인스턴스 만들기        \n",
    "a = Klass_clsmethod()\n",
    "print(type(a))"
   ]
  },
  {
   "cell_type": "code",
   "execution_count": 26,
   "metadata": {
    "collapsed": false
   },
   "outputs": [
    {
     "name": "stdout",
     "output_type": "stream",
     "text": [
      "<class '__main__.Klass_clsmethod'>\n",
      "<function Klass_clsmethod.cls_method at 0x0000000004DF42F0>\n"
     ]
    }
   ],
   "source": [
    "import pprint\n",
    "\n",
    "class Klass_clsmethod :\n",
    "    @classmethod\n",
    "    def cls_method(cls, name) :\n",
    "        cls.name = name\n",
    "        return cls\n",
    "    \n",
    "pprint.pprint(Klass_clsmethod.cls_method.__self__)\n",
    "pprint.pprint(Klass_clsmethod.cls_method.__func__)"
   ]
  },
  {
   "cell_type": "markdown",
   "metadata": {},
   "source": [
    "## 인스턴스 메스드 처리하기\n",
    "    클래스 내에 def로 정의하고 첫번째 인자에 인스턴스 객체가 매핑될 파라미터명 self를 주고 처리하면 됨\n",
    "    "
   ]
  },
  {
   "cell_type": "code",
   "execution_count": 38,
   "metadata": {
    "collapsed": false
   },
   "outputs": [
    {
     "name": "stdout",
     "output_type": "stream",
     "text": [
      "True\n",
      "('dahl', 30)\n"
     ]
    }
   ],
   "source": [
    "class Klass_insmethod :\n",
    "    def __init__(self, name, age) :\n",
    "        self.name = name\n",
    "        self.age = age\n",
    "        \n",
    "    def ins_method(self) :\n",
    "        return self.name, self.age\n",
    "    \n",
    "ins = Klass_insmethod(\"dahl\", 30)\n",
    "print(isinstance(ins, Klass_insmethod))\n",
    "print(ins.ins_method())"
   ]
  },
  {
   "cell_type": "code",
   "execution_count": 28,
   "metadata": {
    "collapsed": false
   },
   "outputs": [
    {
     "name": "stdout",
     "output_type": "stream",
     "text": [
      "True\n",
      "<__main__.Klass_insmethod object at 0x0000000004E14978>\n",
      "<function Klass_insmethod.ins_method at 0x0000000004D5E840>\n"
     ]
    }
   ],
   "source": [
    "class Klass_insmethod :\n",
    "    def __init__(self, name, age) :\n",
    "        self.name = name\n",
    "        self.age = age\n",
    "        \n",
    "    def ins_method(self) :\n",
    "        return self.name, self.age\n",
    "    \n",
    "ins = Klass_insmethod(\"dahl\", 30)\n",
    "print(isinstance(ins, Klass_insmethod))\n",
    "print(ins.ins_method.__self__)\n",
    "print(ins.ins_method.__func__)"
   ]
  },
  {
   "cell_type": "markdown",
   "metadata": {},
   "source": [
    "## static 메스드 처리하기\n",
    "    클래스 내에  staticmethod를 이용해서 데코레이터로 지정하는 메소드\n",
    "    클래스 내부에 함수를 지정했다고 생각하면 됨\n",
    "    "
   ]
  },
  {
   "cell_type": "code",
   "execution_count": 44,
   "metadata": {
    "collapsed": false
   },
   "outputs": [
    {
     "name": "stdout",
     "output_type": "stream",
     "text": [
      "True\n",
      "('dahl', 30)\n"
     ]
    }
   ],
   "source": [
    "class Klass_stamethod :\n",
    "    def __init__(self, name, age) :\n",
    "        self.name = name\n",
    "        self.age = age\n",
    "    @staticmethod   \n",
    "    def sta_method(obj) :\n",
    "        self = obj\n",
    "        return self.name, self.age\n",
    "    \n",
    "sta = Klass_stamethod(\"dahl\", 30)\n",
    "print(isinstance(sta, Klass_stamethod))\n",
    "#스태틱 메소드 obj 인자는 로직을 처리하기 위해 곡 넣어야 한다\n",
    "print(sta.sta_method(sta))"
   ]
  },
  {
   "cell_type": "markdown",
   "metadata": {},
   "source": [
    "## 함수를 내부 인스턴스 메소드로 사용하기\n",
    "\n",
    "    파이썬은 바인딩 시점에 함수가 메소드로 변경되므로 외부의 함수(객체)를 내부에 지정해서 사용이 가능함\n",
    "    "
   ]
  },
  {
   "cell_type": "code",
   "execution_count": 8,
   "metadata": {
    "collapsed": false
   },
   "outputs": [],
   "source": [
    "# 함수를 외부 정의, 메소드로 사용하려면 첫번째 인자에  바인딩 될 객체를 지정해야 함\n",
    "def get_name(self) :\n",
    "    return self.name\n",
    "\n",
    "class Get_Name :\n",
    "    def __init__(self,name) :\n",
    "        self.name = name\n",
    "    #get_name 변수에 get_name 함수를 할당    \n",
    "    get_name = get_name\n",
    "    \n",
    "c = Get_Name(\"dahl\")\n"
   ]
  },
  {
   "cell_type": "code",
   "execution_count": 9,
   "metadata": {
    "collapsed": false
   },
   "outputs": [
    {
     "name": "stdout",
     "output_type": "stream",
     "text": [
      "<class 'function'>\n",
      "<class 'method'>\n",
      "dahl\n"
     ]
    }
   ],
   "source": [
    "#모든 메소드는 클래스 객체 내에 있지만 아직 바이딩이 되지 않아 함수로 관리\n",
    "print(type(Get_Name.get_name))\n",
    "\n",
    "# 인스턴스 메소드는 인스턴스와 바인딩시 메소드로 전환됨\n",
    "print(type(c.get_name))\n",
    "print(c.get_name())"
   ]
  },
  {
   "cell_type": "markdown",
   "metadata": {},
   "source": [
    "# 4.  property 사용하기\n",
    "\n",
    "    직접 속성을 사용하지 않고 속성이름으로 메소드 처리가 가능한 구조를 만들어서 처리하기\n",
    "    \n",
    "    프로퍼티는 메소드이지만 속성처럼 접근이 가능하다.\n",
    "    \n",
    "    반드시 property로 데코레이터를 처리한 후 .setter, .deleter를 지정해야 함 \n",
    "    "
   ]
  },
  {
   "cell_type": "markdown",
   "metadata": {},
   "source": [
    "## getter 프로퍼티 \n",
    "    \n",
    "    접근해서 조회만 가능한 프로퍼티 처리"
   ]
  },
  {
   "cell_type": "code",
   "execution_count": 62,
   "metadata": {
    "collapsed": false
   },
   "outputs": [
    {
     "name": "stdout",
     "output_type": "stream",
     "text": [
      "25\n"
     ]
    }
   ],
   "source": [
    "class Area :\n",
    "    def __init__(self, x, y) :\n",
    "        self.x = x\n",
    "        self.y = y\n",
    "        \n",
    "    @property\n",
    "    def get_area(self) :\n",
    "        return self.x * self.y\n",
    "    \n",
    "ar = Area(5,5)\n",
    "print(ar.get_area)"
   ]
  },
  {
   "cell_type": "markdown",
   "metadata": {},
   "source": [
    "## setter /deleter 프로퍼티\n",
    "    갱신 및 삭제 처리를 위한 프로퍼티"
   ]
  },
  {
   "cell_type": "code",
   "execution_count": 63,
   "metadata": {
    "collapsed": false
   },
   "outputs": [
    {
     "name": "stdout",
     "output_type": "stream",
     "text": [
      "25\n",
      "100\n"
     ]
    }
   ],
   "source": [
    "class Area :\n",
    "    def __init__(self, x, y) :\n",
    "        self.x = x\n",
    "        self.y = y\n",
    "        \n",
    "    @property\n",
    "    def get_area(self) :\n",
    "        return self.x * self.y\n",
    "    \n",
    "    @get_area.setter\n",
    "    def get_area(self, txy ) :\n",
    "        self.x = txy[0]\n",
    "        self.y = txy[1]\n",
    "    \n",
    "ar = Area(5,5)\n",
    "print(ar.get_area)\n",
    "ar.get_area = (10,10)\n",
    "print(ar.get_area)"
   ]
  },
  {
   "cell_type": "code",
   "execution_count": 71,
   "metadata": {
    "collapsed": false
   },
   "outputs": [
    {
     "name": "stdout",
     "output_type": "stream",
     "text": [
      "25\n",
      " deleter\n",
      "<__main__.Area object at 0x00000000057B77B8>\n",
      "{}\n"
     ]
    }
   ],
   "source": [
    "class Area :\n",
    "    def __init__(self, x, y) :\n",
    "        self.x = x\n",
    "        self.y = y\n",
    "        \n",
    "    @property\n",
    "    def get_area(self) :\n",
    "        return self.x * self.y\n",
    "           \n",
    "    @get_area.deleter\n",
    "    def get_area(self) :\n",
    "        print(\" deleter\")\n",
    "        del self.x\n",
    "        del self.y\n",
    "    \n",
    "ar = Area(5,5)\n",
    "print(ar.get_area)\n",
    "\n",
    "# 삭제 됨\n",
    "del ar.get_area\n",
    "print(ar)\n",
    "print(ar.__dict__)"
   ]
  },
  {
   "cell_type": "markdown",
   "metadata": {},
   "source": [
    "# 5.  클래스 내부 멤버에 대한 이름 처리 기준\n",
    "\n",
    "     _이름 : 관행적으로 보호해야 할 이름으로 지정\n",
    "     \n",
    "     __이름 : 맹글링 처리되고 실제 이름이 _클래스명__이름으로 전환되므로 상속시 단순한 __이름으로는 오버라이딩 되지 않음\n",
    "     \n",
    "     __이름__ : 파이썬 내부 스페셜 속성과 메소드를 지정하는 이름. 사용자 정의시는 오버라이딩을 제외하고는 사용하지 않는게 좋음\n",
    "     "
   ]
  },
  {
   "cell_type": "code",
   "execution_count": 10,
   "metadata": {
    "collapsed": false
   },
   "outputs": [
    {
     "name": "stdout",
     "output_type": "stream",
     "text": [
      "Dahl\n",
      "Dahl\n"
     ]
    }
   ],
   "source": [
    "class ABC :\n",
    "    def __init__(self,name,age) :\n",
    "        self._name = name\n",
    "        self.__age = age\n",
    "        \n",
    "    def get_name(self) :\n",
    "        return self._name\n",
    "    \n",
    "    def get_age(self) :\n",
    "        return self.__age\n",
    "    \n",
    "abc = ABC(\"Dahl\",30)\n",
    "print(abc.get_name())\n",
    "print(abc._name)\n"
   ]
  },
  {
   "cell_type": "code",
   "execution_count": 11,
   "metadata": {
    "collapsed": false
   },
   "outputs": [
    {
     "name": "stdout",
     "output_type": "stream",
     "text": [
      "30\n",
      " 맹글링 처리  30\n"
     ]
    },
    {
     "ename": "AttributeError",
     "evalue": "'ABC' object has no attribute '__age'",
     "output_type": "error",
     "traceback": [
      "\u001b[0;31m---------------------------------------------------------------------------\u001b[0m",
      "\u001b[0;31mAttributeError\u001b[0m                            Traceback (most recent call last)",
      "\u001b[0;32m<ipython-input-11-b36fd2f8edfe>\u001b[0m in \u001b[0;36m<module>\u001b[0;34m()\u001b[0m\n\u001b[1;32m      5\u001b[0m \u001b[0mprint\u001b[0m\u001b[1;33m(\u001b[0m\u001b[1;34m\" 맹글링 처리 \"\u001b[0m\u001b[1;33m,\u001b[0m\u001b[0mabc\u001b[0m\u001b[1;33m.\u001b[0m\u001b[0m_ABC__age\u001b[0m\u001b[1;33m)\u001b[0m\u001b[1;33m\u001b[0m\u001b[0m\n\u001b[1;32m      6\u001b[0m \u001b[1;31m# 외부에서 접근시 맹글링 처리되어 이름이 변경됨\u001b[0m\u001b[1;33m\u001b[0m\u001b[1;33m\u001b[0m\u001b[0m\n\u001b[0;32m----> 7\u001b[0;31m \u001b[0mprint\u001b[0m\u001b[1;33m(\u001b[0m\u001b[0mabc\u001b[0m\u001b[1;33m.\u001b[0m\u001b[0m__age\u001b[0m\u001b[1;33m)\u001b[0m\u001b[1;33m\u001b[0m\u001b[0m\n\u001b[0m",
      "\u001b[0;31mAttributeError\u001b[0m: 'ABC' object has no attribute '__age'"
     ]
    }
   ],
   "source": [
    "# 직접 접근하면 에러가 난다.\n",
    "print(abc.get_age())\n",
    "\n",
    "# 에러 없이 접근 하는 법\n",
    "print(\" 맹글링 처리 \",abc._ABC__age)\n",
    "# 외부에서 접근시 맹글링 처리되어 이름이 변경됨\n",
    "print(abc.__age)"
   ]
  },
  {
   "cell_type": "markdown",
   "metadata": {},
   "source": [
    "## 메소드에서 인스턴스/ 클래스 멤버 접근하기\n",
    "\n",
    "    함수에서는 변수만 사용하면 함수 스코프에 따라 접근되므로 클래스나 인스턴스 내의 멤버들을 접근하는\n",
    "    \n",
    "    한정자로 클래스나 객체가 할당된 변수를 사용해서 처리해야 함\n",
    "    "
   ]
  },
  {
   "cell_type": "code",
   "execution_count": 116,
   "metadata": {
    "collapsed": false
   },
   "outputs": [
    {
     "name": "stdout",
     "output_type": "stream",
     "text": [
      " dhl\n"
     ]
    }
   ],
   "source": [
    "#클래스 멤버 접근\n",
    "\n",
    "class ACC :\n",
    "    A = \" dhl\"\n",
    "    def get(self) :\n",
    "        return ACC.A\n",
    "    \n",
    "a = ACC()\n",
    "print(a.get())\n"
   ]
  },
  {
   "cell_type": "markdown",
   "metadata": {},
   "source": [
    "## 내장함수를 이용해서 객체 내의 속성 확인하기\n",
    "\n",
    "    getattr : 속성 조회\n",
    "    setattr : 속성이 존재하면 갱신, 속성이 미존재하면  추가\n",
    "    delattr :  속성 삭제"
   ]
  },
  {
   "cell_type": "code",
   "execution_count": 13,
   "metadata": {
    "collapsed": false
   },
   "outputs": [
    {
     "name": "stdout",
     "output_type": "stream",
     "text": [
      "mappingproxy({'Name': 'Dahl',\n",
      "              '__dict__': <attribute '__dict__' of 'AF' objects>,\n",
      "              '__doc__': None,\n",
      "              '__module__': '__main__',\n",
      "              '__weakref__': <attribute '__weakref__' of 'AF' objects>})\n"
     ]
    }
   ],
   "source": [
    "import pprint\n",
    "\n",
    "class AF :\n",
    "    pass\n",
    "\n",
    "setattr(AF,\"Name\",\"Dahl\")\n",
    "pprint.pprint(AF.__dict__)\n"
   ]
  },
  {
   "cell_type": "code",
   "execution_count": 15,
   "metadata": {
    "collapsed": false
   },
   "outputs": [
    {
     "name": "stdout",
     "output_type": "stream",
     "text": [
      "{'Name': 'Dahl'}\n"
     ]
    }
   ],
   "source": [
    "class AF :\n",
    "    pass\n",
    "\n",
    "af = AF()\n",
    "setattr(af,\"Name\",\"Dahl\")\n",
    "print(af.__dict__)"
   ]
  },
  {
   "cell_type": "code",
   "execution_count": 12,
   "metadata": {
    "collapsed": false
   },
   "outputs": [
    {
     "name": "stdout",
     "output_type": "stream",
     "text": [
      "Dahl\n",
      "None\n"
     ]
    }
   ],
   "source": [
    "print(getattr(AF,\"Name\",\"None\"))\n",
    "# 속성이 없을 경우 Defualt 값을 넣고 처리\n",
    "# default 값이 없을 경우 에러 처리 됨\n",
    "print(getattr(AF,\"Age\",\"None\"))\n"
   ]
  },
  {
   "cell_type": "code",
   "execution_count": 11,
   "metadata": {
    "collapsed": false
   },
   "outputs": [
    {
     "ename": "AttributeError",
     "evalue": "type object 'AF' has no attribute 'Age'",
     "output_type": "error",
     "traceback": [
      "\u001b[0;31m---------------------------------------------------------------------------\u001b[0m",
      "\u001b[0;31mAttributeError\u001b[0m                            Traceback (most recent call last)",
      "\u001b[0;32m<ipython-input-11-e816fc355ba3>\u001b[0m in \u001b[0;36m<module>\u001b[0;34m()\u001b[0m\n\u001b[0;32m----> 1\u001b[0;31m \u001b[0mprint\u001b[0m\u001b[1;33m(\u001b[0m\u001b[0mgetattr\u001b[0m\u001b[1;33m(\u001b[0m\u001b[0mAF\u001b[0m\u001b[1;33m,\u001b[0m\u001b[1;34m\"Age\"\u001b[0m\u001b[1;33m)\u001b[0m\u001b[1;33m)\u001b[0m\u001b[1;33m\u001b[0m\u001b[0m\n\u001b[0m",
      "\u001b[0;31mAttributeError\u001b[0m: type object 'AF' has no attribute 'Age'"
     ]
    }
   ],
   "source": [
    "print(getattr(AF,\"Age\"))"
   ]
  },
  {
   "cell_type": "markdown",
   "metadata": {},
   "source": [
    "# 6. 클래스와 인스턴스 멤버 관리 기준: Namespace\n",
    "\n",
    "   \n",
    "     클래스와 인스턴스 멤버관리는 __dict__로 관리한다.\n",
    "     __dict__는 dict 타입으로 관리하므로 key/value로 처리되므로 key 값이 같을 경우 value만 갱신되므로 \n",
    "     오버로딩이 불가하면 오버로링을 하려면 별도의 모듈을 추가해서 처리해야 함\n",
    "     "
   ]
  },
  {
   "cell_type": "code",
   "execution_count": 107,
   "metadata": {
    "collapsed": false
   },
   "outputs": [
    {
     "name": "stdout",
     "output_type": "stream",
     "text": [
      "1\n",
      "2\n"
     ]
    }
   ],
   "source": [
    "# 클래스로 정의된 것은 전부 class.__dict에서 보관한다.\n",
    "\n",
    "class B(object) :\n",
    "    #class 속성\n",
    "    Count = 0\n",
    "    # 인스턴스 메소드\n",
    "    def __init__(self, name) :\n",
    "        self.name = name\n",
    "        \n",
    "        B.Count = B.Count +1\n",
    "        \n",
    "b = B(\"dahl\")\n",
    "print(B.Count)\n",
    "\n",
    "b1 = B(\"dahl\")\n",
    "print(B.Count)"
   ]
  },
  {
   "cell_type": "code",
   "execution_count": 113,
   "metadata": {
    "collapsed": false
   },
   "outputs": [
    {
     "name": "stdout",
     "output_type": "stream",
     "text": [
      "2\n",
      "2\n",
      "2\n",
      "2\n"
     ]
    }
   ],
   "source": [
    "# 클래스 속성 확인\n",
    "print(B.Count)\n",
    "\n",
    "# 인스턴스에서는 모든 것이 접근이 가능\n",
    "\n",
    "print(b.Count)\n",
    "print(b1.Count)\n",
    "print(getattr(b,\"Count\"))"
   ]
  },
  {
   "cell_type": "markdown",
   "metadata": {},
   "source": [
    "# 7. 디스크립트로 멤버 속정 접근하기\n",
    "\n",
    "    디스크립트 클래스를 만들어서 멤버에 대한 접근을 디스크립트 클래스 내의 __get__, __set__, __delete__를 정의해서 처리\n",
    "    \n",
    "    디스크립트 클래스 내부에 정의할 메소드 :\n",
    "    \n",
    "        __get__(self, instance, owner)\n",
    "        __set__(self, instance, value)\n",
    "        __delete__(self,instance)\n"
   ]
  },
  {
   "cell_type": "code",
   "execution_count": 132,
   "metadata": {
    "collapsed": true
   },
   "outputs": [],
   "source": [
    "# 실제 인스턴스에 멤버를 추가하고 관리할 디스크립트 클래스 정의\n",
    "\n",
    "class Descript :\n",
    "    def __init__(self, name , value) :\n",
    "        self.name = \"_\" +name\n",
    "        self.value = value\n",
    "        \n",
    "    def __get__(self,other,owner) :\n",
    "        return getattr(other, self.name, self.value)\n",
    "    \n",
    "    def __set__(self,other,value) :\n",
    "        setattr(other, self.name, value)\n",
    "    \n",
    "    def __delete__(self,other) :\n",
    "        delattr(other,self.name)"
   ]
  },
  {
   "cell_type": "markdown",
   "metadata": {},
   "source": [
    "###  실제 인스턴스 생성할 클래스에 association 으로  멤버들 생성"
   ]
  },
  {
   "cell_type": "code",
   "execution_count": 134,
   "metadata": {
    "collapsed": true
   },
   "outputs": [],
   "source": [
    "class AAA :\n",
    "    # 디스크립트 객체로 name 속성을 지정\n",
    "    name = Descript(\"name\",None)\n",
    "    age = Descript(\"age\", 0)\n",
    "    "
   ]
  },
  {
   "cell_type": "code",
   "execution_count": 135,
   "metadata": {
    "collapsed": false
   },
   "outputs": [
    {
     "name": "stdout",
     "output_type": "stream",
     "text": [
      "None\n",
      "Dahl\n",
      "{'_age': 30, '_name': 'Dahl'}\n",
      "{'_name': 'Dahl'}\n"
     ]
    }
   ],
   "source": [
    "# 인스턴스 생성    \n",
    "aaa = AAA()\n",
    "\n",
    "# 인스턴스 내부의 속성 접근 및 생성\n",
    "print(aaa.name)\n",
    "aaa.name= \"Dahl\"\n",
    "aaa.age = 30\n",
    "print(aaa.name)\n",
    "print(aaa.__dict__)\n",
    "\n",
    "del aaa.age\n",
    "print(aaa.__dict__)"
   ]
  },
  {
   "cell_type": "markdown",
   "metadata": {},
   "source": [
    "# 8. 클래스 생성 원리 이해하기"
   ]
  },
  {
   "cell_type": "markdown",
   "metadata": {},
   "source": [
    "## 메타 클래스\n",
    "    메타클래스는 클래스를 만드는 클래스를 말함\n",
    "    \n",
    "    파이썬에서는 메타클래스로 type을 제공하면 이를 가지고 모든 클래스를 만들었다.\n",
    "    \n",
    "    type 클래스에서 __new__/ __init__ 사용하기\n",
    "        MyKlass = type.__new__(type, name, bases, dict)\n",
    "        type.__init__(MyKlass, name, bases, dict)\n",
    "\n",
    "    "
   ]
  },
  {
   "cell_type": "markdown",
   "metadata": {},
   "source": [
    "#### 메타 클래스 type을 가지고 클래스 생성"
   ]
  },
  {
   "cell_type": "code",
   "execution_count": 46,
   "metadata": {
    "collapsed": false
   },
   "outputs": [
    {
     "name": "stdout",
     "output_type": "stream",
     "text": [
      "<class '__main__.A'>\n",
      "{'__doc__': None, '__module__': '__main__', '__dict__': <attribute '__dict__' of 'A' objects>, '__weakref__': <attribute '__weakref__' of 'A' objects>}\n"
     ]
    }
   ],
   "source": [
    "# 메타클래스로 클래스 생성한 후에 변수 A에 할당\n",
    "A = type(\"A\",(object,),{})\n",
    "\n",
    "print(A)\n",
    "print(A.__dict__)\n",
    " "
   ]
  },
  {
   "cell_type": "markdown",
   "metadata": {},
   "source": [
    "####  class 키워드를 가지고 클래스 생성"
   ]
  },
  {
   "cell_type": "code",
   "execution_count": 47,
   "metadata": {
    "collapsed": false
   },
   "outputs": [
    {
     "name": "stdout",
     "output_type": "stream",
     "text": [
      "<class '__main__.A'>\n",
      "{'__doc__': None, '__module__': '__main__', '__dict__': <attribute '__dict__' of 'A' objects>, '__weakref__': <attribute '__weakref__' of 'A' objects>}\n"
     ]
    }
   ],
   "source": [
    "class A :\n",
    "    pass\n",
    "print(A)\n",
    "print(A.__dict__)"
   ]
  },
  {
   "cell_type": "markdown",
   "metadata": {},
   "source": [
    "### 메타클래스 내에서 클래스 생성하는 방법 \n",
    "\n",
    "    __call__을 호출하면 __new__/__init__이 연속적으로 실행되어 최종 결과를 호출한다.\n",
    "    "
   ]
  },
  {
   "cell_type": "code",
   "execution_count": 54,
   "metadata": {
    "collapsed": false
   },
   "outputs": [
    {
     "name": "stdout",
     "output_type": "stream",
     "text": [
      "<class '__main__.My_Klass'>\n"
     ]
    }
   ],
   "source": [
    "My_Klass = type.__call__(type, \"My_Klass\", (object,), {})\n",
    "print(My_Klass)"
   ]
  },
  {
   "cell_type": "code",
   "execution_count": 53,
   "metadata": {
    "collapsed": false
   },
   "outputs": [
    {
     "name": "stdout",
     "output_type": "stream",
     "text": [
      "<class '__main__.A'>\n",
      "<class '__main__.MyKlass'>\n"
     ]
    }
   ],
   "source": [
    "print(A)\n",
    "MyKlass = type.__new__(type, \"MyKlass\", (object,), {})\n",
    "type.__init__(MyKlass,\"MyKlass\", (object,), {})\n",
    "\n",
    "print(MyKlass)"
   ]
  },
  {
   "cell_type": "markdown",
   "metadata": {},
   "source": [
    "## 메타클래스를 이용해서 인스턴스 생성하기 \n",
    "\n",
    "     type.__call__ 메소드를 이용해서 기존 정의된 클래스와 클래스에 정의된 __init__ 메소드의 파라미터를 넣고 처리하면 인스턴스가 생성됨\n",
    "     "
   ]
  },
  {
   "cell_type": "code",
   "execution_count": 76,
   "metadata": {
    "collapsed": false
   },
   "outputs": [
    {
     "name": "stdout",
     "output_type": "stream",
     "text": [
      "True\n",
      "Dahl\n",
      "Moon\n"
     ]
    }
   ],
   "source": [
    "class A :\n",
    "    def __init__(self, name) :\n",
    "        self.name = name \n",
    "# 반드시 type.__call__로 호출이 되어야 함        \n",
    "a = type.__call__(A,\"Dahl\")\n",
    "print(isinstance(a, A))\n",
    "print(a.name)\n",
    "\n",
    "b = A(\"Moon\")\n",
    "print(b.name)"
   ]
  },
  {
   "cell_type": "markdown",
   "metadata": {},
   "source": [
    "# 9.  상속 이해하기\n",
    "\n",
    "    클래스의 책임성을 분할해서 관리하기\n",
    "    \n",
    "    슈퍼클래스와 sub 클래스로 분리해서 각각 클래스의 역할을 분리해서 배정하고 처리하기\n",
    "    "
   ]
  },
  {
   "cell_type": "markdown",
   "metadata": {},
   "source": [
    "### 상속만 받을 경우 부모 클래스의 메소드를 바로 사용함"
   ]
  },
  {
   "cell_type": "code",
   "execution_count": 128,
   "metadata": {
    "collapsed": false
   },
   "outputs": [
    {
     "name": "stdout",
     "output_type": "stream",
     "text": [
      "{'name': 'dahl', 'age': 30}\n"
     ]
    }
   ],
   "source": [
    "class Person :\n",
    "    def __init__(self, name, age) :\n",
    "        self.name = name\n",
    "        self.age = age\n",
    "        \n",
    "class Student(Person) :\n",
    "    pass\n",
    "        \n",
    "a = Student(\"dahl\",30)\n",
    "print(a.__dict__)"
   ]
  },
  {
   "cell_type": "markdown",
   "metadata": {},
   "source": [
    "### 오버라이딩 : 새로운 메소드 처리\n",
    "\n",
    "    자식 클래스에 오버라이딩해서 작성하면 부모 클래스의 메소드는 사용되지 않음"
   ]
  },
  {
   "cell_type": "code",
   "execution_count": 129,
   "metadata": {
    "collapsed": false
   },
   "outputs": [
    {
     "name": "stdout",
     "output_type": "stream",
     "text": [
      "{'name': 'dahl', 'shcool': 'college', 'age': 30}\n"
     ]
    }
   ],
   "source": [
    "class Person :\n",
    "    def __init__(self, name, age) :\n",
    "        self.name = name\n",
    "        self.age = age\n",
    "        \n",
    "class Student(Person) :\n",
    "    def __init__(self, name,age,school ) :\n",
    "        self.name = name\n",
    "        self.age = age\n",
    "        self.shcool = school\n",
    "        \n",
    "a = Student(\"dahl\",30, \"college\")\n",
    "print(a.__dict__)"
   ]
  },
  {
   "cell_type": "markdown",
   "metadata": {},
   "source": [
    "###  오버라이딩 하기  : super 이용해서 부모클래스 메소드 사용하기\n",
    "   \n",
    "    자식 클래스에 부모 클래스와 동일한 이름이 메소드를 정의하면 상속한 것을 사용할 수 없다.\n",
    "    이때 부모 클래스의 메소드를 추가해서 사용하려면 super를 이용해서 접근이 필요"
   ]
  },
  {
   "cell_type": "code",
   "execution_count": 127,
   "metadata": {
    "collapsed": false
   },
   "outputs": [
    {
     "name": "stdout",
     "output_type": "stream",
     "text": [
      "{'name': 'dahl', 'shcool': 'college', 'age': 30}\n"
     ]
    }
   ],
   "source": [
    "class Person :\n",
    "    def __init__(self, name, age) :\n",
    "        self.name = name\n",
    "        self.age = age\n",
    "        \n",
    "class Student(Person) :\n",
    "    def __init__(self, name,age,school ) :\n",
    "        super().__init__(name,age)\n",
    "        self.shcool = school\n",
    "        \n",
    "a = Student(\"dahl\",30, \"college\")\n",
    "print(a.__dict__)"
   ]
  },
  {
   "cell_type": "markdown",
   "metadata": {},
   "source": [
    "### __repr__, __str__ 오버라이딩 하기\n",
    "\n",
    "    __repr__ : r 포맷타입으로 처리, raw 문자열 처리\n",
    "    __str__  : s 포맷타입, 파이썬 문자열 처리"
   ]
  },
  {
   "cell_type": "code",
   "execution_count": 6,
   "metadata": {
    "collapsed": false
   },
   "outputs": [
    {
     "name": "stdout",
     "output_type": "stream",
     "text": [
      "ABCDE( '85047000' )\n",
      "ABCDE( 85047000 )\n"
     ]
    }
   ],
   "source": [
    "class ABCDE :\n",
    "    def __repr__(self) :\n",
    "        return 'ABCDE( %r )' % (str(id(self)))\n",
    "    \n",
    "    def __str__(self) :\n",
    "        return 'ABCDE( %s )' % (str(id(self)))\n",
    "    \n",
    "a = ABCDE()\n",
    "print(repr(a))\n",
    "print(str(a))"
   ]
  },
  {
   "cell_type": "code",
   "execution_count": 7,
   "metadata": {
    "collapsed": false
   },
   "outputs": [
    {
     "name": "stdout",
     "output_type": "stream",
     "text": [
      "<class '__main__.CC'>\n",
      "<class '__main__.AA'>\n",
      "<class '__main__.BB'>\n",
      "<class 'object'>\n"
     ]
    }
   ],
   "source": [
    "class AA :\n",
    "    def __init__(self,name) :\n",
    "        print(\" AA init \")\n",
    "        self.name = name\n",
    "        \n",
    "class BB : \n",
    "    def __init__(self,name) :\n",
    "        print(\" BB init \")\n",
    "        self.name = name\n",
    "        \n",
    "class CC(AA,BB) :\n",
    "    pass\n",
    "\n",
    "for i in CC.mro():\n",
    "    print(i)"
   ]
  },
  {
   "cell_type": "code",
   "execution_count": 8,
   "metadata": {
    "collapsed": false
   },
   "outputs": [
    {
     "name": "stdout",
     "output_type": "stream",
     "text": [
      " AA init \n",
      "cc\n"
     ]
    }
   ],
   "source": [
    "cc = CC(\"cc\")\n",
    "print(cc.name)"
   ]
  },
  {
   "cell_type": "markdown",
   "metadata": {},
   "source": [
    "# 10.duck typing 패턴 이해하기\n",
    "\n",
    "    여러 클래스에서 동일한 메소드를 처리할 경우 이를 하나의 인터페이스로 묶어 동일하게 처리하는 방법을 제공하는 패턴"
   ]
  },
  {
   "cell_type": "markdown",
   "metadata": {},
   "source": [
    "### 함수로 인터페이스 제공 "
   ]
  },
  {
   "cell_type": "code",
   "execution_count": 137,
   "metadata": {
    "collapsed": false
   },
   "outputs": [
    {
     "name": "stdout",
     "output_type": "stream",
     "text": [
      " Duck say\n",
      " Person say\n"
     ]
    }
   ],
   "source": [
    "#동일한 인터페이스를 위한 함수 제공\n",
    "def say(obj) :\n",
    "    return obj.say()\n",
    "\n",
    "# 클래스 정의\n",
    "\n",
    "class Duck :\n",
    "    def say(self) :\n",
    "        print(\" Duck say\")\n",
    "class Person :\n",
    "    def say(self) :\n",
    "        print(\" Person say\")\n",
    "        \n",
    "d = Duck()\n",
    "p = Person()\n",
    "\n",
    "say(d)\n",
    "say(p)"
   ]
  },
  {
   "cell_type": "markdown",
   "metadata": {},
   "source": [
    "### class로 인터페이스 제공"
   ]
  },
  {
   "cell_type": "code",
   "execution_count": 140,
   "metadata": {
    "collapsed": false
   },
   "outputs": [
    {
     "name": "stdout",
     "output_type": "stream",
     "text": [
      " Duck say\n",
      " Person say\n"
     ]
    }
   ],
   "source": [
    "#동일한 인터페이스를 위한 클래스 제공\n",
    "class Say :\n",
    "    @staticmethod\n",
    "    def say(obj) :\n",
    "        return obj.say()\n",
    "\n",
    "# 클래스 정의\n",
    "\n",
    "class Duck :\n",
    "    def say(self) :\n",
    "        print(\" Duck say\")\n",
    "class Person :\n",
    "    def say(self) :\n",
    "        print(\" Person say\")\n",
    "        \n",
    "d = Duck()\n",
    "p = Person()\n",
    "\n",
    "Say.say(d)\n",
    "Say.say(p)"
   ]
  },
  {
   "cell_type": "markdown",
   "metadata": {},
   "source": [
    "# 11.Mixin 패턴 이해하기\n",
    "\n",
    "    동일한 인터페이스를 상위 클래스로 지정하고 하위 클래스는 이 인터페이스를 사용만 하도록 하는 패턴"
   ]
  },
  {
   "cell_type": "code",
   "execution_count": 143,
   "metadata": {
    "collapsed": true
   },
   "outputs": [],
   "source": [
    "# 상위 클래스로 지정\n",
    "# 주요 처리 메소드만 지정\n",
    "class Mixin :\n",
    "    def add(self) :\n",
    "        return self.x+ self.y\n",
    "    "
   ]
  },
  {
   "cell_type": "code",
   "execution_count": 142,
   "metadata": {
    "collapsed": false
   },
   "outputs": [
    {
     "name": "stdout",
     "output_type": "stream",
     "text": [
      "10\n",
      "HelloWorld !!!\n"
     ]
    }
   ],
   "source": [
    "# 실제 실행할 클래스를 지정\n",
    "\n",
    "class num(Mixin) :\n",
    "    def __init__(self,x,y) :\n",
    "        self.x = x\n",
    "        self.y = y\n",
    "        \n",
    "class str_s(Mixin) :\n",
    "    def __init__(self,x,y) :\n",
    "        self.x = x\n",
    "        self.y = y\n",
    "        \n",
    "n = num(5,5)\n",
    "print(n.add())\n",
    "s = str_s(\"Hello\", \"World !!!\")\n",
    "print(s.add())\n",
    "        "
   ]
  },
  {
   "cell_type": "markdown",
   "metadata": {},
   "source": [
    "## 외부 함수와 메소드를 동시에 사용하는 패턴 이해하기\n",
    "\n",
    "\n",
    "     파이썬 각 모듈들을 보면 모듈 내에 함수를 정의하고 이를 클래스에 할당해서 함수와 메소드를 동시에 사용\n",
    "     \n",
    "     import numbers 모듈은 숫자에 대한 추상화클래스가 있는 모듈\n"
   ]
  },
  {
   "cell_type": "code",
   "execution_count": 164,
   "metadata": {
    "collapsed": false
   },
   "outputs": [
    {
     "name": "stdout",
     "output_type": "stream",
     "text": [
      "10\n",
      "10\n"
     ]
    }
   ],
   "source": [
    "import numbers\n",
    "\n",
    "def add(self, x=None,y=None) :\n",
    "    \n",
    "    if isinstance(self,numbers.Number) :\n",
    "        if self is None :\n",
    "            self= 0\n",
    "        if x is None :\n",
    "            x= 0\n",
    "        if y is None :\n",
    "            y=0\n",
    "        return self+x+y\n",
    "    else :\n",
    "        return self.x + self.y\n",
    "    \n",
    "class num_add :\n",
    "    def __init__(self, x, y) :\n",
    "        self.x = x\n",
    "        self.y = y\n",
    "        \n",
    "    add = add\n",
    "    \n",
    "a = num_add(5,5)\n",
    "print(a.add())\n",
    "\n",
    "print(add(5,5))"
   ]
  },
  {
   "cell_type": "markdown",
   "metadata": {},
   "source": [
    "## 함수를 이용해서 인스턴스 생성하는 패턴 이해하기 \n",
    "\n",
    "     클래스 __init__ 내의 파라미터가 다양할 경우 인스턴스 생성시 복잡도가 증가하므로 이를 함수로 대체해서 다양한 인스턴스를 만들기\n",
    "     \n",
    "     두개의 클래스에 대한 생성이 필요한 경우 함수에서 로직으로 각각을 생성할 수 있도록 조정해서 파라미터에 따라 \n",
    "     클래스를 확인해서 인스턴스를 만들어서 처리\n",
    "     "
   ]
  },
  {
   "cell_type": "code",
   "execution_count": 12,
   "metadata": {
    "collapsed": false
   },
   "outputs": [],
   "source": [
    "class Person :\n",
    "    def __init__(self, name, age, sex, job) :\n",
    "        self.name = name\n",
    "        self.age = age\n",
    "        self.sex = sex\n",
    "        self.job = job\n",
    "        \n",
    "class Student : \n",
    "    def __init__(self, name, age, sex, major) :\n",
    "        self.name = name\n",
    "        self.age = age\n",
    "        self.sex = sex\n",
    "        self.major = major\n",
    "        \n",
    "def create_Person(name,age,sex,job,major=None) :\n",
    "    if job.lower() == \"student\" :\n",
    "        return Student(name,age,sex,major)\n",
    "    else :\n",
    "        return Person(name,age,sex,job)\n"
   ]
  },
  {
   "cell_type": "code",
   "execution_count": 13,
   "metadata": {
    "collapsed": false
   },
   "outputs": [
    {
     "name": "stdout",
     "output_type": "stream",
     "text": [
      "<__main__.Person object at 0x00000000051F8630>\n",
      "{'job': 'software Engineer', 'name': 'Dahl', 'age': 30, 'sex': 'male'}\n",
      "<__main__.Student object at 0x00000000051F86D8>\n",
      "{'name': 'Dahl', 'major': 'comouter engineering', 'age': 30, 'sex': 'male'}\n"
     ]
    }
   ],
   "source": [
    "a = create_Person(\"Dahl\",30,\"male\",\"software Engineer\")\n",
    "print(a)\n",
    "print(a.__dict__)\n",
    "\n",
    "s = create_Person(\"Dahl\",30,\"male\",\"student\",\"comouter engineering\")\n",
    "print(s)\n",
    "print(s.__dict__)"
   ]
  },
  {
   "cell_type": "code",
   "execution_count": 4,
   "metadata": {
    "collapsed": false
   },
   "outputs": [
    {
     "name": "stdout",
     "output_type": "stream",
     "text": [
      "Collecting overload\n",
      "  Downloading overload-1.1.tar.gz\n",
      "Building wheels for collected packages: overload\n",
      "  Running setup.py bdist_wheel for overload: started\n",
      "  Running setup.py bdist_wheel for overload: finished with status 'done'\n",
      "  Stored in directory: C:\\Users\\06411\\AppData\\Local\\pip\\Cache\\wheels\\84\\11\\4f\\398b5a199ac6da983db67bbf794d8fd793f3c53da1254f74f4\n",
      "Successfully built overload\n",
      "Installing collected packages: overload\n",
      "Successfully installed overload-1.1\n"
     ]
    }
   ],
   "source": [
    "!pip install overload"
   ]
  },
  {
   "cell_type": "code",
   "execution_count": 8,
   "metadata": {
    "collapsed": false
   },
   "outputs": [
    {
     "name": "stdout",
     "output_type": "stream",
     "text": [
      "a\n",
      "(1, 2)\n"
     ]
    }
   ],
   "source": [
    "from overload import overload\n",
    "\n",
    "class A(object):\n",
    "    @overload\n",
    "    def method(self, a):\n",
    "        return 'a'\n",
    "    @method.add\n",
    "    def method(self, a, b):\n",
    "        return a, b\n",
    "\n",
    "    \n",
    "a = A()\n",
    "print(a.method(1))\n",
    "print(a.method(1, 2))\n"
   ]
  },
  {
   "cell_type": "code",
   "execution_count": 1,
   "metadata": {
    "collapsed": false
   },
   "outputs": [
    {
     "data": {
      "text/plain": [
       "['__abs__',\n",
       " '__add__',\n",
       " '__and__',\n",
       " '__bool__',\n",
       " '__ceil__',\n",
       " '__class__',\n",
       " '__delattr__',\n",
       " '__dir__',\n",
       " '__divmod__',\n",
       " '__doc__',\n",
       " '__eq__',\n",
       " '__float__',\n",
       " '__floor__',\n",
       " '__floordiv__',\n",
       " '__format__',\n",
       " '__ge__',\n",
       " '__getattribute__',\n",
       " '__getnewargs__',\n",
       " '__gt__',\n",
       " '__hash__',\n",
       " '__index__',\n",
       " '__init__',\n",
       " '__int__',\n",
       " '__invert__',\n",
       " '__le__',\n",
       " '__lshift__',\n",
       " '__lt__',\n",
       " '__mod__',\n",
       " '__mul__',\n",
       " '__ne__',\n",
       " '__neg__',\n",
       " '__new__',\n",
       " '__or__',\n",
       " '__pos__',\n",
       " '__pow__',\n",
       " '__radd__',\n",
       " '__rand__',\n",
       " '__rdivmod__',\n",
       " '__reduce__',\n",
       " '__reduce_ex__',\n",
       " '__repr__',\n",
       " '__rfloordiv__',\n",
       " '__rlshift__',\n",
       " '__rmod__',\n",
       " '__rmul__',\n",
       " '__ror__',\n",
       " '__round__',\n",
       " '__rpow__',\n",
       " '__rrshift__',\n",
       " '__rshift__',\n",
       " '__rsub__',\n",
       " '__rtruediv__',\n",
       " '__rxor__',\n",
       " '__setattr__',\n",
       " '__sizeof__',\n",
       " '__str__',\n",
       " '__sub__',\n",
       " '__subclasshook__',\n",
       " '__truediv__',\n",
       " '__trunc__',\n",
       " '__xor__',\n",
       " 'bit_length',\n",
       " 'conjugate',\n",
       " 'denominator',\n",
       " 'from_bytes',\n",
       " 'imag',\n",
       " 'numerator',\n",
       " 'real',\n",
       " 'to_bytes']"
      ]
     },
     "execution_count": 1,
     "metadata": {},
     "output_type": "execute_result"
    }
   ],
   "source": [
    "dir(int)"
   ]
  },
  {
   "cell_type": "code",
   "execution_count": 2,
   "metadata": {
    "collapsed": false
   },
   "outputs": [
    {
     "data": {
      "text/plain": [
       "['__abs__',\n",
       " '__add__',\n",
       " '__bool__',\n",
       " '__class__',\n",
       " '__delattr__',\n",
       " '__dir__',\n",
       " '__divmod__',\n",
       " '__doc__',\n",
       " '__eq__',\n",
       " '__float__',\n",
       " '__floordiv__',\n",
       " '__format__',\n",
       " '__ge__',\n",
       " '__getattribute__',\n",
       " '__getformat__',\n",
       " '__getnewargs__',\n",
       " '__gt__',\n",
       " '__hash__',\n",
       " '__init__',\n",
       " '__int__',\n",
       " '__le__',\n",
       " '__lt__',\n",
       " '__mod__',\n",
       " '__mul__',\n",
       " '__ne__',\n",
       " '__neg__',\n",
       " '__new__',\n",
       " '__pos__',\n",
       " '__pow__',\n",
       " '__radd__',\n",
       " '__rdivmod__',\n",
       " '__reduce__',\n",
       " '__reduce_ex__',\n",
       " '__repr__',\n",
       " '__rfloordiv__',\n",
       " '__rmod__',\n",
       " '__rmul__',\n",
       " '__round__',\n",
       " '__rpow__',\n",
       " '__rsub__',\n",
       " '__rtruediv__',\n",
       " '__setattr__',\n",
       " '__setformat__',\n",
       " '__sizeof__',\n",
       " '__str__',\n",
       " '__sub__',\n",
       " '__subclasshook__',\n",
       " '__truediv__',\n",
       " '__trunc__',\n",
       " 'as_integer_ratio',\n",
       " 'conjugate',\n",
       " 'fromhex',\n",
       " 'hex',\n",
       " 'imag',\n",
       " 'is_integer',\n",
       " 'real']"
      ]
     },
     "execution_count": 2,
     "metadata": {},
     "output_type": "execute_result"
    }
   ],
   "source": [
    "dir(float)"
   ]
  },
  {
   "cell_type": "code",
   "execution_count": 5,
   "metadata": {
    "collapsed": false
   },
   "outputs": [
    {
     "data": {
      "text/plain": [
       "{}"
      ]
     },
     "execution_count": 5,
     "metadata": {},
     "output_type": "execute_result"
    }
   ],
   "source": [
    "type.__prepare__()"
   ]
  },
  {
   "cell_type": "code",
   "execution_count": 7,
   "metadata": {
    "collapsed": false
   },
   "outputs": [
    {
     "name": "stdout",
     "output_type": "stream",
     "text": [
      "<class '__main__.Klass'>\n"
     ]
    }
   ],
   "source": [
    "a = type.__prepare__()\n",
    "Klass = type(\"Klass\",(object,),a)\n",
    "print(Klass)"
   ]
  },
  {
   "cell_type": "code",
   "execution_count": 10,
   "metadata": {
    "collapsed": false
   },
   "outputs": [
    {
     "name": "stdout",
     "output_type": "stream",
     "text": [
      "<class '__main__.Klass'>\n",
      "mappingproxy({'__dict__': <attribute '__dict__' of 'Klass' objects>,\n",
      "              '__doc__': None,\n",
      "              '__module__': '__main__',\n",
      "              '__weakref__': <attribute '__weakref__' of 'Klass' objects>,\n",
      "              'name': 'dahl'})\n"
     ]
    }
   ],
   "source": [
    "import pprint\n",
    "a = {\"name\" : \"dahl\"}\n",
    "namespace = type.__prepare__(\"Klass\",(object,),**a)\n",
    "Klass = type(\"Klass\",(object,),a)\n",
    "print(Klass)\n",
    "pprint.pprint(Klass.__dict__)"
   ]
  },
  {
   "cell_type": "code",
   "execution_count": 15,
   "metadata": {
    "collapsed": false
   },
   "outputs": [
    {
     "name": "stdout",
     "output_type": "stream",
     "text": [
      "Help on built-in function sorted in module builtins:\n",
      "\n",
      "sorted(iterable, key=None, reverse=False)\n",
      "    Return a new list containing all items from the iterable in ascending order.\n",
      "    \n",
      "    A custom key function can be supplied to customise the sort order, and the\n",
      "    reverse flag can be set to request the result in descending order.\n",
      "\n"
     ]
    }
   ],
   "source": [
    "help(sorted)"
   ]
  },
  {
   "cell_type": "code",
   "execution_count": 16,
   "metadata": {
    "collapsed": false
   },
   "outputs": [
    {
     "name": "stdout",
     "output_type": "stream",
     "text": [
      "['f', 'de', 'abc']\n"
     ]
    }
   ],
   "source": [
    "l = ['abc', 'de', 'f']\n",
    "\n",
    "ls = sorted(l, key=len)\n",
    "print(ls)\n"
   ]
  },
  {
   "cell_type": "code",
   "execution_count": 18,
   "metadata": {
    "collapsed": false
   },
   "outputs": [
    {
     "name": "stdout",
     "output_type": "stream",
     "text": [
      "['de', 'f', 'x']\n"
     ]
    }
   ],
   "source": [
    "l = ['x', 'de', 'f']\n",
    "\n",
    "ls = sorted(l)\n",
    "print(ls)"
   ]
  },
  {
   "cell_type": "code",
   "execution_count": 21,
   "metadata": {
    "collapsed": false
   },
   "outputs": [
    {
     "name": "stdout",
     "output_type": "stream",
     "text": [
      "['f', 'de', 'abc']\n"
     ]
    }
   ],
   "source": [
    "l = ['abc', 'de', 'f']\n",
    "\n",
    "ls = reversed(l)\n",
    "print(list(ls))"
   ]
  },
  {
   "cell_type": "code",
   "execution_count": 24,
   "metadata": {
    "collapsed": false
   },
   "outputs": [
    {
     "name": "stdout",
     "output_type": "stream",
     "text": [
      "Help on built-in function all in module builtins:\n",
      "\n",
      "all(iterable, /)\n",
      "    Return True if bool(x) is True for all values x in the iterable.\n",
      "    \n",
      "    If the iterable is empty, return True.\n",
      "\n"
     ]
    }
   ],
   "source": [
    "help(all)"
   ]
  },
  {
   "cell_type": "code",
   "execution_count": 25,
   "metadata": {
    "collapsed": false
   },
   "outputs": [
    {
     "name": "stdout",
     "output_type": "stream",
     "text": [
      "<__main__.Counter object at 0x0000000004CD1400>\n"
     ]
    },
    {
     "ename": "NameError",
     "evalue": "name 'x' is not defined",
     "output_type": "error",
     "traceback": [
      "\u001b[0;31m---------------------------------------------------------------------------\u001b[0m",
      "\u001b[0;31mNameError\u001b[0m                                 Traceback (most recent call last)",
      "\u001b[0;32m<ipython-input-25-3c5d2af1f5b2>\u001b[0m in \u001b[0;36m<module>\u001b[0;34m()\u001b[0m\n\u001b[1;32m      9\u001b[0m \u001b[0mprint\u001b[0m\u001b[1;33m(\u001b[0m\u001b[0mx\u001b[0m\u001b[1;33m)\u001b[0m\u001b[1;33m\u001b[0m\u001b[0m\n\u001b[1;32m     10\u001b[0m \u001b[1;32mdel\u001b[0m \u001b[0mx\u001b[0m\u001b[1;33m\u001b[0m\u001b[0m\n\u001b[0;32m---> 11\u001b[0;31m \u001b[0mprint\u001b[0m\u001b[1;33m(\u001b[0m\u001b[0mx\u001b[0m\u001b[1;33m)\u001b[0m\u001b[1;33m\u001b[0m\u001b[0m\n\u001b[0m",
      "\u001b[0;31mNameError\u001b[0m: name 'x' is not defined"
     ]
    }
   ],
   "source": [
    "class Counter:\n",
    "    \n",
    "    def __init__(self, name):\n",
    "        self.name = name\n",
    "        \n",
    "    def __del__(self):\n",
    "        del self\n",
    "x = Counter(\"First\")\n",
    "print(x)\n",
    "del x\n",
    "print(x)"
   ]
  },
  {
   "cell_type": "code",
   "execution_count": 28,
   "metadata": {
    "collapsed": false
   },
   "outputs": [
    {
     "name": "stdout",
     "output_type": "stream",
     "text": [
      " Class Attr \n",
      "<class '__main__.Counter'>\n"
     ]
    }
   ],
   "source": [
    "class Counter:\n",
    "    Name = \" Class Attr \"\n",
    "    @classmethod\n",
    "    def clsMethod(*args) :\n",
    "        return args[0].Name\n",
    "    \n",
    "print(Counter.clsMethod())\n",
    "print(Counter.clsMethod.__self__)"
   ]
  },
  {
   "cell_type": "code",
   "execution_count": 30,
   "metadata": {
    "collapsed": false
   },
   "outputs": [
    {
     "name": "stdout",
     "output_type": "stream",
     "text": [
      "dahl 50\n"
     ]
    }
   ],
   "source": [
    "class Klass :\n",
    "    def set(self, name,age) :\n",
    "        setattr(self,\"name\",name)\n",
    "        setattr(self,\"age\",age)\n",
    "        \n",
    "k = Klass()\n",
    "k.set(\"dahl\",50)\n",
    "print(k.name, k.age)"
   ]
  },
  {
   "cell_type": "code",
   "execution_count": 31,
   "metadata": {
    "collapsed": false
   },
   "outputs": [
    {
     "name": "stdout",
     "output_type": "stream",
     "text": [
      "[1, 3, 4]\n",
      "[1, 4]\n"
     ]
    }
   ],
   "source": [
    "l = [1,2,3,4]\n",
    "\n",
    "del l[1] \n",
    "print(l)\n",
    "\n",
    "l.__delitem__(1)\n",
    "print(l)"
   ]
  },
  {
   "cell_type": "code",
   "execution_count": 32,
   "metadata": {
    "collapsed": false
   },
   "outputs": [
    {
     "name": "stdout",
     "output_type": "stream",
     "text": [
      "(1, 2, 3, 4)\n"
     ]
    }
   ],
   "source": [
    "l = 1,2,3,4\n",
    "s = slice(0,4)\n",
    "print(l[s])"
   ]
  },
  {
   "cell_type": "code",
   "execution_count": 33,
   "metadata": {
    "collapsed": true
   },
   "outputs": [],
   "source": [
    "class A :\n",
    "    def __init__(self, name) :\n",
    "        self.name = name\n",
    "    def __getattribute__(self,name) :\n",
    "        print(\" getattribute \")\n",
    "        return object.__getattribute__(self,name)\n",
    "    \n",
    "    def __setattr__(self, name, value) :\n",
    "        print(\" setattr \")\n",
    "        object.__setattr__(self,name,value)"
   ]
  },
  {
   "cell_type": "code",
   "execution_count": 36,
   "metadata": {
    "collapsed": false
   },
   "outputs": [
    {
     "name": "stdout",
     "output_type": "stream",
     "text": [
      " setattr \n",
      " getattribute \n",
      "Dahl\n",
      " setattr \n",
      " getattribute \n",
      "50\n"
     ]
    }
   ],
   "source": [
    "a = A(\"Dahl\")\n",
    "print(a.name)\n",
    "a.age = 50\n",
    "print(a.age)"
   ]
  },
  {
   "cell_type": "code",
   "execution_count": null,
   "metadata": {
    "collapsed": true
   },
   "outputs": [],
   "source": []
  }
 ],
 "metadata": {
  "anaconda-cloud": {},
  "kernelspec": {
   "display_name": "Python [conda root]",
   "language": "python",
   "name": "conda-root-py"
  },
  "language_info": {
   "codemirror_mode": {
    "name": "ipython",
    "version": 3
   },
   "file_extension": ".py",
   "mimetype": "text/x-python",
   "name": "python",
   "nbconvert_exporter": "python",
   "pygments_lexer": "ipython3",
   "version": "3.5.2"
  }
 },
 "nbformat": 4,
 "nbformat_minor": 1
}
