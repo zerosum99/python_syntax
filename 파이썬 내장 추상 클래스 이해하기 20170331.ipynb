{
 "cells": [
  {
   "cell_type": "markdown",
   "metadata": {},
   "source": [
    "# 내장 추상 클래스 이해하기 \n",
    "\n",
    "    추상클래스는 구현되는 생성자가 존재하지 않고 사용하려면 상속받아서 구현하면 됨\n",
    "    "
   ]
  },
  {
   "cell_type": "markdown",
   "metadata": {},
   "source": [
    "# 1. abc \n",
    "\n",
    "    추상 메타클리스는 추상클래스를 만드는데 사용되는 클래스이며 abc 모듈에 있음\n",
    "    "
   ]
  },
  {
   "cell_type": "markdown",
   "metadata": {},
   "source": [
    "###  추상 메타 클래스 이해하기 \n",
    "\n",
    "    추상메타클래스는 사용자 추상클래스를 만들고 register로 튜플을 등록해서 체크할 수 있는 기능을 제공한다.\n",
    "    \n",
    "    "
   ]
  },
  {
   "cell_type": "code",
   "execution_count": null,
   "metadata": {
    "collapsed": false
   },
   "outputs": [],
   "source": [
    "import abc\n",
    "\n",
    "dir(abc)"
   ]
  },
  {
   "cell_type": "code",
   "execution_count": null,
   "metadata": {
    "collapsed": false
   },
   "outputs": [],
   "source": [
    "import abc\n",
    "\n",
    "# 추상 메타클래스\n",
    "print(type(abc.ABCMeta))\n",
    "\n",
    "# 추상클래스\n",
    "print(type(abc.ABC))"
   ]
  },
  {
   "cell_type": "markdown",
   "metadata": {},
   "source": [
    "###  사용자 정의 추상클래스 만들고 가상 서브클래스를 등록\n",
    "\n",
    "    register 메소드 :서브 클래스를이 ABC의 \"가상 서브 클래스\"로 등록하십시오.\n"
   ]
  },
  {
   "cell_type": "code",
   "execution_count": null,
   "metadata": {
    "collapsed": false
   },
   "outputs": [],
   "source": [
    "from abc import ABCMeta\n",
    "\n",
    "class MyABC(metaclass=ABCMeta):\n",
    "    pass\n",
    "\n",
    "# 추상클래스에 등록\n",
    "MyABC.register(tuple)\n",
    "\n",
    "print(issubclass(tuple, MyABC))\n",
    "print(isinstance((), MyABC))"
   ]
  },
  {
   "cell_type": "markdown",
   "metadata": {},
   "source": [
    "### 추상클래스 정의 후 상속없이도 subclass 확인하는 법\n"
   ]
  },
  {
   "cell_type": "markdown",
   "metadata": {},
   "source": [
    "#### 추상클래스 정의해서  __subclasshook__에  subclass 해당유무 추가\n"
   ]
  },
  {
   "cell_type": "code",
   "execution_count": null,
   "metadata": {
    "collapsed": false
   },
   "outputs": [],
   "source": [
    "from abc import ABCMeta, abstractmethod\n",
    "\n",
    "class Container(metaclass=ABCMeta):\n",
    "    __slots__ = ()\n",
    "\n",
    "    @abstractmethod\n",
    "    def __contains__(self, x):\n",
    "        return False\n",
    "\n",
    "    @classmethod\n",
    "    def __subclasshook__(cls, C):\n",
    "        if cls is Container:\n",
    "            if any(\"__contains__\" in B.__dict__ for B in C.__mro__):\n",
    "                return True\n",
    "        return NotImplemented\n"
   ]
  },
  {
   "cell_type": "markdown",
   "metadata": {},
   "source": [
    "#### 사용자 클래스를 정의해서 __contains__ 메소드 정의\n"
   ]
  },
  {
   "cell_type": "code",
   "execution_count": null,
   "metadata": {
    "collapsed": false
   },
   "outputs": [],
   "source": [
    "\n",
    "class ContainAllTheThings(object):\n",
    "    def __contains__(self, item):\n",
    "        return True\n",
    "    \n",
    "print(issubclass(ContainAllTheThings, Container))\n",
    "\n",
    "print(isinstance(ContainAllTheThings(),Container))"
   ]
  },
  {
   "cell_type": "code",
   "execution_count": null,
   "metadata": {
    "collapsed": false
   },
   "outputs": [],
   "source": [
    "class Meta(type) :\n",
    "    pass\n",
    "\n",
    "class A(metaclass=Meta) :\n",
    "    pass\n",
    "\n",
    "print(A.__class__)\n",
    "print(A.__bases__)"
   ]
  },
  {
   "cell_type": "code",
   "execution_count": null,
   "metadata": {
    "collapsed": false
   },
   "outputs": [],
   "source": [
    "print(type(1))\n",
    "\n",
    "if type(1) == (1).__class__ :\n",
    "    print(\" type check \")\n",
    "else :\n",
    "    print(\" no type check \")"
   ]
  },
  {
   "cell_type": "markdown",
   "metadata": {},
   "source": [
    "# 2. numbers\n",
    "\n",
    "    수 타입에 대한 추상클래스를 관리하는 모듈.\n",
    "    "
   ]
  },
  {
   "cell_type": "code",
   "execution_count": null,
   "metadata": {
    "collapsed": false
   },
   "outputs": [],
   "source": [
    "import numbers\n",
    "\n",
    "dir(numbers)"
   ]
  },
  {
   "cell_type": "code",
   "execution_count": null,
   "metadata": {
    "collapsed": false
   },
   "outputs": [],
   "source": [
    "import numbers\n",
    "\n",
    "print(numbers.abstractmethod)"
   ]
  },
  {
   "cell_type": "markdown",
   "metadata": {},
   "source": [
    "## 정수 : Integral"
   ]
  },
  {
   "cell_type": "code",
   "execution_count": null,
   "metadata": {
    "collapsed": false
   },
   "outputs": [],
   "source": [
    "import numbers\n",
    "print( issubclass(int, numbers.Integral ))"
   ]
  },
  {
   "cell_type": "markdown",
   "metadata": {},
   "source": [
    "## 유리수 : Rational"
   ]
  },
  {
   "cell_type": "code",
   "execution_count": null,
   "metadata": {
    "collapsed": false
   },
   "outputs": [],
   "source": [
    "import numbers\n",
    "import fractions\n",
    "\n",
    "print( issubclass(int, numbers.Rational ))\n",
    "print( issubclass(fractions.Fraction, numbers.Rational ))"
   ]
  },
  {
   "cell_type": "markdown",
   "metadata": {},
   "source": [
    "## 실수 : Real"
   ]
  },
  {
   "cell_type": "code",
   "execution_count": null,
   "metadata": {
    "collapsed": false
   },
   "outputs": [],
   "source": [
    "import numbers\n",
    "import fractions\n",
    "import decimal\n",
    "\n",
    "print( issubclass(int, numbers.Real ))\n",
    "print( issubclass(float, numbers.Real ))\n",
    "print( issubclass(fractions.Fraction, numbers.Real ))\n",
    "print( issubclass(decimal.Decimal, numbers.Real ))"
   ]
  },
  {
   "cell_type": "markdown",
   "metadata": {},
   "source": [
    "## 복소수 : Complex\n"
   ]
  },
  {
   "cell_type": "code",
   "execution_count": null,
   "metadata": {
    "collapsed": false
   },
   "outputs": [],
   "source": [
    "import numbers\n",
    "import fractions\n",
    "import decimal\n",
    "\n",
    "print( issubclass(int, numbers.Complex ))\n",
    "print( issubclass(float, numbers.Complex ))\n",
    "print( issubclass(complex, numbers.Complex ))\n",
    "print( issubclass(fractions.Fraction, numbers.Complex ))\n",
    "print( issubclass(decimal.Decimal, numbers.Complex ))"
   ]
  },
  {
   "cell_type": "markdown",
   "metadata": {},
   "source": [
    "## 수 : Number \n"
   ]
  },
  {
   "cell_type": "code",
   "execution_count": null,
   "metadata": {
    "collapsed": false
   },
   "outputs": [],
   "source": [
    "import numbers\n",
    "import fractions\n",
    "import decimal\n",
    "\n",
    "print( issubclass(int, numbers.Number ))\n",
    "print( issubclass(float, numbers.Number ))\n",
    "print( issubclass(complex, numbers.Number ))\n",
    "print( issubclass(fractions.Fraction, numbers.Number ))\n",
    "print( issubclass(decimal.Decimal, numbers.Number ))"
   ]
  },
  {
   "cell_type": "markdown",
   "metadata": {},
   "source": [
    "# 3. collections.abc\n",
    "\n",
    "    collections 타입에 대한 추상 클래스를 제공함.\n",
    "    "
   ]
  },
  {
   "cell_type": "code",
   "execution_count": null,
   "metadata": {
    "collapsed": false
   },
   "outputs": [],
   "source": [
    "import collections.abc as cols\n",
    "\n",
    "dir(cols)"
   ]
  },
  {
   "cell_type": "markdown",
   "metadata": {},
   "source": [
    "## Sequence 타입 : str,bytes, bytearray, tuple, list, \n"
   ]
  },
  {
   "cell_type": "code",
   "execution_count": null,
   "metadata": {
    "collapsed": false
   },
   "outputs": [],
   "source": [
    "import collections.abc as cols\n",
    "import array\n",
    "\n",
    "print(issubclass(str, cols.Sequence))\n",
    "print(issubclass(bytes, cols.Sequence))\n",
    "print(issubclass(bytearray, cols.Sequence))\n",
    "print(issubclass(tuple, cols.Sequence))\n",
    "print(issubclass(list, cols.Sequence))\n",
    "print(issubclass(array.array, cols.Sequence))"
   ]
  },
  {
   "cell_type": "code",
   "execution_count": null,
   "metadata": {
    "collapsed": false
   },
   "outputs": [],
   "source": [
    "import collections.abc as cols\n",
    "import array\n",
    "\n",
    "print(issubclass(str, cols.MutableSequence))\n",
    "print(issubclass(bytes, cols.MutableSequence))\n",
    "print(issubclass(bytearray, cols.MutableSequence))\n",
    "print(issubclass(tuple, cols.MutableSequence))\n",
    "print(issubclass(list, cols.MutableSequence))\n",
    "print(issubclass(array.array, cols.MutableSequence))"
   ]
  },
  {
   "cell_type": "markdown",
   "metadata": {},
   "source": [
    "## Mapping 타입 : dict\n"
   ]
  },
  {
   "cell_type": "code",
   "execution_count": null,
   "metadata": {
    "collapsed": false
   },
   "outputs": [],
   "source": [
    "import collections.abc as cols\n",
    "\n",
    "\n",
    "print(issubclass(dict, cols.Mapping))\n",
    "print(issubclass(dict, cols.MutableMapping))\n"
   ]
  },
  {
   "cell_type": "markdown",
   "metadata": {},
   "source": [
    "## Set  타입 : set, frozenset"
   ]
  },
  {
   "cell_type": "code",
   "execution_count": null,
   "metadata": {
    "collapsed": false
   },
   "outputs": [],
   "source": [
    "import collections.abc as cols\n",
    "\n",
    "\n",
    "print(issubclass(set, cols.Set))\n",
    "print(issubclass(set, cols.MutableSet))\n",
    "print(issubclass(frozenset, cols.Set))\n",
    "print(issubclass(frozenset, cols.MutableSet))"
   ]
  },
  {
   "cell_type": "markdown",
   "metadata": {},
   "source": [
    "## view 타입 \n",
    "\n",
    "\n",
    "    dict 타입 내부에 대한 정보를 읽어서 보여주는 타입\n",
    "    \n",
    "    dict 클래스 메소드인 keys/values/items의 결과를 보여주는 타입\n",
    "   "
   ]
  },
  {
   "cell_type": "code",
   "execution_count": null,
   "metadata": {
    "collapsed": false
   },
   "outputs": [],
   "source": [
    "# key\n",
    "import collections.abc as cols\n",
    "d = {'a': 1} \n",
    "\n",
    "kv = d.keys()\n",
    "\n",
    "print(issubclass(type(kv), cols.MappingView))\n",
    "print(issubclass(type(kv), cols.KeysView))"
   ]
  },
  {
   "cell_type": "code",
   "execution_count": null,
   "metadata": {
    "collapsed": false
   },
   "outputs": [],
   "source": [
    "# value\n",
    "import collections.abc as cols\n",
    "d = {'a': 1} \n",
    "\n",
    "vv = d.values()\n",
    "\n",
    "print(issubclass(type(vv), cols.MappingView))\n",
    "print(issubclass(type(vv), cols.ValuesView))"
   ]
  },
  {
   "cell_type": "code",
   "execution_count": null,
   "metadata": {
    "collapsed": false
   },
   "outputs": [],
   "source": [
    "# item( key, value)\n",
    "import collections.abc as cols\n",
    "d = {'a': 1} \n",
    "\n",
    "it = d.items()\n",
    "\n",
    "print(issubclass(type(it), cols.MappingView))\n",
    "print(issubclass(type(it), cols.ItemsView))"
   ]
  },
  {
   "cell_type": "markdown",
   "metadata": {},
   "source": [
    "## 내장 함수 결과에 대한 데이터 타입 확인 : range, zip, enumerate\n"
   ]
  },
  {
   "cell_type": "code",
   "execution_count": null,
   "metadata": {
    "collapsed": false
   },
   "outputs": [],
   "source": [
    "import collections.abc as cols\n",
    "\n",
    "a = range(10)\n",
    "print(type(a))\n",
    "print(issubclass(type(a), cols.Sequence))\n",
    "print(issubclass(type(a), cols.MutableSequence))\n",
    "print(issubclass(type(a), cols.Mapping))\n",
    "\n",
    "print(issubclass(type(a), cols.Generator))\n",
    "print(issubclass(type(a), cols.Iterable))\n",
    "print(issubclass(type(a), cols.Iterator))"
   ]
  },
  {
   "cell_type": "code",
   "execution_count": null,
   "metadata": {
    "collapsed": false
   },
   "outputs": [],
   "source": [
    "import collections.abc as cols\n",
    "\n",
    "a = zip(range(10), range(10))\n",
    "print(type(a))\n",
    "print(issubclass(type(a), cols.Sequence))\n",
    "print(issubclass(type(a), cols.MutableSequence))\n",
    "print(issubclass(type(a), cols.Mapping))\n",
    "print(issubclass(type(a), cols.Generator))\n",
    "print(issubclass(type(a), cols.Iterable))\n",
    "print(issubclass(type(a), cols.Iterator))"
   ]
  },
  {
   "cell_type": "code",
   "execution_count": null,
   "metadata": {
    "collapsed": false
   },
   "outputs": [],
   "source": [
    "import collections.abc as cols\n",
    "\n",
    "a = enumerate(range(10))\n",
    "print(type(a))\n",
    "print(issubclass(type(a), cols.Sequence))\n",
    "print(issubclass(type(a), cols.MutableSequence))\n",
    "print(issubclass(type(a), cols.Mapping))\n",
    "print(issubclass(type(a), cols.Generator))\n",
    "print(issubclass(type(a), cols.Iterable))\n",
    "print(issubclass(type(a), cols.Iterator))"
   ]
  },
  {
   "cell_type": "markdown",
   "metadata": {},
   "source": [
    "# 4. io 모듈 상속 관계 \n",
    "\n",
    "\n",
    "      io 처리는 Raw, Text, Buffer3가지 처리 할 수 있도록 구성 \n",
    "      "
   ]
  },
  {
   "cell_type": "markdown",
   "metadata": {},
   "source": [
    "### IOBase 추상클래스 \n",
    "\n",
    "     바이트의 스트림에 작용하는 모든 I / O 클래스의 추상 기본 클래스입니다. public 생성자가 없습니다.\n",
    "     "
   ]
  },
  {
   "cell_type": "code",
   "execution_count": null,
   "metadata": {
    "collapsed": false
   },
   "outputs": [],
   "source": [
    "import io\n",
    "\n",
    "print(io.IOBase.__bases__)"
   ]
  },
  {
   "cell_type": "markdown",
   "metadata": {},
   "source": [
    "### RawIOBase 추상클래스\n",
    "\n",
    "\n",
    "    FileIO는 바이트 데이터를 포함하는 OS 레벨 파일을 나타냅니다.\n",
    "    \n",
    "    RawIOBase 인터페이스 (따라서 IOBase 인터페이스도)를 구현합니다."
   ]
  },
  {
   "cell_type": "code",
   "execution_count": null,
   "metadata": {
    "collapsed": false
   },
   "outputs": [],
   "source": [
    "import io\n",
    "\n",
    "print(io.RawIOBase.__bases__)\n",
    "print(issubclass(io.RawIOBase, io.IOBase))"
   ]
  },
  {
   "cell_type": "markdown",
   "metadata": {},
   "source": [
    "#### RawIOBase만 가지는 속성"
   ]
  },
  {
   "cell_type": "code",
   "execution_count": null,
   "metadata": {
    "collapsed": false
   },
   "outputs": [],
   "source": [
    "iob = set(dir(io.IOBase))\n",
    "raw = set(dir(io.RawIOBase))\n",
    "\n",
    "print(raw-iob)"
   ]
  },
  {
   "cell_type": "code",
   "execution_count": null,
   "metadata": {
    "collapsed": false
   },
   "outputs": [],
   "source": [
    "import io\n",
    "\n",
    "print(io.TextIOBase.__bases__)"
   ]
  },
  {
   "cell_type": "markdown",
   "metadata": {},
   "source": [
    "#### 파일로 raw 처리"
   ]
  },
  {
   "cell_type": "markdown",
   "metadata": {},
   "source": [
    "###   파일  IO\n",
    "\n",
    "     FileIO는 바이트 데이터를 포함하는 OS 레벨 파일을 나타냅니다.\n",
    "    \n",
    "    RawIOBase 인터페이스 (따라서 IOBase 인터페이스도)를 구현합니다.\n"
   ]
  },
  {
   "cell_type": "code",
   "execution_count": null,
   "metadata": {
    "collapsed": false
   },
   "outputs": [],
   "source": [
    "f = open(\"data.txt\", \"rb\", buffering=0)\n",
    "print(f)\n",
    "\n",
    "print(issubclass(type(f), io.RawIOBase))"
   ]
  },
  {
   "cell_type": "code",
   "execution_count": null,
   "metadata": {
    "collapsed": false
   },
   "outputs": [],
   "source": [
    "import io\n",
    "\n",
    "print(io.FileIO.__bases__)\n",
    "print(issubclass(io.FileIO , io.IOBase))\n",
    "print(issubclass(io.FileIO,io.RawIOBase))\n",
    "# 텍스트 처리\n",
    "print(issubclass(io.StringIO, io.TextIOBase))\n",
    "# 바이너리 처리\n",
    "print(issubclass(io.StringIO, io.BufferedIOBase))\n"
   ]
  },
  {
   "cell_type": "markdown",
   "metadata": {},
   "source": [
    "### TextIOBase 추상 클래스\n",
    "\n",
    "     텍스트 스트림의 기본 클래스입니다. 이 클래스는 스트림 I / O에 문자 및 행 기반 인터페이스를 제공합니다. \n",
    "     \n",
    "     파이썬의 문자열은 불변이므로 readinto () 메소드는 없습니다. 그것은 IOBase를 상속합니다. public 생성자가 없습니다."
   ]
  },
  {
   "cell_type": "code",
   "execution_count": null,
   "metadata": {
    "collapsed": false
   },
   "outputs": [],
   "source": [
    "import io\n",
    "\n",
    "print(io.TextIOBase.__bases__)\n",
    "print(issubclass(io.TextIOBase, io.IOBase))"
   ]
  },
  {
   "cell_type": "markdown",
   "metadata": {},
   "source": [
    "####  TextIOBase만 가지는 속성"
   ]
  },
  {
   "cell_type": "code",
   "execution_count": null,
   "metadata": {
    "collapsed": false
   },
   "outputs": [],
   "source": [
    "iob = set(dir(io.IOBase))\n",
    "txt = set(dir(io.TextIOBase))\n",
    "\n",
    "print(txt-iob)"
   ]
  },
  {
   "cell_type": "markdown",
   "metadata": {},
   "source": [
    "## 실제 파일 처리"
   ]
  },
  {
   "cell_type": "code",
   "execution_count": null,
   "metadata": {
    "collapsed": false
   },
   "outputs": [],
   "source": [
    "import io\n",
    "\n",
    "f = open(\"data.txt\", \"rt\", encoding=\"utf-8\")\n",
    "print(f)\n",
    "\n",
    "print(issubclass(type(f), io.TextIOBase))\n"
   ]
  },
  {
   "cell_type": "markdown",
   "metadata": {},
   "source": [
    "## 파일 처리"
   ]
  },
  {
   "cell_type": "code",
   "execution_count": null,
   "metadata": {
    "collapsed": false
   },
   "outputs": [],
   "source": [
    "%%writefile data_text.txt\n",
    "moon\n",
    "dahl"
   ]
  },
  {
   "cell_type": "code",
   "execution_count": null,
   "metadata": {
    "collapsed": false
   },
   "outputs": [],
   "source": [
    "import io\n",
    "f = open(\"data_text.txt\",\"rt\")\n",
    "\n",
    "print(type(f))\n",
    "\n",
    "print(issubclass(type(f), io.TextIOBase))\n",
    "print(issubclass(type(f), io.TextIOWrapper))\n",
    "\n",
    "print(io.TextIOWrapper.__bases__)\n",
    "print(io.TextIOBase.__bases__)\n",
    "\n",
    "    \n",
    "for i in f :\n",
    "    print(i)"
   ]
  },
  {
   "cell_type": "code",
   "execution_count": null,
   "metadata": {
    "collapsed": false
   },
   "outputs": [],
   "source": [
    "io.TextIOWrapper.__bases__"
   ]
  },
  {
   "cell_type": "code",
   "execution_count": null,
   "metadata": {
    "collapsed": false
   },
   "outputs": [],
   "source": [
    "fb = open(\"data.bin\",\"rt\")\n",
    "\n",
    "print(type(fb))\n",
    "\n",
    "print(issubclass(type(fb), io.FileIO))\n",
    "\n",
    "print(issubclass(type(fb), io.TextIOWrapper))\n",
    "print(io.TextIOWrapper.__bases__)\n",
    "print(io.TextIOBase.__bases__)"
   ]
  },
  {
   "cell_type": "markdown",
   "metadata": {},
   "source": [
    "## 이미지 파일 처리"
   ]
  },
  {
   "cell_type": "code",
   "execution_count": null,
   "metadata": {
    "collapsed": false
   },
   "outputs": [],
   "source": [
    "import io\n",
    "from PIL import Image\n",
    "f = open(\"python_img.jpg\", \"rb\", buffering=0)\n",
    "print(f)\n",
    "\n",
    "print(issubclass(type(f), io.RawIOBase))\n",
    "\n",
    "im = Image.open(f)\n",
    "im.show()"
   ]
  },
  {
   "cell_type": "markdown",
   "metadata": {},
   "source": [
    "###  BufferedIOBase 추상클래스\n",
    "\n",
    "     버퍼링 된 입출력 스트림은 원시 입출력보다 높은 수준의 인터페이스를 입 / 출력 장치에 제공합니다."
   ]
  },
  {
   "cell_type": "code",
   "execution_count": null,
   "metadata": {
    "collapsed": false
   },
   "outputs": [],
   "source": [
    "import io\n",
    "\n",
    "print(io.BufferedIOBase.__bases__)\n",
    "\n",
    "print(issubclass(io.BufferedIOBase , io.IOBase))\n",
    "\n",
    "# raw 타입 \n",
    "print(issubclass(io.BufferedIOBase,io.RawIOBase))\n",
    "print(issubclass(io.BufferedIOBase, io.FileIO))"
   ]
  },
  {
   "cell_type": "code",
   "execution_count": null,
   "metadata": {
    "collapsed": false
   },
   "outputs": [],
   "source": [
    "import io\n",
    "\n",
    "print(io.BufferedIOBase.__bases__)"
   ]
  },
  {
   "cell_type": "markdown",
   "metadata": {},
   "source": [
    "#### BufferedIOBase만 가지는 속성"
   ]
  },
  {
   "cell_type": "code",
   "execution_count": null,
   "metadata": {
    "collapsed": false
   },
   "outputs": [],
   "source": [
    "iob = set(dir(io.IOBase))\n",
    "buf = set(dir(io.BufferedIOBase))\n",
    "\n",
    "print(buf-iob)"
   ]
  },
  {
   "cell_type": "markdown",
   "metadata": {},
   "source": [
    "### 문자열  IO"
   ]
  },
  {
   "cell_type": "code",
   "execution_count": null,
   "metadata": {
    "collapsed": false
   },
   "outputs": [],
   "source": [
    "import io\n",
    "\n",
    "# 추상클래스\n",
    "print(type(io.IOBase))\n",
    "\n",
    "print(issubclass(io.StringIO, io.IOBase))\n",
    "print(issubclass(io.StringIO, io.TextIOBase))\n",
    "\n",
    "# raw 타입 처리\n",
    "print(issubclass(io.StringIO, io.RawIOBase))\n",
    "print(issubclass(io.StringIO, io.FileIO))\n",
    "\n",
    "# 바이너리 처리(bytesIO)\n",
    "print(issubclass(io.StringIO, io.BufferedIOBase))\n",
    "\n",
    "\n",
    "print(io.StringIO.__bases__)"
   ]
  },
  {
   "cell_type": "code",
   "execution_count": null,
   "metadata": {
    "collapsed": false
   },
   "outputs": [],
   "source": [
    "import io\n",
    "\n",
    "fs = io.StringIO(\"some initial text data\")\n",
    "print(fs)\n",
    "print(issubclass(type(fs), io.TextIOBase))"
   ]
  },
  {
   "cell_type": "markdown",
   "metadata": {},
   "source": [
    "#### 문자열 처리"
   ]
  },
  {
   "cell_type": "code",
   "execution_count": null,
   "metadata": {
    "collapsed": false
   },
   "outputs": [],
   "source": [
    "import io\n",
    "\n",
    "# Writing to a buffer\n",
    "output = io.StringIO()\n",
    "output.write('This goes into the buffer. ')\n",
    "\n",
    "# print로 출력하기\n",
    "print('And so does this.', file=output)\n",
    "\n",
    "# Retrieve the value written\n",
    "print(output.getvalue())\n",
    "\n",
    "output.close()  # discard buffer memory\n",
    "\n",
    "# Initialize a read buffer\n",
    "input = io.StringIO('Inital value for read buffer')\n",
    "\n",
    "# Read from the buffer\n",
    "print(input.read())"
   ]
  },
  {
   "cell_type": "markdown",
   "metadata": {},
   "source": [
    "### bytes  IO"
   ]
  },
  {
   "cell_type": "code",
   "execution_count": null,
   "metadata": {
    "collapsed": false
   },
   "outputs": [],
   "source": [
    "import io\n",
    "\n",
    "# 추상클래스\n",
    "print(type(io.IOBase))\n",
    "\n",
    "print(issubclass(io.BytesIO, io.IOBase))\n",
    "\n",
    "print(issubclass(io.BytesIO, io.BufferedIOBase))\n",
    "\n",
    "f = open(\"data.txt\", \"rb\")\n",
    "print(f)\n",
    "\n",
    "\n",
    "# Text 처리 용\n",
    "print(issubclass(type(f), io.BufferedIOBase))\n",
    "print(issubclass(io.BytesIO, io.BufferedIOBase))\n"
   ]
  },
  {
   "cell_type": "code",
   "execution_count": null,
   "metadata": {
    "collapsed": false
   },
   "outputs": [],
   "source": [
    "import io\n",
    "\n",
    "f = open(\"data.txt\", \"rb\")\n",
    "print(f)\n",
    "\n",
    "fs = io.BytesIO(b\"some initial binary data: \\x00\\x01\")\n",
    "print(fs)"
   ]
  },
  {
   "cell_type": "code",
   "execution_count": null,
   "metadata": {
    "collapsed": false
   },
   "outputs": [],
   "source": [
    "import io\n",
    "\n",
    "f = open(\"data_text.txt\", \"rb\")\n",
    "print(f) \n",
    "for i in f :\n",
    "    print(i)"
   ]
  },
  {
   "cell_type": "markdown",
   "metadata": {},
   "source": [
    "#### 바이너리 처리 "
   ]
  },
  {
   "cell_type": "code",
   "execution_count": null,
   "metadata": {
    "collapsed": false
   },
   "outputs": [],
   "source": [
    "import io\n",
    "\n",
    "# Writing to a buffer\n",
    "output = io.BytesIO()\n",
    "output.write('This goes into the buffer. '.encode('utf-8'))\n",
    "output.write('ÁÇÊ'.encode('utf-8'))\n",
    "\n",
    "# Retrieve the value written\n",
    "print(output.getvalue())\n",
    "\n",
    "output.close()  # discard buffer memory\n",
    "\n",
    "# Initialize a read buffer\n",
    "input = io.BytesIO(b'Inital value for read buffer')\n",
    "\n",
    "# Read from the buffer\n",
    "print(input.read())"
   ]
  },
  {
   "cell_type": "markdown",
   "metadata": {},
   "source": [
    "###  BuffedIOBase 구현 클래스\n"
   ]
  },
  {
   "cell_type": "code",
   "execution_count": null,
   "metadata": {
    "collapsed": false
   },
   "outputs": [],
   "source": [
    "print(io.BufferedRWPair.__bases__)\n",
    "print( io.BufferedRandom.__bases__)\n",
    "print( io.BufferedReader.__bases__)\n",
    "print( io.BufferedWriter.__bases__)\n",
    "print(io.BytesIO.__bases__)"
   ]
  },
  {
   "cell_type": "markdown",
   "metadata": {},
   "source": [
    "### 스트림 처리"
   ]
  },
  {
   "cell_type": "markdown",
   "metadata": {},
   "source": [
    "####  파일을 bytes로 받으면 BufferedReader 로 처리"
   ]
  },
  {
   "cell_type": "code",
   "execution_count": null,
   "metadata": {
    "collapsed": false
   },
   "outputs": [],
   "source": [
    "import io\n",
    "\n",
    "f = open(\"data_text.txt\", \"rb\")\n",
    "print(f)\n",
    "\n",
    "fs = io.BytesIO(b\"some initial binary data: \\x00\\x01\")\n",
    "print(fs)"
   ]
  },
  {
   "cell_type": "markdown",
   "metadata": {},
   "source": [
    "####  스트림 처리를 하고 textwrapper를 이용해서 출력하기 "
   ]
  },
  {
   "cell_type": "code",
   "execution_count": null,
   "metadata": {
    "collapsed": false
   },
   "outputs": [],
   "source": [
    "import io\n",
    "\n",
    "# Writing to a buffer\n",
    "output = io.BytesIO()\n",
    "\n",
    "#텍스트에 출력하기\n",
    "wrapper = io.TextIOWrapper(\n",
    "    output,\n",
    "    encoding='utf-8',\n",
    "    write_through=True,\n",
    ")\n",
    "\n",
    "wrapper.write('This goes into the buffer. ')\n",
    "wrapper.write('ÁÇÊ')\n",
    "\n",
    "# Retrieve the value written\n",
    "print(output.getvalue())\n",
    "\n",
    "output.close()  # discard buffer memory\n"
   ]
  },
  {
   "cell_type": "markdown",
   "metadata": {},
   "source": [
    "#### 스트림을 받아  text로 처리 \n"
   ]
  },
  {
   "cell_type": "code",
   "execution_count": null,
   "metadata": {
    "collapsed": false
   },
   "outputs": [],
   "source": [
    "import io\n",
    "\n",
    "# Initialize a read buffer\n",
    "input = io.BytesIO(\n",
    "    b'Inital value for read buffer with unicode characters ' +\n",
    "    'ÁÇÊ'.encode('utf-8')\n",
    ")\n",
    "wrapper = io.TextIOWrapper(input, encoding='utf-8')\n",
    "\n",
    "# Read from the buffer\n",
    "print(wrapper.read())\n",
    "print(wrapper)"
   ]
  },
  {
   "cell_type": "markdown",
   "metadata": {},
   "source": [
    "#### 스트림을 받아 buffer 처리 \n"
   ]
  },
  {
   "cell_type": "code",
   "execution_count": null,
   "metadata": {
    "collapsed": false,
    "scrolled": true
   },
   "outputs": [],
   "source": [
    "import io\n",
    "\n",
    "s = \"가나다라마\"\n",
    "reader = io.BufferedReader(io.BytesIO(s.encode(\"utf-8\")))\n",
    "\n",
    "print(io.BufferedReader.__bases__)\n",
    "print(reader.read())\n",
    "\n",
    "wrapper = io.BufferedRWPair(io.BytesIO(s.encode(\"utf-8\")), wrapper)\n",
    "\n",
    "print(type(wrapper))\n",
    "print(wrapper.read())\n"
   ]
  },
  {
   "cell_type": "code",
   "execution_count": null,
   "metadata": {
    "collapsed": false
   },
   "outputs": [],
   "source": [
    "help(io.BufferedRWPair)"
   ]
  },
  {
   "cell_type": "code",
   "execution_count": null,
   "metadata": {
    "collapsed": false
   },
   "outputs": [],
   "source": [
    "dir(io.BufferedReader)"
   ]
  },
  {
   "cell_type": "code",
   "execution_count": null,
   "metadata": {
    "collapsed": false
   },
   "outputs": [],
   "source": [
    "import collections.abc as cols\n",
    "class Sequence(cols.Sequence) :\n",
    "    def __init__(self,value) :\n",
    "        self.value = value\n",
    "        \n",
    "    def __getitem__(self,index) :\n",
    "        return self.value[index]\n",
    "    \n",
    "    def __len__(self) :\n",
    "        return len(self.value)\n",
    "\n",
    "s = Sequence(\"abc\")\n",
    "\n",
    "print(s[0])\n",
    "print(len(s))"
   ]
  },
  {
   "cell_type": "code",
   "execution_count": null,
   "metadata": {
    "collapsed": false
   },
   "outputs": [],
   "source": [
    "import collections.abc as cols\n",
    "\n",
    "\n",
    "class Dict(cols.MutableMapping):\n",
    "    \n",
    "    def __init__(self, *args, **kwargs):\n",
    "        self.__dict__.update(*args, **kwargs)\n",
    "        \n",
    "    def __setitem__(self, key, value):\n",
    "        self.__dict__[key] = value\n",
    "        \n",
    "    def __getitem__(self, key):\n",
    "        return self.__dict__[key]\n",
    "    \n",
    "    def __delitem__(self, key):\n",
    "        del self.__dict__[key]\n",
    "        \n",
    "    def __iter__(self):\n",
    "        return iter(self.__dict__)\n",
    "    \n",
    "    def __len__(self):\n",
    "        return len(self.__dict__)\n",
    "    "
   ]
  },
  {
   "cell_type": "code",
   "execution_count": null,
   "metadata": {
    "collapsed": false
   },
   "outputs": [],
   "source": [
    "d = Dict(a=1)\n",
    "print(d)\n",
    "print(d['a'])"
   ]
  },
  {
   "cell_type": "code",
   "execution_count": null,
   "metadata": {
    "collapsed": true
   },
   "outputs": [],
   "source": [
    "import collections.abc as cols\n",
    "\n",
    "class Set(cols.MutableSet):\n",
    "    \n",
    "    def __init__(self, *args, **kwargs):\n",
    "        self.set = set()\n",
    "        self.set.update(*args, **kwargs)\n",
    "              \n",
    "    def __contains__(self, value):\n",
    "        return value in self.set\n",
    "    \n",
    "    def __iter__(self):\n",
    "        return iter(self.set)\n",
    "    \n",
    "    def __len__(self):\n",
    "        return len(self.set)\n",
    "    \n",
    "    def add(self,value) :\n",
    "        return self.set.add(value)\n",
    "        \n",
    "    def discard(self,value) :\n",
    "        return self.set.discard(value)\n",
    "    \n",
    "    def __str__(self) :\n",
    "        return str(self.set)\n",
    "    "
   ]
  },
  {
   "cell_type": "code",
   "execution_count": null,
   "metadata": {
    "collapsed": false
   },
   "outputs": [],
   "source": [
    "s = Set([1,2,3])\n",
    "\n",
    "print(s)"
   ]
  },
  {
   "cell_type": "code",
   "execution_count": 19,
   "metadata": {
    "collapsed": false
   },
   "outputs": [],
   "source": [
    "import numbers\n",
    "\n",
    "class INT(numbers.Integral) :\n",
    "    def __init__(self, value) :\n",
    "        self.value = value\n",
    "    def __abs__ (self) :\n",
    "        if self.value < 0 :\n",
    "            return INT(self.value * -1)\n",
    "        else :\n",
    "            return INT(self.value)\n",
    "    def __add__ (self, other) :\n",
    "        return INT(self.value + other.value)\n",
    "    def  __and__(self, other) :\n",
    "        return self.value & other.value \n",
    "  \n",
    "    def __floordiv__(self, other) :\n",
    "        return INT(int(self.value/other.value))\n",
    "    def __ceil__(self) : pass\n",
    "    def __eq__(self, other) : pass \n",
    "    def __floor__(self) : pass\n",
    "    def __int__(self) : pass \n",
    "    def __invert__(self) : pass \n",
    "    def __le__(self, other) : pass  \n",
    "    def __lshift__(self, other) : pass \n",
    "    def __lt__(self, other) : pass  \n",
    "    def __mod__(self, other) : pass \n",
    "    def __mul__(self, other) : pass  \n",
    "    def __neg__(self) : pass  \n",
    "    def __or__(self, other) : pass \n",
    "    def __pos__(self) : pass  \n",
    "    def __pow__(self, other) : pass \n",
    "    def __radd__(self, other) : pass \n",
    "    def __rand__(self, other) : pass \n",
    "    def __rfloordiv__(self, other) : pass \n",
    "    def __rlshift__(self, other) : pass \n",
    "    def __rmod__(self, other) : pass \n",
    "    def __rmul__(self, other) : pass \n",
    "    def __ror__(self, other) : pass \n",
    "    def __round__(self, other) : pass \n",
    "    def __rpow__(self, other) : pass \n",
    "    def __rrshift__(self, other) : pass \n",
    "    def __rshift__(self, other) : pass \n",
    "    def __rtruediv__(self, other) : pass \n",
    "    def __rxor__(self, other) : pass \n",
    "    def __truediv__(self, other) : pass \n",
    "    def __trunc__(self) : pass \n",
    "    def __xor__(self, other) : pass \n",
    "    \n",
    "    def __str__(self) :\n",
    "        return \"INT({:d})\".format(self.value)"
   ]
  },
  {
   "cell_type": "code",
   "execution_count": 20,
   "metadata": {
    "collapsed": false
   },
   "outputs": [
    {
     "name": "stdout",
     "output_type": "stream",
     "text": [
      "INT(100)\n",
      "INT(200)\n",
      "INT(999)\n",
      "INT(5)\n"
     ]
    }
   ],
   "source": [
    "i = INT(100)\n",
    "print(i)\n",
    "print(i+i)\n",
    "\n",
    "print(INT.__abs__(INT(-999)))\n",
    "print(INT.__floordiv__(INT(10),INT(2)))"
   ]
  },
  {
   "cell_type": "code",
   "execution_count": 12,
   "metadata": {
    "collapsed": false
   },
   "outputs": [
    {
     "data": {
      "text/plain": [
       "5"
      ]
     },
     "execution_count": 12,
     "metadata": {},
     "output_type": "execute_result"
    }
   ],
   "source": [
    "int.__floordiv__(10,2)"
   ]
  },
  {
   "cell_type": "code",
   "execution_count": 21,
   "metadata": {
    "collapsed": false
   },
   "outputs": [
    {
     "data": {
      "text/plain": [
       "type"
      ]
     },
     "execution_count": 21,
     "metadata": {},
     "output_type": "execute_result"
    }
   ],
   "source": [
    "type(property)"
   ]
  },
  {
   "cell_type": "code",
   "execution_count": 22,
   "metadata": {
    "collapsed": false
   },
   "outputs": [
    {
     "name": "stdout",
     "output_type": "stream",
     "text": [
      "Help on class property in module builtins:\n",
      "\n",
      "class property(object)\n",
      " |  property(fget=None, fset=None, fdel=None, doc=None) -> property attribute\n",
      " |  \n",
      " |  fget is a function to be used for getting an attribute value, and likewise\n",
      " |  fset is a function for setting, and fdel a function for del'ing, an\n",
      " |  attribute.  Typical use is to define a managed attribute x:\n",
      " |  \n",
      " |  class C(object):\n",
      " |      def getx(self): return self._x\n",
      " |      def setx(self, value): self._x = value\n",
      " |      def delx(self): del self._x\n",
      " |      x = property(getx, setx, delx, \"I'm the 'x' property.\")\n",
      " |  \n",
      " |  Decorators make defining new properties or modifying existing ones easy:\n",
      " |  \n",
      " |  class C(object):\n",
      " |      @property\n",
      " |      def x(self):\n",
      " |          \"I am the 'x' property.\"\n",
      " |          return self._x\n",
      " |      @x.setter\n",
      " |      def x(self, value):\n",
      " |          self._x = value\n",
      " |      @x.deleter\n",
      " |      def x(self):\n",
      " |          del self._x\n",
      " |  \n",
      " |  Methods defined here:\n",
      " |  \n",
      " |  __delete__(self, instance, /)\n",
      " |      Delete an attribute of instance.\n",
      " |  \n",
      " |  __get__(self, instance, owner, /)\n",
      " |      Return an attribute of instance, which is of type owner.\n",
      " |  \n",
      " |  __getattribute__(self, name, /)\n",
      " |      Return getattr(self, name).\n",
      " |  \n",
      " |  __init__(self, /, *args, **kwargs)\n",
      " |      Initialize self.  See help(type(self)) for accurate signature.\n",
      " |  \n",
      " |  __new__(*args, **kwargs) from builtins.type\n",
      " |      Create and return a new object.  See help(type) for accurate signature.\n",
      " |  \n",
      " |  __set__(self, instance, value, /)\n",
      " |      Set an attribute of instance to value.\n",
      " |  \n",
      " |  deleter(...)\n",
      " |      Descriptor to change the deleter on a property.\n",
      " |  \n",
      " |  getter(...)\n",
      " |      Descriptor to change the getter on a property.\n",
      " |  \n",
      " |  setter(...)\n",
      " |      Descriptor to change the setter on a property.\n",
      " |  \n",
      " |  ----------------------------------------------------------------------\n",
      " |  Data descriptors defined here:\n",
      " |  \n",
      " |  __isabstractmethod__\n",
      " |  \n",
      " |  fdel\n",
      " |  \n",
      " |  fget\n",
      " |  \n",
      " |  fset\n",
      "\n"
     ]
    }
   ],
   "source": [
    "help(property)"
   ]
  },
  {
   "cell_type": "code",
   "execution_count": 24,
   "metadata": {
    "collapsed": false
   },
   "outputs": [
    {
     "name": "stdout",
     "output_type": "stream",
     "text": [
      "{'name': 'Dahl'}\n"
     ]
    }
   ],
   "source": [
    "class Descriptor :\n",
    "    def __init__(self, name) :\n",
    "        self.name = \"_\" + name\n",
    "        \n",
    "    def __get__(self,instance, owner=None) :\n",
    "        return instance.__dict__[self.name]\n",
    "    \n",
    "    \n",
    "class Owner :\n",
    "    name = Descriptor(\"name\")\n",
    "    \n",
    "    \n",
    "o = Owner()\n",
    "o.name = \"Dahl\"\n",
    "print(o.__dict__)\n",
    "        "
   ]
  },
  {
   "cell_type": "code",
   "execution_count": null,
   "metadata": {
    "collapsed": true
   },
   "outputs": [],
   "source": []
  }
 ],
 "metadata": {
  "anaconda-cloud": {},
  "kernelspec": {
   "display_name": "Python [conda root]",
   "language": "python",
   "name": "conda-root-py"
  },
  "language_info": {
   "codemirror_mode": {
    "name": "ipython",
    "version": 3
   },
   "file_extension": ".py",
   "mimetype": "text/x-python",
   "name": "python",
   "nbconvert_exporter": "python",
   "pygments_lexer": "ipython3",
   "version": "3.5.2"
  }
 },
 "nbformat": 4,
 "nbformat_minor": 1
}
