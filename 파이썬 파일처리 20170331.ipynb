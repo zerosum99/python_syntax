{
 "cells": [
  {
   "cell_type": "markdown",
   "metadata": {},
   "source": [
    "# 파일 처리"
   ]
  },
  {
   "cell_type": "markdown",
   "metadata": {},
   "source": [
    "## 파일도 하나의 객체"
   ]
  },
  {
   "cell_type": "code",
   "execution_count": 1,
   "metadata": {
    "collapsed": false
   },
   "outputs": [
    {
     "name": "stdout",
     "output_type": "stream",
     "text": [
      "<class '_io.TextIOWrapper'>\n"
     ]
    }
   ],
   "source": [
    "f = open(\"data.txt1\",\"rt\", encoding=\"utf-8\")\n",
    "\n",
    "print(type(f))"
   ]
  },
  {
   "cell_type": "markdown",
   "metadata": {},
   "source": [
    "### text I/O\n",
    "\n",
    "\n",
    "     텍스트 I / O는 str 객체를 필요로하고 생성합니다. \n",
    "     \n",
    "     기본적으로 바이트로 만들어 질 때마다 (파일의 경우와 같이) 데이터의 인코딩과 디코딩이 투명하게 이루어지며 플랫폼 별\n",
    "     \n",
    "     개행 문자의 선택적 변환이 이루어집니다."
   ]
  },
  {
   "cell_type": "code",
   "execution_count": 5,
   "metadata": {
    "collapsed": false
   },
   "outputs": [
    {
     "name": "stdout",
     "output_type": "stream",
     "text": [
      "<_io.TextIOWrapper name='data.txt' mode='rt' encoding='utf-8'>\n",
      "<_io.StringIO object at 0x0000000005345048>\n"
     ]
    }
   ],
   "source": [
    "import io\n",
    "\n",
    "f = open(\"data.txt\", \"rt\", encoding=\"utf-8\")\n",
    "print(f)\n",
    "\n",
    "fs = io.StringIO(\"some initial text data\")\n",
    "print(fs)"
   ]
  },
  {
   "cell_type": "markdown",
   "metadata": {},
   "source": [
    "### binary I/O\n",
    "\n",
    "     이진 I / O (버퍼링 된 I / O라고도 함)는 바이트 개체를 필요로하며 생성합니다. \n",
    "     \n",
    "     인코딩, 디코딩 또는 개행 문자 변환은 수행되지 않습니다. \n",
    "     \n",
    "     이 범주의 스트림은 모든 종류의 비 텍스트 데이터에 사용할 수 있으며 텍스트 데이터 처리에 대한 수동 제어가 필요한 경우에도 \n",
    "     \n",
    "     사용할 수 있습니다."
   ]
  },
  {
   "cell_type": "code",
   "execution_count": 2,
   "metadata": {
    "collapsed": false
   },
   "outputs": [
    {
     "name": "stdout",
     "output_type": "stream",
     "text": [
      "<_io.BufferedReader name='data.txt'>\n",
      "True\n",
      "<_io.BytesIO object at 0x0000000004A26780>\n",
      "True\n"
     ]
    }
   ],
   "source": [
    "import io\n",
    "\n",
    "f = open(\"data.txt\", \"rb\")\n",
    "print(f)\n",
    "print(issubclass(type(f),io.BufferedIOBase))\n",
    "\n",
    "fs = io.BytesIO(b\"some initial binary data: \\x00\\x01\")\n",
    "print(fs)\n",
    "print(issubclass(type(fs),io.BufferedIOBase))"
   ]
  },
  {
   "cell_type": "code",
   "execution_count": 3,
   "metadata": {
    "collapsed": false
   },
   "outputs": [
    {
     "name": "stdout",
     "output_type": "stream",
     "text": [
      "<_io.BufferedWriter name='data.txt'>\n",
      "True\n"
     ]
    }
   ],
   "source": [
    "f = open(\"data.txt\", \"wb\")\n",
    "print(f)\n",
    "print(issubclass(type(f),io.BufferedIOBase))"
   ]
  },
  {
   "cell_type": "markdown",
   "metadata": {},
   "source": [
    "### Raw I/O\n",
    "\n",
    "     Raw I / O (버퍼되지 않은 I / O라고도 함)는 일반적으로 2 진 및 텍스트 스트림에 대한 저수준 빌딩 블록으로 사용됩니다.\n",
    "     \n",
    "     사용자 코드에서 원시 스트림을 직접 조작하는 것은 거의 유용하지 않습니다."
   ]
  },
  {
   "cell_type": "code",
   "execution_count": 9,
   "metadata": {
    "collapsed": false
   },
   "outputs": [
    {
     "name": "stdout",
     "output_type": "stream",
     "text": [
      "<_io.FileIO name='data.txt' mode='rb' closefd=True>\n"
     ]
    }
   ],
   "source": [
    "f = open(\"data.txt\", \"rb\", buffering=0)\n",
    "print(f)"
   ]
  },
  {
   "cell_type": "markdown",
   "metadata": {},
   "source": [
    "## 파일은 반복자 처리를 하는 객체\n"
   ]
  },
  {
   "cell_type": "code",
   "execution_count": 20,
   "metadata": {
    "collapsed": false
   },
   "outputs": [
    {
     "name": "stdout",
     "output_type": "stream",
     "text": [
      "True\n",
      "True\n",
      "True\n",
      "False\n"
     ]
    }
   ],
   "source": [
    "import collections.abc as cols\n",
    "\n",
    "print(issubclass(type(f), cols.Iterable))\n",
    "print(issubclass(type(f), cols.Iterator))\n",
    "print(issubclass(cols.Generator, cols.Iterator))\n",
    "print(issubclass(type(f), cols.Generator))"
   ]
  },
  {
   "cell_type": "markdown",
   "metadata": {},
   "source": [
    "### 파일 주요 속성 "
   ]
  },
  {
   "cell_type": "markdown",
   "metadata": {},
   "source": [
    "#### mode 이해하기\n",
    "\n",
    "    첫번째 자리 : w (쓰기) , r(읽기), x( 파일이 없으면 쓰기), a( 기존 파일 끝이 첨부해서 쓰기)\n",
    "    \n",
    "    두번째 자리 : t ( 텍스트), b( bytes) \n",
    "    \n",
    "       "
   ]
  },
  {
   "cell_type": "code",
   "execution_count": 16,
   "metadata": {
    "collapsed": false
   },
   "outputs": [
    {
     "name": "stdout",
     "output_type": "stream",
     "text": [
      "data.txt1\n",
      "None\n",
      "rt\n",
      "utf-8\n"
     ]
    }
   ],
   "source": [
    "f = open(\"data.txt\", \"rb\", buffering=0)\n",
    "print(f)\n",
    "print(f.name)\n",
    "print(f.newlines)\n",
    "print(f.mode)\n",
    "print(f.encoding)"
   ]
  },
  {
   "cell_type": "markdown",
   "metadata": {},
   "source": [
    "## 반복자에 따른 for문으로 처리\n"
   ]
  },
  {
   "cell_type": "code",
   "execution_count": 2,
   "metadata": {
    "collapsed": false
   },
   "outputs": [
    {
     "name": "stdout",
     "output_type": "stream",
     "text": [
      "Overwriting data.txt\n"
     ]
    }
   ],
   "source": [
    "%%writefile data.txt\n",
    "Moon"
   ]
  },
  {
   "cell_type": "code",
   "execution_count": 3,
   "metadata": {
    "collapsed": false
   },
   "outputs": [
    {
     "name": "stdout",
     "output_type": "stream",
     "text": [
      "<_io.FileIO name='data.txt' mode='rb' closefd=True>\n",
      "b'Moon'\n"
     ]
    }
   ],
   "source": [
    "f = open(\"data.txt\", \"rb\", buffering=0)\n",
    "print(f)\n",
    "for i in f :\n",
    "    print(i)\n",
    "    \n",
    "f.close()"
   ]
  },
  {
   "cell_type": "markdown",
   "metadata": {},
   "source": [
    "## 파일을 쓰고 다시 읽고 반복자 형태(__next__)로 읽기\n"
   ]
  },
  {
   "cell_type": "code",
   "execution_count": 21,
   "metadata": {
    "collapsed": true
   },
   "outputs": [],
   "source": [
    "fw = open(\"data.txt\",\"wt\", encoding=\"utf-8\")\n",
    "\n",
    "fw.write(\"fist line\\n\")\n",
    "fw.write(\"second line\\n\")\n",
    "fw.close()"
   ]
  },
  {
   "cell_type": "markdown",
   "metadata": {},
   "source": [
    "###  반복자이니 next 함수로 읽고 끝을 만나면 StoIteration 예외처리 "
   ]
  },
  {
   "cell_type": "code",
   "execution_count": 23,
   "metadata": {
    "collapsed": false
   },
   "outputs": [
    {
     "name": "stdout",
     "output_type": "stream",
     "text": [
      "fist line\n",
      "\n",
      "second line\n",
      "\n"
     ]
    },
    {
     "ename": "StopIteration",
     "evalue": "",
     "output_type": "error",
     "traceback": [
      "\u001b[0;31m---------------------------------------------------------------------------\u001b[0m",
      "\u001b[0;31mStopIteration\u001b[0m                             Traceback (most recent call last)",
      "\u001b[0;32m<ipython-input-23-695a942a481b>\u001b[0m in \u001b[0;36m<module>\u001b[0;34m()\u001b[0m\n\u001b[1;32m      3\u001b[0m \u001b[0mprint\u001b[0m\u001b[1;33m(\u001b[0m\u001b[0mnext\u001b[0m\u001b[1;33m(\u001b[0m\u001b[0mfr\u001b[0m\u001b[1;33m)\u001b[0m\u001b[1;33m)\u001b[0m\u001b[1;33m\u001b[0m\u001b[0m\n\u001b[1;32m      4\u001b[0m \u001b[0mprint\u001b[0m\u001b[1;33m(\u001b[0m\u001b[0mnext\u001b[0m\u001b[1;33m(\u001b[0m\u001b[0mfr\u001b[0m\u001b[1;33m)\u001b[0m\u001b[1;33m)\u001b[0m\u001b[1;33m\u001b[0m\u001b[0m\n\u001b[0;32m----> 5\u001b[0;31m \u001b[0mprint\u001b[0m\u001b[1;33m(\u001b[0m\u001b[0mnext\u001b[0m\u001b[1;33m(\u001b[0m\u001b[0mfr\u001b[0m\u001b[1;33m)\u001b[0m\u001b[1;33m)\u001b[0m\u001b[1;33m\u001b[0m\u001b[0m\n\u001b[0m",
      "\u001b[0;31mStopIteration\u001b[0m: "
     ]
    }
   ],
   "source": [
    "fr = open(\"data.txt\",\"rt\", encoding=\"utf-8\")\n",
    "\n",
    "print(next(fr))\n",
    "print(next(fr))\n",
    "print(next(fr))"
   ]
  },
  {
   "cell_type": "markdown",
   "metadata": {},
   "source": [
    "### 파일 전체를 읽는다.\n"
   ]
  },
  {
   "cell_type": "code",
   "execution_count": 28,
   "metadata": {
    "collapsed": false
   },
   "outputs": [
    {
     "name": "stdout",
     "output_type": "stream",
     "text": [
      "['fist line\\n', 'second line\\n']\n",
      "2\n"
     ]
    }
   ],
   "source": [
    "fw = open(\"data.txt\",\"wt\", encoding=\"utf-8\")\n",
    "\n",
    "fw.write(\"fist line\\n\")\n",
    "fw.write(\"second line\\n\")\n",
    "fw.close()\n",
    "\n",
    "fr = open(\"data.txt\",\"rt\", encoding=\"utf-8\")\n",
    "\n",
    "# 라인별로 리스트 타입에 넣는다.\n",
    "a = fr.readlines()\n",
    "\n",
    "print(a)\n",
    "print(len(a))\n",
    "\n",
    "fr.close()"
   ]
  },
  {
   "cell_type": "markdown",
   "metadata": {},
   "source": [
    "### 파일 한 라인을 읽는다."
   ]
  },
  {
   "cell_type": "code",
   "execution_count": 31,
   "metadata": {
    "collapsed": false
   },
   "outputs": [
    {
     "name": "stdout",
     "output_type": "stream",
     "text": [
      "fist line\n",
      "\n",
      "10\n",
      "second line\n",
      "\n",
      "12\n"
     ]
    }
   ],
   "source": [
    "fr = open(\"data.txt\",\"rt\", encoding=\"utf-8\")\n",
    "\n",
    "# 라인 하나를 읽는다 \n",
    "a = fr.readline()\n",
    "\n",
    "print(a)\n",
    "print(len(a))\n",
    "\n",
    "b = fr.readline()\n",
    "\n",
    "print(b)\n",
    "print(len(b))\n",
    "\n",
    "fr.close()"
   ]
  },
  {
   "cell_type": "markdown",
   "metadata": {},
   "source": [
    "### 파일을 읽을 때  특정 단위로 읽기\n"
   ]
  },
  {
   "cell_type": "code",
   "execution_count": 33,
   "metadata": {
    "collapsed": false
   },
   "outputs": [
    {
     "name": "stdout",
     "output_type": "stream",
     "text": [
      "fist line\n",
      "\n",
      "10\n",
      "second line\n",
      "\n",
      "12\n"
     ]
    }
   ],
   "source": [
    "fr = open(\"data.txt\",\"rt\", encoding=\"utf-8\")\n",
    "\n",
    "# 라인 하나를 읽는다 \n",
    "a = fr.read(10)\n",
    "\n",
    "print(a)\n",
    "print(len(a))\n",
    "\n",
    "b = fr.read(12)\n",
    "\n",
    "print(b)\n",
    "print(len(b))\n"
   ]
  },
  {
   "cell_type": "markdown",
   "metadata": {},
   "source": [
    "### 여러 라인을 동시에 출력하기  "
   ]
  },
  {
   "cell_type": "code",
   "execution_count": 35,
   "metadata": {
    "collapsed": false
   },
   "outputs": [
    {
     "name": "stdout",
     "output_type": "stream",
     "text": [
      "\n",
      "fw.write(\"fist line\n",
      "\")\n",
      "fw.write(\"second line\n",
      "\")\n",
      "\n"
     ]
    }
   ],
   "source": [
    "fw1 = open(\"data.txt1\",\"wt\", encoding=\"utf-8\")\n",
    "\n",
    "a = \"\"\"\n",
    "fw.write(\"fist line\\n\")\n",
    "fw.write(\"second line\\n\")\n",
    "\"\"\"\n",
    "\n",
    "fw1.writelines(a)\n",
    "fw1.close()\n",
    "\n",
    "fw2 = open(\"data.txt1\",\"rt\", encoding=\"utf-8\")\n",
    "\n",
    "print(fw2.read())\n",
    "fw2.close()"
   ]
  },
  {
   "cell_type": "markdown",
   "metadata": {},
   "source": [
    "## seek과 tell 메소드\n",
    "\n",
    "    seek : 주어진 위치를 찾아간다.\n",
    "    tell : 현재 위치를 표시\n",
    "    "
   ]
  },
  {
   "cell_type": "markdown",
   "metadata": {},
   "source": [
    "### seek 메소드 처리 기준 \n",
    "\n",
    "     * 0 - 스트림의 시작 (기본값); 오프셋은 0 또는 양수여야합니다.\n",
    "     * 1 - 현재 스트림 위치; 오프셋은 음수 일 수있다.\n",
    "     * 2 - 스트림의 끝; 오프셋은 일반적으로 음수입니다."
   ]
  },
  {
   "cell_type": "markdown",
   "metadata": {},
   "source": [
    "#### 주피터노트북에서 파일생성하기\n",
    "\n",
    "    %%writefile 파일명\n",
    "    "
   ]
  },
  {
   "cell_type": "code",
   "execution_count": 1,
   "metadata": {
    "collapsed": false
   },
   "outputs": [
    {
     "name": "stdout",
     "output_type": "stream",
     "text": [
      "Overwriting data3.txt\n"
     ]
    }
   ],
   "source": [
    "%%writefile data3.txt\n",
    "The module defines a mixin, DictMixin, defining all dictionary methods\n",
    "for classes that already have a minimum mapping interface.\n",
    "This greatly simplifies writing classes that need to be substitutable\n",
    "for dictionaries (such as the shelve module)."
   ]
  },
  {
   "cell_type": "code",
   "execution_count": 6,
   "metadata": {
    "collapsed": false
   },
   "outputs": [
    {
     "name": "stdout",
     "output_type": "stream",
     "text": [
      "0\n"
     ]
    }
   ],
   "source": [
    "fr3 = open(\"data3.txt\",\"rt\", encoding=\"utf-8\")\n",
    "\n",
    "print(fr3.tell())"
   ]
  },
  {
   "cell_type": "markdown",
   "metadata": {},
   "source": [
    "####  파일 내의 위치를 이동하고 현재 위치 확인"
   ]
  },
  {
   "cell_type": "code",
   "execution_count": 7,
   "metadata": {
    "collapsed": false
   },
   "outputs": [
    {
     "name": "stdout",
     "output_type": "stream",
     "text": [
      "10\n",
      "0\n"
     ]
    }
   ],
   "source": [
    "fr3.seek(10)\n",
    "print(fr3.tell())\n",
    "\n",
    "fr3.seek(0)\n",
    "print(fr3.tell())"
   ]
  },
  {
   "cell_type": "code",
   "execution_count": 8,
   "metadata": {
    "collapsed": false
   },
   "outputs": [
    {
     "name": "stdout",
     "output_type": "stream",
     "text": [
      "The module defines a mixin, DictMixin, defining all dictionary methods\n",
      "for classes that already have a minimum mapping interface.\n",
      "This greatly simplifies writing classes that need to be substitutable\n",
      "for dictionaries (such as the shelve module)."
     ]
    }
   ],
   "source": [
    "# 라인을 붙여서 출력하도록 함\n",
    "for i in fr3 :\n",
    "    print(i, end=\"\")\n",
    "    \n",
    "fr3.close()\n"
   ]
  },
  {
   "cell_type": "markdown",
   "metadata": {},
   "source": [
    "#### 파일을 close한 후에 file 접근하면  예외처리"
   ]
  },
  {
   "cell_type": "code",
   "execution_count": 54,
   "metadata": {
    "collapsed": false
   },
   "outputs": [
    {
     "ename": "ValueError",
     "evalue": "I/O operation on closed file.",
     "output_type": "error",
     "traceback": [
      "\u001b[0;31m---------------------------------------------------------------------------\u001b[0m",
      "\u001b[0;31mValueError\u001b[0m                                Traceback (most recent call last)",
      "\u001b[0;32m<ipython-input-54-e19c095f98a2>\u001b[0m in \u001b[0;36m<module>\u001b[0;34m()\u001b[0m\n\u001b[0;32m----> 1\u001b[0;31m \u001b[0mfr3\u001b[0m\u001b[1;33m.\u001b[0m\u001b[0mseek\u001b[0m\u001b[1;33m(\u001b[0m\u001b[1;36m0\u001b[0m\u001b[1;33m)\u001b[0m\u001b[1;33m\u001b[0m\u001b[0m\n\u001b[0m",
      "\u001b[0;31mValueError\u001b[0m: I/O operation on closed file."
     ]
    }
   ],
   "source": [
    "fr3.seek(0)"
   ]
  },
  {
   "cell_type": "markdown",
   "metadata": {},
   "source": [
    "#### 파일 내부 삭제 : truncate\n"
   ]
  },
  {
   "cell_type": "code",
   "execution_count": 57,
   "metadata": {
    "collapsed": false
   },
   "outputs": [
    {
     "name": "stdout",
     "output_type": "stream",
     "text": [
      "Help on built-in function truncate:\n",
      "\n",
      "truncate(pos=None, /) method of _io.TextIOWrapper instance\n",
      "    Truncate file to size bytes.\n",
      "    \n",
      "    File pointer is left unchanged.  Size defaults to the current IO\n",
      "    position as reported by tell().  Returns the new size.\n",
      "\n"
     ]
    }
   ],
   "source": [
    "help(fr3.truncate)"
   ]
  },
  {
   "cell_type": "code",
   "execution_count": 59,
   "metadata": {
    "collapsed": false
   },
   "outputs": [
    {
     "name": "stdout",
     "output_type": "stream",
     "text": [
      "100\n",
      "100\n",
      "100\n",
      "\u0000\u0000\u0000\u0000\u0000\u0000\u0000\u0000\u0000\u0000\u0000\u0000\u0000\u0000\u0000\u0000\u0000\u0000\u0000\u0000\u0000\u0000\u0000\u0000\u0000\u0000\u0000\u0000\u0000\u0000\u0000\u0000\u0000\u0000\u0000\u0000\u0000\u0000\u0000\u0000\u0000\u0000\u0000\u0000\u0000\u0000\u0000\u0000\u0000\u0000\u0000\u0000\u0000\u0000\u0000\u0000\u0000\u0000\u0000\u0000\u0000\u0000\u0000\u0000\u0000\u0000\u0000\u0000\u0000\u0000\u0000\u0000\u0000\u0000\u0000\u0000\u0000\u0000\u0000\u0000\u0000\u0000\u0000\u0000\u0000\u0000\u0000\u0000\u0000\u0000\u0000\u0000\u0000\u0000\u0000\u0000\u0000\u0000\u0000\u0000"
     ]
    }
   ],
   "source": [
    "fr3 = open(\"data3.txt\",\"wt\", encoding=\"utf-8\")\n",
    "\n",
    "print(fr3.seek(100))\n",
    "print(fr3.tell())\n",
    "# 데이터가 삭제됨 \n",
    "print(fr3.truncate(fr3.tell()))\n",
    "fr3.close()\n",
    "\n",
    "fr3 = open(\"data3.txt\",\"rt\", encoding=\"utf-8\")\n",
    "for i in fr3 :\n",
    "    print(i, end=\"\")"
   ]
  },
  {
   "cell_type": "markdown",
   "metadata": {},
   "source": [
    "### 파일을 context manager 상태에서 처리하면 close를 하지 않아도 처리함\n"
   ]
  },
  {
   "cell_type": "code",
   "execution_count": 67,
   "metadata": {
    "collapsed": false
   },
   "outputs": [
    {
     "name": "stdout",
     "output_type": "stream",
     "text": [
      "The module defines a mixin, DictMixin, defining all dictionary methods for classes that already have a minimum mapping interface.\n",
      "This greatly simplifies writing classes that need to be substitutable for dictionaries (such as the shelve module).\n",
      "This module also defines a class, UserDict,that acts as a wrapper around dictionary objects.\n",
      " The need for this class has been largely supplanted by the ability to subclass directly from dict \n",
      "(a feature that became available starting with Python version 2.2). \n",
      "Prior to the introduction of dict, the UserDict class was used to create dictionary-like sub-classes\n",
      " that obtained new behaviors by overriding existing methods or adding new ones."
     ]
    }
   ],
   "source": [
    "with open(\"data3.txt\",\"rt\", encoding=\"utf-8\") as fr4 :\n",
    "    for i in fr4 :\n",
    "        print(i, end=\"\")"
   ]
  },
  {
   "cell_type": "markdown",
   "metadata": {},
   "source": [
    "## File - like 처리  \n",
    "\n",
    "    파일과 유사한 처리가 필요한 경우 임시 파일 StringIO나 BytesIO로 만들어  처리\n",
    "   \n",
    "\n",
    "    "
   ]
  },
  {
   "cell_type": "markdown",
   "metadata": {},
   "source": [
    "### StringIO를 이용해서 파일과 유사한 처리를 함\n"
   ]
  },
  {
   "cell_type": "code",
   "execution_count": 75,
   "metadata": {
    "collapsed": false
   },
   "outputs": [
    {
     "name": "stdout",
     "output_type": "stream",
     "text": [
      "['__class__', '__del__', '__delattr__', '__dict__', '__dir__', '__doc__', '__enter__', '__eq__', '__exit__', '__format__', '__ge__', '__getattribute__', '__getstate__', '__gt__', '__hash__', '__init__', '__iter__', '__le__', '__lt__', '__ne__', '__new__', '__next__', '__reduce__', '__reduce_ex__', '__repr__', '__setattr__', '__setstate__', '__sizeof__', '__str__', '__subclasshook__', '_checkClosed', '_checkReadable', '_checkSeekable', '_checkWritable', 'close', 'closed', 'detach', 'encoding', 'errors', 'fileno', 'flush', 'getvalue', 'isatty', 'line_buffering', 'newlines', 'read', 'readable', 'readline', 'readlines', 'seek', 'seekable', 'tell', 'truncate', 'writable', 'write', 'writelines']\n"
     ]
    }
   ],
   "source": [
    "import io\n",
    "\n",
    "print(dir(io.StringIO))"
   ]
  },
  {
   "cell_type": "code",
   "execution_count": 86,
   "metadata": {
    "collapsed": false
   },
   "outputs": [
    {
     "name": "stdout",
     "output_type": "stream",
     "text": [
      "<class '_io.StringIO'>\n",
      "True\n",
      "True\n",
      "Hello World\n"
     ]
    }
   ],
   "source": [
    "import io\n",
    "\n",
    "s = io.StringIO()\n",
    "print(type(s))\n",
    "\n",
    "s.write(\"Hello World\")\n",
    "\n",
    "\n",
    "# 읽고 쓰기 여부\n",
    "print(s.writable())\n",
    "print(s.readable())\n",
    "\n",
    "\n",
    "print(s.getvalue())"
   ]
  },
  {
   "cell_type": "code",
   "execution_count": 72,
   "metadata": {
    "collapsed": false
   },
   "outputs": [
    {
     "name": "stdout",
     "output_type": "stream",
     "text": [
      "<class '_io.StringIO'>\n",
      " sta\n",
      "rt Hello World\n"
     ]
    }
   ],
   "source": [
    "import io\n",
    "\n",
    "s = io.StringIO(\" start Hello World\")\n",
    "print(type(s))\n",
    "\n",
    "\n",
    "print(s.read(4))\n",
    "print(s.read())"
   ]
  },
  {
   "cell_type": "markdown",
   "metadata": {},
   "source": [
    "### bytesIO로 byte 문자열 처리 "
   ]
  },
  {
   "cell_type": "code",
   "execution_count": 87,
   "metadata": {
    "collapsed": false
   },
   "outputs": [
    {
     "name": "stdout",
     "output_type": "stream",
     "text": [
      "['__class__', '__del__', '__delattr__', '__dict__', '__dir__', '__doc__', '__enter__', '__eq__', '__exit__', '__format__', '__ge__', '__getattribute__', '__getstate__', '__gt__', '__hash__', '__init__', '__iter__', '__le__', '__lt__', '__ne__', '__new__', '__next__', '__reduce__', '__reduce_ex__', '__repr__', '__setattr__', '__setstate__', '__sizeof__', '__str__', '__subclasshook__', '_checkClosed', '_checkReadable', '_checkSeekable', '_checkWritable', 'close', 'closed', 'detach', 'fileno', 'flush', 'getbuffer', 'getvalue', 'isatty', 'read', 'read1', 'readable', 'readinto', 'readinto1', 'readline', 'readlines', 'seek', 'seekable', 'tell', 'truncate', 'writable', 'write', 'writelines']\n"
     ]
    }
   ],
   "source": [
    "import io\n",
    "\n",
    "print(dir(io.BytesIO))"
   ]
  },
  {
   "cell_type": "code",
   "execution_count": 93,
   "metadata": {
    "collapsed": false
   },
   "outputs": [
    {
     "name": "stdout",
     "output_type": "stream",
     "text": [
      "<class '_io.BytesIO'>\n",
      "b' start Hello World'\n",
      "b' sta'\n",
      "b'rt Hello World'\n",
      "True\n"
     ]
    }
   ],
   "source": [
    "import io\n",
    "\n",
    "s = io.BytesIO(b\" start Hello World\")\n",
    "print(type(s))\n",
    "\n",
    "print(s.getvalue())\n",
    "\n",
    "\n",
    "print(s.read(4))\n",
    "print(s.read())\n",
    "\n",
    "# 파일 종료\n",
    "s.close()\n",
    "\n",
    "# 종료여부 확인\n",
    "print(s.closed)"
   ]
  },
  {
   "cell_type": "markdown",
   "metadata": {},
   "source": [
    "### JSON 처리\n"
   ]
  },
  {
   "cell_type": "code",
   "execution_count": 17,
   "metadata": {
    "collapsed": false
   },
   "outputs": [
    {
     "name": "stdout",
     "output_type": "stream",
     "text": [
      "[{\"price\": 542.23, \"name\": \"ACME\", \"shares\": 100}]\n",
      "<class 'str'>\n",
      "[{'price': 542.23, 'name': 'ACME', 'shares': 100}]\n"
     ]
    }
   ],
   "source": [
    "import json\n",
    "\n",
    "data = [{\n",
    "   'name' : 'ACME',\n",
    "   'shares' : 100,\n",
    "   'price' : 542.23\n",
    "}]\n",
    "\n",
    "# json 처리\n",
    "json_str = json.dumps(data)\n",
    "print(json_str)\n",
    "print(type(json_str))\n",
    "\n",
    "# 파이썬 처리\n",
    "print(json.loads(json_str))"
   ]
  },
  {
   "cell_type": "code",
   "execution_count": 47,
   "metadata": {
    "collapsed": false,
    "scrolled": true
   },
   "outputs": [
    {
     "ename": "TypeError",
     "evalue": "BufferedRWPair() takes at least 2 arguments (1 given)",
     "output_type": "error",
     "traceback": [
      "\u001b[0;31m---------------------------------------------------------------------------\u001b[0m",
      "\u001b[0;31mTypeError\u001b[0m                                 Traceback (most recent call last)",
      "\u001b[0;32m<ipython-input-47-4e1aa7c0b62a>\u001b[0m in \u001b[0;36m<module>\u001b[0;34m()\u001b[0m\n\u001b[1;32m      3\u001b[0m \u001b[1;33m\u001b[0m\u001b[0m\n\u001b[1;32m      4\u001b[0m \u001b[1;33m\u001b[0m\u001b[0m\n\u001b[0;32m----> 5\u001b[0;31m \u001b[0mbf\u001b[0m \u001b[1;33m=\u001b[0m \u001b[0mio\u001b[0m\u001b[1;33m.\u001b[0m\u001b[0mBufferedRWPair\u001b[0m\u001b[1;33m(\u001b[0m\u001b[0mio\u001b[0m\u001b[1;33m.\u001b[0m\u001b[0mBytesIO\u001b[0m\u001b[1;33m)\u001b[0m\u001b[1;33m\u001b[0m\u001b[0m\n\u001b[0m\u001b[1;32m      6\u001b[0m \u001b[0mprint\u001b[0m\u001b[1;33m(\u001b[0m\u001b[0mbf\u001b[0m\u001b[1;33m)\u001b[0m\u001b[1;33m\u001b[0m\u001b[0m\n\u001b[1;32m      7\u001b[0m \u001b[0mprint\u001b[0m\u001b[1;33m(\u001b[0m\u001b[0mbf\u001b[0m\u001b[1;33m.\u001b[0m\u001b[0mread\u001b[0m\u001b[1;33m(\u001b[0m\u001b[1;33m)\u001b[0m\u001b[1;33m)\u001b[0m\u001b[1;33m\u001b[0m\u001b[0m\n",
      "\u001b[0;31mTypeError\u001b[0m: BufferedRWPair() takes at least 2 arguments (1 given)"
     ]
    }
   ],
   "source": [
    "import array\n",
    "import io\n",
    "\n",
    "\n",
    "bf = io.BufferedRWPair(io.BytesIO)\n",
    "print(bf)\n",
    "print(bf.read())"
   ]
  },
  {
   "cell_type": "code",
   "execution_count": 48,
   "metadata": {
    "collapsed": false
   },
   "outputs": [
    {
     "ename": "NameError",
     "evalue": "name 'buffer' is not defined",
     "output_type": "error",
     "traceback": [
      "\u001b[0;31m---------------------------------------------------------------------------\u001b[0m",
      "\u001b[0;31mNameError\u001b[0m                                 Traceback (most recent call last)",
      "\u001b[0;32m<ipython-input-48-784249cedf45>\u001b[0m in \u001b[0;36m<module>\u001b[0;34m()\u001b[0m\n\u001b[0;32m----> 1\u001b[0;31m \u001b[0mbuffer\u001b[0m\u001b[1;33m\u001b[0m\u001b[0m\n\u001b[0m",
      "\u001b[0;31mNameError\u001b[0m: name 'buffer' is not defined"
     ]
    }
   ],
   "source": [
    "buffer"
   ]
  },
  {
   "cell_type": "code",
   "execution_count": 63,
   "metadata": {
    "collapsed": false
   },
   "outputs": [
    {
     "name": "stdout",
     "output_type": "stream",
     "text": [
      "72\n",
      "H\n",
      "False\n",
      "True\n"
     ]
    }
   ],
   "source": [
    "s = b'Hello world'\n",
    "t = memoryview(s)\n",
    "\n",
    "print(t[0])\n",
    "print(chr(t[0]))\n",
    "\n",
    "print(s is t)\n",
    "print(s == t)\n"
   ]
  },
  {
   "cell_type": "code",
   "execution_count": 61,
   "metadata": {
    "collapsed": false
   },
   "outputs": [
    {
     "name": "stdout",
     "output_type": "stream",
     "text": [
      "bytearray(b'\\x00\\x00\\x00\\x00\\x00\\x00\\x00\\x00\\x00\\x00\\x00\\x00\\x00\\x00\\x00\\x00\\x00\\x00\\x00\\x00')\n",
      "bytearray(b'12345678912345678900')\n"
     ]
    }
   ],
   "source": [
    "b = bytearray(20)\n",
    "print(b)\n",
    "b[:20] = b'12345678912345678900'\n",
    "print(b)"
   ]
  },
  {
   "cell_type": "code",
   "execution_count": 71,
   "metadata": {
    "collapsed": false,
    "scrolled": true
   },
   "outputs": [
    {
     "name": "stdout",
     "output_type": "stream",
     "text": [
      "bytearray(b'abcdef*gh\\x00\\x00\\x00\\x00\\x00\\x00\\x00\\x00\\x00\\x00\\x00')\n",
      "b'abcdef*gh\\x00\\x00\\x00\\x00\\x00\\x00\\x00\\x00\\x00\\x00\\x00'\n"
     ]
    }
   ],
   "source": [
    "b = bytearray(20)\n",
    "buffer = memoryview(b)\n",
    "buffer[:4]= b'abcd' # prints nothing\n",
    "buffer[4:9] = b'ef*gh' # prints abcdef*\n",
    "\n",
    "print(buffer.obj)\n",
    "print(buffer.tobytes())"
   ]
  },
  {
   "cell_type": "code",
   "execution_count": 97,
   "metadata": {
    "collapsed": false
   },
   "outputs": [
    {
     "name": "stdout",
     "output_type": "stream",
     "text": [
      "aaa\n",
      "{}\n"
     ]
    }
   ],
   "source": [
    "import io\n",
    "class StringBuffer:\n",
    "    def __init__(self) :\n",
    "        self.input_ = io.StringIO()\n",
    "    def write(self, input_):\n",
    "        self.input_.write(input_)\n",
    "        print(self.input_.getvalue())\n",
    "        \n",
    "    #just keep concatenating until we have a * call\n",
    "    def flush(self):\n",
    "        del self.input_\n",
    "              \n",
    "sb = StringBuffer()\n",
    "sb.write(\"aaa\")\n",
    "sb.flush()\n",
    "print(sb.__dict__)"
   ]
  },
  {
   "cell_type": "code",
   "execution_count": 95,
   "metadata": {
    "collapsed": false
   },
   "outputs": [
    {
     "name": "stdout",
     "output_type": "stream",
     "text": [
      "<_io.StringIO object at 0x000000000525A318>\n",
      "\n"
     ]
    }
   ],
   "source": [
    "import io\n",
    "\n",
    "a = io.StringIO()\n",
    "a.write(\"aaa\")\n",
    "print(a.getvalue)\n",
    "print(a.read())"
   ]
  },
  {
   "cell_type": "code",
   "execution_count": null,
   "metadata": {
    "collapsed": true
   },
   "outputs": [],
   "source": []
  }
 ],
 "metadata": {
  "anaconda-cloud": {},
  "kernelspec": {
   "display_name": "Python 3",
   "language": "python",
   "name": "python3"
  },
  "language_info": {
   "codemirror_mode": {
    "name": "ipython",
    "version": 3
   },
   "file_extension": ".py",
   "mimetype": "text/x-python",
   "name": "python",
   "nbconvert_exporter": "python",
   "pygments_lexer": "ipython3",
   "version": "3.6.0"
  }
 },
 "nbformat": 4,
 "nbformat_minor": 1
}
