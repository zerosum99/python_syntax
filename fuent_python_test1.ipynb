{
 "cells": [
  {
   "cell_type": "markdown",
   "metadata": {},
   "source": [
    "slice처리시 마지막 값을 넣지 않으면 마지막까지 읽는다.\n",
    "index 처리시 0번부터 시작해서 처리하므로 일반적으로 전체 길이로 처리해야 마지막까지 읽는다.\n"
   ]
  },
  {
   "cell_type": "code",
   "execution_count": 5,
   "metadata": {
    "collapsed": false
   },
   "outputs": [
    {
     "name": "stdout",
     "output_type": "stream",
     "text": [
      "[10, 20, 30, 40, 50, 60]\n",
      "[10, 20]\n",
      "[30, 40, 50, 60]\n",
      "[10, 20, 30]\n",
      "[40, 50, 60]\n"
     ]
    }
   ],
   "source": [
    "l=[10,20,30,40,50,60]\n",
    "print(l[0:len(l)])\n",
    "print(l[:2])\n",
    "print(l[2:])\n",
    "print(l[:3])\n",
    "print(l[3:])"
   ]
  },
  {
   "cell_type": "markdown",
   "metadata": {},
   "source": [
    "range는 list 타입으로 결과를 표시\n",
    "\n",
    "slice는 지정하고 할당시 길이가 차이나도 할당되는 값이 list(즉, iterable) 일 경우는 할당되는 list를 기준으로  처리가 되지만 scalar 값으로 할당시는 에러 처리 됨  "
   ]
  },
  {
   "cell_type": "code",
   "execution_count": 20,
   "metadata": {
    "collapsed": false
   },
   "outputs": [
    {
     "name": "stdout",
     "output_type": "stream",
     "text": [
      "<type 'builtin_function_or_method'>\n",
      "[0, 1, 2, 3, 4, 5, 6, 7, 8, 9]\n",
      "10\n",
      "3\n",
      "2\n",
      "[0, 1, 20, 30, 5, 6, 7, 8, 9]\n",
      "9\n",
      "[0, 1, 20, 30, 5, 8, 9]\n",
      "7\n",
      "('l[3::2] ', 2)\n",
      "[0, 1, 20, 11, 5, 22, 9]\n",
      "[0, 1, 100, 22, 9]\n"
     ]
    },
    {
     "ename": "TypeError",
     "evalue": "can only assign an iterable",
     "output_type": "error",
     "traceback": [
      "\u001b[0;31m---------------------------------------------------------------------------\u001b[0m",
      "\u001b[0;31mTypeError\u001b[0m                                 Traceback (most recent call last)",
      "\u001b[0;32m<ipython-input-20-23f85335483d>\u001b[0m in \u001b[0;36m<module>\u001b[0;34m()\u001b[0m\n\u001b[1;32m     21\u001b[0m \u001b[0;32mprint\u001b[0m\u001b[0;34m(\u001b[0m\u001b[0ml\u001b[0m\u001b[0;34m)\u001b[0m\u001b[0;34m\u001b[0m\u001b[0m\n\u001b[1;32m     22\u001b[0m \u001b[0;34m\u001b[0m\u001b[0m\n\u001b[0;32m---> 23\u001b[0;31m \u001b[0ml\u001b[0m\u001b[0;34m[\u001b[0m\u001b[0;36m2\u001b[0m\u001b[0;34m:\u001b[0m\u001b[0;36m5\u001b[0m\u001b[0;34m]\u001b[0m \u001b[0;34m=\u001b[0m \u001b[0;36m100\u001b[0m\u001b[0;34m\u001b[0m\u001b[0m\n\u001b[0m",
      "\u001b[0;31mTypeError\u001b[0m: can only assign an iterable"
     ]
    }
   ],
   "source": [
    "print(type(range))\n",
    "l=range(10)\n",
    "print(l)\n",
    "print(len(l))\n",
    "\n",
    "l[2:5] = [20,30]\n",
    "print(len(l[2:5]))\n",
    "print(len([20,30]))\n",
    "print(l)\n",
    "print(len(l))\n",
    "\n",
    "del l[5:7]\n",
    "print(l)\n",
    "print(len(l))\n",
    "\n",
    "l[3::2] = [11,22]\n",
    "print(\"l[3::2] \",len(l[3::2]))\n",
    "print(l)\n",
    "\n",
    "l[2:5] = [100]\n",
    "print(l)\n",
    "\n",
    "l[2:5] = 100"
   ]
  },
  {
   "cell_type": "markdown",
   "metadata": {},
   "source": [
    "__getattribute__를 호출할 경우는 getattr(object, name [, defualt]) 형태로 정의해야 한다.\n",
    " object는 class가 아닌 instance 처리 임"
   ]
  },
  {
   "cell_type": "code",
   "execution_count": 13,
   "metadata": {
    "collapsed": false
   },
   "outputs": [
    {
     "name": "stdout",
     "output_type": "stream",
     "text": [
      "<slot wrapper '__iter__' of 'list' objects>\n",
      "<slot wrapper '__iter__' of 'tuple' objects>\n",
      "<slot wrapper '__iter__' of 'dict' objects>\n",
      "<method '__format__' of 'str' objects>\n",
      "<built-in method __format__ of str object at 0x10029d508>\n",
      "<method-wrapper '__repr__' of list object at 0x10477b8c0>\n"
     ]
    }
   ],
   "source": [
    "print(list.__dict__['__iter__'])\n",
    "print(tuple.__dict__['__iter__'])\n",
    "print(dict.__dict__['__iter__'])\n",
    "print(str.__dict__['__format__'])\n",
    "print(str.__getattribute__(str(),\"__format__\"))\n",
    "\n",
    "print(list.__getattribute__(list(),\"__repr__\"))"
   ]
  },
  {
   "cell_type": "code",
   "execution_count": 10,
   "metadata": {
    "collapsed": false
   },
   "outputs": [
    {
     "name": "stdout",
     "output_type": "stream",
     "text": [
      "Help on built-in function getattr in module __builtin__:\n",
      "\n",
      "getattr(...)\n",
      "    getattr(object, name[, default]) -> value\n",
      "    \n",
      "    Get a named attribute from an object; getattr(x, 'y') is equivalent to x.y.\n",
      "    When a default argument is given, it is returned when the attribute doesn't\n",
      "    exist; without it, an exception is raised in that case.\n",
      "\n"
     ]
    }
   ],
   "source": [
    "help(getattr)"
   ]
  },
  {
   "cell_type": "markdown",
   "metadata": {},
   "source": [
    "sequence 객체에서 +/* 연산자는 피연산자를 바꾸지 않는다. "
   ]
  },
  {
   "cell_type": "code",
   "execution_count": 26,
   "metadata": {
    "collapsed": false
   },
   "outputs": [
    {
     "name": "stdout",
     "output_type": "stream",
     "text": [
      "abceabceabceabceabce\n",
      "abceabceabceabceabce\n",
      "abcdabcdabcdabcdabcd\n",
      "abcdabcdabcdabcdabcd\n",
      "('abce', 5)\n",
      "30\n",
      "[2, 3, 4, 6, 7, 8]\n",
      "([2, 3, 4], [6, 7, 8])\n"
     ]
    }
   ],
   "source": [
    "s = \"abce\"\n",
    "n = 5\n",
    "print(s * n)\n",
    "print(s.__mul__(n))\n",
    "print(5 * \"abcd\")\n",
    "print(\"abcd\".__rmul__(5))\n",
    "print(s,n)\n",
    "print((5).__rmul__(6))\n",
    "\n",
    "l1 = [2,3,4]\n",
    "l2 = [6,7,8]\n",
    "print(l1 + l2)\n",
    "print(l1,l2)"
   ]
  },
  {
   "cell_type": "code",
   "execution_count": 21,
   "metadata": {
    "collapsed": false
   },
   "outputs": [
    {
     "name": "stdout",
     "output_type": "stream",
     "text": [
      "Help on wrapper_descriptor:\n",
      "\n",
      "__rmul__(...)\n",
      "    x.__rmul__(n) <==> n*x\n",
      "\n"
     ]
    }
   ],
   "source": [
    "help(str.__rmul__)"
   ]
  },
  {
   "cell_type": "markdown",
   "metadata": {},
   "source": [
    "list 내의 list나 dict가 있을 경우 *로 연산할 경우도 원소를 배수로 만드므로 주의해야 함"
   ]
  },
  {
   "cell_type": "code",
   "execution_count": 30,
   "metadata": {
    "collapsed": false
   },
   "outputs": [
    {
     "name": "stdout",
     "output_type": "stream",
     "text": [
      "[[], [], []]\n",
      "[2, 2, 2]\n"
     ]
    }
   ],
   "source": [
    "l = [[]] * 3\n",
    "print(l)\n",
    "l3 = [2] *3\n",
    "print(l3)\n"
   ]
  },
  {
   "cell_type": "markdown",
   "metadata": {},
   "source": [
    "list 내부에 list가 있을 경우 외부에서 * 3으로 하는 경우 참조를 가지고 3개가 만들어지므로 하나를 갱신하면 3개가 같이 변경\n",
    "list comprehension으로 처리할 경우는 list 내부에서 만들어지므로 참조를 가지지 않고 만들어진다.\n",
    "\n",
    "할당연산자가 없는 경우는 __add__를 호출해서 처리함"
   ]
  },
  {
   "cell_type": "code",
   "execution_count": 33,
   "metadata": {
    "collapsed": false
   },
   "outputs": [
    {
     "name": "stdout",
     "output_type": "stream",
     "text": [
      "[['-', '-', '-'], ['-', '-', '-'], ['-', '-', '-']]\n",
      "[['-', '-', '0'], ['-', '-', '0'], ['-', '-', '0']]\n",
      "[['-', '-', '-'], ['-', '-', '-'], ['-', '-', '-']]\n"
     ]
    }
   ],
   "source": [
    "ll = [['-']*3] *3\n",
    "print(ll)\n",
    "\n",
    "ll[1][2] = '0'\n",
    "print(ll)\n",
    "\n",
    "lc = [['-']*3 for i in range(3)]\n",
    "print(lc)"
   ]
  },
  {
   "cell_type": "markdown",
   "metadata": {},
   "source": [
    "복합 할당은 기본적으로 기존 변수의 값을 변경한다.\n"
   ]
  },
  {
   "cell_type": "code",
   "execution_count": 40,
   "metadata": {
    "collapsed": false
   },
   "outputs": [
    {
     "name": "stdout",
     "output_type": "stream",
     "text": [
      "(4298131336, 4298131312)\n",
      "3\n",
      "4298131288\n",
      "(4370333640, 4369335144)\n",
      "[1, 2, 3, 4]\n",
      "4370333640\n",
      "(4321515680, 4322871936)\n",
      "abcdef\n",
      "4369610960\n"
     ]
    }
   ],
   "source": [
    "a =1 \n",
    "b = 2\n",
    "print(id(a),id(b))\n",
    "a += b \n",
    "print(a)\n",
    "print(id(a))\n",
    "\n",
    "aa = [1,2]\n",
    "bb = [3,4]\n",
    "\n",
    "print(id(aa), id(bb))\n",
    "\n",
    "aa += bb\n",
    "print(aa)\n",
    "print(id(aa))\n",
    "\n",
    "sa = 'abc'\n",
    "sb = 'def'\n",
    "print(id(sa), id(sb))\n",
    "sa += sb\n",
    "print(sa)\n",
    "print(id(sa))\n"
   ]
  },
  {
   "cell_type": "code",
   "execution_count": 41,
   "metadata": {
    "collapsed": false
   },
   "outputs": [
    {
     "data": {
      "text/plain": [
       "['__add__',\n",
       " '__class__',\n",
       " '__contains__',\n",
       " '__delattr__',\n",
       " '__doc__',\n",
       " '__eq__',\n",
       " '__format__',\n",
       " '__ge__',\n",
       " '__getattribute__',\n",
       " '__getitem__',\n",
       " '__getnewargs__',\n",
       " '__getslice__',\n",
       " '__gt__',\n",
       " '__hash__',\n",
       " '__init__',\n",
       " '__le__',\n",
       " '__len__',\n",
       " '__lt__',\n",
       " '__mod__',\n",
       " '__mul__',\n",
       " '__ne__',\n",
       " '__new__',\n",
       " '__reduce__',\n",
       " '__reduce_ex__',\n",
       " '__repr__',\n",
       " '__rmod__',\n",
       " '__rmul__',\n",
       " '__setattr__',\n",
       " '__sizeof__',\n",
       " '__str__',\n",
       " '__subclasshook__',\n",
       " '_formatter_field_name_split',\n",
       " '_formatter_parser',\n",
       " 'capitalize',\n",
       " 'center',\n",
       " 'count',\n",
       " 'decode',\n",
       " 'encode',\n",
       " 'endswith',\n",
       " 'expandtabs',\n",
       " 'find',\n",
       " 'format',\n",
       " 'index',\n",
       " 'isalnum',\n",
       " 'isalpha',\n",
       " 'isdigit',\n",
       " 'islower',\n",
       " 'isspace',\n",
       " 'istitle',\n",
       " 'isupper',\n",
       " 'join',\n",
       " 'ljust',\n",
       " 'lower',\n",
       " 'lstrip',\n",
       " 'partition',\n",
       " 'replace',\n",
       " 'rfind',\n",
       " 'rindex',\n",
       " 'rjust',\n",
       " 'rpartition',\n",
       " 'rsplit',\n",
       " 'rstrip',\n",
       " 'split',\n",
       " 'splitlines',\n",
       " 'startswith',\n",
       " 'strip',\n",
       " 'swapcase',\n",
       " 'title',\n",
       " 'translate',\n",
       " 'upper',\n",
       " 'zfill']"
      ]
     },
     "execution_count": 41,
     "metadata": {},
     "output_type": "execute_result"
    }
   ],
   "source": [
    "dir(str)"
   ]
  },
  {
   "cell_type": "code",
   "execution_count": 56,
   "metadata": {
    "collapsed": false
   },
   "outputs": [
    {
     "name": "stdout",
     "output_type": "stream",
     "text": [
      "None\n",
      "[2, 3, 4, 5]\n",
      "[5, 4, 3, 2]\n",
      "[3, 4, 5, 2]\n"
     ]
    }
   ],
   "source": [
    "lx = [4,2,3,5]\n",
    "x = lx.sort()\n",
    "print(x)\n",
    "print(lx)\n",
    "\n",
    "x1 = sorted(lx,reverse=True)\n",
    "print(x1)\n",
    "x2 = sorted(lx,key=lambda x: x*3 if x <3 else x)\n",
    "print(x2)"
   ]
  },
  {
   "cell_type": "code",
   "execution_count": 57,
   "metadata": {
    "collapsed": false
   },
   "outputs": [
    {
     "data": {
      "text/plain": [
       "['__builtins__',\n",
       " '__doc__',\n",
       " '__file__',\n",
       " '__name__',\n",
       " '__package__',\n",
       " 'bisect',\n",
       " 'bisect_left',\n",
       " 'bisect_right',\n",
       " 'insort',\n",
       " 'insort_left',\n",
       " 'insort_right']"
      ]
     },
     "execution_count": 57,
     "metadata": {},
     "output_type": "execute_result"
    }
   ],
   "source": [
    "import bisect\n",
    "dir(bisect)"
   ]
  },
  {
   "cell_type": "code",
   "execution_count": 58,
   "metadata": {
    "collapsed": false
   },
   "outputs": [
    {
     "name": "stdout",
     "output_type": "stream",
     "text": [
      "Help on built-in function bisect in module _bisect:\n",
      "\n",
      "bisect(...)\n",
      "    bisect(a, x[, lo[, hi]]) -> index\n",
      "    bisect_right(a, x[, lo[, hi]]) -> index\n",
      "    \n",
      "    Return the index where to insert item x in list a, assuming a is sorted.\n",
      "    \n",
      "    The return value i is such that all e in a[:i] have e <= x, and all e in\n",
      "    a[i:] have e > x.  So if x already appears in the list, i points just\n",
      "    beyond the rightmost x already there\n",
      "    \n",
      "    Optional args lo (default 0) and hi (default len(a)) bound the\n",
      "    slice of a to be searched.\n",
      "\n"
     ]
    }
   ],
   "source": [
    "help(bisect.bisect)"
   ]
  },
  {
   "cell_type": "code",
   "execution_count": 85,
   "metadata": {
    "collapsed": false
   },
   "outputs": [
    {
     "name": "stdout",
     "output_type": "stream",
     "text": [
      "0\n",
      "1\n",
      "5\n"
     ]
    }
   ],
   "source": [
    "lll = [1,2,3,4,5]\n",
    "\n",
    "print(bisect.bisect(lll,0))\n",
    "x = bisect.bisect(lll,1,1,len(lll))\n",
    "print(x)\n",
    "\n",
    "y = bisect.bisect_right(lll,5,1,len(lll))\n",
    "print(y)"
   ]
  },
  {
   "cell_type": "code",
   "execution_count": 61,
   "metadata": {
    "collapsed": false
   },
   "outputs": [
    {
     "name": "stdout",
     "output_type": "stream",
     "text": [
      "[5, 4, 3, 2, 1]\n"
     ]
    }
   ],
   "source": [
    "l_x = []\n",
    "for i in reversed(lll) :\n",
    "    l_x.append(i)\n",
    "    \n",
    "print(l_x)\n",
    "    "
   ]
  },
  {
   "cell_type": "code",
   "execution_count": 80,
   "metadata": {
    "collapsed": false
   },
   "outputs": [
    {
     "name": "stdout",
     "output_type": "stream",
     "text": [
      "Help on built-in function insort in module _bisect:\n",
      "\n",
      "insort(...)\n",
      "    insort(a, x[, lo[, hi]])\n",
      "    insort_right(a, x[, lo[, hi]])\n",
      "    \n",
      "    Insert item x in list a, and keep it sorted assuming a is sorted.\n",
      "    \n",
      "    If x is already in a, insert it to the right of the rightmost x.\n",
      "    \n",
      "    Optional args lo (default 0) and hi (default len(a)) bound the\n",
      "    slice of a to be searched.\n",
      "\n"
     ]
    }
   ],
   "source": [
    "help(bisect.insort)"
   ]
  },
  {
   "cell_type": "code",
   "execution_count": 86,
   "metadata": {
    "collapsed": false
   },
   "outputs": [
    {
     "name": "stdout",
     "output_type": "stream",
     "text": [
      "[1, 2, 3, 4, 5]\n",
      "None\n",
      "[1, 1, 2, 3, 4, 5]\n"
     ]
    }
   ],
   "source": [
    "print(lll)\n",
    "x = bisect.insort(lll,1,1,2)\n",
    "print(x)\n",
    "print(lll)"
   ]
  },
  {
   "cell_type": "code",
   "execution_count": 90,
   "metadata": {
    "collapsed": false
   },
   "outputs": [
    {
     "data": {
      "text/plain": [
       "['__add__',\n",
       " '__class__',\n",
       " '__contains__',\n",
       " '__copy__',\n",
       " '__deepcopy__',\n",
       " '__delattr__',\n",
       " '__delitem__',\n",
       " '__delslice__',\n",
       " '__doc__',\n",
       " '__eq__',\n",
       " '__format__',\n",
       " '__ge__',\n",
       " '__getattribute__',\n",
       " '__getitem__',\n",
       " '__getslice__',\n",
       " '__gt__',\n",
       " '__hash__',\n",
       " '__iadd__',\n",
       " '__imul__',\n",
       " '__init__',\n",
       " '__iter__',\n",
       " '__le__',\n",
       " '__len__',\n",
       " '__lt__',\n",
       " '__mul__',\n",
       " '__ne__',\n",
       " '__new__',\n",
       " '__reduce__',\n",
       " '__reduce_ex__',\n",
       " '__repr__',\n",
       " '__rmul__',\n",
       " '__setattr__',\n",
       " '__setitem__',\n",
       " '__setslice__',\n",
       " '__sizeof__',\n",
       " '__str__',\n",
       " '__subclasshook__',\n",
       " 'append',\n",
       " 'buffer_info',\n",
       " 'byteswap',\n",
       " 'count',\n",
       " 'extend',\n",
       " 'fromfile',\n",
       " 'fromlist',\n",
       " 'fromstring',\n",
       " 'fromunicode',\n",
       " 'index',\n",
       " 'insert',\n",
       " 'itemsize',\n",
       " 'pop',\n",
       " 'read',\n",
       " 'remove',\n",
       " 'reverse',\n",
       " 'tofile',\n",
       " 'tolist',\n",
       " 'tostring',\n",
       " 'tounicode',\n",
       " 'typecode',\n",
       " 'write']"
      ]
     },
     "execution_count": 90,
     "metadata": {},
     "output_type": "execute_result"
    }
   ],
   "source": [
    "import array as aa\n",
    "dir(aa.array)"
   ]
  },
  {
   "cell_type": "code",
   "execution_count": 96,
   "metadata": {
    "collapsed": false
   },
   "outputs": [
    {
     "name": "stdout",
     "output_type": "stream",
     "text": [
      "array('i', [1, 2, 3])\n",
      "array('L', [1L, 2L, 3L])\n"
     ]
    }
   ],
   "source": [
    "# typecode c, b, B, u, h, H, i, I, l, L, f or d\n",
    "\n",
    "xx = aa.array('i',[1,2,3])\n",
    "print(xx)\n",
    "\n",
    "print(aa.array('L',[1,2,3]))"
   ]
  },
  {
   "cell_type": "code",
   "execution_count": 134,
   "metadata": {
    "collapsed": false
   },
   "outputs": [
    {
     "name": "stdout",
     "output_type": "stream",
     "text": [
      "Help on class memoryview in module __builtin__:\n",
      "\n",
      "class memoryview(object)\n",
      " |  memoryview(object)\n",
      " |  \n",
      " |  Create a new memoryview object which references the given object.\n",
      " |  \n",
      " |  Methods defined here:\n",
      " |  \n",
      " |  __delitem__(...)\n",
      " |      x.__delitem__(y) <==> del x[y]\n",
      " |  \n",
      " |  __eq__(...)\n",
      " |      x.__eq__(y) <==> x==y\n",
      " |  \n",
      " |  __ge__(...)\n",
      " |      x.__ge__(y) <==> x>=y\n",
      " |  \n",
      " |  __getattribute__(...)\n",
      " |      x.__getattribute__('name') <==> x.name\n",
      " |  \n",
      " |  __getitem__(...)\n",
      " |      x.__getitem__(y) <==> x[y]\n",
      " |  \n",
      " |  __gt__(...)\n",
      " |      x.__gt__(y) <==> x>y\n",
      " |  \n",
      " |  __le__(...)\n",
      " |      x.__le__(y) <==> x<=y\n",
      " |  \n",
      " |  __len__(...)\n",
      " |      x.__len__() <==> len(x)\n",
      " |  \n",
      " |  __lt__(...)\n",
      " |      x.__lt__(y) <==> x<y\n",
      " |  \n",
      " |  __ne__(...)\n",
      " |      x.__ne__(y) <==> x!=y\n",
      " |  \n",
      " |  __repr__(...)\n",
      " |      x.__repr__() <==> repr(x)\n",
      " |  \n",
      " |  __setitem__(...)\n",
      " |      x.__setitem__(i, y) <==> x[i]=y\n",
      " |  \n",
      " |  tobytes(...)\n",
      " |  \n",
      " |  tolist(...)\n",
      " |  \n",
      " |  ----------------------------------------------------------------------\n",
      " |  Data descriptors defined here:\n",
      " |  \n",
      " |  format\n",
      " |  \n",
      " |  itemsize\n",
      " |  \n",
      " |  ndim\n",
      " |  \n",
      " |  readonly\n",
      " |  \n",
      " |  shape\n",
      " |  \n",
      " |  strides\n",
      " |  \n",
      " |  suboffsets\n",
      " |  \n",
      " |  ----------------------------------------------------------------------\n",
      " |  Data and other attributes defined here:\n",
      " |  \n",
      " |  __new__ = <built-in method __new__ of type object>\n",
      " |      T.__new__(S, ...) -> a new object with type S, a subtype of T\n",
      "\n"
     ]
    }
   ],
   "source": [
    "help(memoryview)"
   ]
  },
  {
   "cell_type": "code",
   "execution_count": 103,
   "metadata": {
    "collapsed": false
   },
   "outputs": [
    {
     "name": "stdout",
     "output_type": "stream",
     "text": [
      "0.315095084196\n",
      "0.315095084196\n",
      "True\n"
     ]
    }
   ],
   "source": [
    "import random as rd\n",
    "\n",
    "floats = aa.array('d', (rd.random() for i in range(10)))\n",
    "print(floats[-1])\n",
    "\n",
    "fp = open('floats.bin', 'wb')\n",
    "#file write\n",
    "floats.tofile(fp)\n",
    "fp.close()\n",
    "floats2 = aa.array('d')\n",
    "\n",
    "fp = open('floats.bin','rb')\n",
    "#file read\n",
    "floats2.fromfile(fp,10)\n",
    "fp.close()\n",
    "print(floats2[-1])\n",
    "print(floats2 == floats)"
   ]
  },
  {
   "cell_type": "code",
   "execution_count": 136,
   "metadata": {
    "collapsed": false,
    "scrolled": true
   },
   "outputs": [
    {
     "name": "stdout",
     "output_type": "stream",
     "text": [
      "array('b', [-2, -1, 0, 1, 2])\n",
      "��\u0000\u0001\u0002\n",
      "3\n",
      "[115, 116, 114]\n"
     ]
    }
   ],
   "source": [
    "numbers = aa.array('b',[-2,-1,0,1,2])\n",
    "print(numbers)\n",
    "\n",
    "buf = buffer(numbers)\n",
    "print(buf)\n",
    "num_str = 'str'\n",
    "memv = memoryview(num_str)\n",
    "print(len(memv))\n",
    "\n",
    "print(repr(memv.tolist()))"
   ]
  },
  {
   "cell_type": "code",
   "execution_count": 137,
   "metadata": {
    "collapsed": false,
    "scrolled": true
   },
   "outputs": [
    {
     "data": {
      "text/plain": [
       "['__class__',\n",
       " '__delattr__',\n",
       " '__delitem__',\n",
       " '__doc__',\n",
       " '__eq__',\n",
       " '__format__',\n",
       " '__ge__',\n",
       " '__getattribute__',\n",
       " '__getitem__',\n",
       " '__gt__',\n",
       " '__hash__',\n",
       " '__init__',\n",
       " '__le__',\n",
       " '__len__',\n",
       " '__lt__',\n",
       " '__ne__',\n",
       " '__new__',\n",
       " '__reduce__',\n",
       " '__reduce_ex__',\n",
       " '__repr__',\n",
       " '__setattr__',\n",
       " '__setitem__',\n",
       " '__sizeof__',\n",
       " '__str__',\n",
       " '__subclasshook__',\n",
       " 'format',\n",
       " 'itemsize',\n",
       " 'ndim',\n",
       " 'readonly',\n",
       " 'shape',\n",
       " 'strides',\n",
       " 'suboffsets',\n",
       " 'tobytes',\n",
       " 'tolist']"
      ]
     },
     "execution_count": 137,
     "metadata": {},
     "output_type": "execute_result"
    }
   ],
   "source": [
    "dir(memoryview)"
   ]
  },
  {
   "cell_type": "code",
   "execution_count": 138,
   "metadata": {
    "collapsed": false,
    "scrolled": true
   },
   "outputs": [
    {
     "data": {
      "text/plain": [
       "['__add__',\n",
       " '__class__',\n",
       " '__cmp__',\n",
       " '__delattr__',\n",
       " '__delitem__',\n",
       " '__delslice__',\n",
       " '__doc__',\n",
       " '__format__',\n",
       " '__getattribute__',\n",
       " '__getitem__',\n",
       " '__getslice__',\n",
       " '__hash__',\n",
       " '__init__',\n",
       " '__len__',\n",
       " '__mul__',\n",
       " '__new__',\n",
       " '__reduce__',\n",
       " '__reduce_ex__',\n",
       " '__repr__',\n",
       " '__rmul__',\n",
       " '__setattr__',\n",
       " '__setitem__',\n",
       " '__setslice__',\n",
       " '__sizeof__',\n",
       " '__str__',\n",
       " '__subclasshook__']"
      ]
     },
     "execution_count": 138,
     "metadata": {},
     "output_type": "execute_result"
    }
   ],
   "source": [
    "dir(buffer)"
   ]
  },
  {
   "cell_type": "code",
   "execution_count": null,
   "metadata": {
    "collapsed": true
   },
   "outputs": [],
   "source": []
  }
 ],
 "metadata": {
  "kernelspec": {
   "display_name": "Python 2",
   "language": "python",
   "name": "python2"
  },
  "language_info": {
   "codemirror_mode": {
    "name": "ipython",
    "version": 2
   },
   "file_extension": ".py",
   "mimetype": "text/x-python",
   "name": "python",
   "nbconvert_exporter": "python",
   "pygments_lexer": "ipython2",
   "version": "2.7.11"
  }
 },
 "nbformat": 4,
 "nbformat_minor": 0
}
