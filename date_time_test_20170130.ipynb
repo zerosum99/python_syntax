{
 "cells": [
  {
   "cell_type": "code",
   "execution_count": 2,
   "metadata": {
    "collapsed": false
   },
   "outputs": [
    {
     "name": "stdout",
     "output_type": "stream",
     "text": [
      "1483314574.6260648\n",
      "Thu Jan  1 09:06:00 1970\n",
      "time.struct_time(tm_year=1970, tm_mon=1, tm_mday=1, tm_hour=0, tm_min=6, tm_sec=0, tm_wday=3, tm_yday=1, tm_isdst=0)\n",
      "time.struct_time(tm_year=1970, tm_mon=1, tm_mday=1, tm_hour=9, tm_min=6, tm_sec=0, tm_wday=3, tm_yday=1, tm_isdst=0)\n",
      "time.struct_time(tm_year=2017, tm_mon=1, tm_mday=1, tm_hour=23, tm_min=49, tm_sec=34, tm_wday=6, tm_yday=1, tm_isdst=0)\n",
      "Sun Jan  1 23:49:34 2017\n",
      "1483282174.0\n"
     ]
    }
   ],
   "source": [
    "import time\n",
    "\n",
    "print(time.time())\n",
    "print(time.ctime(360))\n",
    "print(time.gmtime(360))\n",
    "print(time.localtime(360))\n",
    "\n",
    "# 현재 기준\n",
    "print(time.gmtime())\n",
    "t = time.gmtime()\n",
    "# 특정 문자열로 전환\n",
    "print(time.asctime(t))\n",
    "# epoch 기준으로 전환\n",
    "print(time.mktime(t))\n"
   ]
  },
  {
   "cell_type": "code",
   "execution_count": 39,
   "metadata": {
    "collapsed": false
   },
   "outputs": [
    {
     "name": "stdout",
     "output_type": "stream",
     "text": [
      "time.struct_time(tm_year=2017, tm_mon=1, tm_mday=2, tm_hour=0, tm_min=53, tm_sec=9, tm_wday=0, tm_yday=2, tm_isdst=0)\n",
      "Mon Jan  2 00:53:09 2017\n",
      "1483285989.0\n"
     ]
    }
   ],
   "source": [
    "import time\n",
    "# 현재 기준\n",
    "\n",
    "t = time.gmtime()\n",
    "print(t)\n",
    "# 특정 문자열로 전환\n",
    "print(time.asctime(t))\n",
    "# epoch 기준으로 전환\n",
    "print(time.mktime(t))"
   ]
  },
  {
   "cell_type": "code",
   "execution_count": 82,
   "metadata": {
    "collapsed": false
   },
   "outputs": [
    {
     "name": "stdout",
     "output_type": "stream",
     "text": [
      "    January 2017\n",
      "Mo Tu We Th Fr Sa Su\n",
      "                   1\n",
      " 2  3  4  5  6  7  8\n",
      " 9 10 11 12 13 14 15\n",
      "16 17 18 19 20 21 22\n",
      "23 24 25 26 27 28 29\n",
      "30 31\n",
      " None\n",
      "0\n",
      "(6, 31)\n"
     ]
    }
   ],
   "source": [
    "import calendar\n",
    "    \n",
    "#print(calendar.calendar(2017))\n",
    "print(calendar.prmonth(2017, 1))\n",
    "# 월요일은 0\n",
    "print(calendar.weekday(2017, 1, 2))\n",
    "# 2017년 1월의 1일은 일요일이고, 이 달은 31일까지\n",
    "print(calendar.monthrange(2017,1))"
   ]
  },
  {
   "cell_type": "code",
   "execution_count": 61,
   "metadata": {
    "collapsed": false
   },
   "outputs": [
    {
     "name": "stdout",
     "output_type": "stream",
     "text": [
      "-32400\n",
      "b'\\xff\\xfe\\xb4\\x00\\xeb\\x00\\xc7\\x00\\xd1\\x00\\xb9\\x00\\xce\\x00\\xb1\\x00\\xb9\\x00 \\x00\\xc7\\x00\\xa5\\x00\\xc1\\x00\\xd8\\x00\\xbd\\x00\\xc3\\x00'\n",
      "´ëÇÑ¹Î±¹ Ç¥ÁØ½Ã\n",
      "´ëÇÑ¹Î±¹ ÀÏ±¤ Àý¾à ½Ã°£\n"
     ]
    },
    {
     "data": {
      "text/plain": [
       "\"\\n 'altzone',\\n\\n 'clock',\\n,\\n 'daylight',\\n 'get_clock_info',\\n\\n 'monotonic',\\n 'perf_counter',\\n 'process_time',\\n\\n\\n 'struct_time',\\n,\\n 'timezone',\\n 'tzname'\\n \""
      ]
     },
     "execution_count": 61,
     "metadata": {},
     "output_type": "execute_result"
    }
   ],
   "source": [
    "import time\n",
    "\n",
    "print(time.timezone)\n",
    "print(time.tzname[0].encode(\"utf-16\"))\n",
    "print(str(time.tzname[0]).encode(\"utf-16\").decode(\"utf-16\"))\n",
    "print(str(time.tzname[1]))\n",
    "'''\n",
    " 'altzone',\n",
    "\n",
    " 'clock',\n",
    ",\n",
    " 'daylight',\n",
    " 'get_clock_info',\n",
    "\n",
    " 'monotonic',\n",
    " 'perf_counter',\n",
    " 'process_time',\n",
    "\n",
    "\n",
    " 'struct_time',\n",
    ",\n",
    " 'timezone',\n",
    " 'tzname'\n",
    " '''"
   ]
  },
  {
   "cell_type": "code",
   "execution_count": 71,
   "metadata": {
    "collapsed": false
   },
   "outputs": [
    {
     "name": "stdout",
     "output_type": "stream",
     "text": [
      "588\n",
      "Asia/Seoul\n"
     ]
    }
   ],
   "source": [
    "from pytz import all_timezones\n",
    "\n",
    "print(len(all_timezones))\n",
    "for zone in all_timezones:\n",
    "    if 'Asia/Seoul' in zone:\n",
    "        print( zone)"
   ]
  },
  {
   "cell_type": "code",
   "execution_count": 45,
   "metadata": {
    "collapsed": false
   },
   "outputs": [
    {
     "name": "stdout",
     "output_type": "stream",
     "text": [
      "2017\n",
      "1\n",
      "2\n",
      "0\n",
      "2\n",
      "10\n",
      "3\n",
      "34\n",
      "0\n"
     ]
    }
   ],
   "source": [
    "import time\n",
    "loc = time.localtime()\n",
    "print(loc.tm_year)\n",
    "print(loc.tm_mon)\n",
    "print(loc.tm_mday)\n",
    "print(loc.tm_wday)\n",
    "print(loc.tm_yday)\n",
    "print(loc.tm_hour)\n",
    "print(loc.tm_min)\n",
    "print(loc.tm_sec)\n",
    "\n",
    "print(loc.tm_isdst)"
   ]
  },
  {
   "cell_type": "code",
   "execution_count": 38,
   "metadata": {
    "collapsed": false
   },
   "outputs": [
    {
     "name": "stdout",
     "output_type": "stream",
     "text": [
      "time.struct_time(tm_year=2017, tm_mon=1, tm_mday=2, tm_hour=9, tm_min=50, tm_sec=25, tm_wday=0, tm_yday=2, tm_isdst=0)\n",
      "time.struct_time(tm_year=1970, tm_mon=1, tm_mday=1, tm_hour=9, tm_min=6, tm_sec=0, tm_wday=3, tm_yday=1, tm_isdst=0)\n"
     ]
    }
   ],
   "source": [
    "import time\n",
    "# 현재 기준\n",
    "l = time.localtime()\n",
    "\n",
    "print(l)\n",
    "# 1970년 기준\n",
    "l1 = time.localtime(360)\n",
    "print(l1)"
   ]
  },
  {
   "cell_type": "code",
   "execution_count": 36,
   "metadata": {
    "collapsed": false
   },
   "outputs": [
    {
     "name": "stdout",
     "output_type": "stream",
     "text": [
      "time.struct_time(tm_year=2017, tm_mon=1, tm_mday=2, tm_hour=9, tm_min=48, tm_sec=12, tm_wday=0, tm_yday=2, tm_isdst=0)\n",
      "Mon Jan  2 00:48:12 2017\n",
      "1483285692.0\n"
     ]
    }
   ],
   "source": [
    "# 현재 기준\n",
    "import time\n",
    "l = time.localtime()\n",
    "\n",
    "t = time.gmtime()\n",
    "print(l)\n",
    "# 특정 문자열로 전환\n",
    "print(time.asctime(t))\n",
    "# epoch 기준으로 전환\n",
    "print(time.mktime(t))"
   ]
  },
  {
   "cell_type": "code",
   "execution_count": 6,
   "metadata": {
    "collapsed": false
   },
   "outputs": [
    {
     "name": "stdout",
     "output_type": "stream",
     "text": [
      "1483314932.8343544 seconds since (1970, 1, 1, 0, 0, 0)\n",
      "\n",
      "or in other words:\n",
      "- local time: time.struct_time(tm_year=2017, tm_mon=1, tm_mday=2, tm_hour=8, tm_min=55, tm_sec=32, tm_wday=0, tm_yday=2, tm_isdst=0)\n",
      "- utc: time.struct_time(tm_year=2017, tm_mon=1, tm_mday=1, tm_hour=23, tm_min=55, tm_sec=32, tm_wday=6, tm_yday=1, tm_isdst=0)\n"
     ]
    }
   ],
   "source": [
    "import time\n",
    "\n",
    "now = time.time()\n",
    "\n",
    "print(now, \"seconds since\", time.gmtime(0)[:6])\n",
    "print(\"\")\n",
    "print(\"or in other words:\")\n",
    "print (\"- local time:\", time.localtime(now))\n",
    "print(\"- utc:\", time.gmtime(now))"
   ]
  },
  {
   "cell_type": "code",
   "execution_count": 10,
   "metadata": {
    "collapsed": false
   },
   "outputs": [
    {
     "name": "stdout",
     "output_type": "stream",
     "text": [
      "Mon Jan  2 08:58:23 2017\n",
      "17/01/02 08:58\n",
      "Mon Jan 02\n",
      "Mon Jan  2 08:58:23 2017\n",
      "08 AM\n"
     ]
    }
   ],
   "source": [
    "import time\n",
    "\n",
    "now = time.localtime(time.time())\n",
    "\n",
    "print(time.asctime(now))\n",
    "print(time.strftime(\"%y/%m/%d %H:%M\", now))\n",
    "print(time.strftime(\"%a %b %d\", now))\n",
    "print(time.strftime(\"%c\", now))\n",
    "print(time.strftime(\"%I %p\", now))\n"
   ]
  },
  {
   "cell_type": "code",
   "execution_count": 23,
   "metadata": {
    "collapsed": false
   },
   "outputs": [
    {
     "name": "stdout",
     "output_type": "stream",
     "text": [
      "time.struct_time(tm_year=2000, tm_mon=12, tm_mday=31, tm_hour=0, tm_min=0, tm_sec=0, tm_wday=6, tm_yday=366, tm_isdst=-1)\n",
      "time.struct_time(tm_year=2000, tm_mon=11, tm_mday=30, tm_hour=0, tm_min=0, tm_sec=0, tm_wday=3, tm_yday=335, tm_isdst=-1)\n",
      "time.struct_time(tm_year=1970, tm_mon=1, tm_mday=1, tm_hour=13, tm_min=30, tm_sec=0, tm_wday=3, tm_yday=1, tm_isdst=-1)\n"
     ]
    }
   ],
   "source": [
    "import time\n",
    "\n",
    "print(time.strptime(\"31 12 2000\", \"%d %m %Y\"))\n",
    "\n",
    "print(time.strptime(\"30 Nov 2000\", \"%d %b %Y\"))\n",
    "\n",
    "print(time.strptime(\"1 Jan 70 1:30pm\", \"%d %b %y %I:%M%p\"))\n"
   ]
  },
  {
   "cell_type": "code",
   "execution_count": 16,
   "metadata": {
    "collapsed": false
   },
   "outputs": [
    {
     "name": "stdout",
     "output_type": "stream",
     "text": [
      "Help on built-in function strptime in module time:\n",
      "\n",
      "strptime(...)\n",
      "    strptime(string, format) -> struct_time\n",
      "    \n",
      "    Parse a string to a time tuple according to a format specification.\n",
      "    See the library reference manual for formatting codes (same as\n",
      "    strftime()).\n",
      "    \n",
      "    Commonly used format codes:\n",
      "    \n",
      "    %Y  Year with century as a decimal number.\n",
      "    %m  Month as a decimal number [01,12].\n",
      "    %d  Day of the month as a decimal number [01,31].\n",
      "    %H  Hour (24-hour clock) as a decimal number [00,23].\n",
      "    %M  Minute as a decimal number [00,59].\n",
      "    %S  Second as a decimal number [00,61].\n",
      "    %z  Time zone offset from UTC.\n",
      "    %a  Locale's abbreviated weekday name.\n",
      "    %A  Locale's full weekday name.\n",
      "    %b  Locale's abbreviated month name.\n",
      "    %B  Locale's full month name.\n",
      "    %c  Locale's appropriate date and time representation.\n",
      "    %I  Hour (12-hour clock) as a decimal number [01,12].\n",
      "    %p  Locale's equivalent of either AM or PM.\n",
      "    \n",
      "    Other codes may be available on your platform.  See documentation for\n",
      "    the C library strftime function.\n",
      "\n"
     ]
    }
   ],
   "source": [
    "help(time.strptime)"
   ]
  },
  {
   "cell_type": "code",
   "execution_count": 29,
   "metadata": {
    "collapsed": false
   },
   "outputs": [
    {
     "name": "stdout",
     "output_type": "stream",
     "text": [
      "1483316375.2687688\n",
      "time.struct_time(tm_year=2017, tm_mon=1, tm_mday=2, tm_hour=9, tm_min=19, tm_sec=35, tm_wday=0, tm_yday=2, tm_isdst=0)\n",
      "1483316375.0\n",
      "time.struct_time(tm_year=2017, tm_mon=1, tm_mday=2, tm_hour=9, tm_min=19, tm_sec=35, tm_wday=0, tm_yday=2, tm_isdst=0)\n",
      "time.struct_time(tm_year=2017, tm_mon=1, tm_mday=2, tm_hour=0, tm_min=19, tm_sec=35, tm_wday=0, tm_yday=2, tm_isdst=0)\n"
     ]
    }
   ],
   "source": [
    "import time\n",
    "\n",
    "t0 = time.time()\n",
    "print(t0)\n",
    "#local time\n",
    "tm = time.localtime(t0)\n",
    "\n",
    "print(tm)\n",
    "print(time.mktime(tm))\n",
    "\n",
    "print(tm)\n",
    "print(time.gmtime(t0))"
   ]
  },
  {
   "cell_type": "code",
   "execution_count": 26,
   "metadata": {
    "collapsed": false
   },
   "outputs": [
    {
     "name": "stdout",
     "output_type": "stream",
     "text": [
      "Help on built-in function gmtime in module time:\n",
      "\n",
      "gmtime(...)\n",
      "    gmtime([seconds]) -> (tm_year, tm_mon, tm_mday, tm_hour, tm_min,\n",
      "                           tm_sec, tm_wday, tm_yday, tm_isdst)\n",
      "    \n",
      "    Convert seconds since the Epoch to a time tuple expressing UTC (a.k.a.\n",
      "    GMT).  When 'seconds' is not passed in, convert the current time instead.\n",
      "    \n",
      "    If the platform supports the tm_gmtoff and tm_zone, they are available as\n",
      "    attributes only.\n",
      "\n"
     ]
    }
   ],
   "source": [
    "help(time.gmtime)"
   ]
  },
  {
   "cell_type": "code",
   "execution_count": 35,
   "metadata": {
    "collapsed": false
   },
   "outputs": [
    {
     "name": "stdout",
     "output_type": "stream",
     "text": [
      "Mon Jan  2 09:28:42 2017\n",
      "Mon Jan  2 09:28:42 2017\n"
     ]
    }
   ],
   "source": [
    "import time\n",
    "\n",
    "t= time.time()\n",
    "print(time.ctime(t))\n",
    "\n",
    "l= time.localtime()\n",
    "print(time.asctime(l))"
   ]
  },
  {
   "cell_type": "code",
   "execution_count": 83,
   "metadata": {
    "collapsed": false
   },
   "outputs": [
    {
     "name": "stdout",
     "output_type": "stream",
     "text": [
      " tzs new york \n",
      " ETS  type  <class 'pytz.tzfile.America/New_York'>\n",
      " tzs newyork 2017-01-01 20:46:28.299948-05:00\n",
      " ETS 2 type  <class 'pytz.tzfile.Asia/Seoul'>\n",
      " seoul date time  2017-01-02 10:46:28.300948+09:00\n"
     ]
    }
   ],
   "source": [
    "import pytz\n",
    "import datetime\n",
    "\n",
    "#타임존을 가져오기\n",
    "for tzs in pytz.all_timezones :\n",
    "    if 'Asia/Seoul' in tzs :\n",
    "        tzs_seoul = tzs\n",
    "    if 'America/New_York' in tzs :\n",
    "        tzs_newyork = tzs\n",
    "\n",
    "#뉴욕 타임 가져오기\n",
    "print(' tzs new york ' )  \n",
    "EST = pytz.timezone(tzs_newyork)\n",
    "print(\" ETS  type \", type(EST))\n",
    "dt1 = datetime.datetime.now(tz=EST)\n",
    "print(' tzs newyork', dt1)\n",
    "\n",
    "#서울 타임가져오기\n",
    "EST2 = pytz.timezone(tzs_seoul)\n",
    "print(\" ETS 2 type \", type(EST2))\n",
    "dt2 = datetime.datetime.now(tz=EST2)\n",
    "print(\" seoul date time \", dt2)\n"
   ]
  },
  {
   "cell_type": "code",
   "execution_count": 87,
   "metadata": {
    "collapsed": false
   },
   "outputs": [
    {
     "name": "stdout",
     "output_type": "stream",
     "text": [
      "<class 'pytz.tzfile.Asia/Seoul'>\n"
     ]
    }
   ],
   "source": [
    "import pytz\n",
    "\n",
    "for tzs in pytz.all_timezones :\n",
    "    if 'Asia/Seoul' in tzs :\n",
    "        tzs_seoul = tzs\n",
    "        break\n",
    "        \n",
    "a = pytz.timezone(tzs_seoul)\n",
    "print(type(a))"
   ]
  },
  {
   "cell_type": "code",
   "execution_count": 98,
   "metadata": {
    "collapsed": false
   },
   "outputs": [
    {
     "name": "stdout",
     "output_type": "stream",
     "text": [
      "['Asia/Seoul']\n",
      "Korea (South)\n",
      "['America/New_York', 'America/Detroit', 'America/Kentucky/Louisville', 'America/Kentucky/Monticello', 'America/Indiana/Indianapolis', 'America/Indiana/Vincennes', 'America/Indiana/Winamac', 'America/Indiana/Marengo', 'America/Indiana/Petersburg', 'America/Indiana/Vevay', 'America/Chicago', 'America/Indiana/Tell_City', 'America/Indiana/Knox', 'America/Menominee', 'America/North_Dakota/Center', 'America/North_Dakota/New_Salem', 'America/North_Dakota/Beulah', 'America/Denver', 'America/Boise', 'America/Phoenix', 'America/Los_Angeles', 'America/Anchorage', 'America/Juneau', 'America/Sitka', 'America/Metlakatla', 'America/Yakutat', 'America/Nome', 'America/Adak', 'Pacific/Honolulu']\n",
      "United States\n"
     ]
    }
   ],
   "source": [
    "import pytz\n",
    "\n",
    "print(pytz.country_timezones('KR'))\n",
    "print(pytz.country_names['kr'])\n",
    "print(pytz.country_timezones('US'))\n",
    "print(pytz.country_names['US'])"
   ]
  },
  {
   "cell_type": "code",
   "execution_count": 100,
   "metadata": {
    "collapsed": false
   },
   "outputs": [
    {
     "name": "stdout",
     "output_type": "stream",
     "text": [
      "<class 'pytz.UTC'>\n"
     ]
    }
   ],
   "source": [
    "import pytz\n",
    "a = pytz.utc\n",
    "print(type(a))"
   ]
  },
  {
   "cell_type": "code",
   "execution_count": 104,
   "metadata": {
    "collapsed": false
   },
   "outputs": [
    {
     "name": "stdout",
     "output_type": "stream",
     "text": [
      "2017-01-02 00:00:00+08:28\n",
      "8:28:00\n",
      "2017-01-02 00:00:00+09:00\n",
      "9:00:00\n"
     ]
    }
   ],
   "source": [
    "import pytz\n",
    "from datetime import datetime\n",
    "\n",
    "tz = pytz.timezone('Asia/Seoul')\n",
    "print(datetime(2017, 1, 2, tzinfo=tz))\n",
    "\n",
    "print(datetime(2017, 1, 2, tzinfo=tz).utcoffset())\n",
    "\n",
    "tz1 = pytz.timezone('Asia/Tokyo')\n",
    "print(datetime(2017, 1, 2, tzinfo=tz1))\n",
    "\n",
    "print(datetime(2017, 1, 2, tzinfo=tz1).utcoffset())"
   ]
  },
  {
   "cell_type": "code",
   "execution_count": 110,
   "metadata": {
    "collapsed": false
   },
   "outputs": [
    {
     "name": "stdout",
     "output_type": "stream",
     "text": [
      "True\n",
      "True\n",
      "True\n"
     ]
    }
   ],
   "source": [
    "import pytz\n",
    "\n",
    "print(\"Asia/Seoul\" in pytz.all_timezones_set)\n",
    "print(\"Asia/Seoul\" in pytz.common_timezones)\n",
    "print(\"Asia/Seoul\" in pytz.common_timezones_set)\n"
   ]
  },
  {
   "cell_type": "code",
   "execution_count": 117,
   "metadata": {
    "collapsed": false
   },
   "outputs": [
    {
     "name": "stdout",
     "output_type": "stream",
     "text": [
      "<class 'pytz.tzfile.Asia/Seoul'>\n",
      " Asia/Seoul time zone  2017-01-02 11:21:45.494015+09:00\n",
      "datatime.datetime.astimezone normalize \n",
      "type  2017-01-01 21:21:45.494015-05:00\n",
      " time zone change  2017-01-01 21:21:45.494015-05:00\n"
     ]
    }
   ],
   "source": [
    "import pytz\n",
    "import datetime\n",
    "\n",
    "korean = pytz.timezone('Asia/Seoul')\n",
    "\n",
    "print(type(korean))\n",
    "\n",
    "print(\" Asia/Seoul time zone \", korean.localize(datetime.datetime.now()))\n",
    "korean_dt = korean.localize(datetime.datetime.now())\n",
    "print(\"datatime.datetime.astimezone normalize \")\n",
    "print(\"type \", korean_dt.astimezone(pytz.timezone('US/Eastern')))\n",
    "eastern = korean_dt.astimezone(pytz.timezone('US/Eastern'))\n",
    "print(\" time zone change \", eastern)\n"
   ]
  },
  {
   "cell_type": "code",
   "execution_count": 118,
   "metadata": {
    "collapsed": false
   },
   "outputs": [
    {
     "name": "stdout",
     "output_type": "stream",
     "text": [
      "pytz.UTC  <class 'pytz.UTC'> UTC\n",
      "pytz.UTC.zone  <class 'str'> UTC\n",
      "pytz.UTC.tzname  <bound method UTC.tzname of <UTC>>\n",
      "pytz.UTC formutc method  2017-01-02 02:23:18.681715+00:00\n"
     ]
    }
   ],
   "source": [
    "import pytz\n",
    "import datetime\n",
    "\n",
    "print( \"pytz.UTC \", type(pytz.UTC), pytz.UTC)\n",
    "print( \"pytz.UTC.zone \", type(pytz.UTC.zone), pytz.UTC.zone)\n",
    "print( \"pytz.UTC.tzname \", pytz.UTC.tzname)\n",
    "print( \"pytz.UTC formutc method \", pytz.UTC.fromutc(datetime.datetime.utcnow()))\n"
   ]
  },
  {
   "cell_type": "code",
   "execution_count": 119,
   "metadata": {
    "collapsed": false
   },
   "outputs": [
    {
     "name": "stdout",
     "output_type": "stream",
     "text": [
      "pytz.utc dst method  0:00:00\n",
      "pytz.utc utcoffset method  0:00:00\n",
      "pytz.utc localize method  2017-01-02 02:24:35.877315+00:00\n",
      "pytz.utc normalize method  2017-01-02 02:24:35.877315+00:00\n"
     ]
    }
   ],
   "source": [
    "import pytz\n",
    "import datetime\n",
    "\n",
    "utc = pytz.utc\n",
    "print( \"pytz.utc dst method \", utc.dst(datetime.datetime.utcnow()))\n",
    "print( \"pytz.utc utcoffset method \", utc.utcoffset(datetime.datetime.utcnow()))\n",
    "print( \"pytz.utc localize method \", utc.localize(datetime.datetime.utcnow()))\n",
    "print(\"pytz.utc normalize method \", utc.normalize(datetime.datetime.now(tz=pytz.timezone(\"Asia/Seoul\"))))\n"
   ]
  },
  {
   "cell_type": "code",
   "execution_count": 121,
   "metadata": {
    "collapsed": false
   },
   "outputs": [
    {
     "name": "stdout",
     "output_type": "stream",
     "text": [
      "<class 'pytz.tzfile.Asia/Seoul'>\n",
      " Asia/Seoul time zone  2017-01-02 11:25:59.278215+09:00\n"
     ]
    }
   ],
   "source": [
    "import pytz\n",
    "import datetime\n",
    "\n",
    "korean = pytz.timezone('Asia/Seoul')\n",
    "\n",
    "print( type(korean))\n",
    "\n",
    "print( \" Asia/Seoul time zone \", korean.localize(datetime.datetime.now()))\n"
   ]
  },
  {
   "cell_type": "code",
   "execution_count": 122,
   "metadata": {
    "collapsed": false
   },
   "outputs": [
    {
     "name": "stdout",
     "output_type": "stream",
     "text": [
      "UTC\n",
      "US/Eastern\n",
      "2002-10-27 06:00:00 EST-0500\n"
     ]
    }
   ],
   "source": [
    "from datetime import datetime, timedelta\n",
    "from pytz import timezone\n",
    "import pytz\n",
    "utc = pytz.utc\n",
    "print(utc.zone)\n",
    "\n",
    "eastern = timezone('US/Eastern')\n",
    "print(eastern.zone)\n",
    "\n",
    "amsterdam = timezone('Europe/Amsterdam')\n",
    "fmt = '%Y-%m-%d %H:%M:%S %Z%z'\n",
    "\n",
    "loc_dt = eastern.localize(datetime(2002, 10, 27, 6, 0, 0))\n",
    "print(loc_dt.strftime(fmt))"
   ]
  },
  {
   "cell_type": "code",
   "execution_count": 123,
   "metadata": {
    "collapsed": false
   },
   "outputs": [
    {
     "data": {
      "text/plain": [
       "pytz.tzfile.US/Eastern"
      ]
     },
     "execution_count": 123,
     "metadata": {},
     "output_type": "execute_result"
    }
   ],
   "source": [
    "type(eastern)"
   ]
  },
  {
   "cell_type": "code",
   "execution_count": 125,
   "metadata": {
    "collapsed": false
   },
   "outputs": [
    {
     "data": {
      "text/plain": [
       "['__class__',\n",
       " '__delattr__',\n",
       " '__dict__',\n",
       " '__dir__',\n",
       " '__doc__',\n",
       " '__eq__',\n",
       " '__format__',\n",
       " '__ge__',\n",
       " '__getattribute__',\n",
       " '__gt__',\n",
       " '__hash__',\n",
       " '__init__',\n",
       " '__le__',\n",
       " '__lt__',\n",
       " '__module__',\n",
       " '__ne__',\n",
       " '__new__',\n",
       " '__reduce__',\n",
       " '__reduce_ex__',\n",
       " '__repr__',\n",
       " '__setattr__',\n",
       " '__sizeof__',\n",
       " '__str__',\n",
       " '__subclasshook__',\n",
       " '__weakref__',\n",
       " '_dst',\n",
       " '_transition_info',\n",
       " '_tzinfos',\n",
       " '_tzname',\n",
       " '_utc_transition_times',\n",
       " '_utcoffset',\n",
       " 'dst',\n",
       " 'fromutc',\n",
       " 'localize',\n",
       " 'normalize',\n",
       " 'tzname',\n",
       " 'utcoffset',\n",
       " 'zone']"
      ]
     },
     "execution_count": 125,
     "metadata": {},
     "output_type": "execute_result"
    }
   ],
   "source": [
    "dir(eastern)"
   ]
  },
  {
   "cell_type": "code",
   "execution_count": 138,
   "metadata": {
    "collapsed": false
   },
   "outputs": [
    {
     "name": "stdout",
     "output_type": "stream",
     "text": [
      "<class 'pytz.tzfile.Asia/Seoul'>\n",
      "<bound method DstTzInfo.tzname of <DstTzInfo 'Asia/Seoul' LMT+8:28:00 STD>>\n",
      "<bound method DstTzInfo.utcoffset of <DstTzInfo 'Asia/Seoul' LMT+8:28:00 STD>>\n",
      "Asia/Seoul\n",
      "2017-01-02 00:00:00+09:00\n",
      "<class 'datetime.datetime'>\n",
      "2017-01-02 00:00:00+09:00\n"
     ]
    }
   ],
   "source": [
    "from pytz import timezone\n",
    "from datetime import datetime\n",
    "\n",
    "korea = timezone('Asia/Seoul')\n",
    "print(type(korea))\n",
    "print(korea.tzname)\n",
    "print(korea.utcoffset)\n",
    "print(korea.zone)\n",
    "loc_dt = korea.localize(datetime(2017,1,2))\n",
    "print(loc_dt)\n",
    "print(type(loc_dt))\n",
    "print(korea.normalize(loc_dt))"
   ]
  },
  {
   "cell_type": "code",
   "execution_count": 135,
   "metadata": {
    "collapsed": false
   },
   "outputs": [
    {
     "name": "stdout",
     "output_type": "stream",
     "text": [
      "Help on method normalize in module pytz.tzinfo:\n",
      "\n",
      "normalize(dt) method of pytz.tzfile.Asia/Seoul instance\n",
      "    Correct the timezone information on the given datetime\n",
      "    \n",
      "    If date arithmetic crosses DST boundaries, the tzinfo\n",
      "    is not magically adjusted. This method normalizes the\n",
      "    tzinfo to the correct one.\n",
      "    \n",
      "    To test, first we need to do some setup\n",
      "    \n",
      "    >>> from pytz import timezone\n",
      "    >>> utc = timezone('UTC')\n",
      "    >>> eastern = timezone('US/Eastern')\n",
      "    >>> fmt = '%Y-%m-%d %H:%M:%S %Z (%z)'\n",
      "    \n",
      "    We next create a datetime right on an end-of-DST transition point,\n",
      "    the instant when the wallclocks are wound back one hour.\n",
      "    \n",
      "    >>> utc_dt = datetime(2002, 10, 27, 6, 0, 0, tzinfo=utc)\n",
      "    >>> loc_dt = utc_dt.astimezone(eastern)\n",
      "    >>> loc_dt.strftime(fmt)\n",
      "    '2002-10-27 01:00:00 EST (-0500)'\n",
      "    \n",
      "    Now, if we subtract a few minutes from it, note that the timezone\n",
      "    information has not changed.\n",
      "    \n",
      "    >>> before = loc_dt - timedelta(minutes=10)\n",
      "    >>> before.strftime(fmt)\n",
      "    '2002-10-27 00:50:00 EST (-0500)'\n",
      "    \n",
      "    But we can fix that by calling the normalize method\n",
      "    \n",
      "    >>> before = eastern.normalize(before)\n",
      "    >>> before.strftime(fmt)\n",
      "    '2002-10-27 01:50:00 EDT (-0400)'\n",
      "    \n",
      "    The supported method of converting between timezones is to use\n",
      "    datetime.astimezone(). Currently, normalize() also works:\n",
      "    \n",
      "    >>> th = timezone('Asia/Bangkok')\n",
      "    >>> am = timezone('Europe/Amsterdam')\n",
      "    >>> dt = th.localize(datetime(2011, 5, 7, 1, 2, 3))\n",
      "    >>> fmt = '%Y-%m-%d %H:%M:%S %Z (%z)'\n",
      "    >>> am.normalize(dt).strftime(fmt)\n",
      "    '2011-05-06 20:02:03 CEST (+0200)'\n",
      "\n"
     ]
    }
   ],
   "source": [
    "help(korea.normalize)"
   ]
  },
  {
   "cell_type": "code",
   "execution_count": 140,
   "metadata": {
    "collapsed": false
   },
   "outputs": [
    {
     "name": "stdout",
     "output_type": "stream",
     "text": [
      "2011-05-07 01:02:03+07:00\n",
      "2011-05-06 20:02:03 CEST (+0200)\n"
     ]
    }
   ],
   "source": [
    "from pytz import timezone\n",
    "from datetime import datetime\n",
    "\n",
    "th = timezone('Asia/Bangkok')\n",
    "am = timezone('Europe/Amsterdam')\n",
    "dt = th.localize(datetime(2011, 5, 7, 1, 2, 3))\n",
    "print(dt)\n",
    "fmt = '%Y-%m-%d %H:%M:%S %Z (%z)'\n",
    "print(am.normalize(dt).strftime(fmt))\n"
   ]
  },
  {
   "cell_type": "code",
   "execution_count": 141,
   "metadata": {
    "collapsed": false
   },
   "outputs": [
    {
     "name": "stdout",
     "output_type": "stream",
     "text": [
      "2017-01-02 02:47:38.481446+00:00\n",
      "2017-01-02 08:17:38.481446+05:30\n",
      "2017-01-02 08:17:38.482446+05:30\n"
     ]
    }
   ],
   "source": [
    "from datetime import tzinfo, timedelta, datetime\n",
    "from pytz import UTC\n",
    "\n",
    "\n",
    "class MyUTCOffsetTimezone (tzinfo):\n",
    "\n",
    "    def __init__(self, offset=19800, name=None):\n",
    "        self.offset = timedelta(seconds=offset)\n",
    "        self.name = name or self.__class__.__name__\n",
    "\n",
    "    def utcoffset(self, dt):\n",
    "        return self.offset\n",
    "\n",
    "    def tzname(self, dt):\n",
    "        return self.name\n",
    "\n",
    "    def dst(self, dt):\n",
    "        return timedelta(0)\n",
    "\n",
    "now = datetime.now(tz=UTC)\n",
    "print(now)\n",
    "\n",
    "print(now.astimezone(MyUTCOffsetTimezone()))\n",
    "\n",
    "print(datetime.now(MyUTCOffsetTimezone()))\n"
   ]
  },
  {
   "cell_type": "code",
   "execution_count": 146,
   "metadata": {
    "collapsed": false
   },
   "outputs": [
    {
     "name": "stdout",
     "output_type": "stream",
     "text": [
      "<class 'type'>\n",
      "['__class__', '__delattr__', '__dir__', '__doc__', '__eq__', '__format__', '__ge__', '__getattribute__', '__gt__', '__hash__', '__init__', '__le__', '__lt__', '__ne__', '__new__', '__reduce__', '__reduce_ex__', '__repr__', '__setattr__', '__sizeof__', '__str__', '__subclasshook__', 'dst', 'fromutc', 'tzname', 'utcoffset']\n",
      "<datetime.tzinfo object at 0x000000000045F4C0>\n"
     ]
    }
   ],
   "source": [
    "from datetime import tzinfo\n",
    "\n",
    "print(type(tzinfo))\n",
    "print(dir(tzinfo))\n",
    "\n",
    "i = tzinfo()\n",
    "print(i)"
   ]
  },
  {
   "cell_type": "code",
   "execution_count": 156,
   "metadata": {
    "collapsed": false
   },
   "outputs": [
    {
     "name": "stdout",
     "output_type": "stream",
     "text": [
      "<class 'datetime.date'> 2017-01-02\n",
      "<class 'datetime.datetime'> 2017-01-02 12:03:42.651516\n"
     ]
    }
   ],
   "source": [
    "import datetime\n",
    "\n",
    "tod = datetime.date.today()\n",
    "todate = datetime.datetime.today()\n",
    "print(type(tod), tod)\n",
    "\n",
    "print(type(todate), todate)\n"
   ]
  },
  {
   "cell_type": "code",
   "execution_count": 165,
   "metadata": {
    "collapsed": false
   },
   "outputs": [
    {
     "name": "stdout",
     "output_type": "stream",
     "text": [
      "0\n",
      "1\n",
      "time.struct_time(tm_year=2017, tm_mon=1, tm_mday=2, tm_hour=0, tm_min=0, tm_sec=0, tm_wday=0, tm_yday=2, tm_isdst=-1)\n",
      "2020-03-30\n"
     ]
    }
   ],
   "source": [
    "import datetime\n",
    "\n",
    "tod = datetime.date.today()\n",
    "print(tod.weekday())\n",
    "print(tod.isoweekday())\n",
    "print(tod.timetuple())\n",
    "print(tod.replace(2020,3,30))"
   ]
  },
  {
   "cell_type": "code",
   "execution_count": 162,
   "metadata": {
    "collapsed": false
   },
   "outputs": [
    {
     "name": "stdout",
     "output_type": "stream",
     "text": [
      "<class 'datetime.timedelta'> 334 days, 0:00:00\n",
      "False\n",
      "True\n",
      "<class 'datetime.date'> 2017-01-02\n"
     ]
    }
   ],
   "source": [
    "import datetime\n",
    "\n",
    "d1 = datetime.date(2016,2,3)\n",
    "d2 = datetime.date.today()\n",
    "dd = d2-d1\n",
    "print(type(dd), dd)\n",
    "\n",
    "print(d1 > d2)\n",
    "print(d1 < d2)\n",
    "d3 = d1 + dd\n",
    "print(type(d3), d3)\n"
   ]
  },
  {
   "cell_type": "code",
   "execution_count": 167,
   "metadata": {
    "collapsed": false
   },
   "outputs": [
    {
     "name": "stdout",
     "output_type": "stream",
     "text": [
      "736331\n",
      "2017-01-02\n"
     ]
    }
   ],
   "source": [
    "import datetime\n",
    "\n",
    "d1 = datetime.date.today()\n",
    "print(d1.toordinal())\n",
    "\n",
    "print(d1.fromordinal(736331))\n"
   ]
  },
  {
   "cell_type": "code",
   "execution_count": 168,
   "metadata": {
    "collapsed": false
   },
   "outputs": [
    {
     "name": "stdout",
     "output_type": "stream",
     "text": [
      " start day :  2015-02-03\n",
      " end   day :  2017-01-02\n",
      " julian day :  699\n",
      " start day :  0001-01-01\n",
      " end   day :  2017-01-02\n",
      " julian day :  736330\n",
      " today : 2017-01-02\n"
     ]
    }
   ],
   "source": [
    "import datetime\n",
    "\n",
    "#줄리안 데이트 구하기\n",
    "def cal_julian(year,month,day) :\n",
    "    start = datetime.date(year,month,day)\n",
    "    print(' start day : ', start)\n",
    "    end   = datetime.date.today()\n",
    "    print( ' end   day : ', end)\n",
    "    \n",
    "    time_delta  = end - start\n",
    "    print( ' julian day : ', time_delta.days)\n",
    "    \n",
    "    return (start,time_delta.days)\n",
    "#시작일로부터 현재일자 변환     \n",
    "def cal_ordinal(start) :\n",
    "    x, y = cal_julian(1,1,1)\n",
    "    ordinal = y  +1\n",
    "    print( \" today :\", datetime.date.fromordinal(ordinal))\n",
    "    \n",
    "\n",
    "if __name__ == \"__main__\" :\n",
    "    start,julian_day = cal_julian(2015,2,3)\n",
    "    cal_ordinal(start)\n"
   ]
  },
  {
   "cell_type": "code",
   "execution_count": 185,
   "metadata": {
    "collapsed": false
   },
   "outputs": [
    {
     "name": "stdout",
     "output_type": "stream",
     "text": [
      "<class 'pytz.UTC'>\n",
      "<class 'type'>\n",
      "0:00:00\n",
      "2017-01-02 12:41:23.985054+00:00\n",
      "UTC\n",
      "0:00:00\n",
      "UTC\n"
     ]
    }
   ],
   "source": [
    "import pytz\n",
    "\n",
    "print(type(pytz.UTC))\n",
    "print(pytz.UTC.__class__.__class__)\n",
    "print(pytz.UTC.dst(datetime.datetime.today()))\n",
    "print(pytz.UTC.localize(datetime.datetime.today()))\n",
    "print(pytz.UTC.tzname(datetime.datetime.today()))\n",
    "print(pytz.UTC.utcoffset(datetime.datetime.today()))\n",
    "print(pytz.UTC.zone)\n"
   ]
  },
  {
   "cell_type": "code",
   "execution_count": 191,
   "metadata": {
    "collapsed": false
   },
   "outputs": [
    {
     "name": "stdout",
     "output_type": "stream",
     "text": [
      "<class 'type'>\n",
      "Help on class tzinfo in module datetime:\n",
      "\n",
      "class tzinfo(builtins.object)\n",
      " |  Abstract base class for time zone info objects.\n",
      " |  \n",
      " |  Methods defined here:\n",
      " |  \n",
      " |  __getattribute__(self, name, /)\n",
      " |      Return getattr(self, name).\n",
      " |  \n",
      " |  __new__(*args, **kwargs) from builtins.type\n",
      " |      Create and return a new object.  See help(type) for accurate signature.\n",
      " |  \n",
      " |  __reduce__(...)\n",
      " |      -> (cls, state)\n",
      " |  \n",
      " |  dst(...)\n",
      " |      datetime -> DST offset in minutes east of UTC.\n",
      " |  \n",
      " |  fromutc(...)\n",
      " |      datetime in UTC -> datetime in local time.\n",
      " |  \n",
      " |  tzname(...)\n",
      " |      datetime -> string name of time zone.\n",
      " |  \n",
      " |  utcoffset(...)\n",
      " |      datetime -> timedelta showing offset from UTC, negative values indicating West of UTC\n",
      "\n",
      "None\n"
     ]
    }
   ],
   "source": [
    "import datetime\n",
    "\n",
    "print(type(datetime.tzinfo))\n",
    "print(help(datetime.tzinfo))"
   ]
  },
  {
   "cell_type": "code",
   "execution_count": 197,
   "metadata": {
    "collapsed": false
   },
   "outputs": [
    {
     "name": "stdout",
     "output_type": "stream",
     "text": [
      "<class 'datetime.datetime'> 2017-01-02 13:02:38.156684\n",
      "<class 'datetime.datetime'> 2009-02-17 16:22:11\n"
     ]
    }
   ],
   "source": [
    "import datetime\n",
    "\n",
    "cdatetime = datetime.datetime.now() \n",
    "cdatetime.strftime(\"%d %b %Y %I:%M:%S %p\") \n",
    "\n",
    "print(type(cdatetime), cdatetime)\n",
    "\n",
    "dt = datetime.datetime.strptime('17 Feb 2009 04:22:11 PM','%d %b %Y %I:%M:%S %p') \n",
    "print(type(dt),dt)"
   ]
  },
  {
   "cell_type": "code",
   "execution_count": 198,
   "metadata": {
    "collapsed": false
   },
   "outputs": [
    {
     "name": "stdout",
     "output_type": "stream",
     "text": [
      "736331\n",
      "2017-01-02 00:00:00\n"
     ]
    }
   ],
   "source": [
    "import datetime\n",
    "\n",
    "d1 = datetime.datetime.today()\n",
    "print(d1.toordinal())\n",
    "\n",
    "print(d1.fromordinal(736331))\n"
   ]
  },
  {
   "cell_type": "code",
   "execution_count": 199,
   "metadata": {
    "collapsed": false
   },
   "outputs": [
    {
     "name": "stdout",
     "output_type": "stream",
     "text": [
      "2017-01-02 13:07:37.958914\n",
      "2017-01-02 04:07:37.958914\n",
      "2017-01-02 13:07:37.958915\n"
     ]
    }
   ],
   "source": [
    "import datetime\n",
    "print(datetime.datetime.now())\n",
    "print(datetime.datetime.utcnow())\n",
    "print(datetime.datetime.today())"
   ]
  },
  {
   "cell_type": "code",
   "execution_count": 201,
   "metadata": {
    "collapsed": false
   },
   "outputs": [
    {
     "name": "stdout",
     "output_type": "stream",
     "text": [
      "2017\n",
      "1\n",
      "2\n",
      "13\n",
      "11\n",
      "23\n",
      "855215\n",
      "None\n"
     ]
    }
   ],
   "source": [
    "import datetime\n",
    "\n",
    "d1 = datetime.datetime.today()\n",
    "print(d1.year)\n",
    "print(d1.month)\n",
    "print(d1.day)\n",
    "print(d1.hour)\n",
    "print(d1.minute)\n",
    "print(d1.second)\n",
    "print(d1.microsecond)\n",
    "print(d1.tzinfo)"
   ]
  },
  {
   "cell_type": "code",
   "execution_count": 203,
   "metadata": {
    "collapsed": false
   },
   "outputs": [
    {
     "name": "stdout",
     "output_type": "stream",
     "text": [
      "0001-01-01 00:00:00\n",
      "9999-12-31 23:59:59.999999\n",
      "0:00:00.000001\n"
     ]
    }
   ],
   "source": [
    "import datetime\n",
    "\n",
    "print(datetime.datetime.min)\n",
    "print(datetime.datetime.max)\n",
    "print(datetime.datetime.resolution)\n"
   ]
  },
  {
   "cell_type": "code",
   "execution_count": 205,
   "metadata": {
    "collapsed": false
   },
   "outputs": [
    {
     "name": "stdout",
     "output_type": "stream",
     "text": [
      "<class 'datetime.date'> 2017-01-02\n",
      "<class 'str'> 2017-01-02\n"
     ]
    }
   ],
   "source": [
    "import datetime\n",
    "\n",
    "cdatetime = datetime.date.today() \n",
    "cdatetime.strftime(\"%d %b %Y\") \n",
    "\n",
    "print(type(cdatetime), cdatetime)\n",
    "\n",
    "dt = cdatetime.isoformat() \n",
    "print(type(dt),dt)"
   ]
  },
  {
   "cell_type": "code",
   "execution_count": 210,
   "metadata": {
    "collapsed": false
   },
   "outputs": [
    {
     "name": "stdout",
     "output_type": "stream",
     "text": [
      "<class 'datetime.date'> 2017-01-02\n",
      "<class 'datetime.date'> 2017-01-02\n"
     ]
    }
   ],
   "source": [
    "import datetime\n",
    "import time\n",
    "\n",
    "cdatetime = datetime.date.today() \n",
    "print(type(cdatetime), cdatetime)\n",
    "\n",
    "s = cdatetime.fromtimestamp(time.time())\n",
    "print(type(s), s)\n"
   ]
  },
  {
   "cell_type": "code",
   "execution_count": 217,
   "metadata": {
    "collapsed": false
   },
   "outputs": [
    {
     "name": "stdout",
     "output_type": "stream",
     "text": [
      "Mon Jan  2 13:25:29 2017\n"
     ]
    },
    {
     "ename": "AttributeError",
     "evalue": "'str' object has no attribute 'min'",
     "output_type": "error",
     "traceback": [
      "\u001b[0;31m---------------------------------------------------------------------------\u001b[0m",
      "\u001b[0;31mAttributeError\u001b[0m                            Traceback (most recent call last)",
      "\u001b[0;32m<ipython-input-217-19705804d4b7>\u001b[0m in \u001b[0;36m<module>\u001b[0;34m()\u001b[0m\n\u001b[1;32m      3\u001b[0m \u001b[0ms\u001b[0m \u001b[1;33m=\u001b[0m \u001b[0mtime\u001b[0m\u001b[1;33m.\u001b[0m\u001b[0mctime\u001b[0m\u001b[1;33m(\u001b[0m\u001b[1;33m)\u001b[0m\u001b[1;33m\u001b[0m\u001b[0m\n\u001b[1;32m      4\u001b[0m \u001b[0mprint\u001b[0m\u001b[1;33m(\u001b[0m\u001b[0ms\u001b[0m\u001b[1;33m)\u001b[0m\u001b[1;33m\u001b[0m\u001b[0m\n\u001b[0;32m----> 5\u001b[0;31m \u001b[0mprint\u001b[0m\u001b[1;33m(\u001b[0m\u001b[0ms\u001b[0m\u001b[1;33m.\u001b[0m\u001b[0mmin\u001b[0m\u001b[1;33m)\u001b[0m\u001b[1;33m\u001b[0m\u001b[0m\n\u001b[0m\u001b[1;32m      6\u001b[0m \u001b[0mprint\u001b[0m\u001b[1;33m(\u001b[0m\u001b[0mtime\u001b[0m\u001b[1;33m.\u001b[0m\u001b[0mtime\u001b[0m\u001b[1;33m(\u001b[0m\u001b[1;33m)\u001b[0m\u001b[1;33m)\u001b[0m\u001b[1;33m\u001b[0m\u001b[0m\n",
      "\u001b[0;31mAttributeError\u001b[0m: 'str' object has no attribute 'min'"
     ]
    }
   ],
   "source": [
    "import time\n",
    "\n",
    "s = time.ctime()\n",
    "print(type(s), s)\n",
    "\n",
    "d1 = time.time()\n",
    "print(d1.hour)\n",
    "print(d1.minute)\n",
    "print(d1.second)\n",
    "print(d1.microsecond)\n",
    "print(d1.tzinfo)\n"
   ]
  },
  {
   "cell_type": "code",
   "execution_count": 240,
   "metadata": {
    "collapsed": false
   },
   "outputs": [
    {
     "name": "stdout",
     "output_type": "stream",
     "text": [
      "22:10:05\n",
      "00:00:00 23:59:59.999999\n",
      "22\n",
      "10\n",
      "5\n"
     ]
    }
   ],
   "source": [
    "import datetime\n",
    "loc = datetime.time(22,10,5)\n",
    "print(loc)\n",
    "print(loc.min, loc.max)\n",
    "print(loc.hour)\n",
    "print(loc.minute)\n",
    "print(loc.second)"
   ]
  },
  {
   "cell_type": "code",
   "execution_count": 230,
   "metadata": {
    "collapsed": false
   },
   "outputs": [
    {
     "data": {
      "text/plain": [
       "['__class__',\n",
       " '__delattr__',\n",
       " '__dir__',\n",
       " '__doc__',\n",
       " '__eq__',\n",
       " '__format__',\n",
       " '__ge__',\n",
       " '__getattribute__',\n",
       " '__gt__',\n",
       " '__hash__',\n",
       " '__init__',\n",
       " '__le__',\n",
       " '__lt__',\n",
       " '__ne__',\n",
       " '__new__',\n",
       " '__reduce__',\n",
       " '__reduce_ex__',\n",
       " '__repr__',\n",
       " '__setattr__',\n",
       " '__sizeof__',\n",
       " '__str__',\n",
       " '__subclasshook__',\n",
       " 'dst',\n",
       " 'hour',\n",
       " 'isoformat',\n",
       " 'max',\n",
       " 'microsecond',\n",
       " 'min',\n",
       " 'minute',\n",
       " 'replace',\n",
       " 'resolution',\n",
       " 'second',\n",
       " 'strftime',\n",
       " 'tzinfo',\n",
       " 'tzname',\n",
       " 'utcoffset']"
      ]
     },
     "execution_count": 230,
     "metadata": {},
     "output_type": "execute_result"
    }
   ],
   "source": [
    "dir(datetime.time)"
   ]
  },
  {
   "cell_type": "code",
   "execution_count": 241,
   "metadata": {
    "collapsed": false
   },
   "outputs": [
    {
     "name": "stdout",
     "output_type": "stream",
     "text": [
      "time instance   :  12:10:30+01:00\n",
      "time iso format :  12:10:30+01:00\n",
      "time dst        :  0:00:00\n",
      "time zone       :  Europe/Prague\n",
      "time strftime   :  12:10:30 Europe/Prague\n",
      "The time is 12:10.\n"
     ]
    }
   ],
   "source": [
    "from datetime import time, tzinfo,timedelta\n",
    "\n",
    "#tzinfo 추상클래스를 현행화\n",
    "class GMT1(tzinfo):\n",
    "    def utcoffset(self, dt):\n",
    "        return timedelta(hours=1)\n",
    "    def dst(self, dt):\n",
    "        return timedelta(0)\n",
    "    def tzname(self,dt):\n",
    "        return \"Europe/Prague\"\n",
    " \n",
    "#시간생성  tzinfo에 객체 생성    \n",
    "t = time(12, 10, 30, tzinfo=GMT1())\n",
    "print( \"time instance   : \",t)\n",
    "print( \"time iso format : \",t.isoformat())\n",
    "print( \"time dst        : \", t.dst())\n",
    "print( 'time zone       : ',t.tzname())\n",
    "print( \"time strftime   : \",t.strftime(\"%H:%M:%S %Z\"))\n",
    "print( 'The {} is {:%H:%M}.'.format(\"time\", t))\n"
   ]
  },
  {
   "cell_type": "code",
   "execution_count": 246,
   "metadata": {
    "collapsed": false
   },
   "outputs": [
    {
     "name": "stdout",
     "output_type": "stream",
     "text": [
      "01/02/2017 04:44:33 \n",
      "01/02/2017 04:44:33 GMT\n",
      "01/01/2017 23:44:33 EST\n"
     ]
    }
   ],
   "source": [
    "from datetime import tzinfo,timedelta\n",
    "import datetime\n",
    "\n",
    "class Zone(tzinfo):\n",
    "    def __init__(self,offset,isdst,name):\n",
    "        self.offset = offset\n",
    "        self.isdst = isdst\n",
    "        self.name = name\n",
    "    def utcoffset(self, dt):\n",
    "        return timedelta(hours=self.offset) + self.dst(dt)\n",
    "    def dst(self, dt):\n",
    "            return timedelta(hours=1) if self.isdst else timedelta(0)\n",
    "    def tzname(self,dt):\n",
    "         return self.name\n",
    "\n",
    "GMT = Zone(0,False,'GMT')\n",
    "EST = Zone(-5,False,'EST')\n",
    "\n",
    "print( datetime.datetime.utcnow().strftime('%m/%d/%Y %H:%M:%S %Z'))\n",
    "print( datetime.datetime.now(GMT).strftime('%m/%d/%Y %H:%M:%S %Z'))\n",
    "print( datetime.datetime.now(EST).strftime('%m/%d/%Y %H:%M:%S %Z'))\n"
   ]
  },
  {
   "cell_type": "code",
   "execution_count": 247,
   "metadata": {
    "collapsed": false
   },
   "outputs": [
    {
     "name": "stdout",
     "output_type": "stream",
     "text": [
      "2017-01-03 13:49:43.826767\n"
     ]
    }
   ],
   "source": [
    "import datetime\n",
    "\n",
    "now2 = datetime.datetime.now()\n",
    "\n",
    "#오늘에 하루를 더해서 내일 구하기\n",
    "tomorrow = now2 + datetime.timedelta(days=1)\n",
    "print(tomorrow)                            \n"
   ]
  },
  {
   "cell_type": "code",
   "execution_count": 248,
   "metadata": {
    "collapsed": false
   },
   "outputs": [
    {
     "name": "stdout",
     "output_type": "stream",
     "text": [
      "1 day, 0:00:10\n",
      "1\n",
      "10\n"
     ]
    }
   ],
   "source": [
    "\n",
    "import datetime\n",
    "\n",
    "oneDatetime = datetime.datetime.strptime('2015-04-15 00:00:00', '%Y-%m-%d %H:%M:%S')\n",
    "twoDatetime = datetime.datetime.strptime('2015-04-16 00:00:10', '%Y-%m-%d %H:%M:%S')\n",
    "\n",
    "result = twoDatetime - oneDatetime\n",
    "print(result)                               \n",
    "print(result.days)                      \n",
    "print(result.seconds)                  "
   ]
  },
  {
   "cell_type": "code",
   "execution_count": 250,
   "metadata": {
    "collapsed": false
   },
   "outputs": [
    {
     "name": "stdout",
     "output_type": "stream",
     "text": [
      " ameria / st_johns  2017-01-02 01:22:14.207167-03:30\n",
      " utc offset  -1 day, 20:30:00\n",
      "-3\n",
      "30\n"
     ]
    }
   ],
   "source": [
    "\n",
    "import datetime\n",
    "import pytz\n",
    "\n",
    "\n",
    "tz = pytz.timezone('America/St_Johns')\n",
    "\n",
    "st_johns_dt = tz.normalize(datetime.datetime.now(tz=pytz.utc))\n",
    "print( \" ameria / st_johns \", st_johns_dt)\n",
    "\n",
    "print( \" utc offset \",st_johns_dt.utcoffset())\n",
    "st_tmdt = st_johns_dt.utcoffset()\n",
    "print( int(st_tmdt.total_seconds()/3600) )\n",
    "print( int((st_tmdt.total_seconds()%3600)/60) )\n"
   ]
  },
  {
   "cell_type": "code",
   "execution_count": 252,
   "metadata": {
    "collapsed": false
   },
   "outputs": [
    {
     "name": "stdout",
     "output_type": "stream",
     "text": [
      "31536000.0\n",
      "31536000.0\n",
      "True\n"
     ]
    }
   ],
   "source": [
    "from datetime import timedelta \n",
    "\n",
    "year = timedelta(days=365)\n",
    "another_year = timedelta(weeks=40, days=84, hours=23,\n",
    "                         minutes=50, seconds=600) # adds up to 365 days\n",
    "\n",
    "print(year.total_seconds())\n",
    "print(another_year.total_seconds())\n",
    "print(year == another_year )\n"
   ]
  },
  {
   "cell_type": "code",
   "execution_count": 256,
   "metadata": {
    "collapsed": false
   },
   "outputs": [
    {
     "name": "stdout",
     "output_type": "stream",
     "text": [
      "2013-02-03 00:00:00+08:28\n",
      "8:28:00\n",
      "2013-02-03 00:00:00-04:56\n",
      "-1 day, 19:04:00\n",
      "-1 day, 10:36:00\n"
     ]
    }
   ],
   "source": [
    "import pytz\n",
    "from datetime import datetime\n",
    "\n",
    "tz = pytz.timezone('Asia/Seoul')\n",
    "d1 = datetime(2013, 2, 3, tzinfo=tz)\n",
    "\n",
    "print(d1)\n",
    "print(d1.utcoffset())\n",
    "\n",
    "tz1 = pytz.timezone('US/Eastern') \n",
    "d2 = datetime(2013, 2, 3, tzinfo=tz1)\n",
    "\n",
    "print(d2)\n",
    "print(d2.utcoffset())\n",
    "\n",
    "print(d1-d2)\n"
   ]
  },
  {
   "cell_type": "code",
   "execution_count": 267,
   "metadata": {
    "collapsed": false
   },
   "outputs": [
    {
     "name": "stdout",
     "output_type": "stream",
     "text": [
      "2017-01-02 14:17:35.142168\n",
      "2017-01-02 22:22:22\n"
     ]
    }
   ],
   "source": [
    "import datetime\n",
    "import time\n",
    "\n",
    "a = datetime.datetime.fromtimestamp(time.time())\n",
    "print(a)\n",
    "\n",
    "b = datetime.datetime.combine(datetime.date.today(), datetime.time(22,22,22))\n",
    "print(b)"
   ]
  },
  {
   "cell_type": "code",
   "execution_count": 268,
   "metadata": {
    "collapsed": false
   },
   "outputs": [
    {
     "name": "stdout",
     "output_type": "stream",
     "text": [
      "1483335391.0532677\n"
     ]
    }
   ],
   "source": [
    "import time\n",
    "print(time.time())"
   ]
  },
  {
   "cell_type": "code",
   "execution_count": 269,
   "metadata": {
    "collapsed": false
   },
   "outputs": [
    {
     "name": "stdout",
     "output_type": "stream",
     "text": [
      "Help on built-in function time in module time:\n",
      "\n",
      "time(...)\n",
      "    time() -> floating point number\n",
      "    \n",
      "    Return the current time in seconds since the Epoch.\n",
      "    Fractions of a second may be present if the system clock provides them.\n",
      "\n"
     ]
    }
   ],
   "source": [
    "help(time.time)"
   ]
  },
  {
   "cell_type": "code",
   "execution_count": 270,
   "metadata": {
    "collapsed": false
   },
   "outputs": [
    {
     "data": {
      "text/plain": [
       "['_STRUCT_TM_ITEMS',\n",
       " '__doc__',\n",
       " '__loader__',\n",
       " '__name__',\n",
       " '__package__',\n",
       " '__spec__',\n",
       " 'altzone',\n",
       " 'asctime',\n",
       " 'clock',\n",
       " 'ctime',\n",
       " 'daylight',\n",
       " 'get_clock_info',\n",
       " 'gmtime',\n",
       " 'localtime',\n",
       " 'mktime',\n",
       " 'monotonic',\n",
       " 'perf_counter',\n",
       " 'process_time',\n",
       " 'sleep',\n",
       " 'strftime',\n",
       " 'strptime',\n",
       " 'struct_time',\n",
       " 'time',\n",
       " 'timezone',\n",
       " 'tzname']"
      ]
     },
     "execution_count": 270,
     "metadata": {},
     "output_type": "execute_result"
    }
   ],
   "source": [
    "dir(time)"
   ]
  },
  {
   "cell_type": "code",
   "execution_count": 293,
   "metadata": {
    "collapsed": false
   },
   "outputs": [
    {
     "name": "stdout",
     "output_type": "stream",
     "text": [
      "time.struct_time(tm_year=2017, tm_mon=1, tm_mday=2, tm_hour=15, tm_min=2, tm_sec=38, tm_wday=0, tm_yday=2, tm_isdst=0)\n",
      "1483336958.0\n"
     ]
    }
   ],
   "source": [
    "import time\n",
    "\n",
    "a = time.localtime()\n",
    "print(a)\n",
    "\n",
    "b = time.mktime(a)\n",
    "print(b)\n"
   ]
  },
  {
   "cell_type": "code",
   "execution_count": 280,
   "metadata": {
    "collapsed": false
   },
   "outputs": [
    {
     "name": "stdout",
     "output_type": "stream",
     "text": [
      "-36000\n"
     ]
    }
   ],
   "source": [
    "print(time.altzone)"
   ]
  },
  {
   "cell_type": "code",
   "execution_count": 273,
   "metadata": {
    "collapsed": false
   },
   "outputs": [
    {
     "name": "stdout",
     "output_type": "stream",
     "text": [
      "Mon Jan  2 14:41:28 2017\n"
     ]
    }
   ],
   "source": [
    "import time\n",
    "print(time.ctime())"
   ]
  },
  {
   "cell_type": "code",
   "execution_count": 274,
   "metadata": {
    "collapsed": false
   },
   "outputs": [
    {
     "name": "stdout",
     "output_type": "stream",
     "text": [
      "Help on built-in function ctime in module time:\n",
      "\n",
      "ctime(...)\n",
      "    ctime(seconds) -> string\n",
      "    \n",
      "    Convert a time in seconds since the Epoch to a string in local time.\n",
      "    This is equivalent to asctime(localtime(seconds)). When the time tuple is\n",
      "    not present, current time as returned by localtime() is used.\n",
      "\n"
     ]
    }
   ],
   "source": [
    "help(time.ctime)"
   ]
  },
  {
   "cell_type": "code",
   "execution_count": 282,
   "metadata": {
    "collapsed": false
   },
   "outputs": [
    {
     "name": "stdout",
     "output_type": "stream",
     "text": [
      "time.struct_time(tm_year=2017, tm_mon=1, tm_mday=2, tm_hour=14, tm_min=48, tm_sec=41, tm_wday=0, tm_yday=2, tm_isdst=0)\n"
     ]
    }
   ],
   "source": [
    "import time\n",
    "\n",
    "localtime = time.localtime(time.time())\n",
    "print(localtime)"
   ]
  },
  {
   "cell_type": "code",
   "execution_count": 285,
   "metadata": {
    "collapsed": false
   },
   "outputs": [
    {
     "name": "stdout",
     "output_type": "stream",
     "text": [
      "-32400\n",
      "('´ëÇÑ¹Î±¹ Ç¥ÁØ½Ã', '´ëÇÑ¹Î±¹ ÀÏ±¤ Àý¾à ½Ã°£')\n"
     ]
    }
   ],
   "source": [
    "print(time.timezone)\n",
    "print(time.tzname)"
   ]
  },
  {
   "cell_type": "code",
   "execution_count": 298,
   "metadata": {
    "collapsed": false
   },
   "outputs": [
    {
     "name": "stdout",
     "output_type": "stream",
     "text": [
      " seoul time zone  Asia/Seoul\n",
      " seoul datetime  2017-01-02 15:09:42.038008+09:00\n",
      " pyongyang time zone  Asia/Pyongyang\n",
      " pyongyang datetime  2017-01-02 15:09:42.039008+08:30\n"
     ]
    }
   ],
   "source": [
    "import pytz\n",
    "# local time 구하기\n",
    "# 서울 date time 구하기\n",
    "seoul_tz = pytz.timezone('Asia/Seoul')\n",
    "print( \" seoul time zone \",seoul_tz)\n",
    "seoul_dt = seoul_tz.localize(datetime.datetime.now())\n",
    "print( \" seoul datetime \", seoul_dt)\n",
    "\n",
    "# 평양 date time으로  구하기\n",
    "pyongyang_tz = pytz.timezone('Asia/Pyongyang')\n",
    "print( \" pyongyang time zone \", pyongyang_tz)\n",
    "pyongyang_dt = pyongyang_tz.localize(datetime.datetime.now())\n",
    "print( \" pyongyang datetime \", pyongyang_dt)"
   ]
  },
  {
   "cell_type": "code",
   "execution_count": 307,
   "metadata": {
    "collapsed": false
   },
   "outputs": [
    {
     "name": "stdout",
     "output_type": "stream",
     "text": [
      " pyongyang datetime  2017-01-02 15:20:31.744508+08:30\n",
      " 실제 평양 시간 조정  2017-01-02 14:50:31.744508+08:30\n"
     ]
    }
   ],
   "source": [
    "import pytz\n",
    "\n",
    "# 평양 date time으로  구하기\n",
    "pyongyang_tz = pytz.timezone('Asia/Pyongyang')\n",
    "pyongyang_dt = pyongyang_tz.localize(datetime.datetime.now())\n",
    "print( \" pyongyang datetime \", pyongyang_dt)\n",
    "before = pyongyang_tz.normalize(pyongyang_dt - datetime.timedelta(minutes=30))\n",
    "print( \" 실제 평양 시간 조정 \", before)\n"
   ]
  },
  {
   "cell_type": "code",
   "execution_count": 311,
   "metadata": {
    "collapsed": false
   },
   "outputs": [
    {
     "name": "stdout",
     "output_type": "stream",
     "text": [
      "<class 'datetime.datetime'>\n",
      " pyongyang datetime  2017-01-02 15:30:29.974808+08:30\n",
      "기준시간 :  2017-01-02 06:30:29.974808+00:00\n",
      " 실제 평양시간 조정 2017-01-02 15:00:29.974808+08:30\n"
     ]
    }
   ],
   "source": [
    "import pytz\n",
    "\n",
    "# 평양 date time으로  구하기\n",
    "pyongyang_tz = pytz.timezone('Asia/Pyongyang')\n",
    "pyongyang_dt = pyongyang_tz.localize(datetime.datetime.now())\n",
    "print(type(pyongyang_dt))\n",
    "print( \" pyongyang datetime \", pyongyang_dt)\n",
    "# 평양 date time를 UTC로 구하기\n",
    "print(\"기준시간 : \", datetime.datetime.now(tz=pytz.utc))\n",
    "after = pyongyang_tz.normalize(datetime.datetime.now(tz=pytz.utc))\n",
    "print( \" 실제 평양시간 조정\", after)"
   ]
  },
  {
   "cell_type": "code",
   "execution_count": 309,
   "metadata": {
    "collapsed": false
   },
   "outputs": [
    {
     "name": "stdout",
     "output_type": "stream",
     "text": [
      " pyongyang datetime  2017-01-02 15:27:54.532708+08:30\n",
      "기준시간 :  2017-01-02 06:27:54.532708+00:00\n",
      "2017-01-02 15:27:54.532708+08:30\n"
     ]
    }
   ],
   "source": []
  },
  {
   "cell_type": "code",
   "execution_count": 312,
   "metadata": {
    "collapsed": false
   },
   "outputs": [
    {
     "name": "stdout",
     "output_type": "stream",
     "text": [
      "<class 'pytz.tzfile.Asia/Seoul'>\n",
      " Asia/Seoul time zone  2017-01-02 15:31:09.387008+09:00\n",
      "datatime.datetime.astimezone normalize \n",
      "type  2017-01-02 01:31:09.387008-05:00\n",
      " time zone change  2017-01-02 01:31:09.387008-05:00\n"
     ]
    }
   ],
   "source": [
    "import pytz\n",
    "import datetime\n",
    "\n",
    "korean = pytz.timezone('Asia/Seoul')\n",
    "print(\" Asia/Seoul time zone \", korean.localize(datetime.datetime.now()))\n",
    "korean_dt = korean.localize(datetime.datetime.now())\n",
    "\n",
    "print(\"datatime.datetime.astimezone normalize \")\n",
    "eastern = pytz.timezone('US/Eastern')\n",
    "print(\"type \", korean_dt.astimezone(pytz.timezone('US/Eastern')))\n",
    "eastern = korean_dt.astimezone(pytz.timezone('US/Eastern'))\n",
    "print(\" time zone change \", eastern)"
   ]
  },
  {
   "cell_type": "code",
   "execution_count": 316,
   "metadata": {
    "collapsed": false
   },
   "outputs": [
    {
     "name": "stdout",
     "output_type": "stream",
     "text": [
      "Asia/Bishkek\n",
      "Asia/Barnaul\n",
      "Asia/Aqtobe\n",
      "Asia/Srednekolymsk\n",
      "Asia/Harbin\n",
      "Asia/Taipei\n",
      "Asia/Baku\n",
      "Asia/Yakutsk\n",
      "Asia/Vientiane\n",
      "Asia/Gaza\n",
      "Asia/Calcutta\n",
      "Asia/Shanghai\n",
      "Asia/Tokyo\n",
      "Asia/Yerevan\n",
      "Asia/Sakhalin\n",
      "Asia/Dhaka\n",
      "Asia/Jerusalem\n",
      "Asia/Omsk\n",
      "Asia/Kabul\n",
      "Asia/Kamchatka\n",
      "Asia/Almaty\n",
      "Asia/Nicosia\n",
      "Asia/Hovd\n",
      "Asia/Rangoon\n",
      "Asia/Macau\n",
      "Asia/Singapore\n",
      "Asia/Riyadh\n",
      "Asia/Istanbul\n",
      "Asia/Amman\n",
      "Asia/Katmandu\n",
      "Asia/Hong_Kong\n",
      "Asia/Kuala_Lumpur\n",
      "Asia/Seoul\n",
      "Asia/Thimbu\n",
      "Asia/Saigon\n",
      "Asia/Bangkok\n",
      "Asia/Ulaanbaatar\n",
      "Asia/Choibalsan\n",
      "Asia/Qyzylorda\n",
      "Asia/Pyongyang\n",
      "Asia/Karachi\n",
      "Asia/Phnom_Penh\n",
      "Asia/Oral\n",
      "Asia/Hebron\n",
      "Asia/Dacca\n",
      "Asia/Chungking\n",
      "Asia/Tomsk\n",
      "Asia/Chongqing\n",
      "Asia/Damascus\n",
      "Asia/Khandyga\n",
      "Asia/Kolkata\n",
      "Asia/Bahrain\n",
      "Asia/Dili\n",
      "Asia/Jakarta\n",
      "Asia/Makassar\n",
      "Asia/Chita\n",
      "Asia/Magadan\n",
      "Asia/Brunei\n",
      "Asia/Thimphu\n",
      "Asia/Kuching\n",
      "Asia/Macao\n",
      "Asia/Ulan_Bator\n",
      "Asia/Krasnoyarsk\n",
      "Asia/Qatar\n",
      "Asia/Jayapura\n",
      "Asia/Pontianak\n",
      "Asia/Kathmandu\n",
      "Asia/Novosibirsk\n",
      "Asia/Aden\n",
      "Asia/Tehran\n",
      "Asia/Beirut\n",
      "Asia/Baghdad\n",
      "Asia/Tashkent\n",
      "Asia/Dubai\n",
      "Asia/Ho_Chi_Minh\n",
      "Asia/Tbilisi\n",
      "Asia/Ust-Nera\n",
      "Asia/Ujung_Pandang\n",
      "Asia/Aqtau\n",
      "Asia/Kashgar\n",
      "Asia/Ashkhabad\n",
      "Asia/Irkutsk\n",
      "Asia/Anadyr\n",
      "Asia/Yekaterinburg\n",
      "Asia/Kuwait\n",
      "Asia/Novokuznetsk\n",
      "Asia/Muscat\n",
      "Asia/Urumqi\n",
      "Asia/Tel_Aviv\n",
      "Asia/Ashgabat\n",
      "Asia/Vladivostok\n",
      "Asia/Colombo\n",
      "Asia/Manila\n",
      "Asia/Dushanbe\n",
      "Asia/Samarkand\n"
     ]
    }
   ],
   "source": [
    "import pytz\n",
    "\n",
    "for tz in pytz.all_timezones_set :\n",
    "    if \"Asia\" in tz :\n",
    "        print(tz)"
   ]
  },
  {
   "cell_type": "code",
   "execution_count": 332,
   "metadata": {
    "collapsed": false
   },
   "outputs": [
    {
     "name": "stdout",
     "output_type": "stream",
     "text": [
      "None\n",
      "<class 'datetime.datetime'> Asia/Seoul\n",
      "2017-01-02 07:17:55.764219+09:00\n",
      "2017-01-02 16:17:55.764219+09:00\n",
      "2017-01-02 16:17:55.764219+09:00\n"
     ]
    }
   ],
   "source": [
    "import pytz\n",
    "import datetime\n",
    "\n",
    "# 타임존을 만들고\n",
    "a = pytz.timezone('Asia/Seoul')\n",
    "# datetime을 넣고 타임존에 맞춰 datetime을 생성\n",
    "print(datetime.datetime.now().tzinfo)\n",
    "asloct = a.localize(datetime.datetime.now())\n",
    "print(type(asloct), asloct.tzinfo)\n",
    "\n",
    "#utc 시간으로 생성\n",
    "asloct1 = a.localize(datetime.datetime.utcnow())\n",
    "print(asloct1)\n",
    "\n",
    "b = pytz.timezone('Asia/Tokyo')\n",
    "#normalize는 tzinfo가 setting 된 경우만 처리됨\n",
    "print(b.normalize(asloct))\n",
    "print(b.normalize(b.localize(datetime.datetime.now())))"
   ]
  },
  {
   "cell_type": "code",
   "execution_count": 337,
   "metadata": {
    "collapsed": false
   },
   "outputs": [
    {
     "name": "stdout",
     "output_type": "stream",
     "text": [
      "Mon Jan  2 16:36:38 2017\n",
      "Mon Jan  2 16:36:38 2017\n"
     ]
    }
   ],
   "source": [
    "import time \n",
    "\n",
    "a = time.localtime()\n",
    "print(time.asctime(a))\n",
    "print(time.asctime())"
   ]
  },
  {
   "cell_type": "code",
   "execution_count": 338,
   "metadata": {
    "collapsed": false
   },
   "outputs": [
    {
     "data": {
      "text/plain": [
       "'ᄀ'"
      ]
     },
     "execution_count": 338,
     "metadata": {},
     "output_type": "execute_result"
    }
   ],
   "source": [
    "'\\u1100'"
   ]
  },
  {
   "cell_type": "code",
   "execution_count": 353,
   "metadata": {
    "collapsed": false
   },
   "outputs": [
    {
     "name": "stdout",
     "output_type": "stream",
     "text": [
      "HANGUL CHOSEONG KIYEOK\n",
      "ᄀ\n",
      "1\n",
      "?\n",
      "Lo\n",
      "Nd\n"
     ]
    }
   ],
   "source": [
    "import unicodedata\n",
    "\n",
    "ki = unicodedata.name('\\u1100')\n",
    "print(ki)\n",
    "print(unicodedata.lookup(ki))\n",
    "print(unicodedata.decimal('\\u0031',\"?\"))\n",
    "print(unicodedata.decimal('\\u1100',\"?\"))\n",
    "print(unicodedata.category('\\u1100'))\n",
    "print(unicodedata.category('\\u0031'))"
   ]
  },
  {
   "cell_type": "code",
   "execution_count": 374,
   "metadata": {
    "collapsed": false
   },
   "outputs": [
    {
     "name": "stdout",
     "output_type": "stream",
     "text": [
      "Ll\n",
      "Lu\n",
      "Lo\n",
      "HANGUL CHOSEONG KIYEOK\n",
      "ᄀ\n"
     ]
    }
   ],
   "source": [
    "import unicodedata\n",
    "\n",
    "print(unicodedata.category('a'))\n",
    "print(unicodedata.category('A'))\n",
    "print(unicodedata.category('\\u1100'))\n",
    "ki = unicodedata.name('\\u1100')\n",
    "print(ki)\n",
    "print(unicodedata.lookup(ki))"
   ]
  },
  {
   "cell_type": "code",
   "execution_count": 365,
   "metadata": {
    "collapsed": false
   },
   "outputs": [
    {
     "name": "stdout",
     "output_type": "stream",
     "text": [
      "Nd\n",
      "DIGIT ONE\n",
      "1\n"
     ]
    }
   ],
   "source": [
    "print(unicodedata.category('\\u0031'))\n",
    "ki = unicodedata.name('\\u0031')\n",
    "print(ki)\n",
    "print(unicodedata.lookup(ki))\n"
   ]
  },
  {
   "cell_type": "code",
   "execution_count": 372,
   "metadata": {
    "collapsed": false
   },
   "outputs": [
    {
     "name": "stdout",
     "output_type": "stream",
     "text": [
      "Cc\n"
     ]
    }
   ],
   "source": [
    "import unicodedata\n",
    "print(unicodedata.category('\\u001B'))\n"
   ]
  },
  {
   "cell_type": "code",
   "execution_count": 381,
   "metadata": {
    "collapsed": false
   },
   "outputs": [
    {
     "name": "stdout",
     "output_type": "stream",
     "text": [
      "Zs\n",
      "Zs\n",
      "NO-BREAK SPACE\n",
      " \n"
     ]
    }
   ],
   "source": [
    "print(unicodedata.category('\\u0020'))\n",
    "print(unicodedata.category('\\u00A0'))\n",
    "ki = unicodedata.name('\\u00A0')\n",
    "print(ki)\n",
    "print(unicodedata.lookup(ki))"
   ]
  },
  {
   "cell_type": "code",
   "execution_count": 384,
   "metadata": {
    "collapsed": false
   },
   "outputs": [
    {
     "name": "stdout",
     "output_type": "stream",
     "text": [
      "Lo\n",
      "LINEAR B SYLLABLE B016 QA\n",
      "𐀣\n"
     ]
    }
   ],
   "source": [
    "\n",
    "print(unicodedata.category('\\U00010023'))\n",
    "ki = unicodedata.name('\\U00010023')\n",
    "print(ki)\n",
    "print(unicodedata.lookup(ki))"
   ]
  },
  {
   "cell_type": "code",
   "execution_count": 378,
   "metadata": {
    "collapsed": false
   },
   "outputs": [
    {
     "name": "stdout",
     "output_type": "stream",
     "text": [
      "HANGUL SYLLABLE GANG\n",
      "강\n"
     ]
    },
    {
     "data": {
      "text/plain": [
       "''"
      ]
     },
     "execution_count": 378,
     "metadata": {},
     "output_type": "execute_result"
    }
   ],
   "source": [
    "ki = unicodedata.name('강')\n",
    "print(ki)\n",
    "print(unicodedata.lookup(ki))\n",
    "unicodedata.decomposition(\"가\")"
   ]
  },
  {
   "cell_type": "code",
   "execution_count": 414,
   "metadata": {
    "collapsed": false
   },
   "outputs": [
    {
     "name": "stdout",
     "output_type": "stream",
     "text": [
      "HANGUL SYLLABLE WI\n",
      "위\n",
      "1 b'\\xec\\x9c\\x84'\n",
      "2 b'\\xe1\\x84\\x8b\\xe1\\x85\\xb1'\n",
      "2 b'\\xe1\\x84\\x8b\\xe1\\x85\\xb1'\n",
      "1 b'\\xec\\x9c\\x84'\n"
     ]
    }
   ],
   "source": [
    "import unicodedata\n",
    "\n",
    "s = '\\uc704'\n",
    "ki = unicodedata.name(s)\n",
    "print(ki)\n",
    "print(unicodedata.lookup(ki))\n",
    "x = unicodedata.normalize('NFD',s)\n",
    "print(len(s), s.encode(\"utf-8\"))\n",
    "print(len(x), x.encode(\"utf-8\"))\n",
    "\n",
    "cx = unicodedata.normalize('NFC',x)\n",
    "print(len(x), x.encode(\"utf-8\"))\n",
    "print(len(cx), cx.encode(\"utf-8\"))"
   ]
  },
  {
   "cell_type": "code",
   "execution_count": 422,
   "metadata": {
    "collapsed": false
   },
   "outputs": [
    {
     "name": "stdout",
     "output_type": "stream",
     "text": [
      "Help on built-in function decomposition in module unicodedata:\n",
      "\n",
      "decomposition(chr, /)\n",
      "    Returns the character decomposition mapping assigned to the character chr as string.\n",
      "    \n",
      "    An empty string is returned in case no such mapping is defined.\n",
      "\n"
     ]
    }
   ],
   "source": [
    "help(unicodedata.decomposition)"
   ]
  },
  {
   "cell_type": "code",
   "execution_count": 432,
   "metadata": {
    "collapsed": false
   },
   "outputs": [
    {
     "name": "stdout",
     "output_type": "stream",
     "text": [
      "GREEK SMALL LETTER ALPHA WITH PSILI\n",
      "ἀ\n",
      "1 ἀ\n",
      "9 03B1 0313\n",
      "GREEK SMALL LETTER ALPHA\n",
      "α\n",
      "COMBINING COMMA ABOVE\n",
      "̓\n"
     ]
    }
   ],
   "source": [
    "s = '\\u1F00'\n",
    "ki = unicodedata.name(s)\n",
    "print(ki)\n",
    "print(unicodedata.lookup(ki))\n",
    "x = unicodedata.decomposition(s)\n",
    "print(len(s), s)\n",
    "print(len(x), x)\n",
    "ki = unicodedata.name(\"\\u03B1\")\n",
    "print(ki)\n",
    "print(unicodedata.lookup(ki))\n",
    "ki = unicodedata.name(\"\\u0313\")\n",
    "print(ki)\n",
    "print(unicodedata.lookup(ki))"
   ]
  },
  {
   "cell_type": "code",
   "execution_count": 400,
   "metadata": {
    "collapsed": false
   },
   "outputs": [
    {
     "name": "stdout",
     "output_type": "stream",
     "text": [
      "'위'\n"
     ]
    }
   ],
   "source": [
    "print('%r' % unicodedata.normalize('NFKD','\\uc704'))"
   ]
  },
  {
   "cell_type": "code",
   "execution_count": 421,
   "metadata": {
    "collapsed": false
   },
   "outputs": [
    {
     "name": "stdout",
     "output_type": "stream",
     "text": [
      "1 ẛ\n",
      "b'\\xe1\\xba\\x9b'\n",
      "1 ṡ\n",
      "b'\\xe1\\xb9\\xa1'\n"
     ]
    }
   ],
   "source": [
    "s1 = '\\u1E9B'\n",
    "t1 = unicodedata.normalize('NFKC', s1)\n",
    "print(len(s1), s1)\n",
    "print(s1.encode(\"utf-8\"))\n",
    "print(len(t1),t1)\n",
    "print(t1.encode(\"utf-8\"))\n"
   ]
  },
  {
   "cell_type": "code",
   "execution_count": 411,
   "metadata": {
    "collapsed": false
   },
   "outputs": [
    {
     "name": "stdout",
     "output_type": "stream",
     "text": [
      "14\n",
      "b'Spicy Jalape\\xc3\\xb1o'\n",
      "15\n",
      "b'Spicy Jalapen\\xcc\\x83o'\n"
     ]
    }
   ],
   "source": [
    "s1 = 'Spicy Jalape\\u00f1o'\n",
    "t1 = unicodedata.normalize('NFD', s1)\n",
    "print(len(s1))\n",
    "print(s1.encode(\"utf-8\"))\n",
    "print(len(t1))\n",
    "print(t1.encode(\"utf-8\"))"
   ]
  },
  {
   "cell_type": "code",
   "execution_count": 435,
   "metadata": {
    "collapsed": false
   },
   "outputs": [
    {
     "name": "stdout",
     "output_type": "stream",
     "text": [
      "ἀ ἀ\n",
      "ἀ ἀ\n",
      "b'\\xce\\xb1\\xcc\\x93'\n",
      "b'\\xce\\xb1\\xcc\\x93'\n"
     ]
    }
   ],
   "source": [
    "precomposed = \"\\u1F00\"\n",
    "decomposed  = \"\\u03B1\\u0313\"\n",
    "\n",
    "s1 = unicodedata.normalize(\"NFC\", precomposed) \n",
    "s2 = unicodedata.normalize(\"NFC\", decomposed)\n",
    "print(s1,s2)\n",
    "s3 = unicodedata.normalize(\"NFD\", precomposed)\n",
    "s4 = unicodedata.normalize(\"NFD\", decomposed)\n",
    "print(s3,s4)\n",
    "print(s3.encode(\"utf-8\"))\n",
    "print(s4.encode(\"utf-8\"))"
   ]
  },
  {
   "cell_type": "code",
   "execution_count": 439,
   "metadata": {
    "collapsed": false
   },
   "outputs": [
    {
     "name": "stdout",
     "output_type": "stream",
     "text": [
      "Help on built-in function decomposition in module unicodedata:\n",
      "\n",
      "decomposition(chr, /)\n",
      "    Returns the character decomposition mapping assigned to the character chr as string.\n",
      "    \n",
      "    An empty string is returned in case no such mapping is defined.\n",
      "\n"
     ]
    }
   ],
   "source": [
    "help(unicodedata.decomposition)"
   ]
  },
  {
   "cell_type": "code",
   "execution_count": 436,
   "metadata": {
    "collapsed": false
   },
   "outputs": [
    {
     "name": "stdout",
     "output_type": "stream",
     "text": [
      "Help on built-in function combining in module unicodedata:\n",
      "\n",
      "combining(chr, /)\n",
      "    Returns the canonical combining class assigned to the character chr as integer.\n",
      "    \n",
      "    Returns 0 if no combining class is defined.\n",
      "\n"
     ]
    }
   ],
   "source": [
    "help(unicodedata.combining)"
   ]
  },
  {
   "cell_type": "code",
   "execution_count": 437,
   "metadata": {
    "collapsed": false
   },
   "outputs": [
    {
     "name": "stdout",
     "output_type": "stream",
     "text": [
      "is not combining\n"
     ]
    }
   ],
   "source": [
    "import unicodedata\n",
    "\n",
    "if unicodedata.combining('a'):\n",
    "    print(\"is combining character\")\n",
    "else:\n",
    "    print(\"is not combining\")"
   ]
  },
  {
   "cell_type": "code",
   "execution_count": 440,
   "metadata": {
    "collapsed": false
   },
   "outputs": [
    {
     "name": "stdout",
     "output_type": "stream",
     "text": [
      "is combining character\n",
      "230\n"
     ]
    }
   ],
   "source": [
    "import unicodedata\n",
    "\n",
    "if unicodedata.combining('\\u0343'):\n",
    "    print(\"is combining character\")\n",
    "else:\n",
    "    print(\"is not combining\")\n",
    "    \n",
    "print(unicodedata.combining('\\u0343')) "
   ]
  },
  {
   "cell_type": "code",
   "execution_count": 454,
   "metadata": {
    "collapsed": false
   },
   "outputs": [
    {
     "name": "stdout",
     "output_type": "stream",
     "text": [
      "0\n",
      "1 ñ b'\\xc3\\xb1'\n",
      "2 ñ b'n\\xcc\\x83'\n",
      "14\n",
      "b'Spicy Jalape\\xc3\\xb1o'\n",
      "15\n",
      "b'Spicy Jalapen\\xcc\\x83o'\n"
     ]
    }
   ],
   "source": [
    "s = '\\u00f1'\n",
    "print(unicodedata.combining(s)) \n",
    "print(len(s), s, s.encode(\"utf-8\"))\n",
    "ss = unicodedata.normalize('NFD', s)\n",
    "print(len(ss),ss,ss.encode(\"utf-8\"))\n",
    "\n",
    "s1 = 'Spicy Jalape\\u00f1o'\n",
    "t1 = unicodedata.normalize('NFD', s1)\n",
    "print(len(s1))\n",
    "print(s1.encode(\"utf-8\"))\n",
    "print(len(t1))\n",
    "print(t1.encode(\"utf-8\"))"
   ]
  },
  {
   "cell_type": "code",
   "execution_count": 457,
   "metadata": {
    "collapsed": false
   },
   "outputs": [
    {
     "name": "stdout",
     "output_type": "stream",
     "text": [
      "NFC means normal form composed           Jalapeño Jalapeño 8 8 True\n"
     ]
    }
   ],
   "source": [
    "just_len = 40\n",
    "s1 = 'Jalapen\\u0303o'\n",
    "s2 = 'Jalape\\u00f1o'\n",
    "t1 = unicodedata.normalize('NFC', s1)\n",
    "t2 = unicodedata.normalize('NFC', s2)\n",
    "print('NFC means normal form composed'.ljust(just_len),\n",
    "      t1, t2, len(t1), len(t2), t1 == t2)"
   ]
  },
  {
   "cell_type": "code",
   "execution_count": 459,
   "metadata": {
    "collapsed": false
   },
   "outputs": [
    {
     "name": "stdout",
     "output_type": "stream",
     "text": [
      "NFD means normal form decomposed         Jalapeño Jalapeño 9 9 True\n"
     ]
    }
   ],
   "source": [
    "just_len = 40\n",
    "s1 = 'Jalapen\\u0303o'\n",
    "s2 = 'Jalape\\u00f1o'\n",
    "t1 = unicodedata.normalize('NFD', s1)\n",
    "t2 = unicodedata.normalize('NFD', s2)\n",
    "print('NFD means normal form decomposed'.ljust(just_len),\n",
    "      t1, t2, len(t1), len(t2), t1 == t2)"
   ]
  },
  {
   "cell_type": "code",
   "execution_count": 465,
   "metadata": {
    "collapsed": false
   },
   "outputs": [
    {
     "name": "stdout",
     "output_type": "stream",
     "text": [
      "NFKD means normal form compatible decomposed I I 1 1 True\n",
      "Ⅰ I\n",
      "b'I' b'I'\n"
     ]
    }
   ],
   "source": [
    "just_len = 40\n",
    "t1 = unicodedata.normalize('NFKD', '\\u2160')\n",
    "t2 = unicodedata.normalize('NFKD', '\\u0049')\n",
    "print('NFKD means normal form compatible decomposed'.ljust(just_len),\n",
    "      t1, t2, len(t1), len(t2), t1 == t2)\n",
    "print('\\u2160','\\u0049','\\u2160'== '\\u0049' )\n",
    "print(t1.encode(\"utf-8\"), t2.encode(\"utf-8\"))"
   ]
  },
  {
   "cell_type": "code",
   "execution_count": 467,
   "metadata": {
    "collapsed": false
   },
   "outputs": [
    {
     "name": "stdout",
     "output_type": "stream",
     "text": [
      "NFKC means normal form compatible composed I I 1 1 True\n",
      "Ⅰ I False\n",
      "b'I' b'I'\n"
     ]
    }
   ],
   "source": [
    "just_len = 40\n",
    "t1 = unicodedata.normalize('NFKD', '\\u2160')\n",
    "t2 = unicodedata.normalize('NFKD', '\\u0049')\n",
    "print('NFKC means normal form compatible composed'.ljust(just_len),\n",
    "      t1, t2, len(t1), len(t2), t1 == t2)\n",
    "print('\\u2160','\\u0049','\\u2160'== '\\u0049' )\n",
    "print(t1.encode(\"utf-8\"), t2.encode(\"utf-8\"))"
   ]
  },
  {
   "cell_type": "code",
   "execution_count": 477,
   "metadata": {
    "collapsed": false
   },
   "outputs": [
    {
     "name": "stdout",
     "output_type": "stream",
     "text": [
      "DIGIT ONE\n",
      "1 bytes  1 b'1'\n",
      "LATIN SMALL LETTER B WITH STROKE\n",
      "2 bytes  ƀ b'\\xc6\\x80'\n",
      "HANGUL SYLLABLE GAM\n",
      "3 bytes  감 b'\\xea\\xb0\\x90'\n",
      "CHAKMA SIGN CANDRABINDU\n",
      "4 bytes  𑄀 b'\\xf0\\x91\\x84\\x80'\n"
     ]
    }
   ],
   "source": [
    "# U+0000부터 U+007F\n",
    "s= '\\u0031'\n",
    "ki = unicodedata.name(s)\n",
    "print(ki)\n",
    "print(\"1 bytes \",s, s.encode(\"utf-8\"))\n",
    "\n",
    "s2 = '\\u0180'\n",
    "ki = unicodedata.name(s2)\n",
    "print(ki)\n",
    "print(\"2 bytes \",s2, s2.encode(\"utf-8\"))\n",
    "\n",
    "s3 = '\\uac10'\n",
    "ki = unicodedata.name(s3)\n",
    "print(ki)\n",
    "print(\"3 bytes \",s3, s3.encode(\"utf-8\"))\n",
    "\n",
    "s4 = '\\U00011100'\n",
    "ki = unicodedata.name(s4)\n",
    "print(ki)\n",
    "print(\"4 bytes \",s4, s4.encode(\"utf-8\"))"
   ]
  },
  {
   "cell_type": "code",
   "execution_count": 480,
   "metadata": {
    "collapsed": false
   },
   "outputs": [
    {
     "name": "stdout",
     "output_type": "stream",
     "text": [
      "DIGIT ONE\n",
      "1\n",
      "LATIN SMALL LETTER TURNED A\n",
      "ɐ\n",
      "GREEK CAPITAL LETTER HETA\n",
      "Ͱ\n"
     ]
    }
   ],
   "source": [
    "import unicodedata\n",
    "\n",
    "s= '\\u0031'\n",
    "ki = unicodedata.name(s)\n",
    "print(ki)\n",
    "print(unicodedata.lookup(ki))\n",
    "\n",
    "s= '\\u0250'\n",
    "ki = unicodedata.name(s)\n",
    "print(ki)\n",
    "print(unicodedata.lookup(ki))\n",
    "\n",
    "s= '\\u0370'\n",
    "ki = unicodedata.name(s)\n",
    "print(ki)\n",
    "print(unicodedata.lookup(ki))"
   ]
  },
  {
   "cell_type": "code",
   "execution_count": 485,
   "metadata": {
    "collapsed": false
   },
   "outputs": [
    {
     "name": "stdout",
     "output_type": "stream",
     "text": [
      "DIGIT ONE\n",
      "4  bytes  1 b'\\xff\\xfe1\\x00'\n",
      "LATIN SMALL LETTER B WITH STROKE\n",
      "4  bytes  ƀ b'\\xff\\xfe\\x80\\x01'\n",
      "HANGUL SYLLABLE GAM\n",
      "4  bytes  감 b'\\xff\\xfe\\x10\\xac'\n",
      "CHAKMA SIGN CANDRABINDU\n",
      "6  bytes  𑄀 b'\\xff\\xfe\\x04\\xd8\\x00\\xdd'\n"
     ]
    }
   ],
   "source": [
    "# U+0000부터 U+007F\n",
    "s= '\\u0031'\n",
    "ki = unicodedata.name(s)\n",
    "print(ki)\n",
    "print(len(s.encode(\"utf-16\")),\" bytes \",s, s.encode(\"utf-16\"))\n",
    "\n",
    "s2 = '\\u0180'\n",
    "ki = unicodedata.name(s2)\n",
    "print(ki)\n",
    "print(len(s2.encode(\"utf-16\")),\" bytes \",s2, s2.encode(\"utf-16\"))\n",
    "\n",
    "s3 = '\\uac10'\n",
    "ki = unicodedata.name(s3)\n",
    "print(ki)\n",
    "print(len(s3.encode(\"utf-16\")),\" bytes \",s3, s3.encode(\"utf-16\"))\n",
    "\n",
    "s4 = '\\U00011100'\n",
    "ki = unicodedata.name(s4)\n",
    "print(ki)\n",
    "print(len(s4.encode(\"utf-16\")),\" bytes \",s4, s4.encode(\"utf-16\"))"
   ]
  },
  {
   "cell_type": "code",
   "execution_count": 486,
   "metadata": {
    "collapsed": false
   },
   "outputs": [
    {
     "name": "stdout",
     "output_type": "stream",
     "text": [
      "DIGIT ONE\n",
      "8  bytes  1 b'\\xff\\xfe\\x00\\x001\\x00\\x00\\x00'\n",
      "LATIN SMALL LETTER B WITH STROKE\n",
      "8  bytes  ƀ b'\\xff\\xfe\\x00\\x00\\x80\\x01\\x00\\x00'\n",
      "HANGUL SYLLABLE GAM\n",
      "8  bytes  감 b'\\xff\\xfe\\x00\\x00\\x10\\xac\\x00\\x00'\n",
      "CHAKMA SIGN CANDRABINDU\n",
      "8  bytes  𑄀 b'\\xff\\xfe\\x00\\x00\\x00\\x11\\x01\\x00'\n"
     ]
    }
   ],
   "source": [
    "# U+0000부터 U+007F\n",
    "s= '\\u0031'\n",
    "ki = unicodedata.name(s)\n",
    "print(ki)\n",
    "print(len(s.encode(\"utf-32\")),\" bytes \",s, s.encode(\"utf-32\"))\n",
    "\n",
    "s2 = '\\u0180'\n",
    "ki = unicodedata.name(s2)\n",
    "print(ki)\n",
    "print(len(s2.encode(\"utf-32\")),\" bytes \",s2, s2.encode(\"utf-32\"))\n",
    "\n",
    "s3 = '\\uac10'\n",
    "ki = unicodedata.name(s3)\n",
    "print(ki)\n",
    "print(len(s3.encode(\"utf-32\")),\" bytes \",s3, s3.encode(\"utf-32\"))\n",
    "\n",
    "s4 = '\\U00011100'\n",
    "ki = unicodedata.name(s4)\n",
    "print(ki)\n",
    "print(len(s4.encode(\"utf-32\")),\" bytes \",s4, s4.encode(\"utf-32\"))"
   ]
  },
  {
   "cell_type": "code",
   "execution_count": 492,
   "metadata": {
    "collapsed": false
   },
   "outputs": [
    {
     "name": "stdout",
     "output_type": "stream",
     "text": [
      "b'\\xdf\\xbf'\n",
      "0b11011111 0b10111111\n",
      "b'\\xef\\xbf\\xbf'\n",
      "0b11101111 0b10111111 0b10111111\n"
     ]
    }
   ],
   "source": [
    "s= '\\u07ff'\n",
    "sb = s.encode(\"utf-8\")\n",
    "print(sb)\n",
    "print(bin(sb[0]), bin(sb[1]))\n",
    "\n",
    "t= '\\uffff'\n",
    "tb = t.encode(\"utf-8\")\n",
    "print(tb)\n",
    "print(bin(tb[0]), bin(tb[1]), bin(tb[2]))"
   ]
  },
  {
   "cell_type": "code",
   "execution_count": 497,
   "metadata": {
    "collapsed": false
   },
   "outputs": [
    {
     "name": "stdout",
     "output_type": "stream",
     "text": [
      "b'\\xff\\xfe\\x00\\x00\\xff\\x07\\x00\\x00'\n",
      "0b11111111 0b111\n",
      "b'\\xff\\xfe\\x00\\x00\\xff\\xff\\x00\\x00'\n",
      "0b11111111 0b11111111\n"
     ]
    }
   ],
   "source": [
    "s= '\\u07ff'\n",
    "sb = s.encode(\"utf-32\")\n",
    "print(sb)\n",
    "print(bin(sb[4]), bin(sb[5]))\n",
    "\n",
    "t= '\\uffff'\n",
    "tb = t.encode(\"utf-32\")\n",
    "print(tb)\n",
    "print(bin(tb[4]), bin(tb[5]))"
   ]
  },
  {
   "cell_type": "code",
   "execution_count": 498,
   "metadata": {
    "collapsed": false
   },
   "outputs": [
    {
     "data": {
      "text/plain": [
       "['UCD',\n",
       " '__doc__',\n",
       " '__file__',\n",
       " '__loader__',\n",
       " '__name__',\n",
       " '__package__',\n",
       " '__spec__',\n",
       " 'bidirectional',\n",
       " 'category',\n",
       " 'combining',\n",
       " 'decimal',\n",
       " 'decomposition',\n",
       " 'digit',\n",
       " 'east_asian_width',\n",
       " 'lookup',\n",
       " 'mirrored',\n",
       " 'name',\n",
       " 'normalize',\n",
       " 'numeric',\n",
       " 'ucd_3_2_0',\n",
       " 'ucnhash_CAPI',\n",
       " 'unidata_version']"
      ]
     },
     "execution_count": 498,
     "metadata": {},
     "output_type": "execute_result"
    }
   ],
   "source": [
    "dir(unicodedata)"
   ]
  },
  {
   "cell_type": "code",
   "execution_count": 499,
   "metadata": {
    "collapsed": false
   },
   "outputs": [
    {
     "name": "stdout",
     "output_type": "stream",
     "text": [
      "Help on built-in function mirrored in module unicodedata:\n",
      "\n",
      "mirrored(chr, /)\n",
      "    Returns the mirrored property assigned to the character chr as integer.\n",
      "    \n",
      "    Returns 1 if the character has been identified as a \"mirrored\"\n",
      "    character in bidirectional text, 0 otherwise.\n",
      "\n"
     ]
    }
   ],
   "source": [
    "help(unicodedata.mirrored)"
   ]
  },
  {
   "cell_type": "code",
   "execution_count": 501,
   "metadata": {
    "collapsed": false
   },
   "outputs": [
    {
     "data": {
      "text/plain": [
       "0"
      ]
     },
     "execution_count": 501,
     "metadata": {},
     "output_type": "execute_result"
    }
   ],
   "source": [
    "unicodedata.mirrored('\\uFFFF')"
   ]
  },
  {
   "cell_type": "code",
   "execution_count": 533,
   "metadata": {
    "collapsed": false
   },
   "outputs": [
    {
     "name": "stdout",
     "output_type": "stream",
     "text": [
      "CJK UNIFIED IDEOGRAPH-56DB b'\\xff\\xfe\\xdbV'\n",
      "四\n",
      "CJK UNIFIED IDEOGRAPH-56DB b'\\xff\\xfe\\xdbV'\n",
      "四\n",
      "4.0\n",
      "8.0\n",
      "None\n",
      "8\n",
      "7\n",
      "None\n"
     ]
    }
   ],
   "source": [
    "import unicodedata\n",
    "s = '四'\n",
    "ki = unicodedata.name(s)\n",
    "print(ki, s.encode(\"utf-16\"))\n",
    "print(unicodedata.lookup(ki))\n",
    "\n",
    "s1 = '\\u56db'\n",
    "ki = unicodedata.name(s1)\n",
    "print(ki, s1.encode(\"utf-16\"))\n",
    "print(unicodedata.lookup(ki))\n",
    "\n",
    "print(unicodedata.numeric('四', None))\n",
    "print(unicodedata.numeric('8', None))\n",
    "\n",
    "print(unicodedata.digit('四', None))\n",
    "print(unicodedata.digit('8', None))\n",
    "\n",
    "print(unicodedata.decimal('7'))\n",
    "print(unicodedata.decimal('四', None))"
   ]
  },
  {
   "cell_type": "code",
   "execution_count": 509,
   "metadata": {
    "collapsed": false
   },
   "outputs": [
    {
     "data": {
      "text/plain": [
       "'0x56'"
      ]
     },
     "execution_count": 509,
     "metadata": {},
     "output_type": "execute_result"
    }
   ],
   "source": [
    "hex(ord('V'))"
   ]
  },
  {
   "cell_type": "code",
   "execution_count": 510,
   "metadata": {
    "collapsed": false
   },
   "outputs": [
    {
     "name": "stdout",
     "output_type": "stream",
     "text": [
      "四\n"
     ]
    }
   ],
   "source": [
    "print('\\u56db')"
   ]
  },
  {
   "cell_type": "code",
   "execution_count": 513,
   "metadata": {
    "collapsed": false
   },
   "outputs": [
    {
     "name": "stdout",
     "output_type": "stream",
     "text": [
      "EN\n",
      "AN\n",
      "L\n",
      "L\n"
     ]
    }
   ],
   "source": [
    "import unicodedata\n",
    " \n",
    "print(unicodedata.bidirectional('9'))\n",
    "print(unicodedata.bidirectional('\\u0660'))\n",
    "print(unicodedata.bidirectional('中'))\n",
    "print(unicodedata.bidirectional('a'))"
   ]
  },
  {
   "cell_type": "code",
   "execution_count": 517,
   "metadata": {
    "collapsed": false
   },
   "outputs": [
    {
     "name": "stdout",
     "output_type": "stream",
     "text": [
      "Help on built-in function bidirectional in module unicodedata:\n",
      "\n",
      "bidirectional(chr, /)\n",
      "    Returns the bidirectional class assigned to the character chr as string.\n",
      "    \n",
      "    If no such value is defined, an empty string is returned.\n",
      "\n"
     ]
    }
   ],
   "source": [
    "help(unicodedata.bidirectional)"
   ]
  },
  {
   "cell_type": "code",
   "execution_count": 515,
   "metadata": {
    "collapsed": false
   },
   "outputs": [
    {
     "name": "stdout",
     "output_type": "stream",
     "text": [
      "0\n",
      "0\n",
      "0\n"
     ]
    }
   ],
   "source": [
    "import unicodedata\n",
    " \n",
    "print(unicodedata.mirrored('9'))\n",
    "print(unicodedata.mirrored('A'))\n",
    "print(unicodedata.mirrored('蔡'))"
   ]
  },
  {
   "cell_type": "code",
   "execution_count": 526,
   "metadata": {
    "collapsed": false
   },
   "outputs": [
    {
     "name": "stdout",
     "output_type": "stream",
     "text": [
      "KATAKANA LETTER GA b'\\xff\\xfe\\x00\\x00\\xac0\\x00\\x00'\n",
      "ガ\n",
      "\n",
      "\n",
      "\n",
      "30AB 3099\n",
      "カ ゙\n",
      "ガ\n"
     ]
    }
   ],
   "source": [
    "import unicodedata\n",
    "s1 = '\\u30AC'\n",
    "ki = unicodedata.name(s1)\n",
    "print(ki, s1.encode(\"utf-32\"))\n",
    "print(unicodedata.lookup(ki))\n",
    "\n",
    "print(unicodedata.decomposition('9'))\n",
    "print(unicodedata.decomposition('-'))\n",
    "print(unicodedata.decomposition('蔡'))\n",
    "print(unicodedata.decomposition('ガ'))\n",
    "print('\\u30AB', '\\u3099' )\n",
    "print('\\u30AC' )"
   ]
  },
  {
   "cell_type": "code",
   "execution_count": 529,
   "metadata": {
    "collapsed": false
   },
   "outputs": [
    {
     "data": {
      "text/plain": [
       "'0x30'"
      ]
     },
     "execution_count": 529,
     "metadata": {},
     "output_type": "execute_result"
    }
   ],
   "source": [
    "hex(ord('0'))"
   ]
  },
  {
   "cell_type": "code",
   "execution_count": 521,
   "metadata": {
    "collapsed": false
   },
   "outputs": [
    {
     "name": "stdout",
     "output_type": "stream",
     "text": [
      "KATAKANA LETTER GA b'\\xff\\xfe\\xac0'\n",
      "ガ\n"
     ]
    }
   ],
   "source": [
    "s1 = 'ガ'\n",
    "ki = unicodedata.name(s1)\n",
    "print(ki, s1.encode(\"utf-16\"))\n",
    "print(unicodedata.lookup(ki))"
   ]
  },
  {
   "cell_type": "code",
   "execution_count": 522,
   "metadata": {
    "collapsed": false
   },
   "outputs": [
    {
     "name": "stdout",
     "output_type": "stream",
     "text": [
      "カ ゙\n"
     ]
    }
   ],
   "source": [
    "print('\\u30AB', '\\u3099' )"
   ]
  },
  {
   "cell_type": "code",
   "execution_count": 523,
   "metadata": {
    "collapsed": false
   },
   "outputs": [
    {
     "name": "stdout",
     "output_type": "stream",
     "text": [
      "ガ\n"
     ]
    }
   ],
   "source": [
    "print('\\u30Ac' )"
   ]
  },
  {
   "cell_type": "code",
   "execution_count": 530,
   "metadata": {
    "collapsed": false
   },
   "outputs": [
    {
     "name": "stdout",
     "output_type": "stream",
     "text": [
      "Na\n",
      "Na\n",
      "W\n"
     ]
    }
   ],
   "source": [
    "import unicodedata\n",
    " \n",
    "print(unicodedata.east_asian_width('9'))\n",
    "print(unicodedata.east_asian_width('A'))\n",
    "print(unicodedata.east_asian_width('蔡'))"
   ]
  },
  {
   "cell_type": "code",
   "execution_count": 532,
   "metadata": {
    "collapsed": false
   },
   "outputs": [
    {
     "name": "stdout",
     "output_type": "stream",
     "text": [
      "8.0.0\n",
      "<unicodedata.UCD object at 0x0000000004709F30>\n"
     ]
    }
   ],
   "source": [
    "import unicodedata\n",
    " \n",
    "print(unicodedata.unidata_version)\n",
    "print(unicodedata.ucd_3_2_0)"
   ]
  },
  {
   "cell_type": "code",
   "execution_count": 534,
   "metadata": {
    "collapsed": false
   },
   "outputs": [
    {
     "name": "stdout",
     "output_type": "stream",
     "text": [
      "\n",
      "3 Радар\n",
      "4 Знакомства\n",
      "5 Музыка\n",
      "8 Еще\n"
     ]
    }
   ],
   "source": [
    "import binascii\n",
    "\n",
    "line = '000A0033002004200430043404300440000A003400200417043D0430043A043E043C0441044204320430000A00350020041C04430437044B043A0430000A00380020041504490435'\n",
    "binascii.unhexlify(line)\n",
    "b'\\x00\\n\\x003\\x00 \\x04 \\x040\\x044\\x040\\x04@\\x00\\n\\x004\\x00 \\x04\\x17\\x04=\\x040\\x04:\\x04>\\x04<\\x04A\\x04B\\x042\\x040\\x00\\n\\x005\\x00 \\x04\\x1c\\x04C\\x047\\x04K\\x04:\\x040\\x00\\n\\x008\\x00 \\x04\\x15\\x04I\\x045'\n",
    "print(binascii.unhexlify(line).decode('utf-16-be'))\n"
   ]
  },
  {
   "cell_type": "code",
   "execution_count": 555,
   "metadata": {
    "collapsed": false
   },
   "outputs": [
    {
     "name": "stdout",
     "output_type": "stream",
     "text": [
      "36\n",
      "18 b'\\x00\\n\\x003\\x00 \\x04 \\x040\\x044\\x040\\x04@\\x00\\n'\n",
      "\n",
      "3 Радар\n",
      "\n"
     ]
    }
   ],
   "source": [
    "# UTF-16BE (Unicode Transformation Format - 16-bit Big Endian) \n",
    "biline = b'000A0033002004200430043404300440000A'\n",
    "print(len(biline))\n",
    "hexline = binascii.unhexlify(biline)\n",
    "print(len(hexline), hexline)\n",
    "print(hexline.decode('utf-16-be'))"
   ]
  },
  {
   "cell_type": "code",
   "execution_count": 558,
   "metadata": {
    "collapsed": false
   },
   "outputs": [
    {
     "name": "stdout",
     "output_type": "stream",
     "text": [
      "b'\\x00\\n\\x003\\x00 \\x04 \\x040\\x044\\x040\\x04@\\x00\\n'\n",
      "਀㌀  〄㐄〄䀄਀\n"
     ]
    }
   ],
   "source": [
    "# UTF-16BE (Unicode Transformation Format - 16-bit little Endian)\n",
    "biline = b'000A0033002004200430043404300440000A'\n",
    "print(binascii.unhexlify(biline))\n",
    "print(binascii.unhexlify(biline).decode('utf-16-le'))"
   ]
  },
  {
   "cell_type": "code",
   "execution_count": 578,
   "metadata": {
    "collapsed": false
   },
   "outputs": [
    {
     "name": "stdout",
     "output_type": "stream",
     "text": [
      "b'BobDylan'\n",
      "0x42\n"
     ]
    }
   ],
   "source": [
    "s = 'BobDylan'\n",
    "print(s.encode('euc-kr'))\n",
    "print(hex(ord('B')))\n",
    "#0x420x6F0x62 0x20 0x44 0x79 0x6C 0x6F 0x6E"
   ]
  },
  {
   "cell_type": "code",
   "execution_count": 571,
   "metadata": {
    "collapsed": false
   },
   "outputs": [
    {
     "name": "stdout",
     "output_type": "stream",
     "text": [
      "b'3031303030303130303131303131313130313130303031303030303130313030'\n",
      "〱〰〰㄰〱㄰ㄱㄱ〱㄰〰㄰〰〱〱〰\n"
     ]
    }
   ],
   "source": [
    "bs = b'01000010011011110110001000010100'\n",
    "hexline = binascii.hexlify(bs)\n",
    "print(hexline)\n",
    "print(binascii.unhexlify(hexline).decode('utf-16-be'))"
   ]
  },
  {
   "cell_type": "code",
   "execution_count": 579,
   "metadata": {
    "collapsed": false
   },
   "outputs": [
    {
     "data": {
      "text/plain": [
       "1114111"
      ]
     },
     "execution_count": 579,
     "metadata": {},
     "output_type": "execute_result"
    }
   ],
   "source": [
    "import sys\n",
    "sys.maxunicode"
   ]
  },
  {
   "cell_type": "code",
   "execution_count": 586,
   "metadata": {
    "collapsed": false
   },
   "outputs": [
    {
     "name": "stdout",
     "output_type": "stream",
     "text": [
      "b'\\x00\\n\\x003\\x00 \\x04 \\x040\\x044\\x040\\x04@\\x00\\n\\x004\\x00 \\x04\\x17\\x04=\\x040\\x04:\\x04>\\x04<\\x04A\\x04B\\x042\\x040\\x00\\n\\x005\\x00 \\x04\\x1c\\x04C\\x047\\x04K\\x04:\\x040\\x00\\n\\x008\\x00 \\x04\\x15\\x04I\\x045'\n",
      "\n",
      "3 Радар\n",
      "4 Знакомства\n",
      "5 Музыка\n",
      "8 Еще\n"
     ]
    }
   ],
   "source": [
    "import binascii\n",
    "\n",
    "# ucs-2-be\n",
    "line1 = '000A0033002004200430043404300440000A003400200417043D0430043A'\n",
    "line2 = '043E043C0441044204320430000A00350020041C04430437044B043A0430000A00380020041504490435'\n",
    "\n",
    "# hex로 전환\n",
    "unhex = binascii.unhexlify(line1+line2)\n",
    "print(unhex)\n",
    "#utf-16-be 변환\n",
    "print(binascii.unhexlify(line1+line2).decode('utf-16-be'))\n"
   ]
  },
  {
   "cell_type": "code",
   "execution_count": 592,
   "metadata": {
    "collapsed": false
   },
   "outputs": [
    {
     "name": "stdout",
     "output_type": "stream",
     "text": [
      "\n",
      "3 Радар\n",
      "4 Знакомства\n",
      "5 Музыка\n",
      "8 Еще\n"
     ]
    }
   ],
   "source": [
    "line1 = b'\\x00\\n\\x003\\x00 \\x04 \\x040\\x044\\x040\\x04@\\x00\\n\\x004\\x00 \\x04\\x17\\x04=\\x040\\x04:\\x04>\\x04<'\n",
    "line2 = b'\\x04A\\x04B\\x042\\x040\\x00\\n\\x005\\x00 \\x04\\x1c\\x04C\\x047\\x04K\\x04:\\x040\\x00\\n\\x008\\x00 \\x04\\x15\\x04I\\x045'\n",
    "\n",
    "print((line1+line2).decode('utf-16-be'))\n"
   ]
  },
  {
   "cell_type": "code",
   "execution_count": 583,
   "metadata": {
    "collapsed": false
   },
   "outputs": [
    {
     "name": "stdout",
     "output_type": "stream",
     "text": [
      "Help on built-in function unhexlify in module binascii:\n",
      "\n",
      "unhexlify(hexstr, /)\n",
      "    Binary data of hexadecimal representation.\n",
      "    \n",
      "    hexstr must contain an even number of hex digits (upper or lower case).\n",
      "\n"
     ]
    }
   ],
   "source": [
    "help(binascii.unhexlify)"
   ]
  },
  {
   "cell_type": "code",
   "execution_count": 584,
   "metadata": {
    "collapsed": false
   },
   "outputs": [
    {
     "name": "stdout",
     "output_type": "stream",
     "text": [
      "Help on built-in function hexlify in module binascii:\n",
      "\n",
      "hexlify(data, /)\n",
      "    Hexadecimal representation of binary data.\n",
      "    \n",
      "    The return value is a bytes object.\n",
      "\n"
     ]
    }
   ],
   "source": [
    "help(binascii.hexlify)"
   ]
  },
  {
   "cell_type": "code",
   "execution_count": 599,
   "metadata": {
    "collapsed": false
   },
   "outputs": [
    {
     "name": "stdout",
     "output_type": "stream",
     "text": [
      "𐀀\n",
      "𐀀\n",
      "𐀀\n",
      "b'\\x00\\xd8\\x00\\xdc'\n",
      "b'\\xd8\\x00\\xdc\\x00'\n",
      "b'\\xff\\xfe\\x00\\xd8\\x00\\xdc'\n"
     ]
    }
   ],
   "source": [
    "print(str(b'\\x00\\xd8\\x00\\xdc', 'utf-16le'))\n",
    "print(str(b'\\xd8\\x00\\xdc\\x00', 'utf-16be'))\n",
    "print('\\U00010000')\n",
    "print('\\U00010000'.encode('utf-16le'))\n",
    "print('\\U00010000'.encode('utf-16be'))\n",
    "print('\\U00010000'.encode('utf-16'))"
   ]
  },
  {
   "cell_type": "code",
   "execution_count": 602,
   "metadata": {
    "collapsed": false
   },
   "outputs": [
    {
     "name": "stdout",
     "output_type": "stream",
     "text": [
      "􏿿\n",
      "b'\\xf4\\x8f\\xbf\\xbf'\n",
      "b'\\xff\\xfe\\xff\\xdb\\xff\\xdf'\n",
      "b'\\xff\\xfe\\x00\\x00\\xff\\xff\\x10\\x00'\n"
     ]
    }
   ],
   "source": [
    "print('\\U0010FFFF')\n",
    "print('\\U0010FFFF'.encode('utf-8'))\n",
    "print('\\U0010FFFF'.encode('utf-16'))\n",
    "print('\\U0010FFFF'.encode('utf-32'))"
   ]
  },
  {
   "cell_type": "code",
   "execution_count": 607,
   "metadata": {
    "collapsed": false
   },
   "outputs": [
    {
     "name": "stdout",
     "output_type": "stream",
     "text": [
      "['.\\\\f.txt']\n"
     ]
    }
   ],
   "source": [
    "import glob\n",
    "print(glob.glob('./[a-z].*'))"
   ]
  },
  {
   "cell_type": "code",
   "execution_count": 608,
   "metadata": {
    "collapsed": false
   },
   "outputs": [
    {
     "name": "stdout",
     "output_type": "stream",
     "text": [
      "['arraystore.txt', 'data.txt', 'data1.txt', 'f.txt', 'f2.txt', 'fil.txt', 'printfile.txt', 'somefile.txt']\n"
     ]
    }
   ],
   "source": [
    "import glob\n",
    "print(glob.glob('*.txt'))"
   ]
  },
  {
   "cell_type": "code",
   "execution_count": 609,
   "metadata": {
    "collapsed": false
   },
   "outputs": [
    {
     "name": "stdout",
     "output_type": "stream",
     "text": [
      "<generator object _iglob at 0x000000000593C780>\n",
      "add_a_workbook.xlsx\n",
      "arraystore.nd\n",
      "arraystore.npy\n",
      "arraystore.txt\n",
      "bdsc4j.csv.xlsx\n",
      "BeautifulSoup_test_20170120.ipynb\n",
      "bs4_google_20170130.ipynb\n",
      "country_data.xml\n",
      "data.bin\n",
      "data.txt\n",
      "data.txt1\n",
      "data1.bin\n",
      "data1.txt\n",
      "date_time_test_20170130.ipynb\n",
      "decoraotor_test_20161030.ipynb\n",
      "desktop.ini\n",
      "dic_file.csv\n",
      "dic_file1.csv\n",
      "doc1.xml\n",
      "ezPDFReader2.0\n",
      "f\n",
      "f.txt\n",
      "f2.txt\n",
      "fil.txt\n",
      "file_test2_20170130.ipynb\n",
      "file_test_20170130.ipynb\n",
      "file_txt\n",
      "file_txt1\n",
      "fr.bin\n",
      "fr.hex\n",
      "fw\n",
      "fw.bin\n",
      "GitHub\n",
      "homemade.xml\n",
      "import_worker\n",
      "import_worker.py\n",
      "index.html\n",
      "json_myobj.py\n",
      "lxml_test.xml\n",
      "matplotlib_test_20161110.ipynb\n",
      "mp_sample.py\n",
      "mp_sample1.py\n",
      "multi_test.py\n",
      "My Music\n",
      "My Pictures\n",
      "My Videos\n",
      "myfile.html\n",
      "note.xml\n",
      "numpy_20161110.ipynb\n",
      "numpy_test_20161115.ipynb\n",
      "page.xhtml\n",
      "pandas test_20161110.ipynb\n",
      "persons.csv\n",
      "persons1.csv\n",
      "plugin-descriptor.properties\n",
      "pool_map.py\n",
      "pool_map1.py\n",
      "printfile.bin\n",
      "printfile.txt\n",
      "Processing\n",
      "process_apply.py\n",
      "process_applyasync.py\n",
      "process_daemon.py\n",
      "process_daemon1.py\n",
      "process_main.py\n",
      "process_mapasync.py\n",
      "process_npsqrt.py\n",
      "process_npsqrt1.py\n",
      "process_pool.py\n",
      "process_terminate.py\n",
      "process_test.py\n",
      "process_test1.py\n",
      "process_test2.py\n",
      "process_test3.py\n",
      "process_test4.py\n",
      "process_test5.py\n",
      "process_test6.py\n",
      "process_test7.py\n",
      "process_test8.py\n",
      "process_test9.py\n",
      "process_variance.py\n",
      "property_csv_20161212.ipynb\n",
      "python_course_20161110.ipynb\n",
      "row_height.xlsx\n",
      "row_height1.xlsx\n",
      "sample.xlsx\n",
      "sample1.xlsx\n",
      "sample2.xlsx\n",
      "soket_client.py\n",
      "soket_test2.py\n",
      "somefile\n",
      "somefile.txt\n",
      "t1est.xlsx\n",
      "test\n",
      "test.csv\n",
      "test.html\n",
      "test.xlsx\n",
      "test.xml\n",
      "test1.xlsx\n",
      "test10.xlsx\n",
      "test11.xlsx\n",
      "test13.xlsx\n",
      "test14.xlsx\n",
      "test15.xlsx\n",
      "test16.xlsx\n",
      "test17.xlsx\n",
      "test19.xlsx\n",
      "test2.csv\n",
      "test20.xlsx\n",
      "test3.csv\n",
      "test4.csv\n",
      "test5.csv\n",
      "test5.xlsx\n",
      "threading.ipynb\n",
      "thread_test_20161111.ipynb\n",
      "work.py\n",
      "work_thread.py\n",
      "xml_test_20170130.ipynb\n",
      "__pycache__\n",
      "내 받은 파일\n",
      "엘라스틱서치_이해하기_20160613.pptx\n",
      "은행 상품고객계약정산 타스크.xlsx\n"
     ]
    }
   ],
   "source": [
    "import glob\n",
    "pathList  = glob.iglob(\"*\")\n",
    "print(pathList)\n",
    "\n",
    "for path in pathList : \n",
    "    print(path)"
   ]
  },
  {
   "cell_type": "code",
   "execution_count": 615,
   "metadata": {
    "collapsed": false
   },
   "outputs": [
    {
     "name": "stdout",
     "output_type": "stream",
     "text": [
      "b'68656c6c6f'\n",
      "b'hello'\n",
      "False\n",
      "True\n"
     ]
    }
   ],
   "source": [
    "import binascii\n",
    "\n",
    "s = \"hello\"\n",
    "# byte --> binary hex\n",
    "a = binascii.hexlify(s.encode('utf-8'))\n",
    "print(a)\n",
    "# binary hex --> bytes\n",
    "b = binascii.unhexlify(a)\n",
    "print(b)\n",
    "print(b == s)\n",
    "# bytes --> unicode type\n",
    "print(b.decode('utf-8') == s)"
   ]
  },
  {
   "cell_type": "code",
   "execution_count": 625,
   "metadata": {
    "collapsed": false
   },
   "outputs": [
    {
     "name": "stdout",
     "output_type": "stream",
     "text": [
      "b'68656c6c6f'\n",
      "b'68656c6c6f'\n",
      "b'hello'\n",
      "b'hello'\n",
      "hello\n",
      "b'hello'\n"
     ]
    }
   ],
   "source": [
    "import binascii\n",
    "\n",
    "s = \"hello\"\n",
    "# byte --> binary hex\n",
    "\n",
    "a = binascii.hexlify(s.encode('utf-8'))\n",
    "print(a)\n",
    "# binary hex --> ucs 변환 유사\n",
    "print(b'68656c6c6f')\n",
    "b = binascii.unhexlify(a)\n",
    "print(b)\n",
    "#bytes hex\n",
    "print(b'\\x68\\x65\\x6c\\x6c\\x6f')\n",
    "print(b.decode('utf-8'))\n",
    "print(b.decode('utf-8').encode('utf-8'))\n"
   ]
  },
  {
   "cell_type": "code",
   "execution_count": 647,
   "metadata": {
    "collapsed": false
   },
   "outputs": [
    {
     "name": "stdout",
     "output_type": "stream",
     "text": [
      "b'31003200'\n",
      "b'1\\x002\\x00'\n",
      "1\u00002\u0000\n"
     ]
    }
   ],
   "source": [
    "import binascii\n",
    "\n",
    "\n",
    "# byte --> binary hex\n",
    "#a = binascii.hexlify(b'\\xff\\xfe\\x00\\x00\\x31\\x00\\x32\\x00')\n",
    "a = binascii.hexlify(b'\\x31\\x00\\x32\\x00')\n",
    "print(a)\n",
    "# binary hex --> byte\n",
    "b = binascii.unhexlify(a)\n",
    "print(b)\n",
    "print(b.decode('utf-8'))"
   ]
  },
  {
   "cell_type": "code",
   "execution_count": 648,
   "metadata": {
    "collapsed": false
   },
   "outputs": [
    {
     "name": "stdout",
     "output_type": "stream",
     "text": [
      "b'00310032'\n",
      "b'\\x001\\x002'\n",
      "\u00001\u00002\n"
     ]
    }
   ],
   "source": [
    "import binascii\n",
    "\n",
    "# byte --> binary hex\n",
    "a = binascii.hexlify(b'\\x00\\x31\\x00\\x32')\n",
    "print(a)\n",
    "# binary hex --> byte\n",
    "b = binascii.unhexlify(a)\n",
    "print(b)\n",
    "print(b.decode('utf-8'))"
   ]
  },
  {
   "cell_type": "code",
   "execution_count": 655,
   "metadata": {
    "collapsed": false
   },
   "outputs": [
    {
     "name": "stdout",
     "output_type": "stream",
     "text": [
      "utf-8     b'1'\n",
      "utf-16    b'\\xff\\xfe1\\x00'\n",
      "utf-16le  b'1\\x00'\n",
      "utf-16be  b'\\x001'\n",
      "utf-32    b'\\xff\\xfe\\x00\\x001\\x00\\x00\\x00'\n",
      "utf-32ie  b'1\\x00\\x00\\x00'\n",
      "utf-32be  b'\\x00\\x00\\x001'\n"
     ]
    }
   ],
   "source": [
    "s = '1'\n",
    "  \n",
    "print(\"utf-8    \", s.encode('utf-8'))\n",
    "\n",
    "print(\"utf-16   \",s.encode('utf-16'))\n",
    "print(\"utf-16le \",s.encode('utf-16le'))\n",
    "print(\"utf-16be \",s.encode('utf-16be'))\n",
    "\n",
    "print(\"utf-32   \",s.encode('utf-32'))\n",
    "print(\"utf-32ie \",s.encode('utf-32le'))\n",
    "print(\"utf-32be \",s.encode('utf-32be'))"
   ]
  },
  {
   "cell_type": "code",
   "execution_count": 661,
   "metadata": {
    "collapsed": false
   },
   "outputs": [
    {
     "name": "stdout",
     "output_type": "stream",
     "text": [
      "b'\\xff\\xfe1\\x002\\x00'\n",
      "\u00001\u00002\n",
      "﻿12\n",
      "￾㄀㈀\n",
      "￾㄀㈀\n",
      "﻿12\n"
     ]
    }
   ],
   "source": [
    "num = '12'\n",
    "print(num.encode(\"utf-16\"))\n",
    "\n",
    "s = b'\\xfe\\xff\\x00\\x31\\x00\\x32'\n",
    "\n",
    "#\\xfe\\xff 이 값에 대해 해석이 불가\n",
    "print(s[2:].decode(\"utf-8\"))\n",
    "\n",
    "# big endian\n",
    "print(s.decode(\"utf-16be\"))\n",
    "print(s.decode(\"utf-16le\"))\n",
    "\n",
    "# little endian\n",
    "s = b'\\xff\\xfe\\x31\\x00\\x32\\x00'\n",
    "print(s.decode(\"utf-16be\"))\n",
    "print(s.decode(\"utf-16le\"))"
   ]
  },
  {
   "cell_type": "code",
   "execution_count": 662,
   "metadata": {
    "collapsed": false
   },
   "outputs": [
    {
     "name": "stdout",
     "output_type": "stream",
     "text": [
      "32897\n"
     ]
    }
   ],
   "source": [
    "a = 0x8081\n",
    "b = 0x0000\n",
    "sa = str(a)\n",
    "print(sa)"
   ]
  },
  {
   "cell_type": "code",
   "execution_count": 682,
   "metadata": {
    "collapsed": false
   },
   "outputs": [
    {
     "name": "stdout",
     "output_type": "stream",
     "text": [
      "b'a\\x00b\\x00'\n",
      "a\u0000b\u0000\n",
      "ab\n",
      "ab\n",
      "b'\\xff\\xfe\\x00\\xacD\\xc7'\n",
      "b'00ac44c7'\n",
      "4 b'\\x00\\xacD\\xc7'\n",
      "가을\n",
      "<class 'str'>\n",
      "4 b'a\\x00b\\x00'\n",
      "a\u0000b\u0000\n"
     ]
    }
   ],
   "source": [
    "import binascii\n",
    "\n",
    "a = b'\\x61\\x00\\x62\\x00'\n",
    "print(a)\n",
    "print(a.decode(\"utf-8\"))\n",
    "print(a.decode(\"utf-16\"))\n",
    "b = b'\\x61\\x62'\n",
    "print(b.decode(\"utf-8\"))\n",
    "\n",
    "c = \"가을\"\n",
    "ce = c.encode(\"utf-16\")\n",
    "print(ce)\n",
    "ucs2_ce = binascii.hexlify(ce[2:])\n",
    "print(ucs2_ce)\n",
    "ucs2_ced = binascii.unhexlify(ucs2_ce)\n",
    "print(len(ucs2_ced), ucs2_ced)\n",
    "print(ucs2_ced.decode(\"utf-16\"))\n",
    "\n",
    "ucs2 = '61006200'\n",
    "print(type(ucs2))\n",
    "d = binascii.unhexlify(ucs2)\n",
    "print(len(d), d)\n",
    "print(d.decode(\"utf-8\"))"
   ]
  },
  {
   "cell_type": "code",
   "execution_count": 667,
   "metadata": {
    "collapsed": false
   },
   "outputs": [
    {
     "data": {
      "text/plain": [
       "'0x61'"
      ]
     },
     "execution_count": 667,
     "metadata": {},
     "output_type": "execute_result"
    }
   ],
   "source": [
    "hex(ord('a'))"
   ]
  },
  {
   "cell_type": "code",
   "execution_count": 686,
   "metadata": {
    "collapsed": false
   },
   "outputs": [
    {
     "name": "stdout",
     "output_type": "stream",
     "text": [
      "b'\\xff\\xfe\\x00\\xacD\\xc7'\n",
      "b'00ac44c7'\n",
      "4 b'\\x00\\xacD\\xc7'\n",
      "가을\n"
     ]
    }
   ],
   "source": [
    "import binascii\n",
    "\n",
    "c = \"가을\"\n",
    "ce = c.encode(\"utf-16\")\n",
    "print(ce)\n",
    "#ucs2로 전환-> hex 문자열로 생성\n",
    "ucs2_ce = binascii.hexlify(ce[2:])\n",
    "print(ucs2_ce)\n",
    "#hex문자열을 bytes 문자열로 전환\n",
    "ucs2_ced = binascii.unhexlify(ucs2_ce)\n",
    "print(len(ucs2_ced), ucs2_ced)\n",
    "#utf로 전환\n",
    "print(ucs2_ced.decode(\"utf-16\"))"
   ]
  },
  {
   "cell_type": "code",
   "execution_count": 685,
   "metadata": {
    "collapsed": false
   },
   "outputs": [
    {
     "name": "stdout",
     "output_type": "stream",
     "text": [
      "<class 'str'>\n",
      "4 b'a\\x00b\\x00'\n",
      "a\u0000b\u0000\n"
     ]
    }
   ],
   "source": [
    "import binascii\n",
    "#hex문자열을 bytes 문자열로 전환\n",
    "ucs2 = '61006200'\n",
    "print(type(ucs2))\n",
    "d = binascii.unhexlify(ucs2)\n",
    "\n",
    "#utf로 전환\n",
    "print(len(d), d)\n",
    "print(d.decode(\"utf-8\"))"
   ]
  },
  {
   "cell_type": "code",
   "execution_count": 687,
   "metadata": {
    "collapsed": false
   },
   "outputs": [
    {
     "name": "stdout",
     "output_type": "stream",
     "text": [
      "BeautifulSoup_test_20170120.ipynb\n",
      "GitHub\n",
      "My Music\n",
      "My Pictures\n",
      "My Videos\n",
      "Processing\n",
      "__pycache__\n",
      "add_a_workbook.xlsx\n",
      "arraystore.nd\n",
      "arraystore.npy\n",
      "arraystore.txt\n",
      "bdsc4j.csv.xlsx\n",
      "bs4_google_20170130.ipynb\n",
      "country_data.xml\n",
      "data.bin\n",
      "data.txt\n",
      "data.txt1\n",
      "data1.bin\n",
      "data1.txt\n",
      "date_time_test_20170130.ipynb\n",
      "decoraotor_test_20161030.ipynb\n",
      "desktop.ini\n",
      "dic_file.csv\n",
      "dic_file1.csv\n",
      "doc1.xml\n",
      "ezPDFReader2.0\n",
      "f\n",
      "f.txt\n",
      "f2.txt\n",
      "fil.txt\n",
      "file_test2_20170130.ipynb\n",
      "file_test_20170130.ipynb\n",
      "file_txt\n",
      "file_txt1\n",
      "fr.bin\n",
      "fr.hex\n",
      "fw\n",
      "fw.bin\n",
      "homemade.xml\n",
      "import_worker\n",
      "import_worker.py\n",
      "index.html\n",
      "json_myobj.py\n",
      "lxml_test.xml\n",
      "matplotlib_test_20161110.ipynb\n",
      "mp_sample.py\n",
      "mp_sample1.py\n",
      "multi_test.py\n",
      "myfile.html\n",
      "note.xml\n",
      "numpy_20161110.ipynb\n",
      "numpy_test_20161115.ipynb\n",
      "page.xhtml\n",
      "pandas test_20161110.ipynb\n",
      "persons.csv\n",
      "persons1.csv\n",
      "plugin-descriptor.properties\n",
      "pool_map.py\n",
      "pool_map1.py\n",
      "printfile.bin\n",
      "printfile.txt\n",
      "process_apply.py\n",
      "process_applyasync.py\n",
      "process_daemon.py\n",
      "process_daemon1.py\n",
      "process_main.py\n",
      "process_mapasync.py\n",
      "process_npsqrt.py\n",
      "process_npsqrt1.py\n",
      "process_pool.py\n",
      "process_terminate.py\n",
      "process_test.py\n",
      "process_test1.py\n",
      "process_test2.py\n",
      "process_test3.py\n",
      "process_test4.py\n",
      "process_test5.py\n",
      "process_test6.py\n",
      "process_test7.py\n",
      "process_test8.py\n",
      "process_test9.py\n",
      "process_variance.py\n",
      "property_csv_20161212.ipynb\n",
      "python_course_20161110.ipynb\n",
      "row_height.xlsx\n",
      "row_height1.xlsx\n",
      "sample.xlsx\n",
      "sample1.xlsx\n",
      "sample2.xlsx\n",
      "soket_client.py\n",
      "soket_test2.py\n",
      "somefile\n",
      "somefile.txt\n",
      "t1est.xlsx\n",
      "test\n",
      "test.csv\n",
      "test.html\n",
      "test.xlsx\n",
      "test.xml\n",
      "test1.xlsx\n",
      "test10.xlsx\n",
      "test11.xlsx\n",
      "test13.xlsx\n",
      "test14.xlsx\n",
      "test15.xlsx\n",
      "test16.xlsx\n",
      "test17.xlsx\n",
      "test19.xlsx\n",
      "test2.csv\n",
      "test20.xlsx\n",
      "test3.csv\n",
      "test4.csv\n",
      "test5.csv\n",
      "test5.xlsx\n",
      "thread_test_20161111.ipynb\n",
      "threading.ipynb\n",
      "work.py\n",
      "work_thread.py\n",
      "xml_test_20170130.ipynb\n",
      "�궡 諛쏆�� �뙆�씪\n",
      "�뿕�씪�뒪�떛�꽌移�_�씠�빐�븯湲�_20160613.pptx\n",
      "����뻾 �긽�뭹怨좉컼怨꾩빟�젙�궛 ����뒪�겕.xlsx\n"
     ]
    }
   ],
   "source": [
    "!ls"
   ]
  },
  {
   "cell_type": "code",
   "execution_count": 689,
   "metadata": {
    "collapsed": false
   },
   "outputs": [
    {
     "name": "stdout",
     "output_type": "stream",
     "text": [
      "['BeautifulSoup_test_20170120.ipynb', 'GitHub']\n"
     ]
    }
   ],
   "source": [
    "contents = !ls\n",
    "print(contents[:2])"
   ]
  },
  {
   "cell_type": "code",
   "execution_count": 695,
   "metadata": {
    "collapsed": false
   },
   "outputs": [
    {
     "name": "stdout",
     "output_type": "stream",
     "text": [
      "['BeautifulSoup_test_20170120.ipynb', 'GitHub']\n",
      "C:\\Users\\06411\\Documents\n",
      "['C:\\\\Users\\\\06411\\\\Documents']\n",
      "\"printing from the shell\"\n",
      "hello from Python\n"
     ]
    }
   ],
   "source": [
    "contents = !ls\n",
    "print(contents[:2])\n",
    "\n",
    "!cd\n",
    "path = !cd\n",
    "print(path)\n",
    "\n",
    "!echo \"printing from the shell\"\n",
    "message = \"hello from Python\"\n",
    "!echo {message}\n"
   ]
  },
  {
   "cell_type": "code",
   "execution_count": 698,
   "metadata": {
    "collapsed": false
   },
   "outputs": [],
   "source": [
    "%magic"
   ]
  },
  {
   "cell_type": "code",
   "execution_count": 702,
   "metadata": {
    "collapsed": false
   },
   "outputs": [
    {
     "name": "stdout",
     "output_type": "stream",
     "text": [
      " C 드라이브의 볼륨: SYSTEM\n",
      " 볼륨 일련 번호: 4A5F-4E72\n",
      "\n",
      " C:\\Users\\06411\\Documents\\test_dir 디렉터리\n",
      "\n",
      "2017-01-05  오전 11:59    <DIR>          .\n",
      "2017-01-05  오전 11:59    <DIR>          ..\n",
      "2017-01-05  오전 11:59    <DIR>          test_dir\n",
      "               0개 파일                   0 바이트\n",
      "               3개 디렉터리  37,983,842,304 바이트 남음\n",
      "C:\\Users\\06411\\Documents\\test_dir\\test_dir\n"
     ]
    }
   ],
   "source": [
    "%mkdir test_dir\n",
    "lsl = %ls\n",
    "%cd test_dir"
   ]
  },
  {
   "cell_type": "code",
   "execution_count": 724,
   "metadata": {
    "collapsed": false
   },
   "outputs": [
    {
     "name": "stdout",
     "output_type": "stream",
     "text": [
      "!C:=C:\\Users\\06411\\Documents\n",
      "CLICOLOR=1\n",
      "GIT_PAGER=cat\n",
      "JPY_INTERRUPT_EVENT=968\n",
      "MPLBACKEND=module://ipykernel.pylab.backend_inline\n",
      "NUMBER_OF_PROCESSORS=4\n",
      "JPY_PARENT_PID=964\n",
      "ALLUSERSPROFILE=C:\\ProgramData\n",
      "PAGER=cat\n",
      "PROCESSOR_ARCHITEW6432=AMD64\n",
      "PROMPT=$P$G\n",
      "TERM=xterm-color\n",
      "USERDOMAIN=SKCC\n",
      "PUBLIC=C:\\Users\\Public\n",
      "MYSQL_HOME=C:\\mysql-5.6.22-winx64\n",
      "SYSTEMROOT=C:\\Windows\n",
      "PSMODULEPATH=C:\\Windows\\system32\\WindowsPowerShell\\v1.0\\Modules\\\n",
      "TEMP=/tmp\n",
      "LOGONSERVER=\\\\SKCC-HSKPDC2\n",
      "PROGRAMFILES(X86)=C:\\Program Files (x86)\n",
      "WINDOWS_TRACING_LOGFILE=C:\\BVTBin\\Tests\\installpackage\\csilogfile.log\n",
      "USERNAME=06411\n",
      "DOCKER_TOOLBOX_INSTALL_PATH=C:\\Program Files\\Docker Toolbox\n",
      "COMSPEC=C:\\Windows\\system32\\cmd.exe\n",
      "GOPATH=c:\\workspace\n",
      "HOMEDRIVE=C:\n",
      "PATH=/c/Program Files/Anaconda3/Library/bin:/c/Program Files/Anaconda3/Library/bin:/c/Program Files/Anaconda3:/c/Program Files/Anaconda3/Scripts:/c/Program Files/Anaconda3/Library/bin:/c/Program Files/Anaconda3/Library/bin:/c/Python27/Lib/site-packages/PyQt4:/c/Program Files (x86)/Wizvera/Delfino:/c/ProgramData/Oracle/Java/javapath:/c/Program Files (x86)/Intel/iCLS Client/:/c/Program Files/Intel/iCLS Client/:/c/Windows/system32:/c/Windows:/c/Windows/System32/Wbem:/c/Windows/System32/WindowsPowerShell/v1.0/:/c/Program Files/Intel/Intel(R) Management Engine Components/DAL:/c/Program Files/Intel/Intel(R) Management Engine Components/IPT:/c/Program Files (x86)/Intel/Intel(R) Management Engine Components/DAL:/c/Program Files (x86)/Intel/Intel(R) Management Engine Components/IPT:/c/Windows/Softcamp/SDS:/c/Windows/Softcamp/SDS/x64:/c/Windows/Softcamp/SDK:/c/Windows/Softcamp/SDK/x64:/c/TDM-GCC-64/bin:/c/Program Files/Mercurial:/c/Python27:/c/Python27/DLLs:/c/Python27/Scripts:/c/Python27/gnuplot/binary:/c/Program Files (x86)/pythonxy/SciTE-3.5.1-4:/c/Program Files (x86)/pythonxy/console:/c/Program Files/Anaconda3:/c/Program Files/Anaconda3/Scripts:/c/Program Files/Anaconda3/Library/bin:/c/go/bin:/c/mingw-w64/i686-4.9.2-posix-dwarf-rt_v3-rev1/mingw32/bin:/usr/bin:/c/mercurial-3.2.3:/c/mysql-5.6.22-winx64/bin:/c/Program Files/erl7.0/bin:/c/Python27:/c/Program Files/Docker Toolbox:/c/Program Files/Java/jdk1.8.0_25/bin:.:.:.\n",
      "FP_NO_HOST_CHECK=NO\n",
      "USERDNSDOMAIN=SKCC.NET\n",
      "WINDIR=C:\\Windows\n",
      "USERPROFILE=C:\\Users\\06411\n",
      "JAVA_HOME=C:\\Program Files\\Java\\jdk1.8.0_25\n",
      "OS=Windows_NT\n",
      "SYSTEMDRIVE=C:\n",
      "SESSIONNAME=Console\n",
      "PROCESSOR_ARCHITECTURE=x86\n",
      "PROGRAMFILES=C:\\Program Files (x86)\n",
      "PROCESSOR_LEVEL=6\n",
      "IPY_INTERRUPT_EVENT=968\n",
      "COMPUTERNAME=SKCC14N00485\n",
      "WINDOWS_TRACING_FLAGS=3\n",
      "COMMONPROGRAMFILES(X86)=C:\\Program Files (x86)\\Common Files\n",
      "HOMEPATH=\\Users\\06411\n",
      "PROGRAMDATA=C:\\ProgramData\n",
      "PROGRAMW6432=C:\\Program Files\n",
      "VBOX_MSI_INSTALL_PATH=C:\\Program Files\\Oracle\\VirtualBox\\\n",
      "PROCESSOR_REVISION=3c03\n",
      "PATHEXT=.COM;.EXE;.BAT;.CMD;.VBS;.VBE;.JS;.JSE;.WSF;.WSH;.MSC;.PY;.PYW\n",
      "COMMONPROGRAMFILES=C:\\Program Files (x86)\\Common Files\n",
      "COMMONPROGRAMW6432=C:\\Program Files\\Common Files\n",
      "TMP=/tmp\n",
      "PROCESSOR_IDENTIFIER=Intel64 Family 6 Model 60 Stepping 3, GenuineIntel\n",
      "GOROOT=C:\\go\n",
      "APPDATA=C:\\Users\\06411\\AppData\\Roaming\n",
      "LOCALAPPDATA=C:\\Users\\06411\\AppData\\Local\n"
     ]
    }
   ],
   "source": [
    "!env"
   ]
  },
  {
   "cell_type": "code",
   "execution_count": 713,
   "metadata": {
    "collapsed": false
   },
   "outputs": [
    {
     "name": "stdout",
     "output_type": "stream",
     "text": [
      "C:\\Users\\06411\\Documents\n"
     ]
    }
   ],
   "source": [
    "%cd C:\\Users\\06411\\Documents\n"
   ]
  },
  {
   "cell_type": "code",
   "execution_count": 714,
   "metadata": {
    "collapsed": false
   },
   "outputs": [
    {
     "name": "stdout",
     "output_type": "stream",
     "text": [
      "C:\\Users\\06411\n"
     ]
    }
   ],
   "source": [
    "%rmdir .\\test_dir\\test_dir\n",
    "%cd C:\\Users\\06411\\Documents"
   ]
  },
  {
   "cell_type": "code",
   "execution_count": 715,
   "metadata": {
    "collapsed": false
   },
   "outputs": [
    {
     "name": "stdout",
     "output_type": "stream",
     "text": [
      "C:\\Users\\06411\\Documents\n"
     ]
    }
   ],
   "source": [
    "%cd C:\\Users\\06411\\Documents"
   ]
  },
  {
   "cell_type": "code",
   "execution_count": 717,
   "metadata": {
    "collapsed": false
   },
   "outputs": [
    {
     "data": {
      "text/plain": [
       "'C:\\\\Users\\\\06411\\\\Documents'"
      ]
     },
     "execution_count": 717,
     "metadata": {},
     "output_type": "execute_result"
    }
   ],
   "source": [
    "%pwd"
   ]
  },
  {
   "cell_type": "code",
   "execution_count": 718,
   "metadata": {
    "collapsed": false
   },
   "outputs": [
    {
     "name": "stdout",
     "output_type": "stream",
     "text": [
      "Object `%mv` not found.\n"
     ]
    }
   ],
   "source": [
    "%mv?"
   ]
  },
  {
   "cell_type": "code",
   "execution_count": 722,
   "metadata": {
    "collapsed": false
   },
   "outputs": [
    {
     "name": "stdout",
     "output_type": "stream",
     "text": [
      "\"test\"\n"
     ]
    }
   ],
   "source": [
    "%echo \"test\""
   ]
  },
  {
   "cell_type": "code",
   "execution_count": 728,
   "metadata": {
    "collapsed": false
   },
   "outputs": [
    {
     "name": "stdout",
     "output_type": "stream",
     "text": [
      "1\n",
      "<class 'int'>\n",
      "True\n"
     ]
    }
   ],
   "source": [
    "a = int(1)\n",
    "\n",
    "print(a)\n",
    "print(type(a))\n",
    "print(isinstance(a, int))"
   ]
  },
  {
   "cell_type": "code",
   "execution_count": 734,
   "metadata": {
    "collapsed": false
   },
   "outputs": [
    {
     "name": "stdout",
     "output_type": "stream",
     "text": [
      "81466440 <class 'list'>\n",
      "1562313200 <class 'int'>\n",
      "6119296 <class 'str'>\n",
      "95722760 <class 'list'>\n"
     ]
    }
   ],
   "source": [
    "lt = [1,'s',['b','c']]\n",
    "print(id(lt), type(lt))\n",
    "print(id(lt[0]), type(lt[0]) )\n",
    "print(id(lt[1]), type(lt[1]) )\n",
    "print(id(lt[2]), type(lt[2]) )"
   ]
  },
  {
   "cell_type": "code",
   "execution_count": 741,
   "metadata": {
    "collapsed": false
   },
   "outputs": [
    {
     "name": "stdout",
     "output_type": "stream",
     "text": [
      "(5,)\n",
      "int32\n",
      "1\n",
      "(4,)\n",
      "[1, 2, 3, 4, 5]\n"
     ]
    }
   ],
   "source": [
    "import numpy as np\n",
    "\n",
    "nda = np.array([1,2,3,4,5])\n",
    "print(nda.shape)\n",
    "print(nda.dtype)\n",
    "print(nda.ndim)\n",
    "print(nda.strides)\n",
    "print(nda.data.tolist())\n"
   ]
  },
  {
   "cell_type": "code",
   "execution_count": 747,
   "metadata": {
    "collapsed": false
   },
   "outputs": [
    {
     "name": "stdout",
     "output_type": "stream",
     "text": [
      "array('i', [0, 1, 2, 3, 4, 5, 6, 7, 8, 9])\n",
      "i\n",
      "[0, 1, 2, 3, 4, 5, 6, 7, 8, 9]\n",
      "(69207456, 10)\n"
     ]
    }
   ],
   "source": [
    "import array\n",
    "L = list(range(10))\n",
    "A = array.array('i', L)\n",
    "print(A)\n",
    "print(A.typecode)\n",
    "print(A.tolist())\n",
    "print(A.buffer_info())"
   ]
  },
  {
   "cell_type": "code",
   "execution_count": 750,
   "metadata": {
    "collapsed": false
   },
   "outputs": [
    {
     "name": "stdout",
     "output_type": "stream",
     "text": [
      "[1 4 2 5 3]\n",
      "int32\n",
      "[ 3.14  4.    2.    3.  ]\n",
      "float64\n",
      "[[2 3 4]\n",
      " [4 5 6]\n",
      " [6 7 8]]\n"
     ]
    }
   ],
   "source": [
    "import numpy as np\n",
    "\n",
    "# integer array:\n",
    "i = np.array([1, 4, 2, 5, 3])\n",
    "print(i)\n",
    "print(i.dtype)\n",
    "\n",
    "# float array:\n",
    "f = np.array([3.14, 4, 2, 3])\n",
    "print(f)\n",
    "print(f.dtype)\n",
    "\n",
    "# nested lists result in multi-dimensional arrays\n",
    "mi = np.array([range(i, i + 3) for i in [2, 4, 6]])\n",
    "print(mi)"
   ]
  },
  {
   "cell_type": "code",
   "execution_count": 751,
   "metadata": {
    "collapsed": false
   },
   "outputs": [
    {
     "name": "stdout",
     "output_type": "stream",
     "text": [
      "[0 0 0 0 0 0 0 0 0 0]\n",
      "[[ 1.  1.  1.  1.  1.]\n",
      " [ 1.  1.  1.  1.  1.]\n",
      " [ 1.  1.  1.  1.  1.]]\n",
      "[[ 3.14  3.14  3.14  3.14  3.14]\n",
      " [ 3.14  3.14  3.14  3.14  3.14]\n",
      " [ 3.14  3.14  3.14  3.14  3.14]]\n"
     ]
    }
   ],
   "source": [
    "# Create a length-10 integer array filled with zeros\n",
    "ze = np.zeros(10, dtype=int)\n",
    "print(ze)\n",
    "# Create a 3x5 floating-point array filled with ones\n",
    "one = np.ones((3, 5), dtype=float)\n",
    "print(one)\n",
    "# Create a 3x5 array filled with 3.14\n",
    "fl = np.full((3, 5), 3.14)\n",
    "print(fl)"
   ]
  },
  {
   "cell_type": "code",
   "execution_count": 752,
   "metadata": {
    "collapsed": false
   },
   "outputs": [
    {
     "name": "stdout",
     "output_type": "stream",
     "text": [
      "[ 0  2  4  6  8 10 12 14 16 18]\n",
      "[ 0.    0.25  0.5   0.75  1.  ]\n"
     ]
    }
   ],
   "source": [
    "import numpy as np\n",
    "\n",
    "# Create an array filled with a linear sequence\n",
    "# Starting at 0, ending at 20, stepping by 2\n",
    "# (this is similar to the built-in range() function)\n",
    "ar = np.arange(0, 20, 2)\n",
    "print(ar)\n",
    "\n",
    "# Create an array of five values evenly spaced between 0 and 1\n",
    "ls = np.linspace(0, 1, 5)\n",
    "print(ls)"
   ]
  },
  {
   "cell_type": "code",
   "execution_count": 753,
   "metadata": {
    "collapsed": false
   },
   "outputs": [
    {
     "name": "stdout",
     "output_type": "stream",
     "text": [
      "[[ 0.88050071  0.79042114  0.81195593]\n",
      " [ 0.10219646  0.477742    0.71939974]\n",
      " [ 0.29968495  0.31610957  0.42161167]]\n",
      "[[ 0.27567609 -0.00974696  0.35981263]\n",
      " [ 1.55050238  0.26103931 -0.06907681]\n",
      " [-0.24800385 -1.48016813 -0.45919365]]\n",
      "[[3 2 4]\n",
      " [8 1 1]\n",
      " [7 2 6]]\n"
     ]
    }
   ],
   "source": [
    "import numpy as np\n",
    "\n",
    "# Create a 3x3 array of uniformly distributed\n",
    "# random values between 0 and 1\n",
    "rr = np.random.random((3, 3))\n",
    "print(rr)\n",
    "\n",
    "# Create a 3x3 array of normally distributed random values\n",
    "# with mean 0 and standard deviation 1\n",
    "rn = np.random.normal(0, 1, (3, 3))\n",
    "print(rn)\n",
    "\n",
    "# Create a 3x3 array of random integers in the interval [0, 10)\n",
    "ri = np.random.randint(0, 10, (3, 3))\n",
    "print(ri)"
   ]
  },
  {
   "cell_type": "code",
   "execution_count": 754,
   "metadata": {
    "collapsed": false
   },
   "outputs": [
    {
     "name": "stdout",
     "output_type": "stream",
     "text": [
      "[[ 1.  0.  0.]\n",
      " [ 0.  1.  0.]\n",
      " [ 0.  0.  1.]]\n",
      "[ 1.  1.  1.]\n"
     ]
    }
   ],
   "source": [
    "import numpy as np\n",
    "\n",
    "# Create a 3x3 identity matrix\n",
    "ey = np.eye(3)\n",
    "print(ey)\n",
    "\n",
    "# Create an uninitialized array of three integers\n",
    "# The values will be whatever happens to already exist at that memory location\n",
    "em = np.empty(3)\n",
    "print(em)"
   ]
  },
  {
   "cell_type": "code",
   "execution_count": 755,
   "metadata": {
    "collapsed": false
   },
   "outputs": [
    {
     "name": "stdout",
     "output_type": "stream",
     "text": [
      "[0 0 0 0 0 0 0 0 0 0]\n",
      "int16\n",
      "[0 0 0 0 0 0 0 0 0 0]\n",
      "int16\n"
     ]
    }
   ],
   "source": [
    "import numpy as np\n",
    "\n",
    "z1 =np.zeros(10, dtype='int16')\n",
    "print(z1)\n",
    "print(z1.dtype)\n",
    "\n",
    "z2 =np.zeros(10, dtype=np.int16)\n",
    "print(z2)\n",
    "print(z2.dtype)"
   ]
  },
  {
   "cell_type": "code",
   "execution_count": 763,
   "metadata": {
    "collapsed": false
   },
   "outputs": [
    {
     "name": "stdout",
     "output_type": "stream",
     "text": [
      "[5 0 3 3 7 9 3 5 2 4 7 6 8 8 1 6 7 7 8 1 5 9 8 9 4 3 0 3 5 0 2 3 8 1 3 3 3\n",
      " 7 0 1 9 9 0 4 7 3 2 7 2 0 0 4 5 5 6 8 4 1 4 9]\n",
      "x3 차원   :  3\n",
      "x3 형태   : (3, 4, 5)\n",
      "x3 size:  : 60\n",
      "x3 dtype  : int32\n",
      "itemsize: 4 bytes\n",
      "nbytes: 240 bytes\n"
     ]
    }
   ],
   "source": [
    "import numpy as np\n",
    "np.random.seed(0)  # seed for reproducibility\n",
    "\n",
    "x3 = np.random.randint(10, size=(3, 4, 5))  # Three-dimensional array\n",
    "print(x3.flatten())\n",
    "print(\"x3 차원   : \", x3.ndim)\n",
    "print(\"x3 형태   :\", x3.shape)\n",
    "print(\"x3 size:  :\", x3.size)\n",
    "print(\"x3 dtype  :\", x3.dtype)\n",
    "print(\"itemsize:\", x3.itemsize, \"bytes\")\n",
    "print(\"nbytes:\", x3.nbytes, \"bytes\")"
   ]
  },
  {
   "cell_type": "code",
   "execution_count": 761,
   "metadata": {
    "collapsed": false
   },
   "outputs": [
    {
     "name": "stdout",
     "output_type": "stream",
     "text": [
      "[5 0 3 3 7 9]\n",
      "x1 차원   :  1\n",
      "x1 형태   : (6,)\n",
      "x1 size:  : 6\n",
      "x1 dtype  : int32\n",
      "itemsize: 4 bytes\n",
      "nbytes: 24 bytes\n"
     ]
    }
   ],
   "source": [
    "import numpy as np\n",
    "np.random.seed(0)  # seed for reproducibility\n",
    "\n",
    "x1 = np.random.randint(10, size=6)  # One-dimensional array\n",
    "\n",
    "print(x1.flatten())\n",
    "print(\"x1 차원   : \", x1.ndim)\n",
    "print(\"x1 형태   :\", x1.shape)\n",
    "print(\"x1 size:  :\", x1.size)\n",
    "print(\"x1 dtype  :\", x1.dtype)\n",
    "print(\"itemsize:\", x1.itemsize, \"bytes\")\n",
    "print(\"nbytes:\", x1.nbytes, \"bytes\")"
   ]
  },
  {
   "cell_type": "code",
   "execution_count": 762,
   "metadata": {
    "collapsed": false
   },
   "outputs": [
    {
     "name": "stdout",
     "output_type": "stream",
     "text": [
      "[5 0 3 3 7 9 3 5 2 4 7 6]\n",
      "x2 차원   :  2\n",
      "x2 형태   : (3, 4)\n",
      "x2 size:  : 12\n",
      "x2 dtype  : int32\n",
      "itemsize: 4 bytes\n",
      "nbytes: 48 bytes\n"
     ]
    }
   ],
   "source": [
    "import numpy as np\n",
    "np.random.seed(0)  # seed for reproducibility\n",
    "\n",
    "x2 = np.random.randint(10, size=(3, 4))  # Two-dimensional array\n",
    "\n",
    "print(x2.flatten())\n",
    "print(\"x2 차원   : \", x2.ndim)\n",
    "print(\"x2 형태   :\", x2.shape)\n",
    "print(\"x2 size:  :\", x2.size)\n",
    "print(\"x2 dtype  :\", x2.dtype)\n",
    "print(\"itemsize:\", x2.itemsize, \"bytes\")\n",
    "print(\"nbytes:\", x2.nbytes, \"bytes\")"
   ]
  },
  {
   "cell_type": "code",
   "execution_count": 767,
   "metadata": {
    "collapsed": false
   },
   "outputs": [
    {
     "name": "stdout",
     "output_type": "stream",
     "text": [
      "4\n",
      "[7 1]\n",
      "[[7 6]\n",
      " [8 8]]\n",
      "3\n",
      "[2 4]\n",
      "[[7 8]\n",
      " [1 5]]\n"
     ]
    }
   ],
   "source": [
    "import numpy as np\n",
    "np.random.seed(0)  # seed for reproducibility\n",
    "\n",
    "x1 = np.random.randint(6, size=6)  # One-dimensional array\n",
    "x2 = np.random.randint(8, size=(3, 2))  # Two-dimensional array\n",
    "x3 = np.random.randint(12, size=(3, 2, 2))  # Three-dimensional array\n",
    "\n",
    "print(x1[0])\n",
    "print(x2[0])\n",
    "print(x3[0])\n",
    "\n",
    "print(x1[-1])\n",
    "print(x2[-1])\n",
    "print(x3[-1])"
   ]
  },
  {
   "cell_type": "code",
   "execution_count": 771,
   "metadata": {
    "collapsed": false
   },
   "outputs": [
    {
     "name": "stdout",
     "output_type": "stream",
     "text": [
      "[4 5]\n",
      "[[7 1]\n",
      " [3 5]]\n",
      "[[[ 7  6]\n",
      "  [ 8  8]]\n",
      "\n",
      " [[10  1]\n",
      "  [ 6  7]]]\n",
      "[3]\n",
      "[[2 4]]\n",
      "[[[7 8]\n",
      "  [1 5]]]\n"
     ]
    }
   ],
   "source": [
    "import numpy as np\n",
    "np.random.seed(0)  # seed for reproducibility\n",
    "\n",
    "x1 = np.random.randint(6, size=6)  # One-dimensional array\n",
    "x2 = np.random.randint(8, size=(3, 2))  # Two-dimensional array\n",
    "x3 = np.random.randint(12, size=(3, 2, 2))  # Three-dimensional array\n",
    "\n",
    "print(x1[:2])\n",
    "print(x2[:2])\n",
    "print(x3[:2])\n",
    "\n",
    "print(x1[-1:])\n",
    "print(x2[-1:])\n",
    "print(x3[-1:])"
   ]
  },
  {
   "cell_type": "code",
   "execution_count": 778,
   "metadata": {
    "collapsed": false
   },
   "outputs": [
    {
     "name": "stdout",
     "output_type": "stream",
     "text": [
      "[[4 7]\n",
      " [5 0]\n",
      " [3 3]]\n",
      "0\n",
      "[5 0]\n",
      "[[3 3]\n",
      " [0 5]\n",
      " [7 4]]\n"
     ]
    }
   ],
   "source": [
    "import numpy as np\n",
    "np.random.seed(0)  # seed for reproducibility\n",
    "\n",
    "x2 = np.random.randint(8, size=(3, 2))  # Two-dimensional array\n",
    "\n",
    "print(x2)\n",
    "print(x2[1, 1]) # 두번째 행, 두번째 열 원소 검색\n",
    "print(x2[1, :]) # 두번째 행\n",
    "print(x2[::-1, ::-1]) # 역으로 출력\n"
   ]
  },
  {
   "cell_type": "code",
   "execution_count": 780,
   "metadata": {
    "collapsed": false
   },
   "outputs": [
    {
     "name": "stdout",
     "output_type": "stream",
     "text": [
      "[[4 7]\n",
      " [6 0]\n",
      " [0 4]]\n",
      " slice 배열 조회\n",
      "[[4 7]\n",
      " [6 0]]\n",
      " slice 배열 변경\n",
      "[[99  7]\n",
      " [ 6  0]]\n",
      "원본 배열 \n",
      "[[99  7]\n",
      " [ 6  0]\n",
      " [ 0  4]]\n"
     ]
    }
   ],
   "source": [
    "import numpy as np\n",
    "\n",
    "x2 = np.random.randint(8, size=(3, 2))  # Two-dimensional array\n",
    "print(x2)\n",
    "print(\" slice 배열 조회\")\n",
    "x2_sub = x2[:2, :2]\n",
    "print(x2_sub)\n",
    "print(\" slice 배열 변경\")\n",
    "x2_sub[0, 0] = 99\n",
    "print(x2_sub)\n",
    "print(\"원본 배열 \")\n",
    "print(x2)"
   ]
  },
  {
   "cell_type": "code",
   "execution_count": 782,
   "metadata": {
    "collapsed": false
   },
   "outputs": [
    {
     "name": "stdout",
     "output_type": "stream",
     "text": [
      "[[0 1]\n",
      " [5 1]\n",
      " [5 0]]\n",
      " slice 배열 조회 및 복사 \n",
      "[[0 1]\n",
      " [5 1]]\n",
      " slice 배열 변경\n",
      "[[42  1]\n",
      " [ 5  1]]\n",
      "원본 배열 \n",
      "[[0 1]\n",
      " [5 1]\n",
      " [5 0]]\n"
     ]
    }
   ],
   "source": [
    "import numpy as np\n",
    "\n",
    "x2 = np.random.randint(8, size=(3, 2))  # Two-dimensional array\n",
    "print(x2)\n",
    "print(\" slice 배열 조회 및 복사 \")\n",
    "x2_sub_copy = x2[:2, :2].copy()\n",
    "print(x2_sub_copy)\n",
    "print(\" slice 배열 변경\")\n",
    "x2_sub_copy[0, 0] = 42\n",
    "print(x2_sub_copy)\n",
    "print(\"원본 배열 \")\n",
    "print(x2)"
   ]
  },
  {
   "cell_type": "code",
   "execution_count": 785,
   "metadata": {
    "collapsed": false
   },
   "outputs": [
    {
     "name": "stdout",
     "output_type": "stream",
     "text": [
      "[[1 2 3]\n",
      " [4 5 6]\n",
      " [7 8 9]]\n",
      "[[1 2 3]\n",
      " [4 5 6]]\n"
     ]
    }
   ],
   "source": [
    "import numpy as np\n",
    "\n",
    "#reshape 메소드 처리\n",
    "grid = np.arange(1, 10).reshape((3, 3))\n",
    "print(grid)\n",
    "\n",
    "#reshape 함수 처리\n",
    "\n",
    "x = np.array([1, 2, 3,4,5,6])\n",
    "xx = np.reshape(x,(2, 3))\n",
    "print(xx)"
   ]
  },
  {
   "cell_type": "code",
   "execution_count": 791,
   "metadata": {
    "collapsed": false
   },
   "outputs": [
    {
     "name": "stdout",
     "output_type": "stream",
     "text": [
      "[[0 1 2]]\n",
      "[[0]\n",
      " [1]\n",
      " [2]]\n",
      "[[0]\n",
      " [1]\n",
      " [2]]\n"
     ]
    }
   ],
   "source": [
    "import numpy as np\n",
    "\n",
    "#reshape 메소드 처리\n",
    "x = np.arange(0, 3)\n",
    "# row vector via newaxis\n",
    "rx = x[np.newaxis, :]\n",
    "print(rx)\n",
    "\n",
    "# column vector via reshape\n",
    "xs = x.reshape((3, 1))\n",
    "print(xs)\n",
    "xc = x[ :, np.newaxis]\n",
    "print(xc)"
   ]
  },
  {
   "cell_type": "code",
   "execution_count": 793,
   "metadata": {
    "collapsed": false
   },
   "outputs": [
    {
     "name": "stdout",
     "output_type": "stream",
     "text": [
      "[[1 2 3]\n",
      " [4 5 6]\n",
      " [1 2 3]\n",
      " [4 5 6]]\n",
      "[[1 2 3 1 2 3]\n",
      " [4 5 6 4 5 6]]\n"
     ]
    }
   ],
   "source": [
    "import numpy as np\n",
    "\n",
    "grid = np.array([[1, 2, 3],[4, 5, 6]])\n",
    "\n",
    "# concatenate along the first axis\n",
    "ax0 = np.concatenate([grid, grid], axis=0)\n",
    "print(ax0)\n",
    "\n",
    "# concatenate along the second axis (zero-indexed)\n",
    "ax1 = np.concatenate([grid, grid], axis=1)\n",
    "print(ax1)"
   ]
  },
  {
   "cell_type": "code",
   "execution_count": 794,
   "metadata": {
    "collapsed": false
   },
   "outputs": [
    {
     "name": "stdout",
     "output_type": "stream",
     "text": [
      "[[1 2 3]\n",
      " [4 5 6]\n",
      " [1 2 3]\n",
      " [4 5 6]]\n",
      "[[1 2 3 1 2 3]\n",
      " [4 5 6 4 5 6]]\n"
     ]
    }
   ],
   "source": [
    "import numpy as np\n",
    "grid = np.array([[1, 2, 3],[4, 5, 6]])\n",
    "\n",
    "# vertically stack the arrays\n",
    "av = np.vstack([grid, grid])\n",
    "print(av)\n",
    "\n",
    "# horizontally stack the arrays\n",
    "\n",
    "ah =np.hstack([grid, grid])\n",
    "print(ah)"
   ]
  },
  {
   "cell_type": "code",
   "execution_count": 818,
   "metadata": {
    "collapsed": false
   },
   "outputs": [
    {
     "name": "stdout",
     "output_type": "stream",
     "text": [
      "[1 2 3] [99 99] [3 2 1]\n",
      "[[ 1  2]\n",
      " [99  3]]\n",
      "[[  3  99 100]\n",
      " [  2   1 100]]\n",
      "[[88 99]\n",
      " [88 99]]\n",
      "[]\n"
     ]
    }
   ],
   "source": [
    "import numpy as np\n",
    "\n",
    "x = [1, 2, 3, 99, 99, 3, 2, 1]\n",
    "x1, x2, x3 = np.split(x, [3,5])\n",
    "print(x1, x2, x3)\n",
    "x = [[1, 2, 3, 99,100, 88,99], [99, 3, 2, 1,100,88,99]]\n",
    "x1, x2, x3, x4  = np.split(x, [2,5,7], axis=1)\n",
    "print(x1)\n",
    "print(x2)\n",
    "print(x3)\n",
    "print(x4)\n"
   ]
  },
  {
   "cell_type": "code",
   "execution_count": 807,
   "metadata": {
    "collapsed": false
   },
   "outputs": [
    {
     "name": "stdout",
     "output_type": "stream",
     "text": [
      "[[ 1  2]\n",
      " [ 3 99]]\n",
      "[[99  3]\n",
      " [ 2  1]]\n",
      "[[ 1]\n",
      " [ 3]\n",
      " [99]\n",
      " [ 2]]\n",
      "[[ 2]\n",
      " [99]\n",
      " [ 3]\n",
      " [ 1]]\n"
     ]
    }
   ],
   "source": [
    "import numpy as np\n",
    "\n",
    "x = [1, 2, 3, 99, 99, 3, 2, 1]\n",
    "\n",
    "xa = np.array(x).reshape(4,2)\n",
    "upper, lower = np.vsplit(xa, [2])\n",
    "print(upper)\n",
    "print(lower)\n",
    "\n",
    "left, right = np.hsplit(xa , [1])\n",
    "print(left)\n",
    "print(right)"
   ]
  },
  {
   "cell_type": "code",
   "execution_count": 819,
   "metadata": {
    "collapsed": true
   },
   "outputs": [],
   "source": [
    "import numpy as np\n",
    "\n",
    "x = [1, 2, 3, 99, 99, 3, 2, 1]\n",
    "x"
   ]
  },
  {
   "cell_type": "code",
   "execution_count": 820,
   "metadata": {
    "collapsed": true
   },
   "outputs": [],
   "source": [
    "def add(x:int, y:int) ->int :\n",
    "    return x+y\n",
    "\n",
    "add"
   ]
  },
  {
   "cell_type": "code",
   "execution_count": 821,
   "metadata": {
    "collapsed": true
   },
   "outputs": [],
   "source": [
    "class Person(object) :\n",
    "    def __init__(self, name) :\n",
    "        self.name = name\n",
    "        \n",
    "    def getName(self) :\n",
    "        return self.name\n",
    "    "
   ]
  },
  {
   "cell_type": "code",
   "execution_count": 826,
   "metadata": {
    "collapsed": false
   },
   "outputs": [
    {
     "name": "stdout",
     "output_type": "stream",
     "text": [
      "0 00e9 Ll é LATIN SMALL LETTER E WITH ACUTE\n",
      "1 0bf2 No ௲ TAMIL NUMBER ONE THOUSAND\n",
      "2 0f84 Mn ྄ TIBETAN MARK HALANTA\n",
      "3 1770 Lo ᝰ TAGBANWA LETTER SA\n",
      "4 33af So ㎯ SQUARE RAD OVER S SQUARED\n"
     ]
    }
   ],
   "source": [
    "import unicodedata\n",
    "\n",
    "u = chr(233) + chr(0x0bf2) + chr(3972) + chr(6000) + chr(13231)\n",
    "\n",
    "for i, c in enumerate(u):\n",
    "    # hex값 표시\n",
    "    print(i, '%04x' % ord(c), end=\" \")\n",
    "    #문자 범주 표시\n",
    "    print(unicodedata.category(c), end=\" \")\n",
    "    # 문자 표시\n",
    "    print(unicodedata.lookup(unicodedata.name(c)), end=\" \")\n",
    "    # 문자의 이름\n",
    "    print(unicodedata.name(c))"
   ]
  },
  {
   "cell_type": "code",
   "execution_count": 834,
   "metadata": {
    "collapsed": false
   },
   "outputs": [
    {
     "name": "stdout",
     "output_type": "stream",
     "text": [
      "THAI DIGIT FIVE\n",
      "THAI DIGIT SEVEN\n",
      "'๕๗'\n"
     ]
    }
   ],
   "source": [
    "import re\n",
    "p = re.compile('\\d+')\n",
    "\n",
    "s = \"Over \\u0e55\\u0e57 57 flavours\"\n",
    "print(unicodedata.name('\\u0e55'))\n",
    "print(unicodedata.name('\\u0e57'))\n",
    "m = p.search(s)\n",
    "print(repr(m.group()))"
   ]
  },
  {
   "cell_type": "code",
   "execution_count": 835,
   "metadata": {
    "collapsed": false
   },
   "outputs": [
    {
     "name": "stdout",
     "output_type": "stream",
     "text": [
      "THAI DIGIT FIVE\n",
      "THAI DIGIT SEVEN\n",
      "'57'\n"
     ]
    }
   ],
   "source": [
    "import re\n",
    "p = re.compile('\\d+', re.ASCII)\n",
    "\n",
    "s = \"Over \\u0e55\\u0e57 57 flavours\"\n",
    "\n",
    "m = p.search(s)\n",
    "print(repr(m.group()))"
   ]
  },
  {
   "cell_type": "code",
   "execution_count": 838,
   "metadata": {
    "collapsed": false
   },
   "outputs": [
    {
     "name": "stdout",
     "output_type": "stream",
     "text": [
      "tim likes kung pao\n"
     ]
    }
   ],
   "source": [
    "from string import Template\n",
    "\n",
    "s = Template('$who likes $what')\n",
    "print(s.substitute(who='tim', what='kung pao'))\n"
   ]
  },
  {
   "cell_type": "code",
   "execution_count": 837,
   "metadata": {
    "collapsed": false
   },
   "outputs": [
    {
     "ename": "KeyError",
     "evalue": "'what'",
     "output_type": "error",
     "traceback": [
      "\u001b[0;31m---------------------------------------------------------------------------\u001b[0m",
      "\u001b[0;31mKeyError\u001b[0m                                  Traceback (most recent call last)",
      "\u001b[0;32m<ipython-input-837-5a3be77d3608>\u001b[0m in \u001b[0;36m<module>\u001b[0;34m()\u001b[0m\n\u001b[1;32m      3\u001b[0m \u001b[1;33m\u001b[0m\u001b[0m\n\u001b[1;32m      4\u001b[0m \u001b[0md\u001b[0m \u001b[1;33m=\u001b[0m \u001b[0mdict\u001b[0m\u001b[1;33m(\u001b[0m\u001b[0mwho\u001b[0m\u001b[1;33m=\u001b[0m\u001b[1;34m'tim'\u001b[0m\u001b[1;33m)\u001b[0m\u001b[1;33m\u001b[0m\u001b[0m\n\u001b[0;32m----> 5\u001b[0;31m \u001b[0mTemplate\u001b[0m\u001b[1;33m(\u001b[0m\u001b[1;34m'$who likes $what'\u001b[0m\u001b[1;33m)\u001b[0m\u001b[1;33m.\u001b[0m\u001b[0msubstitute\u001b[0m\u001b[1;33m(\u001b[0m\u001b[0md\u001b[0m\u001b[1;33m)\u001b[0m\u001b[1;33m\u001b[0m\u001b[0m\n\u001b[0m",
      "\u001b[0;32mC:\\Program Files\\Anaconda3\\lib\\string.py\u001b[0m in \u001b[0;36msubstitute\u001b[0;34m(*args, **kws)\u001b[0m\n\u001b[1;32m    127\u001b[0m             raise ValueError('Unrecognized named group in pattern',\n\u001b[1;32m    128\u001b[0m                              self.pattern)\n\u001b[0;32m--> 129\u001b[0;31m         \u001b[1;32mreturn\u001b[0m \u001b[0mself\u001b[0m\u001b[1;33m.\u001b[0m\u001b[0mpattern\u001b[0m\u001b[1;33m.\u001b[0m\u001b[0msub\u001b[0m\u001b[1;33m(\u001b[0m\u001b[0mconvert\u001b[0m\u001b[1;33m,\u001b[0m \u001b[0mself\u001b[0m\u001b[1;33m.\u001b[0m\u001b[0mtemplate\u001b[0m\u001b[1;33m)\u001b[0m\u001b[1;33m\u001b[0m\u001b[0m\n\u001b[0m\u001b[1;32m    130\u001b[0m \u001b[1;33m\u001b[0m\u001b[0m\n\u001b[1;32m    131\u001b[0m     \u001b[1;32mdef\u001b[0m \u001b[0msafe_substitute\u001b[0m\u001b[1;33m(\u001b[0m\u001b[1;33m*\u001b[0m\u001b[0margs\u001b[0m\u001b[1;33m,\u001b[0m \u001b[1;33m**\u001b[0m\u001b[0mkws\u001b[0m\u001b[1;33m)\u001b[0m\u001b[1;33m:\u001b[0m\u001b[1;33m\u001b[0m\u001b[0m\n",
      "\u001b[0;32mC:\\Program Files\\Anaconda3\\lib\\string.py\u001b[0m in \u001b[0;36mconvert\u001b[0;34m(mo)\u001b[0m\n\u001b[1;32m    117\u001b[0m             \u001b[0mnamed\u001b[0m \u001b[1;33m=\u001b[0m \u001b[0mmo\u001b[0m\u001b[1;33m.\u001b[0m\u001b[0mgroup\u001b[0m\u001b[1;33m(\u001b[0m\u001b[1;34m'named'\u001b[0m\u001b[1;33m)\u001b[0m \u001b[1;32mor\u001b[0m \u001b[0mmo\u001b[0m\u001b[1;33m.\u001b[0m\u001b[0mgroup\u001b[0m\u001b[1;33m(\u001b[0m\u001b[1;34m'braced'\u001b[0m\u001b[1;33m)\u001b[0m\u001b[1;33m\u001b[0m\u001b[0m\n\u001b[1;32m    118\u001b[0m             \u001b[1;32mif\u001b[0m \u001b[0mnamed\u001b[0m \u001b[1;32mis\u001b[0m \u001b[1;32mnot\u001b[0m \u001b[1;32mNone\u001b[0m\u001b[1;33m:\u001b[0m\u001b[1;33m\u001b[0m\u001b[0m\n\u001b[0;32m--> 119\u001b[0;31m                 \u001b[0mval\u001b[0m \u001b[1;33m=\u001b[0m \u001b[0mmapping\u001b[0m\u001b[1;33m[\u001b[0m\u001b[0mnamed\u001b[0m\u001b[1;33m]\u001b[0m\u001b[1;33m\u001b[0m\u001b[0m\n\u001b[0m\u001b[1;32m    120\u001b[0m                 \u001b[1;31m# We use this idiom instead of str() because the latter will\u001b[0m\u001b[1;33m\u001b[0m\u001b[1;33m\u001b[0m\u001b[0m\n\u001b[1;32m    121\u001b[0m                 \u001b[1;31m# fail if val is a Unicode containing non-ASCII characters.\u001b[0m\u001b[1;33m\u001b[0m\u001b[1;33m\u001b[0m\u001b[0m\n",
      "\u001b[0;31mKeyError\u001b[0m: 'what'"
     ]
    }
   ],
   "source": [
    "from string import Template\n",
    "s = Template('$who likes $what')\n",
    "\n",
    "d = dict(who='tim')\n",
    "Template('$who likes $what').substitute(d)"
   ]
  },
  {
   "cell_type": "code",
   "execution_count": 840,
   "metadata": {
    "collapsed": false
   },
   "outputs": [
    {
     "name": "stdout",
     "output_type": "stream",
     "text": [
      "tim likes $what\n"
     ]
    }
   ],
   "source": [
    "from string import Template\n",
    "s = Template('$who likes $what')\n",
    "\n",
    "d = dict(who='tim')\n",
    "print(Template('$who likes $what').safe_substitute(d))"
   ]
  },
  {
   "cell_type": "code",
   "execution_count": 875,
   "metadata": {
    "collapsed": false
   },
   "outputs": [
    {
     "name": "stdout",
     "output_type": "stream",
     "text": [
      "abcdefghijklmnopqrstuvwxyzABCDEFGHIJKLMNOPQRSTUVWXYZ\n",
      "abcdefghijklmnopqrstuvwxyz\n",
      "ABCDEFGHIJKLMNOPQRSTUVWXYZ\n",
      "0123456789\n",
      "0123456789abcdefABCDEF\n",
      "01234567\n",
      "!\"#$%&'()*+,-./:;<=>?@[\\]^_`{|}~\n",
      "0123456789abcdefghijklmnopqrstuvwxyzABCDEFGHIJKLMNOPQRSTUVWXYZ!\"#$%&'()*+,-./:;<=>?@[\\]^_`{|}~ \t\n",
      "\r",
      "\u000b",
      "\f",
      "\n",
      "' \\t\\n\\r\\x0b\\x0c' \n"
     ]
    }
   ],
   "source": [
    "import string\n",
    "\n",
    "print(string.ascii_letters)\n",
    "print(string.ascii_lowercase)\n",
    "print(string.ascii_uppercase)\n",
    "print(string.digits)\n",
    "print(string.hexdigits)\n",
    "print(string.octdigits)\n",
    "print(string.punctuation)\n",
    "print(string.printable)\n",
    "print(\"%r \" % string.whitespace)"
   ]
  },
  {
   "cell_type": "code",
   "execution_count": 841,
   "metadata": {
    "collapsed": false
   },
   "outputs": [
    {
     "name": "stdout",
     "output_type": "stream",
     "text": [
      "10595328\n",
      "131491376\n",
      "updating string\n",
      "string\n"
     ]
    }
   ],
   "source": [
    "s = 'string'\n",
    "print(id(s))\n",
    "\n",
    "v = \"updating \" + s\n",
    "print(id(v))\n",
    "print(v)\n",
    "print(s) \n"
   ]
  },
  {
   "cell_type": "code",
   "execution_count": 843,
   "metadata": {
    "collapsed": false
   },
   "outputs": [
    {
     "name": "stdout",
     "output_type": "stream",
     "text": [
      "y\n",
      "h\n",
      "6\n"
     ]
    }
   ],
   "source": [
    "s = \"python\"\n",
    "\n",
    "print(max(s))\n",
    "print(min(s))\n",
    "print(len(s))"
   ]
  },
  {
   "cell_type": "code",
   "execution_count": 845,
   "metadata": {
    "collapsed": false
   },
   "outputs": [
    {
     "name": "stdout",
     "output_type": "stream",
     "text": [
      "helle\\n world\n",
      "helle\n",
      " world\n"
     ]
    }
   ],
   "source": [
    "print(r\"helle\\n world\")\n",
    "print(\"helle\\n world\")"
   ]
  },
  {
   "cell_type": "code",
   "execution_count": 846,
   "metadata": {
    "collapsed": false
   },
   "outputs": [
    {
     "name": "stdout",
     "output_type": "stream",
     "text": [
      " start \n",
      "decode\n",
      "fromhex\n",
      "hex\n",
      " end \n"
     ]
    }
   ],
   "source": [
    "print(' start ')\n",
    "for i in dir(bytes) :\n",
    "    if i in dir(str) :\n",
    "        pass\n",
    "    else :\n",
    "        print(i)\n",
    "else :\n",
    "    print(' end ')\n"
   ]
  },
  {
   "cell_type": "code",
   "execution_count": 847,
   "metadata": {
    "collapsed": false
   },
   "outputs": [
    {
     "name": "stdout",
     "output_type": "stream",
     "text": [
      "b'abc'\n",
      "97\n",
      "98\n",
      "99\n"
     ]
    },
    {
     "ename": "TypeError",
     "evalue": "'bytes' object does not support item assignment",
     "output_type": "error",
     "traceback": [
      "\u001b[0;31m---------------------------------------------------------------------------\u001b[0m",
      "\u001b[0;31mTypeError\u001b[0m                                 Traceback (most recent call last)",
      "\u001b[0;32m<ipython-input-847-bd2b03bcb6de>\u001b[0m in \u001b[0;36m<module>\u001b[0;34m()\u001b[0m\n\u001b[1;32m      4\u001b[0m \u001b[0mprint\u001b[0m\u001b[1;33m(\u001b[0m\u001b[0mb\u001b[0m\u001b[1;33m[\u001b[0m\u001b[1;36m1\u001b[0m\u001b[1;33m]\u001b[0m\u001b[1;33m)\u001b[0m\u001b[1;33m\u001b[0m\u001b[0m\n\u001b[1;32m      5\u001b[0m \u001b[0mprint\u001b[0m\u001b[1;33m(\u001b[0m\u001b[0mb\u001b[0m\u001b[1;33m[\u001b[0m\u001b[1;36m2\u001b[0m\u001b[1;33m]\u001b[0m\u001b[1;33m)\u001b[0m\u001b[1;33m\u001b[0m\u001b[0m\n\u001b[0;32m----> 6\u001b[0;31m \u001b[0mb\u001b[0m\u001b[1;33m[\u001b[0m\u001b[1;36m1\u001b[0m\u001b[1;33m]\u001b[0m \u001b[1;33m=\u001b[0m\u001b[1;36m100\u001b[0m\u001b[1;33m\u001b[0m\u001b[0m\n\u001b[0m",
      "\u001b[0;31mTypeError\u001b[0m: 'bytes' object does not support item assignment"
     ]
    }
   ],
   "source": [
    "b = b'abc'\n",
    "print(b)\n",
    "print(b[0])\n",
    "print(b[1])\n",
    "print(b[2])\n",
    "b[1] =100"
   ]
  },
  {
   "cell_type": "code",
   "execution_count": 848,
   "metadata": {
    "collapsed": false
   },
   "outputs": [
    {
     "name": "stdout",
     "output_type": "stream",
     "text": [
      " start bytearray\n",
      "__alloc__\n",
      "__delitem__\n",
      "__iadd__\n",
      "__imul__\n",
      "__setitem__\n",
      "append\n",
      "clear\n",
      "copy\n",
      "decode\n",
      "extend\n",
      "fromhex\n",
      "hex\n",
      "insert\n",
      "pop\n",
      "remove\n",
      "reverse\n",
      " end \n"
     ]
    }
   ],
   "source": [
    "print(' start bytearray')\n",
    "\n",
    "for i in dir(bytearray) :\n",
    "    if i in dir(str) :\n",
    "        pass\n",
    "    else :\n",
    "        print(i)\n",
    "else :\n",
    "    print(' end ')\n"
   ]
  },
  {
   "cell_type": "code",
   "execution_count": 853,
   "metadata": {
    "collapsed": false
   },
   "outputs": [
    {
     "name": "stdout",
     "output_type": "stream",
     "text": [
      "bytearray(b'abcdef')\n",
      "<class 'bytearray'>\n",
      "100\n",
      "100\n",
      "bytearray(b'abndef')\n"
     ]
    }
   ],
   "source": [
    "ba = bytearray('abcdef', \"utf-8\")\n",
    "print(ba)\n",
    "\n",
    "print(type(ba))\n",
    "print(ba[3])\n",
    "print(ord('d'))\n",
    "\n",
    "#integer로 변경해야 함\n",
    "ba[2] = 110\n",
    "print(ba)\n"
   ]
  },
  {
   "cell_type": "code",
   "execution_count": 858,
   "metadata": {
    "collapsed": false
   },
   "outputs": [
    {
     "name": "stdout",
     "output_type": "stream",
     "text": [
      "bytearray(b'abcdef')\n",
      "94\n",
      "bytearray(b'^abcdef')\n",
      "bytearray(b'^abcde')\n",
      "bytearray(b'abcdefx')\n"
     ]
    }
   ],
   "source": [
    "s=bytearray('abcdef', \"utf-8\")\n",
    "print(s)\n",
    "\n",
    "print(ord('^'))\n",
    "s.insert(0, 94)\n",
    "print(s)\n",
    "\n",
    "s.pop()\n",
    "print(s)\n",
    "\n",
    "t  =  bytearray(b'abcdef')\n",
    "t.append(120)\n",
    "print(t) \n"
   ]
  },
  {
   "cell_type": "code",
   "execution_count": 860,
   "metadata": {
    "collapsed": false
   },
   "outputs": [
    {
     "name": "stdout",
     "output_type": "stream",
     "text": [
      "bytearray(b'abcd')\n",
      "bytearray(b'abcx')\n",
      "bytearray(b'abcf')\n"
     ]
    }
   ],
   "source": [
    "c = bytearray('abcd', \"utf-8\")\n",
    "\n",
    "print(c)\n",
    "\n",
    "c[3] = ord('x')\n",
    "print(c)\n",
    "\n",
    "c[3] = 102    #ord(‘f’) = 102\n",
    "print(c)\n"
   ]
  },
  {
   "cell_type": "code",
   "execution_count": 865,
   "metadata": {
    "collapsed": false
   },
   "outputs": [
    {
     "name": "stdout",
     "output_type": "stream",
     "text": [
      "bytearray(b'abcedf')\n",
      "bytearray(b'ce')\n",
      "bytearray(b'ab#df')\n",
      "5\n"
     ]
    }
   ],
   "source": [
    "b = bytearray('abcedf',\"utf-8\")\n",
    "\n",
    "print(b)\n",
    "print(b[2:4])\n",
    "\n",
    "#슬라이싱으로 갱신할 경우는\n",
    "#byte,bytearray로 할당 가능\n",
    "b[2:4] = b'#'\n",
    "print(b)\n",
    "print(len(b))\n"
   ]
  },
  {
   "cell_type": "code",
   "execution_count": 868,
   "metadata": {
    "collapsed": false
   },
   "outputs": [
    {
     "name": "stdout",
     "output_type": "stream",
     "text": [
      "bytearray(b'54321')\n",
      "bytearray(b'12345')\n"
     ]
    }
   ],
   "source": [
    "d = bytearray('12345',\"utf-8\")\n",
    "d.reverse()\n",
    "print(d)\n",
    "\n",
    "# bytearray에는 sort 메소드가 없음\n",
    "d1 =bytearray(sorted(d))\n",
    "print(d1)\n"
   ]
  },
  {
   "cell_type": "code",
   "execution_count": 870,
   "metadata": {
    "collapsed": false
   },
   "outputs": [
    {
     "name": "stdout",
     "output_type": "stream",
     "text": [
      "<class 'bytes'> b'abc'\n",
      "<class 'str'> abc\n",
      "<class 'bytes'> b'abc'\n"
     ]
    }
   ],
   "source": [
    "sa = 'abc'\n",
    "aa = sa.encode('ascii')\n",
    "print(type(aa), aa)\n",
    "\n",
    "aas = aa.decode('utf-8')\n",
    "print(type(aas), aas)\n",
    "\n",
    "aass = aas.encode('utf-8')\n",
    "print(type(aass), aass)\n"
   ]
  },
  {
   "cell_type": "code",
   "execution_count": 883,
   "metadata": {
    "collapsed": false
   },
   "outputs": [
    {
     "name": "stdout",
     "output_type": "stream",
     "text": [
      "Helloworld\n",
      "Helloworld\n",
      "HELLOWORLD\n",
      "helloworld\n",
      "Helloworld\n",
      "abcDEF\n"
     ]
    }
   ],
   "source": [
    "s = str(\"helloworld\")\n",
    "print(s.capitalize())\n",
    "print(s.title())\n",
    "su = s.upper()\n",
    "print(su)\n",
    "print(su.lower())\n",
    "print(s.title())\n",
    "print(\"ABCdef\".swapcase())"
   ]
  },
  {
   "cell_type": "code",
   "execution_count": 938,
   "metadata": {
    "collapsed": false
   },
   "outputs": [
    {
     "name": "stdout",
     "output_type": "stream",
     "text": [
      "['hello', 'world']\n",
      "hello world\n",
      "['hello', 'world']\n"
     ]
    }
   ],
   "source": [
    "s = str(\"hello world\")\n",
    "ss = s.split(\" \")\n",
    "print(ss)\n",
    "sj = \" \".join(ss)\n",
    "print(sj)\n",
    "\n",
    "sr = s.rsplit(\" \")\n",
    "print(sr)"
   ]
  },
  {
   "cell_type": "code",
   "execution_count": 935,
   "metadata": {
    "collapsed": false
   },
   "outputs": [
    {
     "name": "stdout",
     "output_type": "stream",
     "text": [
      "('ae', ',', 'iou')\n",
      "('ae', ',', 'iou')\n"
     ]
    }
   ],
   "source": [
    "l = \"ae,iou\"\n",
    "\n",
    "#분리자를 포함해서 분리\n",
    "print(l.partition(\",\"))\n",
    "print(l.rpartition(\",\"))"
   ]
  },
  {
   "cell_type": "code",
   "execution_count": 887,
   "metadata": {
    "collapsed": false
   },
   "outputs": [
    {
     "name": "stdout",
     "output_type": "stream",
     "text": [
      "Help on built-in function splitlines:\n",
      "\n",
      "splitlines(...) method of builtins.str instance\n",
      "    S.splitlines([keepends]) -> list of strings\n",
      "    \n",
      "    Return a list of the lines in S, breaking at line boundaries.\n",
      "    Line breaks are not included in the resulting list unless keepends\n",
      "    is given and true.\n",
      "\n"
     ]
    }
   ],
   "source": [
    "help(sx.splitlines)"
   ]
  },
  {
   "cell_type": "code",
   "execution_count": 892,
   "metadata": {
    "collapsed": false
   },
   "outputs": [
    {
     "name": "stdout",
     "output_type": "stream",
     "text": [
      "4\n",
      "7\n",
      "4\n",
      "7\n"
     ]
    }
   ],
   "source": [
    "s = str(\"hello world\")\n",
    "print(s.find('o'))\n",
    "print(s.rfind('o'))\n",
    "print(s.index('o'))\n",
    "print(s.rindex('o'))"
   ]
  },
  {
   "cell_type": "code",
   "execution_count": 893,
   "metadata": {
    "collapsed": false
   },
   "outputs": [
    {
     "name": "stdout",
     "output_type": "stream",
     "text": [
      "True\n",
      "True\n"
     ]
    }
   ],
   "source": [
    "s = str(\"hello world\")\n",
    "print(s.startswith(\"hello\"))\n",
    "print(s.endswith(\"world\"))"
   ]
  },
  {
   "cell_type": "code",
   "execution_count": 898,
   "metadata": {
    "collapsed": false
   },
   "outputs": [
    {
     "name": "stdout",
     "output_type": "stream",
     "text": [
      "hello world###################\n",
      "###################hello world\n",
      "hello world\n",
      "hello world    \n",
      "    hello world\n"
     ]
    }
   ],
   "source": [
    "s = str(\"hello world\")\n",
    "print(s.ljust(30,\"#\"))\n",
    "print(s.rjust(30,\"#\"))\n",
    "s = str(\"    hello world    \")\n",
    "print(s.strip())\n",
    "print(s.lstrip())\n",
    "print(s.rstrip())"
   ]
  },
  {
   "cell_type": "code",
   "execution_count": 903,
   "metadata": {
    "collapsed": false
   },
   "outputs": [
    {
     "name": "stdout",
     "output_type": "stream",
     "text": [
      "---------hello world----------\n",
      "2\n",
      "          hello world\n"
     ]
    }
   ],
   "source": [
    "s = str(\"hello world\")\n",
    "print(s.center(30,\"-\"))\n",
    "print(s.count('o'))\n",
    "\n",
    "st = str(\"\\thello world\")\n",
    "print(st.expandtabs(10))\n"
   ]
  },
  {
   "cell_type": "code",
   "execution_count": 905,
   "metadata": {
    "collapsed": false
   },
   "outputs": [
    {
     "name": "stdout",
     "output_type": "stream",
     "text": [
      "b'hello world'\n",
      "b'hello world'\n",
      "hexxx world\n"
     ]
    }
   ],
   "source": [
    "s = str(\"hello world\")\n",
    "print(s.encode(\"utf-8\"))\n",
    "print(s.encode('ascii'))\n",
    "\n",
    "print(s.replace(\"llo\", \"xxx\"))"
   ]
  },
  {
   "cell_type": "code",
   "execution_count": 907,
   "metadata": {
    "collapsed": false
   },
   "outputs": [
    {
     "name": "stdout",
     "output_type": "stream",
     "text": [
      "{97: 49, 111: 52, 117: 53, 101: 50, 105: 51}\n",
      "th3s 3s str3ng 2x1mpl2....w4w!!!\n"
     ]
    }
   ],
   "source": [
    "intab = \"aeiou\"\n",
    "outtab = \"12345\"\n",
    "trantab = \"\".maketrans(intab, outtab)\n",
    "print(trantab)\n",
    "\n",
    "st = \"this is string example....wow!!!\"\n",
    "print(st.translate(trantab))"
   ]
  },
  {
   "cell_type": "code",
   "execution_count": 911,
   "metadata": {
    "collapsed": false
   },
   "outputs": [
    {
     "name": "stdout",
     "output_type": "stream",
     "text": [
      "True\n",
      "True\n",
      "True\n"
     ]
    }
   ],
   "source": [
    "al = \"aeiou\"\n",
    "print(al.isalpha())\n",
    "nm = \"12345\"\n",
    "print(nm.isnumeric())\n",
    "alnm = \"aeiou12345\"\n",
    "print(alnm.isalnum())"
   ]
  },
  {
   "cell_type": "code",
   "execution_count": 918,
   "metadata": {
    "collapsed": false
   },
   "outputs": [
    {
     "name": "stdout",
     "output_type": "stream",
     "text": [
      "True\n",
      "True\n",
      "True\n",
      "True\n"
     ]
    }
   ],
   "source": [
    "l = \"aeiou\"\n",
    "print(l.islower())\n",
    "u = \"ABCED\"\n",
    "print(u.isupper())\n",
    "t = \"Abc Def\"\n",
    "print(t.istitle())\n",
    "s =\"   \\n\"\n",
    "print(s.isspace())"
   ]
  },
  {
   "cell_type": "code",
   "execution_count": 920,
   "metadata": {
    "collapsed": false
   },
   "outputs": [
    {
     "name": "stdout",
     "output_type": "stream",
     "text": [
      "('ae', ',', 'iou')\n"
     ]
    }
   ],
   "source": [
    "l = \"ae,iou\"\n",
    "\n",
    "#분리자를 포함해서 분리\n",
    "print(l.partition(\",\"))"
   ]
  },
  {
   "cell_type": "code",
   "execution_count": 927,
   "metadata": {
    "collapsed": false
   },
   "outputs": [
    {
     "name": "stdout",
     "output_type": "stream",
     "text": [
      "['hello\\n', ' world\\n', ' python\\n']\n",
      "['hello\\r\\n', ' world\\r\\n', ' python\\r\\n']\n"
     ]
    }
   ],
   "source": [
    "sx = str(\"hello\\n world\\n python\\n\")\n",
    "s1 = sx.splitlines(ord('\\n'))\n",
    "print(s1)\n",
    "srx = str(\"hello\\r\\n world\\r\\n python\\r\\n\")\n",
    "s2 = srx.splitlines(ord('\\r')+ord('\\n'))\n",
    "print(s2)"
   ]
  },
  {
   "cell_type": "code",
   "execution_count": 924,
   "metadata": {
    "collapsed": false
   },
   "outputs": [
    {
     "name": "stdout",
     "output_type": "stream",
     "text": [
      "Help on method_descriptor:\n",
      "\n",
      "splitlines(...)\n",
      "    S.splitlines([keepends]) -> list of strings\n",
      "    \n",
      "    Return a list of the lines in S, breaking at line boundaries.\n",
      "    Line breaks are not included in the resulting list unless keepends\n",
      "    is given and true.\n",
      "\n"
     ]
    }
   ],
   "source": [
    "help(str.splitlines)"
   ]
  },
  {
   "cell_type": "code",
   "execution_count": 933,
   "metadata": {
    "collapsed": false
   },
   "outputs": [
    {
     "name": "stdout",
     "output_type": "stream",
     "text": [
      "True\n",
      "True\n",
      "True\n",
      "False\n",
      "False\n",
      "True\n"
     ]
    }
   ],
   "source": [
    "import collections.abc as abc\n",
    "\n",
    "#immutable type\n",
    "print(issubclass(str,abc.Sequence))\n",
    "print(issubclass(bytes,abc.Sequence))\n",
    "print(issubclass(bytearray,abc.Sequence))\n",
    "\n",
    "#mutable type\n",
    "print(issubclass(str,abc.MutableSequence))\n",
    "print(issubclass(bytes,abc.MutableSequence))\n",
    "print(issubclass(bytearray,abc.MutableSequence))"
   ]
  },
  {
   "cell_type": "code",
   "execution_count": 939,
   "metadata": {
    "collapsed": false
   },
   "outputs": [
    {
     "name": "stdout",
     "output_type": "stream",
     "text": [
      "00042\n",
      "-0042\n"
     ]
    }
   ],
   "source": [
    "print(\"42\".zfill(5))\n",
    "\n",
    "print(\"-42\".zfill(5))"
   ]
  },
  {
   "cell_type": "code",
   "execution_count": null,
   "metadata": {
    "collapsed": true
   },
   "outputs": [],
   "source": []
  }
 ],
 "metadata": {
  "anaconda-cloud": {},
  "kernelspec": {
   "display_name": "Python [conda root]",
   "language": "python",
   "name": "conda-root-py"
  },
  "language_info": {
   "codemirror_mode": {
    "name": "ipython",
    "version": 3
   },
   "file_extension": ".py",
   "mimetype": "text/x-python",
   "name": "python",
   "nbconvert_exporter": "python",
   "pygments_lexer": "ipython3",
   "version": "3.5.2"
  }
 },
 "nbformat": 4,
 "nbformat_minor": 1
}
