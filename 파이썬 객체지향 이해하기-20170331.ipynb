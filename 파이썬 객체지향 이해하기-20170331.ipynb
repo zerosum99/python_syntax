{
 "cells": [
  {
   "cell_type": "markdown",
   "metadata": {},
   "source": [
    "# 왜 객체지향을 하는가? \n",
    "\n",
    "    1. 소프트웨어이 관리 기준은 모듈이지만 실행환경에서 모듈은 객체처럼 움직이면서 관리\n",
    "    \n",
    "    2. 실행환경과 구현환경이 동일하게 관리하는 것이 객체지향을 도입한 중요한 이유\n",
    "    \n",
    "    3. 인간의 사고는 추상화적인 분류를 기준\n",
    "    \n",
    "    4. 추상화를 위한 단위를 객체로 보고 소프트웨어를 만드는 것이 인간의 사고\n",
    "    \n",
    "    5. 개발자들이 추상적인 생각을 키우면서 소프트웨어를 개발하기 딱 맞는 환경이 객체지향이고 이를 위해 소프트웨어도 \n",
    "    그 개념을 받아들여 발전\n",
    "    \n",
    "    6. 객체 즉 사물을 보고 잘 분류하는 사고가 필요\n"
   ]
  },
  {
   "cell_type": "markdown",
   "metadata": {},
   "source": [
    "### 객체의 특징\n",
    "\n",
    "     1. 정체성 : 유일하게 구분되는 특성을 가진다\n",
    "     \n",
    "     2. 행위   : 객체는 자산만의 책임적인 행위를 명확히 가진다.\n",
    "     \n",
    "          - 파이썬에서 행위를 관리하는 기준\n",
    "          \n",
    "              . 모든 행위는 클래스에서 관리\n",
    "              . 인스턴스 객체는 자산의 속성만 관리\n",
    "              . 자신을 만든 클래스를 검색해서 행위를 처리\n",
    "              \n",
    "     \n",
    "     "
   ]
  },
  {
   "cell_type": "code",
   "execution_count": 9,
   "metadata": {
    "collapsed": false
   },
   "outputs": [
    {
     "name": "stdout",
     "output_type": "stream",
     "text": [
      "4584672 4584656\n"
     ]
    }
   ],
   "source": [
    "### 정체성 관리 \n",
    "\n",
    "o = object() \n",
    "\n",
    "oo = object()\n",
    "\n",
    "print(id(o), id(oo))\n"
   ]
  },
  {
   "cell_type": "code",
   "execution_count": 1,
   "metadata": {
    "collapsed": false
   },
   "outputs": [
    {
     "name": "stdout",
     "output_type": "stream",
     "text": [
      "False\n",
      "False\n"
     ]
    }
   ],
   "source": [
    "## 인스턴스의 행위를 처리\n",
    "oi = int(1)\n",
    "ooi = int(100)\n",
    "print(oi == ooi)\n",
    "\n",
    "print(oi.__eq__(ooi))\n"
   ]
  },
  {
   "cell_type": "code",
   "execution_count": 15,
   "metadata": {
    "collapsed": false
   },
   "outputs": [
    {
     "name": "stdout",
     "output_type": "stream",
     "text": [
      "Help on method-wrapper object:\n",
      "\n",
      "__eq__ = class method-wrapper(object)\n",
      " |  Methods defined here:\n",
      " |  \n",
      " |  __call__(self, /, *args, **kwargs)\n",
      " |      Call self as a function.\n",
      " |  \n",
      " |  __eq__(self, value, /)\n",
      " |      Return self==value.\n",
      " |  \n",
      " |  __ge__(self, value, /)\n",
      " |      Return self>=value.\n",
      " |  \n",
      " |  __getattribute__(self, name, /)\n",
      " |      Return getattr(self, name).\n",
      " |  \n",
      " |  __gt__(self, value, /)\n",
      " |      Return self>value.\n",
      " |  \n",
      " |  __hash__(self, /)\n",
      " |      Return hash(self).\n",
      " |  \n",
      " |  __le__(self, value, /)\n",
      " |      Return self<=value.\n",
      " |  \n",
      " |  __lt__(self, value, /)\n",
      " |      Return self<value.\n",
      " |  \n",
      " |  __ne__(self, value, /)\n",
      " |      Return self!=value.\n",
      " |  \n",
      " |  __reduce__(...)\n",
      " |      helper for pickle\n",
      " |  \n",
      " |  __repr__(self, /)\n",
      " |      Return repr(self).\n",
      " |  \n",
      " |  ----------------------------------------------------------------------\n",
      " |  Data descriptors defined here:\n",
      " |  \n",
      " |  __objclass__\n",
      " |  \n",
      " |  __self__\n",
      " |  \n",
      " |  __text_signature__\n",
      "\n"
     ]
    }
   ],
   "source": [
    "help(o.__eq__)"
   ]
  },
  {
   "cell_type": "markdown",
   "metadata": {},
   "source": [
    "#  객체지향 사물의 분류\n",
    "\n",
    "    사물(Things)은 곧 객체이다.\n",
    "    \n",
    "    사물에는 형태를 가진 것과 개념만 존재하는 것으로 분류할 수 있다.\n",
    "    \n",
    "    소프트웨어 분석 설계 구현을 한다는 것은 실세계의 사물을 가상세계의 사물로 전환하는 것이다.\n",
    "    \n",
    "    객체 모델링, 데이터 모델링도 다 사물들을 관리하는 기준에 맞춰 분류하는 것이다.\n",
    "    \n",
    "    타입, 클래스는 객체 즉 사물을 분류했을 때 정의하는 것에 지나지 않는다.\n",
    "    \n",
    "   "
   ]
  },
  {
   "cell_type": "markdown",
   "metadata": {},
   "source": [
    "##  사물을 어떻게 분류할 것인가?\n",
    "\n",
    "\n",
    "\n",
    "\n",
    "     책을 예시로 보면 책은 객체이다. \n",
    "\n",
    "     책에 대한 정보만 관리하는 것은 개념 객체이고 책의 실물을 관리하는 사물을 관리하는 객체가 구별되어 관리되어야 한다.\n",
    "\n",
    "     책이라는 객체가 책 정보에 대한 분류 기준으로 도서문헌상의 분류 규칙을 따르므로 다양한 분류체계를 관리하는 객체도 발생할 수 있다.\n",
    "\n",
    "     사물은 단순이 존재한다고 하나의 객체만은 아니다.\n",
    "     \n",
    "     보는 관점, 각 비즈니스 도메인별로 차이가 발생하므로 사물의 분류 기준을 비즈니스에 맞춰 모델링이 되어야 한다."
   ]
  },
  {
   "cell_type": "markdown",
   "metadata": {
    "collapsed": true
   },
   "source": [
    "###  파이썬은 모든 것을 객체로  봄 "
   ]
  },
  {
   "cell_type": "markdown",
   "metadata": {},
   "source": [
    "#### 정수 "
   ]
  },
  {
   "cell_type": "code",
   "execution_count": 2,
   "metadata": {
    "collapsed": false
   },
   "outputs": [
    {
     "name": "stdout",
     "output_type": "stream",
     "text": [
      "<class 'int'>\n",
      "True\n"
     ]
    }
   ],
   "source": [
    "print(int) \n",
    "# int class 의 instance object\n",
    "print(isinstance(100,int))"
   ]
  },
  {
   "cell_type": "markdown",
   "metadata": {},
   "source": [
    "#### 실수 "
   ]
  },
  {
   "cell_type": "code",
   "execution_count": 3,
   "metadata": {
    "collapsed": false
   },
   "outputs": [
    {
     "name": "stdout",
     "output_type": "stream",
     "text": [
      "<class 'float'>\n",
      "True\n"
     ]
    }
   ],
   "source": [
    "print(float) \n",
    "# float class 의 instance object\n",
    "print(isinstance(100.0,float))"
   ]
  },
  {
   "cell_type": "markdown",
   "metadata": {},
   "source": [
    "# 상속보다는  연관관계로 모델링 \n",
    "\n",
    "    객체지향 설계 시 상속을 사용하지 않는 이유는 상속관계가 끊어지면 모델을 다시 만들어야하기 때문이다.\n",
    "\n",
    "    상속은 인간들이 보기가 좋지만 상속 레벨이 3단계가 넘어가거나 다중상속일 경우 인간이 이해하는 범위가 넘어가서\n",
    "    \n",
    "    실질적인 상속을 이해할 수가 없다.\n",
    "    \n",
    "    실제 생물들도 부모로부터 상속을 받지만 상속관계로 표현할 수 있는 게 너무 없어서 실제 상속을 사용할 수 있는 것을 없다.\n"
   ]
  },
  {
   "cell_type": "markdown",
   "metadata": {},
   "source": [
    "### association으로 정의 후에 사용 \n",
    "\n",
    "    파이썬에서는 이 부분을 디스크립터로 사용해서 편하게 사용할 수 있다."
   ]
  },
  {
   "cell_type": "markdown",
   "metadata": {},
   "source": [
    "####  ==> 상속받지 않고 연관관계로 추가"
   ]
  },
  {
   "cell_type": "code",
   "execution_count": 5,
   "metadata": {
    "collapsed": false
   },
   "outputs": [
    {
     "name": "stdout",
     "output_type": "stream",
     "text": [
      "Dahl\n",
      "{'school': 'SKKU', 'person': <__main__.Person object at 0x0000000004EB71D0>}\n"
     ]
    }
   ],
   "source": [
    "class Person :\n",
    "    def __init__(self, name) :\n",
    "        self.name = name\n",
    "        \n",
    "class Student :\n",
    "    def __init__(self, name, school) :\n",
    "        self.person = Person(name)\n",
    "        self.school = school\n",
    "        \n",
    "    def getName(self) :\n",
    "        return self.person.name\n",
    "        \n",
    "s = Student(\"Dahl\", \"SKKU\")\n",
    "print(s.getName())\n",
    "print(s.__dict__)"
   ]
  },
  {
   "cell_type": "markdown",
   "metadata": {},
   "source": [
    "#### ==>  연관 클래스에 메소드 추가시 추가되는 항목에 대해서만 수정 필요\n",
    "\n",
    "    "
   ]
  },
  {
   "cell_type": "code",
   "execution_count": 6,
   "metadata": {
    "collapsed": false
   },
   "outputs": [
    {
     "name": "stdout",
     "output_type": "stream",
     "text": [
      "Dahl\n",
      "{'school': 'SKKU', 'person': <__main__.Person object at 0x0000000004EBA278>}\n"
     ]
    }
   ],
   "source": [
    "class Person :\n",
    "    def __init__(self, name) :\n",
    "        self.name = name\n",
    "    def getName(self) :\n",
    "        return self.name\n",
    "        \n",
    "class Student :\n",
    "    def __init__(self, name, school) :\n",
    "        self.person = Person(name)\n",
    "        self.school = school\n",
    "        \n",
    "    def getName(self) :\n",
    "        return self.person.getName()\n",
    "        \n",
    "s = Student(\"Dahl\", \"SKKU\")\n",
    "print(s.getName())\n",
    "print(s.__dict__)"
   ]
  },
  {
   "cell_type": "markdown",
   "metadata": {},
   "source": [
    "#   상속을 끊을 경우 어떤 대안은?\n",
    "\n",
    "    별도의 클래스를 생성할 수 있는 팩토리 체계를 만들어서 상속대신 관계성을 가질 수 있는 설계로 반영해야 한다.\n",
    "    \n",
    "    실세계에 존재하는 객체들은 그렇게 상속을 가지지 못하거나 너무 복잡해서 우리가 인식할 수 없다.\n",
    "    \n",
    "    상속을 사용할 경우 시스템 재개발 등이 발생시 더 많은 비용이 들 수 있어 연관관계를 사용해서 다양한  클래스로 분리\n"
   ]
  },
  {
   "cell_type": "markdown",
   "metadata": {},
   "source": [
    "### 파이썬에서는 goose typing을 제공해서 상속없이도 타입체크가 가능\n",
    "\n",
    "\n",
    "     goose typing은 일단 구현 클래스가 추상클래스 상속없이 issubclass와 isinstance에 대한 체크\n",
    "     "
   ]
  },
  {
   "cell_type": "markdown",
   "metadata": {},
   "source": [
    "#### 추상 메타클래스 이해하기\n",
    "\n",
    "    abc 모듈 내에 ABCMeta라는 추상메타클래스가 존재하면 이를 가자고 추상화 클래스를 만들 수 있음\n",
    "    "
   ]
  },
  {
   "cell_type": "code",
   "execution_count": 38,
   "metadata": {
    "collapsed": false
   },
   "outputs": [
    {
     "name": "stdout",
     "output_type": "stream",
     "text": [
      "['__abstractmethods__', '__base__', '__bases__', '__basicsize__', '__call__', '__class__', '__delattr__', '__dict__', '__dictoffset__', '__dir__', '__doc__', '__eq__', '__flags__', '__format__', '__ge__', '__getattribute__', '__gt__', '__hash__', '__init__', '__instancecheck__', '__itemsize__', '__le__', '__lt__', '__module__', '__mro__', '__name__', '__ne__', '__new__', '__prepare__', '__qualname__', '__reduce__', '__reduce_ex__', '__repr__', '__setattr__', '__sizeof__', '__str__', '__subclasscheck__', '__subclasses__', '__subclasshook__', '__text_signature__', '__weakrefoffset__', '_abc_invalidation_counter', '_dump_registry', 'mro', 'register']\n"
     ]
    }
   ],
   "source": [
    "from abc import ABCMeta\n",
    "\n",
    "print(dir(ABCMeta))"
   ]
  },
  {
   "cell_type": "code",
   "execution_count": 39,
   "metadata": {
    "collapsed": false
   },
   "outputs": [
    {
     "name": "stdout",
     "output_type": "stream",
     "text": [
      "<class 'abc.ABS'>\n",
      "['__abstractmethods__', '__class__', '__delattr__', '__dict__', '__dir__', '__doc__', '__eq__', '__format__', '__ge__', '__getattribute__', '__gt__', '__hash__', '__init__', '__le__', '__lt__', '__module__', '__ne__', '__new__', '__reduce__', '__reduce_ex__', '__repr__', '__setattr__', '__sizeof__', '__str__', '__subclasshook__', '__weakref__', '_abc_cache', '_abc_negative_cache', '_abc_negative_cache_version', '_abc_registry']\n"
     ]
    }
   ],
   "source": [
    "from abc import ABCMeta\n",
    "\n",
    "ABSS = ABCMeta(\"ABSS\",(object,),{})\n",
    "print(ABS)\n",
    "print(dir(ABS))"
   ]
  },
  {
   "cell_type": "markdown",
   "metadata": {},
   "source": [
    "#### __subclasshook__  메소드를 정의\n",
    "\n",
    "     __subclasshook__   :   하위 클래스가 일부 ABC의 하위 클래스로 간주되는지 여부를 확인합니다. \n",
    "     \n",
    "    즉, ABC의 하위 클래스로 간주하려는 모든 클래스에서 register ()를 호출 할 필요없이 issubclass의 동작을 사용자 정의 할 수 있습니다.\n",
    "\n",
    "    어떤 조건으로 ABC 클래스에서 __subclasshook__을 정의 할 수 있으며이 조건을 만족하는 모든 클래스는 하위 클래스로 간주됩니다.\n",
    "    \n",
    "    "
   ]
  },
  {
   "cell_type": "code",
   "execution_count": 42,
   "metadata": {
    "collapsed": false
   },
   "outputs": [],
   "source": [
    "## 사용자 정의에 위해 AAA 추상 클래스 만들기\n",
    "\n",
    "from abc import ABCMeta\n",
    "\n",
    "class AAA (metaclass=ABCMeta):\n",
    "    \n",
    "    def __len__() :\n",
    "        pass\n",
    "    @classmethod\n",
    "    def __subclasshook__(cls, C) :\n",
    "        \n",
    "    \n",
    "        if cls is AAA:\n",
    "            if any(\"__len__\" in B.__dict__ for B in C.__mro__):\n",
    "                return True\n",
    "        return NotImplemented\n"
   ]
  },
  {
   "cell_type": "markdown",
   "metadata": {},
   "source": [
    "####  상속관계 없이 데이터 타입 체크 \n",
    "\n",
    "    추상클래스를 하나 생성하고 __subclasshook__에 상속관계처리 \n",
    "    "
   ]
  },
  {
   "cell_type": "code",
   "execution_count": 37,
   "metadata": {
    "collapsed": false
   },
   "outputs": [
    {
     "name": "stdout",
     "output_type": "stream",
     "text": [
      "True\n",
      "False\n"
     ]
    }
   ],
   "source": [
    "# __len__ 클래스를 정의해서 추상클래스오와 동일 타입\n",
    "\n",
    "class BBB(object) :\n",
    "    def __len__() :\n",
    "        pass\n",
    "    \n",
    "    \n",
    "class CCC(object) :\n",
    "    pass\n",
    "\n",
    "# 동일 타입여부 체크\n",
    "print(issubclass(BBB, AAA))\n",
    "\n",
    "print(issubclass(CCC, AAA))"
   ]
  },
  {
   "cell_type": "markdown",
   "metadata": {},
   "source": [
    "####  인스턴스 여부 점검\n"
   ]
  },
  {
   "cell_type": "code",
   "execution_count": 43,
   "metadata": {
    "collapsed": false
   },
   "outputs": [
    {
     "name": "stdout",
     "output_type": "stream",
     "text": [
      "True\n"
     ]
    }
   ],
   "source": [
    "bbb = BBB()\n",
    "\n",
    "print(isinstance(bbb,BBB))"
   ]
  },
  {
   "cell_type": "markdown",
   "metadata": {},
   "source": [
    "#### 데코레이터를 이용해서 타입체크를 위한 작업 \n"
   ]
  },
  {
   "cell_type": "code",
   "execution_count": 5,
   "metadata": {
    "collapsed": true
   },
   "outputs": [],
   "source": [
    "def interface(*attributes):\n",
    "    def decorator(Base):\n",
    "\n",
    "        def checker(Other):\n",
    "            return all(hasattr(Other, a) for a in attributes)\n",
    "\n",
    "        def __subclasshook__(cls, Other):\n",
    "            if checker(Other):\n",
    "                return True\n",
    "            return NotImplemented\n",
    "\n",
    "        def __instancecheck__(cls, Other):\n",
    "            return checker(Other)\n",
    "\n",
    "        Base.__subclasshook__ = classmethod(__subclasshook__)\n",
    "        Base.__instancecheck__ = classmethod(__instancecheck__)\n",
    "        return Base\n",
    "\n",
    "    return decorator\n"
   ]
  },
  {
   "cell_type": "markdown",
   "metadata": {},
   "source": [
    "####  특정 클래스 인스턴스를 확인\n",
    "\n",
    "    데코페이터를 이용해서 추상화 클래스에 함수를 통해 __subclasshook__, __instancecheck__를 추가\n",
    "    "
   ]
  },
  {
   "cell_type": "code",
   "execution_count": 6,
   "metadata": {
    "collapsed": false
   },
   "outputs": [],
   "source": [
    "\n",
    "from abc import ABCMeta\n",
    "\n",
    "@interface(\"x\", \"y\")\n",
    "class Foo(metaclass= ABCMeta):\n",
    "    \n",
    "    def x(self): return 5\n",
    "    def y(self): return 10\n",
    "\n",
    "class Bar(object):\n",
    "    def x(self): return \"blah\"\n",
    "    def y(self): return \"blah\"\n",
    "\n",
    "class Baz(object):\n",
    "    def __init__(self):\n",
    "        self.x = \"blah\"\n",
    "        self.y = \"blah\"\n",
    "\n",
    "class attrdict(dict):\n",
    "    def __getattr__(self, attr):\n",
    "        return self[attr]\n"
   ]
  },
  {
   "cell_type": "code",
   "execution_count": 7,
   "metadata": {
    "collapsed": false
   },
   "outputs": [
    {
     "name": "stdout",
     "output_type": "stream",
     "text": [
      "True\n",
      "True\n",
      "False\n",
      "False\n"
     ]
    }
   ],
   "source": [
    "\n",
    "f = Foo()\n",
    "b = Bar()\n",
    "z = Baz()\n",
    "t = attrdict({\"x\":27.5, \"y\":37.5})\n",
    "\n",
    "print(isinstance(f, Foo))\n",
    "print( isinstance(b, Foo))\n",
    "print( isinstance(z, Foo))\n",
    "print( isinstance(t, Foo))"
   ]
  },
  {
   "cell_type": "markdown",
   "metadata": {},
   "source": [
    "### fluent interface  : \n",
    "\n",
    "    객체의 기능을 연결해서 처리가 가능하도록 구성하는 인터페이스 연계 처리 법\n",
    "    \n",
    "    \n",
    "    구현시 기준  : 메소드의 반환 값을 자기 자신의 객체로 전달\n",
    "    \n",
    "                   자기 참조, 새로운 문맥은 마지막 문맥과 동일하다.\n",
    "              \n",
    "                    자기 참조가 없으면 종료\n",
    "\n"
   ]
  },
  {
   "cell_type": "code",
   "execution_count": 3,
   "metadata": {
    "collapsed": false
   },
   "outputs": [
    {
     "data": {
      "text/plain": [
       "'    Road Not Travelled - Robert Frost'"
      ]
     },
     "execution_count": 3,
     "metadata": {},
     "output_type": "execute_result"
    }
   ],
   "source": [
    "class Poem(object):\n",
    "    def __init__(self, content):\n",
    "        self.content = content\n",
    "\n",
    "    def indent(self, spaces):\n",
    "        self.content = \" \" * spaces + self.content\n",
    "        return self\n",
    "\n",
    "    def suffix(self, content):\n",
    "        self.content = self.content + \" - \" + content\n",
    "        return self\n",
    "    \n",
    "Poem(\"Road Not Travelled\").indent(4).suffix(\"Robert Frost\").content"
   ]
  },
  {
   "cell_type": "markdown",
   "metadata": {},
   "source": [
    "# 파이썬 객체지향 이해하기\n",
    "\n",
    "\n",
    "     객체 지향 프로그래밍(영어: Object-Oriented Programming, OOP)은 컴퓨터 프로그래밍의 패러다임의 하나이다. \n",
    "     \n",
    "     객체 지향 프로그래밍은 컴퓨터 프로그램을 명령어의 목록으로 보는 시각에서 벗어나 여러 개의 독립된 단위, \n",
    "     \n",
    "     즉 \"객체\"들의 모임으로 파악하고자 하는 것이다. 각각의 객체는 메시지를 주고받고, 데이터를 처리할 수 있다.\n",
    "     \n",
    "     "
   ]
  },
  {
   "cell_type": "markdown",
   "metadata": {},
   "source": [
    "## 1. 파이썬 객체지향 기본 구성 요소  \n",
    "\n",
    "    클래스(Class object) - 같은 종류(또는 문제 해결을 위한)의 집단에 속하는 속성(attribute)과 행위(behavior)를 정의한 것으로 \n",
    "    객체지향 프로그램의 기본적인 사용자 정의 데이터형(user define data type)이라고 할 수 있다. \n",
    "    클래스는 프로그래머가 아니지만 해결해야 할 문제가 속하는 영역에 종사하는 사람이라면 사용할 수 있고, \n",
    "    다른 클래스 또는 외부 요소와 독립적으로 디자인하여야 한다.\n",
    "    \n",
    "    객체(instance Object) - 클래스의 인스턴스(실제로 메모리상에 할당된 것)이다. 객체는 자신 고유의 속성(attribute)을 가지며 \n",
    "    클래스에서 정의한 행위(behavior)를 수행할 수 있다. 객체의 행위는 클래스에 정의된 행위에 대한 정의를\n",
    "    공유함으로써 메모리를 경제적으로 사용한다.\n",
    "    \n",
    "    메서드(Method), 메시지(Message) - 클래스로부터 생성된 객체를 사용하는 방법으로서 객체에 명령을 내리는 메시지라 할 수 있다. \n",
    "    메시지는 인스턴스 객체.메소드(프로퍼티 등)을 표현하는 용어임.\n",
    "    메서드는 한 객체의 서브루틴(subroutine) 형태로 객체의 속성을 조작하는 데 사용된다. 또 객체 간의 통신은 메시지를 통해 이루어진다.\n",
    "    \n",
    "    "
   ]
  },
  {
   "cell_type": "markdown",
   "metadata": {},
   "source": [
    "## 1.1 클래스(Class object)\n",
    "\n",
    "    파이썬은 클래스가 지정되면 __init__ 내의 인스턴스 속성(변수)을 제외하고는 전부 클래스 내에서 관리한다.\n",
    "    \n",
    "    단지 인스턴스 객체가 호출(바인딩)시 클래스 내부를 찾아서 있으면 실행하는 구조\n",
    "    \n",
    "\n",
    "    class 클래스명(상속 클래스명,) :\n",
    "        #클래스 변수\n",
    "        class_var\n",
    "        @classmethod\n",
    "        def class_method(cls,..) :\n",
    "            pass\n",
    "        @staticmethod\n",
    "        def static_method(..) :\n",
    "            pass\n",
    "        # 인스턴스 생성\n",
    "        def __init__(self,..) :\n",
    "           # 인스턴스 변수\n",
    "           self.변수명 =  값\n",
    "           \n",
    "        # 인스턴스 메소드\n",
    "        def getName(self,...): \n",
    "            pass"
   ]
  },
  {
   "cell_type": "markdown",
   "metadata": {},
   "source": [
    "### 클래스 Namespace 이해하기  \n",
    "\n",
    "    클래스가 관리하는 영역 내의 메소드 및 속성\n",
    "    "
   ]
  },
  {
   "cell_type": "markdown",
   "metadata": {},
   "source": [
    "#### dir 함수로 조회시는 상위 클래스의 멤버들도 조회 됨"
   ]
  },
  {
   "cell_type": "code",
   "execution_count": 8,
   "metadata": {
    "collapsed": false
   },
   "outputs": [
    {
     "name": "stdout",
     "output_type": "stream",
     "text": [
      "['__abs__', '__add__', '__and__', '__bool__', '__ceil__', '__class__', '__delattr__', '__dict__', '__dir__', '__divmod__', '__doc__', '__eq__', '__float__', '__floor__', '__floordiv__', '__format__', '__ge__', '__getattribute__', '__getnewargs__', '__gt__', '__hash__', '__index__', '__init__', '__int__', '__invert__', '__le__', '__lshift__', '__lt__', '__mod__', '__module__', '__mul__', '__ne__', '__neg__', '__new__', '__or__', '__pos__', '__pow__', '__radd__', '__rand__', '__rdivmod__', '__reduce__', '__reduce_ex__', '__repr__', '__rfloordiv__', '__rlshift__', '__rmod__', '__rmul__', '__ror__', '__round__', '__rpow__', '__rrshift__', '__rshift__', '__rsub__', '__rtruediv__', '__rxor__', '__setattr__', '__sizeof__', '__str__', '__sub__', '__subclasshook__', '__truediv__', '__trunc__', '__xor__', 'bit_length', 'conjugate', 'denominator', 'from_bytes', 'imag', 'numerator', 'real', 'to_bytes']\n"
     ]
    }
   ],
   "source": [
    "import pprint\n",
    "class INT__(int) :\n",
    "    pass\n",
    "\n",
    "# dir은 슈퍼클래스에 있는 것까지 출력\n",
    "print(dir(INT__))\n"
   ]
  },
  {
   "cell_type": "markdown",
   "metadata": {},
   "source": [
    "####  __dict__로 조회시는 자신에 속한 namespace만 조회됨 \n"
   ]
  },
  {
   "cell_type": "code",
   "execution_count": 9,
   "metadata": {
    "collapsed": false
   },
   "outputs": [
    {
     "name": "stdout",
     "output_type": "stream",
     "text": [
      "mappingproxy({'__dict__': <attribute '__dict__' of 'INT__' objects>,\n",
      "              '__doc__': None,\n",
      "              '__module__': '__main__'})\n"
     ]
    }
   ],
   "source": [
    "import pprint\n",
    "class INT__(int) :\n",
    "    pass\n",
    "\n",
    "\n",
    "##pprint는 각 모듈에 속한대로 메소드를 출력 \n",
    "pprint.pprint(INT__.__dict__)\n"
   ]
  },
  {
   "cell_type": "code",
   "execution_count": 10,
   "metadata": {
    "collapsed": false
   },
   "outputs": [
    {
     "name": "stdout",
     "output_type": "stream",
     "text": [
      "mappingproxy({'__abs__': <slot wrapper '__abs__' of 'int' objects>,\n",
      "              '__add__': <slot wrapper '__add__' of 'int' objects>,\n",
      "              '__and__': <slot wrapper '__and__' of 'int' objects>,\n",
      "              '__bool__': <slot wrapper '__bool__' of 'int' objects>,\n",
      "              '__ceil__': <method '__ceil__' of 'int' objects>,\n",
      "              '__divmod__': <slot wrapper '__divmod__' of 'int' objects>,\n",
      "              '__doc__': 'int(x=0) -> integer\\n'\n",
      "                         'int(x, base=10) -> integer\\n'\n",
      "                         '\\n'\n",
      "                         'Convert a number or string to an integer, or return '\n",
      "                         '0 if no arguments\\n'\n",
      "                         'are given.  If x is a number, return x.__int__().  '\n",
      "                         'For floating point\\n'\n",
      "                         'numbers, this truncates towards zero.\\n'\n",
      "                         '\\n'\n",
      "                         'If x is not a number or if base is given, then x '\n",
      "                         'must be a string,\\n'\n",
      "                         'bytes, or bytearray instance representing an integer '\n",
      "                         'literal in the\\n'\n",
      "                         \"given base.  The literal can be preceded by '+' or \"\n",
      "                         \"'-' and be surrounded\\n\"\n",
      "                         'by whitespace.  The base defaults to 10.  Valid '\n",
      "                         'bases are 0 and 2-36.\\n'\n",
      "                         'Base 0 means to interpret the base from the string '\n",
      "                         'as an integer literal.\\n'\n",
      "                         \">>> int('0b100', base=0)\\n\"\n",
      "                         '4',\n",
      "              '__eq__': <slot wrapper '__eq__' of 'int' objects>,\n",
      "              '__float__': <slot wrapper '__float__' of 'int' objects>,\n",
      "              '__floor__': <method '__floor__' of 'int' objects>,\n",
      "              '__floordiv__': <slot wrapper '__floordiv__' of 'int' objects>,\n",
      "              '__format__': <method '__format__' of 'int' objects>,\n",
      "              '__ge__': <slot wrapper '__ge__' of 'int' objects>,\n",
      "              '__getattribute__': <slot wrapper '__getattribute__' of 'int' objects>,\n",
      "              '__getnewargs__': <method '__getnewargs__' of 'int' objects>,\n",
      "              '__gt__': <slot wrapper '__gt__' of 'int' objects>,\n",
      "              '__hash__': <slot wrapper '__hash__' of 'int' objects>,\n",
      "              '__index__': <slot wrapper '__index__' of 'int' objects>,\n",
      "              '__int__': <slot wrapper '__int__' of 'int' objects>,\n",
      "              '__invert__': <slot wrapper '__invert__' of 'int' objects>,\n",
      "              '__le__': <slot wrapper '__le__' of 'int' objects>,\n",
      "              '__lshift__': <slot wrapper '__lshift__' of 'int' objects>,\n",
      "              '__lt__': <slot wrapper '__lt__' of 'int' objects>,\n",
      "              '__mod__': <slot wrapper '__mod__' of 'int' objects>,\n",
      "              '__mul__': <slot wrapper '__mul__' of 'int' objects>,\n",
      "              '__ne__': <slot wrapper '__ne__' of 'int' objects>,\n",
      "              '__neg__': <slot wrapper '__neg__' of 'int' objects>,\n",
      "              '__new__': <built-in method __new__ of type object at 0x0000000067AE6D60>,\n",
      "              '__or__': <slot wrapper '__or__' of 'int' objects>,\n",
      "              '__pos__': <slot wrapper '__pos__' of 'int' objects>,\n",
      "              '__pow__': <slot wrapper '__pow__' of 'int' objects>,\n",
      "              '__radd__': <slot wrapper '__radd__' of 'int' objects>,\n",
      "              '__rand__': <slot wrapper '__rand__' of 'int' objects>,\n",
      "              '__rdivmod__': <slot wrapper '__rdivmod__' of 'int' objects>,\n",
      "              '__repr__': <slot wrapper '__repr__' of 'int' objects>,\n",
      "              '__rfloordiv__': <slot wrapper '__rfloordiv__' of 'int' objects>,\n",
      "              '__rlshift__': <slot wrapper '__rlshift__' of 'int' objects>,\n",
      "              '__rmod__': <slot wrapper '__rmod__' of 'int' objects>,\n",
      "              '__rmul__': <slot wrapper '__rmul__' of 'int' objects>,\n",
      "              '__ror__': <slot wrapper '__ror__' of 'int' objects>,\n",
      "              '__round__': <method '__round__' of 'int' objects>,\n",
      "              '__rpow__': <slot wrapper '__rpow__' of 'int' objects>,\n",
      "              '__rrshift__': <slot wrapper '__rrshift__' of 'int' objects>,\n",
      "              '__rshift__': <slot wrapper '__rshift__' of 'int' objects>,\n",
      "              '__rsub__': <slot wrapper '__rsub__' of 'int' objects>,\n",
      "              '__rtruediv__': <slot wrapper '__rtruediv__' of 'int' objects>,\n",
      "              '__rxor__': <slot wrapper '__rxor__' of 'int' objects>,\n",
      "              '__sizeof__': <method '__sizeof__' of 'int' objects>,\n",
      "              '__str__': <slot wrapper '__str__' of 'int' objects>,\n",
      "              '__sub__': <slot wrapper '__sub__' of 'int' objects>,\n",
      "              '__truediv__': <slot wrapper '__truediv__' of 'int' objects>,\n",
      "              '__trunc__': <method '__trunc__' of 'int' objects>,\n",
      "              '__xor__': <slot wrapper '__xor__' of 'int' objects>,\n",
      "              'bit_length': <method 'bit_length' of 'int' objects>,\n",
      "              'conjugate': <method 'conjugate' of 'int' objects>,\n",
      "              'denominator': <attribute 'denominator' of 'int' objects>,\n",
      "              'from_bytes': <method 'from_bytes' of 'int' objects>,\n",
      "              'imag': <attribute 'imag' of 'int' objects>,\n",
      "              'numerator': <attribute 'numerator' of 'int' objects>,\n",
      "              'real': <attribute 'real' of 'int' objects>,\n",
      "              'to_bytes': <method 'to_bytes' of 'int' objects>})\n"
     ]
    }
   ],
   "source": [
    "pprint.pprint(int.__dict__)"
   ]
  },
  {
   "cell_type": "markdown",
   "metadata": {},
   "source": [
    "## 1.2  생성자 이해하기 \n",
    "\n",
    "      클래스 정의\n",
    "      \n",
    "      class A(object) :\n",
    "          pass\n",
    "\n",
    "      파이썬은 클래스 호출( 호출연산자 ())하면  내부적으로는   __call__을 호출하여 내부의 __new__, __init__을 호출 \n",
    "          \n",
    "          a = A()\n",
    "          \n",
    "      클래스 A를 호출(__call__)하면  __new__, __init__ 가 순서적으로 호출되면 정의가 안되면 최상위 클래스인 object 생성자에\n",
    "      \n",
    "      있는 __new__/__init__을 호출해서 생성       \n",
    "      \n",
    "        "
   ]
  },
  {
   "cell_type": "markdown",
   "metadata": {},
   "source": [
    "## __new__ 이해하기 \n",
    "\n",
    "    __new__ 메소드는 사용자 정의 인스턴스 객체만을 생성한다.\n",
    "    \n",
    "    파이썬 정의시 __new__는 정의하지 않아도 객체는 생성시킴.\n",
    "        \n",
    "    초기화는 __init__으로 함."
   ]
  },
  {
   "cell_type": "markdown",
   "metadata": {},
   "source": [
    "#### new를 통한 인스턴스만 생성"
   ]
  },
  {
   "cell_type": "code",
   "execution_count": 85,
   "metadata": {
    "collapsed": false
   },
   "outputs": [
    {
     "name": "stdout",
     "output_type": "stream",
     "text": [
      "<__main__.AAA object at 0x00000000051C46A0>\n",
      "True\n"
     ]
    }
   ],
   "source": [
    "class AAA :\n",
    "    def __new__(cls) :\n",
    "        return object.__new__(AAA)\n",
    "    \n",
    "aaa = AAA()\n",
    "print(aaa)\n",
    "\n",
    "print(isinstance(aaa, AAA))"
   ]
  },
  {
   "cell_type": "markdown",
   "metadata": {},
   "source": [
    "## 단일 클래스로만 처리 하는 법\n"
   ]
  },
  {
   "cell_type": "markdown",
   "metadata": {},
   "source": [
    "####  \"__new__\"  : 객체 생성 연산자에서 exception 처리"
   ]
  },
  {
   "cell_type": "code",
   "execution_count": 13,
   "metadata": {
    "collapsed": false
   },
   "outputs": [
    {
     "ename": "Exception",
     "evalue": " No create instance",
     "output_type": "error",
     "traceback": [
      "\u001b[0;31m---------------------------------------------------------------------------\u001b[0m",
      "\u001b[0;31mException\u001b[0m                                 Traceback (most recent call last)",
      "\u001b[0;32m<ipython-input-13-40f66cfdab7f>\u001b[0m in \u001b[0;36m<module>\u001b[0;34m()\u001b[0m\n\u001b[1;32m     10\u001b[0m         \u001b[1;32mreturn\u001b[0m \u001b[0mcls\u001b[0m\u001b[1;33m.\u001b[0m\u001b[0mname\u001b[0m\u001b[1;33m\u001b[0m\u001b[0m\n\u001b[1;32m     11\u001b[0m \u001b[1;33m\u001b[0m\u001b[0m\n\u001b[0;32m---> 12\u001b[0;31m \u001b[0mps\u001b[0m \u001b[1;33m=\u001b[0m \u001b[0mPerson\u001b[0m\u001b[1;33m(\u001b[0m\u001b[1;33m)\u001b[0m\u001b[1;33m\u001b[0m\u001b[0m\n\u001b[0m",
      "\u001b[0;32m<ipython-input-13-40f66cfdab7f>\u001b[0m in \u001b[0;36m__new__\u001b[0;34m(cls)\u001b[0m\n\u001b[1;32m      3\u001b[0m \u001b[1;33m\u001b[0m\u001b[0m\n\u001b[1;32m      4\u001b[0m     \u001b[1;32mdef\u001b[0m \u001b[0m__new__\u001b[0m\u001b[1;33m(\u001b[0m\u001b[0mcls\u001b[0m\u001b[1;33m)\u001b[0m \u001b[1;33m:\u001b[0m\u001b[1;33m\u001b[0m\u001b[0m\n\u001b[0;32m----> 5\u001b[0;31m         \u001b[1;32mraise\u001b[0m \u001b[0mException\u001b[0m\u001b[1;33m(\u001b[0m\u001b[1;34m' No create instance'\u001b[0m\u001b[1;33m)\u001b[0m\u001b[1;33m\u001b[0m\u001b[0m\n\u001b[0m\u001b[1;32m      6\u001b[0m \u001b[1;33m\u001b[0m\u001b[0m\n\u001b[1;32m      7\u001b[0m     \u001b[0mname\u001b[0m \u001b[1;33m=\u001b[0m \u001b[1;32mNone\u001b[0m\u001b[1;33m\u001b[0m\u001b[0m\n",
      "\u001b[0;31mException\u001b[0m:  No create instance"
     ]
    }
   ],
   "source": [
    "## 클래스만 가능\n",
    "class Person(object) :\n",
    "    \n",
    "    def __new__(cls) :\n",
    "        raise Exception(' No create instance')\n",
    "    \n",
    "    name = None\n",
    "    @classmethod\n",
    "    def getName(cls) :\n",
    "        return cls.name\n",
    "    \n",
    "ps = Person()"
   ]
  },
  {
   "cell_type": "markdown",
   "metadata": {},
   "source": [
    "####  생성자(__new__) 에서 자기 자신을 리턴처리\n"
   ]
  },
  {
   "cell_type": "code",
   "execution_count": 15,
   "metadata": {
    "collapsed": false
   },
   "outputs": [
    {
     "name": "stdout",
     "output_type": "stream",
     "text": [
      "True\n"
     ]
    }
   ],
   "source": [
    "## 클래스만 가능\n",
    "class Person(object) :\n",
    "    \n",
    "    def __new__(cls) :\n",
    "        return Person\n",
    "    \n",
    "    name = None\n",
    "    @classmethod\n",
    "    def getName(cls) :\n",
    "        return cls.name\n",
    "    \n",
    "ps = Person()\n",
    "\n",
    "\n",
    "print(ps is Person)"
   ]
  },
  {
   "cell_type": "markdown",
   "metadata": {},
   "source": [
    "### 인스턴스 내의 namespace 이해하기\n",
    "\n",
    "    __init__ 내부에서 인스턴스 객체 초기화가 수행되므로 이 값에 대해 기본 namespace를  만듦\n",
    "    "
   ]
  },
  {
   "cell_type": "markdown",
   "metadata": {},
   "source": [
    "#### 클래스로 인스턴스 객체를 생성하고 초기화하기\n",
    "\n",
    "    __new__, __init__ 메소드는 내부에서 호출하므로 실제 호출하지 않아도 자동으로 처리됨\n",
    "    \n",
    "    mdp = MDPerson(\"dahl\", \"law\") 이 문장이 즉 MDPerson.__call__(\"dahl\", \"law\") 처리이고 \n",
    "    \n",
    "    __call__이 내부적으로 __new__, __init__을 자동으로 호출되어 처리하는 구조임\n",
    "    "
   ]
  },
  {
   "cell_type": "code",
   "execution_count": 11,
   "metadata": {
    "collapsed": false
   },
   "outputs": [],
   "source": [
    "import pprint\n",
    "class MDPerson(object) :\n",
    "    \n",
    "    def __new__(cls,name,major) :\n",
    "        return object.__new__(cls)\n",
    "    \n",
    "    def __init__(self, name, major) :\n",
    "        self.name = name\n",
    "        self.major = major\n",
    "        \n",
    "    def __call__(cls,name,major) :\n",
    "        self = cls.__new__(name,maor)\n",
    "        self.__init__(name,major)\n",
    "        return self"
   ]
  },
  {
   "cell_type": "code",
   "execution_count": 13,
   "metadata": {
    "collapsed": false
   },
   "outputs": [
    {
     "name": "stdout",
     "output_type": "stream",
     "text": [
      "True\n",
      "<__main__.MDPerson object at 0x0000000004E092E8>\n",
      "dahl\n",
      "law\n"
     ]
    }
   ],
   "source": [
    "mdp = MDPerson(\"dahl\", \"law\")\n",
    "\n",
    "print(isinstance(mdp, MDPerson))\n",
    "print(mdp)\n",
    "print(mdp.name)\n",
    "print(mdp.major)\n"
   ]
  },
  {
   "cell_type": "markdown",
   "metadata": {},
   "source": [
    "####  class에 클래스 변수와 클래스메소드만 지정\n",
    "\n",
    "    클래스도 하나의 객체이므로 인스턴스 생성 없이 클래스 이름으로 직접 실행함"
   ]
  },
  {
   "cell_type": "code",
   "execution_count": 4,
   "metadata": {
    "collapsed": false
   },
   "outputs": [
    {
     "name": "stdout",
     "output_type": "stream",
     "text": [
      "Dahl\n",
      "Dahl\n"
     ]
    }
   ],
   "source": [
    "\n",
    "class Person(object) :\n",
    "    name = None\n",
    "    @classmethod\n",
    "    def getName(cls) :\n",
    "        return cls.name\n",
    "    \n",
    "Person.name = \"Dahl\"\n",
    "print(Person.name)\n",
    "print(Person.getName())"
   ]
  },
  {
   "cell_type": "markdown",
   "metadata": {},
   "source": [
    "#### 클래스는 기본은 인스턴스를 생성이 가능\n",
    "\n",
    "    클래스만 사용하려면 인스턴스 생성을 못하도록 처리 해야 함\n",
    "    "
   ]
  },
  {
   "cell_type": "code",
   "execution_count": 5,
   "metadata": {
    "collapsed": false
   },
   "outputs": [
    {
     "name": "stdout",
     "output_type": "stream",
     "text": [
      "Dahl\n"
     ]
    }
   ],
   "source": [
    "p = Person() \n",
    "p.name = \"Moon\"\n",
    "print(p.getName())"
   ]
  },
  {
   "cell_type": "markdown",
   "metadata": {},
   "source": [
    "## 1.3 초기화 메소드 이해하기 \n",
    "\n",
    "     __init__ 메소드는 파이썬 인스턴스 초기화 메소드이므로 인스턴스 객체를 생성하기  \n",
    "     \n",
    "     위에 예시처럼 인스턴스는 __new__로 자동생성 시킨 후에 __init__을 호출하므로  반드시 작성해야 함\n"
   ]
  },
  {
   "cell_type": "code",
   "execution_count": 18,
   "metadata": {
    "collapsed": false
   },
   "outputs": [
    {
     "name": "stdout",
     "output_type": "stream",
     "text": [
      "<__main__.MDPerson object at 0x000000000517A3C8>\n",
      "dahl\n",
      "law\n"
     ]
    }
   ],
   "source": [
    "class MDPerson(object) :\n",
    "    def __init__(self, name, major) :\n",
    "        self.name = name\n",
    "        self.major = major\n",
    "        \n",
    "        \n",
    "mdp = MDPerson(\"dahl\", \"law\")\n",
    "print(mdp)\n",
    "print(mdp.name)\n",
    "print(mdp.major)"
   ]
  },
  {
   "cell_type": "markdown",
   "metadata": {},
   "source": [
    "## 2. 자료 추상화\n",
    "\n",
    "    자료 추상화는 불필요한 정보는 숨기고 중요한 정보만을 표현함으로써 프로그램을 간단히 만드는 것이다. \n",
    "    자료 추상화를 통해 정의된 자료형을 추상 자료형이라고 한다. \n",
    "    추상 자료형은 자료형의 자료 표현과 자료형의 연산을 캡슐화한 것으로 접근 제어를 통해서 자료형의 정보를 은닉할 수 있다. \n",
    "    객체 지향 프로그래밍에서 일반적으로 추상 자료형을 클래스, 추상 자료형의 인스턴스를 객체, \n",
    "    추상 자료형에서 정의된 연산을 메소드, 메소드의 호출을 메시지라고 한다.\n",
    "    \n",
    "    \n"
   ]
  },
  {
   "cell_type": "markdown",
   "metadata": {},
   "source": [
    "## 2.1 상속\n",
    "\n",
    "    상속은 새로운 클래스가 기존의 클래스의 자료와 연산을 이용할 수 있게 하는 기능이다. \n",
    "    상속을 받는 새로운 클래스를 부클래스, 파생 클래스, 하위 클래스, 자식 클래스라고 하며 새로운 클래스가 상속하는 \n",
    "    기존의 클래스를 기반 클래스, 상위 클래스, 부모 클래스라고 한다.\n",
    "    상속을 통해서 기존의 클래스를 상속받은 하위 클래스를 이용해 프로그램의 요구에 맞추어 클래스를 수정할 수 있고\n",
    "    클래스 간의 종속 관계를 형성함으로써 객체를 조직화할 수 있다.\n",
    "    \n",
    "    \n",
    "    다중 상속은 클래스가 2개 이상의 클래스로부터 상속받을 수 있게 하는 기능이다. \n",
    "    클래스들의 기능이 동시에 필요할 때 용이하나 클래스의 상속 관계에 혼란을 줄 수 있고(예: 다이아몬드 상속) 프로그래밍 언어에 \n",
    "    따라 사용 가능 유무가 다르므로 주의해서 사용해야 한다.\n",
    "    \n"
   ]
  },
  {
   "cell_type": "markdown",
   "metadata": {},
   "source": [
    "#### 내장 클래스 int 상속하기\n",
    "\n",
    "    구현된 클래스 상속을 하면 부모 클래스의 메소드 등을 그대로 상속되므로 바로 메소드들을 사용할 수 있다.\n",
    "    \n",
    "    "
   ]
  },
  {
   "cell_type": "code",
   "execution_count": 15,
   "metadata": {
    "collapsed": false
   },
   "outputs": [
    {
     "name": "stdout",
     "output_type": "stream",
     "text": [
      "100 \n"
     ]
    }
   ],
   "source": [
    "class INT_(int) :\n",
    "    pass\n",
    "\n",
    "i = INT(100)\n",
    "print(i)"
   ]
  },
  {
   "cell_type": "markdown",
   "metadata": {},
   "source": [
    "#### superclass와 subclass 이해하기 \n",
    "\n",
    "    슈퍼클래스 : 상속을 하는 클래스, 부모클래스라고도 함ㅡ \n",
    "    서브클래스 : 상속을 받아 구현된 클래스, 자식 클래스라고도 함\n",
    "    \n",
    "    슈퍼클래스와 서브클래스간의 상속관계(is a) 관계를 확인하기 위해 issubclass(자식클래스, 부모클래스) 함수로 상속여부를 확인할 수 있다\n",
    "    \n",
    "    "
   ]
  },
  {
   "cell_type": "code",
   "execution_count": 17,
   "metadata": {
    "collapsed": false
   },
   "outputs": [
    {
     "name": "stdout",
     "output_type": "stream",
     "text": [
      "100 \n",
      "True\n"
     ]
    }
   ],
   "source": [
    "class INT_(int) :\n",
    "    pass\n",
    "\n",
    "i = INT(100)\n",
    "print(i)\n",
    "\n",
    "print(issubclass(INT_, int))"
   ]
  },
  {
   "cell_type": "markdown",
   "metadata": {},
   "source": [
    "## 2.2  추상 클래스 이해하기  \n",
    "    \n",
    "     ABCMeta 클래스에 의해 만들어진 것을 추상화 클래스를 만든다.\n",
    "     \n",
    "     추상화 클래스는 기본적으로 인스턴스 객체를 만들 수 없고 상속해서 구현해야 한다.\n",
    "     \n",
    "     추상화 클래스 내에 메소드 중에 일부는 구현해서 제공할 수 있다.\n",
    "\n"
   ]
  },
  {
   "cell_type": "markdown",
   "metadata": {},
   "source": [
    "#### 파이썬 내부 숫자에 대한 추상클래스 모듈\n",
    "\n",
    "    파이썬에서는 특수한 추상클래스 모듈(숫자 : numbers, 문자열,리스트,dict 타입: collections.abc 등)들을 제공하며\n",
    "    실제 내장 클래스 타입을 상속을 받는 것이 아니라 추상클래스를 상속받아 처리하도록 권고함\n",
    "    "
   ]
  },
  {
   "cell_type": "code",
   "execution_count": 21,
   "metadata": {
    "collapsed": false
   },
   "outputs": [
    {
     "name": "stdout",
     "output_type": "stream",
     "text": [
      "<class 'abc.ABCMeta'>\n"
     ]
    }
   ],
   "source": [
    "import numbers \n",
    "\n",
    "print(type(numbers.Integral))"
   ]
  },
  {
   "cell_type": "markdown",
   "metadata": {},
   "source": [
    "#### 추상클래스를 상속받아서 정수타입 만들기\n",
    "\n",
    "    numbers 모듈이 Integral은 정수 데이터 타입을 만드는 추상클래스\n",
    "    \n",
    "    추상클래스에는 추상메소드(즉 이름은 존재하지만 구현이 필요한 경우)에 대한 구현을 해야 함\n",
    "    \n",
    "    일부만 구현하고 일부는 ''로 처리해서 작동되도록 처리\n",
    "    "
   ]
  },
  {
   "cell_type": "code",
   "execution_count": 11,
   "metadata": {
    "collapsed": false
   },
   "outputs": [
    {
     "name": "stdout",
     "output_type": "stream",
     "text": [
      "True\n",
      "100 \n",
      "100\n",
      "True\n"
     ]
    }
   ],
   "source": [
    "import numbers\n",
    "\n",
    "class INT(numbers.Integral) :\n",
    "    \n",
    "    def __init__(self,num) :\n",
    "        self.num = num\n",
    "        \n",
    "    def __str__(self) :\n",
    "        return \"%s \" % self.num \n",
    "  \n",
    "          \n",
    "    __abs__ = int.__abs__\n",
    "    __add__= int.__add__\n",
    "    __and__ = int.__and__\n",
    "    __ceil__ = ''\n",
    "    # == 연산자 오버라이딩 구현\n",
    "    def __eq__(self,int_obj) :\n",
    "        return self.num == int_obj\n",
    "    __floor__ = ''\n",
    "    __floordiv__ = int.__floordiv__\n",
    "    __int__ = ''\n",
    "    __invert__ = ''\n",
    "    __le__ = ''\n",
    "    __lshift__ = ''\n",
    "    __lt__ = ''\n",
    "    __mod__ = ''\n",
    "    __mul__ = ''\n",
    "    __neg__ = ''\n",
    "    __or__ = '' \n",
    "    __pos__ = ''\n",
    "    __pow__ = ''\n",
    "    __radd__ = '' \n",
    "    __rand__ = ''\n",
    "    __rfloordiv__= ''\n",
    "    __rlshift__= ''\n",
    "    __rmod__= ''\n",
    "    __rmul__= ''\n",
    "    __ror__= ''\n",
    "    __round__= ''\n",
    "    __rpow__= ''\n",
    "    __rrshift__= ''\n",
    "    __rshift__= ''\n",
    "    __rtruediv__= ''\n",
    "    __rxor__= ''\n",
    "    __truediv__= ''\n",
    "    __trunc__= ''\n",
    "    __xor__ = ''\n",
    "    \n",
    "\n",
    "i = INT(100)\n",
    "print(isinstance(i, numbers.Integral))\n",
    "\n",
    "print(i)\n",
    "print(i.num)\n",
    "\n",
    "print(i == 100)"
   ]
  },
  {
   "cell_type": "markdown",
   "metadata": {},
   "source": [
    "#### 내장 타입 int 클래스와 사용자 정의 INT 클래스간의 값을 비교\n",
    "    \n",
    "    INT 사용자 클래스 내의  __eq__ 메소드를 구현하면 내부적으로 == 연산자가 처리됨\n",
    "    \n",
    "    # == 연산자 오버라이딩 구현\n",
    "    def __eq__(self,int_obj) :\n",
    "        return self.num == int_obj\n"
   ]
  },
  {
   "cell_type": "code",
   "execution_count": 14,
   "metadata": {
    "collapsed": false
   },
   "outputs": [
    {
     "name": "stdout",
     "output_type": "stream",
     "text": [
      "100\n",
      "<class '__main__.INT'>\n",
      "<class 'int'>\n",
      "True\n",
      "True\n",
      "True\n"
     ]
    }
   ],
   "source": [
    "import numbers\n",
    "\n",
    "i = INT(100)\n",
    "\n",
    "ii = int(100)\n",
    "print(ii)\n",
    "\n",
    "print(type(i))\n",
    "print(type(ii))\n",
    "\n",
    "# 추상클래스의 subclass 여부 확인 \n",
    "print(issubclass(type(i), numbers.Integral))\n",
    "print(issubclass(type(ii), numbers.Integral))\n",
    "print(i == ii)"
   ]
  },
  {
   "cell_type": "markdown",
   "metadata": {},
   "source": [
    "### 2.3  다중상속 \n",
    "\n",
    "    파이썬은 부모클래스가 여러 개 정의가 가능.\n",
    "    \n",
    "    파이썬에서는 mro 메소드가 있어 클래스에서 참조하는 순서를 정의하는 방법이 있어 다중상속도 이 순서 대로 메소드들을 찾아 처리함\n",
    "    \n",
    "    "
   ]
  },
  {
   "cell_type": "markdown",
   "metadata": {},
   "source": [
    "#### MRO 다중 상속 클래스 읽는 순서 \n"
   ]
  },
  {
   "cell_type": "code",
   "execution_count": 28,
   "metadata": {
    "collapsed": false
   },
   "outputs": [
    {
     "name": "stdout",
     "output_type": "stream",
     "text": [
      "Method Resolution Order (MRO) [<class '__main__.CC'>, <class '__main__.AA'>, <class '__main__.BB'>, <class 'object'>]\n",
      " class AA\n",
      "Dahl\n"
     ]
    }
   ],
   "source": [
    "class AA :\n",
    "    def __init__(self, name) :\n",
    "        print(\" class AA\")\n",
    "        self.name = name\n",
    "\n",
    "class BB :\n",
    "     def __init__(self, name) :\n",
    "        print(\" class BB\")\n",
    "        self.name = name\n",
    "\n",
    "class CC(AA, BB) :\n",
    "    pass\n",
    "\n",
    "print(\"Method Resolution Order (MRO)\", CC.mro())\n",
    "cc = CC(\"Dahl\")\n",
    "\n",
    "print(cc.name)"
   ]
  },
  {
   "cell_type": "markdown",
   "metadata": {},
   "source": [
    "#### 다중 상속 :  __init__ 메소드 파라미터가 클래스별로 다른 경우  \n",
    "\n",
    "    super() 함수보다는 명확히 class 이름을 지정해서 __init__ 처리해야 __init__ 파라미터가 다른 경우에 명확히 처리가 가능함\n",
    "    \n",
    "    super() 처리시 __init__ 메소드 파라미터 age에 대해 에러가 발생함 \n"
   ]
  },
  {
   "cell_type": "code",
   "execution_count": 15,
   "metadata": {
    "collapsed": false
   },
   "outputs": [],
   "source": [
    "class AA :\n",
    "    def __init__(self, name) :\n",
    "        print(\" class AA\")\n",
    "        self.name = name\n",
    "\n",
    "class BB :\n",
    "     def __init__(self, name, age) :\n",
    "        print(\" class BB\")\n",
    "        self.name = name\n",
    "        self.age = age\n",
    "\n",
    "class CC(AA, BB) :\n",
    "    def __init__(self,name, age=None) :\n",
    "        if age == None :\n",
    "            print(super(AA,self))\n",
    "            AA.__init__(self,name)\n",
    "        else :\n",
    "            print(super(BB,self))\n",
    "            BB.__init__(self,name,age)\n"
   ]
  },
  {
   "cell_type": "markdown",
   "metadata": {},
   "source": [
    "####  다중상속시 subclass 여부 확인 \n"
   ]
  },
  {
   "cell_type": "code",
   "execution_count": 16,
   "metadata": {
    "collapsed": false
   },
   "outputs": [
    {
     "name": "stdout",
     "output_type": "stream",
     "text": [
      "True\n",
      "True\n"
     ]
    }
   ],
   "source": [
    "print( issubclass(CC, AA))\n",
    "print( issubclass(CC, BB))"
   ]
  },
  {
   "cell_type": "markdown",
   "metadata": {},
   "source": [
    "####  AA class __init__ 처리"
   ]
  },
  {
   "cell_type": "code",
   "execution_count": 18,
   "metadata": {
    "collapsed": false
   },
   "outputs": [
    {
     "name": "stdout",
     "output_type": "stream",
     "text": [
      "[<class '__main__.CC'>, <class '__main__.AA'>, <class '__main__.BB'>, <class 'object'>]\n",
      "<super: <class 'AA'>, <CC object>>\n",
      " class AA\n",
      "Dahl\n"
     ]
    }
   ],
   "source": [
    "print(CC.mro())\n",
    "cc = CC(\"Dahl\")\n",
    "\n",
    "print(cc.name)\n"
   ]
  },
  {
   "cell_type": "markdown",
   "metadata": {},
   "source": [
    "####  BB class init 처리 "
   ]
  },
  {
   "cell_type": "code",
   "execution_count": 40,
   "metadata": {
    "collapsed": false
   },
   "outputs": [
    {
     "name": "stdout",
     "output_type": "stream",
     "text": [
      "Method Resolution Order (MRO) [<class '__main__.CC'>, <class '__main__.AA'>, <class '__main__.BB'>, <class 'object'>]\n",
      "<super: <class 'BB'>, <CC object>>\n",
      " class BB\n",
      "Dahl\n",
      "30\n"
     ]
    }
   ],
   "source": [
    "print(\"Method Resolution Order (MRO)\", CC.mro())\n",
    "cc = CC(\"Dahl\", 30)\n",
    "\n",
    "print(cc.name)\n",
    "print(cc.age)"
   ]
  },
  {
   "cell_type": "markdown",
   "metadata": {},
   "source": [
    "### 2.4 정보은닉 : 캡슐화 \n",
    "\n",
    "    파이썬은 모든 것이 publi으로 제공되므로 정보은닉을 위해 property나 descriptor를 사용\n",
    "    \n",
    "    이름 명명규칙을 수립해서 관행상으로 이름으로 속성을 접근하지 않도록 처리 \n",
    "    "
   ]
  },
  {
   "cell_type": "markdown",
   "metadata": {},
   "source": [
    "#### _속성명으로 관행적인 접근 및 getter, setter 메소드로 보호 하기 \n",
    "\n",
    "    _속성명은 관행상 접근을 보호하기 위해 사용하므로 이런 속성이나 메소드가 있을 경우 수정하지 않도록 해야 함\n",
    "    \n",
    "    파이썬에서는 getter/setter 메소드 사용보다는 property 사용을 권고함\n",
    "    \n",
    "    "
   ]
  },
  {
   "cell_type": "code",
   "execution_count": 16,
   "metadata": {
    "collapsed": false
   },
   "outputs": [
    {
     "name": "stdout",
     "output_type": "stream",
     "text": [
      "Dahl\n",
      "None\n",
      "Moon\n",
      "Moon\n"
     ]
    }
   ],
   "source": [
    "class DDD :\n",
    "    def __init__(self,name) :\n",
    "        self._name = name\n",
    "        \n",
    "    def getName(self) :\n",
    "        return self._name\n",
    "    \n",
    "    def setName(self, value) :\n",
    "        self._name = value\n",
    "        \n",
    "d = DDD(\"Dahl\")\n",
    "print(d.getName())\n",
    "print(d.setName(\"Moon\"))\n",
    "print(d.getName())\n",
    "\n",
    "# 직접접근\n",
    "print(d._name)"
   ]
  },
  {
   "cell_type": "markdown",
   "metadata": {},
   "source": [
    "#### property와 mangling을 이용한 정보 은닉"
   ]
  },
  {
   "cell_type": "code",
   "execution_count": 2,
   "metadata": {
    "collapsed": false
   },
   "outputs": [
    {
     "name": "stdout",
     "output_type": "stream",
     "text": [
      "Dahl\n",
      "Moon\n"
     ]
    }
   ],
   "source": [
    "class Person :\n",
    "    def __init__(self, name) :\n",
    "        self.__name = name\n",
    "        \n",
    "    @property\n",
    "    def name(self) :\n",
    "        return self.__name\n",
    "    @name.setter\n",
    "    def name(self,value) :\n",
    "        self.__name = value\n",
    "    \n",
    "p = Person(\"Dahl\")\n",
    "print(p.name)\n",
    "\n",
    "p.name = \"Moon\"\n",
    "print(p.name)"
   ]
  },
  {
   "cell_type": "markdown",
   "metadata": {
    "collapsed": true
   },
   "source": [
    "#### 맹글링도 내부적으로 이름 변경이지만 "
   ]
  },
  {
   "cell_type": "code",
   "execution_count": 3,
   "metadata": {
    "collapsed": false
   },
   "outputs": [
    {
     "name": "stdout",
     "output_type": "stream",
     "text": [
      "Moon\n"
     ]
    }
   ],
   "source": [
    "print(p._Person__name)"
   ]
  },
  {
   "cell_type": "markdown",
   "metadata": {},
   "source": [
    "###  2.5 부모클래스 멤버를 맹글링 처리시 자식 클래스에서 참조시 전체 이름으로 접근해야 함\n"
   ]
  },
  {
   "cell_type": "code",
   "execution_count": 20,
   "metadata": {
    "collapsed": false
   },
   "outputs": [
    {
     "name": "stdout",
     "output_type": "stream",
     "text": [
      "True\n"
     ]
    }
   ],
   "source": [
    "class Parents :\n",
    "    def __init__(self, name) :\n",
    "        self.name = name\n",
    "        \n",
    "    def __getName(self) :\n",
    "        return self.name\n",
    "    \n",
    "class Child(Parents) :\n",
    "    pass\n",
    "\n",
    "c = Child(\"Dahl\")\n",
    "print(isinstance(c, Parents))\n"
   ]
  },
  {
   "cell_type": "markdown",
   "metadata": {},
   "source": [
    "#### mangling 처리되어 메소드명으로 접근 불가"
   ]
  },
  {
   "cell_type": "code",
   "execution_count": 22,
   "metadata": {
    "collapsed": false
   },
   "outputs": [
    {
     "name": "stdout",
     "output_type": "stream",
     "text": [
      "Dahl\n"
     ]
    }
   ],
   "source": [
    "# 맹글링되므로 전체 이름으로 접근\n",
    "print(Parents._Parents__getName(c))\n"
   ]
  },
  {
   "cell_type": "markdown",
   "metadata": {},
   "source": [
    "### 2.6 디스크립터 이용하기 \n",
    "\n",
    "    descriptor 클래스를 별도로 정의하고 실제 생성하는 클래스 내에 변수에 \n",
    "    \n",
    "    디스크립터 인스턴스를 생성해서 변수명으로 값을 처리할 수 있도록 체계화"
   ]
  },
  {
   "cell_type": "markdown",
   "metadata": {},
   "source": [
    "#### 디스크립터 클래스 생성 : 여러 변수들을 생성할 수 있도록 정의"
   ]
  },
  {
   "cell_type": "code",
   "execution_count": null,
   "metadata": {
    "collapsed": true
   },
   "outputs": [],
   "source": [
    "class descriptor :\n",
    "    def __init__(self,name,value) :\n",
    "        self.__name = \"_\"+name\n",
    "        self.__value = value\n",
    "        \n",
    "    def __get__(self, other, owner) :\n",
    "        return getattr(other,self.__name, self.__value)\n",
    "    \n",
    "    def __set__(self, other, value) :\n",
    "        setattr(other,self.__name, value)"
   ]
  },
  {
   "cell_type": "markdown",
   "metadata": {},
   "source": [
    "#### 실제 클래스 및 인스턴스 만들고 변경사항 확인 "
   ]
  },
  {
   "cell_type": "code",
   "execution_count": 23,
   "metadata": {
    "collapsed": false
   },
   "outputs": [
    {
     "name": "stdout",
     "output_type": "stream",
     "text": [
      "Dahl\n",
      "age\n",
      "{'_age': 'age', '_name': 'Dahl'}\n"
     ]
    }
   ],
   "source": [
    "\n",
    "class Per :\n",
    "    name = descriptor(\"name\",\"\")\n",
    "    age = descriptor(\"age\",\"\")\n",
    "    \n",
    "p = Per()\n",
    "p.name = \"Dahl\"\n",
    "print(p.name)\n",
    "\n",
    "p.age = \"age\"\n",
    "print(p.age)\n",
    "\n",
    "print(p.__dict__)"
   ]
  },
  {
   "cell_type": "markdown",
   "metadata": {},
   "source": [
    "## 3. 다형성 개념 \n",
    "\n",
    "    다형성 개념이란 어떤 한 요소에 여러 개념을 넣어 놓는 것으로 \n",
    "    \n",
    "    일반적으로 오버라이딩(같은 이름의 메소드가 여러 클래스에서     다른 기능을 하는 것)이나 \n",
    "    오버로딩(같은 이름의 메소드가 인자의 갯수나 자료형에 따라서 다른 기능을 하는 것)을 의미한다. \n",
    "    \n",
    "    다형 개념을 통해서 프로그램 안의 객체 간의 관계를 조직적으로 나타낼 수 있다.\n"
   ]
  },
  {
   "cell_type": "markdown",
   "metadata": {},
   "source": [
    "### 3.1 오버라이딩 : 자식클래스에 별도 메소드 정의\n",
    "\n",
    "    상속을 받은 자식 클래스에서 부모 클래스 내의 초기화 메소드를 오버라이딩 처리를 하면 \n",
    "    자식 클래스에서 초기화는 항상 자신이 지정된 것을 사용함\n",
    "    \n",
    "    "
   ]
  },
  {
   "cell_type": "markdown",
   "metadata": {},
   "source": [
    "#### 파이썬에서 오버라이딩이란 ?\n",
    "\n",
    "      파이썬은 클래스 단위로 멤버를 관리하는 Namespace가 존재하므로 상속을 받은 자식클래스에서 메소드가 구현되면 부모클래스를 참조하지\n",
    "      \n",
    "      않음\n",
    "      \n",
    "      파이썬 namespace 검색 기준은 insetance> child class > parents class(MRO 기준) > 최상위 object 클래스 \n",
    "      \n",
    "      순으로 검색해서 멤버를 접근함 "
   ]
  },
  {
   "cell_type": "code",
   "execution_count": 2,
   "metadata": {
    "collapsed": false
   },
   "outputs": [
    {
     "name": "stdout",
     "output_type": "stream",
     "text": [
      "dahl\n",
      "{'name': 'dahl'}\n",
      "moon 30\n",
      "{'age': 30, 'name': 'moon'}\n"
     ]
    }
   ],
   "source": [
    "class A :\n",
    "    def __init__(self,name) :\n",
    "        self.name = name\n",
    "        \n",
    "class B(A) :\n",
    "    def __init__(self,name,age) :\n",
    "        self.name = name\n",
    "        self.age = age\n",
    "        \n",
    "a = A(\"dahl\")\n",
    "\n",
    "b = B(\"moon\",30)\n",
    "# A class에서 만든 a 인스턴스 내의 name을 호출\n",
    "print(a.name)\n",
    "print(a.__dict__)\n",
    "\n",
    "# B class에서 만든 b 인스턴스 내의 name을 호출\n",
    "print(b.name, b.age)\n",
    "print(b.__dict__)\n",
    "        "
   ]
  },
  {
   "cell_type": "markdown",
   "metadata": {},
   "source": [
    "### 3.2 오버라이딩 : 부모클래스에 메소드  재사용하고 나머지 추가 정의\n",
    "\n",
    "    상속을 받은 자식 클래스에서 부모 클래스 내의 초기화 메소드를 오버라이딩하면서 부모 클래스의 메소드를 재사용하면서 \n",
    "    자식 클래스에서 초기화를 정의\n",
    "    \n",
    "    super().부모클래스 메소드명(파라미터)  : 내장함수를 사용하는 것은 \n",
    "                                     부모클래스명.부모클래스메소드명(자식인스턴스, 파라미터...) 처리와 같다\n",
    "    "
   ]
  },
  {
   "cell_type": "code",
   "execution_count": 22,
   "metadata": {
    "collapsed": false
   },
   "outputs": [
    {
     "name": "stdout",
     "output_type": "stream",
     "text": [
      "dahl\n",
      "moon 30\n"
     ]
    }
   ],
   "source": [
    "class A :\n",
    "    def __init__(self,name) :\n",
    "        self.name = name\n",
    "        \n",
    "class B(A) :\n",
    "    def __init__(self,name,age) :\n",
    "        \n",
    "        \n",
    "        super().__init__(name)\n",
    "        self.age = age\n",
    "        \n",
    "a = A(\"dahl\")\n",
    "\n",
    "b = B(\"moon\",30)\n",
    "\n",
    "print(a.name)\n",
    "print(b.name, b.age)\n",
    "        "
   ]
  },
  {
   "cell_type": "markdown",
   "metadata": {},
   "source": [
    "### 3,3 duck typing 패턴 이해하기\n",
    "\n",
    "    여러 클래스에서 동일한 메소드를 처리할 경우 이를 하나의 인터페이스로 묶어 동일하게 처리하는 방법을 제공하는 패턴\n",
    "    함수로 인터페이스 제공"
   ]
  },
  {
   "cell_type": "code",
   "execution_count": 24,
   "metadata": {
    "collapsed": false
   },
   "outputs": [
    {
     "name": "stdout",
     "output_type": "stream",
     "text": [
      " Duck say\n",
      " Person say\n"
     ]
    }
   ],
   "source": [
    "#동일한 인터페이스를 위한 함수 제공\n",
    "def say(obj) :\n",
    "    return obj.say()\n",
    "\n",
    "# 클래스 정의\n",
    "\n",
    "class Duck :\n",
    "    def say(self) :\n",
    "        print(\" Duck say\")\n",
    "class Person :\n",
    "    def say(self) :\n",
    "        print(\" Person say\")\n",
    "        \n",
    "d = Duck()\n",
    "p = Person()\n",
    "\n",
    "say(d)\n",
    "say(p)"
   ]
  },
  {
   "cell_type": "markdown",
   "metadata": {},
   "source": [
    "### 3.4 Mixin \n",
    "\n",
    "    동일한 인터페이스를 상위 클래스로 지정하고 하위 클래스는 이 인터페이스를 사용만 하도록 하는 패턴\n",
    "    "
   ]
  },
  {
   "cell_type": "code",
   "execution_count": 26,
   "metadata": {
    "collapsed": false
   },
   "outputs": [
    {
     "name": "stdout",
     "output_type": "stream",
     "text": [
      "10\n",
      "HelloWorld !!!\n"
     ]
    }
   ],
   "source": [
    "# 상위 클래스로 지정\n",
    "# 주요 처리 메소드만 지정\n",
    "class Mixin :\n",
    "    def add(self) :\n",
    "        return self.x+ self.y\n",
    "    \n",
    "# 실제 실행할 클래스를 지정\n",
    "\n",
    "class num(Mixin) :\n",
    "    def __init__(self,x,y) :\n",
    "        self.x = x\n",
    "        self.y = y\n",
    "        \n",
    "class str_s(Mixin) :\n",
    "    def __init__(self,x,y) :\n",
    "        self.x = x\n",
    "        self.y = y\n",
    "        \n",
    "n = num(5,5)\n",
    "print(n.add())\n",
    "s = str_s(\"Hello\", \"World !!!\")\n",
    "print(s.add())"
   ]
  },
  {
   "cell_type": "markdown",
   "metadata": {},
   "source": [
    "## 4.  동적 바인딩\n",
    "\n",
    "    파이썬은 동적 바인딩을 기본으로 처리하는 프로그램 언어이다.\n",
    "    \n",
    "    동적 바이딩은 실행 시간 중에 일어나거나 실행 과정에서 변경될 수 있는 바인딩으로 컴파일 시간에 완료되어 \n",
    "    변화하지 않는 정적 바인딩과 대비되는 개념이다.\n",
    "    \n",
    "    동적 바인딩은 프로그램의 한 개체나 기호를 실행 과정에 여러 속성이나 연산에 바인딩함으로써 다형 개념을 실현한다.\n",
    "    "
   ]
  },
  {
   "cell_type": "markdown",
   "metadata": {},
   "source": [
    "#### 인스턴스 메소드를 동적으로 연결\n"
   ]
  },
  {
   "cell_type": "code",
   "execution_count": 45,
   "metadata": {
    "collapsed": false
   },
   "outputs": [
    {
     "name": "stdout",
     "output_type": "stream",
     "text": [
      "get Name Func\n",
      "dahl\n"
     ]
    }
   ],
   "source": [
    "class AD :\n",
    "    def __init__(self,name) :\n",
    "        self.name = name\n",
    "        \n",
    "\n",
    "def getName(self) :\n",
    "    print(\"get Name Func\")\n",
    "    return self.name\n",
    "\n",
    "AD.getName = getName\n",
    "\n",
    "ad = AD(\"dahl\")\n",
    "print(ad.getName())"
   ]
  },
  {
   "cell_type": "markdown",
   "metadata": {},
   "source": [
    "#### class method를 동적으로 추가 \n",
    "\n",
    "    class 메소드에서 인스턴스 속성을 사용하려면 인스턴스 정보도 넘겨야 함.\n",
    "    \n",
    "    "
   ]
  },
  {
   "cell_type": "code",
   "execution_count": 47,
   "metadata": {
    "collapsed": false
   },
   "outputs": [
    {
     "name": "stdout",
     "output_type": "stream",
     "text": [
      "get Name Func\n",
      "dahl\n"
     ]
    }
   ],
   "source": [
    "class AD :\n",
    "    def __init__(self,name) :\n",
    "        self.name = name\n",
    "        \n",
    "\n",
    "def getName(cls,self) :\n",
    "    print(\"get Name Func\")\n",
    "    return self.name\n",
    "\n",
    "AD.getName = classmethod(getName)\n",
    "\n",
    "ad = AD(\"dahl\")\n",
    "print(ad.getName(ad))"
   ]
  },
  {
   "cell_type": "markdown",
   "metadata": {},
   "source": [
    "## 5. protocol interface \n",
    "\n",
    "    파이썬에서는 상속이 없어도 프로토콜 인터페이스가 같으면 같은 클래스로 처리하도록 설계가 되어있음\n",
    "    \n",
    "    내장 데이터 타입은 collections.abc 추상화 클래스를 상속하지 않지만 내부적으로 issubclass, isinstance로 클래스간의 관계를 \n",
    "    \n",
    "    확인할 수 있음\n",
    "    \n",
    "    "
   ]
  },
  {
   "cell_type": "markdown",
   "metadata": {},
   "source": [
    "#### 문자열 클래스 상속확인 "
   ]
  },
  {
   "cell_type": "code",
   "execution_count": 67,
   "metadata": {
    "collapsed": false
   },
   "outputs": [
    {
     "name": "stdout",
     "output_type": "stream",
     "text": [
      "(<class 'object'>,)\n"
     ]
    }
   ],
   "source": [
    "import collections.abc as cols\n",
    "\n",
    "print(str.__bases__)"
   ]
  },
  {
   "cell_type": "markdown",
   "metadata": {},
   "source": [
    "#### 상속은 object만 하지만 collections.abc.Sequence 추상클래스를 상속한 것 처럼 처리\n"
   ]
  },
  {
   "cell_type": "code",
   "execution_count": 69,
   "metadata": {
    "collapsed": false
   },
   "outputs": [
    {
     "name": "stdout",
     "output_type": "stream",
     "text": [
      "True\n",
      "True\n"
     ]
    }
   ],
   "source": [
    "import collections.abc as cols\n",
    "\n",
    "print(issubclass(str, object))\n",
    "print(issubclass(str, cols.Sequence))"
   ]
  },
  {
   "cell_type": "markdown",
   "metadata": {},
   "source": [
    "#### 사용자 정의 클래스 정의 후 체크\n",
    "\n",
    "    추상클래스의 subclass는 아니지만 실제 seqence 타입이 아니지만 유사하게 처리가 가능 \n"
   ]
  },
  {
   "cell_type": "code",
   "execution_count": 81,
   "metadata": {
    "collapsed": false
   },
   "outputs": [
    {
     "name": "stdout",
     "output_type": "stream",
     "text": [
      "True\n",
      "False\n"
     ]
    }
   ],
   "source": [
    "import collections.abc as cols\n",
    "\n",
    "class SEQ :\n",
    "    def __init__(self,seq) :\n",
    "        self._seq = seq\n",
    "        \n",
    "    def __len__(self) :\n",
    "        return len(self._seq)\n",
    "    \n",
    "    def __getitem__(self, pos) :\n",
    "        return self._seq[pos]\n",
    "    \n",
    "    def __iter__(self) :\n",
    "        return iter(self._seq)\n",
    "    \n",
    "    count = str.count\n",
    "    index = str.index\n",
    "    __contains__ = str.__contains__\n",
    "    \n",
    "    \n",
    "print(issubclass(SEQ, object))\n",
    "print(issubclass(SEQ, cols.Sequence))\n",
    "    "
   ]
  },
  {
   "cell_type": "code",
   "execution_count": 82,
   "metadata": {
    "collapsed": false
   },
   "outputs": [
    {
     "name": "stdout",
     "output_type": "stream",
     "text": [
      "5\n",
      "h\n",
      "e\n",
      "l\n",
      "l\n",
      "o\n"
     ]
    }
   ],
   "source": [
    "s = SEQ(\"hello\")\n",
    "print(len(s))\n",
    "\n",
    "for i in s :\n",
    "    print(i)"
   ]
  },
  {
   "cell_type": "markdown",
   "metadata": {},
   "source": [
    "## 6. inspect module을 이용해서 클래스 정보 확인하기 \n",
    "\n",
    "\n",
    "    inspect.getmembers(obj[, predicate]  : 객체의 멤버를 튜플(키와 값)로 표시\n",
    "    inspect.isclass(obj)                 : Obj에 클래스가 들어가면 True이고 나머지는 False\n",
    "    inspect.ismethod(obj)                : Obj가 메소드 여부 \n",
    "    inspect.isabstract(obj)              : Obj가 추상클래스 여부\n",
    "\n",
    " \n",
    "\n",
    "\n"
   ]
  },
  {
   "cell_type": "code",
   "execution_count": 65,
   "metadata": {
    "collapsed": false
   },
   "outputs": [
    {
     "name": "stdout",
     "output_type": "stream",
     "text": [
      "True\n",
      "True\n",
      "[('__class__', <class '__main__.AD'>), ('__delattr__', <method-wrapper '__delattr__' of AD object at 0x0000000005171630>), ('__dict__', {'name': 'dahl'}), ('__dir__', <built-in method __dir__ of AD object at 0x0000000005171630>), ('__doc__', None), ('__eq__', <method-wrapper '__eq__' of AD object at 0x0000000005171630>), ('__format__', <built-in method __format__ of AD object at 0x0000000005171630>), ('__ge__', <method-wrapper '__ge__' of AD object at 0x0000000005171630>), ('__getattribute__', <method-wrapper '__getattribute__' of AD object at 0x0000000005171630>), ('__gt__', <method-wrapper '__gt__' of AD object at 0x0000000005171630>), ('__hash__', <method-wrapper '__hash__' of AD object at 0x0000000005171630>), ('__init__', <bound method AD.__init__ of <__main__.AD object at 0x0000000005171630>>), ('__le__', <method-wrapper '__le__' of AD object at 0x0000000005171630>), ('__lt__', <method-wrapper '__lt__' of AD object at 0x0000000005171630>), ('__module__', '__main__'), ('__ne__', <method-wrapper '__ne__' of AD object at 0x0000000005171630>), ('__new__', <built-in method __new__ of type object at 0x000000007743DFD0>), ('__reduce__', <built-in method __reduce__ of AD object at 0x0000000005171630>), ('__reduce_ex__', <built-in method __reduce_ex__ of AD object at 0x0000000005171630>), ('__repr__', <method-wrapper '__repr__' of AD object at 0x0000000005171630>), ('__setattr__', <method-wrapper '__setattr__' of AD object at 0x0000000005171630>), ('__sizeof__', <built-in method __sizeof__ of AD object at 0x0000000005171630>), ('__str__', <method-wrapper '__str__' of AD object at 0x0000000005171630>), ('__subclasshook__', <built-in method __subclasshook__ of type object at 0x00000000041717D8>), ('__weakref__', None), ('getName', <bound method getName of <class '__main__.AD'>>), ('name', 'dahl')]\n"
     ]
    }
   ],
   "source": [
    "import inspect\n",
    "\n",
    "class AD :\n",
    "    def __init__(self,name) :\n",
    "        self.name = name\n",
    "        \n",
    "\n",
    "def getName(cls,self) :\n",
    "    print(\"get Name Func\")\n",
    "    return self.name\n",
    "\n",
    "AD.getName = classmethod(getName)\n",
    "\n",
    "ad = AD(\"dahl\")\n",
    "\n",
    "print(inspect.isclass(AD))     \n",
    "print(inspect.ismethod(ad.getName))   \n",
    "\n",
    "\n",
    "print(inspect.getmembers(ad))"
   ]
  },
  {
   "cell_type": "code",
   "execution_count": 66,
   "metadata": {
    "collapsed": false
   },
   "outputs": [
    {
     "name": "stdout",
     "output_type": "stream",
     "text": [
      "True\n"
     ]
    }
   ],
   "source": [
    "import inspect\n",
    "import numbers\n",
    "\n",
    "print(inspect.isabstract(numbers.Integral))    "
   ]
  },
  {
   "cell_type": "markdown",
   "metadata": {
    "collapsed": true
   },
   "source": [
    "# 파이썬 메타클래스 이해하기\n",
    "\n",
    "\n",
    "    파이썬 클래스는 누가 만들까?\n",
    "    \n",
    "    파이썬에서는 클래스를 만드는 메타 클래스를 제공한다.\n",
    "    \n",
    "    type 클래스가 기본 메타클래스이며 이를 사용자 정의를 위한 메타 클래스도 만들 수 있다.\n",
    "    \n",
    "    type 클래스로 추상화 메타클래스도 만들고 이를 기반으로 추상화 클래스도 작성됨\n",
    "    \n",
    "    "
   ]
  },
  {
   "cell_type": "markdown",
   "metadata": {},
   "source": [
    "## 사용자 정의 : Meta class를 만들고  클래스를 생성하기 \n",
    "\n",
    "    메타 클래스는 실제 클래스를 만드는 클래스이다. \n",
    "    메타 클래스의 인스턴스는 실제 인스턴스를 만드는 클래스.\n",
    "    "
   ]
  },
  {
   "cell_type": "code",
   "execution_count": 23,
   "metadata": {
    "collapsed": false
   },
   "outputs": [],
   "source": [
    "class MyMeta(type):\n",
    "    # new 파라미터는 자기클래스, 새로운 클래스명, 상속, namespace\n",
    "    def __new__(meta, name, bases, dct):\n",
    "        print('-----------------------------------')\n",
    "        print(\"Allocating memory for class\", name)\n",
    "        print(meta)\n",
    "        print(bases)\n",
    "        print(dct)\n",
    "        return super(MyMeta, meta).__new__(meta, name, bases, dct)\n",
    "    \n",
    "    # 새로 만들어진 클래스 초기화\n",
    "    # __init__ 파라미터 : 새로운 클래스, 클래스명, 상속, namespace \n",
    "    def __init__(cls, name, bases, dct):\n",
    "        print('-----------------------------------')\n",
    "        print(\"Initializing class\", name)\n",
    "        print(cls)\n",
    "        print(bases)\n",
    "        print(dct)\n",
    "        super(MyMeta, cls).__init__(name, bases, dct)\n",
    "\n"
   ]
  },
  {
   "cell_type": "code",
   "execution_count": 24,
   "metadata": {
    "collapsed": false
   },
   "outputs": [
    {
     "name": "stdout",
     "output_type": "stream",
     "text": [
      "-----------------------------------\n",
      "Allocating memory for class MyKlass\n",
      "<class '__main__.MyMeta'>\n",
      "(<class 'object'>,)\n",
      "{}\n",
      "-----------------------------------\n",
      "Initializing class MyKlass\n",
      "<class '__main__.MyKlass'>\n",
      "(<class 'object'>,)\n",
      "{}\n",
      "<class '__main__.MyKlass'>\n",
      "<__main__.MyKlass object at 0x0000000004E22D68>\n"
     ]
    }
   ],
   "source": [
    "# MyKlass를 생성해서 MyKlass 변수에 할당\n",
    "MyKlass = MyMeta.__new__(MyMeta, 'MyKlass', (object,), {})\n",
    "\n",
    "# MyKlass를 초기화 \n",
    "MyMeta.__init__(MyKlass, 'MyKlass', (object,), {})\n",
    "\n",
    "print(MyKlass)\n",
    "\n",
    "# 인스턴스 생성 \n",
    "myi = MyKlass() \n",
    "print(myi)"
   ]
  },
  {
   "cell_type": "markdown",
   "metadata": {},
   "source": [
    "###  메타클래스를 변경하기 "
   ]
  },
  {
   "cell_type": "code",
   "execution_count": 24,
   "metadata": {
    "collapsed": false
   },
   "outputs": [
    {
     "name": "stdout",
     "output_type": "stream",
     "text": [
      "-----------------------------------\n",
      "Allocating memory for class MyKlass\n",
      "<class '__main__.MyMeta'>\n",
      "(<class 'object'>,)\n",
      "{'__qualname__': 'MyKlass', 'barattr': 2, 'foo': <function MyKlass.foo at 0x0000000005156BF8>, '__module__': '__main__'}\n",
      "-----------------------------------\n",
      "Initializing class MyKlass\n",
      "<class '__main__.MyKlass'>\n",
      "(<class 'object'>,)\n",
      "{'__qualname__': 'MyKlass', 'barattr': 2, 'foo': <function MyKlass.foo at 0x0000000005156BF8>, '__module__': '__main__'}\n",
      "<__main__.MyKlass object at 0x0000000004EDA9B0>\n",
      "hello foo\n",
      "<class '__main__.MyMeta'>\n",
      "True\n"
     ]
    }
   ],
   "source": [
    "\n",
    "class MyKlass(object, metaclass=MyMeta):\n",
    "  \n",
    "\n",
    "    def foo(self, param):\n",
    "        return \"hello \" + param\n",
    "\n",
    "    barattr = 2\n",
    "    \n",
    "c = MyKlass()\n",
    "\n",
    "print(c)\n",
    "print(c.foo(\"foo\"))\n",
    "\n",
    "print(type(MyKlass))\n",
    "\n",
    "# MyMeta 에 의해 만들어진 클래스로 인지함\n",
    "\n",
    "print(isinstance(MyKlass, MyMeta))"
   ]
  },
  {
   "cell_type": "markdown",
   "metadata": {},
   "source": [
    "### type 클래스로 클래스 만들기 \n",
    "\n",
    "\n",
    "    파이썬 최상위 메타클래스는 type이고 모든 클래스(추상화 클래스 포함)는 type에 의해 만들어짐\n",
    "    "
   ]
  },
  {
   "cell_type": "code",
   "execution_count": 25,
   "metadata": {
    "collapsed": false
   },
   "outputs": [
    {
     "name": "stdout",
     "output_type": "stream",
     "text": [
      "<class '__main__.MyKlass'>\n",
      "<__main__.MyKlass object at 0x0000000004E22C18>\n"
     ]
    }
   ],
   "source": [
    "MyKlass_ = type('MyKlass', (object,), {})\n",
    "\n",
    "print(MyKlass_)\n",
    "\n",
    "my = type.__call__(MyKlass_)\n",
    "print(my)\n"
   ]
  },
  {
   "cell_type": "code",
   "execution_count": null,
   "metadata": {
    "collapsed": true
   },
   "outputs": [],
   "source": []
  },
  {
   "cell_type": "markdown",
   "metadata": {},
   "source": [
    "### type class.__call__ 로 클래스  만들기 \n",
    "\n",
    "\n",
    "      type.__call__(type, 'MyKlass', (object,), {})\n",
    "      "
   ]
  },
  {
   "cell_type": "code",
   "execution_count": 26,
   "metadata": {
    "collapsed": false
   },
   "outputs": [
    {
     "name": "stdout",
     "output_type": "stream",
     "text": [
      "<class '__main__.MyKlass'>\n",
      "<__main__.MyKlass object at 0x0000000004E22E80>\n"
     ]
    }
   ],
   "source": [
    "MyKlass = type.__call__(type, 'MyKlass', (object,), {})\n",
    "\n",
    "print(MyKlass)\n",
    "\n",
    "my = type.__call__(MyKlass)\n",
    "print(my)\n"
   ]
  },
  {
   "cell_type": "markdown",
   "metadata": {},
   "source": [
    "###  type class.__call__로 인스턴스 만들기\n",
    "\n",
    "    type.__call__(클래스명) 으로 실행하면 인스턴스가 만들어 진다\n",
    "    "
   ]
  },
  {
   "cell_type": "code",
   "execution_count": 28,
   "metadata": {
    "collapsed": false
   },
   "outputs": [
    {
     "name": "stdout",
     "output_type": "stream",
     "text": [
      "<__main__.MyKlass object at 0x00000000051640B8>\n",
      "{}\n"
     ]
    }
   ],
   "source": [
    "my = type.__call__(MyKlass)\n",
    "print(my)\n",
    "print(my.__dict__)"
   ]
  },
  {
   "cell_type": "code",
   "execution_count": null,
   "metadata": {
    "collapsed": true
   },
   "outputs": [],
   "source": []
  }
 ],
 "metadata": {
  "anaconda-cloud": {},
  "kernelspec": {
   "display_name": "Python [conda root]",
   "language": "python",
   "name": "conda-root-py"
  },
  "language_info": {
   "codemirror_mode": {
    "name": "ipython",
    "version": 3
   },
   "file_extension": ".py",
   "mimetype": "text/x-python",
   "name": "python",
   "nbconvert_exporter": "python",
   "pygments_lexer": "ipython3",
   "version": "3.5.2"
  }
 },
 "nbformat": 4,
 "nbformat_minor": 1
}
