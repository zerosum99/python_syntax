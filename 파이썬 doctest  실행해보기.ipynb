{
 "cells": [
  {
   "cell_type": "markdown",
   "metadata": {},
   "source": [
    "## doctest\n",
    "\n",
    "1. import doctest 해서 확인하기\n",
    "\n",
    "\n",
    "        함수나 클래스에 테스트를 위해 주석에 실제 실행되는 것을 표시한다.\n",
    "\n",
    "        이를 doctest 모듈을 import 해서 실행하면 처리결과를 보여준다.  \n",
    "\n",
    "        docstring을 작성할 때 반드시 '''  ''' 사이에 실제 실행될 로직을 작성해야 한다.\n",
    "\n",
    "    ''' \n",
    "    >>>\n",
    "    ...\n",
    "\n",
    "    '''\n",
    "    \n",
    "    \n",
    "2. 실제 실행해서 처리하기   \n",
    "\n",
    "        Python  -m doctest <path>/<script_name.py> -v\n",
    "    \n",
    "    \n",
    "        python3 -m doctest <path>/<script_name.py> -v\n"
   ]
  },
  {
   "cell_type": "code",
   "execution_count": 1,
   "metadata": {
    "collapsed": false
   },
   "outputs": [],
   "source": [
    "def add():\n",
    "    '''\n",
    "    >>> add(5,10)\n",
    "    15\n",
    "    '''\n",
    "    pass"
   ]
  },
  {
   "cell_type": "code",
   "execution_count": 2,
   "metadata": {
    "collapsed": false
   },
   "outputs": [],
   "source": [
    "def my_fun():\n",
    "    '''\n",
    "    >>> 2 + 3\n",
    "    6\n",
    "    '''\n",
    "    pass\n"
   ]
  },
  {
   "cell_type": "code",
   "execution_count": 3,
   "metadata": {
    "collapsed": false
   },
   "outputs": [
    {
     "name": "stdout",
     "output_type": "stream",
     "text": [
      "**********************************************************************\n",
      "File \"__main__\", line 3, in __main__.add\n",
      "Failed example:\n",
      "    add(5,10)\n",
      "Exception raised:\n",
      "    Traceback (most recent call last):\n",
      "      File \"C:\\ProgramData\\Anaconda3\\lib\\doctest.py\", line 1330, in __run\n",
      "        compileflags, 1), test.globs)\n",
      "      File \"<doctest __main__.add[0]>\", line 1, in <module>\n",
      "        add(5,10)\n",
      "    TypeError: add() takes 0 positional arguments but 2 were given\n",
      "**********************************************************************\n",
      "File \"__main__\", line 3, in __main__.my_fun\n",
      "Failed example:\n",
      "    2 + 3\n",
      "Expected:\n",
      "    6\n",
      "Got:\n",
      "    5\n",
      "**********************************************************************\n",
      "2 items had failures:\n",
      "   1 of   1 in __main__.add\n",
      "   1 of   1 in __main__.my_fun\n",
      "***Test Failed*** 2 failures.\n"
     ]
    },
    {
     "data": {
      "text/plain": [
       "TestResults(failed=2, attempted=2)"
      ]
     },
     "execution_count": 3,
     "metadata": {},
     "output_type": "execute_result"
    }
   ],
   "source": [
    "import doctest\n",
    "doctest.testmod()"
   ]
  },
  {
   "cell_type": "markdown",
   "metadata": {},
   "source": [
    "## 실행을 doctest로 처리하기\n"
   ]
  },
  {
   "cell_type": "code",
   "execution_count": 4,
   "metadata": {
    "collapsed": false
   },
   "outputs": [
    {
     "name": "stdout",
     "output_type": "stream",
     "text": [
      "Writing add.py\n"
     ]
    }
   ],
   "source": [
    "%%writefile add.py\n",
    "def add():\n",
    "    '''\n",
    "    >>> add(5,10)\n",
    "    15\n",
    "    '''\n",
    "    pass"
   ]
  },
  {
   "cell_type": "code",
   "execution_count": 5,
   "metadata": {
    "collapsed": false
   },
   "outputs": [
    {
     "name": "stdout",
     "output_type": "stream",
     "text": [
      "Trying:\n",
      "    add(5,10)\n",
      "Expecting:\n",
      "    15\n",
      "**********************************************************************\n",
      "File \"C:\\Users\\06411\\Documents\\GitHub\\python_syntax\\add.py\", line 3, in add.add\n",
      "Failed example:\n",
      "    add(5,10)\n",
      "Exception raised:\n",
      "    Traceback (most recent call last):\n",
      "      File \"C:\\ProgramData\\Anaconda3\\lib\\doctest.py\", line 1330, in __run\n",
      "        compileflags, 1), test.globs)\n",
      "      File \"<doctest add.add[0]>\", line 1, in <module>\n",
      "        add(5,10)\n",
      "    TypeError: add() takes 0 positional arguments but 2 were given\n",
      "1 items had no tests:\n",
      "    add\n",
      "**********************************************************************\n",
      "1 items had failures:\n",
      "   1 of   1 in add.add\n",
      "1 tests in 2 items.\n",
      "0 passed and 1 failed.\n",
      "***Test Failed*** 1 failures.\n"
     ]
    }
   ],
   "source": [
    "!python -m doctest add.py -v"
   ]
  },
  {
   "cell_type": "markdown",
   "metadata": {},
   "source": [
    "##  메인에 doctest 넣고 처리하기\n"
   ]
  },
  {
   "cell_type": "code",
   "execution_count": 6,
   "metadata": {
    "collapsed": false
   },
   "outputs": [
    {
     "name": "stdout",
     "output_type": "stream",
     "text": [
      "Trying:\n",
      "    3+2\n",
      "Expecting:\n",
      "    5\n",
      "ok\n",
      "Trying:\n",
      "    add(5,10)\n",
      "Expecting:\n",
      "    15\n",
      "**********************************************************************\n",
      "File \"__main__\", line 3, in __main__.add\n",
      "Failed example:\n",
      "    add(5,10)\n",
      "Exception raised:\n",
      "    Traceback (most recent call last):\n",
      "      File \"C:\\ProgramData\\Anaconda3\\lib\\doctest.py\", line 1330, in __run\n",
      "        compileflags, 1), test.globs)\n",
      "      File \"<doctest __main__.add[0]>\", line 1, in <module>\n",
      "        add(5,10)\n",
      "    TypeError: add() takes 0 positional arguments but 2 were given\n",
      "Trying:\n",
      "    2 + 3\n",
      "Expecting:\n",
      "    6\n",
      "**********************************************************************\n",
      "File \"__main__\", line 3, in __main__.my_fun\n",
      "Failed example:\n",
      "    2 + 3\n",
      "Expected:\n",
      "    6\n",
      "Got:\n",
      "    5\n",
      "1 items had no tests:\n",
      "    __main__\n",
      "1 items passed all tests:\n",
      "   1 tests in __main__.Foo\n",
      "**********************************************************************\n",
      "2 items had failures:\n",
      "   1 of   1 in __main__.add\n",
      "   1 of   1 in __main__.my_fun\n",
      "3 tests in 4 items.\n",
      "1 passed and 2 failed.\n",
      "***Test Failed*** 2 failures.\n"
     ]
    }
   ],
   "source": [
    "class Foo():\n",
    "    \"\"\"\n",
    "    >>> 3+2\n",
    "    5\n",
    "    \"\"\"\n",
    "    pass\n",
    "\n",
    "if __name__ in (\"__main__\", \"__console__\"):\n",
    "    import doctest\n",
    "    doctest.testmod(verbose=True)"
   ]
  },
  {
   "cell_type": "markdown",
   "metadata": {},
   "source": [
    "##  메인에 doctest 넣고 별도 모듈로 처리하기"
   ]
  },
  {
   "cell_type": "code",
   "execution_count": 7,
   "metadata": {
    "collapsed": false
   },
   "outputs": [
    {
     "name": "stdout",
     "output_type": "stream",
     "text": [
      "Writing Foo.py\n"
     ]
    }
   ],
   "source": [
    "%%writefile Foo.py\n",
    "class Foo():\n",
    "    \"\"\"\n",
    "    >>> 3+2\n",
    "    5\n",
    "    \"\"\"\n",
    "    pass\n",
    "\n",
    "if __name__ in (\"__main__\", \"__console__\"):\n",
    "    import doctest\n",
    "    doctest.testmod(verbose=True)"
   ]
  },
  {
   "cell_type": "code",
   "execution_count": 8,
   "metadata": {
    "collapsed": false
   },
   "outputs": [
    {
     "name": "stdout",
     "output_type": "stream",
     "text": [
      "Trying:\n",
      "    3+2\n",
      "Expecting:\n",
      "    5\n",
      "ok\n",
      "1 items had no tests:\n",
      "    __main__\n",
      "1 items passed all tests:\n",
      "   1 tests in __main__.Foo\n",
      "1 tests in 2 items.\n",
      "1 passed and 0 failed.\n",
      "Test passed.\n"
     ]
    }
   ],
   "source": [
    "%run Foo.py"
   ]
  },
  {
   "cell_type": "code",
   "execution_count": 11,
   "metadata": {
    "collapsed": false
   },
   "outputs": [
    {
     "name": "stdout",
     "output_type": "stream",
     "text": [
      "Overwriting unpredictable.py\n"
     ]
    }
   ],
   "source": [
    "%%writefile unpredictable.py\n",
    "class MyClass(object):\n",
    "    pass\n",
    "\n",
    "def unpredictable(obj):\n",
    "    \"\"\"Returns a new list containing obj.\n",
    "\n",
    "    >>> unpredictable(MyClass()) #doctest: +ELLIPSIS\n",
    "    [<__main__.MyClass object at 0x...>]\n",
    "    \"\"\"\n",
    "    return [obj]\n",
    "\n",
    "if __name__ in (\"__main__\", \"__console__\"):\n",
    "    import doctest\n",
    "    doctest.testmod(verbose=True)"
   ]
  },
  {
   "cell_type": "code",
   "execution_count": 12,
   "metadata": {
    "collapsed": false
   },
   "outputs": [
    {
     "name": "stdout",
     "output_type": "stream",
     "text": [
      "Trying:\n",
      "    unpredictable(MyClass()) #doctest: +ELLIPSIS\n",
      "Expecting:\n",
      "    [<__main__.MyClass object at 0x...>]\n",
      "ok\n",
      "2 items had no tests:\n",
      "    __main__\n",
      "    __main__.MyClass\n",
      "1 items passed all tests:\n",
      "   1 tests in __main__.unpredictable\n",
      "1 tests in 3 items.\n",
      "1 passed and 0 failed.\n",
      "Test passed.\n"
     ]
    }
   ],
   "source": [
    "%run  unpredictable.py"
   ]
  },
  {
   "cell_type": "markdown",
   "metadata": {},
   "source": [
    "##  예외 발생에 대한 테스트하기\n",
    "\n",
    "        테스트 발생할 것을 명확히 정리해야 비교해서 실패여부를 확인해 준다.\n",
    "        "
   ]
  },
  {
   "cell_type": "code",
   "execution_count": 15,
   "metadata": {
    "collapsed": false
   },
   "outputs": [
    {
     "name": "stdout",
     "output_type": "stream",
     "text": [
      "Overwriting this_raises.py\n"
     ]
    }
   ],
   "source": [
    "%%writefile this_raises.py\n",
    "def this_raises():\n",
    "    '''This function always raises an exception.\n",
    "\n",
    "    >>> this_raises()\n",
    "    Traceback (most recent call last):\n",
    "      File \"<stdin>\", line 1, in <module>\n",
    "      File \"/no/such/path/doctest_tracebacks.py\", line 14, in this_raises\n",
    "        raise RuntimeError('here is the error')\n",
    "    RuntimeError: here is the error\n",
    "    '''\n",
    "    raise RuntimeError('here is the error')\n",
    "    \n",
    "if __name__ in (\"__main__\", \"__console__\"):\n",
    "    import doctest\n",
    "    doctest.testmod(verbose=True)"
   ]
  },
  {
   "cell_type": "code",
   "execution_count": 16,
   "metadata": {
    "collapsed": false
   },
   "outputs": [
    {
     "name": "stdout",
     "output_type": "stream",
     "text": [
      "Trying:\n",
      "    this_raises()\n",
      "Expecting:\n",
      "    Traceback (most recent call last):\n",
      "      File \"<stdin>\", line 1, in <module>\n",
      "      File \"/no/such/path/doctest_tracebacks.py\", line 14, in this_raises\n",
      "        raise RuntimeError('here is the error')\n",
      "    RuntimeError: here is the error\n",
      "ok\n",
      "1 items had no tests:\n",
      "    __main__\n",
      "1 items passed all tests:\n",
      "   1 tests in __main__.this_raises\n",
      "1 tests in 2 items.\n",
      "1 passed and 0 failed.\n",
      "Test passed.\n"
     ]
    }
   ],
   "source": [
    "%run  this_raises.py"
   ]
  },
  {
   "cell_type": "markdown",
   "metadata": {},
   "source": [
    "##  라인 번호 추가\n",
    "\n",
    "1. cell에서 control + m 누른다 \n",
    "2. l 을 누른다.\n"
   ]
  },
  {
   "cell_type": "code",
   "execution_count": null,
   "metadata": {
    "collapsed": false
   },
   "outputs": [],
   "source": [
    "a = 100\n",
    "b = 200\n",
    "c = 400\n",
    "\n",
    "print(a)"
   ]
  },
  {
   "cell_type": "code",
   "execution_count": null,
   "metadata": {
    "collapsed": false
   },
   "outputs": [],
   "source": [
    "a = 100\n",
    "b = 200\n",
    "c = 400\n",
    "\n",
    "print(a)"
   ]
  },
  {
   "cell_type": "code",
   "execution_count": null,
   "metadata": {
    "collapsed": true
   },
   "outputs": [],
   "source": [
    "%magic"
   ]
  },
  {
   "cell_type": "code",
   "execution_count": null,
   "metadata": {
    "collapsed": true
   },
   "outputs": [],
   "source": []
  }
 ],
 "metadata": {
  "kernelspec": {
   "display_name": "Python 3",
   "language": "python",
   "name": "python3"
  },
  "language_info": {
   "codemirror_mode": {
    "name": "ipython",
    "version": 3
   },
   "file_extension": ".py",
   "mimetype": "text/x-python",
   "name": "python",
   "nbconvert_exporter": "python",
   "pygments_lexer": "ipython3",
   "version": "3.6.0"
  }
 },
 "nbformat": 4,
 "nbformat_minor": 2
}
