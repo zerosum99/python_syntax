{
 "cells": [
  {
   "cell_type": "code",
   "execution_count": 1,
   "metadata": {
    "collapsed": false
   },
   "outputs": [
    {
     "name": "stdout",
     "output_type": "stream",
     "text": [
      "Writing doc1.xml\n"
     ]
    }
   ],
   "source": [
    "%%writefile doc1.xml\n",
    "<?xml version=\"1.0\" ?>\n",
    "<doc>\n",
    "    <branch name=\"testing\" hash=\"1cdfo45c\">\n",
    "        text, sourece\n",
    "    </branch>\n",
    "     <branch name=\"release01\" hash=\"f200013e\">\n",
    "        <sub-branch name=\"subreleas01\">\n",
    "            xml, sgml\n",
    "        </sub-branch>\n",
    "    </branch>\n",
    "     <branch name=\"invalid\">\n",
    "    </branch>\n",
    "</doc>"
   ]
  },
  {
   "cell_type": "code",
   "execution_count": 7,
   "metadata": {
    "collapsed": false
   },
   "outputs": [
    {
     "name": "stdout",
     "output_type": "stream",
     "text": [
      "False\n",
      "False\n",
      "<method-wrapper '__getitem__' of xml.etree.ElementTree.Element object at 0x0000000004D5F818>\n",
      "<Element 'branch' at 0x0000000004D9C318>\n",
      "<Element 'branch' at 0x0000000004E15B88>\n",
      "<Element 'branch' at 0x0000000004E15D18>\n"
     ]
    }
   ],
   "source": [
    "import xml.etree.ElementTree as ET\n",
    "import collections.abc as cols\n",
    "\n",
    "tree = ET.ElementTree(file=\"doc1.xml\")\n",
    "root = tree.getroot()\n",
    "print(issubclass(type(root), cols.Iterable))\n",
    "print(issubclass(type(root), cols.Iterator))\n",
    "\n",
    "print(root.__getitem__)\n",
    "\n",
    "for i in root :\n",
    "    print(i)"
   ]
  },
  {
   "cell_type": "code",
   "execution_count": null,
   "metadata": {
    "collapsed": true
   },
   "outputs": [],
   "source": []
  }
 ],
 "metadata": {
  "kernelspec": {
   "display_name": "Python 3",
   "language": "python",
   "name": "python3"
  },
  "language_info": {
   "codemirror_mode": {
    "name": "ipython",
    "version": 3
   },
   "file_extension": ".py",
   "mimetype": "text/x-python",
   "name": "python",
   "nbconvert_exporter": "python",
   "pygments_lexer": "ipython3",
   "version": "3.6.0"
  }
 },
 "nbformat": 4,
 "nbformat_minor": 2
}
