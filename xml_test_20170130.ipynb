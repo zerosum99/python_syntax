{
 "cells": [
  {
   "cell_type": "code",
   "execution_count": 1,
   "metadata": {
    "collapsed": true
   },
   "outputs": [],
   "source": [
    "from lxml import etree"
   ]
  },
  {
   "cell_type": "code",
   "execution_count": 7,
   "metadata": {
    "collapsed": false
   },
   "outputs": [
    {
     "name": "stdout",
     "output_type": "stream",
     "text": [
      "<Element root at 0x5395248>\n",
      "root\n",
      "b'<root>\\n  <child1/>\\n  <child2/>\\n  <child3/>\\n</root>\\n'\n"
     ]
    }
   ],
   "source": [
    "from lxml import etree\n",
    "root = etree.Element(\"root\")\n",
    "print(root)\n",
    "print(root.tag)\n",
    "root.append( etree.Element(\"child1\") )\n",
    "child2 = etree.SubElement(root, \"child2\")\n",
    "child3 = etree.SubElement(root, \"child3\")\n",
    "print(etree.tostring(root, pretty_print=True))\n"
   ]
  },
  {
   "cell_type": "code",
   "execution_count": 12,
   "metadata": {
    "collapsed": false
   },
   "outputs": [
    {
     "name": "stdout",
     "output_type": "stream",
     "text": [
      "<Element root at 0x539f8c8>\n",
      "root\n",
      "child1\n",
      "3\n",
      "child2\n",
      "1\n",
      "[<Element child1 at 0x539e548>, <Element child2 at 0x539f9c8>, <Element child3 at 0x539f908>]\n"
     ]
    }
   ],
   "source": [
    "from lxml import etree\n",
    "root = etree.Element(\"root\")\n",
    "print(root)\n",
    "print(root.tag)\n",
    "root.append( etree.Element(\"child1\") )\n",
    "child2 = etree.SubElement(root, \"child2\")\n",
    "child3 = etree.SubElement(root, \"child3\")\n",
    "\n",
    "child = root[0]\n",
    "print(child.tag)\n",
    "print(len(root))\n",
    "\n",
    "print(root[1].tag)\n",
    "print(root.index(root[1]))\n",
    "children = list(root)\n",
    "print(children)"
   ]
  },
  {
   "cell_type": "code",
   "execution_count": 14,
   "metadata": {
    "collapsed": false
   },
   "outputs": [
    {
     "name": "stdout",
     "output_type": "stream",
     "text": [
      "<Element root at 0x539fe08>\n",
      "root\n",
      "child1\n",
      "child2\n",
      "child3\n",
      "child0\n",
      "child3\n"
     ]
    }
   ],
   "source": [
    "from lxml import etree\n",
    "root = etree.Element(\"root\")\n",
    "print(root)\n",
    "print(root.tag)\n",
    "root.append( etree.Element(\"child1\") )\n",
    "child2 = etree.SubElement(root, \"child2\")\n",
    "child3 = etree.SubElement(root, \"child3\")\n",
    "\n",
    "for child in root:\n",
    "    print(child.tag)\n",
    "\n",
    "\n",
    "root.insert(0, etree.Element(\"child0\"))\n",
    "start = root[:1]\n",
    "end   = root[-1:]\n",
    "\n",
    "print(start[0].tag)\n",
    "print(end[0].tag)\n"
   ]
  },
  {
   "cell_type": "code",
   "execution_count": 16,
   "metadata": {
    "collapsed": false
   },
   "outputs": [
    {
     "name": "stdout",
     "output_type": "stream",
     "text": [
      "b'<root interesting=\"totally\"/>'\n",
      "totally\n",
      "None\n",
      "Huhu\n",
      "b'<root interesting=\"totally\" hello=\"Huhu\"/>'\n"
     ]
    }
   ],
   "source": [
    "from lxml import etree\n",
    "root = etree.Element(\"root\", interesting=\"totally\")\n",
    "print(etree.tostring(root))\n",
    "\n",
    "print(root.get(\"interesting\"))\n",
    "\n",
    "print(root.get(\"hello\"))\n",
    "\n",
    "root.set(\"hello\", \"Huhu\")\n",
    "print(root.get(\"hello\"))\n",
    "print(etree.tostring(root))"
   ]
  },
  {
   "cell_type": "code",
   "execution_count": 18,
   "metadata": {
    "collapsed": false
   },
   "outputs": [
    {
     "name": "stdout",
     "output_type": "stream",
     "text": [
      "['hello', 'interesting']\n",
      "hello = 'Huhu'\n",
      "interesting = 'totally'\n",
      "totally\n",
      "None\n",
      "Guten Tag\n",
      "Guten Tag\n"
     ]
    }
   ],
   "source": [
    "from lxml import etree\n",
    "root = etree.Element(\"root\", interesting=\"totally\")\n",
    "root.set(\"hello\", \"Huhu\")\n",
    "print(sorted(root.keys()))\n",
    "\n",
    "for name, value in sorted(root.items()):\n",
    "    print('%s = %r' % (name, value))\n",
    "    \n",
    "attributes = root.attrib\n",
    "\n",
    "print(attributes[\"interesting\"])\n",
    "print(attributes.get(\"no-such-attribute\"))\n",
    "attributes[\"hello\"] = \"Guten Tag\"\n",
    "print(attributes[\"hello\"])\n",
    "print(root.get(\"hello\"))\n"
   ]
  },
  {
   "cell_type": "code",
   "execution_count": 19,
   "metadata": {
    "collapsed": false
   },
   "outputs": [
    {
     "name": "stdout",
     "output_type": "stream",
     "text": [
      "TEXT\n",
      "b'<root>TEXT</root>'\n"
     ]
    }
   ],
   "source": [
    "from lxml import etree\n",
    "root = etree.Element(\"root\")\n",
    "root.text = \"TEXT\"\n",
    "\n",
    "print(root.text)\n",
    "\n",
    "print(etree.tostring(root))\n"
   ]
  },
  {
   "cell_type": "code",
   "execution_count": 21,
   "metadata": {
    "collapsed": false
   },
   "outputs": [
    {
     "name": "stdout",
     "output_type": "stream",
     "text": [
      "b'<html><body>TEXT<br/>TAIL</body></html>'\n"
     ]
    }
   ],
   "source": [
    "from lxml import etree\n",
    "html = etree.Element(\"html\")\n",
    "body = etree.SubElement(html, \"body\")\n",
    "body.text = \"TEXT\"\n",
    "\n",
    "\n",
    "br = etree.SubElement(body, \"br\")\n",
    "br.tail = \"TAIL\"\n",
    "print(etree.tostring(html))\n"
   ]
  },
  {
   "cell_type": "code",
   "execution_count": 23,
   "metadata": {
    "collapsed": false
   },
   "outputs": [
    {
     "name": "stdout",
     "output_type": "stream",
     "text": [
      "root - None\n",
      "child - Child 1\n",
      "child - Child 2\n",
      "another - Child 3\n"
     ]
    }
   ],
   "source": [
    "from lxml import etree\n",
    "root = etree.Element(\"root\")\n",
    "etree.SubElement(root, \"child\").text = \"Child 1\"\n",
    "etree.SubElement(root, \"child\").text = \"Child 2\"\n",
    "etree.SubElement(root, \"another\").text = \"Child 3\"\n",
    "\n",
    "for element in root.iter():\n",
    "    print(\"%s - %s\" % (element.tag, element.text))"
   ]
  },
  {
   "cell_type": "code",
   "execution_count": 27,
   "metadata": {
    "collapsed": false
   },
   "outputs": [
    {
     "name": "stdout",
     "output_type": "stream",
     "text": [
      " root only root - None\n",
      " child only child - Child 1\n",
      " child only child - Child 2\n",
      " another/child only  child - Child 1\n",
      " another/child only  child - Child 2\n",
      " another/child only  another - Child 3\n"
     ]
    }
   ],
   "source": [
    "\n",
    "from lxml import etree\n",
    "root = etree.Element(\"root\")\n",
    "etree.SubElement(root, \"child\").text = \"Child 1\"\n",
    "etree.SubElement(root, \"child\").text = \"Child 2\"\n",
    "etree.SubElement(root, \"another\").text = \"Child 3\"\n",
    "\n",
    "for element in root.iter(\"root\"):\n",
    "    print(\" root only %s - %s\" % (element.tag, element.text))\n",
    "\n",
    "for element in root.iter(\"child\"):\n",
    "    print(\" child only %s - %s\" % (element.tag, element.text))\n",
    "\n",
    "for element in root.iter(\"another\", \"child\"):\n",
    "    print(\" another/child only  %s - %s\" % (element.tag, element.text))\n"
   ]
  },
  {
   "cell_type": "code",
   "execution_count": 29,
   "metadata": {
    "collapsed": false
   },
   "outputs": [
    {
     "name": "stdout",
     "output_type": "stream",
     "text": [
      "b'<root><a><b/></a></root>'\n",
      "b\"<?xml version='1.0' encoding='ASCII'?>\\n<root><a><b/></a></root>\"\n"
     ]
    }
   ],
   "source": [
    "from lxml import etree\n",
    "root = etree.XML('<root><a><b/></a></root>')\n",
    "\n",
    "print(etree.tostring(root))\n",
    "\n",
    "print(etree.tostring(root, xml_declaration=True))"
   ]
  },
  {
   "cell_type": "code",
   "execution_count": 28,
   "metadata": {
    "collapsed": false
   },
   "outputs": [
    {
     "name": "stdout",
     "output_type": "stream",
     "text": [
      "b'<root><a><b/></a></root>'\n",
      "b\"<?xml version='1.0' encoding='ASCII'?>\\n<root><a><b/></a></root>\"\n",
      "b\"<?xml version='1.0' encoding='iso-8859-1'?>\\n<root><a><b/></a></root>\"\n",
      "b'<root>\\n  <a>\\n    <b/>\\n  </a>\\n</root>\\n'\n"
     ]
    }
   ],
   "source": [
    "from lxml import etree\n",
    "root = etree.XML('<root><a><b/></a></root>')\n",
    "\n",
    "print(etree.tostring(root))\n",
    "\n",
    "print(etree.tostring(root, xml_declaration=True))\n",
    "\n",
    "print(etree.tostring(root, encoding='iso-8859-1'))\n",
    "print(etree.tostring(root, pretty_print=True))"
   ]
  },
  {
   "cell_type": "code",
   "execution_count": 30,
   "metadata": {
    "collapsed": false
   },
   "outputs": [
    {
     "name": "stdout",
     "output_type": "stream",
     "text": [
      "1.0\n",
      "<!DOCTYPE root SYSTEM \"test\">\n",
      "<!DOCTYPE root PUBLIC \"-//W3C//DTD XHTML 1.0 Transitional//EN\" \"file://local.dtd\">\n"
     ]
    }
   ],
   "source": [
    "from lxml import etree\n",
    "root = etree.XML('''<?xml version=\"1.0\"?>\n",
    "<!DOCTYPE root SYSTEM \"test\" [ <!ENTITY tasty \"parsnips\"> ]>\n",
    "<root>\n",
    "<a>&tasty;</a>\n",
    "</root>\n",
    "''')\n",
    "\n",
    "tree = etree.ElementTree(root)\n",
    "print(tree.docinfo.xml_version)\n",
    "print(tree.docinfo.doctype)\n",
    "\n",
    "tree.docinfo.public_id = '-//W3C//DTD XHTML 1.0 Transitional//EN'\n",
    "tree.docinfo.system_url = 'file://local.dtd'\n",
    "print(tree.docinfo.doctype)"
   ]
  },
  {
   "cell_type": "code",
   "execution_count": 35,
   "metadata": {
    "collapsed": false
   },
   "outputs": [
    {
     "name": "stdout",
     "output_type": "stream",
     "text": [
      "b'<!DOCTYPE root SYSTEM \"test\" [\\n<!ENTITY tasty \"parsnips\">\\n]>\\n<root>\\n<a>parsnips</a>\\n</root>'\n"
     ]
    }
   ],
   "source": [
    "from lxml import etree\n",
    "root = etree.XML('''<?xml version=\"1.0\"?>\n",
    "<!DOCTYPE root SYSTEM \"test\" [ <!ENTITY tasty \"parsnips\"> ]>\n",
    "<root>\n",
    "<a>&tasty;</a>\n",
    "</root>\n",
    "''')\n",
    "tree = etree.ElementTree(root)\n",
    "print(etree.tostring(tree)) "
   ]
  },
  {
   "cell_type": "code",
   "execution_count": 36,
   "metadata": {
    "collapsed": false
   },
   "outputs": [
    {
     "name": "stdout",
     "output_type": "stream",
     "text": [
      "root\n",
      "b'<root>data</root>'\n"
     ]
    }
   ],
   "source": [
    "some_xml_data = \"<root>data</root>\"\n",
    "\n",
    "root = etree.fromstring(some_xml_data)\n",
    "print(root.tag)\n",
    "print(etree.tostring(root))\n"
   ]
  },
  {
   "cell_type": "code",
   "execution_count": 37,
   "metadata": {
    "collapsed": false
   },
   "outputs": [
    {
     "name": "stdout",
     "output_type": "stream",
     "text": [
      "b'<root>data</root>'\n"
     ]
    }
   ],
   "source": [
    "from io import BytesIO\n",
    "from lxml import etree\n",
    "\n",
    "file_like_object = BytesIO(b\"<root>data</root>\")\n",
    "tree = etree.parse(file_like_object)\n",
    "\n",
    "print(etree.tostring(tree))\n"
   ]
  },
  {
   "cell_type": "code",
   "execution_count": 38,
   "metadata": {
    "collapsed": false
   },
   "outputs": [
    {
     "name": "stdout",
     "output_type": "stream",
     "text": [
      "b'<root><a/><b>  </b></root>'\n"
     ]
    }
   ],
   "source": [
    "from lxml import etree\n",
    "\n",
    "parser = etree.XMLParser(remove_blank_text=True)\n",
    "root = etree.XML(\"<root>  <a/>   <b>  </b>     </root>\", parser)\n",
    "\n",
    "print(etree.tostring(root))\n"
   ]
  },
  {
   "cell_type": "code",
   "execution_count": 39,
   "metadata": {
    "collapsed": false
   },
   "outputs": [
    {
     "name": "stdout",
     "output_type": "stream",
     "text": [
      "b'<root><a/></root>'\n"
     ]
    }
   ],
   "source": [
    "from lxml import etree\n",
    "\n",
    "parser = etree.XMLParser()\n",
    "\n",
    "parser.feed(\"<roo\")\n",
    "parser.feed(\"t><\")\n",
    "parser.feed(\"a/\")\n",
    "parser.feed(\"><\")\n",
    "parser.feed(\"/root>\")\n",
    "\n",
    "root = parser.close()\n",
    "\n",
    "print(etree.tostring(root))\n"
   ]
  },
  {
   "cell_type": "code",
   "execution_count": 40,
   "metadata": {
    "collapsed": false
   },
   "outputs": [
    {
     "name": "stdout",
     "output_type": "stream",
     "text": [
      "start, root, None\n",
      "start,    a, data\n",
      "  end,    a, data\n",
      "  end, root, None\n"
     ]
    }
   ],
   "source": [
    "from lxml import etree\n",
    "from io import BytesIO\n",
    "some_file_like = BytesIO(b\"<root><a>data</a></root>\")\n",
    "\n",
    "for event, element in etree.iterparse(some_file_like,events=(\"start\", \"end\")):\n",
    "    print(\"%5s, %4s, %s\" % (event, element.tag, element.text))\n"
   ]
  },
  {
   "cell_type": "code",
   "execution_count": 41,
   "metadata": {
    "collapsed": false
   },
   "outputs": [
    {
     "name": "stdout",
     "output_type": "stream",
     "text": [
      "data\n",
      "** cleaning up the subtree\n",
      "None\n",
      "** cleaning up the subtree\n"
     ]
    }
   ],
   "source": [
    "from lxml import etree\n",
    "from io import BytesIO\n",
    "some_file_like = BytesIO(b\"<root><a><b>data</b></a><a><b/></a></root>\")\n",
    "\n",
    "for event, element in etree.iterparse(some_file_like):\n",
    "    if element.tag == 'b':\n",
    "        print(element.text)\n",
    "    elif element.tag == 'a':\n",
    "        print(\"** cleaning up the subtree\")\n",
    "        element.clear()"
   ]
  },
  {
   "cell_type": "code",
   "execution_count": 42,
   "metadata": {
    "collapsed": false
   },
   "outputs": [
    {
     "name": "stdout",
     "output_type": "stream",
     "text": [
      "1\n",
      "bar\n",
      "bar\n"
     ]
    }
   ],
   "source": [
    "from lxml import etree\n",
    "from io import StringIO\n",
    "f = StringIO('<foo><bar></bar></foo>')\n",
    "tree = etree.parse(f)\n",
    "\n",
    "r = tree.xpath('/foo/bar')\n",
    "print(len(r))\n",
    "print(r[0].tag)\n",
    "\n",
    "r = tree.xpath('bar')\n",
    "print(r[0].tag)"
   ]
  },
  {
   "cell_type": "code",
   "execution_count": 47,
   "metadata": {
    "collapsed": false
   },
   "outputs": [
    {
     "name": "stdout",
     "output_type": "stream",
     "text": [
      "<class 'lxml.etree._Element'>\n"
     ]
    },
    {
     "data": {
      "text/plain": [
       "['__bool__',\n",
       " '__class__',\n",
       " '__contains__',\n",
       " '__copy__',\n",
       " '__deepcopy__',\n",
       " '__delattr__',\n",
       " '__delitem__',\n",
       " '__dir__',\n",
       " '__doc__',\n",
       " '__eq__',\n",
       " '__format__',\n",
       " '__ge__',\n",
       " '__getattribute__',\n",
       " '__getitem__',\n",
       " '__gt__',\n",
       " '__hash__',\n",
       " '__init__',\n",
       " '__iter__',\n",
       " '__le__',\n",
       " '__len__',\n",
       " '__lt__',\n",
       " '__ne__',\n",
       " '__new__',\n",
       " '__reduce__',\n",
       " '__reduce_ex__',\n",
       " '__repr__',\n",
       " '__reversed__',\n",
       " '__setattr__',\n",
       " '__setitem__',\n",
       " '__sizeof__',\n",
       " '__str__',\n",
       " '__subclasshook__',\n",
       " '_init',\n",
       " 'addnext',\n",
       " 'addprevious',\n",
       " 'append',\n",
       " 'attrib',\n",
       " 'base',\n",
       " 'clear',\n",
       " 'cssselect',\n",
       " 'extend',\n",
       " 'find',\n",
       " 'findall',\n",
       " 'findtext',\n",
       " 'get',\n",
       " 'getchildren',\n",
       " 'getiterator',\n",
       " 'getnext',\n",
       " 'getparent',\n",
       " 'getprevious',\n",
       " 'getroottree',\n",
       " 'index',\n",
       " 'insert',\n",
       " 'items',\n",
       " 'iter',\n",
       " 'iterancestors',\n",
       " 'iterchildren',\n",
       " 'iterdescendants',\n",
       " 'iterfind',\n",
       " 'itersiblings',\n",
       " 'itertext',\n",
       " 'keys',\n",
       " 'makeelement',\n",
       " 'nsmap',\n",
       " 'prefix',\n",
       " 'remove',\n",
       " 'replace',\n",
       " 'set',\n",
       " 'sourceline',\n",
       " 'tag',\n",
       " 'tail',\n",
       " 'text',\n",
       " 'values',\n",
       " 'xpath']"
      ]
     },
     "execution_count": 47,
     "metadata": {},
     "output_type": "execute_result"
    }
   ],
   "source": [
    "\n",
    "from lxml import etree\n",
    "root = etree.Element(\"root\")\n",
    "print(type(root))\n",
    "dir(root)"
   ]
  },
  {
   "cell_type": "code",
   "execution_count": 51,
   "metadata": {
    "collapsed": false
   },
   "outputs": [
    {
     "name": "stdout",
     "output_type": "stream",
     "text": [
      "['_SelectorContext', '__builtins__', '__cached__', '__doc__', '__file__', '__loader__', '__name__', '__package__', '__spec__', '_cache', 'find', 'findall', 'findtext', 'get_parent_map', 'iterfind', 'ops', 'prepare_child', 'prepare_descendant', 'prepare_parent', 'prepare_predicate', 'prepare_self', 'prepare_star', 're', 'xpath_tokenizer', 'xpath_tokenizer_re']\n"
     ]
    }
   ],
   "source": [
    "import xml.etree.ElementTree as ET\n",
    "\n",
    "print(dir(ET.ElementPath))"
   ]
  },
  {
   "cell_type": "code",
   "execution_count": 52,
   "metadata": {
    "collapsed": false
   },
   "outputs": [
    {
     "name": "stdout",
     "output_type": "stream",
     "text": [
      "User count: 2\n",
      "Name Chuck\n",
      "Id 001\n",
      "Attribute 2\n",
      "Name Brent\n",
      "Id 009\n",
      "Attribute 7\n"
     ]
    }
   ],
   "source": [
    "import xml.etree.ElementTree as ET\n",
    "\n",
    "input = '''\n",
    "<stuff>\n",
    "    <users>\n",
    "        <user x=\"2\">\n",
    "            <id>001</id>\n",
    "            <name>Chuck</name>\n",
    "        </user>\n",
    "        <user x=\"7\">\n",
    "            <id>009</id>\n",
    "            <name>Brent</name>\n",
    "            </user>\n",
    "        </users>\n",
    "</stuff>'''\n",
    "\n",
    "stuff = ET.fromstring(input)\n",
    "lst = stuff.findall('users/user')\n",
    "print('User count:', len(lst))\n",
    "\n",
    "for item in lst:\n",
    "    print('Name', item.find('name').text)\n",
    "    print('Id', item.find('id').text)\n",
    "    print('Attribute', item.get(\"x\"))"
   ]
  },
  {
   "cell_type": "code",
   "execution_count": 59,
   "metadata": {
    "collapsed": false
   },
   "outputs": [
    {
     "name": "stdout",
     "output_type": "stream",
     "text": [
      "1\n",
      "2\n"
     ]
    }
   ],
   "source": [
    "import xml.etree.ElementTree as ET\n",
    "from io import StringIO\n",
    "M = StringIO('''\n",
    "<foo>\n",
    "   <bar>\n",
    "      <type foobar=\"1\"/>\n",
    "      <type foobar=\"2\"/>\n",
    "   </bar>\n",
    "</foo>''')\n",
    "\n",
    "root = ET.parse(M).getroot() #element instance 생성\n",
    "\n",
    "for i in root.findall('bar'):\n",
    "    for j in i.findall('type'):\n",
    "        print(j.get('foobar'))"
   ]
  },
  {
   "cell_type": "code",
   "execution_count": 58,
   "metadata": {
    "collapsed": false
   },
   "outputs": [
    {
     "name": "stdout",
     "output_type": "stream",
     "text": [
      "Help on function parse in module xml.etree.ElementTree:\n",
      "\n",
      "parse(source, parser=None)\n",
      "    Parse XML document into element tree.\n",
      "    \n",
      "    *source* is a filename or file object containing XML data,\n",
      "    *parser* is an optional parser instance defaulting to XMLParser.\n",
      "    \n",
      "    Return an ElementTree instance.\n",
      "\n"
     ]
    }
   ],
   "source": [
    "help(ET.parse)"
   ]
  },
  {
   "cell_type": "code",
   "execution_count": 60,
   "metadata": {
    "collapsed": false
   },
   "outputs": [
    {
     "name": "stdout",
     "output_type": "stream",
     "text": [
      "1\n",
      "2\n"
     ]
    }
   ],
   "source": [
    "\n",
    "from lxml import etree\n",
    "\n",
    "from io import StringIO\n",
    "M = StringIO('''\n",
    "<foo>\n",
    "   <bar>\n",
    "      <type foobar=\"1\"/>\n",
    "      <type foobar=\"2\"/>\n",
    "   </bar>\n",
    "</foo>''')\n",
    "\n",
    "root = etree.parse(M).getroot() #element instance 생성\n",
    "\n",
    "for i in root.findall('bar'):\n",
    "    for j in i.findall('type'):\n",
    "        print(j.get('foobar'))"
   ]
  },
  {
   "cell_type": "code",
   "execution_count": 61,
   "metadata": {
    "collapsed": false
   },
   "outputs": [
    {
     "name": "stdout",
     "output_type": "stream",
     "text": [
      "User count: 2\n",
      "Name Chuck\n",
      "Id 001\n",
      "Attribute 2\n",
      "Name Brent\n",
      "Id 009\n",
      "Attribute 7\n"
     ]
    }
   ],
   "source": [
    "from lxml import etree\n",
    "\n",
    "input = '''\n",
    "<stuff>\n",
    "    <users>\n",
    "        <user x=\"2\">\n",
    "            <id>001</id>\n",
    "            <name>Chuck</name>\n",
    "        </user>\n",
    "        <user x=\"7\">\n",
    "            <id>009</id>\n",
    "            <name>Brent</name>\n",
    "            </user>\n",
    "        </users>\n",
    "</stuff>'''\n",
    "\n",
    "stuff = etree.fromstring(input)\n",
    "lst = stuff.findall('users/user')\n",
    "print('User count:', len(lst))\n",
    "\n",
    "for item in lst:\n",
    "    print('Name', item.find('name').text)\n",
    "    print('Id', item.find('id').text)\n",
    "    print('Attribute', item.get(\"x\"))"
   ]
  },
  {
   "cell_type": "code",
   "execution_count": 62,
   "metadata": {
    "collapsed": false
   },
   "outputs": [
    {
     "name": "stdout",
     "output_type": "stream",
     "text": [
      "<note>\n",
      "  <to>Tove</to>\n",
      "  <dummy/>\n",
      "  <from>Jani</from>\n",
      "</note>\n"
     ]
    }
   ],
   "source": [
    "from lxml import etree\n",
    "\n",
    "note = etree.Element(\"note\")\n",
    "to = etree.Element(\"to\")\n",
    "to.text = \"Tove\"\n",
    "\n",
    "note.append(to)\n",
    "etree.SubElement(note, \"from\").text = \"Jani\"\n",
    "dummy = etree.Element(\"dummy\")\n",
    "note.insert(1, dummy)\n",
    "\n",
    "etree.dump(note)"
   ]
  },
  {
   "cell_type": "code",
   "execution_count": 64,
   "metadata": {
    "collapsed": false
   },
   "outputs": [
    {
     "name": "stdout",
     "output_type": "stream",
     "text": [
      "<note>\n",
      "  <to>Tove</to>\n",
      "  <dummy/>\n",
      "  <from>Jani</from>\n",
      "</note>\n",
      "<note>\n",
      "  <to>Tove</to>\n",
      "  <from>Jani</from>\n",
      "</note>\n"
     ]
    }
   ],
   "source": [
    "from lxml import etree\n",
    "\n",
    "note = etree.Element(\"note\")\n",
    "to =  etree.Element(\"to\")\n",
    "to.text = \"Tove\"\n",
    "\n",
    "note.append(to)\n",
    "etree.SubElement(note, \"from\").text = \"Jani\"\n",
    "dummy =  etree.Element(\"dummy\")\n",
    "note.insert(1, dummy)\n",
    "etree.dump(note)\n",
    "note.remove(dummy)\n",
    "etree.dump(note)"
   ]
  },
  {
   "cell_type": "code",
   "execution_count": 66,
   "metadata": {
    "collapsed": false
   },
   "outputs": [
    {
     "name": "stdout",
     "output_type": "stream",
     "text": [
      "<note date=\"20120104\">\n",
      "  <to>Tove</to>\n",
      "  <to>Love</to>\n",
      "</note>\n"
     ]
    }
   ],
   "source": [
    "from lxml import etree\n",
    "note = etree.Element(\"note\", date=\"20120104\")\n",
    "to = etree.Element(\"to\")\n",
    "to.text = \"Tove\"\n",
    "\n",
    "note.append(to)\n",
    "\n",
    "to1 = etree.Element(\"to\")\n",
    "to1.text = \"Love\"\n",
    "\n",
    "note.append(to1)\n",
    "etree.dump(note)\n",
    "\n",
    "etree.ElementTree(note).write(\"note.xml\")"
   ]
  },
  {
   "cell_type": "code",
   "execution_count": null,
   "metadata": {
    "collapsed": false
   },
   "outputs": [],
   "source": []
  },
  {
   "cell_type": "code",
   "execution_count": null,
   "metadata": {
    "collapsed": true
   },
   "outputs": [],
   "source": []
  }
 ],
 "metadata": {
  "kernelspec": {
   "display_name": "Python [conda root]",
   "language": "python",
   "name": "conda-root-py"
  },
  "language_info": {
   "codemirror_mode": {
    "name": "ipython",
    "version": 3
   },
   "file_extension": ".py",
   "mimetype": "text/x-python",
   "name": "python",
   "nbconvert_exporter": "python",
   "pygments_lexer": "ipython3",
   "version": "3.5.2"
  }
 },
 "nbformat": 4,
 "nbformat_minor": 1
}
