{
 "cells": [
  {
   "cell_type": "markdown",
   "metadata": {},
   "source": [
    "# 함수형 프로그래밍 \n",
    "\n",
    "    \n",
    "    함수 프로그래밍은 계산을 수학 함수의 평가로 취급하고 상태 및 변경 가능한 데이터를 피하는 프로그래밍 패러다임입니다.\n",
    "    \n",
    "    상태의 변화를 강조하는 명령형 프로그래밍 스타일과 달리 기능의 적용을 강조합니다.\n",
    "    \n",
    "    Functional Programming의 특징은 다음과 같습니다.\n",
    "\n",
    "         상태 표현 피하기\n",
    "         데이터가 변경 불가능 함\n",
    "         퍼스트 클래스 기능\n",
    "         고차 함수\n",
    "         재귀\n",
    "         "
   ]
  },
  {
   "cell_type": "markdown",
   "metadata": {},
   "source": [
    "# 1. 순수 함수 "
   ]
  },
  {
   "cell_type": "markdown",
   "metadata": {},
   "source": [
    "##  순수 함수 : Pure functions\n",
    "\n",
    "    순수 함수 (또는 표현식)에는 부작용 (메모리 또는 I / O)이 없습니다.\n",
    "    즉 함수 내에서 상태를 보관하지 않고 처리를 수행 함\n",
    "    \n",
    "        \n",
    "     1. 순수한 함수의 결과가 사용되지 않으면 계산할 필요가 없습니다.\n",
    "     \n",
    "        -> 글로벌변수나 nonlocal 변수 즉 함수 외부의 변수에 상태를 보관해서 처리하지 않아야 순수 함수이다.\n",
    "     \n",
    "     2. pure 함수가 동일한 매개 변수로 호출되면 컴파일러나 인터프리터는 memoization과 같은 캐싱 최적화를 구현할 수 있습니다.\n",
    "     \n",
    "     3. 두 개의 순수 표현식간에 데이터 종속성이 없으면 (하나의 결과가 다른 표현식의 인수로 필요하지 않음) 순서가 \n",
    "     \n",
    "        역순으로되거나 병렬로 실행될 수 있습니다.\n",
    "     \n",
    "     4. 부작용이 없으면 모든 평가 전략을 사용할 수 있습니다.\n",
    "    "
   ]
  },
  {
   "cell_type": "markdown",
   "metadata": {},
   "source": [
    "## 상태표현 피하기 및 데이터 변경 불가\n",
    "\n",
    "    State representation and Transformation\n",
    "    \n",
    "    함수 내부에서 외부의 input에 대한 상태 변화를 피하고 결과값으로 전달해야 함\n",
    "    "
   ]
  },
  {
   "cell_type": "markdown",
   "metadata": {},
   "source": [
    "####  순수 함수가 아닌 예시  : 글로벌 변수를 사용"
   ]
  },
  {
   "cell_type": "code",
   "execution_count": 20,
   "metadata": {
    "collapsed": false
   },
   "outputs": [
    {
     "name": "stdout",
     "output_type": "stream",
     "text": [
      "0\n"
     ]
    }
   ],
   "source": [
    "a = 0\n",
    "# 글로벌 변수를 별도로 사용해서 상태를 보관\n",
    "def get_a():\n",
    "    global a\n",
    "    a += 1\n",
    "    return a - 1\n",
    "\n",
    "print(get_a())"
   ]
  },
  {
   "cell_type": "markdown",
   "metadata": {},
   "source": [
    "#### 순수함수가 아닌 예시 : non local 변수를 사용  "
   ]
  },
  {
   "cell_type": "code",
   "execution_count": 22,
   "metadata": {
    "collapsed": false
   },
   "outputs": [
    {
     "name": "stdout",
     "output_type": "stream",
     "text": [
      "<function countdown.<locals>.tick at 0x0000000004EC0268>\n",
      "4\n"
     ]
    }
   ],
   "source": [
    "def countdown(n):\n",
    "    def tick():\n",
    "        nonlocal n\n",
    "        n -= 1\n",
    "        return n\n",
    "    return tick\n",
    "\n",
    "a = countdown(5)\n",
    "print(a)\n",
    "print(a())"
   ]
  },
  {
   "cell_type": "markdown",
   "metadata": {},
   "source": [
    "## 순수 함수 예시 : 자신 내부의 로컬 변수만 사용"
   ]
  },
  {
   "cell_type": "code",
   "execution_count": 57,
   "metadata": {
    "collapsed": false
   },
   "outputs": [
    {
     "name": "stdout",
     "output_type": "stream",
     "text": [
      "[1, 4, 9, 16]\n"
     ]
    }
   ],
   "source": [
    "def square(x):\n",
    "    return x*x\n",
    " \n",
    "input = [1, 2, 3, 4]\n",
    "output = map(square, input)\n",
    "print(list(output))"
   ]
  },
  {
   "cell_type": "markdown",
   "metadata": {},
   "source": [
    "# 2. 함수는 first class object \n",
    "    \n",
    "     변수에 할당, 함수 인자로 전달, 함수 결과로 전달 등 객체처럼 사용되는 객체\n",
    "    "
   ]
  },
  {
   "cell_type": "code",
   "execution_count": 63,
   "metadata": {
    "collapsed": false
   },
   "outputs": [
    {
     "name": "stdout",
     "output_type": "stream",
     "text": [
      "1\n",
      "<class 'function'>\n",
      "I am a really nice function.\n",
      "       Please be my friend.\n",
      "{'a': 10}\n"
     ]
    }
   ],
   "source": [
    "def an_object(myarg):\n",
    "    '''I am a really nice function.\n",
    "       Please be my friend.'''\n",
    "    return myarg\n",
    "\n",
    "# 함수 호출\n",
    "print(an_object(1))\n",
    "\n",
    "# 함수 객체 정보 확인\n",
    "print(an_object.__class__)\n",
    "print(an_object.__doc__)\n",
    "\n",
    "# 함수 객체에 속성 추가\n",
    "an_object.a = 10\n",
    "print(an_object.__dict__)"
   ]
  },
  {
   "cell_type": "code",
   "execution_count": 62,
   "metadata": {
    "collapsed": false
   },
   "outputs": [
    {
     "name": "stdout",
     "output_type": "stream",
     "text": [
      "2\n"
     ]
    }
   ],
   "source": [
    "# 변수 할당  및 실행 \n",
    "an_other_name = an_object\n",
    "print(an_other_name(2))"
   ]
  },
  {
   "cell_type": "code",
   "execution_count": 64,
   "metadata": {
    "collapsed": false
   },
   "outputs": [
    {
     "name": "stdout",
     "output_type": "stream",
     "text": [
      "1\n"
     ]
    }
   ],
   "source": [
    "# 함수의 인자로 전달\n",
    "\n",
    "def func(func,num) :\n",
    "    result = func(num)\n",
    "    return result\n",
    "\n",
    "print(func(an_object,1))\n",
    "    "
   ]
  },
  {
   "cell_type": "markdown",
   "metadata": {},
   "source": [
    "# 3.  재귀호출 처리 \n",
    "    \n",
    "    재귀호출 로직 처리 하는 방법 : 수열을 처리하는 로직을 구현해야 함\n",
    "        1. 마지막 처리를 로직을 작성\n",
    "        2. 실제 반복처리하는 부분을 작성"
   ]
  },
  {
   "cell_type": "markdown",
   "metadata": {},
   "source": [
    "### 재귀호출 처리 : 덧셈"
   ]
  },
  {
   "cell_type": "code",
   "execution_count": 5,
   "metadata": {
    "collapsed": false
   },
   "outputs": [
    {
     "name": "stdout",
     "output_type": "stream",
     "text": [
      "10\n"
     ]
    }
   ],
   "source": [
    "# 시퀀스 타입을 받아서 처리하는 법\n",
    "def add(largs) :\n",
    "    # 마지막 처리 : 최종결과 처리\n",
    "    if len(largs) == 0 :\n",
    "        return 0\n",
    "    return largs[0] + add(largs[1:])\n",
    "\n",
    "print(add([1,2,3,4]))"
   ]
  },
  {
   "cell_type": "markdown",
   "metadata": {},
   "source": [
    "### 재귀호출 처리 : 곱셈\n"
   ]
  },
  {
   "cell_type": "code",
   "execution_count": 10,
   "metadata": {
    "collapsed": false
   },
   "outputs": [
    {
     "name": "stdout",
     "output_type": "stream",
     "text": [
      "24\n"
     ]
    }
   ],
   "source": [
    "# 시퀀스 타입을 받아서 처리하는 법\n",
    "# 곱셈 처리시 0이 들어오면 값이 전체가 0이 됨\n",
    "def mul(largs) :\n",
    "    # 마지막 처리 : 최종결과 처리\n",
    "    if len(largs) == 0 :\n",
    "        return 1\n",
    "    \n",
    "    # 원소중에 0인 값을 대체\n",
    "    if largs[0] == 0 :\n",
    "        largs[0] = 1\n",
    "    return largs[0] * mul(largs[1:])\n",
    "\n",
    "print(mul([1,2,3,0,4]))"
   ]
  },
  {
   "cell_type": "markdown",
   "metadata": {},
   "source": [
    "### 재귀 호출 : exp\n",
    "\n",
    "    함수를 호출해서 계속 처리하는 방식 \n",
    "    \n",
    "    exp(2, 4)\n",
    "    +-- 2 * exp(2, 3)\n",
    "    |       +-- 2 * exp(2, 2)\n",
    "    |       |       +-- 2 * exp(2, 1)\n",
    "    |       |       |       +-- 2 * exp(2, 0)\n",
    "    |       |       |       |       +-- 1\n",
    "    |       |       |       +-- 2 * 1\n",
    "    |       |       |       +-- 2\n",
    "    |       |       +-- 2 * 2\n",
    "    |       |       +-- 4\n",
    "    |       +-- 2 * 4\n",
    "    |       +-- 8\n",
    "    +-- 2 * 8\n",
    "    +-- 16"
   ]
  },
  {
   "cell_type": "code",
   "execution_count": 40,
   "metadata": {
    "collapsed": false
   },
   "outputs": [
    {
     "name": "stdout",
     "output_type": "stream",
     "text": [
      "16\n"
     ]
    }
   ],
   "source": [
    "def exp(x, n):\n",
    "    \"\"\"\n",
    "    Computes the result of x raised to the power of n.\n",
    "\n",
    "        >>> exp(2, 3)\n",
    "        8\n",
    "        >>> exp(3, 2)\n",
    "        9\n",
    "    \"\"\"\n",
    "    if n == 0:\n",
    "        return 1\n",
    "    else:\n",
    "        return x * exp(x, n-1)\n",
    "    \n",
    "print(exp(2,4))"
   ]
  },
  {
   "cell_type": "markdown",
   "metadata": {},
   "source": [
    "# 4. 함수를 실행하는 함수 만들기 \n",
    "\n",
    "    - apply 함수를 만들고 처리\n",
    "    - eval 내장함수로 표현식 처리\n",
    "    - exec 내장함수로 문장을 즉시 실행하기\n"
   ]
  },
  {
   "cell_type": "markdown",
   "metadata": {},
   "source": [
    "## apply 함수 만들기\n",
    "\n",
    "    함수를 인자로 받아 함수를 실행한 결과를 보내는 함수\n",
    "    \n",
    "    함수는 상태를 별도의 변수에 보관하지 않고 처리 결과를 return 하도록 처리해야 하므로 \n",
    "    \n",
    "    apply 함수를 만들어서 다른 함수를 처리해서 결과값을 배출해야 함\n",
    "    "
   ]
  },
  {
   "cell_type": "markdown",
   "metadata": {},
   "source": [
    "### apply 함수는 어떤 인자가 들어와도 처리가 가능하도록 정의"
   ]
  },
  {
   "cell_type": "code",
   "execution_count": 2,
   "metadata": {
    "collapsed": true
   },
   "outputs": [],
   "source": [
    "def func(func,*args, **kwargs) :\n",
    "    \n",
    "    # 함수 처리 결과를 배출 \n",
    "    # 상태 보관은 별도로 하지 않음\n",
    "    return func(*args, **kwargs)"
   ]
  },
  {
   "cell_type": "markdown",
   "metadata": {},
   "source": [
    "###  함수가 실행되도록 처리 "
   ]
  },
  {
   "cell_type": "code",
   "execution_count": 3,
   "metadata": {
    "collapsed": false
   },
   "outputs": [
    {
     "name": "stdout",
     "output_type": "stream",
     "text": [
      "3\n",
      "10\n"
     ]
    }
   ],
   "source": [
    "import operator as op\n",
    "\n",
    "print(func(op.add,1,2))\n",
    "\n",
    "print(func(sum, [1,2,3,4]))"
   ]
  },
  {
   "cell_type": "markdown",
   "metadata": {},
   "source": [
    "## 문장 평가하기 : exec "
   ]
  },
  {
   "cell_type": "code",
   "execution_count": 16,
   "metadata": {
    "collapsed": false
   },
   "outputs": [
    {
     "name": "stdout",
     "output_type": "stream",
     "text": [
      "1\n",
      " exec return  None\n",
      "43\n"
     ]
    }
   ],
   "source": [
    "# 실행하면 글로별 영역에 처리\n",
    "ve = exec(\"x = 1\")\n",
    "print(x)\n",
    "\n",
    "print(\" exec return : \",ve)\n",
    "env = {'a' : 42}\n",
    "# 실행되는 변수를 제공해야 함\n",
    "# env는 특정 보관영역으로 지정\n",
    "exec('x = a+1', env)\n",
    "\n",
    "print(env['x'])"
   ]
  },
  {
   "cell_type": "code",
   "execution_count": 48,
   "metadata": {
    "collapsed": false
   },
   "outputs": [
    {
     "name": "stdout",
     "output_type": "stream",
     "text": [
      "Help on built-in function exec in module builtins:\n",
      "\n",
      "exec(source, globals=None, locals=None, /)\n",
      "    Execute the given source in the context of globals and locals.\n",
      "    \n",
      "    The source may be a string representing one or more Python statements\n",
      "    or a code object as returned by compile().\n",
      "    The globals must be a dictionary and locals can be any mapping,\n",
      "    defaulting to the current globals and locals.\n",
      "    If only globals is given, locals defaults to it.\n",
      "\n"
     ]
    }
   ],
   "source": [
    "help(exec)"
   ]
  },
  {
   "cell_type": "markdown",
   "metadata": {},
   "source": [
    "### 문장을 즉시 평가하기 : exec\n",
    "\n",
    "    문장을 즉시 평가하면 모듈 내의 글로벌 영역에 키와 값으로 저장 됨\n",
    "    \n",
    "    exec 처리 결과는 없어서 None으로 return 함\n",
    "    "
   ]
  },
  {
   "cell_type": "code",
   "execution_count": 14,
   "metadata": {
    "collapsed": false
   },
   "outputs": [
    {
     "name": "stdout",
     "output_type": "stream",
     "text": [
      "<function addf at 0x0000000004EC0BF8>\n",
      "6\n"
     ]
    }
   ],
   "source": [
    "addf = \"\"\"\n",
    "def addf(largs) :\n",
    "    \n",
    "    # 마지막 처리 : 최종결과 처리\n",
    "    if len(largs) == 0 :\n",
    "        return 0\n",
    "    return largs[0] + add(largs[1:])\n",
    "\"\"\"\n",
    "\n",
    "exec(addf)\n",
    "# 모듈의 글로벌 영역에 등록된지 확인 \n",
    "print(globals()[\"addf\"])\n",
    "\n",
    "# 등록된 것을 실행\n",
    "print(addf([1,2,3]))"
   ]
  },
  {
   "cell_type": "markdown",
   "metadata": {},
   "source": [
    "## 표현식 평가 하기 : eval\n",
    "\n",
    "    eval 함수는 표현식 처리의 결과를 제공함"
   ]
  },
  {
   "cell_type": "code",
   "execution_count": 17,
   "metadata": {
    "collapsed": false
   },
   "outputs": [
    {
     "name": "stdout",
     "output_type": "stream",
     "text": [
      " eval return : 20\n",
      "5\n",
      "4\n",
      "43\n",
      "42\n"
     ]
    }
   ],
   "source": [
    "vel = eval(\"10+10\")\n",
    "print(\" eval return :\", vel)\n",
    "\n",
    "print(eval(\"2+3\"))\n",
    "\n",
    "a = 2\n",
    "print(eval(\"a * a\"))\n",
    "\n",
    "env = {'x' : 42}\n",
    "\n",
    "#env에 저장 \n",
    "print(eval('x+1', env))\n",
    "print(env['x'])\n",
    "\n"
   ]
  },
  {
   "cell_type": "markdown",
   "metadata": {},
   "source": [
    "# 5. 고차 함수 처리 \n",
    "\n",
    "\n",
    "    함수를 인자로 받아서 인자로 받은 함수에 대한 처리 결과를 제공하는 함수 \n",
    "    \n",
    "        1. 축소된 결과 처리 하기 : reduce, sum, min, max \n",
    "        2. 받은 인자를 변형하기 : map, filter\n",
    "        3. 부분 함수 처리 : functools.partial\n",
    "        "
   ]
  },
  {
   "cell_type": "markdown",
   "metadata": {},
   "source": [
    "### 함수의 결과를 결과된 결과로  줄여서 처리"
   ]
  },
  {
   "cell_type": "markdown",
   "metadata": {},
   "source": [
    "#### 내장함수 reduction 처리"
   ]
  },
  {
   "cell_type": "code",
   "execution_count": 18,
   "metadata": {
    "collapsed": false
   },
   "outputs": [
    {
     "name": "stdout",
     "output_type": "stream",
     "text": [
      "10\n"
     ]
    }
   ],
   "source": [
    "#  내장함수 : sum\n",
    "\n",
    "l = [1,2,3,4]\n",
    "\n",
    "print(sum(l))"
   ]
  },
  {
   "cell_type": "code",
   "execution_count": 21,
   "metadata": {
    "collapsed": false
   },
   "outputs": [
    {
     "name": "stdout",
     "output_type": "stream",
     "text": [
      "4\n",
      "1\n"
     ]
    }
   ],
   "source": [
    "# 내장함수 : min/max\n",
    "\n",
    "l= [1,2,3,4]\n",
    "\n",
    "print(min(l,key=lambda x : (5-x)**2))\n",
    "print(max(l,key=lambda x : (5-x)**2))"
   ]
  },
  {
   "cell_type": "code",
   "execution_count": 32,
   "metadata": {
    "collapsed": false
   },
   "outputs": [
    {
     "name": "stdout",
     "output_type": "stream",
     "text": [
      "True\n",
      "True\n",
      "False\n",
      "True\n"
     ]
    }
   ],
   "source": [
    "\n",
    "# 내장함수 : any/all 원소가 모두 참인지 아니면 거짓이 포함되었는지 확인\n",
    "\n",
    "print(any([1,2,3]))\n",
    "print(all([1,2,3]))\n",
    "\n",
    "# 빈리스트 처리시 결과값이 차이 생김\n",
    "print(any([]))\n",
    "print(all([]))"
   ]
  },
  {
   "cell_type": "markdown",
   "metadata": {},
   "source": [
    "#### functools 모듈 내의 reduce\n"
   ]
  },
  {
   "cell_type": "code",
   "execution_count": 36,
   "metadata": {
    "collapsed": false
   },
   "outputs": [
    {
     "name": "stdout",
     "output_type": "stream",
     "text": [
      "Help on built-in function reduce in module _functools:\n",
      "\n",
      "reduce(...)\n",
      "    reduce(function, sequence[, initial]) -> value\n",
      "    \n",
      "    Apply a function of two arguments cumulatively to the items of a sequence,\n",
      "    from left to right, so as to reduce the sequence to a single value.\n",
      "    For example, reduce(lambda x, y: x+y, [1, 2, 3, 4, 5]) calculates\n",
      "    ((((1+2)+3)+4)+5).  If initial is present, it is placed before the items\n",
      "    of the sequence in the calculation, and serves as a default when the\n",
      "    sequence is empty.\n",
      "\n"
     ]
    }
   ],
   "source": [
    "import functools as fun\n",
    "\n",
    "help(fun.reduce)"
   ]
  },
  {
   "cell_type": "code",
   "execution_count": 25,
   "metadata": {
    "collapsed": false
   },
   "outputs": [
    {
     "name": "stdout",
     "output_type": "stream",
     "text": [
      "6\n",
      "6\n"
     ]
    }
   ],
   "source": [
    "import functools as fun\n",
    "import operator as op\n",
    "\n",
    "print(fun.reduce(op.add, [1,2,3]))\n",
    "print(sum([1,2,3]))"
   ]
  },
  {
   "cell_type": "code",
   "execution_count": 35,
   "metadata": {
    "collapsed": false
   },
   "outputs": [
    {
     "name": "stdout",
     "output_type": "stream",
     "text": [
      "Help on built-in function add in module _operator:\n",
      "\n",
      "add(...)\n",
      "    add(a, b) -- Same as a + b.\n",
      "\n"
     ]
    }
   ],
   "source": [
    "help(op.add)"
   ]
  },
  {
   "cell_type": "code",
   "execution_count": 38,
   "metadata": {
    "collapsed": false
   },
   "outputs": [
    {
     "name": "stdout",
     "output_type": "stream",
     "text": [
      "6\n"
     ]
    }
   ],
   "source": [
    "import functools as fun\n",
    "import operator as op\n",
    "\n",
    "print(fun.reduce(lambda x,y : x+y , [1,2,3]))\n"
   ]
  },
  {
   "cell_type": "markdown",
   "metadata": {},
   "source": [
    "### 함수의 결과값이 변형처리 \n",
    "\n",
    "    전달 받은 인자의 길이는 같지만 원소들을 변형해서  결과를 리턴"
   ]
  },
  {
   "cell_type": "code",
   "execution_count": 3,
   "metadata": {
    "collapsed": false
   },
   "outputs": [
    {
     "name": "stdout",
     "output_type": "stream",
     "text": [
      "[1, 4, 9, 16]\n"
     ]
    }
   ],
   "source": [
    "l = [1,2,3,4]\n",
    "\n",
    "lt = map(lambda x : x**2, l)\n",
    "\n",
    "print(list(lt))"
   ]
  },
  {
   "cell_type": "markdown",
   "metadata": {},
   "source": [
    "### 함수의 결과 축소 : filtering \n",
    "\n",
    "    특정 요건에 맞는 수준으로 추출해서 결과를 제공 "
   ]
  },
  {
   "cell_type": "code",
   "execution_count": 4,
   "metadata": {
    "collapsed": false
   },
   "outputs": [
    {
     "name": "stdout",
     "output_type": "stream",
     "text": [
      "[2, 4]\n"
     ]
    }
   ],
   "source": [
    "l = [1,2,3,4]\n",
    "\n",
    "lt = filter(lambda x : x%2==0, l)\n",
    "\n",
    "print(list(lt))"
   ]
  },
  {
   "cell_type": "markdown",
   "metadata": {},
   "source": [
    "# 6.부분함수 처리\n",
    "\n"
   ]
  },
  {
   "cell_type": "markdown",
   "metadata": {},
   "source": [
    "## currying 처리 \n",
    "\n",
    "    함수의 인자를 부분으로 받아서 고정처리하고 내부함수를 보내 다시 인자를 받아서 처리하기 \n",
    "    \n",
    "    functools.partial을 이용하면 기존 함수들도 인자가 다 들어와야 실행된다.\n",
    "    "
   ]
  },
  {
   "cell_type": "code",
   "execution_count": 21,
   "metadata": {
    "collapsed": false
   },
   "outputs": [
    {
     "name": "stdout",
     "output_type": "stream",
     "text": [
      "10\n"
     ]
    }
   ],
   "source": [
    "def add(x) :\n",
    "    def inner(y) :\n",
    "        return x+y\n",
    "    return inner \n",
    "\n",
    "add = add(5)\n",
    "print(add(5))"
   ]
  },
  {
   "cell_type": "markdown",
   "metadata": {},
   "source": [
    "###  함수와 함수의 인자를 부분 고정하기\n"
   ]
  },
  {
   "cell_type": "code",
   "execution_count": 2,
   "metadata": {
    "collapsed": false
   },
   "outputs": [
    {
     "name": "stdout",
     "output_type": "stream",
     "text": [
      "Help on class partial in module functools:\n",
      "\n",
      "class partial(builtins.object)\n",
      " |  partial(func, *args, **keywords) - new function with partial application\n",
      " |  of the given arguments and keywords.\n",
      " |  \n",
      " |  Methods defined here:\n",
      " |  \n",
      " |  __call__(self, /, *args, **kwargs)\n",
      " |      Call self as a function.\n",
      " |  \n",
      " |  __delattr__(self, name, /)\n",
      " |      Implement delattr(self, name).\n",
      " |  \n",
      " |  __getattribute__(self, name, /)\n",
      " |      Return getattr(self, name).\n",
      " |  \n",
      " |  __new__(*args, **kwargs) from builtins.type\n",
      " |      Create and return a new object.  See help(type) for accurate signature.\n",
      " |  \n",
      " |  __reduce__(...)\n",
      " |      helper for pickle\n",
      " |  \n",
      " |  __repr__(self, /)\n",
      " |      Return repr(self).\n",
      " |  \n",
      " |  __setattr__(self, name, value, /)\n",
      " |      Implement setattr(self, name, value).\n",
      " |  \n",
      " |  __setstate__(...)\n",
      " |  \n",
      " |  ----------------------------------------------------------------------\n",
      " |  Data descriptors defined here:\n",
      " |  \n",
      " |  __dict__\n",
      " |  \n",
      " |  args\n",
      " |      tuple of arguments to future partial calls\n",
      " |  \n",
      " |  func\n",
      " |      function object to use in future partial calls\n",
      " |  \n",
      " |  keywords\n",
      " |      dictionary of keyword arguments to future partial calls\n",
      "\n"
     ]
    }
   ],
   "source": [
    "import functools as fun\n",
    "\n",
    "help(fun.partial)"
   ]
  },
  {
   "cell_type": "markdown",
   "metadata": {},
   "source": [
    "#### partial이 클래스인 이유 \n",
    "\n",
    "    부분 처리를 위해 객체를 만들어서 전달하고 나머지 인스턴스를 받아 함수를 처리하도록 함\n",
    "    "
   ]
  },
  {
   "cell_type": "code",
   "execution_count": 15,
   "metadata": {
    "collapsed": false
   },
   "outputs": [
    {
     "name": "stdout",
     "output_type": "stream",
     "text": [
      "<__main__.part object at 0x0000000004F4C0B8>\n",
      "15\n"
     ]
    }
   ],
   "source": [
    "class part :\n",
    "    def __init__(self,func=None,*args) :\n",
    "        if func != None :\n",
    "            self.func = func\n",
    "        self.args = []   \n",
    "        for i in args :\n",
    "            self.args.append(i)\n",
    "            \n",
    "    def __call__(self,*args) :\n",
    "        for i in args :\n",
    "                self.args.append(i)\n",
    "        if self.func.__code__.co_argcount == len(self.args) :\n",
    "            return self.func(*self.args)\n",
    "        else :\n",
    "            return self\n",
    "    \n",
    "def add(x,y,z) :\n",
    "    return x+y+z\n",
    "\n",
    "add_part = part(add,5)\n",
    "print(add_part(5))\n",
    "print(add_part(5))"
   ]
  },
  {
   "cell_type": "markdown",
   "metadata": {},
   "source": [
    "###  functools.partial를 이용해서 부분 인자를 처리하기 \n"
   ]
  },
  {
   "cell_type": "code",
   "execution_count": 3,
   "metadata": {
    "collapsed": false
   },
   "outputs": [
    {
     "name": "stdout",
     "output_type": "stream",
     "text": [
      "<class 'functools.partial'>\n",
      "10\n"
     ]
    }
   ],
   "source": [
    "import functools as fun\n",
    "\n",
    "def add(x,y) :\n",
    "    return x+y\n",
    "\n",
    "add =fun.partial(add,5)\n",
    "\n",
    "print(type(add))\n",
    "print(add(5))"
   ]
  },
  {
   "cell_type": "markdown",
   "metadata": {},
   "source": [
    "## 부분 메소드 처리 \n",
    "\n",
    "    functools.partialmethod"
   ]
  },
  {
   "cell_type": "code",
   "execution_count": 32,
   "metadata": {
    "collapsed": false
   },
   "outputs": [
    {
     "name": "stdout",
     "output_type": "stream",
     "text": [
      "functools.partial(<bound method A.add of <__main__.A object at 0x000000000513A198>>)\n",
      "10\n"
     ]
    }
   ],
   "source": [
    "import functools as fun\n",
    "\n",
    "class A :\n",
    "    @fun.partialmethod\n",
    "    def add(self,x) :\n",
    "        def inner(y) :\n",
    "            return x+y\n",
    "        return inner\n",
    "    \n",
    "a = A()\n",
    "\n",
    "\n",
    "print(a.add)\n",
    "add = a.add(5)\n",
    "print(add(5))"
   ]
  },
  {
   "cell_type": "code",
   "execution_count": 27,
   "metadata": {
    "collapsed": false
   },
   "outputs": [
    {
     "name": "stdout",
     "output_type": "stream",
     "text": [
      "Help on class partialmethod in module functools:\n",
      "\n",
      "class partialmethod(builtins.object)\n",
      " |  Method descriptor with partial application of the given arguments\n",
      " |  and keywords.\n",
      " |  \n",
      " |  Supports wrapping existing descriptors and handles non-descriptor\n",
      " |  callables as instance methods.\n",
      " |  \n",
      " |  Methods defined here:\n",
      " |  \n",
      " |  __get__(self, obj, cls)\n",
      " |  \n",
      " |  __init__(self, func, *args, **keywords)\n",
      " |      Initialize self.  See help(type(self)) for accurate signature.\n",
      " |  \n",
      " |  __repr__(self)\n",
      " |      Return repr(self).\n",
      " |  \n",
      " |  ----------------------------------------------------------------------\n",
      " |  Data descriptors defined here:\n",
      " |  \n",
      " |  __dict__\n",
      " |      dictionary for instance variables (if defined)\n",
      " |  \n",
      " |  __isabstractmethod__\n",
      " |  \n",
      " |  __weakref__\n",
      " |      list of weak references to the object (if defined)\n",
      "\n"
     ]
    }
   ],
   "source": [
    "help(fun.partialmethod)"
   ]
  },
  {
   "cell_type": "markdown",
   "metadata": {},
   "source": [
    "# 7. 메모이제이션 함수 처리 \n",
    "\n",
    "     함수 호출 수가 입력 크기에 따라 기하 급수적으로 증가하고 있으며 수행 된 중복 계산이 많이 있음을 분명히 알 수 있습니다.\n",
    "\n",
    "     fib가 처음 호출 될 때 fib 결과를 캐싱하여 다음 번에 필요할 때 다시 사용하여 중복 계산을 제거하려고한다고 가정합니다. \n",
    "     \n",
    "     이것은 함수형 프로그래밍 세계에서 매우 인기가 있으며 memoize라고합니다."
   ]
  },
  {
   "cell_type": "code",
   "execution_count": 4,
   "metadata": {
    "collapsed": false
   },
   "outputs": [],
   "source": [
    "# 피보너치 수열 구하기\n",
    "def fib(n):\n",
    "    if n == 0 or n == 1:\n",
    "        return 1\n",
    "    else:\n",
    "        return fib(n-1) + fib(n-2)\n",
    "    \n",
    "# 계산 결산을 저장해서 처리\n",
    "# 캐싱 영역을 함수의 로컬에 놓지 않고 함수의 객체영역에 놓음\n",
    "\n",
    "def memoize(f):\n",
    "    memoize.cache = {}\n",
    "    def g(x):\n",
    "        if x not in memoize.cache:\n",
    "            memoize.cache[x] = f(x)\n",
    "        return memoize.cache[x]\n",
    "    return g\n"
   ]
  },
  {
   "cell_type": "code",
   "execution_count": 5,
   "metadata": {
    "collapsed": false
   },
   "outputs": [
    {
     "name": "stdout",
     "output_type": "stream",
     "text": [
      "89\n",
      "{0: 1, 1: 1, 2: 2, 3: 3, 4: 5, 5: 8, 6: 13, 7: 21, 8: 34, 9: 55, 10: 89}\n",
      "5\n",
      "{0: 1, 1: 1, 2: 2, 3: 3, 4: 5, 5: 8, 6: 13, 7: 21, 8: 34, 9: 55, 10: 89}\n"
     ]
    }
   ],
   "source": [
    "fib = memoize(fib)\n",
    "\n",
    "print(fib(10))\n",
    "print(memoize.cache)\n",
    "print(fib(4))\n",
    "print(memoize.cache)\n"
   ]
  },
  {
   "cell_type": "markdown",
   "metadata": {},
   "source": [
    "## 함수형 언어 처리 툴"
   ]
  },
  {
   "cell_type": "code",
   "execution_count": 33,
   "metadata": {
    "collapsed": false
   },
   "outputs": [
    {
     "data": {
      "text/plain": [
       "['MappingProxyType',\n",
       " 'RLock',\n",
       " 'WRAPPER_ASSIGNMENTS',\n",
       " 'WRAPPER_UPDATES',\n",
       " 'WeakKeyDictionary',\n",
       " '_CacheInfo',\n",
       " '_HashedSeq',\n",
       " '__all__',\n",
       " '__builtins__',\n",
       " '__cached__',\n",
       " '__doc__',\n",
       " '__file__',\n",
       " '__loader__',\n",
       " '__name__',\n",
       " '__package__',\n",
       " '__spec__',\n",
       " '_c3_merge',\n",
       " '_c3_mro',\n",
       " '_compose_mro',\n",
       " '_convert',\n",
       " '_find_impl',\n",
       " '_ge_from_gt',\n",
       " '_ge_from_le',\n",
       " '_ge_from_lt',\n",
       " '_gt_from_ge',\n",
       " '_gt_from_le',\n",
       " '_gt_from_lt',\n",
       " '_le_from_ge',\n",
       " '_le_from_gt',\n",
       " '_le_from_lt',\n",
       " '_lru_cache_wrapper',\n",
       " '_lt_from_ge',\n",
       " '_lt_from_gt',\n",
       " '_lt_from_le',\n",
       " '_make_key',\n",
       " 'cmp_to_key',\n",
       " 'get_cache_token',\n",
       " 'lru_cache',\n",
       " 'namedtuple',\n",
       " 'partial',\n",
       " 'partialmethod',\n",
       " 'reduce',\n",
       " 'singledispatch',\n",
       " 'total_ordering',\n",
       " 'update_wrapper',\n",
       " 'wraps']"
      ]
     },
     "execution_count": 33,
     "metadata": {},
     "output_type": "execute_result"
    }
   ],
   "source": [
    "import functools\n",
    "dir(functools)"
   ]
  },
  {
   "cell_type": "code",
   "execution_count": null,
   "metadata": {
    "collapsed": true
   },
   "outputs": [],
   "source": [
    "## 함수형 프로그램 처리를 위한 operator 함수"
   ]
  },
  {
   "cell_type": "code",
   "execution_count": 40,
   "metadata": {
    "collapsed": false
   },
   "outputs": [
    {
     "name": "stdout",
     "output_type": "stream",
     "text": [
      "['__abs__', '__add__', '__all__', '__and__', '__builtins__', '__cached__', '__concat__', '__contains__', '__delitem__', '__doc__', '__eq__', '__file__', '__floordiv__', '__ge__', '__getitem__', '__gt__', '__iadd__', '__iand__', '__iconcat__', '__ifloordiv__', '__ilshift__', '__imatmul__', '__imod__', '__imul__', '__index__', '__inv__', '__invert__', '__ior__', '__ipow__', '__irshift__', '__isub__', '__itruediv__', '__ixor__', '__le__', '__loader__', '__lshift__', '__lt__', '__matmul__', '__mod__', '__mul__', '__name__', '__ne__', '__neg__', '__not__', '__or__', '__package__', '__pos__', '__pow__', '__rshift__', '__setitem__', '__spec__', '__sub__', '__truediv__', '__xor__', '_abs', 'abs', 'add', 'and_', 'attrgetter', 'concat', 'contains', 'countOf', 'delitem', 'eq', 'floordiv', 'ge', 'getitem', 'gt', 'iadd', 'iand', 'iconcat', 'ifloordiv', 'ilshift', 'imatmul', 'imod', 'imul', 'index', 'indexOf', 'inv', 'invert', 'ior', 'ipow', 'irshift', 'is_', 'is_not', 'isub', 'itemgetter', 'itruediv', 'ixor', 'le', 'length_hint', 'lshift', 'lt', 'matmul', 'methodcaller', 'mod', 'mul', 'ne', 'neg', 'not_', 'or_', 'pos', 'pow', 'rshift', 'setitem', 'sub', 'truediv', 'truth', 'xor']\n"
     ]
    }
   ],
   "source": [
    "import operator\n",
    "\n",
    "print(dir(operator))\n",
    "\n"
   ]
  },
  {
   "cell_type": "markdown",
   "metadata": {},
   "source": [
    "### item 조회\n"
   ]
  },
  {
   "cell_type": "code",
   "execution_count": 41,
   "metadata": {
    "collapsed": false
   },
   "outputs": [
    {
     "name": "stdout",
     "output_type": "stream",
     "text": [
      "<class 'operator.itemgetter'>\n",
      "(1, 2)\n"
     ]
    }
   ],
   "source": [
    "import operator\n",
    "iget = operator.itemgetter(0,1)\n",
    "l = [1,2,3,4]\n",
    "print(type(iget))\n",
    "\n",
    "print(iget(l))"
   ]
  },
  {
   "cell_type": "code",
   "execution_count": 6,
   "metadata": {
    "collapsed": false
   },
   "outputs": [
    {
     "name": "stdout",
     "output_type": "stream",
     "text": [
      "327501\n",
      "327501\n",
      "5240016\n"
     ]
    }
   ],
   "source": [
    "o = object()\n",
    "\n",
    "print(o.__hash__())\n",
    "print(hash(o))\n",
    "print(id(o))"
   ]
  },
  {
   "cell_type": "code",
   "execution_count": 7,
   "metadata": {
    "collapsed": false
   },
   "outputs": [
    {
     "name": "stdout",
     "output_type": "stream",
     "text": [
      "Help on built-in function hash in module builtins:\n",
      "\n",
      "hash(obj, /)\n",
      "    Return the hash value for the given object.\n",
      "    \n",
      "    Two objects that compare equal must also have the same hash value, but the\n",
      "    reverse is not necessarily true.\n",
      "\n"
     ]
    }
   ],
   "source": [
    "help(hash)"
   ]
  },
  {
   "cell_type": "code",
   "execution_count": 8,
   "metadata": {
    "collapsed": false
   },
   "outputs": [
    {
     "name": "stdout",
     "output_type": "stream",
     "text": [
      "Help on built-in function id in module builtins:\n",
      "\n",
      "id(obj, /)\n",
      "    Return the identity of an object.\n",
      "    \n",
      "    This is guaranteed to be unique among simultaneously existing objects.\n",
      "    (CPython uses the object's memory address.)\n",
      "\n"
     ]
    }
   ],
   "source": [
    "help(id)"
   ]
  },
  {
   "cell_type": "code",
   "execution_count": null,
   "metadata": {
    "collapsed": true
   },
   "outputs": [],
   "source": []
  }
 ],
 "metadata": {
  "anaconda-cloud": {},
  "kernelspec": {
   "display_name": "Python [conda root]",
   "language": "python",
   "name": "conda-root-py"
  },
  "language_info": {
   "codemirror_mode": {
    "name": "ipython",
    "version": 3
   },
   "file_extension": ".py",
   "mimetype": "text/x-python",
   "name": "python",
   "nbconvert_exporter": "python",
   "pygments_lexer": "ipython3",
   "version": "3.5.2"
  }
 },
 "nbformat": 4,
 "nbformat_minor": 1
}
