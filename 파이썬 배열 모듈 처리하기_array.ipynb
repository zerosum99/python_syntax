{
 "cells": [
  {
   "cell_type": "code",
   "execution_count": 4,
   "metadata": {
    "collapsed": false
   },
   "outputs": [
    {
     "name": "stderr",
     "output_type": "stream",
     "text": [
      "Python 3.5.2 :: Anaconda 4.2.0 (64-bit)\n"
     ]
    }
   ],
   "source": [
    "!python --version"
   ]
  },
  {
   "cell_type": "code",
   "execution_count": null,
   "metadata": {
    "collapsed": false
   },
   "outputs": [],
   "source": [
    "!python --help"
   ]
  },
  {
   "cell_type": "markdown",
   "metadata": {
    "collapsed": false
   },
   "source": [
    "## array 모듈 내의 타입 코드\n",
    "\n",
    "       Type code        C Type          Minimum size in bytes \n",
    "          'b'         signed integer        1 \n",
    "          'B'         unsigned integer      1 \n",
    "          'u'         Unicode character     2 (see note) \n",
    "          'h'         signed integer        2 \n",
    "          'H'         unsigned integer      2 \n",
    "          'i'         signed integer        2 \n",
    "          'I'         unsigned integer      2 \n",
    "          'l'         signed integer        4 \n",
    "          'L'         unsigned integer      4 \n",
    "          'q'         signed integer        8 (see note) \n",
    "          'Q'         unsigned integer      8 (see note) \n",
    "          'f'         floating point        4 \n",
    "          'd'         floating point        8 \n",
    "          \n",
    "          "
   ]
  },
  {
   "cell_type": "markdown",
   "metadata": {},
   "source": [
    "### 실제 배열의 사이즈는 약간 차이를 가진다. \n"
   ]
  },
  {
   "cell_type": "code",
   "execution_count": 7,
   "metadata": {
    "collapsed": false
   },
   "outputs": [
    {
     "name": "stdout",
     "output_type": "stream",
     "text": [
      "array('b', [1, 2, 3, 4])\n",
      "1\n",
      "b'\\x01\\x02\\x03\\x04'\n"
     ]
    }
   ],
   "source": [
    "import array\n",
    "\n",
    "ar = array.array('b',[1,2,3,4])\n",
    "print(ar)\n",
    "print(ar.itemsize)\n",
    "print(ar.tobytes())"
   ]
  },
  {
   "cell_type": "code",
   "execution_count": 8,
   "metadata": {
    "collapsed": false
   },
   "outputs": [
    {
     "name": "stdout",
     "output_type": "stream",
     "text": [
      "array('B', [1, 2, 3, 4])\n",
      "1\n",
      "b'\\x01\\x02\\x03\\x04'\n"
     ]
    }
   ],
   "source": [
    "import array\n",
    "\n",
    "ar = array.array('B',[1,2,3,4])\n",
    "print(ar)\n",
    "print(ar.itemsize)\n",
    "print(ar.tobytes())"
   ]
  },
  {
   "cell_type": "code",
   "execution_count": 19,
   "metadata": {
    "collapsed": false
   },
   "outputs": [
    {
     "name": "stdout",
     "output_type": "stream",
     "text": [
      "array('u', 'abc')\n",
      "2\n",
      "b'a\\x00b\\x00c\\x00'\n"
     ]
    }
   ],
   "source": [
    "import array\n",
    "\n",
    "ar = array.array('u',['a','b','c'])\n",
    "print(ar)\n",
    "print(ar.itemsize)\n",
    "print(ar.tobytes())"
   ]
  },
  {
   "cell_type": "code",
   "execution_count": 20,
   "metadata": {
    "collapsed": false
   },
   "outputs": [
    {
     "name": "stdout",
     "output_type": "stream",
     "text": [
      "array('h', [1, 2, 3, 4])\n",
      "2\n",
      "b'\\x01\\x00\\x02\\x00\\x03\\x00\\x04\\x00'\n"
     ]
    }
   ],
   "source": [
    "import array\n",
    "\n",
    "ar = array.array('h',[1,2,3,4])\n",
    "print(ar)\n",
    "print(ar.itemsize)\n",
    "print(ar.tobytes())"
   ]
  },
  {
   "cell_type": "code",
   "execution_count": 21,
   "metadata": {
    "collapsed": false
   },
   "outputs": [
    {
     "name": "stdout",
     "output_type": "stream",
     "text": [
      "array('H', [1, 2, 3, 4])\n",
      "2\n",
      "b'\\x01\\x00\\x02\\x00\\x03\\x00\\x04\\x00'\n"
     ]
    }
   ],
   "source": [
    "import array\n",
    "\n",
    "ar = array.array('H',[1,2,3,4])\n",
    "print(ar)\n",
    "print(ar.itemsize)\n",
    "print(ar.tobytes())"
   ]
  },
  {
   "cell_type": "code",
   "execution_count": 2,
   "metadata": {
    "collapsed": false
   },
   "outputs": [
    {
     "name": "stdout",
     "output_type": "stream",
     "text": [
      "array('i', [1, 2, 3, 4])\n",
      "4\n",
      "b'\\x01\\x00\\x00\\x00\\x02\\x00\\x00\\x00\\x03\\x00\\x00\\x00\\x04\\x00\\x00\\x00'\n"
     ]
    }
   ],
   "source": [
    "import array\n",
    "\n",
    "ar = array.array('i',[1,2,3,4])\n",
    "print(ar)\n",
    "\n",
    "print(ar.itemsize)\n",
    "print(ar.tobytes())"
   ]
  },
  {
   "cell_type": "code",
   "execution_count": 22,
   "metadata": {
    "collapsed": false
   },
   "outputs": [
    {
     "name": "stdout",
     "output_type": "stream",
     "text": [
      "array('I', [1, 2, 3, 4])\n",
      "4\n",
      "b'\\x01\\x00\\x00\\x00\\x02\\x00\\x00\\x00\\x03\\x00\\x00\\x00\\x04\\x00\\x00\\x00'\n"
     ]
    }
   ],
   "source": [
    "import array\n",
    "\n",
    "ar = array.array('I',[1,2,3,4])\n",
    "print(ar)\n",
    "print(ar.itemsize)\n",
    "print(ar.tobytes())"
   ]
  },
  {
   "cell_type": "code",
   "execution_count": 23,
   "metadata": {
    "collapsed": false
   },
   "outputs": [
    {
     "name": "stdout",
     "output_type": "stream",
     "text": [
      "array('l', [1, 2, 3, 4])\n",
      "4\n",
      "b'\\x01\\x00\\x00\\x00\\x02\\x00\\x00\\x00\\x03\\x00\\x00\\x00\\x04\\x00\\x00\\x00'\n"
     ]
    }
   ],
   "source": [
    "import array\n",
    "\n",
    "ar = array.array('l',[1,2,3,4])\n",
    "print(ar)\n",
    "print(ar.itemsize)\n",
    "print(ar.tobytes())"
   ]
  },
  {
   "cell_type": "code",
   "execution_count": 24,
   "metadata": {
    "collapsed": false
   },
   "outputs": [
    {
     "name": "stdout",
     "output_type": "stream",
     "text": [
      "array('L', [1, 2, 3, 4])\n",
      "4\n",
      "b'\\x01\\x00\\x00\\x00\\x02\\x00\\x00\\x00\\x03\\x00\\x00\\x00\\x04\\x00\\x00\\x00'\n"
     ]
    }
   ],
   "source": [
    "import array\n",
    "\n",
    "ar = array.array('L',[1,2,3,4])\n",
    "print(ar)\n",
    "print(ar.itemsize)\n",
    "print(ar.tobytes())"
   ]
  },
  {
   "cell_type": "code",
   "execution_count": 25,
   "metadata": {
    "collapsed": false
   },
   "outputs": [
    {
     "name": "stdout",
     "output_type": "stream",
     "text": [
      "array('q', [1, 2, 3, 4])\n",
      "8\n",
      "b'\\x01\\x00\\x00\\x00\\x00\\x00\\x00\\x00\\x02\\x00\\x00\\x00\\x00\\x00\\x00\\x00\\x03\\x00\\x00\\x00\\x00\\x00\\x00\\x00\\x04\\x00\\x00\\x00\\x00\\x00\\x00\\x00'\n"
     ]
    }
   ],
   "source": [
    "import array\n",
    "\n",
    "ar = array.array('q',[1,2,3,4])\n",
    "print(ar)\n",
    "print(ar.itemsize)\n",
    "print(ar.tobytes())"
   ]
  },
  {
   "cell_type": "code",
   "execution_count": 26,
   "metadata": {
    "collapsed": false
   },
   "outputs": [
    {
     "name": "stdout",
     "output_type": "stream",
     "text": [
      "array('Q', [1, 2, 3, 4])\n",
      "8\n",
      "b'\\x01\\x00\\x00\\x00\\x00\\x00\\x00\\x00\\x02\\x00\\x00\\x00\\x00\\x00\\x00\\x00\\x03\\x00\\x00\\x00\\x00\\x00\\x00\\x00\\x04\\x00\\x00\\x00\\x00\\x00\\x00\\x00'\n"
     ]
    }
   ],
   "source": [
    "import array\n",
    "\n",
    "ar = array.array('Q',[1,2,3,4])\n",
    "print(ar)\n",
    "print(ar.itemsize)\n",
    "print(ar.tobytes())"
   ]
  },
  {
   "cell_type": "code",
   "execution_count": 27,
   "metadata": {
    "collapsed": false
   },
   "outputs": [
    {
     "name": "stdout",
     "output_type": "stream",
     "text": [
      "array('f', [1.0, 2.0, 3.0, 4.0])\n",
      "4\n",
      "b'\\x00\\x00\\x80?\\x00\\x00\\x00@\\x00\\x00@@\\x00\\x00\\x80@'\n"
     ]
    }
   ],
   "source": [
    "import array\n",
    "\n",
    "ar = array.array('f',[1,2,3,4])\n",
    "print(ar)\n",
    "print(ar.itemsize)\n",
    "print(ar.tobytes())"
   ]
  },
  {
   "cell_type": "code",
   "execution_count": 28,
   "metadata": {
    "collapsed": false
   },
   "outputs": [
    {
     "name": "stdout",
     "output_type": "stream",
     "text": [
      "array('d', [1.0, 2.0, 3.0, 4.0])\n",
      "8\n",
      "b'\\x00\\x00\\x00\\x00\\x00\\x00\\xf0?\\x00\\x00\\x00\\x00\\x00\\x00\\x00@\\x00\\x00\\x00\\x00\\x00\\x00\\x08@\\x00\\x00\\x00\\x00\\x00\\x00\\x10@'\n"
     ]
    }
   ],
   "source": [
    "import array\n",
    "\n",
    "ar = array.array('d',[1,2,3,4])\n",
    "print(ar)\n",
    "print(ar.itemsize)\n",
    "print(ar.tobytes())"
   ]
  },
  {
   "cell_type": "markdown",
   "metadata": {},
   "source": [
    "### array 모듈에 대한 포매팅 처리 \n",
    "\n"
   ]
  },
  {
   "cell_type": "code",
   "execution_count": 29,
   "metadata": {
    "collapsed": false
   },
   "outputs": [
    {
     "name": "stdout",
     "output_type": "stream",
     "text": [
      "array('d', [1.0, 2.0, 3.0, 4.0])\n"
     ]
    }
   ],
   "source": [
    "import array\n",
    "\n",
    "ar = array.array('d',[1,2,3,4])\n",
    "print(ar)"
   ]
  },
  {
   "cell_type": "code",
   "execution_count": 31,
   "metadata": {
    "collapsed": false
   },
   "outputs": [
    {
     "name": "stdout",
     "output_type": "stream",
     "text": [
      "+1.000000; -3.140000\n",
      " 2.000000; -3.140000\n",
      "3.000000; -3.140000\n"
     ]
    }
   ],
   "source": [
    "print('{:+f}; {:+f}'.format(ar[0], -3.14))\n",
    "\n",
    "# 빈공간을 하나를 줘도 부호표시를 함\n",
    "print('{: f}; {: f}'.format(ar[1], -3.14))\n",
    "\n",
    "print('{:-f}; {:-f}'.format(ar[2], -3.14))"
   ]
  },
  {
   "cell_type": "markdown",
   "metadata": {},
   "source": [
    "#### 진법에 따라 표시하기 \n",
    "\n",
    "    #을 분여야 앞에 명확한 진법 기호를 붙여서 처리한다.\n",
    "    "
   ]
  },
  {
   "cell_type": "code",
   "execution_count": 32,
   "metadata": {
    "collapsed": false
   },
   "outputs": [
    {
     "name": "stdout",
     "output_type": "stream",
     "text": [
      "array('i', [1, 2, 3, 4])\n",
      "int: 3;  hex: 3;  oct: 3;  bin: 11\n",
      "int: 3;  hex: 0x3;  oct: 0o3;  bin: 0b11\n"
     ]
    }
   ],
   "source": [
    "import array\n",
    "\n",
    "ari = array.array('i',[1,2,3,4])\n",
    "print(ari)\n",
    "\n",
    "print(\"int: {0:d};  hex: {0:x};  oct: {0:o};  bin: {0:b}\".format(ari[2]))\n",
    "\n",
    "print(\"int: {0:d};  hex: {0:#x};  oct: {0:#o};  bin: {0:#b}\".format(ari[2]))"
   ]
  },
  {
   "cell_type": "code",
   "execution_count": 33,
   "metadata": {
    "collapsed": false
   },
   "outputs": [
    {
     "name": "stdout",
     "output_type": "stream",
     "text": [
      "0.8636363636363636\n",
      "Correct answers: 86.36%\n",
      "Correct answers: 86.36%\n"
     ]
    }
   ],
   "source": [
    "points = 19\n",
    "total = 22\n",
    "print(points/total)\n",
    "print('Correct answers: {:.2%}'.format(points/total))\n",
    "print(\"Correct answers: %2.2f%%\" % ((points/total)*100))"
   ]
  },
  {
   "cell_type": "code",
   "execution_count": 34,
   "metadata": {
    "collapsed": false
   },
   "outputs": [
    {
     "name": "stdout",
     "output_type": "stream",
     "text": [
      "Correct answers: 1,234,567,890\n"
     ]
    }
   ],
   "source": [
    "points = 1234567890\n",
    "print('Correct answers: {:,}'.format(points))\n"
   ]
  },
  {
   "cell_type": "code",
   "execution_count": 35,
   "metadata": {
    "collapsed": false
   },
   "outputs": [
    {
     "name": "stdout",
     "output_type": "stream",
     "text": [
      "array('u', 'hello ♁')\n",
      "b'h\\x00e\\x00l\\x00l\\x00o\\x00 \\x00A&'\n",
      "2\n"
     ]
    }
   ],
   "source": [
    "from array import array\n",
    "\n",
    "u = array('u', 'hello \\u2641')\n",
    "print(u)\n",
    "print(u.tobytes())\n",
    "print(u.itemsize)"
   ]
  },
  {
   "cell_type": "code",
   "execution_count": 36,
   "metadata": {
    "collapsed": false
   },
   "outputs": [
    {
     "name": "stdout",
     "output_type": "stream",
     "text": [
      "{'c': 3, 'a': 1, 'b': 2}\n",
      "{'c': 3, 'a': 1, 'b': 2}\n"
     ]
    }
   ],
   "source": [
    "import pickle\n",
    "\n",
    "# write python dict to a file\n",
    "mydict = {'a': 1, 'b': 2, 'c': 3}\n",
    "output = open('myfile.pkl', 'wb')\n",
    "pickle.dump(mydict, output)\n",
    "output.close()\n",
    "\n",
    "# read python dict back from the file\n",
    "pkl_file = open('myfile.pkl', 'rb')\n",
    "mydict2 = pickle.load(pkl_file)\n",
    "pkl_file.close()\n",
    "\n",
    "print(mydict)\n",
    "print (mydict2)"
   ]
  },
  {
   "cell_type": "code",
   "execution_count": 37,
   "metadata": {
    "collapsed": false
   },
   "outputs": [
    {
     "name": "stdout",
     "output_type": "stream",
     "text": [
      "C:\\Users\\06411\\Documents\\GitHub\\python_basic\n",
      "C:\\Users\\06411\\Documents\n",
      "somefile.txt\n"
     ]
    }
   ],
   "source": [
    "import os\n",
    "\n",
    "print(os.getcwd())\n",
    "\n",
    "print(os.path.dirname(r\"C:\\Users\\06411\\Documents\\somefile.txt\"))\n",
    "print(os.path.basename(r\"C:\\Users\\06411\\Documents\\somefile.txt\"))"
   ]
  },
  {
   "cell_type": "code",
   "execution_count": 38,
   "metadata": {
    "collapsed": false
   },
   "outputs": [
    {
     "name": "stdout",
     "output_type": "stream",
     "text": [
      "b'\\x00\\xacD\\xc7t\\xc7\\x80\\xb7'\n",
      "b'\\xac\\x00\\xc7D\\xc7t\\xb7\\x80'\n"
     ]
    }
   ],
   "source": [
    "h = \"가을이란\"\n",
    "\n",
    "ble = h.encode(encoding=\"utf-16le\")\n",
    "print(ble)\n",
    "\n",
    "bbe = h.encode(encoding=\"utf-16be\")\n",
    "print(bbe)"
   ]
  },
  {
   "cell_type": "code",
   "execution_count": 40,
   "metadata": {
    "collapsed": false
   },
   "outputs": [
    {
     "name": "stdout",
     "output_type": "stream",
     "text": [
      "<class 'type'>\n",
      "<class 'int'>\n"
     ]
    }
   ],
   "source": [
    "print(type(int))\n",
    "print(type(100))\n"
   ]
  }
 ],
 "metadata": {
  "anaconda-cloud": {},
  "kernelspec": {
   "display_name": "Python [conda root]",
   "language": "python",
   "name": "conda-root-py"
  },
  "language_info": {
   "codemirror_mode": {
    "name": "ipython",
    "version": 3
   },
   "file_extension": ".py",
   "mimetype": "text/x-python",
   "name": "python",
   "nbconvert_exporter": "python",
   "pygments_lexer": "ipython3",
   "version": "3.5.2"
  }
 },
 "nbformat": 4,
 "nbformat_minor": 1
}
