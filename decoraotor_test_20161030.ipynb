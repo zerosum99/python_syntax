{
 "cells": [
  {
   "cell_type": "code",
   "execution_count": 9,
   "metadata": {
    "collapsed": false
   },
   "outputs": [
    {
     "name": "stdout",
     "output_type": "stream",
     "text": [
      "['__annotations__', '__call__', '__class__', '__closure__', '__code__', '__defaults__', '__delattr__', '__dict__', '__dir__', '__doc__', '__eq__', '__format__', '__ge__', '__get__', '__getattribute__', '__globals__', '__gt__', '__hash__', '__init__', '__kwdefaults__', '__le__', '__lt__', '__module__', '__name__', '__ne__', '__new__', '__qualname__', '__reduce__', '__reduce_ex__', '__repr__', '__setattr__', '__sizeof__', '__str__', '__subclasshook__']\n",
      "wrapper\n"
     ]
    },
    {
     "ename": "AttributeError",
     "evalue": "'function' object has no attribute '__wrapped__'",
     "output_type": "error",
     "traceback": [
      "\u001b[0;31m---------------------------------------------------------------------------\u001b[0m",
      "\u001b[0;31mAttributeError\u001b[0m                            Traceback (most recent call last)",
      "\u001b[0;32m<ipython-input-9-8c9f59e498c2>\u001b[0m in \u001b[0;36m<module>\u001b[0;34m()\u001b[0m\n\u001b[1;32m     18\u001b[0m \u001b[0mprint\u001b[0m\u001b[1;33m(\u001b[0m\u001b[0mdir\u001b[0m\u001b[1;33m(\u001b[0m\u001b[0madd\u001b[0m\u001b[1;33m)\u001b[0m\u001b[1;33m)\u001b[0m\u001b[1;33m\u001b[0m\u001b[0m\n\u001b[1;32m     19\u001b[0m \u001b[0mprint\u001b[0m\u001b[1;33m(\u001b[0m\u001b[0madd\u001b[0m\u001b[1;33m.\u001b[0m\u001b[0m__name__\u001b[0m\u001b[1;33m)\u001b[0m\u001b[1;33m\u001b[0m\u001b[0m\n\u001b[0;32m---> 20\u001b[0;31m \u001b[0mprint\u001b[0m\u001b[1;33m(\u001b[0m\u001b[0madd\u001b[0m\u001b[1;33m.\u001b[0m\u001b[0m__wrapped__\u001b[0m\u001b[1;33m(\u001b[0m\u001b[1;36m30\u001b[0m\u001b[1;33m,\u001b[0m\u001b[1;36m30\u001b[0m\u001b[1;33m)\u001b[0m\u001b[1;33m)\u001b[0m\u001b[1;33m\u001b[0m\u001b[0m\n\u001b[0m\u001b[1;32m     21\u001b[0m \u001b[0mprint\u001b[0m\u001b[1;33m(\u001b[0m\u001b[0minspect\u001b[0m\u001b[1;33m.\u001b[0m\u001b[0mgetsource\u001b[0m\u001b[1;33m(\u001b[0m\u001b[0madd\u001b[0m\u001b[1;33m)\u001b[0m\u001b[1;33m)\u001b[0m\u001b[1;33m\u001b[0m\u001b[0m\n",
      "\u001b[0;31mAttributeError\u001b[0m: 'function' object has no attribute '__wrapped__'"
     ]
    }
   ],
   "source": [
    "from functools import wraps\n",
    "import inspect\n",
    "\n",
    "def func_dec(func) :\n",
    "    #@wraps(func)\n",
    "    def wrapper(*args, **kwargs) :\n",
    "        print(\" decorator func \", func.__name__)\n",
    "        print(\" doc string \", func.__doc__)\n",
    "        return func(*args, **kwargs)\n",
    "    return wrapper\n",
    "\n",
    "@func_dec\n",
    "def add(x,y) :\n",
    "    \" doc string \"\n",
    "    return x+y \n",
    "\n",
    "#print(add(10,10))\n",
    "print(dir(add))\n",
    "print(add.__name__)\n",
    "print(add.__wrapped__(30,30))\n",
    "print(inspect.getsource(add))"
   ]
  },
  {
   "cell_type": "code",
   "execution_count": 10,
   "metadata": {
    "collapsed": false
   },
   "outputs": [
    {
     "name": "stdout",
     "output_type": "stream",
     "text": [
      " decorator func  add\n",
      " doc string   doc string \n",
      "20\n",
      "add\n",
      "['__annotations__', '__call__', '__class__', '__closure__', '__code__', '__defaults__', '__delattr__', '__dict__', '__dir__', '__doc__', '__eq__', '__format__', '__ge__', '__get__', '__getattribute__', '__globals__', '__gt__', '__hash__', '__init__', '__kwdefaults__', '__le__', '__lt__', '__module__', '__name__', '__ne__', '__new__', '__qualname__', '__reduce__', '__reduce_ex__', '__repr__', '__setattr__', '__sizeof__', '__str__', '__subclasshook__', '__wrapped__']\n",
      "@func_dec\n",
      "def add(x,y) :\n",
      "    \" doc string \"\n",
      "    return x+y \n",
      "\n"
     ]
    }
   ],
   "source": [
    "from functools import wraps\n",
    "import inspect\n",
    "\n",
    "def func_dec(func) :\n",
    "    @wraps(func)\n",
    "    def wrapper(*args, **kwargs) :\n",
    "        print(\" decorator func \", func.__name__)\n",
    "        print(\" doc string \", func.__doc__)\n",
    "        return func(*args, **kwargs)\n",
    "    return wrapper\n",
    "\n",
    "@func_dec\n",
    "def add(x,y) :\n",
    "    \" doc string \"\n",
    "    return x+y \n",
    "\n",
    "print(add(10,10))\n",
    "print(add.__name__)\n",
    "print(dir(add))\n",
    "print(inspect.getsource(add))"
   ]
  },
  {
   "cell_type": "code",
   "execution_count": 12,
   "metadata": {
    "collapsed": false
   },
   "outputs": [
    {
     "name": "stdout",
     "output_type": "stream",
     "text": [
      "['__annotations__', '__call__', '__class__', '__closure__', '__code__', '__defaults__', '__delattr__', '__dict__', '__dir__', '__doc__', '__eq__', '__format__', '__ge__', '__get__', '__getattribute__', '__globals__', '__gt__', '__hash__', '__init__', '__kwdefaults__', '__le__', '__lt__', '__module__', '__name__', '__ne__', '__new__', '__qualname__', '__reduce__', '__reduce_ex__', '__repr__', '__setattr__', '__sizeof__', '__str__', '__subclasshook__', '__wrapped__']\n",
      "20\n"
     ]
    }
   ],
   "source": [
    "from functools import wraps\n",
    "import inspect\n",
    "\n",
    "def func_dec(func) :\n",
    "    @wraps(func)\n",
    "    def wrapper(*args, **kwargs) :\n",
    "        print(\" decorator func \", func.__name__)\n",
    "        print(\" doc string \", func.__doc__)\n",
    "        return func(*args, **kwargs)\n",
    "    return wrapper\n",
    "\n",
    "@func_dec\n",
    "def add(x,y) :\n",
    "    \" doc string \"\n",
    "    return x+y \n",
    "\n",
    "\n",
    "print(dir(add))\n",
    "print(add.__wrapped__(10,10))\n"
   ]
  },
  {
   "cell_type": "code",
   "execution_count": 15,
   "metadata": {
    "collapsed": false
   },
   "outputs": [
    {
     "name": "stdout",
     "output_type": "stream",
     "text": [
      " decorator func  add\n",
      " doc string   doc string \n",
      "50\n"
     ]
    }
   ],
   "source": [
    "from functools import wraps\n",
    "class A :\n",
    "    def decorator(self, func) :\n",
    "        @wraps(func)\n",
    "        def wrapper(*args, **kwargs) :\n",
    "            print(\" decorator func \", func.__name__)\n",
    "            print(\" doc string \", func.__doc__)\n",
    "            return func(*args, **kwargs)\n",
    "        return wrapper\n",
    "    \n",
    "a = A()\n",
    "\n",
    "@a.decorator\n",
    "def add(x,y) :\n",
    "    \" doc string \"\n",
    "    return x+y \n",
    "\n",
    "print(add(20,30))"
   ]
  },
  {
   "cell_type": "code",
   "execution_count": 16,
   "metadata": {
    "collapsed": false
   },
   "outputs": [
    {
     "name": "stdout",
     "output_type": "stream",
     "text": [
      " decorator func  add\n",
      " doc string   doc string \n",
      "50\n"
     ]
    }
   ],
   "source": [
    "from functools import wraps\n",
    "class A :\n",
    "    @classmethod\n",
    "    def decorator(cls, func) :\n",
    "        @wraps(func)\n",
    "        def wrapper(*args, **kwargs) :\n",
    "            print(\" decorator func \", func.__name__)\n",
    "            print(\" doc string \", func.__doc__)\n",
    "            return func(*args, **kwargs)\n",
    "        return wrapper\n",
    "    \n",
    "\n",
    "\n",
    "@A.decorator\n",
    "def add(x,y) :\n",
    "    \" doc string \"\n",
    "    return x+y \n",
    "\n",
    "print(add(20,30))"
   ]
  },
  {
   "cell_type": "code",
   "execution_count": 17,
   "metadata": {
    "collapsed": false
   },
   "outputs": [
    {
     "name": "stdout",
     "output_type": "stream",
     "text": [
      " decorator exec \n"
     ]
    }
   ],
   "source": [
    "def func(func_arg) :\n",
    "    print(\" decorator exec \")\n",
    "    return func_arg\n",
    "@func\n",
    "def add(x,y) :\n",
    "    return x+y\n"
   ]
  },
  {
   "cell_type": "code",
   "execution_count": 19,
   "metadata": {
    "collapsed": false
   },
   "outputs": [
    {
     "name": "stdout",
     "output_type": "stream",
     "text": [
      " A __init__\n"
     ]
    }
   ],
   "source": [
    "from functools import wraps\n",
    "class A :\n",
    "    def __init__(self,func) : \n",
    "        print(\" A __init__\")\n",
    "        wraps(func)(self)\n",
    "        \n",
    "    def __call__(self,*args, **kwargs) :\n",
    "        print(\" A __call__\")\n",
    "        return self.__wrapped__(*args, **kwargs)\n",
    "    \n",
    "@A\n",
    "def add(x,y) :\n",
    "    return x+y"
   ]
  },
  {
   "cell_type": "code",
   "execution_count": 27,
   "metadata": {
    "collapsed": false
   },
   "outputs": [
    {
     "name": "stdout",
     "output_type": "stream",
     "text": [
      " A __init__\n",
      "<function add at 0x00000000051228C8>\n",
      "functools.partial(<function update_wrapper at 0x00000000008480D0>, wrapped=<function add at 0x00000000051228C8>, updated=('__dict__',), assigned=('__module__', '__name__', '__qualname__', '__doc__', '__annotations__'))\n",
      "{'__qualname__': 'add', '__wrapped__': <function add at 0x00000000051228C8>, '__module__': '__main__', '__name__': 'add', '__doc__': None, '__annotations__': {}}\n",
      " A __call__\n",
      "10\n"
     ]
    }
   ],
   "source": [
    "from functools import wraps\n",
    "class A :\n",
    "    def __init__(self,func) : \n",
    "        print(\" A __init__\")\n",
    "        print(func)\n",
    "        a = wraps(func)\n",
    "        print(a) \n",
    "        a(self)\n",
    "        print(self.__dict__)\n",
    "        \n",
    "    def __call__(self,*args, **kwargs) :\n",
    "        print(\" A __call__\")\n",
    "        return self.__wrapped__(*args, **kwargs)\n",
    "    \n",
    "@A\n",
    "def add(x,y) :\n",
    "    return x+y\n",
    "\n",
    "print(add(5,5))"
   ]
  },
  {
   "cell_type": "code",
   "execution_count": 23,
   "metadata": {
    "collapsed": false
   },
   "outputs": [
    {
     "name": "stdout",
     "output_type": "stream",
     "text": [
      "Help on function wraps in module functools:\n",
      "\n",
      "wraps(wrapped, assigned=('__module__', '__name__', '__qualname__', '__doc__', '__annotations__'), updated=('__dict__',))\n",
      "    Decorator factory to apply update_wrapper() to a wrapper function\n",
      "    \n",
      "    Returns a decorator that invokes update_wrapper() with the decorated\n",
      "    function as the wrapper argument and the arguments to wraps() as the\n",
      "    remaining arguments. Default arguments are as for update_wrapper().\n",
      "    This is a convenience function to simplify applying partial() to\n",
      "    update_wrapper().\n",
      "\n"
     ]
    }
   ],
   "source": [
    "(wraps)"
   ]
  },
  {
   "cell_type": "code",
   "execution_count": 28,
   "metadata": {
    "collapsed": false
   },
   "outputs": [
    {
     "name": "stdout",
     "output_type": "stream",
     "text": [
      " __new__\n"
     ]
    }
   ],
   "source": [
    "class A() :\n",
    "    def __new__(cls,func) :\n",
    "        print(\" __new__\")\n",
    "        return func\n",
    "    \n",
    "@A\n",
    "def add(x,y) :\n",
    "    return x+y"
   ]
  },
  {
   "cell_type": "code",
   "execution_count": 29,
   "metadata": {
    "collapsed": false
   },
   "outputs": [
    {
     "name": "stdout",
     "output_type": "stream",
     "text": [
      " __new__\n",
      "10\n"
     ]
    }
   ],
   "source": [
    "class A() :\n",
    "    def __new__(cls,func) :\n",
    "        print(\" __new__\")\n",
    "        return func\n",
    "    \n",
    "@A\n",
    "def add(x,y) :\n",
    "    return x+y\n",
    "\n",
    "print(add(5,5))"
   ]
  },
  {
   "cell_type": "code",
   "execution_count": 30,
   "metadata": {
    "collapsed": false
   },
   "outputs": [
    {
     "name": "stdout",
     "output_type": "stream",
     "text": [
      " __init__\n"
     ]
    }
   ],
   "source": [
    "class A() :\n",
    "    def __init__(self,func) :\n",
    "        print(\" __init__\")\n",
    "        self.func = func\n",
    "        \n",
    "    def __call__(self,*args,**kwargs) :\n",
    "        print(\" __call__\")\n",
    "        self.func(*args,**kwargs)\n",
    "    \n",
    "@A\n",
    "def add(x,y) :\n",
    "    return x+y"
   ]
  },
  {
   "cell_type": "code",
   "execution_count": 32,
   "metadata": {
    "collapsed": false
   },
   "outputs": [
    {
     "name": "stdout",
     "output_type": "stream",
     "text": [
      " __init__\n",
      " __call__\n",
      "20\n"
     ]
    }
   ],
   "source": [
    "class A() :\n",
    "    def __init__(self,func) :\n",
    "        print(\" __init__\")\n",
    "        self.func = func\n",
    "        \n",
    "    def __call__(self,*args,**kwargs) :\n",
    "        print(\" __call__\")\n",
    "        return self.func(*args,**kwargs)\n",
    "    \n",
    "@A\n",
    "def add(x,y) :\n",
    "    return x+y\n",
    "print(add(10,10))"
   ]
  },
  {
   "cell_type": "code",
   "execution_count": 37,
   "metadata": {
    "collapsed": false
   },
   "outputs": [
    {
     "name": "stdout",
     "output_type": "stream",
     "text": [
      " __init__\n",
      " __call__\n"
     ]
    }
   ],
   "source": [
    "class A() :\n",
    "    def __init__(self,name) :\n",
    "        print(\" __init__\")\n",
    "        self.name = name\n",
    "        \n",
    "    def __call__(self,func) :\n",
    "        print(\" __call__\")\n",
    "        def wrapper(*args,**kwargs) : \n",
    "            print(\" wrapper \", self.name)\n",
    "            return func(*args,**kwargs)\n",
    "        return wrapper\n",
    "    \n",
    "@A(\"decorator para\")\n",
    "def add(x,y) :\n",
    "    return x+y\n"
   ]
  },
  {
   "cell_type": "code",
   "execution_count": 36,
   "metadata": {
    "collapsed": false
   },
   "outputs": [
    {
     "name": "stdout",
     "output_type": "stream",
     "text": [
      " __init__\n",
      " __call__\n",
      " wrapper  decorator para\n",
      "20\n"
     ]
    }
   ],
   "source": [
    "class A() :\n",
    "    def __init__(self,name) :\n",
    "        print(\" __init__\")\n",
    "        self.name = name\n",
    "        \n",
    "    def __call__(self,func) :\n",
    "        print(\" __call__\")\n",
    "        def wrapper(*args,**kwargs) : \n",
    "            print(\" wrapper \", self.name)\n",
    "            return func(*args,**kwargs)\n",
    "        return wrapper\n",
    "    \n",
    "@A(\"decorator para\")\n",
    "def add(x,y) :\n",
    "    return x+y\n",
    "\n",
    "print(add(10,10))"
   ]
  },
  {
   "cell_type": "code",
   "execution_count": 42,
   "metadata": {
    "collapsed": false
   },
   "outputs": [
    {
     "name": "stdout",
     "output_type": "stream",
     "text": [
      " __init__\n",
      " __init__\n",
      " __call__\n",
      "20\n",
      " __call__\n",
      "<__main__.B object at 0x0000000005133DA0> 1\n"
     ]
    }
   ],
   "source": [
    "from functools import wraps\n",
    "import types\n",
    "class A() :\n",
    "    def __init__(self,func) :\n",
    "        print(\" __init__\")\n",
    "        wraps(func)(self)\n",
    "        \n",
    "    def __call__(self,*args, **kwargs) :\n",
    "        print(\" __call__\")\n",
    "        return self.__wrapped__(*args, **kwargs)\n",
    "    \n",
    "    def __get__(self, instance, cls) :\n",
    "        if instance is None :\n",
    "            return self\n",
    "        else :\n",
    "            return types.MethodType(self,instance)\n",
    "        \n",
    "@A\n",
    "def add(x,y) :\n",
    "    return x+y\n",
    "\n",
    "class B :\n",
    "    @A\n",
    "    def bar(self,x) :\n",
    "        print(self, x)\n",
    "        \n",
    "print(add(10,10))\n",
    "b = B()\n",
    "b.bar(1)"
   ]
  },
  {
   "cell_type": "code",
   "execution_count": 47,
   "metadata": {
    "collapsed": false
   },
   "outputs": [
    {
     "name": "stdout",
     "output_type": "stream",
     "text": [
      "(<cell at 0x0000000005084978: int object at 0x0000000063780310>,)\n",
      "10\n",
      " n  20\n",
      " n+ x  120\n",
      "20\n"
     ]
    }
   ],
   "source": [
    "def outer(n) :\n",
    "    def inner(x) :\n",
    "        nonlocal n\n",
    "        n += 10\n",
    "        print(\" n \", n)\n",
    "        return x+n\n",
    "    return inner\n",
    "\n",
    "inner = outer(10)\n",
    "print(inner.__closure__)\n",
    "print(inner.__closure__[0].cell_contents)\n",
    "print(\" n+ x \", inner(100))\n",
    "print(inner.__closure__[0].cell_contents)"
   ]
  },
  {
   "cell_type": "code",
   "execution_count": 48,
   "metadata": {
    "collapsed": false
   },
   "outputs": [
    {
     "name": "stdout",
     "output_type": "stream",
     "text": [
      "<class 'inspect.Signature'>\n"
     ]
    }
   ],
   "source": [
    "import inspect\n",
    "def add(x:int, y:int) -> int :\n",
    "    return x+y\n",
    "\n",
    "s = inspect.signature(add)\n",
    "print(type(s))"
   ]
  },
  {
   "cell_type": "code",
   "execution_count": 57,
   "metadata": {
    "collapsed": false
   },
   "outputs": [
    {
     "name": "stdout",
     "output_type": "stream",
     "text": [
      "(x:int, y:int) -> int\n",
      "OrderedDict([('x', <Parameter \"x:int\">), ('y', <Parameter \"y:int\">)])\n",
      "<class 'int'>\n"
     ]
    }
   ],
   "source": [
    "print(s)\n",
    "print(s.parameters)\n",
    "print(s.return_annotation)\n"
   ]
  },
  {
   "cell_type": "code",
   "execution_count": 49,
   "metadata": {
    "collapsed": false
   },
   "outputs": [
    {
     "data": {
      "text/plain": [
       "['__class__',\n",
       " '__delattr__',\n",
       " '__dir__',\n",
       " '__doc__',\n",
       " '__eq__',\n",
       " '__format__',\n",
       " '__ge__',\n",
       " '__getattribute__',\n",
       " '__gt__',\n",
       " '__hash__',\n",
       " '__init__',\n",
       " '__le__',\n",
       " '__lt__',\n",
       " '__module__',\n",
       " '__ne__',\n",
       " '__new__',\n",
       " '__reduce__',\n",
       " '__reduce_ex__',\n",
       " '__repr__',\n",
       " '__setattr__',\n",
       " '__setstate__',\n",
       " '__sizeof__',\n",
       " '__slots__',\n",
       " '__str__',\n",
       " '__subclasshook__',\n",
       " '_bind',\n",
       " '_bound_arguments_cls',\n",
       " '_hash_basis',\n",
       " '_parameter_cls',\n",
       " '_parameters',\n",
       " '_return_annotation',\n",
       " 'bind',\n",
       " 'bind_partial',\n",
       " 'empty',\n",
       " 'from_builtin',\n",
       " 'from_callable',\n",
       " 'from_function',\n",
       " 'parameters',\n",
       " 'replace',\n",
       " 'return_annotation']"
      ]
     },
     "execution_count": 49,
     "metadata": {},
     "output_type": "execute_result"
    }
   ],
   "source": [
    "dir(s)"
   ]
  },
  {
   "cell_type": "code",
   "execution_count": 1,
   "metadata": {
    "collapsed": false
   },
   "outputs": [
    {
     "ename": "SyntaxError",
     "evalue": "invalid character in identifier (<ipython-input-1-39bcc0e0e249>, line 1)",
     "output_type": "error",
     "traceback": [
      "\u001b[0;36m  File \u001b[0;32m\"<ipython-input-1-39bcc0e0e249>\"\u001b[0;36m, line \u001b[0;32m1\u001b[0m\n\u001b[0;31m    a = lambda (x,y) : x+y\u001b[0m\n\u001b[0m              ^\u001b[0m\n\u001b[0;31mSyntaxError\u001b[0m\u001b[0;31m:\u001b[0m invalid character in identifier\n"
     ]
    }
   ],
   "source": [
    "a = lambda (x,y) : x+y\n",
    "print(a(1,2))"
   ]
  },
  {
   "cell_type": "code",
   "execution_count": 60,
   "metadata": {
    "collapsed": false
   },
   "outputs": [
    {
     "name": "stderr",
     "output_type": "stream",
     "text": [
      "Python 3.5.2 :: Anaconda 4.2.0 (64-bit)\n"
     ]
    }
   ],
   "source": [
    "!python --version"
   ]
  },
  {
   "cell_type": "code",
   "execution_count": 65,
   "metadata": {
    "collapsed": false
   },
   "outputs": [
    {
     "name": "stdout",
     "output_type": "stream",
     "text": [
      "Help on A in module __main__ object:\n",
      "\n",
      "class A(builtins.object)\n",
      " |  Methods defined here:\n",
      " |  \n",
      " |  decorator(self, func)\n",
      " |  \n",
      " |  ----------------------------------------------------------------------\n",
      " |  Data descriptors defined here:\n",
      " |  \n",
      " |  __dict__\n",
      " |      dictionary for instance variables (if defined)\n",
      " |  \n",
      " |  __weakref__\n",
      " |      list of weak references to the object (if defined)\n",
      "\n"
     ]
    }
   ],
   "source": [
    "help(a)"
   ]
  },
  {
   "cell_type": "code",
   "execution_count": 4,
   "metadata": {
    "collapsed": false
   },
   "outputs": [
    {
     "ename": "SyntaxError",
     "evalue": "invalid character in identifier (<ipython-input-4-c9656baba35f>, line 1)",
     "output_type": "error",
     "traceback": [
      "\u001b[0;36m  File \u001b[0;32m\"<ipython-input-4-c9656baba35f>\"\u001b[0;36m, line \u001b[0;32m1\u001b[0m\n\u001b[0;31m    a = lambda x : x\u001b[0m\n\u001b[0m                   ^\u001b[0m\n\u001b[0;31mSyntaxError\u001b[0m\u001b[0;31m:\u001b[0m invalid character in identifier\n"
     ]
    }
   ],
   "source": [
    "a = lambda x : x\n",
    "print(a(1,2))"
   ]
  },
  {
   "cell_type": "code",
   "execution_count": 11,
   "metadata": {
    "collapsed": false
   },
   "outputs": [
    {
     "data": {
      "text/plain": [
       "(100, 81)"
      ]
     },
     "execution_count": 11,
     "metadata": {},
     "output_type": "execute_result"
    }
   ],
   "source": [
    "g = lambda x_y : (x_y[0]**2, x_y[1]**2)\n",
    "g((10,9))"
   ]
  },
  {
   "cell_type": "code",
   "execution_count": 22,
   "metadata": {
    "collapsed": false
   },
   "outputs": [
    {
     "name": "stdout",
     "output_type": "stream",
     "text": [
      "<property object at 0x00000000051319A8>\n",
      "dag\n",
      "{'_name': 'dag'}\n",
      "sag\n",
      "{'_name': 'sag'}\n"
     ]
    }
   ],
   "source": [
    "def property_def(name, typed) :\n",
    "    str_name = '_'+name\n",
    "    @property\n",
    "    def prop(self) :\n",
    "        return getattr(self,str_name)\n",
    "    \n",
    "    @prop.setter\n",
    "    def prop(self,value) :\n",
    "        setattr(self,str_name, value)\n",
    "    return prop\n",
    "\n",
    "class A() :\n",
    "    name = property_def('name', str)\n",
    "    \n",
    "    print(name)\n",
    "    def __init__(self, name) :\n",
    "        self._name = name\n",
    "        \n",
    "a = A('dag')\n",
    "print(a.name)\n",
    "print(a.__dict__)\n",
    "a.name = \"sag\"\n",
    "print(a.name)\n",
    "print(a.__dict__)"
   ]
  },
  {
   "cell_type": "code",
   "execution_count": 36,
   "metadata": {
    "collapsed": false
   },
   "outputs": [
    {
     "name": "stdout",
     "output_type": "stream",
     "text": [
      "<property object at 0x000000000514CA48>\n",
      "dahl male\n",
      "park female\n"
     ]
    }
   ],
   "source": [
    "def prop_def(name,typed) :\n",
    "    str_name = '_'+name\n",
    "   \n",
    "    fget = lambda self, : getattr(self,str_name)\n",
    "    fset = lambda self, value : setattr(self,str_name, value)\n",
    "    p = property(fget,fset)\n",
    "    return p\n",
    "\n",
    "class A() :\n",
    "    name = prop_def('name', str)\n",
    "    sex = prop_def('sex', str)\n",
    "    \n",
    "    print(name)\n",
    "    def __init__(self, name, sex) :\n",
    "        self._name = name\n",
    "        self._sex = sex\n",
    "\n",
    "c = A(\"dahl\",\"male\")\n",
    "print(c.name, c.sex)\n",
    "c.name = \"park\"\n",
    "c.sex = \"female\"\n",
    "print(c.name, c.sex)"
   ]
  },
  {
   "cell_type": "code",
   "execution_count": null,
   "metadata": {
    "collapsed": true
   },
   "outputs": [],
   "source": []
  }
 ],
 "metadata": {
  "anaconda-cloud": {},
  "kernelspec": {
   "display_name": "Python [conda root]",
   "language": "python",
   "name": "conda-root-py"
  }
 },
 "nbformat": 4,
 "nbformat_minor": 1
}
