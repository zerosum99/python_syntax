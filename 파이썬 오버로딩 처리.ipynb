{
 "cells": [
  {
   "cell_type": "code",
   "execution_count": null,
   "metadata": {
    "collapsed": false
   },
   "outputs": [],
   "source": [
    "import decimal, numpy\n",
    "d = decimal.Decimal('1.1')\n",
    "a = numpy.array([d,d,d],dtype=numpy.dtype(decimal.Decimal))\n",
    "print(a.dtype)\n",
    "print(type(a[1]))"
   ]
  },
  {
   "cell_type": "code",
   "execution_count": null,
   "metadata": {
    "collapsed": false
   },
   "outputs": [],
   "source": [
    "s = [['123.123','23'],['2323.212','123123.21312']]\n",
    "decimal_s = [[decimal.Decimal(x) for x in y] for y in s]\n",
    "ss = numpy.array(decimal_s)\n",
    "print(type(ss))\n",
    "print(ss.dtype)\n",
    "print(type(ss[0,0]))"
   ]
  },
  {
   "cell_type": "markdown",
   "metadata": {},
   "source": [
    "# 오버로딩 처리\n"
   ]
  },
  {
   "cell_type": "code",
   "execution_count": 1,
   "metadata": {
    "collapsed": false
   },
   "outputs": [
    {
     "data": {
      "text/plain": [
       "['TestOverload',\n",
       " '__builtins__',\n",
       " '__cached__',\n",
       " '__doc__',\n",
       " '__file__',\n",
       " '__loader__',\n",
       " '__name__',\n",
       " '__package__',\n",
       " '__spec__',\n",
       " '__version__',\n",
       " 'functools',\n",
       " 'overload',\n",
       " 'types',\n",
       " 'unittest']"
      ]
     },
     "execution_count": 1,
     "metadata": {},
     "output_type": "execute_result"
    }
   ],
   "source": [
    "import overload\n",
    "dir(overload)"
   ]
  },
  {
   "cell_type": "code",
   "execution_count": 2,
   "metadata": {
    "collapsed": false
   },
   "outputs": [
    {
     "name": "stdout",
     "output_type": "stream",
     "text": [
      "a\n",
      "3\n"
     ]
    }
   ],
   "source": [
    "from overload import overload\n",
    "class A(object):\n",
    "    @overload\n",
    "    def method(self, a):\n",
    "        return 'a'\n",
    "    @method.add\n",
    "    def method(self, a, b):\n",
    "        return a+b\n",
    "\n",
    "a = A()\n",
    "print(a.method(1))\n",
    "\n",
    "print(a.method(1, 2))"
   ]
  },
  {
   "cell_type": "markdown",
   "metadata": {},
   "source": [
    "## 디스크립터 처리"
   ]
  },
  {
   "cell_type": "code",
   "execution_count": 26,
   "metadata": {
    "collapsed": false
   },
   "outputs": [
    {
     "name": "stdout",
     "output_type": "stream",
     "text": [
      "__set__\n",
      "{'__doc__': None, '__module__': '__main__', '__init__': <function A.__init__ at 0x10481ef28>, 'name': <__main__.Descriptor object at 0x1046a46d8>, '__dict__': <attribute '__dict__' of 'A' objects>, '__weakref__': <attribute '__weakref__' of 'A' objects>}\n",
      "{'name': 'moon'}\n",
      "__set__\n",
      "__get__\n",
      "dahl\n"
     ]
    }
   ],
   "source": [
    "## 직접 인스턴스 내의 __dict__로 접근해서 처리\n",
    "\n",
    "class Descriptor :\n",
    "    def __init__(self, name) :\n",
    "        self.name = name\n",
    "        \n",
    "    def __get__(self,instance, owner) :\n",
    "        print(\"__get__\")\n",
    "        return instance.__dict__[self.name]\n",
    "    \n",
    "    def __set__(self,instance, value) :\n",
    "        print(\"__set__\")\n",
    "        instance.__dict__[self.name] = value\n",
    "        \n",
    "class A :\n",
    "    name = Descriptor(\"name\")\n",
    "    def __init__(self, name) :\n",
    "        self.name = name\n",
    "   \n",
    "        \n",
    "a = A(\"moon\")\n",
    "\n",
    "print(A.__dict__)\n",
    "print(a.__dict__)\n",
    "a.name = \"dahl\"\n",
    "print(a.name)"
   ]
  },
  {
   "cell_type": "code",
   "execution_count": 30,
   "metadata": {
    "collapsed": false
   },
   "outputs": [
    {
     "name": "stdout",
     "output_type": "stream",
     "text": [
      "__init__\n",
      "__set__\n",
      "{'__doc__': None, '__module__': '__main__', '__init__': <function A.__init__ at 0x104833730>, 'name': <__main__.Descriptor object at 0x104851be0>, '__dict__': <attribute '__dict__' of 'A' objects>, '__weakref__': <attribute '__weakref__' of 'A' objects>}\n",
      "{'_name': 'moon'}\n",
      "__set__\n",
      "__get__\n",
      "dahl\n"
     ]
    }
   ],
   "source": [
    "## getattr, setattr 로 처리시 instance.name으로 접근하면 무한순환에러가 발생함\n",
    "## instance 이름을 \"_\" 넣고 처리\n",
    "\n",
    "class Descriptor :\n",
    "    def __init__(self, name) :\n",
    "        self.name = \"_\"+name\n",
    "        \n",
    "    def __get__(self,instance, owner) :\n",
    "        print(\"__get__\")\n",
    "        return getattr(instance, self.name )\n",
    "    \n",
    "    def __set__(self,instance, value) :\n",
    "        print(\"__set__\")\n",
    "        setattr(instance, self.name, value)\n",
    "        \n",
    "class A :\n",
    "    name = Descriptor(\"name\")\n",
    "    def __init__(self, name) :\n",
    "        print(\"__init__\")\n",
    "        #기존 name에 먼저 A  클래스에 존재 함 \n",
    "        self.name = name\n",
    "   \n",
    "        \n",
    "a = A(\"moon\")\n",
    "\n",
    "print(A.__dict__)\n",
    "print(a.__dict__)\n",
    "a.name = \"dahl\"\n",
    "print(a.name)"
   ]
  },
  {
   "cell_type": "code",
   "execution_count": 3,
   "metadata": {
    "collapsed": false
   },
   "outputs": [
    {
     "name": "stdout",
     "output_type": "stream",
     "text": [
      "Help on built-in function setattr in module builtins:\n",
      "\n",
      "setattr(obj, name, value, /)\n",
      "    Sets the named attribute on the given object to the specified value.\n",
      "    \n",
      "    setattr(x, 'y', v) is equivalent to ``x.y = v''\n",
      "\n"
     ]
    }
   ],
   "source": [
    "help(setattr)"
   ]
  },
  {
   "cell_type": "code",
   "execution_count": 10,
   "metadata": {
    "collapsed": false
   },
   "outputs": [
    {
     "name": "stdout",
     "output_type": "stream",
     "text": [
      "dict_items([('__doc__', None), ('__module__', '__main__'), ('name', <__main__.Descriptor object at 0x10466d668>), ('__dict__', <attribute '__dict__' of 'A' objects>), ('__weakref__', <attribute '__weakref__' of 'A' objects>)])\n",
      "['__class__', '__delattr__', '__delete__', '__dir__', '__doc__', '__eq__', '__format__', '__ge__', '__get__', '__getattribute__', '__gt__', '__hash__', '__init__', '__le__', '__lt__', '__name__', '__ne__', '__new__', '__objclass__', '__qualname__', '__reduce__', '__reduce_ex__', '__repr__', '__set__', '__setattr__', '__sizeof__', '__str__', '__subclasshook__']\n",
      "<class 'getset_descriptor'>\n"
     ]
    }
   ],
   "source": [
    "import pprint\n",
    "pprint.pprint(A.__dict__.items())\n",
    "\n",
    "for i,v in A.__dict__.items() :\n",
    "    if i == \"__dict__\" :\n",
    "        print(dir(v))\n",
    "        print(type(v))"
   ]
  },
  {
   "cell_type": "code",
   "execution_count": 20,
   "metadata": {
    "collapsed": false
   },
   "outputs": [
    {
     "name": "stdout",
     "output_type": "stream",
     "text": [
      "dahl\n",
      "<bound method B.__init__ of <__main__.B object at 0x104835d30>>\n",
      " __getattr__\n",
      "default\n"
     ]
    }
   ],
   "source": [
    "class B :\n",
    "    def __init__(self, name) :\n",
    "        self.name = name\n",
    "        \n",
    "    def __getattr__(self,name) :\n",
    "        print(\" __getattr__\")\n",
    "        \n",
    "        setattr(self,name,\"default\")\n",
    "        return self.__dict__[name]\n",
    "    \n",
    "b = B(\"dahl\")\n",
    "print(b.name)\n",
    "\n",
    "print(getattr(b,\"__init__\"))\n",
    "\n",
    "# 없는 속성을 찾을 경우\n",
    "# __getattr__를 읽어 처리함\n",
    "print(b.age)"
   ]
  },
  {
   "cell_type": "code",
   "execution_count": null,
   "metadata": {
    "collapsed": true
   },
   "outputs": [],
   "source": []
  }
 ],
 "metadata": {
  "anaconda-cloud": {},
  "kernelspec": {
   "display_name": "Python [conda root]",
   "language": "python",
   "name": "conda-root-py"
  },
  "language_info": {
   "codemirror_mode": {
    "name": "ipython",
    "version": 3
   },
   "file_extension": ".py",
   "mimetype": "text/x-python",
   "name": "python",
   "nbconvert_exporter": "python",
   "pygments_lexer": "ipython3",
   "version": "3.5.2"
  }
 },
 "nbformat": 4,
 "nbformat_minor": 2
}
