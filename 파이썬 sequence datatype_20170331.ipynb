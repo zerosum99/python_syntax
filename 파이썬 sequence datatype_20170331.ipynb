{
 "cells": [
  {
   "cell_type": "markdown",
   "metadata": {},
   "source": [
    "# 1.  파이썬 sequence 데이터 타입\n",
    "\n",
    "       sequence 타입 대상\n",
    "\n",
    "       1. 문자열(str)\n",
    "       2. 튜플(tuple)\n",
    "       3. 리스트(list)\n",
    "       4. 바이트(bytes)\n",
    "       5. 바이트어래이(bytearray)\n",
    "       6. array.array"
   ]
  },
  {
   "cell_type": "markdown",
   "metadata": {},
   "source": [
    "# 2. 파이썬 Seqence 타입의 특징\n"
   ]
  },
  {
   "cell_type": "markdown",
   "metadata": {},
   "source": [
    "##  내장 데이터 타입 : 런타임에 속성 추가 여부  \n",
    "     \n",
    "     내장 데이터 타입(str, tuple, list, bytes, bytesarray)으로 만들어진 인스턴스 객체의 속성을 관리하는 __dict__ 속성이 \n",
    "     \n",
    "     존재하지 않으므로 갱신 불가\n",
    "     "
   ]
  },
  {
   "cell_type": "code",
   "execution_count": 1,
   "metadata": {
    "collapsed": false
   },
   "outputs": [
    {
     "name": "stdout",
     "output_type": "stream",
     "text": [
      "<class 'list'>\n"
     ]
    },
    {
     "ename": "AttributeError",
     "evalue": "'list' object has no attribute '__dict__'",
     "output_type": "error",
     "traceback": [
      "\u001b[0;31m---------------------------------------------------------------------------\u001b[0m",
      "\u001b[0;31mAttributeError\u001b[0m                            Traceback (most recent call last)",
      "\u001b[0;32m<ipython-input-1-59cf02097058>\u001b[0m in \u001b[0;36m<module>\u001b[0;34m()\u001b[0m\n\u001b[1;32m      1\u001b[0m \u001b[0ml\u001b[0m\u001b[1;33m=\u001b[0m \u001b[1;33m[\u001b[0m\u001b[1;36m1\u001b[0m\u001b[1;33m,\u001b[0m\u001b[1;36m2\u001b[0m\u001b[1;33m,\u001b[0m\u001b[1;36m3\u001b[0m\u001b[1;33m]\u001b[0m\u001b[1;33m\u001b[0m\u001b[0m\n\u001b[1;32m      2\u001b[0m \u001b[0mprint\u001b[0m\u001b[1;33m(\u001b[0m\u001b[0mtype\u001b[0m\u001b[1;33m(\u001b[0m\u001b[0ml\u001b[0m\u001b[1;33m)\u001b[0m\u001b[1;33m)\u001b[0m\u001b[1;33m\u001b[0m\u001b[0m\n\u001b[0;32m----> 3\u001b[0;31m \u001b[0mprint\u001b[0m\u001b[1;33m(\u001b[0m\u001b[0ml\u001b[0m\u001b[1;33m.\u001b[0m\u001b[0m__dict__\u001b[0m\u001b[1;33m)\u001b[0m\u001b[1;33m\u001b[0m\u001b[0m\n\u001b[0m",
      "\u001b[0;31mAttributeError\u001b[0m: 'list' object has no attribute '__dict__'"
     ]
    }
   ],
   "source": [
    "l= [1,2,3]\n",
    "print(type(l))\n",
    "print(l.__dict__)"
   ]
  },
  {
   "cell_type": "markdown",
   "metadata": {},
   "source": [
    "##  변경가능 여부 : Mutable &  immutable\n",
    "\n",
    "    데이터 타입 내부의 원소들을 변경할 수 있는지에 대한 유무을 표시\n",
    "    \n",
    "    - 문자열, 튜플, 바이트는 변경불가, 함수나 메소드의 결과를 처리시 새로 생성해서 대체함\n",
    "    \n",
    "    - 리스트 바이트어레이 등 변경가능, 기존 원소를 추가 삭제 가능\n",
    "    \n",
    "    - array.array 는 변경가능하지만 동일 타입에 대해서만 처리함\n",
    "    "
   ]
  },
  {
   "cell_type": "markdown",
   "metadata": {},
   "source": [
    "### mutable 타입이 아니므로 변경이 불가"
   ]
  },
  {
   "cell_type": "code",
   "execution_count": 7,
   "metadata": {
    "collapsed": false
   },
   "outputs": [
    {
     "name": "stdout",
     "output_type": "stream",
     "text": [
      "True\n",
      "True\n",
      "True\n",
      "False\n",
      "False\n",
      "False\n"
     ]
    }
   ],
   "source": [
    "import collections.abc as cols\n",
    "\n",
    "\n",
    "# 갱신불가 sequence 타입 \n",
    "print(issubclass(str,cols.Sequence))\n",
    "print(issubclass(bytes,cols.Sequence))\n",
    "print(issubclass(tuple,cols.Sequence))\n",
    "print(issubclass(str,cols.MutableSequence))\n",
    "print(issubclass(bytes,cols.MutableSequence))\n",
    "print(issubclass(tuple,cols.MutableSequence))"
   ]
  },
  {
   "cell_type": "markdown",
   "metadata": {},
   "source": [
    "### 문자열은 변경이 불가"
   ]
  },
  {
   "cell_type": "code",
   "execution_count": 1,
   "metadata": {
    "collapsed": false
   },
   "outputs": [
    {
     "ename": "TypeError",
     "evalue": "'str' object does not support item assignment",
     "output_type": "error",
     "traceback": [
      "\u001b[0;31m---------------------------------------------------------------------------\u001b[0m",
      "\u001b[0;31mTypeError\u001b[0m                                 Traceback (most recent call last)",
      "\u001b[0;32m<ipython-input-1-273ac79483c5>\u001b[0m in \u001b[0;36m<module>\u001b[0;34m()\u001b[0m\n\u001b[1;32m      1\u001b[0m \u001b[0ms\u001b[0m \u001b[1;33m=\u001b[0m \u001b[1;34m\"strings\"\u001b[0m\u001b[1;33m\u001b[0m\u001b[0m\n\u001b[0;32m----> 2\u001b[0;31m \u001b[0ms\u001b[0m\u001b[1;33m[\u001b[0m\u001b[1;36m0\u001b[0m\u001b[1;33m]\u001b[0m \u001b[1;33m=\u001b[0m \u001b[1;34m\"t\"\u001b[0m\u001b[1;33m\u001b[0m\u001b[0m\n\u001b[0m",
      "\u001b[0;31mTypeError\u001b[0m: 'str' object does not support item assignment"
     ]
    }
   ],
   "source": [
    "s = \"strings\"\n",
    "s[0] = \"t\""
   ]
  },
  {
   "cell_type": "markdown",
   "metadata": {},
   "source": [
    "### 튜플은 변경이 불가 \n"
   ]
  },
  {
   "cell_type": "code",
   "execution_count": 2,
   "metadata": {
    "collapsed": false
   },
   "outputs": [
    {
     "ename": "TypeError",
     "evalue": "'tuple' object does not support item assignment",
     "output_type": "error",
     "traceback": [
      "\u001b[0;31m---------------------------------------------------------------------------\u001b[0m",
      "\u001b[0;31mTypeError\u001b[0m                                 Traceback (most recent call last)",
      "\u001b[0;32m<ipython-input-2-767886e09f9d>\u001b[0m in \u001b[0;36m<module>\u001b[0;34m()\u001b[0m\n\u001b[1;32m      1\u001b[0m \u001b[0mt\u001b[0m \u001b[1;33m=\u001b[0m \u001b[1;33m(\u001b[0m\u001b[1;36m1\u001b[0m\u001b[1;33m,\u001b[0m\u001b[1;36m2\u001b[0m\u001b[1;33m,\u001b[0m\u001b[1;36m3\u001b[0m\u001b[1;33m)\u001b[0m\u001b[1;33m\u001b[0m\u001b[0m\n\u001b[0;32m----> 2\u001b[0;31m \u001b[0mt\u001b[0m\u001b[1;33m[\u001b[0m\u001b[1;36m0\u001b[0m\u001b[1;33m]\u001b[0m \u001b[1;33m=\u001b[0m \u001b[1;36m3\u001b[0m\u001b[1;33m\u001b[0m\u001b[0m\n\u001b[0m",
      "\u001b[0;31mTypeError\u001b[0m: 'tuple' object does not support item assignment"
     ]
    }
   ],
   "source": [
    "t = (1,2,3)\n",
    "t[0] = 3"
   ]
  },
  {
   "cell_type": "markdown",
   "metadata": {},
   "source": [
    "### 리스트는 변경가능\n"
   ]
  },
  {
   "cell_type": "code",
   "execution_count": 9,
   "metadata": {
    "collapsed": false
   },
   "outputs": [
    {
     "name": "stdout",
     "output_type": "stream",
     "text": [
      "True\n",
      "True\n",
      "True\n",
      "True\n"
     ]
    }
   ],
   "source": [
    "import collections.abc as cols\n",
    "\n",
    "# 갱신 가능 sequence 타입\n",
    "print(issubclass(bytearray,cols.Sequence))\n",
    "print(issubclass(list,cols.Sequence))\n",
    "print(issubclass(bytearray,cols.MutableSequence))\n",
    "print(issubclass(list,cols.MutableSequence))"
   ]
  },
  {
   "cell_type": "code",
   "execution_count": 3,
   "metadata": {
    "collapsed": false
   },
   "outputs": [
    {
     "name": "stdout",
     "output_type": "stream",
     "text": [
      "[9, 2, 3]\n"
     ]
    }
   ],
   "source": [
    "l = [1,2,3]\n",
    "l[0] = 9\n",
    "print(l)"
   ]
  },
  {
   "cell_type": "markdown",
   "metadata": {},
   "source": [
    "### array.array는 변경가능 \n"
   ]
  },
  {
   "cell_type": "code",
   "execution_count": null,
   "metadata": {
    "collapsed": true
   },
   "outputs": [],
   "source": [
    "import collections.abc as cols\n",
    "import array\n",
    "\n",
    "# 내장 타입이 아닌 경우 check 불가능\n",
    "print(issubclass(array.array,cols.Sequence))\n",
    "print(issubclass(array.array,cols.MutableSequence))"
   ]
  },
  {
   "cell_type": "markdown",
   "metadata": {},
   "source": [
    "### 컨테이너 즉 컬렉션 여부\n",
    "\n",
    "    하나의 원소를 가진 데이터 타입 과 여러개의 원소를 가진 데이터 타입들을 구분\n",
    "    \n",
    "    len, iter 함수가 작동하는 지를 확인해 보면 collections 타입인지를 확인할 수 있음\n",
    "    "
   ]
  },
  {
   "cell_type": "markdown",
   "metadata": {},
   "source": [
    "#### 내장함수 len 이해하기"
   ]
  },
  {
   "cell_type": "code",
   "execution_count": 76,
   "metadata": {
    "collapsed": false
   },
   "outputs": [
    {
     "name": "stdout",
     "output_type": "stream",
     "text": [
      "2\n"
     ]
    }
   ],
   "source": [
    "# len 함수는 squence 데이터 타입이 길이를 나타탬\n",
    "# 문자열은 유니코드이므로 문자갯수가 길이임\n",
    "\n",
    "s = \"한글\"\n",
    "print(len(s))\n"
   ]
  },
  {
   "cell_type": "code",
   "execution_count": 170,
   "metadata": {
    "collapsed": false
   },
   "outputs": [
    {
     "name": "stdout",
     "output_type": "stream",
     "text": [
      "3\n"
     ]
    }
   ],
   "source": [
    "# 리스트나 튜퓰은 원소 갯수\n",
    "l = [1,2,3]\n",
    "print(len(l))"
   ]
  },
  {
   "cell_type": "code",
   "execution_count": 171,
   "metadata": {
    "collapsed": false
   },
   "outputs": [
    {
     "name": "stdout",
     "output_type": "stream",
     "text": [
      "3\n"
     ]
    }
   ],
   "source": [
    "import array\n",
    "a = array.array('b',[1,2,3])\n",
    "print(len(a))"
   ]
  },
  {
   "cell_type": "markdown",
   "metadata": {},
   "source": [
    "#### iterable 여부 확인 \n",
    "\n",
    "    여러 개의 원소를 가진 데이터 타입에 원소들을 읽을 때 반복이 가능해야 함 "
   ]
  },
  {
   "cell_type": "code",
   "execution_count": 3,
   "metadata": {
    "collapsed": false
   },
   "outputs": [
    {
     "name": "stdout",
     "output_type": "stream",
     "text": [
      "<str_iterator object at 0x0000000004D71828>\n"
     ]
    }
   ],
   "source": [
    "# 문자열이 반복이 가능한지 확인\n",
    "s = \"한글\"\n",
    "print(iter(s))\n"
   ]
  },
  {
   "cell_type": "code",
   "execution_count": 4,
   "metadata": {
    "collapsed": false
   },
   "outputs": [
    {
     "name": "stdout",
     "output_type": "stream",
     "text": [
      "<tuple_iterator object at 0x0000000004D719B0>\n"
     ]
    }
   ],
   "source": [
    "# 튜플이 반복이 가능한지 확인\n",
    "t = (1,2,3)\n",
    "print(iter(t))"
   ]
  },
  {
   "cell_type": "code",
   "execution_count": 5,
   "metadata": {
    "collapsed": false
   },
   "outputs": [
    {
     "name": "stdout",
     "output_type": "stream",
     "text": [
      "<list_iterator object at 0x0000000004D71A58>\n"
     ]
    }
   ],
   "source": [
    "# 리스트가 반복이 가능한지 확인\n",
    "l = [1,2,3]\n",
    "print(iter(l))"
   ]
  },
  {
   "cell_type": "markdown",
   "metadata": {},
   "source": [
    "#### 원소에 대한 포함여부 확인 : in 연산자"
   ]
  },
  {
   "cell_type": "code",
   "execution_count": 6,
   "metadata": {
    "collapsed": false
   },
   "outputs": [
    {
     "name": "stdout",
     "output_type": "stream",
     "text": [
      "True\n"
     ]
    }
   ],
   "source": [
    "s = \"한글\"\n",
    "print(\"한\" in s)"
   ]
  },
  {
   "cell_type": "code",
   "execution_count": 7,
   "metadata": {
    "collapsed": false
   },
   "outputs": [
    {
     "name": "stdout",
     "output_type": "stream",
     "text": [
      "True\n"
     ]
    }
   ],
   "source": [
    "t = (1,2,3)\n",
    "print(1 in t)"
   ]
  },
  {
   "cell_type": "code",
   "execution_count": 8,
   "metadata": {
    "collapsed": false
   },
   "outputs": [
    {
     "name": "stdout",
     "output_type": "stream",
     "text": [
      "False\n"
     ]
    }
   ],
   "source": [
    "l = [1,2,3]\n",
    "print(4 in l)"
   ]
  },
  {
   "cell_type": "markdown",
   "metadata": {},
   "source": [
    "### sequence 타입 내의 메소드 처리 기준 \n",
    "\n",
    "    Mutable 타입 :  메소드 대부분은 자기 객체 내를 변경하므로 메소드 처리 결과값을 None으로 처리\n",
    "    \n",
    "    Immutable 타입 :  메소드는 자기 객체를 변경할 수 없으므로 메소드 처리 결과값으로 새로운 Immutable 객체를 만들고 리턴함\n",
    "    \n",
    "    "
   ]
  },
  {
   "cell_type": "code",
   "execution_count": 12,
   "metadata": {
    "collapsed": false
   },
   "outputs": [
    {
     "name": "stdout",
     "output_type": "stream",
     "text": [
      "None\n"
     ]
    }
   ],
   "source": [
    "ll = [3,2,1]\n",
    "a = ll.sort()\n",
    "print(a)"
   ]
  },
  {
   "cell_type": "code",
   "execution_count": 13,
   "metadata": {
    "collapsed": false
   },
   "outputs": [
    {
     "name": "stdout",
     "output_type": "stream",
     "text": [
      "Hello Python\n",
      "False\n"
     ]
    }
   ],
   "source": [
    "s = \"Hello world\"\n",
    "sr = s.replace(\"world\",\"Python\")\n",
    "print(sr)\n",
    "print(s is sr)"
   ]
  },
  {
   "cell_type": "markdown",
   "metadata": {},
   "source": [
    "####  sorted 함수 이용\n",
    "\n",
    "     sorted 함수는 항상 새로운 객체를 생성"
   ]
  },
  {
   "cell_type": "code",
   "execution_count": 29,
   "metadata": {
    "collapsed": false
   },
   "outputs": [
    {
     "name": "stdout",
     "output_type": "stream",
     "text": [
      "['o', 'l', 'l', 'e', 'H']\n",
      "olleH\n"
     ]
    }
   ],
   "source": [
    "ss = \"Hello\"\n",
    "a = sorted(ss, reverse=True)\n",
    "print(a)\n",
    "sss = \"\".join(a)\n",
    "print(sss)"
   ]
  },
  {
   "cell_type": "markdown",
   "metadata": {},
   "source": [
    "# 3. 문자열 클래스 str\n",
    "\n",
    "    파이썬 3 버전은 문자열이 기본 unicode로 처리 됨\n",
    "    \n",
    "    문자열은 한번 생기면 그 안의 내용을 변경할 수 없다.\n",
    "    \n",
    "    변수에 연결된 경우는 대체가 가능하다.\n",
    "    \n",
    "    "
   ]
  },
  {
   "cell_type": "markdown",
   "metadata": {},
   "source": [
    "### 문자열 생성 방법\n",
    "    \n",
    "     1. 직접 문자열로 지정\n",
    "     2. str('문자열) 생성"
   ]
  },
  {
   "cell_type": "code",
   "execution_count": 3,
   "metadata": {
    "collapsed": false
   },
   "outputs": [
    {
     "name": "stdout",
     "output_type": "stream",
     "text": [
      " hello world !!!\n",
      "<class 'str'>\n"
     ]
    }
   ],
   "source": [
    "s = \" hello world !!!\"\n",
    "print(s)\n",
    "print(type(s))"
   ]
  },
  {
   "cell_type": "code",
   "execution_count": 1,
   "metadata": {
    "collapsed": false
   },
   "outputs": [
    {
     "name": "stdout",
     "output_type": "stream",
     "text": [
      "Hello world\n",
      "<class 'str'>\n"
     ]
    }
   ],
   "source": [
    "s = str(\"Hello world\")\n",
    "print(s)\n",
    "print(type(s))"
   ]
  },
  {
   "cell_type": "markdown",
   "metadata": {},
   "source": [
    "### 문자열  대소문자 처리 메소드"
   ]
  },
  {
   "cell_type": "code",
   "execution_count": 14,
   "metadata": {
    "collapsed": false
   },
   "outputs": [
    {
     "name": "stdout",
     "output_type": "stream",
     "text": [
      "hello world !!!\n",
      "HELLO WORLD !!!\n",
      "Hello World !!!\n",
      "Hello world !!!\n",
      "hello world !!!\n"
     ]
    }
   ],
   "source": [
    "s = \"hello world !!!\"\n",
    "print(s.lower())\n",
    "print(s.upper())\n",
    "# 각 단어별로 대문자로 변환\n",
    "print(s.title())\n",
    "#첫번째만 대문자로 변환\n",
    "print(s.capitalize())\n",
    "\n",
    "# 적절하게 표시\n",
    "ss = \"HELLO world !!!\"\n",
    "print(ss.casefold())"
   ]
  },
  {
   "cell_type": "markdown",
   "metadata": {},
   "source": [
    "### 문자열 위치 조정해서 꾸미기"
   ]
  },
  {
   "cell_type": "code",
   "execution_count": 24,
   "metadata": {
    "collapsed": false
   },
   "outputs": [
    {
     "name": "stdout",
     "output_type": "stream",
     "text": [
      "%%%%%%%Hello World !!!%%%%%%%%\n",
      "Hello World !!!%%%%%%%%%%%%%%%\n",
      "%%%%%%%%%%%%%%%Hello World !!!\n"
     ]
    }
   ],
   "source": [
    "sss = \"Hello World !!!\"\n",
    "print(sss.center(30,\"%\"))\n",
    "print(sss.ljust(30,\"%\"))\n",
    "print(sss.rjust(30,\"%\"))"
   ]
  },
  {
   "cell_type": "markdown",
   "metadata": {},
   "source": [
    "###  문자열 찾기\n"
   ]
  },
  {
   "cell_type": "code",
   "execution_count": 31,
   "metadata": {
    "collapsed": false
   },
   "outputs": [
    {
     "name": "stdout",
     "output_type": "stream",
     "text": [
      "4\n",
      "7\n",
      "7\n",
      "4\n",
      "7\n",
      "2\n"
     ]
    }
   ],
   "source": [
    "sss = \"Hello World !!!\"\n",
    "# 동일한 문자를 찾기 : 찾는 문자, 시작위치, 종료위치\n",
    "print(sss.find('o'))\n",
    "print(sss.find('o',5))\n",
    "print(sss.rfind('o'))\n",
    "print(sss.index('o'))\n",
    "print(sss.rindex('o'))\n",
    "\n",
    "# 동일한 문자 갯수 확인\n",
    "print(sss.count('o'))"
   ]
  },
  {
   "cell_type": "markdown",
   "metadata": {},
   "source": [
    "### 문자열 시작점과 끝점 찾아서 문자열 패턴 매칭하기\n"
   ]
  },
  {
   "cell_type": "code",
   "execution_count": 35,
   "metadata": {
    "collapsed": false
   },
   "outputs": [
    {
     "name": "stdout",
     "output_type": "stream",
     "text": [
      "###  __ starts with ###\n",
      "__add__\n",
      "__class__\n",
      "__contains__\n",
      "__delattr__\n",
      "__dir__\n",
      "### __ ends with ###\n",
      "__add__\n",
      "__class__\n",
      "__contains__\n",
      "__delattr__\n",
      "__dir__\n"
     ]
    }
   ],
   "source": [
    "# str 클래스 내부 속성 이름을 리스트 타입으로 받는다.\n",
    "\n",
    "count =0 \n",
    "a = dir(str)\n",
    "\n",
    "print(\"###  __ starts with ###\")\n",
    "for i in a :\n",
    "    if i.startswith(\"__\") :\n",
    "        if count < 5 :\n",
    "            print(i)\n",
    "            count += 1\n",
    "count =0 \n",
    "print(\"### __ ends with ###\")\n",
    "for i in a :\n",
    "    if i.endswith(\"__\") :\n",
    "        if count < 5 :\n",
    "            print(i)\n",
    "            count += 1         "
   ]
  },
  {
   "cell_type": "markdown",
   "metadata": {},
   "source": [
    "### 문자열을 분리 및 문자열 결합"
   ]
  },
  {
   "cell_type": "code",
   "execution_count": 39,
   "metadata": {
    "collapsed": false
   },
   "outputs": [
    {
     "name": "stdout",
     "output_type": "stream",
     "text": [
      "['Hello', 'World', '!!!']\n",
      "Hello World !!!\n"
     ]
    }
   ],
   "source": [
    "sss = \"Hello World !!!\"\n",
    "sp = sss.split(\" \")\n",
    "print(sp)\n",
    "\n",
    "sj = \" \".join(sp)\n",
    "print(sj)"
   ]
  },
  {
   "cell_type": "markdown",
   "metadata": {},
   "source": [
    "### 문자열 길이 및 검색"
   ]
  },
  {
   "cell_type": "code",
   "execution_count": 43,
   "metadata": {
    "collapsed": false
   },
   "outputs": [
    {
     "name": "stdout",
     "output_type": "stream",
     "text": [
      "15\n",
      "forward  l\n",
      "backward !\n"
     ]
    }
   ],
   "source": [
    "sss = \"Hello World !!!\"\n",
    "\n",
    "print(len(sss))\n",
    "\n",
    "# 0번째 index로 부터 산정해서 조회\n",
    "# 3번째이니 0,1,2 즉 2번째 인덱스의 값을 조회\n",
    "print(\"forward \",sss[3])\n",
    "\n",
    "# -1번째 index로 부터 역산정해서 조회\n",
    "# 3번째이니 -1,-2,-3 즉 -3번째 인덱스의 값을 조회\n",
    "print(\"backward\",sss[-3])"
   ]
  },
  {
   "cell_type": "markdown",
   "metadata": {},
   "source": [
    "## unicode 에서 bytes로 전환하기 \n",
    "\n",
    "      유니코드는 다양한 문자를 한바이트에서 여러바이트로 관리한다.\n",
    "      바이트로 전환하면 한글인 경우 대부분 문자당 2바이트로 전환됨\n",
    "      "
   ]
  },
  {
   "cell_type": "code",
   "execution_count": 67,
   "metadata": {
    "collapsed": false
   },
   "outputs": [
    {
     "name": "stdout",
     "output_type": "stream",
     "text": [
      "6\n",
      "18\n",
      "b'\\xec\\x84\\xb1\\xea\\xb7\\xa0\\xea\\xb4\\x80\\xeb\\x8c\\x80\\xed\\x95\\x99\\xea\\xb5\\x90'\n",
      "성균관대학교\n"
     ]
    }
   ],
   "source": [
    "s = \"성균관대학교\"\n",
    "print(len(s))\n",
    "b = s.encode(\"utf-8\")\n",
    "print(len(b))\n",
    "print(b)\n",
    "print(b.decode(\"utf-8\"))"
   ]
  },
  {
   "cell_type": "markdown",
   "metadata": {},
   "source": [
    "# 4. bytes 타입 \n",
    "\n",
    "    문자열과 거의 동일한 메소드들을 제공"
   ]
  },
  {
   "cell_type": "markdown",
   "metadata": {},
   "source": [
    "###  byte도 반복자 타입 "
   ]
  },
  {
   "cell_type": "code",
   "execution_count": 15,
   "metadata": {
    "collapsed": false
   },
   "outputs": [
    {
     "name": "stdout",
     "output_type": "stream",
     "text": [
      "6\n",
      "<class 'bytes'>\n",
      "18\n",
      "<bytes_iterator object at 0x0000000005137588>\n"
     ]
    }
   ],
   "source": [
    "s = \"성균관대학교\"\n",
    "print(len(s))\n",
    "b = s.encode(\"utf-8\")\n",
    "\n",
    "print(type(b))\n",
    "print(len(b))\n",
    "print(iter(b))"
   ]
  },
  {
   "cell_type": "code",
   "execution_count": 5,
   "metadata": {
    "collapsed": false
   },
   "outputs": [
    {
     "name": "stdout",
     "output_type": "stream",
     "text": [
      "<class 'bytes'>\n",
      "b'\\xec\\x84\\xb1\\xea\\xb7\\xa0\\xea\\xb4\\x80'\n",
      "<class 'bytes'>\n",
      "b'Hello'\n"
     ]
    }
   ],
   "source": [
    "b = bytes('성균관',encoding=\"utf-8\")\n",
    "print(type(b))\n",
    "print(b)\n",
    "\n",
    "bb = b'Hello'\n",
    "print(type(bb))\n",
    "print(bb)"
   ]
  },
  {
   "cell_type": "markdown",
   "metadata": {},
   "source": [
    "### str과 bytes 내부 메소드 \n"
   ]
  },
  {
   "cell_type": "code",
   "execution_count": 16,
   "metadata": {
    "collapsed": false
   },
   "outputs": [
    {
     "name": "stdout",
     "output_type": "stream",
     "text": [
      "['__add__', '__class__', '__contains__', '__delattr__', '__dir__', '__doc__', '__eq__', '__format__', '__ge__', '__getattribute__', '__getitem__', '__getnewargs__', '__gt__', '__hash__', '__init__', '__iter__', '__le__', '__len__', '__lt__', '__mod__', '__mul__', '__ne__', '__new__', '__reduce__', '__reduce_ex__', '__repr__', '__rmod__', '__rmul__', '__setattr__', '__sizeof__', '__str__', '__subclasshook__', 'capitalize', 'casefold', 'center', 'count', 'encode', 'endswith', 'expandtabs', 'find', 'format', 'format_map', 'index', 'isalnum', 'isalpha', 'isdecimal', 'isdigit', 'isidentifier', 'islower', 'isnumeric', 'isprintable', 'isspace', 'istitle', 'isupper', 'join', 'ljust', 'lower', 'lstrip', 'maketrans', 'partition', 'replace', 'rfind', 'rindex', 'rjust', 'rpartition', 'rsplit', 'rstrip', 'split', 'splitlines', 'startswith', 'strip', 'swapcase', 'title', 'translate', 'upper', 'zfill']\n"
     ]
    }
   ],
   "source": [
    "print(dir(str))"
   ]
  },
  {
   "cell_type": "code",
   "execution_count": 17,
   "metadata": {
    "collapsed": false
   },
   "outputs": [
    {
     "name": "stdout",
     "output_type": "stream",
     "text": [
      "['__add__', '__class__', '__contains__', '__delattr__', '__dir__', '__doc__', '__eq__', '__format__', '__ge__', '__getattribute__', '__getitem__', '__getnewargs__', '__gt__', '__hash__', '__init__', '__iter__', '__le__', '__len__', '__lt__', '__mod__', '__mul__', '__ne__', '__new__', '__reduce__', '__reduce_ex__', '__repr__', '__rmod__', '__rmul__', '__setattr__', '__sizeof__', '__str__', '__subclasshook__', 'capitalize', 'center', 'count', 'decode', 'endswith', 'expandtabs', 'find', 'fromhex', 'hex', 'index', 'isalnum', 'isalpha', 'isdigit', 'islower', 'isspace', 'istitle', 'isupper', 'join', 'ljust', 'lower', 'lstrip', 'maketrans', 'partition', 'replace', 'rfind', 'rindex', 'rjust', 'rpartition', 'rsplit', 'rstrip', 'split', 'splitlines', 'startswith', 'strip', 'swapcase', 'title', 'translate', 'upper', 'zfill']\n"
     ]
    }
   ],
   "source": [
    "print(dir(bytes))"
   ]
  },
  {
   "cell_type": "markdown",
   "metadata": {},
   "source": [
    "### 동일한 메소드들 \n"
   ]
  },
  {
   "cell_type": "code",
   "execution_count": 8,
   "metadata": {
    "collapsed": false
   },
   "outputs": [
    {
     "name": "stdout",
     "output_type": "stream",
     "text": [
      "decode\n",
      "hex\n",
      "fromhex\n"
     ]
    }
   ],
   "source": [
    "\n",
    "su = set(dir(str))\n",
    "bb = set(dir(bytes))\n",
    "for i in (bb  - su) :\n",
    "    if i.startswith('_') :\n",
    "        pass\n",
    "    else :\n",
    "        print(i)\n"
   ]
  },
  {
   "cell_type": "markdown",
   "metadata": {},
   "source": [
    "### 다른 메소드들 \n"
   ]
  },
  {
   "cell_type": "code",
   "execution_count": 66,
   "metadata": {
    "collapsed": false
   },
   "outputs": [
    {
     "name": "stdout",
     "output_type": "stream",
     "text": [
      "{'hex', 'decode', 'fromhex'}\n"
     ]
    }
   ],
   "source": [
    "su = set(dir(str))\n",
    "bb = set(dir(bytes))\n",
    "print(bb-su)"
   ]
  },
  {
   "cell_type": "code",
   "execution_count": 9,
   "metadata": {
    "collapsed": false
   },
   "outputs": [
    {
     "name": "stdout",
     "output_type": "stream",
     "text": [
      "48656c6c6f\n"
     ]
    }
   ],
   "source": [
    "b = b'Hello'\n",
    "print(b.hex())"
   ]
  },
  {
   "cell_type": "code",
   "execution_count": 14,
   "metadata": {
    "collapsed": false
   },
   "outputs": [
    {
     "name": "stdout",
     "output_type": "stream",
     "text": [
      "b'\\xde\\xad\\xbe\\xef'\n"
     ]
    }
   ],
   "source": [
    "result = bytes.fromhex('deadbeef')\n",
    "print(result)"
   ]
  },
  {
   "cell_type": "markdown",
   "metadata": {},
   "source": [
    "### byte 에서 문자열로 전환 \n"
   ]
  },
  {
   "cell_type": "code",
   "execution_count": 19,
   "metadata": {
    "collapsed": false
   },
   "outputs": [
    {
     "name": "stdout",
     "output_type": "stream",
     "text": [
      "6\n",
      "b'\\xec\\x84\\xb1\\xea\\xb7\\xa0\\xea\\xb4\\x80\\xeb\\x8c\\x80\\xed\\x95\\x99\\xea\\xb5\\x90'\n",
      "성균관대학교\n"
     ]
    }
   ],
   "source": [
    "s = \"성균관대학교\"\n",
    "print(len(s))\n",
    "b = s.encode(\"utf-8\")\n",
    "\n",
    "print(b)\n",
    "print(b.decode(\"utf-8\"))"
   ]
  },
  {
   "cell_type": "markdown",
   "metadata": {},
   "source": [
    "# 5. bytearray타입 \n",
    "\n",
    "    문자열과 거의 동일한 메소드들을 제공하지만 내부 원소에 대한 변경이 가능하므로 리스트에 필요한 메소드가 추가 됨"
   ]
  },
  {
   "cell_type": "markdown",
   "metadata": {},
   "source": [
    "### bytearray 내의 메소드 \n"
   ]
  },
  {
   "cell_type": "code",
   "execution_count": 22,
   "metadata": {
    "collapsed": false
   },
   "outputs": [
    {
     "name": "stdout",
     "output_type": "stream",
     "text": [
      "['__add__', '__alloc__', '__class__', '__contains__', '__delattr__', '__delitem__', '__dir__', '__doc__', '__eq__', '__format__', '__ge__', '__getattribute__', '__getitem__', '__gt__', '__hash__', '__iadd__', '__imul__', '__init__', '__iter__', '__le__', '__len__', '__lt__', '__mod__', '__mul__', '__ne__', '__new__', '__reduce__', '__reduce_ex__', '__repr__', '__rmod__', '__rmul__', '__setattr__', '__setitem__', '__sizeof__', '__str__', '__subclasshook__', 'append', 'capitalize', 'center', 'clear', 'copy', 'count', 'decode', 'endswith', 'expandtabs', 'extend', 'find', 'fromhex', 'hex', 'index', 'insert', 'isalnum', 'isalpha', 'isdigit', 'islower', 'isspace', 'istitle', 'isupper', 'join', 'ljust', 'lower', 'lstrip', 'maketrans', 'partition', 'pop', 'remove', 'replace', 'reverse', 'rfind', 'rindex', 'rjust', 'rpartition', 'rsplit', 'rstrip', 'split', 'splitlines', 'startswith', 'strip', 'swapcase', 'title', 'translate', 'upper', 'zfill']\n"
     ]
    }
   ],
   "source": [
    "print(dir(bytearray))"
   ]
  },
  {
   "cell_type": "markdown",
   "metadata": {},
   "source": [
    "### str과 비교"
   ]
  },
  {
   "cell_type": "code",
   "execution_count": 16,
   "metadata": {
    "collapsed": false
   },
   "outputs": [
    {
     "name": "stdout",
     "output_type": "stream",
     "text": [
      "append\n",
      "copy\n",
      "clear\n",
      "pop\n",
      "remove\n",
      "extend\n",
      "reverse\n",
      "insert\n"
     ]
    }
   ],
   "source": [
    "bs = set(dir(bytes))\n",
    "bb = set(dir(bytearray))\n",
    "\n",
    "for i in (bb-bs) :\n",
    "    if i.startswith(\"_\") :\n",
    "        pass\n",
    "    else :\n",
    "        print(i)"
   ]
  },
  {
   "cell_type": "code",
   "execution_count": null,
   "metadata": {
    "collapsed": true
   },
   "outputs": [],
   "source": [
    "su = set(dir(str))\n",
    "bs = set(dir(bytes))\n",
    "bb = set(dir(bytearray))\n",
    "print(bb-su)\n",
    "print(bb-bs)"
   ]
  },
  {
   "cell_type": "markdown",
   "metadata": {},
   "source": [
    "####  List 데이터 타입과 비교\n",
    "\n",
    "      list와 bytearray는 둘다 가변형이므로 가변에 필요한 메소드들이 bytearray에도 포함됨"
   ]
  },
  {
   "cell_type": "code",
   "execution_count": 7,
   "metadata": {
    "collapsed": false
   },
   "outputs": [
    {
     "name": "stdout",
     "output_type": "stream",
     "text": [
      "{'__alloc__', 'fromhex', 'decode', 'hex'}\n"
     ]
    }
   ],
   "source": [
    "import pprint\n",
    "\n",
    "lu = set(dir(list))\n",
    "st = set(dir(str))\n",
    "\n",
    "bb = set(dir(bytearray))\n",
    "\n",
    "pprint.pprint((bb-lu)-st)\n"
   ]
  },
  {
   "cell_type": "markdown",
   "metadata": {},
   "source": [
    "###  반복자 타입 "
   ]
  },
  {
   "cell_type": "code",
   "execution_count": 46,
   "metadata": {
    "collapsed": false
   },
   "outputs": [
    {
     "name": "stdout",
     "output_type": "stream",
     "text": [
      "6\n",
      "<class 'bytearray'>\n",
      "18\n",
      "<bytearray_iterator object at 0x0000000005143A20>\n"
     ]
    }
   ],
   "source": [
    "s = \"성균관대학교\"\n",
    "print(len(s))\n",
    "b = s.encode(\"utf-8\")\n",
    "bbb = bytearray(b)\n",
    "print(type(bbb))\n",
    "print(len(bbb))\n",
    "print(iter(bbb))"
   ]
  },
  {
   "cell_type": "markdown",
   "metadata": {},
   "source": [
    "### bytearray 생성 \n"
   ]
  },
  {
   "cell_type": "code",
   "execution_count": 27,
   "metadata": {
    "collapsed": false
   },
   "outputs": [
    {
     "name": "stdout",
     "output_type": "stream",
     "text": [
      "bytearray(b'abcde')\n",
      "bytearray(b'aaaa')\n"
     ]
    }
   ],
   "source": [
    "# bytes에서 bytearray로 전환\n",
    "b = b'abcde'\n",
    "bc = bytearray(b)\n",
    "print(bc)\n",
    "\n",
    "# str에서 bytearray 생성시는 encoding 처리를 해야 함 \n",
    "ba = bytearray(\"aaaa\", encoding=\"utf-8\")\n",
    "print(ba)"
   ]
  },
  {
   "cell_type": "code",
   "execution_count": 10,
   "metadata": {
    "collapsed": false
   },
   "outputs": [
    {
     "name": "stdout",
     "output_type": "stream",
     "text": [
      "bytearray(b'Hello Wolrd')\n",
      "bytearray(b'\\xea\\xb0\\x80\\xeb\\x82\\x98\\xeb\\x8b\\xa4\\xeb\\x9d\\xbc\\xeb\\xa7\\x88')\n",
      "가나다라마\n"
     ]
    }
   ],
   "source": [
    "s = \"Hello Wolrd\"\n",
    "ba = bytearray(s, encoding=\"utf-8\")\n",
    "print(ba)\n",
    "sh = \"가나다라마\"\n",
    "bah = bytearray(sh, encoding=\"utf-8\")\n",
    "print(bah)\n",
    "\n",
    "sba = bah.decode()\n",
    "print(sba)"
   ]
  },
  {
   "cell_type": "markdown",
   "metadata": {},
   "source": [
    "# 6. list 데이터 타입\n",
    "\n",
    "     다양한 데이터 타입을 처리할 수 있는 변경가능한 데이터 타입\n",
    "     \n",
    "     표기법 : [ 원소, ...]"
   ]
  },
  {
   "cell_type": "markdown",
   "metadata": {},
   "source": [
    "### 리스트 내의 메소드\n"
   ]
  },
  {
   "cell_type": "code",
   "execution_count": 23,
   "metadata": {
    "collapsed": false
   },
   "outputs": [
    {
     "name": "stdout",
     "output_type": "stream",
     "text": [
      "['__add__', '__class__', '__contains__', '__delattr__', '__delitem__', '__dir__', '__doc__', '__eq__', '__format__', '__ge__', '__getattribute__', '__getitem__', '__gt__', '__hash__', '__iadd__', '__imul__', '__init__', '__iter__', '__le__', '__len__', '__lt__', '__mul__', '__ne__', '__new__', '__reduce__', '__reduce_ex__', '__repr__', '__reversed__', '__rmul__', '__setattr__', '__setitem__', '__sizeof__', '__str__', '__subclasshook__', 'append', 'clear', 'copy', 'count', 'extend', 'index', 'insert', 'pop', 'remove', 'reverse', 'sort']\n"
     ]
    }
   ],
   "source": [
    "print(dir(list))"
   ]
  },
  {
   "cell_type": "markdown",
   "metadata": {},
   "source": [
    "###  리스트 생성 \n"
   ]
  },
  {
   "cell_type": "code",
   "execution_count": 80,
   "metadata": {
    "collapsed": false
   },
   "outputs": [
    {
     "name": "stdout",
     "output_type": "stream",
     "text": [
      "[1, 2, 3]\n",
      "[]\n",
      "[1, 2, 3]\n"
     ]
    }
   ],
   "source": [
    "# list  생성\n",
    "# list 클래스로 인스턴스 생성\n",
    "l1 = list((1,2,3,))\n",
    "print(l1)\n",
    "\n",
    "# 리터럴 값으로 생성\n",
    "l2 = []\n",
    "print(l2)\n",
    "\n",
    "# 리터럴 값으로 생성\n",
    "l3 = [1,2,3]\n",
    "print(l3)"
   ]
  },
  {
   "cell_type": "markdown",
   "metadata": {},
   "source": [
    "###  리스트 내에 리스트를 넣을 때 초기화 하는 법\n"
   ]
  },
  {
   "cell_type": "markdown",
   "metadata": {},
   "source": [
    "####  리스트를 먼저 초기화\n",
    "    \n",
    "      리스트를 초기화 후에 for 문을 통해 처리하면 기존 생성된 리스트가 연속적으로 추가되므로 동일 객체가 추가됨\n",
    "        \n",
    "      갱신하면 전체가 바뀜\n",
    "      "
   ]
  },
  {
   "cell_type": "code",
   "execution_count": 22,
   "metadata": {
    "collapsed": false
   },
   "outputs": [
    {
     "name": "stdout",
     "output_type": "stream",
     "text": [
      "[3, 3, 3]\n",
      "[[3, 3, 3], [3, 3, 3], [3, 3, 3]]\n",
      "[[99, 3, 3], [99, 3, 3], [99, 3, 3]]\n"
     ]
    }
   ],
   "source": [
    "row = [3] * 3\n",
    "print(row)\n",
    "\n",
    "li = []\n",
    "for _ in range(3) :\n",
    "    li.append(row)\n",
    "    \n",
    "print(li)\n",
    "\n",
    "li[0][0] = 99\n",
    "\n",
    "print(li)"
   ]
  },
  {
   "cell_type": "markdown",
   "metadata": {},
   "source": [
    "####  리스트를 for 문 안에서  초기화\n",
    "    \n",
    "      for 문 내에서 리스트를 만들어서 초기화하면 순환시 새로운 리스트를 만들어서 처리함\n",
    "      "
   ]
  },
  {
   "cell_type": "code",
   "execution_count": 23,
   "metadata": {
    "collapsed": false
   },
   "outputs": [
    {
     "name": "stdout",
     "output_type": "stream",
     "text": [
      "[[3, 3, 3], [3, 3, 3], [3, 3, 3]]\n",
      "[[99, 3, 3], [3, 3, 3], [3, 3, 3]]\n"
     ]
    }
   ],
   "source": [
    "li = []\n",
    "for _ in range(3) :\n",
    "    row = [3] * 3\n",
    "    li.append(row)\n",
    "    \n",
    "print(li)\n",
    "\n",
    "li[0][0] = 99\n",
    "\n",
    "print(li)"
   ]
  },
  {
   "cell_type": "markdown",
   "metadata": {},
   "source": [
    "####  지능형 리스트로 처리하기\n",
    "\n",
    "     리스트를 for문 안에서 초기화 하는 방식과 동일함\n",
    "     "
   ]
  },
  {
   "cell_type": "code",
   "execution_count": 25,
   "metadata": {
    "collapsed": false
   },
   "outputs": [
    {
     "name": "stdout",
     "output_type": "stream",
     "text": [
      "[[3, 3, 3], [3, 3, 3], [3, 3, 3]]\n",
      "[[99, 3, 3], [3, 3, 3], [3, 3, 3]]\n"
     ]
    }
   ],
   "source": [
    "li = [ [3]*3 for _ in range(3)]\n",
    "print(li)\n",
    "\n",
    "li[0][0] = 99\n",
    "\n",
    "print(li)"
   ]
  },
  {
   "cell_type": "markdown",
   "metadata": {},
   "source": [
    "### 반복자 타입"
   ]
  },
  {
   "cell_type": "code",
   "execution_count": 47,
   "metadata": {
    "collapsed": false
   },
   "outputs": [
    {
     "name": "stdout",
     "output_type": "stream",
     "text": [
      "<class 'list'>\n",
      "3\n",
      "<list_iterator object at 0x0000000005143438>\n"
     ]
    }
   ],
   "source": [
    "l1 = list((1,2,3,))\n",
    "\n",
    "print(type(l1))\n",
    "print(len(l1))\n",
    "print(iter(l1))"
   ]
  },
  {
   "cell_type": "markdown",
   "metadata": {},
   "source": [
    "### 리스트에  마지막 위치에  추가 및  삭제"
   ]
  },
  {
   "cell_type": "code",
   "execution_count": 15,
   "metadata": {
    "collapsed": false
   },
   "outputs": [
    {
     "name": "stdout",
     "output_type": "stream",
     "text": [
      "[1]\n",
      "[1, [2]]\n",
      "[2]\n",
      "[1]\n",
      "[1, 2]\n",
      "1\n",
      "[2]\n"
     ]
    }
   ],
   "source": [
    "# 빈 리스트 생성\n",
    "ll = [] \n",
    "# 리스트의 끝에 원소 추가: 정수\n",
    "ll.append(1)\n",
    "print(ll)\n",
    "# 리스트의 끝에 원소 추가: 리스트 \n",
    "ll.append([2])\n",
    "print(ll)\n",
    "\n",
    "# 리스트에 값 삭제 : 삭제된 원소를 리턴값\n",
    "a = ll.pop()\n",
    "print(a)\n",
    "print(ll)\n",
    "\n",
    "ll.append(2)\n",
    "print(ll)\n",
    "#특정 위치(인덱스)를 가지고 삭제\n",
    "b = ll.pop(0)\n",
    "print(b)\n",
    "print(ll)"
   ]
  },
  {
   "cell_type": "markdown",
   "metadata": {},
   "source": [
    "###  리스트 복사하기\n",
    "\n",
    "      얇은 복사 : 새로운 객체를 만들지만 내부 원소는 기존 원소를 참조\n",
    "      깊은 복사 : 새로운 객체를 만들고 내부 원소들도 다른 원소로 만듬\n",
    "      "
   ]
  },
  {
   "cell_type": "code",
   "execution_count": 44,
   "metadata": {
    "collapsed": false
   },
   "outputs": [
    {
     "name": "stdout",
     "output_type": "stream",
     "text": [
      "True\n",
      "82418056 82418056\n",
      "False\n",
      "[1, 2, 4, [99, 2]]\n",
      "[1, 2, 4, [99, 2]]\n"
     ]
    }
   ],
   "source": [
    "l8 = [1,2,4,[1,2]]\n",
    "# 단순 주소 카피 : 동일한 리스트 객체를 참조\n",
    "l7 = l8 \n",
    "\n",
    "# 객체의 주소를 비교해서 동일한지를 확인\n",
    "print(l7 is l8)\n",
    "print(id(l7), id(l8))\n",
    "\n",
    "# copy 메소드를 사용하면 새로운 리스트 객체를 생성\n",
    "# 원소는 동일한 값을 참조\n",
    "l5 = l8.copy()\n",
    "print(l5 is l8)\n",
    "\n",
    "# 원소 중에 리스트 내부 값을 변경\n",
    "# 원소는 동일한 것을 참조하고 있으므로 둘다 변경된다.\n",
    "l5[3][0] = 99\n",
    "print(l5)\n",
    "print(l8)\n"
   ]
  },
  {
   "cell_type": "markdown",
   "metadata": {},
   "source": [
    "### deepcopy를 하는 이유 \n",
    "\n",
    "    자기 자신과 자기 내부의 원소 전부를 새로운 객체로 만들어서 사용이 필요\n",
    "    "
   ]
  },
  {
   "cell_type": "code",
   "execution_count": 45,
   "metadata": {
    "collapsed": false
   },
   "outputs": [
    {
     "name": "stdout",
     "output_type": "stream",
     "text": [
      "False\n",
      "[1, 2, 4, [100, 2]]\n",
      "[1, 2, 4, [1, 2]]\n"
     ]
    }
   ],
   "source": [
    "## 깊은 복사로 다른 값으로 복사\n",
    "import copy \n",
    "\n",
    "l8 = [1,2,4,[1,2]]\n",
    "l5 = copy.deepcopy(l8)\n",
    "print(l5 is l8)\n",
    "l5[3][0] = 100\n",
    "print(l5)\n",
    "print(l8)"
   ]
  },
  {
   "cell_type": "markdown",
   "metadata": {},
   "source": [
    "### 리스트를 합치기"
   ]
  },
  {
   "cell_type": "code",
   "execution_count": 91,
   "metadata": {
    "collapsed": false
   },
   "outputs": [
    {
     "name": "stdout",
     "output_type": "stream",
     "text": [
      "None\n",
      "[1, 2, 3, 4, 5, 6]\n"
     ]
    }
   ],
   "source": [
    "l9 = [1,2,3]\n",
    "l10 = [4,5,6]\n",
    "\n",
    "# l9에 다른 리스트 추가해서 합치기\n",
    "a = l9.extend(l10)\n",
    "print(a)\n",
    "print(l9)\n"
   ]
  },
  {
   "cell_type": "markdown",
   "metadata": {},
   "source": [
    "###  리스트 특정 위치에 삽입 및 전체 삭제"
   ]
  },
  {
   "cell_type": "code",
   "execution_count": 86,
   "metadata": {
    "collapsed": false
   },
   "outputs": [
    {
     "name": "stdout",
     "output_type": "stream",
     "text": [
      "[5, 1, 2, 3, 4]\n",
      "[1, 2, 3, 4]\n",
      "[]\n"
     ]
    }
   ],
   "source": [
    "# 특정 위치에 삽입하기\n",
    "l2 = [1,2,3,4]\n",
    "l2.insert(0,5)\n",
    "print(l2)\n",
    "\n",
    "# 특정 값으로 삭제\n",
    "l2.remove(5)\n",
    "print(l2)\n",
    "\n",
    "# 전체 삭제\n",
    "l2.clear()\n",
    "print(l2)"
   ]
  },
  {
   "cell_type": "markdown",
   "metadata": {},
   "source": [
    "###  동일한 원소 갯수를 세기"
   ]
  },
  {
   "cell_type": "code",
   "execution_count": 89,
   "metadata": {
    "collapsed": false
   },
   "outputs": [
    {
     "name": "stdout",
     "output_type": "stream",
     "text": [
      "4\n"
     ]
    }
   ],
   "source": [
    "l4 = [1,2,3,4,5,2,2,2]\n",
    "# 동일한 원소 갯수 세기\n",
    "c = l4.count(2)\n",
    "print(c)"
   ]
  },
  {
   "cell_type": "markdown",
   "metadata": {},
   "source": [
    "### 리스트 원소들 소팅하기 "
   ]
  },
  {
   "cell_type": "code",
   "execution_count": 110,
   "metadata": {
    "collapsed": false
   },
   "outputs": [
    {
     "name": "stdout",
     "output_type": "stream",
     "text": [
      "None\n",
      "[1, 2, 2, 2, 2, 3, 4, 5]\n",
      "[5, 4, 3, 2, 2, 2, 2, 1]\n",
      "[1, 2, 2, 2, 2, 3, 4, 5]\n",
      "[5, 4, 3, 2, 2, 2, 2, 1]\n"
     ]
    }
   ],
   "source": [
    "l4 = [1,2,3,4,5,2,2,2]\n",
    "\n",
    "# 원소들 소팅 : 올림차수\n",
    "c = l4.sort()\n",
    "print(c)\n",
    "print(l4)\n",
    "# 원소들 소팅 : 역순으로 소팅\n",
    "l4.reverse() \n",
    "print(l4)\n",
    "\n",
    "# 소팅 기준을 주고 역순으로 소팅\n",
    "\n",
    "l4.sort()\n",
    "print(l4)\n",
    "\n",
    "l4.sort(reverse=True)\n",
    "print(l4)"
   ]
  },
  {
   "cell_type": "markdown",
   "metadata": {},
   "source": [
    "### 지능형 리스트 처리 \n"
   ]
  },
  {
   "cell_type": "code",
   "execution_count": 28,
   "metadata": {
    "collapsed": false
   },
   "outputs": [
    {
     "name": "stdout",
     "output_type": "stream",
     "text": [
      "[0, 1, 2, 3, 4]\n"
     ]
    }
   ],
   "source": [
    "# for 문으로 처리\n",
    "a = []\n",
    "for i in range(5) :\n",
    "    a.append(i)\n",
    "    \n",
    "print(a)\n",
    "    "
   ]
  },
  {
   "cell_type": "code",
   "execution_count": 30,
   "metadata": {
    "collapsed": false
   },
   "outputs": [
    {
     "name": "stdout",
     "output_type": "stream",
     "text": [
      "[0, 1, 2, 3, 4]\n"
     ]
    }
   ],
   "source": [
    "# 지능형 리스트로 처리 \n",
    "a = [ i for i in range(5)]\n",
    "print(a)"
   ]
  },
  {
   "cell_type": "markdown",
   "metadata": {},
   "source": [
    "###  지능형 리스터의 필터링 처리 \n"
   ]
  },
  {
   "cell_type": "code",
   "execution_count": 31,
   "metadata": {
    "collapsed": false
   },
   "outputs": [
    {
     "name": "stdout",
     "output_type": "stream",
     "text": [
      "[0, 2, 4, 6, 8]\n"
     ]
    }
   ],
   "source": [
    "# for 문으로 처리: 짝수만\n",
    "a = []\n",
    "for i in range(10) :\n",
    "    if i % 2 == 0 :\n",
    "        a.append(i)\n",
    "    \n",
    "print(a)"
   ]
  },
  {
   "cell_type": "code",
   "execution_count": 33,
   "metadata": {
    "collapsed": false
   },
   "outputs": [
    {
     "name": "stdout",
     "output_type": "stream",
     "text": [
      "[0, 2, 4, 6, 8]\n"
     ]
    }
   ],
   "source": [
    "# 지능형 리스트로 처리 \n",
    "a = [ i for i in range(10) if i %2 ==0 ]\n",
    "print(a)"
   ]
  },
  {
   "cell_type": "markdown",
   "metadata": {},
   "source": [
    "# 7.  tuple 데이터 타입 \n",
    "\n",
    "    변경 불가 데이터 타입이므로 리스트 처럼 지능형 처리가 없다.\n",
    "    "
   ]
  },
  {
   "cell_type": "markdown",
   "metadata": {},
   "source": [
    "###  튜플 생성"
   ]
  },
  {
   "cell_type": "code",
   "execution_count": 36,
   "metadata": {
    "collapsed": false
   },
   "outputs": [
    {
     "name": "stdout",
     "output_type": "stream",
     "text": [
      "(1, 2, 3, 4)\n",
      "(1, 2, 3, 4)\n"
     ]
    }
   ],
   "source": [
    "# 리터럴로 생성 \n",
    "\n",
    "t = 1,2,3,4\n",
    "print(t)\n",
    "t1 = (1,2,3,4)\n",
    "print(t1)"
   ]
  },
  {
   "cell_type": "code",
   "execution_count": 38,
   "metadata": {
    "collapsed": false
   },
   "outputs": [
    {
     "name": "stdout",
     "output_type": "stream",
     "text": [
      "(1, 2, 3, 4)\n"
     ]
    }
   ],
   "source": [
    "t = tuple([1,2,3,4])\n",
    "print(t)"
   ]
  },
  {
   "cell_type": "code",
   "execution_count": 17,
   "metadata": {
    "collapsed": false
   },
   "outputs": [
    {
     "name": "stdout",
     "output_type": "stream",
     "text": [
      "81139576\n",
      "81139576\n",
      "True\n"
     ]
    }
   ],
   "source": [
    "t = 1,2,3,4\n",
    "print(id(t))\n",
    "t1 = tuple(t)\n",
    "print(id(t1))\n",
    "print(t is t1)"
   ]
  },
  {
   "cell_type": "markdown",
   "metadata": {},
   "source": [
    "### 튜플 내의 원속 하나 일 경우  주의 사항 \n",
    "\n",
    "    원소가 하나인 튜플일 경우 마지막에 꼭 쉼표(,)를 부여해야 함\n",
    "    \n",
    "    "
   ]
  },
  {
   "cell_type": "code",
   "execution_count": 37,
   "metadata": {
    "collapsed": false
   },
   "outputs": [
    {
     "name": "stdout",
     "output_type": "stream",
     "text": [
      "<class 'int'> 1\n",
      "<class 'tuple'> (1,)\n"
     ]
    }
   ],
   "source": [
    "o = (1)\n",
    "t = (1,)\n",
    "\n",
    "print(type(o), o)\n",
    "print(type(t), t)"
   ]
  },
  {
   "cell_type": "markdown",
   "metadata": {},
   "source": [
    "###  튜플 메소드 "
   ]
  },
  {
   "cell_type": "code",
   "execution_count": 177,
   "metadata": {
    "collapsed": false
   },
   "outputs": [
    {
     "name": "stdout",
     "output_type": "stream",
     "text": [
      "2\n",
      "1\n",
      "3\n"
     ]
    }
   ],
   "source": [
    "# tuple은 변경불가하므로 count와 index 모듈만 제공함 \n",
    "t = (1,2,3,2,3)\n",
    "\n",
    "print(t.count(2))\n",
    "print(t.index(2))\n",
    "\n",
    "print(t.index(2,3))"
   ]
  },
  {
   "cell_type": "markdown",
   "metadata": {},
   "source": [
    "### 튜플 내의 원소가 리스트가 올 경우 \n",
    "\n",
    "    튜플 내의 리스트는 변경가능하므로 변경이 가능하지만 튜플 객체 자신에 대한 정보는 바뀌는 것이 아님\n",
    "    "
   ]
  },
  {
   "cell_type": "code",
   "execution_count": 42,
   "metadata": {
    "collapsed": false
   },
   "outputs": [
    {
     "name": "stdout",
     "output_type": "stream",
     "text": [
      "82425464\n",
      "(1, 2, [99, 2])\n",
      "82425464\n"
     ]
    }
   ],
   "source": [
    "t = (1,2,[1,2])\n",
    "print(id(t))\n",
    "t[2][0] = 99\n",
    "print(t)\n",
    "\n",
    "print(id(t))"
   ]
  },
  {
   "cell_type": "markdown",
   "metadata": {},
   "source": [
    "# 8.  sequence 타입  indexing 와 slicing 하기\n",
    "\n",
    "   검색 및 갱신 등을 직접 [ ] 기호를 이용해서 검색 및 갱신도 가능함\n",
    "   \n",
    "   indexing은 하나의 원소값으 조회 및 갱신에 이용\n",
    "   \n",
    "   slicing은 여러 개의 원소값은 조회해서 새로운 sequence 타입으로 생성 및 기존 값 갱신을 함\n",
    "   \n",
    "       sequence명[ 시작점 : 종료점 : 스템] 으로 추출 및 갱신\n",
    "   "
   ]
  },
  {
   "cell_type": "code",
   "execution_count": 18,
   "metadata": {
    "collapsed": false
   },
   "outputs": [
    {
     "name": "stdout",
     "output_type": "stream",
     "text": [
      "Help on class slice in module builtins:\n",
      "\n",
      "class slice(object)\n",
      " |  slice(stop)\n",
      " |  slice(start, stop[, step])\n",
      " |  \n",
      " |  Create a slice object.  This is used for extended slicing (e.g. a[0:10:2]).\n",
      " |  \n",
      " |  Methods defined here:\n",
      " |  \n",
      " |  __eq__(self, value, /)\n",
      " |      Return self==value.\n",
      " |  \n",
      " |  __ge__(self, value, /)\n",
      " |      Return self>=value.\n",
      " |  \n",
      " |  __getattribute__(self, name, /)\n",
      " |      Return getattr(self, name).\n",
      " |  \n",
      " |  __gt__(self, value, /)\n",
      " |      Return self>value.\n",
      " |  \n",
      " |  __le__(self, value, /)\n",
      " |      Return self<=value.\n",
      " |  \n",
      " |  __lt__(self, value, /)\n",
      " |      Return self<value.\n",
      " |  \n",
      " |  __ne__(self, value, /)\n",
      " |      Return self!=value.\n",
      " |  \n",
      " |  __new__(*args, **kwargs) from builtins.type\n",
      " |      Create and return a new object.  See help(type) for accurate signature.\n",
      " |  \n",
      " |  __reduce__(...)\n",
      " |      Return state information for pickling.\n",
      " |  \n",
      " |  __repr__(self, /)\n",
      " |      Return repr(self).\n",
      " |  \n",
      " |  indices(...)\n",
      " |      S.indices(len) -> (start, stop, stride)\n",
      " |      \n",
      " |      Assuming a sequence of length len, calculate the start and stop\n",
      " |      indices, and the stride length of the extended slice described by\n",
      " |      S. Out of bounds indices are clipped in a manner consistent with the\n",
      " |      handling of normal slices.\n",
      " |  \n",
      " |  ----------------------------------------------------------------------\n",
      " |  Data descriptors defined here:\n",
      " |  \n",
      " |  start\n",
      " |  \n",
      " |  step\n",
      " |  \n",
      " |  stop\n",
      " |  \n",
      " |  ----------------------------------------------------------------------\n",
      " |  Data and other attributes defined here:\n",
      " |  \n",
      " |  __hash__ = None\n",
      "\n"
     ]
    }
   ],
   "source": [
    "help(slice)"
   ]
  },
  {
   "cell_type": "code",
   "execution_count": 21,
   "metadata": {
    "collapsed": false
   },
   "outputs": [
    {
     "name": "stdout",
     "output_type": "stream",
     "text": [
      "dahl moon\n",
      "30\n",
      "010-7777-1111\n"
     ]
    }
   ],
   "source": [
    "s = \"dahl moon 30 010-7777-1111\"\n",
    "NAME = slice(9)\n",
    "AGE  = slice(10,12)\n",
    "TEL = slice(13,len(s))\n",
    "print(s[NAME])\n",
    "print(s[AGE])\n",
    "print(s[TEL])"
   ]
  },
  {
   "cell_type": "markdown",
   "metadata": {},
   "source": [
    "### 리스트에서 indexing 과 slicing 처리 "
   ]
  },
  {
   "cell_type": "code",
   "execution_count": 117,
   "metadata": {
    "collapsed": false
   },
   "outputs": [
    {
     "name": "stdout",
     "output_type": "stream",
     "text": [
      "[1, 2, 3, 4, 5]\n",
      "[1, 2, 3, 4]\n"
     ]
    }
   ],
   "source": [
    "lll = [1,2,3,4,5,6]\n",
    "ls = lll[:5]\n",
    "print(ls)\n",
    "\n",
    "#특정 영역 갱신 : 슬라이스로 갱신시에는 사이즈가 작아도 갱신됨\n",
    "ls[:5] = [1,2,3,4]\n",
    "print(ls)"
   ]
  },
  {
   "cell_type": "markdown",
   "metadata": {},
   "source": [
    "### slice 객체로 접근하기\n",
    "\n",
    "     slice(시작점, 종료점,스템)을 객체로 만들면 [시작점, 종료점,스텝]가 동일한 결과를 나타냄\n",
    "     "
   ]
  },
  {
   "cell_type": "code",
   "execution_count": 122,
   "metadata": {
    "collapsed": false
   },
   "outputs": [
    {
     "name": "stdout",
     "output_type": "stream",
     "text": [
      "[1, 2, 3, 4, 5]\n",
      "[1, 2, 3, 4]\n"
     ]
    }
   ],
   "source": [
    "sl = slice(0,5)\n",
    "\n",
    "lll = [1,2,3,4,5,6]\n",
    "lss = lll[sl]\n",
    "print(lss)\n",
    "\n",
    "#특정 영역 갱신 : 슬라이스로 갱신시에는 사이즈가 작아도 갱신됨\n",
    "\n",
    "lss[sl] = [1,2,3,4]\n",
    "print(lss)"
   ]
  },
  {
   "cell_type": "markdown",
   "metadata": {},
   "source": [
    "###  문자열 슬라이싱 처리해서 검색하기\n",
    "    \n",
    "     슬라이싱을 하면 별도의 문자열 객체로 반환한다.\n",
    "     \n",
    "     [시작점:종료점: 스텝] 이것은 slice(시작점:종료점: 스텝) 객체에서 나오는 결과로 조회가 되는 것"
   ]
  },
  {
   "cell_type": "code",
   "execution_count": 113,
   "metadata": {
    "collapsed": false
   },
   "outputs": [
    {
     "name": "stdout",
     "output_type": "stream",
     "text": [
      "85626416\n",
      "85682528 Hel\n"
     ]
    }
   ],
   "source": [
    "ls = \"Hello slicing \"\n",
    "\n",
    "print(id(ls))\n",
    "# 새로운 문자열 생성\n",
    "cs = ls[0:3]\n",
    "print(id(cs), cs)"
   ]
  },
  {
   "cell_type": "code",
   "execution_count": 23,
   "metadata": {
    "collapsed": false
   },
   "outputs": [
    {
     "name": "stdout",
     "output_type": "stream",
     "text": [
      "Hello\n",
      "Hello\n",
      "83980728 83914856\n"
     ]
    }
   ],
   "source": [
    "sss = \"Hello World !!!\"\n",
    "\n",
    "sub1 = sss[0:5]\n",
    "print(sub1)\n",
    "sub2 = sss[0:5]\n",
    "print(sub2)\n",
    "# id는 객체 reference 주소를 정수로 출력해준다\n",
    "# 두개의 다른 객체가 생성된다\n",
    "print(id(sub1), id(sub2))\n"
   ]
  },
  {
   "cell_type": "code",
   "execution_count": 22,
   "metadata": {
    "collapsed": false
   },
   "outputs": [
    {
     "name": "stdout",
     "output_type": "stream",
     "text": [
      "HloWrd!!\n"
     ]
    }
   ],
   "source": [
    "sss = \"Hello World !!!\"\n",
    "\n",
    "# 두 스템 단위로 처리\n",
    "sub3 = sss[::2]\n",
    "print(sub3)\n"
   ]
  },
  {
   "cell_type": "code",
   "execution_count": 24,
   "metadata": {
    "collapsed": false
   },
   "outputs": [
    {
     "name": "stdout",
     "output_type": "stream",
     "text": [
      "!!! dlroW olleH\n"
     ]
    }
   ],
   "source": [
    "sss = \"Hello World !!!\"\n",
    "\n",
    "# 역으로 처리\n",
    "sub4 = sss[::-1]\n",
    "print(sub4)"
   ]
  },
  {
   "cell_type": "code",
   "execution_count": 27,
   "metadata": {
    "collapsed": false
   },
   "outputs": [
    {
     "name": "stdout",
     "output_type": "stream",
     "text": [
      "!!! \n"
     ]
    }
   ],
   "source": [
    "sss = \"Hello World !!!\"\n",
    "\n",
    "# 역으로 처리\n",
    "sub4 = sss[-1:-5:-1]\n",
    "print(sub4)"
   ]
  },
  {
   "cell_type": "code",
   "execution_count": 17,
   "metadata": {
    "collapsed": false
   },
   "outputs": [
    {
     "name": "stdout",
     "output_type": "stream",
     "text": [
      "!!! dlroW olleH\n",
      "15\n",
      "Hello World !!!\n",
      "Hello World !!!\n",
      "lo World !!!\n",
      "Hello W\n"
     ]
    }
   ],
   "source": [
    "sss = \"Hello World !!!\"\n",
    "\n",
    "#끝점까지 읽을 경우\n",
    "print(len(sss))\n",
    "sub5 = sss[0:15]\n",
    "print(sub5)\n",
    "\n",
    "# 숫자를 안 주면 전체를 읽음\n",
    "sub6 = sss[:]\n",
    "print(sub6)\n",
    "\n",
    "# 특정위치부터 끝가지 읽기: 마지막 숫자를 안주면 됨\n",
    "sub7 = sss[3:]\n",
    "print(sub7)\n",
    "\n",
    "# 처음부터 특정위치까지만 읽기: 처음 숫자는 안줘도 됨\n",
    "sub8 = sss[:7]\n",
    "print(sub8)"
   ]
  },
  {
   "cell_type": "markdown",
   "metadata": {},
   "source": [
    "### tuple 처리에서 indexing과 slicing은 조회만 가능"
   ]
  },
  {
   "cell_type": "code",
   "execution_count": 180,
   "metadata": {
    "collapsed": false
   },
   "outputs": [
    {
     "name": "stdout",
     "output_type": "stream",
     "text": [
      "1\n",
      "(1, 2, 3)\n"
     ]
    }
   ],
   "source": [
    "# tuple 처리에서 indexing과 slicing은 조회만 가능\n",
    "t = (1,2,3,4,5)\n",
    "print(t[0])\n",
    "print(t[:3])"
   ]
  },
  {
   "cell_type": "markdown",
   "metadata": {},
   "source": [
    "# 9. sequence 타입에서 +, * 연산자 처리\n",
    "\n",
    "    + 연산자는 extend 연산자와 같이 두개의 sequence를 합치고\n",
    "    * 연산자는 반복해서 생성함 \n",
    "    "
   ]
  },
  {
   "cell_type": "code",
   "execution_count": 2,
   "metadata": {
    "collapsed": false
   },
   "outputs": [
    {
     "name": "stdout",
     "output_type": "stream",
     "text": [
      "[1, 2, 3, 4, 5, 6]\n",
      "80315656 80324872\n",
      "[1, 2, 3, 4, 5, 6]\n",
      "80315656 80324872\n"
     ]
    }
   ],
   "source": [
    "l = [1,2,3]\n",
    "l1 = [4,5,6]\n",
    "\n",
    "# 새로운 객체를 생성함\n",
    "l2 = l+ l1\n",
    "print(l2)\n",
    "print(id(l2), id(l))\n",
    "\n",
    "l.extend(l1)\n",
    "print(l)\n",
    "print(id(l2), id(l))"
   ]
  },
  {
   "cell_type": "code",
   "execution_count": 30,
   "metadata": {
    "collapsed": false
   },
   "outputs": [
    {
     "name": "stdout",
     "output_type": "stream",
     "text": [
      "[4, 5, 6, 4, 5, 6]\n",
      "81250504 81097096\n"
     ]
    }
   ],
   "source": [
    "l = [1,2,3]\n",
    "l1 = [4,5,6]\n",
    "\n",
    "\n",
    "# 반복 갯수 생성\n",
    "l3 = l1 *2\n",
    "print(l3)\n",
    "print(id(l3), id(l1))\n"
   ]
  },
  {
   "cell_type": "markdown",
   "metadata": {},
   "source": [
    "### 리스트 내에 리스트 추가시 주의사항\n",
    "    리스트 내에 리스트 추가시 * 연산자로 동일한 리스트를 추가한 상태에서 내부 원소를 갱신할 경우 전체가 바뀜 \n",
    "    내부 원소의 리스트가 동일한 객체로 카피되므로 이런 현상이 발생함\n",
    "    "
   ]
  },
  {
   "cell_type": "code",
   "execution_count": 33,
   "metadata": {
    "collapsed": false
   },
   "outputs": [
    {
     "name": "stdout",
     "output_type": "stream",
     "text": [
      "80307912\n",
      "[[1]]\n",
      "80307912\n",
      "[[1], [1], [1]]\n",
      "80307912 80307912 80307912\n"
     ]
    }
   ],
   "source": [
    "l3= [1]\n",
    "print(id(l3))\n",
    "l4 = []\n",
    "l4.append(l3)\n",
    "print(l4)\n",
    "print(id(l4[0]))\n",
    "\n",
    "l5 = l4 *3\n",
    "print(l5)\n",
    "print(id(l5[0]),id(l5[1]),id(l5[2]))"
   ]
  },
  {
   "cell_type": "code",
   "execution_count": 34,
   "metadata": {
    "collapsed": false
   },
   "outputs": [
    {
     "name": "stdout",
     "output_type": "stream",
     "text": [
      "[[99], [99], [99]]\n"
     ]
    }
   ],
   "source": [
    "# 값을 갱신하므로 실제 동일한 객체 리스트와 연결되어 있으므로 모두 갱신함\n",
    "l5[0][0]= 99\n",
    "print(l5)"
   ]
  },
  {
   "cell_type": "markdown",
   "metadata": {},
   "source": [
    "# 10. sequence 타입이 unpacking 과 swapping \n",
    "\n",
    "    sequence 타입을 원소로 나눠서 처리하면 unpacking\n",
    "    \n",
    "    주어진 변수의 위치를 바꾸면 swappin 처리\n",
    "    "
   ]
  },
  {
   "cell_type": "markdown",
   "metadata": {},
   "source": [
    "### 동일한 갯수로 unpacking 처리 하기"
   ]
  },
  {
   "cell_type": "code",
   "execution_count": 182,
   "metadata": {
    "collapsed": false
   },
   "outputs": [
    {
     "name": "stdout",
     "output_type": "stream",
     "text": [
      "1 2 3\n"
     ]
    }
   ],
   "source": [
    "# 동일한 갯수의 변수로 unpacking 하기\n",
    "a, b, c = (1,2,3)\n",
    "print(a,b,c)"
   ]
  },
  {
   "cell_type": "code",
   "execution_count": 183,
   "metadata": {
    "collapsed": false
   },
   "outputs": [
    {
     "name": "stdout",
     "output_type": "stream",
     "text": [
      "a b c\n"
     ]
    }
   ],
   "source": [
    "# 동일한 갯수의 변수로 unpacking 하기\n",
    "a, b, c = \"abc\"\n",
    "print(a,b,c)"
   ]
  },
  {
   "cell_type": "code",
   "execution_count": 184,
   "metadata": {
    "collapsed": false
   },
   "outputs": [
    {
     "name": "stdout",
     "output_type": "stream",
     "text": [
      "1 2 3\n"
     ]
    }
   ],
   "source": [
    "# 동일한 갯수의 변수로 unpacking 하기\n",
    "a, b, c = [1,2,3]\n",
    "print(a,b,c)"
   ]
  },
  {
   "cell_type": "markdown",
   "metadata": {},
   "source": [
    "### 다른 갯수로 unpacking 하기\n",
    "\n",
    "    다른 갯수 일경우 변수 앞에 *를 붙여 개수가 남은 것을 모두 처리"
   ]
  },
  {
   "cell_type": "code",
   "execution_count": 196,
   "metadata": {
    "collapsed": false
   },
   "outputs": [
    {
     "name": "stdout",
     "output_type": "stream",
     "text": [
      "1 [2, 3]\n",
      "1 [2, 3, 4, 5] 6\n",
      "6\n"
     ]
    }
   ],
   "source": [
    "\n",
    "a, *b = (1,2,3)\n",
    "print(a,b)\n",
    "\n",
    "a, *b, c = [1,2,3,4,5,6]\n",
    "print(a,b,c)\n",
    "\n",
    "# 함수 내부에 리스트를 unpack 처리\n",
    "total = 0\n",
    "def add(tail,head=None,) :\n",
    "    global total \n",
    "    if tail == [] :\n",
    "        return total\n",
    "    if head == None :\n",
    "        head, *tail = tail\n",
    "        total += head\n",
    "    \n",
    "    return add(tail=tail)\n",
    "print(add([1,2,3]))"
   ]
  },
  {
   "cell_type": "markdown",
   "metadata": {},
   "source": [
    "### swapping 처리하기\n",
    "\n",
    "    변수에 저장된 것을 변경하는 것"
   ]
  },
  {
   "cell_type": "code",
   "execution_count": 187,
   "metadata": {
    "collapsed": false
   },
   "outputs": [
    {
     "name": "stdout",
     "output_type": "stream",
     "text": [
      "2 1\n"
     ]
    }
   ],
   "source": [
    "a = 1\n",
    "b = 2\n",
    "\n",
    "a,b = b,a\n",
    "print(a,b)"
   ]
  },
  {
   "cell_type": "markdown",
   "metadata": {},
   "source": [
    "# 11.  array.array 모듈 처리하기\n",
    "\n",
    "    동일한 타입의 원소만 저장되므로 타입코드를 주고 생성해야 함.\n",
    "    list 타입과 array.array 타입간의 연계는 데이터 타입이 상이하므로 에러가 발생하므로 array.array 타입으로 맞춰서 처리해야 함.\n",
    "    \n",
    "    \n",
    "\n",
    "         Type code        C Type          Minimum size in bytes \n",
    "     |      'b'         signed integer             1 \n",
    "     |      'B'         unsigned integer           1 \n",
    "     |      'u'         Unicode character          2 (see note) \n",
    "     |      'h'         signed integer             2 \n",
    "     |      'H'         unsigned integer           2 \n",
    "     |      'i'         signed integer             2 \n",
    "     |      'I'         unsigned integer           2 \n",
    "     |      'l'         signed integer             4 \n",
    "     |      'L'         unsigned integer           4 \n",
    "     |      'q'         signed integer             8 (see note) \n",
    "     |      'Q'         unsigned integer           8 (see note) \n",
    "     |      'f'         floating point             4 \n",
    "     |      'd'         floating point             8 \n",
    "     "
   ]
  },
  {
   "cell_type": "markdown",
   "metadata": {},
   "source": [
    "### 생성, 추가, 삭제 처리 "
   ]
  },
  {
   "cell_type": "code",
   "execution_count": 134,
   "metadata": {
    "collapsed": false
   },
   "outputs": [
    {
     "name": "stdout",
     "output_type": "stream",
     "text": [
      "array('b', [1, 2, 3, 4])\n",
      "array('b', [1, 2, 3, 4, 1])\n",
      "array('b', [1, 2, 3, 4])\n",
      "array('b', [2, 3, 4, 5])\n"
     ]
    }
   ],
   "source": [
    "import array\n",
    "\n",
    "a = array.array('b',[1,2,3,4])\n",
    "print(a)\n",
    "\n",
    "# 원소 추가 : 주어진 타입에 맞는 원소만 입력됨\n",
    "a.append(1)\n",
    "print(a)\n",
    "\n",
    "# 원소 삭제\n",
    "a.pop()\n",
    "print(a)\n",
    "a.append(5)\n",
    "a.pop(0)\n",
    "print(a)\n"
   ]
  },
  {
   "cell_type": "markdown",
   "metadata": {},
   "source": [
    "### 특정위치 삽입 및 제거 \n"
   ]
  },
  {
   "cell_type": "code",
   "execution_count": 136,
   "metadata": {
    "collapsed": false
   },
   "outputs": [
    {
     "name": "stdout",
     "output_type": "stream",
     "text": [
      "array('b', [5, 1, 2, 3, 4])\n",
      "array('b', [1, 2, 3, 4])\n"
     ]
    }
   ],
   "source": [
    "# 특정 위치에 삽입하기\n",
    "l2 = array.array('b',[1,2,3,4])\n",
    "l2.insert(0,5)\n",
    "print(l2)\n",
    "\n",
    "# 특정 값으로 삭제\n",
    "l2.remove(5)\n",
    "print(l2)\n"
   ]
  },
  {
   "cell_type": "markdown",
   "metadata": {},
   "source": [
    "###  슬라이싱 처리 \n"
   ]
  },
  {
   "cell_type": "code",
   "execution_count": 139,
   "metadata": {
    "collapsed": false
   },
   "outputs": [
    {
     "name": "stdout",
     "output_type": "stream",
     "text": [
      "array('b', [1, 2, 3, 4, 5])\n",
      "array('b', [1, 2, 3, 4])\n"
     ]
    }
   ],
   "source": [
    "sl = slice(0,5)\n",
    "\n",
    "lll = array.array('b',[1,2,3,4,5,6])\n",
    "lss = lll[sl]\n",
    "print(lss)\n",
    "\n",
    "#특정 영역 갱신 : 슬라이스로 갱신시에는 사이즈가 작아도 갱신됨\n",
    "\n",
    "lss[sl] = array.array('b',[1,2,3,4])\n",
    "print(lss)"
   ]
  },
  {
   "cell_type": "markdown",
   "metadata": {
    "collapsed": true
   },
   "source": [
    "# 12. 추상클래스 상속 받아 처리하기 \n"
   ]
  },
  {
   "cell_type": "markdown",
   "metadata": {},
   "source": [
    "### 내장 클래스를 상속하지 않고 추상화 클래스를 상속해서 사용 \n",
    "    \n",
    "    collections 모듈에 'UserList','UserString' 추상 클래스 이용하기 "
   ]
  },
  {
   "cell_type": "markdown",
   "metadata": {},
   "source": [
    "### UserList 추상 클래스를 상속해서 사용하기 \n",
    "\n",
    "    일단 추상클래스 메소드들을 구현하지 않아도 대부분 만들어져 있고 List 처럼 처리"
   ]
  },
  {
   "cell_type": "code",
   "execution_count": 4,
   "metadata": {
    "collapsed": false
   },
   "outputs": [
    {
     "name": "stdout",
     "output_type": "stream",
     "text": [
      "['_UserList__cast', '__abstractmethods__', '__add__', '__class__', '__contains__', '__delattr__', '__delitem__', '__dict__', '__dir__', '__doc__', '__eq__', '__format__', '__ge__', '__getattribute__', '__getitem__', '__gt__', '__hash__', '__iadd__', '__imul__', '__init__', '__iter__', '__le__', '__len__', '__lt__', '__module__', '__mul__', '__ne__', '__new__', '__radd__', '__reduce__', '__reduce_ex__', '__repr__', '__reversed__', '__rmul__', '__setattr__', '__setitem__', '__sizeof__', '__slots__', '__str__', '__subclasshook__', '__weakref__', '_abc_cache', '_abc_negative_cache', '_abc_negative_cache_version', '_abc_registry', 'append', 'clear', 'copy', 'count', 'extend', 'index', 'insert', 'pop', 'remove', 'reverse', 'sort']\n"
     ]
    }
   ],
   "source": [
    "import collections as cols\n",
    "\n",
    "print(dir(cols.UserList))"
   ]
  },
  {
   "cell_type": "code",
   "execution_count": 3,
   "metadata": {
    "collapsed": false
   },
   "outputs": [
    {
     "name": "stdout",
     "output_type": "stream",
     "text": [
      "[10]\n"
     ]
    }
   ],
   "source": [
    "import collections as cols\n",
    "\n",
    "class L(cols.UserList) :\n",
    "    pass\n",
    "\n",
    "l = L()\n",
    "\n",
    "l.append(10)\n",
    "print(l)"
   ]
  },
  {
   "cell_type": "markdown",
   "metadata": {},
   "source": [
    "### UserString 추상 클래스를 상속해서 사용하기 \n",
    "\n",
    "    일단 추상클래스 메소드들을 구현하지 않아도 대부분 만들어져 있고 str 처럼 처리\n",
    "    "
   ]
  },
  {
   "cell_type": "code",
   "execution_count": 5,
   "metadata": {
    "collapsed": false
   },
   "outputs": [
    {
     "name": "stdout",
     "output_type": "stream",
     "text": [
      "['__abstractmethods__', '__add__', '__class__', '__complex__', '__contains__', '__delattr__', '__dict__', '__dir__', '__doc__', '__eq__', '__float__', '__format__', '__ge__', '__getattribute__', '__getitem__', '__getnewargs__', '__gt__', '__hash__', '__init__', '__int__', '__iter__', '__le__', '__len__', '__lt__', '__mod__', '__module__', '__mul__', '__ne__', '__new__', '__radd__', '__reduce__', '__reduce_ex__', '__repr__', '__reversed__', '__rmod__', '__rmul__', '__setattr__', '__sizeof__', '__slots__', '__str__', '__subclasshook__', '__weakref__', '_abc_cache', '_abc_negative_cache', '_abc_negative_cache_version', '_abc_registry', 'capitalize', 'casefold', 'center', 'count', 'encode', 'endswith', 'expandtabs', 'find', 'format', 'format_map', 'index', 'isalnum', 'isalpha', 'isdecimal', 'isdigit', 'isidentifier', 'islower', 'isnumeric', 'isprintable', 'isspace', 'istitle', 'isupper', 'join', 'ljust', 'lower', 'lstrip', 'maketrans', 'partition', 'replace', 'rfind', 'rindex', 'rjust', 'rpartition', 'rsplit', 'rstrip', 'split', 'splitlines', 'startswith', 'strip', 'swapcase', 'title', 'translate', 'upper', 'zfill']\n"
     ]
    }
   ],
   "source": [
    "import collections as cols\n",
    "\n",
    "print(dir(cols.UserString))"
   ]
  },
  {
   "cell_type": "code",
   "execution_count": 6,
   "metadata": {
    "collapsed": false
   },
   "outputs": [
    {
     "name": "stdout",
     "output_type": "stream",
     "text": [
      "Hello !!!!\n"
     ]
    }
   ],
   "source": [
    "import collections as cols\n",
    "\n",
    "class S(cols.UserString) :\n",
    "    pass\n",
    "\n",
    "s = S(\"Hello !!!!\")\n",
    "\n",
    "\n",
    "print(s)"
   ]
  },
  {
   "cell_type": "markdown",
   "metadata": {},
   "source": [
    "### 추상 클래스 내부 구조 알아보기\n"
   ]
  },
  {
   "cell_type": "markdown",
   "metadata": {},
   "source": [
    "#### 내부 속성들 비교하기 \n",
    "\n",
    "    파이썬은 객체만을 가지고 있으므로 변수를 제외하면 모든 속성(데이터 속성, 메소드 등)을 가지고 있다.\n",
    "    \n",
    "    이 속성들을 비교하기 위해 dir 함수로 속성을 읽어서 set으로 변환해서 집합연산으로 비교하면 차이점을 알 수 있다.\n",
    "    "
   ]
  },
  {
   "cell_type": "code",
   "execution_count": 18,
   "metadata": {
    "collapsed": false
   },
   "outputs": [
    {
     "name": "stdout",
     "output_type": "stream",
     "text": [
      "{'__getattribute__', '__hash__', '__format__', '__dir__', '__eq__', '__delattr__', '__repr__', '__ne__', '__init__', '__sizeof__', '__reduce_ex__', '__reduce__', '__class__', '__new__', '__str__', '__subclasshook__', '__le__', '__lt__', '__gt__', '__ge__', '__setattr__', '__doc__'}\n"
     ]
    }
   ],
   "source": [
    "# 최상위 클래스인 object가 가지는 속성들\n",
    "\n",
    "o = set(dir(object))\n",
    "\n",
    "print(o)"
   ]
  },
  {
   "cell_type": "markdown",
   "metadata": {},
   "source": [
    "####  collections.abc.Sequence가 상속한 클래스"
   ]
  },
  {
   "cell_type": "code",
   "execution_count": 5,
   "metadata": {
    "collapsed": false
   },
   "outputs": [
    {
     "name": "stdout",
     "output_type": "stream",
     "text": [
      "(<class 'collections.abc.Sized'>, <class 'collections.abc.Iterable'>, <class 'collections.abc.Container'>)\n"
     ]
    }
   ],
   "source": [
    "import collections.abc as cols\n",
    "\n",
    "print(cols.Sequence.__bases__)"
   ]
  },
  {
   "cell_type": "markdown",
   "metadata": {},
   "source": [
    "#### Sized/ Iterable / Container 내부 주요 스페셜 메소드"
   ]
  },
  {
   "cell_type": "code",
   "execution_count": 9,
   "metadata": {
    "collapsed": false
   },
   "outputs": [
    {
     "name": "stdout",
     "output_type": "stream",
     "text": [
      "{'_abc_cache', '__len__', '_abc_negative_cache', '__abstractmethods__', '__slots__', '__module__', '_abc_negative_cache_version', '_abc_registry'}\n"
     ]
    }
   ],
   "source": [
    "import collections.abc as cols\n",
    "\n",
    "o = set(dir(object))\n",
    "s = set(dir(cols.Sized))\n",
    "\n",
    "# 특별 메소드는 __len__\n",
    "print(s-o)"
   ]
  },
  {
   "cell_type": "code",
   "execution_count": 12,
   "metadata": {
    "collapsed": false
   },
   "outputs": [
    {
     "name": "stdout",
     "output_type": "stream",
     "text": [
      "{'_abc_cache', '__iter__', '_abc_negative_cache', '__abstractmethods__', '__slots__', '__module__', '_abc_negative_cache_version', '_abc_registry'}\n"
     ]
    }
   ],
   "source": [
    "import collections.abc as cols\n",
    "\n",
    "o = set(dir(object))\n",
    "s = set(dir(cols.Iterable))\n",
    "\n",
    "# 특별 메소드는 __iter__\n",
    "print(s-o)"
   ]
  },
  {
   "cell_type": "code",
   "execution_count": 14,
   "metadata": {
    "collapsed": false
   },
   "outputs": [
    {
     "name": "stdout",
     "output_type": "stream",
     "text": [
      "{'_abc_cache', '_abc_negative_cache', '__abstractmethods__', '__slots__', '__contains__', '__module__', '_abc_negative_cache_version', '_abc_registry'}\n"
     ]
    }
   ],
   "source": [
    "import collections.abc as cols\n",
    "\n",
    "o = set(dir(object))\n",
    "s = set(dir(cols.Container))\n",
    "\n",
    "# 특별 메소드는 __contains__\n",
    "print(s-o)"
   ]
  },
  {
   "cell_type": "code",
   "execution_count": 15,
   "metadata": {
    "collapsed": false
   },
   "outputs": [
    {
     "name": "stdout",
     "output_type": "stream",
     "text": [
      "{'_abc_cache', '__len__', '__iter__', '__getitem__', '_abc_negative_cache', 'count', '__abstractmethods__', '__slots__', '__contains__', '__module__', '_abc_negative_cache_version', '__reversed__', 'index', '_abc_registry'}\n"
     ]
    }
   ],
   "source": [
    "import collections.abc as cols\n",
    "\n",
    "o = set(dir(object))\n",
    "s = set(dir(cols.Sequence))\n",
    "\n",
    "# Sequence 특별 메서드\n",
    "# __getitem__, __reversed__\n",
    "\n",
    "# 메소드 : count, index\n",
    "print(s-o)\n"
   ]
  },
  {
   "cell_type": "markdown",
   "metadata": {},
   "source": [
    "####  collections.abc.MutableSequence가 상속한 클래스\n"
   ]
  },
  {
   "cell_type": "code",
   "execution_count": 8,
   "metadata": {
    "collapsed": false
   },
   "outputs": [
    {
     "name": "stdout",
     "output_type": "stream",
     "text": [
      "(<class 'collections.abc.Sequence'>,)\n",
      "True\n"
     ]
    }
   ],
   "source": [
    "import collections.abc as cols\n",
    "\n",
    "print(cols.MutableSequence.__bases__)\n",
    "\n",
    "print(issubclass(cols.MutableSequence, cols.Sequence))"
   ]
  },
  {
   "cell_type": "code",
   "execution_count": 16,
   "metadata": {
    "collapsed": false
   },
   "outputs": [
    {
     "name": "stdout",
     "output_type": "stream",
     "text": [
      "{'__setitem__', 'append', 'clear', '__delitem__', 'reverse', 'extend', 'pop', '__iadd__', 'insert', 'remove'}\n"
     ]
    }
   ],
   "source": [
    "import collections.abc as cols\n",
    "\n",
    "o = set(dir(object))\n",
    "s = set(dir(cols.Sequence))\n",
    "ms = set(dir(cols.MutableSequence))\n",
    "\n",
    "# Sequence 특별 메서드\n",
    "# __setitem__, __delitem__,  __iadd__\n",
    "\n",
    "# 메소드 : append, clear, reverse, extend, pop, insert, remove\n",
    "\n",
    "print(ms-s)"
   ]
  },
  {
   "cell_type": "markdown",
   "metadata": {},
   "source": [
    "# 13. operator 모듈을 이용해서 처리\n"
   ]
  },
  {
   "cell_type": "markdown",
   "metadata": {},
   "source": [
    "### itemgetter를 생성해서 고정된 값을 지속적으로 처리 하기 \n",
    "\n",
    "    동일한 인덱스 값을 처리하기 "
   ]
  },
  {
   "cell_type": "code",
   "execution_count": 9,
   "metadata": {
    "collapsed": false
   },
   "outputs": [
    {
     "name": "stdout",
     "output_type": "stream",
     "text": [
      "<class 'operator.itemgetter'>\n"
     ]
    }
   ],
   "source": [
    "import operator\n",
    "iget = operator.itemgetter(0,3)\n",
    "\n",
    "print(type(iget))"
   ]
  },
  {
   "cell_type": "code",
   "execution_count": 10,
   "metadata": {
    "collapsed": false
   },
   "outputs": [
    {
     "name": "stdout",
     "output_type": "stream",
     "text": [
      "(1, 4)\n",
      "('H', 'l')\n"
     ]
    }
   ],
   "source": [
    "# 리스트\n",
    "l = [1,2,3,4]\n",
    "print(iget(l))\n",
    "\n",
    "# 문자열\n",
    "s = \"Hello\"\n",
    "print(iget(s))"
   ]
  },
  {
   "cell_type": "markdown",
   "metadata": {},
   "source": [
    "#### itemgetter를 이용해서 slice 처리 하기 \n"
   ]
  },
  {
   "cell_type": "code",
   "execution_count": 11,
   "metadata": {
    "collapsed": false
   },
   "outputs": [
    {
     "name": "stdout",
     "output_type": "stream",
     "text": [
      "<class 'operator.itemgetter'>\n"
     ]
    }
   ],
   "source": [
    "import operator\n",
    "sget = operator.itemgetter(slice(0,3))\n",
    "\n",
    "print(type(sget))\n"
   ]
  },
  {
   "cell_type": "code",
   "execution_count": 12,
   "metadata": {
    "collapsed": false
   },
   "outputs": [
    {
     "name": "stdout",
     "output_type": "stream",
     "text": [
      "[1, 2, 3]\n",
      "Hel\n"
     ]
    }
   ],
   "source": [
    "# 리스트\n",
    "l = [1,2,3,4]\n",
    "print(sget(l))\n",
    "\n",
    "# 문자열\n",
    "s = \"Hello\"\n",
    "print(sget(s))"
   ]
  },
  {
   "cell_type": "code",
   "execution_count": 14,
   "metadata": {
    "collapsed": false
   },
   "outputs": [
    {
     "name": "stdout",
     "output_type": "stream",
     "text": [
      "Help on built-in function getitem in module _operator:\n",
      "\n",
      "getitem(...)\n",
      "    getitem(a, b) -- Same as a[b].\n",
      "\n",
      "None\n"
     ]
    }
   ],
   "source": [
    "import operator\n",
    "\n",
    "print(help(operator.getitem))"
   ]
  },
  {
   "cell_type": "markdown",
   "metadata": {},
   "source": [
    "#### operator 모듈의 getitem을 이용해서 처리\n"
   ]
  },
  {
   "cell_type": "code",
   "execution_count": 15,
   "metadata": {
    "collapsed": false
   },
   "outputs": [
    {
     "name": "stdout",
     "output_type": "stream",
     "text": [
      "3\n",
      "l\n"
     ]
    }
   ],
   "source": [
    "# 리스트\n",
    "l = [1,2,3,4]\n",
    "print(operator.getitem(l,2))\n",
    "\n",
    "# 문자열\n",
    "s = \"Hello\"\n",
    "print(operator.getitem(s,2))"
   ]
  },
  {
   "cell_type": "code",
   "execution_count": 16,
   "metadata": {
    "collapsed": false
   },
   "outputs": [
    {
     "name": "stdout",
     "output_type": "stream",
     "text": [
      "[1, 2, 3]\n",
      "Hel\n"
     ]
    }
   ],
   "source": [
    "# 리스트\n",
    "l = [1,2,3,4]\n",
    "print(operator.getitem(l,slice(0,3)))\n",
    "\n",
    "# 문자열\n",
    "s = \"Hello\"\n",
    "print(operator.getitem(s,slice(0,3)))"
   ]
  },
  {
   "cell_type": "markdown",
   "metadata": {},
   "source": [
    "#### operator 모듈의 setitem을 이용해서 처리\n",
    "\n",
    "    슬라이스는 오는 값이 작은 경우는 해당 값만 처리\n",
    "    \n",
    "    기존 리스트 값보다 큰 슬라이스를 지정시 기존 리스트 내용을 갱신 및 추가함\n",
    "    "
   ]
  },
  {
   "cell_type": "code",
   "execution_count": 18,
   "metadata": {
    "collapsed": false
   },
   "outputs": [
    {
     "name": "stdout",
     "output_type": "stream",
     "text": [
      "None\n",
      "[99, 99, 4]\n"
     ]
    }
   ],
   "source": [
    "# 리스트\n",
    "l = [1,2,3,4]\n",
    "print(operator.setitem(l,slice(0,3),[99,99]))\n",
    "print(l)"
   ]
  },
  {
   "cell_type": "code",
   "execution_count": 20,
   "metadata": {
    "collapsed": false
   },
   "outputs": [
    {
     "name": "stdout",
     "output_type": "stream",
     "text": [
      "None\n",
      "[99, 99, 99, 99, 99, 99]\n"
     ]
    }
   ],
   "source": [
    "# 리스트\n",
    "l = [1,2,3,4]\n",
    "print(operator.setitem(l,slice(0,6),[99,99,99,99,99,99]))\n",
    "print(l)"
   ]
  },
  {
   "cell_type": "code",
   "execution_count": null,
   "metadata": {
    "collapsed": true
   },
   "outputs": [],
   "source": []
  }
 ],
 "metadata": {
  "anaconda-cloud": {},
  "kernelspec": {
   "display_name": "Python [conda root]",
   "language": "python",
   "name": "conda-root-py"
  },
  "language_info": {
   "codemirror_mode": {
    "name": "ipython",
    "version": 3
   },
   "file_extension": ".py",
   "mimetype": "text/x-python",
   "name": "python",
   "nbconvert_exporter": "python",
   "pygments_lexer": "ipython3",
   "version": "3.5.2"
  }
 },
 "nbformat": 4,
 "nbformat_minor": 1
}
