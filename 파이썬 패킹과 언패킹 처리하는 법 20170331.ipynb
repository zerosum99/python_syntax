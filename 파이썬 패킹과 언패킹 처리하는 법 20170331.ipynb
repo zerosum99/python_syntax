{
 "cells": [
  {
   "cell_type": "markdown",
   "metadata": {},
   "source": [
    "# packing과 unpacking 처리\n",
    "\n",
    "    Sequence 나 Mapping 타입을 처리하기 위해 분리할 것인지 합쳐 처리할 것인지를 정하는 법\n",
    "    "
   ]
  },
  {
   "cell_type": "markdown",
   "metadata": {},
   "source": [
    "### 파이썬 변수 할당 방식 \n",
    "\n",
    "    파이썬은 변수명 = 객체로 할당되므로 복합할당, 함수파라미터/함수인자 등도 key와 value 기준으로 정리해야 한다.\n",
    "    \n",
    "    함수 파라미터는 함수 내의 로컬 변수이므로 파이썬은 함수가 호출이 되면 로컬 변수에 할당을 처리함\n",
    "    "
   ]
  },
  {
   "cell_type": "markdown",
   "metadata": {},
   "source": [
    "## 왜 파이썬에서 이 기능이 작동할까?\n",
    "\n",
    "   파이썬의 namespace 관리하는 것은 dict 타입으로 만들어진 __dict__ \n",
    "    \n",
    "    이 내부의 데이터 관리는 key=value로 처리된다.\n",
    "    \n",
    "    "
   ]
  },
  {
   "cell_type": "code",
   "execution_count": 25,
   "metadata": {
    "collapsed": false
   },
   "outputs": [
    {
     "name": "stdout",
     "output_type": "stream",
     "text": [
      "H e ['l', 'l', 'o']\n"
     ]
    }
   ],
   "source": [
    "### 문자열 unpacking\n",
    "\n",
    "sa, sb, *sc = \"Hello\"\n",
    "\n",
    "print(sa,sb,sc)"
   ]
  },
  {
   "cell_type": "code",
   "execution_count": 26,
   "metadata": {
    "collapsed": false
   },
   "outputs": [
    {
     "name": "stdout",
     "output_type": "stream",
     "text": [
      "H\n",
      "e\n",
      "['l', 'l', 'o']\n"
     ]
    }
   ],
   "source": [
    "print(globals()['sa'])\n",
    "print(globals()['sb'])\n",
    "print(globals()['sc'])"
   ]
  },
  {
   "cell_type": "markdown",
   "metadata": {},
   "source": [
    "### 변수 할당에서 처리\n",
    "\n",
    "    다중 할당 처리를 위해서는 unpacking 을 사용"
   ]
  },
  {
   "cell_type": "code",
   "execution_count": 27,
   "metadata": {
    "collapsed": false
   },
   "outputs": [
    {
     "name": "stdout",
     "output_type": "stream",
     "text": [
      "1 2 [3, 4]\n"
     ]
    }
   ],
   "source": [
    "### 리스트 unpacking\n",
    "\n",
    "a, b, *c = [1,2,3,4]\n",
    "\n",
    "print(a,b,c)"
   ]
  },
  {
   "cell_type": "code",
   "execution_count": 28,
   "metadata": {
    "collapsed": false
   },
   "outputs": [
    {
     "name": "stdout",
     "output_type": "stream",
     "text": [
      "1 2 [3, 4]\n"
     ]
    }
   ],
   "source": [
    "### 튜플 unpacking\n",
    "\n",
    "a, b, *c = (1,2,3,4)\n",
    "\n",
    "print(a,b,c)"
   ]
  },
  {
   "cell_type": "code",
   "execution_count": 29,
   "metadata": {
    "collapsed": false
   },
   "outputs": [
    {
     "name": "stdout",
     "output_type": "stream",
     "text": [
      "1 2 [3, 4]\n"
     ]
    }
   ],
   "source": [
    "### set unpacking\n",
    "\n",
    "a, b, *c = {1,2,3,4}\n",
    "\n",
    "print(a,b,c)"
   ]
  },
  {
   "cell_type": "code",
   "execution_count": 32,
   "metadata": {
    "collapsed": false
   },
   "outputs": [
    {
     "name": "stdout",
     "output_type": "stream",
     "text": [
      "b c ['d', 'a']\n"
     ]
    }
   ],
   "source": [
    "### dict unpacking : key 값만 unpacking 됨\n",
    "\n",
    "a, b, *c = {'a':1,'b':2,'c':3,'d':4}\n",
    "\n",
    "print(a,b,c)\n"
   ]
  },
  {
   "cell_type": "markdown",
   "metadata": {},
   "source": [
    "## 함수 파라미터 일 경우 "
   ]
  },
  {
   "cell_type": "markdown",
   "metadata": {},
   "source": [
    "### 함수 파라미터에 packing 처리\n",
    "\n",
    "     함수의 파라미터는 local 변수로 관리하고 이 내부의 key=value를 처리하는 방식이므로\n",
    "     \n",
    "     *, **로 정의된 변수는 값이 튜플이나 dict 타입으로 보관하도록 설계\n",
    "     "
   ]
  },
  {
   "cell_type": "code",
   "execution_count": 35,
   "metadata": {
    "collapsed": false
   },
   "outputs": [
    {
     "name": "stdout",
     "output_type": "stream",
     "text": [
      "{'args': (1, 2, 3, 4, 5), 'kwargs': {}}\n",
      "(1, 2, 3, 4, 5)\n",
      "{}\n"
     ]
    }
   ],
   "source": [
    "### 함수 파라미터는 packing 처리\n",
    "\n",
    "def packing(*args, **kwargs) :\n",
    "    print(locals())\n",
    "    print(locals()['args'])\n",
    "    print(locals()['kwargs'])\n",
    "    \n",
    "packing(1,2,3,4,5)\n",
    "\n"
   ]
  },
  {
   "cell_type": "markdown",
   "metadata": {},
   "source": [
    "### 함수의 파라미터를 키워드 인자로만 처리\n",
    "\n",
    "    변수명 없이 * 를 사용하면 위치인자는 종료되고 이후에 오는 것은 키워드 인자로만 표시해야 함\n",
    "    \n",
    "    * 이후에 **kwargs는 아직 문법적으로 처리가 불가함"
   ]
  },
  {
   "cell_type": "code",
   "execution_count": 14,
   "metadata": {
    "collapsed": false
   },
   "outputs": [
    {
     "name": "stdout",
     "output_type": "stream",
     "text": [
      "{'b': 3, 'd': 5, 'c': 4, 'a': 2, 'x': 1}\n"
     ]
    }
   ],
   "source": [
    "### 함수 파라미터는 packing 처리\n",
    "\n",
    "def packing(x, *, a,b,c,d) :\n",
    "    print(locals())\n",
    "    \n",
    "packing(1,a=2,b=3,c=4,d=5)"
   ]
  },
  {
   "cell_type": "markdown",
   "metadata": {},
   "source": [
    "## 함수 인자에서 unpacking 처리 "
   ]
  },
  {
   "cell_type": "markdown",
   "metadata": {},
   "source": [
    "### 리스트, 튜플을 하나의 객체로 전달"
   ]
  },
  {
   "cell_type": "code",
   "execution_count": 16,
   "metadata": {
    "collapsed": false
   },
   "outputs": [
    {
     "name": "stdout",
     "output_type": "stream",
     "text": [
      "{'args': ([1, 2, 4, 5],), 'kwargs': {}}\n"
     ]
    }
   ],
   "source": [
    "def packing(*args, **kwargs) :\n",
    "    print(locals())\n",
    "\n",
    "l = [1,2,4,5]\n",
    "packing(l)"
   ]
  },
  {
   "cell_type": "markdown",
   "metadata": {},
   "source": [
    "### 리스트나 튜플 내의 원소로 전달할 경우 unpacking"
   ]
  },
  {
   "cell_type": "code",
   "execution_count": 17,
   "metadata": {
    "collapsed": false
   },
   "outputs": [
    {
     "name": "stdout",
     "output_type": "stream",
     "text": [
      "{'args': (1, 2, 4, 5), 'kwargs': {}}\n"
     ]
    }
   ],
   "source": [
    "def packing(*args, **kwargs) :\n",
    "    print(locals())\n",
    "\n",
    "l = [1,2,4,5]\n",
    "packing(*l)"
   ]
  },
  {
   "cell_type": "markdown",
   "metadata": {},
   "source": [
    "### dict type 내의 원소를 전달하기 위해 unpacking 하기\n"
   ]
  },
  {
   "cell_type": "code",
   "execution_count": 21,
   "metadata": {
    "collapsed": false
   },
   "outputs": [
    {
     "name": "stdout",
     "output_type": "stream",
     "text": [
      "{'args': (1, 2, 4, 5), 'kwargs': {}}\n",
      "{'args': (1, 2, 4, 5), 'kwargs': {'b': 2, 'a': 1}}\n",
      "{'args': (1, 2, 3, 5), 'kwargs': {'b': 2, 'a': 1}}\n"
     ]
    }
   ],
   "source": [
    "def packing(*args, **kwargs) :\n",
    "    print(locals())\n",
    "\n",
    "l = [1,2,4,5]\n",
    "d = {'a':1, 'b':2}\n",
    "packing(*l)\n",
    "packing(*l, **d)\n",
    "\n",
    "packing(1,2,3,5, a=1,b=2)"
   ]
  },
  {
   "cell_type": "code",
   "execution_count": null,
   "metadata": {
    "collapsed": true
   },
   "outputs": [],
   "source": []
  }
 ],
 "metadata": {
  "kernelspec": {
   "display_name": "Python [conda root]",
   "language": "python",
   "name": "conda-root-py"
  },
  "language_info": {
   "codemirror_mode": {
    "name": "ipython",
    "version": 3
   },
   "file_extension": ".py",
   "mimetype": "text/x-python",
   "name": "python",
   "nbconvert_exporter": "python",
   "pygments_lexer": "ipython3",
   "version": "3.5.2"
  }
 },
 "nbformat": 4,
 "nbformat_minor": 1
}
