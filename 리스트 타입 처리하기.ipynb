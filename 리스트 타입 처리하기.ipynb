{
 "cells": [
  {
   "cell_type": "markdown",
   "metadata": {},
   "source": [
    "## 리스트 처리 \n"
   ]
  },
  {
   "cell_type": "code",
   "execution_count": 3,
   "metadata": {
    "collapsed": false
   },
   "outputs": [
    {
     "name": "stdout",
     "output_type": "stream",
     "text": [
      "[1, 2, 3]\n"
     ]
    }
   ],
   "source": [
    "l = [1,2,3]\n",
    "print(l)"
   ]
  },
  {
   "cell_type": "code",
   "execution_count": 2,
   "metadata": {
    "collapsed": false
   },
   "outputs": [
    {
     "name": "stdout",
     "output_type": "stream",
     "text": [
      "<class 'list'>\n"
     ]
    }
   ],
   "source": [
    "print(type(l))"
   ]
  },
  {
   "cell_type": "code",
   "execution_count": 4,
   "metadata": {
    "collapsed": false
   },
   "outputs": [
    {
     "name": "stdout",
     "output_type": "stream",
     "text": [
      "[1, 2, 3]\n",
      "[1, 2, 3, 4]\n"
     ]
    }
   ],
   "source": [
    "l = [1,2,3]\n",
    "print(l)\n",
    "\n",
    "l.append(4)\n",
    "print(l)"
   ]
  },
  {
   "cell_type": "code",
   "execution_count": 6,
   "metadata": {
    "collapsed": false
   },
   "outputs": [
    {
     "name": "stdout",
     "output_type": "stream",
     "text": [
      "[1, 2, 3]\n",
      "3\n",
      "[1, 2]\n"
     ]
    }
   ],
   "source": [
    "l = [1,2,3]\n",
    "print(l)\n",
    "\n",
    "a = l.pop()\n",
    "print(a)\n",
    "print(l)"
   ]
  },
  {
   "cell_type": "code",
   "execution_count": 23,
   "metadata": {
    "collapsed": false
   },
   "outputs": [
    {
     "name": "stdout",
     "output_type": "stream",
     "text": [
      "[1, 2, 3, 4, 5, 6, 7, 8, 9, 10]\n"
     ]
    }
   ],
   "source": [
    "l = [] \n",
    "n = 11\n",
    "for i in range(1,n+1) :\n",
    "    if i == 1 :\n",
    "        l.append(i)\n",
    "        continue\n",
    "        \n",
    "    if i == 2 :\n",
    "        l.append(i)\n",
    "        continue\n",
    "        \n",
    "    if ((n % i) == 0 & (i % 2) == 0 ):\n",
    "        \n",
    "        continue\n",
    "    else :\n",
    "        pass\n",
    "        \n",
    "    l.append(i)\n",
    "\n",
    "print(l)"
   ]
  },
  {
   "cell_type": "code",
   "execution_count": 27,
   "metadata": {
    "collapsed": false
   },
   "outputs": [
    {
     "name": "stdout",
     "output_type": "stream",
     "text": [
      " 수를 입력하세요 : 12\n",
      "12 is not a prime number\n",
      "2 times 6 is 12\n"
     ]
    }
   ],
   "source": [
    "num = int(input(\" 수를 입력하세요 : \"))\n",
    "\n",
    "# prime numbers are greater than 1\n",
    "if num > 1:\n",
    "    #약수 구하기\n",
    "    for i in range(2,num):\n",
    "        if (num % i) == 0:\n",
    "            print(num,\"is not a prime number\")\n",
    "            print(i,\"times\",num//i,\"is\",num)\n",
    "            break\n",
    "   \n",
    "    else:\n",
    "        print(num,\"is a prime number\")\n",
    "       \n",
    "# if input number is less than\n",
    "# or equal to 1, it is not prime\n",
    "else:\n",
    "    print(num,\"is not a prime number\")"
   ]
  },
  {
   "cell_type": "code",
   "execution_count": 29,
   "metadata": {
    "collapsed": false
   },
   "outputs": [
    {
     "name": "stdout",
     "output_type": "stream",
     "text": [
      " 수를 입력하세요 : 11\n",
      "[1, 2, 3, 5, 7, 11]\n"
     ]
    }
   ],
   "source": [
    "num = int(input(\" 수를 입력하세요 : \"))\n",
    "\n",
    "l = []\n",
    "\n",
    "for num in range(1,num+1):\n",
    "    prime = True\n",
    "    for i in range(2,num):\n",
    "        if (num%i==0):\n",
    "            prime = False\n",
    "    if prime:\n",
    "        l.append(num)\n",
    "        \n",
    "print(l)"
   ]
  },
  {
   "cell_type": "code",
   "execution_count": 33,
   "metadata": {
    "collapsed": false
   },
   "outputs": [],
   "source": [
    "num = 11\n",
    "for i in range(2,num):\n",
    "    if (num % i==0) :\n",
    "        print(i)\n",
    "\n",
    "        "
   ]
  },
  {
   "cell_type": "code",
   "execution_count": 36,
   "metadata": {
    "collapsed": false
   },
   "outputs": [
    {
     "name": "stdout",
     "output_type": "stream",
     "text": [
      " 리스트 원소 갯수 4\n",
      "1\n",
      "2\n",
      "3\n",
      "4\n"
     ]
    }
   ],
   "source": [
    "l = [1,2,3,4]\n",
    "\n",
    "print(\" 리스트 원소 갯수\",len(l))\n",
    "\n",
    "for i in range(len(l)) :\n",
    "    print(l[i])"
   ]
  },
  {
   "cell_type": "code",
   "execution_count": 37,
   "metadata": {
    "collapsed": false
   },
   "outputs": [
    {
     "name": "stdout",
     "output_type": "stream",
     "text": [
      " 리스트 원소 갯수 4\n",
      "[3, 4]\n"
     ]
    }
   ],
   "source": [
    "l = [1,2,3,4]\n",
    "\n",
    "print(\" 리스트 원소 갯수\",len(l))\n",
    "\n",
    "\n",
    "print(l[2:4])"
   ]
  },
  {
   "cell_type": "code",
   "execution_count": 39,
   "metadata": {
    "collapsed": false
   },
   "outputs": [
    {
     "name": "stdout",
     "output_type": "stream",
     "text": [
      "l index :  0 value : 1\n",
      "l index :  1 value : 2\n",
      "l index :  2 value : 3\n",
      "l index :  3 value : 4\n"
     ]
    }
   ],
   "source": [
    "l = [1,2,3,4]\n",
    "\n",
    "for index, value in enumerate(l) :\n",
    "    print(\"l index : \", index, \"value :\", value)"
   ]
  },
  {
   "cell_type": "code",
   "execution_count": 45,
   "metadata": {
    "collapsed": false
   },
   "outputs": [
    {
     "name": "stdout",
     "output_type": "stream",
     "text": [
      "문자열 1\n",
      "문자열 2\n"
     ]
    }
   ],
   "source": [
    "double_quote = \"문자열 1\"\n",
    "single_quote = '문자열 2'\n",
    "\n",
    "print(double_quote)\n",
    "print(single_quote)"
   ]
  },
  {
   "cell_type": "code",
   "execution_count": 46,
   "metadata": {
    "collapsed": false
   },
   "outputs": [
    {
     "name": "stdout",
     "output_type": "stream",
     "text": [
      "string 6\n",
      "문자열 3\n"
     ]
    }
   ],
   "source": [
    "english = \"string\"\n",
    "korean = '문자열'\n",
    "\n",
    "print(english, len(english))\n",
    "print(korean, len(korean))"
   ]
  },
  {
   "cell_type": "code",
   "execution_count": 49,
   "metadata": {
    "collapsed": false
   },
   "outputs": [
    {
     "name": "stdout",
     "output_type": "stream",
     "text": [
      "문자열 처리하기\n",
      "문자열 대체하기\n"
     ]
    }
   ],
   "source": [
    "name = '문자열 처리하기'\n",
    "print(name)\n",
    "print(name.replace(\"처리\", \"대체\"))\n"
   ]
  },
  {
   "cell_type": "code",
   "execution_count": 52,
   "metadata": {
    "collapsed": false
   },
   "outputs": [
    {
     "name": "stdout",
     "output_type": "stream",
     "text": [
      "죽는 날까지 하늘을 우르러\n",
      "한점 부끄럼이 없기를,\n",
      "잎새에 이는 바람에도\n",
      "나는 괴로워했다.\n",
      "달을 노래하는 마음으로\n",
      "모든 죽어가는것들을 사랑해야지\n",
      "그리고 나한테 주어진 길을\n",
      "걸어가야겠다.\n",
      "\n",
      "오늘밤에도 달이 바람에 스치운다.\n"
     ]
    }
   ],
   "source": [
    "서시 = \"\"\"죽는 날까지 하늘을 우르러\n",
    "한점 부끄럼이 없기를,\n",
    "잎새에 이는 바람에도\n",
    "나는 괴로워했다.\n",
    "별을 노래하는 마음으로\n",
    "모든 죽어가는것들을 사랑해야지\n",
    "그리고 나한테 주어진 길을\n",
    "걸어가야겠다.\n",
    "\n",
    "오늘밤에도 별이 바람에 스치운다.\"\"\"\n",
    "\n",
    "print(서시.replace(\"별\", \"달\"))\n"
   ]
  },
  {
   "cell_type": "code",
   "execution_count": 56,
   "metadata": {
    "collapsed": false
   },
   "outputs": [
    {
     "name": "stdout",
     "output_type": "stream",
     "text": [
      "a\n",
      "cd\n",
      "9\n"
     ]
    }
   ],
   "source": [
    "name=\"macdonald\"\n",
    "\n",
    "print(name[1])\n",
    "print(name[2:4])\n",
    "print(len(name))\n"
   ]
  },
  {
   "cell_type": "code",
   "execution_count": 55,
   "metadata": {
    "collapsed": false
   },
   "outputs": [
    {
     "name": "stdout",
     "output_type": "stream",
     "text": [
      "2\n",
      "2\n"
     ]
    }
   ],
   "source": [
    "name=\"macdonald\"\n",
    "print(name.count(\"a\"))\n",
    "\n",
    "count = 0 \n",
    "for i in name :\n",
    "    if i == \"a\" :\n",
    "        count += 1\n",
    "print(count)"
   ]
  },
  {
   "cell_type": "code",
   "execution_count": 59,
   "metadata": {
    "collapsed": false
   },
   "outputs": [
    {
     "name": "stdout",
     "output_type": "stream",
     "text": [
      "I fly\n",
      "I am happy\n",
      "I love programing\n"
     ]
    }
   ],
   "source": [
    "sv1 = \"I fly\"\n",
    "sv2 = \"I am happy\"\n",
    "sv3 = \"I love programing\"\n",
    "\n",
    "l = [sv1,sv2,sv3]\n",
    "\n",
    "for i in l :\n",
    "    print(\" \".join(i.split(\" \")))\n"
   ]
  },
  {
   "cell_type": "code",
   "execution_count": null,
   "metadata": {
    "collapsed": true
   },
   "outputs": [],
   "source": []
  },
  {
   "cell_type": "code",
   "execution_count": 62,
   "metadata": {
    "collapsed": false
   },
   "outputs": [
    {
     "name": "stdout",
     "output_type": "stream",
     "text": [
      " title : Python    , page : 300, Author : iljung     \n",
      " title : Python    , page : 300, Author :     iljung \n"
     ]
    }
   ],
   "source": [
    "title  = \"Python\"\n",
    "author = \"iljung\"\n",
    "page   = 300\n",
    "\n",
    "print(f\" title : { (title):10s}, page : {(page):3d}, Author : { (author):10s} \" )\n",
    "\n",
    "print(f\" title : { (title) :10s}, page : {(page):3d}, Author : {(author):>10s} \" )"
   ]
  },
  {
   "cell_type": "code",
   "execution_count": 64,
   "metadata": {
    "collapsed": false
   },
   "outputs": [
    {
     "name": "stdout",
     "output_type": "stream",
     "text": [
      "55\n",
      "55\n"
     ]
    }
   ],
   "source": [
    "total = 0\n",
    "for i in range(1,11) :\n",
    "    total = total +i\n",
    "print(total)\n",
    "\n",
    "print(sum(range(1,11)))"
   ]
  },
  {
   "cell_type": "code",
   "execution_count": 65,
   "metadata": {
    "collapsed": false
   },
   "outputs": [
    {
     "name": "stdout",
     "output_type": "stream",
     "text": [
      "55\n",
      "5050\n"
     ]
    }
   ],
   "source": [
    "def total(x) : \n",
    "    total = 0\n",
    "    for i in range(1,x+1) :\n",
    "        total += i\n",
    "        \n",
    "    return total\n",
    "\n",
    "print(total(10))\n",
    "print(total(100))\n",
    "        "
   ]
  },
  {
   "cell_type": "code",
   "execution_count": 71,
   "metadata": {
    "collapsed": false
   },
   "outputs": [
    {
     "name": "stdout",
     "output_type": "stream",
     "text": [
      "5.5\n",
      "5.5\n"
     ]
    }
   ],
   "source": [
    "def total_func(x) : \n",
    "    total = 0\n",
    "    count = 0\n",
    "    for i in range(1,x+1) :\n",
    "        total += i\n",
    "        count += 1\n",
    "        \n",
    "    return total,count\n",
    "\n",
    "def mean(x) :\n",
    "    ntotal = 0 \n",
    "    ncount = 0\n",
    "    ntotal, ncount = total_func(x)\n",
    "    return ntotal/ncount\n",
    "\n",
    "print(mean(10))\n",
    "print(sum(range(1,11))/10)"
   ]
  },
  {
   "cell_type": "code",
   "execution_count": 75,
   "metadata": {
    "collapsed": false
   },
   "outputs": [
    {
     "name": "stdout",
     "output_type": "stream",
     "text": [
      "25\n",
      "78.5\n",
      "12.5\n"
     ]
    }
   ],
   "source": [
    "\n",
    "def area(x,y=None) :\n",
    "    if y == None :\n",
    "        y = x\n",
    "    return x*y\n",
    "\n",
    "def circle(x) :\n",
    "    return 3.14 * area(x)\n",
    "\n",
    "def triangle(x,y) :\n",
    "    return area(x,y)/2\n",
    "\n",
    "print(area(5))\n",
    "\n",
    "print(circle(5))\n",
    "\n",
    "print(triangle(5,5))"
   ]
  },
  {
   "cell_type": "code",
   "execution_count": 80,
   "metadata": {
    "collapsed": false
   },
   "outputs": [
    {
     "name": "stdout",
     "output_type": "stream",
     "text": [
      "{'a': 'alpha', 'o': 'omega', 'g': 'gamma'}\n",
      "dict_keys(['a', 'o', 'g'])\n",
      "dict_values(['alpha', 'omega', 'gamma'])\n",
      "dict_items([('a', 'alpha'), ('o', 'omega'), ('g', 'gamma')])\n"
     ]
    }
   ],
   "source": [
    "d = {'a' : 'alpha', 'o': 'omega', 'g': 'gamma'} \n",
    "\n",
    "print(d)\n",
    "print(d.keys())\n",
    "print(d.values())\n",
    "print(d.items())"
   ]
  },
  {
   "cell_type": "code",
   "execution_count": 93,
   "metadata": {
    "collapsed": false
   },
   "outputs": [
    {
     "name": "stdout",
     "output_type": "stream",
     "text": [
      "a\n",
      "o\n",
      "g\n"
     ]
    }
   ],
   "source": [
    "d = {'a' : 'alpha', 'o': 'omega', 'g': 'gamma'} \n",
    "\n",
    "for k in d :\n",
    "    print(k)"
   ]
  },
  {
   "cell_type": "code",
   "execution_count": 91,
   "metadata": {
    "collapsed": false
   },
   "outputs": [
    {
     "name": "stdout",
     "output_type": "stream",
     "text": [
      "a alpha\n",
      "o omega\n",
      "g gamma\n"
     ]
    }
   ],
   "source": [
    "d = {'a' : 'alpha', 'o': 'omega', 'g': 'gamma'} \n",
    "\n",
    "for k,v in d.items() :\n",
    "    print(k,v)"
   ]
  },
  {
   "cell_type": "code",
   "execution_count": 94,
   "metadata": {
    "collapsed": false
   },
   "outputs": [
    {
     "name": "stdout",
     "output_type": "stream",
     "text": [
      "{1: 5, 2: 8, 3: 11, 4: 14, 5: 17}\n"
     ]
    }
   ],
   "source": [
    "domain = [1,2,3,4,5]\n",
    "\n",
    "def codomain(x,a,b) :\n",
    "    y = []\n",
    "    for i in x :\n",
    "        y.append(a*i+b)\n",
    "    return y\n",
    "\n",
    "cod = codomain(domain,3,2)\n",
    "\n",
    "f_x = {}\n",
    "\n",
    "for k,y in zip(domain,cod) :\n",
    "    f_x[k] = y\n",
    "    \n",
    "print(f_x)\n",
    "    "
   ]
  },
  {
   "cell_type": "code",
   "execution_count": 95,
   "metadata": {
    "collapsed": false
   },
   "outputs": [
    {
     "name": "stdout",
     "output_type": "stream",
     "text": [
      "{}\n",
      "set()\n"
     ]
    }
   ],
   "source": [
    "d = {}\n",
    "s = set()\n",
    "\n",
    "print(d)\n",
    "print(s)"
   ]
  },
  {
   "cell_type": "code",
   "execution_count": 96,
   "metadata": {
    "collapsed": false
   },
   "outputs": [
    {
     "name": "stdout",
     "output_type": "stream",
     "text": [
      "{1: 1, 2: 2, 3: 3}\n",
      "{1: 1, 2: 2, 3: 3}\n",
      " same element \n"
     ]
    }
   ],
   "source": [
    "ds = {1:1,2:2,3:3}\n",
    "dc = {x:x for x in range(1,4)}\n",
    "\n",
    "print(ds)\n",
    "print(dc)\n",
    "\n",
    "if ds == dc :\n",
    "    print(\" same element \")"
   ]
  },
  {
   "cell_type": "code",
   "execution_count": 97,
   "metadata": {
    "collapsed": false
   },
   "outputs": [
    {
     "name": "stdout",
     "output_type": "stream",
     "text": [
      "[1, 2, 3, 4, 5]\n",
      "[1, 2, 3, 4, 5]\n",
      " same element \n"
     ]
    }
   ],
   "source": [
    "ls = [1,2,3,4,5]\n",
    "lc = [x for x in range(1,6)]\n",
    "\n",
    "print(ls)\n",
    "print(lc)\n",
    "\n",
    "if ls == lc :\n",
    "    print(\" same element \")"
   ]
  },
  {
   "cell_type": "code",
   "execution_count": 99,
   "metadata": {
    "collapsed": false
   },
   "outputs": [
    {
     "name": "stdout",
     "output_type": "stream",
     "text": [
      "[[1, 2, 3, 4, 5], [1, 2, 3, 4, 5], [1, 2, 3, 4, 5]]\n"
     ]
    }
   ],
   "source": [
    "lc = [[x for x in range(1,6)] for _ in range(3)]\n",
    "print(lc)"
   ]
  },
  {
   "cell_type": "code",
   "execution_count": 100,
   "metadata": {
    "collapsed": false
   },
   "outputs": [
    {
     "name": "stdout",
     "output_type": "stream",
     "text": [
      "{1, 2, 3, 4}\n",
      "{1, 2, 3, 4}\n",
      " same element \n"
     ]
    }
   ],
   "source": [
    "ss = {1,2,3,4}\n",
    "sc = {x for x in range(1,5)}\n",
    "\n",
    "print(ss)\n",
    "print(sc)\n",
    "\n",
    "if ss == sc :\n",
    "    print(\" same element \")"
   ]
  },
  {
   "cell_type": "code",
   "execution_count": 90,
   "metadata": {
    "collapsed": false
   },
   "outputs": [
    {
     "name": "stdout",
     "output_type": "stream",
     "text": [
      "사각형 면적 :  25\n",
      "삼각형 면적 :  12.5\n",
      "원의  면적 :  78.5\n"
     ]
    }
   ],
   "source": [
    "def area(x,y=None) :\n",
    "    if y == None :\n",
    "        y = x\n",
    "    return x*y\n",
    "\n",
    "def circle(x) :\n",
    "    return 3.14 * area(x)\n",
    "\n",
    "def triangle(x,y=None) :\n",
    "    if y == None :\n",
    "        y = x\n",
    "    return area(x,y)/2\n",
    "\n",
    "\n",
    "d = {'area' : area, 'circle':circle, 'triangle' : triangle}\n",
    "\n",
    "print(\"사각형 면적 : \", d['area'](5,5))\n",
    "print(\"삼각형 면적 : \", d['triangle'](5))\n",
    "print(\"원의  면적 : \", d['circle'](5))"
   ]
  },
  {
   "cell_type": "code",
   "execution_count": 87,
   "metadata": {
    "collapsed": true
   },
   "outputs": [],
   "source": [
    "del globals()['triangle']"
   ]
  },
  {
   "cell_type": "code",
   "execution_count": 101,
   "metadata": {
    "collapsed": false
   },
   "outputs": [
    {
     "name": "stdout",
     "output_type": "stream",
     "text": [
      "변환할 문장을 입력하세요. 알파벳 대문자만 가능합니다.A\n",
      "입력하신 문장의 모스부호는\n",
      "・－\n",
      "입니다.\n"
     ]
    }
   ],
   "source": [
    "morse = {\"A\":\"・－\", \"B\":\"－・・・\", \"C\":\"－・－・\", \n",
    "         \"D\":\"－・・\", \"E\":\"・\", \"F\":\"・・－・\", \n",
    "         \"G\":\"－－・\", \"H\":\"・・・・\",\"I\":\"・・\", \n",
    "         \"J\":\"・－－－\", \"K\":\"－・－\",\"L\":\"・－・・\",\n",
    "         \"M\":\"－－\",\"N\":\"－・\",\"O\":\"－－－\",\"P\":\"・－－・\",\n",
    "         \"Q\":\"－－・－\",\"R\":\"・－・\",\"S\":\"・・・\",\"T\":\"－\",\n",
    "         \"U\":\"・・－\",\"V\":\"・・・－\",\"W\":\"・－－\",\n",
    "         \"X\":\"－・・－\",\"Y\":\"－・－－\",\"Z\":\"－－・・\",\" \":\"\"}\n",
    "\n",
    "#빈칸 “ ”으로 설정\n",
    "letter = input(\"변환할 문장을 입력하세요. 알파벳 대문자만 가능합니다.\")\n",
    "print(\"입력하신 문장의 모스부호는\")\n",
    "for i in range(len(letter)):\n",
    "    print(morse[letter[i]])\n",
    "print(\"입니다.\")\n"
   ]
  },
  {
   "cell_type": "code",
   "execution_count": 103,
   "metadata": {
    "collapsed": false
   },
   "outputs": [
    {
     "name": "stdout",
     "output_type": "stream",
     "text": [
      "(200, 100)\n",
      "200\n",
      "100\n"
     ]
    }
   ],
   "source": [
    "x = 100\n",
    "y = 200\n",
    "\n",
    "z = y,x\n",
    "print(z)\n",
    "\n",
    "x,y = y,x\n",
    "\n",
    "print(x)\n",
    "print(y)"
   ]
  },
  {
   "cell_type": "code",
   "execution_count": 108,
   "metadata": {
    "collapsed": false
   },
   "outputs": [
    {
     "name": "stdout",
     "output_type": "stream",
     "text": [
      "0b10\n",
      "2\n",
      "0b100\n",
      "4\n"
     ]
    }
   ],
   "source": [
    "i = 1\n",
    "\n",
    "im = i << 1\n",
    "\n",
    "print(bin(im))\n",
    "print(im)\n",
    "\n",
    "im = i << 2\n",
    "\n",
    "print(bin(im))\n",
    "print(im)"
   ]
  },
  {
   "cell_type": "code",
   "execution_count": 109,
   "metadata": {
    "collapsed": false
   },
   "outputs": [
    {
     "name": "stdout",
     "output_type": "stream",
     "text": [
      "0b100\n",
      "4\n",
      "0b10\n",
      "2\n"
     ]
    }
   ],
   "source": [
    "i = 8\n",
    "\n",
    "im = i >> 1\n",
    "\n",
    "print(bin(im))\n",
    "print(im)\n",
    "\n",
    "im = i >> 2\n",
    "\n",
    "print(bin(im))\n",
    "print(im)"
   ]
  },
  {
   "cell_type": "code",
   "execution_count": 111,
   "metadata": {
    "collapsed": false
   },
   "outputs": [
    {
     "name": "stdout",
     "output_type": "stream",
     "text": [
      "{'a': 1} 9999\n",
      "a [1, 2, 3]\n"
     ]
    }
   ],
   "source": [
    "def func(parameter1, parameter2) :\n",
    "    print(parameter1,parameter2)\n",
    "    \n",
    "\n",
    "func({\"a\":1}, 9999)\n",
    "func(\"a\",[1,2,3])"
   ]
  },
  {
   "cell_type": "code",
   "execution_count": 119,
   "metadata": {
    "collapsed": false
   },
   "outputs": [
    {
     "name": "stdout",
     "output_type": "stream",
     "text": [
      "44032 0xac00 가\n",
      "51012 0xc744 을\n"
     ]
    }
   ],
   "source": [
    "s = \"가을\"\n",
    "\n",
    "for i in s :\n",
    "    print(ord(i),end=\" \")\n",
    "    print(hex(int(ord(i))),end=\" \")\n",
    "    print(chr(ord(i)))\n",
    "    "
   ]
  },
  {
   "cell_type": "code",
   "execution_count": 120,
   "metadata": {
    "collapsed": false
   },
   "outputs": [
    {
     "name": "stdout",
     "output_type": "stream",
     "text": [
      "5.0\n"
     ]
    }
   ],
   "source": [
    "import math\n",
    "\n",
    "c = math.sqrt(math.pow(3,2)+ math.pow(4,2))\n",
    "\n",
    "print(c)"
   ]
  },
  {
   "cell_type": "code",
   "execution_count": 121,
   "metadata": {
    "collapsed": false
   },
   "outputs": [
    {
     "name": "stdout",
     "output_type": "stream",
     "text": [
      "5.0\n"
     ]
    }
   ],
   "source": [
    "c = (3**2 + 4**2)**(1/2)\n",
    "print(c)"
   ]
  },
  {
   "cell_type": "code",
   "execution_count": 124,
   "metadata": {
    "collapsed": false
   },
   "outputs": [
    {
     "name": "stdout",
     "output_type": "stream",
     "text": [
      "5.0\n"
     ]
    }
   ],
   "source": [
    "def power(x) :\n",
    "    if x < 0 :\n",
    "        return 1/2\n",
    "    else :\n",
    "        return x**2\n",
    "\n",
    "def sqrt(x,y) :\n",
    "    return (power(x) + power(y))**power(-1)\n",
    "\n",
    "c = sqrt(3,4)\n",
    "print(c)"
   ]
  },
  {
   "cell_type": "code",
   "execution_count": 129,
   "metadata": {
    "collapsed": false
   },
   "outputs": [
    {
     "name": "stdout",
     "output_type": "stream",
     "text": [
      "[1, 4, 9, 16, 25]\n"
     ]
    }
   ],
   "source": [
    "def power(x) :\n",
    "    if x < 0 :\n",
    "        return 1/2\n",
    "    else :\n",
    "        return x**2\n",
    "\n",
    "l = [1,2,3,4,5]\n",
    "\n",
    "lm = map(power,l)\n",
    "\n",
    "print(list(lm))\n"
   ]
  },
  {
   "cell_type": "code",
   "execution_count": 130,
   "metadata": {
    "collapsed": false
   },
   "outputs": [
    {
     "name": "stdout",
     "output_type": "stream",
     "text": [
      "[1, 4, 9, 16, 25]\n"
     ]
    }
   ],
   "source": [
    "\n",
    "lc = [x**2 for x in range(1,6)]\n",
    "print(lc)"
   ]
  },
  {
   "cell_type": "code",
   "execution_count": 131,
   "metadata": {
    "collapsed": false
   },
   "outputs": [
    {
     "name": "stdout",
     "output_type": "stream",
     "text": [
      "[1, 4, 9, 16, 25]\n"
     ]
    }
   ],
   "source": [
    "def power(x) :\n",
    "    if x < 0 :\n",
    "        return 1/2\n",
    "    else :\n",
    "        return x**2\n",
    "    \n",
    "lc = [power(x) for x in range(1,6)]\n",
    "print(lc)"
   ]
  },
  {
   "cell_type": "code",
   "execution_count": 132,
   "metadata": {
    "collapsed": false
   },
   "outputs": [
    {
     "name": "stdout",
     "output_type": "stream",
     "text": [
      "[0, 1, 2, 3, 4]\n"
     ]
    }
   ],
   "source": [
    "l = []\n",
    "for i in range(5) :\n",
    "    l.append(i)\n",
    "\n",
    "print(l)\n",
    "    "
   ]
  },
  {
   "cell_type": "code",
   "execution_count": 133,
   "metadata": {
    "collapsed": false
   },
   "outputs": [
    {
     "name": "stdout",
     "output_type": "stream",
     "text": [
      "[0, 1, 2, 3, 4]\n"
     ]
    }
   ],
   "source": [
    "lc = [x for x in range(5)]\n",
    "print(lc)"
   ]
  },
  {
   "cell_type": "code",
   "execution_count": 135,
   "metadata": {
    "collapsed": false
   },
   "outputs": [
    {
     "name": "stdout",
     "output_type": "stream",
     "text": [
      "[2, 4, 6, 8, 10]\n",
      "[1, 3, 5, 7, 9]\n"
     ]
    }
   ],
   "source": [
    "even = [x for x in range(1,11) if x % 2 == 0]\n",
    "print(even)\n",
    "\n",
    "odd = [x for x in range(1,11) if x % 2 == 1]\n",
    "print(odd)"
   ]
  },
  {
   "cell_type": "code",
   "execution_count": 146,
   "metadata": {
    "collapsed": false
   },
   "outputs": [
    {
     "name": "stdout",
     "output_type": "stream",
     "text": [
      "[2, 4, 6, 8, 10]\n",
      "[1, 3, 5, 7, 9]\n"
     ]
    }
   ],
   "source": [
    "l = [ 1,2,3,4,5,6,7,8,9,10]\n",
    "\n",
    "def even_f(x) :\n",
    "    if x % 2 == 0 :\n",
    "        return True\n",
    "    else :\n",
    "        return False\n",
    "\n",
    "def odd_f(x) :\n",
    "    if x % 2 == 0 :\n",
    "        return False\n",
    "    else :\n",
    "        return True\n",
    "\n",
    "even = filter(even_f,l)\n",
    "print(list(even))\n",
    "\n",
    "odd = filter(odd_f,l)\n",
    "print(list(odd))"
   ]
  },
  {
   "cell_type": "code",
   "execution_count": null,
   "metadata": {
    "collapsed": true
   },
   "outputs": [],
   "source": []
  }
 ],
 "metadata": {
  "kernelspec": {
   "display_name": "Python 3",
   "language": "python",
   "name": "python3"
  },
  "language_info": {
   "codemirror_mode": {
    "name": "ipython",
    "version": 3
   },
   "file_extension": ".py",
   "mimetype": "text/x-python",
   "name": "python",
   "nbconvert_exporter": "python",
   "pygments_lexer": "ipython3",
   "version": "3.6.0"
  }
 },
 "nbformat": 4,
 "nbformat_minor": 2
}
