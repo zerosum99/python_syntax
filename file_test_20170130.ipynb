{
 "cells": [
  {
   "cell_type": "code",
   "execution_count": 1,
   "metadata": {
    "collapsed": false
   },
   "outputs": [
    {
     "name": "stdout",
     "output_type": "stream",
     "text": [
      "Hello World \n",
      "Dahl Moon \n"
     ]
    }
   ],
   "source": [
    "# Write chunks of text data\n",
    "text1 = \"Hello World \\n\"\n",
    "text2 = \"Dahl Moon \\n\"\n",
    "with open('somefile.txt', 'wt') as f:\n",
    "    f.write(text1)\n",
    "    f.write(text2)\n",
    "\n",
    "with open('somefile.txt', 'rt') as f:\n",
    "    for line in f :\n",
    "        print(line,end=\"\")"
   ]
  },
  {
   "cell_type": "code",
   "execution_count": null,
   "metadata": {
    "collapsed": false
   },
   "outputs": [],
   "source": [
    "help(f.write)"
   ]
  },
  {
   "cell_type": "code",
   "execution_count": 2,
   "metadata": {
    "collapsed": false
   },
   "outputs": [
    {
     "name": "stdout",
     "output_type": "stream",
     "text": [
      "Hello World \n",
      "Dahl Moon \n"
     ]
    }
   ],
   "source": [
    "# Write chunks of text data\n",
    "text1 = \"Hello World \\n\"\n",
    "text2 = \"Dahl Moon \\n\"\n",
    "with open('printfile.txt', 'wt') as f:\n",
    "    print(text1,end=\"\",file=f)\n",
    "    print(text2,end=\"\",file=f)\n",
    "\n",
    "with open('printfile.txt', 'rt') as f:\n",
    "    for line in f :\n",
    "        print(line,end=\"\")"
   ]
  },
  {
   "cell_type": "code",
   "execution_count": null,
   "metadata": {
    "collapsed": false
   },
   "outputs": [],
   "source": [
    "# Write chunks of text data\n",
    "text1 = b\"Hello World \\n\"\n",
    "text2 = b\"Dahl Moon \\n\"\n",
    "with open('printfile.bin', 'wb') as f:\n",
    "    f.write(text1)\n",
    "    f.write(text2)\n",
    "\n",
    "with open('printfile.bin', 'rb') as f:\n",
    "    for line in f :\n",
    "        print(line)"
   ]
  },
  {
   "cell_type": "code",
   "execution_count": 5,
   "metadata": {
    "collapsed": true
   },
   "outputs": [],
   "source": [
    "import array\n",
    "nums = array.array('i', [1, 2, 3, 4])\n",
    "with open('data.bin','wb') as f:\n",
    "    f.write(nums)"
   ]
  },
  {
   "cell_type": "code",
   "execution_count": 6,
   "metadata": {
    "collapsed": false
   },
   "outputs": [
    {
     "name": "stdout",
     "output_type": "stream",
     "text": [
      "b'\\x01\\x00\\x00\\x00\\x02\\x00\\x00\\x00\\x03\\x00\\x00\\x00\\x04\\x00\\x00\\x00'\n"
     ]
    }
   ],
   "source": [
    "with open('data.bin', 'rb') as f:\n",
    "    print(f.read())"
   ]
  },
  {
   "cell_type": "code",
   "execution_count": 7,
   "metadata": {
    "collapsed": false
   },
   "outputs": [
    {
     "name": "stdout",
     "output_type": "stream",
     "text": [
      "array('i', [1, 2, 3, 4, 0, 0, 0, 0])\n"
     ]
    }
   ],
   "source": [
    "# 버퍼 정의\n",
    "b = array.array('i', [0, 0, 0, 0, 0, 0, 0, 0])\n",
    "\n",
    "with open('data.bin', 'rb') as f:\n",
    "    f.readinto(b)\n",
    "print(b)"
   ]
  },
  {
   "cell_type": "code",
   "execution_count": 4,
   "metadata": {
    "collapsed": false
   },
   "outputs": [
    {
     "name": "stdout",
     "output_type": "stream",
     "text": [
      "Help on built-in function readinto:\n",
      "\n",
      "readinto(buffer, /) method of _io.BufferedReader instance\n",
      "\n"
     ]
    }
   ],
   "source": [
    "help(f.readinto)"
   ]
  },
  {
   "cell_type": "code",
   "execution_count": 18,
   "metadata": {
    "collapsed": false
   },
   "outputs": [
    {
     "name": "stdout",
     "output_type": "stream",
     "text": [
      "b'1234'\n"
     ]
    }
   ],
   "source": [
    "nums = [1,2,3,4]\n",
    "with open('data1.bin','wb') as f:\n",
    "    for i in nums :\n",
    "        x = str(i).encode(\"utf-8\")\n",
    "        f.write(x)\n",
    "\n",
    "with open('data1.bin', 'rb') as f:\n",
    "    print(f.read())"
   ]
  },
  {
   "cell_type": "code",
   "execution_count": 9,
   "metadata": {
    "collapsed": false
   },
   "outputs": [
    {
     "ename": "TypeError",
     "evalue": "write() argument must be str, not list",
     "output_type": "error",
     "traceback": [
      "\u001b[0;31m---------------------------------------------------------------------------\u001b[0m",
      "\u001b[0;31mTypeError\u001b[0m                                 Traceback (most recent call last)",
      "\u001b[0;32m<ipython-input-9-0038fcd778dd>\u001b[0m in \u001b[0;36m<module>\u001b[0;34m()\u001b[0m\n\u001b[1;32m      1\u001b[0m \u001b[0mnums\u001b[0m \u001b[1;33m=\u001b[0m \u001b[1;33m[\u001b[0m\u001b[1;36m1\u001b[0m\u001b[1;33m,\u001b[0m\u001b[1;36m2\u001b[0m\u001b[1;33m,\u001b[0m\u001b[1;36m3\u001b[0m\u001b[1;33m,\u001b[0m\u001b[1;36m4\u001b[0m\u001b[1;33m]\u001b[0m\u001b[1;33m\u001b[0m\u001b[0m\n\u001b[1;32m      2\u001b[0m \u001b[1;32mwith\u001b[0m \u001b[0mopen\u001b[0m\u001b[1;33m(\u001b[0m\u001b[1;34m'data1.txt'\u001b[0m\u001b[1;33m,\u001b[0m\u001b[1;34m'wt'\u001b[0m\u001b[1;33m)\u001b[0m \u001b[1;32mas\u001b[0m \u001b[0mf\u001b[0m\u001b[1;33m:\u001b[0m\u001b[1;33m\u001b[0m\u001b[0m\n\u001b[0;32m----> 3\u001b[0;31m     \u001b[0mf\u001b[0m\u001b[1;33m.\u001b[0m\u001b[0mwrite\u001b[0m\u001b[1;33m(\u001b[0m\u001b[0mnums\u001b[0m\u001b[1;33m)\u001b[0m\u001b[1;33m\u001b[0m\u001b[0m\n\u001b[0m\u001b[1;32m      4\u001b[0m \u001b[1;33m\u001b[0m\u001b[0m\n\u001b[1;32m      5\u001b[0m \u001b[1;33m\u001b[0m\u001b[0m\n",
      "\u001b[0;31mTypeError\u001b[0m: write() argument must be str, not list"
     ]
    }
   ],
   "source": [
    "nums = [1,2,3,4]\n",
    "with open('data1.txt','wt') as f:\n",
    "    f.write(nums)\n",
    "\n",
    "\n",
    "with open('data1.txt', 'rt') as f:\n",
    "    print(f.read())"
   ]
  },
  {
   "cell_type": "code",
   "execution_count": 21,
   "metadata": {
    "collapsed": false
   },
   "outputs": [],
   "source": [
    "with open('somefile.txt', 'wt') as f:\n",
    "    f.write('Hello\\n')\n"
   ]
  },
  {
   "cell_type": "code",
   "execution_count": 19,
   "metadata": {
    "collapsed": false
   },
   "outputs": [
    {
     "name": "stdout",
     "output_type": "stream",
     "text": [
      "File already exists!\n"
     ]
    }
   ],
   "source": [
    "import os\n",
    "if not os.path.exists('somefile'):\n",
    "    with open('somefile', 'wt') as f:\n",
    "        f.write('Hello\\n')\n",
    "else:\n",
    "    print('File already exists!')"
   ]
  },
  {
   "cell_type": "code",
   "execution_count": 25,
   "metadata": {
    "collapsed": false
   },
   "outputs": [
    {
     "name": "stdout",
     "output_type": "stream",
     "text": [
      "Hello\n",
      "World\n",
      "World\n",
      "World\n",
      "\n"
     ]
    }
   ],
   "source": [
    "with open('somefile.txt', 'at') as f:\n",
    "    f.write('World\\n')\n",
    "    \n",
    "with open('somefile.txt', 'rt') as f:\n",
    "    print(f.read())\n"
   ]
  },
  {
   "cell_type": "code",
   "execution_count": null,
   "metadata": {
    "collapsed": false
   },
   "outputs": [],
   "source": [
    "import io\n",
    "s = io.StringIO()\n",
    "s.write('Hello World\\n')\n",
    "print('This is a test', file=s)\n",
    "\n",
    "# 전체 값 가져오기\n",
    "print(s.getvalue())\n",
    "\n",
    "#파일처리 read 하기\n",
    "s = io.StringIO('Hello\\nWorld\\n')\n",
    "print(s.read(4))\n",
    "print(s.read())\n"
   ]
  },
  {
   "cell_type": "code",
   "execution_count": null,
   "metadata": {
    "collapsed": false
   },
   "outputs": [],
   "source": [
    "import io\n",
    "s = io.BytesIO()\n",
    "s.write(b'binary data')\n",
    "print(s.getvalue())\n",
    "\n",
    "#파일처리 read 하기\n",
    "s = io.BytesIO(b'Hello\\nWorld\\n')\n",
    "print(s.read(4))\n",
    "print(s.read())"
   ]
  },
  {
   "cell_type": "code",
   "execution_count": null,
   "metadata": {
    "collapsed": false
   },
   "outputs": [],
   "source": [
    "dir(os)"
   ]
  },
  {
   "cell_type": "code",
   "execution_count": null,
   "metadata": {
    "collapsed": false
   },
   "outputs": [],
   "source": [
    "import os\n",
    "\n",
    "print(os.name)\n",
    "print(os.path.abspath('.'))\n",
    "print( os.environ['PATH'])\n"
   ]
  },
  {
   "cell_type": "code",
   "execution_count": null,
   "metadata": {
    "collapsed": false
   },
   "outputs": [],
   "source": [
    "import os\n",
    "print(os.getcwd())\n",
    "print(os.name)\n",
    "print(os.path.curdir)\n",
    "print(os.path.dirname(os.getcwd()))"
   ]
  },
  {
   "cell_type": "code",
   "execution_count": null,
   "metadata": {
    "collapsed": false
   },
   "outputs": [],
   "source": [
    "import os\n",
    "os.chdir(\"..\")\n",
    "print(os.getcwd())\n",
    "os.mkdir(\"test1\")\n",
    "os.chdir(\"./test1\")\n",
    "print(os.getcwd())\n",
    "os.chdir(\"..\")\n",
    "print(os.getcwd())"
   ]
  },
  {
   "cell_type": "code",
   "execution_count": null,
   "metadata": {
    "collapsed": false
   },
   "outputs": [],
   "source": [
    "a = os.system(\"dir\")\n",
    "print(a)"
   ]
  },
  {
   "cell_type": "code",
   "execution_count": null,
   "metadata": {
    "collapsed": false
   },
   "outputs": [],
   "source": [
    "f = os.popen(\"dir\")\n",
    "print(f.read())"
   ]
  },
  {
   "cell_type": "code",
   "execution_count": null,
   "metadata": {
    "collapsed": false
   },
   "outputs": [],
   "source": [
    "# add_test.py 저장\n",
    "\n",
    "import sys\n",
    "while True:\n",
    "    # 3.0버전부터 \n",
    "    s = input('Enter something :')\n",
    "    # s = raw_input('Enter something : ')\n",
    "    if s == 'quit':\n",
    "        break\n",
    "    print('Length of the string is', len(s))\n",
    "    print('string ', s)\n",
    "    \n",
    "print('Done')\n"
   ]
  },
  {
   "cell_type": "code",
   "execution_count": null,
   "metadata": {
    "collapsed": false
   },
   "outputs": [],
   "source": [
    "import sys\n",
    "#arg 정의\n",
    "v = (10,10)\n",
    "# 함수정의\n",
    "def add(v) :\n",
    "    print(v[0]+ v[1])\n",
    "    \n",
    "#함수를 연결\n",
    "sys.displayhook = add\n",
    "#arg 실행하면 실제 연결된 함수 실행\n",
    "v\n"
   ]
  },
  {
   "cell_type": "code",
   "execution_count": null,
   "metadata": {
    "collapsed": false
   },
   "outputs": [],
   "source": [
    "import sys\n",
    "for i in (sys.stdin, sys.stdout, sys.stderr):\n",
    "    print(i)\n",
    "    \n",
    "sys.stdout.write(\"Another way to do it!\\n\")\n",
    "\n",
    "sys.stdout.write(b'Hello\\n')\n"
   ]
  },
  {
   "cell_type": "code",
   "execution_count": null,
   "metadata": {
    "collapsed": false
   },
   "outputs": [],
   "source": [
    "from tempfile import TemporaryFile\n",
    "\n",
    "with TemporaryFile('w+t') as f:\n",
    "    # Read/write to the file\n",
    "    f.write('Hello World\\n')\n",
    "    f.write('Testing\\n')\n",
    "    \n",
    "    # Seek back to beginning and read the data\n",
    "    f.seek(0)\n",
    "    data = f.read()\n",
    "    print(data)\n"
   ]
  },
  {
   "cell_type": "code",
   "execution_count": 26,
   "metadata": {
    "collapsed": false
   },
   "outputs": [
    {
     "name": "stdout",
     "output_type": "stream",
     "text": [
      "Writing test.txt\n"
     ]
    }
   ],
   "source": [
    "%%writefile test.txt\n",
    "A\n",
    "B\n",
    "C\n",
    "D"
   ]
  },
  {
   "cell_type": "code",
   "execution_count": null,
   "metadata": {
    "collapsed": false
   },
   "outputs": [],
   "source": [
    "f = open(\"test.txt\",'rt')\n",
    "a = f.read(5)\n",
    "print(a)\n",
    "print(a[:3])"
   ]
  },
  {
   "cell_type": "code",
   "execution_count": null,
   "metadata": {
    "collapsed": false
   },
   "outputs": [],
   "source": [
    "f = open(\"test.txt\",'rt')\n",
    "print(f.read())"
   ]
  },
  {
   "cell_type": "code",
   "execution_count": null,
   "metadata": {
    "collapsed": false
   },
   "outputs": [],
   "source": [
    "f = open(\"test.txt\",'rt')\n",
    "print(f.readline(),end=\"\")\n",
    "print(f.readline(),end=\"\")\n",
    "print(f.readline(),end=\"\")\n",
    "print(f.readline(),end=\"\")\n",
    "print(f.readline(),end=\"\")"
   ]
  },
  {
   "cell_type": "code",
   "execution_count": null,
   "metadata": {
    "collapsed": false
   },
   "outputs": [],
   "source": [
    "for i in open(\"test.txt\",'rt') :\n",
    "    print(i, end=\"\")"
   ]
  },
  {
   "cell_type": "code",
   "execution_count": 27,
   "metadata": {
    "collapsed": false
   },
   "outputs": [
    {
     "name": "stdout",
     "output_type": "stream",
     "text": [
      "A\n",
      "B\n",
      "C\n",
      "D"
     ]
    },
    {
     "ename": "StopIteration",
     "evalue": "",
     "output_type": "error",
     "traceback": [
      "\u001b[0;31m---------------------------------------------------------------------------\u001b[0m",
      "\u001b[0;31mStopIteration\u001b[0m                             Traceback (most recent call last)",
      "\u001b[0;32m<ipython-input-27-41ea0c415e03>\u001b[0m in \u001b[0;36m<module>\u001b[0;34m()\u001b[0m\n\u001b[1;32m      4\u001b[0m \u001b[0mprint\u001b[0m\u001b[1;33m(\u001b[0m\u001b[0mnext\u001b[0m\u001b[1;33m(\u001b[0m\u001b[0ma\u001b[0m\u001b[1;33m)\u001b[0m\u001b[1;33m,\u001b[0m \u001b[0mend\u001b[0m\u001b[1;33m=\u001b[0m\u001b[1;34m\"\"\u001b[0m\u001b[1;33m)\u001b[0m\u001b[1;33m\u001b[0m\u001b[0m\n\u001b[1;32m      5\u001b[0m \u001b[0mprint\u001b[0m\u001b[1;33m(\u001b[0m\u001b[0mnext\u001b[0m\u001b[1;33m(\u001b[0m\u001b[0ma\u001b[0m\u001b[1;33m)\u001b[0m\u001b[1;33m,\u001b[0m \u001b[0mend\u001b[0m\u001b[1;33m=\u001b[0m\u001b[1;34m\"\"\u001b[0m\u001b[1;33m)\u001b[0m\u001b[1;33m\u001b[0m\u001b[0m\n\u001b[0;32m----> 6\u001b[0;31m \u001b[0mprint\u001b[0m\u001b[1;33m(\u001b[0m\u001b[0mnext\u001b[0m\u001b[1;33m(\u001b[0m\u001b[0ma\u001b[0m\u001b[1;33m)\u001b[0m\u001b[1;33m,\u001b[0m \u001b[0mend\u001b[0m\u001b[1;33m=\u001b[0m\u001b[1;34m\"\"\u001b[0m\u001b[1;33m)\u001b[0m\u001b[1;33m\u001b[0m\u001b[0m\n\u001b[0m",
      "\u001b[0;31mStopIteration\u001b[0m: "
     ]
    }
   ],
   "source": [
    "a = open(\"test.txt\",'rt') \n",
    "print(next(a), end=\"\")\n",
    "print(next(a), end=\"\")\n",
    "print(next(a), end=\"\")\n",
    "print(next(a), end=\"\")\n",
    "print(next(a), end=\"\")"
   ]
  },
  {
   "cell_type": "code",
   "execution_count": null,
   "metadata": {
    "collapsed": false
   },
   "outputs": [],
   "source": [
    "%%writefile foo.txt\n",
    "this is 1 line\n",
    "this is 2 line\n",
    "this is 3 line\n",
    "this is 4 line"
   ]
  },
  {
   "cell_type": "code",
   "execution_count": 30,
   "metadata": {
    "collapsed": false
   },
   "outputs": [
    {
     "name": "stdout",
     "output_type": "stream",
     "text": [
      "\n",
      "this is 1 line\n",
      "this is 2 line\n",
      "this is 3 line\n",
      "this is 4 line\n",
      "\n"
     ]
    },
    {
     "ename": "AttributeError",
     "evalue": "'str' object has no attribute 'close'",
     "output_type": "error",
     "traceback": [
      "\u001b[0;31m---------------------------------------------------------------------------\u001b[0m",
      "\u001b[0;31mAttributeError\u001b[0m                            Traceback (most recent call last)",
      "\u001b[0;32m<ipython-input-30-8665bbf1f5d9>\u001b[0m in \u001b[0;36m<module>\u001b[0;34m()\u001b[0m\n\u001b[1;32m     10\u001b[0m \u001b[0mf\u001b[0m \u001b[1;33m=\u001b[0m \u001b[0mopen\u001b[0m\u001b[1;33m(\u001b[0m\u001b[1;34mr'C:\\test.txt'\u001b[0m\u001b[1;33m,\u001b[0m \u001b[1;34m'r+'\u001b[0m\u001b[1;33m)\u001b[0m\u001b[1;33m.\u001b[0m\u001b[0mread\u001b[0m\u001b[1;33m(\u001b[0m\u001b[1;33m)\u001b[0m\u001b[1;33m\u001b[0m\u001b[0m\n\u001b[1;32m     11\u001b[0m \u001b[0mprint\u001b[0m\u001b[1;33m(\u001b[0m\u001b[0mf\u001b[0m\u001b[1;33m)\u001b[0m\u001b[1;33m\u001b[0m\u001b[0m\n\u001b[0;32m---> 12\u001b[0;31m \u001b[0mf\u001b[0m\u001b[1;33m.\u001b[0m\u001b[0mclose\u001b[0m\u001b[1;33m(\u001b[0m\u001b[1;33m)\u001b[0m\u001b[1;33m\u001b[0m\u001b[0m\n\u001b[0m",
      "\u001b[0;31mAttributeError\u001b[0m: 'str' object has no attribute 'close'"
     ]
    }
   ],
   "source": [
    "aaa ='''\n",
    "this is 1 line\n",
    "this is 2 line\n",
    "this is 3 line\n",
    "this is 4 line\n",
    "'''\n",
    "f = open(r'C:\\test.txt', 'w+')\n",
    "f.writelines(aaa)\n",
    "f.close()\n",
    "f = open(r'C:\\test.txt', 'r+').read()\n",
    "print(f)"
   ]
  },
  {
   "cell_type": "code",
   "execution_count": 29,
   "metadata": {
    "collapsed": false
   },
   "outputs": [
    {
     "name": "stdout",
     "output_type": "stream",
     "text": [
      "<_io.TextIOWrapper name='C:\\\\test.txt' mode='w+' encoding='cp949'>\n",
      "\u0000\u0000\n"
     ]
    }
   ],
   "source": [
    "# test.txt contents:\n",
    "# ABCDE\n",
    "f = open(r'C:\\test.txt', 'w+')\n",
    "print(f)\n",
    "f.truncate(2)\n",
    "print(f.read())\n"
   ]
  },
  {
   "cell_type": "code",
   "execution_count": null,
   "metadata": {
    "collapsed": false
   },
   "outputs": [],
   "source": [
    "# Open a file\n",
    "fo = open(\"foo.txt\", \"w+\")\n",
    "print(\"Name of the file: \", fo.name)\n",
    "\n",
    "line = fo.readline()\n",
    "print(\"Read Line: %s\" % (line))\n",
    "\n",
    "# Now truncate remaining file.\n",
    "print(fo.truncate(20))\n",
    "\n",
    "# Try to read file now\n",
    "line = fo.readline()\n",
    "print(\"Read Line: %s\" % (line))\n",
    "\n",
    "# Close opend file\n",
    "fo.close()"
   ]
  },
  {
   "cell_type": "code",
   "execution_count": null,
   "metadata": {
    "collapsed": false
   },
   "outputs": [],
   "source": [
    "f = open(\"foo.txt\",\"rt\")\n",
    "print(f.read())\n",
    "f.close()\n",
    "f = open(\"foo.txt\",\"wt+\")\n",
    "line = f.readline()\n",
    "f.truncate(f.tell())\n",
    "f.close()\n",
    "f = open(\"foo.txt\",\"rt\")\n",
    "print(f.read())"
   ]
  },
  {
   "cell_type": "code",
   "execution_count": null,
   "metadata": {
    "collapsed": false
   },
   "outputs": [],
   "source": [
    "help(f.truncate)"
   ]
  },
  {
   "cell_type": "code",
   "execution_count": 32,
   "metadata": {
    "collapsed": false
   },
   "outputs": [],
   "source": [
    "import pickle\n",
    "\n",
    "a = ['test value','test value 2','test value 3']\n",
    "\n",
    "file_Name = \"testfile\"\n",
    "\n",
    "fileObject = open(file_Name,'wb') \n",
    "\n",
    "# this writes the object a to the\n",
    "pickle.dump(a,fileObject)   \n",
    "\n",
    "# here we close the fileObject\n",
    "fileObject.close()\n"
   ]
  },
  {
   "cell_type": "code",
   "execution_count": 33,
   "metadata": {
    "collapsed": false
   },
   "outputs": [
    {
     "name": "stdout",
     "output_type": "stream",
     "text": [
      "['test value', 'test value 2', 'test value 3']\n",
      "True\n"
     ]
    }
   ],
   "source": [
    "fileObject = open(file_Name,'rb')  \n",
    "\n",
    "b = pickle.load(fileObject)  \n",
    "print(b)\n",
    "print(a == b)\n",
    "\n",
    "fileObject.close()"
   ]
  },
  {
   "cell_type": "code",
   "execution_count": 34,
   "metadata": {
    "collapsed": false
   },
   "outputs": [
    {
     "name": "stdout",
     "output_type": "stream",
     "text": [
      "Hello world\n",
      "True\n"
     ]
    }
   ],
   "source": [
    "import pickle\n",
    "s = \"Hello world\"\n",
    "fileObject = open(\"str.pkl\",'wb') \n",
    "pickle.dump(s,fileObject) \n",
    "fileObject.close()\n",
    "\n",
    "fileObject = open(\"str.pkl\",'rb') \n",
    "b = pickle.load(fileObject)  \n",
    "print(b)\n",
    "print(s == b)\n",
    "fileObject.close()"
   ]
  },
  {
   "cell_type": "code",
   "execution_count": 35,
   "metadata": {
    "collapsed": false
   },
   "outputs": [
    {
     "name": "stdout",
     "output_type": "stream",
     "text": [
      "{'a': [1, 2, 3], 'b': {'a': [1, 2, 3]}}\n",
      "True\n"
     ]
    }
   ],
   "source": [
    "import pickle\n",
    "d = { 'a': [1,2,3], 'b': {'a':[1,2,3]}}\n",
    "\n",
    "fileObject = open(\"dict.pkl\",'wb') \n",
    "pickle.dump(d,fileObject) \n",
    "fileObject.close()\n",
    "\n",
    "fileObject = open(\"dict.pkl\",'rb') \n",
    "b = pickle.load(fileObject)  \n",
    "print(b)\n",
    "print(d == b)"
   ]
  },
  {
   "cell_type": "code",
   "execution_count": 43,
   "metadata": {
    "collapsed": false
   },
   "outputs": [
    {
     "name": "stdout",
     "output_type": "stream",
     "text": [
      "DATA:\n",
      "[{'c': 3.0, 'a': 'A', 'b': 2}]\n",
      "PICKLE: 55\n",
      "b'\\x80\\x03]q\\x00}q\\x01(X\\x01\\x00\\x00\\x00cq\\x02G@\\x08\\x00\\x00\\x00\\x00\\x00\\x00X\\x01\\x00\\x00'\n",
      "b'\\x00aq\\x03X\\x01\\x00\\x00\\x00Aq\\x04X\\x01\\x00\\x00\\x00bq\\x05K\\x02ua.'\n",
      "Python: [{'c': 3.0, 'a': 'A', 'b': 2}]\n"
     ]
    }
   ],
   "source": [
    "import pickle\n",
    "\n",
    "data = [ { 'a':'A', 'b':2, 'c':3.0 } ]\n",
    "print('DATA:')\n",
    "print(data)\n",
    "\n",
    "data_string = pickle.dumps(data)\n",
    "print('PICKLE:', len(data_string))\n",
    "print(data_string[:30])\n",
    "print(data_string[30:])\n",
    "\n",
    "\n",
    "data_ = pickle.loads(data_string)\n",
    "print('Python:', data_)"
   ]
  },
  {
   "cell_type": "code",
   "execution_count": 39,
   "metadata": {
    "collapsed": false
   },
   "outputs": [
    {
     "data": {
      "text/plain": [
       "['__add__',\n",
       " '__class__',\n",
       " '__contains__',\n",
       " '__delattr__',\n",
       " '__dir__',\n",
       " '__doc__',\n",
       " '__eq__',\n",
       " '__format__',\n",
       " '__ge__',\n",
       " '__getattribute__',\n",
       " '__getitem__',\n",
       " '__getnewargs__',\n",
       " '__gt__',\n",
       " '__hash__',\n",
       " '__init__',\n",
       " '__iter__',\n",
       " '__le__',\n",
       " '__len__',\n",
       " '__lt__',\n",
       " '__mod__',\n",
       " '__mul__',\n",
       " '__ne__',\n",
       " '__new__',\n",
       " '__reduce__',\n",
       " '__reduce_ex__',\n",
       " '__repr__',\n",
       " '__rmod__',\n",
       " '__rmul__',\n",
       " '__setattr__',\n",
       " '__sizeof__',\n",
       " '__str__',\n",
       " '__subclasshook__',\n",
       " 'capitalize',\n",
       " 'center',\n",
       " 'count',\n",
       " 'decode',\n",
       " 'endswith',\n",
       " 'expandtabs',\n",
       " 'find',\n",
       " 'fromhex',\n",
       " 'hex',\n",
       " 'index',\n",
       " 'isalnum',\n",
       " 'isalpha',\n",
       " 'isdigit',\n",
       " 'islower',\n",
       " 'isspace',\n",
       " 'istitle',\n",
       " 'isupper',\n",
       " 'join',\n",
       " 'ljust',\n",
       " 'lower',\n",
       " 'lstrip',\n",
       " 'maketrans',\n",
       " 'partition',\n",
       " 'replace',\n",
       " 'rfind',\n",
       " 'rindex',\n",
       " 'rjust',\n",
       " 'rpartition',\n",
       " 'rsplit',\n",
       " 'rstrip',\n",
       " 'split',\n",
       " 'splitlines',\n",
       " 'startswith',\n",
       " 'strip',\n",
       " 'swapcase',\n",
       " 'title',\n",
       " 'translate',\n",
       " 'upper',\n",
       " 'zfill']"
      ]
     },
     "execution_count": 39,
     "metadata": {},
     "output_type": "execute_result"
    }
   ],
   "source": [
    "dir(data_string)"
   ]
  },
  {
   "cell_type": "code",
   "execution_count": null,
   "metadata": {
    "collapsed": false
   },
   "outputs": [],
   "source": [
    "import cPickle"
   ]
  },
  {
   "cell_type": "code",
   "execution_count": null,
   "metadata": {
    "collapsed": false
   },
   "outputs": [],
   "source": [
    "!pip install cPickle --upgrade"
   ]
  },
  {
   "cell_type": "code",
   "execution_count": null,
   "metadata": {
    "collapsed": false
   },
   "outputs": [],
   "source": [
    "%%writefile sys_argv.py\n",
    "import sys\n",
    "\n",
    "\n",
    "if len(sys.argv) is 1:\n",
    "    print(\"arg 없이 스크립트를 실행\")\n",
    "\n",
    "print(\"옵션 개수: %d\" % (len(sys.argv) - 1))\n",
    "\n",
    "print(\"\\n< 옵션 목록 >\")\n",
    "\n",
    "for i in range(len(sys.argv)):\n",
    "    print(\"sys.argv[%d] = '%s'\" % (i, sys.argv[i]))\n"
   ]
  },
  {
   "cell_type": "code",
   "execution_count": null,
   "metadata": {
    "collapsed": false
   },
   "outputs": [],
   "source": [
    "!python sys_argv.py arg1 arg2"
   ]
  },
  {
   "cell_type": "code",
   "execution_count": null,
   "metadata": {
    "collapsed": true
   },
   "outputs": [],
   "source": [
    "import sys, getopt\n",
    "\n",
    "def main(argv):\n",
    "    inputfile = ''\n",
    "    outputfile = ''\n",
    "    try:\n",
    "        opts, args = getopt.getopt(argv,\"hi:o:\",[\"ifile=\",\"ofile=\"])\n",
    "    except getopt.GetoptError:\n",
    "        print 'test.py -i <inputfile> -o <outputfile>'\n",
    "        sys.exit(2)\n",
    "    for opt, arg in opts:\n",
    "        if opt == '-h':\n",
    "            print 'test.py -i <inputfile> -o <outputfile>'\n",
    "            sys.exit()\n",
    "        elif opt in (\"-i\", \"--ifile\"):\n",
    "            inputfile = arg\n",
    "        elif opt in (\"-o\", \"--ofile\"):\n",
    "            outputfile = arg\n",
    "    print 'Input file is \"', inputfile\n",
    "    print 'Output file is \"', outputfile\n",
    "\n",
    "if __name__ == \"__main__\":\n",
    "    main(sys.argv[1:])"
   ]
  },
  {
   "cell_type": "code",
   "execution_count": null,
   "metadata": {
    "collapsed": false
   },
   "outputs": [],
   "source": [
    "%%writefile foo.txt\n",
    "A\n",
    "B\n",
    "C"
   ]
  },
  {
   "cell_type": "code",
   "execution_count": null,
   "metadata": {
    "collapsed": false
   },
   "outputs": [],
   "source": [
    "%%writefile sys_argv.py\n",
    "import sys\n",
    "\n",
    "infile =\"\"\n",
    "if len(sys.argv) is 1:\n",
    "    print(\"arg 없이 스크립트를 실행\")\n",
    "\n",
    "print(\"옵션 개수: %d\" % (len(sys.argv) - 1))\n",
    "\n",
    "print(\"\\n< 파일처리 >\")\n",
    "\n",
    "infile = sys.argv[1]\n",
    "a = open(infile, 'rt')\n",
    "for i in a :\n",
    "    print(i, end=\"\")\n"
   ]
  },
  {
   "cell_type": "code",
   "execution_count": null,
   "metadata": {
    "collapsed": false
   },
   "outputs": [],
   "source": [
    "!python sys_argv.py foo.txt"
   ]
  },
  {
   "cell_type": "code",
   "execution_count": 44,
   "metadata": {
    "collapsed": false
   },
   "outputs": [
    {
     "data": {
      "text/plain": [
       "'C:\\\\Users\\\\06411\\\\Documents'"
      ]
     },
     "execution_count": 44,
     "metadata": {},
     "output_type": "execute_result"
    }
   ],
   "source": [
    "os.getcwd()"
   ]
  },
  {
   "cell_type": "code",
   "execution_count": 45,
   "metadata": {
    "collapsed": false
   },
   "outputs": [
    {
     "name": "stdout",
     "output_type": "stream",
     "text": [
      "C:\\Users\n",
      "True\n",
      "7\n",
      "True\n",
      "True\n",
      "('c:\\\\temp\\\\test\\\\python', 'hello.exe')\n",
      "c:\\temp\\hello.exe\n",
      "C:\\temp\\public\\files\\index.html\n"
     ]
    }
   ],
   "source": [
    "import os\n",
    "\n",
    "print(os.path.dirname('C:\\\\Users\\\\06411'))\n",
    "print(os.path.isdir(r'c:\\python27'))\n",
    "\n",
    "print(os.path.getsize('C:\\\\Users\\\\06411\\\\foo.txt'))\n",
    "print(os.path.exists('C:\\\\Users\\\\06411\\\\foo.txt'))\n",
    "print(os.path.isfile(r'c:\\python27\\python.exe'))\n",
    "\n",
    "print(os.path.split(r'c:\\temp\\test\\python\\hello.exe'))\n",
    "print(os.path.join(r'c:\\temp', 'hello.exe'))\n",
    "\n",
    "mixed ='C:\\\\\\\\temp\\\\\\\\public/files/index.html'\n",
    "print(os.path.normpath(mixed))\n"
   ]
  },
  {
   "cell_type": "code",
   "execution_count": null,
   "metadata": {
    "collapsed": false
   },
   "outputs": [],
   "source": [
    "dir(os.path)"
   ]
  },
  {
   "cell_type": "code",
   "execution_count": 53,
   "metadata": {
    "collapsed": false
   },
   "outputs": [
    {
     "name": "stdout",
     "output_type": "stream",
     "text": [
      "b'\\x01\\x00\\x02\\x00\\x03\\x00\\x00\\x00'\n",
      "(1, 2, 3)\n",
      "8\n"
     ]
    }
   ],
   "source": [
    "from struct import *\n",
    "print(pack('hhl', 1, 2, 3))\n",
    "\n",
    "print(unpack('hhl', b'\\x01\\x00\\x02\\x00\\x03\\x00\\x00\\x00'))\n",
    "\n",
    "print(calcsize('hhl'))"
   ]
  },
  {
   "cell_type": "code",
   "execution_count": null,
   "metadata": {
    "collapsed": false
   },
   "outputs": [],
   "source": [
    "import struct\n",
    "binfile = open('bin.dat', 'wb')\n",
    "for num in range(50):\n",
    "    data = struct.pack('i', num)\n",
    "    binfile.write(data)\n",
    "\n",
    "# read the file\n",
    "binfile = open('bin.dat', 'rb')\n",
    "intsize = struct.calcsize('i')     \n",
    "while 1:\n",
    "    data = binfile.read(intsize)\n",
    "    if data == '':\n",
    "         break       \n",
    "    num = struct.unpack('i', data)\n",
    "    print(num)"
   ]
  },
  {
   "cell_type": "markdown",
   "metadata": {},
   "source": [
    "import tempfile\n",
    "'NamedTemporaryFile',\n",
    "'SpooledTemporaryFile',\n",
    "'TemporaryDirectory',\n",
    "'TemporaryFile',\n",
    "'gettempdir',\n",
    " 'gettempdirb',\n",
    " 'gettempprefix',\n",
    " 'gettempprefixb',\n",
    " 'mkdtemp',\n",
    " 'mkstemp',\n",
    " 'mktemp',\n",
    " 'tempdir',\n",
    " 'template'"
   ]
  },
  {
   "cell_type": "code",
   "execution_count": 46,
   "metadata": {
    "collapsed": false
   },
   "outputs": [
    {
     "name": "stdout",
     "output_type": "stream",
     "text": [
      "['__class__', '__delattr__', '__dict__', '__dir__', '__doc__', '__enter__', '__eq__', '__exit__', '__format__', '__ge__', '__getattr__', '__getattribute__', '__gt__', '__hash__', '__init__', '__iter__', '__le__', '__lt__', '__module__', '__ne__', '__new__', '__reduce__', '__reduce_ex__', '__repr__', '__setattr__', '__sizeof__', '__str__', '__subclasshook__', '__weakref__', '_closer', 'close', 'delete', 'file', 'name']\n",
      "C:\\Users\\06411\\AppData\\Local\\Temp\\tmpgd40s48a\n",
      "<_io.BufferedRandom name=5>\n"
     ]
    }
   ],
   "source": [
    "import tempfile\n",
    "\n",
    "a = tempfile.TemporaryFile()\n",
    "print(dir(a))\n",
    "print(a.name)\n",
    "print(a.file)\n"
   ]
  },
  {
   "cell_type": "code",
   "execution_count": 47,
   "metadata": {
    "collapsed": false
   },
   "outputs": [
    {
     "name": "stdout",
     "output_type": "stream",
     "text": [
      "['__class__', '__delattr__', '__dict__', '__dir__', '__doc__', '__enter__', '__eq__', '__exit__', '__format__', '__ge__', '__getattr__', '__getattribute__', '__gt__', '__hash__', '__init__', '__iter__', '__le__', '__lt__', '__module__', '__ne__', '__new__', '__reduce__', '__reduce_ex__', '__repr__', '__setattr__', '__sizeof__', '__str__', '__subclasshook__', '__weakref__', '_closer', 'close', 'delete', 'file', 'name']\n",
      "C:\\Users\\06411\\AppData\\Local\\Temp\\tmpgd40s48a\n",
      "<_io.BufferedRandom name=5>\n"
     ]
    }
   ],
   "source": [
    "import tempfile\n",
    "b = tempfile.NamedTemporaryFile()\n",
    "print(dir(a))\n",
    "print(a.name)\n",
    "print(a.file)"
   ]
  },
  {
   "cell_type": "code",
   "execution_count": null,
   "metadata": {
    "collapsed": false
   },
   "outputs": [],
   "source": [
    "help(tempfile.NamedTemporaryFile)"
   ]
  },
  {
   "cell_type": "code",
   "execution_count": 52,
   "metadata": {
    "collapsed": false
   },
   "outputs": [
    {
     "name": "stdout",
     "output_type": "stream",
     "text": [
      "(5, 'C:\\\\Users\\\\06411\\\\AppData\\\\Local\\\\testyw980vzk.data')\n",
      "C:\\Users\\06411\\AppData\\Local\\Temp\n",
      "C:\\Users\\06411\\AppData\\Local\\Temp\\mytemphkvw7n7v.txt\n"
     ]
    }
   ],
   "source": [
    "import tempfile\n",
    "\n",
    "#임시파일 만들기\n",
    "print(tempfile.mkstemp(suffix=\".data\", prefix=\"test\", dir=\"C:\\\\Users\\\\06411\\\\AppData\\\\Local\"))\n",
    "#임시 디렉토리 가져오기\n",
    "print(tempfile.gettempdir())\n",
    "# 이름을 활용할 수 있는 임시파일 만들기\n",
    "f = tempfile.NamedTemporaryFile(prefix='mytemp', suffix='.txt', dir=tempfile.gettempdir())\n",
    "print(f.name)"
   ]
  },
  {
   "cell_type": "code",
   "execution_count": null,
   "metadata": {
    "collapsed": false
   },
   "outputs": [],
   "source": [
    "import os\n",
    "import tempfile\n",
    "\n",
    "print('Building a file name yourself:')\n",
    "filename = './guess_my_name.%s.txt' % os.getpid()\n",
    "temp = open(filename, 'w+b')\n",
    "try:\n",
    "    print('temp:', temp)\n",
    "    print('temp.name:', temp.name)\n",
    "finally:\n",
    "    temp.close()\n",
    "    # Clean up the temporary file yourself\n",
    "    os.remove(filename)\n",
    "\n",
    "print()\n",
    "print('TemporaryFile:')\n",
    "temp = tempfile.TemporaryFile()\n",
    "try:\n",
    "    print('temp:', temp)\n",
    "    print('temp.name:', temp.name)\n",
    "finally:\n",
    "    # Automatically cleans up the file\n",
    "    temp.close()"
   ]
  },
  {
   "cell_type": "code",
   "execution_count": null,
   "metadata": {
    "collapsed": false
   },
   "outputs": [],
   "source": [
    "import os\n",
    "path = '/Users/beazley/Data/data.csv'\n",
    "# Get the last component of the path\n",
    "print(os.path.split(path))\n",
    "print(os.path.basename(path))\n",
    "print(os.path.dirname(path))\n",
    "#확장자 분리\n",
    "print(os.path.splitext(path))\n",
    "\n",
    "#server의 os가 다른 경우에는 path 생성하기를 사용해서 접근해야 함\n",
    "print(os.path.join('tmp', 'data', os.path.basename(path)))"
   ]
  },
  {
   "cell_type": "code",
   "execution_count": 51,
   "metadata": {
    "collapsed": false
   },
   "outputs": [
    {
     "name": "stdout",
     "output_type": "stream",
     "text": [
      "['.ipynb_checkpoints', '02_BPEL.ppt', '09  Parallel Programming_이종철.pdf', '09.Design-by-Contract.pdf', '11233097_982738568403691_4774451061682325844_o.jpg', '1935663869_3HAGhLDv_B9AEBFEBC1D8.jpg', '201504201_내사진.jpg', '2장 확률변수.ppt', '5_20130528094957.ppt', 'Anaconda3-4.3.1-Windows-x86_64.exe', 'a_simple_tutorial_on_theano.pdf', 'bank_deposit_20160926.ipynb', 'BC14040 융합 R&D 추진현황 분석 및 활성화 방안(김홍영, 박소희) (1).pdf', 'bdsc4j.csv.xlsx', 'Beginning-Python-From-Novice-to-Professional-Second-Edition.pdf', 'bokeh-is-here-interactive-visualization-for-python-and-friends.pdf', 'Byte-Python-concurrent-and-parallel-programming-V2.pdf', 'ch4_1[20111025175210].pdf', 'ch5È®·ü(¼öÁ¤).pdf', 'ch6_fn_rv.pdf', 'ch6È®·üº¯¼ö(¼öÁ¤).pdf', 'clojupyter-master', 'clojupyter-master.zip', 'clojure-1.8.0', 'clojure-1.8.0.zip', 'CompPhysicsPython.pdf', 'COMtut.PPT', 'Coursenew_Excel_2016-07-01_.xls', 'cpu_tpmc.ppt', 'DB.Browser.for.SQLite-3.9.1-win64.exe', 'Dell_PowerEdge_tpmC_추정값.xlsx', 'desktop.ini', 'dewing_sympy.pdf', 'djangobook.pdf', 'elastic', 'euroscipy2010_sympy_polynomial_slides.pdf', 'events.out.tfevents.1484117868.SKCC14N00485', 'events.out.tfevents.1484118010.SKCC14N00485', 'F.EA,EAMS', 'facebook', 'FirstContactWithTensorFlow.part1_.pdf', 'fluent-python-2015- (1).pdf', 'fluent-python-2015-.pdf', 'Functional Python Programming - Steve Lott - 2015.pdf', 'fund statistics.ppt', 'GERMGAM.PDF', 'Getting Started with Beautiful Soup.pdf', 'Go_Namespace.pdf', 'Go_가제.pdf', 'graph-run=C%5C.png', 'HIGGS.csv.gz', 'histogram_demo_features.py', 'HP_ProLiant_tpmc_공인_추정성능치_v12_E5-24xx_update.xls', 'hydro_python_manual_earthsci.pdf', 'image1.JPG', 'image2.JPG', 'Intro to Spatial Data Analysis in Python - FOSS4G NA 2015.pdf', 'IntroToPython.pdf', 'JN_test1 (2).ipynb', 'JP_in_test1.ipynb', 'lec5_numpy.pdf', 'lecture1.pdf', 'Lecture10_SymPy_2012.pdf', 'legend_demo.py', 'logs', 'LPTHW_pythonhardway.pdf', 'make-3.81-src', 'Mastering Object-oriented Python.pdf', 'Matplotlib 교본.pdf', 'Matplotlib_pdf.pdf', 'msa-150831024125-lva1-app6891.pptx', 'mysql-installer-community-5.7.17.0.msi', 'NP_test1.ipynb', 'NumPyBook.pdf', 'Numpy_test_20160906 (3).ipynb', 'nyc_taxi', 'nyc_taxi.zip', 'opencv', 'opencv-2.4.13.exe', 'p5', 'p5-win', 'Packt - Python 2.6 Graphics Cookbook - 2010.pdf', 'pandas.pdf', 'Parallel-Programming-with-Python (1).pdf', 'png (1).txt', 'png.png', 'png.txt', 'Practical.Clojure.pdf', 'ProblemSolvingwithAlgorithmsandDataStructures.pdf', 'processing-3.1.1-windows64', 'processing-3.1.1-windows64.zip', 'ProgrammingforNon-Programmers.pdf', 'pst-func-doc.pdf', 'pydatatut.pdf', 'python cookbook.pdf', 'python-3-patterns-idioms-test.pdf', 'python-for-multivariate-analysis.pdf', 'python-quant-econ.pdf', 'Python.docx', 'pythonbook.pdf', 'PythonMan for science.pdf', 'pythonnumpy-160804042235.pptx', 'PythonScientific-simple.pdf', 'PythonSim.pdf', 'Python_Cookbook_3rd_Edition.pdf', 'Python_for_Finance.pdf', 'Python_introduction _numpy.pdf', 'Python_introduction.pdf', 'python_in_a_nutshell.pdf', 'python_test.ipynb', 'Quantum Programming in Python- Quantum 1D Simple Harmonic Oscilla.pdf', 'Scientific-Computing-with-Python.pdf', 'seaborn_test_20160907.ipynb', 'SHGHFM_2014_v28n3_339 (1).pdf', 'SHGHFM_2014_v28n3_339.pdf', 'sm450_python-notes2.pdf', 'Symbolic_Statistics_with_SymPy.pdf', 'sympy.pdf', 'sympy_manual.pdf', 'TELE1438.JPG', 'TELE1449.JPG', 'TELE1452.JPG', 'TELE1454.JPG', 'TELE1455.JPG', 'TELE1461.JPG', 'test.md', 'thinkstats.pdf', 'thinkstats2.pdf', 'tpip-pagesized_textpython.pdf', 'tutorial_slides.pdf', 'tutorial_slides_python_matlab.pdf', 'Unconfirmed 133444.crdownload', 'VectTensColMat.pdf', 'weather_data_train.csv', 'wget-1.18-win64', 'wget-1.18-win64.zip', 'Wrox.Beginning.Python.Jul.2005.eBook-LinG.pdf', 'Xcode_Overview.pdf', 'xcorr_demo.py', 'youarenotasrationalasyouthink-161009042438.pdf', 'yum-2.0.7', 'yum-2.0.7.tar.gz', '[Fintech]-인터넷전문은행사업모델사례분석.pptx', '[기자간담회] 인터넷전문은행 구현전략_인쇄본.pptx', '[중요]정보시스템 용량산정 도구(Sizing).xls', '경우의수%2C확률의_끝.pdf', '교재', '금융권에 필요한 것들.docx', '내사진.jpg', '논병아리', '데이터과학로드맵.jpg', '데이터베이스+4주1차_(10)_원.pdf', '동창회비.xlsx', '문용준.docx', '문용준_핀테크.docx', '뻐꾸기', '사진.zip', '삼각함수.pdf', '상관분석_이론강의 (1).pdf', '상관분석_이론강의 (2).pdf', '상관분석_이론강의.pdf', '세계 주요 핀테크 업체.xlsx', '수정10인문학을-왜-기업이-강조하는가-.pptx', '수학+집합.html', '신문에 실린 내 사진.jpg', '신용카드_업계현황%282014.3분기%29%5B20150205140853389%5D.hwp', '엘지.jpg', '위임장.docx', '은행업무 이해 및 구현 해보기.docx', '인터넷은행.xlsx', '인터넷은행_서버 스펙.xlsx', '인터넷은행_서버 스펙_final.xlsx', '인터넷은행_서버 스펙_final_v1.0.xlsx', '인터넷전문은행 구현전략_교보생명_20150716_SKC&C.pptx', '정보시스템 하드웨어 규모산정 지침(TTAK[1].KO-10.0292).pdf', '파이썬_객체지향.pdf', '프로세싱ㄱ', '핀테크 교재', '핀테크 기반의 인터넷전문은행 20151202.pptx', '핀테크의 핵신 인터넷전문은행.docx']\n",
      "['.ipynb_checkpoints', '02_BPEL.ppt', '09  Parallel Programming_이종철.pdf', '09.Design-by-Contract.pdf', '11233097_982738568403691_4774451061682325844_o.jpg', '1935663869_3HAGhLDv_B9AEBFEBC1D8.jpg', '201504201_내사진.jpg', '2장 확률변수.ppt', '5_20130528094957.ppt', 'Anaconda3-4.3.1-Windows-x86_64.exe', 'a_simple_tutorial_on_theano.pdf', 'bank_deposit_20160926.ipynb', 'BC14040 융합 R&D 추진현황 분석 및 활성화 방안(김홍영, 박소희) (1).pdf', 'bdsc4j.csv.xlsx', 'Beginning-Python-From-Novice-to-Professional-Second-Edition.pdf', 'bokeh-is-here-interactive-visualization-for-python-and-friends.pdf', 'Byte-Python-concurrent-and-parallel-programming-V2.pdf', 'ch4_1[20111025175210].pdf', 'ch5È®·ü(¼öÁ¤).pdf', 'ch6_fn_rv.pdf', 'ch6È®·üº¯¼ö(¼öÁ¤).pdf', 'clojupyter-master', 'clojupyter-master.zip', 'clojure-1.8.0', 'clojure-1.8.0.zip', 'CompPhysicsPython.pdf', 'COMtut.PPT', 'Coursenew_Excel_2016-07-01_.xls', 'cpu_tpmc.ppt', 'DB.Browser.for.SQLite-3.9.1-win64.exe', 'Dell_PowerEdge_tpmC_추정값.xlsx', 'desktop.ini', 'dewing_sympy.pdf', 'djangobook.pdf', 'elastic', 'euroscipy2010_sympy_polynomial_slides.pdf', 'events.out.tfevents.1484117868.SKCC14N00485', 'events.out.tfevents.1484118010.SKCC14N00485', 'F.EA,EAMS', 'facebook', 'FirstContactWithTensorFlow.part1_.pdf', 'fluent-python-2015- (1).pdf', 'fluent-python-2015-.pdf', 'Functional Python Programming - Steve Lott - 2015.pdf', 'fund statistics.ppt', 'GERMGAM.PDF', 'Getting Started with Beautiful Soup.pdf', 'Go_Namespace.pdf', 'Go_가제.pdf', 'graph-run=C%5C.png', 'HIGGS.csv.gz', 'histogram_demo_features.py', 'HP_ProLiant_tpmc_공인_추정성능치_v12_E5-24xx_update.xls', 'hydro_python_manual_earthsci.pdf', 'image1.JPG', 'image2.JPG', 'Intro to Spatial Data Analysis in Python - FOSS4G NA 2015.pdf', 'IntroToPython.pdf', 'JN_test1 (2).ipynb', 'JP_in_test1.ipynb', 'lec5_numpy.pdf', 'lecture1.pdf', 'Lecture10_SymPy_2012.pdf', 'legend_demo.py', 'logs', 'LPTHW_pythonhardway.pdf', 'make-3.81-src', 'Mastering Object-oriented Python.pdf', 'Matplotlib 교본.pdf', 'Matplotlib_pdf.pdf', 'msa-150831024125-lva1-app6891.pptx', 'mysql-installer-community-5.7.17.0.msi', 'NP_test1.ipynb', 'NumPyBook.pdf', 'Numpy_test_20160906 (3).ipynb', 'nyc_taxi', 'nyc_taxi.zip', 'opencv', 'opencv-2.4.13.exe', 'p5', 'p5-win', 'Packt - Python 2.6 Graphics Cookbook - 2010.pdf', 'pandas.pdf', 'Parallel-Programming-with-Python (1).pdf', 'png (1).txt', 'png.png', 'png.txt', 'Practical.Clojure.pdf', 'ProblemSolvingwithAlgorithmsandDataStructures.pdf', 'processing-3.1.1-windows64', 'processing-3.1.1-windows64.zip', 'ProgrammingforNon-Programmers.pdf', 'pst-func-doc.pdf', 'pydatatut.pdf', 'python cookbook.pdf', 'python-3-patterns-idioms-test.pdf', 'python-for-multivariate-analysis.pdf', 'python-quant-econ.pdf', 'Python.docx', 'pythonbook.pdf', 'PythonMan for science.pdf', 'pythonnumpy-160804042235.pptx', 'PythonScientific-simple.pdf', 'PythonSim.pdf', 'Python_Cookbook_3rd_Edition.pdf', 'Python_for_Finance.pdf', 'Python_introduction _numpy.pdf', 'Python_introduction.pdf', 'python_in_a_nutshell.pdf', 'python_test.ipynb', 'Quantum Programming in Python- Quantum 1D Simple Harmonic Oscilla.pdf', 'Scientific-Computing-with-Python.pdf', 'seaborn_test_20160907.ipynb', 'SHGHFM_2014_v28n3_339 (1).pdf', 'SHGHFM_2014_v28n3_339.pdf', 'sm450_python-notes2.pdf', 'Symbolic_Statistics_with_SymPy.pdf', 'sympy.pdf', 'sympy_manual.pdf', 'TELE1438.JPG', 'TELE1449.JPG', 'TELE1452.JPG', 'TELE1454.JPG', 'TELE1455.JPG', 'TELE1461.JPG', 'test.md', 'thinkstats.pdf', 'thinkstats2.pdf', 'tpip-pagesized_textpython.pdf', 'tutorial_slides.pdf', 'tutorial_slides_python_matlab.pdf', 'Unconfirmed 133444.crdownload', 'VectTensColMat.pdf', 'weather_data_train.csv', 'wget-1.18-win64', 'wget-1.18-win64.zip', 'Wrox.Beginning.Python.Jul.2005.eBook-LinG.pdf', 'Xcode_Overview.pdf', 'xcorr_demo.py', 'youarenotasrationalasyouthink-161009042438.pdf', 'yum-2.0.7', 'yum-2.0.7.tar.gz', '[Fintech]-인터넷전문은행사업모델사례분석.pptx', '[기자간담회] 인터넷전문은행 구현전략_인쇄본.pptx', '[중요]정보시스템 용량산정 도구(Sizing).xls', '경우의수%2C확률의_끝.pdf', '교재', '금융권에 필요한 것들.docx', '내사진.jpg', '논병아리', '데이터과학로드맵.jpg', '데이터베이스+4주1차_(10)_원.pdf', '동창회비.xlsx', '문용준.docx', '문용준_핀테크.docx', '뻐꾸기', '사진.zip', '삼각함수.pdf', '상관분석_이론강의 (1).pdf', '상관분석_이론강의 (2).pdf', '상관분석_이론강의.pdf', '세계 주요 핀테크 업체.xlsx', '수정10인문학을-왜-기업이-강조하는가-.pptx', '수학+집합.html', '신문에 실린 내 사진.jpg', '신용카드_업계현황%282014.3분기%29%5B20150205140853389%5D.hwp', '엘지.jpg', '위임장.docx', '은행업무 이해 및 구현 해보기.docx', '인터넷은행.xlsx', '인터넷은행_서버 스펙.xlsx', '인터넷은행_서버 스펙_final.xlsx', '인터넷은행_서버 스펙_final_v1.0.xlsx', '인터넷전문은행 구현전략_교보생명_20150716_SKC&C.pptx', '정보시스템 하드웨어 규모산정 지침(TTAK[1].KO-10.0292).pdf', '파이썬_객체지향.pdf', '프로세싱ㄱ', '핀테크 교재', '핀테크 기반의 인터넷전문은행 20151202.pptx', '핀테크의 핵신 인터넷전문은행.docx']\n"
     ]
    }
   ],
   "source": [
    "import os\n",
    "names = os.listdir('.')\n",
    "print(names)\n",
    "\n",
    "names = os.listdir(r\"C:\\Users\\06411\\Downloads\")\n",
    "print(names)\n",
    "\n",
    "names = os.listdir(\"C:\\\\Users\\\\06411\\\\Downloads\")\n",
    "print(names)"
   ]
  },
  {
   "cell_type": "code",
   "execution_count": null,
   "metadata": {
    "collapsed": false
   },
   "outputs": [],
   "source": [
    "import glob\n",
    "pyfiles = glob.glob('./*.txt')\n",
    "print(pyfiles)\n",
    "\n",
    "from fnmatch import fnmatch\n",
    "pyfiles = [name for name in os.listdir('.') if fnmatch(name, '*.txt')]\n",
    "print(pyfiles)\n"
   ]
  },
  {
   "cell_type": "code",
   "execution_count": null,
   "metadata": {
    "collapsed": false
   },
   "outputs": [],
   "source": [
    "i = \"hello world\"\n",
    "a = bytearray(i, encoding=\"utf-8\")\n",
    "print(a)\n",
    "print(type(a))\n",
    "b = b\"hello world\"\n",
    "print(b)\n",
    "\n",
    "print(a == b)\n",
    "\n",
    "s = str(a, encoding=\"utf-8\")\n",
    "print(s)\n",
    "print(s == i)"
   ]
  },
  {
   "cell_type": "code",
   "execution_count": null,
   "metadata": {
    "collapsed": false
   },
   "outputs": [],
   "source": [
    "i = \"hello world\"\n",
    "c = bytes(i, encoding=\"utf-8\")\n",
    "a = i.encode(\"utf-8\")\n",
    "print(a)\n",
    "print(type(a))\n",
    "b = a.decode(\"utf-8\")\n",
    "print(b)\n",
    "print(type(b))\n",
    "\n",
    "print(c == a)\n",
    "print(a == b)\n",
    "print(i == b)\n"
   ]
  },
  {
   "cell_type": "code",
   "execution_count": 49,
   "metadata": {
    "collapsed": false
   },
   "outputs": [
    {
     "name": "stdout",
     "output_type": "stream",
     "text": [
      "<class 'str'> 11\n",
      "<class 'bytes'> 11\n",
      "<class 'bytearray'> 11\n",
      "<class 'str'> 11\n",
      "b'\\xea\\xb0\\x80\\xeb\\x82\\x98\\xeb\\x8b\\xa4\\xeb\\x9d\\xbc\\xeb\\xa7\\x88'\n",
      "<class 'bytes'> 15\n",
      "bytearray(b'\\xea\\xb0\\x80\\xeb\\x82\\x98\\xeb\\x8b\\xa4\\xeb\\x9d\\xbc\\xeb\\xa7\\x88')\n",
      "<class 'bytearray'> 15\n"
     ]
    }
   ],
   "source": [
    "i = \"hello world\"\n",
    "print(type(i), len(i))\n",
    "a = i.encode(\"utf-8\")\n",
    "print(type(a), len(a))\n",
    "b = bytearray(i, encoding=\"utf-8\")\n",
    "print(type(b), len(b))\n",
    "\n",
    "ih = \"가나다라마\"\n",
    "print(type(i), len(i))\n",
    "ah = ih.encode(\"utf-8\")\n",
    "print(ah)\n",
    "print(type(ah), len(ah))\n",
    "bh = bytearray(ih, encoding=\"utf-8\")\n",
    "print(bh)\n",
    "print(type(bh), len(bh))"
   ]
  },
  {
   "cell_type": "code",
   "execution_count": null,
   "metadata": {
    "collapsed": false
   },
   "outputs": [],
   "source": [
    "from struct import *\n",
    "\n",
    "#little endian\n",
    "print(pack('h', 1))\n",
    "print(pack('l', 1))\n",
    "print(unpack('h', pack('h', 1)))\n",
    "print(unpack('l', pack('l', 1)))\n",
    "#big endian\n",
    "print(pack('>h', 1))\n",
    "print(pack('>l', 1))\n",
    "print(unpack('>h', pack('>h', 1)))\n",
    "print(unpack('>l', pack('>l', 1)))"
   ]
  },
  {
   "cell_type": "code",
   "execution_count": null,
   "metadata": {
    "collapsed": false
   },
   "outputs": [],
   "source": [
    "print(pack('5h', 9))\n",
    "print(unpack('5h', pack('5h', 9)))"
   ]
  },
  {
   "cell_type": "code",
   "execution_count": null,
   "metadata": {
    "collapsed": false
   },
   "outputs": [],
   "source": [
    "help(pack)"
   ]
  },
  {
   "cell_type": "code",
   "execution_count": null,
   "metadata": {
    "collapsed": false
   },
   "outputs": [],
   "source": [
    "pack('ci', b'*', 0x12131415)"
   ]
  },
  {
   "cell_type": "code",
   "execution_count": null,
   "metadata": {
    "collapsed": false
   },
   "outputs": [],
   "source": [
    "pack('ci', b'*', 500)"
   ]
  },
  {
   "cell_type": "code",
   "execution_count": null,
   "metadata": {
    "collapsed": false
   },
   "outputs": [],
   "source": [
    "pack('>ci', b'*', 500)"
   ]
  },
  {
   "cell_type": "code",
   "execution_count": 48,
   "metadata": {
    "collapsed": false
   },
   "outputs": [
    {
     "name": "stdout",
     "output_type": "stream",
     "text": [
      "b'\\xf4\\x01\\x00\\x00'\n",
      "b'\\x00\\x00\\x01\\xf4'\n",
      "b'*\\x00\\xff\\x7f'\n",
      "b'*\\x7f\\xff'\n"
     ]
    }
   ],
   "source": [
    "from struct import *\n",
    "# 숫자처리\n",
    "print(pack('i', 500))\n",
    "print(pack('>i', 500))\n",
    "\n",
    "# 문자 처리는 b'*' format을 추가\n",
    "print(pack('ch', b'*', 32767))\n",
    "print(pack('>ch', b'*', 32767))"
   ]
  },
  {
   "cell_type": "code",
   "execution_count": null,
   "metadata": {
    "collapsed": false
   },
   "outputs": [],
   "source": [
    "pack('ci', b'*', 500)"
   ]
  },
  {
   "cell_type": "code",
   "execution_count": null,
   "metadata": {
    "collapsed": false
   },
   "outputs": [],
   "source": [
    "pack('ch', b'*', 32767)"
   ]
  },
  {
   "cell_type": "code",
   "execution_count": null,
   "metadata": {
    "collapsed": false
   },
   "outputs": [],
   "source": [
    "pack('>ch', b'*', 32767)"
   ]
  },
  {
   "cell_type": "code",
   "execution_count": null,
   "metadata": {
    "collapsed": false
   },
   "outputs": [],
   "source": [
    "%%writefile return_check.py\n",
    "# return_check.py\n",
    "type_str = ['str','int','float','list','dict','function','object']\n",
    "\n",
    "def return_type(obj) :\n",
    "    \n",
    "    type_check = obj.__class__.__name__\n",
    "    if type_check in type_str :\n",
    "        return True, type_check\n",
    "    else :\n",
    "        return False, type_check\n"
   ]
  },
  {
   "cell_type": "code",
   "execution_count": null,
   "metadata": {
    "collapsed": false
   },
   "outputs": [],
   "source": [
    "%%writefile socket_test.py\n",
    "\n",
    "# socket_test.py\n",
    "import socket\n",
    "import return_check as ret\n",
    "\n",
    "\n",
    "def get_ipaddress(obj) :\n",
    "    ''' \n",
    "    get ip address \n",
    "    '''\n",
    "    print(\" host name :\",obj)\n",
    "\n",
    "    ip_addr = socket.gethostbyname(obj)\n",
    "    \n",
    "    print(ret.return_type(ip_addr))\n",
    "    print(\" ip address :\", ip_addr)\n",
    "    \n",
    "# 자신의 PC hostname 가져오기\n",
    "obj = socket.gethostname()\n",
    "print(ret.return_type(obj)) \n",
    "#get_ipaddress(obj)\n",
    "\n",
    "# localhost\n",
    "obj = 'localhost'\n",
    "get_ipaddress(obj)\n",
    "\n",
    "# python org\n",
    "obj = 'www.python.org'\n",
    "get_ipaddress(obj)\n"
   ]
  },
  {
   "cell_type": "code",
   "execution_count": null,
   "metadata": {
    "collapsed": false
   },
   "outputs": [],
   "source": [
    "!python socket_test.py"
   ]
  },
  {
   "cell_type": "code",
   "execution_count": null,
   "metadata": {
    "collapsed": false
   },
   "outputs": [],
   "source": [
    "import socket # for socket\n",
    "import sys \n",
    "\n",
    "try:\n",
    "    s = socket.socket(socket.AF_INET, socket.SOCK_STREAM)\n",
    "    print(\"Socket successfully created\")\n",
    "except socket.error as err:\n",
    "    print(\"socket creation failed with error %s\" %(err))\n",
    "\n",
    "# default port for socket\n",
    "port = 80\n",
    "\n",
    "try:\n",
    "    host_ip = socket.gethostbyname('www.google.com')\n",
    "except socket.gaierror:\n",
    "    # this means could not resolve the host\n",
    "    print(\"there was an error resolving the host\")\n",
    "    sys.exit()\n",
    "\n",
    "# connecting to the server\n",
    "s.connect((host_ip,port))\n",
    "\n",
    "print(\"the socket has successfully connected to google on port == %s\" %(host_ip))\n"
   ]
  },
  {
   "cell_type": "code",
   "execution_count": null,
   "metadata": {
    "collapsed": false
   },
   "outputs": [],
   "source": [
    "import socket\n",
    "def get_service(obj) :\n",
    "    service =socket.getservbyport(obj,'tcp') \n",
    "    print(\" port : \" + str(obj) + \" service name : \" + service)\n",
    "\n",
    "print(' get port ')\n",
    "get_service(80)\n",
    "get_service(53)\n",
    "get_service(25)\n"
   ]
  },
  {
   "cell_type": "code",
   "execution_count": 9,
   "metadata": {
    "collapsed": false
   },
   "outputs": [
    {
     "name": "stdout",
     "output_type": "stream",
     "text": [
      "Overwriting soket_test2.py\n"
     ]
    }
   ],
   "source": [
    "%%writefile soket_test2.py\n",
    "import socket\n",
    "\n",
    "HOST = ''                  # Symbolic name meaning all available interfaces\n",
    "               # Symbolic name meaning all available interfaces\n",
    "PORT = 50009              # Arbitrary non-privileged port\n",
    "with socket.socket(socket.AF_INET, socket.SOCK_STREAM) as s:\n",
    "    s.bind((HOST, PORT))\n",
    "    s.listen(1)\n",
    "    conn, addr = s.accept()\n",
    "    with conn:\n",
    "        print('Connected by', addr)\n",
    "        while True:\n",
    "            data = conn.recv(1024)\n",
    "            if not data: break\n",
    "            data1 = data.decode(\"utf-8\")\n",
    "            data2 = data1.encode(\"utf-8\")\n",
    "            conn.sendall(data2)\n"
   ]
  },
  {
   "cell_type": "code",
   "execution_count": 11,
   "metadata": {
    "collapsed": false
   },
   "outputs": [
    {
     "name": "stdout",
     "output_type": "stream",
     "text": [
      "Connected by ('127.0.0.1', 52759)\n"
     ]
    }
   ],
   "source": [
    "!python soket_test2.py"
   ]
  },
  {
   "cell_type": "code",
   "execution_count": 7,
   "metadata": {
    "collapsed": false
   },
   "outputs": [
    {
     "name": "stdout",
     "output_type": "stream",
     "text": [
      "Overwriting soket_client.py\n"
     ]
    }
   ],
   "source": []
  },
  {
   "cell_type": "code",
   "execution_count": null,
   "metadata": {
    "collapsed": false
   },
   "outputs": [],
   "source": [
    "1+1"
   ]
  },
  {
   "cell_type": "code",
   "execution_count": null,
   "metadata": {
    "collapsed": true
   },
   "outputs": [],
   "source": []
  }
 ],
 "metadata": {
  "anaconda-cloud": {},
  "kernelspec": {
   "display_name": "Python [conda root]",
   "language": "python",
   "name": "conda-root-py"
  },
  "language_info": {
   "codemirror_mode": {
    "name": "ipython",
    "version": 3
   },
   "file_extension": ".py",
   "mimetype": "text/x-python",
   "name": "python",
   "nbconvert_exporter": "python",
   "pygments_lexer": "ipython3",
   "version": "3.5.2"
  }
 },
 "nbformat": 4,
 "nbformat_minor": 1
}
