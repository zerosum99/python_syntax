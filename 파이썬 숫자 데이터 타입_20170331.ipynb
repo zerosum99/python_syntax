{
 "cells": [
  {
   "cell_type": "markdown",
   "metadata": {},
   "source": [
    "# 1. 파이썬 기본 용어 이해하기 "
   ]
  },
  {
   "cell_type": "markdown",
   "metadata": {},
   "source": [
    "## 리터럴(literal) 과 표현식(expression )\n",
    "\n",
    "    리터럴 : 값 하나를 표현 \n",
    "    \n",
    "    표현식 : 값들이 처리를 연결된 표현"
   ]
  },
  {
   "cell_type": "code",
   "execution_count": null,
   "metadata": {
    "collapsed": false
   },
   "outputs": [],
   "source": [
    "# 하나의 값을 표현 : 리터럴 \n",
    "1"
   ]
  },
  {
   "cell_type": "code",
   "execution_count": null,
   "metadata": {
    "collapsed": false
   },
   "outputs": [],
   "source": [
    "# 여러 개의 값이 연산자 등과 표현 : 표현식\n",
    "3+4"
   ]
  },
  {
   "cell_type": "markdown",
   "metadata": {},
   "source": [
    "## 객체란 \n",
    "\n",
    "    리터럴고 표현식의 결과가 객체로 나타낸다.\n",
    "    \n",
    "    객체란 실제 파이썬 언어에서 사용되는 모든 값들은 객체로 보고 처리된다.\n",
    "    \n",
    "    정수(int) class 내부의 원소들을 class에 의해 만들어진 instance 객체이고 이 instance 객체를 만드는 것을 class 객체라고 함 "
   ]
  },
  {
   "cell_type": "code",
   "execution_count": 2,
   "metadata": {
    "collapsed": false
   },
   "outputs": [
    {
     "data": {
      "text/plain": [
       "1.0"
      ]
     },
     "execution_count": 2,
     "metadata": {},
     "output_type": "execute_result"
    }
   ],
   "source": [
    "(1.0).real"
   ]
  },
  {
   "cell_type": "code",
   "execution_count": 4,
   "metadata": {
    "collapsed": false
   },
   "outputs": [
    {
     "data": {
      "text/plain": [
       "True"
      ]
     },
     "execution_count": 4,
     "metadata": {},
     "output_type": "execute_result"
    }
   ],
   "source": [
    "(1.0).is_integer()"
   ]
  },
  {
   "cell_type": "code",
   "execution_count": 6,
   "metadata": {
    "collapsed": false
   },
   "outputs": [
    {
     "data": {
      "text/plain": [
       "(1, 1)"
      ]
     },
     "execution_count": 6,
     "metadata": {},
     "output_type": "execute_result"
    }
   ],
   "source": [
    "(1.0).as_integer_ratio()"
   ]
  },
  {
   "cell_type": "code",
   "execution_count": 5,
   "metadata": {
    "collapsed": false
   },
   "outputs": [
    {
     "data": {
      "text/plain": [
       "['__abs__',\n",
       " '__add__',\n",
       " '__bool__',\n",
       " '__class__',\n",
       " '__delattr__',\n",
       " '__dir__',\n",
       " '__divmod__',\n",
       " '__doc__',\n",
       " '__eq__',\n",
       " '__float__',\n",
       " '__floordiv__',\n",
       " '__format__',\n",
       " '__ge__',\n",
       " '__getattribute__',\n",
       " '__getformat__',\n",
       " '__getnewargs__',\n",
       " '__gt__',\n",
       " '__hash__',\n",
       " '__init__',\n",
       " '__int__',\n",
       " '__le__',\n",
       " '__lt__',\n",
       " '__mod__',\n",
       " '__mul__',\n",
       " '__ne__',\n",
       " '__neg__',\n",
       " '__new__',\n",
       " '__pos__',\n",
       " '__pow__',\n",
       " '__radd__',\n",
       " '__rdivmod__',\n",
       " '__reduce__',\n",
       " '__reduce_ex__',\n",
       " '__repr__',\n",
       " '__rfloordiv__',\n",
       " '__rmod__',\n",
       " '__rmul__',\n",
       " '__round__',\n",
       " '__rpow__',\n",
       " '__rsub__',\n",
       " '__rtruediv__',\n",
       " '__setattr__',\n",
       " '__setformat__',\n",
       " '__sizeof__',\n",
       " '__str__',\n",
       " '__sub__',\n",
       " '__subclasshook__',\n",
       " '__truediv__',\n",
       " '__trunc__',\n",
       " 'as_integer_ratio',\n",
       " 'conjugate',\n",
       " 'fromhex',\n",
       " 'hex',\n",
       " 'imag',\n",
       " 'is_integer',\n",
       " 'real']"
      ]
     },
     "execution_count": 5,
     "metadata": {},
     "output_type": "execute_result"
    }
   ],
   "source": [
    "dir(float)"
   ]
  },
  {
   "cell_type": "code",
   "execution_count": 3,
   "metadata": {
    "collapsed": false
   },
   "outputs": [
    {
     "data": {
      "text/plain": [
       "float"
      ]
     },
     "execution_count": 3,
     "metadata": {},
     "output_type": "execute_result"
    }
   ],
   "source": [
    "type(1.0)"
   ]
  },
  {
   "cell_type": "markdown",
   "metadata": {},
   "source": [
    "## 문장(statements)\n",
    "\n",
    "    리터럴과 표현식이 처리된 결과를 저장(할당문)\n",
    "    \n",
    "    함수(def), 클래스(class) 정의 및 순환,조건 등 평가한 결과가 값이 되지 않는 것을 문장이라고 함\n",
    "    \n",
    "    "
   ]
  },
  {
   "cell_type": "code",
   "execution_count": null,
   "metadata": {
    "collapsed": false
   },
   "outputs": [],
   "source": [
    "# 문장 처리\n",
    "a = 100\n",
    "# 출력해야 결과값을 볼 수 있음\n",
    "print(a)"
   ]
  },
  {
   "cell_type": "code",
   "execution_count": null,
   "metadata": {
    "collapsed": true
   },
   "outputs": [],
   "source": [
    "#아무런 기능이 없는 함수 정의\n",
    "def func() :\n",
    "    pass\n"
   ]
  },
  {
   "cell_type": "code",
   "execution_count": null,
   "metadata": {
    "collapsed": true
   },
   "outputs": [],
   "source": [
    "#아무런 기능이 없는 클래스 정의\n",
    "class Klass(object) :\n",
    "    pass\n"
   ]
  },
  {
   "cell_type": "code",
   "execution_count": null,
   "metadata": {
    "collapsed": false
   },
   "outputs": [],
   "source": [
    "# 함수는 아무런 행위가 없어도 결과값으로 None을 출력\n",
    "print(func())\n",
    "# 클래스는 인스턴스를 생성\n",
    "print(Klass())"
   ]
  },
  {
   "cell_type": "markdown",
   "metadata": {},
   "source": [
    "## 키워드"
   ]
  },
  {
   "cell_type": "code",
   "execution_count": null,
   "metadata": {
    "collapsed": false
   },
   "outputs": [],
   "source": [
    "import keyword\n",
    "\n",
    "for i in keyword.kwlist :\n",
    "    print(i)"
   ]
  },
  {
   "cell_type": "markdown",
   "metadata": {},
   "source": [
    "## 평가 : evaluation \n",
    "\n",
    "    평가는 리터럴과 표현식이 실제 실행된 결과를 확인하는 것 "
   ]
  },
  {
   "cell_type": "markdown",
   "metadata": {},
   "source": [
    "## 기본 함수 이해하기 "
   ]
  },
  {
   "cell_type": "code",
   "execution_count": null,
   "metadata": {
    "collapsed": false
   },
   "outputs": [],
   "source": [
    "help(help)"
   ]
  },
  {
   "cell_type": "code",
   "execution_count": null,
   "metadata": {
    "collapsed": false
   },
   "outputs": [],
   "source": [
    "help(print)"
   ]
  },
  {
   "cell_type": "code",
   "execution_count": null,
   "metadata": {
    "collapsed": false
   },
   "outputs": [],
   "source": [
    "help(type)"
   ]
  },
  {
   "cell_type": "code",
   "execution_count": null,
   "metadata": {
    "collapsed": false
   },
   "outputs": [],
   "source": [
    "dir(help)"
   ]
  },
  {
   "cell_type": "markdown",
   "metadata": {},
   "source": [
    "## 참조변수란?\n",
    "\n",
    "    실제 사용이 되어야 할 literal, expression, 함수, 클래스 등 파이썬이 객체를 재사용하기 위한 접근자로 정의하는 이름 "
   ]
  },
  {
   "cell_type": "markdown",
   "metadata": {},
   "source": [
    "###  참조변수 정의 및 초기화 \n",
    "\n",
    "    파이썬에서는 변수 정의는 반드시 객체 할당과 함께 되어야 한다.\n",
    "    \n",
    "    모듈에서 변수를 정의하면  globals namespace (dict 데이터타입)에 key/value로 세팅됨\n",
    "    "
   ]
  },
  {
   "cell_type": "code",
   "execution_count": null,
   "metadata": {
    "collapsed": false
   },
   "outputs": [],
   "source": [
    "1a = 1"
   ]
  },
  {
   "cell_type": "code",
   "execution_count": null,
   "metadata": {
    "collapsed": true
   },
   "outputs": [],
   "source": [
    "# x 변수에 정수 클래스의 1인 객체의 주소를 할당\n",
    "var_x = 1\n"
   ]
  },
  {
   "cell_type": "code",
   "execution_count": null,
   "metadata": {
    "collapsed": false
   },
   "outputs": [],
   "source": [
    "import string\n",
    "\n",
    "print(string.ascii_letters)\n",
    "print(string.digits)\n",
    "print(string.punctuation)"
   ]
  },
  {
   "cell_type": "code",
   "execution_count": null,
   "metadata": {
    "collapsed": false
   },
   "outputs": [],
   "source": [
    "def func() :\n",
    "    pass\n",
    "\n",
    "class Klass(object) :\n",
    "    pass\n",
    "\n",
    "print(func.__name__)\n",
    "print(Klass.__name__)"
   ]
  },
  {
   "cell_type": "code",
   "execution_count": null,
   "metadata": {
    "collapsed": false
   },
   "outputs": [],
   "source": [
    "import keyword\n",
    "import pprint\n",
    "\n",
    "print(keyword.kwlist)"
   ]
  },
  {
   "cell_type": "code",
   "execution_count": null,
   "metadata": {
    "collapsed": false
   },
   "outputs": [],
   "source": [
    "in = 1"
   ]
  },
  {
   "cell_type": "code",
   "execution_count": 7,
   "metadata": {
    "collapsed": false
   },
   "outputs": [
    {
     "name": "stdout",
     "output_type": "stream",
     "text": [
      "1\n",
      "<function var at 0x000000000520CBF8>\n"
     ]
    }
   ],
   "source": [
    "var = 1\n",
    "print(var)\n",
    "\n",
    "def var() :\n",
    "    print(\" function var\")\n",
    "    \n",
    "print(var)"
   ]
  },
  {
   "cell_type": "code",
   "execution_count": 1,
   "metadata": {
    "collapsed": false
   },
   "outputs": [
    {
     "name": "stdout",
     "output_type": "stream",
     "text": [
      "80400016 80399952\n",
      "False\n"
     ]
    }
   ],
   "source": [
    "i = 1000\n",
    "j = 1000\n",
    "\n",
    "print(id(i), id(j))\n",
    "print(i is j)"
   ]
  },
  {
   "cell_type": "markdown",
   "metadata": {},
   "source": [
    "## 모듈 \n",
    "    \n",
    "    파이썬은 .py 확장자로 모듈을 관리한다.\n",
    "    \n",
    "    파이썬이 컴파일(인터프리터)된 .pyc 확장자로 관리\n",
    "    "
   ]
  },
  {
   "cell_type": "markdown",
   "metadata": {},
   "source": [
    "### 모듈 내의 변수 관리 영역 확인하기\n",
    "\n",
    "     globals()를 실행하면 모듈에 필요한 namespace 를 보여준다.\n",
    "     "
   ]
  },
  {
   "cell_type": "code",
   "execution_count": null,
   "metadata": {
    "collapsed": false
   },
   "outputs": [],
   "source": [
    "print(type(globals()))\n",
    "print(globals()[\"var_x\"])"
   ]
  },
  {
   "cell_type": "markdown",
   "metadata": {},
   "source": [
    "# 2. 내장 데이터 타입 이해하기\n",
    "\n",
    "    내장 데이터 타입(class)로 생성된 모든 인스턴스 내에는 __dict__가 없다.\n",
    "    실시간으로 속성을 추가할 수 없도록 제한한다.\n",
    "    "
   ]
  },
  {
   "cell_type": "markdown",
   "metadata": {},
   "source": [
    "##  파이썬에서 제공되는 클래스 : 내장 데이터 타입\n",
    "\n",
    "    파이썬 언어에서 내부적으로 정의해서 프로그램 작성시 필요한 클래스\n",
    "    "
   ]
  },
  {
   "cell_type": "markdown",
   "metadata": {},
   "source": [
    "# 3. 내장 데이터 타입  : 정수 int class\n",
    "\n",
    "    파이썬 정수는 무제한 숫자를 들어가도록 설계되어있지만 컴퓨터에 따라 결과가 차이가 있을 수 있음"
   ]
  },
  {
   "cell_type": "code",
   "execution_count": null,
   "metadata": {
    "collapsed": false
   },
   "outputs": [],
   "source": [
    "help(1)"
   ]
  },
  {
   "cell_type": "code",
   "execution_count": null,
   "metadata": {
    "collapsed": false
   },
   "outputs": [],
   "source": [
    "type(1)"
   ]
  },
  {
   "cell_type": "code",
   "execution_count": null,
   "metadata": {
    "collapsed": false
   },
   "outputs": [],
   "source": [
    "print(type(1))"
   ]
  },
  {
   "cell_type": "markdown",
   "metadata": {},
   "source": [
    "### 변수에 int class로 만든 인스턴스 객체를 할당하기"
   ]
  },
  {
   "cell_type": "code",
   "execution_count": null,
   "metadata": {
    "collapsed": false
   },
   "outputs": [],
   "source": [
    "x = 100\n",
    "print(100)"
   ]
  },
  {
   "cell_type": "code",
   "execution_count": null,
   "metadata": {
    "collapsed": false
   },
   "outputs": [],
   "source": [
    "x = int(100)\n",
    "print(x)\n"
   ]
  },
  {
   "cell_type": "markdown",
   "metadata": {
    "collapsed": true
   },
   "source": [
    "### 문자열 내의 숫자 타입이 실수형일 경우 에러 처리함\n",
    "\n",
    "     문자열이 정수 숫자인 경우만 처리 가능함 "
   ]
  },
  {
   "cell_type": "code",
   "execution_count": null,
   "metadata": {
    "collapsed": false
   },
   "outputs": [],
   "source": [
    "x = int(\"100\")\n",
    "print(x)\n"
   ]
  },
  {
   "cell_type": "code",
   "execution_count": null,
   "metadata": {
    "collapsed": false
   },
   "outputs": [],
   "source": [
    "y = int(\"100.0\")\n",
    "print(y)"
   ]
  },
  {
   "cell_type": "markdown",
   "metadata": {},
   "source": [
    "### 내부 속성 및 메소드 처리"
   ]
  },
  {
   "cell_type": "code",
   "execution_count": null,
   "metadata": {
    "collapsed": false
   },
   "outputs": [],
   "source": [
    "# 정수 객체에 정해진 속성과 메소드로 조회하기\n",
    "\n",
    "print(x.real)\n",
    "print(x.bit_length())\n",
    "print(bin(x))"
   ]
  },
  {
   "cell_type": "code",
   "execution_count": null,
   "metadata": {
    "collapsed": false
   },
   "outputs": [],
   "source": [
    "help(bool)"
   ]
  },
  {
   "cell_type": "code",
   "execution_count": null,
   "metadata": {
    "collapsed": false
   },
   "outputs": [],
   "source": [
    "print(issubclass(bool,int))"
   ]
  },
  {
   "cell_type": "code",
   "execution_count": null,
   "metadata": {
    "collapsed": false
   },
   "outputs": [],
   "source": [
    "bool(100)"
   ]
  },
  {
   "cell_type": "code",
   "execution_count": null,
   "metadata": {
    "collapsed": false
   },
   "outputs": [],
   "source": [
    "bool(0)"
   ]
  },
  {
   "cell_type": "code",
   "execution_count": null,
   "metadata": {
    "collapsed": false
   },
   "outputs": [],
   "source": [
    "True + 1"
   ]
  },
  {
   "cell_type": "code",
   "execution_count": null,
   "metadata": {
    "collapsed": false
   },
   "outputs": [],
   "source": [
    "False * 10"
   ]
  },
  {
   "cell_type": "markdown",
   "metadata": {},
   "source": [
    "## 이진수, 8진수 16진수 처리하기\n",
    "\n",
    "     2진수  bin 함수 : 0b1111\n",
    "     8진수  oct 함수 : 0o1111\n",
    "     16진수 hex 함수 : 0x111"
   ]
  },
  {
   "cell_type": "code",
   "execution_count": null,
   "metadata": {
    "collapsed": false
   },
   "outputs": [],
   "source": [
    "xi = 100\n",
    "print(bin(xi))\n",
    "print(type(bin(xi)))\n",
    "print(oct(xi))\n",
    "print(type(oct(xi)))\n",
    "print(hex(xi))\n",
    "print(type(hex(xi)))\n"
   ]
  },
  {
   "cell_type": "code",
   "execution_count": null,
   "metadata": {
    "collapsed": false
   },
   "outputs": [],
   "source": [
    "xi = 100\n",
    "# 2진수를 10진수로 변환 첫번째 숫자는 문자열이여야 함\n",
    "print(int('0b100',base=2))\n",
    "print(int(bin(xi),base=2))\n",
    "print(int(oct(xi),base=8))\n",
    "print(int(hex(xi),base=16))"
   ]
  },
  {
   "cell_type": "markdown",
   "metadata": {},
   "source": [
    "### 내부 메모리에서 숫자나 문자를 hex값으로 관리하기  : 엔디언\n",
    "\n",
    "    byte order는 리튤엔디언과 빅엔디언이 있음\n",
    "\n",
    "    빅 엔디언은 2 바이트로  표현할 때 뒤에 한 바이트 부터 먼저 채워진다. \n",
    "    \n",
    "    리틀엔디언은 2바이트로 표현할 때 앞에 한 바이트 부터 먼저 채원진다\n"
   ]
  },
  {
   "cell_type": "code",
   "execution_count": null,
   "metadata": {
    "collapsed": false
   },
   "outputs": [],
   "source": [
    "import sys\n",
    "# 기존 숫자에 대한 바이트 처리는 리틀엔디언\n",
    "print(sys.byteorder)\n"
   ]
  },
  {
   "cell_type": "markdown",
   "metadata": {},
   "source": [
    "### hex 값 구성을 확인하기 "
   ]
  },
  {
   "cell_type": "code",
   "execution_count": null,
   "metadata": {
    "collapsed": false
   },
   "outputs": [],
   "source": [
    "\n",
    "c = (100).to_bytes(2,'big')\n",
    "print(c)\n",
    "d = int.from_bytes(c,'big')\n",
    "print(d)\n",
    "\n",
    "c = (100).to_bytes(2,'little')\n",
    "print(c)\n",
    "d = int.from_bytes(c,'little')\n",
    "print(d)"
   ]
  },
  {
   "cell_type": "markdown",
   "metadata": {},
   "source": [
    "# 4. 내장 데이터 타입  : 실수 float class "
   ]
  },
  {
   "cell_type": "code",
   "execution_count": null,
   "metadata": {
    "collapsed": false
   },
   "outputs": [],
   "source": [
    "help(1.1)"
   ]
  },
  {
   "cell_type": "code",
   "execution_count": null,
   "metadata": {
    "collapsed": false
   },
   "outputs": [],
   "source": [
    "type(1.1)"
   ]
  },
  {
   "cell_type": "code",
   "execution_count": null,
   "metadata": {
    "collapsed": false
   },
   "outputs": [],
   "source": [
    "print(type(1.1))"
   ]
  },
  {
   "cell_type": "markdown",
   "metadata": {},
   "source": [
    "### float 생성"
   ]
  },
  {
   "cell_type": "code",
   "execution_count": null,
   "metadata": {
    "collapsed": false
   },
   "outputs": [],
   "source": [
    "x = 100.1\n",
    "print(x)"
   ]
  },
  {
   "cell_type": "code",
   "execution_count": null,
   "metadata": {
    "collapsed": false
   },
   "outputs": [],
   "source": [
    "y = float(100.1)\n",
    "print(y)"
   ]
  },
  {
   "cell_type": "code",
   "execution_count": null,
   "metadata": {
    "collapsed": false
   },
   "outputs": [],
   "source": [
    "print(float(1+2j))"
   ]
  },
  {
   "cell_type": "code",
   "execution_count": null,
   "metadata": {
    "collapsed": false
   },
   "outputs": [],
   "source": [
    "import numbers\n",
    "\n",
    "xr = float(100)\n",
    "print(issubclass(float, numbers.Real))\n",
    "print(isinstance(xr, numbers.Real))\n",
    "print(xr)"
   ]
  },
  {
   "cell_type": "code",
   "execution_count": null,
   "metadata": {
    "collapsed": false
   },
   "outputs": [],
   "source": [
    "xrr = 100.1\n",
    "xr = 100.0\n",
    "print(xr.real)\n",
    "# 실수 값에 대한 적정한 정수 비율을 표시\n",
    "print(xr.as_integer_ratio())\n",
    "xrr = 1000.1\n",
    "print(\" 정수로 전환 가능 \",xr.is_integer())\n",
    "print(\" 정수로 전환 불가 \",xrr.is_integer())\n"
   ]
  },
  {
   "cell_type": "code",
   "execution_count": null,
   "metadata": {
    "collapsed": false
   },
   "outputs": [],
   "source": [
    "a = float.fromhex(\"0xff\")\n",
    "print(a)"
   ]
  },
  {
   "cell_type": "markdown",
   "metadata": {},
   "source": [
    "# 5. 내장 데이터 타입  :복소수 complex class\n",
    " \n",
    "    복소수 표시를 j로 함"
   ]
  },
  {
   "cell_type": "code",
   "execution_count": null,
   "metadata": {
    "collapsed": false
   },
   "outputs": [],
   "source": [
    "help(100 + 4j)"
   ]
  },
  {
   "cell_type": "code",
   "execution_count": null,
   "metadata": {
    "collapsed": false
   },
   "outputs": [],
   "source": [
    "type(100 + 4j)"
   ]
  },
  {
   "cell_type": "code",
   "execution_count": null,
   "metadata": {
    "collapsed": false
   },
   "outputs": [],
   "source": [
    "print(type(100 + 4j))"
   ]
  },
  {
   "cell_type": "code",
   "execution_count": null,
   "metadata": {
    "collapsed": false
   },
   "outputs": [],
   "source": [
    "x = 100 + 4j\n",
    "print(x)"
   ]
  },
  {
   "cell_type": "code",
   "execution_count": null,
   "metadata": {
    "collapsed": false
   },
   "outputs": [],
   "source": [
    "y = complex(100,4)\n",
    "print(y)"
   ]
  },
  {
   "cell_type": "code",
   "execution_count": null,
   "metadata": {
    "collapsed": false
   },
   "outputs": [],
   "source": [
    "import numbers\n",
    "\n",
    "xx = complex(100 + 4j)\n",
    "print(issubclass(complex, numbers.Complex))\n",
    "print(isinstance(xx, numbers.Complex))\n",
    "print(xx)"
   ]
  },
  {
   "cell_type": "code",
   "execution_count": null,
   "metadata": {
    "collapsed": false
   },
   "outputs": [],
   "source": [
    "print(xx.real)\n",
    "print(xx.imag)\n",
    "# 켤레 복소수 구하기\n",
    "print(xx.conjugate())"
   ]
  },
  {
   "cell_type": "markdown",
   "metadata": {},
   "source": [
    "# 6. 숫자 모듈 :  Decimal 처리하기 \n",
    "\n",
    "    보다 정밀한 수치를 계산할 경우 decimal 모듈을 이용해서 처리해야 함"
   ]
  },
  {
   "cell_type": "code",
   "execution_count": null,
   "metadata": {
    "collapsed": false
   },
   "outputs": [],
   "source": [
    "import decimal\n",
    "\n",
    "print(decimal.getcontext())"
   ]
  },
  {
   "cell_type": "code",
   "execution_count": null,
   "metadata": {
    "collapsed": false
   },
   "outputs": [],
   "source": [
    "import decimal\n",
    "\n",
    "a = decimal.Decimal('1234567890')\n",
    "print(a)\n",
    "\n",
    "b = decimal.Decimal('10000.999')\n",
    "print(b)"
   ]
  },
  {
   "cell_type": "code",
   "execution_count": null,
   "metadata": {
    "collapsed": false
   },
   "outputs": [],
   "source": [
    "import decimal\n",
    "import numbers\n",
    "\n",
    "print(decimal.getcontext())\n",
    "\n",
    "a = decimal.Decimal('1234567890')\n",
    "# Deciaml은 Number 처리 기준\n",
    "print(isinstance(a, numbers.Number))\n",
    "print(a)\n",
    "\n",
    "b = decimal.Decimal('10000.999')\n",
    "\n",
    "print(10000 + a)\n",
    "print( b + a)\n",
    "\n",
    "c = decimal.Decimal('0.10')\n",
    "print(b*c)\n"
   ]
  },
  {
   "cell_type": "markdown",
   "metadata": {},
   "source": [
    "#### 오류 발생\n",
    "    실수 숫자 처리 시 주의해야함"
   ]
  },
  {
   "cell_type": "code",
   "execution_count": null,
   "metadata": {
    "collapsed": false,
    "scrolled": true
   },
   "outputs": [],
   "source": [
    "import decimal\n",
    "\n",
    "a = decimal.Decimal('1234567890')\n",
    "\n",
    "# 실수 처리시 오류 발생\n",
    "print(10000.999 + a)"
   ]
  },
  {
   "cell_type": "code",
   "execution_count": null,
   "metadata": {
    "collapsed": false
   },
   "outputs": [],
   "source": [
    "import decimal\n",
    "\n",
    "\n",
    "b = decimal.Decimal('10000.999')\n",
    "\n",
    "# 실수 처리시 오류 발생\n",
    "print(10000.999 + b)"
   ]
  },
  {
   "cell_type": "code",
   "execution_count": null,
   "metadata": {
    "collapsed": false
   },
   "outputs": [],
   "source": [
    "b = decimal.Decimal('10000.999')\n",
    "\n",
    "penny = decimal.Decimal('0.00')\n",
    "\n",
    "# 단위를 축소하기 : 소숫점 한자리 \n",
    "print(b.quantize(penny))"
   ]
  },
  {
   "cell_type": "markdown",
   "metadata": {},
   "source": [
    "# 7. 숫자 모듈 : 유리수 처리하기\n",
    " \n",
    "    정수와 계산할 경우는 Fraction 으로 표시되지만 실수와 계산되면 실수로 표시함\n",
    "    "
   ]
  },
  {
   "cell_type": "code",
   "execution_count": null,
   "metadata": {
    "collapsed": false
   },
   "outputs": [],
   "source": [
    "import fractions\n",
    "\n",
    "# 분자, 분모를 입력\n",
    "f = fractions.Fraction(10,100)\n",
    "print(f)\n"
   ]
  },
  {
   "cell_type": "code",
   "execution_count": null,
   "metadata": {
    "collapsed": false
   },
   "outputs": [],
   "source": [
    "import fractions\n",
    "\n",
    "# 분자, 분모를 입력\n",
    "\n",
    "f = fractions.Fraction(10.0,100)\n",
    "print(f)"
   ]
  },
  {
   "cell_type": "code",
   "execution_count": null,
   "metadata": {
    "collapsed": false
   },
   "outputs": [],
   "source": [
    "import fractions\n",
    "import numbers\n",
    "\n",
    "\n",
    "f = fractions.Fraction(10,100)\n",
    "# 유리수 유무 확인\n",
    "print(isinstance(f, numbers.Rational))\n",
    "print(f)\n",
    "\n",
    "print(f+f, type(f+f))\n",
    "print(f + 100)\n",
    "print(50* f)"
   ]
  },
  {
   "cell_type": "code",
   "execution_count": null,
   "metadata": {
    "collapsed": false
   },
   "outputs": [],
   "source": [
    "import fractions\n",
    "import numbers\n",
    "\n",
    "ff = 50.0 *f\n",
    "# 무리수와 확인\n",
    "print(isinstance(ff, numbers.Rational))\n",
    "print(type(ff))\n",
    "print(ff)"
   ]
  },
  {
   "cell_type": "markdown",
   "metadata": {},
   "source": [
    "# 8.  숫자 타입과 추상화 클래스간의 관계\n",
    "\n",
    "    import numbers 모듈을 사용하면 숫자에 대한 추상화 관계를 명확히 알 수 있다.\n",
    "    \n",
    "    import 한 모듈을 사용하려면 모듈명.함수,모듈명.클래스, 모듈명.변수 등으로 사용하면 됨"
   ]
  },
  {
   "cell_type": "code",
   "execution_count": null,
   "metadata": {
    "collapsed": false
   },
   "outputs": [],
   "source": [
    "import numbers\n",
    "\n",
    "print(issubclass(int, numbers.Integral))\n",
    "print(issubclass(int, numbers.Rational))\n",
    "print(issubclass(int, numbers.Real))\n",
    "print(issubclass(int, numbers.Complex))\n",
    "print(issubclass(int, numbers.Number))"
   ]
  },
  {
   "cell_type": "code",
   "execution_count": null,
   "metadata": {
    "collapsed": false
   },
   "outputs": [],
   "source": [
    "import numbers\n",
    "\n",
    "print(isinstance(100, numbers.Integral))\n",
    "print(isinstance(100, numbers.Rational))\n",
    "print(isinstance(100, numbers.Real))\n",
    "print(isinstance(100, numbers.Complex))\n",
    "print(isinstance(100, numbers.Number))"
   ]
  },
  {
   "cell_type": "markdown",
   "metadata": {},
   "source": [
    "## 연산자 "
   ]
  },
  {
   "cell_type": "markdown",
   "metadata": {},
   "source": [
    "### 산술연산 "
   ]
  },
  {
   "cell_type": "code",
   "execution_count": null,
   "metadata": {
    "collapsed": false
   },
   "outputs": [],
   "source": [
    "-10"
   ]
  },
  {
   "cell_type": "code",
   "execution_count": null,
   "metadata": {
    "collapsed": false
   },
   "outputs": [],
   "source": [
    "+10"
   ]
  },
  {
   "cell_type": "code",
   "execution_count": null,
   "metadata": {
    "collapsed": false
   },
   "outputs": [],
   "source": [
    "1 + 1"
   ]
  },
  {
   "cell_type": "code",
   "execution_count": null,
   "metadata": {
    "collapsed": false
   },
   "outputs": [],
   "source": [
    "1-1"
   ]
  },
  {
   "cell_type": "code",
   "execution_count": null,
   "metadata": {
    "collapsed": false
   },
   "outputs": [],
   "source": [
    "1* 2"
   ]
  },
  {
   "cell_type": "code",
   "execution_count": null,
   "metadata": {
    "collapsed": false
   },
   "outputs": [],
   "source": [
    "10/3"
   ]
  },
  {
   "cell_type": "code",
   "execution_count": null,
   "metadata": {
    "collapsed": false
   },
   "outputs": [],
   "source": [
    "10//3"
   ]
  },
  {
   "cell_type": "code",
   "execution_count": null,
   "metadata": {
    "collapsed": false
   },
   "outputs": [],
   "source": [
    "10.0 // 3.0"
   ]
  },
  {
   "cell_type": "code",
   "execution_count": null,
   "metadata": {
    "collapsed": false
   },
   "outputs": [],
   "source": [
    "10 % 3"
   ]
  },
  {
   "cell_type": "markdown",
   "metadata": {},
   "source": [
    "### 비교연산자"
   ]
  },
  {
   "cell_type": "code",
   "execution_count": null,
   "metadata": {
    "collapsed": false
   },
   "outputs": [],
   "source": [
    "10 < 20"
   ]
  },
  {
   "cell_type": "code",
   "execution_count": null,
   "metadata": {
    "collapsed": false
   },
   "outputs": [],
   "source": [
    "10 <= 20"
   ]
  },
  {
   "cell_type": "code",
   "execution_count": null,
   "metadata": {
    "collapsed": false
   },
   "outputs": [],
   "source": [
    "20 > 10"
   ]
  },
  {
   "cell_type": "code",
   "execution_count": null,
   "metadata": {
    "collapsed": false
   },
   "outputs": [],
   "source": [
    "20 >= 10"
   ]
  },
  {
   "cell_type": "code",
   "execution_count": null,
   "metadata": {
    "collapsed": false
   },
   "outputs": [],
   "source": [
    "20 == 20"
   ]
  },
  {
   "cell_type": "code",
   "execution_count": null,
   "metadata": {
    "collapsed": false
   },
   "outputs": [],
   "source": [
    "20 != 10"
   ]
  },
  {
   "cell_type": "markdown",
   "metadata": {},
   "source": [
    "### 비트연산"
   ]
  },
  {
   "cell_type": "code",
   "execution_count": null,
   "metadata": {
    "collapsed": false
   },
   "outputs": [],
   "source": [
    "print(bin(10))\n",
    "print(bin(11))\n",
    "a = 10 & 11\n",
    "print(a)\n",
    "print(bin(a))"
   ]
  },
  {
   "cell_type": "code",
   "execution_count": null,
   "metadata": {
    "collapsed": false
   },
   "outputs": [],
   "source": [
    "print(bin(10))\n",
    "print(bin(11))\n",
    "a = 10 | 11\n",
    "print(a)\n",
    "print(bin(a))"
   ]
  },
  {
   "cell_type": "code",
   "execution_count": null,
   "metadata": {
    "collapsed": false
   },
   "outputs": [],
   "source": [
    "print(bin(10))\n",
    "print(bin(11))\n",
    "a = 10 ^ 11\n",
    "print(a)\n",
    "print(bin(a))"
   ]
  },
  {
   "cell_type": "code",
   "execution_count": null,
   "metadata": {
    "collapsed": false
   },
   "outputs": [],
   "source": [
    "print(bin(19))\n",
    "a = (~19) \n",
    "print(a)\n",
    "print(bin(a))\n",
    "print( -(19 +1))"
   ]
  },
  {
   "cell_type": "code",
   "execution_count": null,
   "metadata": {
    "collapsed": false
   },
   "outputs": [],
   "source": [
    "print(bin(20))\n",
    "a = 20 << 1\n",
    "print(a)\n",
    "print(bin(a))"
   ]
  },
  {
   "cell_type": "code",
   "execution_count": null,
   "metadata": {
    "collapsed": false
   },
   "outputs": [],
   "source": [
    "print(bin(20))\n",
    "a = 20 >> 1\n",
    "print(a)\n",
    "print(bin(a))"
   ]
  },
  {
   "cell_type": "code",
   "execution_count": null,
   "metadata": {
    "collapsed": false
   },
   "outputs": [],
   "source": [
    "x = 10\n",
    "y = 14\n",
    "# 단축 연산: and는 좌측이 True 인 경우 우측 전달,\n",
    "print(x and y)\n",
    "# 단축연산 : and는 좌측이 False인 경우 좌측 전달\n",
    "print(0 and y)\n"
   ]
  },
  {
   "cell_type": "code",
   "execution_count": null,
   "metadata": {
    "collapsed": false
   },
   "outputs": [],
   "source": [
    "x = 10\n",
    "y = 14\n",
    "# 단축 연산: or는 좌측이 True 인 경우 좌측 전달,\n",
    "print(x or y)\n",
    "# 단축연산 : or는 좌측이 False인 경우 우측 전달\n",
    "print(0 or y)"
   ]
  },
  {
   "cell_type": "code",
   "execution_count": null,
   "metadata": {
    "collapsed": false
   },
   "outputs": [],
   "source": [
    "True and False"
   ]
  },
  {
   "cell_type": "code",
   "execution_count": null,
   "metadata": {
    "collapsed": false
   },
   "outputs": [],
   "source": [
    "False or True"
   ]
  },
  {
   "cell_type": "code",
   "execution_count": null,
   "metadata": {
    "collapsed": false
   },
   "outputs": [],
   "source": [
    "not True"
   ]
  },
  {
   "cell_type": "code",
   "execution_count": null,
   "metadata": {
    "collapsed": false
   },
   "outputs": [],
   "source": [
    "# condition \n",
    "\n",
    "if \"\" :\n",
    "    print(\" True 이면\")\n",
    "else :\n",
    "    print(\" False 이면 \")"
   ]
  },
  {
   "cell_type": "code",
   "execution_count": null,
   "metadata": {
    "collapsed": false
   },
   "outputs": [],
   "source": [
    "for x in [0,0.0,\"\",[],{},(), None] :\n",
    "    if x :\n",
    "        print(\" True 이면\")\n",
    "    else :\n",
    "        print(\" False 이면 \")"
   ]
  },
  {
   "cell_type": "markdown",
   "metadata": {},
   "source": [
    "## 객체 비교"
   ]
  },
  {
   "cell_type": "code",
   "execution_count": null,
   "metadata": {
    "collapsed": false
   },
   "outputs": [],
   "source": [
    "i = 1\n",
    "j = 1\n",
    "\n",
    "print(id(i), id(j))\n",
    "print(i is j)"
   ]
  },
  {
   "cell_type": "code",
   "execution_count": null,
   "metadata": {
    "collapsed": false
   },
   "outputs": [],
   "source": [
    "i = list([1,2,3])\n",
    "j = list([1,2,3])\n",
    "\n",
    "print(id(i), id(j))\n",
    "print(i == j)"
   ]
  },
  {
   "cell_type": "code",
   "execution_count": null,
   "metadata": {
    "collapsed": false
   },
   "outputs": [],
   "source": [
    "i = 1\n",
    "j = 2\n",
    "\n",
    "print(id(i), id(j))\n",
    "print(object.__eq__(i,j))"
   ]
  },
  {
   "cell_type": "code",
   "execution_count": null,
   "metadata": {
    "collapsed": false
   },
   "outputs": [],
   "source": [
    "i = 1\n",
    "j = 1.0\n",
    "\n",
    "print(i == j)"
   ]
  },
  {
   "cell_type": "code",
   "execution_count": null,
   "metadata": {
    "collapsed": false
   },
   "outputs": [],
   "source": [
    "i = 10000\n",
    "j = 10000\n",
    "\n",
    "print(id(i), id(j))\n",
    "print(i is j)"
   ]
  },
  {
   "cell_type": "code",
   "execution_count": null,
   "metadata": {
    "collapsed": false
   },
   "outputs": [],
   "source": [
    "dir(complex)"
   ]
  },
  {
   "cell_type": "code",
   "execution_count": null,
   "metadata": {
    "collapsed": false
   },
   "outputs": [],
   "source": [
    "int.__int__"
   ]
  },
  {
   "cell_type": "code",
   "execution_count": null,
   "metadata": {
    "collapsed": false
   },
   "outputs": [],
   "source": [
    "float.__round__"
   ]
  },
  {
   "cell_type": "code",
   "execution_count": null,
   "metadata": {
    "collapsed": false
   },
   "outputs": [],
   "source": [
    "a = int.__ceil__(105)\n",
    "print(a)\n",
    "\n",
    "a = int.__floor__(105)\n",
    "print(a)"
   ]
  },
  {
   "cell_type": "code",
   "execution_count": null,
   "metadata": {
    "collapsed": false
   },
   "outputs": [],
   "source": [
    "help(int.__ceil__)"
   ]
  },
  {
   "cell_type": "code",
   "execution_count": null,
   "metadata": {
    "collapsed": false
   },
   "outputs": [],
   "source": [
    "import math\n",
    "\n",
    "print(math.ceil(200.3))\n",
    "print(math.floor(200.3))\n",
    "print(math.trunc(200.3))\n",
    "\n",
    "# 정수 내부적일 경우 처리\n",
    "print(int.__ceil__(int(200.9)))\n",
    "print(int.__floor__(int(200.9)))\n",
    "print(int.__trunc__(int(200.9)))"
   ]
  },
  {
   "cell_type": "code",
   "execution_count": null,
   "metadata": {
    "collapsed": false
   },
   "outputs": [],
   "source": [
    "print(int.__truediv__(10,3))\n",
    "print(int.__floordiv__(10,3))"
   ]
  },
  {
   "cell_type": "code",
   "execution_count": null,
   "metadata": {
    "collapsed": false
   },
   "outputs": [],
   "source": [
    "print(int.__rtruediv__(10,3))\n",
    "print(int.__rfloordiv__(10,3))"
   ]
  },
  {
   "cell_type": "code",
   "execution_count": null,
   "metadata": {
    "collapsed": false
   },
   "outputs": [],
   "source": [
    "i = 10\n",
    "i /= 3\n",
    "print(i)"
   ]
  },
  {
   "cell_type": "code",
   "execution_count": null,
   "metadata": {
    "collapsed": false
   },
   "outputs": [],
   "source": [
    "i = 10\n",
    "i //= 3\n",
    "print(i)"
   ]
  },
  {
   "cell_type": "code",
   "execution_count": 5,
   "metadata": {
    "collapsed": false
   },
   "outputs": [
    {
     "name": "stdout",
     "output_type": "stream",
     "text": [
      "<class '__main__.INT'> <class '__main__.INT'>\n",
      "101\n",
      "<class '__main__.INT'>\n",
      "<class '__main__.INT'>\n"
     ]
    }
   ],
   "source": [
    "class INT(int):\n",
    "    \n",
    "    def __init__(self,value) :\n",
    "        self = value\n",
    "        \n",
    "    def __add__(self,other) :\n",
    "        self = INT(int.__add__(self, other))\n",
    "        return self\n",
    "        \n",
    "    def __iadd__(self,other) :\n",
    "        self = self.__add__(other)\n",
    "        return self\n",
    "    \n",
    "i = INT(100)\n",
    "j = INT(1)\n",
    "print(type(i),type(j))\n",
    "print(i.__iadd__(j))\n",
    "\n",
    "i = i + j \n",
    "print(type(i))\n",
    "\n",
    "i += j\n",
    "print(type(i))"
   ]
  },
  {
   "cell_type": "code",
   "execution_count": null,
   "metadata": {
    "collapsed": false
   },
   "outputs": [],
   "source": [
    "dir(object)"
   ]
  },
  {
   "cell_type": "code",
   "execution_count": 8,
   "metadata": {
    "collapsed": false
   },
   "outputs": [
    {
     "name": "stdout",
     "output_type": "stream",
     "text": [
      "<class 'list'>\n",
      "(<class 'object'>,)\n",
      "True\n",
      "<class 'type'>\n",
      "False\n"
     ]
    }
   ],
   "source": [
    "mylist = list([1,2,3])\n",
    "\n",
    "print(type(mylist))\n",
    "print(type(mylist).__bases__)\n",
    "print(issubclass(type(mylist),object))\n",
    "print(type(mylist).__class__)\n",
    "print(issubclass(type(mylist),type))"
   ]
  },
  {
   "cell_type": "code",
   "execution_count": 29,
   "metadata": {
    "collapsed": false
   },
   "outputs": [
    {
     "name": "stdout",
     "output_type": "stream",
     "text": [
      "True\n",
      "hello\n",
      "False\n"
     ]
    }
   ],
   "source": [
    "import abc\n",
    "\n",
    "class MyMeta(abc.ABCMeta):  \n",
    "    def __instancecheck__(cls, inst):\n",
    "        print('hello')\n",
    "        if type(inst) == cls:\n",
    "            return True\n",
    "        return False\n",
    "    \n",
    "class InstanceCheck(metaclass=MyMeta):\n",
    "    def __init__(self,inst) :\n",
    "        self.inst = inst\n",
    "\n",
    "a = InstanceCheck(1)\n",
    "print(isinstance(a, InstanceCheck))  \n",
    "print(isinstance(1, InstanceCheck)) \n"
   ]
  },
  {
   "cell_type": "code",
   "execution_count": 23,
   "metadata": {
    "collapsed": false
   },
   "outputs": [
    {
     "data": {
      "text/plain": [
       "['__abs__',\n",
       " '__add__',\n",
       " '__and__',\n",
       " '__bool__',\n",
       " '__ceil__',\n",
       " '__class__',\n",
       " '__delattr__',\n",
       " '__dir__',\n",
       " '__divmod__',\n",
       " '__doc__',\n",
       " '__eq__',\n",
       " '__float__',\n",
       " '__floor__',\n",
       " '__floordiv__',\n",
       " '__format__',\n",
       " '__ge__',\n",
       " '__getattribute__',\n",
       " '__getnewargs__',\n",
       " '__gt__',\n",
       " '__hash__',\n",
       " '__index__',\n",
       " '__init__',\n",
       " '__int__',\n",
       " '__invert__',\n",
       " '__le__',\n",
       " '__lshift__',\n",
       " '__lt__',\n",
       " '__mod__',\n",
       " '__mul__',\n",
       " '__ne__',\n",
       " '__neg__',\n",
       " '__new__',\n",
       " '__or__',\n",
       " '__pos__',\n",
       " '__pow__',\n",
       " '__radd__',\n",
       " '__rand__',\n",
       " '__rdivmod__',\n",
       " '__reduce__',\n",
       " '__reduce_ex__',\n",
       " '__repr__',\n",
       " '__rfloordiv__',\n",
       " '__rlshift__',\n",
       " '__rmod__',\n",
       " '__rmul__',\n",
       " '__ror__',\n",
       " '__round__',\n",
       " '__rpow__',\n",
       " '__rrshift__',\n",
       " '__rshift__',\n",
       " '__rsub__',\n",
       " '__rtruediv__',\n",
       " '__rxor__',\n",
       " '__setattr__',\n",
       " '__sizeof__',\n",
       " '__str__',\n",
       " '__sub__',\n",
       " '__subclasshook__',\n",
       " '__truediv__',\n",
       " '__trunc__',\n",
       " '__xor__',\n",
       " 'bit_length',\n",
       " 'conjugate',\n",
       " 'denominator',\n",
       " 'from_bytes',\n",
       " 'imag',\n",
       " 'numerator',\n",
       " 'real',\n",
       " 'to_bytes']"
      ]
     },
     "execution_count": 23,
     "metadata": {},
     "output_type": "execute_result"
    }
   ],
   "source": [
    "dir(int)"
   ]
  },
  {
   "cell_type": "code",
   "execution_count": null,
   "metadata": {
    "collapsed": true
   },
   "outputs": [],
   "source": []
  }
 ],
 "metadata": {
  "anaconda-cloud": {},
  "kernelspec": {
   "display_name": "Python [conda root]",
   "language": "python",
   "name": "conda-root-py"
  },
  "language_info": {
   "codemirror_mode": {
    "name": "ipython",
    "version": 3
   },
   "file_extension": ".py",
   "mimetype": "text/x-python",
   "name": "python",
   "nbconvert_exporter": "python",
   "pygments_lexer": "ipython3",
   "version": "3.5.2"
  }
 },
 "nbformat": 4,
 "nbformat_minor": 1
}
