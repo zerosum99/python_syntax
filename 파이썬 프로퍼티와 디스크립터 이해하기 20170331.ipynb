{
 "cells": [
  {
   "cell_type": "markdown",
   "metadata": {},
   "source": [
    "#  property  란? \n",
    "\n",
    "    파이썬에서 속성을 그대로 사용하기보다 속성처럼 접근하지만 그에 맞는 메소드가 자동으로 처리될 수 있도록 처리하는 방법\n",
    "    \n",
    "    프로퍼티를 하나의 클래스로 정의할 경우 이렇게 정의 됨\n",
    "    \n",
    "    __get__, __set__, __delete__가 존재한 경우 하나의 디스크립터로 역할을 한다.\n",
    "    \n",
    "    property를 사용하는 클래스에 그 이름으로 멤버가 추가된다.\n",
    "    "
   ]
  },
  {
   "cell_type": "markdown",
   "metadata": {},
   "source": [
    "###  property 초기화 이해하기\n",
    "\n",
    "    # 프로퍼티 객체를 만들기 위한 초기화 \n",
    "    def __init__(self, fget=None, fset=None, fdel=None, doc=None):\n",
    "        self.fget = fget\n",
    "        self.fset = fset\n",
    "        self.fdel = fdel\n",
    "        if doc is None and fget is not None:\n",
    "            doc = fget.__doc__\n",
    "        self.__doc__ = doc\n",
    "        \n",
    "        \n",
    "     "
   ]
  },
  {
   "cell_type": "code",
   "execution_count": null,
   "metadata": {
    "collapsed": false
   },
   "outputs": [],
   "source": [
    "class Person :\n",
    "    def __init__(self,name) :\n",
    "        self.name = name\n",
    "        \n",
    "    @property\n",
    "    def name(self) :\n",
    "        print(\" call getter \")\n",
    "        return self._name\n",
    "    \n",
    "    @name.setter\n",
    "    def name(self,name) :\n",
    "        print(\" call setter \")\n",
    "        self.__dict__[\"_name\"] = name\n",
    "\n",
    "p = Person(\"dahl\")\n",
    "print(p.name)"
   ]
  },
  {
   "cell_type": "code",
   "execution_count": null,
   "metadata": {
    "collapsed": false
   },
   "outputs": [],
   "source": [
    "print(Person.name)\n",
    "print(Person.name.fget)\n",
    "print(Person.name.fset)"
   ]
  },
  {
   "cell_type": "code",
   "execution_count": null,
   "metadata": {
    "collapsed": false
   },
   "outputs": [],
   "source": [
    "print(Person.name)\n",
    "print(Person.name.getter)\n",
    "print(Person.name.setter)\n",
    "print(Person.name.deleter)"
   ]
  },
  {
   "cell_type": "code",
   "execution_count": null,
   "metadata": {
    "collapsed": false
   },
   "outputs": [],
   "source": [
    "class Ractangle :\n",
    "    \n",
    "    def __init__(self,height, width) :\n",
    "        self.height = height\n",
    "        self.width  = width\n",
    "        \n",
    "    @property\n",
    "    def area(self) :\n",
    "        return self.height * self.width\n",
    "    \n",
    "r = Ractangle(10,10) \n",
    "print(r.area)"
   ]
  },
  {
   "cell_type": "code",
   "execution_count": null,
   "metadata": {
    "collapsed": false
   },
   "outputs": [],
   "source": [
    "class Ractangle_ :\n",
    "    \n",
    "    def __init__(self,height, width) :\n",
    "        self.height = height\n",
    "        self.width  = width\n",
    "               \n",
    "    area = property()\n",
    "        \n",
    "    @area.getter\n",
    "    def area(self) :\n",
    "        return self.height * self.width\n",
    "    \n",
    "r = Ractangle_(10,10) \n",
    "print(r.area)"
   ]
  },
  {
   "cell_type": "markdown",
   "metadata": {},
   "source": [
    "#### 함수를 인스턴스 초기화 값(속성)으로 넣기 \n"
   ]
  },
  {
   "cell_type": "code",
   "execution_count": null,
   "metadata": {
    "collapsed": false
   },
   "outputs": [],
   "source": [
    "import operator\n",
    "\n",
    "\n",
    "class OP :\n",
    "    def __init__(self, add=None) :\n",
    "        self.add = add\n",
    "        \n",
    "op = OP(operator.add)\n",
    "\n",
    "print(op.add(5,5))"
   ]
  },
  {
   "cell_type": "markdown",
   "metadata": {},
   "source": [
    "### 프로퍼티 기본"
   ]
  },
  {
   "cell_type": "code",
   "execution_count": null,
   "metadata": {
    "collapsed": true
   },
   "outputs": [],
   "source": [
    "class cached_property(object):\n",
    "    \"\"\"Like @property, but caches the value.\"\"\"\n",
    "\n",
    "    def __init__(self, func):\n",
    "        self._func = func\n",
    "\n",
    "    def __get__(self, obj, cls):\n",
    "        if obj is None:\n",
    "            return self\n",
    "        \n",
    "        value = self._func(obj)\n",
    "        \n",
    "        return value"
   ]
  },
  {
   "cell_type": "code",
   "execution_count": null,
   "metadata": {
    "collapsed": false
   },
   "outputs": [],
   "source": [
    "class Foo(object):\n",
    "    @cached_property\n",
    "    def foo(self):\n",
    "        # Would usually have significant computation here\n",
    "        return 9001\n",
    "\n",
    "foo_instance = Foo()\n",
    "print(Foo.foo)\n",
    "print(Foo.foo.__dict__)\n",
    "print(foo_instance.foo)\n",
    "print(foo_instance.__dict__)"
   ]
  },
  {
   "cell_type": "markdown",
   "metadata": {},
   "source": [
    "### 프로퍼티 객체가 만들어지면 실제 생성되는 메소드를 등록하는 인스턴스 메소드\n",
    "\n",
    "    등록되는 메소드가 이름의 중복을 피하기 위해 동일한 이름에 등록을 할 수 있도록 메소드를 만들어서 처리함\n",
    "    \n",
    "     \n",
    "     def getter(self, fget):\n",
    "        print(type(self))\n",
    "        return type(self)(fget, self.fset, self.fdel, self.__doc__)\n",
    "\n",
    "     def setter(self, fset):\n",
    "        print(type(self))\n",
    "        return type(self)(self.fget, fset, self.fdel, self.__doc__)\n",
    "\n",
    "     def deleter(self, fdel):\n",
    "        return type(self)(self.fget, self.fset, fdel, self.__doc__)\n",
    "        "
   ]
  },
  {
   "cell_type": "markdown",
   "metadata": {},
   "source": [
    "#### 인스턴스 재생성하기 \n",
    "\n",
    "    함수를 만들어서 새로운 객체를 만들고 기존 변수에 할당하면 항상 동일한 처리를 할 수 있다.\n",
    "    \n",
    "    파이썬은 인스턴스를 생성하고 변수에 할당하면 그 변수로 인스턴스를 접근해서 처리할 수 있는 구조이다.\n",
    "    "
   ]
  },
  {
   "cell_type": "code",
   "execution_count": null,
   "metadata": {
    "collapsed": false
   },
   "outputs": [],
   "source": [
    "class AM(object):\n",
    "    \" 메소드 등록\"\n",
    "\n",
    "    def __init__(self, name, meth):\n",
    "        print(\"xxx\")\n",
    "        self._name = name\n",
    "        self.meth= meth\n",
    "    \n",
    "    def method(self, meth=None):\n",
    "        print(type(self))\n",
    "        \n",
    "        self._name = meth.__name__\n",
    "        self.meth= meth\n",
    "        return self.meth\n",
    "    \n",
    "\n",
    "    \n",
    "am = AM(\"sum\",sum)\n",
    "print(am.meth.__name__)\n",
    "@am.method\n",
    "def func() :\n",
    "    print(\" func exec \")\n",
    "\n",
    "print(func())\n",
    "print(am.meth.__name__)"
   ]
  },
  {
   "cell_type": "code",
   "execution_count": null,
   "metadata": {
    "collapsed": false
   },
   "outputs": [],
   "source": [
    "import operator\n",
    "\n",
    "\n",
    "class OP :\n",
    "    def __init__(self, add=None,sub=None) :\n",
    "        self.add = add\n",
    "        self.sub = sub\n",
    "        \n",
    "op = OP(operator.add)\n",
    "print(op.add(5,5))\n",
    "print(op, type(op))\n",
    "\n",
    "# 기존 객체를 새로운 객체로 만들기\n",
    "        \n",
    "def getter(self, add,sub):\n",
    "    if add == None :\n",
    "        add = self.add\n",
    "    if sub == None :\n",
    "        sub = self.sub\n",
    "    return type(self)(add,sub)\n",
    "\n",
    "op = getter(op,None,sub=operator.sub)\n",
    "\n",
    "print(op.add(5,5))\n",
    "print(op.sub(5,5))\n",
    "print(op, type(op))"
   ]
  },
  {
   "cell_type": "markdown",
   "metadata": {},
   "source": [
    "###  메소드를 인스턴스에 등록해서 처리하기\n"
   ]
  },
  {
   "cell_type": "code",
   "execution_count": null,
   "metadata": {
    "collapsed": true
   },
   "outputs": [],
   "source": [
    "def name(self) :\n",
    "    return self._name\n"
   ]
  },
  {
   "cell_type": "code",
   "execution_count": null,
   "metadata": {
    "collapsed": false
   },
   "outputs": [],
   "source": [
    "class AM(object):\n",
    "    \" 메소드 등록\"\n",
    "\n",
    "    def __init__(self, name, meth):\n",
    "        self._name = name\n",
    "        self.meth= meth\n",
    "    \n",
    "am = AM(\"Moon\", name)\n",
    "\n",
    "print(am.__dict__)\n",
    "\n",
    "# self를 넣어야 호출 됨 \n",
    "print(am.meth(am))\n",
    "       "
   ]
  },
  {
   "cell_type": "code",
   "execution_count": null,
   "metadata": {
    "collapsed": false
   },
   "outputs": [],
   "source": [
    "def name(self) :\n",
    "    return self._name\n",
    "\n",
    "class AM(object):\n",
    "    \" 메소드 등록\"\n",
    "\n",
    "    def __init__(self, name, meth):\n",
    "        print(\"xxx\")\n",
    "        self._name = name\n",
    "        self.meth= meth\n",
    "    \n",
    "    def method(self, name,meth):\n",
    "        print(type(self))\n",
    "        self._name = name\n",
    "        self.meth= meth\n",
    "        \n",
    "am = AM(\"Moon\", name)\n",
    "\n",
    "print(am.__dict__)\n",
    "\n",
    "# self를 넣어야 호출 됨 \n",
    "print(am.meth(am))\n",
    "\n",
    "am.method(\"sum\",sum)\n",
    "print(am.meth.__name__)"
   ]
  },
  {
   "cell_type": "markdown",
   "metadata": {},
   "source": [
    "###  메소드를 클래스에 등록해서 처리하기 \n",
    "\n",
    "     setattr 함수로 메소드 등록하기 \n",
    "\n",
    "    "
   ]
  },
  {
   "cell_type": "code",
   "execution_count": null,
   "metadata": {
    "collapsed": false
   },
   "outputs": [],
   "source": [
    "class AC(object):\n",
    "    \" 메소드 등록\"\n",
    "\n",
    "    def __init__(self, name, meth):\n",
    "        self._name = name\n",
    "        setattr(AC,meth.__name__, meth)\n",
    "   \n",
    "        \n",
    "am = AC(\"Moon\", name)\n",
    "\n",
    "print(AC.__dict__['name'])\n",
    "\n",
    "print(am.__dict__)\n",
    "\n",
    "# 메소드 호출 처리\n",
    "a = am.name()\n",
    "print(a)\n",
    "\n",
    "print(AC.__dict__)\n",
    "\n",
    "print(type(AC.name))\n"
   ]
  },
  {
   "cell_type": "markdown",
   "metadata": {},
   "source": [
    "### 클래스 정의시 함수를 메소드로 넣기 \n",
    "\n",
    "    직접 클래스 내부 변수에 name 함수 할당해서 처리 "
   ]
  },
  {
   "cell_type": "code",
   "execution_count": null,
   "metadata": {
    "collapsed": false
   },
   "outputs": [],
   "source": [
    "\n",
    "class AC(object):\n",
    "    \" 메소드 등록\"\n",
    "\n",
    "    def __init__(self, name):\n",
    "        self._name = name\n",
    "       \n",
    "    name1 = name\n",
    "        \n",
    "am = AC(\"Moon\")\n",
    "\n",
    "print(AC.__dict__['name1'])\n",
    "\n",
    "print(am.__dict__)\n",
    "\n",
    "print(AC.__dict__)\n",
    "print(type(AC.name1)) \n",
    "print(type(am.name1)) \n",
    "# 호출 연사자가 있어야 호출됨 \n",
    "print(am.name1())"
   ]
  },
  {
   "cell_type": "markdown",
   "metadata": {},
   "source": [
    "### 프로퍼티로 지정된 것은 읽을 때는 디스크립터로 처리되어 실제 등록된 함수들을 읽어서 처리함 \n",
    "\n",
    "    실제 객체를 이름으로 접근시 디스크립터 메소드가 호출되어 처리됨\n",
    "    \n",
    "     \n",
    "\n",
    "    def __get__(self, obj, objtype=None):\n",
    "        if obj is None:\n",
    "            return self\n",
    "        if self.fget is None:\n",
    "            raise AttributeError(\"unreadable attribute\")\n",
    "        return self.fget(obj)\n",
    "\n",
    "    def __set__(self, obj, value):\n",
    "        if self.fset is None:\n",
    "            raise AttributeError(\"can't set attribute\")\n",
    "        self.fset(obj, value)\n",
    "\n",
    "    def __delete__(self, obj):\n",
    "        if self.fdel is None:\n",
    "            raise AttributeError(\"can't delete attribute\")\n",
    "        self.fdel(obj)\n"
   ]
  },
  {
   "cell_type": "markdown",
   "metadata": {},
   "source": [
    "### Namespace 내의 속성 접근 알아보기 \n",
    "\n",
    "      내부 속성 접근해서 알아보기 \n",
    "      \n",
    "      __dict__ : 속성에서 [ ]  연산자를 이용해서 직접 접근하기, 없으면 예외처리\n",
    "      \n",
    "      getattr : 내장함수로 접근하기는 일단 default 값을 줄 수 있어 예외처리를 방지\n",
    "      \n",
    "      hasattr : 내장함수로 속성 존재여부 확인하고 처리하면 좋다.\n",
    "      "
   ]
  },
  {
   "cell_type": "code",
   "execution_count": null,
   "metadata": {
    "collapsed": false
   },
   "outputs": [],
   "source": [
    "class A() :\n",
    "    def __init__(self,name) :\n",
    "        self.name = name\n",
    "        \n",
    "a = A(\"dahl\")\n",
    "print(a.__dict__)\n",
    "\n",
    "if hasattr(a,\"name1\") :\n",
    "    print(a.__dict__['name'])\n",
    "else :\n",
    "    print(\" not exists \")\n",
    "    \n",
    "print(getattr(a,'name',None))"
   ]
  },
  {
   "cell_type": "markdown",
   "metadata": {},
   "source": [
    "## property를 클래스로 재정의해 보기 \n"
   ]
  },
  {
   "cell_type": "code",
   "execution_count": null,
   "metadata": {
    "collapsed": true
   },
   "outputs": [],
   "source": [
    "class Property(object):\n",
    "    \"Emulate PyProperty_Type() in Objects/descrobject.c\"\n",
    "\n",
    "    ## 인스턴스 생성 및 인스턴스 내부 메소드 등록\n",
    "    def __init__(self, fget=None, fset=None, fdel=None, doc=None):\n",
    "        self.fget = fget\n",
    "        self.fset = fset\n",
    "        self.fdel = fdel\n",
    "        if doc is None and fget is not None:\n",
    "            doc = fget.__doc__\n",
    "        self.__doc__ = doc\n",
    "\n",
    "    ## 인스턴스 명으로 호출시 디스크립터 메소드에 맞춰 처리\n",
    "    # 이름으로 호출시 \n",
    "    def __get__(self, obj, objtype=None):\n",
    "        if obj is None:\n",
    "            return self\n",
    "        if self.fget is None:\n",
    "            raise AttributeError(\"unreadable attribute\")\n",
    "        return self.fget(obj)\n",
    "    \n",
    "    # 인스턴스에 값이 할당될 경우 호출\n",
    "    def __set__(self, obj, value):\n",
    "        if self.fset is None:\n",
    "            raise AttributeError(\"can't set attribute\")\n",
    "        self.fset(obj, value)\n",
    "    # 인스턴스를 삭제시 \n",
    "    def __delete__(self, obj):\n",
    "        if self.fdel is None:\n",
    "            raise AttributeError(\"can't delete attribute\")\n",
    "        self.fdel(obj)\n",
    "\n",
    "        \n",
    "    ## 동일한 이름으로 메소드를 정의하므로 이를 새롭게 등록처리하기 위해 만든 메소드들\n",
    "    ## 파이썬은 오버로딩이 제공되지 않으므로 이를 데코레이터로 처리\n",
    "    def getter(self, fget):\n",
    "        print(type(self))\n",
    "        return type(self)(fget, self.fset, self.fdel, self.__doc__)\n",
    "\n",
    "    def setter(self, fset):\n",
    "        print(type(self))\n",
    "        print(dir(self))\n",
    "        return type(self)(self.fget, fset, self.fdel, self.__doc__)\n",
    "\n",
    "    def deleter(self, fdel):\n",
    "        return type(self)(self.fget, self.fset, fdel, self.__doc__)\n",
    "    "
   ]
  },
  {
   "cell_type": "markdown",
   "metadata": {},
   "source": [
    "### AA 클래스 내에 name을 Property로 정의\n",
    "\n",
    "    데코레이터 처리를 클래스로 하는 경우는 클래스 내의 메소드에 함수를 등록해서 사용하기 위함\n",
    "    \n",
    "       \n",
    "        - Property로 정의한 함수와 함수명.setter 로 정의한 함수는 동일한 이름이지만 데코레이터 처리시 함수명을 가지고 \n",
    "    \n",
    "           별도의 Propert 클래스의 인스턴스를 만들어서 처리한다.\n",
    "    \n",
    "    "
   ]
  },
  {
   "cell_type": "code",
   "execution_count": null,
   "metadata": {
    "collapsed": false
   },
   "outputs": [],
   "source": [
    "class AA() :\n",
    "    def __init__(self, name) :\n",
    "        self._name = name\n",
    "        \n",
    "    @Property\n",
    "    def name(self) :\n",
    "        return self._name\n",
    "    # Property로 생성된 name 인스턴스 내의 setter에 저장 \n",
    "    @name.setter\n",
    "    def name(self, value) :\n",
    "        self._name = value\n",
    "    \n",
    "a = AA('dahl')\n",
    "print(a.name)\n",
    "\n",
    "a.name = \"Moon\"\n",
    "print(a.name)\n",
    "\n"
   ]
  },
  {
   "cell_type": "code",
   "execution_count": null,
   "metadata": {
    "collapsed": true
   },
   "outputs": [],
   "source": []
  },
  {
   "cell_type": "markdown",
   "metadata": {},
   "source": [
    "### 프로퍼티로 만들어진 인스턴스 객체 내부의 메소드들 확인 "
   ]
  },
  {
   "cell_type": "code",
   "execution_count": null,
   "metadata": {
    "collapsed": false
   },
   "outputs": [],
   "source": [
    "print(type(AA.name))\n",
    "print(AA.name.__dict__)"
   ]
  },
  {
   "cell_type": "markdown",
   "metadata": {},
   "source": [
    "### 프로퍼티 생성자로 함수 지정하려면 동일한 메소드로 정의할 수 없음 \n"
   ]
  },
  {
   "cell_type": "code",
   "execution_count": null,
   "metadata": {
    "collapsed": false
   },
   "outputs": [],
   "source": [
    "\n",
    "class A() :\n",
    "    def __init__(self, name) :\n",
    "        self._name = name\n",
    "        \n",
    "    \n",
    "    def name(self) :\n",
    "        return self._name\n",
    "    def setter(self, value) :\n",
    "        self._name = value\n",
    "    name = Property(fget=name, fset=setter)\n",
    "    \n",
    "    \n",
    "a = A('dahl')\n",
    "print(a.name)\n",
    "\n",
    "a.name= \"Moon\"\n",
    "print(a.name)\n",
    "\n",
    "print(A.__dict__[\"name\"].__dict__)"
   ]
  },
  {
   "cell_type": "markdown",
   "metadata": {},
   "source": [
    "# 디스크립터 이해하기 \n",
    "\n",
    "\n",
    "     __get__\n",
    "     __set__\n",
    "     __delete__ \n",
    "     \n",
    "     디스크립터는 별도의 클래스를 정의해서 이를 프로퍼티로 사용할 수 있도록 만드는 것 \n",
    "     \n",
    "     \n",
    "     디스크립터 구조\n",
    "     \n",
    "         1. 디스크립터 클래스를 만든다.\n",
    "         2. 실제 인스턴스를 만들 클래스를 정의하고 변수에 디스크립터 인스턴스를 만든다.\n",
    "         3. 실제 인스턴스에 클래스에 정의된 변수를 접근하면 디스크립터가 작동된다.\n",
    "         \n",
    "     "
   ]
  },
  {
   "cell_type": "markdown",
   "metadata": {},
   "source": [
    "## 하나의 변수명만을 처리하는 디스크립터 \n",
    "\n",
    "    디스크립터로 하나의 고정 변수만 처리하도록 만든다.\n",
    "    \n",
    "    클래스의 변수에 디스크립터를 실행한다.\n",
    "    \n",
    "    클래스로 인스턴스를 만들고 변수에 getter/setter/deletter를 처리하면 해당 메소드를 불러서 인스턴스 namespace 내의 속성을 조작한다.\n",
    "    "
   ]
  },
  {
   "cell_type": "code",
   "execution_count": null,
   "metadata": {
    "collapsed": true
   },
   "outputs": [],
   "source": [
    "class Descriptor(object) :\n",
    "    def __init__(self,name):     \n",
    "        self.name = \"_\"+name\n",
    "\n",
    "    def __get__(self, instance, owner):\n",
    "         return instance.__dict__[self.name]\n",
    "\n",
    "    def __set__(self, instance, value=None):\n",
    "         instance.__dict__[self.name] = value\n",
    "         \n",
    "    def __delete__(self, instance):\n",
    "        del instance.__dict__[self.name]"
   ]
  },
  {
   "cell_type": "code",
   "execution_count": null,
   "metadata": {
    "collapsed": false
   },
   "outputs": [],
   "source": [
    "class A :\n",
    "    name = Descriptor(\"name\")\n",
    "    \n",
    "a = A()\n",
    "a.name = 'Dahl'\n",
    "print(a.name)\n",
    "print(a.__dict__)"
   ]
  },
  {
   "cell_type": "code",
   "execution_count": null,
   "metadata": {
    "collapsed": false
   },
   "outputs": [],
   "source": [
    "class B :\n",
    "    name = Descriptor(\"name\")\n",
    "    def __init__(self,name) :\n",
    "        self.name = name\n",
    "    \n",
    "b = B(\"dahl\")\n",
    "\n",
    "print(b.name)\n",
    "print(b.__dict__)"
   ]
  },
  {
   "cell_type": "markdown",
   "metadata": {},
   "source": [
    "### 변수명을 여러개 처리할 수 있도록 디스크립터 생성시 변수명을 받고 처리 \n",
    "\n",
    "    디스크립터 클래스와 사용 클래스의 변수에 개별적인 인스턴스를 만들어 사용하도록 한다.\n",
    "    \n",
    "    디스크립터 클래스의 메소드로 개별 인스턴스를 조작할 수 있도록 처리 \n",
    "    "
   ]
  },
  {
   "cell_type": "code",
   "execution_count": null,
   "metadata": {
    "collapsed": false
   },
   "outputs": [],
   "source": [
    "class D(object) :\n",
    "    def __init__(self, name) :\n",
    "        self._x = \"_\"+ name\n",
    "        \n",
    "    def __get__(self, instance, owner):\n",
    "         return instance.__dict__['_x']\n",
    "        \n",
    "    def __set__(self, instance, value):\n",
    "         instance.__dict__['_x'] = value\n",
    "        \n",
    "class D1() :\n",
    "    x = D(\"x\")\n",
    "    print(x)\n",
    "\n",
    "d = D1()\n",
    "d.x = 10\n",
    "\n",
    "print(d.__dict__)\n",
    "print(d.x)\n",
    "\n",
    "print(\" Class binding call \",D.__get__(D('x'),d,D1))\n"
   ]
  },
  {
   "cell_type": "code",
   "execution_count": null,
   "metadata": {
    "collapsed": false
   },
   "outputs": [],
   "source": [
    "class Dd(object) :\n",
    "    def __init__(self, name) :\n",
    "        self._x = \"_\"+ name\n",
    "        \n",
    "    def __get__(self, instance, owner):\n",
    "        print(\"__get__\")\n",
    "        return instance.__dict__['_x']\n",
    "        \n",
    "class Dd1() :\n",
    "    x = Dd(\"x\")\n",
    "    def __init__(self,x) :\n",
    "        print(\"__init__\")\n",
    "        self.x = x\n",
    "\n",
    "d = Dd1(10)\n",
    "print(d.__dict__)\n",
    "print(d.x)"
   ]
  },
  {
   "cell_type": "code",
   "execution_count": null,
   "metadata": {
    "collapsed": false
   },
   "outputs": [],
   "source": [
    "class Foo(object):\n",
    "    pass\n",
    "\n",
    "class Bar(object):\n",
    "    def baz(self):\n",
    "        print('Hi')        \n",
    "\n",
    "foo = Foo()\n",
    "foo.baz = Bar.baz.__get__(foo)\n",
    "\n",
    "print(foo.__dict__)\n",
    "foo.baz()\n"
   ]
  },
  {
   "cell_type": "markdown",
   "metadata": {},
   "source": [
    "### 파이썬은 다양한 메소드를 디스크립터로 처리\n"
   ]
  },
  {
   "cell_type": "markdown",
   "metadata": {},
   "source": [
    "#### object class에 점연산자도 디스크립터로 구현되어 있다"
   ]
  },
  {
   "cell_type": "code",
   "execution_count": null,
   "metadata": {
    "collapsed": false
   },
   "outputs": [],
   "source": [
    "print(object.__delattr__)\n",
    "print(type(object.__delattr__))\n",
    "print(dir(object.__delattr__))"
   ]
  },
  {
   "cell_type": "code",
   "execution_count": null,
   "metadata": {
    "collapsed": false
   },
   "outputs": [],
   "source": [
    "print(object.__setattr__)\n",
    "print(type(object.__setattr__))\n",
    "print(dir(object.__setattr__))"
   ]
  },
  {
   "cell_type": "code",
   "execution_count": null,
   "metadata": {
    "collapsed": false
   },
   "outputs": [],
   "source": [
    "print(object.__getattribute__)\n",
    "print(type(object.__getattribute__))\n",
    "print(dir(object.__getattribute__))"
   ]
  },
  {
   "cell_type": "markdown",
   "metadata": {},
   "source": [
    "####  int \" __add__ \" 메소드도 디스크립터로 구현되어 있음\n"
   ]
  },
  {
   "cell_type": "code",
   "execution_count": null,
   "metadata": {
    "collapsed": false
   },
   "outputs": [],
   "source": [
    "print(int.__add__)\n",
    "print(type(int.__add__))\n",
    "print(dir(int.__add__))"
   ]
  },
  {
   "cell_type": "markdown",
   "metadata": {},
   "source": [
    "####  내부 속성에 접근하는 getattr, setattr, delattr을 사용해서 접근\n"
   ]
  },
  {
   "cell_type": "code",
   "execution_count": null,
   "metadata": {
    "collapsed": false
   },
   "outputs": [],
   "source": [
    "class Descriptor(object) :\n",
    "    def __init__(self,name):     \n",
    "        self.name = '_'+ name\n",
    "\n",
    "    def __get__(self, instance, owner=None):\n",
    "         return getattr(instance,self.name,None)\n",
    "        \n",
    "    def __set__(self, instance, value):\n",
    "         setattr(instance, self.name, value)\n",
    "         \n",
    "    def __delete__(self, instance):\n",
    "        delattr(instance, self.name) \n",
    "\n",
    "class AA :\n",
    "    name = Descriptor(\"name\")\n",
    "    \n",
    "a = AA()\n",
    "a.name = 'Dahl'\n",
    "print(a.name)\n",
    "\n",
    "a.name = 'Moon'\n",
    "print(a.name)"
   ]
  },
  {
   "cell_type": "markdown",
   "metadata": {},
   "source": [
    "#### Descriptor 클래스에서 직접 메소드를 호출해서 AA의 인스턴스 내부 값 읽기 \n"
   ]
  },
  {
   "cell_type": "code",
   "execution_count": null,
   "metadata": {
    "collapsed": false
   },
   "outputs": [],
   "source": [
    "Descriptor.__get__(Descriptor(\"name\"),a)"
   ]
  },
  {
   "cell_type": "code",
   "execution_count": null,
   "metadata": {
    "collapsed": false
   },
   "outputs": [],
   "source": [
    "## 직접 인스턴스 내의 __dict__로 접근해서 처리\n",
    "class Descriptor :\n",
    "\n",
    "    def __init__(self, name) :\n",
    "        self.name = name\n",
    "\n",
    "    def __get__(self,instance, owner) :\n",
    "        print(\"__get__\")\n",
    "        return instance.__dict__[self.name]\n",
    "\n",
    "\n",
    "    def __set__(self,instance, value) :\n",
    "        print(\"__set__\")\n",
    "        instance.__dict__[self.name] = value\n",
    "\n",
    "class A :\n",
    "    name = Descriptor(\"name\")\n",
    "    def __init__(self, name) :\n",
    "        self.name = name\n",
    "\n",
    "        \n",
    "a = A(\"moon\")\n",
    "\n",
    "a.name = \"dahl\"\n",
    "print(a.name)\n"
   ]
  },
  {
   "cell_type": "code",
   "execution_count": null,
   "metadata": {
    "collapsed": false
   },
   "outputs": [],
   "source": [
    "## getattr, setattr 로 처리시 instance.name으로 접근하면 무한순환에러가 발생함\n",
    "## instance 이름을 \"_\" 넣고 처리\n",
    "\n",
    "class Descriptor :\n",
    "    def __init__(self, name) :\n",
    "        self.name = name\n",
    "      \n",
    "    def __get__(self,instance, owner) :\n",
    "        print(\"__get__\")\n",
    "        return getattr(instance, self.name )\n",
    "\n",
    "    def __set__(self,instance, value) :\n",
    "        print(\"__set__\")\n",
    "        setattr(instance, self.name, value)\n",
    "\n",
    "\n",
    "class A :\n",
    "    name = Descriptor(\"name\")\n",
    "    def __init__(self, name) :\n",
    "        print(\"__init__\")\n",
    "        #기존 name에 먼저 A  클래스에 존재 함 \n",
    "        self.name = name\n",
    "\n",
    "a = A(\"moon\")\n",
    "\n",
    "a.name = \"dahl\"\n",
    "print(a.name)\n"
   ]
  },
  {
   "cell_type": "code",
   "execution_count": null,
   "metadata": {
    "collapsed": true
   },
   "outputs": [],
   "source": [
    "class Prop(object):\n",
    "\n",
    "    def __get__(self, obj, objtype=None):\n",
    "        if obj is None:\n",
    "            return self\n",
    "        return obj._value * obj._multiplier\n",
    "\n",
    "    def __set__(self, obj, value):\n",
    "        if obj is None:\n",
    "            return self\n",
    "        obj._value = value\n",
    "\n",
    "class Obj(object):\n",
    "\n",
    "    val = Prop()\n",
    "\n",
    "    def __init__(self):\n",
    "        self._value = 1\n",
    "        self._multiplier = 1"
   ]
  },
  {
   "cell_type": "code",
   "execution_count": null,
   "metadata": {
    "collapsed": false
   },
   "outputs": [],
   "source": [
    "o = Obj() \n",
    "print(o)\n",
    "print(o.val)\n",
    "print(o.__dict__)\n",
    "o.val = 100\n",
    "print(o.val)\n",
    "print(o.__dict__)"
   ]
  },
  {
   "cell_type": "code",
   "execution_count": 1,
   "metadata": {
    "collapsed": true
   },
   "outputs": [],
   "source": [
    "class Prop(object):\n",
    "    \n",
    "    def __init__(self, name) :\n",
    "        self.name = \"_\" + name\n",
    "\n",
    "    def __get__(self, obj, objtype=None):\n",
    "        print(\" __get__\")\n",
    "        if obj is None:\n",
    "            return self\n",
    "        return obj.__dict__[self.name]\n",
    "\n",
    "    def __set__(self, obj, value):\n",
    "        print(\"__set__\")\n",
    "        if obj is None:\n",
    "            return self\n",
    "        obj.__dict__[self.name] = value\n"
   ]
  },
  {
   "cell_type": "code",
   "execution_count": 4,
   "metadata": {
    "collapsed": true
   },
   "outputs": [],
   "source": [
    "class Obj(object):\n",
    "\n",
    "    val = Prop(\"val\")\n",
    "\n",
    "    def __init__(self,val):\n",
    "        self.val = val\n",
    "     "
   ]
  },
  {
   "cell_type": "code",
   "execution_count": 5,
   "metadata": {
    "collapsed": false
   },
   "outputs": [
    {
     "name": "stdout",
     "output_type": "stream",
     "text": [
      "__set__\n",
      " __get__\n",
      "10\n",
      "{'_val': 10}\n"
     ]
    }
   ],
   "source": [
    "ob = Obj(10)\n",
    "\n",
    "print(ob.val)\n",
    "print(ob.__dict__)"
   ]
  },
  {
   "cell_type": "code",
   "execution_count": 6,
   "metadata": {
    "collapsed": false
   },
   "outputs": [
    {
     "name": "stdout",
     "output_type": "stream",
     "text": [
      "__set__\n",
      " __get__\n",
      " self.x :  dahl\n",
      " __get__\n",
      "dahl\n",
      "{'_x': 'dahl'}\n",
      " __get__\n",
      "<__main__.Prop object at 0x0000000004E7C358>\n"
     ]
    }
   ],
   "source": [
    "class Prop(object):\n",
    "    \n",
    "    def __init__(self, name) :\n",
    "        self.name = \"_\" + name\n",
    "\n",
    "    def __get__(self, obj, objtype=None):\n",
    "        print(\" __get__\")\n",
    "        if obj is None:\n",
    "            return self\n",
    "        return obj.__dict__[self.name]\n",
    "\n",
    "    def __set__(self, obj, value):\n",
    "        print(\"__set__\")\n",
    "        if obj is None:\n",
    "            return self\n",
    "        obj.__dict__[self.name] = value\n",
    "\n",
    "\n",
    "class A :\n",
    "    \n",
    "    x = Prop(\"x\")\n",
    "    def __init__(self,x) :\n",
    "        self.x = x\n",
    "        print(\" self.x : \",object.__getattribute__(self, \"x\"))\n",
    "        \n",
    "        \n",
    "a = A(\"dahl\")\n",
    "print(a.x)\n",
    "print(a.__dict__)\n",
    "print(A.x)"
   ]
  },
  {
   "cell_type": "code",
   "execution_count": null,
   "metadata": {
    "collapsed": false
   },
   "outputs": [],
   "source": [
    "class A :\n",
    "    \n",
    "    x = \"name\"\n",
    "    def __init__(self,x) :\n",
    "        self.x = x\n",
    "        \n",
    "a = A(\"dahl\")\n",
    "print(a.x)\n",
    "print(a.__dict__)\n",
    "print(A.x)"
   ]
  },
  {
   "cell_type": "code",
   "execution_count": null,
   "metadata": {
    "collapsed": false
   },
   "outputs": [],
   "source": [
    "\n",
    "print((1).__add__(2))\n",
    "\n",
    "print(int.__add__)\n",
    "\n",
    "a = int.__add__.__get__(1)\n",
    "print(a(2))\n",
    "\n",
    "print(int.__add__.__get__(1)(2))"
   ]
  },
  {
   "cell_type": "code",
   "execution_count": null,
   "metadata": {
    "collapsed": true
   },
   "outputs": [],
   "source": [
    "print(int.__add__.__get__)"
   ]
  },
  {
   "cell_type": "code",
   "execution_count": null,
   "metadata": {
    "collapsed": false
   },
   "outputs": [],
   "source": [
    "(100).__dict__"
   ]
  },
  {
   "cell_type": "code",
   "execution_count": null,
   "metadata": {
    "collapsed": false
   },
   "outputs": [],
   "source": [
    "dict.items"
   ]
  },
  {
   "cell_type": "code",
   "execution_count": 9,
   "metadata": {
    "collapsed": false
   },
   "outputs": [
    {
     "name": "stdout",
     "output_type": "stream",
     "text": [
      "6\n"
     ]
    }
   ],
   "source": [
    "def highorder(func, *args) :\n",
    "    return func(args)\n",
    "    \n",
    "print(highorder(sum,1,2,3))"
   ]
  },
  {
   "cell_type": "code",
   "execution_count": 10,
   "metadata": {
    "collapsed": false
   },
   "outputs": [
    {
     "name": "stdout",
     "output_type": "stream",
     "text": [
      "6\n"
     ]
    }
   ],
   "source": [
    "def highorder(func ) :\n",
    "    return func\n",
    "    \n",
    "ho = highorder(sum)\n",
    "\n",
    "print(ho([1,2,3]))"
   ]
  },
  {
   "cell_type": "code",
   "execution_count": 15,
   "metadata": {
    "collapsed": false
   },
   "outputs": [
    {
     "name": "stdout",
     "output_type": "stream",
     "text": [
      " 첫 번째 수6\n",
      " 두 번째 수18\n",
      "6\n"
     ]
    }
   ],
   "source": [
    "f = int(input(\" 첫 번째 수\"))\n",
    "s = int(input(\" 두 번째 수\"))\n",
    "\n",
    "if f > s :\n",
    "    f,s = s,f\n",
    "    \n",
    "for i in range(1,s+1) :\n",
    "    if (f % i == 0) & (s % i == 0) :\n",
    "        y = i\n",
    "print(y)"
   ]
  },
  {
   "cell_type": "code",
   "execution_count": null,
   "metadata": {
    "collapsed": true
   },
   "outputs": [],
   "source": []
  }
 ],
 "metadata": {
  "anaconda-cloud": {},
  "kernelspec": {
   "display_name": "Python [conda root]",
   "language": "python",
   "name": "conda-root-py"
  },
  "language_info": {
   "codemirror_mode": {
    "name": "ipython",
    "version": 3
   },
   "file_extension": ".py",
   "mimetype": "text/x-python",
   "name": "python",
   "nbconvert_exporter": "python",
   "pygments_lexer": "ipython3",
   "version": "3.5.2"
  }
 },
 "nbformat": 4,
 "nbformat_minor": 1
}
