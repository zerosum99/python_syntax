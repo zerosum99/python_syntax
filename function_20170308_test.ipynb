{
 "cells": [
  {
   "cell_type": "markdown",
   "metadata": {},
   "source": [
    "# 함수란\n",
    "\n",
    "    def 키워드를 이용해서 함수를 정의한 후에 호출해서 사용하지만 실질적으로는   \n",
    "    class function이 인스턴스를 def 키워드를 이용해서 정의해서 함수를 만드는 것이다.\n",
    "    \n",
    "    파이썬의 함수도 객체가 되는 이유는 실질적으로 class function에 의해 만들어진 객체이기 때문이다."
   ]
  },
  {
   "cell_type": "code",
   "execution_count": 115,
   "metadata": {
    "collapsed": false
   },
   "outputs": [
    {
     "name": "stdout",
     "output_type": "stream",
     "text": [
      "<class 'function'>\n",
      "True\n"
     ]
    }
   ],
   "source": [
    "# 함수 정의는 함수 호출전에 작성되어야 함\n",
    "def add(x,y) :\n",
    "    return x+y\n",
    "\n",
    "print(type(add))\n",
    "#함수는 호출이 가능해야 하므로 callabe 여부 체크\n",
    "print(callable(add))"
   ]
  },
  {
   "cell_type": "code",
   "execution_count": 114,
   "metadata": {
    "collapsed": false
   },
   "outputs": [
    {
     "name": "stdout",
     "output_type": "stream",
     "text": [
      "20\n"
     ]
    }
   ],
   "source": [
    "# 함수의 호출\n",
    "# 함수 정의 이름과 함수 호출연산자에 인자를 넣고 호출함\n",
    "\n",
    "print(add(10,10))\n"
   ]
  },
  {
   "cell_type": "code",
   "execution_count": 112,
   "metadata": {
    "collapsed": false
   },
   "outputs": [
    {
     "name": "stdout",
     "output_type": "stream",
     "text": [
      "<class 'function'>\n",
      "True\n"
     ]
    }
   ],
   "source": [
    "# class function에서 만들어진 함수 객체여부 확인\n",
    "print(type(add))\n",
    "print(isinstance(add, type(add)))"
   ]
  },
  {
   "cell_type": "markdown",
   "metadata": {},
   "source": [
    "### 함수는 리턴값을 제공한다.\n",
    "\n",
    "    파이썬은 return을 사용하지 않을 경우에도 무조건 None을 리턴한다."
   ]
  },
  {
   "cell_type": "code",
   "execution_count": 32,
   "metadata": {
    "collapsed": false
   },
   "outputs": [
    {
     "name": "stdout",
     "output_type": "stream",
     "text": [
      "20\n",
      "None\n"
     ]
    }
   ],
   "source": [
    "def add(x,y) :\n",
    "    print(x+y)\n",
    "    \n",
    "#None을 출력함    \n",
    "print(add(10,10))"
   ]
  },
  {
   "cell_type": "markdown",
   "metadata": {},
   "source": [
    "## 함수명, 함수변수, 함수객체 구분하기\n",
    "\n",
    "    함수를 정의하면 모듈 내의 global namespace에 Key(변수명)/value(함수객체)로 저장되고\n",
    "    실제 함수명은 __name__, __qualname__에 저장되어 관리한다"
   ]
  },
  {
   "cell_type": "code",
   "execution_count": null,
   "metadata": {
    "collapsed": true
   },
   "outputs": [],
   "source": [
    "# 함수 정의하면 변수명과 이름으로 구분해서 저장된다.\n",
    "#함수 명은 반드시 __name__, __qualname__ 으로 확인해야 함\n",
    "# 모듈에 함수를 정의하면 global namespace(dict 타입)에 Key(변수명)/value(함수객체)로 저장된다\n",
    "\n",
    "\n",
    "def add(x,y) :\n",
    "    return x+y\n",
    "\n",
    "print(add)\n",
    "print(globals()[\"add\"])\n",
    "print(add.__qualname__)\n",
    "print(add.__name__)\n",
    "print(add.__module__)"
   ]
  },
  {
   "cell_type": "markdown",
   "metadata": {},
   "source": [
    "## 함수의 파라미터와 인자\n",
    "    함수의 파라미터는 함수를 정의할 때 사용되어질 인자를 정의하는 변수들\n",
    "    함수의 인자는 함수를 호출할 때 실제 값을 말함\n",
    "    \n",
    "    call by sharing : 파라미터(변수, 키)와 인자(객체, 값) 연결은 객체 reference 전달로 연결되어 진다.\n",
    "    \n",
    "    "
   ]
  },
  {
   "cell_type": "code",
   "execution_count": 72,
   "metadata": {
    "collapsed": false
   },
   "outputs": [
    {
     "name": "stdout",
     "output_type": "stream",
     "text": [
      "<function add at 0x0000000005178620>\n",
      "1771045648 1771045680\n",
      "1771045648 1771045680\n",
      "{'x': 10, 'y': 11}\n",
      "21\n"
     ]
    }
   ],
   "source": [
    "# 함수 정의 및 파라미터 정의\n",
    "# 함수 파라미터(변수)와 함수 인자(객체)간의 연결 \n",
    "def add(x,y) :\n",
    "    print(id(x), id(y))\n",
    "    print(locals())\n",
    "    return x+y\n",
    "\n",
    "print(globals()['add'])\n",
    "\n",
    "a = 10\n",
    "b= 11\n",
    "print(id(a),id(b))\n",
    "print(add(a,b))\n"
   ]
  },
  {
   "cell_type": "markdown",
   "metadata": {},
   "source": [
    "###  함수의 파라미터는 함수 내부의 로컬 변수 \n",
    "    함수의 로컬변수는 dict 타입으로 관리됨 \n",
    "    함수 내부에 locals() 함수를 지정하거나 __code__내의 co_varnames로 로컬변수를 찾을 수 있음"
   ]
  },
  {
   "cell_type": "code",
   "execution_count": 18,
   "metadata": {
    "collapsed": false
   },
   "outputs": [
    {
     "name": "stdout",
     "output_type": "stream",
     "text": [
      "<class 'dict'>\n",
      "{'x': 10, 'y': 10}\n",
      "<code object add at 0x000000000505AAE0, file \"<ipython-input-18-7426fee3ea1e>\", line 1>\n",
      "('x', 'y')\n"
     ]
    }
   ],
   "source": [
    "# def로 정의한 변수를 함수 파라미터라고 하고 \n",
    "# 함수 파라미터는 함수의 로컬 변수가 됨\n",
    "def add(x,y) :\n",
    "    print(type(locals()))\n",
    "    return locals()\n",
    "\n",
    "print(add(10,10))\n",
    "print(add.__code__)\n",
    "print(add.__code__.co_varnames)"
   ]
  },
  {
   "cell_type": "markdown",
   "metadata": {},
   "source": [
    "## 함수의 파라미터 초기값 주기\n",
    "\n",
    "     함수 정의시 변수에 값을 할당하면 함수 호출시 인자가 부족할 경우에 초기값(__defaults__)에 저장된 값을 사용함\n",
    "     파라미터 초기값은 변동되지 않고 인자가 없을 때는 함수 호출시 마다 값이 참조됨"
   ]
  },
  {
   "cell_type": "code",
   "execution_count": 33,
   "metadata": {
    "collapsed": false
   },
   "outputs": [
    {
     "name": "stdout",
     "output_type": "stream",
     "text": [
      "(10,)\n",
      "20\n",
      "(10,)\n",
      "40\n"
     ]
    }
   ],
   "source": [
    "def add(x,y=10) :\n",
    "    return x+y\n",
    "\n",
    "print(add.__defaults__)\n",
    "print(add(10))\n",
    "print(add.__defaults__)\n",
    "print(add(10,30))"
   ]
  },
  {
   "cell_type": "markdown",
   "metadata": {},
   "source": [
    "## 함수 파라미터에 초기값을 가변 데이터 타입을 넣지 말아아 하는 이유\n",
    "\n",
    "    함수는 한번 처리되면 clear 되어야 하지면 초기값은 __defaults__ 보관되므로 모듈이 실행 종료될때까지 그 값이 유지된다.\n",
    "    그래서 초기값으로 가변데이터타입(list, dict)으로 처리시 함수 호출할 때마다 값이 추가된다.\n",
    "    \n",
    "    "
   ]
  },
  {
   "cell_type": "code",
   "execution_count": 116,
   "metadata": {
    "collapsed": false
   },
   "outputs": [
    {
     "name": "stdout",
     "output_type": "stream",
     "text": [
      "[10]\n",
      "[10, 10]\n",
      "[10, 10, 10]\n"
     ]
    }
   ],
   "source": [
    "# 초기값에 list나 dict 타입으로 설정하지 말아야 함\n",
    "\n",
    "def func(b,a=[]) :\n",
    "    a.append(b)\n",
    "    return a\n",
    "\n",
    "print(func(10))\n",
    "print(func(10))\n",
    "print(func(10))\n"
   ]
  },
  {
   "cell_type": "code",
   "execution_count": 118,
   "metadata": {
    "collapsed": false
   },
   "outputs": [
    {
     "name": "stdout",
     "output_type": "stream",
     "text": [
      "[10]\n",
      "[10]\n",
      "[10]\n"
     ]
    }
   ],
   "source": [
    "# 가변인자가 필요한 경우 해결 방안\n",
    "# 초기값을 Node으로 주고 내부에 list 등 가변 데이터 타입을 지정하면 함수 호출시 마다 새로운 값으로 처리\n",
    "def func(b,a=None) :\n",
    "    if a is None :\n",
    "        a = []\n",
    "    a.append(b)\n",
    "    return a\n",
    "\n",
    "print(func(10))\n",
    "print(func(10))\n",
    "print(func(10))"
   ]
  },
  {
   "cell_type": "markdown",
   "metadata": {},
   "source": [
    "### 함수의 파라미터 위치와 키워드 인자 구분하기\n",
    "\n",
    "     함수의 파라미터는 로컬변수와 동일하게 관리하므로 변수를 정의하면 \n",
    "     로컬 영역의 키값으로 세팅되고 호출시 인자가 들어오면 값으로 들어감\n",
    "     \n",
    "     위치인자란 함수의 정의된 순서대로 파라미터와 인자가 매핑되어 함수의 로컬변수에 키와 값으로 저장\n",
    "     키워드인자란 함수의 정의된 순서가 아닌 파라미터 이름과 매핑해서 함수의 로컬변수에 키와 값으로 저장\n",
    "     "
   ]
  },
  {
   "cell_type": "code",
   "execution_count": 34,
   "metadata": {
    "collapsed": false
   },
   "outputs": [
    {
     "name": "stdout",
     "output_type": "stream",
     "text": [
      "<class 'tuple'>\n",
      "{'a': 10, 'b': 20, 'x': 10, 'y': 20}\n",
      "30\n"
     ]
    }
   ],
   "source": [
    "def add(x,y) :\n",
    "    print(type(add.__code__.co_varnames))\n",
    "    a = locals()[add.__code__.co_varnames[0]]\n",
    "    b = locals()[add.__code__.co_varnames[1]]\n",
    "    print(locals())\n",
    "    return a+b\n",
    "\n",
    "\n",
    "print(add(10,20))\n"
   ]
  },
  {
   "cell_type": "code",
   "execution_count": 35,
   "metadata": {
    "collapsed": false
   },
   "outputs": [
    {
     "name": "stdout",
     "output_type": "stream",
     "text": [
      "<class 'tuple'>\n",
      "{'a': 10, 'b': 20, 'x': 10, 'y': 20}\n",
      "30\n"
     ]
    }
   ],
   "source": [
    "print(add(y=20, x=10))"
   ]
  },
  {
   "cell_type": "markdown",
   "metadata": {},
   "source": [
    "### 파라미터 지정시 순서\n",
    "\n",
    "    파라미터는 위치인자부터 키워드 인자 순으로 지정해야 처리됨\n",
    "    "
   ]
  },
  {
   "cell_type": "code",
   "execution_count": 21,
   "metadata": {
    "collapsed": false
   },
   "outputs": [
    {
     "ename": "TypeError",
     "evalue": "add() got multiple values for argument 'x'",
     "output_type": "error",
     "traceback": [
      "\u001b[0;31m---------------------------------------------------------------------------\u001b[0m",
      "\u001b[0;31mTypeError\u001b[0m                                 Traceback (most recent call last)",
      "\u001b[0;32m<ipython-input-21-37551222e7f9>\u001b[0m in \u001b[0;36m<module>\u001b[0;34m()\u001b[0m\n\u001b[0;32m----> 1\u001b[0;31m \u001b[0mprint\u001b[0m\u001b[1;33m(\u001b[0m\u001b[0madd\u001b[0m\u001b[1;33m(\u001b[0m\u001b[1;36m10\u001b[0m\u001b[1;33m,\u001b[0m\u001b[0mx\u001b[0m\u001b[1;33m=\u001b[0m\u001b[1;36m10\u001b[0m\u001b[1;33m)\u001b[0m\u001b[1;33m)\u001b[0m\u001b[1;33m\u001b[0m\u001b[0m\n\u001b[0m",
      "\u001b[0;31mTypeError\u001b[0m: add() got multiple values for argument 'x'"
     ]
    }
   ],
   "source": [
    "# 위치인자와 키워드 인자 혼용시 주의 사항\n",
    "# 위치인자부터 인식하고 키워드 인자를 인식하므로 동일한 이름이 여러번 사용하지 않도록 주의해야 함\n",
    "print(add(10,x=10))"
   ]
  },
  {
   "cell_type": "code",
   "execution_count": 22,
   "metadata": {
    "collapsed": false
   },
   "outputs": [
    {
     "ename": "SyntaxError",
     "evalue": "positional argument follows keyword argument (<ipython-input-22-bd4eb836edc1>, line 1)",
     "output_type": "error",
     "traceback": [
      "\u001b[0;36m  File \u001b[0;32m\"<ipython-input-22-bd4eb836edc1>\"\u001b[0;36m, line \u001b[0;32m1\u001b[0m\n\u001b[0;31m    print(add(x=10,20))\u001b[0m\n\u001b[0m                  ^\u001b[0m\n\u001b[0;31mSyntaxError\u001b[0m\u001b[0;31m:\u001b[0m positional argument follows keyword argument\n"
     ]
    }
   ],
   "source": [
    "# 함수 호출시 인자값을 넣을 때도 위치인자 후에 키워드 인자를 지정해야 함\n",
    "print(add(x=10,20))"
   ]
  },
  {
   "cell_type": "markdown",
   "metadata": {},
   "source": [
    "### 함수의 가변 위치 파라미터 처리\n",
    "\n",
    "     함수 가변 위치 파라미터 : 함수 정의시 *를 파라미터 이름 앞에 정의 하면 함수 호출시 인자들을 packing해서 tuple로 처리함\n",
    "     "
   ]
  },
  {
   "cell_type": "code",
   "execution_count": 25,
   "metadata": {
    "collapsed": false
   },
   "outputs": [
    {
     "name": "stdout",
     "output_type": "stream",
     "text": [
      " *args type <class 'tuple'>\n",
      "{'args': (1, 2, 3, 4, 5)}\n",
      "15\n"
     ]
    }
   ],
   "source": [
    "def add(*args) :\n",
    "    print(\" *args type\", type(args))\n",
    "    print(locals())\n",
    "    result = 0\n",
    "    for i in args :\n",
    "        result = result + i\n",
    "    return result\n",
    "\n",
    "print(add(1,2,3,4,5))"
   ]
  },
  {
   "cell_type": "markdown",
   "metadata": {},
   "source": [
    "### 함수의 가변 키워드 파라미터 처리\n",
    "\n",
    "     함수 가변 키워드 파라미터 : 함수 정의시 **를 파라미터 이름 앞에 정의 하면 함수 호출시 인자들을 packing해서 dict로 처리함\n",
    "     "
   ]
  },
  {
   "cell_type": "code",
   "execution_count": 26,
   "metadata": {
    "collapsed": false
   },
   "outputs": [
    {
     "name": "stdout",
     "output_type": "stream",
     "text": [
      " *args type <class 'dict'>\n",
      "{'kwargs': {'a': 4, 'b': 5, 'x': 1, 'y': 2, 'z': 3}}\n",
      "15\n"
     ]
    }
   ],
   "source": [
    "def add(**kwargs) :\n",
    "    print(\" *args type\", type(kwargs))\n",
    "    print(locals())\n",
    "    result = 0\n",
    "    for i in kwargs.values() :\n",
    "        result = result + i\n",
    "    return result\n",
    "\n",
    "print(add(x=1,y=2,z=3,a=4,b=5))"
   ]
  },
  {
   "cell_type": "markdown",
   "metadata": {},
   "source": [
    "## 가변 위치인자와 가변 키워드 인자를 같이 지정해서 사용하기\n",
    "\n",
    "    함수의 파라미터 정의시 가변위치인자와 가변 키원드 인자를 사용하면 모든 파라미터를 다 받을 수 있다.\n",
    "    \n",
    "\n",
    "    "
   ]
  },
  {
   "cell_type": "code",
   "execution_count": 120,
   "metadata": {
    "collapsed": false
   },
   "outputs": [
    {
     "name": "stdout",
     "output_type": "stream",
     "text": [
      "10\n",
      "13\n"
     ]
    }
   ],
   "source": [
    "def add(*args, **kwargs) :\n",
    "    result = 0\n",
    "    if args is not None :\n",
    "        for i in args :\n",
    "            result += i\n",
    "    if kwargs is not None :\n",
    "        for i in kwargs.values() :\n",
    "            result += i\n",
    "            \n",
    "    return result\n",
    "\n",
    "print(add(1,2,3,4))\n",
    "print(add(1,2,3,4,x=1,y=2))\n",
    "            \n",
    "            "
   ]
  },
  {
   "cell_type": "markdown",
   "metadata": {},
   "source": [
    "### 함수 인자 전달시 unpacking 처리(tuple/list)\n",
    "    \n",
    "    tuple/list 도 하나의 인자로 전달되므로 위치인자로 전달하기 위해서는 *를 붙여 unpacking 해야 함"
   ]
  },
  {
   "cell_type": "code",
   "execution_count": 28,
   "metadata": {
    "collapsed": false
   },
   "outputs": [
    {
     "name": "stdout",
     "output_type": "stream",
     "text": [
      " *args type <class 'tuple'>\n",
      "{'args': (1, 2, 3, 4, 5)}\n",
      "15\n"
     ]
    }
   ],
   "source": [
    "var_tuple = (1,2,3,4,5)\n",
    "def add(*args) :\n",
    "    print(\" *args type\", type(args))\n",
    "    print(locals())\n",
    "    result = 0\n",
    "    for i in args :\n",
    "        result = result + i\n",
    "    return result\n",
    "\n",
    "print(add(*var_tuple))"
   ]
  },
  {
   "cell_type": "code",
   "execution_count": 29,
   "metadata": {
    "collapsed": false
   },
   "outputs": [
    {
     "name": "stdout",
     "output_type": "stream",
     "text": [
      " *args type <class 'tuple'>\n",
      "{'args': (1, 2, 3, 4, 5)}\n",
      "15\n"
     ]
    }
   ],
   "source": [
    "var_list = [1,2,3,4,5]\n",
    "def add(*args) :\n",
    "    print(\" *args type\", type(args))\n",
    "    print(locals())\n",
    "    result = 0\n",
    "    for i in args :\n",
    "        result = result + i\n",
    "    return result\n",
    "\n",
    "print(add(*var_list))"
   ]
  },
  {
   "cell_type": "markdown",
   "metadata": {},
   "source": [
    "## 함수 인자 전달시 unpacking 처리(dict)\n",
    "\n",
    "    dict도 하나의 인자로 전달되므로 키워드인자로 전달하기 위해서는 **를 붙여 unpacking 해야 함\n",
    "    "
   ]
  },
  {
   "cell_type": "code",
   "execution_count": 37,
   "metadata": {
    "collapsed": false
   },
   "outputs": [
    {
     "name": "stdout",
     "output_type": "stream",
     "text": [
      "{'x': 1, 'y': 2, 'z': 3}\n",
      "6\n"
     ]
    }
   ],
   "source": [
    "# 함수 정의 파라미터와 unpacking된 dict 타입이 이름과 갯수가 같을 경우\n",
    "var_dict = {'x':1,'y':2, 'z':3}\n",
    "def add(x,y,z) :\n",
    "    print(locals())\n",
    "    \n",
    "    return x+y+z\n",
    "\n",
    "print(add(**var_dict))"
   ]
  },
  {
   "cell_type": "code",
   "execution_count": 30,
   "metadata": {
    "collapsed": false
   },
   "outputs": [
    {
     "name": "stdout",
     "output_type": "stream",
     "text": [
      " *args type <class 'dict'>\n",
      "{'kwargs': {'x': 1, 'y': 2, 'z': 3}}\n",
      "6\n"
     ]
    }
   ],
   "source": [
    "#가변 키워드 인자이므로 함수 정의시 파라미터 이름과 갯수를 확정하지 않음\n",
    "\n",
    "var_dict = {'x':1,'y':2, 'z':3}\n",
    "def add(**kwargs) :\n",
    "    print(\" *args type\", type(kwargs))\n",
    "    print(locals())\n",
    "    result = 0\n",
    "    for i in kwargs.values() :\n",
    "        result = result + i\n",
    "    return result\n",
    "\n",
    "print(add(**var_dict))"
   ]
  },
  {
   "cell_type": "markdown",
   "metadata": {},
   "source": [
    "## 함수 호출 이해하기\n",
    "\n",
    "    함수 호출 연산자 ( () )는 내부속성 __call__을 호출한다.\n",
    "    callable함수로 체크하고 __call__로 실제 작동되는 원리를 이해하기"
   ]
  },
  {
   "cell_type": "code",
   "execution_count": 108,
   "metadata": {
    "collapsed": false
   },
   "outputs": [
    {
     "name": "stdout",
     "output_type": "stream",
     "text": [
      "<method-wrapper '__call__' of function object at 0x00000000031B6E18>\n",
      "10\n",
      "10\n",
      "<class 'function'>\n",
      "10\n"
     ]
    }
   ],
   "source": [
    "def add(x,y) :\n",
    "    return x+y\n",
    "\n",
    "# __call__메소드로 호출하기\n",
    "print(add.__call__)\n",
    "print(add.__call__(5,5))\n",
    "\n",
    "# 호출연산자로 처리하기\n",
    "print(add(5,5))\n",
    "\n",
    "# 호출 연산자가 처리되는 방식\n",
    "# 함수 클래스 내의 메소드인 __call__에 함수 인스턴스 add, 파라미터를 주고 실행\n",
    "print(add.__class__)\n",
    "print(add.__class__.__call__(add, 5,5))"
   ]
  },
  {
   "cell_type": "markdown",
   "metadata": {},
   "source": [
    "## 익명함수 \n",
    "\n",
    "    파이썬에서는 이름없는 함수를 익명함수(lambda 키워드)로 inline으로 작성하도록 지원함\n",
    "   \n",
    "    lambda 키워드 다음에 파라미터를 주고 콜론(:) 이후에 로직을 준다.\n",
    "    \n",
    "    return 즉 결과값은 로직이 처리된 결과가 전달 됨"
   ]
  },
  {
   "cell_type": "code",
   "execution_count": 43,
   "metadata": {
    "collapsed": false
   },
   "outputs": [
    {
     "name": "stdout",
     "output_type": "stream",
     "text": [
      "10\n",
      "<lambda>\n",
      "10\n"
     ]
    }
   ],
   "source": [
    "#즉시 실행 익명함수 정의\n",
    "print((lambda x,y : x+y)(5,5))\n",
    "\n",
    "# 변수에 할당 후 재사용하기\n",
    "add = lambda x,y : x+y\n",
    "# 함수의 이름이 존재하지 않으므로 lambda로 출력\n",
    "print(add.__name__)\n",
    "print(add(5,5))"
   ]
  },
  {
   "cell_type": "code",
   "execution_count": 46,
   "metadata": {
    "collapsed": false
   },
   "outputs": [
    {
     "name": "stdout",
     "output_type": "stream",
     "text": [
      "10\n"
     ]
    }
   ],
   "source": [
    "# 익명함수의 로직부분에는 함수도 표현식이므로 사용이 가능\n",
    "def add(x,y) :\n",
    "    return x+y\n",
    "\n",
    "ad_lm = lambda x,y : add(x,y)\n",
    "print(ad_lm(5,5))"
   ]
  },
  {
   "cell_type": "markdown",
   "metadata": {},
   "source": [
    "## 함수 내부에 함수 정의해서 사용하기\n",
    "\n",
    "    함수 내부에 함수를 정의해서 추가적인 기능을 처리하기\n",
    "    \n",
    "       "
   ]
  },
  {
   "cell_type": "code",
   "execution_count": 48,
   "metadata": {
    "collapsed": false
   },
   "outputs": [
    {
     "name": "stdout",
     "output_type": "stream",
     "text": [
      "10\n"
     ]
    }
   ],
   "source": [
    "# 외부 함수는 단순히 파라미터를 받는 역할로 한정하기\n",
    "\n",
    "def outer(x,y) :\n",
    "    def inner(x,y) :\n",
    "        return x+y\n",
    "    return inner(x,y)\n",
    "\n",
    "print(outer(5,5))"
   ]
  },
  {
   "cell_type": "markdown",
   "metadata": {},
   "source": [
    "## 함수는 객체\n",
    "\n",
    "     함수가 객체로 정의되어 있으므로 함수를 인자로 전달 및 함수 처리 결과값으로 전달\n",
    "     변수에 할당된 함수는 함수 호출연산자( () )으로 호출해서 실행시킬 수 있음 "
   ]
  },
  {
   "cell_type": "code",
   "execution_count": 61,
   "metadata": {
    "collapsed": false
   },
   "outputs": [
    {
     "name": "stdout",
     "output_type": "stream",
     "text": [
      "10\n"
     ]
    }
   ],
   "source": [
    "#함수를 인자로 전달\n",
    "\n",
    "def add(x,y) :\n",
    "    return x+y\n",
    "\n",
    "def func(func, x,y) :\n",
    "    return func(x,y)\n",
    "\n",
    "print(func(add,5,5))"
   ]
  },
  {
   "cell_type": "code",
   "execution_count": 63,
   "metadata": {
    "collapsed": false
   },
   "outputs": [
    {
     "name": "stdout",
     "output_type": "stream",
     "text": [
      "10\n"
     ]
    }
   ],
   "source": [
    "# 함수를 결과값으로 전달하고 변수 할당후에 실행\n",
    "def add(x,y) :\n",
    "    return x+y\n",
    "\n",
    "def func(func) :\n",
    "    return func\n",
    "\n",
    "var_func = func(add)\n",
    "print(var_func(5,5))"
   ]
  },
  {
   "cell_type": "markdown",
   "metadata": {},
   "source": [
    "## 내부 함수를 외부로 전달해서 처리하기 : 클로저(Closure) 환경\n",
    "\n",
    "    클로저 환경을 구성하면 장점은 함수 내에 정의된 자유변수 즉 함수 내부 로컬변수에 대해 재사용이 가능하다"
   ]
  },
  {
   "cell_type": "code",
   "execution_count": 52,
   "metadata": {
    "collapsed": false
   },
   "outputs": [
    {
     "name": "stdout",
     "output_type": "stream",
     "text": [
      "inner\n",
      "10\n",
      "15\n"
     ]
    }
   ],
   "source": [
    "# 내부함수를 외부로 배출해서 함수를 나눠 처리하기\n",
    "# outer 함수 호출시 인자 값이 자유변수를 구성해서 계속 함수를 호출할 경우에도 고정값처럼 사용됨\n",
    "def outer(x) :\n",
    "    def inner(y) :\n",
    "        return x+y\n",
    "    return inner\n",
    "\n",
    "inner = outer(5)\n",
    "print(inner.__name__)\n",
    "print(inner(5))\n",
    "print(inner(10))"
   ]
  },
  {
   "cell_type": "markdown",
   "metadata": {},
   "source": [
    "##  클로저 환경 확인하기\n",
    "\n",
    "     함수에는 __code__ 속성(code class)을 가지고 있고  자유변수의 변수명을 co_freevars에 보관하고 있고\n",
    "     값을 __closure__ 내부에 가지고 있음\n",
    "     \n",
    "     내부 함수를 외부로 전달해서 계속 활용하므로 자유변수가 계속 사용되는 것을 볼수 있음"
   ]
  },
  {
   "cell_type": "code",
   "execution_count": 60,
   "metadata": {
    "collapsed": false
   },
   "outputs": [
    {
     "name": "stdout",
     "output_type": "stream",
     "text": [
      "(<cell at 0x00000000050D24F8: int object at 0x0000000069900270>,)\n",
      "<cell at 0x00000000050D24F8: int object at 0x0000000069900270>\n",
      "<class 'code'>\n",
      "('x',)\n",
      "5\n"
     ]
    }
   ],
   "source": [
    "def outer(x) :\n",
    "    def inner(y) :\n",
    "        return x+y\n",
    "    return inner\n",
    "\n",
    "inner = outer(5)\n",
    "print(inner.__closure__)\n",
    "print(inner.__closure__[0])\n",
    "print(type(inner.__code__))\n",
    "print(inner.__code__.co_freevars)\n",
    "print(inner.__closure__[0].cell_contents)"
   ]
  },
  {
   "cell_type": "markdown",
   "metadata": {},
   "source": [
    "## 함수 내부 속성 이해하기\n"
   ]
  },
  {
   "cell_type": "code",
   "execution_count": 85,
   "metadata": {
    "collapsed": false
   },
   "outputs": [
    {
     "name": "stdout",
     "output_type": "stream",
     "text": [
      "{'clsname': 'func object attr'}\n",
      "['__annotations__', '__call__', '__class__', '__closure__', '__code__', '__defaults__', '__delattr__', '__dict__', '__dir__', '__doc__', '__eq__', '__format__', '__ge__', '__get__', '__getattribute__', '__globals__', '__gt__', '__hash__', '__init__', '__kwdefaults__', '__le__', '__lt__', '__module__', '__name__', '__ne__', '__new__', '__qualname__', '__reduce__', '__reduce_ex__', '__repr__', '__setattr__', '__sizeof__', '__str__', '__subclasshook__', 'clsname']\n"
     ]
    }
   ],
   "source": [
    "def add(x:int,y:int)-> int:\n",
    "    return x+y\n",
    "\n",
    "\n",
    "add.clsname = \"func object attr\"\n",
    "print(add.__dict__)\n",
    "print(dir(add))"
   ]
  },
  {
   "cell_type": "code",
   "execution_count": 81,
   "metadata": {
    "collapsed": false
   },
   "outputs": [
    {
     "name": "stdout",
     "output_type": "stream",
     "text": [
      "__main__\n",
      "<class 'function'>\n",
      "add\n",
      "add\n",
      "{'return': <class 'int'>, 'y': <class 'int'>, 'x': <class 'int'>}\n"
     ]
    }
   ],
   "source": [
    "#함수에 대한 기본 정보확인\n",
    "print(add.__module__)\n",
    "print(add.__class__)\n",
    "print(add.__name__)\n",
    "print(add.__qualname__)\n",
    "\n",
    "# 파라미터와 결과값에 대한 주석 정보 제공\n",
    "print(add.__annotations__)"
   ]
  },
  {
   "cell_type": "code",
   "execution_count": 77,
   "metadata": {
    "collapsed": false
   },
   "outputs": [
    {
     "name": "stdout",
     "output_type": "stream",
     "text": [
      "{'clsname': 'func object attr'}\n"
     ]
    }
   ],
   "source": [
    "# 함수가 객체일 경우 네임스페이스 \n",
    "print(add.__dict__)"
   ]
  },
  {
   "cell_type": "code",
   "execution_count": 86,
   "metadata": {
    "collapsed": false
   },
   "outputs": [
    {
     "name": "stdout",
     "output_type": "stream",
     "text": [
      "{'clsname'}\n",
      "{'__module__', '__sizeof__', '__reduce_ex__', '__code__', '__dir__', '__gt__', '__ne__', '__repr__', '__init__', '__ge__', '__get__', '__format__', '__new__', '__dict__', '__eq__', '__call__', '__getattribute__', '__hash__', '__le__', '__subclasshook__', '__class__', '__doc__', '__kwdefaults__', '__setattr__', '__qualname__', '__delattr__', '__globals__', '__defaults__', '__lt__', '__reduce__', '__annotations__', '__str__', '__closure__', '__name__'}\n"
     ]
    }
   ],
   "source": [
    "# function class 내부 정보 확인하기\n",
    "inst = set(dir(add))\n",
    "cls  = set(dir(add.__class__))\n",
    "\n",
    "diff = inst - cls\n",
    "print(diff)\n",
    "print(cls)"
   ]
  },
  {
   "cell_type": "code",
   "execution_count": 87,
   "metadata": {
    "collapsed": false
   },
   "outputs": [
    {
     "name": "stdout",
     "output_type": "stream",
     "text": [
      "['__class__', '__delattr__', '__dir__', '__doc__', '__eq__', '__format__', '__ge__', '__getattribute__', '__gt__', '__hash__', '__init__', '__le__', '__lt__', '__ne__', '__new__', '__reduce__', '__reduce_ex__', '__repr__', '__setattr__', '__sizeof__', '__str__', '__subclasshook__', 'co_argcount', 'co_cellvars', 'co_code', 'co_consts', 'co_filename', 'co_firstlineno', 'co_flags', 'co_freevars', 'co_kwonlyargcount', 'co_lnotab', 'co_name', 'co_names', 'co_nlocals', 'co_stacksize', 'co_varnames']\n"
     ]
    }
   ],
   "source": [
    "# code class 내부 정보 확인하기\n",
    "print(dir(add.__code__))"
   ]
  },
  {
   "cell_type": "code",
   "execution_count": 103,
   "metadata": {
    "collapsed": false
   },
   "outputs": [
    {
     "name": "stdout",
     "output_type": "stream",
     "text": [
      "2\n",
      "b'|\\x00\\x00|\\x01\\x00\\x17S'\n",
      "add\n",
      "2\n"
     ]
    }
   ],
   "source": [
    "#함수 내의 파라미터 갯수\n",
    "print(add.__code__.co_argcount)\n",
    "# 함수 바이너리 코드 명령어\n",
    "print(add.__code__.co_code)\n",
    "\n",
    "print(add.__code__.co_name)\n",
    "print(add.__code__.co_nlocals)"
   ]
  },
  {
   "cell_type": "code",
   "execution_count": 98,
   "metadata": {
    "collapsed": false
   },
   "outputs": [
    {
     "name": "stdout",
     "output_type": "stream",
     "text": [
      "('x',)\n",
      "(<cell at 0x00000000050D2A38: int object at 0x0000000069900270>,)\n",
      "<cell at 0x00000000050D2A38: int object at 0x0000000069900270>\n",
      "<class 'code'>\n",
      "('x',)\n",
      "5\n"
     ]
    }
   ],
   "source": [
    "def outer(x) :\n",
    "    z = 0\n",
    "    def inner(y) :\n",
    "        return x+y\n",
    "    return inner\n",
    "\n",
    "inner = outer(5)\n",
    "# 외부 함수 변수중에 내부함수에서 관련된 변수\n",
    "print(outer.__code__.co_cellvars)\n",
    "print(inner.__closure__)\n",
    "print(inner.__closure__[0])\n",
    "print(type(inner.__code__))\n",
    "print(inner.__code__.co_freevars)\n",
    "print(inner.__closure__[0].cell_contents)"
   ]
  },
  {
   "cell_type": "code",
   "execution_count": null,
   "metadata": {
    "collapsed": true
   },
   "outputs": [],
   "source": []
  }
 ],
 "metadata": {
  "kernelspec": {
   "display_name": "Python [conda root]",
   "language": "python",
   "name": "conda-root-py"
  },
  "language_info": {
   "codemirror_mode": {
    "name": "ipython",
    "version": 3
   },
   "file_extension": ".py",
   "mimetype": "text/x-python",
   "name": "python",
   "nbconvert_exporter": "python",
   "pygments_lexer": "ipython3",
   "version": "3.5.2"
  }
 },
 "nbformat": 4,
 "nbformat_minor": 1
}
