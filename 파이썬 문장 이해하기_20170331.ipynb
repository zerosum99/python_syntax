{
 "cells": [
  {
   "cell_type": "markdown",
   "metadata": {},
   "source": [
    "## 줄 들여쓰기 (Lines and Indentation):\n",
    "\n",
    "    파이썬 프로그램 시 첫번째 주의 사항.\n",
    "    \n",
    "    클래스와 함수 정의시 코드 블럭을 표시하거나 흐름 제어 할 중괄호가 없다.\n",
    "    \n",
    "    코드블럭은 줄 들여쓰기에 의해 엄격히 적용 된다.\n",
    "    \n",
    "    들여쓰기는 공백(Space), 탭(Tab) 모두 가능.\n",
    "    \n",
    "    단, 들여쓰기 공백 수는 블럭내에 동일 수로 해야 함.\n",
    "    "
   ]
  },
  {
   "cell_type": "markdown",
   "metadata": {},
   "source": [
    "###  함수 정의 이후 :  다음에 4칸 들여쓰기가 되어야 함.\n",
    "\n",
    "    : 는 블럭구문을 하는 표시이므로 반드시 이후에 작성된 문장은 4칸을 들여쓰기 해야 함\n"
   ]
  },
  {
   "cell_type": "code",
   "execution_count": 140,
   "metadata": {
    "collapsed": false
   },
   "outputs": [
    {
     "ename": "IndentationError",
     "evalue": "expected an indented block (<ipython-input-140-5f0480a001d3>, line 2)",
     "output_type": "error",
     "traceback": [
      "\u001b[0;36m  File \u001b[0;32m\"<ipython-input-140-5f0480a001d3>\"\u001b[0;36m, line \u001b[0;32m2\u001b[0m\n\u001b[0;31m    pass\u001b[0m\n\u001b[0m       ^\u001b[0m\n\u001b[0;31mIndentationError\u001b[0m\u001b[0;31m:\u001b[0m expected an indented block\n"
     ]
    }
   ],
   "source": [
    "def a() :\n",
    "pass"
   ]
  },
  {
   "cell_type": "markdown",
   "metadata": {},
   "source": [
    "## 멀티 라인 문 (Multi-Line Statements):\n",
    "\n",
    "    파이썬은 일반적으로 새로운 줄이 되면 끝난다.\n",
    "    \n",
    "    그러나 줄 연속 문자(\\)의 사용으로 줄을 계속 사용할 수 있다.\n"
   ]
  },
  {
   "cell_type": "code",
   "execution_count": 141,
   "metadata": {
    "collapsed": false
   },
   "outputs": [
    {
     "name": "stdout",
     "output_type": "stream",
     "text": [
      "item_oneitem_twoitem_three\n"
     ]
    }
   ],
   "source": [
    "total = \"item_one\" + \\\n",
    "        \"item_two\" + \\\n",
    "        \"item_three\"\n",
    "        \n",
    "print(total)"
   ]
  },
  {
   "cell_type": "code",
   "execution_count": 143,
   "metadata": {
    "collapsed": false
   },
   "outputs": [
    {
     "name": "stdout",
     "output_type": "stream",
     "text": [
      "(1, 2, 3, 4, 5, 6)\n"
     ]
    }
   ],
   "source": [
    "# (), [], {} 등에 같이 쓰일 경우는 멀티라인이 필요 없음\n",
    "t = (1,2,3,\n",
    "    4,5,6)\n",
    "print(t)"
   ]
  },
  {
   "cell_type": "markdown",
   "metadata": {},
   "source": [
    "## 인용 (Quotation):\n",
    "\n",
    "    single('), double(\"), triple(''' or \"\"\") 를 사용하여 문자열을 감싸서 사용한다.\n",
    "\n",
    "    triple 따음표는 여러 줄에 걸쳐 문자열을 사용할 수 있다.\n",
    "\n",
    "    소스\n",
    "\n",
    "    word = 'word'\n",
    "    sentence = \"This is a sentence.\"\n",
    "    paragraph = \"\"\"This is a paragraph. It is\n",
    "    made up of multiple lines and sentences.\"\"\"\n",
    "    \n",
    "    "
   ]
  },
  {
   "cell_type": "code",
   "execution_count": 1,
   "metadata": {
    "collapsed": false
   },
   "outputs": [
    {
     "name": "stdout",
     "output_type": "stream",
     "text": [
      "word\n",
      "This is a sentence.\n",
      "This is a paragraph. It is\n",
      "made up of multiple lines and sentences.\n"
     ]
    }
   ],
   "source": [
    "word = 'word'\n",
    "sentence = \"This is a sentence.\"\n",
    "paragraph = \"\"\"This is a paragraph. It is\n",
    "made up of multiple lines and sentences.\"\"\"\n",
    "\n",
    "print(word)\n",
    "print(sentence)\n",
    "print(paragraph)"
   ]
  },
  {
   "cell_type": "code",
   "execution_count": 1,
   "metadata": {
    "collapsed": false
   },
   "outputs": [
    {
     "name": "stdout",
     "output_type": "stream",
     "text": [
      "doc string \n",
      "Help on function a in module __main__:\n",
      "\n",
      "a()\n",
      "    doc string\n",
      "\n"
     ]
    }
   ],
   "source": [
    "# 인용을 이용해서 함수 __doc__에 설명자료 넣기 \n",
    "\n",
    "def a() :\n",
    "    \"doc string \"\n",
    "    \n",
    "print(a.__doc__)\n",
    "\n",
    "help(a)"
   ]
  },
  {
   "cell_type": "code",
   "execution_count": 149,
   "metadata": {
    "collapsed": false
   },
   "outputs": [
    {
     "name": "stdout",
     "output_type": "stream",
     "text": [
      "doc string \n",
      "Help on function a in module __main__:\n",
      "\n",
      "a()\n",
      "    doc string\n",
      "\n",
      "None\n"
     ]
    }
   ],
   "source": [
    "\n",
    "# 인용을 이용해서 클래스  __doc__에 설명자료 넣기 \n",
    "\n",
    "class A() :\n",
    "    \"doc string \"\n",
    "    \n",
    "print(a.__doc__)\n",
    "\n",
    "print(help(a))"
   ]
  },
  {
   "cell_type": "markdown",
   "metadata": {},
   "source": [
    "## 식별자 (Identifiers):\n",
    "\n",
    "    파이썬 식별자는 변수, 함수, 클래스, 모듈 또는 다른 개체를 식별하는데 사용되는 이름이다.\n",
    "    \n",
    "    식별자는 문자 A~Z로 시작하고 밑줄(_), 숫자(0~9) 를 사용할 수 있다.\n",
    "    \n",
    "    파이썬은 문자 @, $, %는 식별자로 사용할 수 없다.\n",
    "    \n",
    "     파이썬은 대소문자를 구분한다.\n",
    "    "
   ]
  },
  {
   "cell_type": "code",
   "execution_count": 138,
   "metadata": {
    "collapsed": false
   },
   "outputs": [
    {
     "name": "stdout",
     "output_type": "stream",
     "text": [
      "abcdefghijklmnopqrstuvwxyzABCDEFGHIJKLMNOPQRSTUVWXYZ\n",
      "0123456789\n",
      "!\"#$%&'()*+,-./:;<=>?@[\\]^_`{|}~\n",
      "' '\n",
      "'\\t'\n",
      "'\\n'\n",
      "'\\r'\n",
      "'\\x0b'\n",
      "'\\x0c'\n"
     ]
    }
   ],
   "source": [
    "import string\n",
    "\n",
    "print(string.ascii_letters)\n",
    "print(string.digits)\n",
    "print(string.punctuation)\n",
    "for i in string.whitespace :\n",
    "    print(\"{!r}\".format(i))\n"
   ]
  },
  {
   "cell_type": "code",
   "execution_count": 72,
   "metadata": {
    "collapsed": true
   },
   "outputs": [],
   "source": [
    "v = 1\n",
    "# 변수명을 v 로 정의"
   ]
  },
  {
   "cell_type": "code",
   "execution_count": 74,
   "metadata": {
    "collapsed": false
   },
   "outputs": [
    {
     "name": "stdout",
     "output_type": "stream",
     "text": [
      "a\n"
     ]
    }
   ],
   "source": [
    "# 함수 식별자는 __name__에 관리한다\n",
    "\n",
    "def a() :\n",
    "    pass\n",
    "\n",
    "print(a.__name__)"
   ]
  },
  {
   "cell_type": "code",
   "execution_count": 75,
   "metadata": {
    "collapsed": false
   },
   "outputs": [
    {
     "name": "stdout",
     "output_type": "stream",
     "text": [
      "A\n"
     ]
    }
   ],
   "source": [
    "# 클래스 식별자는 __name__에 관리한다\n",
    "\n",
    "class A:\n",
    "    pass\n",
    "\n",
    "print(A.__name__)"
   ]
  },
  {
   "cell_type": "code",
   "execution_count": 76,
   "metadata": {
    "collapsed": false
   },
   "outputs": [
    {
     "name": "stdout",
     "output_type": "stream",
     "text": [
      "Writing aaa.py\n"
     ]
    }
   ],
   "source": [
    "%%writefile aaa.py\n",
    "# 클래스 식별자는 __name__에 관리한다\n",
    "\n",
    "class A:\n",
    "    pass\n",
    "\n",
    "print(A.__name__)"
   ]
  },
  {
   "cell_type": "code",
   "execution_count": 78,
   "metadata": {
    "collapsed": false
   },
   "outputs": [
    {
     "name": "stdout",
     "output_type": "stream",
     "text": [
      "aaa\n"
     ]
    }
   ],
   "source": [
    "# 모듈에 대한 식별자도 __name__에서 관리\n",
    "import aaa\n",
    "\n",
    "print(aaa.__name__)"
   ]
  },
  {
   "cell_type": "markdown",
   "metadata": {},
   "source": [
    "## 예약어 (Reserved Words):\n",
    "\n",
    "    예약어는 모두 30개이다.\n",
    "    \n",
    "    예약어는 상수 또는 변수 나 다른 식별자의 이름으로 사용 할 수 없다.\n",
    "    \n",
    "    예약어는 모두 소문자이다."
   ]
  },
  {
   "cell_type": "code",
   "execution_count": 5,
   "metadata": {
    "collapsed": false
   },
   "outputs": [
    {
     "name": "stdout",
     "output_type": "stream",
     "text": [
      "Help on function pprint in module pprint:\n",
      "\n",
      "pprint(object, stream=None, indent=1, width=80, depth=None, *, compact=False)\n",
      "    Pretty-print a Python object to a stream [default is sys.stdout].\n",
      "\n"
     ]
    }
   ],
   "source": [
    "help(pprint.pprint)"
   ]
  },
  {
   "cell_type": "code",
   "execution_count": 7,
   "metadata": {
    "collapsed": false
   },
   "outputs": [
    {
     "name": "stdout",
     "output_type": "stream",
     "text": [
      "['False', 'None', 'True', 'and', 'as', 'assert', 'break',\n",
      " 'class', 'continue', 'def', 'del', 'elif', 'else',\n",
      " 'except', 'finally', 'for', 'from', 'global', 'if',\n",
      " 'import', 'in', 'is', 'lambda', 'nonlocal', 'not', 'or',\n",
      " 'pass', 'raise', 'return', 'try', 'while', 'with',\n",
      " 'yield']\n"
     ]
    }
   ],
   "source": [
    "import keyword\n",
    "import pprint\n",
    "\n",
    "pprint.pprint(keyword.kwlist,width=60,compact= True)"
   ]
  },
  {
   "cell_type": "markdown",
   "metadata": {},
   "source": [
    "## 연산자  \n",
    "\n",
    "\n",
    "     Operator\t        Description\n",
    "      **\t            지수 (전원으로 인상)\n",
    "      ~ + -\t            Ccomplement, 단항 플러스와 마이너스 (마지막 두의 메서드 이름은 + @이며, - @)\n",
    "      * / % //\t        곱하기, 나누기, 나머지, 몫\n",
    "      + -\t            덧셈과 뺄셈\n",
    "      >> <<\t            좌우 비트 시프트\n",
    "       &\t            비트 'AND'\n",
    "      ^ |\t             비트 전용 'OR'와 정기적 인 'OR'\n",
    "      <= < > >=\t         비교 연산자\n",
    "      <> == !=\t                  평등 연산자\n",
    "       = %= /= //= -= += *= **=\t   할당 연산자\n",
    "      is is not\t                   식별 연산자\n",
    "      in not in\t                   맴버 연산자\n",
    "      not or and\t                논리 연산자"
   ]
  },
  {
   "cell_type": "code",
   "execution_count": 67,
   "metadata": {
    "collapsed": false
   },
   "outputs": [
    {
     "data": {
      "text/plain": [
       "(20, 0, 100)"
      ]
     },
     "execution_count": 67,
     "metadata": {},
     "output_type": "execute_result"
    }
   ],
   "source": [
    "## 산술 연산자 : + - *\n",
    "10 + 10, 10-10, 10*10 "
   ]
  },
  {
   "cell_type": "code",
   "execution_count": 71,
   "metadata": {
    "collapsed": false
   },
   "outputs": [
    {
     "name": "stdout",
     "output_type": "stream",
     "text": [
      "1.0\n",
      "1\n",
      "0\n",
      "(1, 0)\n"
     ]
    }
   ],
   "source": [
    "## 산술 연산자 : / // % \n",
    "# 실수 나누기 floor divide\n",
    "print(10/10)\n",
    "# 정수 나누기 true divide \n",
    "print(10//10)\n",
    "\n",
    "# mode \n",
    "print(10%10)\n",
    "\n",
    "# divide mode 함수\n",
    "print(divmod(10,10))"
   ]
  },
  {
   "cell_type": "markdown",
   "metadata": {},
   "source": [
    "# 표현식이란\n",
    "\n",
    "    리터럴 등 값으로 평가가 되는 것을 말함"
   ]
  },
  {
   "cell_type": "markdown",
   "metadata": {},
   "source": [
    "### 리터럴은 값을 표현하는 방식 "
   ]
  },
  {
   "cell_type": "code",
   "execution_count": 56,
   "metadata": {
    "collapsed": false
   },
   "outputs": [
    {
     "data": {
      "text/plain": [
       "1"
      ]
     },
     "execution_count": 56,
     "metadata": {},
     "output_type": "execute_result"
    }
   ],
   "source": [
    "# 숫자 정의 : 리터털 \n",
    "1"
   ]
  },
  {
   "cell_type": "markdown",
   "metadata": {},
   "source": [
    "##  컴프리헨션 또는 지능형 표현식\n",
    "\n",
    "    새로운 인스턴스를 만들때만 사용하는 것이 좋다.\n",
    "\n",
    "    지능형 리스트 : 리스트를 특정 시점에 생성시키는 방식\n",
    "    [ 표현식 for 표현식 in iterable/iterator if 표현식]\n",
    "    \n",
    "    지능형 dict : dict를 특정 시점에 생성시키는 방식\n",
    "    {key: value 표현식  for 표현식 in iterable/iterator if 표현식}\n",
    "    \n",
    "     지능형 set : dict를 특정 시점에 생성시키는 방식\n",
    "    {key 표현식  for 표현식 in iterable/iterator if 표현식}\n",
    "    "
   ]
  },
  {
   "cell_type": "code",
   "execution_count": 57,
   "metadata": {
    "collapsed": false
   },
   "outputs": [
    {
     "name": "stdout",
     "output_type": "stream",
     "text": [
      "[0, 2, 4, 6, 8]\n"
     ]
    }
   ],
   "source": [
    "# 짝수를 출력하는 지능형 리스트 \n",
    "print([x for x in range(0,10) if x % 2 == 0])\n"
   ]
  },
  {
   "cell_type": "code",
   "execution_count": 58,
   "metadata": {
    "collapsed": false
   },
   "outputs": [
    {
     "name": "stdout",
     "output_type": "stream",
     "text": [
      "{0: 0, 8: 8, 2: 2, 4: 4, 6: 6}\n"
     ]
    }
   ],
   "source": [
    "# 짝수를 출력하는 지능형 dict\n",
    "print({x:x for x in range(0,10) if x % 2 == 0})\n"
   ]
  },
  {
   "cell_type": "code",
   "execution_count": 59,
   "metadata": {
    "collapsed": false
   },
   "outputs": [
    {
     "name": "stdout",
     "output_type": "stream",
     "text": [
      "{0, 8, 2, 4, 6}\n"
     ]
    }
   ],
   "source": [
    "# 짝수를 출력하는 지능형 set\n",
    "print({x for x in range(0,10) if x % 2 == 0})\n"
   ]
  },
  {
   "cell_type": "markdown",
   "metadata": {},
   "source": [
    "## 표현식을 평가하는 함수 : eval\n",
    "\n",
    "    문자열로 표현식을 작성한 경우에 대해 실행하는 함수\n",
    "    \n",
    "    문장은 실행되지 않음.\n",
    "    "
   ]
  },
  {
   "cell_type": "code",
   "execution_count": 62,
   "metadata": {
    "collapsed": false
   },
   "outputs": [
    {
     "data": {
      "text/plain": [
       "{0, 2, 4, 6, 8}"
      ]
     },
     "execution_count": 62,
     "metadata": {},
     "output_type": "execute_result"
    }
   ],
   "source": [
    "eval(\"{x for x in range(0,10) if x % 2 == 0}\")"
   ]
  },
  {
   "cell_type": "code",
   "execution_count": 64,
   "metadata": {
    "collapsed": false
   },
   "outputs": [
    {
     "ename": "SyntaxError",
     "evalue": "invalid syntax (<string>, line 1)",
     "output_type": "error",
     "traceback": [
      "\u001b[0;36m  File \u001b[0;32m\"<string>\"\u001b[0;36m, line \u001b[0;32m1\u001b[0m\n\u001b[0;31m    a=1\u001b[0m\n\u001b[0m     ^\u001b[0m\n\u001b[0;31mSyntaxError\u001b[0m\u001b[0;31m:\u001b[0m invalid syntax\n"
     ]
    }
   ],
   "source": [
    "# 문장을 넣었을 때 에러가 남\n",
    "eval(\" a=1 \")"
   ]
  },
  {
   "cell_type": "markdown",
   "metadata": {},
   "source": [
    "# 문장이란 \n",
    "\n",
    "    파이썬에서 문장이란 하나의 정의, 순환, 제어, 기타 별도의 지정을 위한 하나의 처리 단위를 말함\n",
    "    "
   ]
  },
  {
   "cell_type": "markdown",
   "metadata": {},
   "source": [
    "### 주석 (Comments):\n",
    "\n",
    "    기호 (#)를 사용해 주석을 시작한다.\n",
    "\n",
    "    기호 (#) 후 물리적 라인 끝까지 모든 문자를 주석으로 간주한다"
   ]
  },
  {
   "cell_type": "code",
   "execution_count": 144,
   "metadata": {
    "collapsed": true
   },
   "outputs": [],
   "source": [
    "# 주석문을 달기 \n",
    "\n",
    "x = 1  # x 변수 초기화 "
   ]
  },
  {
   "cell_type": "markdown",
   "metadata": {},
   "source": [
    "### 할당문장 이해하기 \n",
    "\n",
    "    변수 할당은 변수에 초기화이지만 하나의 문장으로 처리한다\n",
    "    \n",
    "    할당문의 특징은 우측이 표현식이 종료된 결과를 할당하는 것으로 인지한다\n",
    "   "
   ]
  },
  {
   "cell_type": "code",
   "execution_count": 51,
   "metadata": {
    "collapsed": false
   },
   "outputs": [
    {
     "name": "stdout",
     "output_type": "stream",
     "text": [
      "1\n"
     ]
    }
   ],
   "source": [
    "# 할당문은 우측부터 처리하고 최종결과를 우축에 할당한다.\n",
    "\n",
    "x = 1 \n",
    "print(x)"
   ]
  },
  {
   "cell_type": "code",
   "execution_count": 60,
   "metadata": {
    "collapsed": false
   },
   "outputs": [
    {
     "name": "stdout",
     "output_type": "stream",
     "text": [
      "{0: 0, 8: 8, 2: 2, 4: 4, 6: 6}\n"
     ]
    }
   ],
   "source": [
    "# 짝수를 출력하는 지능형 dict을 변수 할당\n",
    "\n",
    "a = {x:x for x in range(0,10) if x % 2 == 0}\n",
    "\n",
    "print(a)"
   ]
  },
  {
   "cell_type": "markdown",
   "metadata": {},
   "source": [
    "## import 문은 모듈이나 패키지를 사용하기 위해서 사용하는 구문 \n",
    "\n",
    "    전체 모듈을 올리기 : import 모듈명\n",
    "    \n",
    "    모듈 내에 일부 요소만 올리기 : from 모듈명 import 요소명\n",
    "    \n",
    "    이름이 충돌을 막기 위해 별칭 사용  as  별칭\n",
    "    \n",
    "    "
   ]
  },
  {
   "cell_type": "code",
   "execution_count": 3,
   "metadata": {
    "collapsed": false
   },
   "outputs": [
    {
     "name": "stdout",
     "output_type": "stream",
     "text": [
      "math\n"
     ]
    }
   ],
   "source": [
    "# 전체 모듈 올리고 사용하기\n",
    "import math \n",
    "\n",
    "\n",
    "print(math.__name__)"
   ]
  },
  {
   "cell_type": "code",
   "execution_count": 24,
   "metadata": {
    "collapsed": false
   },
   "outputs": [
    {
     "name": "stdout",
     "output_type": "stream",
     "text": [
      "3.141592653589793\n"
     ]
    }
   ],
   "source": [
    "# 이름 충돌을 막기 위해 별칭 사용\n",
    "import math as mt\n",
    "\n",
    "print(mt.pi)"
   ]
  },
  {
   "cell_type": "code",
   "execution_count": 23,
   "metadata": {
    "collapsed": false
   },
   "outputs": [
    {
     "name": "stdout",
     "output_type": "stream",
     "text": [
      "3.141592653589793\n"
     ]
    }
   ],
   "source": [
    "# 모듈이 특정 요소만 사용하기\n",
    "from math import pi\n",
    "\n",
    "print(pi)"
   ]
  },
  {
   "cell_type": "code",
   "execution_count": 26,
   "metadata": {
    "collapsed": false
   },
   "outputs": [
    {
     "name": "stdout",
     "output_type": "stream",
     "text": [
      "3.141592653589793\n"
     ]
    }
   ],
   "source": [
    "# 모듈이 특정 요소에 별칭 사용하기\n",
    "from math import pi as mt_pi\n",
    "\n",
    "print(mt_pi)"
   ]
  },
  {
   "cell_type": "code",
   "execution_count": 8,
   "metadata": {
    "collapsed": false
   },
   "outputs": [
    {
     "name": "stdout",
     "output_type": "stream",
     "text": [
      "1\n"
     ]
    }
   ],
   "source": [
    "import math\n",
    "\n",
    "math = 1\n",
    "\n",
    "print(math)"
   ]
  },
  {
   "cell_type": "markdown",
   "metadata": {},
   "source": [
    "## 함수 정의 및 클래스 정의문 \n",
    "\n",
    "    함수 : 파이썬 함수 function_20170331 파일 참조\n",
    "   \n",
    "    클래스 : 파이썬 클래스 class_20170331 파일 참조\n",
    "    "
   ]
  },
  {
   "cell_type": "markdown",
   "metadata": {},
   "source": [
    "## 단순 제어문  \n",
    "    \n",
    "    if 표현식 :\n",
    "        로직\n",
    "    else :\n",
    "        로직\n",
    "        \n",
    "    표현식에 조건을 두고 True 일 경우 if문 아래의 로직을 처리하고 else는 False일 경우 처리\n",
    "    "
   ]
  },
  {
   "cell_type": "code",
   "execution_count": 2,
   "metadata": {
    "collapsed": false
   },
   "outputs": [
    {
     "name": "stdout",
     "output_type": "stream",
     "text": [
      " True \n"
     ]
    }
   ],
   "source": [
    "a = True\n",
    "if a :\n",
    "    print(\" True \")\n",
    "else :\n",
    "    print(\" False\")"
   ]
  },
  {
   "cell_type": "code",
   "execution_count": 3,
   "metadata": {
    "collapsed": false
   },
   "outputs": [
    {
     "name": "stdout",
     "output_type": "stream",
     "text": [
      " a != b \n"
     ]
    }
   ],
   "source": [
    "a = 1\n",
    "b= 2\n",
    "if a == b :\n",
    "    print(\" a == b\")\n",
    "else :\n",
    "    print(\" a != b \")"
   ]
  },
  {
   "cell_type": "markdown",
   "metadata": {},
   "source": [
    "## 복합  제어문\n",
    "\n",
    "    if 표현식 :\n",
    "        로직\n",
    "    elif 표현식 :\n",
    "    ...\n",
    "    else :\n",
    "        로직\n",
    "\n",
    "표현식에 조건을 두고 True 일 경우 if문 아래의 로직을 처리하고, elif else는 False일 경우 처리"
   ]
  },
  {
   "cell_type": "code",
   "execution_count": 7,
   "metadata": {
    "collapsed": false
   },
   "outputs": [
    {
     "name": "stdout",
     "output_type": "stream",
     "text": [
      " True\n"
     ]
    }
   ],
   "source": [
    "a = 10\n",
    "b = 20\n",
    "\n",
    "# 연산자 우선순위 때문에 비교연산자를 괄호로 묶어서 처리\n",
    "if (a > 5) & (b < 10) :\n",
    "    print(\" a , b \")\n",
    "elif (a > 5) & (b > 10) :\n",
    "    print(\" True\")\n",
    "else :\n",
    "    print(\" False \")\n"
   ]
  },
  {
   "cell_type": "markdown",
   "metadata": {},
   "source": [
    "## 단축 계산 처리 \n",
    "\n",
    "    3 항 연산 처리 \n",
    "        -  a 변수의 값을 비교해서 false일 경우 변경시킬 경우  if else 구문을 한 줄로 사용\n",
    "        -  and, or 연산자를 이용해서 단축형 처리"
   ]
  },
  {
   "cell_type": "code",
   "execution_count": 20,
   "metadata": {
    "collapsed": false
   },
   "outputs": [
    {
     "name": "stdout",
     "output_type": "stream",
     "text": [
      "11\n"
     ]
    }
   ],
   "source": [
    "a = 10\n",
    "b= 20\n",
    "b = (a if (a>10) else a+1) \n",
    "print(b)"
   ]
  },
  {
   "cell_type": "code",
   "execution_count": null,
   "metadata": {
    "collapsed": true
   },
   "outputs": [],
   "source": [
    "# and/or 연산이 lazy 처리는 if문 처리하지 않을 경우에 발생함\n",
    "# 논리연산자가 and는 첫번째가 참이면 두번째를 리턴\n",
    "# or연산은 첫번째가 거짓이면 두번째 리턴\n",
    "# 처리절차가 논리연산자가 거짓이 아닐 경우 나머지를 그대로 리턴해서 처리를 요청함\n",
    "\n",
    "a = 10\n",
    "b = 20\n",
    "# 첫번째가 참이면 두번째를 리턴\n",
    "c = a and b \n",
    "print(c)\n",
    "\n",
    "# 첫번째가 거짓이면 첫번째 리턴\n",
    "a =0\n",
    "c = a and b \n",
    "print(c)\n",
    "\n",
    "# 첫번째가 참이면 첫번째 리턴\n",
    "a = 10\n",
    "d = a or b\n",
    "print(d)\n",
    "\n",
    "# 첫번째가 거짓이면 두번째 리턴\n",
    "a = 0\n",
    "d = a or b\n",
    "print(d)"
   ]
  },
  {
   "cell_type": "markdown",
   "metadata": {},
   "source": [
    "## 스위치 케이스문 처리 방법\n",
    "\n",
    "    dict 타입에 함수를 정의해서 switch문의 특징 하나의 case만 실행하면 됨"
   ]
  },
  {
   "cell_type": "code",
   "execution_count": 39,
   "metadata": {
    "collapsed": false
   },
   "outputs": [
    {
     "name": "stdout",
     "output_type": "stream",
     "text": [
      " 1\n",
      " 10 \n"
     ]
    }
   ],
   "source": [
    "#케이스별 함수 정의\n",
    "def a_10() :\n",
    "    print(\" 10 \")\n",
    "    \n",
    "def a_1() :\n",
    "    print(\" 1\")\n",
    "\n",
    "# dict 타입에 케이스를 키로하고 값으로 함수를 할당\n",
    "switch = {1:a_1, 10:a_10}\n",
    "a= 1\n",
    "\n",
    "switch[a]()\n",
    "\n",
    "a= 10\n",
    "\n",
    "switch[a]()"
   ]
  },
  {
   "cell_type": "markdown",
   "metadata": {},
   "source": [
    "# 순환문 처리  : for\n",
    "\n",
    "    for 문은 iterable/iterator 일 경우 처리하므로 in 다음에 이런 데이터형을 넣으면 처리됨\n",
    "    \n",
    "    for x in iterable :\n",
    "        로직\n",
    "        "
   ]
  },
  {
   "cell_type": "code",
   "execution_count": 64,
   "metadata": {
    "collapsed": false
   },
   "outputs": [
    {
     "name": "stdout",
     "output_type": "stream",
     "text": [
      "0\n",
      "1\n",
      "2\n",
      "3\n",
      "4\n",
      "5\n",
      "6\n",
      "7\n",
      "8\n",
      "9\n",
      "9\n"
     ]
    }
   ],
   "source": [
    "for i in range(0,10) :\n",
    "    print(i)\n",
    "    "
   ]
  },
  {
   "cell_type": "code",
   "execution_count": 62,
   "metadata": {
    "collapsed": false
   },
   "outputs": [
    {
     "name": "stdout",
     "output_type": "stream",
     "text": [
      "True\n",
      "<class 'range'>\n",
      "1\n",
      "3\n",
      "5\n",
      "7\n",
      "9\n"
     ]
    }
   ],
   "source": [
    "# range 타입은  시작점, 끝점(끝점-1까지만 실행), 스텝으로 정의\n",
    "a = range(1,10,2)\n",
    "\n",
    "import collections.abc as cols\n",
    "print(issubclass(range, cols.Iterable))\n",
    "\n",
    "print(type(a))\n",
    "\n",
    "for i in a :\n",
    "    print(i)"
   ]
  },
  {
   "cell_type": "code",
   "execution_count": 68,
   "metadata": {
    "collapsed": false
   },
   "outputs": [
    {
     "name": "stdout",
     "output_type": "stream",
     "text": [
      "True\n",
      "True\n",
      "0\n",
      "1\n",
      "2\n",
      "3\n",
      "4\n",
      "5\n",
      "6\n",
      "7\n",
      "8\n",
      "9\n",
      "<class 'generator'>\n"
     ]
    }
   ],
   "source": [
    "\n",
    "#제너레이터\n",
    "a = (i for i in range(10))\n",
    "print(issubclass(type(a), cols.Iterable))\n",
    "print(issubclass(type(a), cols.Iterator))\n",
    "\n",
    "for k in a :\n",
    "    print(k)\n",
    "\n",
    "#제너레이터는 한번 실행되면 종료된다.\n",
    "#다시 실행하려면  재정의가 필요함\n",
    "print(type(a))\n",
    "for k in a :\n",
    "    print(k)"
   ]
  },
  {
   "cell_type": "markdown",
   "metadata": {},
   "source": [
    "# 순환문 처리  :  while\n",
    "\n",
    "    while 문은  조건이 만족할 때 까지 무한순환한다. \n",
    "    \n",
    "    while 조건식 :\n",
    "        로직 \n",
    "        break 처리 로직(순환에서 빠져나와야 함)"
   ]
  },
  {
   "cell_type": "code",
   "execution_count": 69,
   "metadata": {
    "collapsed": false
   },
   "outputs": [
    {
     "name": "stdout",
     "output_type": "stream",
     "text": [
      "10\n"
     ]
    }
   ],
   "source": [
    "a = 0\n",
    "while True :\n",
    "    a +=1\n",
    "    if a ==10 :\n",
    "        break\n",
    "        \n",
    "print(a)"
   ]
  },
  {
   "cell_type": "markdown",
   "metadata": {},
   "source": [
    "# continue/break 처리\n",
    "\n",
    "    continue : 순환 처리는 해야하지만 특정 로직을 처리하지 않을 경우 순환문으로 돌아감\n",
    "    break :  순환처리시 순환을 종료하는 경우 사용\n",
    "    "
   ]
  },
  {
   "cell_type": "code",
   "execution_count": 3,
   "metadata": {
    "collapsed": false
   },
   "outputs": [
    {
     "name": "stdout",
     "output_type": "stream",
     "text": [
      "1\n",
      "3\n",
      "5\n",
      "7\n",
      "9\n",
      "10\n"
     ]
    }
   ],
   "source": [
    "a = 0\n",
    "while True :\n",
    "    a +=1\n",
    "    # continue 문 이전에 break 처리가 먼저 있어야 무한순환을 막을 수 있음\n",
    "    if a ==10 :\n",
    "        break\n",
    "        \n",
    "    if a % 2 == 0 :\n",
    "        continue\n",
    "    else :\n",
    "        print(a)\n",
    "        \n",
    "print(a)"
   ]
  },
  {
   "cell_type": "markdown",
   "metadata": {},
   "source": [
    "# 순환문에 Else 문 추가하기\n",
    "\n",
    "    순환문이 break 처리 없이 수행이 되었는지를 확인하기 위해 마지막에 else문을 추가 할 수 있다.\n",
    "    \n",
    "    for i in x :\n",
    "        로직\n",
    "    else :\n",
    "        로직\n",
    "        \n",
    "    whiel True :\n",
    "        로직 \n",
    "    else :\n",
    "        로직"
   ]
  },
  {
   "cell_type": "code",
   "execution_count": 7,
   "metadata": {
    "collapsed": false
   },
   "outputs": [
    {
     "name": "stdout",
     "output_type": "stream",
     "text": [
      "1\n",
      "3\n",
      "5\n",
      "7\n",
      "9\n",
      " no break\n",
      "10\n"
     ]
    }
   ],
   "source": [
    "# while 문에 비교연산자를 사용해서 순환조건을 제약\n",
    "a = 0\n",
    "while a < 10 :\n",
    "    a +=1\n",
    "    if a % 2 == 0 :\n",
    "        continue\n",
    "    else :\n",
    "        print(a)\n",
    "else :\n",
    "    print(\" no break\")\n",
    "        \n",
    "print(a)"
   ]
  },
  {
   "cell_type": "code",
   "execution_count": 10,
   "metadata": {
    "collapsed": false
   },
   "outputs": [
    {
     "name": "stdout",
     "output_type": "stream",
     "text": [
      "0\n",
      "1\n",
      "2\n",
      "3\n",
      "4\n",
      "5\n",
      "6\n",
      "7\n"
     ]
    }
   ],
   "source": [
    "# break 문이 발생하면 else구문을 처리하지 않음\n",
    "for i in range(0,10) :\n",
    "    if i == 8 :\n",
    "        break\n",
    "    else :\n",
    "        print(i)\n",
    "else :\n",
    "    print(\" no break\")"
   ]
  },
  {
   "cell_type": "code",
   "execution_count": 11,
   "metadata": {
    "collapsed": false
   },
   "outputs": [
    {
     "name": "stdout",
     "output_type": "stream",
     "text": [
      "0\n",
      "1\n",
      "2\n",
      "3\n",
      "4\n",
      "5\n",
      "6\n",
      "7\n",
      "8\n",
      "9\n",
      " no break\n"
     ]
    }
   ],
   "source": [
    "# break 문이 발생하지 않아 else구문을 처리\n",
    "for i in range(0,10) :\n",
    "    print(i)\n",
    "else :\n",
    "    print(\" no break\")"
   ]
  },
  {
   "cell_type": "markdown",
   "metadata": {},
   "source": [
    "## context 제한문 : with\n",
    "\n",
    "    with는 블록단위의 프로세스의 시작과 끝에 대한 처리를 해준다.\n",
    "    \n",
    "    context manager에 의해서 실행되는 __enter__()과 __exit__()을 정의하여, \n",
    "    with 구문 body 의 앞부분과 뒷부분에 실행되는 코드를 대신할 수 있다. \n",
    "    \n",
    "    "
   ]
  },
  {
   "cell_type": "code",
   "execution_count": 28,
   "metadata": {
    "collapsed": false
   },
   "outputs": [
    {
     "name": "stdout",
     "output_type": "stream",
     "text": [
      "Overwriting data.txt\n"
     ]
    }
   ],
   "source": [
    "%%writefile data.txt \n",
    "a\n",
    "b\n",
    "c\n",
    "d"
   ]
  },
  {
   "cell_type": "code",
   "execution_count": 33,
   "metadata": {
    "collapsed": false
   },
   "outputs": [
    {
     "name": "stdout",
     "output_type": "stream",
     "text": [
      "a\n",
      "b\n",
      "c\n",
      "d\n",
      "<_io.TextIOWrapper name='data.txt' mode='r' encoding='utf-8'>\n"
     ]
    }
   ],
   "source": [
    "with open(\"data.txt\",\"r\",encoding=\"utf-8\") as a :\n",
    "    for i in a :\n",
    "        print(i, end=\"\")\n",
    "    print()\n",
    "    \n",
    "print(a)"
   ]
  },
  {
   "cell_type": "code",
   "execution_count": 35,
   "metadata": {
    "collapsed": false
   },
   "outputs": [
    {
     "name": "stdout",
     "output_type": "stream",
     "text": [
      "<_io.TextIOWrapper name='data.txt' mode='r' encoding='utf-8'>\n",
      "a\n",
      "b\n",
      "c\n",
      "d\n"
     ]
    },
    {
     "ename": "ValueError",
     "evalue": "I/O operation on closed file.",
     "output_type": "error",
     "traceback": [
      "\u001b[0;31m---------------------------------------------------------------------------\u001b[0m",
      "\u001b[0;31mValueError\u001b[0m                                Traceback (most recent call last)",
      "\u001b[0;32m<ipython-input-35-bf14ec1ed342>\u001b[0m in \u001b[0;36m<module>\u001b[0;34m()\u001b[0m\n\u001b[1;32m      8\u001b[0m \u001b[1;33m\u001b[0m\u001b[0m\n\u001b[1;32m      9\u001b[0m \u001b[1;31m# with문 종료후 읽으면 close되어 처리 불가\u001b[0m\u001b[1;33m\u001b[0m\u001b[1;33m\u001b[0m\u001b[0m\n\u001b[0;32m---> 10\u001b[0;31m \u001b[0mf\u001b[0m\u001b[1;33m.\u001b[0m\u001b[0mread\u001b[0m\u001b[1;33m(\u001b[0m\u001b[1;36m1\u001b[0m\u001b[1;33m)\u001b[0m\u001b[1;33m\u001b[0m\u001b[0m\n\u001b[0m",
      "\u001b[0;31mValueError\u001b[0m: I/O operation on closed file."
     ]
    }
   ],
   "source": [
    "#with 문을 실제 처리하는 방식대로  구현\n",
    "\n",
    "f = open(\"data.txt\",\"r\", encoding=\"utf-8\")\n",
    "print(f)\n",
    "f.__enter__()\n",
    "print(f.read())\n",
    "f.__exit__(None, None, None)\n",
    "\n",
    "# with문 종료후 읽으면 close되어 처리 불가\n",
    "f.read(1)"
   ]
  },
  {
   "cell_type": "markdown",
   "metadata": {},
   "source": [
    "## global 문 과 nonlocal 문 처리 \n",
    "    \n",
    "    변수의 영역에 대한 이슈를 처리하기 위해 지정하는 문\n",
    "     \n",
    "    global 문은 주로 함수 영역에서 모듈의 글로벌 영역의 변수를 참조해서 갱신이 필요할 경우 정의해서 사용\n",
    "    \n",
    "    nonlocal문은 주로 함수 내에 함수를 정의할 경우 내부 함수에서 외부 함수에 있는 변수를 갱신할 경우 정의해서 사용\n",
    "    "
   ]
  },
  {
   "cell_type": "markdown",
   "metadata": {},
   "source": [
    "### global 문 처리"
   ]
  },
  {
   "cell_type": "code",
   "execution_count": 38,
   "metadata": {
    "collapsed": false
   },
   "outputs": [
    {
     "ename": "UnboundLocalError",
     "evalue": "local variable 'x' referenced before assignment",
     "output_type": "error",
     "traceback": [
      "\u001b[0;31m---------------------------------------------------------------------------\u001b[0m",
      "\u001b[0;31mUnboundLocalError\u001b[0m                         Traceback (most recent call last)",
      "\u001b[0;32m<ipython-input-38-7641f82602d6>\u001b[0m in \u001b[0;36m<module>\u001b[0;34m()\u001b[0m\n\u001b[1;32m      5\u001b[0m     \u001b[1;32mreturn\u001b[0m \u001b[0mx\u001b[0m\u001b[1;33m+\u001b[0m\u001b[0my\u001b[0m\u001b[1;33m\u001b[0m\u001b[0m\n\u001b[1;32m      6\u001b[0m \u001b[1;33m\u001b[0m\u001b[0m\n\u001b[0;32m----> 7\u001b[0;31m \u001b[0mprint\u001b[0m\u001b[1;33m(\u001b[0m\u001b[0mglobal_update\u001b[0m\u001b[1;33m(\u001b[0m\u001b[1;36m5\u001b[0m\u001b[1;33m)\u001b[0m\u001b[1;33m)\u001b[0m\u001b[1;33m\u001b[0m\u001b[0m\n\u001b[0m",
      "\u001b[0;32m<ipython-input-38-7641f82602d6>\u001b[0m in \u001b[0;36mglobal_update\u001b[0;34m(y)\u001b[0m\n\u001b[1;32m      2\u001b[0m \u001b[1;33m\u001b[0m\u001b[0m\n\u001b[1;32m      3\u001b[0m \u001b[1;32mdef\u001b[0m \u001b[0mglobal_update\u001b[0m\u001b[1;33m(\u001b[0m\u001b[0my\u001b[0m\u001b[1;33m)\u001b[0m \u001b[1;33m:\u001b[0m\u001b[1;33m\u001b[0m\u001b[0m\n\u001b[0;32m----> 4\u001b[0;31m     \u001b[0mx\u001b[0m\u001b[1;33m=\u001b[0m \u001b[0mx\u001b[0m\u001b[1;33m+\u001b[0m\u001b[1;36m1\u001b[0m\u001b[1;33m\u001b[0m\u001b[0m\n\u001b[0m\u001b[1;32m      5\u001b[0m     \u001b[1;32mreturn\u001b[0m \u001b[0mx\u001b[0m\u001b[1;33m+\u001b[0m\u001b[0my\u001b[0m\u001b[1;33m\u001b[0m\u001b[0m\n\u001b[1;32m      6\u001b[0m \u001b[1;33m\u001b[0m\u001b[0m\n",
      "\u001b[0;31mUnboundLocalError\u001b[0m: local variable 'x' referenced before assignment"
     ]
    }
   ],
   "source": [
    "# x = x+ 1을 평가할 때 x+1부터 점검해서 x가 실제 할당없이 처리되어 에러가 남\n",
    "\n",
    "x = 10\n",
    "\n",
    "def global_update(y) :\n",
    "    x= x+1\n",
    "    return x+y\n",
    "\n",
    "print(global_update(5))\n"
   ]
  },
  {
   "cell_type": "code",
   "execution_count": 39,
   "metadata": {
    "collapsed": false
   },
   "outputs": [
    {
     "name": "stdout",
     "output_type": "stream",
     "text": [
      "16\n"
     ]
    }
   ],
   "source": [
    "# x = x+ 1을 평가할 수 있는 방법\n",
    "\n",
    "x = 10\n",
    "\n",
    "def global_update(y) :\n",
    "    global x\n",
    "    x= x+1\n",
    "    return x+y\n",
    "\n",
    "print(global_update(5))"
   ]
  },
  {
   "cell_type": "markdown",
   "metadata": {},
   "source": [
    "### nonlocal 문 처리\n"
   ]
  },
  {
   "cell_type": "code",
   "execution_count": 42,
   "metadata": {
    "collapsed": false
   },
   "outputs": [
    {
     "ename": "UnboundLocalError",
     "evalue": "local variable 'x' referenced before assignment",
     "output_type": "error",
     "traceback": [
      "\u001b[0;31m---------------------------------------------------------------------------\u001b[0m",
      "\u001b[0;31mUnboundLocalError\u001b[0m                         Traceback (most recent call last)",
      "\u001b[0;32m<ipython-input-42-5568e1b65dee>\u001b[0m in \u001b[0;36m<module>\u001b[0;34m()\u001b[0m\n\u001b[1;32m      7\u001b[0m \u001b[1;33m\u001b[0m\u001b[0m\n\u001b[1;32m      8\u001b[0m \u001b[0mout\u001b[0m \u001b[1;33m=\u001b[0m \u001b[0mouter\u001b[0m\u001b[1;33m(\u001b[0m\u001b[1;36m10\u001b[0m\u001b[1;33m)\u001b[0m\u001b[1;33m\u001b[0m\u001b[0m\n\u001b[0;32m----> 9\u001b[0;31m \u001b[0mprint\u001b[0m\u001b[1;33m(\u001b[0m\u001b[0mout\u001b[0m\u001b[1;33m(\u001b[0m\u001b[1;36m5\u001b[0m\u001b[1;33m)\u001b[0m\u001b[1;33m)\u001b[0m\u001b[1;33m\u001b[0m\u001b[0m\n\u001b[0m",
      "\u001b[0;32m<ipython-input-42-5568e1b65dee>\u001b[0m in \u001b[0;36minner\u001b[0;34m(y)\u001b[0m\n\u001b[1;32m      2\u001b[0m \u001b[1;32mdef\u001b[0m \u001b[0mouter\u001b[0m\u001b[1;33m(\u001b[0m\u001b[0mx\u001b[0m\u001b[1;33m)\u001b[0m \u001b[1;33m:\u001b[0m\u001b[1;33m\u001b[0m\u001b[0m\n\u001b[1;32m      3\u001b[0m     \u001b[1;32mdef\u001b[0m \u001b[0minner\u001b[0m\u001b[1;33m(\u001b[0m\u001b[0my\u001b[0m\u001b[1;33m)\u001b[0m \u001b[1;33m:\u001b[0m\u001b[1;33m\u001b[0m\u001b[0m\n\u001b[0;32m----> 4\u001b[0;31m         \u001b[0mx\u001b[0m \u001b[1;33m=\u001b[0m \u001b[0mx\u001b[0m\u001b[1;33m+\u001b[0m\u001b[1;36m1\u001b[0m\u001b[1;33m\u001b[0m\u001b[0m\n\u001b[0m\u001b[1;32m      5\u001b[0m         \u001b[1;32mreturn\u001b[0m \u001b[0mx\u001b[0m\u001b[1;33m+\u001b[0m\u001b[0my\u001b[0m\u001b[1;33m\u001b[0m\u001b[0m\n\u001b[1;32m      6\u001b[0m     \u001b[1;32mreturn\u001b[0m \u001b[0minner\u001b[0m\u001b[1;33m\u001b[0m\u001b[0m\n",
      "\u001b[0;31mUnboundLocalError\u001b[0m: local variable 'x' referenced before assignment"
     ]
    }
   ],
   "source": [
    "# x 변수를 참조할 수 없어 에러가 남\n",
    "def outer(x) :\n",
    "    def inner(y) :\n",
    "        x = x+1\n",
    "        return x+y\n",
    "    return inner\n",
    "\n",
    "out = outer(10)\n",
    "print(out(5))\n"
   ]
  },
  {
   "cell_type": "code",
   "execution_count": 44,
   "metadata": {
    "collapsed": false
   },
   "outputs": [
    {
     "name": "stdout",
     "output_type": "stream",
     "text": [
      "16\n"
     ]
    }
   ],
   "source": [
    "# x 변수를 참조하면 처리가 가능\n",
    "def outer(x) :\n",
    "    def inner(y) :\n",
    "        nonlocal x\n",
    "        x = x+1\n",
    "        return x+y\n",
    "    return inner\n",
    "\n",
    "out = outer(10)\n",
    "print(out(5))"
   ]
  },
  {
   "cell_type": "markdown",
   "metadata": {},
   "source": [
    "## try except 문 처리\n",
    "\n",
    "    에러가 발생할 경우 처리하는 구문\n",
    "    \n",
    "    에러가 발생할 수 있는 문장을 try: except 구문 사이에 놓고\n",
    "    \n",
    "    에러가 발생할 수 있는 것을 except 항목으로 추가한다.\n",
    "    \n",
    "    try :\n",
    "        print(global_update(5))\n",
    "    except UnboundLocalError as e :\n",
    "        print(e)\n"
   ]
  },
  {
   "cell_type": "code",
   "execution_count": 46,
   "metadata": {
    "collapsed": false
   },
   "outputs": [
    {
     "name": "stdout",
     "output_type": "stream",
     "text": [
      " raise Error\n"
     ]
    }
   ],
   "source": [
    "# raise 구문을 통해 에러를 강제 발생\n",
    "\n",
    "try :\n",
    "    raise Exception(\" raise Error\")\n",
    "except Exception as e :\n",
    "    print(e)"
   ]
  },
  {
   "cell_type": "code",
   "execution_count": 47,
   "metadata": {
    "collapsed": false
   },
   "outputs": [
    {
     "name": "stdout",
     "output_type": "stream",
     "text": [
      "local variable 'x' referenced before assignment\n"
     ]
    }
   ],
   "source": [
    "# 구문 처리시 에러가 발생해서 이를 처리\n",
    "\n",
    "x = 10\n",
    "\n",
    "def global_update(y) :\n",
    "    x= x+1\n",
    "    return x+y\n",
    "\n",
    "try :\n",
    "    print(global_update(5))\n",
    "except UnboundLocalError as e :\n",
    "    print(e)\n"
   ]
  },
  {
   "cell_type": "code",
   "execution_count": 9,
   "metadata": {
    "collapsed": false
   },
   "outputs": [
    {
     "ename": "TypeError",
     "evalue": "memoryview: a bytes-like object is required, not 'str'",
     "output_type": "error",
     "traceback": [
      "\u001b[0;31m---------------------------------------------------------------------------\u001b[0m",
      "\u001b[0;31mTypeError\u001b[0m                                 Traceback (most recent call last)",
      "\u001b[0;32m<ipython-input-9-b91dde75757b>\u001b[0m in \u001b[0;36m<module>\u001b[0;34m()\u001b[0m\n\u001b[1;32m      1\u001b[0m \u001b[0ms\u001b[0m \u001b[1;33m=\u001b[0m \u001b[1;34m'문어발'\u001b[0m\u001b[1;33m\u001b[0m\u001b[0m\n\u001b[0;32m----> 2\u001b[0;31m \u001b[0mprint\u001b[0m\u001b[1;33m(\u001b[0m\u001b[0mmemoryview\u001b[0m\u001b[1;33m(\u001b[0m\u001b[0ms\u001b[0m\u001b[1;33m)\u001b[0m\u001b[1;33m)\u001b[0m\u001b[1;33m\u001b[0m\u001b[0m\n\u001b[0m",
      "\u001b[0;31mTypeError\u001b[0m: memoryview: a bytes-like object is required, not 'str'"
     ]
    }
   ],
   "source": [
    "s = '문어발'\n",
    "print(memoryview(s))"
   ]
  },
  {
   "cell_type": "code",
   "execution_count": 11,
   "metadata": {
    "collapsed": false
   },
   "outputs": [
    {
     "data": {
      "text/plain": [
       "memoryview"
      ]
     },
     "execution_count": 11,
     "metadata": {},
     "output_type": "execute_result"
    }
   ],
   "source": [
    "type(memoryview(b'a'))\n"
   ]
  },
  {
   "cell_type": "code",
   "execution_count": 15,
   "metadata": {
    "collapsed": false
   },
   "outputs": [
    {
     "name": "stdout",
     "output_type": "stream",
     "text": [
      "1\n",
      "True\n",
      "61\n"
     ]
    }
   ],
   "source": [
    "s = memoryview(b'a')\n",
    "\n",
    "print(s.itemsize)\n",
    "print(s.readonly)\n",
    "print(s.hex())"
   ]
  },
  {
   "cell_type": "code",
   "execution_count": 17,
   "metadata": {
    "collapsed": false
   },
   "outputs": [
    {
     "name": "stdout",
     "output_type": "stream",
     "text": [
      "1\n",
      "False\n",
      "61\n"
     ]
    }
   ],
   "source": [
    "ba = bytearray(b\"a\")\n",
    "b = memoryview(ba)\n",
    "\n",
    "print(b.itemsize)\n",
    "print(b.readonly)\n",
    "print(b.hex())"
   ]
  },
  {
   "cell_type": "code",
   "execution_count": 12,
   "metadata": {
    "collapsed": false,
    "scrolled": true
   },
   "outputs": [
    {
     "data": {
      "text/plain": [
       "['__class__',\n",
       " '__delattr__',\n",
       " '__delitem__',\n",
       " '__dir__',\n",
       " '__doc__',\n",
       " '__enter__',\n",
       " '__eq__',\n",
       " '__exit__',\n",
       " '__format__',\n",
       " '__ge__',\n",
       " '__getattribute__',\n",
       " '__getitem__',\n",
       " '__gt__',\n",
       " '__hash__',\n",
       " '__init__',\n",
       " '__le__',\n",
       " '__len__',\n",
       " '__lt__',\n",
       " '__ne__',\n",
       " '__new__',\n",
       " '__reduce__',\n",
       " '__reduce_ex__',\n",
       " '__repr__',\n",
       " '__setattr__',\n",
       " '__setitem__',\n",
       " '__sizeof__',\n",
       " '__str__',\n",
       " '__subclasshook__',\n",
       " 'c_contiguous',\n",
       " 'cast',\n",
       " 'contiguous',\n",
       " 'f_contiguous',\n",
       " 'format',\n",
       " 'hex',\n",
       " 'itemsize',\n",
       " 'nbytes',\n",
       " 'ndim',\n",
       " 'obj',\n",
       " 'readonly',\n",
       " 'release',\n",
       " 'shape',\n",
       " 'strides',\n",
       " 'suboffsets',\n",
       " 'tobytes',\n",
       " 'tolist']"
      ]
     },
     "execution_count": 12,
     "metadata": {},
     "output_type": "execute_result"
    }
   ],
   "source": [
    "dir(memoryview)"
   ]
  },
  {
   "cell_type": "code",
   "execution_count": null,
   "metadata": {
    "collapsed": true
   },
   "outputs": [],
   "source": []
  }
 ],
 "metadata": {
  "anaconda-cloud": {},
  "kernelspec": {
   "display_name": "Python [conda root]",
   "language": "python",
   "name": "conda-root-py"
  },
  "language_info": {
   "codemirror_mode": {
    "name": "ipython",
    "version": 3
   },
   "file_extension": ".py",
   "mimetype": "text/x-python",
   "name": "python",
   "nbconvert_exporter": "python",
   "pygments_lexer": "ipython3",
   "version": "3.5.2"
  }
 },
 "nbformat": 4,
 "nbformat_minor": 1
}
