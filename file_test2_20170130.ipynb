{
 "cells": [
  {
   "cell_type": "code",
   "execution_count": 8,
   "metadata": {
    "collapsed": false
   },
   "outputs": [
    {
     "name": "stdout",
     "output_type": "stream",
     "text": [
      "> hello world\n",
      "Received 'hello world'\n",
      "> \n"
     ]
    }
   ],
   "source": [
    "\n",
    "# Echo client program\n",
    "import socket\n",
    "\n",
    "HOST = 'localhost'              # The remote host\n",
    "PORT = 50009             # The same port as used by the server\n",
    "s = socket.socket(socket.AF_INET, socket.SOCK_STREAM)\n",
    "s.connect((HOST, PORT))\n",
    "\n",
    "while 1 : \n",
    "    \n",
    "    data = input('> ')       #데이터를 입력창에서 받음\n",
    "    if not data: break\n",
    "    s.send(bytearray(data,encoding='utf-8'))                     # 서버에 데이터 전송\n",
    "    data = s.recv(1024)          # 서버로부터 데이터 수신\n",
    "    data1 = data.decode(\"utf-8\")\n",
    "    if not data: reak\n",
    "    print('Received', repr(data1))\n",
    "s.close()"
   ]
  },
  {
   "cell_type": "code",
   "execution_count": 29,
   "metadata": {
    "collapsed": false
   },
   "outputs": [
    {
     "name": "stdout",
     "output_type": "stream",
     "text": [
      "Failed to create socket. Error code: \n"
     ]
    },
    {
     "ename": "SystemExit",
     "evalue": "",
     "output_type": "error",
     "traceback": [
      "An exception has occurred, use %tb to see the full traceback.\n",
      "\u001b[0;31mSystemExit\u001b[0m\n"
     ]
    },
    {
     "name": "stderr",
     "output_type": "stream",
     "text": [
      "C:\\Program Files\\Anaconda3\\lib\\site-packages\\IPython\\core\\interactiveshell.py:2889: UserWarning: To exit: use 'exit', 'quit', or Ctrl-D.\n",
      "  warn(\"To exit: use 'exit', 'quit', or Ctrl-D.\", stacklevel=1)\n"
     ]
    }
   ],
   "source": [
    "import socket, sys\n",
    "try:\n",
    "    s = socket.socket(socket.AF_INET, socket.SOCK_STREAM)\n",
    "    raise socket.error\n",
    "except socket.error as e:\n",
    "    print('Failed to create socket. Error code: ' + str(e))\n",
    "    sys.exit()\n",
    "    \n",
    "print('Socket Created')\n"
   ]
  },
  {
   "cell_type": "code",
   "execution_count": 26,
   "metadata": {
    "collapsed": false
   },
   "outputs": [
    {
     "name": "stdout",
     "output_type": "stream",
     "text": [
      "Help on getset descriptor builtins.BaseException.args:\n",
      "\n",
      "args\n",
      "\n"
     ]
    }
   ],
   "source": [
    "help(socket.error.args)"
   ]
  },
  {
   "cell_type": "code",
   "execution_count": 1,
   "metadata": {
    "collapsed": false
   },
   "outputs": [
    {
     "data": {
      "text/plain": [
       "['Struct',\n",
       " '__all__',\n",
       " '__builtins__',\n",
       " '__cached__',\n",
       " '__doc__',\n",
       " '__file__',\n",
       " '__loader__',\n",
       " '__name__',\n",
       " '__package__',\n",
       " '__spec__',\n",
       " '_clearcache',\n",
       " 'calcsize',\n",
       " 'error',\n",
       " 'iter_unpack',\n",
       " 'pack',\n",
       " 'pack_into',\n",
       " 'unpack',\n",
       " 'unpack_from']"
      ]
     },
     "execution_count": 1,
     "metadata": {},
     "output_type": "execute_result"
    }
   ],
   "source": [
    "import struct\n",
    "dir(struct)"
   ]
  },
  {
   "cell_type": "code",
   "execution_count": 95,
   "metadata": {
    "collapsed": false
   },
   "outputs": [
    {
     "name": "stdout",
     "output_type": "stream",
     "text": [
      "<class 'bytes'>\n",
      "5 192\n",
      "5 192\n"
     ]
    }
   ],
   "source": [
    "import struct\n",
    "#little endian\n",
    "print(type(b\"\\x05\\x00\\xC0\\x00\"))\n",
    "hi, lo = struct.unpack(\"<HH\", b\"\\x05\\x00\\xC0\\x00\")\n",
    "print(hi,lo)\n",
    "\n",
    "#big endian\n",
    "hi, lo = struct.unpack(\">HH\", b\"\\x00\\x05\\x00\\xC0\")\n",
    "print(hi,lo)"
   ]
  },
  {
   "cell_type": "code",
   "execution_count": 4,
   "metadata": {
    "collapsed": false
   },
   "outputs": [
    {
     "name": "stdout",
     "output_type": "stream",
     "text": [
      "b'100'\n",
      "49157 49157\n",
      "49157 49157\n"
     ]
    }
   ],
   "source": [
    "import struct\n",
    "\n",
    "b = bytes(b'100')\n",
    "print(b)\n",
    "#little endian\n",
    "hi, lo = struct.unpack(\"<ii\", b\"\\x05\\xC0\\x00\\x00\\x05\\xC0\\x00\\x00\")\n",
    "print(hi,lo)\n",
    "\n",
    "#big endian\n",
    "hi, lo = struct.unpack(\">ii\", b\"\\x00\\x00\\xC0\\x05\\x00\\x00\\xC0\\x05\")\n",
    "print(hi,lo)"
   ]
  },
  {
   "cell_type": "code",
   "execution_count": 17,
   "metadata": {
    "collapsed": false
   },
   "outputs": [
    {
     "name": "stdout",
     "output_type": "stream",
     "text": [
      "array('l', [255, 254])\n",
      "b'\\xff\\x00\\x00\\x00\\xfe\\x00\\x00\\x00'\n",
      "<class 'int'>\n",
      "255 254\n",
      "b'2\\x005\\x005\\x00'\n"
     ]
    }
   ],
   "source": [
    "import struct\n",
    "from array import array\n",
    "\n",
    "b = array('l',[255,254])\n",
    "print(b)\n",
    "print(b.tobytes())\n",
    "# littel endian\n",
    "hi, lo = struct.unpack(\"<ii\", b)\n",
    "print(type(hi))\n",
    "print(hi,lo)\n",
    "print(str(hi).encode(\"utf-16le\"))\n"
   ]
  },
  {
   "cell_type": "code",
   "execution_count": 16,
   "metadata": {
    "collapsed": false
   },
   "outputs": [
    {
     "name": "stdout",
     "output_type": "stream",
     "text": [
      "b'\\x002\\x005\\x005'\n",
      "b'2\\x005\\x005\\x00'\n"
     ]
    }
   ],
   "source": [
    "hi = 255\n",
    "print(str(hi).encode(\"utf-16be\"))\n",
    "\n",
    "print(str(hi).encode(\"utf-16le\"))"
   ]
  },
  {
   "cell_type": "code",
   "execution_count": 9,
   "metadata": {
    "collapsed": false
   },
   "outputs": [
    {
     "name": "stdout",
     "output_type": "stream",
     "text": [
      "array('l', [255, 254])\n",
      "b'\\xff\\x00\\x00\\x00\\xfe\\x00\\x00\\x00'\n",
      "-16777216 -33554432\n"
     ]
    }
   ],
   "source": [
    "import struct\n",
    "from array import array\n",
    "\n",
    "b = array('l',[255,254])\n",
    "print(b)\n",
    "print(b.tobytes())\n",
    "#little endian\n",
    "hi, lo = struct.unpack(\">ii\", b)\n",
    "print(hi,lo)"
   ]
  },
  {
   "cell_type": "code",
   "execution_count": 51,
   "metadata": {
    "collapsed": false
   },
   "outputs": [
    {
     "name": "stdout",
     "output_type": "stream",
     "text": [
      "(b'\\x00\\x00\\xc0\\x05\\x00\\x00\\xc0\\x05',)\n"
     ]
    }
   ],
   "source": [
    "lo = struct.unpack(\"8s\", b\"\\x00\\x00\\xC0\\x05\\x00\\x00\\xC0\\x05\")\n",
    "print(lo)"
   ]
  },
  {
   "cell_type": "code",
   "execution_count": 59,
   "metadata": {
    "collapsed": false
   },
   "outputs": [
    {
     "name": "stdout",
     "output_type": "stream",
     "text": [
      "(b'a', b'b', b'c')\n",
      "(b'abc',)\n",
      "abc\n",
      "가나다\n"
     ]
    }
   ],
   "source": [
    "import struct\n",
    "\n",
    "# ynpact return 결과는 튜플로 처리 됨\n",
    "print(struct.unpack('sss', b'abc'))\n",
    "print(struct.unpack('3s', b'abc'))\n",
    "\n",
    "#bytes-> str로 전환\n",
    "print(struct.unpack('3s', b'abc')[0].decode(\"utf-8\"))\n",
    "\n",
    "i = \"가나다\"\n",
    "bs = i.encode(\"utf-8\")\n",
    "print(struct.unpack('%ds' % (len(bs)), bs)[0].decode(\"utf-8\"))"
   ]
  },
  {
   "cell_type": "code",
   "execution_count": 67,
   "metadata": {
    "collapsed": false
   },
   "outputs": [
    {
     "name": "stdout",
     "output_type": "stream",
     "text": [
      "(b'', b'', b'')\n",
      "(b'abc',)\n",
      "abc\n",
      "가나다\n"
     ]
    }
   ],
   "source": [
    "import struct\n",
    "\n",
    "# ynpact return 결과는 튜플로 처리 됨\n",
    "print(struct.unpack('ppp', b'abc'))\n",
    "print(struct.unpack('3s', b'abc'))\n",
    "\n",
    "#bytes-> str로 전환\n",
    "print(struct.unpack('3s', b'abc')[0].decode(\"utf-8\"))\n",
    "\n",
    "i = \"가나다\"\n",
    "bs = i.encode(\"utf-8\")\n",
    "print(struct.unpack('%ds' % (len(bs)), bs)[0].decode(\"utf-8\"))"
   ]
  },
  {
   "cell_type": "code",
   "execution_count": 94,
   "metadata": {
    "collapsed": false
   },
   "outputs": [
    {
     "name": "stdout",
     "output_type": "stream",
     "text": [
      "b'Hello'\n",
      "72 H\n",
      "[72, 101, 108, 108, 111]\n",
      "<class 'bytes'>\n",
      "b'Hello'\n",
      "(b'H', b'e', b'l', b'l', b'o')\n",
      "<class 'bytes'>\n"
     ]
    }
   ],
   "source": [
    "import struct\n",
    "a = b'Hello'\n",
    "print(a)\n",
    "print(a[0], chr(a[0]))\n",
    "\n",
    "print(list(b'Hello'))\n",
    "\n",
    "\n",
    "print(type(struct.pack(b'BBBBB', 72, 101, 108, 108, 111)))\n",
    "print(struct.pack(b'bbbbb', 72, 101, 108, 108, 111))\n",
    "pa = struct.pack('5s', b\"Hello\")\n",
    "upa = struct.unpack('sssss',pa)\n",
    "print(upa)\n",
    "print(type(upa[0]))"
   ]
  },
  {
   "cell_type": "code",
   "execution_count": 31,
   "metadata": {
    "collapsed": false
   },
   "outputs": [
    {
     "name": "stdout",
     "output_type": "stream",
     "text": [
      "b'Hello'\n",
      "(b'H', b'e', b'l', b'l', b'o')\n",
      "<class 'bytes'>\n"
     ]
    }
   ],
   "source": [
    "import struct\n",
    "b= b\"Hello\"\n",
    "# 연결된 문자열일 경우 5s로 표시\n",
    "pa = struct.pack('5s', b)\n",
    "print(pa)\n",
    "upa = struct.unpack('sssss',pa)\n",
    "print(upa)\n",
    "print(type(upa[0]))"
   ]
  },
  {
   "cell_type": "code",
   "execution_count": 22,
   "metadata": {
    "collapsed": false
   },
   "outputs": [
    {
     "name": "stdout",
     "output_type": "stream",
     "text": [
      "<class 'bytes'>\n",
      "b'Hello'\n"
     ]
    }
   ],
   "source": [
    "import struct\n",
    "\n",
    "print(type(struct.pack(b'bbbbb', 72, 101, 108, 108, 111)))\n",
    "print(struct.pack(b'bbbbb', 72, 101, 108, 108, 111))\n"
   ]
  },
  {
   "cell_type": "code",
   "execution_count": 21,
   "metadata": {
    "collapsed": false
   },
   "outputs": [
    {
     "name": "stdout",
     "output_type": "stream",
     "text": [
      "b'Hello'\n"
     ]
    }
   ],
   "source": [
    "import struct\n",
    "from array import array\n",
    "\n",
    "ar = array('b',[72, 101, 108, 108, 111])\n",
    "print(struct.pack(b'bbbbb', *ar))"
   ]
  },
  {
   "cell_type": "markdown",
   "metadata": {},
   "source": [
    "# Base64 인코딩\n",
    "\n",
    "  바이트 문자열 및 바이트 배열과 같은 바이트 지향 데이터에서만 사용하기위한 것입니다. \n",
    "  또한 인코딩 프로세스의 출력은 항상 바이트 문자열입니다. \n",
    "  Base64로 인코딩 된 데이터를 유니 코드 텍스트와 혼합하는 경우 별도의 디코딩 단계를 수행해야 할 수 있습니다.\n",
    "  "
   ]
  },
  {
   "cell_type": "code",
   "execution_count": 109,
   "metadata": {
    "collapsed": false
   },
   "outputs": [
    {
     "name": "stdout",
     "output_type": "stream",
     "text": [
      "b'hello world'\n",
      "b'aGVsbG8gd29ybGQ=\\n'\n",
      "b'hello world'\n",
      "True\n"
     ]
    }
   ],
   "source": [
    "import base64\n",
    "text = b\"hello world\"\n",
    "print(text)\n",
    " \n",
    "encoded_text = base64.encodebytes(text)\n",
    "print(encoded_text)\n",
    " \n",
    "decoded_text = base64.decodebytes(encoded_text)\n",
    "print(decoded_text)\n",
    " \n",
    "print(text == decoded_text)\n",
    " "
   ]
  },
  {
   "cell_type": "code",
   "execution_count": 112,
   "metadata": {
    "collapsed": false
   },
   "outputs": [
    {
     "name": "stdout",
     "output_type": "stream",
     "text": [
      "b'aGVsbG8='\n",
      "b'hello'\n"
     ]
    }
   ],
   "source": [
    "s = b'hello'\n",
    "import base64\n",
    "\n",
    "# Encode as Base64\n",
    "a = base64.b64encode(s)\n",
    "print(a)\n",
    "\n",
    "# Decode from Base64\n",
    "print(base64.b64decode(a))"
   ]
  },
  {
   "cell_type": "code",
   "execution_count": 111,
   "metadata": {
    "collapsed": false
   },
   "outputs": [
    {
     "name": "stdout",
     "output_type": "stream",
     "text": [
      "Help on function encode in module base64:\n",
      "\n",
      "encode(input, output)\n",
      "    Encode a file; input and output are binary files.\n",
      "\n"
     ]
    }
   ],
   "source": [
    "help(base64.encode)"
   ]
  },
  {
   "cell_type": "code",
   "execution_count": 119,
   "metadata": {
    "collapsed": false
   },
   "outputs": [
    {
     "name": "stdout",
     "output_type": "stream",
     "text": [
      "b'\\xed\\x95\\x9c\\xea\\xb8\\x80'\n",
      "한글\n",
      "한글\n",
      "b'\\xed\\x95\\x9c\\xea\\xb8\\x80'\n"
     ]
    }
   ],
   "source": [
    "s = '한글'\n",
    "print(s.encode('utf-8'))\n",
    "\n",
    "#str decode가 사라지고 str 정의시 encoding을 주면 decoding 처리\n",
    "print(str(b'\\xed\\x95\\x9c\\xea\\xb8\\x80'))\n",
    "print(str(s.encode('utf-8'),encoding='utf-8'))\n",
    "print(str(b'\\xed\\x95\\x9c\\xea\\xb8\\x80',encoding='utf-8'))\n"
   ]
  },
  {
   "cell_type": "code",
   "execution_count": 122,
   "metadata": {
    "collapsed": false
   },
   "outputs": [
    {
     "name": "stdout",
     "output_type": "stream",
     "text": [
      "b'7ZWc6riA'\n",
      "b'\\xed\\x95\\x9c\\xea\\xb8\\x80'\n",
      "한글\n"
     ]
    }
   ],
   "source": [
    "import base64\n",
    "h = '한글'\n",
    "s = h.encode('utf-8')\n",
    "# Encode as Base64\n",
    "a = base64.b64encode(s)\n",
    "print(a)\n",
    "\n",
    "# Decode from Base64\n",
    "print(base64.b64decode(a))\n",
    "print(str(base64.b64decode(a), encoding='utf-8'))"
   ]
  },
  {
   "cell_type": "code",
   "execution_count": 129,
   "metadata": {
    "collapsed": false
   },
   "outputs": [
    {
     "name": "stdout",
     "output_type": "stream",
     "text": [
      "utf-8\n",
      "<class 'str'> 파이썬\n",
      "<class 'bytes'> b'\\xed\\x8c\\x8c\\xec\\x9d\\xb4\\xec\\x8d\\xac'\n",
      "파이썬\n"
     ]
    }
   ],
   "source": [
    "# -*- coding: utf-8 -*-\n",
    "'''\n",
    "유니코드 --> 다른 CharacterSet : 인코딩(encode)\n",
    "다른 CharacterSet --> 유니코드 : 디코딩(decode)\n",
    "   decode 메소드가 str(bytestring, encoding='utf-8')\n",
    "   로 대체\n",
    "'''\n",
    "\n",
    "import sys\n",
    "print(sys.getdefaultencoding())\n",
    "s= '파이썬'\n",
    "print(type(s),s)\n",
    "b = '파이썬'.encode()\n",
    "print(type(b), b)\n",
    "\n",
    "print(str(b, encoding=\"utf-8\"))"
   ]
  },
  {
   "cell_type": "markdown",
   "metadata": {},
   "source": [
    "## base64\n",
    "이 모듈은 바이너리 데이터를 인쇄 가능한 ASCII 문자로 인코딩하고 이러한 인코딩을 다시 바이너리 데이터로 디코딩하는 기능을 제공합니다. Base16, Base32 및 Base64 알고리즘을 정의한 RFC 3548에 명시된 인코딩 및 사실상의 표준 Ascii85 및 Base85 인코딩에 대한 인코딩 및 디코딩 기능을 제공합니다."
   ]
  },
  {
   "cell_type": "code",
   "execution_count": 33,
   "metadata": {
    "collapsed": false
   },
   "outputs": [
    {
     "name": "stdout",
     "output_type": "stream",
     "text": [
      "b'complex string: \\xc3\\xb1\\xc3\\xa1\\xc3\\xa9\\xc3\\xad\\xc3\\xb3\\xc3\\xba\\xc3\\x91'\n",
      "complex string: ñáéíóúÑ\n"
     ]
    }
   ],
   "source": [
    "s= 'complex string: ñáéíóúÑ'\n",
    "#bytes로 encode\n",
    "i = bytes(s, \"utf-8\")\n",
    "print(i)\n",
    "\n",
    "si = str(i,\"utf-8\")\n",
    "print(si)"
   ]
  },
  {
   "cell_type": "code",
   "execution_count": 137,
   "metadata": {
    "collapsed": false
   },
   "outputs": [
    {
     "name": "stdout",
     "output_type": "stream",
     "text": [
      "complex string: ñáéíóúÑ\n",
      "b'complex string: \\xc3\\xb1\\xc3\\xa1\\xc3\\xa9\\xc3\\xad\\xc3\\xb3\\xc3\\xba\\xc3\\x91'\n",
      "<class 'bytes'> b'Y29tcGxleCBzdHJpbmc6IMOxw6HDqcOtw7PDusOR'\n",
      "<class 'bytes'> b'complex string: \\xc3\\xb1\\xc3\\xa1\\xc3\\xa9\\xc3\\xad\\xc3\\xb3\\xc3\\xba\\xc3\\x91'\n",
      "<class 'str'> complex string: ñáéíóúÑ\n"
     ]
    }
   ],
   "source": [
    "s= 'complex string: ñáéíóúÑ'\n",
    "#bytes로 encode\n",
    "i = bytes(s, \"utf-8\")\n",
    "#bytes를 binary bytes로 변환\n",
    "a = base64.b64encode(i)\n",
    "\n",
    "# binary bytes를 bytes로 변환\n",
    "d = base64.b64decode(a)\n",
    "\n",
    "# binary bytes를 str로 변환\n",
    "b = base64.b64decode(a).decode(\"utf-8\", \"ignore\")  \n",
    "\n",
    "print(s)\n",
    "print(i)\n",
    "print(type(a),a)\n",
    "print(type(d),d)\n",
    "print(type(b),b)"
   ]
  },
  {
   "cell_type": "code",
   "execution_count": 138,
   "metadata": {
    "collapsed": false
   },
   "outputs": [
    {
     "data": {
      "text/plain": [
       "'Δ'"
      ]
     },
     "execution_count": 138,
     "metadata": {},
     "output_type": "execute_result"
    }
   ],
   "source": [
    "\"\\N{GREEK CAPITAL LETTER DELTA}\" "
   ]
  },
  {
   "cell_type": "code",
   "execution_count": 140,
   "metadata": {
    "collapsed": false
   },
   "outputs": [
    {
     "data": {
      "text/plain": [
       "'Δ'"
      ]
     },
     "execution_count": 140,
     "metadata": {},
     "output_type": "execute_result"
    }
   ],
   "source": [
    "\"\\u0394\""
   ]
  },
  {
   "cell_type": "code",
   "execution_count": 141,
   "metadata": {
    "collapsed": false
   },
   "outputs": [
    {
     "data": {
      "text/plain": [
       "'Δ'"
      ]
     },
     "execution_count": 141,
     "metadata": {},
     "output_type": "execute_result"
    }
   ],
   "source": [
    "\"\\U00000394\"  "
   ]
  },
  {
   "cell_type": "code",
   "execution_count": 167,
   "metadata": {
    "collapsed": false,
    "scrolled": true
   },
   "outputs": [
    {
     "name": "stdout",
     "output_type": "stream",
     "text": [
      "8.0.0\n",
      "GREEK CAPITAL LETTER DELTA\n",
      "Δ\n",
      "HANGUL SYLLABLE GA\n",
      "가\n",
      "Lu\n",
      "Lo\n"
     ]
    }
   ],
   "source": [
    "import unicodedata\n",
    "\n",
    "print(unicodedata.unidata_version)\n",
    "print(unicodedata.name(\"Δ\"))\n",
    "print(unicodedata.lookup(unicodedata.name(\"\\u0394\")))\n",
    "print(unicodedata.name(\"가\"))\n",
    "print(unicodedata.lookup(unicodedata.name(\"가\")))\n",
    "print(unicodedata.category('A'))\n",
    "print(unicodedata.category('가'))"
   ]
  },
  {
   "cell_type": "code",
   "execution_count": 160,
   "metadata": {
    "collapsed": false
   },
   "outputs": [
    {
     "ename": "ImportError",
     "evalue": "No module named 'unidecode'",
     "output_type": "error",
     "traceback": [
      "\u001b[0;31m---------------------------------------------------------------------------\u001b[0m",
      "\u001b[0;31mImportError\u001b[0m                               Traceback (most recent call last)",
      "\u001b[0;32m<ipython-input-160-33badf6cbbce>\u001b[0m in \u001b[0;36m<module>\u001b[0;34m()\u001b[0m\n\u001b[0;32m----> 1\u001b[0;31m \u001b[1;32mfrom\u001b[0m \u001b[0munidecode\u001b[0m \u001b[1;32mimport\u001b[0m \u001b[0munidecode\u001b[0m\u001b[1;33m\u001b[0m\u001b[0m\n\u001b[0m\u001b[1;32m      2\u001b[0m \u001b[0mprint\u001b[0m\u001b[1;33m(\u001b[0m\u001b[0munidecode\u001b[0m\u001b[1;33m(\u001b[0m\u001b[1;34m\"\\u5317\\u4EB0\"\u001b[0m\u001b[1;33m)\u001b[0m\u001b[1;33m)\u001b[0m\u001b[1;33m\u001b[0m\u001b[0m\n",
      "\u001b[0;31mImportError\u001b[0m: No module named 'unidecode'"
     ]
    }
   ],
   "source": [
    "from unidecode import unidecode\n",
    "print(unidecode(\"\\u5317\\u4EB0\"))"
   ]
  },
  {
   "cell_type": "code",
   "execution_count": 175,
   "metadata": {
    "collapsed": false
   },
   "outputs": [
    {
     "name": "stdout",
     "output_type": "stream",
     "text": [
      "HANGUL CHOSEONG KIYEOK\n",
      "ㄱ\n",
      "HANGUL JONGSEONG HIEUH\n",
      "ᇂ\n",
      "HANGUL SYLLABLE GA\n",
      "가\n",
      "HANGUL SYLLABLE HI\n",
      "히\n"
     ]
    }
   ],
   "source": [
    "import unicodedata\n",
    "#한글 자모 1100 ~ 11C2\n",
    "print(unicodedata.name(\"\\u1100\"))\n",
    "print(unicodedata.lookup(unicodedata.name(\"ㄱ\")))\n",
    "print(unicodedata.name(\"\\u11C2\"))\n",
    "print(unicodedata.lookup(unicodedata.name(\"\\u11C2\")))\n",
    "\n",
    "#한글 음절 AC00 ~ D788\n",
    "print(unicodedata.name(\"\\uAC00\"))\n",
    "print(unicodedata.lookup(unicodedata.name(\"\\uAC00\")))\n",
    "\n",
    "print(unicodedata.name(\"\\uD788\"))\n",
    "print(unicodedata.lookup(unicodedata.name(\"\\uD788\")))"
   ]
  },
  {
   "cell_type": "code",
   "execution_count": 184,
   "metadata": {
    "collapsed": false
   },
   "outputs": [
    {
     "name": "stdout",
     "output_type": "stream",
     "text": [
      "HANGUL LETTER MIEUM\n",
      "ㅁ\n",
      "HANGUL LETTER MIEUM\n",
      "ㅁ\n"
     ]
    }
   ],
   "source": [
    "#한글 letter 3131..318E\n",
    "print(unicodedata.name(\"\\u3141\"))\n",
    "print(unicodedata.lookup(unicodedata.name(\"\\u3141\")))\n",
    "\n",
    "print(unicodedata.name(\"ㅁ\"))\n",
    "print(unicodedata.lookup(unicodedata.name(\"ㅁ\")))"
   ]
  },
  {
   "cell_type": "code",
   "execution_count": 211,
   "metadata": {
    "collapsed": false
   },
   "outputs": [
    {
     "name": "stdout",
     "output_type": "stream",
     "text": [
      "WON SIGN\n",
      "₩\n",
      "WON SIGN\n",
      "₩\n",
      "가\n",
      "가\n",
      "가\n",
      "가\n"
     ]
    }
   ],
   "source": [
    "import unicodedata\n",
    "print(unicodedata.name(\"\\u20A9\"))\n",
    "print(unicodedata.lookup(unicodedata.name(\"\\u20A9\")))\n",
    "\n",
    "print(unicodedata.name(\"₩\"))\n",
    "print(unicodedata.lookup(unicodedata.name(\"₩\")))\n",
    "\n",
    "print(unicodedata.normalize('NFD', '가'))\n",
    "print(unicodedata.normalize('NFC', '가'))\n",
    "\n",
    "print(unicodedata.normalize('NFKC', '가'))\n",
    "print(unicodedata.normalize('NFKD', '가'))"
   ]
  },
  {
   "cell_type": "code",
   "execution_count": 199,
   "metadata": {
    "collapsed": false
   },
   "outputs": [
    {
     "name": "stdout",
     "output_type": "stream",
     "text": [
      "Help on built-in function mirrored in module unicodedata:\n",
      "\n",
      "mirrored(chr, /)\n",
      "    Returns the mirrored property assigned to the character chr as integer.\n",
      "    \n",
      "    Returns 1 if the character has been identified as a \"mirrored\"\n",
      "    character in bidirectional text, 0 otherwise.\n",
      "\n"
     ]
    }
   ],
   "source": [
    "help(unicodedata.mirrored)"
   ]
  },
  {
   "cell_type": "code",
   "execution_count": 187,
   "metadata": {
    "collapsed": false
   },
   "outputs": [],
   "source": [
    "import csv\n",
    "with open('dic_file.csv','w',newline=\"\\n\") as csvfile :\n",
    "    fieldnames = ['firstname', 'last_name']\n",
    "    writer = csv.DictWriter(csvfile,fieldnames= fieldnames)\n",
    "    writer.writeheader()\n",
    "    writer.writerow({'firstname': 'banana', 'last_name':\"song\"})\n",
    "    writer.writerow({'firstname': 'apple', 'last_name':\"song\"})\n",
    "    writer.writerow({'firstname': 'cherry', 'last_name':\"song\"})"
   ]
  },
  {
   "cell_type": "code",
   "execution_count": 188,
   "metadata": {
    "collapsed": false
   },
   "outputs": [
    {
     "name": "stdout",
     "output_type": "stream",
     "text": [
      "Help on built-in function open in module io:\n",
      "\n",
      "open(file, mode='r', buffering=-1, encoding=None, errors=None, newline=None, closefd=True, opener=None)\n",
      "    Open file and return a stream.  Raise IOError upon failure.\n",
      "    \n",
      "    file is either a text or byte string giving the name (and the path\n",
      "    if the file isn't in the current working directory) of the file to\n",
      "    be opened or an integer file descriptor of the file to be\n",
      "    wrapped. (If a file descriptor is given, it is closed when the\n",
      "    returned I/O object is closed, unless closefd is set to False.)\n",
      "    \n",
      "    mode is an optional string that specifies the mode in which the file\n",
      "    is opened. It defaults to 'r' which means open for reading in text\n",
      "    mode.  Other common values are 'w' for writing (truncating the file if\n",
      "    it already exists), 'x' for creating and writing to a new file, and\n",
      "    'a' for appending (which on some Unix systems, means that all writes\n",
      "    append to the end of the file regardless of the current seek position).\n",
      "    In text mode, if encoding is not specified the encoding used is platform\n",
      "    dependent: locale.getpreferredencoding(False) is called to get the\n",
      "    current locale encoding. (For reading and writing raw bytes use binary\n",
      "    mode and leave encoding unspecified.) The available modes are:\n",
      "    \n",
      "    ========= ===============================================================\n",
      "    Character Meaning\n",
      "    --------- ---------------------------------------------------------------\n",
      "    'r'       open for reading (default)\n",
      "    'w'       open for writing, truncating the file first\n",
      "    'x'       create a new file and open it for writing\n",
      "    'a'       open for writing, appending to the end of the file if it exists\n",
      "    'b'       binary mode\n",
      "    't'       text mode (default)\n",
      "    '+'       open a disk file for updating (reading and writing)\n",
      "    'U'       universal newline mode (deprecated)\n",
      "    ========= ===============================================================\n",
      "    \n",
      "    The default mode is 'rt' (open for reading text). For binary random\n",
      "    access, the mode 'w+b' opens and truncates the file to 0 bytes, while\n",
      "    'r+b' opens the file without truncation. The 'x' mode implies 'w' and\n",
      "    raises an `FileExistsError` if the file already exists.\n",
      "    \n",
      "    Python distinguishes between files opened in binary and text modes,\n",
      "    even when the underlying operating system doesn't. Files opened in\n",
      "    binary mode (appending 'b' to the mode argument) return contents as\n",
      "    bytes objects without any decoding. In text mode (the default, or when\n",
      "    't' is appended to the mode argument), the contents of the file are\n",
      "    returned as strings, the bytes having been first decoded using a\n",
      "    platform-dependent encoding or using the specified encoding if given.\n",
      "    \n",
      "    'U' mode is deprecated and will raise an exception in future versions\n",
      "    of Python.  It has no effect in Python 3.  Use newline to control\n",
      "    universal newlines mode.\n",
      "    \n",
      "    buffering is an optional integer used to set the buffering policy.\n",
      "    Pass 0 to switch buffering off (only allowed in binary mode), 1 to select\n",
      "    line buffering (only usable in text mode), and an integer > 1 to indicate\n",
      "    the size of a fixed-size chunk buffer.  When no buffering argument is\n",
      "    given, the default buffering policy works as follows:\n",
      "    \n",
      "    * Binary files are buffered in fixed-size chunks; the size of the buffer\n",
      "      is chosen using a heuristic trying to determine the underlying device's\n",
      "      \"block size\" and falling back on `io.DEFAULT_BUFFER_SIZE`.\n",
      "      On many systems, the buffer will typically be 4096 or 8192 bytes long.\n",
      "    \n",
      "    * \"Interactive\" text files (files for which isatty() returns True)\n",
      "      use line buffering.  Other text files use the policy described above\n",
      "      for binary files.\n",
      "    \n",
      "    encoding is the name of the encoding used to decode or encode the\n",
      "    file. This should only be used in text mode. The default encoding is\n",
      "    platform dependent, but any encoding supported by Python can be\n",
      "    passed.  See the codecs module for the list of supported encodings.\n",
      "    \n",
      "    errors is an optional string that specifies how encoding errors are to\n",
      "    be handled---this argument should not be used in binary mode. Pass\n",
      "    'strict' to raise a ValueError exception if there is an encoding error\n",
      "    (the default of None has the same effect), or pass 'ignore' to ignore\n",
      "    errors. (Note that ignoring encoding errors can lead to data loss.)\n",
      "    See the documentation for codecs.register or run 'help(codecs.Codec)'\n",
      "    for a list of the permitted encoding error strings.\n",
      "    \n",
      "    newline controls how universal newlines works (it only applies to text\n",
      "    mode). It can be None, '', '\\n', '\\r', and '\\r\\n'.  It works as\n",
      "    follows:\n",
      "    \n",
      "    * On input, if newline is None, universal newlines mode is\n",
      "      enabled. Lines in the input can end in '\\n', '\\r', or '\\r\\n', and\n",
      "      these are translated into '\\n' before being returned to the\n",
      "      caller. If it is '', universal newline mode is enabled, but line\n",
      "      endings are returned to the caller untranslated. If it has any of\n",
      "      the other legal values, input lines are only terminated by the given\n",
      "      string, and the line ending is returned to the caller untranslated.\n",
      "    \n",
      "    * On output, if newline is None, any '\\n' characters written are\n",
      "      translated to the system default line separator, os.linesep. If\n",
      "      newline is '' or '\\n', no translation takes place. If newline is any\n",
      "      of the other legal values, any '\\n' characters written are translated\n",
      "      to the given string.\n",
      "    \n",
      "    If closefd is False, the underlying file descriptor will be kept open\n",
      "    when the file is closed. This does not work when a file name is given\n",
      "    and must be True in that case.\n",
      "    \n",
      "    A custom opener can be used by passing a callable as *opener*. The\n",
      "    underlying file descriptor for the file object is then obtained by\n",
      "    calling *opener* with (*file*, *flags*). *opener* must return an open\n",
      "    file descriptor (passing os.open as *opener* results in functionality\n",
      "    similar to passing None).\n",
      "    \n",
      "    open() returns a file object whose type depends on the mode, and\n",
      "    through which the standard file operations such as reading and writing\n",
      "    are performed. When open() is used to open a file in a text mode ('w',\n",
      "    'r', 'wt', 'rt', etc.), it returns a TextIOWrapper. When used to open\n",
      "    a file in a binary mode, the returned class varies: in read binary\n",
      "    mode, it returns a BufferedReader; in write binary and append binary\n",
      "    modes, it returns a BufferedWriter, and in read/write mode, it returns\n",
      "    a BufferedRandom.\n",
      "    \n",
      "    It is also possible to use a string or bytearray as a file for both\n",
      "    reading and writing. For strings StringIO can be used like a file\n",
      "    opened in a text mode, and for bytes a BytesIO can be used like a file\n",
      "    opened in a binary mode.\n",
      "\n"
     ]
    }
   ],
   "source": [
    "help(open)"
   ]
  },
  {
   "cell_type": "code",
   "execution_count": 212,
   "metadata": {
    "collapsed": false
   },
   "outputs": [
    {
     "name": "stdout",
     "output_type": "stream",
     "text": [
      "<class 'module'>\n",
      "{'iscode': <function iscode at 0x00000000014F5F28>, 'BlockFinder': <class 'inspect.BlockFinder'>, 'functools': <module 'functools' from 'C:\\\\Program Files\\\\Anaconda3\\\\lib\\\\functools.py'>, 'getfullargspec': <function getfullargspec at 0x00000000014F8E18>, '_void': <class 'inspect._void'>, 'isclass': <function isclass at 0x00000000014E0488>, 'sys': <module 'sys' (built-in)>, '_signature_bound_method': <function _signature_bound_method at 0x0000000001504378>, 'isawaitable': <function isawaitable at 0x00000000014F5D90>, '__author__': ('Ka-Ping Yee <ping@lfw.org>', 'Yury Selivanov <yselivanov@sprymix.com>'), 'importlib': <module 'importlib' from 'C:\\\\Program Files\\\\Anaconda3\\\\lib\\\\importlib\\\\__init__.py'>, 'getmro': <function getmro at 0x00000000014EB620>, 'getsourcelines': <function getsourcelines at 0x00000000014F8378>, 'getmodule': <function getmodule at 0x00000000014F8048>, 'currentframe': <function currentframe at 0x0000000001515AE8>, '_check_class': <function _check_class at 0x0000000001515D90>, 'getcoroutinestate': <function getcoroutinestate at 0x0000000001504158>, 'CO_GENERATOR': 32, 'isfunction': <function isfunction at 0x00000000014F5AE8>, 'ArgInfo': <class 'inspect.ArgInfo'>, 'enum': <module 'enum' from 'C:\\\\Program Files\\\\Anaconda3\\\\lib\\\\enum.py'>, '_MethodWrapper': <class 'method-wrapper'>, '_POSITIONAL_ONLY': <_ParameterKind.POSITIONAL_ONLY: 0>, 'warnings': <module 'warnings' from 'C:\\\\Program Files\\\\Anaconda3\\\\lib\\\\warnings.py'>, 'isgenerator': <function isgenerator at 0x00000000014F5C80>, '_signature_get_partial': <function _signature_get_partial at 0x00000000015042F0>, 'getblock': <function getblock at 0x00000000014F81E0>, 'iscoroutine': <function iscoroutine at 0x00000000014F5D08>, '__loader__': <_frozen_importlib_external.SourceFileLoader object at 0x00000000014A0A58>, 'getabsfile': <function getabsfile at 0x00000000014EBF28>, 'Parameter': <class 'inspect.Parameter'>, 'namedtuple': <function namedtuple at 0x0000000001080A60>, 'formatannotationrelativeto': <function formatannotationrelativeto at 0x00000000014FA6A8>, 'Signature': <class 'inspect.Signature'>, 'isbuiltin': <function isbuiltin at 0x00000000014EB048>, 'getlineno': <function getlineno at 0x0000000001515620>, '_main': <function _main at 0x000000000150CE18>, 'CORO_CLOSED': 'CORO_CLOSED', '_signature_from_builtin': <function _signature_from_builtin at 0x00000000015046A8>, '_shadowed_dict': <function _shadowed_dict at 0x0000000001515EA0>, 'formatargspec': <function formatargspec at 0x00000000014FA950>, 'collections': <module 'collections' from 'C:\\\\Program Files\\\\Anaconda3\\\\lib\\\\collections\\\\__init__.py'>, 'getinnerframes': <function getinnerframes at 0x0000000001515A60>, 'getattr_static': <function getattr_static at 0x0000000001515F28>, 'isgeneratorfunction': <function isgeneratorfunction at 0x00000000014F5B70>, 'getmoduleinfo': <function getmoduleinfo at 0x00000000014EBA60>, '_too_many': <function _too_many at 0x00000000014FAC80>, 'linecache': <module 'linecache' from 'C:\\\\Program Files\\\\Anaconda3\\\\lib\\\\linecache.py'>, 'token': <module 'token' from 'C:\\\\Program Files\\\\Anaconda3\\\\lib\\\\token.py'>, 'CO_VARKEYWORDS': 8, 'Attribute': <class 'inspect.Attribute'>, '__doc__': \"Get useful information from live Python objects.\\n\\nThis module encapsulates the interface provided by the internal special\\nattributes (co_*, im_*, tb_*, etc.) in a friendlier fashion.\\nIt also provides some help for examining source code and class layout.\\n\\nHere are some of the useful functions provided by this module:\\n\\n    ismodule(), isclass(), ismethod(), isfunction(), isgeneratorfunction(),\\n        isgenerator(), istraceback(), isframe(), iscode(), isbuiltin(),\\n        isroutine() - check object types\\n    getmembers() - get members of an object that satisfy a given condition\\n\\n    getfile(), getsourcefile(), getsource() - find an object's source code\\n    getdoc(), getcomments() - get documentation on an object\\n    getmodule() - determine the module that an object came from\\n    getclasstree() - arrange classes so as to represent their hierarchy\\n\\n    getargspec(), getargvalues(), getcallargs() - get info about function arguments\\n    getfullargspec() - same, with support for Python 3 features\\n    formatargspec(), formatargvalues() - format an argument spec\\n    getouterframes(), getinnerframes() - get info about frames\\n    currentframe() - get the current stack frame\\n    stack(), trace() - get info about frames on the stack or in a traceback\\n\\n    signature() - get a Signature object for the callable\\n\", 'Arguments': <class 'inspect.Arguments'>, 'formatargvalues': <function formatargvalues at 0x00000000014FAB70>, 'getcallargs': <function getcallargs at 0x00000000014FAD08>, 'ismemberdescriptor': <function ismemberdescriptor at 0x00000000014F59D8>, '_NonUserDefinedCallables': (<class 'wrapper_descriptor'>, <class 'method-wrapper'>, <class 'classmethod_descriptor'>, <class 'builtin_function_or_method'>), 'CO_NOFREE': 64, '_signature_is_builtin': <function _signature_is_builtin at 0x0000000001504400>, 'isdatadescriptor': <function isdatadescriptor at 0x00000000014F5950>, 'FrameInfo': <class 'inspect.FrameInfo'>, 'getgeneratorstate': <function getgeneratorstate at 0x0000000001504048>, 'v': 'ITERABLE_COROUTINE', '_WrapperDescriptor': <class 'wrapper_descriptor'>, 'builtins': <module 'builtins' (built-in)>, '_signature_strip_non_python_syntax': <function _signature_strip_non_python_syntax at 0x0000000001504598>, '__cached__': 'C:\\\\Program Files\\\\Anaconda3\\\\lib\\\\__pycache__\\\\inspect.cpython-35.pyc', '__package__': '', 'modulesbyfile': {'c:\\\\program files\\\\anaconda3\\\\lib\\\\multiprocessing\\\\__init__.py': 'multiprocessing', 'c:\\\\program files\\\\anaconda3\\\\lib\\\\site-packages\\\\ipython\\\\core\\\\logger.py': 'IPython.core.logger', 'c:\\\\program files\\\\anaconda3\\\\lib\\\\heapq.py': 'heapq', 'c:\\\\program files\\\\anaconda3\\\\lib\\\\site-packages\\\\traitlets\\\\log.py': 'traitlets.log', 'c:\\\\program files\\\\anaconda3\\\\lib\\\\datetime.py': 'datetime', 'c:\\\\program files\\\\anaconda3\\\\lib\\\\site-packages\\\\ipywidgets\\\\widgets\\\\widget_link.py': 'ipywidgets.widgets.widget_link', 'c:\\\\program files\\\\anaconda3\\\\lib\\\\encodings\\\\cp949.py': 'encodings.cp949', 'c:\\\\program files\\\\anaconda3\\\\lib\\\\pstats.py': 'pstats', 'c:\\\\program files\\\\anaconda3\\\\lib\\\\site-packages\\\\ipywidgets\\\\widgets\\\\widget_float.py': 'ipywidgets.widgets.widget_float', 'c:\\\\program files\\\\anaconda3\\\\lib\\\\socket.py': 'socket', 'c:\\\\program files\\\\anaconda3\\\\lib\\\\site-packages\\\\prompt_toolkit\\\\key_binding\\\\input_processor.py': 'prompt_toolkit.key_binding.input_processor', 'c:\\\\program files\\\\anaconda3\\\\lib\\\\site-packages\\\\ipython\\\\utils\\\\strdispatch.py': 'IPython.utils.strdispatch', 'c:\\\\program files\\\\anaconda3\\\\lib\\\\site-packages\\\\setuptools-27.2.0-py3.5.egg\\\\pkg_resources\\\\_vendor\\\\__init__.py': 'pkg_resources._vendor', 'c:\\\\program files\\\\anaconda3\\\\lib\\\\genericpath.py': 'genericpath', 'c:\\\\program files\\\\anaconda3\\\\lib\\\\site-packages\\\\pygments\\\\lexer.py': 'pygments.lexer', 'c:\\\\program files\\\\anaconda3\\\\lib\\\\site-packages\\\\jupyter_client\\\\blocking\\\\client.py': 'jupyter_client.blocking.client', 'c:\\\\program files\\\\anaconda3\\\\lib\\\\concurrent\\\\futures\\\\thread.py': 'concurrent.futures.thread', 'c:\\\\program files\\\\anaconda3\\\\lib\\\\abc.py': 'abc', 'c:\\\\program files\\\\anaconda3\\\\lib\\\\site-packages\\\\ipywidgets\\\\widgets\\\\widget_selectioncontainer.py': 'ipywidgets.widgets.widget_selectioncontainer', 'c:\\\\program files\\\\anaconda3\\\\lib\\\\traceback.py': 'traceback', 'c:\\\\program files\\\\anaconda3\\\\lib\\\\site-packages\\\\ipython\\\\lib\\\\security.py': 'IPython.lib.security', 'c:\\\\program files\\\\anaconda3\\\\lib\\\\_compat_pickle.py': '_compat_pickle', 'c:\\\\program files\\\\anaconda3\\\\lib\\\\site-packages\\\\ipython\\\\utils\\\\pycolorize.py': 'IPython.utils.PyColorize', 'c:\\\\program files\\\\anaconda3\\\\lib\\\\site-packages\\\\pygments\\\\token.py': 'pygments.token', 'c:\\\\program files\\\\anaconda3\\\\lib\\\\bz2.py': 'bz2', 'c:\\\\program files\\\\anaconda3\\\\lib\\\\site-packages\\\\ipython\\\\core\\\\magic_arguments.py': 'IPython.core.magic_arguments', 'c:\\\\program files\\\\anaconda3\\\\lib\\\\site-packages\\\\ipython\\\\testing\\\\__init__.py': 'IPython.testing', 'c:\\\\program files\\\\anaconda3\\\\lib\\\\site-packages\\\\ipykernel\\\\heartbeat.py': 'ipykernel.heartbeat', 'c:\\\\program files\\\\anaconda3\\\\lib\\\\multiprocessing\\\\context.py': 'multiprocessing.context', 'c:\\\\program files\\\\anaconda3\\\\lib\\\\site-packages\\\\ipython\\\\core\\\\events.py': 'IPython.core.events', 'c:\\\\program files\\\\anaconda3\\\\lib\\\\asyncio\\\\compat.py': 'asyncio.compat', 'c:\\\\program files\\\\anaconda3\\\\lib\\\\site-packages\\\\zmq\\\\backend\\\\cython\\\\context.cp35-win_amd64.pyd': 'zmq.backend.cython.context', 'c:\\\\program files\\\\anaconda3\\\\lib\\\\site-packages\\\\jupyter_client\\\\__init__.py': 'jupyter_client', 'c:\\\\program files\\\\anaconda3\\\\lib\\\\pkgutil.py': 'pkgutil', 'c:\\\\program files\\\\anaconda3\\\\lib\\\\site-packages\\\\zmq\\\\backend\\\\cython\\\\__init__.py': 'zmq.backend.cython', 'c:\\\\program files\\\\anaconda3\\\\lib\\\\site-packages\\\\ipython\\\\core\\\\magics\\\\__init__.py': 'IPython.core.magics', 'c:\\\\program files\\\\anaconda3\\\\lib\\\\sre_constants.py': 'sre_constants', 'c:\\\\program files\\\\anaconda3\\\\lib\\\\site-packages\\\\wcwidth\\\\table_wide.py': 'wcwidth.table_wide', 'c:\\\\program files\\\\anaconda3\\\\lib\\\\logging\\\\handlers.py': 'logging.handlers', 'c:\\\\program files\\\\anaconda3\\\\lib\\\\site-packages\\\\ipython\\\\utils\\\\tokenutil.py': 'IPython.utils.tokenutil', 'c:\\\\program files\\\\anaconda3\\\\lib\\\\site-packages\\\\prompt_toolkit\\\\layout\\\\prompt.py': 'prompt_toolkit.layout.prompt', 'c:\\\\program files\\\\anaconda3\\\\lib\\\\site.py': 'site', 'c:\\\\program files\\\\anaconda3\\\\lib\\\\asyncio\\\\base_subprocess.py': 'asyncio.base_subprocess', 'c:\\\\program files\\\\anaconda3\\\\lib\\\\site-packages\\\\setuptools-27.2.0-py3.5.egg\\\\pkg_resources\\\\__init__.py': 'pkg_resources', 'c:\\\\program files\\\\anaconda3\\\\lib\\\\email\\\\__init__.py': 'email', 'c:\\\\program files\\\\anaconda3\\\\lib\\\\site-packages\\\\zmq\\\\utils\\\\__init__.py': 'zmq.utils', 'c:\\\\program files\\\\anaconda3\\\\lib\\\\site-packages\\\\pygments\\\\filters\\\\__init__.py': 'pygments.filters', 'c:\\\\program files\\\\anaconda3\\\\lib\\\\site-packages\\\\tornado\\\\ioloop.py': 'tornado.ioloop', 'c:\\\\program files\\\\anaconda3\\\\lib\\\\encodings\\\\mbcs.py': 'encodings.mbcs', 'c:\\\\program files\\\\anaconda3\\\\lib\\\\site-packages\\\\prompt_toolkit\\\\cache.py': 'prompt_toolkit.cache', 'c:\\\\program files\\\\anaconda3\\\\lib\\\\site-packages\\\\ipython\\\\utils\\\\process.py': 'IPython.utils.process', 'c:\\\\program files\\\\anaconda3\\\\lib\\\\random.py': 'random', 'c:\\\\program files\\\\anaconda3\\\\lib\\\\site-packages\\\\jupyter_client\\\\manager.py': 'jupyter_client.manager', 'c:\\\\program files\\\\anaconda3\\\\lib\\\\site-packages\\\\zmq\\\\backend\\\\cython\\\\socket.cp35-win_amd64.pyd': 'zmq.backend.cython.socket', 'c:\\\\program files\\\\anaconda3\\\\lib\\\\site-packages\\\\zmq\\\\utils\\\\strtypes.py': 'zmq.utils.strtypes', 'c:\\\\program files\\\\anaconda3\\\\lib\\\\ipaddress.py': 'ipaddress', 'c:\\\\program files\\\\anaconda3\\\\lib\\\\site-packages\\\\ipython\\\\utils\\\\text.py': 'IPython.utils.text', 'c:\\\\program files\\\\anaconda3\\\\lib\\\\site-packages\\\\ipython\\\\core\\\\display.py': 'IPython.core.display', 'c:\\\\program files\\\\anaconda3\\\\lib\\\\site-packages\\\\setuptools-27.2.0-py3.5.egg\\\\pkg_resources\\\\_vendor\\\\packaging\\\\__about__.py': 'pkg_resources._vendor.packaging.__about__', 'c:\\\\program files\\\\anaconda3\\\\lib\\\\site-packages\\\\prompt_toolkit\\\\document.py': 'prompt_toolkit.document', 'c:\\\\program files\\\\anaconda3\\\\lib\\\\site-packages\\\\ipython\\\\core\\\\displaypub.py': 'IPython.core.displaypub', 'c:\\\\program files\\\\anaconda3\\\\lib\\\\site-packages\\\\ipython_genutils\\\\_version.py': 'ipython_genutils._version', 'c:\\\\program files\\\\anaconda3\\\\lib\\\\site-packages\\\\tornado\\\\platform\\\\auto.py': 'tornado.platform.auto', 'c:\\\\program files\\\\anaconda3\\\\dlls\\\\_bz2.pyd': '_bz2', 'c:\\\\program files\\\\anaconda3\\\\lib\\\\concurrent\\\\futures\\\\__init__.py': 'concurrent.futures', 'c:\\\\program files\\\\anaconda3\\\\lib\\\\site-packages\\\\ipykernel\\\\comm\\\\comm.py': 'ipykernel.comm.comm', 'c:\\\\program files\\\\anaconda3\\\\dlls\\\\_overlapped.pyd': '_overlapped', 'c:\\\\program files\\\\anaconda3\\\\lib\\\\sysconfig.py': 'sysconfig', 'c:\\\\program files\\\\anaconda3\\\\lib\\\\site-packages\\\\traitlets\\\\config\\\\configurable.py': 'traitlets.config.configurable', 'c:\\\\program files\\\\anaconda3\\\\lib\\\\site-packages\\\\ipykernel\\\\jsonutil.py': 'ipykernel.jsonutil', 'c:\\\\program files\\\\anaconda3\\\\lib\\\\site-packages\\\\ipython\\\\utils\\\\frame.py': 'IPython.utils.frame', 'c:\\\\program files\\\\anaconda3\\\\lib\\\\site-packages\\\\zmq\\\\error.py': 'zmq.error', 'c:\\\\program files\\\\anaconda3\\\\lib\\\\inspect.py': 'inspect', 'c:\\\\program files\\\\anaconda3\\\\lib\\\\site-packages\\\\zmq\\\\sugar\\\\__init__.py': 'zmq.sugar', 'c:\\\\program files\\\\anaconda3\\\\lib\\\\asyncio\\\\streams.py': 'asyncio.streams', 'c:\\\\program files\\\\anaconda3\\\\lib\\\\site-packages\\\\ipywidgets\\\\widgets\\\\widget_int.py': 'ipywidgets.widgets.widget_int', 'c:\\\\program files\\\\anaconda3\\\\lib\\\\site-packages\\\\zmq\\\\libzmq.cp35-win_amd64.pyd': 'zmq.libzmq', 'c:\\\\program files\\\\anaconda3\\\\lib\\\\_sitebuiltins.py': '_sitebuiltins', 'c:\\\\program files\\\\anaconda3\\\\lib\\\\importlib\\\\util.py': 'importlib.util', 'c:\\\\program files\\\\anaconda3\\\\lib\\\\asyncio\\\\windows_utils.py': 'asyncio.windows_utils', 'c:\\\\program files\\\\anaconda3\\\\lib\\\\opcode.py': 'opcode', 'c:\\\\program files\\\\anaconda3\\\\lib\\\\site-packages\\\\ipywidgets\\\\widgets\\\\widget_button.py': 'ipywidgets.widgets.widget_button', 'c:\\\\program files\\\\anaconda3\\\\lib\\\\sqlite3\\\\dbapi2.py': 'sqlite3.dbapi2', 'c:\\\\program files\\\\anaconda3\\\\lib\\\\site-packages\\\\prompt_toolkit\\\\key_binding\\\\bindings\\\\vi.py': 'prompt_toolkit.key_binding.bindings.vi', 'c:\\\\program files\\\\anaconda3\\\\lib\\\\concurrent\\\\futures\\\\_base.py': 'concurrent.futures._base', 'c:\\\\program files\\\\anaconda3\\\\lib\\\\runpy.py': 'runpy', 'c:\\\\program files\\\\anaconda3\\\\lib\\\\email\\\\charset.py': 'email.charset', 'c:\\\\program files\\\\anaconda3\\\\lib\\\\ctypes\\\\util.py': 'ctypes.util', 'c:\\\\program files\\\\anaconda3\\\\lib\\\\site-packages\\\\traitlets\\\\utils\\\\sentinel.py': 'traitlets.utils.sentinel', 'c:\\\\program files\\\\anaconda3\\\\lib\\\\site-packages\\\\ipython\\\\core\\\\magics\\\\namespace.py': 'IPython.core.magics.namespace', 'c:\\\\program files\\\\anaconda3\\\\lib\\\\getpass.py': 'getpass', 'c:\\\\program files\\\\anaconda3\\\\lib\\\\site-packages\\\\ipython\\\\core\\\\page.py': 'IPython.core.page', 'c:\\\\program files\\\\anaconda3\\\\lib\\\\site-packages\\\\tornado\\\\platform\\\\common.py': 'tornado.platform.common', 'c:\\\\program files\\\\anaconda3\\\\lib\\\\site-packages\\\\traitlets\\\\_version.py': 'traitlets._version', 'c:\\\\program files\\\\anaconda3\\\\lib\\\\json\\\\decoder.py': 'json.decoder', 'c:\\\\program files\\\\anaconda3\\\\lib\\\\asyncio\\\\queues.py': 'asyncio.queues', 'c:\\\\program files\\\\anaconda3\\\\lib\\\\site-packages\\\\prompt_toolkit\\\\key_binding\\\\bindings\\\\emacs.py': 'prompt_toolkit.key_binding.bindings.emacs', 'c:\\\\program files\\\\anaconda3\\\\lib\\\\linecache.py': 'linecache', 'c:\\\\program files\\\\anaconda3\\\\lib\\\\typing.py': 'typing', 'c:\\\\program files\\\\anaconda3\\\\lib\\\\site-packages\\\\jupyter_client\\\\channels.py': 'jupyter_client.channels', 'c:\\\\program files\\\\anaconda3\\\\lib\\\\plistlib.py': 'plistlib', 'c:\\\\program files\\\\anaconda3\\\\lib\\\\site-packages\\\\jupyter_client\\\\channelsabc.py': 'jupyter_client.channelsabc', 'c:\\\\program files\\\\anaconda3\\\\lib\\\\email\\\\base64mime.py': 'email.base64mime', 'c:\\\\program files\\\\anaconda3\\\\dlls\\\\_multiprocessing.pyd': '_multiprocessing', 'c:\\\\program files\\\\anaconda3\\\\lib\\\\asyncio\\\\log.py': 'asyncio.log', 'c:\\\\program files\\\\anaconda3\\\\lib\\\\site-packages\\\\ipython\\\\core\\\\payload.py': 'IPython.core.payload', 'c:\\\\program files\\\\anaconda3\\\\lib\\\\site-packages\\\\ipython_genutils\\\\__init__.py': 'ipython_genutils', 'c:\\\\program files\\\\anaconda3\\\\lib\\\\site-packages\\\\ipywidgets\\\\widgets\\\\trait_types.py': 'ipywidgets.widgets.trait_types', 'c:\\\\program files\\\\anaconda3\\\\lib\\\\base64.py': 'base64', 'c:\\\\program files\\\\anaconda3\\\\dlls\\\\unicodedata.pyd': 'unicodedata', 'c:\\\\program files\\\\anaconda3\\\\lib\\\\site-packages\\\\pygments\\\\regexopt.py': 'pygments.regexopt', 'c:\\\\program files\\\\anaconda3\\\\lib\\\\contextlib.py': 'contextlib', 'c:\\\\program files\\\\anaconda3\\\\lib\\\\site-packages\\\\setuptools-27.2.0-py3.5.egg\\\\pkg_resources\\\\_vendor\\\\appdirs.py': 'pkg_resources._vendor.appdirs', 'c:\\\\program files\\\\anaconda3\\\\lib\\\\site-packages\\\\prompt_toolkit\\\\terminal\\\\vt100_output.py': 'prompt_toolkit.terminal.vt100_output', 'c:\\\\program files\\\\anaconda3\\\\lib\\\\asyncio\\\\futures.py': 'asyncio.futures', 'c:\\\\program files\\\\anaconda3\\\\lib\\\\pydoc.py': 'pydoc', 'c:\\\\program files\\\\anaconda3\\\\lib\\\\site-packages\\\\tornado\\\\platform\\\\windows.py': 'tornado.platform.windows', 'c:\\\\program files\\\\anaconda3\\\\lib\\\\site-packages\\\\ipython\\\\terminal\\\\ptutils.py': 'IPython.terminal.ptutils', 'c:\\\\program files\\\\anaconda3\\\\dlls\\\\_ssl.pyd': '_ssl', 'c:\\\\program files\\\\anaconda3\\\\lib\\\\_collections_abc.py': 'collections.abc', 'c:\\\\program files\\\\anaconda3\\\\lib\\\\site-packages\\\\prompt_toolkit\\\\selection.py': 'prompt_toolkit.selection', 'c:\\\\program files\\\\anaconda3\\\\lib\\\\site-packages\\\\prompt_toolkit\\\\auto_suggest.py': 'prompt_toolkit.auto_suggest', 'c:\\\\program files\\\\anaconda3\\\\lib\\\\_strptime.py': '_strptime', 'c:\\\\program files\\\\anaconda3\\\\lib\\\\site-packages\\\\ipython\\\\lib\\\\clipboard.py': 'IPython.lib.clipboard', 'c:\\\\program files\\\\anaconda3\\\\lib\\\\site-packages\\\\ipywidgets\\\\widgets\\\\widget_image.py': 'ipywidgets.widgets.widget_image', 'c:\\\\program files\\\\anaconda3\\\\lib\\\\site-packages\\\\ipython\\\\terminal\\\\__init__.py': 'IPython.terminal', 'c:\\\\program files\\\\anaconda3\\\\lib\\\\pathlib.py': 'pathlib', 'c:\\\\program files\\\\anaconda3\\\\lib\\\\site-packages\\\\ipython\\\\testing\\\\skipdoctest.py': 'IPython.testing.skipdoctest', 'c:\\\\program files\\\\anaconda3\\\\lib\\\\site-packages\\\\prompt_toolkit\\\\layout\\\\utils.py': 'prompt_toolkit.layout.utils', 'c:\\\\program files\\\\anaconda3\\\\lib\\\\site-packages\\\\ipython\\\\core\\\\profiledir.py': 'IPython.core.profiledir', 'c:\\\\program files\\\\anaconda3\\\\lib\\\\site-packages\\\\ipython\\\\utils\\\\ipstruct.py': 'IPython.utils.ipstruct', 'c:\\\\program files\\\\anaconda3\\\\lib\\\\importlib\\\\abc.py': 'importlib.abc', 'c:\\\\program files\\\\anaconda3\\\\lib\\\\site-packages\\\\ipykernel\\\\comm\\\\__init__.py': 'ipykernel.comm', 'c:\\\\program files\\\\anaconda3\\\\lib\\\\site-packages\\\\ipython\\\\extensions\\\\__init__.py': 'IPython.extensions', 'c:\\\\program files\\\\anaconda3\\\\lib\\\\site-packages\\\\zmq\\\\backend\\\\cython\\\\_version.cp35-win_amd64.pyd': 'zmq.backend.cython._version', 'c:\\\\program files\\\\anaconda3\\\\lib\\\\asyncio\\\\locks.py': 'asyncio.locks', 'c:\\\\program files\\\\anaconda3\\\\lib\\\\site-packages\\\\ipython\\\\core\\\\autocall.py': 'IPython.core.autocall', 'c:\\\\program files\\\\anaconda3\\\\lib\\\\site-packages\\\\ipywidgets\\\\widgets\\\\widget_box.py': 'ipywidgets.widgets.widget_box', 'c:\\\\program files\\\\anaconda3\\\\lib\\\\email\\\\_encoded_words.py': 'email._encoded_words', 'c:\\\\program files\\\\anaconda3\\\\lib\\\\enum.py': 'enum', 'c:\\\\program files\\\\anaconda3\\\\lib\\\\site-packages\\\\prompt_toolkit\\\\styles\\\\__init__.py': 'prompt_toolkit.styles', 'c:\\\\program files\\\\anaconda3\\\\lib\\\\site-packages\\\\ipython\\\\core\\\\excolors.py': 'IPython.core.excolors', 'c:\\\\program files\\\\anaconda3\\\\lib\\\\site-packages\\\\prompt_toolkit\\\\history.py': 'prompt_toolkit.history', 'c:\\\\program files\\\\anaconda3\\\\lib\\\\site-packages\\\\jupyter_client\\\\client.py': 'jupyter_client.client', 'c:\\\\program files\\\\anaconda3\\\\lib\\\\site-packages\\\\prompt_toolkit\\\\renderer.py': 'prompt_toolkit.renderer', 'c:\\\\program files\\\\anaconda3\\\\lib\\\\site-packages\\\\zmq\\\\eventloop\\\\zmqstream.py': 'zmq.eventloop.zmqstream', 'c:\\\\program files\\\\anaconda3\\\\lib\\\\site-packages\\\\prompt_toolkit\\\\filters\\\\base.py': 'prompt_toolkit.filters.base', 'c:\\\\program files\\\\anaconda3\\\\lib\\\\site-packages\\\\ipython\\\\core\\\\completerlib.py': 'IPython.core.completerlib', 'c:\\\\program files\\\\anaconda3\\\\lib\\\\asyncio\\\\tasks.py': 'asyncio.tasks', 'c:\\\\program files\\\\anaconda3\\\\lib\\\\numbers.py': 'numbers', 'c:\\\\program files\\\\anaconda3\\\\lib\\\\site-packages\\\\ipython\\\\core\\\\magics\\\\extension.py': 'IPython.core.magics.extension', 'c:\\\\program files\\\\anaconda3\\\\lib\\\\site-packages\\\\ipython\\\\utils\\\\io.py': 'IPython.utils.io', 'c:\\\\program files\\\\anaconda3\\\\lib\\\\site-packages\\\\prompt_toolkit\\\\mouse_events.py': 'prompt_toolkit.mouse_events', 'c:\\\\program files\\\\anaconda3\\\\lib\\\\site-packages\\\\ipykernel\\\\connect.py': 'ipykernel.connect', 'c:\\\\program files\\\\anaconda3\\\\lib\\\\site-packages\\\\ipykernel\\\\parentpoller.py': 'ipykernel.parentpoller', 'c:\\\\program files\\\\anaconda3\\\\lib\\\\getopt.py': 'getopt', 'c:\\\\program files\\\\anaconda3\\\\lib\\\\site-packages\\\\ipykernel\\\\zmqshell.py': 'ipykernel.zmqshell', 'c:\\\\program files\\\\anaconda3\\\\lib\\\\site-packages\\\\jupyter_client\\\\blocking\\\\__init__.py': 'jupyter_client.blocking', 'c:\\\\program files\\\\anaconda3\\\\lib\\\\site-packages\\\\ipython\\\\lib\\\\__init__.py': 'IPython.lib', 'c:\\\\program files\\\\anaconda3\\\\lib\\\\email\\\\quoprimime.py': 'email.quoprimime', 'c:\\\\program files\\\\anaconda3\\\\lib\\\\site-packages\\\\ipython\\\\core\\\\completer.py': 'IPython.core.completer', 'c:\\\\program files\\\\anaconda3\\\\lib\\\\ctypes\\\\wintypes.py': 'ctypes.wintypes', 'c:\\\\program files\\\\anaconda3\\\\lib\\\\site-packages\\\\ipykernel\\\\comm\\\\manager.py': 'ipykernel.comm.manager', 'c:\\\\program files\\\\anaconda3\\\\lib\\\\site-packages\\\\prompt_toolkit\\\\styles\\\\defaults.py': 'prompt_toolkit.styles.defaults', 'c:\\\\program files\\\\anaconda3\\\\lib\\\\site-packages\\\\pygments\\\\styles\\\\__init__.py': 'pygments.styles', 'c:\\\\program files\\\\anaconda3\\\\lib\\\\asyncio\\\\protocols.py': 'asyncio.protocols', 'c:\\\\program files\\\\anaconda3\\\\lib\\\\asyncio\\\\events.py': 'asyncio.events', 'c:\\\\program files\\\\anaconda3\\\\lib\\\\site-packages\\\\ipython\\\\core\\\\builtin_trap.py': 'IPython.core.builtin_trap', 'c:\\\\program files\\\\anaconda3\\\\lib\\\\site-packages\\\\pygments\\\\formatters\\\\_mapping.py': 'pygments.formatters._mapping', 'c:\\\\program files\\\\anaconda3\\\\lib\\\\site-packages\\\\ipython\\\\utils\\\\timing.py': 'IPython.utils.timing', 'c:\\\\program files\\\\anaconda3\\\\lib\\\\site-packages\\\\ipython\\\\utils\\\\_sysinfo.py': 'IPython.utils._sysinfo', 'c:\\\\program files\\\\anaconda3\\\\lib\\\\site-packages\\\\ipython\\\\core\\\\interactiveshell.py': 'IPython.core.interactiveshell', 'c:\\\\program files\\\\anaconda3\\\\lib\\\\site-packages\\\\zmq\\\\sugar\\\\socket.py': 'zmq.sugar.socket', 'c:\\\\program files\\\\anaconda3\\\\lib\\\\site-packages\\\\ipywidgets\\\\widgets\\\\__init__.py': 'ipywidgets.widgets', 'c:\\\\program files\\\\anaconda3\\\\lib\\\\site-packages\\\\zmq\\\\sugar\\\\poll.py': 'zmq.sugar.poll', 'c:\\\\program files\\\\anaconda3\\\\lib\\\\site-packages\\\\ipython\\\\utils\\\\tempdir.py': 'IPython.utils.tempdir', 'c:\\\\program files\\\\anaconda3\\\\lib\\\\site-packages\\\\prompt_toolkit\\\\layout\\\\processors.py': 'prompt_toolkit.layout.processors', 'c:\\\\program files\\\\anaconda3\\\\lib\\\\sre_parse.py': 'sre_parse', 'c:\\\\program files\\\\anaconda3\\\\lib\\\\site-packages\\\\ipython\\\\terminal\\\\debugger.py': 'IPython.terminal.debugger', 'c:\\\\program files\\\\anaconda3\\\\lib\\\\site-packages\\\\setuptools-27.2.0-py3.5.egg\\\\pkg_resources\\\\_vendor\\\\packaging\\\\_structures.py': 'pkg_resources.extern.packaging._structures', 'c:\\\\program files\\\\anaconda3\\\\lib\\\\site-packages\\\\ipython\\\\core\\\\magics\\\\code.py': 'IPython.core.magics.code', 'c:\\\\program files\\\\anaconda3\\\\lib\\\\site-packages\\\\ipython\\\\core\\\\magics\\\\execution.py': 'IPython.core.magics.execution', 'c:\\\\program files\\\\anaconda3\\\\lib\\\\site-packages\\\\wcwidth\\\\wcwidth.py': 'wcwidth.wcwidth', 'c:\\\\program files\\\\anaconda3\\\\lib\\\\site-packages\\\\ipython\\\\utils\\\\contexts.py': 'IPython.utils.contexts', 'c:\\\\program files\\\\anaconda3\\\\lib\\\\ssl.py': 'ssl', 'c:\\\\program files\\\\anaconda3\\\\lib\\\\quopri.py': 'quopri', 'c:\\\\program files\\\\anaconda3\\\\lib\\\\site-packages\\\\ipython\\\\utils\\\\ulinecache.py': 'IPython.utils.ulinecache', 'c:\\\\program files\\\\anaconda3\\\\lib\\\\site-packages\\\\ipywidgets\\\\_version.py': 'ipywidgets._version', 'c:\\\\program files\\\\anaconda3\\\\lib\\\\site-packages\\\\ipython_genutils\\\\py3compat.py': 'ipython_genutils.py3compat', 'c:\\\\program files\\\\anaconda3\\\\lib\\\\encodings\\\\aliases.py': 'encodings.aliases', 'c:\\\\program files\\\\anaconda3\\\\lib\\\\site-packages\\\\win32\\\\win32api.pyd': 'win32api', 'c:\\\\program files\\\\anaconda3\\\\dlls\\\\_hashlib.pyd': '_hashlib', 'c:\\\\program files\\\\anaconda3\\\\lib\\\\ctypes\\\\_endian.py': 'ctypes._endian', 'c:\\\\program files\\\\anaconda3\\\\lib\\\\site-packages\\\\zmq\\\\backend\\\\select.py': 'zmq.backend.select', 'c:\\\\program files\\\\anaconda3\\\\lib\\\\site-packages\\\\ipython\\\\utils\\\\sentinel.py': 'IPython.utils.sentinel', 'c:\\\\program files\\\\anaconda3\\\\lib\\\\site-packages\\\\traitlets\\\\config\\\\application.py': 'traitlets.config.application', 'c:\\\\program files\\\\anaconda3\\\\lib\\\\bisect.py': 'bisect', 'c:\\\\program files\\\\anaconda3\\\\lib\\\\tempfile.py': 'tempfile', 'c:\\\\program files\\\\anaconda3\\\\lib\\\\site-packages\\\\prompt_toolkit\\\\layout\\\\menus.py': 'prompt_toolkit.layout.menus', 'c:\\\\program files\\\\anaconda3\\\\lib\\\\site-packages\\\\ipywidgets\\\\widgets\\\\widget.py': 'ipywidgets.widgets.widget', 'c:\\\\program files\\\\anaconda3\\\\lib\\\\site-packages\\\\ipython\\\\__init__.py': 'IPython', 'c:\\\\program files\\\\anaconda3\\\\lib\\\\site-packages\\\\ipython\\\\core\\\\hooks.py': 'IPython.core.hooks', 'c:\\\\program files\\\\anaconda3\\\\lib\\\\site-packages\\\\prompt_toolkit\\\\clipboard\\\\__init__.py': 'prompt_toolkit.clipboard', 'c:\\\\program files\\\\anaconda3\\\\lib\\\\multiprocessing\\\\process.py': 'multiprocessing.process', 'c:\\\\program files\\\\anaconda3\\\\lib\\\\xml\\\\parsers\\\\expat.py': 'xml.parsers.expat', 'c:\\\\program files\\\\anaconda3\\\\lib\\\\multiprocessing\\\\connection.py': 'multiprocessing.connection', 'c:\\\\program files\\\\anaconda3\\\\lib\\\\site-packages\\\\ipython\\\\utils\\\\capture.py': 'IPython.utils.capture', 'c:\\\\program files\\\\anaconda3\\\\lib\\\\site-packages\\\\zmq\\\\sugar\\\\constants.py': 'zmq.sugar.constants', 'c:\\\\program files\\\\anaconda3\\\\lib\\\\email\\\\encoders.py': 'email.encoders', 'c:\\\\program files\\\\anaconda3\\\\lib\\\\site-packages\\\\prompt_toolkit\\\\utils.py': 'prompt_toolkit.utils', 'c:\\\\program files\\\\anaconda3\\\\lib\\\\site-packages\\\\pygments\\\\formatters\\\\html.py': 'pygments.formatters.html', 'c:\\\\program files\\\\anaconda3\\\\lib\\\\asyncio\\\\subprocess.py': 'asyncio.subprocess', 'c:\\\\program files\\\\anaconda3\\\\lib\\\\_bootlocale.py': '_bootlocale', 'c:\\\\program files\\\\anaconda3\\\\lib\\\\site-packages\\\\prompt_toolkit\\\\eventloop\\\\base.py': 'prompt_toolkit.eventloop.base', 'c:\\\\program files\\\\anaconda3\\\\lib\\\\site-packages\\\\ipython\\\\core\\\\inputsplitter.py': 'IPython.core.inputsplitter', 'c:\\\\program files\\\\anaconda3\\\\lib\\\\token.py': 'token', 'c:\\\\program files\\\\anaconda3\\\\lib\\\\site-packages\\\\ipython\\\\core\\\\magics\\\\script.py': 'IPython.core.magics.script', 'c:\\\\program files\\\\anaconda3\\\\lib\\\\site-packages\\\\ipython\\\\core\\\\magic.py': 'IPython.core.magic', 'c:\\\\program files\\\\anaconda3\\\\lib\\\\site-packages\\\\prompt_toolkit\\\\terminal\\\\__init__.py': 'prompt_toolkit.terminal', 'c:\\\\program files\\\\anaconda3\\\\lib\\\\email\\\\utils.py': 'email.utils', 'c:\\\\program files\\\\anaconda3\\\\lib\\\\asyncio\\\\proactor_events.py': 'asyncio.proactor_events', 'c:\\\\program files\\\\anaconda3\\\\lib\\\\site-packages\\\\ipywidgets\\\\widgets\\\\widget_layout.py': 'ipywidgets.widgets.widget_layout', 'c:\\\\program files\\\\anaconda3\\\\lib\\\\importlib\\\\__init__.py': 'importlib', 'c:\\\\program files\\\\anaconda3\\\\lib\\\\site-packages\\\\ipython\\\\lib\\\\backgroundjobs.py': 'IPython.lib.backgroundjobs', 'c:\\\\program files\\\\anaconda3\\\\lib\\\\site-packages\\\\pygments\\\\filter.py': 'pygments.filter', 'c:\\\\program files\\\\anaconda3\\\\lib\\\\site-packages\\\\pygments\\\\lexers\\\\_mapping.py': 'pygments.lexers._mapping', 'c:\\\\program files\\\\anaconda3\\\\lib\\\\copy.py': 'copy', 'c:\\\\program files\\\\anaconda3\\\\lib\\\\site-packages\\\\prompt_toolkit\\\\terminal\\\\conemu_output.py': 'prompt_toolkit.terminal.conemu_output', 'c:\\\\program files\\\\anaconda3\\\\lib\\\\zipfile.py': 'zipfile', 'c:\\\\program files\\\\anaconda3\\\\lib\\\\site-packages\\\\zmq\\\\backend\\\\cython\\\\utils.cp35-win_amd64.pyd': 'zmq.backend.cython.utils', 'c:\\\\program files\\\\anaconda3\\\\lib\\\\pprint.py': 'pprint', 'c:\\\\program files\\\\anaconda3\\\\lib\\\\site-packages\\\\tornado\\\\util.py': 'tornado.util', 'c:\\\\program files\\\\anaconda3\\\\lib\\\\site-packages\\\\ipython\\\\core\\\\alias.py': 'IPython.core.alias', 'c:\\\\program files\\\\anaconda3\\\\lib\\\\site-packages\\\\pygments\\\\unistring.py': 'pygments.unistring', 'c:\\\\program files\\\\anaconda3\\\\lib\\\\calendar.py': 'calendar', 'c:\\\\program files\\\\anaconda3\\\\lib\\\\types.py': 'types', 'c:\\\\program files\\\\anaconda3\\\\lib\\\\multiprocessing\\\\reduction.py': 'multiprocessing.reduction', 'c:\\\\program files\\\\anaconda3\\\\lib\\\\_compression.py': '_compression', 'c:\\\\program files\\\\anaconda3\\\\lib\\\\ntpath.py': 'ntpath', 'c:\\\\program files\\\\anaconda3\\\\lib\\\\site-packages\\\\ipywidgets\\\\widgets\\\\widget_selection.py': 'ipywidgets.widgets.widget_selection', 'c:\\\\program files\\\\anaconda3\\\\lib\\\\concurrent\\\\__init__.py': 'concurrent', 'c:\\\\program files\\\\anaconda3\\\\lib\\\\asyncio\\\\base_events.py': 'asyncio.base_events', 'c:\\\\program files\\\\anaconda3\\\\lib\\\\site-packages\\\\ipython\\\\utils\\\\_process_win32.py': 'IPython.utils._process_win32', 'c:\\\\program files\\\\anaconda3\\\\lib\\\\site-packages\\\\ipython\\\\core\\\\magics\\\\config.py': 'IPython.core.magics.config', 'c:\\\\program files\\\\anaconda3\\\\lib\\\\sre_compile.py': 'sre_compile', 'c:\\\\program files\\\\anaconda3\\\\lib\\\\site-packages\\\\setuptools-27.2.0-py3.5.egg\\\\pkg_resources\\\\_vendor\\\\pyparsing.py': 'pkg_resources._vendor.pyparsing', 'c:\\\\program files\\\\anaconda3\\\\lib\\\\site-packages\\\\ipython_genutils\\\\text.py': 'ipython_genutils.text', 'c:\\\\program files\\\\anaconda3\\\\lib\\\\site-packages\\\\prompt_toolkit\\\\filters\\\\utils.py': 'prompt_toolkit.filters.utils', 'c:\\\\program files\\\\anaconda3\\\\lib\\\\site-packages\\\\prompt_toolkit\\\\interface.py': 'prompt_toolkit.interface', 'c:\\\\program files\\\\anaconda3\\\\lib\\\\site-packages\\\\prompt_toolkit\\\\terminal\\\\win32_input.py': 'prompt_toolkit.terminal.win32_input', 'c:\\\\program files\\\\anaconda3\\\\lib\\\\site-packages\\\\ipython\\\\core\\\\splitinput.py': 'IPython.core.splitinput', 'c:\\\\program files\\\\anaconda3\\\\lib\\\\email\\\\iterators.py': 'email.iterators', 'c:\\\\program files\\\\anaconda3\\\\lib\\\\site-packages\\\\prompt_toolkit\\\\styles\\\\from_pygments.py': 'prompt_toolkit.styles.from_pygments', 'c:\\\\program files\\\\anaconda3\\\\lib\\\\email\\\\message.py': 'email.message', 'c:\\\\program files\\\\anaconda3\\\\lib\\\\site-packages\\\\ipython\\\\utils\\\\terminal.py': 'IPython.utils.terminal', 'c:\\\\program files\\\\anaconda3\\\\lib\\\\site-packages\\\\prompt_toolkit\\\\key_binding\\\\digraphs.py': 'prompt_toolkit.key_binding.digraphs', 'c:\\\\program files\\\\anaconda3\\\\lib\\\\site-packages\\\\prompt_toolkit\\\\styles\\\\utils.py': 'prompt_toolkit.styles.utils', 'c:\\\\program files\\\\anaconda3\\\\lib\\\\site-packages\\\\ipykernel\\\\serialize.py': 'ipykernel.serialize', 'c:\\\\program files\\\\anaconda3\\\\lib\\\\site-packages\\\\ipywidgets\\\\widgets\\\\widget_output.py': 'ipywidgets.widgets.widget_output', 'c:\\\\program files\\\\anaconda3\\\\lib\\\\site-packages\\\\ipython\\\\utils\\\\path.py': 'IPython.utils.path', 'c:\\\\program files\\\\anaconda3\\\\lib\\\\site-packages\\\\prompt_toolkit\\\\key_binding\\\\vi_state.py': 'prompt_toolkit.key_binding.vi_state', 'c:\\\\program files\\\\anaconda3\\\\lib\\\\email\\\\errors.py': 'email.errors', 'c:\\\\program files\\\\anaconda3\\\\lib\\\\site-packages\\\\ipython\\\\terminal\\\\ipapp.py': 'IPython.terminal.ipapp', 'c:\\\\program files\\\\anaconda3\\\\lib\\\\site-packages\\\\traitlets\\\\utils\\\\bunch.py': 'traitlets.utils.bunch', 'c:\\\\program files\\\\anaconda3\\\\lib\\\\site-packages\\\\zmq\\\\eventloop\\\\ioloop.py': 'zmq.eventloop.ioloop', 'c:\\\\program files\\\\anaconda3\\\\lib\\\\site-packages\\\\zmq\\\\eventloop\\\\__init__.py': 'zmq.eventloop', 'c:\\\\program files\\\\anaconda3\\\\lib\\\\encodings\\\\utf_8.py': 'encodings.utf_8', 'c:\\\\program files\\\\anaconda3\\\\lib\\\\site-packages\\\\prompt_toolkit\\\\layout\\\\screen.py': 'prompt_toolkit.layout.screen', 'c:\\\\program files\\\\anaconda3\\\\lib\\\\site-packages\\\\jupyter_core\\\\paths.py': 'jupyter_core.paths', 'c:\\\\program files\\\\anaconda3\\\\lib\\\\site-packages\\\\zmq\\\\backend\\\\cython\\\\_device.cp35-win_amd64.pyd': 'zmq.backend.cython._device', 'c:\\\\program files\\\\anaconda3\\\\lib\\\\site-packages\\\\ipython\\\\core\\\\inputtransformer.py': 'IPython.core.inputtransformer', 'c:\\\\program files\\\\anaconda3\\\\lib\\\\struct.py': 'struct', 'c:\\\\program files\\\\anaconda3\\\\lib\\\\fnmatch.py': 'fnmatch', 'c:\\\\program files\\\\anaconda3\\\\lib\\\\site-packages\\\\prompt_toolkit\\\\key_binding\\\\bindings\\\\completion.py': 'prompt_toolkit.key_binding.bindings.completion', 'c:\\\\program files\\\\anaconda3\\\\lib\\\\site-packages\\\\pygments\\\\lexers\\\\python.py': 'pygments.lexers.python', 'c:\\\\program files\\\\anaconda3\\\\lib\\\\site-packages\\\\ipython\\\\terminal\\\\pt_inputhooks\\\\__init__.py': 'IPython.terminal.pt_inputhooks', 'c:\\\\program files\\\\anaconda3\\\\lib\\\\site-packages\\\\ipython\\\\core\\\\latex_symbols.py': 'IPython.core.latex_symbols', 'c:\\\\program files\\\\anaconda3\\\\lib\\\\site-packages\\\\zmq\\\\backend\\\\cython\\\\message.cp35-win_amd64.pyd': 'zmq.backend.cython.message', 'c:\\\\program files\\\\anaconda3\\\\lib\\\\site-packages\\\\zmq\\\\backend\\\\cython\\\\_poll.cp35-win_amd64.pyd': 'zmq.backend.cython._poll', 'c:\\\\program files\\\\anaconda3\\\\lib\\\\site-packages\\\\ipython\\\\core\\\\prefilter.py': 'IPython.core.prefilter', 'c:\\\\program files\\\\anaconda3\\\\lib\\\\site-packages\\\\pygments\\\\formatter.py': 'pygments.formatter', 'c:\\\\program files\\\\anaconda3\\\\lib\\\\site-packages\\\\prompt_toolkit\\\\key_binding\\\\bindings\\\\utils.py': 'prompt_toolkit.key_binding.bindings.utils', 'c:\\\\program files\\\\anaconda3\\\\lib\\\\site-packages\\\\ipython\\\\terminal\\\\shortcuts.py': 'IPython.terminal.shortcuts', 'c:\\\\program files\\\\anaconda3\\\\lib\\\\site-packages\\\\zmq\\\\utils\\\\constant_names.py': 'zmq.utils.constant_names', 'c:\\\\program files\\\\anaconda3\\\\lib\\\\site-packages\\\\setuptools-27.2.0-py3.5.egg\\\\pkg_resources\\\\_vendor\\\\packaging\\\\specifiers.py': 'pkg_resources.extern.packaging.specifiers', 'c:\\\\program files\\\\anaconda3\\\\lib\\\\uuid.py': 'uuid', 'c:\\\\program files\\\\anaconda3\\\\lib\\\\bdb.py': 'bdb', 'c:\\\\program files\\\\anaconda3\\\\lib\\\\site-packages\\\\wcwidth\\\\__init__.py': 'wcwidth', 'c:\\\\program files\\\\anaconda3\\\\lib\\\\site-packages\\\\jupyter_client\\\\managerabc.py': 'jupyter_client.managerabc', 'c:\\\\program files\\\\anaconda3\\\\lib\\\\shutil.py': 'shutil', 'c:\\\\program files\\\\anaconda3\\\\lib\\\\email\\\\header.py': 'email.header', 'c:\\\\program files\\\\anaconda3\\\\lib\\\\site-packages\\\\prompt_toolkit\\\\input.py': 'prompt_toolkit.input', 'c:\\\\program files\\\\anaconda3\\\\lib\\\\site-packages\\\\ipython\\\\utils\\\\generics.py': 'IPython.utils.generics', 'c:\\\\program files\\\\anaconda3\\\\lib\\\\site-packages\\\\prompt_toolkit\\\\clipboard\\\\base.py': 'prompt_toolkit.clipboard.base', 'c:\\\\program files\\\\anaconda3\\\\lib\\\\site-packages\\\\zmq\\\\sugar\\\\attrsettr.py': 'zmq.sugar.attrsettr', 'c:\\\\program files\\\\anaconda3\\\\lib\\\\pdb.py': 'pdb', 'c:\\\\program files\\\\anaconda3\\\\lib\\\\site-packages\\\\prompt_toolkit\\\\layout\\\\controls.py': 'prompt_toolkit.layout.controls', 'c:\\\\program files\\\\anaconda3\\\\lib\\\\codecs.py': 'codecs', 'c:\\\\program files\\\\anaconda3\\\\lib\\\\site-packages\\\\prompt_toolkit\\\\completion.py': 'prompt_toolkit.completion', 'c:\\\\program files\\\\anaconda3\\\\lib\\\\site-packages\\\\jupyter_client\\\\localinterfaces.py': 'jupyter_client.localinterfaces', 'c:\\\\program files\\\\anaconda3\\\\lib\\\\site-packages\\\\prompt_toolkit\\\\filters\\\\__init__.py': 'prompt_toolkit.filters', 'c:\\\\program files\\\\anaconda3\\\\lib\\\\site-packages\\\\ipython\\\\core\\\\shellapp.py': 'IPython.core.shellapp', 'c:\\\\program files\\\\anaconda3\\\\lib\\\\site-packages\\\\ipython\\\\extensions\\\\storemagic.py': 'IPython.extensions.storemagic', 'c:\\\\program files\\\\anaconda3\\\\lib\\\\site-packages\\\\ipywidgets\\\\widgets\\\\eventful.py': 'ipywidgets.widgets.eventful', 'c:\\\\program files\\\\anaconda3\\\\lib\\\\site-packages\\\\zmq\\\\sugar\\\\tracker.py': 'zmq.sugar.tracker', 'c:\\\\program files\\\\anaconda3\\\\lib\\\\cprofile.py': 'cProfile', 'c:\\\\program files\\\\anaconda3\\\\lib\\\\site-packages\\\\traitlets\\\\utils\\\\getargspec.py': 'traitlets.utils.getargspec', 'c:\\\\program files\\\\anaconda3\\\\lib\\\\asyncio\\\\transports.py': 'asyncio.transports', 'c:\\\\program files\\\\anaconda3\\\\lib\\\\site-packages\\\\ipython\\\\terminal\\\\interactiveshell.py': 'IPython.terminal.interactiveshell', 'c:\\\\program files\\\\anaconda3\\\\lib\\\\site-packages\\\\ipython\\\\core\\\\macro.py': 'IPython.core.macro', 'c:\\\\program files\\\\anaconda3\\\\lib\\\\asyncio\\\\windows_events.py': 'asyncio.windows_events', 'c:\\\\program files\\\\anaconda3\\\\lib\\\\site-packages\\\\jupyter_client\\\\_version.py': 'jupyter_client._version', 'c:\\\\program files\\\\anaconda3\\\\lib\\\\threading.py': 'threading', 'c:\\\\program files\\\\anaconda3\\\\lib\\\\site-packages\\\\pygments\\\\__init__.py': 'pygments', 'c:\\\\program files\\\\anaconda3\\\\lib\\\\site-packages\\\\ipython\\\\core\\\\magics\\\\pylab.py': 'IPython.core.magics.pylab', 'c:\\\\program files\\\\anaconda3\\\\lib\\\\site-packages\\\\jupyter_core\\\\version.py': 'jupyter_core.version', 'c:\\\\program files\\\\anaconda3\\\\lib\\\\site-packages\\\\ipywidgets\\\\widgets\\\\widget_controller.py': 'ipywidgets.widgets.widget_controller', 'c:\\\\program files\\\\anaconda3\\\\lib\\\\site-packages\\\\ipywidgets\\\\widgets\\\\domwidget.py': 'ipywidgets.widgets.domwidget', 'c:\\\\program files\\\\anaconda3\\\\lib\\\\codeop.py': 'codeop', 'c:\\\\program files\\\\anaconda3\\\\lib\\\\site-packages\\\\ipython\\\\core\\\\getipython.py': 'IPython.core.getipython', 'c:\\\\program files\\\\anaconda3\\\\lib\\\\site-packages\\\\tornado\\\\platform\\\\__init__.py': 'tornado.platform', 'c:\\\\program files\\\\anaconda3\\\\lib\\\\site-packages\\\\zmq\\\\sugar\\\\frame.py': 'zmq.sugar.frame', 'c:\\\\program files\\\\anaconda3\\\\lib\\\\site-packages\\\\tornado\\\\concurrent.py': 'tornado.concurrent', 'c:\\\\program files\\\\anaconda3\\\\lib\\\\pickle.py': 'pickle', 'c:\\\\program files\\\\anaconda3\\\\lib\\\\importlib\\\\_bootstrap_external.py': 'importlib._bootstrap_external', 'c:\\\\program files\\\\anaconda3\\\\lib\\\\optparse.py': 'optparse', 'c:\\\\program files\\\\anaconda3\\\\lib\\\\imp.py': 'imp', 'c:\\\\program files\\\\anaconda3\\\\lib\\\\site-packages\\\\prompt_toolkit\\\\layout\\\\dimension.py': 'prompt_toolkit.layout.dimension', 'c:\\\\program files\\\\anaconda3\\\\lib\\\\site-packages\\\\prompt_toolkit\\\\clipboard\\\\in_memory.py': 'prompt_toolkit.clipboard.in_memory', 'c:\\\\program files\\\\anaconda3\\\\lib\\\\site-packages\\\\prompt_toolkit\\\\key_binding\\\\manager.py': 'prompt_toolkit.key_binding.manager', 'c:\\\\program files\\\\anaconda3\\\\lib\\\\site-packages\\\\ipython\\\\core\\\\magics\\\\history.py': 'IPython.core.magics.history', 'c:\\\\program files\\\\anaconda3\\\\lib\\\\site-packages\\\\pygments\\\\util.py': 'pygments.util', 'c:\\\\program files\\\\anaconda3\\\\lib\\\\site-packages\\\\traitlets\\\\traitlets.py': 'traitlets.traitlets', 'c:\\\\program files\\\\anaconda3\\\\lib\\\\site-packages\\\\ipython\\\\core\\\\magics\\\\osm.py': 'IPython.core.magics.osm', 'c:\\\\program files\\\\anaconda3\\\\lib\\\\site-packages\\\\traitlets\\\\config\\\\loader.py': 'traitlets.config.loader', 'c:\\\\program files\\\\anaconda3\\\\lib\\\\site-packages\\\\prompt_toolkit\\\\layout\\\\containers.py': 'prompt_toolkit.layout.containers', 'c:\\\\program files\\\\anaconda3\\\\lib\\\\site-packages\\\\pygments\\\\style.py': 'pygments.style', 'c:\\\\program files\\\\anaconda3\\\\lib\\\\site-packages\\\\ipython\\\\core\\\\ultratb.py': 'IPython.core.ultratb', 'c:\\\\program files\\\\anaconda3\\\\lib\\\\asyncio\\\\coroutines.py': 'asyncio.coroutines', 'c:\\\\program files\\\\anaconda3\\\\lib\\\\encodings\\\\__init__.py': 'encodings', 'c:\\\\program files\\\\anaconda3\\\\lib\\\\site-packages\\\\prompt_toolkit\\\\search_state.py': 'prompt_toolkit.search_state', 'c:\\\\program files\\\\anaconda3\\\\lib\\\\site-packages\\\\pygments\\\\plugin.py': 'pygments.plugin', 'c:\\\\program files\\\\anaconda3\\\\lib\\\\site-packages\\\\pygments\\\\styles\\\\default.py': 'pygments.styles.default', 'c:\\\\program files\\\\anaconda3\\\\lib\\\\site-packages\\\\ipython\\\\utils\\\\py3compat.py': 'IPython.utils.py3compat', 'c:\\\\program files\\\\anaconda3\\\\lib\\\\site-packages\\\\ipython\\\\core\\\\displayhook.py': 'IPython.core.displayhook', 'c:\\\\program files\\\\anaconda3\\\\lib\\\\site-packages\\\\zmq\\\\sugar\\\\context.py': 'zmq.sugar.context', 'c:\\\\program files\\\\anaconda3\\\\lib\\\\email\\\\_policybase.py': 'email._policybase', 'c:\\\\program files\\\\anaconda3\\\\lib\\\\site-packages\\\\ipython_genutils\\\\encoding.py': 'ipython_genutils.encoding', 'c:\\\\program files\\\\anaconda3\\\\lib\\\\site-packages\\\\ipython\\\\core\\\\magics\\\\logging.py': 'IPython.core.magics.logging', 'c:\\\\program files\\\\anaconda3\\\\lib\\\\site-packages\\\\ipython\\\\utils\\\\_process_common.py': 'IPython.utils._process_common', 'c:\\\\program files\\\\anaconda3\\\\lib\\\\site-packages\\\\setuptools-27.2.0-py3.5.egg\\\\pkg_resources\\\\_vendor\\\\packaging\\\\markers.py': 'pkg_resources.extern.packaging.markers', 'c:\\\\program files\\\\anaconda3\\\\lib\\\\site-packages\\\\pickleshare.py': 'pickleshare', 'c:\\\\program files\\\\anaconda3\\\\lib\\\\site-packages\\\\ipython\\\\utils\\\\colorable.py': 'IPython.utils.colorable', 'c:\\\\program files\\\\anaconda3\\\\lib\\\\sqlite3\\\\__init__.py': 'sqlite3', 'c:\\\\program files\\\\anaconda3\\\\lib\\\\site-packages\\\\six.py': 'six', 'c:\\\\program files\\\\anaconda3\\\\lib\\\\site-packages\\\\jupyter_client\\\\connect.py': 'jupyter_client.connect', 'c:\\\\program files\\\\anaconda3\\\\lib\\\\site-packages\\\\ipython\\\\utils\\\\_tokenize_py3.py': 'IPython.utils._tokenize_py3', 'c:\\\\program files\\\\anaconda3\\\\dlls\\\\_sqlite3.pyd': '_sqlite3', 'c:\\\\program files\\\\anaconda3\\\\lib\\\\site-packages\\\\ipython\\\\lib\\\\pretty.py': 'IPython.lib.pretty', 'c:\\\\program files\\\\anaconda3\\\\lib\\\\site-packages\\\\ipython\\\\core\\\\debugger.py': 'IPython.core.debugger', 'c:\\\\program files\\\\anaconda3\\\\lib\\\\site-packages\\\\ipykernel\\\\kernelbase.py': 'ipykernel.kernelbase', 'c:\\\\program files\\\\anaconda3\\\\lib\\\\lzma.py': 'lzma', 'c:\\\\program files\\\\anaconda3\\\\lib\\\\site-packages\\\\ipykernel\\\\codeutil.py': 'ipykernel.codeutil', 'c:\\\\program files\\\\anaconda3\\\\lib\\\\xml\\\\__init__.py': 'xml', 'c:\\\\program files\\\\anaconda3\\\\lib\\\\site-packages\\\\setuptools-27.2.0-py3.5.egg\\\\pkg_resources\\\\_vendor\\\\packaging\\\\_compat.py': 'pkg_resources.extern.packaging._compat', 'c:\\\\program files\\\\anaconda3\\\\lib\\\\site-packages\\\\jupyter_client\\\\blocking\\\\channels.py': 'jupyter_client.blocking.channels', 'c:\\\\program files\\\\anaconda3\\\\lib\\\\site-packages\\\\pygments\\\\modeline.py': 'pygments.modeline', 'c:\\\\program files\\\\anaconda3\\\\lib\\\\site-packages\\\\prompt_toolkit\\\\win32_types.py': 'prompt_toolkit.win32_types', 'c:\\\\program files\\\\anaconda3\\\\lib\\\\site-packages\\\\ipython\\\\lib\\\\deepreload.py': 'IPython.lib.deepreload', 'c:\\\\program files\\\\anaconda3\\\\lib\\\\site-packages\\\\wcwidth\\\\table_zero.py': 'wcwidth.table_zero', 'c:\\\\program files\\\\anaconda3\\\\lib\\\\site-packages\\\\ipython\\\\core\\\\magics\\\\auto.py': 'IPython.core.magics.auto', 'c:\\\\program files\\\\anaconda3\\\\lib\\\\site-packages\\\\jupyter_client\\\\session.py': 'jupyter_client.session', 'c:\\\\program files\\\\anaconda3\\\\lib\\\\site-packages\\\\tornado\\\\escape.py': 'tornado.escape', 'c:\\\\program files\\\\anaconda3\\\\lib\\\\posixpath.py': 'posixpath', 'c:\\\\program files\\\\anaconda3\\\\lib\\\\gettext.py': 'gettext', 'c:\\\\program files\\\\anaconda3\\\\lib\\\\site-packages\\\\ipywidgets\\\\__init__.py': 'ipywidgets', 'c:\\\\program files\\\\anaconda3\\\\lib\\\\json\\\\__init__.py': 'json', 'c:\\\\program files\\\\anaconda3\\\\lib\\\\site-packages\\\\prompt_toolkit\\\\buffer_mapping.py': 'prompt_toolkit.buffer_mapping', 'c:\\\\program files\\\\anaconda3\\\\lib\\\\site-packages\\\\ipython_genutils\\\\path.py': 'ipython_genutils.path', 'c:\\\\program files\\\\anaconda3\\\\lib\\\\csv.py': 'csv', 'c:\\\\program files\\\\anaconda3\\\\lib\\\\email\\\\parser.py': 'email.parser', 'c:\\\\program files\\\\anaconda3\\\\lib\\\\site-packages\\\\prompt_toolkit\\\\styles\\\\from_dict.py': 'prompt_toolkit.styles.from_dict', 'c:\\\\program files\\\\anaconda3\\\\lib\\\\site-packages\\\\jupyter_core\\\\__init__.py': 'jupyter_core', 'c:\\\\program files\\\\anaconda3\\\\lib\\\\site-packages\\\\prompt_toolkit\\\\filters\\\\types.py': 'prompt_toolkit.filters.types', 'c:\\\\program files\\\\anaconda3\\\\lib\\\\site-packages\\\\zmq\\\\__init__.py': 'zmq', 'c:\\\\program files\\\\anaconda3\\\\lib\\\\site-packages\\\\tornado\\\\stack_context.py': 'tornado.stack_context', 'c:\\\\program files\\\\anaconda3\\\\dlls\\\\pyexpat.pyd': 'pyexpat', 'c:\\\\program files\\\\anaconda3\\\\dlls\\\\_lzma.pyd': '_lzma', 'c:\\\\program files\\\\anaconda3\\\\lib\\\\site-packages\\\\ipython\\\\core\\\\history.py': 'IPython.core.history', 'c:\\\\program files\\\\anaconda3\\\\lib\\\\hashlib.py': 'hashlib', 'c:\\\\program files\\\\anaconda3\\\\lib\\\\site-packages\\\\ipykernel\\\\iostream.py': 'ipykernel.iostream', 'c:\\\\program files\\\\anaconda3\\\\lib\\\\site-packages\\\\ipykernel\\\\displayhook.py': 'ipykernel.displayhook', 'c:\\\\program files\\\\anaconda3\\\\lib\\\\site-packages\\\\prompt_toolkit\\\\filters\\\\cli.py': 'prompt_toolkit.filters.cli', 'c:\\\\program files\\\\anaconda3\\\\lib\\\\site-packages\\\\setuptools-27.2.0-py3.5.egg\\\\pkg_resources\\\\_vendor\\\\packaging\\\\version.py': 'pkg_resources.extern.packaging.version', 'c:\\\\program files\\\\anaconda3\\\\lib\\\\shlex.py': 'shlex', 'c:\\\\program files\\\\anaconda3\\\\lib\\\\site-packages\\\\prompt_toolkit\\\\layout\\\\margins.py': 'prompt_toolkit.layout.margins', 'c:\\\\program files\\\\anaconda3\\\\lib\\\\site-packages\\\\ipython\\\\core\\\\__init__.py': 'IPython.core', 'c:\\\\program files\\\\anaconda3\\\\lib\\\\logging\\\\__init__.py': 'logging', 'c:\\\\program files\\\\anaconda3\\\\lib\\\\site-packages\\\\ipython\\\\utils\\\\signatures.py': 'IPython.utils.signatures', 'c:\\\\program files\\\\anaconda3\\\\lib\\\\uu.py': 'uu', 'c:\\\\program files\\\\anaconda3\\\\lib\\\\site-packages\\\\ipykernel\\\\__init__.py': 'ipykernel', 'c:\\\\program files\\\\anaconda3\\\\lib\\\\site-packages\\\\ipykernel\\\\pickleutil.py': 'ipykernel.pickleutil', 'c:\\\\program files\\\\anaconda3\\\\lib\\\\warnings.py': 'warnings', 'c:\\\\program files\\\\anaconda3\\\\lib\\\\site-packages\\\\ipython\\\\core\\\\crashhandler.py': 'IPython.core.crashhandler', 'c:\\\\program files\\\\anaconda3\\\\lib\\\\site-packages\\\\prompt_toolkit\\\\keys.py': 'prompt_toolkit.keys', 'c:\\\\program files\\\\anaconda3\\\\lib\\\\cmd.py': 'cmd', 'c:\\\\program files\\\\anaconda3\\\\lib\\\\site-packages\\\\traitlets\\\\utils\\\\importstring.py': 'traitlets.utils.importstring', 'c:\\\\program files\\\\anaconda3\\\\lib\\\\importlib\\\\machinery.py': 'importlib.machinery', 'c:\\\\program files\\\\anaconda3\\\\lib\\\\site-packages\\\\jupyter_client\\\\adapter.py': 'jupyter_client.adapter', 'c:\\\\program files\\\\anaconda3\\\\lib\\\\site-packages\\\\setuptools-27.2.0-py3.5.egg\\\\pkg_resources\\\\_vendor\\\\six.py': 'pkg_resources._vendor.six', 'c:\\\\program files\\\\anaconda3\\\\dlls\\\\_ctypes.pyd': '_ctypes', 'c:\\\\program files\\\\anaconda3\\\\dlls\\\\_socket.pyd': '_socket', 'c:\\\\program files\\\\anaconda3\\\\lib\\\\site-packages\\\\zmq\\\\backend\\\\__init__.py': 'zmq.backend', 'c:\\\\program files\\\\anaconda3\\\\lib\\\\site-packages\\\\ipykernel\\\\_version.py': 'ipykernel._version', 'c:\\\\program files\\\\anaconda3\\\\lib\\\\site-packages\\\\ipython\\\\core\\\\oinspect.py': 'IPython.core.oinspect', 'c:\\\\program files\\\\anaconda3\\\\lib\\\\site-packages\\\\ipython\\\\core\\\\error.py': 'IPython.core.error', 'c:\\\\program files\\\\anaconda3\\\\lib\\\\json\\\\scanner.py': 'json.scanner', 'c:\\\\program files\\\\anaconda3\\\\lib\\\\site-packages\\\\simplegeneric.py': 'simplegeneric', 'c:\\\\program files\\\\anaconda3\\\\lib\\\\site-packages\\\\zmq\\\\utils\\\\jsonapi.py': 'zmq.utils.jsonapi', 'c:\\\\program files\\\\anaconda3\\\\lib\\\\site-packages\\\\ipython\\\\utils\\\\module_paths.py': 'IPython.utils.module_paths', 'c:\\\\program files\\\\anaconda3\\\\lib\\\\site-packages\\\\prompt_toolkit\\\\reactive.py': 'prompt_toolkit.reactive', 'c:\\\\program files\\\\anaconda3\\\\lib\\\\tokenize.py': 'tokenize', 'c:\\\\program files\\\\anaconda3\\\\lib\\\\site-packages\\\\tornado\\\\log.py': 'tornado.log', 'c:\\\\program files\\\\anaconda3\\\\lib\\\\site-packages\\\\win32comext\\\\shell\\\\__init__.py': 'win32com.shell', 'c:\\\\program files\\\\anaconda3\\\\lib\\\\keyword.py': 'keyword', 'c:\\\\program files\\\\anaconda3\\\\lib\\\\selectors.py': 'selectors', 'c:\\\\program files\\\\anaconda3\\\\lib\\\\re.py': 're', 'c:\\\\program files\\\\anaconda3\\\\lib\\\\urllib\\\\__init__.py': 'urllib', 'c:\\\\program files\\\\anaconda3\\\\lib\\\\site-packages\\\\zmq\\\\backend\\\\cython\\\\error.cp35-win_amd64.pyd': 'zmq.backend.cython.error', 'c:\\\\program files\\\\anaconda3\\\\lib\\\\platform.py': 'platform', 'c:\\\\program files\\\\anaconda3\\\\lib\\\\site-packages\\\\prompt_toolkit\\\\__init__.py': 'prompt_toolkit', 'c:\\\\program files\\\\anaconda3\\\\lib\\\\multiprocessing\\\\util.py': 'multiprocessing.util', 'c:\\\\program files\\\\anaconda3\\\\lib\\\\site-packages\\\\ipython\\\\lib\\\\display.py': 'IPython.lib.display', 'c:\\\\program files\\\\anaconda3\\\\lib\\\\site-packages\\\\traitlets\\\\__init__.py': 'traitlets', 'c:\\\\program files\\\\anaconda3\\\\lib\\\\site-packages\\\\setuptools-27.2.0-py3.5.egg\\\\pkg_resources\\\\extern\\\\__init__.py': 'pkg_resources.extern', 'c:\\\\program files\\\\anaconda3\\\\lib\\\\site-packages\\\\prompt_toolkit\\\\key_binding\\\\registry.py': 'prompt_toolkit.key_binding.registry', 'c:\\\\program files\\\\anaconda3\\\\lib\\\\site-packages\\\\tornado\\\\speedups.cp35-win_amd64.pyd': 'tornado.speedups', 'c:\\\\program files\\\\anaconda3\\\\lib\\\\site-packages\\\\prompt_toolkit\\\\buffer.py': 'prompt_toolkit.buffer', 'c:\\\\program files\\\\anaconda3\\\\lib\\\\site-packages\\\\ipywidgets\\\\widgets\\\\interaction.py': 'ipywidgets.widgets.interaction', 'c:\\\\program files\\\\anaconda3\\\\lib\\\\site-packages\\\\prompt_toolkit\\\\output.py': 'prompt_toolkit.output', 'c:\\\\program files\\\\anaconda3\\\\lib\\\\site-packages\\\\prompt_toolkit\\\\shortcuts.py': 'prompt_toolkit.shortcuts', 'c:\\\\program files\\\\anaconda3\\\\lib\\\\site-packages\\\\ipython\\\\utils\\\\wildcard.py': 'IPython.utils.wildcard', 'c:\\\\program files\\\\anaconda3\\\\lib\\\\site-packages\\\\setuptools-27.2.0-py3.5.egg\\\\pkg_resources\\\\_vendor\\\\packaging\\\\__init__.py': 'pkg_resources._vendor.packaging', 'c:\\\\program files\\\\anaconda3\\\\lib\\\\asyncio\\\\__init__.py': 'asyncio', 'c:\\\\program files\\\\anaconda3\\\\lib\\\\site-packages\\\\jupyter_client\\\\clientabc.py': 'jupyter_client.clientabc', 'c:\\\\program files\\\\anaconda3\\\\lib\\\\site-packages\\\\prompt_toolkit\\\\validation.py': 'prompt_toolkit.validation', 'c:\\\\program files\\\\anaconda3\\\\lib\\\\xml\\\\parsers\\\\__init__.py': 'xml.parsers', 'c:\\\\program files\\\\anaconda3\\\\lib\\\\io.py': 'io', 'c:\\\\program files\\\\anaconda3\\\\lib\\\\site-packages\\\\ipython\\\\core\\\\extensions.py': 'IPython.core.extensions', 'c:\\\\program files\\\\anaconda3\\\\lib\\\\site-packages\\\\ipykernel\\\\ipkernel.py': 'ipykernel.ipkernel', 'c:\\\\program files\\\\anaconda3\\\\lib\\\\signal.py': 'signal', 'c:\\\\program files\\\\anaconda3\\\\lib\\\\site-packages\\\\ipython\\\\core\\\\magics\\\\basic.py': 'IPython.core.magics.basic', 'c:\\\\program files\\\\anaconda3\\\\lib\\\\asyncio\\\\selector_events.py': 'asyncio.selector_events', 'c:\\\\program files\\\\anaconda3\\\\lib\\\\site-packages\\\\ipython\\\\utils\\\\__init__.py': 'IPython.utils', 'c:\\\\program files\\\\anaconda3\\\\lib\\\\email\\\\feedparser.py': 'email.feedparser', 'c:\\\\program files\\\\anaconda3\\\\lib\\\\subprocess.py': 'subprocess', 'c:\\\\program files\\\\anaconda3\\\\lib\\\\site-packages\\\\ipython\\\\utils\\\\encoding.py': 'IPython.utils.encoding', 'c:\\\\program files\\\\anaconda3\\\\library\\\\bin\\\\pywintypes35.dll': 'pywintypes', 'c:\\\\program files\\\\anaconda3\\\\lib\\\\site-packages\\\\pygments\\\\lexers\\\\__init__.py': 'pygments.lexers', 'c:\\\\program files\\\\anaconda3\\\\lib\\\\site-packages\\\\ipython\\\\terminal\\\\embed.py': 'IPython.terminal.embed', 'c:\\\\program files\\\\anaconda3\\\\lib\\\\site-packages\\\\win32\\\\_win32sysloader.pyd': '_win32sysloader', 'c:\\\\program files\\\\anaconda3\\\\lib\\\\site-packages\\\\prompt_toolkit\\\\terminal\\\\win32_output.py': 'prompt_toolkit.terminal.win32_output', 'c:\\\\program files\\\\anaconda3\\\\lib\\\\urllib\\\\parse.py': 'urllib.parse', 'c:\\\\program files\\\\anaconda3\\\\lib\\\\site-packages\\\\traitlets\\\\utils\\\\__init__.py': 'traitlets.utils', 'c:\\\\program files\\\\anaconda3\\\\lib\\\\tarfile.py': 'tarfile', 'c:\\\\program files\\\\anaconda3\\\\lib\\\\html\\\\entities.py': 'html.entities', 'c:\\\\program files\\\\anaconda3\\\\lib\\\\weakref.py': 'weakref', 'c:\\\\program files\\\\anaconda3\\\\lib\\\\site-packages\\\\ipykernel\\\\__main__.py': '__main__', 'c:\\\\program files\\\\anaconda3\\\\lib\\\\site-packages\\\\ipython\\\\utils\\\\decorators.py': 'IPython.utils.decorators', 'c:\\\\program files\\\\anaconda3\\\\lib\\\\site-packages\\\\ipywidgets\\\\widgets\\\\widget_color.py': 'ipywidgets.widgets.widget_color', 'c:\\\\program files\\\\anaconda3\\\\lib\\\\site-packages\\\\prompt_toolkit\\\\key_binding\\\\__init__.py': 'prompt_toolkit.key_binding', 'c:\\\\program files\\\\anaconda3\\\\lib\\\\__future__.py': '__future__', 'c:\\\\program files\\\\anaconda3\\\\lib\\\\ast.py': 'ast', 'c:\\\\program files\\\\anaconda3\\\\lib\\\\site-packages\\\\ipython\\\\display.py': 'IPython.display', 'c:\\\\program files\\\\anaconda3\\\\lib\\\\encodings\\\\cp437.py': 'encodings.cp437', 'c:\\\\program files\\\\anaconda3\\\\lib\\\\reprlib.py': 'reprlib', 'c:\\\\program files\\\\anaconda3\\\\lib\\\\html\\\\__init__.py': 'html', 'c:\\\\program files\\\\anaconda3\\\\lib\\\\site-packages\\\\ipykernel\\\\datapub.py': 'ipykernel.datapub', 'c:\\\\program files\\\\anaconda3\\\\lib\\\\site-packages\\\\ipython\\\\utils\\\\tokenize2.py': 'IPython.utils.tokenize2', 'c:\\\\program files\\\\anaconda3\\\\lib\\\\importlib\\\\_bootstrap.py': 'importlib._bootstrap', 'c:\\\\program files\\\\anaconda3\\\\lib\\\\site-packages\\\\ipython\\\\core\\\\payloadpage.py': 'IPython.core.payloadpage', 'c:\\\\program files\\\\anaconda3\\\\lib\\\\site-packages\\\\jupyter_client\\\\launcher.py': 'jupyter_client.launcher', 'c:\\\\program files\\\\anaconda3\\\\lib\\\\site-packages\\\\ipython_genutils\\\\importstring.py': 'ipython_genutils.importstring', 'c:\\\\program files\\\\anaconda3\\\\lib\\\\site-packages\\\\jupyter_client\\\\jsonutil.py': 'jupyter_client.jsonutil', 'c:\\\\program files\\\\anaconda3\\\\lib\\\\copyreg.py': 'copyreg', 'c:\\\\program files\\\\anaconda3\\\\lib\\\\site-packages\\\\ipython\\\\utils\\\\dir2.py': 'IPython.utils.dir2', 'c:\\\\program files\\\\anaconda3\\\\lib\\\\site-packages\\\\ipython\\\\paths.py': 'IPython.paths', 'c:\\\\program files\\\\anaconda3\\\\lib\\\\site-packages\\\\ipython\\\\utils\\\\importstring.py': 'IPython.utils.importstring', 'c:\\\\program files\\\\anaconda3\\\\lib\\\\site-packages\\\\prompt_toolkit\\\\eventloop\\\\callbacks.py': 'prompt_toolkit.eventloop.callbacks', 'c:\\\\program files\\\\anaconda3\\\\lib\\\\glob.py': 'glob', 'c:\\\\program files\\\\anaconda3\\\\lib\\\\timeit.py': 'timeit', 'c:\\\\program files\\\\anaconda3\\\\lib\\\\site-packages\\\\ipython\\\\core\\\\usage.py': 'IPython.core.usage', 'c:\\\\program files\\\\anaconda3\\\\lib\\\\os.py': 'os', 'c:\\\\program files\\\\anaconda3\\\\lib\\\\site-packages\\\\ipywidgets\\\\widgets\\\\widget_bool.py': 'ipywidgets.widgets.widget_bool', 'c:\\\\program files\\\\anaconda3\\\\lib\\\\site-packages\\\\prompt_toolkit\\\\eventloop\\\\__init__.py': 'prompt_toolkit.eventloop', 'c:\\\\program files\\\\anaconda3\\\\lib\\\\textwrap.py': 'textwrap', 'c:\\\\program files\\\\anaconda3\\\\lib\\\\site-packages\\\\prompt_toolkit\\\\key_binding\\\\bindings\\\\basic.py': 'prompt_toolkit.key_binding.bindings.basic', 'c:\\\\program files\\\\anaconda3\\\\lib\\\\site-packages\\\\jupyter_client\\\\multikernelmanager.py': 'jupyter_client.multikernelmanager', 'c:\\\\program files\\\\anaconda3\\\\lib\\\\site-packages\\\\ipython\\\\terminal\\\\magics.py': 'IPython.terminal.magics', 'c:\\\\program files\\\\anaconda3\\\\lib\\\\site-packages\\\\ipykernel\\\\kernelapp.py': 'ipykernel.kernelapp', 'c:\\\\program files\\\\anaconda3\\\\lib\\\\site-packages\\\\prompt_toolkit\\\\token.py': 'prompt_toolkit.token', 'c:\\\\program files\\\\anaconda3\\\\lib\\\\site-packages\\\\ipython\\\\utils\\\\data.py': 'IPython.utils.data', 'c:\\\\program files\\\\anaconda3\\\\lib\\\\stat.py': 'stat', 'c:\\\\program files\\\\anaconda3\\\\lib\\\\locale.py': 'locale', 'c:\\\\program files\\\\anaconda3\\\\lib\\\\site-packages\\\\win32com\\\\__init__.py': 'win32com', 'c:\\\\program files\\\\anaconda3\\\\lib\\\\site-packages\\\\ipython\\\\core\\\\display_trap.py': 'IPython.core.display_trap', 'c:\\\\program files\\\\anaconda3\\\\lib\\\\site-packages\\\\ipython\\\\core\\\\release.py': 'IPython.core.release', 'c:\\\\program files\\\\anaconda3\\\\lib\\\\site-packages\\\\tornado\\\\platform\\\\interface.py': 'tornado.platform.interface', 'c:\\\\program files\\\\anaconda3\\\\lib\\\\asyncio\\\\sslproto.py': 'asyncio.sslproto', 'c:\\\\program files\\\\anaconda3\\\\lib\\\\site-packages\\\\prompt_toolkit\\\\enums.py': 'prompt_toolkit.enums', 'c:\\\\program files\\\\anaconda3\\\\lib\\\\site-packages\\\\ipython\\\\core\\\\formatters.py': 'IPython.core.formatters', 'c:\\\\program files\\\\anaconda3\\\\lib\\\\site-packages\\\\ipython\\\\utils\\\\syspathcontext.py': 'IPython.utils.syspathcontext', 'c:\\\\program files\\\\anaconda3\\\\lib\\\\encodings\\\\latin_1.py': 'encodings.latin_1', 'c:\\\\program files\\\\anaconda3\\\\library\\\\bin\\\\pythoncom35.dll': 'pythoncom', 'c:\\\\program files\\\\anaconda3\\\\lib\\\\queue.py': 'queue', 'c:\\\\program files\\\\anaconda3\\\\lib\\\\string.py': 'string', 'c:\\\\program files\\\\anaconda3\\\\lib\\\\profile.py': 'profile', 'c:\\\\program files\\\\anaconda3\\\\lib\\\\argparse.py': 'argparse', 'c:\\\\program files\\\\anaconda3\\\\lib\\\\site-packages\\\\zmq\\\\backend\\\\cython\\\\constants.cp35-win_amd64.pyd': 'zmq.backend.cython.constants', 'c:\\\\program files\\\\anaconda3\\\\lib\\\\operator.py': 'operator', 'c:\\\\program files\\\\anaconda3\\\\lib\\\\site-packages\\\\ipython\\\\core\\\\magics\\\\display.py': 'IPython.core.magics.display', 'c:\\\\program files\\\\anaconda3\\\\lib\\\\dis.py': 'dis', 'c:\\\\program files\\\\anaconda3\\\\lib\\\\site-packages\\\\prompt_toolkit\\\\layout\\\\toolbars.py': 'prompt_toolkit.layout.toolbars', 'c:\\\\program files\\\\anaconda3\\\\lib\\\\site-packages\\\\ipython\\\\terminal\\\\prompts.py': 'IPython.terminal.prompts', 'c:\\\\program files\\\\anaconda3\\\\lib\\\\hmac.py': 'hmac', 'c:\\\\program files\\\\anaconda3\\\\dlls\\\\select.pyd': 'select', 'c:\\\\program files\\\\anaconda3\\\\lib\\\\ctypes\\\\__init__.py': 'ctypes', 'c:\\\\program files\\\\anaconda3\\\\lib\\\\site-packages\\\\prompt_toolkit\\\\layout\\\\lexers.py': 'prompt_toolkit.layout.lexers', 'c:\\\\program files\\\\anaconda3\\\\lib\\\\site-packages\\\\prompt_toolkit\\\\styles\\\\base.py': 'prompt_toolkit.styles.base', 'c:\\\\program files\\\\anaconda3\\\\lib\\\\asyncio\\\\constants.py': 'asyncio.constants', 'c:\\\\program files\\\\anaconda3\\\\lib\\\\site-packages\\\\prompt_toolkit\\\\key_binding\\\\bindings\\\\__init__.py': 'prompt_toolkit.key_binding.bindings', 'c:\\\\program files\\\\anaconda3\\\\lib\\\\site-packages\\\\ipython\\\\core\\\\compilerop.py': 'IPython.core.compilerop', 'c:\\\\program files\\\\anaconda3\\\\lib\\\\site-packages\\\\ipython\\\\utils\\\\coloransi.py': 'IPython.utils.coloransi', 'c:\\\\program files\\\\anaconda3\\\\lib\\\\_weakrefset.py': '_weakrefset', 'c:\\\\program files\\\\anaconda3\\\\lib\\\\code.py': 'code', 'c:\\\\program files\\\\anaconda3\\\\lib\\\\site-packages\\\\ipython\\\\utils\\\\sysinfo.py': 'IPython.utils.sysinfo', 'c:\\\\program files\\\\anaconda3\\\\lib\\\\collections\\\\__init__.py': 'collections', 'c:\\\\program files\\\\anaconda3\\\\lib\\\\site-packages\\\\traitlets\\\\config\\\\__init__.py': 'traitlets.config', 'c:\\\\program files\\\\anaconda3\\\\lib\\\\site-packages\\\\prompt_toolkit\\\\layout\\\\__init__.py': 'prompt_toolkit.layout', 'c:\\\\program files\\\\anaconda3\\\\lib\\\\site-packages\\\\ipython\\\\core\\\\pylabtools.py': 'IPython.core.pylabtools', 'c:\\\\program files\\\\anaconda3\\\\lib\\\\site-packages\\\\ipywidgets\\\\widgets\\\\widget_string.py': 'ipywidgets.widgets.widget_string', 'c:\\\\program files\\\\anaconda3\\\\lib\\\\site-packages\\\\ipython\\\\utils\\\\openpy.py': 'IPython.utils.openpy', 'c:\\\\program files\\\\anaconda3\\\\lib\\\\site-packages\\\\ipython\\\\core\\\\application.py': 'IPython.core.application', 'c:\\\\program files\\\\anaconda3\\\\lib\\\\collections\\\\abc.py': 'collections.abc', 'c:\\\\program files\\\\anaconda3\\\\lib\\\\site-packages\\\\ipython\\\\core\\\\shadowns.py': 'IPython.core.shadowns', 'c:\\\\program files\\\\anaconda3\\\\lib\\\\site-packages\\\\prompt_toolkit\\\\key_binding\\\\bindings\\\\scroll.py': 'prompt_toolkit.key_binding.bindings.scroll', 'c:\\\\program files\\\\anaconda3\\\\lib\\\\site-packages\\\\pygments\\\\formatters\\\\__init__.py': 'pygments.formatters', 'c:\\\\program files\\\\anaconda3\\\\lib\\\\site-packages\\\\tornado\\\\__init__.py': 'tornado', 'c:\\\\program files\\\\anaconda3\\\\lib\\\\email\\\\_parseaddr.py': 'email._parseaddr', 'c:\\\\program files\\\\anaconda3\\\\lib\\\\site-packages\\\\setuptools-27.2.0-py3.5.egg\\\\pkg_resources\\\\_vendor\\\\packaging\\\\requirements.py': 'pkg_resources.extern.packaging.requirements', 'c:\\\\program files\\\\anaconda3\\\\lib\\\\json\\\\encoder.py': 'json.encoder', 'c:\\\\program files\\\\anaconda3\\\\lib\\\\site-packages\\\\jupyter_client\\\\kernelspec.py': 'jupyter_client.kernelspec', 'c:\\\\program files\\\\anaconda3\\\\lib\\\\site-packages\\\\prompt_toolkit\\\\layout\\\\mouse_handlers.py': 'prompt_toolkit.layout.mouse_handlers', 'c:\\\\program files\\\\anaconda3\\\\lib\\\\site-packages\\\\zmq\\\\sugar\\\\version.py': 'zmq.sugar.version', 'c:\\\\program files\\\\anaconda3\\\\lib\\\\site-packages\\\\decorator.py': 'decorator', 'c:\\\\program files\\\\anaconda3\\\\lib\\\\concurrent\\\\futures\\\\process.py': 'concurrent.futures.process', 'c:\\\\program files\\\\anaconda3\\\\lib\\\\functools.py': 'functools', 'c:\\\\program files\\\\anaconda3\\\\lib\\\\mimetypes.py': 'mimetypes', 'c:\\\\program files\\\\anaconda3\\\\lib\\\\site-packages\\\\prompt_toolkit\\\\application.py': 'prompt_toolkit.application'}, 'formatannotation': <function formatannotation at 0x00000000014FA620>, 'CO_NEWLOCALS': 2, 'getmembers': <function getmembers at 0x00000000014EB1E0>, '__name__': 'inspect', '__file__': 'C:\\\\Program Files\\\\Anaconda3\\\\lib\\\\inspect.py', 'mod_dict': {...}, 'OrderedDict': <class 'collections.OrderedDict'>, '_getfullargs': <function _getfullargs at 0x00000000014F8950>, 'signature': <function signature at 0x0000000001504840>, '_signature_is_functionlike': <function _signature_is_functionlike at 0x0000000001504488>, 'tokenize': <module 'tokenize' from 'C:\\\\Program Files\\\\Anaconda3\\\\lib\\\\tokenize.py'>, '_missing_arguments': <function _missing_arguments at 0x00000000014FABF8>, 'EndOfBlock': <class 'inspect.EndOfBlock'>, 'getargs': <function getargs at 0x00000000014F8598>, '_signature_fromstr': <function _signature_fromstr at 0x0000000001504620>, '_KEYWORD_ONLY': <_ParameterKind.KEYWORD_ONLY: 3>, 'getclosurevars': <function getclosurevars at 0x00000000014FAD90>, '__builtins__': {'__build_class__': <built-in function __build_class__>, 'Warning': <class 'Warning'>, 'ord': <built-in function ord>, 'zip': <class 'zip'>, 'repr': <built-in function repr>, 'format': <built-in function format>, 'hex': <built-in function hex>, 'IsADirectoryError': <class 'IsADirectoryError'>, 'sorted': <built-in function sorted>, 'TimeoutError': <class 'TimeoutError'>, 'TypeError': <class 'TypeError'>, 'UnicodeEncodeError': <class 'UnicodeEncodeError'>, 'NameError': <class 'NameError'>, 'UnicodeWarning': <class 'UnicodeWarning'>, 'None': None, 'SystemError': <class 'SystemError'>, 'input': <bound method Kernel.raw_input of <ipykernel.ipkernel.IPythonKernel object at 0x0000000004DA1978>>, 'delattr': <built-in function delattr>, 'FileNotFoundError': <class 'FileNotFoundError'>, 'ascii': <built-in function ascii>, 'globals': <built-in function globals>, 'oct': <built-in function oct>, 'object': <class 'object'>, 'hasattr': <built-in function hasattr>, 'bin': <built-in function bin>, 'KeyboardInterrupt': <class 'KeyboardInterrupt'>, 'print': <built-in function print>, 'ImportWarning': <class 'ImportWarning'>, '__loader__': <class '_frozen_importlib.BuiltinImporter'>, 'next': <built-in function next>, 'round': <built-in function round>, 'getattr': <built-in function getattr>, 'property': <class 'property'>, 'GeneratorExit': <class 'GeneratorExit'>, 'slice': <class 'slice'>, 'AssertionError': <class 'AssertionError'>, 'locals': <built-in function locals>, 'dir': <built-in function dir>, 'Ellipsis': Ellipsis, 'any': <built-in function any>, 'compile': <built-in function compile>, 'issubclass': <built-in function issubclass>, 'min': <built-in function min>, 'KeyError': <class 'KeyError'>, '__doc__': \"Built-in functions, exceptions, and other objects.\\n\\nNoteworthy: None is the `nil' object; Ellipsis represents `...' in slices.\", 'BlockingIOError': <class 'BlockingIOError'>, 'str': <class 'str'>, 'NotADirectoryError': <class 'NotADirectoryError'>, 'type': <class 'type'>, 'WindowsError': <class 'OSError'>, 'ZeroDivisionError': <class 'ZeroDivisionError'>, 'IndexError': <class 'IndexError'>, 'OSError': <class 'OSError'>, 'isinstance': <built-in function isinstance>, 'DeprecationWarning': <class 'DeprecationWarning'>, 'map': <class 'map'>, 'RecursionError': <class 'RecursionError'>, 'callable': <built-in function callable>, 'sum': <built-in function sum>, '__package__': '', 'credits':     Thanks to CWI, CNRI, BeOpen.com, Zope Corporation and a cast of thousands\n",
      "    for supporting Python development.  See www.python.org for more information., 'setattr': <built-in function setattr>, 'EOFError': <class 'EOFError'>, 'BufferError': <class 'BufferError'>, 'vars': <built-in function vars>, 'IndentationError': <class 'IndentationError'>, '__name__': 'builtins', 'NotImplemented': NotImplemented, 'dreload': <function _dreload at 0x0000000004DEA730>, 'IOError': <class 'OSError'>, 'all': <built-in function all>, 'max': <built-in function max>, 'UnboundLocalError': <class 'UnboundLocalError'>, 'get_ipython': <bound method InteractiveShell.get_ipython of <ipykernel.zmqshell.ZMQInteractiveShell object at 0x0000000004DA1F98>>, 'bytes': <class 'bytes'>, 'RuntimeError': <class 'RuntimeError'>, '__IPYTHON__': True, 'Exception': <class 'Exception'>, 'chr': <built-in function chr>, 'pow': <built-in function pow>, 'EnvironmentError': <class 'OSError'>, 'complex': <class 'complex'>, 'SyntaxError': <class 'SyntaxError'>, 'filter': <class 'filter'>, 'classmethod': <class 'classmethod'>, 'RuntimeWarning': <class 'RuntimeWarning'>, 'len': <built-in function len>, '__debug__': True, 'ReferenceError': <class 'ReferenceError'>, '__import__': <built-in function __import__>, 'bytearray': <class 'bytearray'>, '__spec__': ModuleSpec(name='builtins', loader=<class '_frozen_importlib.BuiltinImporter'>), 'SystemExit': <class 'SystemExit'>, 'help': Type help() for interactive help, or help(object) for help about object., 'ConnectionResetError': <class 'ConnectionResetError'>, 'float': <class 'float'>, 'int': <class 'int'>, 'ArithmeticError': <class 'ArithmeticError'>, 'license': See https://www.python.org/psf/license/, 'ConnectionAbortedError': <class 'ConnectionAbortedError'>, 'ConnectionRefusedError': <class 'ConnectionRefusedError'>, 'ValueError': <class 'ValueError'>, 'InterruptedError': <class 'InterruptedError'>, 'False': False, 'OverflowError': <class 'OverflowError'>, 'ResourceWarning': <class 'ResourceWarning'>, 'PermissionError': <class 'PermissionError'>, 'StopAsyncIteration': <class 'StopAsyncIteration'>, 'abs': <built-in function abs>, 'LookupError': <class 'LookupError'>, 'ProcessLookupError': <class 'ProcessLookupError'>, 'hash': <built-in function hash>, 'eval': <built-in function eval>, 'open': <built-in function open>, 'frozenset': <class 'frozenset'>, 'reversed': <class 'reversed'>, 'ImportError': <class 'ImportError'>, 'staticmethod': <class 'staticmethod'>, 'SyntaxWarning': <class 'SyntaxWarning'>, 'dict': <class 'dict'>, 'TabError': <class 'TabError'>, 'BrokenPipeError': <class 'BrokenPipeError'>, 'PendingDeprecationWarning': <class 'PendingDeprecationWarning'>, 'StopIteration': <class 'StopIteration'>, 'MemoryError': <class 'MemoryError'>, 'divmod': <built-in function divmod>, 'enumerate': <class 'enumerate'>, 'ConnectionError': <class 'ConnectionError'>, 'UnicodeError': <class 'UnicodeError'>, 'tuple': <class 'tuple'>, 'BaseException': <class 'BaseException'>, 'list': <class 'list'>, 'FileExistsError': <class 'FileExistsError'>, 'UserWarning': <class 'UserWarning'>, 'set': <class 'set'>, 'ChildProcessError': <class 'ChildProcessError'>, 'UnicodeTranslateError': <class 'UnicodeTranslateError'>, 'super': <class 'super'>, 'memoryview': <class 'memoryview'>, 'id': <built-in function id>, 'AttributeError': <class 'AttributeError'>, 'exec': <built-in function exec>, 'FutureWarning': <class 'FutureWarning'>, 'NotImplementedError': <class 'NotImplementedError'>, 'iter': <built-in function iter>, 'range': <class 'range'>, 'bool': <class 'bool'>, 'FloatingPointError': <class 'FloatingPointError'>, 'copyright': Copyright (c) 2001-2016 Python Software Foundation.\n",
      "All Rights Reserved.\n",
      "\n",
      "Copyright (c) 2000 BeOpen.com.\n",
      "All Rights Reserved.\n",
      "\n",
      "Copyright (c) 1995-2001 Corporation for National Research Initiatives.\n",
      "All Rights Reserved.\n",
      "\n",
      "Copyright (c) 1991-1995 Stichting Mathematisch Centrum, Amsterdam.\n",
      "All Rights Reserved., 'BytesWarning': <class 'BytesWarning'>, 'UnicodeDecodeError': <class 'UnicodeDecodeError'>, 'True': True}, 'BoundArguments': <class 'inspect.BoundArguments'>, 'cleandoc': <function cleandoc at 0x00000000014EB950>, '_filesbymodname': {'IPython.core.magics.history': 'C:\\\\Program Files\\\\Anaconda3\\\\lib\\\\site-packages\\\\IPython\\\\core\\\\magics\\\\history.py', 'asyncio.protocols': 'C:\\\\Program Files\\\\Anaconda3\\\\lib\\\\asyncio\\\\protocols.py', 'prompt_toolkit.styles.from_pygments': 'C:\\\\Program Files\\\\Anaconda3\\\\lib\\\\site-packages\\\\prompt_toolkit\\\\styles\\\\from_pygments.py', 'IPython.terminal.shortcuts': 'C:\\\\Program Files\\\\Anaconda3\\\\lib\\\\site-packages\\\\IPython\\\\terminal\\\\shortcuts.py', 'simplegeneric': 'C:\\\\Program Files\\\\Anaconda3\\\\lib\\\\site-packages\\\\simplegeneric.py', 'urllib': 'C:\\\\Program Files\\\\Anaconda3\\\\lib\\\\urllib\\\\__init__.py', 'ipykernel.serialize': 'C:\\\\Program Files\\\\Anaconda3\\\\lib\\\\site-packages\\\\ipykernel\\\\serialize.py', 'IPython.core.hooks': 'C:\\\\Program Files\\\\Anaconda3\\\\lib\\\\site-packages\\\\IPython\\\\core\\\\hooks.py', '_ctypes': 'C:\\\\Program Files\\\\Anaconda3\\\\DLLs\\\\_ctypes.pyd', 'email._parseaddr': 'C:\\\\Program Files\\\\Anaconda3\\\\lib\\\\email\\\\_parseaddr.py', 'pyexpat': 'C:\\\\Program Files\\\\Anaconda3\\\\DLLs\\\\pyexpat.pyd', 'six': 'C:\\\\Program Files\\\\Anaconda3\\\\lib\\\\site-packages\\\\six.py', 'ctypes': 'C:\\\\Program Files\\\\Anaconda3\\\\lib\\\\ctypes\\\\__init__.py', 'zmq.backend.cython._version': 'C:\\\\Program Files\\\\Anaconda3\\\\lib\\\\site-packages\\\\zmq\\\\backend\\\\cython\\\\_version.cp35-win_amd64.pyd', 'IPython.lib.pretty': 'C:\\\\Program Files\\\\Anaconda3\\\\lib\\\\site-packages\\\\IPython\\\\lib\\\\pretty.py', 'pdb': 'C:\\\\Program Files\\\\Anaconda3\\\\lib\\\\pdb.py', 'IPython.terminal': 'C:\\\\Program Files\\\\Anaconda3\\\\lib\\\\site-packages\\\\IPython\\\\terminal\\\\__init__.py', 'prompt_toolkit.styles': 'C:\\\\Program Files\\\\Anaconda3\\\\lib\\\\site-packages\\\\prompt_toolkit\\\\styles\\\\__init__.py', 'prompt_toolkit.key_binding.bindings': 'C:\\\\Program Files\\\\Anaconda3\\\\lib\\\\site-packages\\\\prompt_toolkit\\\\key_binding\\\\bindings\\\\__init__.py', 'pygments.filters': 'C:\\\\Program Files\\\\Anaconda3\\\\lib\\\\site-packages\\\\pygments\\\\filters\\\\__init__.py', 'asyncio.selector_events': 'C:\\\\Program Files\\\\Anaconda3\\\\lib\\\\asyncio\\\\selector_events.py', 'asyncio.base_subprocess': 'C:\\\\Program Files\\\\Anaconda3\\\\lib\\\\asyncio\\\\base_subprocess.py', 'prompt_toolkit.clipboard': 'C:\\\\Program Files\\\\Anaconda3\\\\lib\\\\site-packages\\\\prompt_toolkit\\\\clipboard\\\\__init__.py', 'functools': 'C:\\\\Program Files\\\\Anaconda3\\\\lib\\\\functools.py', 'importlib': 'C:\\\\Program Files\\\\Anaconda3\\\\lib\\\\importlib\\\\__init__.py', 'jupyter_core.paths': 'C:\\\\Program Files\\\\Anaconda3\\\\lib\\\\site-packages\\\\jupyter_core\\\\paths.py', 'jupyter_client.clientabc': 'C:\\\\Program Files\\\\Anaconda3\\\\lib\\\\site-packages\\\\jupyter_client\\\\clientabc.py', 'html': 'C:\\\\Program Files\\\\Anaconda3\\\\lib\\\\html\\\\__init__.py', 'ipywidgets.widgets.eventful': 'C:\\\\Program Files\\\\Anaconda3\\\\lib\\\\site-packages\\\\ipywidgets\\\\widgets\\\\eventful.py', 'IPython.lib.display': 'C:\\\\Program Files\\\\Anaconda3\\\\lib\\\\site-packages\\\\IPython\\\\lib\\\\display.py', 'wcwidth.table_wide': 'C:\\\\Program Files\\\\Anaconda3\\\\lib\\\\site-packages\\\\wcwidth\\\\table_wide.py', 'fnmatch': 'C:\\\\Program Files\\\\Anaconda3\\\\lib\\\\fnmatch.py', 'IPython.utils.generics': 'C:\\\\Program Files\\\\Anaconda3\\\\lib\\\\site-packages\\\\IPython\\\\utils\\\\generics.py', 'collections': 'C:\\\\Program Files\\\\Anaconda3\\\\lib\\\\collections\\\\__init__.py', 'asyncio.transports': 'C:\\\\Program Files\\\\Anaconda3\\\\lib\\\\asyncio\\\\transports.py', 'IPython.terminal.embed': 'C:\\\\Program Files\\\\Anaconda3\\\\lib\\\\site-packages\\\\IPython\\\\terminal\\\\embed.py', 'tempfile': 'C:\\\\Program Files\\\\Anaconda3\\\\lib\\\\tempfile.py', 'storemagic': 'C:\\\\Program Files\\\\Anaconda3\\\\lib\\\\site-packages\\\\IPython\\\\extensions\\\\storemagic.py', 'jupyter_client.channelsabc': 'C:\\\\Program Files\\\\Anaconda3\\\\lib\\\\site-packages\\\\jupyter_client\\\\channelsabc.py', 'asyncio.streams': 'C:\\\\Program Files\\\\Anaconda3\\\\lib\\\\asyncio\\\\streams.py', 'IPython.core.oinspect': 'C:\\\\Program Files\\\\Anaconda3\\\\lib\\\\site-packages\\\\IPython\\\\core\\\\oinspect.py', 'prompt_toolkit.filters.utils': 'C:\\\\Program Files\\\\Anaconda3\\\\lib\\\\site-packages\\\\prompt_toolkit\\\\filters\\\\utils.py', 'IPython.utils.py3compat': 'C:\\\\Program Files\\\\Anaconda3\\\\lib\\\\site-packages\\\\IPython\\\\utils\\\\py3compat.py', 'xml.parsers': 'C:\\\\Program Files\\\\Anaconda3\\\\lib\\\\xml\\\\parsers\\\\__init__.py', 'IPython.core.formatters': 'C:\\\\Program Files\\\\Anaconda3\\\\lib\\\\site-packages\\\\IPython\\\\core\\\\formatters.py', 'email.utils': 'C:\\\\Program Files\\\\Anaconda3\\\\lib\\\\email\\\\utils.py', 'abc': 'C:\\\\Program Files\\\\Anaconda3\\\\lib\\\\abc.py', '_win32sysloader': 'C:\\\\Program Files\\\\Anaconda3\\\\lib\\\\site-packages\\\\win32\\\\_win32sysloader.pyd', 'IPython.core.magics.execution': 'C:\\\\Program Files\\\\Anaconda3\\\\lib\\\\site-packages\\\\IPython\\\\core\\\\magics\\\\execution.py', 'IPython.lib': 'C:\\\\Program Files\\\\Anaconda3\\\\lib\\\\site-packages\\\\IPython\\\\lib\\\\__init__.py', 'zmq.utils.jsonapi': 'C:\\\\Program Files\\\\Anaconda3\\\\lib\\\\site-packages\\\\zmq\\\\utils\\\\jsonapi.py', 'IPython.testing': 'C:\\\\Program Files\\\\Anaconda3\\\\lib\\\\site-packages\\\\IPython\\\\testing\\\\__init__.py', 'win32api': 'C:\\\\Program Files\\\\Anaconda3\\\\lib\\\\site-packages\\\\win32\\\\win32api.pyd', 'IPython.core.events': 'C:\\\\Program Files\\\\Anaconda3\\\\lib\\\\site-packages\\\\IPython\\\\core\\\\events.py', 'prompt_toolkit.key_binding.input_processor': 'C:\\\\Program Files\\\\Anaconda3\\\\lib\\\\site-packages\\\\prompt_toolkit\\\\key_binding\\\\input_processor.py', 'zmq.backend.select': 'C:\\\\Program Files\\\\Anaconda3\\\\lib\\\\site-packages\\\\zmq\\\\backend\\\\select.py', 'IPython.utils.strdispatch': 'C:\\\\Program Files\\\\Anaconda3\\\\lib\\\\site-packages\\\\IPython\\\\utils\\\\strdispatch.py', 'inspect': 'C:\\\\Program Files\\\\Anaconda3\\\\lib\\\\inspect.py', 'uu': 'C:\\\\Program Files\\\\Anaconda3\\\\lib\\\\uu.py', 'tornado.ioloop': 'C:\\\\Program Files\\\\Anaconda3\\\\lib\\\\site-packages\\\\tornado\\\\ioloop.py', 'keyword': 'C:\\\\Program Files\\\\Anaconda3\\\\lib\\\\keyword.py', 'prompt_toolkit.key_binding.bindings.emacs': 'C:\\\\Program Files\\\\Anaconda3\\\\lib\\\\site-packages\\\\prompt_toolkit\\\\key_binding\\\\bindings\\\\emacs.py', 'xml': 'C:\\\\Program Files\\\\Anaconda3\\\\lib\\\\xml\\\\__init__.py', 'encodings.utf_8': 'C:\\\\Program Files\\\\Anaconda3\\\\lib\\\\encodings\\\\utf_8.py', 'traitlets.config.loader': 'C:\\\\Program Files\\\\Anaconda3\\\\lib\\\\site-packages\\\\traitlets\\\\config\\\\loader.py', 'prompt_toolkit.clipboard.base': 'C:\\\\Program Files\\\\Anaconda3\\\\lib\\\\site-packages\\\\prompt_toolkit\\\\clipboard\\\\base.py', 'pkg_resources.extern.packaging._compat': 'C:\\\\Program Files\\\\Anaconda3\\\\lib\\\\site-packages\\\\setuptools-27.2.0-py3.5.egg\\\\pkg_resources\\\\_vendor\\\\packaging\\\\_compat.py', 'importlib.machinery': 'C:\\\\Program Files\\\\Anaconda3\\\\lib\\\\importlib\\\\machinery.py', 'IPython.utils.decorators': 'C:\\\\Program Files\\\\Anaconda3\\\\lib\\\\site-packages\\\\IPython\\\\utils\\\\decorators.py', 'zmq.sugar': 'C:\\\\Program Files\\\\Anaconda3\\\\lib\\\\site-packages\\\\zmq\\\\sugar\\\\__init__.py', 'pygments.formatters': 'C:\\\\Program Files\\\\Anaconda3\\\\lib\\\\site-packages\\\\pygments\\\\formatters\\\\__init__.py', 'email': 'C:\\\\Program Files\\\\Anaconda3\\\\lib\\\\email\\\\__init__.py', 'IPython.core.debugger': 'C:\\\\Program Files\\\\Anaconda3\\\\lib\\\\site-packages\\\\IPython\\\\core\\\\debugger.py', 'prompt_toolkit.application': 'C:\\\\Program Files\\\\Anaconda3\\\\lib\\\\site-packages\\\\prompt_toolkit\\\\application.py', 'prompt_toolkit.key_binding.bindings.vi': 'C:\\\\Program Files\\\\Anaconda3\\\\lib\\\\site-packages\\\\prompt_toolkit\\\\key_binding\\\\bindings\\\\vi.py', 'IPython.core.page': 'C:\\\\Program Files\\\\Anaconda3\\\\lib\\\\site-packages\\\\IPython\\\\core\\\\page.py', 'ipykernel.connect': 'C:\\\\Program Files\\\\Anaconda3\\\\lib\\\\site-packages\\\\ipykernel\\\\connect.py', 'pygments.lexers._mapping': 'C:\\\\Program Files\\\\Anaconda3\\\\lib\\\\site-packages\\\\pygments\\\\lexers\\\\_mapping.py', 'IPython.utils.capture': 'C:\\\\Program Files\\\\Anaconda3\\\\lib\\\\site-packages\\\\IPython\\\\utils\\\\capture.py', 'prompt_toolkit.layout.controls': 'C:\\\\Program Files\\\\Anaconda3\\\\lib\\\\site-packages\\\\prompt_toolkit\\\\layout\\\\controls.py', 'prompt_toolkit.key_binding.vi_state': 'C:\\\\Program Files\\\\Anaconda3\\\\lib\\\\site-packages\\\\prompt_toolkit\\\\key_binding\\\\vi_state.py', 'pygments.token': 'C:\\\\Program Files\\\\Anaconda3\\\\lib\\\\site-packages\\\\pygments\\\\token.py', '_bootlocale': 'C:\\\\Program Files\\\\Anaconda3\\\\lib\\\\_bootlocale.py', 'pstats': 'C:\\\\Program Files\\\\Anaconda3\\\\lib\\\\pstats.py', 'IPython.core.builtin_trap': 'C:\\\\Program Files\\\\Anaconda3\\\\lib\\\\site-packages\\\\IPython\\\\core\\\\builtin_trap.py', 'IPython.core.history': 'C:\\\\Program Files\\\\Anaconda3\\\\lib\\\\site-packages\\\\IPython\\\\core\\\\history.py', 'prompt_toolkit.key_binding.bindings.scroll': 'C:\\\\Program Files\\\\Anaconda3\\\\lib\\\\site-packages\\\\prompt_toolkit\\\\key_binding\\\\bindings\\\\scroll.py', 'zmq.sugar.frame': 'C:\\\\Program Files\\\\Anaconda3\\\\lib\\\\site-packages\\\\zmq\\\\sugar\\\\frame.py', 'email.message': 'C:\\\\Program Files\\\\Anaconda3\\\\lib\\\\email\\\\message.py', 'ipywidgets.widgets.widget_controller': 'C:\\\\Program Files\\\\Anaconda3\\\\lib\\\\site-packages\\\\ipywidgets\\\\widgets\\\\widget_controller.py', 'jupyter_client.blocking': 'C:\\\\Program Files\\\\Anaconda3\\\\lib\\\\site-packages\\\\jupyter_client\\\\blocking\\\\__init__.py', 'zmq.backend.cython.context': 'C:\\\\Program Files\\\\Anaconda3\\\\lib\\\\site-packages\\\\zmq\\\\backend\\\\cython\\\\context.cp35-win_amd64.pyd', 'IPython.core.payloadpage': 'C:\\\\Program Files\\\\Anaconda3\\\\lib\\\\site-packages\\\\IPython\\\\core\\\\payloadpage.py', 'ipython_genutils._version': 'C:\\\\Program Files\\\\Anaconda3\\\\lib\\\\site-packages\\\\ipython_genutils\\\\_version.py', 'optparse': 'C:\\\\Program Files\\\\Anaconda3\\\\lib\\\\optparse.py', 'ipywidgets.widgets.widget_color': 'C:\\\\Program Files\\\\Anaconda3\\\\lib\\\\site-packages\\\\ipywidgets\\\\widgets\\\\widget_color.py', 'IPython.core.alias': 'C:\\\\Program Files\\\\Anaconda3\\\\lib\\\\site-packages\\\\IPython\\\\core\\\\alias.py', 're': 'C:\\\\Program Files\\\\Anaconda3\\\\lib\\\\re.py', 'IPython.core.magics.config': 'C:\\\\Program Files\\\\Anaconda3\\\\lib\\\\site-packages\\\\IPython\\\\core\\\\magics\\\\config.py', 'traitlets.config.configurable': 'C:\\\\Program Files\\\\Anaconda3\\\\lib\\\\site-packages\\\\traitlets\\\\config\\\\configurable.py', 'ipykernel.displayhook': 'C:\\\\Program Files\\\\Anaconda3\\\\lib\\\\site-packages\\\\ipykernel\\\\displayhook.py', 'zmq.backend.cython.socket': 'C:\\\\Program Files\\\\Anaconda3\\\\lib\\\\site-packages\\\\zmq\\\\backend\\\\cython\\\\socket.cp35-win_amd64.pyd', 'imp': 'C:\\\\Program Files\\\\Anaconda3\\\\lib\\\\imp.py', 'ntpath': 'C:\\\\Program Files\\\\Anaconda3\\\\lib\\\\ntpath.py', 'tarfile': 'C:\\\\Program Files\\\\Anaconda3\\\\lib\\\\tarfile.py', 'IPython.core.magics.osm': 'C:\\\\Program Files\\\\Anaconda3\\\\lib\\\\site-packages\\\\IPython\\\\core\\\\magics\\\\osm.py', 'importlib.util': 'C:\\\\Program Files\\\\Anaconda3\\\\lib\\\\importlib\\\\util.py', 'asyncio.windows_events': 'C:\\\\Program Files\\\\Anaconda3\\\\lib\\\\asyncio\\\\windows_events.py', 'zmq.eventloop.ioloop': 'C:\\\\Program Files\\\\Anaconda3\\\\lib\\\\site-packages\\\\zmq\\\\eventloop\\\\ioloop.py', 'email.feedparser': 'C:\\\\Program Files\\\\Anaconda3\\\\lib\\\\email\\\\feedparser.py', 'prompt_toolkit.layout.margins': 'C:\\\\Program Files\\\\Anaconda3\\\\lib\\\\site-packages\\\\prompt_toolkit\\\\layout\\\\margins.py', 'pkg_resources.extern.packaging._structures': 'C:\\\\Program Files\\\\Anaconda3\\\\lib\\\\site-packages\\\\setuptools-27.2.0-py3.5.egg\\\\pkg_resources\\\\_vendor\\\\packaging\\\\_structures.py', 'ipywidgets.widgets.widget_float': 'C:\\\\Program Files\\\\Anaconda3\\\\lib\\\\site-packages\\\\ipywidgets\\\\widgets\\\\widget_float.py', 'prompt_toolkit.terminal.win32_output': 'C:\\\\Program Files\\\\Anaconda3\\\\lib\\\\site-packages\\\\prompt_toolkit\\\\terminal\\\\win32_output.py', 'subprocess': 'C:\\\\Program Files\\\\Anaconda3\\\\lib\\\\subprocess.py', 'concurrent.futures.process': 'C:\\\\Program Files\\\\Anaconda3\\\\lib\\\\concurrent\\\\futures\\\\process.py', 'ipython_genutils.encoding': 'C:\\\\Program Files\\\\Anaconda3\\\\lib\\\\site-packages\\\\ipython_genutils\\\\encoding.py', 'prompt_toolkit.layout.mouse_handlers': 'C:\\\\Program Files\\\\Anaconda3\\\\lib\\\\site-packages\\\\prompt_toolkit\\\\layout\\\\mouse_handlers.py', 'encodings.mbcs': 'C:\\\\Program Files\\\\Anaconda3\\\\lib\\\\encodings\\\\mbcs.py', 'IPython.core.compilerop': 'C:\\\\Program Files\\\\Anaconda3\\\\lib\\\\site-packages\\\\IPython\\\\core\\\\compilerop.py', 'IPython.utils.timing': 'C:\\\\Program Files\\\\Anaconda3\\\\lib\\\\site-packages\\\\IPython\\\\utils\\\\timing.py', 'pkg_resources.extern.packaging.requirements': 'C:\\\\Program Files\\\\Anaconda3\\\\lib\\\\site-packages\\\\setuptools-27.2.0-py3.5.egg\\\\pkg_resources\\\\_vendor\\\\packaging\\\\requirements.py', 'IPython.testing.skipdoctest': 'C:\\\\Program Files\\\\Anaconda3\\\\lib\\\\site-packages\\\\IPython\\\\testing\\\\skipdoctest.py', 'traitlets.utils.getargspec': 'C:\\\\Program Files\\\\Anaconda3\\\\lib\\\\site-packages\\\\traitlets\\\\utils\\\\getargspec.py', 'os.path': 'C:\\\\Program Files\\\\Anaconda3\\\\lib\\\\ntpath.py', 'tornado.concurrent': 'C:\\\\Program Files\\\\Anaconda3\\\\lib\\\\site-packages\\\\tornado\\\\concurrent.py', '_compression': 'C:\\\\Program Files\\\\Anaconda3\\\\lib\\\\_compression.py', 'concurrent.futures.thread': 'C:\\\\Program Files\\\\Anaconda3\\\\lib\\\\concurrent\\\\futures\\\\thread.py', 'json': 'C:\\\\Program Files\\\\Anaconda3\\\\lib\\\\json\\\\__init__.py', 'bisect': 'C:\\\\Program Files\\\\Anaconda3\\\\lib\\\\bisect.py', 'IPython.display': 'C:\\\\Program Files\\\\Anaconda3\\\\lib\\\\site-packages\\\\IPython\\\\display.py', 'prompt_toolkit.cache': 'C:\\\\Program Files\\\\Anaconda3\\\\lib\\\\site-packages\\\\prompt_toolkit\\\\cache.py', '_hashlib': 'C:\\\\Program Files\\\\Anaconda3\\\\DLLs\\\\_hashlib.pyd', 'prompt_toolkit.eventloop.callbacks': 'C:\\\\Program Files\\\\Anaconda3\\\\lib\\\\site-packages\\\\prompt_toolkit\\\\eventloop\\\\callbacks.py', 'IPython.core.displayhook': 'C:\\\\Program Files\\\\Anaconda3\\\\lib\\\\site-packages\\\\IPython\\\\core\\\\displayhook.py', 'email.iterators': 'C:\\\\Program Files\\\\Anaconda3\\\\lib\\\\email\\\\iterators.py', 'IPython.utils._sysinfo': 'C:\\\\Program Files\\\\Anaconda3\\\\lib\\\\site-packages\\\\IPython\\\\utils\\\\_sysinfo.py', 'prompt_toolkit.eventloop.base': 'C:\\\\Program Files\\\\Anaconda3\\\\lib\\\\site-packages\\\\prompt_toolkit\\\\eventloop\\\\base.py', 'prompt_toolkit.document': 'C:\\\\Program Files\\\\Anaconda3\\\\lib\\\\site-packages\\\\prompt_toolkit\\\\document.py', 'IPython.core.magic': 'C:\\\\Program Files\\\\Anaconda3\\\\lib\\\\site-packages\\\\IPython\\\\core\\\\magic.py', 'IPython.lib.security': 'C:\\\\Program Files\\\\Anaconda3\\\\lib\\\\site-packages\\\\IPython\\\\lib\\\\security.py', 'traceback': 'C:\\\\Program Files\\\\Anaconda3\\\\lib\\\\traceback.py', 'IPython.utils.colorable': 'C:\\\\Program Files\\\\Anaconda3\\\\lib\\\\site-packages\\\\IPython\\\\utils\\\\colorable.py', 'zmq': 'C:\\\\Program Files\\\\Anaconda3\\\\lib\\\\site-packages\\\\zmq\\\\__init__.py', 'pickleshare': 'C:\\\\Program Files\\\\Anaconda3\\\\lib\\\\site-packages\\\\pickleshare.py', 'code': 'C:\\\\Program Files\\\\Anaconda3\\\\lib\\\\code.py', '_frozen_importlib_external': 'C:\\\\Program Files\\\\Anaconda3\\\\lib\\\\importlib\\\\_bootstrap_external.py', 'IPython.utils.wildcard': 'C:\\\\Program Files\\\\Anaconda3\\\\lib\\\\site-packages\\\\IPython\\\\utils\\\\wildcard.py', 'ipython_genutils.path': 'C:\\\\Program Files\\\\Anaconda3\\\\lib\\\\site-packages\\\\ipython_genutils\\\\path.py', 'wcwidth.table_zero': 'C:\\\\Program Files\\\\Anaconda3\\\\lib\\\\site-packages\\\\wcwidth\\\\table_zero.py', 'hmac': 'C:\\\\Program Files\\\\Anaconda3\\\\lib\\\\hmac.py', 'pygments.lexers': 'C:\\\\Program Files\\\\Anaconda3\\\\lib\\\\site-packages\\\\pygments\\\\lexers\\\\__init__.py', 'prompt_toolkit.history': 'C:\\\\Program Files\\\\Anaconda3\\\\lib\\\\site-packages\\\\prompt_toolkit\\\\history.py', 'operator': 'C:\\\\Program Files\\\\Anaconda3\\\\lib\\\\operator.py', 'IPython.utils.PyColorize': 'C:\\\\Program Files\\\\Anaconda3\\\\lib\\\\site-packages\\\\IPython\\\\utils\\\\PyColorize.py', '_bz2': 'C:\\\\Program Files\\\\Anaconda3\\\\DLLs\\\\_bz2.pyd', 'pkg_resources._vendor': 'C:\\\\Program Files\\\\Anaconda3\\\\lib\\\\site-packages\\\\setuptools-27.2.0-py3.5.egg\\\\pkg_resources\\\\_vendor\\\\__init__.py', 'pkg_resources.extern.packaging.specifiers': 'C:\\\\Program Files\\\\Anaconda3\\\\lib\\\\site-packages\\\\setuptools-27.2.0-py3.5.egg\\\\pkg_resources\\\\_vendor\\\\packaging\\\\specifiers.py', 'warnings': 'C:\\\\Program Files\\\\Anaconda3\\\\lib\\\\warnings.py', 'pythoncom': 'C:\\\\Program Files\\\\Anaconda3\\\\Library\\\\bin\\\\pythoncom35.dll', 'zmq.eventloop': 'C:\\\\Program Files\\\\Anaconda3\\\\lib\\\\site-packages\\\\zmq\\\\eventloop\\\\__init__.py', 'prompt_toolkit.terminal': 'C:\\\\Program Files\\\\Anaconda3\\\\lib\\\\site-packages\\\\prompt_toolkit\\\\terminal\\\\__init__.py', 'typing': 'C:\\\\Program Files\\\\Anaconda3\\\\lib\\\\typing.py', 'jupyter_client': 'C:\\\\Program Files\\\\Anaconda3\\\\lib\\\\site-packages\\\\jupyter_client\\\\__init__.py', 'asyncio.constants': 'C:\\\\Program Files\\\\Anaconda3\\\\lib\\\\asyncio\\\\constants.py', 'zmq.backend.cython.utils': 'C:\\\\Program Files\\\\Anaconda3\\\\lib\\\\site-packages\\\\zmq\\\\backend\\\\cython\\\\utils.cp35-win_amd64.pyd', 'posixpath': 'C:\\\\Program Files\\\\Anaconda3\\\\lib\\\\posixpath.py', 'pygments.unistring': 'C:\\\\Program Files\\\\Anaconda3\\\\lib\\\\site-packages\\\\pygments\\\\unistring.py', 'IPython.core.displaypub': 'C:\\\\Program Files\\\\Anaconda3\\\\lib\\\\site-packages\\\\IPython\\\\core\\\\displaypub.py', 'IPython.utils.data': 'C:\\\\Program Files\\\\Anaconda3\\\\lib\\\\site-packages\\\\IPython\\\\utils\\\\data.py', 'sre_parse': 'C:\\\\Program Files\\\\Anaconda3\\\\lib\\\\sre_parse.py', '_frozen_importlib': 'C:\\\\Program Files\\\\Anaconda3\\\\lib\\\\importlib\\\\_bootstrap.py', 'prompt_toolkit.terminal.vt100_output': 'C:\\\\Program Files\\\\Anaconda3\\\\lib\\\\site-packages\\\\prompt_toolkit\\\\terminal\\\\vt100_output.py', 'token': 'C:\\\\Program Files\\\\Anaconda3\\\\lib\\\\token.py', 'win32com': 'C:\\\\Program Files\\\\Anaconda3\\\\lib\\\\site-packages\\\\win32com\\\\__init__.py', 'email._encoded_words': 'C:\\\\Program Files\\\\Anaconda3\\\\lib\\\\email\\\\_encoded_words.py', 'IPython.core.magics.namespace': 'C:\\\\Program Files\\\\Anaconda3\\\\lib\\\\site-packages\\\\IPython\\\\core\\\\magics\\\\namespace.py', 'ipywidgets.widgets.widget_string': 'C:\\\\Program Files\\\\Anaconda3\\\\lib\\\\site-packages\\\\ipywidgets\\\\widgets\\\\widget_string.py', 'IPython.terminal.ptutils': 'C:\\\\Program Files\\\\Anaconda3\\\\lib\\\\site-packages\\\\IPython\\\\terminal\\\\ptutils.py', 'sysconfig': 'C:\\\\Program Files\\\\Anaconda3\\\\lib\\\\sysconfig.py', 'IPython.utils.importstring': 'C:\\\\Program Files\\\\Anaconda3\\\\lib\\\\site-packages\\\\IPython\\\\utils\\\\importstring.py', 'ipywidgets.widgets.widget_box': 'C:\\\\Program Files\\\\Anaconda3\\\\lib\\\\site-packages\\\\ipywidgets\\\\widgets\\\\widget_box.py', 'zipfile': 'C:\\\\Program Files\\\\Anaconda3\\\\lib\\\\zipfile.py', 'pkg_resources._vendor.six': 'C:\\\\Program Files\\\\Anaconda3\\\\lib\\\\site-packages\\\\setuptools-27.2.0-py3.5.egg\\\\pkg_resources\\\\_vendor\\\\six.py', 'prompt_toolkit.layout.utils': 'C:\\\\Program Files\\\\Anaconda3\\\\lib\\\\site-packages\\\\prompt_toolkit\\\\layout\\\\utils.py', 'IPython.core.excolors': 'C:\\\\Program Files\\\\Anaconda3\\\\lib\\\\site-packages\\\\IPython\\\\core\\\\excolors.py', 'IPython.extensions.storemagic': 'C:\\\\Program Files\\\\Anaconda3\\\\lib\\\\site-packages\\\\IPython\\\\extensions\\\\storemagic.py', 'zmq.sugar.tracker': 'C:\\\\Program Files\\\\Anaconda3\\\\lib\\\\site-packages\\\\zmq\\\\sugar\\\\tracker.py', 'random': 'C:\\\\Program Files\\\\Anaconda3\\\\lib\\\\random.py', 'io': 'C:\\\\Program Files\\\\Anaconda3\\\\lib\\\\io.py', 'tornado.platform.common': 'C:\\\\Program Files\\\\Anaconda3\\\\lib\\\\site-packages\\\\tornado\\\\platform\\\\common.py', 'importlib._bootstrap': 'C:\\\\Program Files\\\\Anaconda3\\\\lib\\\\importlib\\\\_bootstrap.py', 'traitlets.utils': 'C:\\\\Program Files\\\\Anaconda3\\\\lib\\\\site-packages\\\\traitlets\\\\utils\\\\__init__.py', 'IPython.utils.dir2': 'C:\\\\Program Files\\\\Anaconda3\\\\lib\\\\site-packages\\\\IPython\\\\utils\\\\dir2.py', 'prompt_toolkit.layout.lexers': 'C:\\\\Program Files\\\\Anaconda3\\\\lib\\\\site-packages\\\\prompt_toolkit\\\\layout\\\\lexers.py', 'email.quoprimime': 'C:\\\\Program Files\\\\Anaconda3\\\\lib\\\\email\\\\quoprimime.py', 'email.charset': 'C:\\\\Program Files\\\\Anaconda3\\\\lib\\\\email\\\\charset.py', 'asyncio': 'C:\\\\Program Files\\\\Anaconda3\\\\lib\\\\asyncio\\\\__init__.py', 'IPython.utils.process': 'C:\\\\Program Files\\\\Anaconda3\\\\lib\\\\site-packages\\\\IPython\\\\utils\\\\process.py', 'IPython.lib.clipboard': 'C:\\\\Program Files\\\\Anaconda3\\\\lib\\\\site-packages\\\\IPython\\\\lib\\\\clipboard.py', 'IPython.core.shellapp': 'C:\\\\Program Files\\\\Anaconda3\\\\lib\\\\site-packages\\\\IPython\\\\core\\\\shellapp.py', 'gettext': 'C:\\\\Program Files\\\\Anaconda3\\\\lib\\\\gettext.py', 'zmq.libzmq': 'C:\\\\Program Files\\\\Anaconda3\\\\lib\\\\site-packages\\\\zmq\\\\libzmq.cp35-win_amd64.pyd', 'ipywidgets.widgets.widget': 'C:\\\\Program Files\\\\Anaconda3\\\\lib\\\\site-packages\\\\ipywidgets\\\\widgets\\\\widget.py', 'jupyter_client.client': 'C:\\\\Program Files\\\\Anaconda3\\\\lib\\\\site-packages\\\\jupyter_client\\\\client.py', 'prompt_toolkit.key_binding.digraphs': 'C:\\\\Program Files\\\\Anaconda3\\\\lib\\\\site-packages\\\\prompt_toolkit\\\\key_binding\\\\digraphs.py', 'multiprocessing.process': 'C:\\\\Program Files\\\\Anaconda3\\\\lib\\\\multiprocessing\\\\process.py', 'tornado.platform': 'C:\\\\Program Files\\\\Anaconda3\\\\lib\\\\site-packages\\\\tornado\\\\platform\\\\__init__.py', 'prompt_toolkit.clipboard.in_memory': 'C:\\\\Program Files\\\\Anaconda3\\\\lib\\\\site-packages\\\\prompt_toolkit\\\\clipboard\\\\in_memory.py', 'csv': 'C:\\\\Program Files\\\\Anaconda3\\\\lib\\\\csv.py', 'jupyter_client.managerabc': 'C:\\\\Program Files\\\\Anaconda3\\\\lib\\\\site-packages\\\\jupyter_client\\\\managerabc.py', 'pygments.util': 'C:\\\\Program Files\\\\Anaconda3\\\\lib\\\\site-packages\\\\pygments\\\\util.py', 'asyncio.subprocess': 'C:\\\\Program Files\\\\Anaconda3\\\\lib\\\\asyncio\\\\subprocess.py', 'selectors': 'C:\\\\Program Files\\\\Anaconda3\\\\lib\\\\selectors.py', 'pygments.modeline': 'C:\\\\Program Files\\\\Anaconda3\\\\lib\\\\site-packages\\\\pygments\\\\modeline.py', 'pygments.formatter': 'C:\\\\Program Files\\\\Anaconda3\\\\lib\\\\site-packages\\\\pygments\\\\formatter.py', 'jupyter_client.session': 'C:\\\\Program Files\\\\Anaconda3\\\\lib\\\\site-packages\\\\jupyter_client\\\\session.py', 'traitlets.config.application': 'C:\\\\Program Files\\\\Anaconda3\\\\lib\\\\site-packages\\\\traitlets\\\\config\\\\application.py', 'getpass': 'C:\\\\Program Files\\\\Anaconda3\\\\lib\\\\getpass.py', 'reprlib': 'C:\\\\Program Files\\\\Anaconda3\\\\lib\\\\reprlib.py', 'IPython.core.prefilter': 'C:\\\\Program Files\\\\Anaconda3\\\\lib\\\\site-packages\\\\IPython\\\\core\\\\prefilter.py', 'zmq.error': 'C:\\\\Program Files\\\\Anaconda3\\\\lib\\\\site-packages\\\\zmq\\\\error.py', 'pickle': 'C:\\\\Program Files\\\\Anaconda3\\\\lib\\\\pickle.py', 'IPython.core.crashhandler': 'C:\\\\Program Files\\\\Anaconda3\\\\lib\\\\site-packages\\\\IPython\\\\core\\\\crashhandler.py', 'zmq.backend.cython': 'C:\\\\Program Files\\\\Anaconda3\\\\lib\\\\site-packages\\\\zmq\\\\backend\\\\cython\\\\__init__.py', 'threading': 'C:\\\\Program Files\\\\Anaconda3\\\\lib\\\\threading.py', 'ctypes.wintypes': 'C:\\\\Program Files\\\\Anaconda3\\\\lib\\\\ctypes\\\\wintypes.py', 'ast': 'C:\\\\Program Files\\\\Anaconda3\\\\lib\\\\ast.py', 'encodings.aliases': 'C:\\\\Program Files\\\\Anaconda3\\\\lib\\\\encodings\\\\aliases.py', 'plistlib': 'C:\\\\Program Files\\\\Anaconda3\\\\lib\\\\plistlib.py', 'ipykernel.comm.comm': 'C:\\\\Program Files\\\\Anaconda3\\\\lib\\\\site-packages\\\\ipykernel\\\\comm\\\\comm.py', 'prompt_toolkit.keys': 'C:\\\\Program Files\\\\Anaconda3\\\\lib\\\\site-packages\\\\prompt_toolkit\\\\keys.py', 'cmd': 'C:\\\\Program Files\\\\Anaconda3\\\\lib\\\\cmd.py', 'timeit': 'C:\\\\Program Files\\\\Anaconda3\\\\lib\\\\timeit.py', 'socket': 'C:\\\\Program Files\\\\Anaconda3\\\\lib\\\\socket.py', 'sqlite3': 'C:\\\\Program Files\\\\Anaconda3\\\\lib\\\\sqlite3\\\\__init__.py', 'runpy': 'C:\\\\Program Files\\\\Anaconda3\\\\lib\\\\runpy.py', 'IPython.core.extensions': 'C:\\\\Program Files\\\\Anaconda3\\\\lib\\\\site-packages\\\\IPython\\\\core\\\\extensions.py', 'traitlets': 'C:\\\\Program Files\\\\Anaconda3\\\\lib\\\\site-packages\\\\traitlets\\\\__init__.py', 'IPython.utils.syspathcontext': 'C:\\\\Program Files\\\\Anaconda3\\\\lib\\\\site-packages\\\\IPython\\\\utils\\\\syspathcontext.py', 'prompt_toolkit.reactive': 'C:\\\\Program Files\\\\Anaconda3\\\\lib\\\\site-packages\\\\prompt_toolkit\\\\reactive.py', 'concurrent': 'C:\\\\Program Files\\\\Anaconda3\\\\lib\\\\concurrent\\\\__init__.py', 'IPython.utils._process_common': 'C:\\\\Program Files\\\\Anaconda3\\\\lib\\\\site-packages\\\\IPython\\\\utils\\\\_process_common.py', 'IPython.terminal.ipapp': 'C:\\\\Program Files\\\\Anaconda3\\\\lib\\\\site-packages\\\\IPython\\\\terminal\\\\ipapp.py', 'IPython.utils.encoding': 'C:\\\\Program Files\\\\Anaconda3\\\\lib\\\\site-packages\\\\IPython\\\\utils\\\\encoding.py', 'IPython.core.error': 'C:\\\\Program Files\\\\Anaconda3\\\\lib\\\\site-packages\\\\IPython\\\\core\\\\error.py', 'ipython_genutils.text': 'C:\\\\Program Files\\\\Anaconda3\\\\lib\\\\site-packages\\\\ipython_genutils\\\\text.py', 'IPython.core.magics.logging': 'C:\\\\Program Files\\\\Anaconda3\\\\lib\\\\site-packages\\\\IPython\\\\core\\\\magics\\\\logging.py', 'ipywidgets.widgets.widget_output': 'C:\\\\Program Files\\\\Anaconda3\\\\lib\\\\site-packages\\\\ipywidgets\\\\widgets\\\\widget_output.py', 'asyncio.events': 'C:\\\\Program Files\\\\Anaconda3\\\\lib\\\\asyncio\\\\events.py', 'IPython.terminal.magics': 'C:\\\\Program Files\\\\Anaconda3\\\\lib\\\\site-packages\\\\IPython\\\\terminal\\\\magics.py', 'IPython.core.application': 'C:\\\\Program Files\\\\Anaconda3\\\\lib\\\\site-packages\\\\IPython\\\\core\\\\application.py', 'prompt_toolkit.layout.containers': 'C:\\\\Program Files\\\\Anaconda3\\\\lib\\\\site-packages\\\\prompt_toolkit\\\\layout\\\\containers.py', 'pydoc': 'C:\\\\Program Files\\\\Anaconda3\\\\lib\\\\pydoc.py', 'sqlite3.dbapi2': 'C:\\\\Program Files\\\\Anaconda3\\\\lib\\\\sqlite3\\\\dbapi2.py', 'prompt_toolkit.key_binding.bindings.completion': 'C:\\\\Program Files\\\\Anaconda3\\\\lib\\\\site-packages\\\\prompt_toolkit\\\\key_binding\\\\bindings\\\\completion.py', 'IPython.terminal.interactiveshell': 'C:\\\\Program Files\\\\Anaconda3\\\\lib\\\\site-packages\\\\IPython\\\\terminal\\\\interactiveshell.py', 'prompt_toolkit.filters.cli': 'C:\\\\Program Files\\\\Anaconda3\\\\lib\\\\site-packages\\\\prompt_toolkit\\\\filters\\\\cli.py', 'asyncio.locks': 'C:\\\\Program Files\\\\Anaconda3\\\\lib\\\\asyncio\\\\locks.py', 'pygments.lexers.python': 'C:\\\\Program Files\\\\Anaconda3\\\\lib\\\\site-packages\\\\pygments\\\\lexers\\\\python.py', 'asyncio.base_events': 'C:\\\\Program Files\\\\Anaconda3\\\\lib\\\\asyncio\\\\base_events.py', 'prompt_toolkit.styles.from_dict': 'C:\\\\Program Files\\\\Anaconda3\\\\lib\\\\site-packages\\\\prompt_toolkit\\\\styles\\\\from_dict.py', 'datetime': 'C:\\\\Program Files\\\\Anaconda3\\\\lib\\\\datetime.py', 'prompt_toolkit.enums': 'C:\\\\Program Files\\\\Anaconda3\\\\lib\\\\site-packages\\\\prompt_toolkit\\\\enums.py', 'string': 'C:\\\\Program Files\\\\Anaconda3\\\\lib\\\\string.py', 'prompt_toolkit.key_binding.registry': 'C:\\\\Program Files\\\\Anaconda3\\\\lib\\\\site-packages\\\\prompt_toolkit\\\\key_binding\\\\registry.py', 'prompt_toolkit': 'C:\\\\Program Files\\\\Anaconda3\\\\lib\\\\site-packages\\\\prompt_toolkit\\\\__init__.py', 'IPython.core.completer': 'C:\\\\Program Files\\\\Anaconda3\\\\lib\\\\site-packages\\\\IPython\\\\core\\\\completer.py', 'IPython.core': 'C:\\\\Program Files\\\\Anaconda3\\\\lib\\\\site-packages\\\\IPython\\\\core\\\\__init__.py', 'IPython.utils.ulinecache': 'C:\\\\Program Files\\\\Anaconda3\\\\lib\\\\site-packages\\\\IPython\\\\utils\\\\ulinecache.py', 'IPython.utils.tempdir': 'C:\\\\Program Files\\\\Anaconda3\\\\lib\\\\site-packages\\\\IPython\\\\utils\\\\tempdir.py', 'IPython.core.getipython': 'C:\\\\Program Files\\\\Anaconda3\\\\lib\\\\site-packages\\\\IPython\\\\core\\\\getipython.py', 'prompt_toolkit.key_binding.bindings.utils': 'C:\\\\Program Files\\\\Anaconda3\\\\lib\\\\site-packages\\\\prompt_toolkit\\\\key_binding\\\\bindings\\\\utils.py', 'select': 'C:\\\\Program Files\\\\Anaconda3\\\\DLLs\\\\select.pyd', 'json.scanner': 'C:\\\\Program Files\\\\Anaconda3\\\\lib\\\\json\\\\scanner.py', 'zmq.backend.cython.constants': 'C:\\\\Program Files\\\\Anaconda3\\\\lib\\\\site-packages\\\\zmq\\\\backend\\\\cython\\\\constants.cp35-win_amd64.pyd', 'win32com.shell': 'C:\\\\Program Files\\\\Anaconda3\\\\lib\\\\site-packages\\\\win32comext\\\\shell\\\\__init__.py', 'IPython.core.magics': 'C:\\\\Program Files\\\\Anaconda3\\\\lib\\\\site-packages\\\\IPython\\\\core\\\\magics\\\\__init__.py', 'ssl': 'C:\\\\Program Files\\\\Anaconda3\\\\lib\\\\ssl.py', 'IPython.utils.tokenize2': 'C:\\\\Program Files\\\\Anaconda3\\\\lib\\\\site-packages\\\\IPython\\\\utils\\\\tokenize2.py', 'IPython': 'C:\\\\Program Files\\\\Anaconda3\\\\lib\\\\site-packages\\\\IPython\\\\__init__.py', 'IPython.core.pylabtools': 'C:\\\\Program Files\\\\Anaconda3\\\\lib\\\\site-packages\\\\IPython\\\\core\\\\pylabtools.py', 'ipywidgets.widgets.trait_types': 'C:\\\\Program Files\\\\Anaconda3\\\\lib\\\\site-packages\\\\ipywidgets\\\\widgets\\\\trait_types.py', 'IPython.utils._tokenize_py3': 'C:\\\\Program Files\\\\Anaconda3\\\\lib\\\\site-packages\\\\IPython\\\\utils\\\\_tokenize_py3.py', 'asyncio.windows_utils': 'C:\\\\Program Files\\\\Anaconda3\\\\lib\\\\asyncio\\\\windows_utils.py', 'pygments': 'C:\\\\Program Files\\\\Anaconda3\\\\lib\\\\site-packages\\\\pygments\\\\__init__.py', 'wcwidth': 'C:\\\\Program Files\\\\Anaconda3\\\\lib\\\\site-packages\\\\wcwidth\\\\__init__.py', 'prompt_toolkit.layout.dimension': 'C:\\\\Program Files\\\\Anaconda3\\\\lib\\\\site-packages\\\\prompt_toolkit\\\\layout\\\\dimension.py', 'copy': 'C:\\\\Program Files\\\\Anaconda3\\\\lib\\\\copy.py', 'tornado.speedups': 'C:\\\\Program Files\\\\Anaconda3\\\\lib\\\\site-packages\\\\tornado\\\\speedups.cp35-win_amd64.pyd', 'pkg_resources.extern.six': 'C:\\\\Program Files\\\\Anaconda3\\\\lib\\\\site-packages\\\\setuptools-27.2.0-py3.5.egg\\\\pkg_resources\\\\_vendor\\\\six.py', 'platform': 'C:\\\\Program Files\\\\Anaconda3\\\\lib\\\\platform.py', 'cProfile': 'C:\\\\Program Files\\\\Anaconda3\\\\lib\\\\cProfile.py', 'asyncio.log': 'C:\\\\Program Files\\\\Anaconda3\\\\lib\\\\asyncio\\\\log.py', 'ipykernel.kernelbase': 'C:\\\\Program Files\\\\Anaconda3\\\\lib\\\\site-packages\\\\ipykernel\\\\kernelbase.py', 'email.encoders': 'C:\\\\Program Files\\\\Anaconda3\\\\lib\\\\email\\\\encoders.py', 'tornado': 'C:\\\\Program Files\\\\Anaconda3\\\\lib\\\\site-packages\\\\tornado\\\\__init__.py', 'prompt_toolkit.interface': 'C:\\\\Program Files\\\\Anaconda3\\\\lib\\\\site-packages\\\\prompt_toolkit\\\\interface.py', 'urllib.parse': 'C:\\\\Program Files\\\\Anaconda3\\\\lib\\\\urllib\\\\parse.py', 'ipykernel.datapub': 'C:\\\\Program Files\\\\Anaconda3\\\\lib\\\\site-packages\\\\ipykernel\\\\datapub.py', 'json.encoder': 'C:\\\\Program Files\\\\Anaconda3\\\\lib\\\\json\\\\encoder.py', 'prompt_toolkit.input': 'C:\\\\Program Files\\\\Anaconda3\\\\lib\\\\site-packages\\\\prompt_toolkit\\\\input.py', 'prompt_toolkit.token': 'C:\\\\Program Files\\\\Anaconda3\\\\lib\\\\site-packages\\\\prompt_toolkit\\\\token.py', 'ipywidgets.widgets.widget_bool': 'C:\\\\Program Files\\\\Anaconda3\\\\lib\\\\site-packages\\\\ipywidgets\\\\widgets\\\\widget_bool.py', 'textwrap': 'C:\\\\Program Files\\\\Anaconda3\\\\lib\\\\textwrap.py', 'multiprocessing.reduction': 'C:\\\\Program Files\\\\Anaconda3\\\\lib\\\\multiprocessing\\\\reduction.py', 'ipywidgets.widgets.widget_button': 'C:\\\\Program Files\\\\Anaconda3\\\\lib\\\\site-packages\\\\ipywidgets\\\\widgets\\\\widget_button.py', 'encodings.cp437': 'C:\\\\Program Files\\\\Anaconda3\\\\lib\\\\encodings\\\\cp437.py', 'ipython_genutils.py3compat': 'C:\\\\Program Files\\\\Anaconda3\\\\lib\\\\site-packages\\\\ipython_genutils\\\\py3compat.py', 'email.errors': 'C:\\\\Program Files\\\\Anaconda3\\\\lib\\\\email\\\\errors.py', 'linecache': 'C:\\\\Program Files\\\\Anaconda3\\\\lib\\\\linecache.py', 'ipywidgets.widgets.widget_int': 'C:\\\\Program Files\\\\Anaconda3\\\\lib\\\\site-packages\\\\ipywidgets\\\\widgets\\\\widget_int.py', 'pkg_resources.extern.packaging.markers': 'C:\\\\Program Files\\\\Anaconda3\\\\lib\\\\site-packages\\\\setuptools-27.2.0-py3.5.egg\\\\pkg_resources\\\\_vendor\\\\packaging\\\\markers.py', 'IPython.core.splitinput': 'C:\\\\Program Files\\\\Anaconda3\\\\lib\\\\site-packages\\\\IPython\\\\core\\\\splitinput.py', 'uuid': 'C:\\\\Program Files\\\\Anaconda3\\\\lib\\\\uuid.py', 'collections.abc': 'C:\\\\Program Files\\\\Anaconda3\\\\lib\\\\collections\\\\abc.py', 'IPython.utils.tokenutil': 'C:\\\\Program Files\\\\Anaconda3\\\\lib\\\\site-packages\\\\IPython\\\\utils\\\\tokenutil.py', 'ipywidgets': 'C:\\\\Program Files\\\\Anaconda3\\\\lib\\\\site-packages\\\\ipywidgets\\\\__init__.py', 'prompt_toolkit.styles.defaults': 'C:\\\\Program Files\\\\Anaconda3\\\\lib\\\\site-packages\\\\prompt_toolkit\\\\styles\\\\defaults.py', 'types': 'C:\\\\Program Files\\\\Anaconda3\\\\lib\\\\types.py', 'tornado.stack_context': 'C:\\\\Program Files\\\\Anaconda3\\\\lib\\\\site-packages\\\\tornado\\\\stack_context.py', 'asyncio.futures': 'C:\\\\Program Files\\\\Anaconda3\\\\lib\\\\asyncio\\\\futures.py', 'contextlib': 'C:\\\\Program Files\\\\Anaconda3\\\\lib\\\\contextlib.py', 'pprint': 'C:\\\\Program Files\\\\Anaconda3\\\\lib\\\\pprint.py', 'zmq.backend.cython._poll': 'C:\\\\Program Files\\\\Anaconda3\\\\lib\\\\site-packages\\\\zmq\\\\backend\\\\cython\\\\_poll.cp35-win_amd64.pyd', 'email.base64mime': 'C:\\\\Program Files\\\\Anaconda3\\\\lib\\\\email\\\\base64mime.py', 'genericpath': 'C:\\\\Program Files\\\\Anaconda3\\\\lib\\\\genericpath.py', '__future__': 'C:\\\\Program Files\\\\Anaconda3\\\\lib\\\\__future__.py', 'asyncio.proactor_events': 'C:\\\\Program Files\\\\Anaconda3\\\\lib\\\\asyncio\\\\proactor_events.py', 'prompt_toolkit.terminal.conemu_output': 'C:\\\\Program Files\\\\Anaconda3\\\\lib\\\\site-packages\\\\prompt_toolkit\\\\terminal\\\\conemu_output.py', 'IPython.utils._process_win32': 'C:\\\\Program Files\\\\Anaconda3\\\\lib\\\\site-packages\\\\IPython\\\\utils\\\\_process_win32.py', 'IPython.utils.text': 'C:\\\\Program Files\\\\Anaconda3\\\\lib\\\\site-packages\\\\IPython\\\\utils\\\\text.py', 'ipykernel.zmqshell': 'C:\\\\Program Files\\\\Anaconda3\\\\lib\\\\site-packages\\\\ipykernel\\\\zmqshell.py', 'zmq.backend.cython._device': 'C:\\\\Program Files\\\\Anaconda3\\\\lib\\\\site-packages\\\\zmq\\\\backend\\\\cython\\\\_device.cp35-win_amd64.pyd', 'mimetypes': 'C:\\\\Program Files\\\\Anaconda3\\\\lib\\\\mimetypes.py', 'ipywidgets.widgets.domwidget': 'C:\\\\Program Files\\\\Anaconda3\\\\lib\\\\site-packages\\\\ipywidgets\\\\widgets\\\\domwidget.py', 'traitlets.traitlets': 'C:\\\\Program Files\\\\Anaconda3\\\\lib\\\\site-packages\\\\traitlets\\\\traitlets.py', 'pkg_resources.extern': 'C:\\\\Program Files\\\\Anaconda3\\\\lib\\\\site-packages\\\\setuptools-27.2.0-py3.5.egg\\\\pkg_resources\\\\extern\\\\__init__.py', 'logging': 'C:\\\\Program Files\\\\Anaconda3\\\\lib\\\\logging\\\\__init__.py', 'pkg_resources.extern.packaging.version': 'C:\\\\Program Files\\\\Anaconda3\\\\lib\\\\site-packages\\\\setuptools-27.2.0-py3.5.egg\\\\pkg_resources\\\\_vendor\\\\packaging\\\\version.py', 'prompt_toolkit.key_binding.manager': 'C:\\\\Program Files\\\\Anaconda3\\\\lib\\\\site-packages\\\\prompt_toolkit\\\\key_binding\\\\manager.py', 'prompt_toolkit.layout': 'C:\\\\Program Files\\\\Anaconda3\\\\lib\\\\site-packages\\\\prompt_toolkit\\\\layout\\\\__init__.py', 'pygments.formatters.html': 'C:\\\\Program Files\\\\Anaconda3\\\\lib\\\\site-packages\\\\pygments\\\\formatters\\\\html.py', '_weakrefset': 'C:\\\\Program Files\\\\Anaconda3\\\\lib\\\\_weakrefset.py', 'pathlib': 'C:\\\\Program Files\\\\Anaconda3\\\\lib\\\\pathlib.py', 'IPython.utils.openpy': 'C:\\\\Program Files\\\\Anaconda3\\\\lib\\\\site-packages\\\\IPython\\\\utils\\\\openpy.py', 'pygments.styles': 'C:\\\\Program Files\\\\Anaconda3\\\\lib\\\\site-packages\\\\pygments\\\\styles\\\\__init__.py', 'pygments.filter': 'C:\\\\Program Files\\\\Anaconda3\\\\lib\\\\site-packages\\\\pygments\\\\filter.py', 'ipykernel.iostream': 'C:\\\\Program Files\\\\Anaconda3\\\\lib\\\\site-packages\\\\ipykernel\\\\iostream.py', 'prompt_toolkit.filters.types': 'C:\\\\Program Files\\\\Anaconda3\\\\lib\\\\site-packages\\\\prompt_toolkit\\\\filters\\\\types.py', 'ipykernel.heartbeat': 'C:\\\\Program Files\\\\Anaconda3\\\\lib\\\\site-packages\\\\ipykernel\\\\heartbeat.py', 'asyncio.queues': 'C:\\\\Program Files\\\\Anaconda3\\\\lib\\\\asyncio\\\\queues.py', 'traitlets.utils.importstring': 'C:\\\\Program Files\\\\Anaconda3\\\\lib\\\\site-packages\\\\traitlets\\\\utils\\\\importstring.py', 'ipython_genutils.importstring': 'C:\\\\Program Files\\\\Anaconda3\\\\lib\\\\site-packages\\\\ipython_genutils\\\\importstring.py', 'profile': 'C:\\\\Program Files\\\\Anaconda3\\\\lib\\\\profile.py', 'IPython.core.autocall': 'C:\\\\Program Files\\\\Anaconda3\\\\lib\\\\site-packages\\\\IPython\\\\core\\\\autocall.py', 'asyncio.sslproto': 'C:\\\\Program Files\\\\Anaconda3\\\\lib\\\\asyncio\\\\sslproto.py', 'IPython.utils.sentinel': 'C:\\\\Program Files\\\\Anaconda3\\\\lib\\\\site-packages\\\\IPython\\\\utils\\\\sentinel.py', 'hashlib': 'C:\\\\Program Files\\\\Anaconda3\\\\lib\\\\hashlib.py', 'jupyter_client.adapter': 'C:\\\\Program Files\\\\Anaconda3\\\\lib\\\\site-packages\\\\jupyter_client\\\\adapter.py', 'traitlets.log': 'C:\\\\Program Files\\\\Anaconda3\\\\lib\\\\site-packages\\\\traitlets\\\\log.py', 'bz2': 'C:\\\\Program Files\\\\Anaconda3\\\\lib\\\\bz2.py', '_ssl': 'C:\\\\Program Files\\\\Anaconda3\\\\DLLs\\\\_ssl.pyd', 'glob': 'C:\\\\Program Files\\\\Anaconda3\\\\lib\\\\glob.py', 'IPython.utils.path': 'C:\\\\Program Files\\\\Anaconda3\\\\lib\\\\site-packages\\\\IPython\\\\utils\\\\path.py', 'ipywidgets.widgets.widget_layout': 'C:\\\\Program Files\\\\Anaconda3\\\\lib\\\\site-packages\\\\ipywidgets\\\\widgets\\\\widget_layout.py', 'opcode': 'C:\\\\Program Files\\\\Anaconda3\\\\lib\\\\opcode.py', 'multiprocessing': 'C:\\\\Program Files\\\\Anaconda3\\\\lib\\\\multiprocessing\\\\__init__.py', 'IPython.core.magics.display': 'C:\\\\Program Files\\\\Anaconda3\\\\lib\\\\site-packages\\\\IPython\\\\core\\\\magics\\\\display.py', 'multiprocessing.connection': 'C:\\\\Program Files\\\\Anaconda3\\\\lib\\\\multiprocessing\\\\connection.py', 'IPython.core.magics.script': 'C:\\\\Program Files\\\\Anaconda3\\\\lib\\\\site-packages\\\\IPython\\\\core\\\\magics\\\\script.py', 'tornado.util': 'C:\\\\Program Files\\\\Anaconda3\\\\lib\\\\site-packages\\\\tornado\\\\util.py', 'prompt_toolkit.validation': 'C:\\\\Program Files\\\\Anaconda3\\\\lib\\\\site-packages\\\\prompt_toolkit\\\\validation.py', 'locale': 'C:\\\\Program Files\\\\Anaconda3\\\\lib\\\\locale.py', 'IPython.core.magics.basic': 'C:\\\\Program Files\\\\Anaconda3\\\\lib\\\\site-packages\\\\IPython\\\\core\\\\magics\\\\basic.py', 'argparse': 'C:\\\\Program Files\\\\Anaconda3\\\\lib\\\\argparse.py', 'IPython.core.profiledir': 'C:\\\\Program Files\\\\Anaconda3\\\\lib\\\\site-packages\\\\IPython\\\\core\\\\profiledir.py', 'zmq.backend.cython.error': 'C:\\\\Program Files\\\\Anaconda3\\\\lib\\\\site-packages\\\\zmq\\\\backend\\\\cython\\\\error.cp35-win_amd64.pyd', 'sre_constants': 'C:\\\\Program Files\\\\Anaconda3\\\\lib\\\\sre_constants.py', 'ipykernel.pickleutil': 'C:\\\\Program Files\\\\Anaconda3\\\\lib\\\\site-packages\\\\ipykernel\\\\pickleutil.py', 'asyncio.compat': 'C:\\\\Program Files\\\\Anaconda3\\\\lib\\\\asyncio\\\\compat.py', 'jupyter_client.localinterfaces': 'C:\\\\Program Files\\\\Anaconda3\\\\lib\\\\site-packages\\\\jupyter_client\\\\localinterfaces.py', 'pywintypes': 'C:\\\\Program Files\\\\Anaconda3\\\\Library\\\\bin\\\\pywintypes35.dll', 'multiprocessing.util': 'C:\\\\Program Files\\\\Anaconda3\\\\lib\\\\multiprocessing\\\\util.py', 'IPython.core.logger': 'C:\\\\Program Files\\\\Anaconda3\\\\lib\\\\site-packages\\\\IPython\\\\core\\\\logger.py', 'ipykernel.comm': 'C:\\\\Program Files\\\\Anaconda3\\\\lib\\\\site-packages\\\\ipykernel\\\\comm\\\\__init__.py', 'shutil': 'C:\\\\Program Files\\\\Anaconda3\\\\lib\\\\shutil.py', 'asyncio.coroutines': 'C:\\\\Program Files\\\\Anaconda3\\\\lib\\\\asyncio\\\\coroutines.py', 'IPython.core.display': 'C:\\\\Program Files\\\\Anaconda3\\\\lib\\\\site-packages\\\\IPython\\\\core\\\\display.py', 'multiprocessing.context': 'C:\\\\Program Files\\\\Anaconda3\\\\lib\\\\multiprocessing\\\\context.py', 'traitlets.config': 'C:\\\\Program Files\\\\Anaconda3\\\\lib\\\\site-packages\\\\traitlets\\\\config\\\\__init__.py', 'zmq.backend': 'C:\\\\Program Files\\\\Anaconda3\\\\lib\\\\site-packages\\\\zmq\\\\backend\\\\__init__.py', 'jupyter_client.kernelspec': 'C:\\\\Program Files\\\\Anaconda3\\\\lib\\\\site-packages\\\\jupyter_client\\\\kernelspec.py', 'ipywidgets.widgets.widget_image': 'C:\\\\Program Files\\\\Anaconda3\\\\lib\\\\site-packages\\\\ipywidgets\\\\widgets\\\\widget_image.py', 'zmq.sugar.attrsettr': 'C:\\\\Program Files\\\\Anaconda3\\\\lib\\\\site-packages\\\\zmq\\\\sugar\\\\attrsettr.py', 'ipykernel.jsonutil': 'C:\\\\Program Files\\\\Anaconda3\\\\lib\\\\site-packages\\\\ipykernel\\\\jsonutil.py', 'IPython.utils.contexts': 'C:\\\\Program Files\\\\Anaconda3\\\\lib\\\\site-packages\\\\IPython\\\\utils\\\\contexts.py', 'IPython.paths': 'C:\\\\Program Files\\\\Anaconda3\\\\lib\\\\site-packages\\\\IPython\\\\paths.py', 'concurrent.futures._base': 'C:\\\\Program Files\\\\Anaconda3\\\\lib\\\\concurrent\\\\futures\\\\_base.py', 'jupyter_client.blocking.channels': 'C:\\\\Program Files\\\\Anaconda3\\\\lib\\\\site-packages\\\\jupyter_client\\\\blocking\\\\channels.py', '_sqlite3': 'C:\\\\Program Files\\\\Anaconda3\\\\DLLs\\\\_sqlite3.pyd', 'pkg_resources.extern.pyparsing': 'C:\\\\Program Files\\\\Anaconda3\\\\lib\\\\site-packages\\\\setuptools-27.2.0-py3.5.egg\\\\pkg_resources\\\\_vendor\\\\pyparsing.py', 'IPython.extensions': 'C:\\\\Program Files\\\\Anaconda3\\\\lib\\\\site-packages\\\\IPython\\\\extensions\\\\__init__.py', 'tornado.platform.interface': 'C:\\\\Program Files\\\\Anaconda3\\\\lib\\\\site-packages\\\\tornado\\\\platform\\\\interface.py', 'IPython.core.magics.pylab': 'C:\\\\Program Files\\\\Anaconda3\\\\lib\\\\site-packages\\\\IPython\\\\core\\\\magics\\\\pylab.py', 'zmq.utils': 'C:\\\\Program Files\\\\Anaconda3\\\\lib\\\\site-packages\\\\zmq\\\\utils\\\\__init__.py', 'asyncio.tasks': 'C:\\\\Program Files\\\\Anaconda3\\\\lib\\\\asyncio\\\\tasks.py', 'html.entities': 'C:\\\\Program Files\\\\Anaconda3\\\\lib\\\\html\\\\entities.py', 'pygments.lexer': 'C:\\\\Program Files\\\\Anaconda3\\\\lib\\\\site-packages\\\\pygments\\\\lexer.py', 'jupyter_client.multikernelmanager': 'C:\\\\Program Files\\\\Anaconda3\\\\lib\\\\site-packages\\\\jupyter_client\\\\multikernelmanager.py', 'prompt_toolkit.layout.prompt': 'C:\\\\Program Files\\\\Anaconda3\\\\lib\\\\site-packages\\\\prompt_toolkit\\\\layout\\\\prompt.py', '__mp_main__': 'C:\\\\Program Files\\\\Anaconda3\\\\lib\\\\site-packages\\\\ipykernel\\\\__main__.py', 'pkg_resources._vendor.packaging.__about__': 'C:\\\\Program Files\\\\Anaconda3\\\\lib\\\\site-packages\\\\setuptools-27.2.0-py3.5.egg\\\\pkg_resources\\\\_vendor\\\\packaging\\\\__about__.py', 'IPython.core.shadowns': 'C:\\\\Program Files\\\\Anaconda3\\\\lib\\\\site-packages\\\\IPython\\\\core\\\\shadowns.py', 'pygments.regexopt': 'C:\\\\Program Files\\\\Anaconda3\\\\lib\\\\site-packages\\\\pygments\\\\regexopt.py', 'prompt_toolkit.styles.base': 'C:\\\\Program Files\\\\Anaconda3\\\\lib\\\\site-packages\\\\prompt_toolkit\\\\styles\\\\base.py', 'tornado.escape': 'C:\\\\Program Files\\\\Anaconda3\\\\lib\\\\site-packages\\\\tornado\\\\escape.py', 'jupyter_client.connect': 'C:\\\\Program Files\\\\Anaconda3\\\\lib\\\\site-packages\\\\jupyter_client\\\\connect.py', 'prompt_toolkit.buffer': 'C:\\\\Program Files\\\\Anaconda3\\\\lib\\\\site-packages\\\\prompt_toolkit\\\\buffer.py', 'IPython.utils': 'C:\\\\Program Files\\\\Anaconda3\\\\lib\\\\site-packages\\\\IPython\\\\utils\\\\__init__.py', 'sre_compile': 'C:\\\\Program Files\\\\Anaconda3\\\\lib\\\\sre_compile.py', 'IPython.core.display_trap': 'C:\\\\Program Files\\\\Anaconda3\\\\lib\\\\site-packages\\\\IPython\\\\core\\\\display_trap.py', '_strptime': 'C:\\\\Program Files\\\\Anaconda3\\\\lib\\\\_strptime.py', 'IPython.core.release': 'C:\\\\Program Files\\\\Anaconda3\\\\lib\\\\site-packages\\\\IPython\\\\core\\\\release.py', 'IPython.utils.sysinfo': 'C:\\\\Program Files\\\\Anaconda3\\\\lib\\\\site-packages\\\\IPython\\\\utils\\\\sysinfo.py', 'pygments.styles.default': 'C:\\\\Program Files\\\\Anaconda3\\\\lib\\\\site-packages\\\\pygments\\\\styles\\\\default.py', 'IPython.utils.frame': 'C:\\\\Program Files\\\\Anaconda3\\\\lib\\\\site-packages\\\\IPython\\\\utils\\\\frame.py', 'importlib._bootstrap_external': 'C:\\\\Program Files\\\\Anaconda3\\\\lib\\\\importlib\\\\_bootstrap_external.py', 'concurrent.futures': 'C:\\\\Program Files\\\\Anaconda3\\\\lib\\\\concurrent\\\\futures\\\\__init__.py', 'zmq.sugar.constants': 'C:\\\\Program Files\\\\Anaconda3\\\\lib\\\\site-packages\\\\zmq\\\\sugar\\\\constants.py', 'IPython.core.macro': 'C:\\\\Program Files\\\\Anaconda3\\\\lib\\\\site-packages\\\\IPython\\\\core\\\\macro.py', 'ipywidgets.widgets': 'C:\\\\Program Files\\\\Anaconda3\\\\lib\\\\site-packages\\\\ipywidgets\\\\widgets\\\\__init__.py', 'weakref': 'C:\\\\Program Files\\\\Anaconda3\\\\lib\\\\weakref.py', 'prompt_toolkit.eventloop': 'C:\\\\Program Files\\\\Anaconda3\\\\lib\\\\site-packages\\\\prompt_toolkit\\\\eventloop\\\\__init__.py', 'IPython.core.latex_symbols': 'C:\\\\Program Files\\\\Anaconda3\\\\lib\\\\site-packages\\\\IPython\\\\core\\\\latex_symbols.py', 'ipywidgets.widgets.interaction': 'C:\\\\Program Files\\\\Anaconda3\\\\lib\\\\site-packages\\\\ipywidgets\\\\widgets\\\\interaction.py', 'pkg_resources.extern.packaging': 'C:\\\\Program Files\\\\Anaconda3\\\\lib\\\\site-packages\\\\setuptools-27.2.0-py3.5.egg\\\\pkg_resources\\\\_vendor\\\\packaging\\\\__init__.py', 'jupyter_client._version': 'C:\\\\Program Files\\\\Anaconda3\\\\lib\\\\site-packages\\\\jupyter_client\\\\_version.py', 'prompt_toolkit.win32_types': 'C:\\\\Program Files\\\\Anaconda3\\\\lib\\\\site-packages\\\\prompt_toolkit\\\\win32_types.py', 'queue': 'C:\\\\Program Files\\\\Anaconda3\\\\lib\\\\queue.py', 'enum': 'C:\\\\Program Files\\\\Anaconda3\\\\lib\\\\enum.py', 'unicodedata': 'C:\\\\Program Files\\\\Anaconda3\\\\DLLs\\\\unicodedata.pyd', 'IPython.core.magics.auto': 'C:\\\\Program Files\\\\Anaconda3\\\\lib\\\\site-packages\\\\IPython\\\\core\\\\magics\\\\auto.py', 'zmq.utils.constant_names': 'C:\\\\Program Files\\\\Anaconda3\\\\lib\\\\site-packages\\\\zmq\\\\utils\\\\constant_names.py', 'tornado.platform.auto': 'C:\\\\Program Files\\\\Anaconda3\\\\lib\\\\site-packages\\\\tornado\\\\platform\\\\auto.py', 'ctypes.util': 'C:\\\\Program Files\\\\Anaconda3\\\\lib\\\\ctypes\\\\util.py', 'prompt_toolkit.layout.screen': 'C:\\\\Program Files\\\\Anaconda3\\\\lib\\\\site-packages\\\\prompt_toolkit\\\\layout\\\\screen.py', 'IPython.utils.io': 'C:\\\\Program Files\\\\Anaconda3\\\\lib\\\\site-packages\\\\IPython\\\\utils\\\\io.py', 'IPython.core.interactiveshell': 'C:\\\\Program Files\\\\Anaconda3\\\\lib\\\\site-packages\\\\IPython\\\\core\\\\interactiveshell.py', 'IPython.lib.backgroundjobs': 'C:\\\\Program Files\\\\Anaconda3\\\\lib\\\\site-packages\\\\IPython\\\\lib\\\\backgroundjobs.py', 'encodings': 'C:\\\\Program Files\\\\Anaconda3\\\\lib\\\\encodings\\\\__init__.py', 'IPython.utils.module_paths': 'C:\\\\Program Files\\\\Anaconda3\\\\lib\\\\site-packages\\\\IPython\\\\utils\\\\module_paths.py', 'prompt_toolkit.search_state': 'C:\\\\Program Files\\\\Anaconda3\\\\lib\\\\site-packages\\\\prompt_toolkit\\\\search_state.py', 'zmq.sugar.poll': 'C:\\\\Program Files\\\\Anaconda3\\\\lib\\\\site-packages\\\\zmq\\\\sugar\\\\poll.py', 'jupyter_client.channels': 'C:\\\\Program Files\\\\Anaconda3\\\\lib\\\\site-packages\\\\jupyter_client\\\\channels.py', 'IPython.utils.signatures': 'C:\\\\Program Files\\\\Anaconda3\\\\lib\\\\site-packages\\\\IPython\\\\utils\\\\signatures.py', 'prompt_toolkit.terminal.win32_input': 'C:\\\\Program Files\\\\Anaconda3\\\\lib\\\\site-packages\\\\prompt_toolkit\\\\terminal\\\\win32_input.py', 'zmq.sugar.context': 'C:\\\\Program Files\\\\Anaconda3\\\\lib\\\\site-packages\\\\zmq\\\\sugar\\\\context.py', 'prompt_toolkit.layout.processors': 'C:\\\\Program Files\\\\Anaconda3\\\\lib\\\\site-packages\\\\prompt_toolkit\\\\layout\\\\processors.py', 'ctypes._endian': 'C:\\\\Program Files\\\\Anaconda3\\\\lib\\\\ctypes\\\\_endian.py', 'prompt_toolkit.utils': 'C:\\\\Program Files\\\\Anaconda3\\\\lib\\\\site-packages\\\\prompt_toolkit\\\\utils.py', 'json.decoder': 'C:\\\\Program Files\\\\Anaconda3\\\\lib\\\\json\\\\decoder.py', 'pygments.formatters._mapping': 'C:\\\\Program Files\\\\Anaconda3\\\\lib\\\\site-packages\\\\pygments\\\\formatters\\\\_mapping.py', 'codeop': 'C:\\\\Program Files\\\\Anaconda3\\\\lib\\\\codeop.py', 'zmq.backend.cython.message': 'C:\\\\Program Files\\\\Anaconda3\\\\lib\\\\site-packages\\\\zmq\\\\backend\\\\cython\\\\message.cp35-win_amd64.pyd', 'jupyter_core.version': 'C:\\\\Program Files\\\\Anaconda3\\\\lib\\\\site-packages\\\\jupyter_core\\\\version.py', 'os': 'C:\\\\Program Files\\\\Anaconda3\\\\lib\\\\os.py', 'IPython.core.magic_arguments': 'C:\\\\Program Files\\\\Anaconda3\\\\lib\\\\site-packages\\\\IPython\\\\core\\\\magic_arguments.py', 'zmq.sugar.version': 'C:\\\\Program Files\\\\Anaconda3\\\\lib\\\\site-packages\\\\zmq\\\\sugar\\\\version.py', 'struct': 'C:\\\\Program Files\\\\Anaconda3\\\\lib\\\\struct.py', 'stat': 'C:\\\\Program Files\\\\Anaconda3\\\\lib\\\\stat.py', 'encodings.cp949': 'C:\\\\Program Files\\\\Anaconda3\\\\lib\\\\encodings\\\\cp949.py', 'ipywidgets.widgets.widget_selectioncontainer': 'C:\\\\Program Files\\\\Anaconda3\\\\lib\\\\site-packages\\\\ipywidgets\\\\widgets\\\\widget_selectioncontainer.py', 'getopt': 'C:\\\\Program Files\\\\Anaconda3\\\\lib\\\\getopt.py', 'ipykernel.ipkernel': 'C:\\\\Program Files\\\\Anaconda3\\\\lib\\\\site-packages\\\\ipykernel\\\\ipkernel.py', 'lzma': 'C:\\\\Program Files\\\\Anaconda3\\\\lib\\\\lzma.py', 'ipywidgets.widgets.widget_selection': 'C:\\\\Program Files\\\\Anaconda3\\\\lib\\\\site-packages\\\\ipywidgets\\\\widgets\\\\widget_selection.py', 'base64': 'C:\\\\Program Files\\\\Anaconda3\\\\lib\\\\base64.py', 'IPython.core.inputtransformer': 'C:\\\\Program Files\\\\Anaconda3\\\\lib\\\\site-packages\\\\IPython\\\\core\\\\inputtransformer.py', 'logging.handlers': 'C:\\\\Program Files\\\\Anaconda3\\\\lib\\\\logging\\\\handlers.py', 'numbers': 'C:\\\\Program Files\\\\Anaconda3\\\\lib\\\\numbers.py', 'IPython.core.payload': 'C:\\\\Program Files\\\\Anaconda3\\\\lib\\\\site-packages\\\\IPython\\\\core\\\\payload.py', 'IPython.core.usage': 'C:\\\\Program Files\\\\Anaconda3\\\\lib\\\\site-packages\\\\IPython\\\\core\\\\usage.py', 'prompt_toolkit.layout.menus': 'C:\\\\Program Files\\\\Anaconda3\\\\lib\\\\site-packages\\\\prompt_toolkit\\\\layout\\\\menus.py', 'calendar': 'C:\\\\Program Files\\\\Anaconda3\\\\lib\\\\calendar.py', 'jupyter_client.launcher': 'C:\\\\Program Files\\\\Anaconda3\\\\lib\\\\site-packages\\\\jupyter_client\\\\launcher.py', 'shlex': 'C:\\\\Program Files\\\\Anaconda3\\\\lib\\\\shlex.py', 'pygments.plugin': 'C:\\\\Program Files\\\\Anaconda3\\\\lib\\\\site-packages\\\\pygments\\\\plugin.py', 'ipywidgets.widgets.widget_link': 'C:\\\\Program Files\\\\Anaconda3\\\\lib\\\\site-packages\\\\ipywidgets\\\\widgets\\\\widget_link.py', 'encodings.latin_1': 'C:\\\\Program Files\\\\Anaconda3\\\\lib\\\\encodings\\\\latin_1.py', 'ipykernel.kernelapp': 'C:\\\\Program Files\\\\Anaconda3\\\\lib\\\\site-packages\\\\ipykernel\\\\kernelapp.py', 'ipykernel.codeutil': 'C:\\\\Program Files\\\\Anaconda3\\\\lib\\\\site-packages\\\\ipykernel\\\\codeutil.py', 'ipykernel.comm.manager': 'C:\\\\Program Files\\\\Anaconda3\\\\lib\\\\site-packages\\\\ipykernel\\\\comm\\\\manager.py', 'ipywidgets._version': 'C:\\\\Program Files\\\\Anaconda3\\\\lib\\\\site-packages\\\\ipywidgets\\\\_version.py', 'heapq': 'C:\\\\Program Files\\\\Anaconda3\\\\lib\\\\heapq.py', '_socket': 'C:\\\\Program Files\\\\Anaconda3\\\\DLLs\\\\_socket.pyd', 'tornado.log': 'C:\\\\Program Files\\\\Anaconda3\\\\lib\\\\site-packages\\\\tornado\\\\log.py', '_lzma': 'C:\\\\Program Files\\\\Anaconda3\\\\DLLs\\\\_lzma.pyd', '_collections_abc': 'C:\\\\Program Files\\\\Anaconda3\\\\lib\\\\_collections_abc.py', 'IPython.utils.coloransi': 'C:\\\\Program Files\\\\Anaconda3\\\\lib\\\\site-packages\\\\IPython\\\\utils\\\\coloransi.py', 'IPython.core.completerlib': 'C:\\\\Program Files\\\\Anaconda3\\\\lib\\\\site-packages\\\\IPython\\\\core\\\\completerlib.py', 'jupyter_core': 'C:\\\\Program Files\\\\Anaconda3\\\\lib\\\\site-packages\\\\jupyter_core\\\\__init__.py', 'IPython.terminal.pt_inputhooks': 'C:\\\\Program Files\\\\Anaconda3\\\\lib\\\\site-packages\\\\IPython\\\\terminal\\\\pt_inputhooks\\\\__init__.py', 'ipykernel': 'C:\\\\Program Files\\\\Anaconda3\\\\lib\\\\site-packages\\\\ipykernel\\\\__init__.py', 'IPython.core.inputsplitter': 'C:\\\\Program Files\\\\Anaconda3\\\\lib\\\\site-packages\\\\IPython\\\\core\\\\inputsplitter.py', 'ipaddress': 'C:\\\\Program Files\\\\Anaconda3\\\\lib\\\\ipaddress.py', 'IPython.core.magics.code': 'C:\\\\Program Files\\\\Anaconda3\\\\lib\\\\site-packages\\\\IPython\\\\core\\\\magics\\\\code.py', '_compat_pickle': 'C:\\\\Program Files\\\\Anaconda3\\\\lib\\\\_compat_pickle.py', 'prompt_toolkit.layout.toolbars': 'C:\\\\Program Files\\\\Anaconda3\\\\lib\\\\site-packages\\\\prompt_toolkit\\\\layout\\\\toolbars.py', 'importlib.abc': 'C:\\\\Program Files\\\\Anaconda3\\\\lib\\\\importlib\\\\abc.py', 'dis': 'C:\\\\Program Files\\\\Anaconda3\\\\lib\\\\dis.py', 'jupyter_client.blocking.client': 'C:\\\\Program Files\\\\Anaconda3\\\\lib\\\\site-packages\\\\jupyter_client\\\\blocking\\\\client.py', 'traitlets.utils.sentinel': 'C:\\\\Program Files\\\\Anaconda3\\\\lib\\\\site-packages\\\\traitlets\\\\utils\\\\sentinel.py', 'traitlets.utils.bunch': 'C:\\\\Program Files\\\\Anaconda3\\\\lib\\\\site-packages\\\\traitlets\\\\utils\\\\bunch.py', 'site': 'C:\\\\Program Files\\\\Anaconda3\\\\lib\\\\site.py', 'pkgutil': 'C:\\\\Program Files\\\\Anaconda3\\\\lib\\\\pkgutil.py', '_overlapped': 'C:\\\\Program Files\\\\Anaconda3\\\\DLLs\\\\_overlapped.pyd', 'quopri': 'C:\\\\Program Files\\\\Anaconda3\\\\lib\\\\quopri.py', 'ipython_genutils': 'C:\\\\Program Files\\\\Anaconda3\\\\lib\\\\site-packages\\\\ipython_genutils\\\\__init__.py', 'prompt_toolkit.buffer_mapping': 'C:\\\\Program Files\\\\Anaconda3\\\\lib\\\\site-packages\\\\prompt_toolkit\\\\buffer_mapping.py', 'pygments.style': 'C:\\\\Program Files\\\\Anaconda3\\\\lib\\\\site-packages\\\\pygments\\\\style.py', 'IPython.core.magics.extension': 'C:\\\\Program Files\\\\Anaconda3\\\\lib\\\\site-packages\\\\IPython\\\\core\\\\magics\\\\extension.py', 'prompt_toolkit.auto_suggest': 'C:\\\\Program Files\\\\Anaconda3\\\\lib\\\\site-packages\\\\prompt_toolkit\\\\auto_suggest.py', 'prompt_toolkit.key_binding.bindings.basic': 'C:\\\\Program Files\\\\Anaconda3\\\\lib\\\\site-packages\\\\prompt_toolkit\\\\key_binding\\\\bindings\\\\basic.py', 'prompt_toolkit.completion': 'C:\\\\Program Files\\\\Anaconda3\\\\lib\\\\site-packages\\\\prompt_toolkit\\\\completion.py', 'xml.parsers.expat': 'C:\\\\Program Files\\\\Anaconda3\\\\lib\\\\xml\\\\parsers\\\\expat.py', '_multiprocessing': 'C:\\\\Program Files\\\\Anaconda3\\\\DLLs\\\\_multiprocessing.pyd', 'pkg_resources.extern.appdirs': 'C:\\\\Program Files\\\\Anaconda3\\\\lib\\\\site-packages\\\\setuptools-27.2.0-py3.5.egg\\\\pkg_resources\\\\_vendor\\\\appdirs.py', 'prompt_toolkit.output': 'C:\\\\Program Files\\\\Anaconda3\\\\lib\\\\site-packages\\\\prompt_toolkit\\\\output.py', 'bdb': 'C:\\\\Program Files\\\\Anaconda3\\\\lib\\\\bdb.py', 'prompt_toolkit.filters': 'C:\\\\Program Files\\\\Anaconda3\\\\lib\\\\site-packages\\\\prompt_toolkit\\\\filters\\\\__init__.py', 'traitlets._version': 'C:\\\\Program Files\\\\Anaconda3\\\\lib\\\\site-packages\\\\traitlets\\\\_version.py', 'email.header': 'C:\\\\Program Files\\\\Anaconda3\\\\lib\\\\email\\\\header.py', 'pkg_resources': 'C:\\\\Program Files\\\\Anaconda3\\\\lib\\\\site-packages\\\\setuptools-27.2.0-py3.5.egg\\\\pkg_resources\\\\__init__.py', 'decorator': 'C:\\\\Program Files\\\\Anaconda3\\\\lib\\\\site-packages\\\\decorator.py', 'ipykernel.parentpoller': 'C:\\\\Program Files\\\\Anaconda3\\\\lib\\\\site-packages\\\\ipykernel\\\\parentpoller.py', 'IPython.terminal.prompts': 'C:\\\\Program Files\\\\Anaconda3\\\\lib\\\\site-packages\\\\IPython\\\\terminal\\\\prompts.py', 'jupyter_client.jsonutil': 'C:\\\\Program Files\\\\Anaconda3\\\\lib\\\\site-packages\\\\jupyter_client\\\\jsonutil.py', 'jupyter_client.manager': 'C:\\\\Program Files\\\\Anaconda3\\\\lib\\\\site-packages\\\\jupyter_client\\\\manager.py', 'ipykernel._version': 'C:\\\\Program Files\\\\Anaconda3\\\\lib\\\\site-packages\\\\ipykernel\\\\_version.py', 'tornado.platform.windows': 'C:\\\\Program Files\\\\Anaconda3\\\\lib\\\\site-packages\\\\tornado\\\\platform\\\\windows.py', 'prompt_toolkit.selection': 'C:\\\\Program Files\\\\Anaconda3\\\\lib\\\\site-packages\\\\prompt_toolkit\\\\selection.py', 'tokenize': 'C:\\\\Program Files\\\\Anaconda3\\\\lib\\\\tokenize.py', 'zmq.sugar.socket': 'C:\\\\Program Files\\\\Anaconda3\\\\lib\\\\site-packages\\\\zmq\\\\sugar\\\\socket.py', 'codecs': 'C:\\\\Program Files\\\\Anaconda3\\\\lib\\\\codecs.py', 'zmq.utils.strtypes': 'C:\\\\Program Files\\\\Anaconda3\\\\lib\\\\site-packages\\\\zmq\\\\utils\\\\strtypes.py', 'IPython.terminal.debugger': 'C:\\\\Program Files\\\\Anaconda3\\\\lib\\\\site-packages\\\\IPython\\\\terminal\\\\debugger.py', 'prompt_toolkit.mouse_events': 'C:\\\\Program Files\\\\Anaconda3\\\\lib\\\\site-packages\\\\prompt_toolkit\\\\mouse_events.py', 'email._policybase': 'C:\\\\Program Files\\\\Anaconda3\\\\lib\\\\email\\\\_policybase.py', 'email.parser': 'C:\\\\Program Files\\\\Anaconda3\\\\lib\\\\email\\\\parser.py', 'prompt_toolkit.styles.utils': 'C:\\\\Program Files\\\\Anaconda3\\\\lib\\\\site-packages\\\\prompt_toolkit\\\\styles\\\\utils.py', '_sitebuiltins': 'C:\\\\Program Files\\\\Anaconda3\\\\lib\\\\_sitebuiltins.py', 'IPython.lib.deepreload': 'C:\\\\Program Files\\\\Anaconda3\\\\lib\\\\site-packages\\\\IPython\\\\lib\\\\deepreload.py', 'wcwidth.wcwidth': 'C:\\\\Program Files\\\\Anaconda3\\\\lib\\\\site-packages\\\\wcwidth\\\\wcwidth.py', 'prompt_toolkit.key_binding': 'C:\\\\Program Files\\\\Anaconda3\\\\lib\\\\site-packages\\\\prompt_toolkit\\\\key_binding\\\\__init__.py', 'IPython.core.ultratb': 'C:\\\\Program Files\\\\Anaconda3\\\\lib\\\\site-packages\\\\IPython\\\\core\\\\ultratb.py', 'copyreg': 'C:\\\\Program Files\\\\Anaconda3\\\\lib\\\\copyreg.py', 'prompt_toolkit.shortcuts': 'C:\\\\Program Files\\\\Anaconda3\\\\lib\\\\site-packages\\\\prompt_toolkit\\\\shortcuts.py', 'zmq.eventloop.zmqstream': 'C:\\\\Program Files\\\\Anaconda3\\\\lib\\\\site-packages\\\\zmq\\\\eventloop\\\\zmqstream.py', 'IPython.utils.terminal': 'C:\\\\Program Files\\\\Anaconda3\\\\lib\\\\site-packages\\\\IPython\\\\utils\\\\terminal.py', 'IPython.utils.ipstruct': 'C:\\\\Program Files\\\\Anaconda3\\\\lib\\\\site-packages\\\\IPython\\\\utils\\\\ipstruct.py', 'prompt_toolkit.renderer': 'C:\\\\Program Files\\\\Anaconda3\\\\lib\\\\site-packages\\\\prompt_toolkit\\\\renderer.py', 'prompt_toolkit.filters.base': 'C:\\\\Program Files\\\\Anaconda3\\\\lib\\\\site-packages\\\\prompt_toolkit\\\\filters\\\\base.py', 'signal': 'C:\\\\Program Files\\\\Anaconda3\\\\lib\\\\signal.py'}, '__spec__': ModuleSpec(name='inspect', loader=<_frozen_importlib_external.SourceFileLoader object at 0x00000000014A0A58>, origin='C:\\\\Program Files\\\\Anaconda3\\\\lib\\\\inspect.py'), '_ClassMethodWrapper': <class 'classmethod_descriptor'>, 'os': <module 'os' from 'C:\\\\Program Files\\\\Anaconda3\\\\lib\\\\os.py'>, 'CO_NESTED': 16, 'trace': <function trace at 0x0000000001515BF8>, 'dis': <module 'dis' from 'C:\\\\Program Files\\\\Anaconda3\\\\lib\\\\dis.py'>, 'TPFLAGS_IS_ABSTRACT': 1048576, '_findclass': <function _findclass at 0x00000000014EB7B8>, '_signature_get_user_defined_method': <function _signature_get_user_defined_method at 0x0000000001504268>, 'getfile': <function getfile at 0x00000000014EB9D8>, '_signature_from_function': <function _signature_from_function at 0x0000000001504730>, '_finddoc': <function _finddoc at 0x00000000014EB840>, 'isgetsetdescriptor': <function isgetsetdescriptor at 0x00000000014F5A60>, 'walktree': <function walktree at 0x00000000014F8488>, 're': <module 're' from 'C:\\\\Program Files\\\\Anaconda3\\\\lib\\\\re.py'>, 'ModuleInfo': <class 'inspect.ModuleInfo'>, 'CO_OPTIMIZED': 1, '_VAR_KEYWORD': <_ParameterKind.VAR_KEYWORD: 4>, 'classify_class_attrs': <function classify_class_attrs at 0x00000000014EB268>, 'CORO_SUSPENDED': 'CORO_SUSPENDED', '_is_type': <function _is_type at 0x0000000001515E18>, 'FullArgSpec': <class 'inspect.FullArgSpec'>, '_static_getmro': <function _static_getmro at 0x0000000001515C80>, 'ismodule': <function ismodule at 0x00000000014A1400>, 'CO_VARARGS': 4, '_sentinel': <object object at 0x000000000048F0E0>, 'indentsize': <function indentsize at 0x00000000014EB730>, 'getgeneratorlocals': <function getgeneratorlocals at 0x00000000015040D0>, 'k': 256, 'Traceback': <class 'inspect.Traceback'>, 'findsource': <function findsource at 0x00000000014F80D0>, '_POSITIONAL_OR_KEYWORD': <_ParameterKind.POSITIONAL_OR_KEYWORD: 1>, '_empty': <class 'inspect._empty'>, 'isroutine': <function isroutine at 0x00000000014EB0D0>, 'getcoroutinelocals': <function getcoroutinelocals at 0x00000000015041E0>, 'getdoc': <function getdoc at 0x00000000014EB8C8>, 'types': <module 'types' from 'C:\\\\Program Files\\\\Anaconda3\\\\lib\\\\types.py'>, '_VAR_POSITIONAL': <_ParameterKind.VAR_POSITIONAL: 2>, 'getframeinfo': <function getframeinfo at 0x0000000001515268>, 'ismethod': <function ismethod at 0x00000000014F5840>, 'getouterframes': <function getouterframes at 0x00000000015156A8>, 'GEN_SUSPENDED': 'GEN_SUSPENDED', '_check_instance': <function _check_instance at 0x0000000001515D08>, 'getsource': <function getsource at 0x00000000014F8400>, 'getargspec': <function getargspec at 0x00000000014F89D8>, 'ClosureVars': <class 'inspect.ClosureVars'>, 'getargvalues': <function getargvalues at 0x00000000014FA268>, 'CORO_CREATED': 'CORO_CREATED', 'GEN_CLOSED': 'GEN_CLOSED', '_signature_from_callable': <function _signature_from_callable at 0x00000000015047B8>, '_ParameterKind': <enum '_ParameterKind'>, '_signature_get_bound_param': <function _signature_get_bound_param at 0x0000000001504510>, 'GEN_RUNNING': 'GEN_RUNNING', 'getcomments': <function getcomments at 0x00000000014F8158>, 'CO_ITERABLE_COROUTINE': 256, 'unwrap': <function unwrap at 0x00000000014EB6A8>, 'ArgSpec': <class 'inspect.ArgSpec'>, 'ismethoddescriptor': <function ismethoddescriptor at 0x00000000014F58C8>, 'isabstract': <function isabstract at 0x00000000014EB158>, 'getclasstree': <function getclasstree at 0x00000000014F8510>, 'getsourcefile': <function getsourcefile at 0x00000000014EBEA0>, 'itertools': <module 'itertools' (built-in)>, 'isframe': <function isframe at 0x00000000014F5EA0>, 'ast': <module 'ast' from 'C:\\\\Program Files\\\\Anaconda3\\\\lib\\\\ast.py'>, 'CORO_RUNNING': 'CORO_RUNNING', 'stack': <function stack at 0x0000000001515B70>, 'getmodulename': <function getmodulename at 0x00000000014EBE18>, 'istraceback': <function istraceback at 0x00000000014F5E18>, 'iscoroutinefunction': <function iscoroutinefunction at 0x00000000014F5BF8>, 'GEN_CREATED': 'GEN_CREATED', 'CO_COROUTINE': 128, 'attrgetter': <class 'operator.attrgetter'>}\n"
     ]
    }
   ],
   "source": [
    "import inspect\n",
    "\n",
    "print(type(inspect))\n",
    "print(inspect.__dict__)\n"
   ]
  },
  {
   "cell_type": "code",
   "execution_count": 214,
   "metadata": {
    "collapsed": false
   },
   "outputs": [
    {
     "name": "stdout",
     "output_type": "stream",
     "text": [
      "A\n",
      "object\n",
      "{'__dict__': <attribute '__dict__' of 'A' objects>, 'whoami': <function A.whoami at 0x000000000516F488>, '__doc__': None, '__weakref__': <attribute '__weakref__' of 'A' objects>, '__module__': '__main__'}\n",
      "{}\n"
     ]
    }
   ],
   "source": [
    "class A(object):\n",
    "    def whoami(self):\n",
    "        return self.__class__.__name__\n",
    "\n",
    "a = A()\n",
    "\n",
    "print(a.whoami())\n",
    "print(a.__class__.__base__.__name__)\n",
    "print(A.__dict__)\n",
    "print(a.__dict__)"
   ]
  },
  {
   "cell_type": "code",
   "execution_count": 215,
   "metadata": {
    "collapsed": false
   },
   "outputs": [
    {
     "name": "stdout",
     "output_type": "stream",
     "text": [
      " instance namespace  {'name': 'dahl'}\n",
      " class namespace   {'__init__': <function A.__init__ at 0x0000000005136BF8>, '__dict__': <attribute '__dict__' of 'A' objects>, 'get_name': <function A.get_name at 0x00000000051367B8>, '__doc__': None, '__weakref__': <attribute '__weakref__' of 'A' objects>, '__module__': '__main__'}\n",
      " base namespace   {'__init__': <slot wrapper '__init__' of 'object' objects>, '__le__': <slot wrapper '__le__' of 'object' objects>, '__gt__': <slot wrapper '__gt__' of 'object' objects>, '__str__': <slot wrapper '__str__' of 'object' objects>, '__reduce_ex__': <method '__reduce_ex__' of 'object' objects>, '__subclasshook__': <method '__subclasshook__' of 'object' objects>, '__doc__': 'The most base type', '__dir__': <method '__dir__' of 'object' objects>, '__ne__': <slot wrapper '__ne__' of 'object' objects>, '__class__': <attribute '__class__' of 'object' objects>, '__sizeof__': <method '__sizeof__' of 'object' objects>, '__getattribute__': <slot wrapper '__getattribute__' of 'object' objects>, '__delattr__': <slot wrapper '__delattr__' of 'object' objects>, '__new__': <built-in method __new__ of type object at 0x0000000061DEDFD0>, '__lt__': <slot wrapper '__lt__' of 'object' objects>, '__repr__': <slot wrapper '__repr__' of 'object' objects>, '__setattr__': <slot wrapper '__setattr__' of 'object' objects>, '__ge__': <slot wrapper '__ge__' of 'object' objects>, '__eq__': <slot wrapper '__eq__' of 'object' objects>, '__reduce__': <method '__reduce__' of 'object' objects>, '__hash__': <slot wrapper '__hash__' of 'object' objects>, '__format__': <method '__format__' of 'object' objects>}\n"
     ]
    }
   ],
   "source": [
    "class A(object) :\n",
    "    def __init__(self,name) :\n",
    "        self.name = name\n",
    "    def get_name(self) :\n",
    "        return self.name\n",
    "        \n",
    "a = A('dahl')\n",
    "print(\" instance namespace \", a.__dict__)\n",
    "print(\" class namespace  \", A.__dict__)\n",
    "print(\" base namespace  \", object.__dict__)\n"
   ]
  },
  {
   "cell_type": "code",
   "execution_count": 216,
   "metadata": {
    "collapsed": false
   },
   "outputs": [
    {
     "name": "stdout",
     "output_type": "stream",
     "text": [
      "{'name': 'Park'}\n",
      "{'d': [1, 2, 3]}\n"
     ]
    }
   ],
   "source": [
    "class A(object) :\n",
    "    def __init__(self, d) :\n",
    "        if type(d) == dict :\n",
    "            self.__dict__ = d\n",
    "        else :\n",
    "            self.__dict__['d'] = d\n",
    "            \n",
    "a = A({'name':\"Park\"})\n",
    "print(a.__dict__)\n",
    "\n",
    "b = A([1,2,3])\n",
    "print(b.__dict__)"
   ]
  },
  {
   "cell_type": "code",
   "execution_count": 218,
   "metadata": {
    "collapsed": false
   },
   "outputs": [
    {
     "name": "stdout",
     "output_type": "stream",
     "text": [
      "{'name': 'park'}\n",
      "{'name': [1, 2, 3]}\n"
     ]
    }
   ],
   "source": [
    "class A(object) :\n",
    "    def __init__(self, name) :\n",
    "        self.name = name\n",
    "\n",
    "        \n",
    "a = A(\"park\")\n",
    "print(a.__dict__)\n",
    "\n",
    "b = A([1,2,3])\n",
    "print(b.__dict__)"
   ]
  },
  {
   "cell_type": "code",
   "execution_count": 223,
   "metadata": {
    "collapsed": false
   },
   "outputs": [
    {
     "name": "stdout",
     "output_type": "stream",
     "text": [
      "mappingproxy({'__dict__': <attribute '__dict__' of 'Other' objects>,\n",
      "              '__doc__': None,\n",
      "              '__module__': '__main__',\n",
      "              '__weakref__': <attribute '__weakref__' of 'Other' objects>,\n",
      "              'altered': <function Other.altered at 0x00000000053FD488>,\n",
      "              'implicit': <function Other.implicit at 0x00000000053FD400>,\n",
      "              'override': <function Other.override at 0x00000000053FD048>})\n"
     ]
    }
   ],
   "source": [
    "import pprint\n",
    "class Other(object):\n",
    "\n",
    "    def override(self):\n",
    "        print(\"OTHER override()\")\n",
    "\n",
    "    def implicit(self):\n",
    "        print(\"OTHER implicit()\")\n",
    "\n",
    "    def altered(self):\n",
    "        print(\"OTHER altered()\")\n",
    "\n",
    "pprint.pprint(Other.__dict__)"
   ]
  },
  {
   "cell_type": "code",
   "execution_count": 224,
   "metadata": {
    "collapsed": false
   },
   "outputs": [
    {
     "name": "stdout",
     "output_type": "stream",
     "text": [
      "mappingproxy({'__dict__': <attribute '__dict__' of 'Main' objects>,\n",
      "              '__doc__': None,\n",
      "              '__init__': <function Main.__init__ at 0x00000000053FDEA0>,\n",
      "              '__module__': '__main__',\n",
      "              '__weakref__': <attribute '__weakref__' of 'Main' objects>,\n",
      "              'altered': <function Main.altered at 0x00000000053FDD08>,\n",
      "              'implicit': <function Main.implicit at 0x00000000053FDE18>,\n",
      "              'override': <function Main.override at 0x00000000053FDD90>,\n",
      "              'type_s': <function Main.type_s at 0x00000000053FDC80>})\n"
     ]
    }
   ],
   "source": [
    "import pprint\n",
    "class Main(object):\n",
    "\n",
    "    def __init__(self):\n",
    "        self.other = Other()\n",
    "        self.types = type\n",
    "\n",
    "    def implicit(self):\n",
    "        self.other.implicit()\n",
    "\n",
    "    def override(self):\n",
    "        print(\"CHILD override()\")\n",
    "\n",
    "    def altered(self):\n",
    "        print(\"CHILD, BEFORE OTHER altered()\")\n",
    "        self.other.altered()\n",
    "        print(\"CHILD, AFTER OTHER altered()\")\n",
    "        \n",
    "    def type_s(self, ty_val=None) :\n",
    "        if ty_val == None :\n",
    "            ty_val = self\n",
    "        return self.types(ty_val)\n",
    "    \n",
    "pprint.pprint(Main.__dict__)"
   ]
  },
  {
   "cell_type": "code",
   "execution_count": 225,
   "metadata": {
    "collapsed": false
   },
   "outputs": [
    {
     "name": "stdout",
     "output_type": "stream",
     "text": [
      "OTHER implicit()\n",
      "CHILD override()\n",
      "CHILD, BEFORE OTHER altered()\n",
      "OTHER altered()\n",
      "CHILD, AFTER OTHER altered()\n",
      "<class 'int'>\n",
      "<class '__main__.Main'>\n"
     ]
    }
   ],
   "source": [
    "son = Main()\n",
    "\n",
    "son.implicit()\n",
    "son.override()\n",
    "son.altered()\n",
    "\n",
    "print(son.type_s(1))\n",
    "print(son.type_s())\n"
   ]
  },
  {
   "cell_type": "code",
   "execution_count": 231,
   "metadata": {
    "collapsed": false
   },
   "outputs": [
    {
     "name": "stdout",
     "output_type": "stream",
     "text": [
      "{}\n",
      "mappingproxy({'__dict__': <attribute '__dict__' of 'A' objects>,\n",
      "              '__doc__': None,\n",
      "              '__module__': '__main__',\n",
      "              '__weakref__': <attribute '__weakref__' of 'A' objects>})\n",
      "{}\n"
     ]
    }
   ],
   "source": [
    "import pprint\n",
    "class A:\n",
    "    pass\n",
    "\n",
    "a = A()\n",
    "\n",
    "pprint.pprint(a.__dict__)\n",
    "pprint.pprint(A.__dict__)\n",
    "\n",
    "def func() :\n",
    "    pass\n",
    "\n",
    "pprint.pprint(func.__dict__)"
   ]
  },
  {
   "cell_type": "code",
   "execution_count": 233,
   "metadata": {
    "collapsed": false
   },
   "outputs": [
    {
     "name": "stdout",
     "output_type": "stream",
     "text": [
      "{'x': 1, 'y': 2, 'p': 'local variable'}\n",
      "<function add at 0x000000000516F0D0>\n",
      "<function add at 0x000000000516F0D0>\n"
     ]
    }
   ],
   "source": [
    "def add(x,y) :\n",
    "    p=\"local variable\"\n",
    "    print(locals())\n",
    "    return x+ y\n",
    "add(1,2)\n",
    "\n",
    "print(add)\n",
    "print(globals()['add'])\n"
   ]
  },
  {
   "cell_type": "code",
   "execution_count": 238,
   "metadata": {
    "collapsed": false
   },
   "outputs": [
    {
     "name": "stdout",
     "output_type": "stream",
     "text": [
      "def add(x,y) :\n",
      "    p=\"local variable\"\n",
      "    print(locals())\n",
      "    return x+ y\n",
      "\n",
      "Arguments(args=['x', 'y'], varargs=None, varkw=None)\n",
      "<function add at 0x00000000053FD620>\n"
     ]
    }
   ],
   "source": [
    "\n",
    "\n",
    "import inspect\n",
    "\n",
    "def add(x,y) :\n",
    "    p=\"local variable\"\n",
    "    print(locals())\n",
    "    return x+ y\n",
    "\n",
    "print(inspect.getsource(add))\n",
    "\n",
    "print(inspect.getargs(add.__code__))\n",
    "\n",
    "print(add.__globals__[\"add\"])\n"
   ]
  },
  {
   "cell_type": "code",
   "execution_count": 240,
   "metadata": {
    "collapsed": false
   },
   "outputs": [
    {
     "name": "stdout",
     "output_type": "stream",
     "text": [
      "<class 'function'>\n",
      "<class 'code'>\n",
      "(<class 'object'>,)\n",
      "(<class 'object'>,)\n"
     ]
    }
   ],
   "source": [
    "def add(x,y) :\n",
    "    p=\"local variable\"\n",
    "    print(locals())\n",
    "    return x+ y\n",
    "\n",
    "print(add.__class__)\n",
    "print(type(add.__code__))  \n",
    "print(add.__class__.__bases__) \n",
    "print(add.__code__.__class__.__bases__) \n"
   ]
  },
  {
   "cell_type": "code",
   "execution_count": 245,
   "metadata": {
    "collapsed": false
   },
   "outputs": [
    {
     "name": "stdout",
     "output_type": "stream",
     "text": [
      " local scope  {'nested_add': <function add at 0x00000000053FD7B8>, 'x': 5, 'y': 5}\n",
      "10\n"
     ]
    }
   ],
   "source": [
    "def add(x,y) :\n",
    "    p=\"local variable\"\n",
    "    return x+ y\n",
    "\n",
    "def add_nested(x,y) :\n",
    "    nested_add = add\n",
    "    print(\" local scope \", locals())\n",
    "    return nested_add(x,y)\n",
    "\n",
    "\n",
    "print(add_nested(5,5))\n"
   ]
  },
  {
   "cell_type": "code",
   "execution_count": 246,
   "metadata": {
    "collapsed": false
   },
   "outputs": [
    {
     "name": "stdout",
     "output_type": "stream",
     "text": [
      " local scope  {'x': 5, 'y': 5, 'add_value': 10}\n",
      "10\n"
     ]
    }
   ],
   "source": [
    "def add_not_nested(x,y) :\n",
    "    add_value = add(x,y)\n",
    "    print(\" local scope \", locals())\n",
    "    return add_value\n",
    "\n",
    "\n",
    "print(add_not_nested(5,5))\n"
   ]
  },
  {
   "cell_type": "code",
   "execution_count": 248,
   "metadata": {
    "collapsed": false
   },
   "outputs": [
    {
     "name": "stdout",
     "output_type": "stream",
     "text": [
      " local scope  {'add': <function add_in_nested.<locals>.add at 0x0000000005166B70>, 'x': 5, 'y': 5}\n",
      "add local {'x': 5, 'y': 5}\n",
      "10\n"
     ]
    }
   ],
   "source": [
    "def add_in_nested(x,y) :\n",
    "    def add(x,y) :\n",
    "        print(\"add local\",locals())\n",
    "        return x+y\n",
    "    print(\" local scope \", locals())\n",
    "    return add(x,y)\n",
    "\n",
    "print(add_in_nested(5,5))\n"
   ]
  },
  {
   "cell_type": "code",
   "execution_count": 249,
   "metadata": {
    "collapsed": false
   },
   "outputs": [
    {
     "name": "stdout",
     "output_type": "stream",
     "text": [
      "10\n"
     ]
    }
   ],
   "source": [
    "class A :\n",
    "    def add(self, x,y) :\n",
    "        return x+y\n",
    "a = A()\n",
    "    \n",
    "def add_proc(x,y) :\n",
    "    #class나 instance는 반드시 한정자 정의 필요\n",
    "    return a.add(x,y)\n",
    "\n",
    "print(add_proc(5,5))"
   ]
  },
  {
   "cell_type": "code",
   "execution_count": 251,
   "metadata": {
    "collapsed": false
   },
   "outputs": [
    {
     "name": "stdout",
     "output_type": "stream",
     "text": [
      "<__main__.A object at 0x000000000565ABE0>\n",
      "dahl\n"
     ]
    }
   ],
   "source": [
    "class A(object) :\n",
    "    def __new__(cls) :\n",
    "        self = object.__new__(cls)\n",
    "        return self\n",
    "    \n",
    "    def __init__(self,name) :\n",
    "        self.name = name\n",
    "        \n",
    "    def __del__(self) :\n",
    "        del self\n",
    "    \n",
    "\n",
    "a = A.__new__(A)\n",
    "print(a)\n",
    "A.__init__(a,\"dahl\")\n",
    "print(a.name)\n"
   ]
  },
  {
   "cell_type": "code",
   "execution_count": 256,
   "metadata": {
    "collapsed": false
   },
   "outputs": [
    {
     "name": "stdout",
     "output_type": "stream",
     "text": [
      "<slot wrapper '__call__' of 'type' objects>\n",
      "Help on wrapper_descriptor:\n",
      "\n",
      "__call__(self, /, *args, **kwargs)\n",
      "    Call self as a function.\n",
      "\n"
     ]
    }
   ],
   "source": [
    "print(type.__call__)\n",
    "help(type.__call__)\n"
   ]
  },
  {
   "cell_type": "code",
   "execution_count": 258,
   "metadata": {
    "collapsed": false
   },
   "outputs": [
    {
     "name": "stdout",
     "output_type": "stream",
     "text": [
      "<built-in method __new__ of type object at 0x0000000061DEDE40>\n",
      "Help on built-in function __new__:\n",
      "\n",
      "__new__(*args, **kwargs) method of builtins.type instance\n",
      "    Create and return a new object.  See help(type) for accurate signature.\n",
      "\n"
     ]
    }
   ],
   "source": [
    "print(type.__new__)\n",
    "help(type.__new__)"
   ]
  },
  {
   "cell_type": "code",
   "execution_count": 259,
   "metadata": {
    "collapsed": false
   },
   "outputs": [
    {
     "name": "stdout",
     "output_type": "stream",
     "text": [
      "<slot wrapper '__init__' of 'type' objects>\n",
      "Help on wrapper_descriptor:\n",
      "\n",
      "__init__(self, /, *args, **kwargs)\n",
      "    Initialize self.  See help(type(self)) for accurate signature.\n",
      "\n"
     ]
    }
   ],
   "source": [
    "print(type.__init__)\n",
    "help(type.__init__)"
   ]
  },
  {
   "cell_type": "code",
   "execution_count": 260,
   "metadata": {
    "collapsed": false
   },
   "outputs": [
    {
     "name": "stdout",
     "output_type": "stream",
     "text": [
      "abc\n",
      "'abc'\n",
      "100\n",
      "100\n"
     ]
    }
   ],
   "source": [
    "print(str('abc'))\n",
    "print(repr('abc'))\n",
    "print(str(100))\n",
    "print(repr(100))\n"
   ]
  },
  {
   "cell_type": "code",
   "execution_count": 263,
   "metadata": {
    "collapsed": false
   },
   "outputs": [
    {
     "name": "stdout",
     "output_type": "stream",
     "text": [
      "Help on wrapper_descriptor:\n",
      "\n",
      "__str__(self, /)\n",
      "    Return str(self).\n",
      "\n"
     ]
    },
    {
     "ename": "NameError",
     "evalue": "name 'st' is not defined",
     "output_type": "error",
     "traceback": [
      "\u001b[0;31m---------------------------------------------------------------------------\u001b[0m",
      "\u001b[0;31mNameError\u001b[0m                                 Traceback (most recent call last)",
      "\u001b[0;32m<ipython-input-263-376369ba8a18>\u001b[0m in \u001b[0;36m<module>\u001b[0;34m()\u001b[0m\n\u001b[1;32m      1\u001b[0m \u001b[0mhelp\u001b[0m\u001b[1;33m(\u001b[0m\u001b[0mobject\u001b[0m\u001b[1;33m.\u001b[0m\u001b[0m__str__\u001b[0m\u001b[1;33m)\u001b[0m\u001b[1;33m\u001b[0m\u001b[0m\n\u001b[1;32m      2\u001b[0m \u001b[1;31m# str일 경우 변수로 인식\u001b[0m\u001b[1;33m\u001b[0m\u001b[1;33m\u001b[0m\u001b[0m\n\u001b[0;32m----> 3\u001b[0;31m \u001b[0mv\u001b[0m \u001b[1;33m=\u001b[0m \u001b[0meval\u001b[0m\u001b[1;33m(\u001b[0m\u001b[0mstr\u001b[0m\u001b[1;33m(\u001b[0m\u001b[1;34m'st'\u001b[0m\u001b[1;33m)\u001b[0m\u001b[1;33m)\u001b[0m\u001b[1;33m\u001b[0m\u001b[0m\n\u001b[0m",
      "\u001b[0;32m<string>\u001b[0m in \u001b[0;36m<module>\u001b[0;34m()\u001b[0m\n",
      "\u001b[0;31mNameError\u001b[0m: name 'st' is not defined"
     ]
    }
   ],
   "source": [
    "help(object.__str__)\n",
    "# str일 경우 변수로 인식 \n",
    "v = eval(str('st'))"
   ]
  },
  {
   "cell_type": "code",
   "execution_count": 264,
   "metadata": {
    "collapsed": false
   },
   "outputs": [
    {
     "name": "stdout",
     "output_type": "stream",
     "text": [
      "Help on wrapper_descriptor:\n",
      "\n",
      "__repr__(self, /)\n",
      "    Return repr(self).\n",
      "\n",
      "st\n"
     ]
    }
   ],
   "source": [
    "help(object.__repr__)\n",
    "# repr 사용시 문자열값으로 인식\n",
    "v = eval(repr('st'))\n",
    "print(v)"
   ]
  },
  {
   "cell_type": "code",
   "execution_count": 273,
   "metadata": {
    "collapsed": false
   },
   "outputs": [
    {
     "name": "stdout",
     "output_type": "stream",
     "text": [
      "[1, 2, 4] True\n",
      "{'k': 1, 'l': 2, 'm': 3} True\n",
      "<list_reverseiterator object at 0x000000000541CE80> [1, 2, 4]\n",
      "4\n",
      "2\n",
      "1\n",
      "3 3\n",
      "1\n",
      "2\n",
      "4\n"
     ]
    }
   ],
   "source": [
    "l = [1, 2, 4] \n",
    "m = {'k': 1, 'm': 3, 'l': 2}\n",
    "\n",
    "\n",
    "print (l, l.__contains__(2))\n",
    "print (m, m.__contains__('l'))\n",
    "\n",
    "lr = l.__reversed__()\n",
    "print(lr, l)\n",
    "for i in lr :\n",
    "    print(i)\n",
    "print(l.__len__(), m.__len__())\n",
    "\n",
    "li = l.__iter__()\n",
    "for i in li :\n",
    "    print(i)"
   ]
  },
  {
   "cell_type": "code",
   "execution_count": 267,
   "metadata": {
    "collapsed": false
   },
   "outputs": [
    {
     "name": "stdout",
     "output_type": "stream",
     "text": [
      "1\n",
      "2\n",
      "3\n"
     ]
    },
    {
     "ename": "StopIteration",
     "evalue": "",
     "output_type": "error",
     "traceback": [
      "\u001b[0;31m---------------------------------------------------------------------------\u001b[0m",
      "\u001b[0;31mStopIteration\u001b[0m                             Traceback (most recent call last)",
      "\u001b[0;32m<ipython-input-267-5ec872807458>\u001b[0m in \u001b[0;36m<module>\u001b[0;34m()\u001b[0m\n\u001b[1;32m     20\u001b[0m \u001b[0mprint\u001b[0m\u001b[1;33m(\u001b[0m\u001b[0mnext\u001b[0m\u001b[1;33m(\u001b[0m\u001b[0mb\u001b[0m\u001b[1;33m)\u001b[0m\u001b[1;33m)\u001b[0m\u001b[1;33m\u001b[0m\u001b[0m\n\u001b[1;32m     21\u001b[0m \u001b[0mprint\u001b[0m\u001b[1;33m(\u001b[0m\u001b[0mnext\u001b[0m\u001b[1;33m(\u001b[0m\u001b[0mb\u001b[0m\u001b[1;33m)\u001b[0m\u001b[1;33m)\u001b[0m\u001b[1;33m\u001b[0m\u001b[0m\n\u001b[0;32m---> 22\u001b[0;31m \u001b[0mprint\u001b[0m\u001b[1;33m(\u001b[0m\u001b[0mnext\u001b[0m\u001b[1;33m(\u001b[0m\u001b[0mb\u001b[0m\u001b[1;33m)\u001b[0m\u001b[1;33m)\u001b[0m\u001b[1;33m\u001b[0m\u001b[0m\n\u001b[0m",
      "\u001b[0;32m<ipython-input-267-5ec872807458>\u001b[0m in \u001b[0;36m__next__\u001b[0;34m(self)\u001b[0m\n\u001b[1;32m      9\u001b[0m     \u001b[1;32mdef\u001b[0m \u001b[0m__next__\u001b[0m\u001b[1;33m(\u001b[0m\u001b[0mself\u001b[0m\u001b[1;33m)\u001b[0m \u001b[1;33m:\u001b[0m\u001b[1;33m\u001b[0m\u001b[0m\n\u001b[1;32m     10\u001b[0m         \u001b[1;32mif\u001b[0m \u001b[0mIter\u001b[0m\u001b[1;33m.\u001b[0m\u001b[0mcount\u001b[0m \u001b[1;33m==\u001b[0m \u001b[0mlen\u001b[0m\u001b[1;33m(\u001b[0m\u001b[0mself\u001b[0m\u001b[1;33m.\u001b[0m\u001b[0md\u001b[0m\u001b[1;33m)\u001b[0m \u001b[1;33m:\u001b[0m\u001b[1;33m\u001b[0m\u001b[0m\n\u001b[0;32m---> 11\u001b[0;31m             \u001b[1;32mraise\u001b[0m \u001b[0mStopIteration\u001b[0m\u001b[1;33m\u001b[0m\u001b[0m\n\u001b[0m\u001b[1;32m     12\u001b[0m         \u001b[1;32melse\u001b[0m \u001b[1;33m:\u001b[0m\u001b[1;33m\u001b[0m\u001b[0m\n\u001b[1;32m     13\u001b[0m             \u001b[0mj\u001b[0m \u001b[1;33m=\u001b[0m \u001b[0mIter\u001b[0m\u001b[1;33m.\u001b[0m\u001b[0mcount\u001b[0m\u001b[1;33m\u001b[0m\u001b[0m\n",
      "\u001b[0;31mStopIteration\u001b[0m: "
     ]
    }
   ],
   "source": [
    "class Iter :\n",
    "    count = 0\n",
    "    def __init__(self, d) :\n",
    "        self.d = d\n",
    "        \n",
    "    def __iter__(self):\n",
    "        return self\n",
    "    \n",
    "    def __next__(self) :\n",
    "        if Iter.count == len(self.d) :\n",
    "            raise StopIteration\n",
    "        else :\n",
    "            j = Iter.count\n",
    "            Iter.count += 1\n",
    "            return self.d[j]\n",
    "    \n",
    "a = Iter([1,2,3])\n",
    "b = iter(a)\n",
    "print(next(b))\n",
    "print(next(b))\n",
    "print(next(b))\n",
    "print(next(b))"
   ]
  },
  {
   "cell_type": "code",
   "execution_count": 268,
   "metadata": {
    "collapsed": false
   },
   "outputs": [
    {
     "name": "stdout",
     "output_type": "stream",
     "text": [
      "{'_name': 'dahl'}\n",
      "class binding  dahl\n",
      "direct binding  dahl\n"
     ]
    }
   ],
   "source": [
    "class D(object) :\n",
    "        \n",
    "    def __init__(self,name) :\n",
    "        self.name = '_'+name\n",
    "        \n",
    "    def __get__(self,instance,owner) :\n",
    "        return getattr(instance,self.name,None)\n",
    "    def __set__(self,instance, value) :\n",
    "        setattr(instance,self.name,value)\n",
    "        \n",
    "class Person(object) :\n",
    "    name = D('name')\n",
    "    \n",
    "p = Person()\n",
    "p.name = 'dahl'\n",
    "print(p.__dict__)\n",
    "print(\"class binding \", Person.__dict__['name'].__get__(p,Person))\n",
    "print(\"direct binding \", p.name)\n"
   ]
  },
  {
   "cell_type": "code",
   "execution_count": 269,
   "metadata": {
    "collapsed": false
   },
   "outputs": [
    {
     "name": "stdout",
     "output_type": "stream",
     "text": [
      "1\n",
      "1\n",
      "[1, 2, 4]\n",
      "{'k': 1, 'm': 3, 'l': 2}\n"
     ]
    }
   ],
   "source": [
    "\n",
    "l = [1,2,3]\n",
    "m = {'k':1,'l':2}\n",
    "print(l.__getitem__(0))\n",
    "print(m.__getitem__('k'))\n",
    "l.__setitem__(2,4)\n",
    "m.__setitem__('m',3)\n",
    "print(l)\n",
    "print(m)\n"
   ]
  },
  {
   "cell_type": "code",
   "execution_count": 271,
   "metadata": {
    "collapsed": false
   },
   "outputs": [
    {
     "name": "stdout",
     "output_type": "stream",
     "text": [
      "oldstyle\n",
      "oldstyle\n",
      "None 50\n",
      "{'age': 50}\n",
      "None\n",
      "{}\n"
     ]
    }
   ],
   "source": [
    "class Old(object) :\n",
    "    old_a = \"oldstyle\"\n",
    "    \n",
    "\n",
    "o = Old()\n",
    "\n",
    "print( o.old_a)\n",
    "print( o.__getattribute__('old_a'))\n",
    "print( o.__setattr__(\"age\",50), o.__getattribute__('age'))\n",
    "print( o.__dict__)\n",
    "print( o.__delattr__('age'))\n",
    "print( o.__dict__)\n"
   ]
  },
  {
   "cell_type": "code",
   "execution_count": 276,
   "metadata": {
    "collapsed": false
   },
   "outputs": [
    {
     "name": "stdout",
     "output_type": "stream",
     "text": [
      "mappingproxy({'__dict__': <attribute '__dict__' of 'A' objects>,\n",
      "              '__doc__': None,\n",
      "              '__module__': '__main__',\n",
      "              '__weakref__': <attribute '__weakref__' of 'A' objects>})\n",
      "{}\n"
     ]
    }
   ],
   "source": [
    "import pprint\n",
    "class A() :\n",
    "    pass\n",
    "\n",
    "pprint.pprint(A.__dict__)\n",
    "a = A()\n",
    "print(a.__dict__)"
   ]
  },
  {
   "cell_type": "code",
   "execution_count": 278,
   "metadata": {
    "collapsed": false
   },
   "outputs": [
    {
     "name": "stdout",
     "output_type": "stream",
     "text": [
      "mappingproxy({'__dict__': <attribute '__dict__' of 'A' objects>,\n",
      "              '__doc__': None,\n",
      "              '__module__': '__main__',\n",
      "              '__weakref__': <attribute '__weakref__' of 'A' objects>})\n",
      "{}\n"
     ]
    }
   ],
   "source": [
    "import pprint\n",
    "\n",
    "A = type(\"A\",(object,),{})\n",
    "pprint.pprint(A.__dict__)\n",
    "a = A()\n",
    "print(a.__dict__)"
   ]
  },
  {
   "cell_type": "code",
   "execution_count": 285,
   "metadata": {
    "collapsed": false
   },
   "outputs": [
    {
     "name": "stdout",
     "output_type": "stream",
     "text": [
      "<class 'xml.etree.ElementTree.ElementTree'>\n",
      "find : <bound method ElementTree.find of <xml.etree.ElementTree.ElementTree object at 0x000000000540D5F8>>\n",
      "findall : <bound method ElementTree.findall of <xml.etree.ElementTree.ElementTree object at 0x000000000540D5F8>>\n",
      "findtext :  <bound method ElementTree.findtext of <xml.etree.ElementTree.ElementTree object at 0x000000000540D5F8>>\n",
      "getiterator : <bound method ElementTree.getiterator of <xml.etree.ElementTree.ElementTree object at 0x000000000540D5F8>>\n",
      "getroot : <bound method ElementTree.getroot of <xml.etree.ElementTree.ElementTree object at 0x000000000540D5F8>>\n",
      "iter : <bound method ElementTree.iter of <xml.etree.ElementTree.ElementTree object at 0x000000000540D5F8>>\n",
      "iterfind : <bound method ElementTree.iterfind of <xml.etree.ElementTree.ElementTree object at 0x000000000540D5F8>>\n",
      "parse :  <bound method ElementTree.parse of <xml.etree.ElementTree.ElementTree object at 0x000000000540D5F8>>\n",
      "write : <bound method ElementTree.write of <xml.etree.ElementTree.ElementTree object at 0x000000000540D5F8>>\n",
      "write_c14n <bound method ElementTree.write_c14n of <xml.etree.ElementTree.ElementTree object at 0x000000000540D5F8>>\n"
     ]
    }
   ],
   "source": [
    "import xml.etree.ElementTree as ET\n",
    "a = ET.ElementTree()\n",
    "print(type(a))\n",
    "print(\"find :\",a.find)\n",
    "print('findall :', a.findall)\n",
    "print('findtext : ', a.findtext)\n",
    "print('getiterator :',a.getiterator)\n",
    "print('getroot :', a.getroot)\n",
    "print('iter :', a.iter)\n",
    "print('iterfind :',a.iterfind)\n",
    "print('parse : ',a.parse)\n",
    "print('write :', a.write)\n",
    "print('write_c14n', a.write_c14n)"
   ]
  },
  {
   "cell_type": "code",
   "execution_count": 313,
   "metadata": {
    "collapsed": false
   },
   "outputs": [
    {
     "name": "stdout",
     "output_type": "stream",
     "text": [
      "<class 'xml.etree.ElementTree.Element'>\n",
      "root\n",
      "{}\n",
      "None\n",
      "a {}\n"
     ]
    }
   ],
   "source": [
    "import xml.etree.ElementTree as ET\n",
    "b = \"<root><a></a></root>\"\n",
    "\n",
    "c = ET.fromstring(b)\n",
    "print(type(c))\n",
    "print(c.tag)\n",
    "print(c.attrib)\n",
    "print(c.text)\n",
    "\n",
    "for child in c:\n",
    "    print(child.tag, child.attrib)"
   ]
  },
  {
   "cell_type": "code",
   "execution_count": 300,
   "metadata": {
    "collapsed": false
   },
   "outputs": [
    {
     "data": {
      "text/plain": [
       "['__class__',\n",
       " '__copy__',\n",
       " '__deepcopy__',\n",
       " '__delattr__',\n",
       " '__delitem__',\n",
       " '__dir__',\n",
       " '__doc__',\n",
       " '__eq__',\n",
       " '__format__',\n",
       " '__ge__',\n",
       " '__getattribute__',\n",
       " '__getitem__',\n",
       " '__getstate__',\n",
       " '__gt__',\n",
       " '__hash__',\n",
       " '__init__',\n",
       " '__le__',\n",
       " '__len__',\n",
       " '__lt__',\n",
       " '__ne__',\n",
       " '__new__',\n",
       " '__reduce__',\n",
       " '__reduce_ex__',\n",
       " '__repr__',\n",
       " '__setattr__',\n",
       " '__setitem__',\n",
       " '__setstate__',\n",
       " '__sizeof__',\n",
       " '__str__',\n",
       " '__subclasshook__',\n",
       " 'append',\n",
       " 'clear',\n",
       " 'extend',\n",
       " 'find',\n",
       " 'findall',\n",
       " 'findtext',\n",
       " 'get',\n",
       " 'getchildren',\n",
       " 'getiterator',\n",
       " 'insert',\n",
       " 'items',\n",
       " 'iter',\n",
       " 'iterfind',\n",
       " 'itertext',\n",
       " 'keys',\n",
       " 'makeelement',\n",
       " 'remove',\n",
       " 'set']"
      ]
     },
     "execution_count": 300,
     "metadata": {},
     "output_type": "execute_result"
    }
   ],
   "source": [
    "dir(ET.Element)\n",
    "'append',\n",
    " 'clear',\n",
    " 'extend',\n",
    " 'find',\n",
    " 'findall',\n",
    " 'findtext',\n",
    " 'get',\n",
    " 'getchildren',\n",
    " 'getiterator',\n",
    " 'insert',\n",
    " 'items',\n",
    " 'iter',\n",
    " 'iterfind',\n",
    " 'itertext',\n",
    " 'keys',\n",
    " 'makeelement',\n",
    " 'remove',\n",
    " 'set'"
   ]
  },
  {
   "cell_type": "code",
   "execution_count": 330,
   "metadata": {
    "collapsed": false
   },
   "outputs": [
    {
     "name": "stdout",
     "output_type": "stream",
     "text": [
      "Overwriting country_data.xml\n"
     ]
    }
   ],
   "source": [
    "%%writefile country_data.xml\n",
    "<?xml version=\"1.0\"?>\n",
    "<data>\n",
    "    <country name=\"Liechtenstein\">\n",
    "        <rank>1</rank>\n",
    "        <year>2008</year>\n",
    "        <gdppc>141100</gdppc>\n",
    "        <neighbor name=\"Austria\" direction=\"E\"/>\n",
    "        <neighbor name=\"Switzerland\" direction=\"W\"/>\n",
    "    </country>\n",
    "    <country name=\"Singapore\">\n",
    "        <rank>4</rank>\n",
    "        <year>2011</year>\n",
    "        <gdppc>59900</gdppc>\n",
    "        <neighbor name=\"Malaysia\" direction=\"N\"/>\n",
    "    </country>\n",
    "    <country name=\"Panama\">\n",
    "        <rank>68</rank>\n",
    "        <year>2011</year>\n",
    "        <gdppc>13600</gdppc>\n",
    "        <neighbor name=\"Costa Rica\" direction=\"W\"/>\n",
    "        <neighbor name=\"Colombia\" direction=\"E\"/>\n",
    "    </country>\n",
    "</data>"
   ]
  },
  {
   "cell_type": "code",
   "execution_count": 331,
   "metadata": {
    "collapsed": false
   },
   "outputs": [
    {
     "name": "stdout",
     "output_type": "stream",
     "text": [
      "<class 'xml.etree.ElementTree.Element'>\n",
      "data\n",
      "{}\n",
      "country {'name': 'Liechtenstein'}\n",
      "country {'name': 'Singapore'}\n",
      "country {'name': 'Panama'}\n"
     ]
    }
   ],
   "source": [
    "import xml.etree.ElementTree as ET\n",
    "tree = ET.ElementTree(file=\"country_data.xml\")\n",
    "root = tree.getroot()\n",
    "print(type(root))\n",
    "print(root.tag)\n",
    "print(root.attrib)\n",
    "for child in root:\n",
    "    print(child.tag, child.attrib)"
   ]
  },
  {
   "cell_type": "code",
   "execution_count": 332,
   "metadata": {
    "collapsed": false
   },
   "outputs": [
    {
     "name": "stdout",
     "output_type": "stream",
     "text": [
      "<class 'xml.etree.ElementTree.Element'>\n",
      "data\n",
      "{}\n",
      "country {'name': 'Liechtenstein'}\n",
      "country {'name': 'Singapore'}\n",
      "country {'name': 'Panama'}\n"
     ]
    }
   ],
   "source": [
    "import xml.etree.ElementTree as ET\n",
    "tree = ET.parse('country_data.xml')\n",
    "root = tree.getroot()\n",
    "print(type(root))\n",
    "print(root.tag)\n",
    "print(root.attrib)\n",
    "\n",
    "for child in root:\n",
    "    print(child.tag, child.attrib)"
   ]
  },
  {
   "cell_type": "code",
   "execution_count": 338,
   "metadata": {
    "collapsed": false
   },
   "outputs": [
    {
     "name": "stdout",
     "output_type": "stream",
     "text": [
      "['name']\n",
      "[('name', 'Liechtenstein')]\n"
     ]
    }
   ],
   "source": [
    "import xml.etree.ElementTree as ET\n",
    "tree = ET.parse('country_data.xml')\n",
    "root = tree.getroot()\n",
    "\n",
    "con = tree.find(\"country\")\n",
    "print(con.keys())\n",
    "print(con.items())\n",
    "\n"
   ]
  },
  {
   "cell_type": "code",
   "execution_count": 336,
   "metadata": {
    "collapsed": false
   },
   "outputs": [
    {
     "data": {
      "text/plain": [
       "['__class__',\n",
       " '__delattr__',\n",
       " '__dict__',\n",
       " '__dir__',\n",
       " '__doc__',\n",
       " '__eq__',\n",
       " '__format__',\n",
       " '__ge__',\n",
       " '__getattribute__',\n",
       " '__gt__',\n",
       " '__hash__',\n",
       " '__init__',\n",
       " '__le__',\n",
       " '__lt__',\n",
       " '__module__',\n",
       " '__ne__',\n",
       " '__new__',\n",
       " '__reduce__',\n",
       " '__reduce_ex__',\n",
       " '__repr__',\n",
       " '__setattr__',\n",
       " '__sizeof__',\n",
       " '__str__',\n",
       " '__subclasshook__',\n",
       " '__weakref__',\n",
       " '_setroot',\n",
       " 'find',\n",
       " 'findall',\n",
       " 'findtext',\n",
       " 'getiterator',\n",
       " 'getroot',\n",
       " 'iter',\n",
       " 'iterfind',\n",
       " 'parse',\n",
       " 'write',\n",
       " 'write_c14n']"
      ]
     },
     "execution_count": 336,
     "metadata": {},
     "output_type": "execute_result"
    }
   ],
   "source": [
    "dir(ET.ElementTree)\n",
    "'''\n",
    "'append',\n",
    " 'clear',\n",
    " 'extend',\n",
    " 'find',\n",
    " 'findall',\n",
    " 'findtext',\n",
    " 'get',\n",
    " 'getchildren',\n",
    " 'getiterator',\n",
    " 'insert',\n",
    " 'items',\n",
    " 'iter',\n",
    " 'iterfind',\n",
    " 'itertext',\n",
    " 'keys',\n",
    " 'makeelement',\n",
    " 'remove',\n",
    " 'set'\n",
    " '''"
   ]
  },
  {
   "cell_type": "code",
   "execution_count": 347,
   "metadata": {
    "collapsed": true
   },
   "outputs": [],
   "source": [
    "s = '''<?xml version=\"1.0\"?>\n",
    "<data>\n",
    "    <country name=\"Liechtenstein\">\n",
    "        <rank>1</rank>\n",
    "    </country>\n",
    "</data>'''"
   ]
  },
  {
   "cell_type": "code",
   "execution_count": 348,
   "metadata": {
    "collapsed": false
   },
   "outputs": [
    {
     "name": "stdout",
     "output_type": "stream",
     "text": [
      "<generator object XMLPullParser.read_events at 0x000000000599AF10>\n",
      "start\n",
      "data text= \n",
      "    \n",
      "start\n",
      "country text= \n",
      "        \n",
      "start\n",
      "rank text= 1\n",
      "end\n",
      "rank text= 1\n",
      "end\n",
      "country text= \n",
      "        \n",
      "end\n",
      "data text= \n",
      "    \n"
     ]
    }
   ],
   "source": [
    "import xml.etree.ElementTree as ET\n",
    "parser = ET.XMLPullParser(['start', 'end'])\n",
    "parser.feed(s)\n",
    "\n",
    "print(parser.read_events())\n",
    "\n",
    "for event, elem in parser.read_events():\n",
    "    print(event)\n",
    "    print(elem.tag, 'text=', elem.text)"
   ]
  },
  {
   "cell_type": "code",
   "execution_count": 339,
   "metadata": {
    "collapsed": false
   },
   "outputs": [
    {
     "name": "stdout",
     "output_type": "stream",
     "text": [
      "[('start', <Element 'mytag' at 0x00000000056A07C8>)]\n",
      "end\n",
      "mytag text= sometext more text\n"
     ]
    }
   ],
   "source": [
    "parser = ET.XMLPullParser(['start', 'end'])\n",
    "parser.feed('<mytag>sometext')\n",
    "print(list(parser.read_events()))\n",
    "parser.feed(' more text</mytag>')\n",
    "for event, elem in parser.read_events():\n",
    "    print(event)\n",
    "    print(elem.tag, 'text=', elem.text)"
   ]
  },
  {
   "cell_type": "code",
   "execution_count": 340,
   "metadata": {
    "collapsed": false
   },
   "outputs": [
    {
     "data": {
      "text/plain": [
       "['__class__',\n",
       " '__delattr__',\n",
       " '__dict__',\n",
       " '__dir__',\n",
       " '__doc__',\n",
       " '__eq__',\n",
       " '__format__',\n",
       " '__ge__',\n",
       " '__getattribute__',\n",
       " '__gt__',\n",
       " '__hash__',\n",
       " '__init__',\n",
       " '__le__',\n",
       " '__lt__',\n",
       " '__module__',\n",
       " '__ne__',\n",
       " '__new__',\n",
       " '__reduce__',\n",
       " '__reduce_ex__',\n",
       " '__repr__',\n",
       " '__setattr__',\n",
       " '__sizeof__',\n",
       " '__str__',\n",
       " '__subclasshook__',\n",
       " '__weakref__',\n",
       " '_close_and_return_root',\n",
       " 'close',\n",
       " 'feed',\n",
       " 'read_events']"
      ]
     },
     "execution_count": 340,
     "metadata": {},
     "output_type": "execute_result"
    }
   ],
   "source": [
    "dir(ET.XMLPullParser)"
   ]
  },
  {
   "cell_type": "code",
   "execution_count": 341,
   "metadata": {
    "collapsed": false
   },
   "outputs": [
    {
     "name": "stdout",
     "output_type": "stream",
     "text": [
      "Help on class XMLPullParser in module xml.etree.ElementTree:\n",
      "\n",
      "class XMLPullParser(builtins.object)\n",
      " |  Methods defined here:\n",
      " |  \n",
      " |  __init__(self, events=None, *, _parser=None)\n",
      " |      Initialize self.  See help(type(self)) for accurate signature.\n",
      " |  \n",
      " |  close(self)\n",
      " |      Finish feeding data to parser.\n",
      " |      \n",
      " |      Unlike XMLParser, does not return the root element. Use\n",
      " |      read_events() to consume elements from XMLPullParser.\n",
      " |  \n",
      " |  feed(self, data)\n",
      " |      Feed encoded data to parser.\n",
      " |  \n",
      " |  read_events(self)\n",
      " |      Return an iterator over currently available (event, elem) pairs.\n",
      " |      \n",
      " |      Events are consumed from the internal event queue as they are\n",
      " |      retrieved from the iterator.\n",
      " |  \n",
      " |  ----------------------------------------------------------------------\n",
      " |  Data descriptors defined here:\n",
      " |  \n",
      " |  __dict__\n",
      " |      dictionary for instance variables (if defined)\n",
      " |  \n",
      " |  __weakref__\n",
      " |      list of weak references to the object (if defined)\n",
      "\n"
     ]
    }
   ],
   "source": [
    "help( ET.XMLPullParser)"
   ]
  },
  {
   "cell_type": "code",
   "execution_count": null,
   "metadata": {
    "collapsed": true
   },
   "outputs": [],
   "source": []
  }
 ],
 "metadata": {
  "kernelspec": {
   "display_name": "Python [conda root]",
   "language": "python",
   "name": "conda-root-py"
  },
  "language_info": {
   "codemirror_mode": {
    "name": "ipython",
    "version": 3
   },
   "file_extension": ".py",
   "mimetype": "text/x-python",
   "name": "python",
   "nbconvert_exporter": "python",
   "pygments_lexer": "ipython3",
   "version": "3.5.2"
  }
 },
 "nbformat": 4,
 "nbformat_minor": 1
}
