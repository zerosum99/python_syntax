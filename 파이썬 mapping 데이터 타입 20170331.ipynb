{
 "cells": [
  {
   "cell_type": "markdown",
   "metadata": {},
   "source": [
    "# 1. 매핑 타입 이해하기\n",
    "   \n",
    "     dict : 키와 값으로 구성된 데이터 타입\n",
    "     set :  키로만 구성된 데이터 타입\n",
    "     frozenset : 키로만 구성된 데이터 타입 변경불가"
   ]
  },
  {
   "cell_type": "markdown",
   "metadata": {},
   "source": [
    "### Mapping 데이터 타입의 관계"
   ]
  },
  {
   "cell_type": "code",
   "execution_count": 59,
   "metadata": {
    "collapsed": false
   },
   "outputs": [
    {
     "name": "stdout",
     "output_type": "stream",
     "text": [
      "True\n",
      "True\n",
      "True\n",
      "True\n",
      "True\n",
      "False\n"
     ]
    }
   ],
   "source": [
    "import collections.abc as cols\n",
    "\n",
    "print(issubclass(dict, cols.Mapping))\n",
    "print(issubclass(dict, cols.MutableMapping))\n",
    "\n",
    "print(issubclass(set, cols.Set))\n",
    "print(issubclass(set, cols.MutableSet))\n",
    "\n",
    "print(issubclass(frozenset, cols.Set))\n",
    "print(issubclass(frozenset, cols.MutableSet))"
   ]
  },
  {
   "cell_type": "markdown",
   "metadata": {},
   "source": [
    "# 2. dict 타입 이해하기 \n",
    "\n",
    "    \n",
    "    "
   ]
  },
  {
   "cell_type": "markdown",
   "metadata": {},
   "source": [
    "## dict 타입 키로 사용 가능한 데이터 타입 \n",
    "    \n",
    "    변경불가능한 데이터 타입(int, float, tuple, str, bytes, frozenset 등)이 가능\n",
    "    "
   ]
  },
  {
   "cell_type": "markdown",
   "metadata": {},
   "source": [
    "### bytes와 frozenset도 키로 사용가능"
   ]
  },
  {
   "cell_type": "code",
   "execution_count": 83,
   "metadata": {
    "collapsed": false
   },
   "outputs": [
    {
     "name": "stdout",
     "output_type": "stream",
     "text": [
      "{b'123': 1}\n"
     ]
    }
   ],
   "source": [
    "b = bytes(b'123')\n",
    "\n",
    "d = {b:1}\n",
    "\n",
    "print(d)"
   ]
  },
  {
   "cell_type": "code",
   "execution_count": 82,
   "metadata": {
    "collapsed": false
   },
   "outputs": [
    {
     "name": "stdout",
     "output_type": "stream",
     "text": [
      "{frozenset({1, 2, 3}): 1}\n"
     ]
    }
   ],
   "source": [
    "b = frozenset([1,2,3])\n",
    "\n",
    "d = {b:1}\n",
    "\n",
    "print(d)"
   ]
  },
  {
   "cell_type": "markdown",
   "metadata": {},
   "source": [
    "### tuple일 경우 원소가 list가 들어가면 키로 사용불가"
   ]
  },
  {
   "cell_type": "code",
   "execution_count": 74,
   "metadata": {
    "collapsed": false
   },
   "outputs": [
    {
     "ename": "TypeError",
     "evalue": "unhashable type: 'list'",
     "output_type": "error",
     "traceback": [
      "\u001b[0;31m---------------------------------------------------------------------------\u001b[0m",
      "\u001b[0;31mTypeError\u001b[0m                                 Traceback (most recent call last)",
      "\u001b[0;32m<ipython-input-74-b854082e7dcb>\u001b[0m in \u001b[0;36m<module>\u001b[0;34m()\u001b[0m\n\u001b[1;32m      3\u001b[0m \u001b[0md\u001b[0m \u001b[1;33m=\u001b[0m \u001b[1;33m{\u001b[0m\u001b[1;33m}\u001b[0m\u001b[1;33m\u001b[0m\u001b[0m\n\u001b[1;32m      4\u001b[0m \u001b[1;33m\u001b[0m\u001b[0m\n\u001b[0;32m----> 5\u001b[0;31m \u001b[0md\u001b[0m\u001b[1;33m.\u001b[0m\u001b[0mfromkeys\u001b[0m\u001b[1;33m(\u001b[0m\u001b[0ma\u001b[0m\u001b[1;33m)\u001b[0m\u001b[1;33m\u001b[0m\u001b[0m\n\u001b[0m",
      "\u001b[0;31mTypeError\u001b[0m: unhashable type: 'list'"
     ]
    }
   ],
   "source": [
    "# 리스트는 유일하지 않아서 키로 사용할 수 없음\n",
    "a = (1,2,[1,2])\n",
    "d = {}\n",
    "\n",
    "d.fromkeys(a) "
   ]
  },
  {
   "cell_type": "markdown",
   "metadata": {},
   "source": [
    "### dict  생성하기  : 빈 dict 생성\n"
   ]
  },
  {
   "cell_type": "code",
   "execution_count": 66,
   "metadata": {
    "collapsed": false
   },
   "outputs": [
    {
     "name": "stdout",
     "output_type": "stream",
     "text": [
      "<class 'dict'> {}\n",
      "<class 'dict'> {}\n"
     ]
    }
   ],
   "source": [
    "# empty dictionary\n",
    "d = {}\n",
    "print(type(d), d)\n",
    "\n",
    "d1 = dict()\n",
    "print(type(d1),d1)\n"
   ]
  },
  {
   "cell_type": "markdown",
   "metadata": {},
   "source": [
    "### dict 생성 : 문자열로 키 생성\n"
   ]
  },
  {
   "cell_type": "code",
   "execution_count": 69,
   "metadata": {
    "collapsed": false
   },
   "outputs": [
    {
     "name": "stdout",
     "output_type": "stream",
     "text": [
      "<class 'dict'> {'age': 30, 'name': 'John'}\n"
     ]
    }
   ],
   "source": [
    "# dictionary with mixed keys\n",
    "d = {'name': 'John', 'age': 30 }\n",
    "\n",
    "print(type(d), d)"
   ]
  },
  {
   "cell_type": "markdown",
   "metadata": {},
   "source": [
    "### dict 생성 : 숫자를 키로 생성 "
   ]
  },
  {
   "cell_type": "code",
   "execution_count": 67,
   "metadata": {
    "collapsed": false
   },
   "outputs": [
    {
     "name": "stdout",
     "output_type": "stream",
     "text": [
      "<class 'dict'> {1: 'apple', 2: 'ball'}\n"
     ]
    }
   ],
   "source": [
    "# dictionary with integer keys\n",
    "d = {1: 'apple', 2: 'ball'}\n",
    "\n",
    "print(type(d), d)"
   ]
  },
  {
   "cell_type": "markdown",
   "metadata": {},
   "source": [
    "### dict 생성 : 키를 문자와 숫자로 혼용 생성 "
   ]
  },
  {
   "cell_type": "code",
   "execution_count": 68,
   "metadata": {
    "collapsed": false
   },
   "outputs": [
    {
     "name": "stdout",
     "output_type": "stream",
     "text": [
      "<class 'dict'> {1: [2, 4, 3], 'name': 'John'}\n"
     ]
    }
   ],
   "source": [
    "# dictionary with mixed keys\n",
    "d = {'name': 'John', 1: [2, 4, 3]}\n",
    "\n",
    "print(type(d), d)"
   ]
  },
  {
   "cell_type": "markdown",
   "metadata": {},
   "source": [
    "### dict 생성 : dict 클래스 이용 \n"
   ]
  },
  {
   "cell_type": "code",
   "execution_count": 2,
   "metadata": {
    "collapsed": false
   },
   "outputs": [
    {
     "name": "stdout",
     "output_type": "stream",
     "text": [
      "{1: 'apple', 2: 'ball'}\n",
      "{1: 'apple', 2: 'ball'}\n"
     ]
    }
   ],
   "source": [
    "# using dict()\n",
    "my_dict = dict({1:'apple', 2:'ball'})\n",
    "\n",
    "# from sequence having each item as a pair\n",
    "my_dict1 = dict([(1,'apple'), (2,'ball')])\n",
    "\n",
    "print(my_dict)\n",
    "print(my_dict1)"
   ]
  },
  {
   "cell_type": "code",
   "execution_count": 1,
   "metadata": {
    "collapsed": false
   },
   "outputs": [
    {
     "name": "stdout",
     "output_type": "stream",
     "text": [
      "{'b': 2, 'a': 1}\n"
     ]
    }
   ],
   "source": [
    "# 키워드 인자로 생성하기\n",
    "\n",
    "d = dict(a=1, b=2)\n",
    "print(d)"
   ]
  },
  {
   "cell_type": "code",
   "execution_count": 3,
   "metadata": {
    "collapsed": false
   },
   "outputs": [
    {
     "name": "stdout",
     "output_type": "stream",
     "text": [
      "{'a': 1, 'b': 2}\n"
     ]
    }
   ],
   "source": [
    "# 리스트 내부의 튜블로 생성하기\n",
    "\n",
    "l = [('a',1), ('b',2)]\n",
    "d = dict(l)\n",
    "print(d)"
   ]
  },
  {
   "cell_type": "code",
   "execution_count": 5,
   "metadata": {
    "collapsed": false
   },
   "outputs": [
    {
     "name": "stdout",
     "output_type": "stream",
     "text": [
      "{'a': 1, 'b': 2}\n"
     ]
    }
   ],
   "source": [
    "# 직접 리터럴로 정의하기 \n",
    "d ={'a': 1, 'b': 2}\n",
    "print(d)"
   ]
  },
  {
   "cell_type": "markdown",
   "metadata": {},
   "source": [
    "## dict 검색은 key로 값 찾기\n"
   ]
  },
  {
   "cell_type": "code",
   "execution_count": 3,
   "metadata": {
    "collapsed": false
   },
   "outputs": [
    {
     "name": "stdout",
     "output_type": "stream",
     "text": [
      "{'a': 1, 'b': 2}\n",
      "1\n"
     ]
    }
   ],
   "source": [
    "d ={'a': 1, 'b': 2}\n",
    "print(d)\n",
    "\n",
    "# 검색\n",
    "print(d['a'])\n",
    "\n"
   ]
  },
  {
   "cell_type": "markdown",
   "metadata": {},
   "source": [
    "#### operator.itemgetter로 검색"
   ]
  },
  {
   "cell_type": "code",
   "execution_count": 5,
   "metadata": {
    "collapsed": false
   },
   "outputs": [
    {
     "name": "stdout",
     "output_type": "stream",
     "text": [
      "(1, 2)\n"
     ]
    }
   ],
   "source": [
    "import operator\n",
    "\n",
    "igd = operator.itemgetter('a','b')\n",
    "print(igd(d))"
   ]
  },
  {
   "cell_type": "markdown",
   "metadata": {},
   "source": [
    "#### operator.getitem 으로 검색\n"
   ]
  },
  {
   "cell_type": "code",
   "execution_count": 9,
   "metadata": {
    "collapsed": false
   },
   "outputs": [
    {
     "name": "stdout",
     "output_type": "stream",
     "text": [
      "1\n"
     ]
    }
   ],
   "source": [
    "import operator\n",
    "\n",
    "print(operator.getitem(d,'a'))"
   ]
  },
  {
   "cell_type": "markdown",
   "metadata": {},
   "source": [
    "## dict 타입에 keys, values, items 메소드 처리 결과에 대한 객체 이해하기 \n",
    "    \n",
    "    keys     -->  dict_keys\n",
    "    values   -->  dict_values\n",
    "    items    -->  dict_items\n",
    "    "
   ]
  },
  {
   "cell_type": "markdown",
   "metadata": {},
   "source": [
    "###  dict 타입 내부 조회하기 : keys\n"
   ]
  },
  {
   "cell_type": "code",
   "execution_count": 5,
   "metadata": {
    "collapsed": false
   },
   "outputs": [
    {
     "name": "stdout",
     "output_type": "stream",
     "text": [
      "<class 'dict_keys'>\n",
      "a\n",
      "b\n"
     ]
    },
    {
     "ename": "StopIteration",
     "evalue": "",
     "output_type": "error",
     "traceback": [
      "\u001b[0;31m---------------------------------------------------------------------------\u001b[0m",
      "\u001b[0;31mStopIteration\u001b[0m                             Traceback (most recent call last)",
      "\u001b[0;32m<ipython-input-5-1ef6f3ca152e>\u001b[0m in \u001b[0;36m<module>\u001b[0;34m()\u001b[0m\n\u001b[1;32m      7\u001b[0m \u001b[0mprint\u001b[0m\u001b[1;33m(\u001b[0m\u001b[0mnext\u001b[0m\u001b[1;33m(\u001b[0m\u001b[0mkeys\u001b[0m\u001b[1;33m)\u001b[0m\u001b[1;33m)\u001b[0m\u001b[1;33m\u001b[0m\u001b[0m\n\u001b[1;32m      8\u001b[0m \u001b[0mprint\u001b[0m\u001b[1;33m(\u001b[0m\u001b[0mnext\u001b[0m\u001b[1;33m(\u001b[0m\u001b[0mkeys\u001b[0m\u001b[1;33m)\u001b[0m\u001b[1;33m)\u001b[0m\u001b[1;33m\u001b[0m\u001b[0m\n\u001b[0;32m----> 9\u001b[0;31m \u001b[0mprint\u001b[0m\u001b[1;33m(\u001b[0m\u001b[0mnext\u001b[0m\u001b[1;33m(\u001b[0m\u001b[0mkeys\u001b[0m\u001b[1;33m)\u001b[0m\u001b[1;33m)\u001b[0m\u001b[1;33m\u001b[0m\u001b[0m\n\u001b[0m",
      "\u001b[0;31mStopIteration\u001b[0m: "
     ]
    }
   ],
   "source": [
    "d = dict([('a',1),('b',2)])\n",
    "\n",
    "keys = d.keys()\n",
    "print(type(keys))\n",
    "\n",
    "keys = iter(keys)\n",
    "print(next(keys))\n",
    "print(next(keys))\n",
    "print(next(keys))"
   ]
  },
  {
   "cell_type": "code",
   "execution_count": 11,
   "metadata": {
    "collapsed": false
   },
   "outputs": [
    {
     "name": "stdout",
     "output_type": "stream",
     "text": [
      "True\n",
      "True\n"
     ]
    }
   ],
   "source": [
    "import collections as cols\n",
    "\n",
    "l = [('a',1), ('b',2)]\n",
    "d = dict(l)\n",
    "\n",
    "print(isinstance(d.keys(), cols.MappingView))\n",
    "print(isinstance(d.keys(), cols.KeysView))"
   ]
  },
  {
   "cell_type": "code",
   "execution_count": 5,
   "metadata": {
    "collapsed": false
   },
   "outputs": [
    {
     "name": "stdout",
     "output_type": "stream",
     "text": [
      "dict_keys(['b', 'a'])\n"
     ]
    }
   ],
   "source": [
    "l = [('a',1), ('b',2)]\n",
    "d = dict(l)\n",
    "print(d.keys())\n"
   ]
  },
  {
   "cell_type": "code",
   "execution_count": 7,
   "metadata": {
    "collapsed": false
   },
   "outputs": [
    {
     "name": "stdout",
     "output_type": "stream",
     "text": [
      "[1, 2, 3, 4, 5, 6, 7, 8, 9]\n"
     ]
    }
   ],
   "source": [
    "# 리스트로 데이터 변환\n",
    "print(list(d.keys()))"
   ]
  },
  {
   "cell_type": "markdown",
   "metadata": {},
   "source": [
    "### dict 타입 내부 조회하기 : value\n"
   ]
  },
  {
   "cell_type": "code",
   "execution_count": 12,
   "metadata": {
    "collapsed": false
   },
   "outputs": [
    {
     "name": "stdout",
     "output_type": "stream",
     "text": [
      "True\n",
      "True\n"
     ]
    }
   ],
   "source": [
    "import collections as cols\n",
    "\n",
    "l = [('a',1), ('b',2)]\n",
    "d = dict(l)\n",
    "\n",
    "print(isinstance(d.values(), cols.MappingView))\n",
    "print(isinstance(d.values(), cols.ValuesView))"
   ]
  },
  {
   "cell_type": "code",
   "execution_count": 8,
   "metadata": {
    "collapsed": false
   },
   "outputs": [
    {
     "name": "stdout",
     "output_type": "stream",
     "text": [
      "dict_values([1, 2])\n"
     ]
    }
   ],
   "source": [
    "l = [('a',1), ('b',2)]\n",
    "d = dict(l)\n",
    "\n",
    "print(d.values())"
   ]
  },
  {
   "cell_type": "code",
   "execution_count": 9,
   "metadata": {
    "collapsed": false
   },
   "outputs": [
    {
     "name": "stdout",
     "output_type": "stream",
     "text": [
      "[1, 2]\n"
     ]
    }
   ],
   "source": [
    "# 리스트로 데이터 변환\n",
    "\n",
    "print(list(d.values()))"
   ]
  },
  {
   "cell_type": "markdown",
   "metadata": {},
   "source": [
    "### dict 타입 내부 조회하기 : items \n"
   ]
  },
  {
   "cell_type": "code",
   "execution_count": 13,
   "metadata": {
    "collapsed": false
   },
   "outputs": [
    {
     "name": "stdout",
     "output_type": "stream",
     "text": [
      "True\n",
      "True\n"
     ]
    }
   ],
   "source": [
    "import collections as cols\n",
    "\n",
    "l = [('a',1), ('b',2)]\n",
    "d = dict(l)\n",
    "\n",
    "print(isinstance(d.items(), cols.MappingView))\n",
    "print(isinstance(d.items(), cols.ItemsView))"
   ]
  },
  {
   "cell_type": "code",
   "execution_count": 10,
   "metadata": {
    "collapsed": false
   },
   "outputs": [
    {
     "name": "stdout",
     "output_type": "stream",
     "text": [
      "dict_items([('a', 1), ('b', 2)])\n"
     ]
    }
   ],
   "source": [
    "l = [('a',1), ('b',2)]\n",
    "d = dict(l)\n",
    "print(d.items())\n"
   ]
  },
  {
   "cell_type": "code",
   "execution_count": 11,
   "metadata": {
    "collapsed": false
   },
   "outputs": [
    {
     "name": "stdout",
     "output_type": "stream",
     "text": [
      "[('a', 1), ('b', 2)]\n"
     ]
    }
   ],
   "source": [
    "# 리스트로 데이터 변환\n",
    "print(list(d.items()))\n"
   ]
  },
  {
   "cell_type": "markdown",
   "metadata": {},
   "source": [
    "### dict 타입 조회하기 : tuple/set 변환 \n"
   ]
  },
  {
   "cell_type": "code",
   "execution_count": 12,
   "metadata": {
    "collapsed": false
   },
   "outputs": [
    {
     "name": "stdout",
     "output_type": "stream",
     "text": [
      "(('a', 1), ('b', 2))\n",
      "('a', 'b')\n",
      "(1, 2)\n",
      "{('a', 1), ('b', 2)}\n",
      "{'a', 'b'}\n",
      "{1, 2}\n"
     ]
    }
   ],
   "source": [
    "\n",
    "# item, key, value 별로 조회하면 dict 타입으로 나옴\n",
    "\n",
    "l = [('a',1), ('b',2)]\n",
    "d = dict(l)\n",
    "\n",
    "# 튜플로 데이터 변환\n",
    "print(tuple(d.items()))\n",
    "print(tuple(d.keys()))\n",
    "print(tuple(d.values()))\n",
    "\n",
    "# set로 데이터 변환\n",
    "print(set(d.items()))\n",
    "print(set(d.keys()))\n",
    "print(set(d.values()))"
   ]
  },
  {
   "cell_type": "markdown",
   "metadata": {},
   "source": [
    "###  없는 키로 조회 또는 세팅할 때 에러가 안 나게 하는 방법 \n",
    "\n",
    "    [ ]로 처리해서 에러가 날 수도 있으므로 get 메소드를 이용"
   ]
  },
  {
   "cell_type": "code",
   "execution_count": 13,
   "metadata": {
    "collapsed": false
   },
   "outputs": [
    {
     "ename": "KeyError",
     "evalue": "'c'",
     "output_type": "error",
     "traceback": [
      "\u001b[0;31m---------------------------------------------------------------------------\u001b[0m",
      "\u001b[0;31mKeyError\u001b[0m                                  Traceback (most recent call last)",
      "\u001b[0;32m<ipython-input-13-614f7fc6c77c>\u001b[0m in \u001b[0;36m<module>\u001b[0;34m()\u001b[0m\n\u001b[1;32m      1\u001b[0m \u001b[0ml\u001b[0m \u001b[1;33m=\u001b[0m \u001b[1;33m[\u001b[0m\u001b[1;33m(\u001b[0m\u001b[1;34m'a'\u001b[0m\u001b[1;33m,\u001b[0m\u001b[1;36m1\u001b[0m\u001b[1;33m)\u001b[0m\u001b[1;33m,\u001b[0m \u001b[1;33m(\u001b[0m\u001b[1;34m'b'\u001b[0m\u001b[1;33m,\u001b[0m\u001b[1;36m2\u001b[0m\u001b[1;33m)\u001b[0m\u001b[1;33m]\u001b[0m\u001b[1;33m\u001b[0m\u001b[0m\n\u001b[1;32m      2\u001b[0m \u001b[0md\u001b[0m \u001b[1;33m=\u001b[0m \u001b[0mdict\u001b[0m\u001b[1;33m(\u001b[0m\u001b[0ml\u001b[0m\u001b[1;33m)\u001b[0m\u001b[1;33m\u001b[0m\u001b[0m\n\u001b[0;32m----> 3\u001b[0;31m \u001b[0mprint\u001b[0m\u001b[1;33m(\u001b[0m\u001b[0md\u001b[0m\u001b[1;33m[\u001b[0m\u001b[1;34m'c'\u001b[0m\u001b[1;33m]\u001b[0m\u001b[1;33m)\u001b[0m\u001b[1;33m\u001b[0m\u001b[0m\n\u001b[0m",
      "\u001b[0;31mKeyError\u001b[0m: 'c'"
     ]
    }
   ],
   "source": [
    "l = [('a',1), ('b',2)]\n",
    "d = dict(l)\n",
    "print(d['c'])"
   ]
  },
  {
   "cell_type": "code",
   "execution_count": 14,
   "metadata": {
    "collapsed": false
   },
   "outputs": [
    {
     "name": "stdout",
     "output_type": "stream",
     "text": [
      "default value\n"
     ]
    }
   ],
   "source": [
    "l = [('a',1), ('b',2)]\n",
    "d = dict(l)\n",
    "\n",
    "# 조회시 indexing으로 읽지 않고 get 메소드로 검색\n",
    "print(d.get(\"c\", \"default value\"))\n"
   ]
  },
  {
   "cell_type": "markdown",
   "metadata": {},
   "source": [
    "###  없는 것을 조회할 수 있어 dict 내부에 세팅하고 조회하기 \n"
   ]
  },
  {
   "cell_type": "code",
   "execution_count": 15,
   "metadata": {
    "collapsed": false
   },
   "outputs": [
    {
     "name": "stdout",
     "output_type": "stream",
     "text": [
      "default value\n",
      "default value\n"
     ]
    }
   ],
   "source": [
    "# 키가 없을 경우 처리\n",
    "l = [('a',1), ('b',2)]\n",
    "d = dict(l)\n",
    "\n",
    "# 조회하고 없으면 세팅하기\n",
    "print(d.setdefault(\"c\", \"default value\"))\n",
    "\n",
    "print(d['c'])"
   ]
  },
  {
   "cell_type": "code",
   "execution_count": 17,
   "metadata": {
    "collapsed": false
   },
   "outputs": [
    {
     "name": "stdout",
     "output_type": "stream",
     "text": [
      "3\n"
     ]
    }
   ],
   "source": [
    "# 키가 있을 경우 \n",
    "\n",
    "l = [('a',1), ('b',2),('c',3)]\n",
    "d = dict(l)\n",
    "\n",
    "# 조회하고 없으면 세팅하기\n",
    "print(d.setdefault(\"c\", \"default value\"))"
   ]
  },
  {
   "cell_type": "markdown",
   "metadata": {},
   "source": [
    "### 특정 key를 가져와서 dict 데이터 타입 생성"
   ]
  },
  {
   "cell_type": "code",
   "execution_count": 16,
   "metadata": {
    "collapsed": false
   },
   "outputs": [
    {
     "name": "stdout",
     "output_type": "stream",
     "text": [
      "Help on built-in function fromkeys:\n",
      "\n",
      "fromkeys(iterable, value=None, /) method of builtins.type instance\n",
      "    Returns a new dict with keys from iterable and values equal to value.\n",
      "\n"
     ]
    }
   ],
   "source": [
    "help(dict.fromkeys)"
   ]
  },
  {
   "cell_type": "code",
   "execution_count": 19,
   "metadata": {
    "collapsed": false
   },
   "outputs": [
    {
     "name": "stdout",
     "output_type": "stream",
     "text": [
      "{1: None, 2: None, 3: None, 4: None}\n"
     ]
    }
   ],
   "source": [
    "l = [1,2,3,4]\n",
    "dl = {}\n",
    "x = dl.fromkeys(l)\n",
    "print(x)"
   ]
  },
  {
   "cell_type": "markdown",
   "metadata": {},
   "source": [
    "###  지능형 dict 생성\n",
    "    \n",
    "     생성할 때 사용 "
   ]
  },
  {
   "cell_type": "code",
   "execution_count": 108,
   "metadata": {
    "collapsed": false
   },
   "outputs": [
    {
     "name": "stdout",
     "output_type": "stream",
     "text": [
      "{0: 0, 1: 1, 2: 2, 3: 3, 4: 4, 5: 5, 6: 6, 7: 7, 8: 8, 9: 9}\n",
      "{10: 10, 11: 11, 12: 12, 13: 13, 14: 14}\n"
     ]
    }
   ],
   "source": [
    "d = { x:x for x in range(0,10)}\n",
    "\n",
    "d1 = {x:x for x in range(10,15)}\n",
    "\n",
    "print(d)\n",
    "print(d1)"
   ]
  },
  {
   "cell_type": "markdown",
   "metadata": {},
   "source": [
    "### 지능형 dict 생성시 필터링 처리 \n"
   ]
  },
  {
   "cell_type": "code",
   "execution_count": 18,
   "metadata": {
    "collapsed": false
   },
   "outputs": [
    {
     "name": "stdout",
     "output_type": "stream",
     "text": [
      "{0: 0, 8: 8, 2: 2, 4: 4, 6: 6}\n",
      "{11: 11, 13: 13}\n"
     ]
    }
   ],
   "source": [
    "# 짝수\n",
    "d = { x:x for x in range(0,10) if x % 2 ==0}\n",
    "\n",
    "# 홀수\n",
    "d1 = {x:x for x in range(10,15) if x % 2 == 1}\n",
    "\n",
    "print(d)\n",
    "print(d1)"
   ]
  },
  {
   "cell_type": "markdown",
   "metadata": {},
   "source": [
    "###  dict에 dict 타입 추가 : update \n"
   ]
  },
  {
   "cell_type": "code",
   "execution_count": 1,
   "metadata": {
    "collapsed": false
   },
   "outputs": [
    {
     "name": "stdout",
     "output_type": "stream",
     "text": [
      "{0: 0, 1: 1, 2: 2, 3: 3, 4: 4, 5: 5, 6: 6, 7: 7, 8: 8, 9: 9, 10: 10, 11: 11, 12: 12, 13: 13, 14: 14}\n"
     ]
    }
   ],
   "source": [
    "d = { x:x for x in range(0,10)}\n",
    "\n",
    "d1 = {x:x for x in range(10,15)}\n",
    "\n",
    "d.update(d1)\n",
    "print(d)"
   ]
  },
  {
   "cell_type": "markdown",
   "metadata": {},
   "source": [
    "### dict 타입 항목 삭제 \n",
    "\n",
    "    dict 타입은 순서가 없으므로 임의의 항목(key/value)를 삭제하고 결과로 삭제된 항목을 리턴\n",
    "    "
   ]
  },
  {
   "cell_type": "code",
   "execution_count": 5,
   "metadata": {
    "collapsed": false
   },
   "outputs": [
    {
     "name": "stdout",
     "output_type": "stream",
     "text": [
      "{0: 0, 1: 1, 2: 2, 3: 3, 4: 4, 5: 5, 6: 6, 7: 7, 8: 8, 9: 9}\n",
      "(0, 0)\n",
      "{1: 1, 2: 2, 3: 3, 4: 4, 5: 5, 6: 6, 7: 7, 8: 8, 9: 9}\n"
     ]
    }
   ],
   "source": [
    "d = { x:x for x in range(0,10)}\n",
    "print(d)\n",
    "c = d.popitem()\n",
    "print(c)\n",
    "print(d)"
   ]
  },
  {
   "cell_type": "code",
   "execution_count": 19,
   "metadata": {
    "collapsed": false
   },
   "outputs": [
    {
     "name": "stdout",
     "output_type": "stream",
     "text": [
      "1\n",
      "{0: 0, 2: 2, 3: 3, 4: 4, 5: 5, 6: 6, 7: 7, 8: 8, 9: 9}\n"
     ]
    }
   ],
   "source": [
    "d = { x:x for x in range(0,10)}\n",
    "# pop 처리시 키 값을 넣어야 함\n",
    "c = d.pop(1)\n",
    "print(c)\n",
    "print(d)"
   ]
  },
  {
   "cell_type": "markdown",
   "metadata": {},
   "source": [
    "### dict 내부 전체 원소 삭제 \n"
   ]
  },
  {
   "cell_type": "code",
   "execution_count": 21,
   "metadata": {
    "collapsed": false
   },
   "outputs": [
    {
     "name": "stdout",
     "output_type": "stream",
     "text": [
      "{0: 0, 1: 1, 2: 2, 3: 3, 4: 4, 5: 5, 6: 6, 7: 7, 8: 8, 9: 9}\n",
      "None\n",
      "{}\n"
     ]
    }
   ],
   "source": [
    "\n",
    "# dict 타입 전체 삭제\n",
    "d = { x:x for x in range(0,10)}\n",
    "print(d)\n",
    "dc = d.clear()\n",
    "print(dc)\n",
    "print(d)"
   ]
  },
  {
   "cell_type": "markdown",
   "metadata": {},
   "source": [
    "# 3. set 처리 하기\n",
    "\n",
    "     집합은 index와 slicing이 불가하므로 집합연산을 내부 값을 조회해서 처리함\n",
    "     "
   ]
  },
  {
   "cell_type": "markdown",
   "metadata": {},
   "source": [
    "## set 타입에 대한 추상화 구조 이해하기 \n",
    "\n",
    "    "
   ]
  },
  {
   "cell_type": "code",
   "execution_count": 17,
   "metadata": {
    "collapsed": false
   },
   "outputs": [
    {
     "name": "stdout",
     "output_type": "stream",
     "text": [
      "True\n",
      "True\n"
     ]
    }
   ],
   "source": [
    "import collections.abc as cols\n",
    "\n",
    "print(issubclass(set,cols.Set))\n",
    "print(issubclass(set,cols.MutableSet))"
   ]
  },
  {
   "cell_type": "markdown",
   "metadata": {
    "collapsed": true
   },
   "source": [
    "### set 생성하기 \n"
   ]
  },
  {
   "cell_type": "code",
   "execution_count": 85,
   "metadata": {
    "collapsed": false
   },
   "outputs": [
    {
     "name": "stdout",
     "output_type": "stream",
     "text": [
      "<class 'set'>\n",
      "<class 'dict'>\n"
     ]
    }
   ],
   "source": [
    "# 빈 set 생성 \n",
    "\n",
    "s = set()\n",
    "d = {}\n",
    "\n",
    "# {}는 dict 타입 처리용\n",
    "# set 일 경우는 반드시 set()으로 빈 set 생성\n",
    "print(type(s))\n",
    "print(type(d))"
   ]
  },
  {
   "cell_type": "code",
   "execution_count": 24,
   "metadata": {
    "collapsed": false
   },
   "outputs": [
    {
     "name": "stdout",
     "output_type": "stream",
     "text": [
      "{'c', 'a', 'b'}\n",
      "{1, 2, 3}\n"
     ]
    }
   ],
   "source": [
    "l = set([1,2,3,'a','b'])\n",
    "s = set(\"abc\")\n",
    "\n",
    "print(s)\n",
    "\n",
    "# 리터럴로 생성 \n",
    "s = {1,2,3,}\n",
    "print(s)"
   ]
  },
  {
   "cell_type": "markdown",
   "metadata": {},
   "source": [
    "### set 기본 연산 처리하기 "
   ]
  },
  {
   "cell_type": "code",
   "execution_count": 35,
   "metadata": {
    "collapsed": false
   },
   "outputs": [
    {
     "name": "stdout",
     "output_type": "stream",
     "text": [
      "{1, 2, 3, 'b', 'a', 'c'}\n",
      "{1, 2, 3, 'b', 'a', 'c'}\n",
      "{'b', 'a'}\n",
      "{'b', 'a'}\n",
      "{1, 2, 3}\n",
      "{1, 2, 3}\n"
     ]
    }
   ],
   "source": [
    "l = set([1,2,3,'a','b'])\n",
    "s = set(\"abc\")\n",
    "\n",
    "#합집합 처리\n",
    "u = l | s\n",
    "print(u)\n",
    "\n",
    "u = l.union(s)\n",
    "print(u)\n",
    "\n",
    "#교집합 처리\n",
    "u = l & s\n",
    "print(u)\n",
    "u = l.intersection(s)\n",
    "print(u)\n",
    "\n",
    "#차집합\n",
    "u = l - s\n",
    "print(u)\n",
    "\n",
    "u = l.difference(s)\n",
    "print(u)\n"
   ]
  },
  {
   "cell_type": "markdown",
   "metadata": {},
   "source": [
    "### set 내부 원소값 조정하기 "
   ]
  },
  {
   "cell_type": "code",
   "execution_count": 46,
   "metadata": {
    "collapsed": false
   },
   "outputs": [
    {
     "name": "stdout",
     "output_type": "stream",
     "text": [
      "{1, 2, 3, 'b', 'a', 'c'}\n",
      "{1, 2, 3, 4, 5, 'b', 'a', 'c'}\n",
      "{2, 3, 4, 5, 'b', 'a', 'c'}\n",
      "{2, 3, 4, 5, 'b', 'a'}\n",
      "{2, 3, 4, 5, 'b'}\n",
      "{2, 3, 4, 5, 'b'}\n"
     ]
    }
   ],
   "source": [
    "s = set([1,2,3,'a','b'])\n",
    "# 원소 추가\n",
    "s.add('c')\n",
    "print(s)\n",
    "\n",
    "# 원소 추가\n",
    "s.update({4,5,})\n",
    "print(s)\n",
    "\n",
    "sp = s.pop()\n",
    "print(s)\n",
    "\n",
    "sp = s.remove('c')\n",
    "print(s)\n",
    "\n",
    "# 삭제할 것을 넣어주면 됨\n",
    "sp = s.discard('a')\n",
    "print(s)\n",
    "\n",
    "# remove는 키가 받느시 있어야 하지만 discard는 없어도 됨\n",
    "sp = s.discard('d')\n",
    "print(s)"
   ]
  },
  {
   "cell_type": "markdown",
   "metadata": {},
   "source": [
    "## 지능형 set \n",
    "\n",
    "    생성할 때 사용"
   ]
  },
  {
   "cell_type": "code",
   "execution_count": 3,
   "metadata": {
    "collapsed": false
   },
   "outputs": [
    {
     "name": "stdout",
     "output_type": "stream",
     "text": [
      "{0, 1, 2, 3, 4, 5, 6, 7, 8, 9}\n",
      "<class 'set'>\n"
     ]
    }
   ],
   "source": [
    "d = { x for x in range(0,10)}\n",
    "print(d)\n",
    "print(type(d))"
   ]
  },
  {
   "cell_type": "code",
   "execution_count": 25,
   "metadata": {
    "collapsed": false
   },
   "outputs": [
    {
     "name": "stdout",
     "output_type": "stream",
     "text": [
      "{0, 1, 2, 3, 4, 5, 6}\n"
     ]
    }
   ],
   "source": [
    "d = { x for x in range(0,10) if x < 7}\n",
    "print(d)"
   ]
  },
  {
   "cell_type": "markdown",
   "metadata": {},
   "source": [
    "# 4. frozenset 이해하기\n",
    "\n",
    "    변경불가능한 집합이므로 메소드를 통해 만들어지는 것은 새로운 객체들이다\n",
    "    \n",
    "    기존 만들어진 객체는 항상 그대로 존재"
   ]
  },
  {
   "cell_type": "markdown",
   "metadata": {},
   "source": [
    "## 추상클래스와 관계 이해하기 \n"
   ]
  },
  {
   "cell_type": "code",
   "execution_count": 19,
   "metadata": {
    "collapsed": false
   },
   "outputs": [
    {
     "name": "stdout",
     "output_type": "stream",
     "text": [
      "True\n",
      "False\n"
     ]
    }
   ],
   "source": [
    "import collections.abc as cols\n",
    "\n",
    "print(issubclass(frozenset,cols.Set))\n",
    "print(issubclass(frozenset,cols.MutableSet))"
   ]
  },
  {
   "cell_type": "markdown",
   "metadata": {},
   "source": [
    "### 생성하기 "
   ]
  },
  {
   "cell_type": "code",
   "execution_count": 88,
   "metadata": {
    "collapsed": false
   },
   "outputs": [
    {
     "name": "stdout",
     "output_type": "stream",
     "text": [
      "frozenset()\n",
      "<class 'frozenset'>\n"
     ]
    }
   ],
   "source": [
    "# 빈 frozenset 생성하기\n",
    "s = frozenset()\n",
    "\n",
    "print(s)\n",
    "print(type(s))"
   ]
  },
  {
   "cell_type": "code",
   "execution_count": 26,
   "metadata": {
    "collapsed": false
   },
   "outputs": [
    {
     "name": "stdout",
     "output_type": "stream",
     "text": [
      "frozenset({1, 3, 4})\n",
      "frozenset({1, 2, 4})\n"
     ]
    }
   ],
   "source": [
    "s = frozenset([1,3,4])\n",
    "l = frozenset([1,2,4])\n",
    "print(s)\n",
    "print(l)\n"
   ]
  },
  {
   "cell_type": "markdown",
   "metadata": {},
   "source": [
    "###  연산 처리 \n",
    "\n",
    "    변경할 수 없으므로 결과값은 항상 새로운 객체를 생성\n",
    "    "
   ]
  },
  {
   "cell_type": "code",
   "execution_count": 27,
   "metadata": {
    "collapsed": false
   },
   "outputs": [
    {
     "name": "stdout",
     "output_type": "stream",
     "text": [
      "frozenset({1, 2, 3, 4})\n",
      "frozenset({1, 4})\n",
      "frozenset({3})\n",
      "frozenset({1, 3, 4})\n",
      "frozenset({1, 2, 4})\n"
     ]
    }
   ],
   "source": [
    "s = frozenset([1,3,4])\n",
    "l = frozenset([1,2,4])\n",
    "\n",
    "u = s.union(l)\n",
    "print(u)\n",
    "u = s.intersection(l)\n",
    "print(u)\n",
    "u = s.difference(l)\n",
    "print(u)\n",
    "\n",
    "# 변경할 수 없으므로 그대로 유지\n",
    "print(s)\n",
    "print(l)"
   ]
  },
  {
   "cell_type": "markdown",
   "metadata": {},
   "source": [
    "# 5. 자료구조 알아보기 \n",
    "\n",
    "    dict 타입을 확장해서 사용하는 구조\n",
    "       - Counter\n",
    "       - OrderedDict\n",
    "       - ChainMap\n",
    "       - defaultdict\n",
    "       \n",
    "    dict 타입을 재정의 사용하는 구조\n",
    "        UserDict\n",
    "    list  타입을 확장해서 사용하는 구조\n",
    "        'deque',\n",
    "    tuple  타입을 확장해서 사용하는 구조\n",
    "        'namedtuple'\n",
    "    "
   ]
  },
  {
   "cell_type": "markdown",
   "metadata": {},
   "source": [
    "## Counter "
   ]
  },
  {
   "cell_type": "markdown",
   "metadata": {},
   "source": [
    "###  Counter와 dict 타입간의 차이나는 메소드"
   ]
  },
  {
   "cell_type": "code",
   "execution_count": 92,
   "metadata": {
    "collapsed": false
   },
   "outputs": [
    {
     "name": "stdout",
     "output_type": "stream",
     "text": [
      "{'__dict__', 'subtract', '_keep_positive', '__and__', '__iadd__', 'most_common', '__missing__', '__ior__', '__neg__', '__module__', '__weakref__', '__pos__', '__or__', '__sub__', '__iand__', '__isub__', '__add__', 'elements'}\n"
     ]
    }
   ],
   "source": [
    "import collections as cols\n",
    "\n",
    "d = set(dir(dict))\n",
    "c = set(dir(cols.Counter))\n",
    "print(c -d)"
   ]
  },
  {
   "cell_type": "markdown",
   "metadata": {},
   "source": [
    "###  Counter 계산하기"
   ]
  },
  {
   "cell_type": "code",
   "execution_count": 106,
   "metadata": {
    "collapsed": false
   },
   "outputs": [
    {
     "name": "stdout",
     "output_type": "stream",
     "text": [
      "Counter({1: -5})\n",
      "Counter({1: 5})\n",
      "Counter({1: 5})\n"
     ]
    }
   ],
   "source": [
    "import collections as cols\n",
    "b = cols.Counter()\n",
    "a = cols.Counter({1:-5})\n",
    "print(a)\n",
    "\n",
    "# 음수부호는 빈Counter와 뺄셈을 하므로 부호가 바뀜\n",
    "print(-a)\n",
    "print(b-a)"
   ]
  },
  {
   "cell_type": "markdown",
   "metadata": {},
   "source": [
    "### counter 메소드"
   ]
  },
  {
   "cell_type": "code",
   "execution_count": 98,
   "metadata": {
    "collapsed": false
   },
   "outputs": [
    {
     "name": "stdout",
     "output_type": "stream",
     "text": [
      "Counter({2: 2, 3: 2, 4: 2, 7: 2, 8: 2, 9: 2, 1: 1, 5: 1})\n",
      "Counter({2: 2, 3: 2, 4: 2, 1: 1, 5: 1})\n",
      "12233445778899\n",
      "[(2, 2), (3, 2)]\n",
      "Counter({7: 2, 8: 2, 9: 2, 1: 0, 2: 0, 3: 0, 4: 0, 5: 0})\n"
     ]
    }
   ],
   "source": [
    "import collections as cols\n",
    "\n",
    "l = [1,2,3,4,2,3,4,5]\n",
    "l1 = [1,2,3,4,2,3,4,5,7,7,8,8,9,9,]\n",
    "\n",
    "a = cols.Counter(l1)\n",
    "print(a)\n",
    "b = cols.Counter(l)\n",
    "print(b)\n",
    "\n",
    "# 객체 내의 구성된 전체 원소를 나열하기\n",
    "for i in a.elements():\n",
    "    print(i,end=\"\")\n",
    "print()\n",
    "\n",
    "#가장 많은 갯수가 나오는 부분을 추출\n",
    "print(a.most_common(2))\n",
    "\n",
    "# 카운터 계산하기\n",
    "a.subtract(b)\n",
    "print(a)\n"
   ]
  },
  {
   "cell_type": "markdown",
   "metadata": {},
   "source": [
    "## 순서별로 dict 타입 관리하기 : OrderedDict"
   ]
  },
  {
   "cell_type": "markdown",
   "metadata": {},
   "source": [
    "### dict 타입 메소드 비교 하기\n"
   ]
  },
  {
   "cell_type": "code",
   "execution_count": 99,
   "metadata": {
    "collapsed": false
   },
   "outputs": [
    {
     "name": "stdout",
     "output_type": "stream",
     "text": [
      "{'__reversed__', 'move_to_end', '__dict__'}\n"
     ]
    }
   ],
   "source": [
    "import collections as cols\n",
    "\n",
    "d = set(dir(dict))\n",
    "c = set(dir(cols.OrderedDict))\n",
    "print(c -d)"
   ]
  },
  {
   "cell_type": "markdown",
   "metadata": {},
   "source": [
    "### 메소드 실행\n"
   ]
  },
  {
   "cell_type": "code",
   "execution_count": 73,
   "metadata": {
    "collapsed": false
   },
   "outputs": [
    {
     "name": "stdout",
     "output_type": "stream",
     "text": [
      "OrderedDict([(1, 1), (2, 2)])\n",
      "OrderedDict([(2, 2), (1, 1)])\n"
     ]
    }
   ],
   "source": [
    "import collections as cols\n",
    "\n",
    "a = cols.OrderedDict()\n",
    "\n",
    "a[1] = 1\n",
    "a[2] = 2\n",
    "\n",
    "print(a)\n",
    "\n",
    "# 순서별로 정해진 dict 내부의 원소를 제일 뒤로 이동하기\n",
    "a.move_to_end(a[1])\n",
    "print(a)"
   ]
  },
  {
   "cell_type": "markdown",
   "metadata": {},
   "source": [
    "## dict 을 결합해서 사용하기 : ChainMap\n",
    "\n",
    "    dict 타입이 있을 경우 단순히 결합해서 처리"
   ]
  },
  {
   "cell_type": "markdown",
   "metadata": {},
   "source": [
    "### dict 타입 메소드 비교하기 \n"
   ]
  },
  {
   "cell_type": "code",
   "execution_count": 100,
   "metadata": {
    "collapsed": false
   },
   "outputs": [
    {
     "name": "stdout",
     "output_type": "stream",
     "text": [
      "{'__dict__', 'parents', '_abc_negative_cache', '_MutableMapping__marker', '__abstractmethods__', '_abc_registry', '__missing__', '_abc_negative_cache_version', '__module__', '__weakref__', 'new_child', '__bool__', '__copy__', '__slots__', '_abc_cache'}\n"
     ]
    }
   ],
   "source": [
    "import collections as cols\n",
    "\n",
    "d = set(dir(dict))\n",
    "c = set(dir(cols.ChainMap))\n",
    "print(c -d)"
   ]
  },
  {
   "cell_type": "markdown",
   "metadata": {},
   "source": [
    "### 메소드 실행 \n"
   ]
  },
  {
   "cell_type": "code",
   "execution_count": 85,
   "metadata": {
    "collapsed": false
   },
   "outputs": [
    {
     "name": "stdout",
     "output_type": "stream",
     "text": [
      "ChainMap({1: 1, 2: 2}, {1: 1, 2: 2, 3: 3})\n",
      "[{1: 1, 2: 2}, {1: 1, 2: 2, 3: 3}]\n",
      "ChainMap({}, {1: 1, 2: 2}, {1: 1, 2: 2, 3: 3})\n",
      "ChainMap({1: 1, 2: 2}, {1: 1, 2: 2, 3: 3})\n"
     ]
    }
   ],
   "source": [
    "import collections as cols\n",
    "\n",
    "d1 = {1:1, 2:2}\n",
    "d2 = {1:1, 2:2, 3:3}\n",
    "\n",
    "a = cols.ChainMap(d1,d2)\n",
    "print(a)\n",
    "\n",
    "# 내부에 저장된 값들을 리스트로 조회\n",
    "print(a.maps)\n",
    "\n",
    "# 새로운 자식 dict을 생성\n",
    "b = a.new_child()\n",
    "print(b)\n",
    "\n",
    "# 부모에 대해 정의\n",
    "print(b.parents)\n"
   ]
  },
  {
   "cell_type": "markdown",
   "metadata": {},
   "source": [
    "## default 값을 가지는 dict 을 사용하기 : defaultdict\n",
    "\n",
    "      key 미존재시 에러처리 없이 처리하도록 구성"
   ]
  },
  {
   "cell_type": "markdown",
   "metadata": {},
   "source": [
    "### dict 타입과 메소드 차이 \n"
   ]
  },
  {
   "cell_type": "code",
   "execution_count": 101,
   "metadata": {
    "collapsed": false
   },
   "outputs": [
    {
     "name": "stdout",
     "output_type": "stream",
     "text": [
      "{'__copy__', '__missing__', 'default_factory'}\n"
     ]
    }
   ],
   "source": [
    "import collections as cols\n",
    "\n",
    "d = set(dir(dict))\n",
    "c = set(dir(cols.defaultdict))\n",
    "print(c -d)"
   ]
  },
  {
   "cell_type": "markdown",
   "metadata": {},
   "source": [
    "### 속성 확인 \n"
   ]
  },
  {
   "cell_type": "code",
   "execution_count": 90,
   "metadata": {
    "collapsed": false
   },
   "outputs": [
    {
     "name": "stdout",
     "output_type": "stream",
     "text": [
      "defaultdict(<class 'int'>, {'spam': 1})\n",
      "<class 'int'>\n"
     ]
    }
   ],
   "source": [
    "import collections as cols\n",
    "\n",
    "a = cols.defaultdict(int)\n",
    "\n",
    "a['spam'] = 1\n",
    "print(a)\n",
    "\n",
    "# 초기값을 생성시키는 callable를 보관하는 곳\n",
    "print(a.default_factory)"
   ]
  },
  {
   "cell_type": "markdown",
   "metadata": {
    "collapsed": true
   },
   "source": [
    "##  튜플에 명칭 붙이기 :  namedtuple "
   ]
  },
  {
   "cell_type": "code",
   "execution_count": 5,
   "metadata": {
    "collapsed": false
   },
   "outputs": [
    {
     "name": "stdout",
     "output_type": "stream",
     "text": [
      "A(name='dahl', age=30)\n",
      "dahl\n",
      "30\n"
     ]
    }
   ],
   "source": [
    "import collections as cols\n",
    "\n",
    "A = cols.namedtuple(\"A\", \" name age \")\n",
    "\n",
    "a = A(\"dahl\",30)\n",
    "print(a)\n",
    "\n",
    "print(a.name)\n",
    "print(a.age)"
   ]
  },
  {
   "cell_type": "markdown",
   "metadata": {},
   "source": [
    "# 6. 추상화  클래스 사용하기"
   ]
  },
  {
   "cell_type": "markdown",
   "metadata": {
    "collapsed": true
   },
   "source": [
    "###   UserDict 추상 클래스 사용하기 \n",
    "\n",
    "    추상클래스는 반드시 상속해서 사용해야 함\n",
    "    \n",
    "    UserDict는 내부 \"실제\"사전을 저장소로 사용하는 MutableMapping의 구현입니다. \n",
    "    \n",
    "    dict-like 스토리지 콜렉션을 원하지만 dict에 의해 노출 된 일부 메소드를 대체할 경우 사용 \n",
    "    \n"
   ]
  },
  {
   "cell_type": "code",
   "execution_count": 21,
   "metadata": {
    "collapsed": false
   },
   "outputs": [
    {
     "ename": "AttributeError",
     "evalue": "module 'collections.abc' has no attribute 'UserDict'",
     "output_type": "error",
     "traceback": [
      "\u001b[0;31m---------------------------------------------------------------------------\u001b[0m",
      "\u001b[0;31mAttributeError\u001b[0m                            Traceback (most recent call last)",
      "\u001b[0;32m<ipython-input-21-91a158a9bdd4>\u001b[0m in \u001b[0;36m<module>\u001b[0;34m()\u001b[0m\n\u001b[1;32m      1\u001b[0m \u001b[1;32mimport\u001b[0m \u001b[0mcollections\u001b[0m\u001b[1;33m.\u001b[0m\u001b[0mabc\u001b[0m \u001b[1;32mas\u001b[0m \u001b[0mcols\u001b[0m\u001b[1;33m\u001b[0m\u001b[0m\n\u001b[1;32m      2\u001b[0m \u001b[1;33m\u001b[0m\u001b[0m\n\u001b[0;32m----> 3\u001b[0;31m \u001b[0mprint\u001b[0m\u001b[1;33m(\u001b[0m\u001b[0mtype\u001b[0m\u001b[1;33m(\u001b[0m\u001b[0mcols\u001b[0m\u001b[1;33m.\u001b[0m\u001b[0mUserDict\u001b[0m\u001b[1;33m)\u001b[0m\u001b[1;33m)\u001b[0m\u001b[1;33m\u001b[0m\u001b[0m\n\u001b[0m",
      "\u001b[0;31mAttributeError\u001b[0m: module 'collections.abc' has no attribute 'UserDict'"
     ]
    }
   ],
   "source": [
    "import collections as cols\n",
    "\n",
    "print(type(cols.UserDict))"
   ]
  },
  {
   "cell_type": "code",
   "execution_count": 23,
   "metadata": {
    "collapsed": false
   },
   "outputs": [
    {
     "name": "stdout",
     "output_type": "stream",
     "text": [
      "{1: 2, 2: 3}\n",
      "<class '__main__.A'>\n",
      "False\n"
     ]
    }
   ],
   "source": [
    "import collections as cols\n",
    "\n",
    "class A(cols.UserDict) :\n",
    "    pass\n",
    "\n",
    "a = A({1:2,2:3})\n",
    "print(a)\n",
    "print(type(a))\n",
    "\n",
    "# subclass는 아님\n",
    "print(issubclass(A, dict))"
   ]
  },
  {
   "cell_type": "code",
   "execution_count": 40,
   "metadata": {
    "collapsed": false
   },
   "outputs": [
    {
     "name": "stdout",
     "output_type": "stream",
     "text": [
      "a b\n",
      "{'a': 'b'}\n",
      "a c\n",
      "None\n",
      "{'a': 'c'}\n"
     ]
    }
   ],
   "source": [
    "import collections as cols\n",
    "\n",
    "class MyDict(cols.UserDict):\n",
    "    def __setitem__(self, key, value):\n",
    "        print(key, value) # just an example\n",
    "        #  무한순환 처리가 안되도록 self[]로 직접 접근처리하지 않아야 함\n",
    "        super(MyDict, self).__setitem__(key, value)\n",
    "\n",
    "m = MyDict()\n",
    "\n",
    "m['a'] = 'b'\n",
    "print(m)\n",
    "# a b\n",
    "print(m.update({'a': 'c'}))\n",
    "print(m)"
   ]
  },
  {
   "cell_type": "markdown",
   "metadata": {},
   "source": [
    "### dict 상속을 받어 처리 \n",
    "\n",
    "    권고사항이 아님 \n",
    "    "
   ]
  },
  {
   "cell_type": "code",
   "execution_count": 2,
   "metadata": {
    "collapsed": false
   },
   "outputs": [
    {
     "name": "stdout",
     "output_type": "stream",
     "text": [
      "a b\n",
      "{'a': 'b'}\n",
      "None\n",
      "{'a': 'c'}\n"
     ]
    }
   ],
   "source": [
    "import collections as cols\n",
    "class MyDict(dict):\n",
    "    def __setitem__(self, key, value):\n",
    "        print(key, value) # just an example\n",
    "        #  무한순환 처리가 안되도록 self[]로 직접 접근처리하지 않아야 함\n",
    "        dict.__setitem__(self, key, value) \n",
    "\n",
    "m = MyDict()\n",
    "\n",
    "m['a'] = 'b'\n",
    "print(m)\n",
    "# a b\n",
    "print(m.update({'a': 'c'}))\n",
    "print(m)"
   ]
  },
  {
   "cell_type": "markdown",
   "metadata": {},
   "source": [
    "# 7.  내장 데이터 타입 알아보기 \n",
    "\n",
    "    types 모듈은 엔진 내부의 데이터 타입을 알려줌\n"
   ]
  },
  {
   "cell_type": "markdown",
   "metadata": {},
   "source": [
    "## 타입모듈 보기"
   ]
  },
  {
   "cell_type": "code",
   "execution_count": 27,
   "metadata": {
    "collapsed": false
   },
   "outputs": [
    {
     "name": "stdout",
     "output_type": "stream",
     "text": [
      "<class 'code'>\n",
      "<class 'mappingproxy'>\n"
     ]
    }
   ],
   "source": [
    "import types\n",
    "print(types.CodeType)\n",
    "print(types.MappingProxyType)"
   ]
  },
  {
   "cell_type": "markdown",
   "metadata": {},
   "source": [
    "## 내장 데이터 타입의 namespce 속성관리 영역의 데이터 타입\n"
   ]
  },
  {
   "cell_type": "code",
   "execution_count": 37,
   "metadata": {
    "collapsed": false
   },
   "outputs": [
    {
     "name": "stdout",
     "output_type": "stream",
     "text": [
      "True\n",
      "True\n",
      "True\n"
     ]
    }
   ],
   "source": [
    "import types\n",
    "\n",
    "print(type(dict.__dict__) ==  types.MappingProxyType)\n",
    "print(type(list.__dict__) ==  types.MappingProxyType)\n",
    "print(type(tuple.__dict__) ==  types.MappingProxyType)"
   ]
  },
  {
   "cell_type": "markdown",
   "metadata": {},
   "source": [
    "###  pprint로 출력하면 mappingproxy 가 보임"
   ]
  },
  {
   "cell_type": "code",
   "execution_count": 34,
   "metadata": {
    "collapsed": false
   },
   "outputs": [
    {
     "name": "stdout",
     "output_type": "stream",
     "text": [
      "mappingproxy({'__contains__': <method '__contains__' of 'dict' objects>,\n",
      "              '__delitem__': <slot wrapper '__delitem__' of 'dict' objects>,\n",
      "              '__doc__': 'dict() -> new empty dictionary\\n'\n",
      "                         'dict(mapping) -> new dictionary initialized from a '\n",
      "                         \"mapping object's\\n\"\n",
      "                         '    (key, value) pairs\\n'\n",
      "                         'dict(iterable) -> new dictionary initialized as if '\n",
      "                         'via:\\n'\n",
      "                         '    d = {}\\n'\n",
      "                         '    for k, v in iterable:\\n'\n",
      "                         '        d[k] = v\\n'\n",
      "                         'dict(**kwargs) -> new dictionary initialized with '\n",
      "                         'the name=value pairs\\n'\n",
      "                         '    in the keyword argument list.  For example:  '\n",
      "                         'dict(one=1, two=2)',\n",
      "              '__eq__': <slot wrapper '__eq__' of 'dict' objects>,\n",
      "              '__ge__': <slot wrapper '__ge__' of 'dict' objects>,\n",
      "              '__getattribute__': <slot wrapper '__getattribute__' of 'dict' objects>,\n",
      "              '__getitem__': <method '__getitem__' of 'dict' objects>,\n",
      "              '__gt__': <slot wrapper '__gt__' of 'dict' objects>,\n",
      "              '__hash__': None,\n",
      "              '__init__': <slot wrapper '__init__' of 'dict' objects>,\n",
      "              '__iter__': <slot wrapper '__iter__' of 'dict' objects>,\n",
      "              '__le__': <slot wrapper '__le__' of 'dict' objects>,\n",
      "              '__len__': <slot wrapper '__len__' of 'dict' objects>,\n",
      "              '__lt__': <slot wrapper '__lt__' of 'dict' objects>,\n",
      "              '__ne__': <slot wrapper '__ne__' of 'dict' objects>,\n",
      "              '__new__': <built-in method __new__ of type object at 0x00000000773CA560>,\n",
      "              '__repr__': <slot wrapper '__repr__' of 'dict' objects>,\n",
      "              '__setitem__': <slot wrapper '__setitem__' of 'dict' objects>,\n",
      "              '__sizeof__': <method '__sizeof__' of 'dict' objects>,\n",
      "              'clear': <method 'clear' of 'dict' objects>,\n",
      "              'copy': <method 'copy' of 'dict' objects>,\n",
      "              'fromkeys': <method 'fromkeys' of 'dict' objects>,\n",
      "              'get': <method 'get' of 'dict' objects>,\n",
      "              'items': <method 'items' of 'dict' objects>,\n",
      "              'keys': <method 'keys' of 'dict' objects>,\n",
      "              'pop': <method 'pop' of 'dict' objects>,\n",
      "              'popitem': <method 'popitem' of 'dict' objects>,\n",
      "              'setdefault': <method 'setdefault' of 'dict' objects>,\n",
      "              'update': <method 'update' of 'dict' objects>,\n",
      "              'values': <method 'values' of 'dict' objects>})\n"
     ]
    }
   ],
   "source": [
    "import pprint\n",
    "\n",
    "pprint.pprint(dict.__dict__)"
   ]
  },
  {
   "cell_type": "markdown",
   "metadata": {},
   "source": [
    "### dict 타입 내부 메소드 타입 "
   ]
  },
  {
   "cell_type": "code",
   "execution_count": 49,
   "metadata": {
    "collapsed": false
   },
   "outputs": [
    {
     "name": "stdout",
     "output_type": "stream",
     "text": [
      "<class 'builtin_function_or_method'>\n",
      "True\n"
     ]
    }
   ],
   "source": [
    "import types\n",
    "\n",
    "d = dict()\n",
    "print(type(d.pop))\n",
    "print(type(d.pop) ==  types.BuiltinMethodType)\n"
   ]
  },
  {
   "cell_type": "markdown",
   "metadata": {},
   "source": [
    "## class 내부 멤버 타입 체크\n"
   ]
  },
  {
   "cell_type": "code",
   "execution_count": 54,
   "metadata": {
    "collapsed": false
   },
   "outputs": [
    {
     "name": "stdout",
     "output_type": "stream",
     "text": [
      "<class 'function'>\n",
      "True\n",
      "<class 'method'>\n",
      "True\n"
     ]
    }
   ],
   "source": [
    "class A :\n",
    "    def getA(self) :\n",
    "        pass\n",
    "    \n",
    "print(type(A.getA))\n",
    "print(type(A.getA) == types.FunctionType)\n",
    "a = A()\n",
    "print(type(a.getA))\n",
    "print(type(a.getA) == types.MethodType)"
   ]
  },
  {
   "cell_type": "markdown",
   "metadata": {},
   "source": [
    "## 람다 함수 타입\n"
   ]
  },
  {
   "cell_type": "code",
   "execution_count": 57,
   "metadata": {
    "collapsed": false
   },
   "outputs": [
    {
     "name": "stdout",
     "output_type": "stream",
     "text": [
      "<class 'function'>\n",
      "True\n"
     ]
    }
   ],
   "source": [
    "l = lambda x : x\n",
    "\n",
    "print(type(l))\n",
    "print(type(l) == types.LambdaType)"
   ]
  },
  {
   "cell_type": "code",
   "execution_count": null,
   "metadata": {
    "collapsed": true
   },
   "outputs": [],
   "source": []
  }
 ],
 "metadata": {
  "anaconda-cloud": {},
  "kernelspec": {
   "display_name": "Python [conda root]",
   "language": "python",
   "name": "conda-root-py"
  },
  "language_info": {
   "codemirror_mode": {
    "name": "ipython",
    "version": 3
   },
   "file_extension": ".py",
   "mimetype": "text/x-python",
   "name": "python",
   "nbconvert_exporter": "python",
   "pygments_lexer": "ipython3",
   "version": "3.5.2"
  }
 },
 "nbformat": 4,
 "nbformat_minor": 1
}
