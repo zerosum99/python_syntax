{
 "cells": [
  {
   "cell_type": "markdown",
   "metadata": {},
   "source": [
    "# 1. 반복형과 반복자 처리 확인 \n"
   ]
  },
  {
   "cell_type": "markdown",
   "metadata": {},
   "source": [
    "### iterable과 iterator protocol \n",
    "\n",
    "    실제 사용자 구현시 아래의 스페셜 메소드를 오버라이딩하면 iterable/iterator 타입으로 처리가 가능\n",
    "\n",
    "    iterable : __iter__\n",
    "    \n",
    "    iterator : __iter__, __next__"
   ]
  },
  {
   "cell_type": "markdown",
   "metadata": {},
   "source": [
    "## iterable과 iterator 추상화 클래스\n",
    "\n",
    "    이 추상화 클래스를 상속받아 iterable/iterator 타입에 해당하는 메소드를 오버라이딩 구현하면 됨\n",
    "    \n",
    "    iterable : __iter__\n",
    "    \n",
    "    iterator : __iter__, __next__\n",
    "    "
   ]
  },
  {
   "cell_type": "code",
   "execution_count": 45,
   "metadata": {
    "collapsed": false
   },
   "outputs": [
    {
     "name": "stdout",
     "output_type": "stream",
     "text": [
      "{'__next__'}\n"
     ]
    }
   ],
   "source": [
    "## 타입을 체크하는 추상화 클래스\n",
    "\n",
    "import collections.abc as cols \n",
    "\n",
    "a = set(dir(cols.Iterable))\n",
    "b = set(dir(cols.Iterator)) \n",
    "print(b-a)"
   ]
  },
  {
   "cell_type": "markdown",
   "metadata": {},
   "source": [
    "###  내장 데이터 타입 확인\n",
    "    \n",
    "    내장 데이터 타입은 iterable이지만 iterator는 아님 "
   ]
  },
  {
   "cell_type": "code",
   "execution_count": 25,
   "metadata": {
    "collapsed": false
   },
   "outputs": [
    {
     "name": "stdout",
     "output_type": "stream",
     "text": [
      "True\n",
      "False\n",
      "True\n",
      "False\n",
      "True\n",
      "False\n",
      "True\n",
      "False\n",
      "True\n",
      "False\n",
      "True\n",
      "False\n"
     ]
    }
   ],
   "source": [
    "import collections.abc as cols \n",
    "\n",
    "print(issubclass(str,cols.Iterable))\n",
    "print(issubclass(str,cols.Iterator))\n",
    "\n",
    "print(issubclass(list,cols.Iterable))\n",
    "print(issubclass(list,cols.Iterator))\n",
    "\n",
    "print(issubclass(tuple,cols.Iterable))\n",
    "print(issubclass(tuple,cols.Iterator))\n",
    "\n",
    "print(issubclass(dict,cols.Iterable))\n",
    "print(issubclass(dict,cols.Iterator))\n",
    "\n",
    "print(issubclass(bytes,cols.Iterable))\n",
    "print(issubclass(bytes,cols.Iterator))\n",
    "\n",
    "print(issubclass(bytearray,cols.Iterable))\n",
    "print(issubclass(bytearray,cols.Iterator))"
   ]
  },
  {
   "cell_type": "markdown",
   "metadata": {},
   "source": [
    "## 파이썬 for 문이 iterable 처리 \n",
    "\n",
    "    file은  반복형이면서 반복자로 처리 됨\n",
    "    \n",
    "    파이썬 for 문은 iterable, iterator를 받아 연속처리를 하도록 구성\n",
    "    \n",
    "    사용자 정의시 연속성 있는 부분을 __iter__로 지정하면 for문에서 연속작업이 가능\n",
    "    "
   ]
  },
  {
   "cell_type": "code",
   "execution_count": 27,
   "metadata": {
    "collapsed": false
   },
   "outputs": [
    {
     "name": "stdout",
     "output_type": "stream",
     "text": [
      "<class '_io.TextIOWrapper'>\n",
      "True\n",
      "True\n",
      "Hello World \n",
      "\n"
     ]
    }
   ],
   "source": [
    "f = open(\"data.txt\",\"r\")\n",
    "\n",
    "print(type(f))\n",
    "\n",
    "print(issubclass(type(f),cols.Iterable))\n",
    "print(issubclass(type(f),cols.Iterator))\n",
    "\n",
    "for i in f :\n",
    "    print(i)"
   ]
  },
  {
   "cell_type": "markdown",
   "metadata": {},
   "source": [
    "# 2. 제너레이터   \n",
    "\n",
    "    제너레이터도 반복형이면서 반복자이다.\n",
    "    \n",
    "    함수로 제너레이터를 정의시 수행될 만큼의 계산이 필요한 경우 순환문(for, while 문) 내에 yield를 넣어야 함\n",
    "    "
   ]
  },
  {
   "cell_type": "markdown",
   "metadata": {},
   "source": [
    "### 제너레이터 함수 정의"
   ]
  },
  {
   "cell_type": "code",
   "execution_count": 1,
   "metadata": {
    "collapsed": false
   },
   "outputs": [],
   "source": [
    "def foo():\n",
    "    print(\"begin\")   \n",
    "    # for 문 내부만 호출시 반복적으로 사용됨 \n",
    "    for i in range(3):\n",
    "        print(\"before yield\", i)\n",
    "        yield i\n",
    "        print(\"after yield\", i)\n",
    "    print(\"end\") "
   ]
  },
  {
   "cell_type": "code",
   "execution_count": 2,
   "metadata": {
    "collapsed": false
   },
   "outputs": [
    {
     "name": "stdout",
     "output_type": "stream",
     "text": [
      "begin\n",
      "before yield 0\n",
      "0\n",
      "after yield 0\n",
      "before yield 1\n",
      "1\n",
      "after yield 1\n",
      "before yield 2\n",
      "2\n",
      "after yield 2\n",
      "end\n"
     ]
    },
    {
     "ename": "StopIteration",
     "evalue": "",
     "output_type": "error",
     "traceback": [
      "\u001b[0;31m---------------------------------------------------------------------------\u001b[0m",
      "\u001b[0;31mStopIteration\u001b[0m                             Traceback (most recent call last)",
      "\u001b[0;32m<ipython-input-2-8d60c61da91a>\u001b[0m in \u001b[0;36m<module>\u001b[0;34m()\u001b[0m\n\u001b[1;32m      4\u001b[0m \u001b[0mprint\u001b[0m\u001b[1;33m(\u001b[0m\u001b[0mnext\u001b[0m\u001b[1;33m(\u001b[0m\u001b[0mf\u001b[0m\u001b[1;33m)\u001b[0m\u001b[1;33m)\u001b[0m\u001b[1;33m\u001b[0m\u001b[0m\n\u001b[1;32m      5\u001b[0m \u001b[0mprint\u001b[0m\u001b[1;33m(\u001b[0m\u001b[0mnext\u001b[0m\u001b[1;33m(\u001b[0m\u001b[0mf\u001b[0m\u001b[1;33m)\u001b[0m\u001b[1;33m)\u001b[0m\u001b[1;33m\u001b[0m\u001b[0m\n\u001b[0;32m----> 6\u001b[0;31m \u001b[0mprint\u001b[0m\u001b[1;33m(\u001b[0m\u001b[0mnext\u001b[0m\u001b[1;33m(\u001b[0m\u001b[0mf\u001b[0m\u001b[1;33m)\u001b[0m\u001b[1;33m)\u001b[0m\u001b[1;33m\u001b[0m\u001b[0m\n\u001b[0m",
      "\u001b[0;31mStopIteration\u001b[0m: "
     ]
    }
   ],
   "source": [
    "\n",
    "f = foo() \n",
    "print(next(f))\n",
    "print(next(f))\n",
    "print(next(f))\n",
    "print(next(f))"
   ]
  },
  {
   "cell_type": "markdown",
   "metadata": {},
   "source": [
    "## 제너레이터 추상화 구조 \n",
    "\n",
    "    generator는 iterator를 상속하고, iterator는 iterable을 상속함 \n",
    "    "
   ]
  },
  {
   "cell_type": "code",
   "execution_count": 4,
   "metadata": {
    "collapsed": false
   },
   "outputs": [
    {
     "name": "stdout",
     "output_type": "stream",
     "text": [
      "(<class 'collections.abc.Iterator'>,)\n",
      "(<class 'collections.abc.Iterable'>,)\n",
      "(<class 'object'>,)\n"
     ]
    }
   ],
   "source": [
    "import collections.abc as cols\n",
    "\n",
    "print(cols.Generator.__bases__)\n",
    "print(cols.Iterator.__bases__)\n",
    "print(cols.Iterable.__bases__)"
   ]
  },
  {
   "cell_type": "code",
   "execution_count": 5,
   "metadata": {
    "collapsed": false
   },
   "outputs": [
    {
     "name": "stdout",
     "output_type": "stream",
     "text": [
      "<class 'generator'>\n",
      "True\n",
      "True\n",
      "True\n",
      "0\n",
      "1\n",
      "2\n",
      "3\n",
      "4\n"
     ]
    },
    {
     "ename": "StopIteration",
     "evalue": "",
     "output_type": "error",
     "traceback": [
      "\u001b[0;31m---------------------------------------------------------------------------\u001b[0m",
      "\u001b[0;31mStopIteration\u001b[0m                             Traceback (most recent call last)",
      "\u001b[0;32m<ipython-input-5-fc7c7c87e974>\u001b[0m in \u001b[0;36m<module>\u001b[0;34m()\u001b[0m\n\u001b[1;32m     18\u001b[0m \u001b[0mprint\u001b[0m\u001b[1;33m(\u001b[0m\u001b[0mnext\u001b[0m\u001b[1;33m(\u001b[0m\u001b[0mgf\u001b[0m\u001b[1;33m)\u001b[0m\u001b[1;33m)\u001b[0m\u001b[1;33m\u001b[0m\u001b[0m\n\u001b[1;32m     19\u001b[0m \u001b[0mprint\u001b[0m\u001b[1;33m(\u001b[0m\u001b[0mnext\u001b[0m\u001b[1;33m(\u001b[0m\u001b[0mgf\u001b[0m\u001b[1;33m)\u001b[0m\u001b[1;33m)\u001b[0m\u001b[1;33m\u001b[0m\u001b[0m\n\u001b[0;32m---> 20\u001b[0;31m \u001b[0mprint\u001b[0m\u001b[1;33m(\u001b[0m\u001b[0mnext\u001b[0m\u001b[1;33m(\u001b[0m\u001b[0mgf\u001b[0m\u001b[1;33m)\u001b[0m\u001b[1;33m)\u001b[0m\u001b[1;33m\u001b[0m\u001b[0m\n\u001b[0m",
      "\u001b[0;31mStopIteration\u001b[0m: "
     ]
    }
   ],
   "source": [
    "# 제너레이터 : 함수 표현\n",
    "def gen(n) :\n",
    "    \n",
    "    for i in range(0,n) :\n",
    "        yield i\n",
    "    \n",
    "    \n",
    "gf = gen(5)\n",
    "print(type(gf))\n",
    "\n",
    "print(issubclass(type(gf),cols.Iterable))\n",
    "print(issubclass(type(gf),cols.Iterator))\n",
    "print(issubclass(type(gf),cols.Generator))\n",
    "\n",
    "print(next(gf))\n",
    "print(next(gf))\n",
    "print(next(gf))\n",
    "print(next(gf))\n",
    "print(next(gf))\n",
    "print(next(gf))"
   ]
  },
  {
   "cell_type": "markdown",
   "metadata": {},
   "source": [
    "### 제너레이터 표현식 정의 "
   ]
  },
  {
   "cell_type": "code",
   "execution_count": 35,
   "metadata": {
    "collapsed": false
   },
   "outputs": [
    {
     "name": "stdout",
     "output_type": "stream",
     "text": [
      "<class 'generator'>\n",
      "True\n",
      "True\n",
      "0\n",
      "1\n",
      "2\n",
      "3\n",
      "4\n"
     ]
    },
    {
     "ename": "StopIteration",
     "evalue": "",
     "output_type": "error",
     "traceback": [
      "\u001b[0;31m---------------------------------------------------------------------------\u001b[0m",
      "\u001b[0;31mStopIteration\u001b[0m                             Traceback (most recent call last)",
      "\u001b[0;32m<ipython-input-35-23d37f8edcd7>\u001b[0m in \u001b[0;36m<module>\u001b[0;34m()\u001b[0m\n\u001b[1;32m     13\u001b[0m \u001b[0mprint\u001b[0m\u001b[1;33m(\u001b[0m\u001b[0mnext\u001b[0m\u001b[1;33m(\u001b[0m\u001b[0mge\u001b[0m\u001b[1;33m)\u001b[0m\u001b[1;33m)\u001b[0m\u001b[1;33m\u001b[0m\u001b[0m\n\u001b[1;32m     14\u001b[0m \u001b[0mprint\u001b[0m\u001b[1;33m(\u001b[0m\u001b[0mnext\u001b[0m\u001b[1;33m(\u001b[0m\u001b[0mge\u001b[0m\u001b[1;33m)\u001b[0m\u001b[1;33m)\u001b[0m\u001b[1;33m\u001b[0m\u001b[0m\n\u001b[0;32m---> 15\u001b[0;31m \u001b[0mprint\u001b[0m\u001b[1;33m(\u001b[0m\u001b[0mnext\u001b[0m\u001b[1;33m(\u001b[0m\u001b[0mge\u001b[0m\u001b[1;33m)\u001b[0m\u001b[1;33m)\u001b[0m\u001b[1;33m\u001b[0m\u001b[0m\n\u001b[0m",
      "\u001b[0;31mStopIteration\u001b[0m: "
     ]
    }
   ],
   "source": [
    "# 제너레이터 표현식\n",
    "\n",
    "ge = (n for n in range(5))\n",
    "\n",
    "print(type(ge))\n",
    "\n",
    "print(issubclass(type(ge),cols.Iterable))\n",
    "print(issubclass(type(ge),cols.Iterator))\n",
    "\n",
    "print(next(ge))\n",
    "print(next(ge))\n",
    "print(next(ge))\n",
    "print(next(ge))\n",
    "print(next(ge))\n",
    "print(next(ge))"
   ]
  },
  {
   "cell_type": "markdown",
   "metadata": {},
   "source": [
    "### 제너레이터를 wrap 해서 처리하기 \n",
    "\n",
    "    직접 제너레이터를 처리하지만  래핑이 필요한 경우 한번 더 제너레이터를 만들어야 한다.\n",
    "    \n",
    "    래핑된 제너레이터에서 yield from을 사용하면  기존 제너레이터의 결과를  그대로 처리함"
   ]
  },
  {
   "cell_type": "code",
   "execution_count": 42,
   "metadata": {
    "collapsed": false
   },
   "outputs": [
    {
     "name": "stdout",
     "output_type": "stream",
     "text": [
      "<< 0\n",
      "<< 1\n",
      "<< 2\n",
      "<< 3\n"
     ]
    }
   ],
   "source": [
    "def reader():\n",
    "    \"\"\"A generator that fakes a read from a file, socket, etc.\"\"\"\n",
    "    for i in range(4):\n",
    "        yield '<< %s' % i\n",
    "\n",
    "\n",
    "for i in reader():\n",
    "    print(i)"
   ]
  },
  {
   "cell_type": "code",
   "execution_count": 41,
   "metadata": {
    "collapsed": false
   },
   "outputs": [
    {
     "name": "stdout",
     "output_type": "stream",
     "text": [
      "<< 0\n",
      "<< 1\n",
      "<< 2\n",
      "<< 3\n"
     ]
    }
   ],
   "source": [
    "def reader():\n",
    "    \"\"\"A generator that fakes a read from a file, socket, etc.\"\"\"\n",
    "    for i in range(4):\n",
    "        yield '<< %s' % i\n",
    "\n",
    "def reader_wrapper(g):\n",
    "    # Manually iterate over data produced by reader\n",
    "    for v in g:\n",
    "        yield v\n",
    "\n",
    "wrap = reader_wrapper(reader())\n",
    "for i in wrap:\n",
    "    print(i)"
   ]
  },
  {
   "cell_type": "markdown",
   "metadata": {},
   "source": [
    "### yield from 사용하기 \n",
    "\n",
    "    yield from은 다른 제너레이터로 부터 직접 처리 결과를 가져올 경우 사용 "
   ]
  },
  {
   "cell_type": "code",
   "execution_count": 44,
   "metadata": {
    "collapsed": false
   },
   "outputs": [
    {
     "name": "stdout",
     "output_type": "stream",
     "text": [
      "<< 0\n",
      "<< 1\n",
      "<< 2\n",
      "<< 3\n"
     ]
    }
   ],
   "source": [
    "def reader():\n",
    "    \"\"\"A generator that fakes a read from a file, socket, etc.\"\"\"\n",
    "    for i in range(4):\n",
    "        yield '<< %s' % i\n",
    "\n",
    "        \n",
    "def reader_wrapper(g):\n",
    "    # Manually iterate over data produced by reader\n",
    "    yield from g\n",
    "\n",
    "wrap = reader_wrapper(reader())\n",
    "for i in wrap:\n",
    "    print(i)"
   ]
  },
  {
   "cell_type": "markdown",
   "metadata": {},
   "source": [
    "# 3.사용자 정의 클래스 반복자와 반복형 처리\n",
    "\n",
    "    클래스로 반복자나 반복형을 만들때 중요한 것은 실제 반복이 되는 대상을 __iter__에서 전달해야 함"
   ]
  },
  {
   "cell_type": "markdown",
   "metadata": {},
   "source": [
    "### 사용자 정의 클래스로 iterable 처리"
   ]
  },
  {
   "cell_type": "code",
   "execution_count": 3,
   "metadata": {
    "collapsed": false
   },
   "outputs": [
    {
     "name": "stdout",
     "output_type": "stream",
     "text": [
      "<__main__.SeqIterable object at 0x0000000004D7D898>\n",
      "True\n",
      "False\n"
     ]
    }
   ],
   "source": [
    "import collections.abc as cols \n",
    "class SeqIterable :\n",
    "    \n",
    "    def __init__(self,seq) :\n",
    "        self._seq = seq\n",
    "        \n",
    "    def __iter__(self) :\n",
    "        return iter(self._seq)\n",
    "    \n",
    "\n",
    "s = SeqIterable(\"abcd\")\n",
    "print(s)\n",
    "\n",
    "print(issubclass(SeqIterable,cols.Iterable))\n",
    "print(issubclass(SeqIterable,cols.Iterator))\n"
   ]
  },
  {
   "cell_type": "code",
   "execution_count": 4,
   "metadata": {
    "collapsed": false
   },
   "outputs": [
    {
     "name": "stdout",
     "output_type": "stream",
     "text": [
      "True\n",
      "True\n",
      "a\n",
      "b\n",
      "c\n",
      "d\n"
     ]
    },
    {
     "ename": "StopIteration",
     "evalue": "",
     "output_type": "error",
     "traceback": [
      "\u001b[0;31m---------------------------------------------------------------------------\u001b[0m",
      "\u001b[0;31mStopIteration\u001b[0m                             Traceback (most recent call last)",
      "\u001b[0;32m<ipython-input-4-25864d3a17c2>\u001b[0m in \u001b[0;36m<module>\u001b[0;34m()\u001b[0m\n\u001b[1;32m     12\u001b[0m \u001b[0mprint\u001b[0m\u001b[1;33m(\u001b[0m\u001b[0mnext\u001b[0m\u001b[1;33m(\u001b[0m\u001b[0mit\u001b[0m\u001b[1;33m)\u001b[0m\u001b[1;33m)\u001b[0m\u001b[1;33m\u001b[0m\u001b[0m\n\u001b[1;32m     13\u001b[0m \u001b[0mprint\u001b[0m\u001b[1;33m(\u001b[0m\u001b[0mnext\u001b[0m\u001b[1;33m(\u001b[0m\u001b[0mit\u001b[0m\u001b[1;33m)\u001b[0m\u001b[1;33m)\u001b[0m\u001b[1;33m\u001b[0m\u001b[0m\n\u001b[0;32m---> 14\u001b[0;31m \u001b[0mprint\u001b[0m\u001b[1;33m(\u001b[0m\u001b[0mnext\u001b[0m\u001b[1;33m(\u001b[0m\u001b[0mit\u001b[0m\u001b[1;33m)\u001b[0m\u001b[1;33m)\u001b[0m\u001b[1;33m\u001b[0m\u001b[0m\n\u001b[0m",
      "\u001b[0;31mStopIteration\u001b[0m: "
     ]
    }
   ],
   "source": [
    "#반복자 만들기 \n",
    "\n",
    "it = iter(s)\n",
    "\n",
    "print(issubclass(type(it),cols.Iterable))\n",
    "print(issubclass(type(it),cols.Iterator))\n",
    "\n",
    "# 수동 실행 \n",
    "\n",
    "print(next(it))\n",
    "print(next(it))\n",
    "print(next(it))\n",
    "print(next(it))\n",
    "print(next(it))\n"
   ]
  },
  {
   "cell_type": "markdown",
   "metadata": {},
   "source": [
    "### 사용자 정의 클래스로 iterator 정의\n",
    "\n",
    "    수동으로 처리 하기 "
   ]
  },
  {
   "cell_type": "code",
   "execution_count": 15,
   "metadata": {
    "collapsed": false
   },
   "outputs": [],
   "source": [
    "import collections.abc as cols \n",
    "\n",
    "class SeqIterator :\n",
    "    \n",
    "    def __init__(self,seq) :\n",
    "        self._seq = seq\n",
    "        \n",
    "    def __iter__(self) :\n",
    "        \n",
    "        return iter(self._seq)\n",
    "        \n",
    "    def __next__(self) :\n",
    "        \n",
    "        return (n for n in self._seq)\n",
    "    \n"
   ]
  },
  {
   "cell_type": "code",
   "execution_count": 16,
   "metadata": {
    "collapsed": false
   },
   "outputs": [
    {
     "name": "stdout",
     "output_type": "stream",
     "text": [
      "<__main__.SeqIterator object at 0x0000000005233470>\n",
      "True\n",
      "True\n",
      "a\n",
      "b\n",
      "c\n",
      "d\n"
     ]
    },
    {
     "ename": "StopIteration",
     "evalue": "",
     "output_type": "error",
     "traceback": [
      "\u001b[0;31m---------------------------------------------------------------------------\u001b[0m",
      "\u001b[0;31mStopIteration\u001b[0m                             Traceback (most recent call last)",
      "\u001b[0;32m<ipython-input-16-aac8744cad60>\u001b[0m in \u001b[0;36m<module>\u001b[0;34m()\u001b[0m\n\u001b[1;32m     14\u001b[0m \u001b[0mprint\u001b[0m\u001b[1;33m(\u001b[0m\u001b[0mnext\u001b[0m\u001b[1;33m(\u001b[0m\u001b[0ms\u001b[0m\u001b[1;33m)\u001b[0m\u001b[1;33m)\u001b[0m\u001b[1;33m\u001b[0m\u001b[0m\n\u001b[1;32m     15\u001b[0m \u001b[0mprint\u001b[0m\u001b[1;33m(\u001b[0m\u001b[0mnext\u001b[0m\u001b[1;33m(\u001b[0m\u001b[0ms\u001b[0m\u001b[1;33m)\u001b[0m\u001b[1;33m)\u001b[0m\u001b[1;33m\u001b[0m\u001b[0m\n\u001b[0;32m---> 16\u001b[0;31m \u001b[0mprint\u001b[0m\u001b[1;33m(\u001b[0m\u001b[0mnext\u001b[0m\u001b[1;33m(\u001b[0m\u001b[0ms\u001b[0m\u001b[1;33m)\u001b[0m\u001b[1;33m)\u001b[0m\u001b[1;33m\u001b[0m\u001b[0m\n\u001b[0m",
      "\u001b[0;31mStopIteration\u001b[0m: "
     ]
    }
   ],
   "source": [
    "# 객체를 생성해서 iter로 바꿔야 함\n",
    "s = SeqIterator(\"abcd\")\n",
    "print(s)\n",
    "\n",
    "print(issubclass(SeqIterator,cols.Iterable))\n",
    "print(issubclass(SeqIterator,cols.Iterator))\n",
    "s = iter(s)\n",
    "\n",
    "# 수동 실행 \n",
    "print(next(s))\n",
    "print(next(s))\n",
    "print(next(s))\n",
    "print(next(s))\n",
    "print(next(s))"
   ]
  },
  {
   "cell_type": "markdown",
   "metadata": {},
   "source": [
    "### next 처리시 Exception 발생을 없애고 새로운 로직을 추가하는 방식 \n",
    "\n",
    "    next(iterable, None)\n",
    "    "
   ]
  },
  {
   "cell_type": "code",
   "execution_count": 48,
   "metadata": {
    "collapsed": false
   },
   "outputs": [
    {
     "name": "stdout",
     "output_type": "stream",
     "text": [
      "Help on built-in function next in module builtins:\n",
      "\n",
      "next(...)\n",
      "    next(iterator[, default])\n",
      "    \n",
      "    Return the next item from the iterator. If default is given and the iterator\n",
      "    is exhausted, it is returned instead of raising StopIteration.\n",
      "\n"
     ]
    }
   ],
   "source": [
    "help(next)"
   ]
  },
  {
   "cell_type": "code",
   "execution_count": 7,
   "metadata": {
    "collapsed": false
   },
   "outputs": [],
   "source": [
    "\n",
    "import collections.abc as cols \n",
    "\n",
    "class SeqIterator :\n",
    "    \n",
    "    def __init__(self,seq) :\n",
    "        self._seq = seq\n",
    "        \n",
    "    def __iter__(self) :\n",
    "        \n",
    "        return iter(self._seq)\n",
    "        \n",
    "    def __next__(self) :\n",
    "        \n",
    "        return (n for n in self._seq)\n"
   ]
  },
  {
   "cell_type": "code",
   "execution_count": 8,
   "metadata": {
    "collapsed": false
   },
   "outputs": [
    {
     "name": "stdout",
     "output_type": "stream",
     "text": [
      "<__main__.SeqIterator object at 0x0000000004D71AC8>\n",
      "True\n",
      "True\n",
      "a\n",
      "b\n",
      "c\n",
      "d\n",
      "None\n"
     ]
    }
   ],
   "source": [
    "# 객체를 생성해서 iter로 바꿔야 함\n",
    "s = SeqIterator(\"abcd\")\n",
    "print(s)\n",
    "\n",
    "\n",
    "print(issubclass(SeqIterator,cols.Iterable))\n",
    "print(issubclass(SeqIterator,cols.Iterator))\n",
    "it = iter(s)\n",
    "\n",
    "# next 함수에 default 값을 넣어서 처리하고 추가 로직을 처리 \n",
    "\n",
    "while True :\n",
    "    a = next(it, None)\n",
    "    print(a)\n",
    "    if a == None :\n",
    "        break"
   ]
  },
  {
   "cell_type": "markdown",
   "metadata": {},
   "source": [
    "# 4. 코루틴 처리 \n",
    "\n",
    "    coroutine.send (value)\n",
    "          코루틴의 실행을 시작하거나 다시 시작합니다.\n",
    "          value가 None이면 시작, None이 아니면이 값을 처리 \n",
    "          \n",
    "\n",
    "    coroutine.throw (type [, value [, traceback]])\n",
    "         코루틴에서 지정된 예외를 발생시킵니다. 이 메소드는 코 루틴을 일시 중단시키는 반복자의 throw () 메소드에 위임합니다 \n",
    "         \n",
    "    coroutine.close ()\n",
    "         코루틴 자체를 종료합니다.\n",
    "         "
   ]
  },
  {
   "cell_type": "code",
   "execution_count": 63,
   "metadata": {
    "collapsed": false
   },
   "outputs": [
    {
     "name": "stdout",
     "output_type": "stream",
     "text": [
      "<class 'generator'>\n",
      "None\n"
     ]
    }
   ],
   "source": [
    "def cor():\n",
    "    while True:   \n",
    "        i = yield \n",
    "        print('%s consumed' % i)\n",
    "        \n",
    "# 제너레이터 생성\n",
    "c = cor()\n",
    "print(type(c))\n",
    "print(next(c))\n",
    "c.close()"
   ]
  },
  {
   "cell_type": "code",
   "execution_count": 64,
   "metadata": {
    "collapsed": false
   },
   "outputs": [
    {
     "name": "stdout",
     "output_type": "stream",
     "text": [
      "<class 'generator'>\n",
      "None\n",
      "1 consumed\n"
     ]
    }
   ],
   "source": [
    "def cor():\n",
    "    while True:   \n",
    "        i = yield \n",
    "        print('%s consumed' % i)\n",
    "        \n",
    "# 제너레이터 생성\n",
    "c = cor()\n",
    "print(type(c))\n",
    "print(next(c))\n",
    "c.send(1)\n",
    "c.close()"
   ]
  },
  {
   "cell_type": "code",
   "execution_count": 67,
   "metadata": {
    "collapsed": false
   },
   "outputs": [
    {
     "name": "stdout",
     "output_type": "stream",
     "text": [
      "<class 'generator'>\n",
      "1 consumed\n"
     ]
    },
    {
     "ename": "StopIteration",
     "evalue": "",
     "output_type": "error",
     "traceback": [
      "\u001b[0;31m---------------------------------------------------------------------------\u001b[0m",
      "\u001b[0;31mStopIteration\u001b[0m                             Traceback (most recent call last)",
      "\u001b[0;32m<ipython-input-67-d3a18dc982bc>\u001b[0m in \u001b[0;36m<module>\u001b[0;34m()\u001b[0m\n\u001b[1;32m     10\u001b[0m \u001b[0mc\u001b[0m\u001b[1;33m.\u001b[0m\u001b[0msend\u001b[0m\u001b[1;33m(\u001b[0m\u001b[1;36m1\u001b[0m\u001b[1;33m)\u001b[0m\u001b[1;33m\u001b[0m\u001b[0m\n\u001b[1;32m     11\u001b[0m \u001b[0mc\u001b[0m\u001b[1;33m.\u001b[0m\u001b[0mclose\u001b[0m\u001b[1;33m(\u001b[0m\u001b[1;33m)\u001b[0m\u001b[1;33m\u001b[0m\u001b[0m\n\u001b[0;32m---> 12\u001b[0;31m \u001b[0mc\u001b[0m\u001b[1;33m.\u001b[0m\u001b[0msend\u001b[0m\u001b[1;33m(\u001b[0m\u001b[1;36m2\u001b[0m\u001b[1;33m)\u001b[0m\u001b[1;33m\u001b[0m\u001b[0m\n\u001b[0m",
      "\u001b[0;31mStopIteration\u001b[0m: "
     ]
    }
   ],
   "source": [
    "def cor():\n",
    "    while True:   \n",
    "        i = (yield) \n",
    "        print('%s consumed' % i)\n",
    "        \n",
    "# 제너레이터 생성\n",
    "c = cor()\n",
    "print(type(c))\n",
    "c.send(None)\n",
    "c.send(1)\n",
    "c.close()\n",
    "c.send(2)"
   ]
  },
  {
   "cell_type": "code",
   "execution_count": null,
   "metadata": {
    "collapsed": true
   },
   "outputs": [],
   "source": [
    "def cor():\n",
    "    while True:   \n",
    "        i = (yield) \n",
    "        print('%s consumed' % i)\n",
    "        \n",
    "# 제너레이터 생성\n",
    "c = cor()\n",
    "print(type(c))\n",
    "c.send(None)\n",
    "c.send(1)\n",
    "c.close()"
   ]
  },
  {
   "cell_type": "code",
   "execution_count": 58,
   "metadata": {
    "collapsed": false
   },
   "outputs": [
    {
     "name": "stdout",
     "output_type": "stream",
     "text": [
      "1 consumed 2\n",
      "1 consumed 3\n"
     ]
    },
    {
     "ename": "StopIteration",
     "evalue": "",
     "output_type": "error",
     "traceback": [
      "\u001b[0;31m---------------------------------------------------------------------------\u001b[0m",
      "\u001b[0;31mStopIteration\u001b[0m                             Traceback (most recent call last)",
      "\u001b[0;32m<ipython-input-58-5f4be96999cf>\u001b[0m in \u001b[0;36m<module>\u001b[0;34m()\u001b[0m\n\u001b[1;32m     13\u001b[0m \u001b[0mc\u001b[0m\u001b[1;33m.\u001b[0m\u001b[0msend\u001b[0m\u001b[1;33m(\u001b[0m\u001b[1;36m3\u001b[0m\u001b[1;33m)\u001b[0m\u001b[1;33m\u001b[0m\u001b[0m\n\u001b[1;32m     14\u001b[0m \u001b[0mc\u001b[0m\u001b[1;33m.\u001b[0m\u001b[0mclose\u001b[0m\u001b[1;33m(\u001b[0m\u001b[1;33m)\u001b[0m\u001b[1;33m\u001b[0m\u001b[0m\n\u001b[0;32m---> 15\u001b[0;31m \u001b[0mc\u001b[0m\u001b[1;33m.\u001b[0m\u001b[0msend\u001b[0m\u001b[1;33m(\u001b[0m\u001b[1;36m4\u001b[0m\u001b[1;33m)\u001b[0m\u001b[1;33m\u001b[0m\u001b[0m\n\u001b[0m",
      "\u001b[0;31mStopIteration\u001b[0m: "
     ]
    }
   ],
   "source": [
    "def cor():\n",
    "    i = yield\n",
    "    while True:       \n",
    "        j = yield i\n",
    "        print('%s consumed' % i,j)\n",
    "        \n",
    "c = cor()\n",
    "next(c)\n",
    "c.send(1)\n",
    "c.send(2)\n",
    "c.send(3)\n",
    "c.close()\n",
    "c.send(4)"
   ]
  },
  {
   "cell_type": "code",
   "execution_count": null,
   "metadata": {
    "collapsed": true
   },
   "outputs": [],
   "source": []
  },
  {
   "cell_type": "code",
   "execution_count": 51,
   "metadata": {
    "collapsed": false
   },
   "outputs": [
    {
     "name": "stdout",
     "output_type": "stream",
     "text": [
      "10\n",
      "xxx\n",
      "10\n",
      "10\n",
      "xxx\n",
      "4\n",
      "4\n",
      "xxx\n",
      "4\n",
      "4\n",
      "xxx\n",
      "-1\n"
     ]
    }
   ],
   "source": [
    "def minimize():\n",
    "    current = yield\n",
    "    print(current)\n",
    "    while True:\n",
    "        print(\"xxx\")\n",
    "        value = yield current\n",
    "        print(current)\n",
    "        current = min(value, current)\n",
    "        \n",
    "it = minimize()\n",
    "next(it)            # Prime the generator\n",
    "print(it.send(10))\n",
    "print(it.send(4))\n",
    "print(it.send(22))\n",
    "print(it.send(-1))\n"
   ]
  },
  {
   "cell_type": "code",
   "execution_count": 45,
   "metadata": {
    "collapsed": false
   },
   "outputs": [
    {
     "data": {
      "text/plain": [
       "['__abstractmethods__',\n",
       " '__await__',\n",
       " '__class__',\n",
       " '__delattr__',\n",
       " '__dir__',\n",
       " '__doc__',\n",
       " '__eq__',\n",
       " '__format__',\n",
       " '__ge__',\n",
       " '__getattribute__',\n",
       " '__gt__',\n",
       " '__hash__',\n",
       " '__init__',\n",
       " '__le__',\n",
       " '__lt__',\n",
       " '__module__',\n",
       " '__ne__',\n",
       " '__new__',\n",
       " '__reduce__',\n",
       " '__reduce_ex__',\n",
       " '__repr__',\n",
       " '__setattr__',\n",
       " '__sizeof__',\n",
       " '__slots__',\n",
       " '__str__',\n",
       " '__subclasshook__',\n",
       " '_abc_cache',\n",
       " '_abc_negative_cache',\n",
       " '_abc_negative_cache_version',\n",
       " '_abc_registry',\n",
       " 'close',\n",
       " 'send',\n",
       " 'throw']"
      ]
     },
     "execution_count": 45,
     "metadata": {},
     "output_type": "execute_result"
    }
   ],
   "source": [
    "dir(Coroutine)"
   ]
  },
  {
   "cell_type": "markdown",
   "metadata": {},
   "source": [
    "###  코루틴 제너레이터를 생성하고 클로즈 하기\n"
   ]
  },
  {
   "cell_type": "code",
   "execution_count": 25,
   "metadata": {
    "collapsed": false
   },
   "outputs": [
    {
     "name": "stdout",
     "output_type": "stream",
     "text": [
      "<class 'generator'>\n",
      "True\n",
      "True\n",
      "True\n",
      "False\n"
     ]
    }
   ],
   "source": [
    "import collections.abc as cols\n",
    "def writer():\n",
    "    \"\"\"A coroutine that writes data *sent* to it to fd, socket, etc.\"\"\"\n",
    "    while True:\n",
    "        w = (yield)\n",
    "        print('>> ', w)\n",
    "        \n",
    "w = writer()\n",
    "\n",
    "print(type(w))\n",
    "print(issubclass(type(w),cols.Iterable))\n",
    "print(issubclass(type(w),cols.Iterator))\n",
    "print(issubclass(type(w),cols.Generator))\n",
    "print(issubclass(type(w),cols.Coroutine))\n"
   ]
  },
  {
   "cell_type": "code",
   "execution_count": 26,
   "metadata": {
    "collapsed": false
   },
   "outputs": [
    {
     "name": "stdout",
     "output_type": "stream",
     "text": [
      "False\n",
      ">>  0\n",
      "False\n",
      ">>  1\n",
      "False\n",
      ">>  2\n",
      "False\n",
      ">>  3\n",
      "False\n"
     ]
    },
    {
     "ename": "StopIteration",
     "evalue": "",
     "output_type": "error",
     "traceback": [
      "\u001b[0;31m---------------------------------------------------------------------------\u001b[0m",
      "\u001b[0;31mStopIteration\u001b[0m                             Traceback (most recent call last)",
      "\u001b[0;32m<ipython-input-26-c64a3fffadc1>\u001b[0m in \u001b[0;36m<module>\u001b[0;34m()\u001b[0m\n\u001b[1;32m     10\u001b[0m \u001b[1;31m# close 후 다시 실행하면 에러 처리 됨\u001b[0m\u001b[1;33m\u001b[0m\u001b[1;33m\u001b[0m\u001b[0m\n\u001b[1;32m     11\u001b[0m \u001b[1;32mfor\u001b[0m \u001b[0mi\u001b[0m \u001b[1;32min\u001b[0m \u001b[0mrange\u001b[0m\u001b[1;33m(\u001b[0m\u001b[1;36m4\u001b[0m\u001b[1;33m)\u001b[0m\u001b[1;33m:\u001b[0m\u001b[1;33m\u001b[0m\u001b[0m\n\u001b[0;32m---> 12\u001b[0;31m     \u001b[0mw\u001b[0m\u001b[1;33m.\u001b[0m\u001b[0msend\u001b[0m\u001b[1;33m(\u001b[0m\u001b[0mi\u001b[0m\u001b[1;33m)\u001b[0m\u001b[1;33m\u001b[0m\u001b[0m\n\u001b[0m",
      "\u001b[0;31mStopIteration\u001b[0m: "
     ]
    }
   ],
   "source": [
    "w.send(None)  # \"prime\" the coroutine\n",
    "print(issubclass(type(w),cols.Coroutine))\n",
    "\n",
    "for i in range(4):\n",
    "    w.send(i)\n",
    "    print(issubclass(type(w),cols.Coroutine))\n",
    "\n",
    "w.close()\n",
    "\n",
    "# close 후 다시 실행하면 에러 처리 됨\n",
    "for i in range(4):\n",
    "    w.send(i)"
   ]
  },
  {
   "cell_type": "markdown",
   "metadata": {},
   "source": [
    "###  코루틴 제너레이터이 재사용 \n",
    "\n",
    "    한번 사용하면 재사용이 안되지만 코루틴으로 처리시 close 전까지는 재사용 가능\n",
    "    "
   ]
  },
  {
   "cell_type": "code",
   "execution_count": 68,
   "metadata": {
    "collapsed": false
   },
   "outputs": [
    {
     "name": "stdout",
     "output_type": "stream",
     "text": [
      ">>  0\n",
      ">>  1\n",
      ">>  0\n",
      ">>  1\n"
     ]
    }
   ],
   "source": [
    "def writer():\n",
    "    while True:\n",
    "        w = (yield)\n",
    "        print('>> ', w)\n",
    "        \n",
    "w = writer()\n",
    "\n",
    "w.send(None)\n",
    "for i in range(2):\n",
    "    w.send(i)\n",
    "\n",
    "for i in range(2):\n",
    "    w.send(i)"
   ]
  },
  {
   "cell_type": "code",
   "execution_count": 120,
   "metadata": {
    "collapsed": false
   },
   "outputs": [
    {
     "name": "stdout",
     "output_type": "stream",
     "text": [
      "Help on function throw in module collections.abc:\n",
      "\n",
      "throw(self, typ, val=None, tb=None)\n",
      "    Raise an exception in the coroutine.\n",
      "    Return next yielded value or raise StopIteration.\n",
      "\n"
     ]
    }
   ],
   "source": [
    "from collections.abc import *\n",
    "help(Coroutine.throw)"
   ]
  },
  {
   "cell_type": "code",
   "execution_count": 123,
   "metadata": {
    "collapsed": false
   },
   "outputs": [
    {
     "name": "stdout",
     "output_type": "stream",
     "text": [
      " exit\n",
      "[0, 1, 2]\n"
     ]
    }
   ],
   "source": [
    "la = []\n",
    "def test2(x): \n",
    "    lc = listCreate(len(x))\n",
    "    lc.send(None)\n",
    "    for i in x:\n",
    "        var = yield \n",
    "        lc.send(var)\n",
    "\n",
    "def listCreate(x):\n",
    "    for i in range(x):\n",
    "        var = yield\n",
    "        la.append(var)\n",
    "\n",
    "r2 = test2([1,2,3])\n",
    "r2.send(None)\n",
    "\n",
    "for i in range(3) :\n",
    "    try :\n",
    "        v = r2.send(i)\n",
    "    except StopIteration :\n",
    "        print(\" exit\")\n",
    "    \n",
    "print(la)"
   ]
  },
  {
   "cell_type": "code",
   "execution_count": 110,
   "metadata": {
    "collapsed": false
   },
   "outputs": [
    {
     "name": "stdout",
     "output_type": "stream",
     "text": [
      "None\n",
      "None\n",
      "None\n",
      "[1, 2, 3]\n"
     ]
    }
   ],
   "source": [
    "def test1(x): \n",
    "    for i in x:\n",
    "        var = yield i \n",
    "        print(var)\n",
    "        \n",
    "r1 = test1([1,2,3])\n",
    "print(list(r1))"
   ]
  },
  {
   "cell_type": "code",
   "execution_count": 127,
   "metadata": {
    "collapsed": false
   },
   "outputs": [
    {
     "name": "stdout",
     "output_type": "stream",
     "text": [
      "10.0\n",
      "20.0\n"
     ]
    }
   ],
   "source": [
    "def mean() :\n",
    "    total = 0.0\n",
    "    count = 0\n",
    "    average = None\n",
    "    \n",
    "    while True :\n",
    "        term = yield average\n",
    "        total += term\n",
    "        count += 1\n",
    "        average= total/count\n",
    "        \n",
    "        \n",
    "coro = mean()\n",
    "coro.send(None)\n",
    "a = coro.send(10)\n",
    "print(a)\n",
    "\n",
    "a = coro.send(30)\n",
    "print(a)"
   ]
  },
  {
   "cell_type": "code",
   "execution_count": 86,
   "metadata": {
    "collapsed": false
   },
   "outputs": [
    {
     "name": "stdout",
     "output_type": "stream",
     "text": [
      "Hello\n",
      "---------\n",
      "None\n"
     ]
    }
   ],
   "source": [
    "def coro():\n",
    "    hello = yield \"Hello\"\n",
    "    s = yield \n",
    "    print(s)\n",
    " \n",
    "c = coro()\n",
    "print(next(c))\n",
    "print(\"---------\")\n",
    "print(c.send(\"World\"))"
   ]
  },
  {
   "cell_type": "code",
   "execution_count": 109,
   "metadata": {
    "collapsed": false
   },
   "outputs": [
    {
     "name": "stdout",
     "output_type": "stream",
     "text": [
      "Helloggg\n",
      "HellogggWorld\n",
      "!!!World\n",
      " coroutine exit \n"
     ]
    }
   ],
   "source": [
    "def coro(a): \n",
    "    hello = yield a\n",
    "    print(hello+a)\n",
    "    s = yield hello+a\n",
    "    print(hello+a+s)\n",
    "    ss = yield hello+a+s\n",
    "    print(ss+ s)\n",
    "          \n",
    "try : \n",
    "    c = coro(\"ggg\")\n",
    "    next(c)\n",
    "    c.send(\"Hello\")\n",
    "    c.send(\"World\")\n",
    "    c.send(\"!!!\")\n",
    "except Exception :\n",
    "        print(\" coroutine exit \")"
   ]
  },
  {
   "cell_type": "markdown",
   "metadata": {},
   "source": [
    "# 5. 내장 데이터 타입 및 함수 결과\n",
    "\n",
    "    내부 keys, values, items 메소드 결과 에 대한 처리 \n",
    "\n",
    "     "
   ]
  },
  {
   "cell_type": "markdown",
   "metadata": {},
   "source": [
    "## range  함수"
   ]
  },
  {
   "cell_type": "code",
   "execution_count": 11,
   "metadata": {
    "collapsed": false
   },
   "outputs": [
    {
     "name": "stdout",
     "output_type": "stream",
     "text": [
      "True\n",
      "False\n"
     ]
    }
   ],
   "source": [
    "\n",
    "print(issubclass(range,cols.Iterable))\n",
    "print(issubclass(range,cols.Iterator))"
   ]
  },
  {
   "cell_type": "markdown",
   "metadata": {},
   "source": [
    "## map함수 "
   ]
  },
  {
   "cell_type": "code",
   "execution_count": 15,
   "metadata": {
    "collapsed": false
   },
   "outputs": [
    {
     "name": "stdout",
     "output_type": "stream",
     "text": [
      "<class 'map'>\n",
      "True\n",
      "True\n"
     ]
    }
   ],
   "source": [
    "ma = map(pow,[1,2,3,4])\n",
    "\n",
    "print(type(ma))\n",
    "print(issubclass(type(ma),cols.Iterable))\n",
    "print(issubclass(type(ma),cols.Iterator))"
   ]
  },
  {
   "cell_type": "markdown",
   "metadata": {},
   "source": [
    "## filter 함수 "
   ]
  },
  {
   "cell_type": "code",
   "execution_count": 17,
   "metadata": {
    "collapsed": false
   },
   "outputs": [
    {
     "name": "stdout",
     "output_type": "stream",
     "text": [
      "<class 'filter'>\n",
      "True\n",
      "True\n"
     ]
    }
   ],
   "source": [
    "ma = filter(lambda x : x%2 == 0,[1,2,3,4])\n",
    "\n",
    "print(type(ma))\n",
    "print(issubclass(type(ma),cols.Iterable))\n",
    "print(issubclass(type(ma),cols.Iterator))"
   ]
  },
  {
   "cell_type": "markdown",
   "metadata": {},
   "source": [
    "##  dict : keys, values, items 메소드 결과 에 대한 처리 "
   ]
  },
  {
   "cell_type": "code",
   "execution_count": 63,
   "metadata": {
    "collapsed": false
   },
   "outputs": [
    {
     "name": "stdout",
     "output_type": "stream",
     "text": [
      "<class 'dict_keys'>\n",
      "True\n",
      "False\n",
      "False\n",
      "a\n",
      "b\n"
     ]
    },
    {
     "ename": "StopIteration",
     "evalue": "",
     "output_type": "error",
     "traceback": [
      "\u001b[0;31m---------------------------------------------------------------------------\u001b[0m",
      "\u001b[0;31mStopIteration\u001b[0m                             Traceback (most recent call last)",
      "\u001b[0;32m<ipython-input-63-056841a073b8>\u001b[0m in \u001b[0;36m<module>\u001b[0;34m()\u001b[0m\n\u001b[1;32m     11\u001b[0m \u001b[0mprint\u001b[0m\u001b[1;33m(\u001b[0m\u001b[0mnext\u001b[0m\u001b[1;33m(\u001b[0m\u001b[0mkey_it\u001b[0m\u001b[1;33m)\u001b[0m\u001b[1;33m)\u001b[0m\u001b[1;33m\u001b[0m\u001b[0m\n\u001b[1;32m     12\u001b[0m \u001b[0mprint\u001b[0m\u001b[1;33m(\u001b[0m\u001b[0mnext\u001b[0m\u001b[1;33m(\u001b[0m\u001b[0mkey_it\u001b[0m\u001b[1;33m)\u001b[0m\u001b[1;33m)\u001b[0m\u001b[1;33m\u001b[0m\u001b[0m\n\u001b[0;32m---> 13\u001b[0;31m \u001b[0mprint\u001b[0m\u001b[1;33m(\u001b[0m\u001b[0mnext\u001b[0m\u001b[1;33m(\u001b[0m\u001b[0mkey_it\u001b[0m\u001b[1;33m)\u001b[0m\u001b[1;33m)\u001b[0m\u001b[1;33m\u001b[0m\u001b[0m\n\u001b[0m",
      "\u001b[0;31mStopIteration\u001b[0m: "
     ]
    }
   ],
   "source": [
    "d = dict(a=1,b=2)\n",
    "key = d.keys()\n",
    "print(type(key))\n",
    "\n",
    "print(issubclass(type(key),cols.Iterable))\n",
    "print(issubclass(type(key),cols.Iterator))\n",
    "\n",
    "\n",
    "key_it = iter(key)\n",
    "print(next(key_it))\n",
    "print(next(key_it))\n",
    "print(next(key_it))"
   ]
  },
  {
   "cell_type": "code",
   "execution_count": 64,
   "metadata": {
    "collapsed": false
   },
   "outputs": [
    {
     "name": "stdout",
     "output_type": "stream",
     "text": [
      "<class 'dict_items'>\n",
      "True\n",
      "False\n",
      "('a', 1)\n",
      "('b', 2)\n"
     ]
    },
    {
     "ename": "StopIteration",
     "evalue": "",
     "output_type": "error",
     "traceback": [
      "\u001b[0;31m---------------------------------------------------------------------------\u001b[0m",
      "\u001b[0;31mStopIteration\u001b[0m                             Traceback (most recent call last)",
      "\u001b[0;32m<ipython-input-64-4a8ff99669c9>\u001b[0m in \u001b[0;36m<module>\u001b[0;34m()\u001b[0m\n\u001b[1;32m     10\u001b[0m \u001b[0mprint\u001b[0m\u001b[1;33m(\u001b[0m\u001b[0mnext\u001b[0m\u001b[1;33m(\u001b[0m\u001b[0mitems_it\u001b[0m\u001b[1;33m)\u001b[0m\u001b[1;33m)\u001b[0m\u001b[1;33m\u001b[0m\u001b[0m\n\u001b[1;32m     11\u001b[0m \u001b[0mprint\u001b[0m\u001b[1;33m(\u001b[0m\u001b[0mnext\u001b[0m\u001b[1;33m(\u001b[0m\u001b[0mitems_it\u001b[0m\u001b[1;33m)\u001b[0m\u001b[1;33m)\u001b[0m\u001b[1;33m\u001b[0m\u001b[0m\n\u001b[0;32m---> 12\u001b[0;31m \u001b[0mprint\u001b[0m\u001b[1;33m(\u001b[0m\u001b[0mnext\u001b[0m\u001b[1;33m(\u001b[0m\u001b[0mitems_it\u001b[0m\u001b[1;33m)\u001b[0m\u001b[1;33m)\u001b[0m\u001b[1;33m\u001b[0m\u001b[0m\n\u001b[0m",
      "\u001b[0;31mStopIteration\u001b[0m: "
     ]
    }
   ],
   "source": [
    "d = dict(a=1,b=2)\n",
    "items = d.items()\n",
    "print(type(items))\n",
    "\n",
    "print(issubclass(type(items),cols.Iterable))\n",
    "print(issubclass(type(items),cols.Iterator))\n",
    "\n",
    "\n",
    "items_it = iter(items)\n",
    "print(next(items_it))\n",
    "print(next(items_it))\n",
    "print(next(items_it))"
   ]
  },
  {
   "cell_type": "markdown",
   "metadata": {},
   "source": [
    "# 6. itertools 모듈 이용해서 iterable 처리 \n"
   ]
  },
  {
   "cell_type": "markdown",
   "metadata": {},
   "source": [
    "### 순열과 조합으로 처리 하기"
   ]
  },
  {
   "cell_type": "code",
   "execution_count": 72,
   "metadata": {
    "collapsed": false
   },
   "outputs": [
    {
     "name": "stdout",
     "output_type": "stream",
     "text": [
      "<itertools.permutations object at 0x00000000055BC0F8>\n",
      "('a', 'b', 'c')\n",
      "('a', 'c', 'b')\n",
      "('b', 'a', 'c')\n",
      "('b', 'c', 'a')\n",
      "('c', 'a', 'b')\n",
      "('c', 'b', 'a')\n",
      "[('a', 'b'), ('a', 'c'), ('b', 'a'), ('b', 'c'), ('c', 'a'), ('c', 'b')]\n"
     ]
    }
   ],
   "source": [
    "\n",
    "# 원소에 대한 순열 처리 \n",
    "import itertools  as its\n",
    "\n",
    "l = ['a','b','c']\n",
    "\n",
    "# n! = 6\n",
    "p = its.permutations(l)\n",
    "print(p)\n",
    "\n",
    "for i in p :\n",
    "    print(i)\n",
    "\n",
    "    \n",
    "# n! / (n-r)! = 6\n",
    "p2 = its.permutations(l,2)    \n",
    "print(list(p2))"
   ]
  },
  {
   "cell_type": "code",
   "execution_count": 74,
   "metadata": {
    "collapsed": false
   },
   "outputs": [
    {
     "name": "stdout",
     "output_type": "stream",
     "text": [
      "<itertools.combinations object at 0x00000000055DB958>\n",
      "('a', 'b')\n",
      "('a', 'c')\n",
      "('b', 'c')\n",
      "[('a', 'b'), ('a', 'c'), ('b', 'c')]\n"
     ]
    }
   ],
   "source": [
    "# 원소에 대한 조합 처리 \n",
    "import itertools  as its\n",
    "\n",
    "l = ['a','b','c']\n",
    "\n",
    "# n! / r!(n-r)! = 3\n",
    "p = its.combinations(l,2)\n",
    "print(p)\n",
    "\n",
    "for i in p :\n",
    "    print(i)\n",
    "\n",
    "\n",
    "p2 = its.combinations(l,2)    \n",
    "print(list(p2))"
   ]
  },
  {
   "cell_type": "markdown",
   "metadata": {},
   "source": [
    "### 순서쌍 처리 하기\n",
    "\n"
   ]
  },
  {
   "cell_type": "markdown",
   "metadata": {},
   "source": [
    "#### zip 내장함수로 처리하기 \n",
    "\n",
    "\n",
    "     원소가 다른 것을 순서쌍으로 만들때 작은 쪽 기준으로 처리됨 \n",
    "     "
   ]
  },
  {
   "cell_type": "code",
   "execution_count": 18,
   "metadata": {
    "collapsed": false
   },
   "outputs": [
    {
     "name": "stdout",
     "output_type": "stream",
     "text": [
      "<zip object at 0x00000000050CF488>\n",
      "False\n",
      "True\n",
      "True\n",
      "[('a', 'a'), ('b', 'b'), ('c', 'c')]\n",
      "[]\n",
      "[('a', 'a'), ('b', 'b'), ('c', 'c')]\n"
     ]
    }
   ],
   "source": [
    "import collections.abc as cols\n",
    "\n",
    "l = ['a','b','c']\n",
    "\n",
    "az = zip(l,l)\n",
    "print(az)\n",
    "print(issubclass(type(az),cols.Generator))\n",
    "print(issubclass(type(az),cols.Iterable))\n",
    "print(issubclass(type(az),cols.Iterator))\n",
    "print(list(az))\n",
    "# 한번 사용한 후에  없어짐\n",
    "print(list(az))\n",
    "\n",
    "l = ['a','b','c']\n",
    "s = ['a','b','c','d','e']\n",
    "az = zip(l,s)\n",
    "\n",
    "print(list(az))"
   ]
  },
  {
   "cell_type": "markdown",
   "metadata": {},
   "source": [
    "####  값들에 대한 순서쌍을 긴 곳을 기준으로 처리 : itertools.zip_longest\n"
   ]
  },
  {
   "cell_type": "code",
   "execution_count": 16,
   "metadata": {
    "collapsed": false
   },
   "outputs": [
    {
     "name": "stdout",
     "output_type": "stream",
     "text": [
      "False\n",
      "True\n",
      "True\n",
      "[('a', 'a'), ('b', 'b'), ('c', 'c'), (None, 'd'), (None, 'e')]\n",
      "[]\n"
     ]
    }
   ],
   "source": [
    "import itertools\n",
    "\n",
    "l = ['a','b','c']\n",
    "s = ['a','b','c','d','e']\n",
    "az = itertools.zip_longest(l,s)\n",
    "\n",
    "print(issubclass(type(az),cols.Generator))\n",
    "print(issubclass(type(az),cols.Iterable))\n",
    "print(issubclass(type(az),cols.Iterator))\n",
    "print(list(az))\n",
    "# 한번 사용한 후에  없어짐\n",
    "print(list(az))"
   ]
  },
  {
   "cell_type": "markdown",
   "metadata": {},
   "source": [
    "####  itertools.product 이용하기 "
   ]
  },
  {
   "cell_type": "code",
   "execution_count": 17,
   "metadata": {
    "collapsed": false
   },
   "outputs": [
    {
     "name": "stdout",
     "output_type": "stream",
     "text": [
      "<itertools.product object at 0x00000000052306C0>\n",
      "('a', 'a')\n",
      "('a', 'b')\n",
      "('a', 'c')\n",
      "('b', 'a')\n",
      "('b', 'b')\n",
      "('b', 'c')\n",
      "('c', 'a')\n",
      "('c', 'b')\n",
      "('c', 'c')\n"
     ]
    }
   ],
   "source": [
    "# 원소에 대한 순서쌍 처리 \n",
    "import itertools  as its\n",
    "\n",
    "l = ['a','b','c']\n",
    "\n",
    "p = its.product(l,l)\n",
    "print(p)\n",
    "\n",
    "for i in p :\n",
    "    print(i)"
   ]
  },
  {
   "cell_type": "code",
   "execution_count": 20,
   "metadata": {
    "collapsed": false
   },
   "outputs": [
    {
     "name": "stdout",
     "output_type": "stream",
     "text": [
      "('a', 'a', 'a')\n",
      "('a', 'a', 'b')\n",
      "('a', 'b', 'a')\n",
      "('a', 'b', 'b')\n",
      "('b', 'a', 'a')\n",
      "('b', 'a', 'b')\n",
      "('b', 'b', 'a')\n",
      "('b', 'b', 'b')\n"
     ]
    }
   ],
   "source": [
    "# 원소에 대한 순서쌍 처리 \n",
    "import itertools  as its\n",
    "\n",
    "l = ['a','b']\n",
    "p3 = its.product(l,l,l)\n",
    "for i in p3 :\n",
    "    print(i)"
   ]
  },
  {
   "cell_type": "markdown",
   "metadata": {},
   "source": [
    "#### itertools.chain\n",
    "\n",
    "     연속되는 객체를 연결해서 처리\n",
    "    "
   ]
  },
  {
   "cell_type": "code",
   "execution_count": 12,
   "metadata": {
    "collapsed": false
   },
   "outputs": [
    {
     "name": "stdout",
     "output_type": "stream",
     "text": [
      "<itertools.chain object at 0x000000000515D4E0>\n",
      "['a', 'b', 'c', 'a', 'b', 'c']\n",
      "a\n",
      "b\n",
      "c\n",
      "a\n",
      "b\n",
      "c\n"
     ]
    }
   ],
   "source": [
    "# 원소에 대한 연결을 하는 chian 처리 \n",
    "import itertools  as its\n",
    "\n",
    "l = ['a','b','c']\n",
    "\n",
    "p = its.chain(l,l)\n",
    "print(p)\n",
    "print(list(p))\n",
    "\n",
    "# 제너레이터 이므로 한번 사용하면 다시 생성이 필요\n",
    "p = its.chain(l,l)\n",
    "for i in p :\n",
    "    print(i)"
   ]
  },
  {
   "cell_type": "markdown",
   "metadata": {},
   "source": [
    "#### itertools.Repeat \n",
    "\n",
    "    리스트 * 연산가 다른 점은 리스트를 하나의 원소로 보고 반복을 나타냄\n",
    "    "
   ]
  },
  {
   "cell_type": "code",
   "execution_count": 11,
   "metadata": {
    "collapsed": false
   },
   "outputs": [
    {
     "name": "stdout",
     "output_type": "stream",
     "text": [
      "repeat(['a', 'b', 'c'], 2)\n",
      "['a', 'b', 'c']\n",
      "['a', 'b', 'c']\n",
      "['a', 'b', 'c', 'a', 'b', 'c']\n"
     ]
    }
   ],
   "source": [
    "# 원소에 대한 연결을 하는 repeat처리 \n",
    "import itertools  as its\n",
    "\n",
    "l = ['a','b','c']\n",
    "\n",
    "p = its.repeat(l,2)\n",
    "print(p)\n",
    "\n",
    "for i in p :\n",
    "    print(i)\n",
    "    \n",
    "print(l*2)"
   ]
  },
  {
   "cell_type": "markdown",
   "metadata": {},
   "source": [
    "#### iter.tools.cycle\n",
    "\n",
    "     무한 처리가 되므로 사용할 만큼 처리를 해야 함 "
   ]
  },
  {
   "cell_type": "code",
   "execution_count": 8,
   "metadata": {
    "collapsed": false
   },
   "outputs": [
    {
     "name": "stdout",
     "output_type": "stream",
     "text": [
      "<itertools.cycle object at 0x0000000005165808>\n",
      "a\n",
      "b\n",
      "c\n",
      "a\n"
     ]
    }
   ],
   "source": [
    "# 원소에 대한 연결을 하는 cycle처리 \n",
    "\n",
    "import itertools  as its\n",
    "\n",
    "l = ['a','b','c']\n",
    "\n",
    "p = its.cycle(l)\n",
    "print(p)\n",
    "\n",
    "# 무한 순환이 가능하므로 제약을 줘야 함\n",
    "count = 0\n",
    "for i in p :\n",
    "    print(i)\n",
    "    if count >=3  :\n",
    "        break\n",
    "    count += 1"
   ]
  },
  {
   "cell_type": "markdown",
   "metadata": {},
   "source": [
    "### itertools.count\n",
    "\n",
    "   무한 처리가 되므로 사용할 만큼 처리를 해야 함 \n",
    " \n",
    "   class count(builtins.object)\n",
    "  |  count(start=0, step=1) --> count object\n",
    "  |  \n",
    " "
   ]
  },
  {
   "cell_type": "code",
   "execution_count": 1,
   "metadata": {
    "collapsed": false
   },
   "outputs": [
    {
     "name": "stdout",
     "output_type": "stream",
     "text": [
      "count(3)\n",
      "3\n",
      "4\n",
      "5\n",
      "6\n",
      "7\n",
      "8\n"
     ]
    }
   ],
   "source": [
    "import itertools  as its\n",
    "\n",
    "a = its.count(3)\n",
    "\n",
    "print(a) \n",
    "\n",
    "cnt = 0\n",
    "for i in a :\n",
    "    if cnt > 5 :\n",
    "        break\n",
    "    print(i)\n",
    "    cnt += 1"
   ]
  },
  {
   "cell_type": "markdown",
   "metadata": {},
   "source": [
    "####  무한 루핑되는 것을 제어하기  : takewhile \n",
    "\n",
    "     itertools.count는 무한 숫자를 반복하지만 takewhile 내의 함수가 거짓일 경우 처리를 중단한다.\n",
    "    "
   ]
  },
  {
   "cell_type": "code",
   "execution_count": 2,
   "metadata": {
    "collapsed": false
   },
   "outputs": [
    {
     "name": "stdout",
     "output_type": "stream",
     "text": [
      "[0, 0.5, 1.0, 1.5, 2.0, 2.5]\n"
     ]
    }
   ],
   "source": [
    "import itertools\n",
    "\n",
    "a = itertools.takewhile(lambda x : x < 3, itertools.count(0,0.5))\n",
    "print(list(a))"
   ]
  },
  {
   "cell_type": "markdown",
   "metadata": {},
   "source": [
    "### itertools.islice\n",
    "\n",
    "    iterable 데이터에 대한 slicing 처리 \n",
    "    "
   ]
  },
  {
   "cell_type": "code",
   "execution_count": 3,
   "metadata": {
    "collapsed": false
   },
   "outputs": [
    {
     "name": "stdout",
     "output_type": "stream",
     "text": [
      "<itertools.islice object at 0x0000000004EA58B8>\n",
      "<itertools.islice object at 0x0000000004EA5D68>\n",
      "<itertools.islice object at 0x0000000004EA5DB8>\n",
      "2\n",
      "4\n",
      "6\n"
     ]
    }
   ],
   "source": [
    "import itertools  as its\n",
    "\n",
    "print(its.islice(range(10), 8))\n",
    "print(its.islice(range(10), 2, 8))\n",
    "print(its.islice(range(10), 2, 8, 2))\n",
    "\n",
    "a = its.islice(range(10), 2, 8, 2)\n",
    "for i in a :\n",
    "    print(i)"
   ]
  },
  {
   "cell_type": "markdown",
   "metadata": {},
   "source": [
    "### itertools.tee\n",
    "\n",
    "    인자 갯수만큼 복제하기, 기본 값은 2 "
   ]
  },
  {
   "cell_type": "code",
   "execution_count": 2,
   "metadata": {
    "collapsed": false
   },
   "outputs": [
    {
     "name": "stdout",
     "output_type": "stream",
     "text": [
      "(<itertools._tee object at 0x0000000004DEB748>,\n",
      " <itertools._tee object at 0x0000000004DEB788>)\n",
      "(<itertools._tee object at 0x0000000004DEB8C8>,\n",
      " <itertools._tee object at 0x0000000004DEB908>,\n",
      " <itertools._tee object at 0x0000000004DEB948>)\n"
     ]
    }
   ],
   "source": [
    "import itertools\n",
    "import pprint\n",
    "\n",
    "a = itertools.tee( itertools.count() )\n",
    "pprint.pprint(a)\n",
    "\n",
    "a = itertools.tee( itertools.count(),3 )\n",
    "pprint.pprint(a)"
   ]
  },
  {
   "cell_type": "code",
   "execution_count": 7,
   "metadata": {
    "collapsed": false
   },
   "outputs": [
    {
     "name": "stdout",
     "output_type": "stream",
     "text": [
      "1\n",
      "2\n",
      "3\n",
      "1\n",
      "2\n",
      "3\n"
     ]
    }
   ],
   "source": [
    "a = itertools.tee([1,2,3],2)\n",
    "for i in a :\n",
    "    for j in i :\n",
    "        print(j)"
   ]
  },
  {
   "cell_type": "code",
   "execution_count": 10,
   "metadata": {
    "collapsed": false
   },
   "outputs": [
    {
     "name": "stdout",
     "output_type": "stream",
     "text": [
      "1\n",
      "2\n",
      "3\n",
      "1\n",
      "2\n",
      "3\n"
     ]
    }
   ],
   "source": [
    "a = itertools.tee([1,2,3],2)\n",
    "for i in itertools.chain(*a) :\n",
    "    print(i)"
   ]
  },
  {
   "cell_type": "code",
   "execution_count": 9,
   "metadata": {
    "collapsed": false
   },
   "outputs": [
    {
     "name": "stdout",
     "output_type": "stream",
     "text": [
      "Help on class chain in module itertools:\n",
      "\n",
      "class chain(builtins.object)\n",
      " |  chain(*iterables) --> chain object\n",
      " |  \n",
      " |  Return a chain object whose .__next__() method returns elements from the\n",
      " |  first iterable until it is exhausted, then elements from the next\n",
      " |  iterable, until all of the iterables are exhausted.\n",
      " |  \n",
      " |  Methods defined here:\n",
      " |  \n",
      " |  __getattribute__(self, name, /)\n",
      " |      Return getattr(self, name).\n",
      " |  \n",
      " |  __iter__(self, /)\n",
      " |      Implement iter(self).\n",
      " |  \n",
      " |  __new__(*args, **kwargs) from builtins.type\n",
      " |      Create and return a new object.  See help(type) for accurate signature.\n",
      " |  \n",
      " |  __next__(self, /)\n",
      " |      Implement next(self).\n",
      " |  \n",
      " |  __reduce__(...)\n",
      " |      Return state information for pickling.\n",
      " |  \n",
      " |  __setstate__(...)\n",
      " |      Set state information for unpickling.\n",
      " |  \n",
      " |  from_iterable(...) from builtins.type\n",
      " |      chain.from_iterable(iterable) --> chain object\n",
      " |      \n",
      " |      Alternate chain() contructor taking a single iterable argument\n",
      " |      that evaluates lazily.\n",
      "\n"
     ]
    }
   ],
   "source": [
    "help(itertools.chain)"
   ]
  },
  {
   "cell_type": "markdown",
   "metadata": {},
   "source": [
    "### compress "
   ]
  },
  {
   "cell_type": "code",
   "execution_count": 13,
   "metadata": {
    "collapsed": false
   },
   "outputs": [
    {
     "name": "stdout",
     "output_type": "stream",
     "text": [
      "1\n",
      "4\n",
      "5\n"
     ]
    }
   ],
   "source": [
    "import itertools\n",
    "\n",
    "icom = itertools.compress([1,2,3,4,5],[1,0,0,1,1])\n",
    "\n",
    "for i in icom :\n",
    "    print(i)"
   ]
  },
  {
   "cell_type": "code",
   "execution_count": 16,
   "metadata": {
    "collapsed": false
   },
   "outputs": [
    {
     "name": "stdout",
     "output_type": "stream",
     "text": [
      "<class 'itertools.compress'>\n",
      "True\n"
     ]
    }
   ],
   "source": [
    "import itertools\n",
    "import collections.abc\n",
    "\n",
    "icom = itertools.compress([1,2,3,4,5],[1,0,0,1,1])\n",
    "\n",
    "print(type(icom))\n",
    "print(issubclass(type(icom), collections.abc.Iterator))"
   ]
  },
  {
   "cell_type": "markdown",
   "metadata": {},
   "source": [
    "### dropwhile "
   ]
  },
  {
   "cell_type": "code",
   "execution_count": 20,
   "metadata": {
    "collapsed": false
   },
   "outputs": [
    {
     "name": "stdout",
     "output_type": "stream",
     "text": [
      "0\n"
     ]
    }
   ],
   "source": [
    "import itertools\n",
    "\n",
    "def predicate(x) :\n",
    "    return x >= 1\n",
    "idrop = itertools.dropwhile(predicate,[1,1,1,1,0])\n",
    "for i in idrop :\n",
    "    print(i)"
   ]
  },
  {
   "cell_type": "code",
   "execution_count": 27,
   "metadata": {
    "collapsed": false
   },
   "outputs": [
    {
     "name": "stdout",
     "output_type": "stream",
     "text": [
      "0\n"
     ]
    }
   ],
   "source": [
    "state = True\n",
    "for i in [1,1,1,1,0] :  \n",
    "    \n",
    "    if i >= 1 :\n",
    "        pass\n",
    "    else :\n",
    "        state = False\n",
    "    \n",
    "    if state == False :\n",
    "        print(i)"
   ]
  },
  {
   "cell_type": "markdown",
   "metadata": {},
   "source": [
    "### accumulate "
   ]
  },
  {
   "cell_type": "code",
   "execution_count": 30,
   "metadata": {
    "collapsed": false
   },
   "outputs": [
    {
     "name": "stdout",
     "output_type": "stream",
     "text": [
      "[1, 3, 6, 10, 15]\n",
      "[1, 2, 6, 24, 120]\n"
     ]
    }
   ],
   "source": [
    "import itertools\n",
    "import operator\n",
    "\n",
    "l = [1,2,3,4,5]\n",
    "acc = itertools.accumulate(l)\n",
    "print(list(acc))\n",
    "\n",
    "\n",
    "acc1 = itertools.accumulate(l,operator.mul)\n",
    "print(list(acc1))\n"
   ]
  },
  {
   "cell_type": "markdown",
   "metadata": {},
   "source": [
    "### starmap "
   ]
  },
  {
   "cell_type": "code",
   "execution_count": 31,
   "metadata": {
    "collapsed": false
   },
   "outputs": [
    {
     "name": "stdout",
     "output_type": "stream",
     "text": [
      "[2, 12, 30]\n"
     ]
    }
   ],
   "source": [
    "import itertools\n",
    "import operator\n",
    "\n",
    "l = [(1,2),(3,4),(5,6)]\n",
    "star = itertools.starmap(operator.mul,l)\n",
    "print(list(star))\n"
   ]
  },
  {
   "cell_type": "code",
   "execution_count": 33,
   "metadata": {
    "collapsed": false
   },
   "outputs": [
    {
     "name": "stdout",
     "output_type": "stream",
     "text": [
      "[2, 12, 30]\n"
     ]
    }
   ],
   "source": [
    "import operator\n",
    "\n",
    "l1 = [1,3,5]\n",
    "l2 = [2,4,6]\n",
    "\n",
    "print(list(map(operator.mul,l1,l2)))\n"
   ]
  },
  {
   "cell_type": "markdown",
   "metadata": {},
   "source": [
    "### groupby"
   ]
  },
  {
   "cell_type": "code",
   "execution_count": 36,
   "metadata": {
    "collapsed": false
   },
   "outputs": [
    {
     "name": "stdout",
     "output_type": "stream",
     "text": [
      "l  :  ['l', 'l']\n",
      "a  :  ['a']\n",
      "c  :  ['c', 'c']\n",
      "b  :  ['b', 'b']\n",
      "l  :  ['l', 'l']\n"
     ]
    }
   ],
   "source": [
    "import itertools\n",
    "\n",
    "gb = itertools.groupby(\"llaccbbll\")\n",
    "for char, group in gb :\n",
    "    print(char,\" : \", list(group))"
   ]
  },
  {
   "cell_type": "code",
   "execution_count": null,
   "metadata": {
    "collapsed": true
   },
   "outputs": [],
   "source": []
  }
 ],
 "metadata": {
  "anaconda-cloud": {},
  "kernelspec": {
   "display_name": "Python [conda root]",
   "language": "python",
   "name": "conda-root-py"
  },
  "language_info": {
   "codemirror_mode": {
    "name": "ipython",
    "version": 3
   },
   "file_extension": ".py",
   "mimetype": "text/x-python",
   "name": "python",
   "nbconvert_exporter": "python",
   "pygments_lexer": "ipython3",
   "version": "3.5.2"
  }
 },
 "nbformat": 4,
 "nbformat_minor": 1
}
