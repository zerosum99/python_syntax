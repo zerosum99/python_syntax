{
 "cells": [
  {
   "cell_type": "markdown",
   "metadata": {},
   "source": [
    "# 함수란\n",
    "\n",
    "    def 키워드를 이용해서 함수를 정의한 후에 호출해서 사용하지만 실질적으로는   \n",
    "    class function이 인스턴스를 def 키워드를 이용해서 정의해서 함수를 만드는 것이다.\n",
    "    \n",
    "    파이썬의 함수도 객체가 되는 이유는 실질적으로 class function에 의해 만들어진 객체이기 때문이다."
   ]
  },
  {
   "cell_type": "markdown",
   "metadata": {},
   "source": [
    "#  1. 함수 정의"
   ]
  },
  {
   "cell_type": "code",
   "execution_count": 7,
   "metadata": {
    "collapsed": false,
    "scrolled": true
   },
   "outputs": [
    {
     "name": "stdout",
     "output_type": "stream",
     "text": [
      "None\n",
      " 이 함수는 아무런 행동을 하지 않음 \n",
      "Help on function no_action in module __main__:\n",
      "\n",
      "no_action()\n",
      "    이 함수는 아무런 행동을 하지 않음\n",
      "\n",
      "None\n"
     ]
    }
   ],
   "source": [
    "# 아무것도 하지 않는 함수 정의\n",
    "\n",
    "def no_action() :\n",
    "    \"\"\" 이 함수는 아무런 행동을 하지 않음 \"\"\"\n",
    "    pass\n",
    "\n",
    "print(no_action())\n",
    "print(no_action.__doc__)\n",
    "help(no_action)"
   ]
  },
  {
   "cell_type": "code",
   "execution_count": 8,
   "metadata": {
    "collapsed": false
   },
   "outputs": [
    {
     "name": "stdout",
     "output_type": "stream",
     "text": [
      " 이 함수는 아무런 행동을 하지 않음 \n",
      "Help on function no_action in module __main__:\n",
      "\n",
      "no_action()\n",
      "    이 함수는 아무런 행동을 하지 않음\n",
      "\n"
     ]
    }
   ],
   "source": [
    "# 아무것도 하지 않는 함수 정의\n",
    "\n",
    "def no_action() :\n",
    "    \"\"\" 이 함수는 아무런 행동을 하지 않음 \"\"\"\n",
    "    pass\n",
    "\n",
    "\n",
    "print(no_action.__doc__)\n",
    "help(no_action)"
   ]
  },
  {
   "cell_type": "markdown",
   "metadata": {},
   "source": [
    "### 함수 정의는 반드시 함수 호출 전에 정의해야 함\n",
    "\n",
    "    파이썬에서 함수 등 호출이 가능한 경우를 체크하기 위해 collable 함수를 제공하므로 호출이 가능 여부를 점검\n",
    "\n"
   ]
  },
  {
   "cell_type": "code",
   "execution_count": 2,
   "metadata": {
    "collapsed": false
   },
   "outputs": [
    {
     "name": "stdout",
     "output_type": "stream",
     "text": [
      "<class 'function'>\n",
      "True\n"
     ]
    }
   ],
   "source": [
    "# 함수 정의는 함수 호출전에 작성되어야 함\n",
    "def add(x,y) :\n",
    "    return x+y\n",
    "\n",
    "print(type(add))\n",
    "#함수는 호출이 가능해야 하므로 callabe 여부 체크\n",
    "print(callable(add))"
   ]
  },
  {
   "cell_type": "code",
   "execution_count": 1,
   "metadata": {
    "collapsed": false
   },
   "outputs": [
    {
     "ename": "NameError",
     "evalue": "name 'addx' is not defined",
     "output_type": "error",
     "traceback": [
      "\u001b[0;31m---------------------------------------------------------------------------\u001b[0m",
      "\u001b[0;31mNameError\u001b[0m                                 Traceback (most recent call last)",
      "\u001b[0;32m<ipython-input-1-4951e912fa32>\u001b[0m in \u001b[0;36m<module>\u001b[0;34m()\u001b[0m\n\u001b[0;32m----> 1\u001b[0;31m \u001b[0maddx\u001b[0m\u001b[1;33m(\u001b[0m\u001b[1;36m1\u001b[0m\u001b[1;33m,\u001b[0m\u001b[1;36m2\u001b[0m\u001b[1;33m)\u001b[0m\u001b[1;33m\u001b[0m\u001b[0m\n\u001b[0m\u001b[1;32m      2\u001b[0m \u001b[1;33m\u001b[0m\u001b[0m\n\u001b[1;32m      3\u001b[0m \u001b[1;32mdef\u001b[0m \u001b[0maddx\u001b[0m\u001b[1;33m(\u001b[0m\u001b[0mx\u001b[0m\u001b[1;33m,\u001b[0m\u001b[0my\u001b[0m\u001b[1;33m)\u001b[0m \u001b[1;33m:\u001b[0m\u001b[1;33m\u001b[0m\u001b[0m\n\u001b[1;32m      4\u001b[0m     \u001b[1;32mreturn\u001b[0m \u001b[0mx\u001b[0m\u001b[1;33m+\u001b[0m\u001b[0my\u001b[0m\u001b[1;33m\u001b[0m\u001b[0m\n",
      "\u001b[0;31mNameError\u001b[0m: name 'addx' is not defined"
     ]
    }
   ],
   "source": [
    "addx(1,2)\n",
    "\n",
    "def addx(x,y) :\n",
    "    return x+y"
   ]
  },
  {
   "cell_type": "markdown",
   "metadata": {},
   "source": [
    "### 함수는 리턴값을 제공한다.\n",
    "\n",
    "    파이썬은 return을 사용하지 않을 경우에도 무조건 None을 리턴한다."
   ]
  },
  {
   "cell_type": "code",
   "execution_count": 2,
   "metadata": {
    "collapsed": false
   },
   "outputs": [
    {
     "name": "stdout",
     "output_type": "stream",
     "text": [
      "20\n",
      "None\n"
     ]
    }
   ],
   "source": [
    "def add(x,y) :\n",
    "    print(x+y)\n",
    "    \n",
    "#None을 출력함    \n",
    "result = add(10,10)\n",
    "print(result)"
   ]
  },
  {
   "cell_type": "code",
   "execution_count": 3,
   "metadata": {
    "collapsed": false
   },
   "outputs": [
    {
     "name": "stdout",
     "output_type": "stream",
     "text": [
      "20\n"
     ]
    }
   ],
   "source": [
    "def add(x,y) :\n",
    "    return x+y\n",
    "       \n",
    "result = add(10,10)\n",
    "print(result)"
   ]
  },
  {
   "cell_type": "code",
   "execution_count": 4,
   "metadata": {
    "collapsed": false
   },
   "outputs": [
    {
     "name": "stdout",
     "output_type": "stream",
     "text": [
      "(1, 2, 3)\n"
     ]
    }
   ],
   "source": [
    "def func(a,b,c) :\n",
    "    return a,b,c\n",
    "\n",
    "result = func(1,2,3)\n",
    "print(result)\n"
   ]
  },
  {
   "cell_type": "code",
   "execution_count": 5,
   "metadata": {
    "collapsed": false
   },
   "outputs": [
    {
     "name": "stdout",
     "output_type": "stream",
     "text": [
      "1 [2, 3]\n"
     ]
    }
   ],
   "source": [
    "def func(a,b,c) :\n",
    "    return a,b,c\n",
    "\n",
    "a, *b = func(1,2,3)\n",
    "print(a, b)\n"
   ]
  },
  {
   "cell_type": "markdown",
   "metadata": {},
   "source": [
    "### 함수명, 함수변수, 함수객체 구분하기\n",
    "\n",
    "    함수를 정의하면 모듈 내의 global namespace에 Key(변수명)/value(함수객체)로 저장되고\n",
    "    실제 함수명은 __name__, __qualname__에 저장되어 관리한다\n",
    "    \n",
    "    # 함수 정의하면 변수명과 이름으로 구분해서 저장된다.\n",
    "#함수 명은 반드시 __name__, __qualname__ 으로 확인해야 함\n",
    "#모듈에 함수를 정의하면 global namespace(dict 타입)에 Key(변수명)/value(함수객체)로 저장된다"
   ]
  },
  {
   "cell_type": "code",
   "execution_count": 8,
   "metadata": {
    "collapsed": false
   },
   "outputs": [
    {
     "name": "stdout",
     "output_type": "stream",
     "text": [
      "<function add at 0x0000000004FE62F0>\n",
      "<function add at 0x0000000004FE62F0>\n"
     ]
    }
   ],
   "source": [
    "def add(x,y) :\n",
    "    return x+y\n",
    "\n",
    "#함수는 모듈의 글로벌 영역에 정의된 이름과 실제 객체로 생성됨\n",
    "print(globals()[\"add\"])\n",
    "print(add)\n"
   ]
  },
  {
   "cell_type": "code",
   "execution_count": 6,
   "metadata": {
    "collapsed": false
   },
   "outputs": [
    {
     "name": "stdout",
     "output_type": "stream",
     "text": [
      "add\n",
      "add\n",
      "__main__\n"
     ]
    }
   ],
   "source": [
    "# 함수명과 모듈명 조회\n",
    "print(add.__qualname__)\n",
    "print(add.__name__)\n",
    "print(add.__module__)"
   ]
  },
  {
   "cell_type": "markdown",
   "metadata": {},
   "source": [
    "# 2. 함수호출"
   ]
  },
  {
   "cell_type": "code",
   "execution_count": 3,
   "metadata": {
    "collapsed": false
   },
   "outputs": [
    {
     "name": "stdout",
     "output_type": "stream",
     "text": [
      "20\n"
     ]
    }
   ],
   "source": [
    "# 함수의 호출\n",
    "# 함수 정의 이름과 함수 호출연산자에 인자를 넣고 호출함\n",
    "\n",
    "print(add(10,10))\n"
   ]
  },
  {
   "cell_type": "markdown",
   "metadata": {},
   "source": [
    "###  함수 호출 이해하기\n",
    "\n",
    "    함수 호출 연산자 ( () )는 내부속성 __call__을 호출한다.\n",
    "    callable함수로 체크하고 __call__로 실제 작동되는 원리를 이해하기"
   ]
  },
  {
   "cell_type": "code",
   "execution_count": 11,
   "metadata": {
    "collapsed": false
   },
   "outputs": [
    {
     "name": "stdout",
     "output_type": "stream",
     "text": [
      "True\n",
      "<method-wrapper '__call__' of function object at 0x0000000004FE62F0>\n",
      "10\n"
     ]
    }
   ],
   "source": [
    "def add(x,y) :\n",
    "    return x+y\n",
    "\n",
    "print(callable(add))\n",
    "print(add.__call__)\n",
    "print(add.__call__(5,5))\n"
   ]
  },
  {
   "cell_type": "code",
   "execution_count": 12,
   "metadata": {
    "collapsed": false
   },
   "outputs": [
    {
     "name": "stdout",
     "output_type": "stream",
     "text": [
      "10\n",
      "<class 'function'>\n",
      "10\n"
     ]
    }
   ],
   "source": [
    "# 호출연산자로 처리하기\n",
    "print(add(5,5))\n",
    "\n",
    "# 호출 연산자가 처리되는 방식\n",
    "\n",
    "print(add.__class__)\n",
    "print(add.__class__.__call__(add, 5,5))"
   ]
  },
  {
   "cell_type": "code",
   "execution_count": 13,
   "metadata": {
    "collapsed": false
   },
   "outputs": [
    {
     "name": "stdout",
     "output_type": "stream",
     "text": [
      "{'x': <class 'int'>, 'return': <class 'int'>, 'y': <class 'int'>}\n"
     ]
    }
   ],
   "source": [
    "def add(x:int,y:int)-> int:\n",
    "    return x+y\n",
    "\n",
    "print(add.__annotations__)"
   ]
  },
  {
   "cell_type": "code",
   "execution_count": 16,
   "metadata": {
    "collapsed": false
   },
   "outputs": [
    {
     "name": "stdout",
     "output_type": "stream",
     "text": [
      "co_argcount\n",
      "co_cellvars\n",
      "co_code\n",
      "co_consts\n",
      "co_filename\n",
      "co_firstlineno\n",
      "co_flags\n",
      "co_freevars\n",
      "co_kwonlyargcount\n",
      "co_lnotab\n",
      "co_name\n",
      "co_names\n",
      "co_nlocals\n",
      "co_stacksize\n",
      "co_varnames\n"
     ]
    }
   ],
   "source": [
    "for i in dir(add.__code__) :\n",
    "    if i.startswith(\"_\") :\n",
    "        continue\n",
    "    else :\n",
    "        print(i)"
   ]
  },
  {
   "cell_type": "code",
   "execution_count": 17,
   "metadata": {
    "collapsed": false
   },
   "outputs": [
    {
     "name": "stdout",
     "output_type": "stream",
     "text": [
      "  2           0 LOAD_FAST                0 (x)\n",
      "              3 LOAD_FAST                1 (y)\n",
      "              6 BINARY_ADD\n",
      "              7 RETURN_VALUE\n",
      "None\n"
     ]
    }
   ],
   "source": [
    "import dis\n",
    "\n",
    "print(dis.dis(add))"
   ]
  },
  {
   "cell_type": "code",
   "execution_count": 18,
   "metadata": {
    "collapsed": false
   },
   "outputs": [
    {
     "name": "stdout",
     "output_type": "stream",
     "text": [
      "def add(x:int,y:int)-> int:\n",
      "    return x+y\n",
      "\n"
     ]
    }
   ],
   "source": [
    "import inspect\n",
    "\n",
    "print(inspect.getsource(add))"
   ]
  },
  {
   "cell_type": "markdown",
   "metadata": {},
   "source": [
    "# 3. 함수의 Namespace 처리 "
   ]
  },
  {
   "cell_type": "markdown",
   "metadata": {},
   "source": [
    "## 파이썬 namespace 관리 규칙\n",
    "\n",
    "    파이썬 namespace는 dict 타입으로 관리하므로 정의시 꼭 key와 value가 있어야 함\n",
    "    \n",
    "    파이썬 정의는 모두 키와 값으로 구성해서 namespace에서 관리 됨\n",
    "    \n",
    "    "
   ]
  },
  {
   "cell_type": "markdown",
   "metadata": {},
   "source": [
    "## 함수 scope 처리 기준 \n",
    "\n",
    "    함수에서 변수를 찾는 기준\n",
    "    \n",
    "    변수에 대한 접근 순서 : Local > Global > Builtin \n",
    "    "
   ]
  },
  {
   "cell_type": "markdown",
   "metadata": {},
   "source": [
    "#### 로컬 변수만 처리하는 경우 \n",
    "\n",
    "    함수 내부로직 처리시 내부에 지정된 변수만 사용할 경우 자기 자신 내부의 로컬 네임스페이스만 처리 \n",
    "    "
   ]
  },
  {
   "cell_type": "code",
   "execution_count": 47,
   "metadata": {
    "collapsed": false
   },
   "outputs": [
    {
     "name": "stdout",
     "output_type": "stream",
     "text": [
      "{'sum': 10, 'x': 5, 'y': 5}\n",
      "100\n"
     ]
    }
   ],
   "source": [
    "x = 100\n",
    "\n",
    "def loc(x,y) :\n",
    "    sum = x+y\n",
    "    return locals()\n",
    "\n",
    "print(loc(5,5))\n",
    "print(x)"
   ]
  },
  {
   "cell_type": "markdown",
   "metadata": {},
   "source": [
    "#### 글로벌 변수 처리하는 경우"
   ]
  },
  {
   "cell_type": "code",
   "execution_count": 48,
   "metadata": {
    "collapsed": false
   },
   "outputs": [
    {
     "name": "stdout",
     "output_type": "stream",
     "text": [
      "{'sum': 105, 'y': 5}\n",
      "100\n"
     ]
    }
   ],
   "source": [
    "x = 100\n",
    "\n",
    "def loc(y) :\n",
    "    sum = x+y\n",
    "    return locals()\n",
    "\n",
    "print(loc(5))\n",
    "print(x)"
   ]
  },
  {
   "cell_type": "markdown",
   "metadata": {},
   "source": [
    "#### global 키워드를 지정해서 명확히 글로벌 변수로 정의한 후 사용하기 \n",
    "\n",
    "    global 키워드를 사용해서 변수를 지정하면 변경불가능한 정수, 실수 등이 값을 변경할 수도 있다."
   ]
  },
  {
   "cell_type": "code",
   "execution_count": 51,
   "metadata": {
    "collapsed": false
   },
   "outputs": [
    {
     "name": "stdout",
     "output_type": "stream",
     "text": [
      "{'y': 5}\n",
      "105\n"
     ]
    }
   ],
   "source": [
    "x = 100\n",
    "\n",
    "def loc(y) :\n",
    "    global x \n",
    "    x = x+y\n",
    "    return locals()\n",
    "\n",
    "print(loc(5))\n",
    "print(x)"
   ]
  },
  {
   "cell_type": "markdown",
   "metadata": {},
   "source": [
    "#### global 키워드 없이 변경불가능한 데이터 타입의 글로벌 변수 변경시 에러 발생 \n",
    "\n",
    "    에러 발생 나는 이유는 x = x+y 에서 우측 연산 x+y에서 x 변수가 로컬 변수에서 정의가 되지 않아 에러가 발생.\n",
    "    \n",
    "    이런 경우는 파이썬은 변수에 할당을 해야 초기화이므로 일단 로컬영역에서 찾으려고 해도 변수로 정의되지 않았기 때문에 에러가 발생한 것임\n",
    "    "
   ]
  },
  {
   "cell_type": "code",
   "execution_count": 52,
   "metadata": {
    "collapsed": false
   },
   "outputs": [
    {
     "ename": "UnboundLocalError",
     "evalue": "local variable 'x' referenced before assignment",
     "output_type": "error",
     "traceback": [
      "\u001b[0;31m---------------------------------------------------------------------------\u001b[0m",
      "\u001b[0;31mUnboundLocalError\u001b[0m                         Traceback (most recent call last)",
      "\u001b[0;32m<ipython-input-52-3d8fd59f9f77>\u001b[0m in \u001b[0;36m<module>\u001b[0;34m()\u001b[0m\n\u001b[1;32m      6\u001b[0m     \u001b[1;32mreturn\u001b[0m \u001b[0mlocals\u001b[0m\u001b[1;33m(\u001b[0m\u001b[1;33m)\u001b[0m\u001b[1;33m\u001b[0m\u001b[0m\n\u001b[1;32m      7\u001b[0m \u001b[1;33m\u001b[0m\u001b[0m\n\u001b[0;32m----> 8\u001b[0;31m \u001b[0mprint\u001b[0m\u001b[1;33m(\u001b[0m\u001b[0mloc\u001b[0m\u001b[1;33m(\u001b[0m\u001b[1;36m5\u001b[0m\u001b[1;33m)\u001b[0m\u001b[1;33m)\u001b[0m\u001b[1;33m\u001b[0m\u001b[0m\n\u001b[0m\u001b[1;32m      9\u001b[0m \u001b[0mprint\u001b[0m\u001b[1;33m(\u001b[0m\u001b[0mx\u001b[0m\u001b[1;33m)\u001b[0m\u001b[1;33m\u001b[0m\u001b[0m\n",
      "\u001b[0;32m<ipython-input-52-3d8fd59f9f77>\u001b[0m in \u001b[0;36mloc\u001b[0;34m(y)\u001b[0m\n\u001b[1;32m      3\u001b[0m \u001b[1;32mdef\u001b[0m \u001b[0mloc\u001b[0m\u001b[1;33m(\u001b[0m\u001b[0my\u001b[0m\u001b[1;33m)\u001b[0m \u001b[1;33m:\u001b[0m\u001b[1;33m\u001b[0m\u001b[0m\n\u001b[1;32m      4\u001b[0m     \u001b[1;31m#global x\u001b[0m\u001b[1;33m\u001b[0m\u001b[1;33m\u001b[0m\u001b[0m\n\u001b[0;32m----> 5\u001b[0;31m     \u001b[0mx\u001b[0m \u001b[1;33m=\u001b[0m \u001b[0mx\u001b[0m\u001b[1;33m+\u001b[0m\u001b[0my\u001b[0m\u001b[1;33m\u001b[0m\u001b[0m\n\u001b[0m\u001b[1;32m      6\u001b[0m     \u001b[1;32mreturn\u001b[0m \u001b[0mlocals\u001b[0m\u001b[1;33m(\u001b[0m\u001b[1;33m)\u001b[0m\u001b[1;33m\u001b[0m\u001b[0m\n\u001b[1;32m      7\u001b[0m \u001b[1;33m\u001b[0m\u001b[0m\n",
      "\u001b[0;31mUnboundLocalError\u001b[0m: local variable 'x' referenced before assignment"
     ]
    }
   ],
   "source": [
    "x = 100\n",
    "\n",
    "def loc(y) :\n",
    "    #global x \n",
    "    x = x+y\n",
    "    return locals()\n",
    "\n",
    "print(loc(5))\n",
    "print(x)"
   ]
  },
  {
   "cell_type": "markdown",
   "metadata": {},
   "source": [
    "## 함수 내부에 함수가 존재시 nonlocal\n",
    "\n",
    "    함수 단위로 namespace를 관리하므로 함수 내부에 함수를 정의하면 내부 함수에도 namespace가 생김\n",
    "    "
   ]
  },
  {
   "cell_type": "markdown",
   "metadata": {},
   "source": [
    "#### 함수별로 같은 변수명이지만 영역이 달라 값이 다름\n"
   ]
  },
  {
   "cell_type": "code",
   "execution_count": 56,
   "metadata": {
    "collapsed": false
   },
   "outputs": [
    {
     "name": "stdout",
     "output_type": "stream",
     "text": [
      "out :  {'inn': <function out.<locals>.inn at 0x0000000004F4A0D0>, 'x': 5}\n",
      "inn :  {'x': 6}\n"
     ]
    }
   ],
   "source": [
    "def out(x) :\n",
    "    def inn(x) :\n",
    "        print(\"inn : \",locals())\n",
    "        \n",
    "    print(\"out : \", locals())\n",
    "    return inn\n",
    "    \n",
    "inn = out(5)\n",
    "inn(6)"
   ]
  },
  {
   "cell_type": "markdown",
   "metadata": {},
   "source": [
    "#### 내부 함수 외의 변수를 사용 : nonlocal로 지정\n",
    "\n",
    "    클로저가 발생하므로 out의 변수 x에 대해 __closure__ 내부에서 조회해서 값이 변경을 확인해야 함\n",
    "    "
   ]
  },
  {
   "cell_type": "code",
   "execution_count": 63,
   "metadata": {
    "collapsed": false
   },
   "outputs": [
    {
     "name": "stdout",
     "output_type": "stream",
     "text": [
      "out :  {'inn': <function out.<locals>.inn at 0x000000000514FC80>, 'x': 5}\n",
      "inn :  {'x': 11, 'y': 6}\n",
      "11\n"
     ]
    }
   ],
   "source": [
    "def out(x) :\n",
    "    def inn(y) :\n",
    "        nonlocal x\n",
    "        x = x+y\n",
    "        print(\"inn : \",locals())\n",
    "        \n",
    "    print(\"out : \", locals())\n",
    "    return inn\n",
    "    \n",
    "inn = out(5)\n",
    "inn(6)\n",
    "\n",
    "print(inn.__closure__[0].cell_contents)"
   ]
  },
  {
   "cell_type": "markdown",
   "metadata": {},
   "source": [
    "### scope 처리 예시"
   ]
  },
  {
   "cell_type": "code",
   "execution_count": 6,
   "metadata": {
    "collapsed": false
   },
   "outputs": [
    {
     "name": "stdout",
     "output_type": "stream",
     "text": [
      "locals processing 100\n",
      "loc Func {'x': 100}\n",
      "globals processing 100\n"
     ]
    }
   ],
   "source": [
    "def locFunc(x) :\n",
    "    print(\"locals processing\", x)\n",
    "    print(\"loc Func\", locals())\n",
    "    print(\"globals processing\", y)\n",
    "        \n",
    "        \n",
    "# global 변수\n",
    "y = 100\n",
    "\n",
    "locFunc(100)\n",
    "    "
   ]
  },
  {
   "cell_type": "markdown",
   "metadata": {},
   "source": [
    "### 함수에서 객체 호출"
   ]
  },
  {
   "cell_type": "code",
   "execution_count": 1,
   "metadata": {
    "collapsed": false
   },
   "outputs": [
    {
     "name": "stdout",
     "output_type": "stream",
     "text": [
      "dahl\n"
     ]
    }
   ],
   "source": [
    "class A :\n",
    "    name = \"dahl\"\n",
    "    \n",
    "def getName() :\n",
    "    return A.name\n",
    "\n",
    "print(getName())"
   ]
  },
  {
   "cell_type": "markdown",
   "metadata": {},
   "source": [
    "# 4. 함수는 funcion class  객체 "
   ]
  },
  {
   "cell_type": "code",
   "execution_count": 64,
   "metadata": {
    "collapsed": true
   },
   "outputs": [],
   "source": [
    "def addd(x,y) :\n",
    "    return x+y "
   ]
  },
  {
   "cell_type": "markdown",
   "metadata": {},
   "source": [
    "## 함수 데이터 타입\n",
    "\n",
    "    데이터 타입 < function > 임\n",
    "    \n",
    "    즉 def 로 정의하지만 내부적으로는 function class에 의해 함수 인스턴스가 만들어진다.\n",
    "    "
   ]
  },
  {
   "cell_type": "code",
   "execution_count": 2,
   "metadata": {
    "collapsed": false
   },
   "outputs": [
    {
     "name": "stdout",
     "output_type": "stream",
     "text": [
      "<class 'function'>\n",
      "True\n"
     ]
    }
   ],
   "source": [
    "# class function에서 만들어진 함수 객체여부 확인\n",
    "def addd(x,y) :\n",
    "    return x+y \n",
    "\n",
    "print(type(addd))\n",
    "print(isinstance(addd, type(addd)))"
   ]
  },
  {
   "cell_type": "markdown",
   "metadata": {},
   "source": [
    "## 함수도 객체이므로  내부 속성  보기"
   ]
  },
  {
   "cell_type": "code",
   "execution_count": 3,
   "metadata": {
    "collapsed": false
   },
   "outputs": [
    {
     "name": "stdout",
     "output_type": "stream",
     "text": [
      "{'attr': ' 함수 객체 속성 '}\n"
     ]
    }
   ],
   "source": [
    "addd.attr = \" 함수 객체 속성 \"\n",
    "print(addd.__dict__)"
   ]
  },
  {
   "cell_type": "markdown",
   "metadata": {},
   "source": [
    "## 함수에 함수를 속성으로 등록도 가능\n"
   ]
  },
  {
   "cell_type": "code",
   "execution_count": 68,
   "metadata": {
    "collapsed": false
   },
   "outputs": [
    {
     "name": "stdout",
     "output_type": "stream",
     "text": [
      " 함수 \n"
     ]
    }
   ],
   "source": [
    "def f(): \n",
    "    print(\" 함수 \")\n",
    "    \n",
    "addd.f = f\n",
    "\n",
    "addd.f()"
   ]
  },
  {
   "cell_type": "markdown",
   "metadata": {},
   "source": [
    "## 함수 소스 및 바이트코드 확인하기 "
   ]
  },
  {
   "cell_type": "code",
   "execution_count": 73,
   "metadata": {
    "collapsed": false
   },
   "outputs": [
    {
     "name": "stdout",
     "output_type": "stream",
     "text": [
      "<code object addd at 0x0000000004F38D20, file \"<ipython-input-64-ebc80170d1ab>\", line 1>\n",
      "b'|\\x00\\x00|\\x01\\x00\\x17S'\n",
      "def addd(x,y) :\n",
      "    return x+y \n",
      "\n",
      "  2           0 LOAD_FAST                0 (x)\n",
      "              3 LOAD_FAST                1 (y)\n",
      "              6 BINARY_ADD\n",
      "              7 RETURN_VALUE\n",
      "None\n"
     ]
    }
   ],
   "source": [
    "import inspect\n",
    "import dis\n",
    "\n",
    "print(addd.__code__)\n",
    "\n",
    "# byte code 관리 영역\n",
    "print(addd.__code__.co_code)\n",
    "\n",
    "# 실제 소스 보기 \n",
    "print(inspect.getsource(addd))\n",
    "\n",
    "## byte code 소스 보기\n",
    "print(dis.dis(addd))"
   ]
  },
  {
   "cell_type": "markdown",
   "metadata": {},
   "source": [
    "# 5. 함수의 파라미터와 인자\n",
    "    함수의 파라미터는 함수를 정의할 때 사용되어질 인자를 정의하는 변수들\n",
    "    함수의 인자는 함수를 호출할 때 실제 값을 말함\n",
    "    \n",
    "    call by sharing : 파라미터(변수, 키)와 인자(객체, 값) 연결은 객체 reference 전달로 연결되어 진다.\n",
    "    \n",
    "    "
   ]
  },
  {
   "cell_type": "markdown",
   "metadata": {},
   "source": [
    "### Call by sharing\n",
    "\n",
    "    함수 파라미터와 인자 연결은 참조 변수와 객체 reference로 연결된다.\n",
    "    \n",
    "    함수의 파라미터는 내부 로컬 변수이고 함수 호출시 실제 값인 객체가 전달되면 \n",
    "    \n",
    "    실제 파이썬 엔진에서 함수 파라미터를 참조변수로 보고 인자인 값을 객체로 보아 binding "
   ]
  },
  {
   "cell_type": "markdown",
   "metadata": {},
   "source": [
    "###  함수의 파라미터는 함수 내부의 로컬 변수 \n",
    "    함수의 로컬변수는 dict 타입으로 관리됨 \n",
    "    함수 내부에 locals() 함수를 지정하거나 __code__내의 co_varnames로 로컬변수를 찾을 수 있음"
   ]
  },
  {
   "cell_type": "code",
   "execution_count": 8,
   "metadata": {
    "collapsed": false
   },
   "outputs": [
    {
     "name": "stdout",
     "output_type": "stream",
     "text": [
      "<class 'dict'>\n",
      "{'x': 10, 'y': 10}\n",
      "<code object add at 0x00000000052DE930, file \"<ipython-input-8-7ebf026a8e70>\", line 3>\n",
      "('x', 'y')\n"
     ]
    }
   ],
   "source": [
    "# def로 정의한 변수를 함수 파라미터라고 하고 \n",
    "# 함수 파라미터는 함수의 로컬 변수가 됨\n",
    "def add(x,y) :\n",
    "    print(type(locals()))\n",
    "    return locals()\n",
    "\n",
    "print(add(10,10))\n",
    "print(add.__code__)\n",
    "print(add.__code__.co_varnames)"
   ]
  },
  {
   "cell_type": "markdown",
   "metadata": {},
   "source": [
    "### 함수 파라미터\n",
    "\n",
    "    함수의 파라미터는 함수 내부의 로컬변수로 인지된다\n",
    "    \n",
    "    파라미터는 고정형으로 표시되지만 인자가 가변형으로 들어올 수 있다.\n",
    "    \n",
    "    인자가 가변형일 때 고정형 파라미터에 *, **를 표시해서 매핑되는 갯수를 맞춰야 함"
   ]
  },
  {
   "cell_type": "code",
   "execution_count": 7,
   "metadata": {
    "collapsed": false
   },
   "outputs": [
    {
     "name": "stdout",
     "output_type": "stream",
     "text": [
      "<function add at 0x00000000052DFAE8>\n",
      "1771045648 1771045680\n",
      "1771045648 1771045680\n",
      "{'x': 10, 'y': 11}\n",
      "21\n"
     ]
    }
   ],
   "source": [
    "# 함수 정의 및 파라미터 정의\n",
    "# 함수 파라미터(변수)와 함수 인자(객체)간의 연결 \n",
    "def add(x,y) :\n",
    "    print(id(x), id(y))\n",
    "    print(locals())\n",
    "    return x+y\n",
    "\n",
    "print(globals()['add'])\n",
    "\n",
    "a = 10\n",
    "b= 11\n",
    "print(id(a),id(b))\n",
    "print(add(a,b))\n"
   ]
  },
  {
   "cell_type": "markdown",
   "metadata": {},
   "source": [
    "###  함수의 파라미터 초기값 주기\n",
    "\n",
    "     함수 정의시 변수에 값을 할당하면 함수 호출시 인자가 부족할 경우에 초기값(__defaults__)에 저장된 값을 사용함\n",
    "     파라미터 초기값은 변동되지 않고 인자가 없을 때는 함수 호출시 마다 값이 참조됨"
   ]
  },
  {
   "cell_type": "code",
   "execution_count": 9,
   "metadata": {
    "collapsed": false
   },
   "outputs": [
    {
     "name": "stdout",
     "output_type": "stream",
     "text": [
      "(10,)\n",
      "20\n",
      "(10,)\n",
      "40\n"
     ]
    }
   ],
   "source": [
    "def add(x,y=10) :\n",
    "    return x+y\n",
    "\n",
    "print(add.__defaults__)\n",
    "print(add(10))\n",
    "print(add.__defaults__)\n",
    "print(add(10,30))"
   ]
  },
  {
   "cell_type": "markdown",
   "metadata": {},
   "source": [
    "###  함수 파라미터에 초기값을 가변 데이터 타입을 넣지 말아아 하는 이유\n",
    "\n",
    "    함수는 한번 처리되면 clear 되어야 하지면 초기값은 __defaults__ 보관되므로 모듈이 실행 종료될때까지 그 값이 유지된다.\n",
    "    그래서 초기값으로 가변데이터타입(list, dict)으로 처리시 함수 호출할 때마다 값이 추가된다.\n",
    "    \n",
    "    "
   ]
  },
  {
   "cell_type": "code",
   "execution_count": 10,
   "metadata": {
    "collapsed": false
   },
   "outputs": [
    {
     "name": "stdout",
     "output_type": "stream",
     "text": [
      "[10]\n",
      "[10, 10]\n",
      "[10, 10, 10]\n"
     ]
    }
   ],
   "source": [
    "# 초기값에 list나 dict 타입으로 설정하지 말아야 함\n",
    "\n",
    "def func(b,a=[]) :\n",
    "    a.append(b)\n",
    "    return a\n",
    "\n",
    "print(func(10))\n",
    "print(func(10))\n",
    "print(func(10))\n"
   ]
  },
  {
   "cell_type": "code",
   "execution_count": 11,
   "metadata": {
    "collapsed": false
   },
   "outputs": [
    {
     "name": "stdout",
     "output_type": "stream",
     "text": [
      "[10]\n",
      "[10]\n",
      "[10]\n"
     ]
    }
   ],
   "source": [
    "def func(b,a=None) :\n",
    "    if a is None :\n",
    "        a = []\n",
    "    a.append(b)\n",
    "    return a\n",
    "\n",
    "print(func(10))\n",
    "print(func(10))\n",
    "print(func(10))"
   ]
  },
  {
   "cell_type": "markdown",
   "metadata": {},
   "source": [
    "# 6.함수의 파라미터 :  위치와 키워드 인자 구분하기\n",
    "\n",
    "     함수의 파라미터는 로컬변수와 동일하게 관리하므로 변수를 정의하면 \n",
    "     로컬 영역의 키값으로 세팅되고 호출시 인자가 들어오면 값으로 들어감\n",
    "     \n",
    "     위치인자란 함수의 정의된 순서대로 파라미터와 인자가 매핑되어 함수의 로컬변수에 키와 값으로 저장\n",
    "     키워드인자란 함수의 정의된 순서가 아닌 파라미터 이름과 매핑해서 함수의 로컬변수에 키와 값으로 저장\n",
    "     "
   ]
  },
  {
   "cell_type": "markdown",
   "metadata": {},
   "source": [
    "### 파라미터 지정 순으로 처리 : 위치인자"
   ]
  },
  {
   "cell_type": "code",
   "execution_count": 19,
   "metadata": {
    "collapsed": false,
    "scrolled": false
   },
   "outputs": [
    {
     "name": "stdout",
     "output_type": "stream",
     "text": [
      "<class 'tuple'>\n",
      "{'a': 10, 'b': 20, 'x': 10, 'y': 20}\n",
      "30\n"
     ]
    }
   ],
   "source": [
    "def add(x,y) :\n",
    "    print(type(add.__code__.co_varnames))\n",
    "    a = locals()[add.__code__.co_varnames[0]]\n",
    "    b = locals()[add.__code__.co_varnames[1]]\n",
    "    print(locals())\n",
    "    return a+b\n",
    "\n",
    "\n",
    "print(add(10,20))\n"
   ]
  },
  {
   "cell_type": "markdown",
   "metadata": {},
   "source": [
    "### 위치  파라미터 :  키워드로 지정하면 매칭됨 "
   ]
  },
  {
   "cell_type": "code",
   "execution_count": 13,
   "metadata": {
    "collapsed": false
   },
   "outputs": [
    {
     "name": "stdout",
     "output_type": "stream",
     "text": [
      "<class 'tuple'>\n",
      "{'x': 10, 'b': 20, 'y': 20, 'a': 10}\n",
      "30\n"
     ]
    }
   ],
   "source": [
    "print(add(y=20, x=10))"
   ]
  },
  {
   "cell_type": "markdown",
   "metadata": {},
   "source": [
    "### 파라미터 지정시 순서 및 순서 오류 처리\n",
    "\n",
    "    파라미터는 위치인자부터 키워드 인자 순으로 지정해야 처리됨\n",
    "    "
   ]
  },
  {
   "cell_type": "code",
   "execution_count": 21,
   "metadata": {
    "collapsed": false
   },
   "outputs": [
    {
     "ename": "TypeError",
     "evalue": "add() got multiple values for argument 'x'",
     "output_type": "error",
     "traceback": [
      "\u001b[0;31m---------------------------------------------------------------------------\u001b[0m",
      "\u001b[0;31mTypeError\u001b[0m                                 Traceback (most recent call last)",
      "\u001b[0;32m<ipython-input-21-49c6c4204eb3>\u001b[0m in \u001b[0;36m<module>\u001b[0;34m()\u001b[0m\n\u001b[1;32m      3\u001b[0m \u001b[1;31m# 동일한 이름이 여러번 사용하지 않도록 주의해야 함\u001b[0m\u001b[1;33m\u001b[0m\u001b[1;33m\u001b[0m\u001b[0m\n\u001b[1;32m      4\u001b[0m \u001b[1;33m\u001b[0m\u001b[0m\n\u001b[0;32m----> 5\u001b[0;31m \u001b[0mprint\u001b[0m\u001b[1;33m(\u001b[0m\u001b[0madd\u001b[0m\u001b[1;33m(\u001b[0m\u001b[1;36m10\u001b[0m\u001b[1;33m,\u001b[0m\u001b[0mx\u001b[0m\u001b[1;33m=\u001b[0m\u001b[1;36m10\u001b[0m\u001b[1;33m)\u001b[0m\u001b[1;33m)\u001b[0m\u001b[1;33m\u001b[0m\u001b[0m\n\u001b[0m",
      "\u001b[0;31mTypeError\u001b[0m: add() got multiple values for argument 'x'"
     ]
    }
   ],
   "source": [
    "# 위치인자와 키워드 인자 혼용시 주의 사항\n",
    "# 위치인자부터 인식하고 키워드 인자를 인식하므로 \n",
    "# 동일한 이름이 여러번 사용하지 않도록 주의해야 함\n",
    "\n",
    "print(add(10,x=10))"
   ]
  },
  {
   "cell_type": "code",
   "execution_count": 20,
   "metadata": {
    "collapsed": false
   },
   "outputs": [
    {
     "ename": "SyntaxError",
     "evalue": "positional argument follows keyword argument (<ipython-input-20-659a6bca2a53>, line 4)",
     "output_type": "error",
     "traceback": [
      "\u001b[0;36m  File \u001b[0;32m\"<ipython-input-20-659a6bca2a53>\"\u001b[0;36m, line \u001b[0;32m4\u001b[0m\n\u001b[0;31m    print(add(x=10,20))\u001b[0m\n\u001b[0m                  ^\u001b[0m\n\u001b[0;31mSyntaxError\u001b[0m\u001b[0;31m:\u001b[0m positional argument follows keyword argument\n"
     ]
    }
   ],
   "source": [
    "# 함수 호출시 인자값을 넣을 때도 위치인자 후에\n",
    "# 키워드 인자를 지정해야 함\n",
    "\n",
    "print(add(x=10,20))"
   ]
  },
  {
   "cell_type": "markdown",
   "metadata": {},
   "source": [
    "### 함수 파라미터 : 가변 위치인자 처리\n",
    "\n",
    "     함수 가변 위치 파라미터 : 함수 정의시 *를 파라미터 이름 앞에 정의 하면 함수 호출시 인자들을 packing해서 tuple로 처리함\n",
    "     "
   ]
  },
  {
   "cell_type": "code",
   "execution_count": 36,
   "metadata": {
    "collapsed": false
   },
   "outputs": [
    {
     "name": "stdout",
     "output_type": "stream",
     "text": [
      " *args type <class 'tuple'>\n",
      "{'args': (1, 2, 3, 4, 5)}\n",
      "15\n"
     ]
    }
   ],
   "source": [
    "def add(*args) :\n",
    "    print(\" *args type\", type(args))\n",
    "    print(locals())\n",
    "    result = 0\n",
    "    for i in args :\n",
    "        result = result + i\n",
    "    return result\n",
    "\n",
    "print(add(1,2,3,4,5))"
   ]
  },
  {
   "cell_type": "markdown",
   "metadata": {},
   "source": [
    "### 함수 파라미터 : 고정위치 인자와 가변 위치 인자 처리 \n",
    "\n",
    "    고정 위치 인자를 먼저 정의하고 그 뒤에 가변 위치 인자를 처리"
   ]
  },
  {
   "cell_type": "code",
   "execution_count": 77,
   "metadata": {
    "collapsed": false
   },
   "outputs": [
    {
     "name": "stdout",
     "output_type": "stream",
     "text": [
      "{'args': (4, 5, 6), 'z': 3, 'x': 1, 'y': 2}\n"
     ]
    }
   ],
   "source": [
    "def para(x,y,z, *args) :\n",
    "    print(locals())\n",
    "    \n",
    "para(1,2,3,4,5,6)"
   ]
  },
  {
   "cell_type": "markdown",
   "metadata": {},
   "source": [
    "### 함수 파라미터 : 고정위치와 가변 위치 순서를 바꾸면 에러가 남"
   ]
  },
  {
   "cell_type": "code",
   "execution_count": 78,
   "metadata": {
    "collapsed": false
   },
   "outputs": [
    {
     "ename": "TypeError",
     "evalue": "para_x() missing 1 required keyword-only argument: 'x'",
     "output_type": "error",
     "traceback": [
      "\u001b[0;31m---------------------------------------------------------------------------\u001b[0m",
      "\u001b[0;31mTypeError\u001b[0m                                 Traceback (most recent call last)",
      "\u001b[0;32m<ipython-input-78-2439ffbd5c36>\u001b[0m in \u001b[0;36m<module>\u001b[0;34m()\u001b[0m\n\u001b[1;32m      2\u001b[0m     \u001b[0mprint\u001b[0m\u001b[1;33m(\u001b[0m\u001b[0mlocals\u001b[0m\u001b[1;33m(\u001b[0m\u001b[1;33m)\u001b[0m\u001b[1;33m)\u001b[0m\u001b[1;33m\u001b[0m\u001b[0m\n\u001b[1;32m      3\u001b[0m \u001b[1;33m\u001b[0m\u001b[0m\n\u001b[0;32m----> 4\u001b[0;31m \u001b[0mpara_x\u001b[0m\u001b[1;33m(\u001b[0m\u001b[1;36m1\u001b[0m\u001b[1;33m,\u001b[0m\u001b[1;36m2\u001b[0m\u001b[1;33m,\u001b[0m\u001b[1;36m3\u001b[0m\u001b[1;33m,\u001b[0m\u001b[1;36m4\u001b[0m\u001b[1;33m,\u001b[0m\u001b[1;36m5\u001b[0m\u001b[1;33m,\u001b[0m\u001b[1;36m6\u001b[0m\u001b[1;33m)\u001b[0m\u001b[1;33m\u001b[0m\u001b[0m\n\u001b[0m",
      "\u001b[0;31mTypeError\u001b[0m: para_x() missing 1 required keyword-only argument: 'x'"
     ]
    }
   ],
   "source": [
    "def para_x(*args, x) :\n",
    "    print(locals())\n",
    "    \n",
    "para_x(1,2,3,4,5,6)"
   ]
  },
  {
   "cell_type": "code",
   "execution_count": 1,
   "metadata": {
    "collapsed": false
   },
   "outputs": [
    {
     "name": "stdout",
     "output_type": "stream",
     "text": [
      "{'x': 6, 'args': (1, 2, 3, 4, 5)}\n"
     ]
    }
   ],
   "source": [
    "def para_x(*args, x) :\n",
    "    print(locals())\n",
    "    \n",
    "para_x(1,2,3,4,5,x=6)"
   ]
  },
  {
   "cell_type": "markdown",
   "metadata": {},
   "source": [
    "### 함수의 파라미터 :  가변 키워드 인자 처리\n",
    "\n",
    "     함수 가변 키워드 파라미터 : 함수 정의시 **를 파라미터 이름 앞에 정의 하면 함수 호출시 인자들을 packing해서 dict로 처리함\n",
    "     "
   ]
  },
  {
   "cell_type": "code",
   "execution_count": 35,
   "metadata": {
    "collapsed": false
   },
   "outputs": [
    {
     "name": "stdout",
     "output_type": "stream",
     "text": [
      " *args type <class 'dict'>\n",
      "{'kwargs': {'x': 1, 'z': 3, 'b': 5, 'y': 2, 'a': 4}}\n",
      "15\n"
     ]
    }
   ],
   "source": [
    "def add(**kwargs) :\n",
    "    print(\" *args type\", type(kwargs))\n",
    "    print(locals())\n",
    "    result = 0\n",
    "    for i in kwargs.values() :\n",
    "        result = result + i\n",
    "    return result\n",
    "\n",
    "print(add(x=1,y=2,z=3,a=4,b=5))"
   ]
  },
  {
   "cell_type": "markdown",
   "metadata": {},
   "source": [
    "### 함수 파라미터 혼용 :  가변 위치인자와 가변 키워드 인자\n",
    "\n",
    "    함수의 파라미터 정의시 가변위치인자와 가변 키원드 인자를 사용하면 모든 파라미터를 다 받을 수 있다.\n",
    "    \n",
    "\n",
    "    "
   ]
  },
  {
   "cell_type": "code",
   "execution_count": 34,
   "metadata": {
    "collapsed": false
   },
   "outputs": [
    {
     "name": "stdout",
     "output_type": "stream",
     "text": [
      "10\n",
      "13\n"
     ]
    }
   ],
   "source": [
    "def add(*args, **kwargs) :\n",
    "    result = 0\n",
    "    if args is not None :\n",
    "        for i in args :\n",
    "            result += i\n",
    "    if kwargs is not None :\n",
    "        for i in kwargs.values() :\n",
    "            result += i\n",
    "            \n",
    "    return result\n",
    "\n",
    "print(add(1,2,3,4))\n",
    "print(add(1,2,3,4,x=1,y=2))\n",
    "           \n",
    "            "
   ]
  },
  {
   "cell_type": "markdown",
   "metadata": {},
   "source": [
    "### 함수 파라미터 혼용 :  위치 인자, 가변위치인자, 가변 키워드 인자를 혼용"
   ]
  },
  {
   "cell_type": "code",
   "execution_count": 89,
   "metadata": {
    "collapsed": false
   },
   "outputs": [
    {
     "name": "stdout",
     "output_type": "stream",
     "text": [
      "{'args': (), 'kwargs': {}, 'b': 2, 'a': 1}\n",
      "{'args': (2, 3, 4, 5), 'kwargs': {}, 'b': 6, 'a': 1}\n",
      "{'args': (2, 3, 4), 'kwargs': {'c': 6}, 'b': 5, 'a': 1}\n"
     ]
    }
   ],
   "source": [
    "def key_para(a,*args,b, **kwargs) :\n",
    "    print(locals())\n",
    "\n",
    "#위치인자와 가변 키워드 인자 처리\n",
    "key_para(1,b=2)\n",
    "\n",
    "#위치인자와 가변 위치 인자 처리 , 고정 키워드 인자를 반드시 넣어야 함\n",
    "key_para(1,2,3,4,5,b=6)\n",
    "\n",
    "#위치인자와 가변 위치 인자 처리\n",
    "key_para(1,2,3,4,b=5,c=6)"
   ]
  },
  {
   "cell_type": "markdown",
   "metadata": {},
   "source": [
    "### 함수 파라미터 혼용 : 위치 인자, 가변위치인자, 가변 키워드 인자를 혼용 -> 고정 키워드 인자를 초기화 해주면 좋다\n",
    "\n",
    "    고정 키워드 인자가 초기화 지정이 안된 경우 반드시 값을 함수 호출시 처리해야 하나 초기화되면 위치인자만 넣어도 처리가 됨\n",
    "    "
   ]
  },
  {
   "cell_type": "code",
   "execution_count": 91,
   "metadata": {
    "collapsed": false
   },
   "outputs": [
    {
     "name": "stdout",
     "output_type": "stream",
     "text": [
      "{'args': (2, 3, 4, 5, 6), 'kwargs': {}, 'b': None, 'a': 1}\n"
     ]
    }
   ],
   "source": [
    "def key_para(a,*args,b=None, **kwargs) :\n",
    "    print(locals())\n",
    "    \n",
    "key_para(1,2,3,4,5,6)"
   ]
  },
  {
   "cell_type": "markdown",
   "metadata": {},
   "source": [
    "### 함수 파리미터 혼용 : 키워드인자를 확정해서 사용하고 싶을 경우\n",
    "\n",
    "    키워드 인자 파라미터 정의 전에 * 를 지정하면 * 이후에는 전부 키워드 인자로 사용 가능\n",
    "    "
   ]
  },
  {
   "cell_type": "code",
   "execution_count": 21,
   "metadata": {
    "collapsed": false
   },
   "outputs": [
    {
     "name": "stdout",
     "output_type": "stream",
     "text": [
      "{'kwargs': 6, 'a': 1}\n"
     ]
    }
   ],
   "source": [
    "def key_para(a,*, kwargs) :\n",
    "    print(locals())\n",
    "    \n",
    "key_para(1,kwargs=6)"
   ]
  },
  {
   "cell_type": "code",
   "execution_count": 2,
   "metadata": {
    "collapsed": false
   },
   "outputs": [
    {
     "ename": "TypeError",
     "evalue": "key_para() takes 1 positional argument but 4 positional arguments (and 1 keyword-only argument) were given",
     "output_type": "error",
     "traceback": [
      "\u001b[0;31m---------------------------------------------------------------------------\u001b[0m",
      "\u001b[0;31mTypeError\u001b[0m                                 Traceback (most recent call last)",
      "\u001b[0;32m<ipython-input-2-3c99793eefef>\u001b[0m in \u001b[0;36m<module>\u001b[0;34m()\u001b[0m\n\u001b[1;32m      2\u001b[0m     \u001b[0mprint\u001b[0m\u001b[1;33m(\u001b[0m\u001b[0mlocals\u001b[0m\u001b[1;33m(\u001b[0m\u001b[1;33m)\u001b[0m\u001b[1;33m)\u001b[0m\u001b[1;33m\u001b[0m\u001b[0m\n\u001b[1;32m      3\u001b[0m \u001b[1;33m\u001b[0m\u001b[0m\n\u001b[0;32m----> 4\u001b[0;31m \u001b[0mkey_para\u001b[0m\u001b[1;33m(\u001b[0m\u001b[1;36m1\u001b[0m\u001b[1;33m,\u001b[0m\u001b[1;36m3\u001b[0m\u001b[1;33m,\u001b[0m\u001b[1;36m4\u001b[0m\u001b[1;33m,\u001b[0m\u001b[1;36m5\u001b[0m\u001b[1;33m,\u001b[0m\u001b[0mkwargs\u001b[0m\u001b[1;33m=\u001b[0m\u001b[1;36m6\u001b[0m\u001b[1;33m)\u001b[0m\u001b[1;33m\u001b[0m\u001b[0m\n\u001b[0m",
      "\u001b[0;31mTypeError\u001b[0m: key_para() takes 1 positional argument but 4 positional arguments (and 1 keyword-only argument) were given"
     ]
    }
   ],
   "source": [
    "def key_para(a,*, kwargs) :\n",
    "    print(locals())\n",
    "    \n",
    "key_para(1,3,4,5,kwargs=6)"
   ]
  },
  {
   "cell_type": "markdown",
   "metadata": {},
   "source": [
    "## 함수 인자 전달 unpacking 하는 이유 \n",
    "\n",
    "    튜플, 리스트, dict 타입 내의 원소를 함수의 파라미터와 일치 시키려면 파라미터와 매핑\n",
    "    \n",
    "    *, **를 인자 앞에 사용해서 원소별로 매핑시켜야 함수 호출시 인자에  unpacking 처리해야 함 \n",
    "    "
   ]
  },
  {
   "cell_type": "markdown",
   "metadata": {},
   "source": [
    "### 함수 인자 전달시 unpacking 처리(tuple/list)\n",
    "    \n",
    "    tuple/list 도 하나의 인자로 전달되므로 위치인자로 전달하기 위해서는 *를 붙여 unpacking 해야 함"
   ]
  },
  {
   "cell_type": "code",
   "execution_count": 22,
   "metadata": {
    "collapsed": false
   },
   "outputs": [
    {
     "name": "stdout",
     "output_type": "stream",
     "text": [
      " *args type <class 'tuple'>\n",
      "{'args': (1, 2, 3, 4, 5)}\n",
      "15\n"
     ]
    }
   ],
   "source": [
    "var_tuple = (1,2,3,4,5)\n",
    "def add(*args) :\n",
    "    print(\" *args type\", type(args))\n",
    "    print(locals())\n",
    "    result = 0\n",
    "    for i in args :\n",
    "        result = result + i\n",
    "    return result\n",
    "\n",
    "# 인자에 대한 unpacking \n",
    "print(add(*var_tuple))"
   ]
  },
  {
   "cell_type": "code",
   "execution_count": 32,
   "metadata": {
    "collapsed": false
   },
   "outputs": [
    {
     "name": "stdout",
     "output_type": "stream",
     "text": [
      " *args type <class 'tuple'>\n",
      "{'args': (1, 2, 3, 4, 5)}\n",
      "15\n"
     ]
    }
   ],
   "source": [
    "var_list = [1,2,3,4,5]\n",
    "def add(*args) :\n",
    "    print(\" *args type\", type(args))\n",
    "    print(locals())\n",
    "    result = 0\n",
    "    for i in args :\n",
    "        result = result + i\n",
    "    return result\n",
    "\n",
    "# 인자에 대한 unpacking \n",
    "print(add(*var_list))"
   ]
  },
  {
   "cell_type": "markdown",
   "metadata": {},
   "source": [
    "###  함수 인자 전달시 unpacking 처리(dict)\n",
    "\n",
    "    dict도 하나의 인자로 전달되므로 키워드인자로 전달하기 위해서는 **를 붙여 unpacking 해야 함\n",
    "    "
   ]
  },
  {
   "cell_type": "code",
   "execution_count": 31,
   "metadata": {
    "collapsed": false
   },
   "outputs": [
    {
     "name": "stdout",
     "output_type": "stream",
     "text": [
      "{'z': 3, 'x': 1, 'y': 2}\n",
      "6\n"
     ]
    }
   ],
   "source": [
    "# 함수 정의 파라미터와 unpacking된 dict 타입이 이름과 갯수가 같을 경우\n",
    "var_dict = {'x':1,'y':2, 'z':3}\n",
    "def add(x,y,z) :\n",
    "    print(locals())\n",
    "    \n",
    "    return x+y+z\n",
    "\n",
    "# 인자에 대한 unpacking \n",
    "print(add(**var_dict))"
   ]
  },
  {
   "cell_type": "code",
   "execution_count": 30,
   "metadata": {
    "collapsed": false
   },
   "outputs": [
    {
     "name": "stdout",
     "output_type": "stream",
     "text": [
      " *args type <class 'dict'>\n",
      "{'kwargs': {'x': 1, 'z': 3, 'y': 2}}\n",
      "6\n"
     ]
    }
   ],
   "source": [
    "#가변 키워드 인자이므로 함수 정의시 파라미터 이름과 갯수를 확정하지 않음\n",
    "\n",
    "var_dict = {'x':1,'y':2, 'z':3}\n",
    "def add(**kwargs) :\n",
    "    print(\" *args type\", type(kwargs))\n",
    "    print(locals())\n",
    "    result = 0\n",
    "    for i in kwargs.values() :\n",
    "        result = result + i\n",
    "    return result\n",
    "\n",
    "# 인자에 대한 unpacking \n",
    "print(add(**var_dict))"
   ]
  },
  {
   "cell_type": "markdown",
   "metadata": {},
   "source": [
    "# 7.익명함수 \n",
    "\n",
    "    파이썬에서는 이름없는 함수를 익명함수(lambda 키워드)로 inline으로 작성하도록 지원함\n",
    "   \n",
    "    lambda 키워드 다음에 파라미터를 주고 콜론(:) 이후에 로직을 준다.\n",
    "    \n",
    "    return 즉 결과값은 로직이 처리된 결과가 전달 됨"
   ]
  },
  {
   "cell_type": "code",
   "execution_count": 22,
   "metadata": {
    "collapsed": false
   },
   "outputs": [
    {
     "name": "stdout",
     "output_type": "stream",
     "text": [
      "10\n"
     ]
    }
   ],
   "source": [
    "fn = lambda x : x\n",
    "print(fn(10))"
   ]
  },
  {
   "cell_type": "code",
   "execution_count": 23,
   "metadata": {
    "collapsed": false
   },
   "outputs": [
    {
     "name": "stdout",
     "output_type": "stream",
     "text": [
      "20\n"
     ]
    }
   ],
   "source": [
    "def add(x,y) :\n",
    "    return x+y\n",
    "\n",
    "fn1 = lambda x : add(x,x)\n",
    "print(fn1(10))"
   ]
  },
  {
   "cell_type": "markdown",
   "metadata": {},
   "source": [
    "### 즉시 실행함수 및 변수 할당 후 재사용하기 "
   ]
  },
  {
   "cell_type": "code",
   "execution_count": 28,
   "metadata": {
    "collapsed": false
   },
   "outputs": [
    {
     "name": "stdout",
     "output_type": "stream",
     "text": [
      "10\n",
      "<lambda>\n",
      "10\n"
     ]
    }
   ],
   "source": [
    "#즉시 실행 익명함수 정의\n",
    "print((lambda x,y : x+y)(5,5))\n",
    "\n",
    "# 변수에 할당 후 재사용하기\n",
    "add = lambda x,y : x+y\n",
    "# 함수의 이름이 존재하지 않으므로 lambda로 출력\n",
    "print(add.__name__)\n",
    "print(add(5,5))"
   ]
  },
  {
   "cell_type": "markdown",
   "metadata": {},
   "source": [
    "### 익명함수 내의 로직은 표현식이 사용되므로 함수도 사용이 가능"
   ]
  },
  {
   "cell_type": "code",
   "execution_count": 7,
   "metadata": {
    "collapsed": false
   },
   "outputs": [
    {
     "name": "stdout",
     "output_type": "stream",
     "text": [
      "10\n"
     ]
    }
   ],
   "source": [
    "# 익명함수의 로직부분에는 함수도 표현식이므로 사용이 가능\n",
    "def add(x,y) :\n",
    "    return x+y\n",
    "\n",
    "ad_lm = lambda x,y : add(x,y)\n",
    "print(ad_lm(5,5))"
   ]
  },
  {
   "cell_type": "markdown",
   "metadata": {},
   "source": [
    "### 익명함수 초기값 주기 \n",
    "\n",
    "    초기값을 별도의 변수로 부여하고 처리해야 함"
   ]
  },
  {
   "cell_type": "code",
   "execution_count": 15,
   "metadata": {
    "collapsed": false
   },
   "outputs": [
    {
     "name": "stdout",
     "output_type": "stream",
     "text": [
      "[20, 21, 22]\n",
      "[20, 21, 22]\n",
      "(20,)\n",
      "[3, 4, 5]\n"
     ]
    }
   ],
   "source": [
    "x = 20 \n",
    "lam = lambda x=x : list(x+n for n in range(3))\n",
    "#초기값 처리\n",
    "print(lam())\n",
    "x= 40\n",
    "# 초기값이 부여 되면 바뀌지 않음\n",
    "print(lam())\n",
    "print(lam.__defaults__)\n",
    "# 인자 부여\n",
    "print(lam(3))"
   ]
  },
  {
   "cell_type": "markdown",
   "metadata": {},
   "source": [
    "### 지능형 리스트 내부의 변수로 값을 지정할 경우 이슈 \n"
   ]
  },
  {
   "cell_type": "markdown",
   "metadata": {},
   "source": [
    "####  지능형 리스트에서 제공하는 값이 마지막 값으로 세팅 됨 \n"
   ]
  },
  {
   "cell_type": "code",
   "execution_count": 6,
   "metadata": {
    "collapsed": false
   },
   "outputs": [
    {
     "name": "stdout",
     "output_type": "stream",
     "text": [
      "2\n",
      "2\n",
      "2\n"
     ]
    }
   ],
   "source": [
    "alf = [ lambda x : x+n for n in range(3)]\n",
    "\n",
    "\n",
    "for f in alf :\n",
    "    print(f(0))"
   ]
  },
  {
   "cell_type": "code",
   "execution_count": 7,
   "metadata": {
    "collapsed": false
   },
   "outputs": [
    {
     "name": "stdout",
     "output_type": "stream",
     "text": [
      "0\n",
      "1\n",
      "2\n"
     ]
    }
   ],
   "source": [
    "#해결 하려면 함수의 초기값으로 배정해야 함\n",
    "# 람다 함수의 파라미터 n 에 지능형 리스트의 n 변수에 할된 값을 처리\n",
    "alf = [ lambda x, n=n: x+n for n in range(3)]\n",
    "\n",
    "\n",
    "for f in alf :\n",
    "    print(f(0))"
   ]
  },
  {
   "cell_type": "markdown",
   "metadata": {},
   "source": [
    "# 8. 함수 내부에 함수 정의해서 사용하기\n",
    "\n",
    "    함수 내부에 함수를 정의해서 추가적인 기능을 처리하기\n",
    "    \n",
    "       "
   ]
  },
  {
   "cell_type": "code",
   "execution_count": 29,
   "metadata": {
    "collapsed": false
   },
   "outputs": [
    {
     "name": "stdout",
     "output_type": "stream",
     "text": [
      "22\n"
     ]
    }
   ],
   "source": [
    "import operator\n",
    "\n",
    "def outer(x,y) :\n",
    "    inner = operator.add\n",
    "    return inner\n",
    "    \n",
    "\n",
    "inner = outer(10,10)\n",
    "print(inner(11,11))"
   ]
  },
  {
   "cell_type": "code",
   "execution_count": 24,
   "metadata": {
    "collapsed": false
   },
   "outputs": [
    {
     "name": "stdout",
     "output_type": "stream",
     "text": [
      "20\n"
     ]
    }
   ],
   "source": [
    "def outer(x,y) :\n",
    "    def inner(x,y) :\n",
    "        return x+y\n",
    "    result = inner(x,y) \n",
    "    return result\n",
    "\n",
    "print(outer(10,10))"
   ]
  },
  {
   "cell_type": "markdown",
   "metadata": {},
   "source": [
    "### 내부 함수 실행결과를 결과값으로 제공 "
   ]
  },
  {
   "cell_type": "code",
   "execution_count": 26,
   "metadata": {
    "collapsed": false
   },
   "outputs": [
    {
     "name": "stdout",
     "output_type": "stream",
     "text": [
      "10\n"
     ]
    }
   ],
   "source": [
    "# 외부 함수는 단순히 파라미터를 받는 역할로 한정하기\n",
    "\n",
    "def outer(x,y) :\n",
    "    def inner(x,y) :\n",
    "        return x+y\n",
    "    return inner(x,y)\n",
    "\n",
    "print(outer(5,5))"
   ]
  },
  {
   "cell_type": "markdown",
   "metadata": {},
   "source": [
    "### 내부함수를 결과값으로 제공 "
   ]
  },
  {
   "cell_type": "code",
   "execution_count": 18,
   "metadata": {
    "collapsed": false
   },
   "outputs": [
    {
     "name": "stdout",
     "output_type": "stream",
     "text": [
      "<function outer.<locals>.inner at 0x0000000004F4A158>\n",
      "10\n"
     ]
    }
   ],
   "source": [
    "def outer(x,y) :\n",
    "    def inner() :\n",
    "        return x+y\n",
    "    return inner\n",
    "\n",
    "inner = outer(5,5)\n",
    "print(inner)\n",
    "\n",
    "print(inner())"
   ]
  },
  {
   "cell_type": "markdown",
   "metadata": {},
   "source": [
    "###  내부 함수에서 파라미터 받기 "
   ]
  },
  {
   "cell_type": "code",
   "execution_count": 19,
   "metadata": {
    "collapsed": false
   },
   "outputs": [
    {
     "name": "stdout",
     "output_type": "stream",
     "text": [
      "<function outer.<locals>.inner at 0x0000000004F399D8>\n",
      "10\n"
     ]
    }
   ],
   "source": [
    "def outer(x) :\n",
    "    def inner(y) :\n",
    "        return x+y\n",
    "    return inner\n",
    "\n",
    "inner = outer(5)\n",
    "print(inner)\n",
    "\n",
    "print(inner(5))"
   ]
  },
  {
   "cell_type": "markdown",
   "metadata": {},
   "source": [
    "# 9.함수는 객체\n",
    "\n",
    "     함수가 객체로 정의되어 있으므로 함수를 인자로 전달 및 함수 처리 결과값으로 전달\n",
    "     변수에 할당된 함수는 함수 호출연산자( () )으로 호출해서 실행시킬 수 있음 "
   ]
  },
  {
   "cell_type": "markdown",
   "metadata": {},
   "source": [
    "### 변수에 할당 "
   ]
  },
  {
   "cell_type": "code",
   "execution_count": 24,
   "metadata": {
    "collapsed": false
   },
   "outputs": [
    {
     "name": "stdout",
     "output_type": "stream",
     "text": [
      "20\n"
     ]
    }
   ],
   "source": [
    "def add(x,y) :\n",
    "    return x+y\n",
    "\n",
    "ad = add \n",
    "\n",
    "print(ad(10,10))"
   ]
  },
  {
   "cell_type": "markdown",
   "metadata": {},
   "source": [
    "###  함수를 함수의 인자로 전달"
   ]
  },
  {
   "cell_type": "code",
   "execution_count": 25,
   "metadata": {
    "collapsed": false
   },
   "outputs": [
    {
     "name": "stdout",
     "output_type": "stream",
     "text": [
      "10\n"
     ]
    }
   ],
   "source": [
    "#함수를 인자로 전달\n",
    "\n",
    "def add(x,y) :\n",
    "    return x+y\n",
    "\n",
    "def func(func, x,y) :\n",
    "    return func(x,y)\n",
    "\n",
    "print(func(add,5,5))"
   ]
  },
  {
   "cell_type": "markdown",
   "metadata": {},
   "source": [
    "###  함수를 결과값으로 전달"
   ]
  },
  {
   "cell_type": "code",
   "execution_count": 24,
   "metadata": {
    "collapsed": false
   },
   "outputs": [
    {
     "name": "stdout",
     "output_type": "stream",
     "text": [
      "10\n"
     ]
    }
   ],
   "source": [
    "# 함수를 결과값으로 전달하고 변수 할당후에 실행\n",
    "def add(x,y) :\n",
    "    return x+y\n",
    "\n",
    "def func(func) :\n",
    "    return func\n",
    "\n",
    "var_func = func(add)\n",
    "print(var_func(5,5))"
   ]
  },
  {
   "cell_type": "markdown",
   "metadata": {},
   "source": [
    "#  10. 클로저 환경 확인하기\n",
    "\n",
    "     함수에는 __code__ 속성(code class)을 가지고 있고  자유변수의 변수명을 co_freevars에 보관하고 있고\n",
    "     값을 __closure__ 내부에 가지고 있음\n",
    "     \n",
    "     내부 함수를 외부로 전달해서 계속 활용하므로 자유변수가 계속 사용되는 것을 볼수 있음"
   ]
  },
  {
   "cell_type": "code",
   "execution_count": 30,
   "metadata": {
    "collapsed": false
   },
   "outputs": [
    {
     "name": "stdout",
     "output_type": "stream",
     "text": [
      "(<cell at 0x0000000004D56738: int object at 0x0000000067B10270>,)\n",
      "<cell at 0x0000000004D56738: int object at 0x0000000067B10270>\n"
     ]
    }
   ],
   "source": [
    "def outer(x) :\n",
    "    def inner(y) :\n",
    "        return x+y\n",
    "    return inner\n",
    "\n",
    "inner = outer(5)\n",
    "print(inner.__closure__)\n",
    "print(inner.__closure__[0])"
   ]
  },
  {
   "cell_type": "code",
   "execution_count": 31,
   "metadata": {
    "collapsed": false
   },
   "outputs": [
    {
     "name": "stdout",
     "output_type": "stream",
     "text": [
      "('x',)\n",
      "5\n"
     ]
    }
   ],
   "source": [
    "def outer(x) :\n",
    "    def inner(y) :\n",
    "        return x+y\n",
    "    return inner\n",
    "\n",
    "\n",
    "# 자유변수명\n",
    "print(inner.__code__.co_freevars)\n",
    "\n",
    "# 클로저 환경에서 자유변수의 값\n",
    "print(inner.__closure__[0].cell_contents)"
   ]
  },
  {
   "cell_type": "markdown",
   "metadata": {},
   "source": [
    "## 내부 함수를 외부로 전달해서 처리하기 : 클로저(Closure) 환경\n",
    "\n",
    "    클로저 환경을 구성하면 장점은 함수 내에 정의된 자유변수 즉 함수 내부 로컬변수에 대해 재사용이 가능하다"
   ]
  },
  {
   "cell_type": "code",
   "execution_count": 1,
   "metadata": {
    "collapsed": false
   },
   "outputs": [
    {
     "name": "stdout",
     "output_type": "stream",
     "text": [
      "inner\n",
      "10\n",
      "15\n"
     ]
    }
   ],
   "source": [
    "# 내부함수를 외부로 배출해서 함수를 나눠 처리하기\n",
    "# outer 함수 호출시 인자 값이 자유변수를 구성해서 \n",
    "# 계속 함수를 호출할 경우에도 고정값처럼 사용됨\n",
    "def outer(x) :\n",
    "    def inner(y) :\n",
    "        return x+y\n",
    "    return inner\n",
    "\n",
    "inner = outer(5)\n",
    "print(inner.__name__)\n",
    "print(inner(5))\n",
    "print(inner(10))"
   ]
  },
  {
   "cell_type": "markdown",
   "metadata": {},
   "source": [
    "# 11. 함수 내부 속성 이해하기\n",
    "\n",
    "     함수도 객체이므로 객체 네임스페이스인 __dict__ 관리를 출력\n"
   ]
  },
  {
   "cell_type": "code",
   "execution_count": 18,
   "metadata": {
    "collapsed": false
   },
   "outputs": [
    {
     "name": "stdout",
     "output_type": "stream",
     "text": [
      "{'clsname': 'func object attr'}\n",
      "['__annotations__', '__call__', '__class__', '__closure__', '__code__', '__defaults__', '__delattr__', '__dict__', '__dir__', '__doc__', '__eq__', '__format__', '__ge__', '__get__', '__getattribute__', '__globals__', '__gt__', '__hash__', '__init__', '__kwdefaults__', '__le__', '__lt__', '__module__', '__name__', '__ne__', '__new__', '__qualname__', '__reduce__', '__reduce_ex__', '__repr__', '__setattr__', '__sizeof__', '__str__', '__subclasshook__', 'clsname']\n"
     ]
    }
   ],
   "source": [
    "def add(x:int,y:int)-> int:\n",
    "    return x+y\n",
    "\n",
    "#함수 객체 영역에 속성 clsname을 추가\n",
    "add.clsname = \"func object attr\"\n",
    "print(add.__dict__)\n",
    "print(dir(add))"
   ]
  },
  {
   "cell_type": "markdown",
   "metadata": {},
   "source": [
    "## 함수의 기본정보"
   ]
  },
  {
   "cell_type": "code",
   "execution_count": 8,
   "metadata": {
    "collapsed": false
   },
   "outputs": [
    {
     "name": "stdout",
     "output_type": "stream",
     "text": [
      "__main__\n",
      "<class 'function'>\n",
      "add\n",
      "add\n",
      "{'y': <class 'int'>, 'x': <class 'int'>, 'return': <class 'int'>}\n"
     ]
    }
   ],
   "source": [
    "def add(x:int,y:int)-> int:\n",
    "    return x+y\n",
    "\n",
    "#함수에 대한 기본 정보확인\n",
    "print(add.__module__)\n",
    "print(add.__class__)\n",
    "print(add.__name__)\n",
    "print(add.__qualname__)\n",
    "\n",
    "# 파라미터와 결과값에 대한 주석 정보 제공\n",
    "print(add.__annotations__)"
   ]
  },
  {
   "cell_type": "code",
   "execution_count": 20,
   "metadata": {
    "collapsed": false
   },
   "outputs": [
    {
     "name": "stdout",
     "output_type": "stream",
     "text": [
      "{'clsname': 'func object attr'}\n"
     ]
    }
   ],
   "source": [
    "# 함수가 객체일 경우 네임스페이스 \n",
    "print(add.__dict__)"
   ]
  },
  {
   "cell_type": "code",
   "execution_count": 21,
   "metadata": {
    "collapsed": false
   },
   "outputs": [
    {
     "name": "stdout",
     "output_type": "stream",
     "text": [
      "{'clsname'}\n",
      "{'__call__', '__get__', '__init__', '__delattr__', '__defaults__', '__sizeof__', '__dict__', '__name__', '__ge__', '__setattr__', '__getattribute__', '__reduce_ex__', '__subclasshook__', '__repr__', '__format__', '__reduce__', '__class__', '__lt__', '__eq__', '__hash__', '__ne__', '__qualname__', '__new__', '__le__', '__closure__', '__globals__', '__module__', '__str__', '__doc__', '__annotations__', '__kwdefaults__', '__dir__', '__gt__', '__code__'}\n"
     ]
    }
   ],
   "source": [
    "# function class 내부 정보 확인하기\n",
    "inst = set(dir(add))\n",
    "cls  = set(dir(add.__class__))\n",
    "\n",
    "diff = inst - cls\n",
    "print(diff)\n",
    "print(cls)"
   ]
  },
  {
   "cell_type": "code",
   "execution_count": 22,
   "metadata": {
    "collapsed": false
   },
   "outputs": [
    {
     "name": "stdout",
     "output_type": "stream",
     "text": [
      "['__class__', '__delattr__', '__dir__', '__doc__', '__eq__', '__format__', '__ge__', '__getattribute__', '__gt__', '__hash__', '__init__', '__le__', '__lt__', '__ne__', '__new__', '__reduce__', '__reduce_ex__', '__repr__', '__setattr__', '__sizeof__', '__str__', '__subclasshook__', 'co_argcount', 'co_cellvars', 'co_code', 'co_consts', 'co_filename', 'co_firstlineno', 'co_flags', 'co_freevars', 'co_kwonlyargcount', 'co_lnotab', 'co_name', 'co_names', 'co_nlocals', 'co_stacksize', 'co_varnames']\n"
     ]
    }
   ],
   "source": [
    "# code class 내부 정보 확인하기\n",
    "print(dir(add.__code__))"
   ]
  },
  {
   "cell_type": "code",
   "execution_count": 23,
   "metadata": {
    "collapsed": false
   },
   "outputs": [
    {
     "name": "stdout",
     "output_type": "stream",
     "text": [
      "2\n",
      "b'|\\x00\\x00|\\x01\\x00\\x17S'\n",
      "add\n",
      "2\n"
     ]
    }
   ],
   "source": [
    "#함수 내의 파라미터 갯수\n",
    "print(add.__code__.co_argcount)\n",
    "# 함수 바이너리 코드 명령어\n",
    "print(add.__code__.co_code)\n",
    "\n",
    "print(add.__code__.co_name)\n",
    "print(add.__code__.co_nlocals)"
   ]
  },
  {
   "cell_type": "markdown",
   "metadata": {},
   "source": [
    "### 외부 함수 변수 확인하기"
   ]
  },
  {
   "cell_type": "code",
   "execution_count": 16,
   "metadata": {
    "collapsed": false
   },
   "outputs": [
    {
     "name": "stdout",
     "output_type": "stream",
     "text": [
      "('x',)\n",
      "(<cell at 0x00000000052E23D8: int object at 0x0000000069900270>,)\n",
      "<cell at 0x00000000052E23D8: int object at 0x0000000069900270>\n",
      "<class 'code'>\n",
      "('x',)\n",
      "5\n"
     ]
    }
   ],
   "source": [
    "def outer(x) :\n",
    "    z = 0\n",
    "    def inner(y) :\n",
    "        return x+y\n",
    "    return inner\n",
    "\n",
    "inner = outer(5)\n",
    "# 외부 함수 변수중에 내부함수에서 관련된 변수\n",
    "print(outer.__code__.co_cellvars)\n",
    "print(inner.__closure__)\n",
    "print(inner.__closure__[0])\n",
    "print(type(inner.__code__))\n",
    "print(inner.__code__.co_freevars)\n",
    "print(inner.__closure__[0].cell_contents)"
   ]
  },
  {
   "cell_type": "code",
   "execution_count": 3,
   "metadata": {
    "collapsed": false
   },
   "outputs": [
    {
     "name": "stdout",
     "output_type": "stream",
     "text": [
      "('x',)\n",
      "5\n"
     ]
    }
   ],
   "source": [
    "def outer(x) : \n",
    "    def inner(y) :\n",
    "        return x+y\n",
    "    return inner\n",
    "\n",
    "inner = outer(5)\n",
    "print(inner.__code__.co_freevars)\n",
    "print(inner.__closure__[0].cell_contents)"
   ]
  },
  {
   "cell_type": "markdown",
   "metadata": {},
   "source": [
    "# 12. 데코레이터(decorator)\n",
    "\n",
    "    문법\n",
    "    \n",
    "    데코레이터 처리 함수/클래스/메소드 정의\n",
    "    \n",
    "        @ 테코레이터(callable 함수, 클래스, 메소드)\n",
    "        # 실행함수 정의\n",
    "        def 실행함수명(파라미터) :\n",
    "            실행로직\n",
    "    \n",
    "    데코레이터에 들어갈 기능 :\n",
    "    \n",
    "         함수 공통 기능 등을 별도의 함수로 정하고 실행함수 위에 @함수명을 정하면 실제 실행함수가 실행될 때 데코레이터 부분을 처리하고 \n",
    "    \n",
    "          그 다음에 정해진 실행함수를 실행한다\n",
    "    \n",
    "          데코레이터는 callable 이 가능한 경우 모두 처리가 가능함\n",
    "    \n",
    "    "
   ]
  },
  {
   "cell_type": "markdown",
   "metadata": {},
   "source": [
    "## 데코레이터 : 함수"
   ]
  },
  {
   "cell_type": "markdown",
   "metadata": {},
   "source": [
    "### 함수를 인자로 전달하고 결과를 변수에 할당 후 처리\n",
    "\n",
    "    데코레이터 규칙이 없을 경우 모든 방식을 이렇게 작성해야 한다 ."
   ]
  },
  {
   "cell_type": "code",
   "execution_count": 32,
   "metadata": {
    "collapsed": false
   },
   "outputs": [
    {
     "name": "stdout",
     "output_type": "stream",
     "text": [
      "20\n"
     ]
    }
   ],
   "source": [
    "def dec_func(func) :\n",
    "    return func\n",
    "\n",
    "@dec_func\n",
    "def add(x,y) :\n",
    "    return x+y\n",
    "\n",
    "print(add(10,10))"
   ]
  },
  {
   "cell_type": "code",
   "execution_count": 4,
   "metadata": {
    "collapsed": false
   },
   "outputs": [
    {
     "name": "stdout",
     "output_type": "stream",
     "text": [
      "84728416\n",
      "84728416\n"
     ]
    }
   ],
   "source": [
    "## @ 문법을 사용하지 않을 경우 \n",
    "## 데코레이터 처리 방법 \n",
    "\n",
    "def dec_func(func) :\n",
    "    return func\n",
    "\n",
    "def add(x,y) :\n",
    "    return x+y\n",
    "# 데코레이터 함수에 실행함수를 전달해서\n",
    "# 리턴 결과로 함수를 받음\n",
    "add = dec_func(add)\n",
    "\n",
    "print(id(add))\n",
    "print(id(add))"
   ]
  },
  {
   "cell_type": "code",
   "execution_count": 33,
   "metadata": {
    "collapsed": false
   },
   "outputs": [
    {
     "name": "stdout",
     "output_type": "stream",
     "text": [
      "20\n"
     ]
    }
   ],
   "source": [
    "def dec_func(func) :\n",
    "    return func\n",
    "\n",
    "def add(x,y) :\n",
    "    return x+y\n",
    "\n",
    "add = dec_func(add)\n",
    "\n",
    "print(add(10,10))"
   ]
  },
  {
   "cell_type": "markdown",
   "metadata": {},
   "source": [
    "### 함수를 바로 리턴하는 데코레이터 \n",
    "\n",
    "    데코레이터는 모듈이 처리될 때 먼저 실행되므로 호출이전에 데코레이터 함수가 처리 됨\n",
    "    "
   ]
  },
  {
   "cell_type": "code",
   "execution_count": 6,
   "metadata": {
    "collapsed": false
   },
   "outputs": [
    {
     "name": "stdout",
     "output_type": "stream",
     "text": [
      " decorator  84613864\n",
      "84613864\n",
      "84613864\n"
     ]
    }
   ],
   "source": [
    "\n",
    "## 데코레이터 함수 정의\n",
    "## 데코레이터 작동 시점은 로드될 때 먼저 실행됨\n",
    "\n",
    "def dec_func(func) :\n",
    "    \n",
    "    print(\" decorator \",id(func))\n",
    "    return func\n",
    "\n",
    "## 데코레이터는 실행함수와 붙여서 작성해야 함\n",
    "# 데코레이터 함수 실행\n",
    "@dec_func\n",
    "def add(x,y) :\n",
    "    return x+y\n",
    "\n",
    "\n",
    "print(id(add))\n",
    "print(id(add))"
   ]
  },
  {
   "cell_type": "markdown",
   "metadata": {},
   "source": [
    "##  데코레이터 :  전용 내부 함수 정의하기\n",
    "\n",
    "    외부 함수에서는 함수를 인자로 받고 내부함수를 리턴해서 기존 함수의 인자를 받아 내부 함수 내에서 실행해서 데코레이터를 처리\n",
    "    "
   ]
  },
  {
   "cell_type": "code",
   "execution_count": 8,
   "metadata": {
    "collapsed": false
   },
   "outputs": [
    {
     "name": "stdout",
     "output_type": "stream",
     "text": [
      "84828776\n",
      "wrapper\n",
      "wrapper doc\n",
      "wrapper  84828776\n",
      "10\n"
     ]
    }
   ],
   "source": [
    "def dec_funcx(func) :\n",
    "    \n",
    "    def wrapper(*args, **kwargs) :\n",
    "        \"wrapper doc\"\n",
    "        print(\"wrapper \", id(wrapper))\n",
    "        return func(*args, **kwargs)\n",
    "        \n",
    "    return wrapper\n",
    "\n",
    "@dec_funcx\n",
    "def addx(x,y) :\n",
    "    \"doc add \"\n",
    "    return x+y\n",
    "\n",
    "# addx가 실행되지만 실제 wrapper 함수를 처리하므로\n",
    "# addx 정보를 알 수 없음\n",
    "\n",
    "# 내부 함수 주소가 전돨됨\n",
    "print(id(addx))\n",
    "print(addx.__name__)\n",
    "print(addx.__doc__)\n",
    "\n",
    "# 실행하면 wrapper 내에 func(addx) 즉 실행함수가 작동됨\n",
    "print(addx(5,5))\n"
   ]
  },
  {
   "cell_type": "markdown",
   "metadata": {},
   "source": [
    "###  데코레이터 :  실행함수의 함수 정보를 유지하기 위한 방법\n",
    "\n",
    "     리턴하는 것이 내부함수이기 때문에 실행함수 정보가 소실된다.\n",
    "     \n",
    "     @wraps로 데코레이터로 전달된 실행함수의 정보를 내부함수의 정보에 세팅해서 처리함\n",
    "     \n",
    "     그래서 실행함수 정보가 항상 유지됨 \n",
    "     "
   ]
  },
  {
   "cell_type": "code",
   "execution_count": 10,
   "metadata": {
    "collapsed": false
   },
   "outputs": [
    {
     "name": "stdout",
     "output_type": "stream",
     "text": [
      "84729232\n",
      "add\n",
      "doc add \n",
      " wrapper  84729232\n",
      "10\n"
     ]
    }
   ],
   "source": [
    "from functools import wraps\n",
    "\n",
    "def dec_func(func) :\n",
    "    \n",
    "    ## 내부함수에도 전달받은 함수의 정보를 유지하기 위해\n",
    "    ## 데코레이터로 함수 내부 정보를 변경함\n",
    "    @wraps(func)\n",
    "    def wrapper(*args, **kwargs) :\n",
    "        print(\" wrapper \", id(wrapper))\n",
    "        return func(*args, **kwargs)\n",
    "        \n",
    "    return wrapper\n",
    "\n",
    "@dec_func\n",
    "def add(x,y) :\n",
    "    \"doc add \"\n",
    "    return x+y\n",
    "\n",
    "## wrapper 함수가 아닌 내부 함수가 처리 됨\n",
    "print(id(add))\n",
    "print(add.__name__)\n",
    "print(add.__doc__)\n",
    "print(add(5,5))\n"
   ]
  },
  {
   "cell_type": "markdown",
   "metadata": {},
   "source": [
    "### 데코레이터 함수에 로직 처리한 후에 실행함수 처리하기\n",
    "\n",
    "     데코레이터를 사용하는 이유는 공통적인 기능을 함수마다 추가하기 보다는 공통의 데코레이터를 이용해서 처리\n",
    "     \n",
    "     \n"
   ]
  },
  {
   "cell_type": "code",
   "execution_count": 9,
   "metadata": {
    "collapsed": false
   },
   "outputs": [],
   "source": [
    "from functools import wraps\n",
    "import collections.abc as cols\n",
    "\n",
    "## 타입체크 공통 기능 함수 정의\n",
    "## 가변위치인자 ==> tuple\n",
    "## 가변 키워드인자 ==> dict \n",
    "def typecheck(args,kwargs) :\n",
    "    if isinstance(args, cols.Sequence) :\n",
    "        print(\" args type \", \"tuple\")\n",
    "        \n",
    "    if isinstance(kwargs, cols.Mapping) :\n",
    "        print(\" kwargs type \", \"dict\")\n",
    "        \n",
    "# 데코레이터 함수로서 타입체크 공통기능을 내부에서 체크        \n",
    "def dec_func(func) :\n",
    "    @wraps(func)\n",
    "    def wrapper(*args, **kwargs) :\n",
    "        print(\"{:-^40s}\".format(\" wrapper \"))\n",
    "        typecheck(args,kwargs)\n",
    "        print(\"{:-^40s}\".format(\"\"))\n",
    "        return func(*args, **kwargs)\n",
    "        \n",
    "    return wrapper\n"
   ]
  },
  {
   "cell_type": "code",
   "execution_count": 10,
   "metadata": {
    "collapsed": false
   },
   "outputs": [
    {
     "name": "stdout",
     "output_type": "stream",
     "text": [
      "add\n",
      "doc add \n",
      "--------------- wrapper ----------------\n",
      " args type  tuple\n",
      " kwargs type  dict\n",
      "----------------------------------------\n",
      "10\n"
     ]
    }
   ],
   "source": [
    "@dec_func\n",
    "def add(x,y) :\n",
    "    \"doc add \"\n",
    "    return x+y\n",
    "\n",
    "print(add.__name__)\n",
    "print(add.__doc__)\n",
    "print(add(5,5))\n"
   ]
  },
  {
   "cell_type": "markdown",
   "metadata": {},
   "source": [
    "###  데코레이터 :  데코레이트 함수가 별도의 인자를 가질 경우 \n",
    "\n",
    "     데코레이터 함수도 인자가 있을 경우 별도의 인자를 받고 내부 함수를 이중으로 만들어서 실행함수를 받고 실행함수의 인자를 받아 실행\n",
    "     "
   ]
  },
  {
   "cell_type": "code",
   "execution_count": 12,
   "metadata": {
    "collapsed": false
   },
   "outputs": [
    {
     "name": "stdout",
     "output_type": "stream",
     "text": [
      "decorator parameter\n",
      "10\n",
      "add\n"
     ]
    }
   ],
   "source": [
    "from functools import wraps\n",
    "\n",
    "def out_para(x) :\n",
    "    print(x)\n",
    "    def dec_func(func) :\n",
    "        @wraps(func)\n",
    "        def wrapper(*args, **kwargs) :\n",
    "            return func(*args, **kwargs)\n",
    "        \n",
    "        return wrapper\n",
    "    return dec_func\n",
    "\n",
    "@out_para(\"decorator parameter\")\n",
    "def add(x,y) :\n",
    "    return x+y\n",
    "\n",
    "print(add(5,5))\n",
    "\n",
    "# wraps 데코레이터를 이용해서 wrapper이 정보를 add 함수것으로 변경함\n",
    "print(add.__name__)"
   ]
  },
  {
   "cell_type": "markdown",
   "metadata": {},
   "source": [
    "###  데코레이터를 이용해서 클래스 내의 속성 추가 하기"
   ]
  },
  {
   "cell_type": "markdown",
   "metadata": {},
   "source": [
    "#### 데코레이터를 이용해서 간단히 속성 추가 "
   ]
  },
  {
   "cell_type": "code",
   "execution_count": 34,
   "metadata": {
    "collapsed": false
   },
   "outputs": [
    {
     "name": "stdout",
     "output_type": "stream",
     "text": [
      "mappingproxy({'__dict__': <attribute '__dict__' of 'A' objects>,\n",
      "              '__doc__': None,\n",
      "              '__module__': '__main__',\n",
      "              '__weakref__': <attribute '__weakref__' of 'A' objects>,\n",
      "              'a': 'insert attribute'})\n"
     ]
    }
   ],
   "source": [
    "import pprint\n",
    "\n",
    "def dec(cls) :\n",
    "    cls.a = \"insert attribute\"\n",
    "    return cls\n",
    "\n",
    "# 아무런 속성을 추가하지 않는 클래스\n",
    "@dec\n",
    "class A :\n",
    "    pass\n",
    "\n",
    "a = A()\n",
    "pprint.pprint(A.__dict__)\n"
   ]
  },
  {
   "cell_type": "markdown",
   "metadata": {},
   "source": [
    "#### 데코레이터를 이용해서 스페셜 메소드 갱신 "
   ]
  },
  {
   "cell_type": "code",
   "execution_count": 7,
   "metadata": {
    "collapsed": false
   },
   "outputs": [
    {
     "name": "stdout",
     "output_type": "stream",
     "text": [
      "['__abstractmethods__', '__class__', '__delattr__', '__dict__', '__dir__', '__doc__', '__eq__', '__format__', '__ge__', '__getattribute__', '__gt__', '__hash__', '__init__', '__instancecheck__', '__le__', '__lt__', '__module__', '__ne__', '__new__', '__reduce__', '__reduce_ex__', '__repr__', '__setattr__', '__sizeof__', '__str__', '__subclasshook__', '__weakref__', '_abc_cache', '_abc_negative_cache', '_abc_negative_cache_version', '_abc_registry', 'x', 'y']\n",
      "True\n"
     ]
    }
   ],
   "source": [
    "def out_decorator(*attributes):\n",
    "    \n",
    "    # 클래스를 인자로 받음\n",
    "    def in_decorator(Base):\n",
    "        \n",
    "        # 내부 속성 유뮤 확인\n",
    "        def checker(Other):\n",
    "            return all(hasattr(Other, a) for a in attributes)\n",
    "\n",
    "        def __subclasshook__(cls, Other):\n",
    "            if checker(Other):\n",
    "                return True\n",
    "            return NotImplemented\n",
    "\n",
    "        def __instancecheck__(cls, Other):\n",
    "            return checker(Other)\n",
    "        \n",
    "        # 클래스 내부 스페셜 메소드를 재할당\n",
    "        Base.__subclasshook__ = classmethod(__subclasshook__)\n",
    "        Base.__instancecheck__ = classmethod(__instancecheck__)\n",
    "        \n",
    "        return Base\n",
    "\n",
    "    return in_decorator\n",
    "\n",
    "# 추상클래스를 만드는 추상메타클래스 import \n",
    "from abc import ABCMeta\n",
    "\n",
    "@out_decorator(\"x\", \"y\")\n",
    "class Foo(metaclass= ABCMeta):\n",
    "    \n",
    "    def x(self): return 5\n",
    "    def y(self): return 10\n",
    "    \n",
    "\n",
    "print(dir(Foo))\n",
    "\n",
    "\n",
    "class Bar(object):\n",
    "    def x(self): return \"blah\"\n",
    "    def y(self): return \"blah\"\n",
    "\n",
    "# 상속은 받지 않지만 파이썬 subclass 유무 확인이 가능\n",
    "print(issubclass(Bar, Foo))"
   ]
  },
  {
   "cell_type": "markdown",
   "metadata": {},
   "source": [
    "### 메소드로 데코레이터 처리하기 \n"
   ]
  },
  {
   "cell_type": "markdown",
   "metadata": {},
   "source": [
    "#### 클래스 메소드를 이용한 데코레이터 처리"
   ]
  },
  {
   "cell_type": "code",
   "execution_count": 19,
   "metadata": {
    "collapsed": false
   },
   "outputs": [
    {
     "name": "stdout",
     "output_type": "stream",
     "text": [
      " DECC \n",
      "<function add at 0x0000000005326E18>\n",
      "10\n",
      "decc\n"
     ]
    }
   ],
   "source": [
    "class DECC :\n",
    "    @classmethod\n",
    "    def attr_check(cls, Base) :\n",
    "        print(\" DECC \")\n",
    "        Base.a = \"decc\"\n",
    "        return Base\n",
    "    \n",
    "@DECC.attr_check\n",
    "def add(x,y) :\n",
    "    return x+y\n",
    "\n",
    "print(add)\n",
    "print(add(5,5))\n",
    "print(add.a)"
   ]
  },
  {
   "cell_type": "markdown",
   "metadata": {},
   "source": [
    "####   인스턴스 메소드를 이용한 데코레이터 처리 "
   ]
  },
  {
   "cell_type": "code",
   "execution_count": 23,
   "metadata": {
    "collapsed": false
   },
   "outputs": [
    {
     "name": "stdout",
     "output_type": "stream",
     "text": [
      " DECD \n",
      "<function add at 0x0000000005332620>\n",
      "10\n",
      "decd\n"
     ]
    }
   ],
   "source": [
    "class DECD :\n",
    "            \n",
    "    def attr_check(self, Base) :\n",
    "        print(\" DECD \")\n",
    "        Base.a = \"decd\"\n",
    "        return Base\n",
    "\n",
    "d = DECD()\n",
    "@d.attr_check\n",
    "def add(x,y) :\n",
    "    return x+y\n",
    "\n",
    "print(add)\n",
    "print(add(5,5))\n",
    "print(add.a)"
   ]
  },
  {
   "cell_type": "markdown",
   "metadata": {},
   "source": [
    "### 클래스로 데코레이터 처리 \n",
    "\n",
    "\n",
    "    클래스로 데코레이터 처리하려면 인스턴스가 호출되어 처리되도록 __call__을 추가해서 인스턴스가 실행되도록 수정\n",
    "    "
   ]
  },
  {
   "cell_type": "code",
   "execution_count": 2,
   "metadata": {
    "collapsed": false
   },
   "outputs": [
    {
     "name": "stdout",
     "output_type": "stream",
     "text": [
      "<__main__.Prop_dec object at 0x00000000050D5438>\n",
      "{'fget': <function add at 0x0000000004C407B8>}\n",
      "(5, 5)\n"
     ]
    }
   ],
   "source": [
    "class Prop_dec(object):\n",
    "    \"Emulate PyProperty_Type() in Objects/descrobject.c\"\n",
    "\n",
    "    ## 인스턴스 생성 및 인스턴스 내부 메소드 등록\n",
    "    def __init__(self, fget=None):\n",
    "        self.fget = fget\n",
    "    \n",
    "        \n",
    "    def __call__(self, obj, objtype=None):\n",
    "        \n",
    "        return self.fget(obj)\n",
    "        \n",
    "@Prop_dec\n",
    "def add(x):\n",
    "    return x['x'], x['y']\n",
    "\n",
    "print(add)\n",
    "\n",
    "print(add.__dict__)\n",
    "\n",
    "print(add({'x':5, 'y':5}))\n"
   ]
  },
  {
   "cell_type": "markdown",
   "metadata": {},
   "source": [
    "# 13. 메소드와 함수 식별하기\n",
    "\n",
    "    파이썬은 함수와 메소드를 별도로 구별하지 않는다.\n",
    "    외부의 함수를 클래스 내부의 메소드로 사용이 가능하다.\n",
    "    단 클래스나 인스턴스 객체에 바인딩 할 경우 실제 인스턴스 메소드나 클래스 메소드로 정의한 경우 이를 가지고 메소드로 변환해 준다.\n",
    "    "
   ]
  },
  {
   "cell_type": "markdown",
   "metadata": {},
   "source": [
    "###  함수 정의와 클래스 메소드에 __init__ 정의\n",
    "\n",
    "    파이썬은 함수나 메소드 등을 일단 전부 함수로 보고 처리한다.\n",
    "    \n",
    "    함수가 바인딩하는 시점 즉 실행 시점에 누구와 바인딩되는 지를 확인하고 메소드인지 함수인지를 구별한다.\n",
    "    \n",
    "    \n",
    "    __init__을 외부에 함수로 정의하고 , 클래스 내부에도 __init__ 메소드를 정의"
   ]
  },
  {
   "cell_type": "code",
   "execution_count": 13,
   "metadata": {
    "collapsed": true
   },
   "outputs": [],
   "source": [
    "# __init__ 함수를 정의\n",
    "def __init__(self,name) :\n",
    "    self.name = name\n",
    "    return self\n",
    "    \n",
    "#class 정의\n",
    "class A :\n",
    "    def __init__(self,name) :\n",
    "        self.name = name"
   ]
  },
  {
   "cell_type": "markdown",
   "metadata": {},
   "source": [
    "### 인스턴스 생성 \n",
    "\n",
    "    클래스나 함수로나 인슨턴스 생성은 동일하다.\n",
    "    \n",
    "    중요한 점은 self에 인스턴스를 명확히 정의해야 한다.\n",
    "    "
   ]
  },
  {
   "cell_type": "code",
   "execution_count": 14,
   "metadata": {
    "collapsed": false
   },
   "outputs": [
    {
     "name": "stdout",
     "output_type": "stream",
     "text": [
      " class 정의시는 function \n",
      "<class 'function'>\n",
      "['__annotations__', '__call__', '__class__', '__closure__', '__code__', '__defaults__', '__delattr__', '__dict__', '__dir__', '__doc__', '__eq__', '__format__', '__ge__', '__get__', '__getattribute__', '__globals__', '__gt__', '__hash__', '__init__', '__kwdefaults__', '__le__', '__lt__', '__module__', '__name__', '__ne__', '__new__', '__qualname__', '__reduce__', '__reduce_ex__', '__repr__', '__setattr__', '__sizeof__', '__str__', '__subclasshook__']\n"
     ]
    }
   ],
   "source": [
    "#class로 인스턴스 생성\n",
    "aaa = A(\"Moon\")\n",
    "print(\" class 정의시는 function \")\n",
    "print(type(A.__init__))\n",
    "print(dir(A.__init__))"
   ]
  },
  {
   "cell_type": "code",
   "execution_count": 15,
   "metadata": {
    "collapsed": false
   },
   "outputs": [
    {
     "name": "stdout",
     "output_type": "stream",
     "text": [
      " class 정의시는 function \n",
      "<class 'function'>\n",
      "['__annotations__', '__call__', '__class__', '__closure__', '__code__', '__defaults__', '__delattr__', '__dict__', '__dir__', '__doc__', '__eq__', '__format__', '__ge__', '__get__', '__getattribute__', '__globals__', '__gt__', '__hash__', '__init__', '__kwdefaults__', '__le__', '__lt__', '__module__', '__name__', '__ne__', '__new__', '__qualname__', '__reduce__', '__reduce_ex__', '__repr__', '__setattr__', '__sizeof__', '__str__', '__subclasshook__']\n"
     ]
    }
   ],
   "source": [
    "\n",
    "# 함수로 인스턴스 생성\n",
    "bbb = __init__(A(\"\"),\"Dahl\")\n",
    "# class 내부의 메소드는 함수와 동일한 속성을 가짐\n",
    "print(\" class 정의시는 function \")\n",
    "print(type(A.__init__))\n",
    "print(dir(A.__init__))\n"
   ]
  },
  {
   "cell_type": "markdown",
   "metadata": {},
   "source": [
    "###  함수와 메소드를 바인딩 처리 "
   ]
  },
  {
   "cell_type": "code",
   "execution_count": 36,
   "metadata": {
    "collapsed": false
   },
   "outputs": [
    {
     "name": "stdout",
     "output_type": "stream",
     "text": [
      " 인스턴스와 바인딩시 method \n",
      "<class 'method'>\n",
      "['__call__', '__class__', '__delattr__', '__dir__', '__doc__', '__eq__', '__format__', '__func__', '__ge__', '__get__', '__getattribute__', '__gt__', '__hash__', '__init__', '__le__', '__lt__', '__ne__', '__new__', '__reduce__', '__reduce_ex__', '__repr__', '__self__', '__setattr__', '__sizeof__', '__str__', '__subclasshook__']\n"
     ]
    }
   ],
   "source": [
    "# 인스턴스객체와 연결시 메소드 클래스로 변하면서 메소드 속성을 가짐\n",
    "print(\" 인스턴스와 바인딩시 method \")\n",
    "print(type(aaa.__init__))\n",
    "print(dir(aaa.__init__))\n"
   ]
  },
  {
   "cell_type": "markdown",
   "metadata": {},
   "source": [
    "###  메소드 바인딩 : __self__ 가 자동 생김 \n",
    "\n",
    "    메소드로 전환시 __self__를 생성해서 객체 주소를 지정함 \n",
    "    \n",
    "    이런 이유로 인스턴스 메소드와 클래스 메소드이 첫번째 인자가 self, cls로 확정되어 처리함\n",
    "    "
   ]
  },
  {
   "cell_type": "code",
   "execution_count": 37,
   "metadata": {
    "collapsed": false
   },
   "outputs": [
    {
     "name": "stdout",
     "output_type": "stream",
     "text": [
      " 인스턴스와 바인딩시 method  정보들 \n",
      "<__main__.A object at 0x0000000005155D68>\n",
      "<__main__.A object at 0x0000000005155D68>\n",
      "__init__\n",
      "Moon\n",
      " 함수 정의시  \n",
      "<class 'function'>\n",
      "['__annotations__', '__call__', '__class__', '__closure__', '__code__', '__defaults__', '__delattr__', '__dict__', '__dir__', '__doc__', '__eq__', '__format__', '__ge__', '__get__', '__getattribute__', '__globals__', '__gt__', '__hash__', '__init__', '__kwdefaults__', '__le__', '__lt__', '__module__', '__name__', '__ne__', '__new__', '__qualname__', '__reduce__', '__reduce_ex__', '__repr__', '__setattr__', '__sizeof__', '__str__', '__subclasshook__']\n",
      "Dahl\n"
     ]
    }
   ],
   "source": [
    "# 메소드 내부에 가지는 __self__ 속성에 인스턴스 객체 reference를 가짐\n",
    "print(\" 인스턴스와 바인딩시 method  정보들 \")\n",
    "print(aaa)\n",
    "print(aaa.__init__.__self__)\n",
    "#__init__ 메소드 정보를 가진 속성\n",
    "print(aaa.__init__.__name__)\n",
    "print(aaa.name)\n",
    "\n",
    "\n",
    "print(\" 함수 정의시  \")\n",
    "print(type(__init__))\n",
    "print(dir(__init__))\n",
    "print(bbb.name)"
   ]
  },
  {
   "cell_type": "markdown",
   "metadata": {},
   "source": [
    "# 14. 함수 체인 만들어서 처리하기 \n",
    "\n",
    "    함수를 연속해서 처리하기 위해서는 return시 함수를 전달해주고 처리하도록 함\n",
    "    "
   ]
  },
  {
   "cell_type": "markdown",
   "metadata": {},
   "source": [
    "### 함수 체인 만들기 \n",
    "\n",
    "    함수의 리턴 값을 함수로 전달해서 처리 "
   ]
  },
  {
   "cell_type": "code",
   "execution_count": 17,
   "metadata": {
    "collapsed": true
   },
   "outputs": [],
   "source": [
    "def a() :\n",
    "    print(\" func a\")\n",
    "    return b\n",
    "def b() :\n",
    "    print(\"func b\")\n",
    "    return c\n",
    "def c() :\n",
    "    print(\" func c\")"
   ]
  },
  {
   "cell_type": "markdown",
   "metadata": {},
   "source": [
    "### 함수 체인으로 실행하기 "
   ]
  },
  {
   "cell_type": "markdown",
   "metadata": {},
   "source": [
    "#### 변수에 할당 후 실행하기\n"
   ]
  },
  {
   "cell_type": "code",
   "execution_count": 18,
   "metadata": {
    "collapsed": false
   },
   "outputs": [
    {
     "name": "stdout",
     "output_type": "stream",
     "text": [
      " func a\n",
      "func b\n",
      " func c\n"
     ]
    }
   ],
   "source": [
    "b = a()\n",
    "\n",
    "c = b()\n",
    "\n",
    "c()"
   ]
  },
  {
   "cell_type": "markdown",
   "metadata": {},
   "source": [
    "####  즉시 실행하기 \n",
    "\n",
    "     함수 실행 결과가 함수이므로 함수 실행연산자( ( ) )로 호출시  계속 함수를 실행한다.\n",
    "     "
   ]
  },
  {
   "cell_type": "code",
   "execution_count": 39,
   "metadata": {
    "collapsed": false
   },
   "outputs": [
    {
     "name": "stdout",
     "output_type": "stream",
     "text": [
      " func a\n",
      "func b\n",
      " func c\n"
     ]
    }
   ],
   "source": [
    "a()()()"
   ]
  },
  {
   "cell_type": "markdown",
   "metadata": {
    "collapsed": true
   },
   "source": [
    "# 15. 제너레이터 함수 및 제너레이터 표현식\n",
    "\n",
    "\n",
    "    제너레이터는 함수는 아니지만 함수 표기를 사용해서 객체를 생성하는 방법.\n",
    "    \n",
    "\n",
    "    제너레이터는 스트림 처리를 위한 간단한 표현 방법이다. 현재는 함수에 정의하지만 별도의 객체를 만들어서 처리하므로\n",
    "    \n",
    "    함수와는 다른 방식이다.\n",
    "    \n",
    "\n",
    "    제너레이터는 동적인 함수 호출을 제공하며 호출시 마지막 요건을 간직하고 있다가 제공한다.\n",
    "    \n",
    "    제너레이터는 한번 실행이 끝나면 다시 사용할 수 없으므로 다시 사용시 제너레이터부터 다시 생성해야 함\n",
    "    \n"
   ]
  },
  {
   "cell_type": "markdown",
   "metadata": {},
   "source": [
    "### 제너레이터 생성하기 \n"
   ]
  },
  {
   "cell_type": "code",
   "execution_count": 19,
   "metadata": {
    "collapsed": false
   },
   "outputs": [
    {
     "name": "stdout",
     "output_type": "stream",
     "text": [
      "<generator object a at 0x000000000514BD58>\n"
     ]
    }
   ],
   "source": [
    "# yield 있는 만큼 제너레이터가 호출됨\n",
    "# 호출이 끝나면 stopIteration 에러가 발생\n",
    "def a() :\n",
    "    yield 1\n",
    "    \n",
    "\n",
    "#generator 생성\n",
    "a = a()\n",
    "\n",
    "print(a)\n"
   ]
  },
  {
   "cell_type": "markdown",
   "metadata": {},
   "source": [
    "### 제너레이터 실행하기"
   ]
  },
  {
   "cell_type": "code",
   "execution_count": 21,
   "metadata": {
    "collapsed": false
   },
   "outputs": [
    {
     "name": "stdout",
     "output_type": "stream",
     "text": [
      "<generator object a at 0x000000000514BD58>\n",
      "1\n"
     ]
    },
    {
     "ename": "StopIteration",
     "evalue": "",
     "output_type": "error",
     "traceback": [
      "\u001b[0;31m---------------------------------------------------------------------------\u001b[0m",
      "\u001b[0;31mStopIteration\u001b[0m                             Traceback (most recent call last)",
      "\u001b[0;32m<ipython-input-21-6355631ba95b>\u001b[0m in \u001b[0;36m<module>\u001b[0;34m()\u001b[0m\n\u001b[1;32m     14\u001b[0m \u001b[1;33m\u001b[0m\u001b[0m\n\u001b[1;32m     15\u001b[0m \u001b[1;31m# 제너레이터 끝을 만나면 exception 을 발생\u001b[0m\u001b[1;33m\u001b[0m\u001b[1;33m\u001b[0m\u001b[0m\n\u001b[0;32m---> 16\u001b[0;31m \u001b[0mprint\u001b[0m\u001b[1;33m(\u001b[0m\u001b[0mnext\u001b[0m\u001b[1;33m(\u001b[0m\u001b[0ma\u001b[0m\u001b[1;33m)\u001b[0m\u001b[1;33m)\u001b[0m\u001b[1;33m\u001b[0m\u001b[0m\n\u001b[0m",
      "\u001b[0;31mStopIteration\u001b[0m: "
     ]
    }
   ],
   "source": [
    "# yield 있는 만큼 제너레이터가 호출됨\n",
    "# 호출이 끝나면 stopIteration 에러가 발생\n",
    "def a() :\n",
    "    yield 1\n",
    "    \n",
    "\n",
    "#generator 생성\n",
    "a = a()\n",
    "\n",
    "print(a)\n",
    "\n",
    "# next 함수로 호출\n",
    "print(next(a))\n",
    "\n",
    "# 제너레이터 끝을 만나면 exception 을 발생\n",
    "print(next(a))"
   ]
  },
  {
   "cell_type": "markdown",
   "metadata": {},
   "source": [
    "### 제너레이터 함수 :  순서로 하나씩 호출 하기 "
   ]
  },
  {
   "cell_type": "code",
   "execution_count": 2,
   "metadata": {
    "collapsed": false
   },
   "outputs": [
    {
     "name": "stdout",
     "output_type": "stream",
     "text": [
      "1\n",
      "2\n",
      "3\n"
     ]
    },
    {
     "ename": "StopIteration",
     "evalue": "",
     "output_type": "error",
     "traceback": [
      "\u001b[0;31m---------------------------------------------------------------------------\u001b[0m",
      "\u001b[0;31mStopIteration\u001b[0m                             Traceback (most recent call last)",
      "\u001b[0;32m<ipython-input-2-5e67e5273920>\u001b[0m in \u001b[0;36m<module>\u001b[0;34m()\u001b[0m\n\u001b[1;32m     13\u001b[0m \u001b[0mprint\u001b[0m\u001b[1;33m(\u001b[0m\u001b[0mnext\u001b[0m\u001b[1;33m(\u001b[0m\u001b[0ma\u001b[0m\u001b[1;33m)\u001b[0m\u001b[1;33m)\u001b[0m\u001b[1;33m\u001b[0m\u001b[0m\n\u001b[1;32m     14\u001b[0m \u001b[0mprint\u001b[0m\u001b[1;33m(\u001b[0m\u001b[0mnext\u001b[0m\u001b[1;33m(\u001b[0m\u001b[0ma\u001b[0m\u001b[1;33m)\u001b[0m\u001b[1;33m)\u001b[0m\u001b[1;33m\u001b[0m\u001b[0m\n\u001b[0;32m---> 15\u001b[0;31m \u001b[0mprint\u001b[0m\u001b[1;33m(\u001b[0m\u001b[0mnext\u001b[0m\u001b[1;33m(\u001b[0m\u001b[0ma\u001b[0m\u001b[1;33m)\u001b[0m\u001b[1;33m)\u001b[0m\u001b[1;33m\u001b[0m\u001b[0m\n\u001b[0m",
      "\u001b[0;31mStopIteration\u001b[0m: "
     ]
    }
   ],
   "source": [
    "# yield 있는 만큼 제너레이터가 호출됨\n",
    "# 호출이 끝나면 stopIteration 에러가 발생\n",
    "def a() :\n",
    "    yield 1\n",
    "    yield 2\n",
    "    yield 3\n",
    "\n",
    "#generator 생성\n",
    "a = a()\n",
    "\n",
    "print(next(a))\n",
    "print(next(a))\n",
    "print(next(a))\n",
    "print(next(a))"
   ]
  },
  {
   "cell_type": "markdown",
   "metadata": {},
   "source": [
    "### for 문을 이용해서 연속으로 제너레이터 읽기"
   ]
  },
  {
   "cell_type": "code",
   "execution_count": 12,
   "metadata": {
    "collapsed": false
   },
   "outputs": [
    {
     "name": "stdout",
     "output_type": "stream",
     "text": [
      "<generator object a at 0x00000000050DB678>\n",
      "1\n",
      "2\n",
      "3\n"
     ]
    }
   ],
   "source": [
    "def a() :\n",
    "    yield 1\n",
    "    yield 2\n",
    "    yield 3\n",
    "\n",
    "#generator 생성\n",
    "a = a()\n",
    "print(a)\n",
    "# for문으로 처리하면 exception 이 발생하지 않고 처리됨\n",
    "for i in a :\n",
    "    print(i)"
   ]
  },
  {
   "cell_type": "code",
   "execution_count": 5,
   "metadata": {
    "collapsed": false
   },
   "outputs": [
    {
     "name": "stdout",
     "output_type": "stream",
     "text": [
      "<generator object <genexpr> at 0x00000000050DB678>\n",
      "0\n",
      "2\n",
      "4\n",
      "6\n",
      "8\n"
     ]
    }
   ],
   "source": [
    "# 제너레이터 표현식을 이용해서 제너레이터 생성하고 끝날 때까지 처리한다.\n",
    "\n",
    "a = (i for i in range(0,10) if i % 2 == 0)\n",
    "print(a)\n",
    "\n",
    "# for문을 이용하면 에러표시 없이 끝남\n",
    "for i in a :\n",
    "    print(i)"
   ]
  },
  {
   "cell_type": "markdown",
   "metadata": {},
   "source": [
    "### 제너레이터 표현식 :   재사용시 다시 만들어서 호출 해야 함 "
   ]
  },
  {
   "cell_type": "code",
   "execution_count": 4,
   "metadata": {
    "collapsed": false
   },
   "outputs": [
    {
     "name": "stdout",
     "output_type": "stream",
     "text": [
      "<generator object <genexpr> at 0x0000000004F378E0>\n",
      "0\n",
      "2\n",
      "4\n",
      "6\n",
      "8\n"
     ]
    },
    {
     "ename": "StopIteration",
     "evalue": "",
     "output_type": "error",
     "traceback": [
      "\u001b[0;31m---------------------------------------------------------------------------\u001b[0m",
      "\u001b[0;31mStopIteration\u001b[0m                             Traceback (most recent call last)",
      "\u001b[0;32m<ipython-input-4-8d0d0fc7b863>\u001b[0m in \u001b[0;36m<module>\u001b[0;34m()\u001b[0m\n\u001b[1;32m      9\u001b[0m \u001b[0mprint\u001b[0m\u001b[1;33m(\u001b[0m\u001b[0mnext\u001b[0m\u001b[1;33m(\u001b[0m\u001b[0ma\u001b[0m\u001b[1;33m)\u001b[0m\u001b[1;33m)\u001b[0m\u001b[1;33m\u001b[0m\u001b[0m\n\u001b[1;32m     10\u001b[0m \u001b[0mprint\u001b[0m\u001b[1;33m(\u001b[0m\u001b[0mnext\u001b[0m\u001b[1;33m(\u001b[0m\u001b[0ma\u001b[0m\u001b[1;33m)\u001b[0m\u001b[1;33m)\u001b[0m\u001b[1;33m\u001b[0m\u001b[0m\n\u001b[0;32m---> 11\u001b[0;31m \u001b[0mprint\u001b[0m\u001b[1;33m(\u001b[0m\u001b[0mnext\u001b[0m\u001b[1;33m(\u001b[0m\u001b[0ma\u001b[0m\u001b[1;33m)\u001b[0m\u001b[1;33m)\u001b[0m\u001b[1;33m\u001b[0m\u001b[0m\n\u001b[0m",
      "\u001b[0;31mStopIteration\u001b[0m: "
     ]
    }
   ],
   "source": [
    "# 제너레이터 표현식을 이용해서 제너레이터 생성하고 끝날 때까지 처리한다.\n",
    "\n",
    "a = (i for i in range(0,10) if i % 2 == 0)\n",
    "print(a)\n",
    "\n",
    "print(next(a))\n",
    "print(next(a))\n",
    "print(next(a))\n",
    "print(next(a))\n",
    "print(next(a))\n",
    "print(next(a))\n"
   ]
  },
  {
   "cell_type": "code",
   "execution_count": 5,
   "metadata": {
    "collapsed": false
   },
   "outputs": [
    {
     "name": "stdout",
     "output_type": "stream",
     "text": [
      "<generator object <genexpr> at 0x0000000004EB1468>\n",
      "0\n",
      "2\n",
      "4\n",
      "6\n",
      "8\n"
     ]
    },
    {
     "ename": "StopIteration",
     "evalue": "",
     "output_type": "error",
     "traceback": [
      "\u001b[0;31m---------------------------------------------------------------------------\u001b[0m",
      "\u001b[0;31mStopIteration\u001b[0m                             Traceback (most recent call last)",
      "\u001b[0;32m<ipython-input-5-a37dc11d4cc5>\u001b[0m in \u001b[0;36m<module>\u001b[0;34m()\u001b[0m\n\u001b[1;32m      6\u001b[0m \u001b[0mprint\u001b[0m\u001b[1;33m(\u001b[0m\u001b[0mnext\u001b[0m\u001b[1;33m(\u001b[0m\u001b[0mb\u001b[0m\u001b[1;33m)\u001b[0m\u001b[1;33m)\u001b[0m\u001b[1;33m\u001b[0m\u001b[0m\n\u001b[1;32m      7\u001b[0m \u001b[0mprint\u001b[0m\u001b[1;33m(\u001b[0m\u001b[0mnext\u001b[0m\u001b[1;33m(\u001b[0m\u001b[0mb\u001b[0m\u001b[1;33m)\u001b[0m\u001b[1;33m)\u001b[0m\u001b[1;33m\u001b[0m\u001b[0m\n\u001b[0;32m----> 8\u001b[0;31m \u001b[0mprint\u001b[0m\u001b[1;33m(\u001b[0m\u001b[0mnext\u001b[0m\u001b[1;33m(\u001b[0m\u001b[0mb\u001b[0m\u001b[1;33m)\u001b[0m\u001b[1;33m)\u001b[0m\u001b[1;33m\u001b[0m\u001b[0m\n\u001b[0m",
      "\u001b[0;31mStopIteration\u001b[0m: "
     ]
    }
   ],
   "source": [
    "b = (i for i in range(0,10) if i % 2 == 0)\n",
    "print(b)\n",
    "print(next(b))\n",
    "print(next(b))\n",
    "print(next(b))\n",
    "print(next(b))\n",
    "print(next(b))\n",
    "print(next(b))"
   ]
  },
  {
   "cell_type": "markdown",
   "metadata": {
    "collapsed": true
   },
   "source": [
    "### 연속적으로 제너레이터를 호출하기 \n",
    "\n",
    "     def gen(n)  함수에서 yield 구문을 순환문 안에 넣으면 반복해서 처리가 됨 \n"
   ]
  },
  {
   "cell_type": "code",
   "execution_count": 22,
   "metadata": {
    "collapsed": false
   },
   "outputs": [
    {
     "name": "stdout",
     "output_type": "stream",
     "text": [
      "0\n",
      "1\n",
      "2\n",
      "3\n",
      "4\n"
     ]
    }
   ],
   "source": [
    "def gen(n) :\n",
    "    for i in range(n) :\n",
    "        yield i\n",
    "        \n",
    "a = gen(5)\n",
    "\n",
    "for i in a :\n",
    "    print(i)"
   ]
  },
  {
   "cell_type": "markdown",
   "metadata": {},
   "source": [
    "### 제너레이터를 이용한 팩토리 처리\n"
   ]
  },
  {
   "cell_type": "code",
   "execution_count": 27,
   "metadata": {
    "collapsed": false
   },
   "outputs": [
    {
     "name": "stdout",
     "output_type": "stream",
     "text": [
      "1\n",
      "2\n",
      "6\n",
      "24\n",
      "120\n"
     ]
    }
   ],
   "source": [
    "def rec(n) :\n",
    "    x= 1\n",
    "    for i in range(1,n+1) :\n",
    "        if n == 0 or n == 1 :\n",
    "            yield 1\n",
    "        else :\n",
    "            x *= i\n",
    "            yield x \n",
    "    \n",
    "ab = rec(5)\n",
    "for i in ab :\n",
    "    print(i)"
   ]
  },
  {
   "cell_type": "code",
   "execution_count": null,
   "metadata": {
    "collapsed": true
   },
   "outputs": [],
   "source": []
  }
 ],
 "metadata": {
  "anaconda-cloud": {},
  "kernelspec": {
   "display_name": "Python [conda root]",
   "language": "python",
   "name": "conda-root-py"
  },
  "language_info": {
   "codemirror_mode": {
    "name": "ipython",
    "version": 3
   },
   "file_extension": ".py",
   "mimetype": "text/x-python",
   "name": "python",
   "nbconvert_exporter": "python",
   "pygments_lexer": "ipython3",
   "version": "3.5.2"
  }
 },
 "nbformat": 4,
 "nbformat_minor": 1
}
